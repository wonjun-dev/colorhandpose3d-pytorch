{
 "cells": [
  {
   "cell_type": "code",
   "execution_count": 1,
   "metadata": {},
   "outputs": [
    {
     "name": "stdout",
     "output_type": "stream",
     "text": [
      "320.0 240.0 1250,"
     ]
    }
   ],
   "source": [
    "# 저장 된 비디오를 읽고 3d pose estimation 이 된 frame을 다시 비디오로 저장.\n",
    "\n",
    "import os\n",
    "import sys\n",
    "\n",
    "import cv2\n",
    "from PIL import Image\n",
    "import numpy as np\n",
    "import torch\n",
    "import torchvision\n",
    "\n",
    "model_path = os.path.abspath(os.path.join('..'))\n",
    "if model_path not in sys.path:\n",
    "    sys.path.append(model_path)\n",
    "\n",
    "from colorhandpose3d.model.ColorHandPose3D import ColorHandPose3D\n",
    "from colorhandpose3d.model.HandNet import HandNet\n",
    "from colorhandpose3d.utils.general import *\n",
    "from colorhandpose3d.utils.transforms import *\n",
    "\n",
    "\n",
    "from matplotlib import pyplot as plt\n",
    "from tqdm import tqdm\n",
    "import time\n",
    "\n",
    "# Initialize models and load weights\n",
    "weight_path = \"../saved/\"\n",
    "use_cuda = torch.cuda.is_available()\n",
    "chp3d = ColorHandPose3D(weight_path, crop_size=224)\n",
    "\n",
    "if use_cuda:\n",
    "    chp3d.cuda()\n",
    "\n",
    "\n",
    "\n",
    "\n",
    "# Initialize OpenCV object\n",
    "video_name = 'test_easy.avi'\n",
    "cap = cv2.VideoCapture(os.path.join(\"../outputs/in_video/\", video_name))  # Open video\n",
    "frame_width = cap.get(cv2.CAP_PROP_FRAME_WIDTH)\n",
    "frame_height = cap.get(cv2.CAP_PROP_FRAME_HEIGHT)\n",
    "length = int(cap.get(cv2.CAP_PROP_FRAME_COUNT))\n",
    "\n",
    "print(frame_width, frame_height, length, end=\",\")\n",
    "\n",
    "# Define image transforms\n",
    "transform0 = torchvision.transforms.ToPILImage()\n",
    "transform1 = torchvision.transforms.ToTensor()\n",
    "transform2 = torchvision.transforms.Resize((224, 224))\n",
    "transform3 = torchvision.transforms.Normalize(mean=[0.641, 0.619, 0.612], std=[0.254, 0.262, 0.258])\n",
    "transform4 = torchvision.transforms.Resize((240, 320))\n",
    "preprocess_chp3d = torchvision.transforms.Compose([transform0, transform2, transform1])\n",
    "preprocess_handnet = torchvision.transforms.Compose([transform1, transform3])\n",
    "\n",
    "def main():\n",
    "    import gc\n",
    "    # Preprocessing recorded frames\n",
    "    frames = []\n",
    "    i = 0\n",
    "    while cap.isOpened():\n",
    "        ret, frame = cap.read()  # frame: numpy array, (H480, W640, C3)\n",
    "\n",
    "        if ret:\n",
    "            frame = cv2.cvtColor(frame, cv2.COLOR_BGR2RGB)  # BGR -> RGB\n",
    "            sample_original = preprocess_chp3d(frame).unsqueeze(0)\n",
    "#             sample_original = transform1(frame).unsqueeze(0)  # (C3, H480, W640)\n",
    "            sample_chp = sample_original - 0.5\n",
    "            sample_handnet = preprocess_handnet(frame)\n",
    "            sample_handnet = sample_handnet.unsqueeze(0)\n",
    "            hand_side = torch.tensor([[1.0, 0.0]])\n",
    "\n",
    "#             if use_cuda:\n",
    "#                 sample = sample.cuda()\n",
    "#                 hand_side = hand_side.cuda()\n",
    "\n",
    "            frames.append([sample_handnet, sample_chp, sample_original, hand_side])\n",
    "            _frame = transform0(frame)\n",
    "            _frame.save(\"../outputs/in_video/{0:04d}.png\".format(i+1))\n",
    "            i += 1\n",
    "\n",
    "        \n",
    "            del sample_original\n",
    "            del sample_chp\n",
    "            del sample_handnet\n",
    "            del hand_side\n",
    "            gc.collect()\n",
    "            print(i)\n",
    "\n",
    "        else:\n",
    "            break\n",
    "\n",
    "    # Pass frames through chp3d\n",
    "    passFrames(frames)\n",
    "\n",
    "    cap.release()\n",
    "    cv2.destroyAllWindows()\n",
    "\n",
    "\n",
    "def passFrames(frames):\n",
    "\n",
    "    # Video writer\n",
    "#     fourcc = cv2.VideoWriter_fourcc(*\"DIVX\")\n",
    "#     out = cv2.VideoWriter(\"../outputs/after_test.avi\", fourcc, 25.0, (640, 480))\n",
    "    \n",
    "#     past_keypoint = []\n",
    "    for i, frame in tqdm(enumerate(frames)):\n",
    "        sample_handnet = frame[0]\n",
    "        sample_chp = frame[1]\n",
    "        sample_original = frame[2]\n",
    "        hand_side = frame[3]\n",
    "        \n",
    "        if use_cuda:\n",
    "            sample_handnet = sample_handnet.cuda()\n",
    "            sample_chp = sample_chp.cuda()\n",
    "            hand_side = hand_side.cuda()\n",
    "            \n",
    "        \n",
    "        # Pass frame through chp3d\n",
    "        inputs = [sample_handnet, sample_chp]\n",
    "        s = time.time()\n",
    "        coords_xyz_rel_normed, keypoint_scoremap, image_crop, centers, scale_crop, hand_mask = chp3d(\n",
    "            inputs, hand_side, deploy=True\n",
    "        )\n",
    "        print('Time for processing 1 frame: {}s'.format(time.time() - s))\n",
    "        \n",
    "\n",
    "        # hand flag\n",
    "        if coords_xyz_rel_normed is None:\n",
    "            img = transform4(transform0(sample_original.squeeze()))\n",
    "            fig = plt.figure()\n",
    "            plt.imshow(img)\n",
    "            plt.axis(\"off\")\n",
    "            plt.tight_layout()\n",
    "            plt.subplots_adjust(left = 0, bottom = 0, right = 1, top = 1, hspace = 0, wspace = 0)\n",
    "            pil = fig2img(fig)\n",
    "            pil.save(\"../outputs/out_video/ver0_1/{0:04d}.png\".format(i+1))\n",
    "#             plt.savefig(\"../outputs/out_video/ver0_3/{0:04d}.png\".format(i+1))\n",
    "            plt.close()\n",
    "            \n",
    "            past_keypoint = []\n",
    "            \n",
    "        else:\n",
    "            # Back to CPU\n",
    "            if use_cuda is True:\n",
    "                coords_xyz_rel_normed = coords_xyz_rel_normed.cpu()\n",
    "                keypoint_scoremap = keypoint_scoremap.cpu()\n",
    "                image_crop = image_crop.cpu()\n",
    "                centers = centers.cpu()\n",
    "                scale_crop = scale_crop.cpu()\n",
    "                hand_mask = hand_mask.cpu()\n",
    "\n",
    "            keypoint_coords3d = coords_xyz_rel_normed.detach().numpy()\n",
    "            keypoint_coords3d = keypoint_coords3d.squeeze()\n",
    "            \n",
    "\n",
    "            keypoint_coords_crop = detect_keypoints(keypoint_scoremap[0].detach().numpy())\n",
    "            keypoint_coords = transform_cropped_coords(keypoint_coords_crop, centers, scale_crop, 224)\n",
    "            \n",
    "#             if past_keypoint:\n",
    "#                 keypoint_coords = (keypoint_coords + past_keypoint[0]) / 2.0\n",
    "            \n",
    "            \n",
    "            img = transform0(sample_original.squeeze())\n",
    "            \n",
    "            fig = plt.figure()\n",
    "            plt.imshow(img)\n",
    "            plot_hand(keypoint_coords, plt)\n",
    "            plt.axis(\"off\")\n",
    "            plt.tight_layout()\n",
    "            plt.subplots_adjust(left = 0, bottom = 0, right = 1, top = 1, hspace = 0, wspace = 0)\n",
    "            pil = fig2img(fig)\n",
    "            pil = transform4(pil)\n",
    "            pil.save(\"../outputs/out_video/ver0_1/{0:04d}.png\".format(i+1))\n",
    "\n",
    "            plt.close()\n",
    "            \n",
    "#             past_keypoint = [keypoint_coords]"
   ]
  },
  {
   "cell_type": "code",
   "execution_count": 2,
   "metadata": {},
   "outputs": [],
   "source": [
    "def fig2img(fig):\n",
    "    \"\"\"Convert a Matplotlib figure to a PIL Image and return it\"\"\"\n",
    "    import io\n",
    "    buf = io.BytesIO()\n",
    "    fig.savefig(buf, bbox_inches='tight', pad_inches=0)\n",
    "    buf.seek(0)\n",
    "    img = Image.open(buf)\n",
    "    return img"
   ]
  },
  {
   "cell_type": "code",
   "execution_count": null,
   "metadata": {},
   "outputs": [
    {
     "name": "stdout",
     "output_type": "stream",
     "text": [
      "1\n",
      "2\n",
      "3\n",
      "4\n",
      "5\n",
      "6\n",
      "7\n",
      "8\n",
      "9\n",
      "10\n",
      "11\n",
      "12\n",
      "13\n",
      "14\n",
      "15\n",
      "16\n",
      "17\n",
      "18\n",
      "19\n",
      "20\n",
      "21\n",
      "22\n",
      "23\n",
      "24\n",
      "25\n",
      "26\n",
      "27\n",
      "28\n",
      "29\n",
      "30\n",
      "31\n",
      "32\n",
      "33\n",
      "34\n",
      "35\n",
      "36\n",
      "37\n",
      "38\n",
      "39\n",
      "40\n",
      "41\n",
      "42\n",
      "43\n",
      "44\n",
      "45\n",
      "46\n",
      "47\n",
      "48\n",
      "49\n",
      "50\n",
      "51\n",
      "52\n",
      "53\n",
      "54\n",
      "55\n",
      "56\n",
      "57\n",
      "58\n",
      "59\n",
      "60\n",
      "61\n",
      "62\n",
      "63\n",
      "64\n",
      "65\n",
      "66\n",
      "67\n",
      "68\n",
      "69\n",
      "70\n",
      "71\n",
      "72\n",
      "73\n",
      "74\n",
      "75\n",
      "76\n",
      "77\n",
      "78\n",
      "79\n",
      "80\n",
      "81\n",
      "82\n",
      "83\n",
      "84\n",
      "85\n",
      "86\n",
      "87\n",
      "88\n",
      "89\n",
      "90\n",
      "91\n",
      "92\n",
      "93\n",
      "94\n",
      "95\n",
      "96\n",
      "97\n",
      "98\n",
      "99\n",
      "100\n",
      "101\n",
      "102\n",
      "103\n",
      "104\n",
      "105\n",
      "106\n",
      "107\n",
      "108\n",
      "109\n",
      "110\n",
      "111\n",
      "112\n",
      "113\n",
      "114\n",
      "115\n",
      "116\n",
      "117\n",
      "118\n",
      "119\n",
      "120\n",
      "121\n",
      "122\n",
      "123\n",
      "124\n",
      "125\n",
      "126\n",
      "127\n",
      "128\n",
      "129\n",
      "130\n",
      "131\n",
      "132\n",
      "133\n",
      "134\n",
      "135\n",
      "136\n",
      "137\n",
      "138\n",
      "139\n",
      "140\n",
      "141\n",
      "142\n",
      "143\n",
      "144\n",
      "145\n",
      "146\n",
      "147\n",
      "148\n",
      "149\n",
      "150\n",
      "151\n",
      "152\n",
      "153\n",
      "154\n",
      "155\n",
      "156\n",
      "157\n",
      "158\n",
      "159\n",
      "160\n",
      "161\n",
      "162\n",
      "163\n",
      "164\n",
      "165\n",
      "166\n",
      "167\n",
      "168\n",
      "169\n",
      "170\n",
      "171\n",
      "172\n",
      "173\n",
      "174\n",
      "175\n",
      "176\n",
      "177\n",
      "178\n",
      "179\n",
      "180\n",
      "181\n",
      "182\n",
      "183\n",
      "184\n",
      "185\n",
      "186\n",
      "187\n",
      "188\n",
      "189\n",
      "190\n",
      "191\n",
      "192\n",
      "193\n",
      "194\n",
      "195\n",
      "196\n",
      "197\n",
      "198\n",
      "199\n",
      "200\n",
      "201\n",
      "202\n",
      "203\n",
      "204\n",
      "205\n",
      "206\n",
      "207\n",
      "208\n",
      "209\n",
      "210\n",
      "211\n",
      "212\n",
      "213\n",
      "214\n",
      "215\n",
      "216\n",
      "217\n",
      "218\n",
      "219\n",
      "220\n",
      "221\n",
      "222\n",
      "223\n",
      "224\n",
      "225\n",
      "226\n",
      "227\n",
      "228\n",
      "229\n",
      "230\n",
      "231\n",
      "232\n",
      "233\n",
      "234\n",
      "235\n",
      "236\n",
      "237\n",
      "238\n",
      "239\n",
      "240\n",
      "241\n",
      "242\n",
      "243\n",
      "244\n",
      "245\n",
      "246\n",
      "247\n",
      "248\n",
      "249\n",
      "250\n",
      "251\n",
      "252\n",
      "253\n",
      "254\n",
      "255\n",
      "256\n",
      "257\n",
      "258\n",
      "259\n",
      "260\n",
      "261\n",
      "262\n",
      "263\n",
      "264\n",
      "265\n",
      "266\n",
      "267\n",
      "268\n",
      "269\n",
      "270\n",
      "271\n",
      "272\n",
      "273\n",
      "274\n",
      "275\n",
      "276\n",
      "277\n",
      "278\n",
      "279\n",
      "280\n",
      "281\n",
      "282\n",
      "283\n",
      "284\n",
      "285\n",
      "286\n",
      "287\n",
      "288\n",
      "289\n",
      "290\n",
      "291\n",
      "292\n",
      "293\n",
      "294\n",
      "295\n",
      "296\n",
      "297\n",
      "298\n",
      "299\n",
      "300\n",
      "301\n",
      "302\n",
      "303\n",
      "304\n",
      "305\n",
      "306\n",
      "307\n",
      "308\n",
      "309\n",
      "310\n",
      "311\n",
      "312\n",
      "313\n",
      "314\n",
      "315\n",
      "316\n",
      "317\n",
      "318\n",
      "319\n",
      "320\n",
      "321\n",
      "322\n",
      "323\n",
      "324\n",
      "325\n",
      "326\n",
      "327\n",
      "328\n",
      "329\n",
      "330\n",
      "331\n",
      "332\n",
      "333\n",
      "334\n",
      "335\n",
      "336\n",
      "337\n",
      "338\n",
      "339\n",
      "340\n",
      "341\n",
      "342\n",
      "343\n",
      "344\n",
      "345\n",
      "346\n",
      "347\n",
      "348\n",
      "349\n",
      "350\n",
      "351\n",
      "352\n",
      "353\n",
      "354\n",
      "355\n",
      "356\n",
      "357\n",
      "358\n",
      "359\n",
      "360\n",
      "361\n",
      "362\n",
      "363\n",
      "364\n",
      "365\n",
      "366\n",
      "367\n",
      "368\n",
      "369\n",
      "370\n",
      "371\n",
      "372\n",
      "373\n",
      "374\n",
      "375\n",
      "376\n",
      "377\n",
      "378\n",
      "379\n",
      "380\n",
      "381\n",
      "382\n",
      "383\n",
      "384\n",
      "385\n",
      "386\n",
      "387\n",
      "388\n",
      "389\n",
      "390\n",
      "391\n",
      "392\n",
      "393\n",
      "394\n",
      "395\n",
      "396\n",
      "397\n",
      "398\n",
      "399\n",
      "400\n",
      "401\n",
      "402\n",
      "403\n",
      "404\n",
      "405\n",
      "406\n",
      "407\n",
      "408\n",
      "409\n",
      "410\n",
      "411\n",
      "412\n",
      "413\n",
      "414\n",
      "415\n",
      "416\n",
      "417\n",
      "418\n",
      "419\n",
      "420\n",
      "421\n",
      "422\n",
      "423\n",
      "424\n",
      "425\n",
      "426\n",
      "427\n",
      "428\n",
      "429\n",
      "430\n",
      "431\n",
      "432\n",
      "433\n",
      "434\n",
      "435\n",
      "436\n",
      "437\n",
      "438\n",
      "439\n",
      "440\n",
      "441\n",
      "442\n",
      "443\n",
      "444\n",
      "445\n",
      "446\n",
      "447\n",
      "448\n",
      "449\n",
      "450\n",
      "451\n",
      "452\n",
      "453\n",
      "454\n",
      "455\n",
      "456\n",
      "457\n",
      "458\n",
      "459\n",
      "460\n",
      "461\n",
      "462\n",
      "463\n",
      "464\n",
      "465\n",
      "466\n",
      "467\n",
      "468\n",
      "469\n",
      "470\n",
      "471\n",
      "472\n",
      "473\n",
      "474\n",
      "475\n",
      "476\n",
      "477\n",
      "478\n",
      "479\n",
      "480\n",
      "481\n",
      "482\n",
      "483\n",
      "484\n",
      "485\n",
      "486\n",
      "487\n",
      "488\n",
      "489\n",
      "490\n",
      "491\n",
      "492\n",
      "493\n",
      "494\n",
      "495\n",
      "496\n",
      "497\n",
      "498\n",
      "499\n",
      "500\n",
      "501\n",
      "502\n",
      "503\n",
      "504\n",
      "505\n",
      "506\n",
      "507\n",
      "508\n",
      "509\n",
      "510\n",
      "511\n",
      "512\n",
      "513\n",
      "514\n",
      "515\n",
      "516\n",
      "517\n",
      "518\n",
      "519\n",
      "520\n",
      "521\n",
      "522\n",
      "523\n",
      "524\n",
      "525\n",
      "526\n",
      "527\n",
      "528\n",
      "529\n",
      "530\n",
      "531\n",
      "532\n",
      "533\n",
      "534\n",
      "535\n",
      "536\n",
      "537\n",
      "538\n",
      "539\n",
      "540\n",
      "541\n",
      "542\n",
      "543\n",
      "544\n",
      "545\n",
      "546\n",
      "547\n",
      "548\n",
      "549\n",
      "550\n",
      "551\n",
      "552\n",
      "553\n",
      "554\n",
      "555\n",
      "556\n",
      "557\n",
      "558\n",
      "559\n",
      "560\n",
      "561\n",
      "562\n",
      "563\n",
      "564\n",
      "565\n",
      "566\n",
      "567\n",
      "568\n",
      "569\n",
      "570\n",
      "571\n",
      "572\n",
      "573\n",
      "574\n",
      "575\n",
      "576\n",
      "577\n",
      "578\n",
      "579\n",
      "580\n",
      "581\n",
      "582\n",
      "583\n",
      "584\n",
      "585\n",
      "586\n",
      "587\n",
      "588\n",
      "589\n",
      "590\n",
      "591\n",
      "592\n",
      "593\n",
      "594\n",
      "595\n",
      "596\n",
      "597\n",
      "598\n",
      "599\n",
      "600\n",
      "601\n",
      "602\n",
      "603\n",
      "604\n",
      "605\n",
      "606\n",
      "607\n",
      "608\n",
      "609\n",
      "610\n",
      "611\n",
      "612\n",
      "613\n",
      "614\n",
      "615\n",
      "616\n",
      "617\n",
      "618\n",
      "619\n",
      "620\n",
      "621\n",
      "622\n",
      "623\n",
      "624\n",
      "625\n",
      "626\n",
      "627\n",
      "628\n",
      "629\n",
      "630\n",
      "631\n",
      "632\n",
      "633\n",
      "634\n",
      "635\n",
      "636\n",
      "637\n",
      "638\n",
      "639\n",
      "640\n",
      "641\n",
      "642\n",
      "643\n",
      "644\n",
      "645\n",
      "646\n",
      "647\n",
      "648\n",
      "649\n",
      "650\n",
      "651\n",
      "652\n",
      "653\n",
      "654\n",
      "655\n",
      "656\n",
      "657\n",
      "658\n",
      "659\n",
      "660\n",
      "661\n",
      "662\n",
      "663\n",
      "664\n",
      "665\n",
      "666\n",
      "667\n",
      "668\n",
      "669\n",
      "670\n",
      "671\n",
      "672\n",
      "673\n",
      "674\n",
      "675\n",
      "676\n",
      "677\n",
      "678\n",
      "679\n",
      "680\n",
      "681\n",
      "682\n",
      "683\n",
      "684\n",
      "685\n",
      "686\n",
      "687\n",
      "688\n",
      "689\n",
      "690\n",
      "691\n",
      "692\n",
      "693\n",
      "694\n",
      "695\n",
      "696\n",
      "697\n",
      "698\n",
      "699\n",
      "700\n",
      "701\n",
      "702\n",
      "703\n",
      "704\n",
      "705\n",
      "706\n",
      "707\n",
      "708\n",
      "709\n",
      "710\n",
      "711\n",
      "712\n",
      "713\n",
      "714\n",
      "715\n",
      "716\n",
      "717\n",
      "718\n",
      "719\n",
      "720\n",
      "721\n",
      "722\n",
      "723\n",
      "724\n",
      "725\n",
      "726\n",
      "727\n",
      "728\n",
      "729\n",
      "730\n",
      "731\n",
      "732\n",
      "733\n",
      "734\n",
      "735\n",
      "736\n",
      "737\n",
      "738\n",
      "739\n",
      "740\n",
      "741\n",
      "742\n",
      "743\n",
      "744\n",
      "745\n",
      "746\n",
      "747\n",
      "748\n",
      "749\n",
      "750\n",
      "751\n",
      "752\n",
      "753\n",
      "754\n",
      "755\n",
      "756\n",
      "757\n",
      "758\n",
      "759\n",
      "760\n",
      "761\n",
      "762\n",
      "763\n",
      "764\n",
      "765\n",
      "766\n",
      "767\n",
      "768\n",
      "769\n",
      "770\n",
      "771\n",
      "772\n",
      "773\n",
      "774\n",
      "775\n",
      "776\n",
      "777\n",
      "778\n",
      "779\n",
      "780\n",
      "781\n",
      "782\n",
      "783\n",
      "784\n",
      "785\n",
      "786\n",
      "787\n",
      "788\n",
      "789\n",
      "790\n",
      "791\n",
      "792\n",
      "793\n",
      "794\n",
      "795\n",
      "796\n",
      "797\n",
      "798\n",
      "799\n",
      "800\n",
      "801\n",
      "802\n",
      "803\n",
      "804\n",
      "805\n",
      "806\n",
      "807\n",
      "808\n",
      "809\n",
      "810\n",
      "811\n",
      "812\n",
      "813\n",
      "814\n",
      "815\n",
      "816\n",
      "817\n",
      "818\n",
      "819\n",
      "820\n",
      "821\n",
      "822\n",
      "823\n",
      "824\n",
      "825\n",
      "826\n",
      "827\n",
      "828\n",
      "829\n",
      "830\n",
      "831\n",
      "832\n",
      "833\n",
      "834\n",
      "835\n",
      "836\n",
      "837\n",
      "838\n",
      "839\n",
      "840\n",
      "841\n",
      "842\n",
      "843\n",
      "844\n",
      "845\n",
      "846\n",
      "847\n",
      "848\n",
      "849\n",
      "850\n",
      "851\n",
      "852\n",
      "853\n",
      "854\n",
      "855\n",
      "856\n",
      "857\n",
      "858\n",
      "859\n",
      "860\n",
      "861\n",
      "862\n",
      "863\n",
      "864\n",
      "865\n",
      "866\n",
      "867\n",
      "868\n",
      "869\n",
      "870\n",
      "871\n",
      "872\n",
      "873\n",
      "874\n",
      "875\n",
      "876\n",
      "877\n",
      "878\n",
      "879\n",
      "880\n",
      "881\n",
      "882\n",
      "883\n",
      "884\n",
      "885\n",
      "886\n",
      "887\n",
      "888\n",
      "889\n",
      "890\n",
      "891\n",
      "892\n",
      "893\n",
      "894\n",
      "895\n",
      "896\n",
      "897\n",
      "898\n",
      "899\n",
      "900\n",
      "901\n",
      "902\n",
      "903\n",
      "904\n",
      "905\n",
      "906\n",
      "907\n",
      "908\n",
      "909\n",
      "910\n",
      "911\n",
      "912\n",
      "913\n",
      "914\n",
      "915\n",
      "916\n",
      "917\n",
      "918\n",
      "919\n",
      "920\n",
      "921\n",
      "922\n",
      "923\n",
      "924\n",
      "925\n",
      "926\n",
      "927\n",
      "928\n",
      "929\n",
      "930\n",
      "931\n",
      "932\n",
      "933\n",
      "934\n",
      "935\n",
      "936\n",
      "937\n",
      "938\n",
      "939\n",
      "940\n",
      "941\n",
      "942\n",
      "943\n",
      "944\n",
      "945\n",
      "946\n",
      "947\n",
      "948\n",
      "949\n",
      "950\n",
      "951\n",
      "952\n",
      "953\n",
      "954\n",
      "955\n",
      "956\n",
      "957\n",
      "958\n",
      "959\n",
      "960\n",
      "961\n",
      "962\n",
      "963\n",
      "964\n",
      "965\n",
      "966\n",
      "967\n",
      "968\n",
      "969\n",
      "970\n",
      "971\n",
      "972\n",
      "973\n",
      "974\n",
      "975\n",
      "976\n",
      "977\n",
      "978\n",
      "979\n",
      "980\n",
      "981\n",
      "982\n",
      "983\n",
      "984\n",
      "985\n",
      "986\n",
      "987\n",
      "988\n",
      "989\n",
      "990\n",
      "991\n",
      "992\n",
      "993\n",
      "994\n",
      "995\n",
      "996\n",
      "997\n",
      "998\n",
      "999\n",
      "1000\n",
      "1001\n",
      "1002\n",
      "1003\n",
      "1004\n",
      "1005\n",
      "1006\n",
      "1007\n",
      "1008\n",
      "1009\n",
      "1010\n",
      "1011\n",
      "1012\n",
      "1013\n",
      "1014\n",
      "1015\n",
      "1016\n",
      "1017\n",
      "1018\n",
      "1019\n",
      "1020\n",
      "1021\n",
      "1022\n",
      "1023\n",
      "1024\n",
      "1025\n",
      "1026\n",
      "1027\n",
      "1028\n",
      "1029\n",
      "1030\n",
      "1031\n",
      "1032\n",
      "1033\n",
      "1034\n",
      "1035\n",
      "1036\n",
      "1037\n",
      "1038\n",
      "1039\n",
      "1040\n",
      "1041\n",
      "1042\n",
      "1043\n",
      "1044\n",
      "1045\n",
      "1046\n",
      "1047\n",
      "1048\n",
      "1049\n",
      "1050\n",
      "1051\n",
      "1052\n",
      "1053\n",
      "1054\n",
      "1055\n",
      "1056\n",
      "1057\n",
      "1058\n",
      "1059\n",
      "1060\n",
      "1061\n",
      "1062\n",
      "1063\n",
      "1064\n",
      "1065\n",
      "1066\n",
      "1067\n",
      "1068\n",
      "1069\n",
      "1070\n",
      "1071\n",
      "1072\n",
      "1073\n",
      "1074\n",
      "1075\n",
      "1076\n",
      "1077\n",
      "1078\n",
      "1079\n",
      "1080\n",
      "1081\n",
      "1082\n",
      "1083\n",
      "1084\n",
      "1085\n",
      "1086\n",
      "1087\n",
      "1088\n",
      "1089\n",
      "1090\n",
      "1091\n",
      "1092\n",
      "1093\n",
      "1094\n",
      "1095\n",
      "1096\n",
      "1097\n",
      "1098\n",
      "1099\n",
      "1100\n",
      "1101\n",
      "1102\n",
      "1103\n",
      "1104\n",
      "1105\n",
      "1106\n",
      "1107\n",
      "1108\n",
      "1109\n",
      "1110\n",
      "1111\n",
      "1112\n",
      "1113\n",
      "1114\n",
      "1115\n",
      "1116\n",
      "1117\n",
      "1118\n",
      "1119\n",
      "1120\n",
      "1121\n",
      "1122\n",
      "1123\n",
      "1124\n",
      "1125\n",
      "1126\n",
      "1127\n",
      "1128\n",
      "1129\n",
      "1130\n",
      "1131\n",
      "1132\n",
      "1133\n",
      "1134\n",
      "1135\n",
      "1136\n",
      "1137\n",
      "1138\n",
      "1139\n",
      "1140\n",
      "1141\n",
      "1142\n",
      "1143\n",
      "1144\n",
      "1145\n",
      "1146\n",
      "1147\n",
      "1148\n",
      "1149\n",
      "1150\n",
      "1151\n",
      "1152\n",
      "1153\n",
      "1154\n",
      "1155\n",
      "1156\n",
      "1157\n",
      "1158\n",
      "1159\n",
      "1160\n",
      "1161\n",
      "1162\n",
      "1163\n",
      "1164\n",
      "1165\n",
      "1166\n",
      "1167\n",
      "1168\n",
      "1169\n",
      "1170\n",
      "1171\n",
      "1172\n",
      "1173\n",
      "1174\n",
      "1175\n",
      "1176\n",
      "1177\n",
      "1178\n",
      "1179\n",
      "1180\n",
      "1181\n",
      "1182\n",
      "1183\n",
      "1184\n",
      "1185\n",
      "1186\n",
      "1187\n",
      "1188\n",
      "1189\n",
      "1190\n",
      "1191\n",
      "1192\n",
      "1193\n",
      "1194\n",
      "1195\n",
      "1196\n",
      "1197\n",
      "1198\n",
      "1199\n",
      "1200\n",
      "1201\n",
      "1202\n",
      "1203\n",
      "1204\n",
      "1205\n",
      "1206\n",
      "1207\n",
      "1208\n",
      "1209\n",
      "1210\n",
      "1211\n",
      "1212\n",
      "1213\n",
      "1214\n",
      "1215\n",
      "1216\n",
      "1217\n",
      "1218\n",
      "1219\n",
      "1220\n",
      "1221\n",
      "1222\n",
      "1223\n",
      "1224\n",
      "1225\n",
      "1226\n",
      "1227\n",
      "1228\n",
      "1229\n",
      "1230\n",
      "1231\n",
      "1232\n",
      "1233\n",
      "1234\n",
      "1235\n",
      "1236\n",
      "1237\n",
      "1238\n",
      "1239\n",
      "1240\n",
      "1241\n",
      "1242\n",
      "1243\n"
     ]
    },
    {
     "name": "stderr",
     "output_type": "stream",
     "text": [
      "\r",
      "0it [00:00, ?it/s]"
     ]
    },
    {
     "name": "stdout",
     "output_type": "stream",
     "text": [
      "1244\n",
      "1245\n",
      "1246\n",
      "1247\n",
      "1248\n",
      "1249\n",
      "tensor([[0.0000]], device='cuda:0', grad_fn=<SigmoidBackward>)\n",
      "Handnet forward time: 0.012218952178955078\n",
      "Handsegnet forward time: 0.0019812583923339844\n"
     ]
    },
    {
     "name": "stderr",
     "output_type": "stream",
     "text": [
      "\r",
      "1it [00:00,  5.09it/s]"
     ]
    },
    {
     "name": "stdout",
     "output_type": "stream",
     "text": [
      "s shape torch.Size([1, 2, 224, 224])\n",
      "for loop time 0.003663778305053711\n",
      "hand mask sum: 0.0\n",
      "Calculate single highest scoring object time: 0.034104347229003906\n",
      "Crop and resize time: 0.0008878707885742188\n",
      "Posenet forward time: 0.004349470138549805\n",
      "Posepriornet forward time: 0.0009033679962158203\n",
      "Viewpoint forward time: 0.0009567737579345703\n",
      "Get normalized 3d coordinates time: 0.0008175373077392578\n",
      "Flip left handed input time: 0.00014448165893554688\n",
      "ScaLe heatmaps time 9.608268737792969e-05\n",
      "Time for processing 1 frame: 0.05691337585449219s\n",
      "tensor([[0.0000]], device='cuda:0', grad_fn=<SigmoidBackward>)\n",
      "Handnet forward time: 0.008610963821411133\n",
      "Handsegnet forward time: 0.001012563705444336\n",
      "s shape torch.Size([1, 2, 224, 224])\n",
      "for loop time 0.003529787063598633\n",
      "hand mask sum: 0.0\n",
      "Calculate single highest scoring object time: 0.0339818000793457\n",
      "Crop and resize time: 0.0007781982421875\n",
      "Posenet forward time: 0.0034368038177490234\n",
      "Posepriornet forward time: 0.0007197856903076172\n",
      "Viewpoint forward time: 0.0009362697601318359\n",
      "Get normalized 3d coordinates time: 0.0005919933319091797\n",
      "Flip left handed input time: 0.0001232624053955078\n",
      "ScaLe heatmaps time 8.988380432128906e-05\n",
      "Time for processing 1 frame: 0.0508723258972168s\n"
     ]
    },
    {
     "name": "stderr",
     "output_type": "stream",
     "text": [
      "3it [00:00,  5.54it/s]"
     ]
    },
    {
     "name": "stdout",
     "output_type": "stream",
     "text": [
      "tensor([[0.0000]], device='cuda:0', grad_fn=<SigmoidBackward>)\n",
      "Handnet forward time: 0.008706092834472656\n",
      "Handsegnet forward time: 0.001016855239868164\n",
      "s shape torch.Size([1, 2, 224, 224])\n",
      "for loop time 0.002939939498901367\n",
      "hand mask sum: 0.0\n",
      "Calculate single highest scoring object time: 0.030546188354492188\n",
      "Crop and resize time: 0.0005946159362792969\n",
      "Posenet forward time: 0.0019347667694091797\n",
      "Posepriornet forward time: 0.0007121562957763672\n",
      "Viewpoint forward time: 0.0009319782257080078\n",
      "Get normalized 3d coordinates time: 0.0005986690521240234\n",
      "Flip left handed input time: 0.00012230873107910156\n",
      "ScaLe heatmaps time 9.322166442871094e-05\n",
      "Time for processing 1 frame: 0.04577207565307617s\n",
      "tensor([[0.0000]], device='cuda:0', grad_fn=<SigmoidBackward>)\n",
      "Handnet forward time: 0.007385730743408203\n",
      "Handsegnet forward time: 0.0009515285491943359\n",
      "s shape torch.Size([1, 2, 224, 224])\n",
      "for loop time 0.0029382705688476562\n",
      "hand mask sum: 0.0\n",
      "Calculate single highest scoring object time: 0.030006885528564453\n",
      "Crop and resize time: 0.0006105899810791016\n",
      "Posenet forward time: 0.0019655227661132812\n",
      "Posepriornet forward time: 0.0008814334869384766\n",
      "Viewpoint forward time: 0.00098419189453125\n",
      "Get normalized 3d coordinates time: 0.0006692409515380859\n",
      "Flip left handed input time: 0.0001544952392578125\n",
      "ScaLe heatmaps time 0.0001246929168701172\n",
      "Time for processing 1 frame: 0.04429507255554199s\n"
     ]
    },
    {
     "name": "stderr",
     "output_type": "stream",
     "text": [
      "5it [00:00,  5.89it/s]"
     ]
    },
    {
     "name": "stdout",
     "output_type": "stream",
     "text": [
      "tensor([[0.0000]], device='cuda:0', grad_fn=<SigmoidBackward>)\n",
      "Handnet forward time: 0.0074732303619384766\n",
      "Handsegnet forward time: 0.0009617805480957031\n",
      "s shape torch.Size([1, 2, 224, 224])\n",
      "for loop time 0.002959728240966797\n",
      "hand mask sum: 0.0\n",
      "Calculate single highest scoring object time: 0.029057979583740234\n",
      "Crop and resize time: 0.0006210803985595703\n",
      "Posenet forward time: 0.0020155906677246094\n",
      "Posepriornet forward time: 0.000743865966796875\n",
      "Viewpoint forward time: 0.0010159015655517578\n",
      "Get normalized 3d coordinates time: 0.0006074905395507812\n",
      "Flip left handed input time: 0.00014352798461914062\n",
      "ScaLe heatmaps time 0.00010251998901367188\n",
      "Time for processing 1 frame: 0.043442726135253906s\n",
      "tensor([[0.0000]], device='cuda:0', grad_fn=<SigmoidBackward>)\n",
      "Handnet forward time: 0.007565736770629883\n",
      "Handsegnet forward time: 0.001018524169921875\n",
      "s shape torch.Size([1, 2, 224, 224])\n",
      "for loop time 0.002996206283569336\n",
      "hand mask sum: 0.0\n",
      "Calculate single highest scoring object time: 0.02878856658935547\n",
      "Crop and resize time: 0.0006213188171386719\n",
      "Posenet forward time: 0.0020813941955566406\n",
      "Posepriornet forward time: 0.0008029937744140625\n",
      "Viewpoint forward time: 0.0010154247283935547\n",
      "Get normalized 3d coordinates time: 0.0006082057952880859\n",
      "Flip left handed input time: 0.00014495849609375\n",
      "ScaLe heatmaps time 0.00010347366333007812\n",
      "Time for processing 1 frame: 0.04345560073852539s\n"
     ]
    },
    {
     "name": "stderr",
     "output_type": "stream",
     "text": [
      "7it [00:01,  6.08it/s]"
     ]
    },
    {
     "name": "stdout",
     "output_type": "stream",
     "text": [
      "tensor([[0.0000]], device='cuda:0', grad_fn=<SigmoidBackward>)\n",
      "Handnet forward time: 0.008002519607543945\n",
      "Handsegnet forward time: 0.0010077953338623047\n",
      "s shape torch.Size([1, 2, 224, 224])\n",
      "for loop time 0.002950429916381836\n",
      "hand mask sum: 0.0\n",
      "Calculate single highest scoring object time: 0.029513835906982422\n",
      "Crop and resize time: 0.0006024837493896484\n",
      "Posenet forward time: 0.0019741058349609375\n",
      "Posepriornet forward time: 0.0007452964782714844\n",
      "Viewpoint forward time: 0.0009520053863525391\n",
      "Get normalized 3d coordinates time: 0.0006017684936523438\n",
      "Flip left handed input time: 0.00014352798461914062\n",
      "ScaLe heatmaps time 0.000102996826171875\n",
      "Time for processing 1 frame: 0.04437994956970215s\n",
      "tensor([[0.0000]], device='cuda:0', grad_fn=<SigmoidBackward>)\n",
      "Handnet forward time: 0.007570981979370117\n",
      "Handsegnet forward time: 0.0010113716125488281\n",
      "s shape torch.Size([1, 2, 224, 224])\n",
      "for loop time 0.0048389434814453125\n",
      "hand mask sum: 0.0\n",
      "Calculate single highest scoring object time: 0.031645774841308594\n",
      "Crop and resize time: 0.0006375312805175781\n",
      "Posenet forward time: 0.0019664764404296875\n",
      "Posepriornet forward time: 0.0007605552673339844\n",
      "Viewpoint forward time: 0.0009639263153076172\n",
      "Get normalized 3d coordinates time: 0.0006661415100097656\n",
      "Flip left handed input time: 0.00014448165893554688\n",
      "ScaLe heatmaps time 0.00010728836059570312\n",
      "Time for processing 1 frame: 0.04622173309326172s\n"
     ]
    },
    {
     "name": "stderr",
     "output_type": "stream",
     "text": [
      "9it [00:01,  6.16it/s]"
     ]
    },
    {
     "name": "stdout",
     "output_type": "stream",
     "text": [
      "tensor([[0.0000]], device='cuda:0', grad_fn=<SigmoidBackward>)\n",
      "Handnet forward time: 0.007633686065673828\n",
      "Handsegnet forward time: 0.0011036396026611328\n",
      "s shape torch.Size([1, 2, 224, 224])\n",
      "for loop time 0.0032758712768554688\n",
      "hand mask sum: 0.0\n",
      "Calculate single highest scoring object time: 0.0296173095703125\n",
      "Crop and resize time: 0.0006017684936523438\n",
      "Posenet forward time: 0.0019259452819824219\n",
      "Posepriornet forward time: 0.0007035732269287109\n",
      "Viewpoint forward time: 0.0009319782257080078\n",
      "Get normalized 3d coordinates time: 0.0005779266357421875\n",
      "Flip left handed input time: 0.00011777877807617188\n",
      "ScaLe heatmaps time 8.821487426757812e-05\n",
      "Time for processing 1 frame: 0.043969154357910156s\n",
      "tensor([[0.0000]], device='cuda:0', grad_fn=<SigmoidBackward>)\n",
      "Handnet forward time: 0.007886171340942383\n",
      "Handsegnet forward time: 0.0010068416595458984\n",
      "s shape torch.Size([1, 2, 224, 224])\n",
      "for loop time 0.002971172332763672\n",
      "hand mask sum: 0.0\n",
      "Calculate single highest scoring object time: 0.029497861862182617\n",
      "Crop and resize time: 0.0005927085876464844\n",
      "Posenet forward time: 0.0019276142120361328\n",
      "Posepriornet forward time: 0.0007076263427734375\n",
      "Viewpoint forward time: 0.0009369850158691406\n",
      "Get normalized 3d coordinates time: 0.0005936622619628906\n",
      "Flip left handed input time: 0.00012159347534179688\n",
      "ScaLe heatmaps time 8.273124694824219e-05\n",
      "Time for processing 1 frame: 0.04395294189453125s\n"
     ]
    },
    {
     "name": "stderr",
     "output_type": "stream",
     "text": [
      "11it [00:01,  6.14it/s]"
     ]
    },
    {
     "name": "stdout",
     "output_type": "stream",
     "text": [
      "tensor([[0.0000]], device='cuda:0', grad_fn=<SigmoidBackward>)\n",
      "Handnet forward time: 0.007526874542236328\n",
      "Handsegnet forward time: 0.001291513442993164\n",
      "s shape torch.Size([1, 2, 224, 224])\n",
      "for loop time 0.003941535949707031\n",
      "hand mask sum: 0.0\n",
      "Calculate single highest scoring object time: 0.0311129093170166\n",
      "Crop and resize time: 0.0010755062103271484\n",
      "Posenet forward time: 0.002519369125366211\n",
      "Posepriornet forward time: 0.0008921623229980469\n",
      "Viewpoint forward time: 0.00113677978515625\n",
      "Get normalized 3d coordinates time: 0.0007300376892089844\n",
      "Flip left handed input time: 0.00013303756713867188\n",
      "ScaLe heatmaps time 9.417533874511719e-05\n",
      "Time for processing 1 frame: 0.0472865104675293s\n",
      "tensor([[0.0000]], device='cuda:0', grad_fn=<SigmoidBackward>)\n",
      "Handnet forward time: 0.007485389709472656\n",
      "Handsegnet forward time: 0.0012340545654296875\n",
      "s shape torch.Size([1, 2, 224, 224])\n",
      "for loop time 0.0031659603118896484\n",
      "hand mask sum: 0.0\n",
      "Calculate single highest scoring object time: 0.028795719146728516\n",
      "Crop and resize time: 0.0006818771362304688\n",
      "Posenet forward time: 0.0023736953735351562\n",
      "Posepriornet forward time: 0.0008540153503417969\n",
      "Viewpoint forward time: 0.0011234283447265625\n"
     ]
    },
    {
     "name": "stderr",
     "output_type": "stream",
     "text": [
      "\r",
      "12it [00:02,  5.89it/s]"
     ]
    },
    {
     "name": "stdout",
     "output_type": "stream",
     "text": [
      "Get normalized 3d coordinates time: 0.0009877681732177734\n",
      "Flip left handed input time: 0.00017976760864257812\n",
      "ScaLe heatmaps time 9.34600830078125e-05\n",
      "Time for processing 1 frame: 0.04450106620788574s\n",
      "tensor([[0.0000]], device='cuda:0', grad_fn=<SigmoidBackward>)\n",
      "Handnet forward time: 0.008147478103637695\n",
      "Handsegnet forward time: 0.0010294914245605469\n",
      "s shape torch.Size([1, 2, 224, 224])\n",
      "for loop time 0.003589630126953125\n",
      "hand mask sum: 0.0\n",
      "Calculate single highest scoring object time: 0.031301259994506836\n",
      "Crop and resize time: 0.0006029605865478516\n",
      "Posenet forward time: 0.001931905746459961\n",
      "Posepriornet forward time: 0.0007076263427734375\n",
      "Viewpoint forward time: 0.0009243488311767578\n",
      "Get normalized 3d coordinates time: 0.0005776882171630859\n",
      "Flip left handed input time: 0.00012135505676269531\n",
      "ScaLe heatmaps time 8.654594421386719e-05\n",
      "Time for processing 1 frame: 0.04604601860046387s\n"
     ]
    },
    {
     "name": "stderr",
     "output_type": "stream",
     "text": [
      "14it [00:02,  6.02it/s]"
     ]
    },
    {
     "name": "stdout",
     "output_type": "stream",
     "text": [
      "tensor([[0.0000]], device='cuda:0', grad_fn=<SigmoidBackward>)\n",
      "Handnet forward time: 0.008156776428222656\n",
      "Handsegnet forward time: 0.0011069774627685547\n",
      "s shape torch.Size([1, 2, 224, 224])\n",
      "for loop time 0.0029757022857666016\n",
      "hand mask sum: 0.0\n",
      "Calculate single highest scoring object time: 0.02941155433654785\n",
      "Crop and resize time: 0.001409292221069336\n",
      "Posenet forward time: 0.002180337905883789\n",
      "Posepriornet forward time: 0.0009503364562988281\n",
      "Viewpoint forward time: 0.0009500980377197266\n",
      "Get normalized 3d coordinates time: 0.0005869865417480469\n",
      "Flip left handed input time: 0.00011730194091796875\n",
      "ScaLe heatmaps time 8.7738037109375e-05\n",
      "Time for processing 1 frame: 0.045655250549316406s\n",
      "tensor([[0.0000]], device='cuda:0', grad_fn=<SigmoidBackward>)\n",
      "Handnet forward time: 0.007904529571533203\n",
      "Handsegnet forward time: 0.0010194778442382812\n",
      "s shape torch.Size([1, 2, 224, 224])\n",
      "for loop time 0.0030078887939453125\n",
      "hand mask sum: 0.0\n",
      "Calculate single highest scoring object time: 0.02982306480407715\n",
      "Crop and resize time: 0.0005869865417480469\n",
      "Posenet forward time: 0.00193023681640625\n",
      "Posepriornet forward time: 0.0007092952728271484\n",
      "Viewpoint forward time: 0.0009276866912841797\n",
      "Get normalized 3d coordinates time: 0.0005743503570556641\n",
      "Flip left handed input time: 0.00012159347534179688\n",
      "ScaLe heatmaps time 8.916854858398438e-05\n",
      "Time for processing 1 frame: 0.044283151626586914s\n"
     ]
    },
    {
     "name": "stderr",
     "output_type": "stream",
     "text": [
      "16it [00:02,  6.08it/s]"
     ]
    },
    {
     "name": "stdout",
     "output_type": "stream",
     "text": [
      "tensor([[0.0000]], device='cuda:0', grad_fn=<SigmoidBackward>)\n",
      "Handnet forward time: 0.008107185363769531\n",
      "Handsegnet forward time: 0.00101470947265625\n",
      "s shape torch.Size([1, 2, 224, 224])\n",
      "for loop time 0.0029599666595458984\n",
      "hand mask sum: 0.0\n",
      "Calculate single highest scoring object time: 0.03152871131896973\n",
      "Crop and resize time: 0.0006098747253417969\n",
      "Posenet forward time: 0.001960277557373047\n",
      "Posepriornet forward time: 0.0007059574127197266\n",
      "Viewpoint forward time: 0.0009331703186035156\n",
      "Get normalized 3d coordinates time: 0.0005769729614257812\n",
      "Flip left handed input time: 0.00011897087097167969\n",
      "ScaLe heatmaps time 8.344650268554688e-05\n",
      "Time for processing 1 frame: 0.046286582946777344s\n",
      "tensor([[0.0000]], device='cuda:0', grad_fn=<SigmoidBackward>)\n",
      "Handnet forward time: 0.007941246032714844\n",
      "Handsegnet forward time: 0.0009980201721191406\n",
      "s shape torch.Size([1, 2, 224, 224])\n",
      "for loop time 0.0036962032318115234\n",
      "hand mask sum: 0.0\n",
      "Calculate single highest scoring object time: 0.02901935577392578\n",
      "Crop and resize time: 0.0005972385406494141\n",
      "Posenet forward time: 0.0019304752349853516\n",
      "Posepriornet forward time: 0.0007042884826660156\n",
      "Viewpoint forward time: 0.0009405612945556641\n",
      "Get normalized 3d coordinates time: 0.0005750656127929688\n",
      "Flip left handed input time: 0.00011754035949707031\n",
      "ScaLe heatmaps time 8.535385131835938e-05\n",
      "Time for processing 1 frame: 0.04350113868713379s\n"
     ]
    },
    {
     "name": "stderr",
     "output_type": "stream",
     "text": [
      "18it [00:02,  6.12it/s]"
     ]
    },
    {
     "name": "stdout",
     "output_type": "stream",
     "text": [
      "tensor([[0.0000]], device='cuda:0', grad_fn=<SigmoidBackward>)\n",
      "Handnet forward time: 0.008192777633666992\n",
      "Handsegnet forward time: 0.0010378360748291016\n",
      "s shape torch.Size([1, 2, 224, 224])\n",
      "for loop time 0.0029578208923339844\n",
      "hand mask sum: 0.0\n",
      "Calculate single highest scoring object time: 0.02925848960876465\n",
      "Crop and resize time: 0.0006208419799804688\n",
      "Posenet forward time: 0.0019464492797851562\n",
      "Posepriornet forward time: 0.0007207393646240234\n",
      "Viewpoint forward time: 0.0009403228759765625\n",
      "Get normalized 3d coordinates time: 0.0005822181701660156\n",
      "Flip left handed input time: 0.0001251697540283203\n",
      "ScaLe heatmaps time 8.893013000488281e-05\n",
      "Time for processing 1 frame: 0.044176340103149414s\n",
      "tensor([[0.0000]], device='cuda:0', grad_fn=<SigmoidBackward>)\n",
      "Handnet forward time: 0.00745701789855957\n",
      "Handsegnet forward time: 0.0009355545043945312\n",
      "s shape torch.Size([1, 2, 224, 224])\n",
      "for loop time 0.0030319690704345703\n",
      "hand mask sum: 0.0\n",
      "Calculate single highest scoring object time: 0.030422449111938477\n",
      "Crop and resize time: 0.0006031990051269531\n",
      "Posenet forward time: 0.0019328594207763672\n",
      "Posepriornet forward time: 0.0007092952728271484\n",
      "Viewpoint forward time: 0.000926971435546875\n",
      "Get normalized 3d coordinates time: 0.0006394386291503906\n",
      "Flip left handed input time: 0.0003790855407714844\n",
      "ScaLe heatmaps time 3.218650817871094e-05\n",
      "Time for processing 1 frame: 0.04471182823181152s\n"
     ]
    },
    {
     "name": "stderr",
     "output_type": "stream",
     "text": [
      "20it [00:03,  6.12it/s]"
     ]
    },
    {
     "name": "stdout",
     "output_type": "stream",
     "text": [
      "tensor([[0.0000]], device='cuda:0', grad_fn=<SigmoidBackward>)\n",
      "Handnet forward time: 0.008017539978027344\n",
      "Handsegnet forward time: 0.0010020732879638672\n",
      "s shape torch.Size([1, 2, 224, 224])\n",
      "for loop time 0.002936124801635742\n",
      "hand mask sum: 0.0\n",
      "Calculate single highest scoring object time: 0.031568288803100586\n",
      "Crop and resize time: 0.0006053447723388672\n",
      "Posenet forward time: 0.0019605159759521484\n",
      "Posepriornet forward time: 0.0007100105285644531\n",
      "Viewpoint forward time: 0.0009312629699707031\n",
      "Get normalized 3d coordinates time: 0.0005750656127929688\n",
      "Flip left handed input time: 0.00011873245239257812\n",
      "ScaLe heatmaps time 9.083747863769531e-05\n",
      "Time for processing 1 frame: 0.04623556137084961s\n",
      "tensor([[0.0000]], device='cuda:0', grad_fn=<SigmoidBackward>)\n",
      "Handnet forward time: 0.008012533187866211\n",
      "Handsegnet forward time: 0.001001596450805664\n",
      "s shape torch.Size([1, 2, 224, 224])\n",
      "for loop time 0.002973794937133789\n",
      "hand mask sum: 0.0\n",
      "Calculate single highest scoring object time: 0.029566049575805664\n",
      "Crop and resize time: 0.0005974769592285156\n",
      "Posenet forward time: 0.001917123794555664\n",
      "Posepriornet forward time: 0.0006976127624511719\n",
      "Viewpoint forward time: 0.0009222030639648438\n",
      "Get normalized 3d coordinates time: 0.0005879402160644531\n",
      "Flip left handed input time: 0.00011992454528808594\n",
      "ScaLe heatmaps time 8.893013000488281e-05\n",
      "Time for processing 1 frame: 0.044112205505371094s\n"
     ]
    },
    {
     "name": "stderr",
     "output_type": "stream",
     "text": [
      "22it [00:03,  6.12it/s]"
     ]
    },
    {
     "name": "stdout",
     "output_type": "stream",
     "text": [
      "tensor([[0.0000]], device='cuda:0', grad_fn=<SigmoidBackward>)\n",
      "Handnet forward time: 0.008317232131958008\n",
      "Handsegnet forward time: 0.0010232925415039062\n",
      "s shape torch.Size([1, 2, 224, 224])\n",
      "for loop time 0.0035529136657714844\n",
      "hand mask sum: 0.0\n",
      "Calculate single highest scoring object time: 0.03097820281982422\n",
      "Crop and resize time: 0.0005974769592285156\n",
      "Posenet forward time: 0.001935720443725586\n",
      "Posepriornet forward time: 0.0007052421569824219\n",
      "Viewpoint forward time: 0.0009555816650390625\n",
      "Get normalized 3d coordinates time: 0.0005745887756347656\n",
      "Flip left handed input time: 0.00011539459228515625\n",
      "ScaLe heatmaps time 8.654594421386719e-05\n",
      "Time for processing 1 frame: 0.0458371639251709s\n",
      "tensor([[0.0000]], device='cuda:0', grad_fn=<SigmoidBackward>)\n",
      "Handnet forward time: 0.007939338684082031\n",
      "Handsegnet forward time: 0.0010116100311279297\n",
      "s shape torch.Size([1, 2, 224, 224])\n",
      "for loop time 0.002973794937133789\n",
      "hand mask sum: 0.0\n",
      "Calculate single highest scoring object time: 0.02908158302307129\n",
      "Crop and resize time: 0.0005855560302734375\n",
      "Posenet forward time: 0.0019533634185791016\n",
      "Posepriornet forward time: 0.0007045269012451172\n",
      "Viewpoint forward time: 0.0009272098541259766\n",
      "Get normalized 3d coordinates time: 0.000576019287109375\n",
      "Flip left handed input time: 0.00011777877807617188\n",
      "ScaLe heatmaps time 8.630752563476562e-05\n",
      "Time for processing 1 frame: 0.043581247329711914s\n"
     ]
    },
    {
     "name": "stderr",
     "output_type": "stream",
     "text": [
      "24it [00:03,  5.79it/s]"
     ]
    },
    {
     "name": "stdout",
     "output_type": "stream",
     "text": [
      "tensor([[0.0000]], device='cuda:0', grad_fn=<SigmoidBackward>)\n",
      "Handnet forward time: 0.00812983512878418\n",
      "Handsegnet forward time: 0.0012044906616210938\n",
      "s shape torch.Size([1, 2, 224, 224])\n",
      "for loop time 0.002949953079223633\n",
      "hand mask sum: 0.0\n",
      "Calculate single highest scoring object time: 0.030541658401489258\n",
      "Crop and resize time: 0.0009603500366210938\n",
      "Posenet forward time: 0.0020227432250976562\n",
      "Posepriornet forward time: 0.0007216930389404297\n",
      "Viewpoint forward time: 0.0009264945983886719\n",
      "Get normalized 3d coordinates time: 0.0005774497985839844\n",
      "Flip left handed input time: 0.00012135505676269531\n",
      "ScaLe heatmaps time 8.606910705566406e-05\n",
      "Time for processing 1 frame: 0.045912981033325195s\n",
      "tensor([[0.0000]], device='cuda:0', grad_fn=<SigmoidBackward>)\n",
      "Handnet forward time: 0.007972955703735352\n",
      "Handsegnet forward time: 0.0009953975677490234\n"
     ]
    },
    {
     "name": "stderr",
     "output_type": "stream",
     "text": [
      "\r",
      "25it [00:04,  5.86it/s]"
     ]
    },
    {
     "name": "stdout",
     "output_type": "stream",
     "text": [
      "s shape torch.Size([1, 2, 224, 224])\n",
      "for loop time 0.0029506683349609375\n",
      "hand mask sum: 0.0\n",
      "Calculate single highest scoring object time: 0.03223562240600586\n",
      "Crop and resize time: 0.0006163120269775391\n",
      "Posenet forward time: 0.0019528865814208984\n",
      "Posepriornet forward time: 0.0007033348083496094\n",
      "Viewpoint forward time: 0.0009424686431884766\n",
      "Get normalized 3d coordinates time: 0.0005807876586914062\n",
      "Flip left handed input time: 0.0001201629638671875\n",
      "ScaLe heatmaps time 8.869171142578125e-05\n",
      "Time for processing 1 frame: 0.0467982292175293s\n",
      "tensor([[0.0000]], device='cuda:0', grad_fn=<SigmoidBackward>)\n",
      "Handnet forward time: 0.008044004440307617\n",
      "Handsegnet forward time: 0.0010120868682861328\n",
      "s shape torch.Size([1, 2, 224, 224])\n",
      "for loop time 0.003016948699951172\n",
      "hand mask sum: 0.0\n",
      "Calculate single highest scoring object time: 0.031572580337524414\n",
      "Crop and resize time: 0.0006134510040283203\n",
      "Posenet forward time: 0.001958608627319336\n",
      "Posepriornet forward time: 0.0007102489471435547\n",
      "Viewpoint forward time: 0.0009267330169677734\n",
      "Get normalized 3d coordinates time: 0.0005826950073242188\n",
      "Flip left handed input time: 0.00011992454528808594\n",
      "ScaLe heatmaps time 8.535385131835938e-05\n",
      "Time for processing 1 frame: 0.04623889923095703s\n"
     ]
    },
    {
     "name": "stderr",
     "output_type": "stream",
     "text": [
      "27it [00:04,  5.98it/s]"
     ]
    },
    {
     "name": "stdout",
     "output_type": "stream",
     "text": [
      "tensor([[0.0000]], device='cuda:0', grad_fn=<SigmoidBackward>)\n",
      "Handnet forward time: 0.008144140243530273\n",
      "Handsegnet forward time: 0.0010061264038085938\n",
      "s shape torch.Size([1, 2, 224, 224])\n",
      "for loop time 0.002946138381958008\n",
      "hand mask sum: 0.0\n",
      "Calculate single highest scoring object time: 0.03043365478515625\n",
      "Crop and resize time: 0.0006201267242431641\n",
      "Posenet forward time: 0.0020029544830322266\n",
      "Posepriornet forward time: 0.0007424354553222656\n",
      "Viewpoint forward time: 0.0009527206420898438\n",
      "Get normalized 3d coordinates time: 0.0006041526794433594\n",
      "Flip left handed input time: 0.00014090538024902344\n",
      "ScaLe heatmaps time 0.00010156631469726562\n",
      "Time for processing 1 frame: 0.04543757438659668s\n",
      "tensor([[0.0000]], device='cuda:0', grad_fn=<SigmoidBackward>)\n",
      "Handnet forward time: 0.007935762405395508\n",
      "Handsegnet forward time: 0.0010094642639160156\n",
      "s shape torch.Size([1, 2, 224, 224])\n",
      "for loop time 0.0029706954956054688\n",
      "hand mask sum: 0.0\n",
      "Calculate single highest scoring object time: 0.028301000595092773\n",
      "Crop and resize time: 0.0006039142608642578\n",
      "Posenet forward time: 0.0019736289978027344\n",
      "Posepriornet forward time: 0.0007386207580566406\n",
      "Viewpoint forward time: 0.0009694099426269531\n",
      "Get normalized 3d coordinates time: 0.0006055831909179688\n",
      "Flip left handed input time: 0.00014281272888183594\n",
      "ScaLe heatmaps time 0.00010204315185546875\n",
      "Time for processing 1 frame: 0.04308724403381348s\n"
     ]
    },
    {
     "name": "stderr",
     "output_type": "stream",
     "text": [
      "29it [00:04,  6.05it/s]"
     ]
    },
    {
     "name": "stdout",
     "output_type": "stream",
     "text": [
      "tensor([[0.0000]], device='cuda:0', grad_fn=<SigmoidBackward>)\n",
      "Handnet forward time: 0.008181095123291016\n",
      "Handsegnet forward time: 0.0010380744934082031\n",
      "s shape torch.Size([1, 2, 224, 224])\n",
      "for loop time 0.002935171127319336\n",
      "hand mask sum: 0.0\n",
      "Calculate single highest scoring object time: 0.029055118560791016\n",
      "Crop and resize time: 0.0006110668182373047\n",
      "Posenet forward time: 0.001953601837158203\n",
      "Posepriornet forward time: 0.0007662773132324219\n",
      "Viewpoint forward time: 0.0009632110595703125\n",
      "Get normalized 3d coordinates time: 0.0006086826324462891\n",
      "Flip left handed input time: 0.00014090538024902344\n",
      "ScaLe heatmaps time 0.00010204315185546875\n",
      "Time for processing 1 frame: 0.04410290718078613s\n",
      "tensor([[0.0000]], device='cuda:0', grad_fn=<SigmoidBackward>)\n",
      "Handnet forward time: 0.007919073104858398\n",
      "Handsegnet forward time: 0.001003265380859375\n",
      "s shape torch.Size([1, 2, 224, 224])\n",
      "for loop time 0.002979278564453125\n",
      "hand mask sum: 0.0\n",
      "Calculate single highest scoring object time: 0.02932262420654297\n",
      "Crop and resize time: 0.0006034374237060547\n",
      "Posenet forward time: 0.001971006393432617\n",
      "Posepriornet forward time: 0.000766754150390625\n",
      "Viewpoint forward time: 0.0009632110595703125\n",
      "Get normalized 3d coordinates time: 0.0006098747253417969\n",
      "Flip left handed input time: 0.00014257431030273438\n",
      "ScaLe heatmaps time 0.00010085105895996094\n",
      "Time for processing 1 frame: 0.04409980773925781s\n"
     ]
    },
    {
     "name": "stderr",
     "output_type": "stream",
     "text": [
      "31it [00:05,  6.05it/s]"
     ]
    },
    {
     "name": "stdout",
     "output_type": "stream",
     "text": [
      "tensor([[0.0000]], device='cuda:0', grad_fn=<SigmoidBackward>)\n",
      "Handnet forward time: 0.00815129280090332\n",
      "Handsegnet forward time: 0.0010230541229248047\n",
      "s shape torch.Size([1, 2, 224, 224])\n",
      "for loop time 0.0029675960540771484\n",
      "hand mask sum: 0.0\n",
      "Calculate single highest scoring object time: 0.030553817749023438\n",
      "Crop and resize time: 0.0006234645843505859\n",
      "Posenet forward time: 0.0020029544830322266\n",
      "Posepriornet forward time: 0.0007631778717041016\n",
      "Viewpoint forward time: 0.0009415149688720703\n",
      "Get normalized 3d coordinates time: 0.00058746337890625\n",
      "Flip left handed input time: 0.00012302398681640625\n",
      "ScaLe heatmaps time 8.487701416015625e-05\n",
      "Time for processing 1 frame: 0.045508384704589844s\n",
      "tensor([[0.0000]], device='cuda:0', grad_fn=<SigmoidBackward>)\n",
      "Handnet forward time: 0.007928848266601562\n",
      "Handsegnet forward time: 0.0010051727294921875\n",
      "s shape torch.Size([1, 2, 224, 224])\n",
      "for loop time 0.0029561519622802734\n",
      "hand mask sum: 0.0\n",
      "Calculate single highest scoring object time: 0.029499053955078125\n",
      "Crop and resize time: 0.0005896091461181641\n",
      "Posenet forward time: 0.0019214153289794922\n",
      "Posepriornet forward time: 0.0007076263427734375\n",
      "Viewpoint forward time: 0.0009300708770751953\n",
      "Get normalized 3d coordinates time: 0.0005700588226318359\n",
      "Flip left handed input time: 0.00011587142944335938\n",
      "ScaLe heatmaps time 8.559226989746094e-05\n",
      "Time for processing 1 frame: 0.043947458267211914s\n"
     ]
    },
    {
     "name": "stderr",
     "output_type": "stream",
     "text": [
      "33it [00:05,  6.05it/s]"
     ]
    },
    {
     "name": "stdout",
     "output_type": "stream",
     "text": [
      "tensor([[0.0000]], device='cuda:0', grad_fn=<SigmoidBackward>)\n",
      "Handnet forward time: 0.008142471313476562\n",
      "Handsegnet forward time: 0.0010094642639160156\n",
      "s shape torch.Size([1, 2, 224, 224])\n",
      "for loop time 0.0029468536376953125\n",
      "hand mask sum: 0.0\n",
      "Calculate single highest scoring object time: 0.03129076957702637\n",
      "Crop and resize time: 0.0006098747253417969\n",
      "Posenet forward time: 0.001958608627319336\n",
      "Posepriornet forward time: 0.0006999969482421875\n",
      "Viewpoint forward time: 0.0009241104125976562\n",
      "Get normalized 3d coordinates time: 0.0006139278411865234\n",
      "Flip left handed input time: 0.00012683868408203125\n",
      "ScaLe heatmaps time 9.608268737792969e-05\n",
      "Time for processing 1 frame: 0.046007394790649414s\n",
      "tensor([[0.0000]], device='cuda:0', grad_fn=<SigmoidBackward>)\n",
      "Handnet forward time: 0.007904052734375\n",
      "Handsegnet forward time: 0.0010218620300292969\n",
      "s shape torch.Size([1, 2, 224, 224])\n",
      "for loop time 0.0029418468475341797\n",
      "hand mask sum: 0.0\n",
      "Calculate single highest scoring object time: 0.029667377471923828\n",
      "Crop and resize time: 0.0005865097045898438\n",
      "Posenet forward time: 0.0019125938415527344\n",
      "Posepriornet forward time: 0.0007150173187255859\n",
      "Viewpoint forward time: 0.0009303092956542969\n",
      "Get normalized 3d coordinates time: 0.0005757808685302734\n"
     ]
    },
    {
     "name": "stderr",
     "output_type": "stream",
     "text": [
      "\r",
      "34it [00:05,  6.04it/s]"
     ]
    },
    {
     "name": "stdout",
     "output_type": "stream",
     "text": [
      "Flip left handed input time: 0.0003216266632080078\n",
      "ScaLe heatmaps time 9.775161743164062e-05\n",
      "Time for processing 1 frame: 0.04443764686584473s\n",
      "tensor([[0.0000]], device='cuda:0', grad_fn=<SigmoidBackward>)\n",
      "Handnet forward time: 0.008080244064331055\n",
      "Handsegnet forward time: 0.0010120868682861328\n",
      "s shape torch.Size([1, 2, 224, 224])\n",
      "for loop time 0.0029630661010742188\n",
      "hand mask sum: 0.0\n",
      "Calculate single highest scoring object time: 0.03175950050354004\n",
      "Crop and resize time: 0.0006086826324462891\n",
      "Posenet forward time: 0.0019576549530029297\n",
      "Posepriornet forward time: 0.0007150173187255859\n",
      "Viewpoint forward time: 0.0009348392486572266\n",
      "Get normalized 3d coordinates time: 0.0005788803100585938\n",
      "Flip left handed input time: 0.00011563301086425781\n",
      "ScaLe heatmaps time 9.1552734375e-05\n",
      "Time for processing 1 frame: 0.046463966369628906s\n"
     ]
    },
    {
     "name": "stderr",
     "output_type": "stream",
     "text": [
      "36it [00:05,  6.03it/s]"
     ]
    },
    {
     "name": "stdout",
     "output_type": "stream",
     "text": [
      "tensor([[0.0000]], device='cuda:0', grad_fn=<SigmoidBackward>)\n",
      "Handnet forward time: 0.00809025764465332\n",
      "Handsegnet forward time: 0.0010209083557128906\n",
      "s shape torch.Size([1, 2, 224, 224])\n",
      "for loop time 0.0029468536376953125\n",
      "hand mask sum: 0.0\n",
      "Calculate single highest scoring object time: 0.030623674392700195\n",
      "Crop and resize time: 0.0006134510040283203\n",
      "Posenet forward time: 0.001961946487426758\n",
      "Posepriornet forward time: 0.0007030963897705078\n",
      "Viewpoint forward time: 0.0009374618530273438\n",
      "Get normalized 3d coordinates time: 0.0005812644958496094\n",
      "Flip left handed input time: 0.00011968612670898438\n",
      "ScaLe heatmaps time 8.940696716308594e-05\n",
      "Time for processing 1 frame: 0.0453190803527832s\n",
      "tensor([[0.0000]], device='cuda:0', grad_fn=<SigmoidBackward>)\n",
      "Handnet forward time: 0.007890462875366211\n",
      "Handsegnet forward time: 0.0010099411010742188\n",
      "s shape torch.Size([1, 2, 224, 224])\n",
      "for loop time 0.003649473190307617\n",
      "hand mask sum: 0.0\n",
      "Calculate single highest scoring object time: 0.028922080993652344\n",
      "Crop and resize time: 0.0005941390991210938\n",
      "Posenet forward time: 0.0019528865814208984\n",
      "Posepriornet forward time: 0.0007107257843017578\n",
      "Viewpoint forward time: 0.0009365081787109375\n",
      "Get normalized 3d coordinates time: 0.0005733966827392578\n",
      "Flip left handed input time: 0.00011897087097167969\n",
      "ScaLe heatmaps time 8.177757263183594e-05\n",
      "Time for processing 1 frame: 0.04338979721069336s\n"
     ]
    },
    {
     "name": "stderr",
     "output_type": "stream",
     "text": [
      "38it [00:06,  6.01it/s]"
     ]
    },
    {
     "name": "stdout",
     "output_type": "stream",
     "text": [
      "tensor([[0.0000]], device='cuda:0', grad_fn=<SigmoidBackward>)\n",
      "Handnet forward time: 0.007581233978271484\n",
      "Handsegnet forward time: 0.0009560585021972656\n",
      "s shape torch.Size([1, 2, 224, 224])\n",
      "for loop time 0.0029616355895996094\n",
      "hand mask sum: 0.0\n",
      "Calculate single highest scoring object time: 0.029900312423706055\n",
      "Crop and resize time: 0.0006089210510253906\n",
      "Posenet forward time: 0.0020134449005126953\n",
      "Posepriornet forward time: 0.0007123947143554688\n",
      "Viewpoint forward time: 0.0009365081787109375\n",
      "Get normalized 3d coordinates time: 0.0005843639373779297\n",
      "Flip left handed input time: 0.00011849403381347656\n",
      "ScaLe heatmaps time 8.96453857421875e-05\n",
      "Time for processing 1 frame: 0.044030189514160156s\n",
      "tensor([[0.0000]], device='cuda:0', grad_fn=<SigmoidBackward>)\n",
      "Handnet forward time: 0.00748753547668457\n",
      "Handsegnet forward time: 0.0009477138519287109\n",
      "s shape torch.Size([1, 2, 224, 224])\n",
      "for loop time 0.0029516220092773438\n",
      "hand mask sum: 0.0\n",
      "Calculate single highest scoring object time: 0.029573440551757812\n",
      "Crop and resize time: 0.0006062984466552734\n",
      "Posenet forward time: 0.0019712448120117188\n",
      "Posepriornet forward time: 0.0007138252258300781\n",
      "Viewpoint forward time: 0.0009546279907226562\n"
     ]
    },
    {
     "name": "stderr",
     "output_type": "stream",
     "text": [
      "\r",
      "39it [00:06,  5.63it/s]"
     ]
    },
    {
     "name": "stdout",
     "output_type": "stream",
     "text": [
      "Get normalized 3d coordinates time: 0.0008447170257568359\n",
      "Flip left handed input time: 0.00016617774963378906\n",
      "ScaLe heatmaps time 8.988380432128906e-05\n",
      "Time for processing 1 frame: 0.043938398361206055s\n",
      "tensor([[0.0000]], device='cuda:0', grad_fn=<SigmoidBackward>)\n",
      "Handnet forward time: 0.008019685745239258\n",
      "Handsegnet forward time: 0.0010273456573486328\n",
      "s shape torch.Size([1, 2, 224, 224])\n",
      "for loop time 0.0029799938201904297\n"
     ]
    },
    {
     "name": "stderr",
     "output_type": "stream",
     "text": [
      "\r",
      "40it [00:06,  5.70it/s]"
     ]
    },
    {
     "name": "stdout",
     "output_type": "stream",
     "text": [
      "hand mask sum: 0.0\n",
      "Calculate single highest scoring object time: 0.03169679641723633\n",
      "Crop and resize time: 0.0006537437438964844\n",
      "Posenet forward time: 0.0020389556884765625\n",
      "Posepriornet forward time: 0.0007762908935546875\n",
      "Viewpoint forward time: 0.0010528564453125\n",
      "Get normalized 3d coordinates time: 0.0009882450103759766\n",
      "Flip left handed input time: 0.0002124309539794922\n",
      "ScaLe heatmaps time 0.00011157989501953125\n",
      "Time for processing 1 frame: 0.04739093780517578s\n",
      "tensor([[0.0000]], device='cuda:0', grad_fn=<SigmoidBackward>)\n",
      "Handnet forward time: 0.007443428039550781\n",
      "Handsegnet forward time: 0.0009636878967285156\n",
      "s shape torch.Size([1, 2, 224, 224])\n",
      "for loop time 0.002928495407104492\n",
      "hand mask sum: 0.0\n",
      "Calculate single highest scoring object time: 0.028826236724853516\n",
      "Crop and resize time: 0.0006165504455566406\n",
      "Posenet forward time: 0.001967191696166992\n",
      "Posepriornet forward time: 0.0007748603820800781\n",
      "Viewpoint forward time: 0.0009577274322509766\n",
      "Get normalized 3d coordinates time: 0.0005853176116943359\n",
      "Flip left handed input time: 0.00011944770812988281\n",
      "ScaLe heatmaps time 8.487701416015625e-05\n",
      "Time for processing 1 frame: 0.04293513298034668s\n"
     ]
    },
    {
     "name": "stderr",
     "output_type": "stream",
     "text": [
      "42it [00:07,  5.87it/s]"
     ]
    },
    {
     "name": "stdout",
     "output_type": "stream",
     "text": [
      "tensor([[0.0000]], device='cuda:0', grad_fn=<SigmoidBackward>)\n",
      "Handnet forward time: 0.007444620132446289\n",
      "Handsegnet forward time: 0.0009419918060302734\n",
      "s shape torch.Size([1, 2, 224, 224])\n",
      "for loop time 0.0029358863830566406\n",
      "hand mask sum: 0.0\n",
      "Calculate single highest scoring object time: 0.029548168182373047\n",
      "Crop and resize time: 0.0006048679351806641\n",
      "Posenet forward time: 0.0019371509552001953\n",
      "Posepriornet forward time: 0.0007157325744628906\n",
      "Viewpoint forward time: 0.0009722709655761719\n",
      "Get normalized 3d coordinates time: 0.0005822181701660156\n",
      "Flip left handed input time: 0.00012254714965820312\n",
      "ScaLe heatmaps time 8.606910705566406e-05\n",
      "Time for processing 1 frame: 0.04357790946960449s\n",
      "tensor([[0.0000]], device='cuda:0', grad_fn=<SigmoidBackward>)\n",
      "Handnet forward time: 0.007910013198852539\n",
      "Handsegnet forward time: 0.0010025501251220703\n",
      "s shape torch.Size([1, 2, 224, 224])\n",
      "for loop time 0.002941608428955078\n",
      "hand mask sum: 0.0\n",
      "Calculate single highest scoring object time: 0.02930927276611328\n",
      "Crop and resize time: 0.0005908012390136719\n",
      "Posenet forward time: 0.0019292831420898438\n",
      "Posepriornet forward time: 0.0007166862487792969\n",
      "Viewpoint forward time: 0.0009288787841796875\n"
     ]
    },
    {
     "name": "stderr",
     "output_type": "stream",
     "text": [
      "\r",
      "43it [00:07,  5.90it/s]"
     ]
    },
    {
     "name": "stdout",
     "output_type": "stream",
     "text": [
      "Get normalized 3d coordinates time: 0.0008373260498046875\n",
      "Flip left handed input time: 0.000164031982421875\n",
      "ScaLe heatmaps time 0.000102996826171875\n",
      "Time for processing 1 frame: 0.04410076141357422s\n",
      "tensor([[0.0000]], device='cuda:0', grad_fn=<SigmoidBackward>)\n",
      "Handnet forward time: 0.007439851760864258\n",
      "Handsegnet forward time: 0.0010120868682861328\n",
      "s shape torch.Size([1, 2, 224, 224])\n",
      "for loop time 0.003106355667114258\n",
      "hand mask sum: 0.0\n",
      "Calculate single highest scoring object time: 0.029903411865234375\n",
      "Crop and resize time: 0.0006244182586669922\n",
      "Posenet forward time: 0.002048015594482422\n",
      "Posepriornet forward time: 0.0007421970367431641\n",
      "Viewpoint forward time: 0.0009527206420898438\n",
      "Get normalized 3d coordinates time: 0.0006067752838134766\n",
      "Flip left handed input time: 0.0001430511474609375\n",
      "ScaLe heatmaps time 0.00010156631469726562\n",
      "Time for processing 1 frame: 0.04416394233703613s\n"
     ]
    },
    {
     "name": "stderr",
     "output_type": "stream",
     "text": [
      "45it [00:07,  5.98it/s]"
     ]
    },
    {
     "name": "stdout",
     "output_type": "stream",
     "text": [
      "tensor([[0.0000]], device='cuda:0', grad_fn=<SigmoidBackward>)\n",
      "Handnet forward time: 0.008039236068725586\n",
      "Handsegnet forward time: 0.0010025501251220703\n",
      "s shape torch.Size([1, 2, 224, 224])\n",
      "for loop time 0.0029382705688476562\n",
      "hand mask sum: 0.0\n",
      "Calculate single highest scoring object time: 0.02942347526550293\n",
      "Crop and resize time: 0.0006170272827148438\n",
      "Posenet forward time: 0.001963376998901367\n",
      "Posepriornet forward time: 0.0007405281066894531\n",
      "Viewpoint forward time: 0.0009653568267822266\n",
      "Get normalized 3d coordinates time: 0.0006046295166015625\n",
      "Flip left handed input time: 0.0001442432403564453\n",
      "ScaLe heatmaps time 0.00010251998901367188\n",
      "Time for processing 1 frame: 0.04434514045715332s\n",
      "tensor([[0.0000]], device='cuda:0', grad_fn=<SigmoidBackward>)\n",
      "Handnet forward time: 0.0074541568756103516\n",
      "Handsegnet forward time: 0.0009419918060302734\n",
      "s shape torch.Size([1, 2, 224, 224])\n",
      "for loop time 0.0029573440551757812\n",
      "hand mask sum: 0.0\n",
      "Calculate single highest scoring object time: 0.029573678970336914\n",
      "Crop and resize time: 0.0006201267242431641\n",
      "Posenet forward time: 0.0020444393157958984\n",
      "Posepriornet forward time: 0.0007455348968505859\n",
      "Viewpoint forward time: 0.0009703636169433594\n",
      "Get normalized 3d coordinates time: 0.0006082057952880859\n"
     ]
    },
    {
     "name": "stderr",
     "output_type": "stream",
     "text": [
      "\r",
      "46it [00:07,  5.99it/s]"
     ]
    },
    {
     "name": "stdout",
     "output_type": "stream",
     "text": [
      "Flip left handed input time: 0.0003066062927246094\n",
      "ScaLe heatmaps time 0.00017452239990234375\n",
      "Time for processing 1 frame: 0.044097185134887695s\n",
      "tensor([[0.0000]], device='cuda:0', grad_fn=<SigmoidBackward>)\n",
      "Handnet forward time: 0.007475137710571289\n",
      "Handsegnet forward time: 0.0009584426879882812\n",
      "s shape torch.Size([1, 2, 224, 224])\n",
      "for loop time 0.0029604434967041016\n",
      "hand mask sum: 0.0\n",
      "Calculate single highest scoring object time: 0.02959609031677246\n",
      "Crop and resize time: 0.0006268024444580078\n",
      "Posenet forward time: 0.002007722854614258\n",
      "Posepriornet forward time: 0.0007500648498535156\n",
      "Viewpoint forward time: 0.0009582042694091797\n",
      "Get normalized 3d coordinates time: 0.0006062984466552734\n",
      "Flip left handed input time: 0.00014400482177734375\n",
      "ScaLe heatmaps time 0.00010204315185546875\n",
      "Time for processing 1 frame: 0.043828725814819336s\n"
     ]
    },
    {
     "name": "stderr",
     "output_type": "stream",
     "text": [
      "48it [00:08,  6.02it/s]"
     ]
    },
    {
     "name": "stdout",
     "output_type": "stream",
     "text": [
      "tensor([[0.0000]], device='cuda:0', grad_fn=<SigmoidBackward>)\n",
      "Handnet forward time: 0.007461071014404297\n",
      "Handsegnet forward time: 0.0009531974792480469\n",
      "s shape torch.Size([1, 2, 224, 224])\n",
      "for loop time 0.0029687881469726562\n",
      "hand mask sum: 0.0\n",
      "Calculate single highest scoring object time: 0.029168367385864258\n",
      "Crop and resize time: 0.0006303787231445312\n",
      "Posenet forward time: 0.0020029544830322266\n",
      "Posepriornet forward time: 0.0007510185241699219\n",
      "Viewpoint forward time: 0.0009636878967285156\n",
      "Get normalized 3d coordinates time: 0.0006139278411865234\n",
      "Flip left handed input time: 0.0001430511474609375\n",
      "ScaLe heatmaps time 0.00010442733764648438\n",
      "Time for processing 1 frame: 0.04343271255493164s\n",
      "tensor([[0.0000]], device='cuda:0', grad_fn=<SigmoidBackward>)\n",
      "Handnet forward time: 0.007918119430541992\n",
      "Handsegnet forward time: 0.0010094642639160156\n",
      "s shape torch.Size([1, 2, 224, 224])\n",
      "for loop time 0.002947092056274414\n",
      "hand mask sum: 0.0\n",
      "Calculate single highest scoring object time: 0.02965712547302246\n",
      "Crop and resize time: 0.0006124973297119141\n",
      "Posenet forward time: 0.001979351043701172\n",
      "Posepriornet forward time: 0.0007445812225341797\n",
      "Viewpoint forward time: 0.0009589195251464844\n"
     ]
    },
    {
     "name": "stderr",
     "output_type": "stream",
     "text": [
      "\r",
      "49it [00:08,  6.00it/s]"
     ]
    },
    {
     "name": "stdout",
     "output_type": "stream",
     "text": [
      "Get normalized 3d coordinates time: 0.0008516311645507812\n",
      "Flip left handed input time: 0.0001842975616455078\n",
      "ScaLe heatmaps time 0.00010395050048828125\n",
      "Time for processing 1 frame: 0.044677019119262695s\n",
      "tensor([[0.0000]], device='cuda:0', grad_fn=<SigmoidBackward>)\n",
      "Handnet forward time: 0.008010149002075195\n",
      "Handsegnet forward time: 0.0010204315185546875\n",
      "s shape torch.Size([1, 2, 224, 224])\n",
      "for loop time 0.0029494762420654297\n",
      "hand mask sum: 0.0\n",
      "Calculate single highest scoring object time: 0.02955794334411621\n",
      "Crop and resize time: 0.0006401538848876953\n",
      "Posenet forward time: 0.001981973648071289\n",
      "Posepriornet forward time: 0.0007531642913818359\n",
      "Viewpoint forward time: 0.0009679794311523438\n",
      "Get normalized 3d coordinates time: 0.0008113384246826172\n",
      "Flip left handed input time: 0.0001456737518310547\n",
      "ScaLe heatmaps time 0.00010061264038085938\n",
      "Time for processing 1 frame: 0.04463338851928711s\n"
     ]
    },
    {
     "name": "stderr",
     "output_type": "stream",
     "text": [
      "51it [00:08,  6.02it/s]"
     ]
    },
    {
     "name": "stdout",
     "output_type": "stream",
     "text": [
      "tensor([[0.0000]], device='cuda:0', grad_fn=<SigmoidBackward>)\n",
      "Handnet forward time: 0.008108854293823242\n",
      "Handsegnet forward time: 0.0010094642639160156\n",
      "s shape torch.Size([1, 2, 224, 224])\n",
      "for loop time 0.0029611587524414062\n",
      "hand mask sum: 0.0\n",
      "Calculate single highest scoring object time: 0.029697179794311523\n",
      "Crop and resize time: 0.0006194114685058594\n",
      "Posenet forward time: 0.001964092254638672\n",
      "Posepriornet forward time: 0.0007424354553222656\n",
      "Viewpoint forward time: 0.0009617805480957031\n",
      "Get normalized 3d coordinates time: 0.0006127357482910156\n",
      "Flip left handed input time: 0.00014495849609375\n",
      "ScaLe heatmaps time 0.00010156631469726562\n",
      "Time for processing 1 frame: 0.04469585418701172s\n",
      "tensor([[0.0000]], device='cuda:0', grad_fn=<SigmoidBackward>)\n",
      "Handnet forward time: 0.007972240447998047\n",
      "Handsegnet forward time: 0.0010128021240234375\n",
      "s shape torch.Size([1, 2, 224, 224])\n",
      "for loop time 0.003010272979736328\n",
      "hand mask sum: 0.0\n",
      "Calculate single highest scoring object time: 0.029841184616088867\n",
      "Crop and resize time: 0.0006163120269775391\n",
      "Posenet forward time: 0.0019826889038085938\n",
      "Posepriornet forward time: 0.0007386207580566406\n",
      "Viewpoint forward time: 0.0009682178497314453\n"
     ]
    },
    {
     "name": "stderr",
     "output_type": "stream",
     "text": [
      "\r",
      "52it [00:08,  5.96it/s]"
     ]
    },
    {
     "name": "stdout",
     "output_type": "stream",
     "text": [
      "Get normalized 3d coordinates time: 0.0009100437164306641\n",
      "Flip left handed input time: 0.0001850128173828125\n",
      "ScaLe heatmaps time 0.00010013580322265625\n",
      "Time for processing 1 frame: 0.044988155364990234s\n",
      "tensor([[0.0000]], device='cuda:0', grad_fn=<SigmoidBackward>)\n",
      "Handnet forward time: 0.008125782012939453\n",
      "Handsegnet forward time: 0.0011477470397949219\n",
      "s shape torch.Size([1, 2, 224, 224])\n",
      "for loop time 0.0030336380004882812\n",
      "hand mask sum: 0.0\n",
      "Calculate single highest scoring object time: 0.03207206726074219\n",
      "Crop and resize time: 0.0006263256072998047\n",
      "Posenet forward time: 0.0020313262939453125\n",
      "Posepriornet forward time: 0.0007741451263427734\n",
      "Viewpoint forward time: 0.0009734630584716797\n",
      "Get normalized 3d coordinates time: 0.0006270408630371094\n",
      "Flip left handed input time: 0.0001513957977294922\n",
      "ScaLe heatmaps time 0.00010347366333007812\n",
      "Time for processing 1 frame: 0.0471196174621582s\n"
     ]
    },
    {
     "name": "stderr",
     "output_type": "stream",
     "text": [
      "54it [00:09,  5.92it/s]"
     ]
    },
    {
     "name": "stdout",
     "output_type": "stream",
     "text": [
      "tensor([[0.0000]], device='cuda:0', grad_fn=<SigmoidBackward>)\n",
      "Handnet forward time: 0.008102178573608398\n",
      "Handsegnet forward time: 0.0010771751403808594\n",
      "s shape torch.Size([1, 2, 224, 224])\n",
      "for loop time 0.0030274391174316406\n",
      "hand mask sum: 0.0\n",
      "Calculate single highest scoring object time: 0.028511524200439453\n",
      "Crop and resize time: 0.0006051063537597656\n",
      "Posenet forward time: 0.0019533634185791016\n",
      "Posepriornet forward time: 0.0007119178771972656\n",
      "Viewpoint forward time: 0.0009667873382568359\n",
      "Get normalized 3d coordinates time: 0.0005941390991210938\n",
      "Flip left handed input time: 0.00012111663818359375\n",
      "ScaLe heatmaps time 9.059906005859375e-05\n",
      "Time for processing 1 frame: 0.043279170989990234s\n",
      "tensor([[0.0000]], device='cuda:0', grad_fn=<SigmoidBackward>)\n",
      "Handnet forward time: 0.00943756103515625\n",
      "Handsegnet forward time: 0.0010914802551269531\n",
      "s shape torch.Size([1, 2, 224, 224])\n"
     ]
    },
    {
     "name": "stderr",
     "output_type": "stream",
     "text": [
      "\r",
      "55it [00:09,  5.82it/s]"
     ]
    },
    {
     "name": "stdout",
     "output_type": "stream",
     "text": [
      "for loop time 0.0038154125213623047\n",
      "hand mask sum: 0.0\n",
      "Calculate single highest scoring object time: 0.03165483474731445\n",
      "Crop and resize time: 0.0006759166717529297\n",
      "Posenet forward time: 0.0022623538970947266\n",
      "Posepriornet forward time: 0.0007746219635009766\n",
      "Viewpoint forward time: 0.0009391307830810547\n",
      "Get normalized 3d coordinates time: 0.0006046295166015625\n",
      "Flip left handed input time: 0.00011706352233886719\n",
      "ScaLe heatmaps time 8.916854858398438e-05\n",
      "Time for processing 1 frame: 0.0482790470123291s\n",
      "tensor([[0.0000]], device='cuda:0', grad_fn=<SigmoidBackward>)\n",
      "Handnet forward time: 0.008881568908691406\n",
      "Handsegnet forward time: 0.001561880111694336\n",
      "s shape torch.Size([1, 2, 224, 224])\n",
      "for loop time 0.003828763961791992\n",
      "hand mask sum: 0.0\n",
      "Calculate single highest scoring object time: 0.030368566513061523\n",
      "Crop and resize time: 0.0006256103515625\n",
      "Posenet forward time: 0.0021326541900634766\n",
      "Posepriornet forward time: 0.000762939453125\n",
      "Viewpoint forward time: 0.0009477138519287109\n",
      "Get normalized 3d coordinates time: 0.0006103515625\n",
      "Flip left handed input time: 0.00012183189392089844\n",
      "ScaLe heatmaps time 8.988380432128906e-05\n",
      "Time for processing 1 frame: 0.04676532745361328s\n"
     ]
    },
    {
     "name": "stderr",
     "output_type": "stream",
     "text": [
      "57it [00:09,  5.75it/s]"
     ]
    },
    {
     "name": "stdout",
     "output_type": "stream",
     "text": [
      "tensor([[0.0000]], device='cuda:0', grad_fn=<SigmoidBackward>)\n",
      "Handnet forward time: 0.008993864059448242\n",
      "Handsegnet forward time: 0.0010418891906738281\n",
      "s shape torch.Size([1, 2, 224, 224])\n",
      "for loop time 0.0030198097229003906\n",
      "hand mask sum: 0.0\n",
      "Calculate single highest scoring object time: 0.03241705894470215\n",
      "Crop and resize time: 0.0006077289581298828\n",
      "Posenet forward time: 0.0019655227661132812\n",
      "Posepriornet forward time: 0.0007090568542480469\n",
      "Viewpoint forward time: 0.0009386539459228516\n",
      "Get normalized 3d coordinates time: 0.0005893707275390625\n",
      "Flip left handed input time: 0.0001201629638671875\n",
      "ScaLe heatmaps time 8.940696716308594e-05\n",
      "Time for processing 1 frame: 0.04804062843322754s\n",
      "tensor([[0.0000]], device='cuda:0', grad_fn=<SigmoidBackward>)\n",
      "Handnet forward time: 0.008928537368774414\n",
      "Handsegnet forward time: 0.0010864734649658203\n"
     ]
    },
    {
     "name": "stderr",
     "output_type": "stream",
     "text": [
      "\r",
      "58it [00:09,  5.25it/s]"
     ]
    },
    {
     "name": "stdout",
     "output_type": "stream",
     "text": [
      "s shape torch.Size([1, 2, 224, 224])\n",
      "for loop time 0.004019260406494141\n",
      "hand mask sum: 0.0\n",
      "Calculate single highest scoring object time: 0.031183481216430664\n",
      "Crop and resize time: 0.0016078948974609375\n",
      "Posenet forward time: 0.00254058837890625\n",
      "Posepriornet forward time: 0.0008995532989501953\n",
      "Viewpoint forward time: 0.0009458065032958984\n",
      "Get normalized 3d coordinates time: 0.0005996227264404297\n",
      "Flip left handed input time: 0.00012230873107910156\n",
      "ScaLe heatmaps time 8.916854858398438e-05\n",
      "Time for processing 1 frame: 0.04869794845581055s\n",
      "tensor([[0.0000]], device='cuda:0', grad_fn=<SigmoidBackward>)\n",
      "Handnet forward time: 0.008088350296020508\n"
     ]
    },
    {
     "name": "stderr",
     "output_type": "stream",
     "text": [
      "\r",
      "59it [00:09,  5.35it/s]"
     ]
    },
    {
     "name": "stdout",
     "output_type": "stream",
     "text": [
      "Handsegnet forward time: 0.0011491775512695312\n",
      "s shape torch.Size([1, 2, 224, 224])\n",
      "for loop time 0.002996683120727539\n",
      "hand mask sum: 0.0\n",
      "Calculate single highest scoring object time: 0.03231072425842285\n",
      "Crop and resize time: 0.0006051063537597656\n",
      "Posenet forward time: 0.0021572113037109375\n",
      "Posepriornet forward time: 0.0008485317230224609\n",
      "Viewpoint forward time: 0.0010237693786621094\n",
      "Get normalized 3d coordinates time: 0.0006983280181884766\n",
      "Flip left handed input time: 0.0001366138458251953\n",
      "ScaLe heatmaps time 9.560585021972656e-05\n",
      "Time for processing 1 frame: 0.04783821105957031s\n",
      "tensor([[0.0000]], device='cuda:0', grad_fn=<SigmoidBackward>)\n",
      "Handnet forward time: 0.00893855094909668\n",
      "Handsegnet forward time: 0.0010504722595214844\n"
     ]
    },
    {
     "name": "stderr",
     "output_type": "stream",
     "text": [
      "\r",
      "60it [00:10,  5.39it/s]"
     ]
    },
    {
     "name": "stdout",
     "output_type": "stream",
     "text": [
      "s shape torch.Size([1, 2, 224, 224])\n",
      "for loop time 0.00324249267578125\n",
      "hand mask sum: 0.0\n",
      "Calculate single highest scoring object time: 0.03246021270751953\n",
      "Crop and resize time: 0.0007176399230957031\n",
      "Posenet forward time: 0.002536296844482422\n",
      "Posepriornet forward time: 0.0008554458618164062\n",
      "Viewpoint forward time: 0.001131296157836914\n",
      "Get normalized 3d coordinates time: 0.0007257461547851562\n",
      "Flip left handed input time: 0.0001404285430908203\n",
      "ScaLe heatmaps time 0.00012803077697753906\n",
      "Time for processing 1 frame: 0.049332618713378906s\n",
      "tensor([[0.0000]], device='cuda:0', grad_fn=<SigmoidBackward>)\n",
      "Handnet forward time: 0.008973121643066406\n",
      "Handsegnet forward time: 0.0012347698211669922\n",
      "s shape torch.Size([1, 2, 224, 224])\n",
      "for loop time 0.0032091140747070312\n",
      "hand mask sum: 0.0\n",
      "Calculate single highest scoring object time: 0.03206157684326172\n",
      "Crop and resize time: 0.0007116794586181641\n",
      "Posenet forward time: 0.002428770065307617\n",
      "Posepriornet forward time: 0.0008389949798583984\n",
      "Viewpoint forward time: 0.0011112689971923828\n",
      "Get normalized 3d coordinates time: 0.0006988048553466797\n",
      "Flip left handed input time: 0.00012969970703125\n",
      "ScaLe heatmaps time 4.029273986816406e-05\n",
      "Time for processing 1 frame: 0.04893183708190918s\n"
     ]
    },
    {
     "name": "stderr",
     "output_type": "stream",
     "text": [
      "62it [00:10,  5.49it/s]"
     ]
    },
    {
     "name": "stdout",
     "output_type": "stream",
     "text": [
      "tensor([[0.0000]], device='cuda:0', grad_fn=<SigmoidBackward>)\n",
      "Handnet forward time: 0.008955955505371094\n",
      "Handsegnet forward time: 0.0010445117950439453\n",
      "s shape torch.Size([1, 2, 224, 224])\n",
      "for loop time 0.0029740333557128906\n",
      "hand mask sum: 0.0\n",
      "Calculate single highest scoring object time: 0.03166770935058594\n",
      "Crop and resize time: 0.0006096363067626953\n",
      "Posenet forward time: 0.001960277557373047\n",
      "Posepriornet forward time: 0.0007073879241943359\n",
      "Viewpoint forward time: 0.0009391307830810547\n",
      "Get normalized 3d coordinates time: 0.0005917549133300781\n",
      "Flip left handed input time: 0.00011992454528808594\n",
      "ScaLe heatmaps time 8.869171142578125e-05\n",
      "Time for processing 1 frame: 0.04721879959106445s\n",
      "tensor([[0.0000]], device='cuda:0', grad_fn=<SigmoidBackward>)\n",
      "Handnet forward time: 0.008851051330566406\n",
      "Handsegnet forward time: 0.0010569095611572266\n"
     ]
    },
    {
     "name": "stderr",
     "output_type": "stream",
     "text": [
      "\r",
      "63it [00:10,  5.47it/s]"
     ]
    },
    {
     "name": "stdout",
     "output_type": "stream",
     "text": [
      "s shape torch.Size([1, 2, 224, 224])\n",
      "for loop time 0.003676891326904297\n",
      "hand mask sum: 0.0\n",
      "Calculate single highest scoring object time: 0.030538082122802734\n",
      "Crop and resize time: 0.0006356239318847656\n",
      "Posenet forward time: 0.0022144317626953125\n",
      "Posepriornet forward time: 0.0007960796356201172\n",
      "Viewpoint forward time: 0.0009491443634033203\n",
      "Get normalized 3d coordinates time: 0.0006148815155029297\n",
      "Flip left handed input time: 0.00011992454528808594\n",
      "ScaLe heatmaps time 8.7738037109375e-05\n",
      "Time for processing 1 frame: 0.04651021957397461s\n",
      "tensor([[0.0000]], device='cuda:0', grad_fn=<SigmoidBackward>)\n",
      "Handnet forward time: 0.009088277816772461\n",
      "Handsegnet forward time: 0.001058816909790039\n",
      "s shape torch.Size([1, 2, 224, 224])\n",
      "for loop time 0.005337715148925781\n",
      "hand mask sum: 0.0\n",
      "Calculate single highest scoring object time: 0.032505035400390625\n",
      "Crop and resize time: 0.0007956027984619141\n",
      "Posenet forward time: 0.002541780471801758\n",
      "Posepriornet forward time: 0.0008549690246582031\n",
      "Viewpoint forward time: 0.0011188983917236328\n",
      "Get normalized 3d coordinates time: 0.0007121562957763672\n",
      "Flip left handed input time: 0.00014925003051757812\n",
      "ScaLe heatmaps time 8.368492126464844e-05\n",
      "Time for processing 1 frame: 0.04961538314819336s\n"
     ]
    },
    {
     "name": "stderr",
     "output_type": "stream",
     "text": [
      "65it [00:11,  5.64it/s]"
     ]
    },
    {
     "name": "stdout",
     "output_type": "stream",
     "text": [
      "tensor([[0.0000]], device='cuda:0', grad_fn=<SigmoidBackward>)\n",
      "Handnet forward time: 0.008153915405273438\n",
      "Handsegnet forward time: 0.0011603832244873047\n",
      "s shape torch.Size([1, 2, 224, 224])\n",
      "for loop time 0.003010272979736328\n",
      "hand mask sum: 0.0\n",
      "Calculate single highest scoring object time: 0.02959418296813965\n",
      "Crop and resize time: 0.0005967617034912109\n",
      "Posenet forward time: 0.0020215511322021484\n",
      "Posepriornet forward time: 0.0007236003875732422\n",
      "Viewpoint forward time: 0.0009407997131347656\n",
      "Get normalized 3d coordinates time: 0.0005986690521240234\n",
      "Flip left handed input time: 0.00012063980102539062\n",
      "ScaLe heatmaps time 8.320808410644531e-05\n",
      "Time for processing 1 frame: 0.044541120529174805s\n",
      "tensor([[0.0000]], device='cuda:0', grad_fn=<SigmoidBackward>)\n",
      "Handnet forward time: 0.008023262023925781\n",
      "Handsegnet forward time: 0.0011904239654541016\n",
      "s shape torch.Size([1, 2, 224, 224])\n",
      "for loop time 0.002970457077026367\n",
      "hand mask sum: 0.0\n",
      "Calculate single highest scoring object time: 0.02940654754638672\n",
      "Crop and resize time: 0.0006058216094970703\n",
      "Posenet forward time: 0.002069234848022461\n",
      "Posepriornet forward time: 0.0007386207580566406\n"
     ]
    },
    {
     "name": "stderr",
     "output_type": "stream",
     "text": [
      "\r",
      "66it [00:11,  5.69it/s]"
     ]
    },
    {
     "name": "stdout",
     "output_type": "stream",
     "text": [
      "Viewpoint forward time: 0.0012578964233398438\n",
      "Get normalized 3d coordinates time: 0.0009791851043701172\n",
      "Flip left handed input time: 0.0001876354217529297\n",
      "ScaLe heatmaps time 0.00010395050048828125\n",
      "Time for processing 1 frame: 0.04537677764892578s\n",
      "tensor([[0.0000]], device='cuda:0', grad_fn=<SigmoidBackward>)\n",
      "Handnet forward time: 0.008111953735351562\n",
      "Handsegnet forward time: 0.0010275840759277344\n",
      "s shape torch.Size([1, 2, 224, 224])\n",
      "for loop time 0.003342151641845703\n",
      "hand mask sum: 0.0\n",
      "Calculate single highest scoring object time: 0.029555320739746094\n",
      "Crop and resize time: 0.0006268024444580078\n",
      "Posenet forward time: 0.001983165740966797\n",
      "Posepriornet forward time: 0.0007185935974121094\n",
      "Viewpoint forward time: 0.0009534358978271484\n",
      "Get normalized 3d coordinates time: 0.0005879402160644531\n",
      "Flip left handed input time: 0.00012302398681640625\n",
      "ScaLe heatmaps time 9.012222290039062e-05\n",
      "Time for processing 1 frame: 0.044393062591552734s\n"
     ]
    },
    {
     "name": "stderr",
     "output_type": "stream",
     "text": [
      "68it [00:11,  5.81it/s]"
     ]
    },
    {
     "name": "stdout",
     "output_type": "stream",
     "text": [
      "tensor([[0.0000]], device='cuda:0', grad_fn=<SigmoidBackward>)\n",
      "Handnet forward time: 0.008234024047851562\n",
      "Handsegnet forward time: 0.0010399818420410156\n",
      "s shape torch.Size([1, 2, 224, 224])\n",
      "for loop time 0.003206491470336914\n",
      "hand mask sum: 0.0\n",
      "Calculate single highest scoring object time: 0.029572010040283203\n",
      "Crop and resize time: 0.0006008148193359375\n",
      "Posenet forward time: 0.0019860267639160156\n",
      "Posepriornet forward time: 0.0007202625274658203\n",
      "Viewpoint forward time: 0.0009453296661376953\n",
      "Get normalized 3d coordinates time: 0.0005807876586914062\n",
      "Flip left handed input time: 0.00011801719665527344\n",
      "ScaLe heatmaps time 8.726119995117188e-05\n",
      "Time for processing 1 frame: 0.04441714286804199s\n",
      "tensor([[0.0000]], device='cuda:0', grad_fn=<SigmoidBackward>)\n",
      "Handnet forward time: 0.008962154388427734\n",
      "Handsegnet forward time: 0.0010542869567871094\n"
     ]
    },
    {
     "name": "stderr",
     "output_type": "stream",
     "text": [
      "\r",
      "69it [00:11,  5.79it/s]"
     ]
    },
    {
     "name": "stdout",
     "output_type": "stream",
     "text": [
      "s shape torch.Size([1, 2, 224, 224])\n",
      "for loop time 0.0029976367950439453\n",
      "hand mask sum: 0.0\n",
      "Calculate single highest scoring object time: 0.03168511390686035\n",
      "Crop and resize time: 0.0006227493286132812\n",
      "Posenet forward time: 0.002002716064453125\n",
      "Posepriornet forward time: 0.0007240772247314453\n",
      "Viewpoint forward time: 0.0009605884552001953\n",
      "Get normalized 3d coordinates time: 0.0005872249603271484\n",
      "Flip left handed input time: 0.00011992454528808594\n",
      "ScaLe heatmaps time 8.726119995117188e-05\n",
      "Time for processing 1 frame: 0.04739022254943848s\n",
      "tensor([[0.0000]], device='cuda:0', grad_fn=<SigmoidBackward>)\n",
      "Handnet forward time: 0.008045196533203125\n",
      "Handsegnet forward time: 0.001049041748046875\n",
      "s shape torch.Size([1, 2, 224, 224])\n",
      "for loop time 0.0029845237731933594\n",
      "hand mask sum: 0.0\n",
      "Calculate single highest scoring object time: 0.030081748962402344\n",
      "Crop and resize time: 0.0006029605865478516\n",
      "Posenet forward time: 0.001996278762817383\n",
      "Posepriornet forward time: 0.0007252693176269531\n",
      "Viewpoint forward time: 0.0010230541229248047\n",
      "Get normalized 3d coordinates time: 0.0006003379821777344\n",
      "Flip left handed input time: 0.00013136863708496094\n",
      "ScaLe heatmaps time 8.749961853027344e-05\n",
      "Time for processing 1 frame: 0.044966697692871094s\n"
     ]
    },
    {
     "name": "stderr",
     "output_type": "stream",
     "text": [
      "71it [00:12,  5.63it/s]"
     ]
    },
    {
     "name": "stdout",
     "output_type": "stream",
     "text": [
      "tensor([[0.0000]], device='cuda:0', grad_fn=<SigmoidBackward>)\n",
      "Handnet forward time: 0.007736682891845703\n",
      "Handsegnet forward time: 0.0015110969543457031\n",
      "s shape torch.Size([1, 2, 224, 224])\n",
      "for loop time 0.00295257568359375\n",
      "hand mask sum: 0.0\n",
      "Calculate single highest scoring object time: 0.028764724731445312\n",
      "Crop and resize time: 0.0009839534759521484\n",
      "Posenet forward time: 0.001989126205444336\n",
      "Posepriornet forward time: 0.0007271766662597656\n",
      "Viewpoint forward time: 0.0009520053863525391\n",
      "Get normalized 3d coordinates time: 0.000675201416015625\n",
      "Flip left handed input time: 0.00017213821411132812\n",
      "ScaLe heatmaps time 0.00010204315185546875\n",
      "Time for processing 1 frame: 0.044379234313964844s\n",
      "tensor([[0.0000]], device='cuda:0', grad_fn=<SigmoidBackward>)\n",
      "Handnet forward time: 0.008630752563476562\n",
      "Handsegnet forward time: 0.0012569427490234375\n"
     ]
    },
    {
     "name": "stderr",
     "output_type": "stream",
     "text": [
      "\r",
      "72it [00:12,  5.61it/s]"
     ]
    },
    {
     "name": "stdout",
     "output_type": "stream",
     "text": [
      "s shape torch.Size([1, 2, 224, 224])\n",
      "for loop time 0.003278493881225586\n",
      "hand mask sum: 0.0\n",
      "Calculate single highest scoring object time: 0.03264641761779785\n",
      "Crop and resize time: 0.0007097721099853516\n",
      "Posenet forward time: 0.0024335384368896484\n",
      "Posepriornet forward time: 0.0008492469787597656\n",
      "Viewpoint forward time: 0.0011258125305175781\n",
      "Get normalized 3d coordinates time: 0.0006778240203857422\n",
      "Flip left handed input time: 0.00013685226440429688\n",
      "ScaLe heatmaps time 9.417533874511719e-05\n",
      "Time for processing 1 frame: 0.04924821853637695s\n",
      "tensor([[0.0000]], device='cuda:0', grad_fn=<SigmoidBackward>)\n",
      "Handnet forward time: 0.008603096008300781\n",
      "Handsegnet forward time: 0.0010304450988769531\n",
      "s shape torch.Size([1, 2, 224, 224])\n",
      "for loop time 0.0030040740966796875\n",
      "hand mask sum: 0.0\n",
      "Calculate single highest scoring object time: 0.02955484390258789\n",
      "Crop and resize time: 0.0006120204925537109\n",
      "Posenet forward time: 0.0019474029541015625\n",
      "Posepriornet forward time: 0.0007109642028808594\n",
      "Viewpoint forward time: 0.0009655952453613281\n",
      "Get normalized 3d coordinates time: 0.0005941390991210938\n",
      "Flip left handed input time: 0.00012159347534179688\n",
      "ScaLe heatmaps time 9.799003601074219e-05\n",
      "Time for processing 1 frame: 0.04485964775085449s\n"
     ]
    },
    {
     "name": "stderr",
     "output_type": "stream",
     "text": [
      "74it [00:12,  5.57it/s]"
     ]
    },
    {
     "name": "stdout",
     "output_type": "stream",
     "text": [
      "tensor([[0.0000]], device='cuda:0', grad_fn=<SigmoidBackward>)\n",
      "Handnet forward time: 0.008094549179077148\n",
      "Handsegnet forward time: 0.0010356903076171875\n",
      "s shape torch.Size([1, 2, 224, 224])\n",
      "for loop time 0.0029637813568115234\n",
      "hand mask sum: 0.0\n",
      "Calculate single highest scoring object time: 0.02952408790588379\n",
      "Crop and resize time: 0.0005972385406494141\n",
      "Posenet forward time: 0.002019166946411133\n",
      "Posepriornet forward time: 0.0006740093231201172\n",
      "Viewpoint forward time: 0.0012347698211669922\n",
      "Get normalized 3d coordinates time: 0.0007314682006835938\n",
      "Flip left handed input time: 0.00014591217041015625\n",
      "ScaLe heatmaps time 3.910064697265625e-05\n",
      "Time for processing 1 frame: 0.04489922523498535s\n",
      "tensor([[0.0000]], device='cuda:0', grad_fn=<SigmoidBackward>)\n",
      "Handnet forward time: 0.008010149002075195\n",
      "Handsegnet forward time: 0.0012311935424804688\n"
     ]
    },
    {
     "name": "stderr",
     "output_type": "stream",
     "text": [
      "\r",
      "75it [00:12,  5.60it/s]"
     ]
    },
    {
     "name": "stdout",
     "output_type": "stream",
     "text": [
      "s shape torch.Size([1, 2, 224, 224])\n",
      "for loop time 0.0029931068420410156\n",
      "hand mask sum: 0.0\n",
      "Calculate single highest scoring object time: 0.03290128707885742\n",
      "Crop and resize time: 0.0006561279296875\n",
      "Posenet forward time: 0.0029137134552001953\n",
      "Posepriornet forward time: 0.0008249282836914062\n",
      "Viewpoint forward time: 0.0009481906890869141\n",
      "Get normalized 3d coordinates time: 0.0006039142608642578\n",
      "Flip left handed input time: 0.00012159347534179688\n",
      "ScaLe heatmaps time 8.606910705566406e-05\n",
      "Time for processing 1 frame: 0.04893898963928223s\n",
      "tensor([[0.0000]], device='cuda:0', grad_fn=<SigmoidBackward>)\n",
      "Handnet forward time: 0.009426593780517578\n",
      "Handsegnet forward time: 0.0011050701141357422\n",
      "s shape torch.Size([1, 2, 224, 224])\n",
      "for loop time 0.0029702186584472656\n",
      "hand mask sum: 0.0\n",
      "Calculate single highest scoring object time: 0.03195071220397949\n",
      "Crop and resize time: 0.0007205009460449219\n",
      "Posenet forward time: 0.002436399459838867\n",
      "Posepriornet forward time: 0.0008463859558105469\n",
      "Viewpoint forward time: 0.0011134147644042969\n",
      "Get normalized 3d coordinates time: 0.0007047653198242188\n",
      "Flip left handed input time: 0.00013136863708496094\n",
      "ScaLe heatmaps time 9.584426879882812e-05\n",
      "Time for processing 1 frame: 0.049249887466430664s\n"
     ]
    },
    {
     "name": "stderr",
     "output_type": "stream",
     "text": [
      "77it [00:13,  5.26it/s]"
     ]
    },
    {
     "name": "stdout",
     "output_type": "stream",
     "text": [
      "tensor([[0.0000]], device='cuda:0', grad_fn=<SigmoidBackward>)\n",
      "Handnet forward time: 0.009986162185668945\n",
      "Handsegnet forward time: 0.0012388229370117188\n",
      "s shape torch.Size([1, 2, 224, 224])\n",
      "for loop time 0.003531217575073242\n",
      "hand mask sum: 0.0\n",
      "Calculate single highest scoring object time: 0.0335693359375\n",
      "Crop and resize time: 0.0007956027984619141\n",
      "Posenet forward time: 0.002526998519897461\n",
      "Posepriornet forward time: 0.0008814334869384766\n",
      "Viewpoint forward time: 0.0010476112365722656\n",
      "Get normalized 3d coordinates time: 0.0009822845458984375\n",
      "Flip left handed input time: 0.0001270771026611328\n",
      "ScaLe heatmaps time 8.726119995117188e-05\n",
      "Time for processing 1 frame: 0.052040815353393555s\n"
     ]
    },
    {
     "name": "stderr",
     "output_type": "stream",
     "text": [
      "\r",
      "78it [00:13,  5.25it/s]"
     ]
    },
    {
     "name": "stdout",
     "output_type": "stream",
     "text": [
      "tensor([[0.0000]], device='cuda:0', grad_fn=<SigmoidBackward>)\n",
      "Handnet forward time: 0.008465051651000977\n",
      "Handsegnet forward time: 0.0015287399291992188\n",
      "s shape torch.Size([1, 2, 224, 224])\n",
      "for loop time 0.0032083988189697266\n",
      "hand mask sum: 0.0\n",
      "Calculate single highest scoring object time: 0.03207540512084961\n",
      "Crop and resize time: 0.0006892681121826172\n",
      "Posenet forward time: 0.002437114715576172\n",
      "Posepriornet forward time: 0.0008509159088134766\n",
      "Viewpoint forward time: 0.0011165142059326172\n",
      "Get normalized 3d coordinates time: 0.0007219314575195312\n",
      "Flip left handed input time: 0.00013947486877441406\n",
      "ScaLe heatmaps time 8.320808410644531e-05\n",
      "Time for processing 1 frame: 0.048619747161865234s\n",
      "tensor([[0.0000]], device='cuda:0', grad_fn=<SigmoidBackward>)\n",
      "Handnet forward time: 0.008118152618408203\n",
      "Handsegnet forward time: 0.0010650157928466797\n"
     ]
    },
    {
     "name": "stderr",
     "output_type": "stream",
     "text": [
      "\r",
      "79it [00:13,  5.42it/s]"
     ]
    },
    {
     "name": "stdout",
     "output_type": "stream",
     "text": [
      "s shape torch.Size([1, 2, 224, 224])\n",
      "for loop time 0.0029573440551757812\n",
      "hand mask sum: 0.0\n",
      "Calculate single highest scoring object time: 0.030153751373291016\n",
      "Crop and resize time: 0.0006043910980224609\n",
      "Posenet forward time: 0.0019903182983398438\n",
      "Posepriornet forward time: 0.0007781982421875\n",
      "Viewpoint forward time: 0.0009462833404541016\n",
      "Get normalized 3d coordinates time: 0.0005774497985839844\n",
      "Flip left handed input time: 0.00012159347534179688\n",
      "ScaLe heatmaps time 8.487701416015625e-05\n",
      "Time for processing 1 frame: 0.04506278038024902s\n",
      "tensor([[0.0000]], device='cuda:0', grad_fn=<SigmoidBackward>)\n",
      "Handnet forward time: 0.009515047073364258\n",
      "Handsegnet forward time: 0.0010368824005126953\n",
      "s shape torch.Size([1, 2, 224, 224])\n",
      "for loop time 0.004799842834472656\n",
      "hand mask sum: 0.0\n",
      "Calculate single highest scoring object time: 0.03153848648071289\n",
      "Crop and resize time: 0.0006165504455566406\n",
      "Posenet forward time: 0.001970529556274414\n",
      "Posepriornet forward time: 0.0007092952728271484\n",
      "Viewpoint forward time: 0.0009605884552001953\n",
      "Get normalized 3d coordinates time: 0.0006189346313476562\n",
      "Flip left handed input time: 0.00014448165893554688\n",
      "ScaLe heatmaps time 8.988380432128906e-05\n",
      "Time for processing 1 frame: 0.04775691032409668s\n"
     ]
    },
    {
     "name": "stderr",
     "output_type": "stream",
     "text": [
      "81it [00:13,  5.51it/s]"
     ]
    },
    {
     "name": "stdout",
     "output_type": "stream",
     "text": [
      "tensor([[0.0000]], device='cuda:0', grad_fn=<SigmoidBackward>)\n",
      "Handnet forward time: 0.008161544799804688\n",
      "Handsegnet forward time: 0.0010523796081542969\n",
      "s shape torch.Size([1, 2, 224, 224])\n",
      "for loop time 0.002951383590698242\n",
      "hand mask sum: 0.0\n",
      "Calculate single highest scoring object time: 0.032392024993896484\n",
      "Crop and resize time: 0.0006330013275146484\n",
      "Posenet forward time: 0.0019714832305908203\n",
      "Posepriornet forward time: 0.0007166862487792969\n",
      "Viewpoint forward time: 0.0009520053863525391\n",
      "Get normalized 3d coordinates time: 0.0006227493286132812\n",
      "Flip left handed input time: 0.00014925003051757812\n",
      "ScaLe heatmaps time 9.799003601074219e-05\n",
      "Time for processing 1 frame: 0.04742717742919922s\n",
      "tensor([[0.0000]], device='cuda:0', grad_fn=<SigmoidBackward>)\n",
      "Handnet forward time: 0.008306503295898438\n",
      "Handsegnet forward time: 0.0010256767272949219\n",
      "s shape torch.Size([1, 2, 224, 224])\n",
      "for loop time 0.0029838085174560547\n",
      "hand mask sum: 0.0\n",
      "Calculate single highest scoring object time: 0.03127789497375488\n",
      "Crop and resize time: 0.0006091594696044922\n",
      "Posenet forward time: 0.001981019973754883\n",
      "Posepriornet forward time: 0.0007123947143554688\n",
      "Viewpoint forward time: 0.0009369850158691406\n",
      "Get normalized 3d coordinates time: 0.0005879402160644531\n",
      "Flip left handed input time: 0.00011920928955078125\n",
      "ScaLe heatmaps time 8.893013000488281e-05\n",
      "Time for processing 1 frame: 0.04625511169433594s\n"
     ]
    },
    {
     "name": "stderr",
     "output_type": "stream",
     "text": [
      "83it [00:14,  5.14it/s]"
     ]
    },
    {
     "name": "stdout",
     "output_type": "stream",
     "text": [
      "tensor([[0.0000]], device='cuda:0', grad_fn=<SigmoidBackward>)\n",
      "Handnet forward time: 0.008123159408569336\n",
      "Handsegnet forward time: 0.0011665821075439453\n",
      "s shape torch.Size([1, 2, 224, 224])\n",
      "for loop time 0.002959012985229492\n",
      "hand mask sum: 0.0\n",
      "Calculate single highest scoring object time: 0.03232407569885254\n",
      "Crop and resize time: 0.0006849765777587891\n",
      "Posenet forward time: 0.0020399093627929688\n",
      "Posepriornet forward time: 0.0007519721984863281\n",
      "Viewpoint forward time: 0.0009818077087402344\n",
      "Get normalized 3d coordinates time: 0.0005970001220703125\n",
      "Flip left handed input time: 0.00013518333435058594\n",
      "ScaLe heatmaps time 9.799003601074219e-05\n",
      "Time for processing 1 frame: 0.04759669303894043s\n",
      "tensor([[0.0000]], device='cuda:0', grad_fn=<SigmoidBackward>)\n",
      "Handnet forward time: 0.009731769561767578\n",
      "Handsegnet forward time: 0.001043081283569336\n"
     ]
    },
    {
     "name": "stderr",
     "output_type": "stream",
     "text": [
      "\r",
      "84it [00:14,  5.24it/s]"
     ]
    },
    {
     "name": "stdout",
     "output_type": "stream",
     "text": [
      "s shape torch.Size([1, 2, 224, 224])\n",
      "for loop time 0.003045320510864258\n",
      "hand mask sum: 0.0\n",
      "Calculate single highest scoring object time: 0.03325200080871582\n",
      "Crop and resize time: 0.0006103515625\n",
      "Posenet forward time: 0.0019674301147460938\n",
      "Posepriornet forward time: 0.0007190704345703125\n",
      "Viewpoint forward time: 0.0009317398071289062\n",
      "Get normalized 3d coordinates time: 0.0005810260772705078\n",
      "Flip left handed input time: 0.00011849403381347656\n",
      "ScaLe heatmaps time 8.344650268554688e-05\n",
      "Time for processing 1 frame: 0.04958653450012207s\n",
      "tensor([[0.0000]], device='cuda:0', grad_fn=<SigmoidBackward>)\n",
      "Handnet forward time: 0.008131265640258789\n",
      "Handsegnet forward time: 0.0010330677032470703\n",
      "s shape torch.Size([1, 2, 224, 224])\n",
      "for loop time 0.002957582473754883\n",
      "hand mask sum: 0.0\n",
      "Calculate single highest scoring object time: 0.029071807861328125\n",
      "Crop and resize time: 0.000621795654296875\n",
      "Posenet forward time: 0.0019297599792480469\n",
      "Posepriornet forward time: 0.0007224082946777344\n",
      "Viewpoint forward time: 0.0009357929229736328\n",
      "Get normalized 3d coordinates time: 0.0005822181701660156\n",
      "Flip left handed input time: 0.00011920928955078125\n",
      "ScaLe heatmaps time 8.058547973632812e-05\n",
      "Time for processing 1 frame: 0.04388928413391113s\n"
     ]
    },
    {
     "name": "stderr",
     "output_type": "stream",
     "text": [
      "86it [00:14,  5.43it/s]"
     ]
    },
    {
     "name": "stdout",
     "output_type": "stream",
     "text": [
      "tensor([[0.0000]], device='cuda:0', grad_fn=<SigmoidBackward>)\n",
      "Handnet forward time: 0.008127689361572266\n",
      "Handsegnet forward time: 0.001046895980834961\n",
      "s shape torch.Size([1, 2, 224, 224])\n",
      "for loop time 0.002965688705444336\n",
      "hand mask sum: 5.0\n",
      "Calculate single highest scoring object time: 0.029209375381469727\n",
      "Crop and resize time: 0.0013289451599121094\n",
      "Posenet forward time: 0.002045154571533203\n",
      "Posepriornet forward time: 0.0007755756378173828\n",
      "Viewpoint forward time: 0.0010678768157958984\n",
      "Get normalized 3d coordinates time: 0.0006248950958251953\n",
      "Flip left handed input time: 0.0001442432403564453\n",
      "ScaLe heatmaps time 4.458427429199219e-05\n",
      "Time for processing 1 frame: 0.045011043548583984s\n",
      "tensor([[0.0000]], device='cuda:0', grad_fn=<SigmoidBackward>)\n",
      "Handnet forward time: 0.008862972259521484\n",
      "Handsegnet forward time: 0.0010237693786621094\n"
     ]
    },
    {
     "name": "stderr",
     "output_type": "stream",
     "text": [
      "\r",
      "87it [00:15,  5.50it/s]"
     ]
    },
    {
     "name": "stdout",
     "output_type": "stream",
     "text": [
      "s shape torch.Size([1, 2, 224, 224])\n",
      "for loop time 0.004688739776611328\n",
      "hand mask sum: 0.0\n",
      "Calculate single highest scoring object time: 0.03168892860412598\n",
      "Crop and resize time: 0.000919342041015625\n",
      "Posenet forward time: 0.0022211074829101562\n",
      "Posepriornet forward time: 0.0007641315460205078\n",
      "Viewpoint forward time: 0.0009815692901611328\n",
      "Get normalized 3d coordinates time: 0.0006268024444580078\n",
      "Flip left handed input time: 0.00014448165893554688\n",
      "ScaLe heatmaps time 0.00010347366333007812\n",
      "Time for processing 1 frame: 0.04800271987915039s\n",
      "tensor([[0.0000]], device='cuda:0', grad_fn=<SigmoidBackward>)\n",
      "Handnet forward time: 0.00805044174194336\n",
      "Handsegnet forward time: 0.0010232925415039062\n",
      "s shape torch.Size([1, 2, 224, 224])\n",
      "for loop time 0.0029714107513427734\n",
      "hand mask sum: 0.0\n",
      "Calculate single highest scoring object time: 0.0322110652923584\n",
      "Crop and resize time: 0.0006384849548339844\n",
      "Posenet forward time: 0.002033233642578125\n",
      "Posepriornet forward time: 0.0008077621459960938\n",
      "Viewpoint forward time: 0.000982522964477539\n",
      "Get normalized 3d coordinates time: 0.0006654262542724609\n",
      "Flip left handed input time: 0.0001456737518310547\n",
      "ScaLe heatmaps time 0.00010514259338378906\n",
      "Time for processing 1 frame: 0.04732775688171387s\n"
     ]
    },
    {
     "name": "stderr",
     "output_type": "stream",
     "text": [
      "89it [00:15,  5.42it/s]"
     ]
    },
    {
     "name": "stdout",
     "output_type": "stream",
     "text": [
      "tensor([[0.0000]], device='cuda:0', grad_fn=<SigmoidBackward>)\n",
      "Handnet forward time: 0.009082794189453125\n",
      "Handsegnet forward time: 0.0010235309600830078\n",
      "s shape torch.Size([1, 2, 224, 224])\n",
      "for loop time 0.0029706954956054688\n",
      "hand mask sum: 0.0\n",
      "Calculate single highest scoring object time: 0.031101226806640625\n",
      "Crop and resize time: 0.0006246566772460938\n",
      "Posenet forward time: 0.002004384994506836\n",
      "Posepriornet forward time: 0.0007436275482177734\n",
      "Viewpoint forward time: 0.0009586811065673828\n",
      "Get normalized 3d coordinates time: 0.0006101131439208984\n",
      "Flip left handed input time: 0.00014281272888183594\n",
      "ScaLe heatmaps time 0.00010609626770019531\n",
      "Time for processing 1 frame: 0.04715085029602051s\n",
      "tensor([[0.0000]], device='cuda:0', grad_fn=<SigmoidBackward>)\n",
      "Handnet forward time: 0.008026123046875\n",
      "Handsegnet forward time: 0.0010614395141601562\n"
     ]
    },
    {
     "name": "stderr",
     "output_type": "stream",
     "text": [
      "\r",
      "90it [00:15,  5.51it/s]"
     ]
    },
    {
     "name": "stdout",
     "output_type": "stream",
     "text": [
      "s shape torch.Size([1, 2, 224, 224])\n",
      "for loop time 0.003032684326171875\n",
      "hand mask sum: 0.0\n",
      "Calculate single highest scoring object time: 0.032280683517456055\n",
      "Crop and resize time: 0.0006623268127441406\n",
      "Posenet forward time: 0.0024204254150390625\n",
      "Posepriornet forward time: 0.0007975101470947266\n",
      "Viewpoint forward time: 0.0010678768157958984\n",
      "Get normalized 3d coordinates time: 0.0010533332824707031\n",
      "Flip left handed input time: 0.0001647472381591797\n",
      "ScaLe heatmaps time 0.00010037422180175781\n",
      "Time for processing 1 frame: 0.04843425750732422s\n",
      "tensor([[0.0000]], device='cuda:0', grad_fn=<SigmoidBackward>)\n",
      "Handnet forward time: 0.008099079132080078\n",
      "Handsegnet forward time: 0.0011241436004638672\n",
      "s shape torch.Size([1, 2, 224, 224])\n",
      "for loop time 0.0038847923278808594\n",
      "hand mask sum: 0.0\n",
      "Calculate single highest scoring object time: 0.02939629554748535\n",
      "Crop and resize time: 0.0006940364837646484\n",
      "Posenet forward time: 0.0024194717407226562\n",
      "Posepriornet forward time: 0.0008561611175537109\n",
      "Viewpoint forward time: 0.0011248588562011719\n",
      "Get normalized 3d coordinates time: 0.0007867813110351562\n",
      "Flip left handed input time: 0.00013256072998046875\n",
      "ScaLe heatmaps time 9.34600830078125e-05\n",
      "Time for processing 1 frame: 0.045290470123291016s\n"
     ]
    },
    {
     "name": "stderr",
     "output_type": "stream",
     "text": [
      "92it [00:15,  5.68it/s]"
     ]
    },
    {
     "name": "stdout",
     "output_type": "stream",
     "text": [
      "tensor([[0.0000]], device='cuda:0', grad_fn=<SigmoidBackward>)\n",
      "Handnet forward time: 0.008661985397338867\n",
      "Handsegnet forward time: 0.0010209083557128906\n",
      "s shape torch.Size([1, 2, 224, 224])\n",
      "for loop time 0.002974271774291992\n",
      "hand mask sum: 0.0\n",
      "Calculate single highest scoring object time: 0.029807090759277344\n",
      "Crop and resize time: 0.0006535053253173828\n",
      "Posenet forward time: 0.002003908157348633\n",
      "Posepriornet forward time: 0.0007169246673583984\n",
      "Viewpoint forward time: 0.0009434223175048828\n",
      "Get normalized 3d coordinates time: 0.0005791187286376953\n",
      "Flip left handed input time: 0.00012063980102539062\n",
      "ScaLe heatmaps time 8.511543273925781e-05\n",
      "Time for processing 1 frame: 0.045250892639160156s\n",
      "tensor([[0.0000]], device='cuda:0', grad_fn=<SigmoidBackward>)\n",
      "Handnet forward time: 0.008024930953979492\n",
      "Handsegnet forward time: 0.0010631084442138672\n"
     ]
    },
    {
     "name": "stderr",
     "output_type": "stream",
     "text": [
      "\r",
      "93it [00:16,  5.64it/s]"
     ]
    },
    {
     "name": "stdout",
     "output_type": "stream",
     "text": [
      "s shape torch.Size([1, 2, 224, 224])\n",
      "for loop time 0.003000974655151367\n",
      "hand mask sum: 0.0\n",
      "Calculate single highest scoring object time: 0.03146052360534668\n",
      "Crop and resize time: 0.0018506050109863281\n",
      "Posenet forward time: 0.002013683319091797\n",
      "Posepriornet forward time: 0.0007731914520263672\n",
      "Viewpoint forward time: 0.0013108253479003906\n",
      "Get normalized 3d coordinates time: 0.0007765293121337891\n",
      "Flip left handed input time: 0.00013709068298339844\n",
      "ScaLe heatmaps time 9.655952453613281e-05\n",
      "Time for processing 1 frame: 0.04826188087463379s\n",
      "tensor([[0.0000]], device='cuda:0', grad_fn=<SigmoidBackward>)\n",
      "Handnet forward time: 0.00812840461730957\n",
      "Handsegnet forward time: 0.0010294914245605469\n",
      "s shape torch.Size([1, 2, 224, 224])\n",
      "for loop time 0.003022432327270508\n",
      "hand mask sum: 0.0\n",
      "Calculate single highest scoring object time: 0.032296180725097656\n",
      "Crop and resize time: 0.0006186962127685547\n",
      "Posenet forward time: 0.0019881725311279297\n",
      "Posepriornet forward time: 0.0007615089416503906\n",
      "Viewpoint forward time: 0.0010445117950439453\n",
      "Get normalized 3d coordinates time: 0.0006172657012939453\n",
      "Flip left handed input time: 0.00016117095947265625\n",
      "ScaLe heatmaps time 0.00010275840759277344\n",
      "Time for processing 1 frame: 0.04735159873962402s\n"
     ]
    },
    {
     "name": "stderr",
     "output_type": "stream",
     "text": [
      "95it [00:16,  5.64it/s]"
     ]
    },
    {
     "name": "stdout",
     "output_type": "stream",
     "text": [
      "tensor([[0.0000]], device='cuda:0', grad_fn=<SigmoidBackward>)\n",
      "Handnet forward time: 0.008902311325073242\n",
      "Handsegnet forward time: 0.0010895729064941406\n",
      "s shape torch.Size([1, 2, 224, 224])\n",
      "for loop time 0.0036842823028564453\n",
      "hand mask sum: 0.0\n",
      "Calculate single highest scoring object time: 0.03287863731384277\n",
      "Crop and resize time: 0.0006444454193115234\n",
      "Posenet forward time: 0.0019505023956298828\n",
      "Posepriornet forward time: 0.0007114410400390625\n",
      "Viewpoint forward time: 0.0009462833404541016\n",
      "Get normalized 3d coordinates time: 0.0005838871002197266\n",
      "Flip left handed input time: 0.00012183189392089844\n",
      "ScaLe heatmaps time 8.702278137207031e-05\n",
      "Time for processing 1 frame: 0.04867911338806152s\n",
      "tensor([[0.0000]], device='cuda:0', grad_fn=<SigmoidBackward>)\n",
      "Handnet forward time: 0.008716106414794922\n",
      "Handsegnet forward time: 0.001024007797241211\n"
     ]
    },
    {
     "name": "stderr",
     "output_type": "stream",
     "text": [
      "\r",
      "96it [00:16,  5.64it/s]"
     ]
    },
    {
     "name": "stdout",
     "output_type": "stream",
     "text": [
      "s shape torch.Size([1, 2, 224, 224])\n",
      "for loop time 0.004183530807495117\n",
      "hand mask sum: 0.0\n",
      "Calculate single highest scoring object time: 0.03200125694274902\n",
      "Crop and resize time: 0.0011188983917236328\n",
      "Posenet forward time: 0.0022101402282714844\n",
      "Posepriornet forward time: 0.0007638931274414062\n",
      "Viewpoint forward time: 0.0009403228759765625\n",
      "Get normalized 3d coordinates time: 0.0005981922149658203\n",
      "Flip left handed input time: 0.00011730194091796875\n",
      "ScaLe heatmaps time 8.511543273925781e-05\n",
      "Time for processing 1 frame: 0.04824686050415039s\n",
      "tensor([[0.0000]], device='cuda:0', grad_fn=<SigmoidBackward>)\n",
      "Handnet forward time: 0.008098840713500977\n",
      "Handsegnet forward time: 0.0010333061218261719\n",
      "s shape torch.Size([1, 2, 224, 224])\n",
      "for loop time 0.0029523372650146484\n",
      "hand mask sum: 0.0\n",
      "Calculate single highest scoring object time: 0.032196044921875\n",
      "Crop and resize time: 0.0006148815155029297\n",
      "Posenet forward time: 0.0020117759704589844\n",
      "Posepriornet forward time: 0.0007166862487792969\n",
      "Viewpoint forward time: 0.0009655952453613281\n",
      "Get normalized 3d coordinates time: 0.0006151199340820312\n",
      "Flip left handed input time: 0.0001304149627685547\n",
      "ScaLe heatmaps time 9.202957153320312e-05\n",
      "Time for processing 1 frame: 0.04702425003051758s\n"
     ]
    },
    {
     "name": "stderr",
     "output_type": "stream",
     "text": [
      "98it [00:16,  5.77it/s]"
     ]
    },
    {
     "name": "stdout",
     "output_type": "stream",
     "text": [
      "tensor([[0.0000]], device='cuda:0', grad_fn=<SigmoidBackward>)\n",
      "Handnet forward time: 0.008051872253417969\n",
      "Handsegnet forward time: 0.0010297298431396484\n",
      "s shape torch.Size([1, 2, 224, 224])\n",
      "for loop time 0.0029785633087158203\n",
      "hand mask sum: 0.0\n",
      "Calculate single highest scoring object time: 0.029745817184448242\n",
      "Crop and resize time: 0.0006144046783447266\n",
      "Posenet forward time: 0.0019953250885009766\n",
      "Posepriornet forward time: 0.0007169246673583984\n",
      "Viewpoint forward time: 0.0009276866912841797\n",
      "Get normalized 3d coordinates time: 0.0005826950073242188\n",
      "Flip left handed input time: 0.00012135505676269531\n",
      "ScaLe heatmaps time 8.487701416015625e-05\n",
      "Time for processing 1 frame: 0.044525146484375s\n",
      "tensor([[0.0000]], device='cuda:0', grad_fn=<SigmoidBackward>)\n",
      "Handnet forward time: 0.007955551147460938\n",
      "Handsegnet forward time: 0.0010137557983398438\n",
      "s shape torch.Size([1, 2, 224, 224])\n",
      "for loop time 0.0029592514038085938\n",
      "hand mask sum: 2.0\n",
      "Calculate single highest scoring object time: 0.02933335304260254\n",
      "Crop and resize time: 0.0009610652923583984\n",
      "Posenet forward time: 0.001947164535522461\n"
     ]
    },
    {
     "name": "stderr",
     "output_type": "stream",
     "text": [
      "\r",
      "99it [00:17,  5.83it/s]"
     ]
    },
    {
     "name": "stdout",
     "output_type": "stream",
     "text": [
      "Posepriornet forward time: 0.0010273456573486328\n",
      "Viewpoint forward time: 0.0010421276092529297\n",
      "Get normalized 3d coordinates time: 0.0006074905395507812\n",
      "Flip left handed input time: 0.0001251697540283203\n",
      "ScaLe heatmaps time 9.012222290039062e-05\n",
      "Time for processing 1 frame: 0.04472470283508301s\n",
      "tensor([[0.0000]], device='cuda:0', grad_fn=<SigmoidBackward>)\n",
      "Handnet forward time: 0.008579015731811523\n",
      "Handsegnet forward time: 0.0012416839599609375\n",
      "s shape torch.Size([1, 2, 224, 224])\n",
      "for loop time 0.00505518913269043\n",
      "hand mask sum: 3.0\n",
      "Calculate single highest scoring object time: 0.03207898139953613\n",
      "Crop and resize time: 0.0011928081512451172\n",
      "Posenet forward time: 0.002571582794189453\n",
      "Posepriornet forward time: 0.0009553432464599609\n",
      "Viewpoint forward time: 0.0011970996856689453\n",
      "Get normalized 3d coordinates time: 0.0008230209350585938\n",
      "Flip left handed input time: 0.0001609325408935547\n",
      "ScaLe heatmaps time 9.34600830078125e-05\n",
      "Time for processing 1 frame: 0.04965376853942871s\n"
     ]
    },
    {
     "name": "stderr",
     "output_type": "stream",
     "text": [
      "101it [00:17,  5.66it/s]"
     ]
    },
    {
     "name": "stdout",
     "output_type": "stream",
     "text": [
      "tensor([[0.0000]], device='cuda:0', grad_fn=<SigmoidBackward>)\n",
      "Handnet forward time: 0.00898432731628418\n",
      "Handsegnet forward time: 0.001308441162109375\n",
      "s shape torch.Size([1, 2, 224, 224])\n",
      "for loop time 0.0031845569610595703\n",
      "hand mask sum: 0.0\n",
      "Calculate single highest scoring object time: 0.03036785125732422\n",
      "Crop and resize time: 0.0007104873657226562\n",
      "Posenet forward time: 0.0024230480194091797\n",
      "Posepriornet forward time: 0.0008566379547119141\n",
      "Viewpoint forward time: 0.001138925552368164\n",
      "Get normalized 3d coordinates time: 0.0007359981536865234\n",
      "Flip left handed input time: 0.00014019012451171875\n",
      "ScaLe heatmaps time 0.00010824203491210938\n",
      "Time for processing 1 frame: 0.04754328727722168s\n",
      "tensor([[0.0000]], device='cuda:0', grad_fn=<SigmoidBackward>)\n",
      "Handnet forward time: 0.007958412170410156\n",
      "Handsegnet forward time: 0.0010080337524414062\n",
      "s shape torch.Size([1, 2, 224, 224])\n",
      "for loop time 0.0031638145446777344\n",
      "hand mask sum: 0.0\n",
      "Calculate single highest scoring object time: 0.029410839080810547\n",
      "Crop and resize time: 0.0006098747253417969\n",
      "Posenet forward time: 0.001965045928955078\n",
      "Posepriornet forward time: 0.0007522106170654297\n"
     ]
    },
    {
     "name": "stderr",
     "output_type": "stream",
     "text": [
      "\r",
      "102it [00:17,  5.74it/s]"
     ]
    },
    {
     "name": "stdout",
     "output_type": "stream",
     "text": [
      "Viewpoint forward time: 0.00125885009765625\n",
      "Get normalized 3d coordinates time: 0.0010275840759277344\n",
      "Flip left handed input time: 0.00018453598022460938\n",
      "ScaLe heatmaps time 4.9114227294921875e-05\n",
      "Time for processing 1 frame: 0.0449368953704834s\n",
      "tensor([[0.0000]], device='cuda:0', grad_fn=<SigmoidBackward>)\n",
      "Handnet forward time: 0.009404659271240234\n",
      "Handsegnet forward time: 0.0010495185852050781\n",
      "s shape torch.Size([1, 2, 224, 224])\n",
      "for loop time 0.0029685497283935547\n",
      "hand mask sum: 2.0\n",
      "Calculate single highest scoring object time: 0.03198409080505371\n",
      "Crop and resize time: 0.0009369850158691406\n",
      "Posenet forward time: 0.001957416534423828\n",
      "Posepriornet forward time: 0.0007383823394775391\n",
      "Viewpoint forward time: 0.0009362697601318359\n",
      "Get normalized 3d coordinates time: 0.0005795955657958984\n",
      "Flip left handed input time: 0.00011801719665527344\n",
      "ScaLe heatmaps time 8.440017700195312e-05\n",
      "Time for processing 1 frame: 0.0483241081237793s\n"
     ]
    },
    {
     "name": "stderr",
     "output_type": "stream",
     "text": [
      "104it [00:18,  5.64it/s]"
     ]
    },
    {
     "name": "stdout",
     "output_type": "stream",
     "text": [
      "tensor([[0.0000]], device='cuda:0', grad_fn=<SigmoidBackward>)\n",
      "Handnet forward time: 0.009601831436157227\n",
      "Handsegnet forward time: 0.001323699951171875\n",
      "s shape torch.Size([1, 2, 224, 224])\n",
      "for loop time 0.004050016403198242\n",
      "hand mask sum: 2.0\n",
      "Calculate single highest scoring object time: 0.03278660774230957\n",
      "Crop and resize time: 0.0011477470397949219\n",
      "Posenet forward time: 0.002469301223754883\n",
      "Posepriornet forward time: 0.0008654594421386719\n",
      "Viewpoint forward time: 0.0011377334594726562\n",
      "Get normalized 3d coordinates time: 0.0007309913635253906\n",
      "Flip left handed input time: 0.0001430511474609375\n",
      "ScaLe heatmaps time 0.00010824203491210938\n",
      "Time for processing 1 frame: 0.051068782806396484s\n",
      "tensor([[0.0000]], device='cuda:0', grad_fn=<SigmoidBackward>)\n",
      "Handnet forward time: 0.008684158325195312\n",
      "Handsegnet forward time: 0.0010530948638916016\n"
     ]
    },
    {
     "name": "stderr",
     "output_type": "stream",
     "text": [
      "\r",
      "105it [00:18,  5.50it/s]"
     ]
    },
    {
     "name": "stdout",
     "output_type": "stream",
     "text": [
      "s shape torch.Size([1, 2, 224, 224])\n",
      "for loop time 0.004088640213012695\n",
      "hand mask sum: 2.0\n",
      "Calculate single highest scoring object time: 0.03242945671081543\n",
      "Crop and resize time: 0.0016353130340576172\n",
      "Posenet forward time: 0.0022644996643066406\n",
      "Posepriornet forward time: 0.0009932518005371094\n",
      "Viewpoint forward time: 0.0011317729949951172\n",
      "Get normalized 3d coordinates time: 0.0007386207580566406\n",
      "Flip left handed input time: 0.000141143798828125\n",
      "ScaLe heatmaps time 9.608268737792969e-05\n",
      "Time for processing 1 frame: 0.04989910125732422s\n",
      "tensor([[0.0000]], device='cuda:0', grad_fn=<SigmoidBackward>)\n",
      "Handnet forward time: 0.008654117584228516\n",
      "Handsegnet forward time: 0.0010237693786621094\n",
      "s shape torch.Size([1, 2, 224, 224])\n",
      "for loop time 0.0030059814453125\n",
      "hand mask sum: 6.0\n",
      "Calculate single highest scoring object time: 0.03148961067199707\n",
      "Crop and resize time: 0.0009551048278808594\n",
      "Posenet forward time: 0.0020012855529785156\n",
      "Posepriornet forward time: 0.0007474422454833984\n"
     ]
    },
    {
     "name": "stderr",
     "output_type": "stream",
     "text": [
      "\r",
      "106it [00:18,  5.54it/s]"
     ]
    },
    {
     "name": "stdout",
     "output_type": "stream",
     "text": [
      "Viewpoint forward time: 0.0012481212615966797\n",
      "Get normalized 3d coordinates time: 0.0007014274597167969\n",
      "Flip left handed input time: 0.00013566017150878906\n",
      "ScaLe heatmaps time 0.0001277923583984375\n",
      "Time for processing 1 frame: 0.04775071144104004s\n",
      "tensor([[0.0001]], device='cuda:0', grad_fn=<SigmoidBackward>)\n",
      "Handnet forward time: 0.009576559066772461\n",
      "Handsegnet forward time: 0.001031637191772461\n",
      "s shape torch.Size([1, 2, 224, 224])\n",
      "for loop time 0.0036411285400390625\n",
      "hand mask sum: 16.0\n",
      "Calculate single highest scoring object time: 0.03195834159851074\n",
      "Crop and resize time: 0.0009639263153076172\n",
      "Posenet forward time: 0.0020210742950439453\n",
      "Posepriornet forward time: 0.0007245540618896484\n",
      "Viewpoint forward time: 0.0009534358978271484\n",
      "Get normalized 3d coordinates time: 0.0005903244018554688\n",
      "Flip left handed input time: 0.00012230873107910156\n",
      "ScaLe heatmaps time 9.107589721679688e-05\n",
      "Time for processing 1 frame: 0.0486605167388916s\n"
     ]
    },
    {
     "name": "stderr",
     "output_type": "stream",
     "text": [
      "108it [00:18,  5.62it/s]"
     ]
    },
    {
     "name": "stdout",
     "output_type": "stream",
     "text": [
      "tensor([[0.0001]], device='cuda:0', grad_fn=<SigmoidBackward>)\n",
      "Handnet forward time: 0.00809621810913086\n",
      "Handsegnet forward time: 0.0012331008911132812\n",
      "s shape torch.Size([1, 2, 224, 224])\n",
      "for loop time 0.0029795169830322266\n",
      "hand mask sum: 49.0\n",
      "Calculate single highest scoring object time: 0.03110218048095703\n",
      "Crop and resize time: 0.0020818710327148438\n",
      "Posenet forward time: 0.0021483898162841797\n",
      "Posepriornet forward time: 0.0007331371307373047\n",
      "Viewpoint forward time: 0.0009429454803466797\n",
      "Get normalized 3d coordinates time: 0.0005919933319091797\n",
      "Flip left handed input time: 0.0001232624053955078\n",
      "ScaLe heatmaps time 8.559226989746094e-05\n",
      "Time for processing 1 frame: 0.04783201217651367s\n",
      "tensor([[0.0004]], device='cuda:0', grad_fn=<SigmoidBackward>)\n",
      "Handnet forward time: 0.009737730026245117\n",
      "Handsegnet forward time: 0.001051187515258789\n"
     ]
    },
    {
     "name": "stderr",
     "output_type": "stream",
     "text": [
      "\r",
      "109it [00:18,  5.62it/s]"
     ]
    },
    {
     "name": "stdout",
     "output_type": "stream",
     "text": [
      "s shape torch.Size([1, 2, 224, 224])\n",
      "for loop time 0.002988576889038086\n",
      "hand mask sum: 378.0\n",
      "Calculate single highest scoring object time: 0.0321812629699707\n",
      "Crop and resize time: 0.0009593963623046875\n",
      "Posenet forward time: 0.001976490020751953\n",
      "Posepriornet forward time: 0.0007345676422119141\n",
      "Viewpoint forward time: 0.0009446144104003906\n",
      "Get normalized 3d coordinates time: 0.0005855560302734375\n",
      "Flip left handed input time: 0.00012159347534179688\n",
      "ScaLe heatmaps time 8.416175842285156e-05\n",
      "Time for processing 1 frame: 0.04900097846984863s\n",
      "tensor([[0.0012]], device='cuda:0', grad_fn=<SigmoidBackward>)\n",
      "Handnet forward time: 0.008015871047973633\n",
      "Handsegnet forward time: 0.0010449886322021484\n",
      "s shape torch.Size([1, 2, 224, 224])\n",
      "for loop time 0.002973794937133789\n",
      "hand mask sum: 804.0\n",
      "Calculate single highest scoring object time: 0.029076337814331055\n",
      "Crop and resize time: 0.0009307861328125\n",
      "Posenet forward time: 0.0019850730895996094\n",
      "Posepriornet forward time: 0.0007154941558837891\n",
      "Viewpoint forward time: 0.0009417533874511719\n",
      "Get normalized 3d coordinates time: 0.0005908012390136719\n",
      "Flip left handed input time: 0.00011968612670898438\n",
      "ScaLe heatmaps time 8.296966552734375e-05\n",
      "Time for processing 1 frame: 0.044122934341430664s\n"
     ]
    },
    {
     "name": "stderr",
     "output_type": "stream",
     "text": [
      "111it [00:19,  5.82it/s]"
     ]
    },
    {
     "name": "stdout",
     "output_type": "stream",
     "text": [
      "tensor([[0.0078]], device='cuda:0', grad_fn=<SigmoidBackward>)\n",
      "Handnet forward time: 0.008176326751708984\n",
      "Handsegnet forward time: 0.001024007797241211\n",
      "s shape torch.Size([1, 2, 224, 224])\n",
      "for loop time 0.003298044204711914\n",
      "hand mask sum: 1155.0\n",
      "Calculate single highest scoring object time: 0.0296170711517334\n",
      "Crop and resize time: 0.0009462833404541016\n",
      "Posenet forward time: 0.0019588470458984375\n",
      "Posepriornet forward time: 0.0007181167602539062\n",
      "Viewpoint forward time: 0.0009410381317138672\n",
      "Get normalized 3d coordinates time: 0.0005905628204345703\n",
      "Flip left handed input time: 0.00012135505676269531\n",
      "ScaLe heatmaps time 9.036064147949219e-05\n",
      "Time for processing 1 frame: 0.04474472999572754s\n",
      "tensor([[0.0350]], device='cuda:0', grad_fn=<SigmoidBackward>)\n",
      "Handnet forward time: 0.007979631423950195\n",
      "Handsegnet forward time: 0.001062154769897461\n",
      "s shape torch.Size([1, 2, 224, 224])\n",
      "for loop time 0.003003835678100586\n",
      "hand mask sum: 1375.0\n",
      "Calculate single highest scoring object time: 0.02911067008972168\n",
      "Crop and resize time: 0.0009372234344482422\n",
      "Posenet forward time: 0.002007722854614258\n",
      "Posepriornet forward time: 0.0007207393646240234\n",
      "Viewpoint forward time: 0.0009398460388183594\n",
      "Get normalized 3d coordinates time: 0.0005819797515869141\n",
      "Flip left handed input time: 0.0001220703125\n",
      "ScaLe heatmaps time 8.749961853027344e-05\n",
      "Time for processing 1 frame: 0.04416251182556152s\n"
     ]
    },
    {
     "name": "stderr",
     "output_type": "stream",
     "text": [
      "113it [00:19,  5.17it/s]"
     ]
    },
    {
     "name": "stdout",
     "output_type": "stream",
     "text": [
      "tensor([[0.1496]], device='cuda:0', grad_fn=<SigmoidBackward>)\n",
      "Handnet forward time: 0.007974863052368164\n",
      "Handsegnet forward time: 0.0012302398681640625\n",
      "s shape torch.Size([1, 2, 224, 224])\n",
      "for loop time 0.003006458282470703\n",
      "hand mask sum: 1533.0\n",
      "Calculate single highest scoring object time: 0.03142571449279785\n",
      "Crop and resize time: 0.0010447502136230469\n",
      "Posenet forward time: 0.002034902572631836\n",
      "Posepriornet forward time: 0.0007436275482177734\n",
      "Viewpoint forward time: 0.0009462833404541016\n",
      "Get normalized 3d coordinates time: 0.0006191730499267578\n",
      "Flip left handed input time: 0.0001723766326904297\n",
      "ScaLe heatmaps time 4.4345855712890625e-05\n",
      "Time for processing 1 frame: 0.04713320732116699s\n",
      "tensor([[0.5293]], device='cuda:0', grad_fn=<SigmoidBackward>)\n",
      "Handnet forward time: 0.0079803466796875\n",
      "Handsegnet forward time: 0.0010204315185546875\n"
     ]
    },
    {
     "name": "stderr",
     "output_type": "stream",
     "text": [
      "\r",
      "114it [00:19,  5.31it/s]"
     ]
    },
    {
     "name": "stdout",
     "output_type": "stream",
     "text": [
      "s shape torch.Size([1, 2, 224, 224])\n",
      "for loop time 0.003022432327270508\n",
      "hand mask sum: 1734.0\n",
      "Calculate single highest scoring object time: 0.03256654739379883\n",
      "Crop and resize time: 0.0009415149688720703\n",
      "Posenet forward time: 0.001972198486328125\n",
      "Posepriornet forward time: 0.0007116794586181641\n",
      "Viewpoint forward time: 0.0009417533874511719\n",
      "Get normalized 3d coordinates time: 0.0005803108215332031\n",
      "Flip left handed input time: 0.00012183189392089844\n",
      "ScaLe heatmaps time 9.012222290039062e-05\n",
      "Time for processing 1 frame: 0.047438859939575195s\n",
      "tensor([[0.5144]], device='cuda:0', grad_fn=<SigmoidBackward>)\n",
      "Handnet forward time: 0.00807952880859375\n",
      "Handsegnet forward time: 0.0010623931884765625\n",
      "s shape torch.Size([1, 2, 224, 224])\n",
      "for loop time 0.002955198287963867\n",
      "hand mask sum: 2019.0\n",
      "Calculate single highest scoring object time: 0.0317082405090332\n",
      "Crop and resize time: 0.0019190311431884766\n",
      "Posenet forward time: 0.001972198486328125\n",
      "Posepriornet forward time: 0.0007216930389404297\n",
      "Viewpoint forward time: 0.0009343624114990234\n",
      "Get normalized 3d coordinates time: 0.0005850791931152344\n",
      "Flip left handed input time: 0.00011897087097167969\n",
      "ScaLe heatmaps time 8.511543273925781e-05\n",
      "Time for processing 1 frame: 0.0478060245513916s\n"
     ]
    },
    {
     "name": "stderr",
     "output_type": "stream",
     "text": [
      "116it [00:20,  5.47it/s]"
     ]
    },
    {
     "name": "stdout",
     "output_type": "stream",
     "text": [
      "tensor([[0.5597]], device='cuda:0', grad_fn=<SigmoidBackward>)\n",
      "Handnet forward time: 0.009074687957763672\n",
      "Handsegnet forward time: 0.0010128021240234375\n",
      "s shape torch.Size([1, 2, 224, 224])\n",
      "for loop time 0.002982616424560547\n",
      "hand mask sum: 2283.0\n",
      "Calculate single highest scoring object time: 0.03253889083862305\n",
      "Crop and resize time: 0.0009953975677490234\n",
      "Posenet forward time: 0.002004384994506836\n",
      "Posepriornet forward time: 0.0007410049438476562\n",
      "Viewpoint forward time: 0.0010576248168945312\n",
      "Get normalized 3d coordinates time: 0.0006132125854492188\n",
      "Flip left handed input time: 0.00014209747314453125\n",
      "ScaLe heatmaps time 0.00010204315185546875\n",
      "Time for processing 1 frame: 0.04904603958129883s\n",
      "tensor([[0.7482]], device='cuda:0', grad_fn=<SigmoidBackward>)\n",
      "Handnet forward time: 0.008410215377807617\n",
      "Handsegnet forward time: 0.0010056495666503906\n"
     ]
    },
    {
     "name": "stderr",
     "output_type": "stream",
     "text": [
      "\r",
      "117it [00:20,  5.59it/s]"
     ]
    },
    {
     "name": "stdout",
     "output_type": "stream",
     "text": [
      "s shape torch.Size([1, 2, 224, 224])\n",
      "for loop time 0.003350496292114258\n",
      "hand mask sum: 2540.0\n",
      "Calculate single highest scoring object time: 0.02978682518005371\n",
      "Crop and resize time: 0.0009737014770507812\n",
      "Posenet forward time: 0.002199888229370117\n",
      "Posepriornet forward time: 0.0007874965667724609\n",
      "Viewpoint forward time: 0.0009474754333496094\n",
      "Get normalized 3d coordinates time: 0.0006022453308105469\n",
      "Flip left handed input time: 0.0001533031463623047\n",
      "ScaLe heatmaps time 0.00010371208190917969\n",
      "Time for processing 1 frame: 0.04577040672302246s\n",
      "tensor([[0.9191]], device='cuda:0', grad_fn=<SigmoidBackward>)\n",
      "Handnet forward time: 0.008124351501464844\n",
      "Handsegnet forward time: 0.001032114028930664\n",
      "s shape torch.Size([1, 2, 224, 224])\n",
      "for loop time 0.0036592483520507812\n",
      "hand mask sum: 2789.0\n",
      "Calculate single highest scoring object time: 0.02922201156616211\n",
      "Crop and resize time: 0.0009391307830810547\n",
      "Posenet forward time: 0.001931905746459961\n",
      "Posepriornet forward time: 0.0007092952728271484\n",
      "Viewpoint forward time: 0.0009267330169677734\n",
      "Get normalized 3d coordinates time: 0.0005757808685302734\n",
      "Flip left handed input time: 0.00011968612670898438\n",
      "ScaLe heatmaps time 8.225440979003906e-05\n",
      "Time for processing 1 frame: 0.04418516159057617s\n"
     ]
    },
    {
     "name": "stderr",
     "output_type": "stream",
     "text": [
      "119it [00:20,  5.73it/s]"
     ]
    },
    {
     "name": "stdout",
     "output_type": "stream",
     "text": [
      "tensor([[0.9259]], device='cuda:0', grad_fn=<SigmoidBackward>)\n",
      "Handnet forward time: 0.008085250854492188\n",
      "Handsegnet forward time: 0.0010082721710205078\n",
      "s shape torch.Size([1, 2, 224, 224])\n",
      "for loop time 0.0029592514038085938\n",
      "hand mask sum: 2986.0\n",
      "Calculate single highest scoring object time: 0.029720544815063477\n",
      "Crop and resize time: 0.000934600830078125\n",
      "Posenet forward time: 0.0019059181213378906\n",
      "Posepriornet forward time: 0.0007071495056152344\n",
      "Viewpoint forward time: 0.0009284019470214844\n",
      "Get normalized 3d coordinates time: 0.0005750656127929688\n",
      "Flip left handed input time: 0.00011658668518066406\n",
      "ScaLe heatmaps time 8.225440979003906e-05\n",
      "Time for processing 1 frame: 0.04471755027770996s\n",
      "tensor([[0.9289]], device='cuda:0', grad_fn=<SigmoidBackward>)\n",
      "Handnet forward time: 0.007979869842529297\n",
      "Handsegnet forward time: 0.001027822494506836\n",
      "s shape torch.Size([1, 2, 224, 224])\n"
     ]
    },
    {
     "name": "stderr",
     "output_type": "stream",
     "text": [
      "\r",
      "120it [00:20,  5.54it/s]"
     ]
    },
    {
     "name": "stdout",
     "output_type": "stream",
     "text": [
      "for loop time 0.0032939910888671875\n",
      "hand mask sum: 3173.0\n",
      "Calculate single highest scoring object time: 0.030208110809326172\n",
      "Crop and resize time: 0.0010528564453125\n",
      "Posenet forward time: 0.001972675323486328\n",
      "Posepriornet forward time: 0.0007102489471435547\n",
      "Viewpoint forward time: 0.00101470947265625\n",
      "Get normalized 3d coordinates time: 0.0007755756378173828\n",
      "Flip left handed input time: 0.00014162063598632812\n",
      "ScaLe heatmaps time 9.822845458984375e-05\n",
      "Time for processing 1 frame: 0.04560065269470215s\n",
      "tensor([[0.9783]], device='cuda:0', grad_fn=<SigmoidBackward>)\n",
      "Handnet forward time: 0.008130550384521484\n",
      "Handsegnet forward time: 0.0012364387512207031\n",
      "s shape torch.Size([1, 2, 224, 224])\n",
      "for loop time 0.0037870407104492188\n",
      "hand mask sum: 3345.0\n",
      "Calculate single highest scoring object time: 0.02917766571044922\n",
      "Crop and resize time: 0.0011134147644042969\n",
      "Posenet forward time: 0.002397298812866211\n",
      "Posepriornet forward time: 0.0008449554443359375\n",
      "Viewpoint forward time: 0.0011129379272460938\n",
      "Get normalized 3d coordinates time: 0.0007185935974121094\n"
     ]
    },
    {
     "name": "stderr",
     "output_type": "stream",
     "text": [
      "\r",
      "121it [00:21,  5.41it/s]"
     ]
    },
    {
     "name": "stdout",
     "output_type": "stream",
     "text": [
      "Flip left handed input time: 0.0003287792205810547\n",
      "ScaLe heatmaps time 3.8623809814453125e-05\n",
      "Time for processing 1 frame: 0.04590606689453125s\n",
      "tensor([[0.9956]], device='cuda:0', grad_fn=<SigmoidBackward>)\n",
      "Handnet forward time: 0.008046865463256836\n",
      "Handsegnet forward time: 0.0010194778442382812\n",
      "s shape torch.Size([1, 2, 224, 224])\n",
      "for loop time 0.003303050994873047\n",
      "hand mask sum: 3469.0\n",
      "Calculate single highest scoring object time: 0.029485464096069336\n",
      "Crop and resize time: 0.0009407997131347656\n",
      "Posenet forward time: 0.0019214153289794922\n",
      "Posepriornet forward time: 0.000705718994140625\n",
      "Viewpoint forward time: 0.0009350776672363281\n",
      "Get normalized 3d coordinates time: 0.0005772113800048828\n",
      "Flip left handed input time: 0.000118255615234375\n",
      "ScaLe heatmaps time 8.678436279296875e-05\n",
      "Time for processing 1 frame: 0.04444527626037598s\n"
     ]
    },
    {
     "name": "stderr",
     "output_type": "stream",
     "text": [
      "123it [00:21,  5.53it/s]"
     ]
    },
    {
     "name": "stdout",
     "output_type": "stream",
     "text": [
      "tensor([[0.9975]], device='cuda:0', grad_fn=<SigmoidBackward>)\n",
      "Handnet forward time: 0.00809335708618164\n",
      "Handsegnet forward time: 0.0010173320770263672\n",
      "s shape torch.Size([1, 2, 224, 224])\n",
      "for loop time 0.0029594898223876953\n",
      "hand mask sum: 3566.0\n",
      "Calculate single highest scoring object time: 0.031824350357055664\n",
      "Crop and resize time: 0.0009551048278808594\n",
      "Posenet forward time: 0.001950979232788086\n",
      "Posepriornet forward time: 0.0007078647613525391\n",
      "Viewpoint forward time: 0.0009262561798095703\n",
      "Get normalized 3d coordinates time: 0.0005877017974853516\n",
      "Flip left handed input time: 0.0001220703125\n",
      "ScaLe heatmaps time 9.036064147949219e-05\n",
      "Time for processing 1 frame: 0.04694533348083496s\n",
      "tensor([[0.9987]], device='cuda:0', grad_fn=<SigmoidBackward>)\n",
      "Handnet forward time: 0.008021831512451172\n",
      "Handsegnet forward time: 0.0010161399841308594\n"
     ]
    },
    {
     "name": "stderr",
     "output_type": "stream",
     "text": [
      "\r",
      "124it [00:21,  5.61it/s]"
     ]
    },
    {
     "name": "stdout",
     "output_type": "stream",
     "text": [
      "s shape torch.Size([1, 2, 224, 224])\n",
      "for loop time 0.003520965576171875\n",
      "hand mask sum: 3573.0\n",
      "Calculate single highest scoring object time: 0.030353069305419922\n",
      "Crop and resize time: 0.0009832382202148438\n",
      "Posenet forward time: 0.002023458480834961\n",
      "Posepriornet forward time: 0.0007476806640625\n",
      "Viewpoint forward time: 0.0009617805480957031\n",
      "Get normalized 3d coordinates time: 0.00060272216796875\n",
      "Flip left handed input time: 0.00014328956604003906\n",
      "ScaLe heatmaps time 0.00010371208190917969\n",
      "Time for processing 1 frame: 0.04559922218322754s\n",
      "tensor([[0.9993]], device='cuda:0', grad_fn=<SigmoidBackward>)\n",
      "Handnet forward time: 0.008072376251220703\n",
      "Handsegnet forward time: 0.0010225772857666016\n",
      "s shape torch.Size([1, 2, 224, 224])\n",
      "for loop time 0.002968311309814453\n",
      "hand mask sum: 3630.0\n",
      "Calculate single highest scoring object time: 0.030419588088989258\n",
      "Crop and resize time: 0.0009665489196777344\n",
      "Posenet forward time: 0.0020279884338378906\n",
      "Posepriornet forward time: 0.0007431507110595703\n",
      "Viewpoint forward time: 0.0009577274322509766\n",
      "Get normalized 3d coordinates time: 0.0006031990051269531\n",
      "Flip left handed input time: 0.00014257431030273438\n",
      "ScaLe heatmaps time 0.000102996826171875\n",
      "Time for processing 1 frame: 0.04578661918640137s\n"
     ]
    },
    {
     "name": "stderr",
     "output_type": "stream",
     "text": [
      "126it [00:22,  5.73it/s]"
     ]
    },
    {
     "name": "stdout",
     "output_type": "stream",
     "text": [
      "tensor([[0.9998]], device='cuda:0', grad_fn=<SigmoidBackward>)\n",
      "Handnet forward time: 0.008073568344116211\n",
      "Handsegnet forward time: 0.0010323524475097656\n",
      "s shape torch.Size([1, 2, 224, 224])\n",
      "for loop time 0.002978801727294922\n",
      "hand mask sum: 3609.0\n",
      "Calculate single highest scoring object time: 0.029236555099487305\n",
      "Crop and resize time: 0.0012621879577636719\n",
      "Posenet forward time: 0.001992940902709961\n",
      "Posepriornet forward time: 0.0007424354553222656\n",
      "Viewpoint forward time: 0.0009608268737792969\n",
      "Get normalized 3d coordinates time: 0.0006058216094970703\n",
      "Flip left handed input time: 0.0001423358917236328\n",
      "ScaLe heatmaps time 0.00010204315185546875\n",
      "Time for processing 1 frame: 0.044904232025146484s\n",
      "tensor([[0.9998]], device='cuda:0', grad_fn=<SigmoidBackward>)\n",
      "Handnet forward time: 0.008002519607543945\n",
      "Handsegnet forward time: 0.0010123252868652344\n",
      "s shape torch.Size([1, 2, 224, 224])\n",
      "for loop time 0.0033254623413085938\n"
     ]
    },
    {
     "name": "stderr",
     "output_type": "stream",
     "text": [
      "\r",
      "127it [00:22,  5.74it/s]"
     ]
    },
    {
     "name": "stdout",
     "output_type": "stream",
     "text": [
      "hand mask sum: 3584.0\n",
      "Calculate single highest scoring object time: 0.029658794403076172\n",
      "Crop and resize time: 0.0010325908660888672\n",
      "Posenet forward time: 0.002026796340942383\n",
      "Posepriornet forward time: 0.0007140636444091797\n",
      "Viewpoint forward time: 0.0009403228759765625\n",
      "Get normalized 3d coordinates time: 0.0005812644958496094\n",
      "Flip left handed input time: 0.00011873245239257812\n",
      "ScaLe heatmaps time 8.845329284667969e-05\n",
      "Time for processing 1 frame: 0.0447843074798584s\n",
      "tensor([[0.9998]], device='cuda:0', grad_fn=<SigmoidBackward>)\n",
      "Handnet forward time: 0.008054256439208984\n",
      "Handsegnet forward time: 0.0010097026824951172\n",
      "s shape torch.Size([1, 2, 224, 224])\n",
      "for loop time 0.002977132797241211\n",
      "hand mask sum: 3628.0\n",
      "Calculate single highest scoring object time: 0.02933192253112793\n",
      "Crop and resize time: 0.0009326934814453125\n",
      "Posenet forward time: 0.0019259452819824219\n",
      "Posepriornet forward time: 0.0007088184356689453\n",
      "Viewpoint forward time: 0.0009396076202392578\n",
      "Get normalized 3d coordinates time: 0.0005753040313720703\n",
      "Flip left handed input time: 0.00011873245239257812\n",
      "ScaLe heatmaps time 8.177757263183594e-05\n",
      "Time for processing 1 frame: 0.04428553581237793s\n"
     ]
    },
    {
     "name": "stderr",
     "output_type": "stream",
     "text": [
      "129it [00:22,  5.63it/s]"
     ]
    },
    {
     "name": "stdout",
     "output_type": "stream",
     "text": [
      "tensor([[0.9992]], device='cuda:0', grad_fn=<SigmoidBackward>)\n",
      "Handnet forward time: 0.008391380310058594\n",
      "Handsegnet forward time: 0.0015826225280761719\n",
      "s shape torch.Size([1, 2, 224, 224])\n",
      "for loop time 0.004338264465332031\n",
      "hand mask sum: 3693.0\n",
      "Calculate single highest scoring object time: 0.030897855758666992\n",
      "Crop and resize time: 0.0015170574188232422\n",
      "Posenet forward time: 0.0032863616943359375\n",
      "Posepriornet forward time: 0.0010824203491210938\n",
      "Viewpoint forward time: 0.0014700889587402344\n",
      "Get normalized 3d coordinates time: 0.0009975433349609375\n",
      "Flip left handed input time: 0.0001575946807861328\n",
      "ScaLe heatmaps time 9.751319885253906e-05\n",
      "Time for processing 1 frame: 0.050380706787109375s\n",
      "tensor([[0.9999]], device='cuda:0', grad_fn=<SigmoidBackward>)\n",
      "Handnet forward time: 0.008020877838134766\n",
      "Handsegnet forward time: 0.0010402202606201172\n"
     ]
    },
    {
     "name": "stderr",
     "output_type": "stream",
     "text": [
      "\r",
      "130it [00:22,  5.54it/s]"
     ]
    },
    {
     "name": "stdout",
     "output_type": "stream",
     "text": [
      "s shape torch.Size([1, 2, 224, 224])\n",
      "for loop time 0.0030405521392822266\n",
      "hand mask sum: 3682.0\n",
      "Calculate single highest scoring object time: 0.03196287155151367\n",
      "Crop and resize time: 0.0009615421295166016\n",
      "Posenet forward time: 0.0019783973693847656\n",
      "Posepriornet forward time: 0.0007214546203613281\n",
      "Viewpoint forward time: 0.0010814666748046875\n",
      "Get normalized 3d coordinates time: 0.0006093978881835938\n",
      "Flip left handed input time: 0.00014853477478027344\n",
      "ScaLe heatmaps time 0.00011491775512695312\n",
      "Time for processing 1 frame: 0.04737401008605957s\n",
      "tensor([[0.9994]], device='cuda:0', grad_fn=<SigmoidBackward>)\n",
      "Handnet forward time: 0.008738517761230469\n",
      "Handsegnet forward time: 0.0011096000671386719\n",
      "s shape torch.Size([1, 2, 224, 224])\n",
      "for loop time 0.002971649169921875\n",
      "hand mask sum: 3697.0\n",
      "Calculate single highest scoring object time: 0.030246257781982422\n",
      "Crop and resize time: 0.0009598731994628906\n",
      "Posenet forward time: 0.0019767284393310547\n",
      "Posepriornet forward time: 0.0007352828979492188\n",
      "Viewpoint forward time: 0.0010030269622802734\n",
      "Get normalized 3d coordinates time: 0.0005996227264404297\n",
      "Flip left handed input time: 0.0001227855682373047\n",
      "ScaLe heatmaps time 9.012222290039062e-05\n",
      "Time for processing 1 frame: 0.04623222351074219s\n"
     ]
    },
    {
     "name": "stderr",
     "output_type": "stream",
     "text": [
      "132it [00:23,  5.71it/s]"
     ]
    },
    {
     "name": "stdout",
     "output_type": "stream",
     "text": [
      "tensor([[0.9996]], device='cuda:0', grad_fn=<SigmoidBackward>)\n",
      "Handnet forward time: 0.0077610015869140625\n",
      "Handsegnet forward time: 0.0011725425720214844\n",
      "s shape torch.Size([1, 2, 224, 224])\n",
      "for loop time 0.002995729446411133\n",
      "hand mask sum: 3749.0\n",
      "Calculate single highest scoring object time: 0.0312347412109375\n",
      "Crop and resize time: 0.0009799003601074219\n",
      "Posenet forward time: 0.0020592212677001953\n",
      "Posepriornet forward time: 0.0008060932159423828\n",
      "Viewpoint forward time: 0.0009720325469970703\n",
      "Get normalized 3d coordinates time: 0.0006015300750732422\n",
      "Flip left handed input time: 0.00012159347534179688\n",
      "ScaLe heatmaps time 9.1552734375e-05\n",
      "Time for processing 1 frame: 0.04635429382324219s\n",
      "tensor([[0.9998]], device='cuda:0', grad_fn=<SigmoidBackward>)\n",
      "Handnet forward time: 0.00939798355102539\n",
      "Handsegnet forward time: 0.0010683536529541016\n"
     ]
    },
    {
     "name": "stderr",
     "output_type": "stream",
     "text": [
      "\r",
      "133it [00:23,  5.54it/s]"
     ]
    },
    {
     "name": "stdout",
     "output_type": "stream",
     "text": [
      "s shape torch.Size([1, 2, 224, 224])\n",
      "for loop time 0.004003763198852539\n",
      "hand mask sum: 3717.0\n",
      "Calculate single highest scoring object time: 0.03225350379943848\n",
      "Crop and resize time: 0.0009875297546386719\n",
      "Posenet forward time: 0.0020253658294677734\n",
      "Posepriornet forward time: 0.0007350444793701172\n",
      "Viewpoint forward time: 0.0009546279907226562\n",
      "Get normalized 3d coordinates time: 0.0005877017974853516\n",
      "Flip left handed input time: 0.00016260147094726562\n",
      "ScaLe heatmaps time 0.00013947486877441406\n",
      "Time for processing 1 frame: 0.049042701721191406s\n",
      "tensor([[0.9996]], device='cuda:0', grad_fn=<SigmoidBackward>)\n",
      "Handnet forward time: 0.008057355880737305\n",
      "Handsegnet forward time: 0.0010302066802978516\n",
      "s shape torch.Size([1, 2, 224, 224])\n",
      "for loop time 0.002976655960083008\n",
      "hand mask sum: 3692.0\n",
      "Calculate single highest scoring object time: 0.03201794624328613\n",
      "Crop and resize time: 0.0009641647338867188\n",
      "Posenet forward time: 0.002020120620727539\n",
      "Posepriornet forward time: 0.0009446144104003906\n"
     ]
    },
    {
     "name": "stderr",
     "output_type": "stream",
     "text": [
      "\r",
      "134it [00:23,  5.61it/s]"
     ]
    },
    {
     "name": "stdout",
     "output_type": "stream",
     "text": [
      "Viewpoint forward time: 0.0013189315795898438\n",
      "Get normalized 3d coordinates time: 0.0007781982421875\n",
      "Flip left handed input time: 0.00015091896057128906\n",
      "ScaLe heatmaps time 0.00010585784912109375\n",
      "Time for processing 1 frame: 0.04807639122009277s\n",
      "tensor([[0.9999]], device='cuda:0', grad_fn=<SigmoidBackward>)\n",
      "Handnet forward time: 0.009519815444946289\n",
      "Handsegnet forward time: 0.0010428428649902344\n",
      "s shape torch.Size([1, 2, 224, 224])\n",
      "for loop time 0.004569530487060547\n",
      "hand mask sum: 3698.0\n",
      "Calculate single highest scoring object time: 0.031098604202270508\n",
      "Crop and resize time: 0.0009942054748535156\n",
      "Posenet forward time: 0.0020139217376708984\n",
      "Posepriornet forward time: 0.0007472038269042969\n",
      "Viewpoint forward time: 0.0009706020355224609\n",
      "Get normalized 3d coordinates time: 0.0006058216094970703\n",
      "Flip left handed input time: 0.00014472007751464844\n",
      "ScaLe heatmaps time 0.00010752677917480469\n",
      "Time for processing 1 frame: 0.04789614677429199s\n"
     ]
    },
    {
     "name": "stderr",
     "output_type": "stream",
     "text": [
      "136it [00:23,  5.64it/s]"
     ]
    },
    {
     "name": "stdout",
     "output_type": "stream",
     "text": [
      "tensor([[0.9998]], device='cuda:0', grad_fn=<SigmoidBackward>)\n",
      "Handnet forward time: 0.007635831832885742\n",
      "Handsegnet forward time: 0.0010497570037841797\n",
      "s shape torch.Size([1, 2, 224, 224])\n",
      "for loop time 0.002991199493408203\n",
      "hand mask sum: 3691.0\n",
      "Calculate single highest scoring object time: 0.032388925552368164\n",
      "Crop and resize time: 0.0020182132720947266\n",
      "Posenet forward time: 0.0027086734771728516\n",
      "Posepriornet forward time: 0.0008068084716796875\n",
      "Viewpoint forward time: 0.0009546279907226562\n",
      "Get normalized 3d coordinates time: 0.0006122589111328125\n",
      "Flip left handed input time: 0.0001220703125\n",
      "ScaLe heatmaps time 8.988380432128906e-05\n",
      "Time for processing 1 frame: 0.04908132553100586s\n",
      "tensor([[1.0000]], device='cuda:0', grad_fn=<SigmoidBackward>)\n",
      "Handnet forward time: 0.00801539421081543\n",
      "Handsegnet forward time: 0.0010180473327636719\n"
     ]
    },
    {
     "name": "stderr",
     "output_type": "stream",
     "text": [
      "\r",
      "137it [00:23,  5.73it/s]"
     ]
    },
    {
     "name": "stdout",
     "output_type": "stream",
     "text": [
      "s shape torch.Size([1, 2, 224, 224])\n",
      "for loop time 0.002974987030029297\n",
      "hand mask sum: 3711.0\n",
      "Calculate single highest scoring object time: 0.029634714126586914\n",
      "Crop and resize time: 0.0014870166778564453\n",
      "Posenet forward time: 0.0021741390228271484\n",
      "Posepriornet forward time: 0.0007314682006835938\n",
      "Viewpoint forward time: 0.0009527206420898438\n",
      "Get normalized 3d coordinates time: 0.0005886554718017578\n",
      "Flip left handed input time: 0.00012159347534179688\n",
      "ScaLe heatmaps time 8.58306884765625e-05\n",
      "Time for processing 1 frame: 0.04544353485107422s\n",
      "tensor([[1.0000]], device='cuda:0', grad_fn=<SigmoidBackward>)\n",
      "Handnet forward time: 0.007658720016479492\n",
      "Handsegnet forward time: 0.001028299331665039\n",
      "s shape torch.Size([1, 2, 224, 224])\n",
      "for loop time 0.0033042430877685547\n",
      "hand mask sum: 3661.0\n",
      "Calculate single highest scoring object time: 0.03047466278076172\n",
      "Crop and resize time: 0.0009703636169433594\n",
      "Posenet forward time: 0.002071857452392578\n",
      "Posepriornet forward time: 0.0007321834564208984\n",
      "Viewpoint forward time: 0.000946044921875\n",
      "Get normalized 3d coordinates time: 0.0005908012390136719\n",
      "Flip left handed input time: 0.00012040138244628906\n",
      "ScaLe heatmaps time 8.535385131835938e-05\n",
      "Time for processing 1 frame: 0.045310258865356445s\n"
     ]
    },
    {
     "name": "stderr",
     "output_type": "stream",
     "text": [
      "139it [00:24,  5.84it/s]"
     ]
    },
    {
     "name": "stdout",
     "output_type": "stream",
     "text": [
      "tensor([[0.9999]], device='cuda:0', grad_fn=<SigmoidBackward>)\n",
      "Handnet forward time: 0.007672309875488281\n",
      "Handsegnet forward time: 0.00103759765625\n",
      "s shape torch.Size([1, 2, 224, 224])\n",
      "for loop time 0.002992868423461914\n",
      "hand mask sum: 3648.0\n",
      "Calculate single highest scoring object time: 0.02997899055480957\n",
      "Crop and resize time: 0.0009717941284179688\n",
      "Posenet forward time: 0.0019669532775878906\n",
      "Posepriornet forward time: 0.0007102489471435547\n",
      "Viewpoint forward time: 0.0009551048278808594\n",
      "Get normalized 3d coordinates time: 0.0005860328674316406\n",
      "Flip left handed input time: 0.00012159347534179688\n",
      "ScaLe heatmaps time 8.749961853027344e-05\n",
      "Time for processing 1 frame: 0.04475092887878418s\n",
      "tensor([[0.9999]], device='cuda:0', grad_fn=<SigmoidBackward>)\n",
      "Handnet forward time: 0.007971048355102539\n",
      "Handsegnet forward time: 0.0010383129119873047\n",
      "s shape torch.Size([1, 2, 224, 224])\n",
      "for loop time 0.002982616424560547\n",
      "hand mask sum: 3663.0\n",
      "Calculate single highest scoring object time: 0.0298919677734375\n",
      "Crop and resize time: 0.0009589195251464844\n",
      "Posenet forward time: 0.001977682113647461\n"
     ]
    },
    {
     "name": "stderr",
     "output_type": "stream",
     "text": [
      "\r",
      "140it [00:24,  5.88it/s]"
     ]
    },
    {
     "name": "stdout",
     "output_type": "stream",
     "text": [
      "Posepriornet forward time: 0.0010151863098144531\n",
      "Viewpoint forward time: 0.0010235309600830078\n",
      "Get normalized 3d coordinates time: 0.0006234645843505859\n",
      "Flip left handed input time: 0.0001246929168701172\n",
      "ScaLe heatmaps time 9.179115295410156e-05\n",
      "Time for processing 1 frame: 0.045342206954956055s\n",
      "tensor([[0.9999]], device='cuda:0', grad_fn=<SigmoidBackward>)\n",
      "Handnet forward time: 0.007606029510498047\n",
      "Handsegnet forward time: 0.0010523796081542969\n",
      "s shape torch.Size([1, 2, 224, 224])\n",
      "for loop time 0.0029735565185546875\n",
      "hand mask sum: 3687.0\n",
      "Calculate single highest scoring object time: 0.029849767684936523\n",
      "Crop and resize time: 0.0009417533874511719\n",
      "Posenet forward time: 0.0019402503967285156\n",
      "Posepriornet forward time: 0.0007128715515136719\n",
      "Viewpoint forward time: 0.0009529590606689453\n",
      "Get normalized 3d coordinates time: 0.0005819797515869141\n",
      "Flip left handed input time: 0.00012087821960449219\n",
      "ScaLe heatmaps time 8.177757263183594e-05\n",
      "Time for processing 1 frame: 0.04436826705932617s\n"
     ]
    },
    {
     "name": "stderr",
     "output_type": "stream",
     "text": [
      "142it [00:24,  5.92it/s]"
     ]
    },
    {
     "name": "stdout",
     "output_type": "stream",
     "text": [
      "tensor([[0.9999]], device='cuda:0', grad_fn=<SigmoidBackward>)\n",
      "Handnet forward time: 0.007762432098388672\n",
      "Handsegnet forward time: 0.0010373592376708984\n",
      "s shape torch.Size([1, 2, 224, 224])\n",
      "for loop time 0.0029773712158203125\n",
      "hand mask sum: 3702.0\n",
      "Calculate single highest scoring object time: 0.029865503311157227\n",
      "Crop and resize time: 0.0009496212005615234\n",
      "Posenet forward time: 0.0019757747650146484\n",
      "Posepriornet forward time: 0.0007541179656982422\n",
      "Viewpoint forward time: 0.0009515285491943359\n",
      "Get normalized 3d coordinates time: 0.0005803108215332031\n",
      "Flip left handed input time: 0.00011944770812988281\n",
      "ScaLe heatmaps time 0.0001251697540283203\n",
      "Time for processing 1 frame: 0.044689178466796875s\n",
      "tensor([[0.9999]], device='cuda:0', grad_fn=<SigmoidBackward>)\n",
      "Handnet forward time: 0.007985115051269531\n",
      "Handsegnet forward time: 0.001024007797241211\n",
      "s shape torch.Size([1, 2, 224, 224])\n"
     ]
    },
    {
     "name": "stderr",
     "output_type": "stream",
     "text": [
      "\r",
      "143it [00:24,  5.84it/s]"
     ]
    },
    {
     "name": "stdout",
     "output_type": "stream",
     "text": [
      "for loop time 0.003353118896484375\n",
      "hand mask sum: 3698.0\n",
      "Calculate single highest scoring object time: 0.032860755920410156\n",
      "Crop and resize time: 0.001047372817993164\n",
      "Posenet forward time: 0.0022449493408203125\n",
      "Posepriornet forward time: 0.0008211135864257812\n",
      "Viewpoint forward time: 0.0009737014770507812\n",
      "Get normalized 3d coordinates time: 0.0006773471832275391\n",
      "Flip left handed input time: 0.0001499652862548828\n",
      "ScaLe heatmaps time 9.703636169433594e-05\n",
      "Time for processing 1 frame: 0.048604726791381836s\n",
      "tensor([[1.0000]], device='cuda:0', grad_fn=<SigmoidBackward>)\n",
      "Handnet forward time: 0.009082794189453125\n",
      "Handsegnet forward time: 0.0010521411895751953\n",
      "s shape torch.Size([1, 2, 224, 224])\n",
      "for loop time 0.0030694007873535156\n",
      "hand mask sum: 3710.0\n",
      "Calculate single highest scoring object time: 0.03141522407531738\n",
      "Crop and resize time: 0.0009753704071044922\n",
      "Posenet forward time: 0.001983642578125\n",
      "Posepriornet forward time: 0.0007164478302001953\n",
      "Viewpoint forward time: 0.0009496212005615234\n",
      "Get normalized 3d coordinates time: 0.0005888938903808594\n",
      "Flip left handed input time: 0.00011992454528808594\n",
      "ScaLe heatmaps time 3.6716461181640625e-05\n",
      "Time for processing 1 frame: 0.04755282402038574s\n"
     ]
    },
    {
     "name": "stderr",
     "output_type": "stream",
     "text": [
      "145it [00:25,  5.71it/s]"
     ]
    },
    {
     "name": "stdout",
     "output_type": "stream",
     "text": [
      "tensor([[1.0000]], device='cuda:0', grad_fn=<SigmoidBackward>)\n",
      "Handnet forward time: 0.009710550308227539\n",
      "Handsegnet forward time: 0.0010421276092529297\n",
      "s shape torch.Size([1, 2, 224, 224])\n",
      "for loop time 0.0034821033477783203\n",
      "hand mask sum: 3710.0\n",
      "Calculate single highest scoring object time: 0.030893325805664062\n",
      "Crop and resize time: 0.0009682178497314453\n",
      "Posenet forward time: 0.002031087875366211\n",
      "Posepriornet forward time: 0.0007290840148925781\n",
      "Viewpoint forward time: 0.0009572505950927734\n",
      "Get normalized 3d coordinates time: 0.0005977153778076172\n",
      "Flip left handed input time: 0.0001227855682373047\n",
      "ScaLe heatmaps time 8.535385131835938e-05\n",
      "Time for processing 1 frame: 0.047805070877075195s\n",
      "tensor([[1.0000]], device='cuda:0', grad_fn=<SigmoidBackward>)\n",
      "Handnet forward time: 0.00797128677368164\n",
      "Handsegnet forward time: 0.0010905265808105469\n"
     ]
    },
    {
     "name": "stderr",
     "output_type": "stream",
     "text": [
      "\r",
      "146it [00:25,  5.68it/s]"
     ]
    },
    {
     "name": "stdout",
     "output_type": "stream",
     "text": [
      "s shape torch.Size([1, 2, 224, 224])\n",
      "for loop time 0.0030257701873779297\n",
      "hand mask sum: 3723.0\n",
      "Calculate single highest scoring object time: 0.03205466270446777\n",
      "Crop and resize time: 0.001924753189086914\n",
      "Posenet forward time: 0.0021407604217529297\n",
      "Posepriornet forward time: 0.0008406639099121094\n",
      "Viewpoint forward time: 0.0014193058013916016\n",
      "Get normalized 3d coordinates time: 0.0010199546813964844\n",
      "Flip left handed input time: 0.00015115737915039062\n",
      "ScaLe heatmaps time 0.00010752677917480469\n",
      "Time for processing 1 frame: 0.04945564270019531s\n",
      "tensor([[1.0000]], device='cuda:0', grad_fn=<SigmoidBackward>)\n",
      "Handnet forward time: 0.008062124252319336\n",
      "Handsegnet forward time: 0.0009915828704833984\n",
      "s shape torch.Size([1, 2, 224, 224])\n",
      "for loop time 0.0030057430267333984\n",
      "hand mask sum: 3746.0\n",
      "Calculate single highest scoring object time: 0.03234529495239258\n",
      "Crop and resize time: 0.000997304916381836\n",
      "Posenet forward time: 0.0020368099212646484\n",
      "Posepriornet forward time: 0.0007700920104980469\n",
      "Viewpoint forward time: 0.0009722709655761719\n",
      "Get normalized 3d coordinates time: 0.0006482601165771484\n",
      "Flip left handed input time: 0.00014781951904296875\n",
      "ScaLe heatmaps time 0.00010538101196289062\n",
      "Time for processing 1 frame: 0.04779553413391113s\n"
     ]
    },
    {
     "name": "stderr",
     "output_type": "stream",
     "text": [
      "148it [00:25,  5.66it/s]"
     ]
    },
    {
     "name": "stdout",
     "output_type": "stream",
     "text": [
      "tensor([[0.9999]], device='cuda:0', grad_fn=<SigmoidBackward>)\n",
      "Handnet forward time: 0.009008169174194336\n",
      "Handsegnet forward time: 0.0010619163513183594\n",
      "s shape torch.Size([1, 2, 224, 224])\n",
      "for loop time 0.0036623477935791016\n",
      "hand mask sum: 3685.0\n",
      "Calculate single highest scoring object time: 0.03243613243103027\n",
      "Crop and resize time: 0.000993490219116211\n",
      "Posenet forward time: 0.0020294189453125\n",
      "Posepriornet forward time: 0.0007636547088623047\n",
      "Viewpoint forward time: 0.0009818077087402344\n",
      "Get normalized 3d coordinates time: 0.0006608963012695312\n",
      "Flip left handed input time: 0.00014853477478027344\n",
      "ScaLe heatmaps time 0.00010776519775390625\n",
      "Time for processing 1 frame: 0.048902273178100586s\n",
      "tensor([[0.9999]], device='cuda:0', grad_fn=<SigmoidBackward>)\n",
      "Handnet forward time: 0.007977962493896484\n",
      "Handsegnet forward time: 0.0010776519775390625\n",
      "s shape torch.Size([1, 2, 224, 224])\n",
      "for loop time 0.0030317306518554688\n",
      "hand mask sum: 3675.0\n",
      "Calculate single highest scoring object time: 0.03134942054748535\n",
      "Crop and resize time: 0.0009903907775878906\n",
      "Posenet forward time: 0.002610921859741211\n",
      "Posepriornet forward time: 0.0011277198791503906\n",
      "Viewpoint forward time: 0.0014727115631103516\n",
      "Get normalized 3d coordinates time: 0.0007698535919189453\n",
      "Flip left handed input time: 0.0001685619354248047\n",
      "ScaLe heatmaps time 9.799003601074219e-05\n",
      "Time for processing 1 frame: 0.04844856262207031s\n"
     ]
    },
    {
     "name": "stderr",
     "output_type": "stream",
     "text": [
      "150it [00:26,  5.08it/s]"
     ]
    },
    {
     "name": "stdout",
     "output_type": "stream",
     "text": [
      "tensor([[1.0000]], device='cuda:0', grad_fn=<SigmoidBackward>)\n",
      "Handnet forward time: 0.00841665267944336\n",
      "Handsegnet forward time: 0.0009467601776123047\n",
      "s shape torch.Size([1, 2, 224, 224])\n",
      "for loop time 0.0031347274780273438\n",
      "hand mask sum: 3671.0\n",
      "Calculate single highest scoring object time: 0.03243207931518555\n",
      "Crop and resize time: 0.0009257793426513672\n",
      "Posenet forward time: 0.0019414424896240234\n",
      "Posepriornet forward time: 0.0007975101470947266\n",
      "Viewpoint forward time: 0.0009379386901855469\n",
      "Get normalized 3d coordinates time: 0.0005714893341064453\n",
      "Flip left handed input time: 0.0001366138458251953\n",
      "ScaLe heatmaps time 5.9604644775390625e-05\n",
      "Time for processing 1 frame: 0.047895193099975586s\n",
      "tensor([[1.0000]], device='cuda:0', grad_fn=<SigmoidBackward>)\n",
      "Handnet forward time: 0.007961750030517578\n",
      "Handsegnet forward time: 0.0010852813720703125\n"
     ]
    },
    {
     "name": "stderr",
     "output_type": "stream",
     "text": [
      "\r",
      "151it [00:26,  5.28it/s]"
     ]
    },
    {
     "name": "stdout",
     "output_type": "stream",
     "text": [
      "s shape torch.Size([1, 2, 224, 224])\n",
      "for loop time 0.0030014514923095703\n",
      "hand mask sum: 3683.0\n",
      "Calculate single highest scoring object time: 0.029982805252075195\n",
      "Crop and resize time: 0.000972747802734375\n",
      "Posenet forward time: 0.0019779205322265625\n",
      "Posepriornet forward time: 0.0007190704345703125\n",
      "Viewpoint forward time: 0.0009915828704833984\n",
      "Get normalized 3d coordinates time: 0.0006031990051269531\n",
      "Flip left handed input time: 0.0001289844512939453\n",
      "ScaLe heatmaps time 9.083747863769531e-05\n",
      "Time for processing 1 frame: 0.04514789581298828s\n",
      "tensor([[1.0000]], device='cuda:0', grad_fn=<SigmoidBackward>)\n",
      "Handnet forward time: 0.008102655410766602\n",
      "Handsegnet forward time: 0.0010459423065185547\n",
      "s shape torch.Size([1, 2, 224, 224])\n",
      "for loop time 0.0030972957611083984\n",
      "hand mask sum: 3675.0\n",
      "Calculate single highest scoring object time: 0.029644012451171875\n",
      "Crop and resize time: 0.0009992122650146484\n",
      "Posenet forward time: 0.0019822120666503906\n",
      "Posepriornet forward time: 0.0007164478302001953\n",
      "Viewpoint forward time: 0.0009603500366210938\n",
      "Get normalized 3d coordinates time: 0.0005850791931152344\n",
      "Flip left handed input time: 0.00012135505676269531\n",
      "ScaLe heatmaps time 8.869171142578125e-05\n",
      "Time for processing 1 frame: 0.04486870765686035s\n"
     ]
    },
    {
     "name": "stderr",
     "output_type": "stream",
     "text": [
      "153it [00:26,  5.50it/s]"
     ]
    },
    {
     "name": "stdout",
     "output_type": "stream",
     "text": [
      "tensor([[1.0000]], device='cuda:0', grad_fn=<SigmoidBackward>)\n",
      "Handnet forward time: 0.00872182846069336\n",
      "Handsegnet forward time: 0.0010263919830322266\n",
      "s shape torch.Size([1, 2, 224, 224])\n",
      "for loop time 0.003000020980834961\n",
      "hand mask sum: 3670.0\n",
      "Calculate single highest scoring object time: 0.0297544002532959\n",
      "Crop and resize time: 0.0009427070617675781\n",
      "Posenet forward time: 0.0019524097442626953\n",
      "Posepriornet forward time: 0.0007178783416748047\n",
      "Viewpoint forward time: 0.0009448528289794922\n",
      "Get normalized 3d coordinates time: 0.0005786418914794922\n",
      "Flip left handed input time: 0.00011730194091796875\n",
      "ScaLe heatmaps time 8.416175842285156e-05\n",
      "Time for processing 1 frame: 0.045397281646728516s\n",
      "tensor([[1.0000]], device='cuda:0', grad_fn=<SigmoidBackward>)\n",
      "Handnet forward time: 0.009035825729370117\n",
      "Handsegnet forward time: 0.0010564327239990234\n"
     ]
    },
    {
     "name": "stderr",
     "output_type": "stream",
     "text": [
      "\r",
      "154it [00:27,  5.53it/s]"
     ]
    },
    {
     "name": "stdout",
     "output_type": "stream",
     "text": [
      "s shape torch.Size([1, 2, 224, 224])\n",
      "for loop time 0.00405573844909668\n",
      "hand mask sum: 3640.0\n",
      "Calculate single highest scoring object time: 0.03039264678955078\n",
      "Crop and resize time: 0.0010333061218261719\n",
      "Posenet forward time: 0.0020356178283691406\n",
      "Posepriornet forward time: 0.0009889602661132812\n",
      "Viewpoint forward time: 0.0011861324310302734\n",
      "Get normalized 3d coordinates time: 0.0006334781646728516\n",
      "Flip left handed input time: 0.00012826919555664062\n",
      "ScaLe heatmaps time 9.107589721679688e-05\n",
      "Time for processing 1 frame: 0.04723954200744629s\n",
      "tensor([[1.0000]], device='cuda:0', grad_fn=<SigmoidBackward>)\n",
      "Handnet forward time: 0.0074901580810546875\n",
      "Handsegnet forward time: 0.0009593963623046875\n",
      "s shape torch.Size([1, 2, 224, 224])\n",
      "for loop time 0.003116130828857422\n",
      "hand mask sum: 3632.0\n",
      "Calculate single highest scoring object time: 0.030996084213256836\n",
      "Crop and resize time: 0.0009658336639404297\n",
      "Posenet forward time: 0.002034902572631836\n",
      "Posepriornet forward time: 0.0007545948028564453\n",
      "Viewpoint forward time: 0.0009412765502929688\n",
      "Get normalized 3d coordinates time: 0.0006401538848876953\n",
      "Flip left handed input time: 0.00014400482177734375\n",
      "ScaLe heatmaps time 9.655952453613281e-05\n",
      "Time for processing 1 frame: 0.045624494552612305s\n"
     ]
    },
    {
     "name": "stderr",
     "output_type": "stream",
     "text": [
      "156it [00:27,  5.72it/s]"
     ]
    },
    {
     "name": "stdout",
     "output_type": "stream",
     "text": [
      "tensor([[1.0000]], device='cuda:0', grad_fn=<SigmoidBackward>)\n",
      "Handnet forward time: 0.007521152496337891\n",
      "Handsegnet forward time: 0.0009913444519042969\n",
      "s shape torch.Size([1, 2, 224, 224])\n",
      "for loop time 0.0029909610748291016\n",
      "hand mask sum: 3650.0\n",
      "Calculate single highest scoring object time: 0.030221939086914062\n",
      "Crop and resize time: 0.00099945068359375\n",
      "Posenet forward time: 0.002033233642578125\n",
      "Posepriornet forward time: 0.0007581710815429688\n",
      "Viewpoint forward time: 0.0009691715240478516\n",
      "Get normalized 3d coordinates time: 0.0006108283996582031\n",
      "Flip left handed input time: 0.00014591217041015625\n",
      "ScaLe heatmaps time 0.00010657310485839844\n",
      "Time for processing 1 frame: 0.04503822326660156s\n",
      "tensor([[1.0000]], device='cuda:0', grad_fn=<SigmoidBackward>)\n",
      "Handnet forward time: 0.00755763053894043\n",
      "Handsegnet forward time: 0.0009949207305908203\n",
      "s shape torch.Size([1, 2, 224, 224])\n",
      "for loop time 0.0029723644256591797\n",
      "hand mask sum: 3646.0\n",
      "Calculate single highest scoring object time: 0.02979254722595215\n",
      "Crop and resize time: 0.0010173320770263672\n"
     ]
    },
    {
     "name": "stderr",
     "output_type": "stream",
     "text": [
      "\r",
      "157it [00:27,  5.77it/s]"
     ]
    },
    {
     "name": "stdout",
     "output_type": "stream",
     "text": [
      "Posenet forward time: 0.002251863479614258\n",
      "Posepriornet forward time: 0.0008339881896972656\n",
      "Viewpoint forward time: 0.0009911060333251953\n",
      "Get normalized 3d coordinates time: 0.0006206035614013672\n",
      "Flip left handed input time: 0.0001461505889892578\n",
      "ScaLe heatmaps time 0.00010418891906738281\n",
      "Time for processing 1 frame: 0.04495811462402344s\n",
      "tensor([[1.0000]], device='cuda:0', grad_fn=<SigmoidBackward>)\n",
      "Handnet forward time: 0.007691860198974609\n",
      "Handsegnet forward time: 0.001043081283569336\n",
      "s shape torch.Size([1, 2, 224, 224])\n",
      "for loop time 0.003471851348876953\n",
      "hand mask sum: 3650.0\n",
      "Calculate single highest scoring object time: 0.03157830238342285\n",
      "Crop and resize time: 0.0009944438934326172\n",
      "Posenet forward time: 0.002028226852416992\n",
      "Posepriornet forward time: 0.0007562637329101562\n",
      "Viewpoint forward time: 0.0009818077087402344\n",
      "Get normalized 3d coordinates time: 0.0006101131439208984\n",
      "Flip left handed input time: 0.0001430511474609375\n",
      "ScaLe heatmaps time 0.00010323524475097656\n",
      "Time for processing 1 frame: 0.04664897918701172s\n"
     ]
    },
    {
     "name": "stderr",
     "output_type": "stream",
     "text": [
      "159it [00:27,  5.81it/s]"
     ]
    },
    {
     "name": "stdout",
     "output_type": "stream",
     "text": [
      "tensor([[1.0000]], device='cuda:0', grad_fn=<SigmoidBackward>)\n",
      "Handnet forward time: 0.007678985595703125\n",
      "Handsegnet forward time: 0.0010426044464111328\n",
      "s shape torch.Size([1, 2, 224, 224])\n",
      "for loop time 0.003016233444213867\n",
      "hand mask sum: 3646.0\n",
      "Calculate single highest scoring object time: 0.03077554702758789\n",
      "Crop and resize time: 0.0010561943054199219\n",
      "Posenet forward time: 0.0020623207092285156\n",
      "Posepriornet forward time: 0.0007543563842773438\n",
      "Viewpoint forward time: 0.0009686946868896484\n",
      "Get normalized 3d coordinates time: 0.0006237030029296875\n",
      "Flip left handed input time: 0.00014638900756835938\n",
      "ScaLe heatmaps time 0.00010466575622558594\n",
      "Time for processing 1 frame: 0.04591178894042969s\n",
      "tensor([[1.0000]], device='cuda:0', grad_fn=<SigmoidBackward>)\n",
      "Handnet forward time: 0.00751495361328125\n",
      "Handsegnet forward time: 0.0009596347808837891\n",
      "s shape torch.Size([1, 2, 224, 224])\n"
     ]
    },
    {
     "name": "stderr",
     "output_type": "stream",
     "text": [
      "\r",
      "160it [00:28,  5.80it/s]"
     ]
    },
    {
     "name": "stdout",
     "output_type": "stream",
     "text": [
      "for loop time 0.0033452510833740234\n",
      "hand mask sum: 3642.0\n",
      "Calculate single highest scoring object time: 0.030657529830932617\n",
      "Crop and resize time: 0.00098419189453125\n",
      "Posenet forward time: 0.0020406246185302734\n",
      "Posepriornet forward time: 0.0007688999176025391\n",
      "Viewpoint forward time: 0.001007080078125\n",
      "Get normalized 3d coordinates time: 0.0006279945373535156\n",
      "Flip left handed input time: 0.0001468658447265625\n",
      "ScaLe heatmaps time 0.0001049041748046875\n",
      "Time for processing 1 frame: 0.04545140266418457s\n",
      "tensor([[1.0000]], device='cuda:0', grad_fn=<SigmoidBackward>)\n",
      "Handnet forward time: 0.007584333419799805\n",
      "Handsegnet forward time: 0.001302957534790039\n",
      "s shape torch.Size([1, 2, 224, 224])\n",
      "for loop time 0.004721879959106445\n",
      "hand mask sum: 3648.0\n",
      "Calculate single highest scoring object time: 0.031885385513305664\n",
      "Crop and resize time: 0.0009922981262207031\n",
      "Posenet forward time: 0.002133607864379883\n",
      "Posepriornet forward time: 0.0007567405700683594\n",
      "Viewpoint forward time: 0.0009703636169433594\n",
      "Get normalized 3d coordinates time: 0.0006270408630371094\n",
      "Flip left handed input time: 0.00014710426330566406\n",
      "ScaLe heatmaps time 0.00010466575622558594\n",
      "Time for processing 1 frame: 0.04700112342834473s\n"
     ]
    },
    {
     "name": "stderr",
     "output_type": "stream",
     "text": [
      "162it [00:28,  5.81it/s]"
     ]
    },
    {
     "name": "stdout",
     "output_type": "stream",
     "text": [
      "tensor([[1.0000]], device='cuda:0', grad_fn=<SigmoidBackward>)\n",
      "Handnet forward time: 0.00755000114440918\n",
      "Handsegnet forward time: 0.0009610652923583984\n",
      "s shape torch.Size([1, 2, 224, 224])\n",
      "for loop time 0.0030574798583984375\n",
      "hand mask sum: 3633.0\n",
      "Calculate single highest scoring object time: 0.029358863830566406\n",
      "Crop and resize time: 0.0009996891021728516\n",
      "Posenet forward time: 0.0020322799682617188\n",
      "Posepriornet forward time: 0.0007479190826416016\n",
      "Viewpoint forward time: 0.0010297298431396484\n",
      "Get normalized 3d coordinates time: 0.0006144046783447266\n",
      "Flip left handed input time: 0.0001437664031982422\n",
      "ScaLe heatmaps time 0.00010371208190917969\n",
      "Time for processing 1 frame: 0.04419374465942383s\n",
      "tensor([[1.0000]], device='cuda:0', grad_fn=<SigmoidBackward>)\n",
      "Handnet forward time: 0.007523059844970703\n",
      "Handsegnet forward time: 0.0009584426879882812\n",
      "s shape torch.Size([1, 2, 224, 224])\n",
      "for loop time 0.0030155181884765625\n"
     ]
    },
    {
     "name": "stderr",
     "output_type": "stream",
     "text": [
      "\r",
      "163it [00:28,  5.75it/s]"
     ]
    },
    {
     "name": "stdout",
     "output_type": "stream",
     "text": [
      "hand mask sum: 3620.0\n",
      "Calculate single highest scoring object time: 0.030088424682617188\n",
      "Crop and resize time: 0.0010554790496826172\n",
      "Posenet forward time: 0.00208282470703125\n",
      "Posepriornet forward time: 0.0008099079132080078\n",
      "Viewpoint forward time: 0.0009872913360595703\n",
      "Get normalized 3d coordinates time: 0.0006971359252929688\n",
      "Flip left handed input time: 0.00015091896057128906\n",
      "ScaLe heatmaps time 0.00011992454528808594\n",
      "Time for processing 1 frame: 0.045205116271972656s\n",
      "tensor([[1.0000]], device='cuda:0', grad_fn=<SigmoidBackward>)\n",
      "Handnet forward time: 0.00809168815612793\n",
      "Handsegnet forward time: 0.001020669937133789\n",
      "s shape torch.Size([1, 2, 224, 224])\n",
      "for loop time 0.0029625892639160156\n",
      "hand mask sum: 3611.0\n",
      "Calculate single highest scoring object time: 0.029877185821533203\n",
      "Crop and resize time: 0.0009307861328125\n",
      "Posenet forward time: 0.001911163330078125\n",
      "Posepriornet forward time: 0.0007052421569824219\n",
      "Viewpoint forward time: 0.00096893310546875\n",
      "Get normalized 3d coordinates time: 0.0005817413330078125\n",
      "Flip left handed input time: 0.00012040138244628906\n",
      "ScaLe heatmaps time 8.702278137207031e-05\n",
      "Time for processing 1 frame: 0.04490542411804199s\n"
     ]
    },
    {
     "name": "stderr",
     "output_type": "stream",
     "text": [
      "165it [00:28,  5.85it/s]"
     ]
    },
    {
     "name": "stdout",
     "output_type": "stream",
     "text": [
      "tensor([[1.0000]], device='cuda:0', grad_fn=<SigmoidBackward>)\n",
      "Handnet forward time: 0.007684469223022461\n",
      "Handsegnet forward time: 0.0010159015655517578\n",
      "s shape torch.Size([1, 2, 224, 224])\n",
      "for loop time 0.0029654502868652344\n",
      "hand mask sum: 3608.0\n",
      "Calculate single highest scoring object time: 0.029463529586791992\n",
      "Crop and resize time: 0.0009415149688720703\n",
      "Posenet forward time: 0.001922607421875\n",
      "Posepriornet forward time: 0.0007050037384033203\n",
      "Viewpoint forward time: 0.0009262561798095703\n",
      "Get normalized 3d coordinates time: 0.0005741119384765625\n",
      "Flip left handed input time: 0.00011849403381347656\n",
      "ScaLe heatmaps time 8.440017700195312e-05\n",
      "Time for processing 1 frame: 0.044098615646362305s\n",
      "tensor([[1.0000]], device='cuda:0', grad_fn=<SigmoidBackward>)\n",
      "Handnet forward time: 0.008005380630493164\n",
      "Handsegnet forward time: 0.0010101795196533203\n",
      "s shape torch.Size([1, 2, 224, 224])\n",
      "for loop time 0.0029587745666503906\n",
      "hand mask sum: 3597.0\n",
      "Calculate single highest scoring object time: 0.02995586395263672\n",
      "Crop and resize time: 0.00093841552734375\n"
     ]
    },
    {
     "name": "stderr",
     "output_type": "stream",
     "text": [
      "\r",
      "166it [00:29,  5.82it/s]"
     ]
    },
    {
     "name": "stdout",
     "output_type": "stream",
     "text": [
      "Posenet forward time: 0.002630949020385742\n",
      "Posepriornet forward time: 0.0010526180267333984\n",
      "Viewpoint forward time: 0.0011327266693115234\n",
      "Get normalized 3d coordinates time: 0.0007388591766357422\n",
      "Flip left handed input time: 0.00013518333435058594\n",
      "ScaLe heatmaps time 4.482269287109375e-05\n",
      "Time for processing 1 frame: 0.04636979103088379s\n",
      "tensor([[0.9999]], device='cuda:0', grad_fn=<SigmoidBackward>)\n",
      "Handnet forward time: 0.007678031921386719\n",
      "Handsegnet forward time: 0.0010285377502441406\n",
      "s shape torch.Size([1, 2, 224, 224])\n",
      "for loop time 0.003283977508544922\n",
      "hand mask sum: 3602.0\n",
      "Calculate single highest scoring object time: 0.029583454132080078\n",
      "Crop and resize time: 0.0009405612945556641\n",
      "Posenet forward time: 0.001922607421875\n",
      "Posepriornet forward time: 0.00070953369140625\n",
      "Viewpoint forward time: 0.0009253025054931641\n",
      "Get normalized 3d coordinates time: 0.0005769729614257812\n",
      "Flip left handed input time: 0.00011587142944335938\n",
      "ScaLe heatmaps time 8.654594421386719e-05\n",
      "Time for processing 1 frame: 0.044179677963256836s\n"
     ]
    },
    {
     "name": "stderr",
     "output_type": "stream",
     "text": [
      "168it [00:29,  5.90it/s]"
     ]
    },
    {
     "name": "stdout",
     "output_type": "stream",
     "text": [
      "tensor([[1.0000]], device='cuda:0', grad_fn=<SigmoidBackward>)\n",
      "Handnet forward time: 0.007792472839355469\n",
      "Handsegnet forward time: 0.0010104179382324219\n",
      "s shape torch.Size([1, 2, 224, 224])\n",
      "for loop time 0.0030062198638916016\n",
      "hand mask sum: 3610.0\n",
      "Calculate single highest scoring object time: 0.028662919998168945\n",
      "Crop and resize time: 0.0012867450714111328\n",
      "Posenet forward time: 0.0019426345825195312\n",
      "Posepriornet forward time: 0.0007135868072509766\n",
      "Viewpoint forward time: 0.0009388923645019531\n",
      "Get normalized 3d coordinates time: 0.0005810260772705078\n",
      "Flip left handed input time: 0.00012063980102539062\n",
      "ScaLe heatmaps time 8.344650268554688e-05\n",
      "Time for processing 1 frame: 0.04366183280944824s\n",
      "tensor([[0.9999]], device='cuda:0', grad_fn=<SigmoidBackward>)\n",
      "Handnet forward time: 0.008000612258911133\n",
      "Handsegnet forward time: 0.0010230541229248047\n",
      "s shape torch.Size([1, 2, 224, 224])\n",
      "for loop time 0.0030944347381591797\n",
      "hand mask sum: 3607.0\n",
      "Calculate single highest scoring object time: 0.02938222885131836\n",
      "Crop and resize time: 0.0009396076202392578\n",
      "Posenet forward time: 0.0019092559814453125\n"
     ]
    },
    {
     "name": "stderr",
     "output_type": "stream",
     "text": [
      "\r",
      "169it [00:29,  5.91it/s]"
     ]
    },
    {
     "name": "stdout",
     "output_type": "stream",
     "text": [
      "Posepriornet forward time: 0.0009908676147460938\n",
      "Viewpoint forward time: 0.0010235309600830078\n",
      "Get normalized 3d coordinates time: 0.0005998611450195312\n",
      "Flip left handed input time: 0.00012183189392089844\n",
      "ScaLe heatmaps time 9.131431579589844e-05\n",
      "Time for processing 1 frame: 0.044603586196899414s\n",
      "tensor([[1.0000]], device='cuda:0', grad_fn=<SigmoidBackward>)\n",
      "Handnet forward time: 0.007619142532348633\n",
      "Handsegnet forward time: 0.0010106563568115234\n",
      "s shape torch.Size([1, 2, 224, 224])\n",
      "for loop time 0.0029671192169189453\n",
      "hand mask sum: 3609.0\n",
      "Calculate single highest scoring object time: 0.029736757278442383\n",
      "Crop and resize time: 0.0009322166442871094\n",
      "Posenet forward time: 0.0019342899322509766\n",
      "Posepriornet forward time: 0.0007035732269287109\n",
      "Viewpoint forward time: 0.0009310245513916016\n",
      "Get normalized 3d coordinates time: 0.0005733966827392578\n",
      "Flip left handed input time: 0.00011920928955078125\n",
      "ScaLe heatmaps time 6.604194641113281e-05\n",
      "Time for processing 1 frame: 0.04423689842224121s\n"
     ]
    },
    {
     "name": "stderr",
     "output_type": "stream",
     "text": [
      "171it [00:29,  5.93it/s]"
     ]
    },
    {
     "name": "stdout",
     "output_type": "stream",
     "text": [
      "tensor([[1.0000]], device='cuda:0', grad_fn=<SigmoidBackward>)\n",
      "Handnet forward time: 0.007827281951904297\n",
      "Handsegnet forward time: 0.0010178089141845703\n",
      "s shape torch.Size([1, 2, 224, 224])\n",
      "for loop time 0.0034172534942626953\n",
      "hand mask sum: 3620.0\n",
      "Calculate single highest scoring object time: 0.02911520004272461\n",
      "Crop and resize time: 0.0009367465972900391\n",
      "Posenet forward time: 0.001917123794555664\n",
      "Posepriornet forward time: 0.0007109642028808594\n",
      "Viewpoint forward time: 0.0009305477142333984\n",
      "Get normalized 3d coordinates time: 0.0005748271942138672\n",
      "Flip left handed input time: 0.000118255615234375\n",
      "ScaLe heatmaps time 8.249282836914062e-05\n",
      "Time for processing 1 frame: 0.04376053810119629s\n",
      "tensor([[1.0000]], device='cuda:0', grad_fn=<SigmoidBackward>)\n",
      "Handnet forward time: 0.00799417495727539\n",
      "Handsegnet forward time: 0.0010197162628173828\n",
      "s shape torch.Size([1, 2, 224, 224])\n",
      "for loop time 0.0030069351196289062\n",
      "hand mask sum: 3603.0\n",
      "Calculate single highest scoring object time: 0.02953505516052246\n",
      "Crop and resize time: 0.0009419918060302734\n"
     ]
    },
    {
     "name": "stderr",
     "output_type": "stream",
     "text": [
      "\r",
      "172it [00:30,  5.91it/s]"
     ]
    },
    {
     "name": "stdout",
     "output_type": "stream",
     "text": [
      "Posenet forward time: 0.0022466182708740234\n",
      "Posepriornet forward time: 0.0006830692291259766\n",
      "Viewpoint forward time: 0.0009419918060302734\n",
      "Get normalized 3d coordinates time: 0.0005855560302734375\n",
      "Flip left handed input time: 0.00011682510375976562\n",
      "ScaLe heatmaps time 8.916854858398438e-05\n",
      "Time for processing 1 frame: 0.0448763370513916s\n",
      "tensor([[1.0000]], device='cuda:0', grad_fn=<SigmoidBackward>)\n",
      "Handnet forward time: 0.007663249969482422\n",
      "Handsegnet forward time: 0.0010213851928710938\n",
      "s shape torch.Size([1, 2, 224, 224])\n",
      "for loop time 0.003064393997192383\n",
      "hand mask sum: 3617.0\n",
      "Calculate single highest scoring object time: 0.030134201049804688\n",
      "Crop and resize time: 0.0009489059448242188\n",
      "Posenet forward time: 0.0019237995147705078\n",
      "Posepriornet forward time: 0.0007090568542480469\n",
      "Viewpoint forward time: 0.0009360313415527344\n",
      "Get normalized 3d coordinates time: 0.0005786418914794922\n",
      "Flip left handed input time: 0.00012969970703125\n",
      "ScaLe heatmaps time 9.107589721679688e-05\n",
      "Time for processing 1 frame: 0.0447542667388916s\n"
     ]
    },
    {
     "name": "stderr",
     "output_type": "stream",
     "text": [
      "174it [00:30,  5.94it/s]"
     ]
    },
    {
     "name": "stdout",
     "output_type": "stream",
     "text": [
      "tensor([[1.0000]], device='cuda:0', grad_fn=<SigmoidBackward>)\n",
      "Handnet forward time: 0.007711648941040039\n",
      "Handsegnet forward time: 0.0010747909545898438\n",
      "s shape torch.Size([1, 2, 224, 224])\n",
      "for loop time 0.002965688705444336\n",
      "hand mask sum: 3606.0\n",
      "Calculate single highest scoring object time: 0.029434680938720703\n",
      "Crop and resize time: 0.0009489059448242188\n",
      "Posenet forward time: 0.0019266605377197266\n",
      "Posepriornet forward time: 0.0007228851318359375\n",
      "Viewpoint forward time: 0.0009317398071289062\n",
      "Get normalized 3d coordinates time: 0.0005831718444824219\n",
      "Flip left handed input time: 0.00011897087097167969\n",
      "ScaLe heatmaps time 8.678436279296875e-05\n",
      "Time for processing 1 frame: 0.04408764839172363s\n",
      "tensor([[1.0000]], device='cuda:0', grad_fn=<SigmoidBackward>)\n",
      "Handnet forward time: 0.007962465286254883\n",
      "Handsegnet forward time: 0.0012433528900146484\n",
      "s shape torch.Size([1, 2, 224, 224])\n",
      "for loop time 0.0031876564025878906\n",
      "hand mask sum: 3608.0\n",
      "Calculate single highest scoring object time: 0.029315948486328125\n",
      "Crop and resize time: 0.0011119842529296875\n"
     ]
    },
    {
     "name": "stderr",
     "output_type": "stream",
     "text": [
      "\r",
      "175it [00:30,  5.92it/s]"
     ]
    },
    {
     "name": "stdout",
     "output_type": "stream",
     "text": [
      "Posenet forward time: 0.0026078224182128906\n",
      "Posepriornet forward time: 0.0009109973907470703\n",
      "Viewpoint forward time: 0.0011341571807861328\n",
      "Get normalized 3d coordinates time: 0.0007483959197998047\n",
      "Flip left handed input time: 0.00014328956604003906\n",
      "ScaLe heatmaps time 0.00011134147644042969\n",
      "Time for processing 1 frame: 0.04602527618408203s\n",
      "tensor([[1.0000]], device='cuda:0', grad_fn=<SigmoidBackward>)\n",
      "Handnet forward time: 0.007641315460205078\n",
      "Handsegnet forward time: 0.0010113716125488281\n",
      "s shape torch.Size([1, 2, 224, 224])\n",
      "for loop time 0.0033843517303466797\n",
      "hand mask sum: 3604.0\n",
      "Calculate single highest scoring object time: 0.02982640266418457\n",
      "Crop and resize time: 0.0009472370147705078\n",
      "Posenet forward time: 0.0019369125366210938\n",
      "Posepriornet forward time: 0.0007112026214599609\n",
      "Viewpoint forward time: 0.000926971435546875\n",
      "Get normalized 3d coordinates time: 0.0005753040313720703\n",
      "Flip left handed input time: 0.00011801719665527344\n",
      "ScaLe heatmaps time 8.058547973632812e-05\n",
      "Time for processing 1 frame: 0.04439568519592285s\n"
     ]
    },
    {
     "name": "stderr",
     "output_type": "stream",
     "text": [
      "177it [00:30,  5.93it/s]"
     ]
    },
    {
     "name": "stdout",
     "output_type": "stream",
     "text": [
      "tensor([[1.0000]], device='cuda:0', grad_fn=<SigmoidBackward>)\n",
      "Handnet forward time: 0.007645845413208008\n",
      "Handsegnet forward time: 0.0010104179382324219\n",
      "s shape torch.Size([1, 2, 224, 224])\n",
      "for loop time 0.0029914379119873047\n",
      "hand mask sum: 3600.0\n",
      "Calculate single highest scoring object time: 0.028616666793823242\n",
      "Crop and resize time: 0.0012977123260498047\n",
      "Posenet forward time: 0.0025146007537841797\n",
      "Posepriornet forward time: 0.0007164478302001953\n",
      "Viewpoint forward time: 0.0009291172027587891\n",
      "Get normalized 3d coordinates time: 0.0005822181701660156\n",
      "Flip left handed input time: 0.00011515617370605469\n",
      "ScaLe heatmaps time 8.678436279296875e-05\n",
      "Time for processing 1 frame: 0.04417824745178223s\n",
      "tensor([[1.0000]], device='cuda:0', grad_fn=<SigmoidBackward>)\n",
      "Handnet forward time: 0.007994651794433594\n",
      "Handsegnet forward time: 0.0010256767272949219\n",
      "s shape torch.Size([1, 2, 224, 224])\n",
      "for loop time 0.002945423126220703\n",
      "hand mask sum: 3595.0\n",
      "Calculate single highest scoring object time: 0.029518604278564453\n",
      "Crop and resize time: 0.0009398460388183594\n"
     ]
    },
    {
     "name": "stderr",
     "output_type": "stream",
     "text": [
      "\r",
      "178it [00:31,  5.92it/s]"
     ]
    },
    {
     "name": "stdout",
     "output_type": "stream",
     "text": [
      "Posenet forward time: 0.0025124549865722656\n",
      "Posepriornet forward time: 0.0008103847503662109\n",
      "Viewpoint forward time: 0.0009434223175048828\n",
      "Get normalized 3d coordinates time: 0.0005805492401123047\n",
      "Flip left handed input time: 0.000118255615234375\n",
      "ScaLe heatmaps time 9.226799011230469e-05\n",
      "Time for processing 1 frame: 0.04515981674194336s\n",
      "tensor([[1.0000]], device='cuda:0', grad_fn=<SigmoidBackward>)\n",
      "Handnet forward time: 0.007663726806640625\n",
      "Handsegnet forward time: 0.0010204315185546875\n",
      "s shape torch.Size([1, 2, 224, 224])\n",
      "for loop time 0.002952098846435547\n",
      "hand mask sum: 3588.0\n",
      "Calculate single highest scoring object time: 0.029913902282714844\n",
      "Crop and resize time: 0.0009496212005615234\n",
      "Posenet forward time: 0.0019333362579345703\n",
      "Posepriornet forward time: 0.0006961822509765625\n",
      "Viewpoint forward time: 0.0009331703186035156\n",
      "Get normalized 3d coordinates time: 0.0005803108215332031\n",
      "Flip left handed input time: 0.00011873245239257812\n",
      "ScaLe heatmaps time 8.702278137207031e-05\n",
      "Time for processing 1 frame: 0.04452347755432129s\n"
     ]
    },
    {
     "name": "stderr",
     "output_type": "stream",
     "text": [
      "180it [00:31,  5.93it/s]"
     ]
    },
    {
     "name": "stdout",
     "output_type": "stream",
     "text": [
      "tensor([[1.0000]], device='cuda:0', grad_fn=<SigmoidBackward>)\n",
      "Handnet forward time: 0.007619142532348633\n",
      "Handsegnet forward time: 0.001016855239868164\n",
      "s shape torch.Size([1, 2, 224, 224])\n",
      "for loop time 0.0029592514038085938\n",
      "hand mask sum: 3578.0\n",
      "Calculate single highest scoring object time: 0.029906034469604492\n",
      "Crop and resize time: 0.0009336471557617188\n",
      "Posenet forward time: 0.0019216537475585938\n",
      "Posepriornet forward time: 0.0007071495056152344\n",
      "Viewpoint forward time: 0.0009264945983886719\n",
      "Get normalized 3d coordinates time: 0.0005710124969482422\n",
      "Flip left handed input time: 0.00011754035949707031\n",
      "ScaLe heatmaps time 8.273124694824219e-05\n",
      "Time for processing 1 frame: 0.04446673393249512s\n",
      "tensor([[1.0000]], device='cuda:0', grad_fn=<SigmoidBackward>)\n",
      "Handnet forward time: 0.007982969284057617\n",
      "Handsegnet forward time: 0.0010044574737548828\n",
      "s shape torch.Size([1, 2, 224, 224])\n",
      "for loop time 0.0030057430267333984\n",
      "hand mask sum: 3575.0\n",
      "Calculate single highest scoring object time: 0.02990102767944336\n",
      "Crop and resize time: 0.0009317398071289062\n"
     ]
    },
    {
     "name": "stderr",
     "output_type": "stream",
     "text": [
      "\r",
      "181it [00:31,  5.89it/s]"
     ]
    },
    {
     "name": "stdout",
     "output_type": "stream",
     "text": [
      "Posenet forward time: 0.0022356510162353516\n",
      "Posepriornet forward time: 0.0007712841033935547\n",
      "Viewpoint forward time: 0.0009243488311767578\n",
      "Get normalized 3d coordinates time: 0.00058746337890625\n",
      "Flip left handed input time: 0.00012040138244628906\n",
      "ScaLe heatmaps time 8.392333984375e-05\n",
      "Time for processing 1 frame: 0.04515862464904785s\n",
      "tensor([[1.0000]], device='cuda:0', grad_fn=<SigmoidBackward>)\n",
      "Handnet forward time: 0.0076253414154052734\n",
      "Handsegnet forward time: 0.0010275840759277344\n",
      "s shape torch.Size([1, 2, 224, 224])\n",
      "for loop time 0.0029611587524414062\n",
      "hand mask sum: 3548.0\n",
      "Calculate single highest scoring object time: 0.02940535545349121\n",
      "Crop and resize time: 0.0012714862823486328\n",
      "Posenet forward time: 0.001978635787963867\n",
      "Posepriornet forward time: 0.0006999969482421875\n",
      "Viewpoint forward time: 0.0009253025054931641\n",
      "Get normalized 3d coordinates time: 0.00057220458984375\n",
      "Flip left handed input time: 0.00011849403381347656\n",
      "ScaLe heatmaps time 8.106231689453125e-05\n",
      "Time for processing 1 frame: 0.0442349910736084s\n"
     ]
    },
    {
     "name": "stderr",
     "output_type": "stream",
     "text": [
      "183it [00:31,  5.87it/s]"
     ]
    },
    {
     "name": "stdout",
     "output_type": "stream",
     "text": [
      "tensor([[1.0000]], device='cuda:0', grad_fn=<SigmoidBackward>)\n",
      "Handnet forward time: 0.007683753967285156\n",
      "Handsegnet forward time: 0.0013425350189208984\n",
      "s shape torch.Size([1, 2, 224, 224])\n",
      "for loop time 0.0032176971435546875\n",
      "hand mask sum: 3556.0\n",
      "Calculate single highest scoring object time: 0.02907085418701172\n",
      "Crop and resize time: 0.0018122196197509766\n",
      "Posenet forward time: 0.002473115921020508\n",
      "Posepriornet forward time: 0.0008592605590820312\n",
      "Viewpoint forward time: 0.0011379718780517578\n",
      "Get normalized 3d coordinates time: 0.0007221698760986328\n",
      "Flip left handed input time: 0.00012969970703125\n",
      "ScaLe heatmaps time 9.560585021972656e-05\n",
      "Time for processing 1 frame: 0.04608726501464844s\n",
      "tensor([[0.9999]], device='cuda:0', grad_fn=<SigmoidBackward>)\n",
      "Handnet forward time: 0.00821685791015625\n",
      "Handsegnet forward time: 0.0012357234954833984\n"
     ]
    },
    {
     "name": "stderr",
     "output_type": "stream",
     "text": [
      "\r",
      "184it [00:32,  5.78it/s]"
     ]
    },
    {
     "name": "stdout",
     "output_type": "stream",
     "text": [
      "s shape torch.Size([1, 2, 224, 224])\n",
      "for loop time 0.0032508373260498047\n",
      "hand mask sum: 3540.0\n",
      "Calculate single highest scoring object time: 0.031394243240356445\n",
      "Crop and resize time: 0.0011475086212158203\n",
      "Posenet forward time: 0.0024747848510742188\n",
      "Posepriornet forward time: 0.0008516311645507812\n",
      "Viewpoint forward time: 0.0011286735534667969\n",
      "Get normalized 3d coordinates time: 0.0007309913635253906\n",
      "Flip left handed input time: 0.0001537799835205078\n",
      "ScaLe heatmaps time 0.00011372566223144531\n",
      "Time for processing 1 frame: 0.04817056655883789s\n",
      "tensor([[0.9999]], device='cuda:0', grad_fn=<SigmoidBackward>)\n",
      "Handnet forward time: 0.009578704833984375\n",
      "Handsegnet forward time: 0.0010342597961425781\n",
      "s shape torch.Size([1, 2, 224, 224])\n",
      "for loop time 0.0030510425567626953\n",
      "hand mask sum: 3491.0\n",
      "Calculate single highest scoring object time: 0.030994415283203125\n",
      "Crop and resize time: 0.000985860824584961\n",
      "Posenet forward time: 0.0020151138305664062\n",
      "Posepriornet forward time: 0.0007660388946533203\n",
      "Viewpoint forward time: 0.0009710788726806641\n",
      "Get normalized 3d coordinates time: 0.0006101131439208984\n",
      "Flip left handed input time: 0.00014591217041015625\n",
      "ScaLe heatmaps time 0.00010418891906738281\n",
      "Time for processing 1 frame: 0.047850608825683594s\n"
     ]
    },
    {
     "name": "stderr",
     "output_type": "stream",
     "text": [
      "186it [00:32,  5.73it/s]"
     ]
    },
    {
     "name": "stdout",
     "output_type": "stream",
     "text": [
      "tensor([[0.9999]], device='cuda:0', grad_fn=<SigmoidBackward>)\n",
      "Handnet forward time: 0.007613658905029297\n",
      "Handsegnet forward time: 0.0010447502136230469\n",
      "s shape torch.Size([1, 2, 224, 224])\n",
      "for loop time 0.002990245819091797\n",
      "hand mask sum: 3492.0\n",
      "Calculate single highest scoring object time: 0.03098440170288086\n",
      "Crop and resize time: 0.0009908676147460938\n",
      "Posenet forward time: 0.0020825862884521484\n",
      "Posepriornet forward time: 0.0007872581481933594\n",
      "Viewpoint forward time: 0.0011365413665771484\n",
      "Get normalized 3d coordinates time: 0.0008878707885742188\n",
      "Flip left handed input time: 0.00014162063598632812\n",
      "ScaLe heatmaps time 9.965896606445312e-05\n",
      "Time for processing 1 frame: 0.04649209976196289s\n",
      "tensor([[0.9999]], device='cuda:0', grad_fn=<SigmoidBackward>)\n",
      "Handnet forward time: 0.008953094482421875\n",
      "Handsegnet forward time: 0.001032114028930664\n"
     ]
    },
    {
     "name": "stderr",
     "output_type": "stream",
     "text": [
      "\r",
      "187it [00:32,  5.66it/s]"
     ]
    },
    {
     "name": "stdout",
     "output_type": "stream",
     "text": [
      "s shape torch.Size([1, 2, 224, 224])\n",
      "for loop time 0.0030040740966796875\n",
      "hand mask sum: 3481.0\n",
      "Calculate single highest scoring object time: 0.03187441825866699\n",
      "Crop and resize time: 0.0009682178497314453\n",
      "Posenet forward time: 0.0021119117736816406\n",
      "Posepriornet forward time: 0.0007262229919433594\n",
      "Viewpoint forward time: 0.0009450912475585938\n",
      "Get normalized 3d coordinates time: 0.0005843639373779297\n",
      "Flip left handed input time: 0.00011992454528808594\n",
      "ScaLe heatmaps time 8.392333984375e-05\n",
      "Time for processing 1 frame: 0.04802346229553223s\n",
      "tensor([[0.9999]], device='cuda:0', grad_fn=<SigmoidBackward>)\n",
      "Handnet forward time: 0.009085416793823242\n",
      "Handsegnet forward time: 0.0010428428649902344\n",
      "s shape torch.Size([1, 2, 224, 224])\n",
      "for loop time 0.0034379959106445312\n",
      "hand mask sum: 3474.0\n",
      "Calculate single highest scoring object time: 0.030276775360107422\n",
      "Crop and resize time: 0.0009701251983642578\n",
      "Posenet forward time: 0.0019812583923339844\n",
      "Posepriornet forward time: 0.0007162094116210938\n",
      "Viewpoint forward time: 0.0009388923645019531\n",
      "Get normalized 3d coordinates time: 0.0005817413330078125\n",
      "Flip left handed input time: 0.0001201629638671875\n",
      "ScaLe heatmaps time 8.463859558105469e-05\n",
      "Time for processing 1 frame: 0.04632449150085449s\n"
     ]
    },
    {
     "name": "stderr",
     "output_type": "stream",
     "text": [
      "189it [00:33,  5.57it/s]"
     ]
    },
    {
     "name": "stdout",
     "output_type": "stream",
     "text": [
      "tensor([[0.9999]], device='cuda:0', grad_fn=<SigmoidBackward>)\n",
      "Handnet forward time: 0.008445978164672852\n",
      "Handsegnet forward time: 0.0010559558868408203\n",
      "s shape torch.Size([1, 2, 224, 224])\n",
      "for loop time 0.006966590881347656\n",
      "hand mask sum: 3476.0\n",
      "Calculate single highest scoring object time: 0.03525280952453613\n",
      "Crop and resize time: 0.0015571117401123047\n",
      "Posenet forward time: 0.0025603771209716797\n",
      "Posepriornet forward time: 0.00098419189453125\n",
      "Viewpoint forward time: 0.0011773109436035156\n",
      "Get normalized 3d coordinates time: 0.0007405281066894531\n",
      "Flip left handed input time: 0.00017189979553222656\n",
      "ScaLe heatmaps time 0.00010323524475097656\n",
      "Time for processing 1 frame: 0.05287957191467285s\n",
      "tensor([[0.9999]], device='cuda:0', grad_fn=<SigmoidBackward>)\n",
      "Handnet forward time: 0.008834362030029297\n",
      "Handsegnet forward time: 0.0009562969207763672\n"
     ]
    },
    {
     "name": "stderr",
     "output_type": "stream",
     "text": [
      "\r",
      "190it [00:33,  5.65it/s]"
     ]
    },
    {
     "name": "stdout",
     "output_type": "stream",
     "text": [
      "s shape torch.Size([1, 2, 224, 224])\n",
      "for loop time 0.002992868423461914\n",
      "hand mask sum: 3450.0\n",
      "Calculate single highest scoring object time: 0.02847146987915039\n",
      "Crop and resize time: 0.0009360313415527344\n",
      "Posenet forward time: 0.0019216537475585938\n",
      "Posepriornet forward time: 0.0007064342498779297\n",
      "Viewpoint forward time: 0.0009274482727050781\n",
      "Get normalized 3d coordinates time: 0.0005772113800048828\n",
      "Flip left handed input time: 0.00012373924255371094\n",
      "ScaLe heatmaps time 8.487701416015625e-05\n",
      "Time for processing 1 frame: 0.04412531852722168s\n",
      "tensor([[0.9999]], device='cuda:0', grad_fn=<SigmoidBackward>)\n",
      "Handnet forward time: 0.008987903594970703\n",
      "Handsegnet forward time: 0.0010426044464111328\n",
      "s shape torch.Size([1, 2, 224, 224])\n",
      "for loop time 0.00324249267578125\n",
      "hand mask sum: 3436.0\n",
      "Calculate single highest scoring object time: 0.03124237060546875\n",
      "Crop and resize time: 0.0009696483612060547\n",
      "Posenet forward time: 0.0019636154174804688\n",
      "Posepriornet forward time: 0.0007061958312988281\n",
      "Viewpoint forward time: 0.0009298324584960938\n",
      "Get normalized 3d coordinates time: 0.000579833984375\n",
      "Flip left handed input time: 0.00011777877807617188\n",
      "ScaLe heatmaps time 8.988380432128906e-05\n",
      "Time for processing 1 frame: 0.04716014862060547s\n"
     ]
    },
    {
     "name": "stderr",
     "output_type": "stream",
     "text": [
      "192it [00:33,  5.68it/s]"
     ]
    },
    {
     "name": "stdout",
     "output_type": "stream",
     "text": [
      "tensor([[0.9999]], device='cuda:0', grad_fn=<SigmoidBackward>)\n",
      "Handnet forward time: 0.008064985275268555\n",
      "Handsegnet forward time: 0.0009584426879882812\n",
      "s shape torch.Size([1, 2, 224, 224])\n",
      "for loop time 0.0029916763305664062\n",
      "hand mask sum: 3430.0\n",
      "Calculate single highest scoring object time: 0.02785205841064453\n",
      "Crop and resize time: 0.001016855239868164\n",
      "Posenet forward time: 0.0019712448120117188\n",
      "Posepriornet forward time: 0.0007050037384033203\n",
      "Viewpoint forward time: 0.0009377002716064453\n",
      "Get normalized 3d coordinates time: 0.0005812644958496094\n",
      "Flip left handed input time: 0.00012111663818359375\n",
      "ScaLe heatmaps time 7.295608520507812e-05\n",
      "Time for processing 1 frame: 0.042832374572753906s\n",
      "tensor([[1.0000]], device='cuda:0', grad_fn=<SigmoidBackward>)\n",
      "Handnet forward time: 0.00858163833618164\n",
      "Handsegnet forward time: 0.0013020038604736328\n",
      "s shape torch.Size([1, 2, 224, 224])\n"
     ]
    },
    {
     "name": "stderr",
     "output_type": "stream",
     "text": [
      "\r",
      "193it [00:33,  5.68it/s]"
     ]
    },
    {
     "name": "stdout",
     "output_type": "stream",
     "text": [
      "for loop time 0.003462553024291992\n",
      "hand mask sum: 3388.0\n",
      "Calculate single highest scoring object time: 0.031171321868896484\n",
      "Crop and resize time: 0.0011386871337890625\n",
      "Posenet forward time: 0.0024595260620117188\n",
      "Posepriornet forward time: 0.0008628368377685547\n",
      "Viewpoint forward time: 0.0011336803436279297\n",
      "Get normalized 3d coordinates time: 0.0007238388061523438\n",
      "Flip left handed input time: 0.0001399517059326172\n",
      "ScaLe heatmaps time 0.00010633468627929688\n",
      "Time for processing 1 frame: 0.04812431335449219s\n",
      "tensor([[1.0000]], device='cuda:0', grad_fn=<SigmoidBackward>)\n",
      "Handnet forward time: 0.007945775985717773\n",
      "Handsegnet forward time: 0.0009434223175048828\n",
      "s shape torch.Size([1, 2, 224, 224])\n",
      "for loop time 0.0029649734497070312\n",
      "hand mask sum: 3389.0\n",
      "Calculate single highest scoring object time: 0.028296470642089844\n",
      "Crop and resize time: 0.000835418701171875\n",
      "Posenet forward time: 0.0021300315856933594\n",
      "Posepriornet forward time: 0.0009405612945556641\n",
      "Viewpoint forward time: 0.0009675025939941406\n",
      "Get normalized 3d coordinates time: 0.0006275177001953125\n",
      "Flip left handed input time: 0.0001423358917236328\n",
      "ScaLe heatmaps time 0.00010538101196289062\n",
      "Time for processing 1 frame: 0.04369473457336426s\n"
     ]
    },
    {
     "name": "stderr",
     "output_type": "stream",
     "text": [
      "\r",
      "194it [00:33,  5.72it/s]"
     ]
    },
    {
     "name": "stdout",
     "output_type": "stream",
     "text": [
      "tensor([[1.0000]], device='cuda:0', grad_fn=<SigmoidBackward>)\n",
      "Handnet forward time: 0.00868082046508789\n",
      "Handsegnet forward time: 0.001001596450805664\n",
      "s shape torch.Size([1, 2, 224, 224])\n",
      "for loop time 0.0029938220977783203\n",
      "hand mask sum: 3351.0\n",
      "Calculate single highest scoring object time: 0.03132152557373047\n",
      "Crop and resize time: 0.0010018348693847656\n",
      "Posenet forward time: 0.0020165443420410156\n",
      "Posepriornet forward time: 0.0007462501525878906\n",
      "Viewpoint forward time: 0.0009560585021972656\n",
      "Get normalized 3d coordinates time: 0.0006074905395507812\n",
      "Flip left handed input time: 0.00014257431030273438\n",
      "ScaLe heatmaps time 0.00010371208190917969\n",
      "Time for processing 1 frame: 0.04725074768066406s\n"
     ]
    },
    {
     "name": "stderr",
     "output_type": "stream",
     "text": [
      "196it [00:34,  5.04it/s]"
     ]
    },
    {
     "name": "stdout",
     "output_type": "stream",
     "text": [
      "tensor([[1.0000]], device='cuda:0', grad_fn=<SigmoidBackward>)\n",
      "Handnet forward time: 0.007535219192504883\n",
      "Handsegnet forward time: 0.0009567737579345703\n",
      "s shape torch.Size([1, 2, 224, 224])\n",
      "for loop time 0.002983570098876953\n",
      "hand mask sum: 3352.0\n",
      "Calculate single highest scoring object time: 0.02791738510131836\n",
      "Crop and resize time: 0.0009434223175048828\n",
      "Posenet forward time: 0.001987934112548828\n",
      "Posepriornet forward time: 0.0007243156433105469\n",
      "Viewpoint forward time: 0.0009305477142333984\n",
      "Get normalized 3d coordinates time: 0.0005898475646972656\n",
      "Flip left handed input time: 0.0001380443572998047\n",
      "ScaLe heatmaps time 0.00010037422180175781\n",
      "Time for processing 1 frame: 0.04244589805603027s\n",
      "tensor([[1.0000]], device='cuda:0', grad_fn=<SigmoidBackward>)\n",
      "Handnet forward time: 0.007531404495239258\n",
      "Handsegnet forward time: 0.0009412765502929688\n",
      "s shape torch.Size([1, 2, 224, 224])\n",
      "for loop time 0.002997875213623047\n",
      "hand mask sum: 3356.0\n",
      "Calculate single highest scoring object time: 0.02796006202697754\n",
      "Crop and resize time: 0.0009465217590332031\n",
      "Posenet forward time: 0.002011537551879883\n"
     ]
    },
    {
     "name": "stderr",
     "output_type": "stream",
     "text": [
      "\r",
      "197it [00:34,  5.28it/s]"
     ]
    },
    {
     "name": "stdout",
     "output_type": "stream",
     "text": [
      "Posepriornet forward time: 0.0009715557098388672\n",
      "Viewpoint forward time: 0.0010113716125488281\n",
      "Get normalized 3d coordinates time: 0.0006089210510253906\n",
      "Flip left handed input time: 0.00014448165893554688\n",
      "ScaLe heatmaps time 0.00010132789611816406\n",
      "Time for processing 1 frame: 0.042906999588012695s\n",
      "tensor([[1.0000]], device='cuda:0', grad_fn=<SigmoidBackward>)\n",
      "Handnet forward time: 0.007515668869018555\n",
      "Handsegnet forward time: 0.0009415149688720703\n",
      "s shape torch.Size([1, 2, 224, 224])\n",
      "for loop time 0.0030584335327148438\n",
      "hand mask sum: 3359.0\n",
      "Calculate single highest scoring object time: 0.028131961822509766\n",
      "Crop and resize time: 0.0009491443634033203\n",
      "Posenet forward time: 0.001977682113647461\n",
      "Posepriornet forward time: 0.0007307529449462891\n",
      "Viewpoint forward time: 0.0009505748748779297\n",
      "Get normalized 3d coordinates time: 0.0006022453308105469\n",
      "Flip left handed input time: 0.0001647472381591797\n",
      "ScaLe heatmaps time 0.00010347366333007812\n",
      "Time for processing 1 frame: 0.04267740249633789s\n"
     ]
    },
    {
     "name": "stderr",
     "output_type": "stream",
     "text": [
      "199it [00:34,  5.60it/s]"
     ]
    },
    {
     "name": "stdout",
     "output_type": "stream",
     "text": [
      "tensor([[1.0000]], device='cuda:0', grad_fn=<SigmoidBackward>)\n",
      "Handnet forward time: 0.007550239562988281\n",
      "Handsegnet forward time: 0.0009472370147705078\n",
      "s shape torch.Size([1, 2, 224, 224])\n",
      "for loop time 0.0030057430267333984\n",
      "hand mask sum: 3332.0\n",
      "Calculate single highest scoring object time: 0.028063297271728516\n",
      "Crop and resize time: 0.0009486675262451172\n",
      "Posenet forward time: 0.0019724369049072266\n",
      "Posepriornet forward time: 0.0007309913635253906\n",
      "Viewpoint forward time: 0.0009517669677734375\n",
      "Get normalized 3d coordinates time: 0.0006005764007568359\n",
      "Flip left handed input time: 0.00014281272888183594\n",
      "ScaLe heatmaps time 0.00010275840759277344\n",
      "Time for processing 1 frame: 0.042647600173950195s\n",
      "tensor([[1.0000]], device='cuda:0', grad_fn=<SigmoidBackward>)\n",
      "Handnet forward time: 0.007535219192504883\n",
      "Handsegnet forward time: 0.0009446144104003906\n",
      "s shape torch.Size([1, 2, 224, 224])\n",
      "for loop time 0.0029671192169189453\n",
      "hand mask sum: 3312.0\n",
      "Calculate single highest scoring object time: 0.027999401092529297\n",
      "Crop and resize time: 0.0009505748748779297\n",
      "Posenet forward time: 0.001972198486328125\n"
     ]
    },
    {
     "name": "stderr",
     "output_type": "stream",
     "text": [
      "\r",
      "200it [00:35,  5.67it/s]"
     ]
    },
    {
     "name": "stdout",
     "output_type": "stream",
     "text": [
      "Posepriornet forward time: 0.0010652542114257812\n",
      "Viewpoint forward time: 0.0012905597686767578\n",
      "Get normalized 3d coordinates time: 0.0006163120269775391\n",
      "Flip left handed input time: 0.00015282630920410156\n",
      "ScaLe heatmaps time 0.00010251998901367188\n",
      "Time for processing 1 frame: 0.043254852294921875s\n",
      "tensor([[1.0000]], device='cuda:0', grad_fn=<SigmoidBackward>)\n",
      "Handnet forward time: 0.00755763053894043\n",
      "Handsegnet forward time: 0.0010504722595214844\n",
      "s shape torch.Size([1, 2, 224, 224])\n",
      "for loop time 0.002981424331665039\n",
      "hand mask sum: 3324.0\n",
      "Calculate single highest scoring object time: 0.028788328170776367\n",
      "Crop and resize time: 0.0009672641754150391\n",
      "Posenet forward time: 0.002049684524536133\n",
      "Posepriornet forward time: 0.0007381439208984375\n",
      "Viewpoint forward time: 0.0010035037994384766\n",
      "Get normalized 3d coordinates time: 0.0006103515625\n",
      "Flip left handed input time: 0.00019693374633789062\n",
      "ScaLe heatmaps time 0.00012874603271484375\n",
      "Time for processing 1 frame: 0.04378485679626465s\n"
     ]
    },
    {
     "name": "stderr",
     "output_type": "stream",
     "text": [
      "202it [00:35,  5.80it/s]"
     ]
    },
    {
     "name": "stdout",
     "output_type": "stream",
     "text": [
      "tensor([[1.0000]], device='cuda:0', grad_fn=<SigmoidBackward>)\n",
      "Handnet forward time: 0.007554292678833008\n",
      "Handsegnet forward time: 0.0009708404541015625\n",
      "s shape torch.Size([1, 2, 224, 224])\n",
      "for loop time 0.0029802322387695312\n",
      "hand mask sum: 3319.0\n",
      "Calculate single highest scoring object time: 0.02788829803466797\n",
      "Crop and resize time: 0.0009560585021972656\n",
      "Posenet forward time: 0.002017498016357422\n",
      "Posepriornet forward time: 0.0007121562957763672\n",
      "Viewpoint forward time: 0.0009682178497314453\n",
      "Get normalized 3d coordinates time: 0.0005867481231689453\n",
      "Flip left handed input time: 0.00011730194091796875\n",
      "ScaLe heatmaps time 8.654594421386719e-05\n",
      "Time for processing 1 frame: 0.042470693588256836s\n",
      "tensor([[1.0000]], device='cuda:0', grad_fn=<SigmoidBackward>)\n",
      "Handnet forward time: 0.007569074630737305\n",
      "Handsegnet forward time: 0.0009746551513671875\n",
      "s shape torch.Size([1, 2, 224, 224])\n",
      "for loop time 0.0030181407928466797\n",
      "hand mask sum: 3313.0\n",
      "Calculate single highest scoring object time: 0.027921676635742188\n",
      "Crop and resize time: 0.0009627342224121094\n",
      "Posenet forward time: 0.0019876956939697266\n",
      "Posepriornet forward time: 0.0007083415985107422\n"
     ]
    },
    {
     "name": "stderr",
     "output_type": "stream",
     "text": [
      "\r",
      "203it [00:35,  5.85it/s]"
     ]
    },
    {
     "name": "stdout",
     "output_type": "stream",
     "text": [
      "Viewpoint forward time: 0.0016663074493408203\n",
      "Get normalized 3d coordinates time: 0.0006375312805175781\n",
      "Flip left handed input time: 0.00012135505676269531\n",
      "ScaLe heatmaps time 8.893013000488281e-05\n",
      "Time for processing 1 frame: 0.04320120811462402s\n",
      "tensor([[1.0000]], device='cuda:0', grad_fn=<SigmoidBackward>)\n",
      "Handnet forward time: 0.007558584213256836\n",
      "Handsegnet forward time: 0.0009715557098388672\n",
      "s shape torch.Size([1, 2, 224, 224])\n",
      "for loop time 0.00299072265625\n",
      "hand mask sum: 3322.0\n",
      "Calculate single highest scoring object time: 0.027840614318847656\n",
      "Crop and resize time: 0.0009407997131347656\n",
      "Posenet forward time: 0.0019986629486083984\n",
      "Posepriornet forward time: 0.0007216930389404297\n",
      "Viewpoint forward time: 0.0009710788726806641\n",
      "Get normalized 3d coordinates time: 0.0005819797515869141\n",
      "Flip left handed input time: 0.00011396408081054688\n",
      "ScaLe heatmaps time 8.225440979003906e-05\n",
      "Time for processing 1 frame: 0.042340993881225586s\n"
     ]
    },
    {
     "name": "stderr",
     "output_type": "stream",
     "text": [
      "205it [00:35,  5.92it/s]"
     ]
    },
    {
     "name": "stdout",
     "output_type": "stream",
     "text": [
      "tensor([[1.0000]], device='cuda:0', grad_fn=<SigmoidBackward>)\n",
      "Handnet forward time: 0.007584095001220703\n",
      "Handsegnet forward time: 0.0009753704071044922\n",
      "s shape torch.Size([1, 2, 224, 224])\n",
      "for loop time 0.00302886962890625\n",
      "hand mask sum: 3328.0\n",
      "Calculate single highest scoring object time: 0.027907133102416992\n",
      "Crop and resize time: 0.0009372234344482422\n",
      "Posenet forward time: 0.0019693374633789062\n",
      "Posepriornet forward time: 0.000705718994140625\n",
      "Viewpoint forward time: 0.0009691715240478516\n",
      "Get normalized 3d coordinates time: 0.0005829334259033203\n",
      "Flip left handed input time: 0.00011777877807617188\n",
      "ScaLe heatmaps time 8.20159912109375e-05\n",
      "Time for processing 1 frame: 0.04242420196533203s\n",
      "tensor([[1.0000]], device='cuda:0', grad_fn=<SigmoidBackward>)\n",
      "Handnet forward time: 0.0075299739837646484\n",
      "Handsegnet forward time: 0.000993967056274414\n",
      "s shape torch.Size([1, 2, 224, 224])\n",
      "for loop time 0.0029900074005126953\n",
      "hand mask sum: 3307.0\n",
      "Calculate single highest scoring object time: 0.0278928279876709\n",
      "Crop and resize time: 0.0011241436004638672\n",
      "Posenet forward time: 0.0024518966674804688\n"
     ]
    },
    {
     "name": "stderr",
     "output_type": "stream",
     "text": [
      "\r",
      "206it [00:36,  5.93it/s]"
     ]
    },
    {
     "name": "stdout",
     "output_type": "stream",
     "text": [
      "Posepriornet forward time: 0.0011107921600341797\n",
      "Viewpoint forward time: 0.0011112689971923828\n",
      "Get normalized 3d coordinates time: 0.0006155967712402344\n",
      "Flip left handed input time: 0.00012111663818359375\n",
      "ScaLe heatmaps time 9.107589721679688e-05\n",
      "Time for processing 1 frame: 0.04364418983459473s\n",
      "tensor([[1.0000]], device='cuda:0', grad_fn=<SigmoidBackward>)\n",
      "Handnet forward time: 0.007549285888671875\n",
      "Handsegnet forward time: 0.0009617805480957031\n",
      "s shape torch.Size([1, 2, 224, 224])\n",
      "for loop time 0.003014802932739258\n",
      "hand mask sum: 3330.0\n",
      "Calculate single highest scoring object time: 0.02789473533630371\n",
      "Crop and resize time: 0.0009472370147705078\n",
      "Posenet forward time: 0.001971721649169922\n",
      "Posepriornet forward time: 0.0007064342498779297\n",
      "Viewpoint forward time: 0.0009529590606689453\n",
      "Get normalized 3d coordinates time: 0.0005774497985839844\n",
      "Flip left handed input time: 0.00011920928955078125\n",
      "ScaLe heatmaps time 8.0108642578125e-05\n",
      "Time for processing 1 frame: 0.04231762886047363s\n"
     ]
    },
    {
     "name": "stderr",
     "output_type": "stream",
     "text": [
      "208it [00:36,  5.70it/s]"
     ]
    },
    {
     "name": "stdout",
     "output_type": "stream",
     "text": [
      "tensor([[1.0000]], device='cuda:0', grad_fn=<SigmoidBackward>)\n",
      "Handnet forward time: 0.00754094123840332\n",
      "Handsegnet forward time: 0.000972747802734375\n",
      "s shape torch.Size([1, 2, 224, 224])\n",
      "for loop time 0.003275632858276367\n",
      "hand mask sum: 3311.0\n",
      "Calculate single highest scoring object time: 0.0282895565032959\n",
      "Crop and resize time: 0.001641988754272461\n",
      "Posenet forward time: 0.0024788379669189453\n",
      "Posepriornet forward time: 0.0009336471557617188\n",
      "Viewpoint forward time: 0.0011310577392578125\n",
      "Get normalized 3d coordinates time: 0.0007312297821044922\n",
      "Flip left handed input time: 0.0001430511474609375\n",
      "ScaLe heatmaps time 0.00010824203491210938\n",
      "Time for processing 1 frame: 0.04468202590942383s\n",
      "tensor([[1.0000]], device='cuda:0', grad_fn=<SigmoidBackward>)\n",
      "Handnet forward time: 0.007568836212158203\n",
      "Handsegnet forward time: 0.0011730194091796875\n"
     ]
    },
    {
     "name": "stderr",
     "output_type": "stream",
     "text": [
      "\r",
      "209it [00:36,  5.73it/s]"
     ]
    },
    {
     "name": "stdout",
     "output_type": "stream",
     "text": [
      "s shape torch.Size([1, 2, 224, 224])\n",
      "for loop time 0.0029680728912353516\n",
      "hand mask sum: 3311.0\n",
      "Calculate single highest scoring object time: 0.029755592346191406\n",
      "Crop and resize time: 0.0009582042694091797\n",
      "Posenet forward time: 0.001995563507080078\n",
      "Posepriornet forward time: 0.0007352828979492188\n",
      "Viewpoint forward time: 0.0010023117065429688\n",
      "Get normalized 3d coordinates time: 0.0007207393646240234\n",
      "Flip left handed input time: 0.00017213821411132812\n",
      "ScaLe heatmaps time 0.0001010894775390625\n",
      "Time for processing 1 frame: 0.04480552673339844s\n",
      "tensor([[1.0000]], device='cuda:0', grad_fn=<SigmoidBackward>)\n",
      "Handnet forward time: 0.007513284683227539\n",
      "Handsegnet forward time: 0.00095367431640625\n",
      "s shape torch.Size([1, 2, 224, 224])\n",
      "for loop time 0.002964496612548828\n",
      "hand mask sum: 3289.0\n",
      "Calculate single highest scoring object time: 0.027877330780029297\n",
      "Crop and resize time: 0.0009462833404541016\n",
      "Posenet forward time: 0.0019390583038330078\n",
      "Posepriornet forward time: 0.0006990432739257812\n",
      "Viewpoint forward time: 0.0009613037109375\n",
      "Get normalized 3d coordinates time: 0.0005838871002197266\n",
      "Flip left handed input time: 0.0001201629638671875\n",
      "ScaLe heatmaps time 8.726119995117188e-05\n",
      "Time for processing 1 frame: 0.04226279258728027s\n"
     ]
    },
    {
     "name": "stderr",
     "output_type": "stream",
     "text": [
      "211it [00:36,  5.85it/s]"
     ]
    },
    {
     "name": "stdout",
     "output_type": "stream",
     "text": [
      "tensor([[1.0000]], device='cuda:0', grad_fn=<SigmoidBackward>)\n",
      "Handnet forward time: 0.007596015930175781\n",
      "Handsegnet forward time: 0.0009593963623046875\n",
      "s shape torch.Size([1, 2, 224, 224])\n",
      "for loop time 0.002984762191772461\n",
      "hand mask sum: 3275.0\n",
      "Calculate single highest scoring object time: 0.02788829803466797\n",
      "Crop and resize time: 0.0009338855743408203\n",
      "Posenet forward time: 0.0019500255584716797\n",
      "Posepriornet forward time: 0.000705718994140625\n",
      "Viewpoint forward time: 0.0009400844573974609\n",
      "Get normalized 3d coordinates time: 0.0005769729614257812\n",
      "Flip left handed input time: 0.00011920928955078125\n",
      "ScaLe heatmaps time 8.845329284667969e-05\n",
      "Time for processing 1 frame: 0.042376041412353516s\n",
      "tensor([[1.0000]], device='cuda:0', grad_fn=<SigmoidBackward>)\n",
      "Handnet forward time: 0.008504152297973633\n",
      "Handsegnet forward time: 0.0010170936584472656\n",
      "s shape torch.Size([1, 2, 224, 224])\n",
      "for loop time 0.0036411285400390625\n"
     ]
    },
    {
     "name": "stderr",
     "output_type": "stream",
     "text": [
      "\r",
      "212it [00:37,  5.57it/s]"
     ]
    },
    {
     "name": "stdout",
     "output_type": "stream",
     "text": [
      "hand mask sum: 3223.0\n",
      "Calculate single highest scoring object time: 0.030536890029907227\n",
      "Crop and resize time: 0.0012328624725341797\n",
      "Posenet forward time: 0.0024526119232177734\n",
      "Posepriornet forward time: 0.0008475780487060547\n",
      "Viewpoint forward time: 0.001111745834350586\n",
      "Get normalized 3d coordinates time: 0.0007205009460449219\n",
      "Flip left handed input time: 0.0001361370086669922\n",
      "ScaLe heatmaps time 9.226799011230469e-05\n",
      "Time for processing 1 frame: 0.04735851287841797s\n",
      "tensor([[1.0000]], device='cuda:0', grad_fn=<SigmoidBackward>)\n",
      "Handnet forward time: 0.008922815322875977\n",
      "Handsegnet forward time: 0.0009877681732177734\n",
      "s shape torch.Size([1, 2, 224, 224])\n",
      "for loop time 0.0029838085174560547\n",
      "hand mask sum: 3281.0\n",
      "Calculate single highest scoring object time: 0.0283048152923584\n",
      "Crop and resize time: 0.0009675025939941406\n"
     ]
    },
    {
     "name": "stderr",
     "output_type": "stream",
     "text": [
      "\r",
      "213it [00:37,  5.65it/s]"
     ]
    },
    {
     "name": "stdout",
     "output_type": "stream",
     "text": [
      "Posenet forward time: 0.002753734588623047\n",
      "Posepriornet forward time: 0.0008101463317871094\n",
      "Viewpoint forward time: 0.0009500980377197266\n",
      "Get normalized 3d coordinates time: 0.0005929470062255859\n",
      "Flip left handed input time: 0.00012063980102539062\n",
      "ScaLe heatmaps time 8.463859558105469e-05\n",
      "Time for processing 1 frame: 0.04512619972229004s\n",
      "tensor([[1.0000]], device='cuda:0', grad_fn=<SigmoidBackward>)\n",
      "Handnet forward time: 0.007561922073364258\n",
      "Handsegnet forward time: 0.0009584426879882812\n",
      "s shape torch.Size([1, 2, 224, 224])\n",
      "for loop time 0.0030231475830078125\n",
      "hand mask sum: 3227.0\n",
      "Calculate single highest scoring object time: 0.028505802154541016\n",
      "Crop and resize time: 0.0009450912475585938\n",
      "Posenet forward time: 0.0019524097442626953\n",
      "Posepriornet forward time: 0.0007112026214599609\n",
      "Viewpoint forward time: 0.0009400844573974609\n",
      "Get normalized 3d coordinates time: 0.0005784034729003906\n",
      "Flip left handed input time: 0.00011968612670898438\n",
      "ScaLe heatmaps time 6.866455078125e-05\n",
      "Time for processing 1 frame: 0.042925119400024414s\n"
     ]
    },
    {
     "name": "stderr",
     "output_type": "stream",
     "text": [
      "215it [00:37,  5.77it/s]"
     ]
    },
    {
     "name": "stdout",
     "output_type": "stream",
     "text": [
      "tensor([[1.0000]], device='cuda:0', grad_fn=<SigmoidBackward>)\n",
      "Handnet forward time: 0.00755763053894043\n",
      "Handsegnet forward time: 0.0009567737579345703\n",
      "s shape torch.Size([1, 2, 224, 224])\n",
      "for loop time 0.0029709339141845703\n",
      "hand mask sum: 3227.0\n",
      "Calculate single highest scoring object time: 0.027966022491455078\n",
      "Crop and resize time: 0.0009355545043945312\n",
      "Posenet forward time: 0.0019283294677734375\n",
      "Posepriornet forward time: 0.0007023811340332031\n",
      "Viewpoint forward time: 0.0009400844573974609\n",
      "Get normalized 3d coordinates time: 0.0005786418914794922\n",
      "Flip left handed input time: 0.00011992454528808594\n",
      "ScaLe heatmaps time 8.487701416015625e-05\n",
      "Time for processing 1 frame: 0.04236888885498047s\n",
      "tensor([[1.0000]], device='cuda:0', grad_fn=<SigmoidBackward>)\n",
      "Handnet forward time: 0.00755000114440918\n",
      "Handsegnet forward time: 0.0009627342224121094\n",
      "s shape torch.Size([1, 2, 224, 224])\n",
      "for loop time 0.0029702186584472656\n",
      "hand mask sum: 3171.0\n",
      "Calculate single highest scoring object time: 0.027935504913330078\n",
      "Crop and resize time: 0.0009365081787109375\n",
      "Posenet forward time: 0.0019373893737792969\n",
      "Posepriornet forward time: 0.0007083415985107422\n"
     ]
    },
    {
     "name": "stderr",
     "output_type": "stream",
     "text": [
      "\r",
      "216it [00:37,  5.81it/s]"
     ]
    },
    {
     "name": "stdout",
     "output_type": "stream",
     "text": [
      "Viewpoint forward time: 0.0016200542449951172\n",
      "Get normalized 3d coordinates time: 0.0006625652313232422\n",
      "Flip left handed input time: 0.0001251697540283203\n",
      "ScaLe heatmaps time 8.869171142578125e-05\n",
      "Time for processing 1 frame: 0.04311203956604004s\n",
      "tensor([[0.9999]], device='cuda:0', grad_fn=<SigmoidBackward>)\n",
      "Handnet forward time: 0.007568836212158203\n",
      "Handsegnet forward time: 0.0009615421295166016\n",
      "s shape torch.Size([1, 2, 224, 224])\n",
      "for loop time 0.0029871463775634766\n",
      "hand mask sum: 3138.0\n",
      "Calculate single highest scoring object time: 0.02792835235595703\n",
      "Crop and resize time: 0.0009338855743408203\n",
      "Posenet forward time: 0.0019526481628417969\n",
      "Posepriornet forward time: 0.0007090568542480469\n",
      "Viewpoint forward time: 0.0009367465972900391\n",
      "Get normalized 3d coordinates time: 0.0005862712860107422\n",
      "Flip left handed input time: 0.00011849403381347656\n",
      "ScaLe heatmaps time 8.58306884765625e-05\n",
      "Time for processing 1 frame: 0.04235029220581055s\n"
     ]
    },
    {
     "name": "stderr",
     "output_type": "stream",
     "text": [
      "218it [00:38,  5.84it/s]"
     ]
    },
    {
     "name": "stdout",
     "output_type": "stream",
     "text": [
      "tensor([[0.9999]], device='cuda:0', grad_fn=<SigmoidBackward>)\n",
      "Handnet forward time: 0.008635759353637695\n",
      "Handsegnet forward time: 0.0009658336639404297\n",
      "s shape torch.Size([1, 2, 224, 224])\n",
      "for loop time 0.002973794937133789\n",
      "hand mask sum: 3075.0\n",
      "Calculate single highest scoring object time: 0.02839493751525879\n",
      "Crop and resize time: 0.0011298656463623047\n",
      "Posenet forward time: 0.001973390579223633\n",
      "Posepriornet forward time: 0.0007073879241943359\n",
      "Viewpoint forward time: 0.0009500980377197266\n",
      "Get normalized 3d coordinates time: 0.0005834102630615234\n",
      "Flip left handed input time: 0.00011968612670898438\n",
      "ScaLe heatmaps time 8.273124694824219e-05\n",
      "Time for processing 1 frame: 0.04416847229003906s\n",
      "tensor([[0.9999]], device='cuda:0', grad_fn=<SigmoidBackward>)\n",
      "Handnet forward time: 0.007557868957519531\n",
      "Handsegnet forward time: 0.0009584426879882812\n",
      "s shape torch.Size([1, 2, 224, 224])\n",
      "for loop time 0.002980470657348633\n",
      "hand mask sum: 3067.0\n",
      "Calculate single highest scoring object time: 0.0279843807220459\n",
      "Crop and resize time: 0.0009307861328125\n"
     ]
    },
    {
     "name": "stderr",
     "output_type": "stream",
     "text": [
      "\r",
      "219it [00:38,  5.88it/s]"
     ]
    },
    {
     "name": "stdout",
     "output_type": "stream",
     "text": [
      "Posenet forward time: 0.002635955810546875\n",
      "Posepriornet forward time: 0.0006799697875976562\n",
      "Viewpoint forward time: 0.0009388923645019531\n",
      "Get normalized 3d coordinates time: 0.0005819797515869141\n",
      "Flip left handed input time: 0.0001232624053955078\n",
      "ScaLe heatmaps time 9.059906005859375e-05\n",
      "Time for processing 1 frame: 0.04317283630371094s\n",
      "tensor([[0.9999]], device='cuda:0', grad_fn=<SigmoidBackward>)\n",
      "Handnet forward time: 0.007534027099609375\n",
      "Handsegnet forward time: 0.0009531974792480469\n",
      "s shape torch.Size([1, 2, 224, 224])\n",
      "for loop time 0.0029976367950439453\n",
      "hand mask sum: 3060.0\n",
      "Calculate single highest scoring object time: 0.027971744537353516\n",
      "Crop and resize time: 0.0009348392486572266\n",
      "Posenet forward time: 0.0019383430480957031\n",
      "Posepriornet forward time: 0.0007152557373046875\n",
      "Viewpoint forward time: 0.000934600830078125\n",
      "Get normalized 3d coordinates time: 0.0005767345428466797\n",
      "Flip left handed input time: 0.00011324882507324219\n",
      "ScaLe heatmaps time 8.058547973632812e-05\n",
      "Time for processing 1 frame: 0.042327165603637695s\n"
     ]
    },
    {
     "name": "stderr",
     "output_type": "stream",
     "text": [
      "221it [00:38,  5.92it/s]"
     ]
    },
    {
     "name": "stdout",
     "output_type": "stream",
     "text": [
      "tensor([[0.9998]], device='cuda:0', grad_fn=<SigmoidBackward>)\n",
      "Handnet forward time: 0.007546186447143555\n",
      "Handsegnet forward time: 0.0009491443634033203\n",
      "s shape torch.Size([1, 2, 224, 224])\n",
      "for loop time 0.0029718875885009766\n",
      "hand mask sum: 3043.0\n",
      "Calculate single highest scoring object time: 0.027949094772338867\n",
      "Crop and resize time: 0.0009267330169677734\n",
      "Posenet forward time: 0.0019376277923583984\n",
      "Posepriornet forward time: 0.000713348388671875\n",
      "Viewpoint forward time: 0.0009407997131347656\n",
      "Get normalized 3d coordinates time: 0.0005815029144287109\n",
      "Flip left handed input time: 0.00012159347534179688\n",
      "ScaLe heatmaps time 8.034706115722656e-05\n",
      "Time for processing 1 frame: 0.04235529899597168s\n",
      "tensor([[0.9998]], device='cuda:0', grad_fn=<SigmoidBackward>)\n",
      "Handnet forward time: 0.007524013519287109\n",
      "Handsegnet forward time: 0.000965118408203125\n",
      "s shape torch.Size([1, 2, 224, 224])\n",
      "for loop time 0.003026723861694336\n",
      "hand mask sum: 3041.0\n",
      "Calculate single highest scoring object time: 0.0304262638092041\n",
      "Crop and resize time: 0.0009555816650390625\n"
     ]
    },
    {
     "name": "stderr",
     "output_type": "stream",
     "text": [
      "\r",
      "222it [00:38,  5.81it/s]"
     ]
    },
    {
     "name": "stdout",
     "output_type": "stream",
     "text": [
      "Posenet forward time: 0.0026903152465820312\n",
      "Posepriornet forward time: 0.000690460205078125\n",
      "Viewpoint forward time: 0.0009527206420898438\n",
      "Get normalized 3d coordinates time: 0.0005917549133300781\n",
      "Flip left handed input time: 0.000202178955078125\n",
      "ScaLe heatmaps time 9.036064147949219e-05\n",
      "Time for processing 1 frame: 0.0457766056060791s\n",
      "tensor([[0.9998]], device='cuda:0', grad_fn=<SigmoidBackward>)\n",
      "Handnet forward time: 0.008123397827148438\n",
      "Handsegnet forward time: 0.0010428428649902344\n",
      "s shape torch.Size([1, 2, 224, 224])\n",
      "for loop time 0.0031576156616210938\n",
      "hand mask sum: 3048.0\n",
      "Calculate single highest scoring object time: 0.03136706352233887\n",
      "Crop and resize time: 0.0009670257568359375\n",
      "Posenet forward time: 0.001997232437133789\n",
      "Posepriornet forward time: 0.0007162094116210938\n",
      "Viewpoint forward time: 0.0009474754333496094\n",
      "Get normalized 3d coordinates time: 0.0005846023559570312\n",
      "Flip left handed input time: 0.00011897087097167969\n",
      "ScaLe heatmaps time 8.797645568847656e-05\n",
      "Time for processing 1 frame: 0.046582698822021484s\n"
     ]
    },
    {
     "name": "stderr",
     "output_type": "stream",
     "text": [
      "224it [00:39,  5.69it/s]"
     ]
    },
    {
     "name": "stdout",
     "output_type": "stream",
     "text": [
      "tensor([[0.9999]], device='cuda:0', grad_fn=<SigmoidBackward>)\n",
      "Handnet forward time: 0.009350776672363281\n",
      "Handsegnet forward time: 0.0009758472442626953\n",
      "s shape torch.Size([1, 2, 224, 224])\n",
      "for loop time 0.003359556198120117\n",
      "hand mask sum: 3060.0\n",
      "Calculate single highest scoring object time: 0.030383825302124023\n",
      "Crop and resize time: 0.0009596347808837891\n",
      "Posenet forward time: 0.0020225048065185547\n",
      "Posepriornet forward time: 0.0007171630859375\n",
      "Viewpoint forward time: 0.0009469985961914062\n",
      "Get normalized 3d coordinates time: 0.0005869865417480469\n",
      "Flip left handed input time: 0.00011873245239257812\n",
      "ScaLe heatmaps time 8.392333984375e-05\n",
      "Time for processing 1 frame: 0.04677462577819824s\n",
      "tensor([[0.9999]], device='cuda:0', grad_fn=<SigmoidBackward>)\n",
      "Handnet forward time: 0.007580757141113281\n",
      "Handsegnet forward time: 0.0012011528015136719\n"
     ]
    },
    {
     "name": "stderr",
     "output_type": "stream",
     "text": [
      "\r",
      "225it [00:39,  5.65it/s]"
     ]
    },
    {
     "name": "stdout",
     "output_type": "stream",
     "text": [
      "s shape torch.Size([1, 2, 224, 224])\n",
      "for loop time 0.0030715465545654297\n",
      "hand mask sum: 3044.0\n",
      "Calculate single highest scoring object time: 0.029381752014160156\n",
      "Crop and resize time: 0.0009708404541015625\n",
      "Posenet forward time: 0.0019960403442382812\n",
      "Posepriornet forward time: 0.0008296966552734375\n",
      "Viewpoint forward time: 0.0009610652923583984\n",
      "Get normalized 3d coordinates time: 0.0006015300750732422\n",
      "Flip left handed input time: 0.00012373924255371094\n",
      "ScaLe heatmaps time 8.726119995117188e-05\n",
      "Time for processing 1 frame: 0.04438018798828125s\n",
      "tensor([[0.9999]], device='cuda:0', grad_fn=<SigmoidBackward>)\n",
      "Handnet forward time: 0.007906675338745117\n",
      "Handsegnet forward time: 0.0010263919830322266\n",
      "s shape torch.Size([1, 2, 224, 224])\n",
      "for loop time 0.003117799758911133\n",
      "hand mask sum: 3033.0\n",
      "Calculate single highest scoring object time: 0.030350446701049805\n",
      "Crop and resize time: 0.0012602806091308594\n",
      "Posenet forward time: 0.0020132064819335938\n",
      "Posepriornet forward time: 0.0007245540618896484\n",
      "Viewpoint forward time: 0.0009469985961914062\n",
      "Get normalized 3d coordinates time: 0.0008196830749511719\n",
      "Flip left handed input time: 0.00014400482177734375\n",
      "ScaLe heatmaps time 9.846687316894531e-05\n",
      "Time for processing 1 frame: 0.0459592342376709s\n"
     ]
    },
    {
     "name": "stderr",
     "output_type": "stream",
     "text": [
      "227it [00:39,  5.55it/s]"
     ]
    },
    {
     "name": "stdout",
     "output_type": "stream",
     "text": [
      "tensor([[0.9999]], device='cuda:0', grad_fn=<SigmoidBackward>)\n",
      "Handnet forward time: 0.008510828018188477\n",
      "Handsegnet forward time: 0.0010471343994140625\n",
      "s shape torch.Size([1, 2, 224, 224])\n",
      "for loop time 0.0029938220977783203\n",
      "hand mask sum: 3021.0\n",
      "Calculate single highest scoring object time: 0.03030681610107422\n",
      "Crop and resize time: 0.0009984970092773438\n",
      "Posenet forward time: 0.0020112991333007812\n",
      "Posepriornet forward time: 0.0007424354553222656\n",
      "Viewpoint forward time: 0.0010461807250976562\n",
      "Get normalized 3d coordinates time: 0.0006256103515625\n",
      "Flip left handed input time: 0.0001304149627685547\n",
      "ScaLe heatmaps time 9.226799011230469e-05\n",
      "Time for processing 1 frame: 0.04605722427368164s\n",
      "tensor([[1.0000]], device='cuda:0', grad_fn=<SigmoidBackward>)\n",
      "Handnet forward time: 0.009709596633911133\n",
      "Handsegnet forward time: 0.001035928726196289\n"
     ]
    },
    {
     "name": "stderr",
     "output_type": "stream",
     "text": [
      "\r",
      "228it [00:39,  5.42it/s]"
     ]
    },
    {
     "name": "stdout",
     "output_type": "stream",
     "text": [
      "s shape torch.Size([1, 2, 224, 224])\n",
      "for loop time 0.003225564956665039\n",
      "hand mask sum: 3020.0\n",
      "Calculate single highest scoring object time: 0.032923221588134766\n",
      "Crop and resize time: 0.0013492107391357422\n",
      "Posenet forward time: 0.002129077911376953\n",
      "Posepriornet forward time: 0.0008466243743896484\n",
      "Viewpoint forward time: 0.0012664794921875\n",
      "Get normalized 3d coordinates time: 0.0006697177886962891\n",
      "Flip left handed input time: 0.00015115737915039062\n",
      "ScaLe heatmaps time 0.00010633468627929688\n",
      "Time for processing 1 frame: 0.050997257232666016s\n",
      "tensor([[1.0000]], device='cuda:0', grad_fn=<SigmoidBackward>)\n",
      "Handnet forward time: 0.009483814239501953\n",
      "Handsegnet forward time: 0.0010612010955810547\n",
      "s shape torch.Size([1, 2, 224, 224])\n",
      "for loop time 0.0029976367950439453\n",
      "hand mask sum: 3025.0\n",
      "Calculate single highest scoring object time: 0.0321502685546875\n",
      "Crop and resize time: 0.0009922981262207031\n",
      "Posenet forward time: 0.0020461082458496094\n",
      "Posepriornet forward time: 0.0007793903350830078\n"
     ]
    },
    {
     "name": "stderr",
     "output_type": "stream",
     "text": [
      "\r",
      "229it [00:40,  5.44it/s]"
     ]
    },
    {
     "name": "stdout",
     "output_type": "stream",
     "text": [
      "Viewpoint forward time: 0.0012614727020263672\n",
      "Get normalized 3d coordinates time: 0.0006811618804931641\n",
      "Flip left handed input time: 0.00014901161193847656\n",
      "ScaLe heatmaps time 4.9591064453125e-05\n",
      "Time for processing 1 frame: 0.04943108558654785s\n",
      "tensor([[1.0000]], device='cuda:0', grad_fn=<SigmoidBackward>)\n",
      "Handnet forward time: 0.008591651916503906\n",
      "Handsegnet forward time: 0.00103759765625\n",
      "s shape torch.Size([1, 2, 224, 224])\n",
      "for loop time 0.004576921463012695\n",
      "hand mask sum: 3023.0\n",
      "Calculate single highest scoring object time: 0.031247377395629883\n",
      "Crop and resize time: 0.0010080337524414062\n",
      "Posenet forward time: 0.0020477771759033203\n",
      "Posepriornet forward time: 0.0007600784301757812\n",
      "Viewpoint forward time: 0.0009751319885253906\n",
      "Get normalized 3d coordinates time: 0.0006144046783447266\n",
      "Flip left handed input time: 0.0001461505889892578\n",
      "ScaLe heatmaps time 0.00010466575622558594\n",
      "Time for processing 1 frame: 0.047183990478515625s\n"
     ]
    },
    {
     "name": "stderr",
     "output_type": "stream",
     "text": [
      "231it [00:40,  5.58it/s]"
     ]
    },
    {
     "name": "stdout",
     "output_type": "stream",
     "text": [
      "tensor([[1.0000]], device='cuda:0', grad_fn=<SigmoidBackward>)\n",
      "Handnet forward time: 0.00761103630065918\n",
      "Handsegnet forward time: 0.0009684562683105469\n",
      "s shape torch.Size([1, 2, 224, 224])\n",
      "for loop time 0.0030748844146728516\n",
      "hand mask sum: 3012.0\n",
      "Calculate single highest scoring object time: 0.029636859893798828\n",
      "Crop and resize time: 0.0009446144104003906\n",
      "Posenet forward time: 0.0019545555114746094\n",
      "Posepriornet forward time: 0.00070953369140625\n",
      "Viewpoint forward time: 0.0009400844573974609\n",
      "Get normalized 3d coordinates time: 0.0006208419799804688\n",
      "Flip left handed input time: 0.0001220703125\n",
      "ScaLe heatmaps time 9.441375732421875e-05\n",
      "Time for processing 1 frame: 0.04412555694580078s\n",
      "tensor([[0.9999]], device='cuda:0', grad_fn=<SigmoidBackward>)\n",
      "Handnet forward time: 0.007537841796875\n",
      "Handsegnet forward time: 0.0009605884552001953\n",
      "s shape torch.Size([1, 2, 224, 224])\n"
     ]
    },
    {
     "name": "stderr",
     "output_type": "stream",
     "text": [
      "\r",
      "232it [00:40,  5.65it/s]"
     ]
    },
    {
     "name": "stdout",
     "output_type": "stream",
     "text": [
      "for loop time 0.0044515132904052734\n",
      "hand mask sum: 3010.0\n",
      "Calculate single highest scoring object time: 0.02996373176574707\n",
      "Crop and resize time: 0.0009615421295166016\n",
      "Posenet forward time: 0.0020122528076171875\n",
      "Posepriornet forward time: 0.0007193088531494141\n",
      "Viewpoint forward time: 0.0009405612945556641\n",
      "Get normalized 3d coordinates time: 0.0005848407745361328\n",
      "Flip left handed input time: 0.00011610984802246094\n",
      "ScaLe heatmaps time 8.845329284667969e-05\n",
      "Time for processing 1 frame: 0.044451236724853516s\n",
      "tensor([[0.9999]], device='cuda:0', grad_fn=<SigmoidBackward>)\n",
      "Handnet forward time: 0.007712125778198242\n",
      "Handsegnet forward time: 0.001407623291015625\n",
      "s shape torch.Size([1, 2, 224, 224])\n",
      "for loop time 0.0030176639556884766\n",
      "hand mask sum: 3010.0\n",
      "Calculate single highest scoring object time: 0.03176283836364746\n",
      "Crop and resize time: 0.0010051727294921875\n",
      "Posenet forward time: 0.0020017623901367188\n",
      "Posepriornet forward time: 0.0007221698760986328\n",
      "Viewpoint forward time: 0.0009720325469970703\n",
      "Get normalized 3d coordinates time: 0.000591278076171875\n",
      "Flip left handed input time: 0.0001201629638671875\n",
      "ScaLe heatmaps time 8.96453857421875e-05\n",
      "Time for processing 1 frame: 0.046889543533325195s\n"
     ]
    },
    {
     "name": "stderr",
     "output_type": "stream",
     "text": [
      "234it [00:40,  5.60it/s]"
     ]
    },
    {
     "name": "stdout",
     "output_type": "stream",
     "text": [
      "tensor([[1.0000]], device='cuda:0', grad_fn=<SigmoidBackward>)\n",
      "Handnet forward time: 0.007642030715942383\n",
      "Handsegnet forward time: 0.0011625289916992188\n",
      "s shape torch.Size([1, 2, 224, 224])\n",
      "for loop time 0.003218412399291992\n",
      "hand mask sum: 3008.0\n",
      "Calculate single highest scoring object time: 0.032698631286621094\n",
      "Crop and resize time: 0.0011386871337890625\n",
      "Posenet forward time: 0.0031571388244628906\n",
      "Posepriornet forward time: 0.0008654594421386719\n",
      "Viewpoint forward time: 0.0013451576232910156\n",
      "Get normalized 3d coordinates time: 0.000732421875\n",
      "Flip left handed input time: 0.0001404285430908203\n",
      "ScaLe heatmaps time 0.00010943412780761719\n",
      "Time for processing 1 frame: 0.04970908164978027s\n",
      "tensor([[1.0000]], device='cuda:0', grad_fn=<SigmoidBackward>)\n",
      "Handnet forward time: 0.007561922073364258\n",
      "Handsegnet forward time: 0.0009691715240478516\n",
      "s shape torch.Size([1, 2, 224, 224])\n"
     ]
    },
    {
     "name": "stderr",
     "output_type": "stream",
     "text": [
      "\r",
      "235it [00:41,  5.70it/s]"
     ]
    },
    {
     "name": "stdout",
     "output_type": "stream",
     "text": [
      "for loop time 0.00336456298828125\n",
      "hand mask sum: 3004.0\n",
      "Calculate single highest scoring object time: 0.028460979461669922\n",
      "Crop and resize time: 0.000957489013671875\n",
      "Posenet forward time: 0.0019893646240234375\n",
      "Posepriornet forward time: 0.0007512569427490234\n",
      "Viewpoint forward time: 0.0009682178497314453\n",
      "Get normalized 3d coordinates time: 0.0006053447723388672\n",
      "Flip left handed input time: 0.0001456737518310547\n",
      "ScaLe heatmaps time 0.000102996826171875\n",
      "Time for processing 1 frame: 0.043196916580200195s\n",
      "tensor([[1.0000]], device='cuda:0', grad_fn=<SigmoidBackward>)\n",
      "Handnet forward time: 0.0075490474700927734\n",
      "Handsegnet forward time: 0.0009644031524658203\n",
      "s shape torch.Size([1, 2, 224, 224])\n",
      "for loop time 0.002985239028930664\n",
      "hand mask sum: 2990.0\n",
      "Calculate single highest scoring object time: 0.02790069580078125\n",
      "Crop and resize time: 0.0009524822235107422\n",
      "Posenet forward time: 0.001974344253540039\n",
      "Posepriornet forward time: 0.0007467269897460938\n",
      "Viewpoint forward time: 0.0009729862213134766\n",
      "Get normalized 3d coordinates time: 0.0006043910980224609\n",
      "Flip left handed input time: 0.00014519691467285156\n",
      "ScaLe heatmaps time 0.00010395050048828125\n",
      "Time for processing 1 frame: 0.042597293853759766s\n"
     ]
    },
    {
     "name": "stderr",
     "output_type": "stream",
     "text": [
      "237it [00:41,  5.83it/s]"
     ]
    },
    {
     "name": "stdout",
     "output_type": "stream",
     "text": [
      "tensor([[1.0000]], device='cuda:0', grad_fn=<SigmoidBackward>)\n",
      "Handnet forward time: 0.007598400115966797\n",
      "Handsegnet forward time: 0.0009646415710449219\n",
      "s shape torch.Size([1, 2, 224, 224])\n",
      "for loop time 0.0029785633087158203\n",
      "hand mask sum: 2998.0\n",
      "Calculate single highest scoring object time: 0.027996063232421875\n",
      "Crop and resize time: 0.0009489059448242188\n",
      "Posenet forward time: 0.001981496810913086\n",
      "Posepriornet forward time: 0.0007343292236328125\n",
      "Viewpoint forward time: 0.0009713172912597656\n",
      "Get normalized 3d coordinates time: 0.0006039142608642578\n",
      "Flip left handed input time: 0.00014519691467285156\n",
      "ScaLe heatmaps time 0.00010228157043457031\n",
      "Time for processing 1 frame: 0.042755842208862305s\n",
      "tensor([[0.9999]], device='cuda:0', grad_fn=<SigmoidBackward>)\n",
      "Handnet forward time: 0.0075457096099853516\n",
      "Handsegnet forward time: 0.0009529590606689453\n",
      "s shape torch.Size([1, 2, 224, 224])\n",
      "for loop time 0.002973794937133789\n",
      "hand mask sum: 2990.0\n",
      "Calculate single highest scoring object time: 0.027996301651000977\n",
      "Crop and resize time: 0.0009582042694091797\n",
      "Posenet forward time: 0.001987934112548828\n",
      "Posepriornet forward time: 0.0007355213165283203\n"
     ]
    },
    {
     "name": "stderr",
     "output_type": "stream",
     "text": [
      "\r",
      "238it [00:41,  5.88it/s]"
     ]
    },
    {
     "name": "stdout",
     "output_type": "stream",
     "text": [
      "Viewpoint forward time: 0.0012319087982177734\n",
      "Get normalized 3d coordinates time: 0.0006530284881591797\n",
      "Flip left handed input time: 0.00014495849609375\n",
      "ScaLe heatmaps time 0.00010347366333007812\n",
      "Time for processing 1 frame: 0.04292607307434082s\n",
      "tensor([[0.9999]], device='cuda:0', grad_fn=<SigmoidBackward>)\n",
      "Handnet forward time: 0.007521152496337891\n",
      "Handsegnet forward time: 0.0009522438049316406\n",
      "s shape torch.Size([1, 2, 224, 224])\n",
      "for loop time 0.002985239028930664\n",
      "hand mask sum: 2989.0\n",
      "Calculate single highest scoring object time: 0.028011322021484375\n",
      "Crop and resize time: 0.0009548664093017578\n",
      "Posenet forward time: 0.0020055770874023438\n",
      "Posepriornet forward time: 0.0007405281066894531\n",
      "Viewpoint forward time: 0.0009644031524658203\n",
      "Get normalized 3d coordinates time: 0.0006139278411865234\n",
      "Flip left handed input time: 0.0001442432403564453\n",
      "ScaLe heatmaps time 0.00010132789611816406\n",
      "Time for processing 1 frame: 0.042680978775024414s\n"
     ]
    },
    {
     "name": "stderr",
     "output_type": "stream",
     "text": [
      "240it [00:41,  5.93it/s]"
     ]
    },
    {
     "name": "stdout",
     "output_type": "stream",
     "text": [
      "tensor([[0.9998]], device='cuda:0', grad_fn=<SigmoidBackward>)\n",
      "Handnet forward time: 0.007543325424194336\n",
      "Handsegnet forward time: 0.0009756088256835938\n",
      "s shape torch.Size([1, 2, 224, 224])\n",
      "for loop time 0.0029773712158203125\n",
      "hand mask sum: 2967.0\n",
      "Calculate single highest scoring object time: 0.027985334396362305\n",
      "Crop and resize time: 0.0009551048278808594\n",
      "Posenet forward time: 0.0019805431365966797\n",
      "Posepriornet forward time: 0.0007390975952148438\n",
      "Viewpoint forward time: 0.0009624958038330078\n",
      "Get normalized 3d coordinates time: 0.0006058216094970703\n",
      "Flip left handed input time: 0.00014519691467285156\n",
      "ScaLe heatmaps time 9.894371032714844e-05\n",
      "Time for processing 1 frame: 0.04271817207336426s\n",
      "tensor([[0.9998]], device='cuda:0', grad_fn=<SigmoidBackward>)\n",
      "Handnet forward time: 0.007539987564086914\n",
      "Handsegnet forward time: 0.0009489059448242188\n",
      "s shape torch.Size([1, 2, 224, 224])\n",
      "for loop time 0.0029802322387695312\n",
      "hand mask sum: 2928.0\n",
      "Calculate single highest scoring object time: 0.027999401092529297\n",
      "Crop and resize time: 0.0009429454803466797\n",
      "Posenet forward time: 0.0019876956939697266\n",
      "Posepriornet forward time: 0.000736236572265625\n",
      "Viewpoint forward time: 0.0009667873382568359\n"
     ]
    },
    {
     "name": "stderr",
     "output_type": "stream",
     "text": [
      "\r",
      "241it [00:42,  5.90it/s]"
     ]
    },
    {
     "name": "stdout",
     "output_type": "stream",
     "text": [
      "Get normalized 3d coordinates time: 0.0008287429809570312\n",
      "Flip left handed input time: 0.0001857280731201172\n",
      "ScaLe heatmaps time 0.00010347366333007812\n",
      "Time for processing 1 frame: 0.042862653732299805s\n",
      "tensor([[0.9997]], device='cuda:0', grad_fn=<SigmoidBackward>)\n",
      "Handnet forward time: 0.0075299739837646484\n",
      "Handsegnet forward time: 0.0009617805480957031\n",
      "s shape torch.Size([1, 2, 224, 224])\n",
      "for loop time 0.0029931068420410156\n",
      "hand mask sum: 2888.0\n",
      "Calculate single highest scoring object time: 0.02797698974609375\n",
      "Crop and resize time: 0.0009510517120361328\n",
      "Posenet forward time: 0.001979351043701172\n",
      "Posepriornet forward time: 0.0007426738739013672\n",
      "Viewpoint forward time: 0.0009691715240478516\n",
      "Get normalized 3d coordinates time: 0.0006043910980224609\n",
      "Flip left handed input time: 0.0001442432403564453\n",
      "ScaLe heatmaps time 0.0001010894775390625\n",
      "Time for processing 1 frame: 0.042641401290893555s\n"
     ]
    },
    {
     "name": "stderr",
     "output_type": "stream",
     "text": [
      "243it [00:42,  5.92it/s]"
     ]
    },
    {
     "name": "stdout",
     "output_type": "stream",
     "text": [
      "tensor([[0.9995]], device='cuda:0', grad_fn=<SigmoidBackward>)\n",
      "Handnet forward time: 0.007541656494140625\n",
      "Handsegnet forward time: 0.0009534358978271484\n",
      "s shape torch.Size([1, 2, 224, 224])\n",
      "for loop time 0.0029799938201904297\n",
      "hand mask sum: 2818.0\n",
      "Calculate single highest scoring object time: 0.028011798858642578\n",
      "Crop and resize time: 0.0009562969207763672\n",
      "Posenet forward time: 0.0019898414611816406\n",
      "Posepriornet forward time: 0.00074005126953125\n",
      "Viewpoint forward time: 0.00096893310546875\n",
      "Get normalized 3d coordinates time: 0.0006048679351806641\n",
      "Flip left handed input time: 0.00014352798461914062\n",
      "ScaLe heatmaps time 0.00010013580322265625\n",
      "Time for processing 1 frame: 0.04272961616516113s\n",
      "tensor([[0.9979]], device='cuda:0', grad_fn=<SigmoidBackward>)\n",
      "Handnet forward time: 0.007508516311645508\n",
      "Handsegnet forward time: 0.0009598731994628906\n",
      "s shape torch.Size([1, 2, 224, 224])\n",
      "for loop time 0.0029790401458740234\n",
      "hand mask sum: 2737.0\n",
      "Calculate single highest scoring object time: 0.027959823608398438\n",
      "Crop and resize time: 0.0009520053863525391\n",
      "Posenet forward time: 0.0019969940185546875\n"
     ]
    },
    {
     "name": "stderr",
     "output_type": "stream",
     "text": [
      "\r",
      "244it [00:42,  5.94it/s]"
     ]
    },
    {
     "name": "stdout",
     "output_type": "stream",
     "text": [
      "Posepriornet forward time: 0.0009920597076416016\n",
      "Viewpoint forward time: 0.0010423660278320312\n",
      "Get normalized 3d coordinates time: 0.0006124973297119141\n",
      "Flip left handed input time: 0.0001461505889892578\n",
      "ScaLe heatmaps time 0.00010657310485839844\n",
      "Time for processing 1 frame: 0.04290008544921875s\n",
      "tensor([[0.9996]], device='cuda:0', grad_fn=<SigmoidBackward>)\n",
      "Handnet forward time: 0.007527351379394531\n",
      "Handsegnet forward time: 0.0009629726409912109\n",
      "s shape torch.Size([1, 2, 224, 224])\n",
      "for loop time 0.002994060516357422\n",
      "hand mask sum: 2746.0\n",
      "Calculate single highest scoring object time: 0.02795243263244629\n",
      "Crop and resize time: 0.0009551048278808594\n",
      "Posenet forward time: 0.0019838809967041016\n",
      "Posepriornet forward time: 0.0007481575012207031\n",
      "Viewpoint forward time: 0.0009732246398925781\n",
      "Get normalized 3d coordinates time: 0.0006058216094970703\n",
      "Flip left handed input time: 0.00014448165893554688\n",
      "ScaLe heatmaps time 0.00010085105895996094\n",
      "Time for processing 1 frame: 0.04262351989746094s\n"
     ]
    },
    {
     "name": "stderr",
     "output_type": "stream",
     "text": [
      "246it [00:43,  5.77it/s]"
     ]
    },
    {
     "name": "stdout",
     "output_type": "stream",
     "text": [
      "tensor([[0.9998]], device='cuda:0', grad_fn=<SigmoidBackward>)\n",
      "Handnet forward time: 0.009827375411987305\n",
      "Handsegnet forward time: 0.001050710678100586\n",
      "s shape torch.Size([1, 2, 224, 224])\n",
      "for loop time 0.0030083656311035156\n",
      "hand mask sum: 2755.0\n",
      "Calculate single highest scoring object time: 0.03414416313171387\n",
      "Crop and resize time: 0.0010504722595214844\n",
      "Posenet forward time: 0.0020503997802734375\n",
      "Posepriornet forward time: 0.0008084774017333984\n",
      "Viewpoint forward time: 0.0010275840759277344\n",
      "Get normalized 3d coordinates time: 0.00063323974609375\n",
      "Flip left handed input time: 0.00014710426330566406\n",
      "ScaLe heatmaps time 0.00010561943054199219\n",
      "Time for processing 1 frame: 0.05160880088806152s\n",
      "tensor([[0.9997]], device='cuda:0', grad_fn=<SigmoidBackward>)\n",
      "Handnet forward time: 0.007580995559692383\n",
      "Handsegnet forward time: 0.0009577274322509766\n"
     ]
    },
    {
     "name": "stderr",
     "output_type": "stream",
     "text": [
      "\r",
      "247it [00:43,  5.82it/s]"
     ]
    },
    {
     "name": "stdout",
     "output_type": "stream",
     "text": [
      "s shape torch.Size([1, 2, 224, 224])\n",
      "for loop time 0.002982616424560547\n",
      "hand mask sum: 2744.0\n",
      "Calculate single highest scoring object time: 0.02805304527282715\n",
      "Crop and resize time: 0.0009596347808837891\n",
      "Posenet forward time: 0.001996278762817383\n",
      "Posepriornet forward time: 0.0007398128509521484\n",
      "Viewpoint forward time: 0.0009822845458984375\n",
      "Get normalized 3d coordinates time: 0.0006084442138671875\n",
      "Flip left handed input time: 0.00014519691467285156\n",
      "ScaLe heatmaps time 0.00010466575622558594\n",
      "Time for processing 1 frame: 0.0428011417388916s\n",
      "tensor([[0.9999]], device='cuda:0', grad_fn=<SigmoidBackward>)\n",
      "Handnet forward time: 0.0075168609619140625\n",
      "Handsegnet forward time: 0.0009603500366210938\n",
      "s shape torch.Size([1, 2, 224, 224])\n",
      "for loop time 0.002976655960083008\n",
      "hand mask sum: 2745.0\n",
      "Calculate single highest scoring object time: 0.02798771858215332\n",
      "Crop and resize time: 0.0009582042694091797\n",
      "Posenet forward time: 0.002000570297241211\n",
      "Posepriornet forward time: 0.0007376670837402344\n",
      "Viewpoint forward time: 0.0009891986846923828\n",
      "Get normalized 3d coordinates time: 0.0006084442138671875\n",
      "Flip left handed input time: 0.0001468658447265625\n",
      "ScaLe heatmaps time 0.0001010894775390625\n",
      "Time for processing 1 frame: 0.0426788330078125s\n"
     ]
    },
    {
     "name": "stderr",
     "output_type": "stream",
     "text": [
      "249it [00:43,  5.84it/s]"
     ]
    },
    {
     "name": "stdout",
     "output_type": "stream",
     "text": [
      "tensor([[0.9997]], device='cuda:0', grad_fn=<SigmoidBackward>)\n",
      "Handnet forward time: 0.009170293807983398\n",
      "Handsegnet forward time: 0.001224517822265625\n",
      "s shape torch.Size([1, 2, 224, 224])\n",
      "for loop time 0.0032532215118408203\n",
      "hand mask sum: 2735.0\n",
      "Calculate single highest scoring object time: 0.02995586395263672\n",
      "Crop and resize time: 0.001130819320678711\n",
      "Posenet forward time: 0.002430438995361328\n",
      "Posepriornet forward time: 0.0007619857788085938\n",
      "Viewpoint forward time: 0.001004934310913086\n",
      "Get normalized 3d coordinates time: 0.0006067752838134766\n",
      "Flip left handed input time: 0.00012183189392089844\n",
      "ScaLe heatmaps time 8.344650268554688e-05\n",
      "Time for processing 1 frame: 0.0471806526184082s\n",
      "tensor([[0.9996]], device='cuda:0', grad_fn=<SigmoidBackward>)\n",
      "Handnet forward time: 0.00750422477722168\n",
      "Handsegnet forward time: 0.00096893310546875\n",
      "s shape torch.Size([1, 2, 224, 224])\n",
      "for loop time 0.0029900074005126953\n",
      "hand mask sum: 2730.0\n",
      "Calculate single highest scoring object time: 0.027942419052124023\n",
      "Crop and resize time: 0.000934600830078125\n"
     ]
    },
    {
     "name": "stderr",
     "output_type": "stream",
     "text": [
      "\r",
      "250it [00:43,  5.87it/s]"
     ]
    },
    {
     "name": "stdout",
     "output_type": "stream",
     "text": [
      "Posenet forward time: 0.0024602413177490234\n",
      "Posepriornet forward time: 0.0007677078247070312\n",
      "Viewpoint forward time: 0.00096893310546875\n",
      "Get normalized 3d coordinates time: 0.0005805492401123047\n",
      "Flip left handed input time: 0.00011777877807617188\n",
      "ScaLe heatmaps time 9.012222290039062e-05\n",
      "Time for processing 1 frame: 0.04291200637817383s\n",
      "tensor([[0.9996]], device='cuda:0', grad_fn=<SigmoidBackward>)\n",
      "Handnet forward time: 0.007524967193603516\n",
      "Handsegnet forward time: 0.0009675025939941406\n",
      "s shape torch.Size([1, 2, 224, 224])\n",
      "for loop time 0.002993345260620117\n",
      "hand mask sum: 2739.0\n",
      "Calculate single highest scoring object time: 0.027924060821533203\n",
      "Crop and resize time: 0.0009388923645019531\n",
      "Posenet forward time: 0.0019431114196777344\n",
      "Posepriornet forward time: 0.0007042884826660156\n",
      "Viewpoint forward time: 0.0009453296661376953\n",
      "Get normalized 3d coordinates time: 0.0005800724029541016\n",
      "Flip left handed input time: 0.0001201629638671875\n",
      "ScaLe heatmaps time 8.225440979003906e-05\n",
      "Time for processing 1 frame: 0.04229092597961426s\n"
     ]
    },
    {
     "name": "stderr",
     "output_type": "stream",
     "text": [
      "\r",
      "251it [00:43,  5.90it/s]"
     ]
    },
    {
     "name": "stdout",
     "output_type": "stream",
     "text": [
      "tensor([[0.9998]], device='cuda:0', grad_fn=<SigmoidBackward>)\n",
      "Handnet forward time: 0.00751948356628418\n",
      "Handsegnet forward time: 0.0009889602661132812\n",
      "s shape torch.Size([1, 2, 224, 224])\n",
      "for loop time 0.0029833316802978516\n",
      "hand mask sum: 2729.0\n",
      "Calculate single highest scoring object time: 0.027940988540649414\n",
      "Crop and resize time: 0.0009369850158691406\n",
      "Posenet forward time: 0.001953125\n",
      "Posepriornet forward time: 0.0006957054138183594\n",
      "Viewpoint forward time: 0.0009419918060302734\n",
      "Get normalized 3d coordinates time: 0.0005807876586914062\n",
      "Flip left handed input time: 0.00011873245239257812\n",
      "ScaLe heatmaps time 8.368492126464844e-05\n",
      "Time for processing 1 frame: 0.042362213134765625s\n"
     ]
    },
    {
     "name": "stderr",
     "output_type": "stream",
     "text": [
      "253it [00:44,  5.01it/s]"
     ]
    },
    {
     "name": "stdout",
     "output_type": "stream",
     "text": [
      "tensor([[0.9996]], device='cuda:0', grad_fn=<SigmoidBackward>)\n",
      "Handnet forward time: 0.0075550079345703125\n",
      "Handsegnet forward time: 0.0010895729064941406\n",
      "s shape torch.Size([1, 2, 224, 224])\n",
      "for loop time 0.0029261112213134766\n",
      "hand mask sum: 2740.0\n",
      "Calculate single highest scoring object time: 0.027810096740722656\n",
      "Crop and resize time: 0.0009453296661376953\n",
      "Posenet forward time: 0.0019502639770507812\n",
      "Posepriornet forward time: 0.0007617473602294922\n",
      "Viewpoint forward time: 0.0009918212890625\n",
      "Get normalized 3d coordinates time: 0.0005691051483154297\n",
      "Flip left handed input time: 0.0001361370086669922\n",
      "ScaLe heatmaps time 4.100799560546875e-05\n",
      "Time for processing 1 frame: 0.042517900466918945s\n",
      "tensor([[0.9997]], device='cuda:0', grad_fn=<SigmoidBackward>)\n",
      "Handnet forward time: 0.007484912872314453\n",
      "Handsegnet forward time: 0.0009450912475585938\n",
      "s shape torch.Size([1, 2, 224, 224])\n",
      "for loop time 0.002977609634399414\n",
      "hand mask sum: 2731.0\n",
      "Calculate single highest scoring object time: 0.027949810028076172\n",
      "Crop and resize time: 0.0009341239929199219\n",
      "Posenet forward time: 0.0019297599792480469\n",
      "Posepriornet forward time: 0.0006976127624511719\n"
     ]
    },
    {
     "name": "stderr",
     "output_type": "stream",
     "text": [
      "\r",
      "254it [00:44,  5.27it/s]"
     ]
    },
    {
     "name": "stdout",
     "output_type": "stream",
     "text": [
      "Viewpoint forward time: 0.001165628433227539\n",
      "Get normalized 3d coordinates time: 0.0006585121154785156\n",
      "Flip left handed input time: 0.000152587890625\n",
      "ScaLe heatmaps time 9.751319885253906e-05\n",
      "Time for processing 1 frame: 0.04260134696960449s\n",
      "tensor([[0.9998]], device='cuda:0', grad_fn=<SigmoidBackward>)\n",
      "Handnet forward time: 0.007515668869018555\n",
      "Handsegnet forward time: 0.0009539127349853516\n",
      "s shape torch.Size([1, 2, 224, 224])\n",
      "for loop time 0.0029861927032470703\n",
      "hand mask sum: 2737.0\n",
      "Calculate single highest scoring object time: 0.02790665626525879\n",
      "Crop and resize time: 0.0009295940399169922\n",
      "Posenet forward time: 0.0019474029541015625\n",
      "Posepriornet forward time: 0.0007085800170898438\n",
      "Viewpoint forward time: 0.0009391307830810547\n",
      "Get normalized 3d coordinates time: 0.0005795955657958984\n",
      "Flip left handed input time: 0.00011920928955078125\n",
      "ScaLe heatmaps time 8.392333984375e-05\n",
      "Time for processing 1 frame: 0.0422518253326416s\n"
     ]
    },
    {
     "name": "stderr",
     "output_type": "stream",
     "text": [
      "256it [00:44,  5.56it/s]"
     ]
    },
    {
     "name": "stdout",
     "output_type": "stream",
     "text": [
      "tensor([[0.9998]], device='cuda:0', grad_fn=<SigmoidBackward>)\n",
      "Handnet forward time: 0.007505893707275391\n",
      "Handsegnet forward time: 0.0010242462158203125\n",
      "s shape torch.Size([1, 2, 224, 224])\n",
      "for loop time 0.0029821395874023438\n",
      "hand mask sum: 2726.0\n",
      "Calculate single highest scoring object time: 0.027899503707885742\n",
      "Crop and resize time: 0.0009338855743408203\n",
      "Posenet forward time: 0.0019435882568359375\n",
      "Posepriornet forward time: 0.0006971359252929688\n",
      "Viewpoint forward time: 0.0009393692016601562\n",
      "Get normalized 3d coordinates time: 0.0005712509155273438\n",
      "Flip left handed input time: 0.00011968612670898438\n",
      "ScaLe heatmaps time 8.296966552734375e-05\n",
      "Time for processing 1 frame: 0.042200326919555664s\n",
      "tensor([[0.9835]], device='cuda:0', grad_fn=<SigmoidBackward>)\n",
      "Handnet forward time: 0.008395671844482422\n",
      "Handsegnet forward time: 0.0009751319885253906\n"
     ]
    },
    {
     "name": "stderr",
     "output_type": "stream",
     "text": [
      "\r",
      "257it [00:45,  5.74it/s]"
     ]
    },
    {
     "name": "stdout",
     "output_type": "stream",
     "text": [
      "s shape torch.Size([1, 2, 224, 224])\n",
      "for loop time 0.00305938720703125\n",
      "hand mask sum: 2713.0\n",
      "Calculate single highest scoring object time: 0.0314028263092041\n",
      "Crop and resize time: 0.0009694099426269531\n",
      "Posenet forward time: 0.001999378204345703\n",
      "Posepriornet forward time: 0.0007092952728271484\n",
      "Viewpoint forward time: 0.0009343624114990234\n",
      "Get normalized 3d coordinates time: 0.0005998611450195312\n",
      "Flip left handed input time: 0.00012755393981933594\n",
      "ScaLe heatmaps time 9.179115295410156e-05\n",
      "Time for processing 1 frame: 0.046787261962890625s\n",
      "tensor([[0.9998]], device='cuda:0', grad_fn=<SigmoidBackward>)\n",
      "Handnet forward time: 0.007485628128051758\n",
      "Handsegnet forward time: 0.0009505748748779297\n",
      "s shape torch.Size([1, 2, 224, 224])\n",
      "for loop time 0.0029740333557128906\n",
      "hand mask sum: 2695.0\n",
      "Calculate single highest scoring object time: 0.02789139747619629\n",
      "Crop and resize time: 0.0009374618530273438\n",
      "Posenet forward time: 0.0019376277923583984\n",
      "Posepriornet forward time: 0.0007083415985107422\n",
      "Viewpoint forward time: 0.0009319782257080078\n",
      "Get normalized 3d coordinates time: 0.0005846023559570312\n",
      "Flip left handed input time: 0.0001220703125\n",
      "ScaLe heatmaps time 7.128715515136719e-05\n",
      "Time for processing 1 frame: 0.04218173027038574s\n"
     ]
    },
    {
     "name": "stderr",
     "output_type": "stream",
     "text": [
      "259it [00:45,  5.98it/s]"
     ]
    },
    {
     "name": "stdout",
     "output_type": "stream",
     "text": [
      "tensor([[0.9996]], device='cuda:0', grad_fn=<SigmoidBackward>)\n",
      "Handnet forward time: 0.00750422477722168\n",
      "Handsegnet forward time: 0.0009450912475585938\n",
      "s shape torch.Size([1, 2, 224, 224])\n",
      "for loop time 0.0029675960540771484\n",
      "hand mask sum: 2685.0\n",
      "Calculate single highest scoring object time: 0.027929306030273438\n",
      "Crop and resize time: 0.0009377002716064453\n",
      "Posenet forward time: 0.0019314289093017578\n",
      "Posepriornet forward time: 0.0007040500640869141\n",
      "Viewpoint forward time: 0.00095367431640625\n",
      "Get normalized 3d coordinates time: 0.0005807876586914062\n",
      "Flip left handed input time: 0.00012135505676269531\n",
      "ScaLe heatmaps time 8.535385131835938e-05\n",
      "Time for processing 1 frame: 0.042285919189453125s\n",
      "tensor([[0.9995]], device='cuda:0', grad_fn=<SigmoidBackward>)\n",
      "Handnet forward time: 0.00754857063293457\n",
      "Handsegnet forward time: 0.0009639263153076172\n",
      "s shape torch.Size([1, 2, 224, 224])\n",
      "for loop time 0.002956867218017578\n",
      "hand mask sum: 2657.0\n",
      "Calculate single highest scoring object time: 0.027888774871826172\n",
      "Crop and resize time: 0.0009312629699707031\n",
      "Posenet forward time: 0.0019283294677734375\n",
      "Posepriornet forward time: 0.0007009506225585938\n",
      "Viewpoint forward time: 0.00093841552734375\n",
      "Get normalized 3d coordinates time: 0.0005846023559570312\n",
      "Flip left handed input time: 0.00012159347534179688\n",
      "ScaLe heatmaps time 8.58306884765625e-05\n",
      "Time for processing 1 frame: 0.042252302169799805s\n"
     ]
    },
    {
     "name": "stderr",
     "output_type": "stream",
     "text": [
      "261it [00:45,  6.10it/s]"
     ]
    },
    {
     "name": "stdout",
     "output_type": "stream",
     "text": [
      "tensor([[0.9996]], device='cuda:0', grad_fn=<SigmoidBackward>)\n",
      "Handnet forward time: 0.0075225830078125\n",
      "Handsegnet forward time: 0.0009541511535644531\n",
      "s shape torch.Size([1, 2, 224, 224])\n",
      "for loop time 0.002965688705444336\n",
      "hand mask sum: 2640.0\n",
      "Calculate single highest scoring object time: 0.027910470962524414\n",
      "Crop and resize time: 0.0009317398071289062\n",
      "Posenet forward time: 0.0019338130950927734\n",
      "Posepriornet forward time: 0.00070953369140625\n",
      "Viewpoint forward time: 0.0009405612945556641\n",
      "Get normalized 3d coordinates time: 0.0005805492401123047\n",
      "Flip left handed input time: 0.0001220703125\n",
      "ScaLe heatmaps time 8.273124694824219e-05\n",
      "Time for processing 1 frame: 0.04228472709655762s\n",
      "tensor([[0.9996]], device='cuda:0', grad_fn=<SigmoidBackward>)\n",
      "Handnet forward time: 0.007491588592529297\n",
      "Handsegnet forward time: 0.0009500980377197266\n",
      "s shape torch.Size([1, 2, 224, 224])\n",
      "for loop time 0.0029680728912353516\n",
      "hand mask sum: 2602.0\n",
      "Calculate single highest scoring object time: 0.027950286865234375\n",
      "Crop and resize time: 0.0009303092956542969\n",
      "Posenet forward time: 0.0019330978393554688\n",
      "Posepriornet forward time: 0.0007085800170898438\n",
      "Viewpoint forward time: 0.0009412765502929688\n",
      "Get normalized 3d coordinates time: 0.0005748271942138672\n",
      "Flip left handed input time: 0.00011706352233886719\n",
      "ScaLe heatmaps time 8.630752563476562e-05\n",
      "Time for processing 1 frame: 0.0422368049621582s\n"
     ]
    },
    {
     "name": "stderr",
     "output_type": "stream",
     "text": [
      "263it [00:45,  6.16it/s]"
     ]
    },
    {
     "name": "stdout",
     "output_type": "stream",
     "text": [
      "tensor([[0.9996]], device='cuda:0', grad_fn=<SigmoidBackward>)\n",
      "Handnet forward time: 0.007523536682128906\n",
      "Handsegnet forward time: 0.0009503364562988281\n",
      "s shape torch.Size([1, 2, 224, 224])\n",
      "for loop time 0.0029675960540771484\n",
      "hand mask sum: 2583.0\n",
      "Calculate single highest scoring object time: 0.0278623104095459\n",
      "Crop and resize time: 0.0009377002716064453\n",
      "Posenet forward time: 0.0019638538360595703\n",
      "Posepriornet forward time: 0.0007050037384033203\n",
      "Viewpoint forward time: 0.0009367465972900391\n",
      "Get normalized 3d coordinates time: 0.0005776882171630859\n",
      "Flip left handed input time: 0.00012135505676269531\n",
      "ScaLe heatmaps time 8.296966552734375e-05\n",
      "Time for processing 1 frame: 0.04226374626159668s\n",
      "tensor([[0.9996]], device='cuda:0', grad_fn=<SigmoidBackward>)\n",
      "Handnet forward time: 0.007529497146606445\n",
      "Handsegnet forward time: 0.0009534358978271484\n",
      "s shape torch.Size([1, 2, 224, 224])\n",
      "for loop time 0.0029687881469726562\n",
      "hand mask sum: 2564.0\n",
      "Calculate single highest scoring object time: 0.027899742126464844\n",
      "Crop and resize time: 0.0009357929229736328\n",
      "Posenet forward time: 0.001976490020751953\n",
      "Posepriornet forward time: 0.0006992816925048828\n",
      "Viewpoint forward time: 0.0009448528289794922\n",
      "Get normalized 3d coordinates time: 0.0005846023559570312\n",
      "Flip left handed input time: 0.00012111663818359375\n",
      "ScaLe heatmaps time 8.96453857421875e-05\n",
      "Time for processing 1 frame: 0.042291879653930664s\n"
     ]
    },
    {
     "name": "stderr",
     "output_type": "stream",
     "text": [
      "265it [00:46,  6.16it/s]"
     ]
    },
    {
     "name": "stdout",
     "output_type": "stream",
     "text": [
      "tensor([[0.9995]], device='cuda:0', grad_fn=<SigmoidBackward>)\n",
      "Handnet forward time: 0.0075511932373046875\n",
      "Handsegnet forward time: 0.0009567737579345703\n",
      "s shape torch.Size([1, 2, 224, 224])\n",
      "for loop time 0.002978086471557617\n",
      "hand mask sum: 2529.0\n",
      "Calculate single highest scoring object time: 0.02793717384338379\n",
      "Crop and resize time: 0.0009431838989257812\n",
      "Posenet forward time: 0.001949310302734375\n",
      "Posepriornet forward time: 0.0007045269012451172\n",
      "Viewpoint forward time: 0.0009465217590332031\n",
      "Get normalized 3d coordinates time: 0.0005826950073242188\n",
      "Flip left handed input time: 0.00012087821960449219\n",
      "ScaLe heatmaps time 8.273124694824219e-05\n",
      "Time for processing 1 frame: 0.0423738956451416s\n",
      "tensor([[0.9984]], device='cuda:0', grad_fn=<SigmoidBackward>)\n",
      "Handnet forward time: 0.007517099380493164\n",
      "Handsegnet forward time: 0.0009534358978271484\n",
      "s shape torch.Size([1, 2, 224, 224])\n",
      "for loop time 0.0029768943786621094\n",
      "hand mask sum: 2495.0\n",
      "Calculate single highest scoring object time: 0.02796483039855957\n",
      "Crop and resize time: 0.0009305477142333984\n",
      "Posenet forward time: 0.0019550323486328125\n",
      "Posepriornet forward time: 0.00069427490234375\n",
      "Viewpoint forward time: 0.0009558200836181641\n",
      "Get normalized 3d coordinates time: 0.0005793571472167969\n",
      "Flip left handed input time: 0.00011992454528808594\n",
      "ScaLe heatmaps time 8.821487426757812e-05\n",
      "Time for processing 1 frame: 0.04232215881347656s\n"
     ]
    },
    {
     "name": "stderr",
     "output_type": "stream",
     "text": [
      "267it [00:46,  6.17it/s]"
     ]
    },
    {
     "name": "stdout",
     "output_type": "stream",
     "text": [
      "tensor([[0.9970]], device='cuda:0', grad_fn=<SigmoidBackward>)\n",
      "Handnet forward time: 0.007540702819824219\n",
      "Handsegnet forward time: 0.0010228157043457031\n",
      "s shape torch.Size([1, 2, 224, 224])\n",
      "for loop time 0.0029838085174560547\n",
      "hand mask sum: 2501.0\n",
      "Calculate single highest scoring object time: 0.02782154083251953\n",
      "Crop and resize time: 0.0009295940399169922\n",
      "Posenet forward time: 0.001962423324584961\n",
      "Posepriornet forward time: 0.0007071495056152344\n",
      "Viewpoint forward time: 0.0009450912475585938\n",
      "Get normalized 3d coordinates time: 0.0005788803100585938\n",
      "Flip left handed input time: 0.0001201629638671875\n",
      "ScaLe heatmaps time 8.153915405273438e-05\n",
      "Time for processing 1 frame: 0.04221296310424805s\n",
      "tensor([[0.9972]], device='cuda:0', grad_fn=<SigmoidBackward>)\n",
      "Handnet forward time: 0.007492542266845703\n",
      "Handsegnet forward time: 0.0009593963623046875\n",
      "s shape torch.Size([1, 2, 224, 224])\n",
      "for loop time 0.002971172332763672\n",
      "hand mask sum: 2405.0\n",
      "Calculate single highest scoring object time: 0.027909517288208008\n",
      "Crop and resize time: 0.0009317398071289062\n",
      "Posenet forward time: 0.001970052719116211\n",
      "Posepriornet forward time: 0.0007026195526123047\n",
      "Viewpoint forward time: 0.0009510517120361328\n",
      "Get normalized 3d coordinates time: 0.0005815029144287109\n",
      "Flip left handed input time: 0.0001239776611328125\n",
      "ScaLe heatmaps time 8.702278137207031e-05\n",
      "Time for processing 1 frame: 0.04226565361022949s\n"
     ]
    },
    {
     "name": "stderr",
     "output_type": "stream",
     "text": [
      "269it [00:46,  6.18it/s]"
     ]
    },
    {
     "name": "stdout",
     "output_type": "stream",
     "text": [
      "tensor([[0.9985]], device='cuda:0', grad_fn=<SigmoidBackward>)\n",
      "Handnet forward time: 0.007534027099609375\n",
      "Handsegnet forward time: 0.0009555816650390625\n",
      "s shape torch.Size([1, 2, 224, 224])\n",
      "for loop time 0.002995014190673828\n",
      "hand mask sum: 2324.0\n",
      "Calculate single highest scoring object time: 0.027999401092529297\n",
      "Crop and resize time: 0.0009357929229736328\n",
      "Posenet forward time: 0.001970529556274414\n",
      "Posepriornet forward time: 0.0007085800170898438\n",
      "Viewpoint forward time: 0.0009481906890869141\n",
      "Get normalized 3d coordinates time: 0.0005846023559570312\n",
      "Flip left handed input time: 0.0001232624053955078\n",
      "ScaLe heatmaps time 8.344650268554688e-05\n",
      "Time for processing 1 frame: 0.0424501895904541s\n",
      "tensor([[0.9987]], device='cuda:0', grad_fn=<SigmoidBackward>)\n",
      "Handnet forward time: 0.007552623748779297\n",
      "Handsegnet forward time: 0.0009531974792480469\n",
      "s shape torch.Size([1, 2, 224, 224])\n",
      "for loop time 0.0029795169830322266\n",
      "hand mask sum: 2324.0\n",
      "Calculate single highest scoring object time: 0.027901649475097656\n",
      "Crop and resize time: 0.0009381771087646484\n",
      "Posenet forward time: 0.0019414424896240234\n",
      "Posepriornet forward time: 0.0007014274597167969\n",
      "Viewpoint forward time: 0.0009562969207763672\n",
      "Get normalized 3d coordinates time: 0.0005788803100585938\n",
      "Flip left handed input time: 0.0001227855682373047\n",
      "ScaLe heatmaps time 8.654594421386719e-05\n",
      "Time for processing 1 frame: 0.04229426383972168s\n"
     ]
    },
    {
     "name": "stderr",
     "output_type": "stream",
     "text": [
      "271it [00:47,  6.18it/s]"
     ]
    },
    {
     "name": "stdout",
     "output_type": "stream",
     "text": [
      "tensor([[0.9971]], device='cuda:0', grad_fn=<SigmoidBackward>)\n",
      "Handnet forward time: 0.007533073425292969\n",
      "Handsegnet forward time: 0.000949859619140625\n",
      "s shape torch.Size([1, 2, 224, 224])\n",
      "for loop time 0.0029897689819335938\n",
      "hand mask sum: 2327.0\n",
      "Calculate single highest scoring object time: 0.028004169464111328\n",
      "Crop and resize time: 0.0009353160858154297\n",
      "Posenet forward time: 0.001983165740966797\n",
      "Posepriornet forward time: 0.0007116794586181641\n",
      "Viewpoint forward time: 0.0009424686431884766\n",
      "Get normalized 3d coordinates time: 0.0005779266357421875\n",
      "Flip left handed input time: 0.0001220703125\n",
      "ScaLe heatmaps time 8.416175842285156e-05\n",
      "Time for processing 1 frame: 0.042455434799194336s\n",
      "tensor([[0.9972]], device='cuda:0', grad_fn=<SigmoidBackward>)\n",
      "Handnet forward time: 0.007506370544433594\n",
      "Handsegnet forward time: 0.0009510517120361328\n",
      "s shape torch.Size([1, 2, 224, 224])\n",
      "for loop time 0.0029649734497070312\n",
      "hand mask sum: 2316.0\n",
      "Calculate single highest scoring object time: 0.027955055236816406\n",
      "Crop and resize time: 0.000934600830078125\n",
      "Posenet forward time: 0.001959085464477539\n",
      "Posepriornet forward time: 0.0007066726684570312\n",
      "Viewpoint forward time: 0.0009400844573974609\n",
      "Get normalized 3d coordinates time: 0.0005786418914794922\n",
      "Flip left handed input time: 0.00011801719665527344\n",
      "ScaLe heatmaps time 8.559226989746094e-05\n",
      "Time for processing 1 frame: 0.04230213165283203s\n"
     ]
    },
    {
     "name": "stderr",
     "output_type": "stream",
     "text": [
      "273it [00:47,  5.83it/s]"
     ]
    },
    {
     "name": "stdout",
     "output_type": "stream",
     "text": [
      "tensor([[0.9974]], device='cuda:0', grad_fn=<SigmoidBackward>)\n",
      "Handnet forward time: 0.0076754093170166016\n",
      "Handsegnet forward time: 0.0012183189392089844\n",
      "s shape torch.Size([1, 2, 224, 224])\n",
      "for loop time 0.003378629684448242\n",
      "hand mask sum: 2313.0\n",
      "Calculate single highest scoring object time: 0.033623695373535156\n",
      "Crop and resize time: 0.0011725425720214844\n",
      "Posenet forward time: 0.002501249313354492\n",
      "Posepriornet forward time: 0.0008790493011474609\n",
      "Viewpoint forward time: 0.0011751651763916016\n",
      "Get normalized 3d coordinates time: 0.0008404254913330078\n",
      "Flip left handed input time: 7.390975952148438e-05\n",
      "ScaLe heatmaps time 4.8160552978515625e-05\n",
      "Time for processing 1 frame: 0.04996490478515625s\n",
      "tensor([[0.9965]], device='cuda:0', grad_fn=<SigmoidBackward>)\n",
      "Handnet forward time: 0.007534027099609375\n",
      "Handsegnet forward time: 0.0009706020355224609\n"
     ]
    },
    {
     "name": "stderr",
     "output_type": "stream",
     "text": [
      "\r",
      "274it [00:47,  5.92it/s]"
     ]
    },
    {
     "name": "stdout",
     "output_type": "stream",
     "text": [
      "s shape torch.Size([1, 2, 224, 224])\n",
      "for loop time 0.0030035972595214844\n",
      "hand mask sum: 2320.0\n",
      "Calculate single highest scoring object time: 0.027892112731933594\n",
      "Crop and resize time: 0.000949859619140625\n",
      "Posenet forward time: 0.0019834041595458984\n",
      "Posepriornet forward time: 0.0006945133209228516\n",
      "Viewpoint forward time: 0.0009639263153076172\n",
      "Get normalized 3d coordinates time: 0.0005891323089599609\n",
      "Flip left handed input time: 0.00012040138244628906\n",
      "ScaLe heatmaps time 8.606910705566406e-05\n",
      "Time for processing 1 frame: 0.0423581600189209s\n",
      "tensor([[0.9963]], device='cuda:0', grad_fn=<SigmoidBackward>)\n",
      "Handnet forward time: 0.00752568244934082\n",
      "Handsegnet forward time: 0.0009577274322509766\n",
      "s shape torch.Size([1, 2, 224, 224])\n",
      "for loop time 0.002986431121826172\n",
      "hand mask sum: 2300.0\n",
      "Calculate single highest scoring object time: 0.02797079086303711\n",
      "Crop and resize time: 0.0009381771087646484\n",
      "Posenet forward time: 0.0019762516021728516\n",
      "Posepriornet forward time: 0.0007102489471435547\n",
      "Viewpoint forward time: 0.0009441375732421875\n",
      "Get normalized 3d coordinates time: 0.0005841255187988281\n",
      "Flip left handed input time: 0.00012087821960449219\n",
      "ScaLe heatmaps time 8.177757263183594e-05\n",
      "Time for processing 1 frame: 0.04236793518066406s\n"
     ]
    },
    {
     "name": "stderr",
     "output_type": "stream",
     "text": [
      "276it [00:48,  6.04it/s]"
     ]
    },
    {
     "name": "stdout",
     "output_type": "stream",
     "text": [
      "tensor([[0.9959]], device='cuda:0', grad_fn=<SigmoidBackward>)\n",
      "Handnet forward time: 0.0075228214263916016\n",
      "Handsegnet forward time: 0.0009744167327880859\n",
      "s shape torch.Size([1, 2, 224, 224])\n",
      "for loop time 0.002989053726196289\n",
      "hand mask sum: 2318.0\n",
      "Calculate single highest scoring object time: 0.027966022491455078\n",
      "Crop and resize time: 0.0009500980377197266\n",
      "Posenet forward time: 0.0019631385803222656\n",
      "Posepriornet forward time: 0.0007071495056152344\n",
      "Viewpoint forward time: 0.000949859619140625\n",
      "Get normalized 3d coordinates time: 0.0005891323089599609\n",
      "Flip left handed input time: 0.00012159347534179688\n",
      "ScaLe heatmaps time 8.749961853027344e-05\n",
      "Time for processing 1 frame: 0.04243969917297363s\n",
      "tensor([[0.9955]], device='cuda:0', grad_fn=<SigmoidBackward>)\n",
      "Handnet forward time: 0.0075490474700927734\n",
      "Handsegnet forward time: 0.0009653568267822266\n",
      "s shape torch.Size([1, 2, 224, 224])\n",
      "for loop time 0.00299072265625\n",
      "hand mask sum: 2322.0\n",
      "Calculate single highest scoring object time: 0.0279386043548584\n",
      "Crop and resize time: 0.0009424686431884766\n",
      "Posenet forward time: 0.001985788345336914\n",
      "Posepriornet forward time: 0.0007145404815673828\n",
      "Viewpoint forward time: 0.0009484291076660156\n",
      "Get normalized 3d coordinates time: 0.0005955696105957031\n",
      "Flip left handed input time: 0.00012159347534179688\n",
      "ScaLe heatmaps time 8.869171142578125e-05\n",
      "Time for processing 1 frame: 0.04241061210632324s\n"
     ]
    },
    {
     "name": "stderr",
     "output_type": "stream",
     "text": [
      "278it [00:48,  6.10it/s]"
     ]
    },
    {
     "name": "stdout",
     "output_type": "stream",
     "text": [
      "tensor([[0.9970]], device='cuda:0', grad_fn=<SigmoidBackward>)\n",
      "Handnet forward time: 0.0074920654296875\n",
      "Handsegnet forward time: 0.0010349750518798828\n",
      "s shape torch.Size([1, 2, 224, 224])\n",
      "for loop time 0.0029969215393066406\n",
      "hand mask sum: 2327.0\n",
      "Calculate single highest scoring object time: 0.027867555618286133\n",
      "Crop and resize time: 0.001024484634399414\n",
      "Posenet forward time: 0.0019969940185546875\n",
      "Posepriornet forward time: 0.0007169246673583984\n",
      "Viewpoint forward time: 0.0009450912475585938\n",
      "Get normalized 3d coordinates time: 0.0005862712860107422\n",
      "Flip left handed input time: 0.000118255615234375\n",
      "ScaLe heatmaps time 8.821487426757812e-05\n",
      "Time for processing 1 frame: 0.042458534240722656s\n",
      "tensor([[0.9976]], device='cuda:0', grad_fn=<SigmoidBackward>)\n",
      "Handnet forward time: 0.007522106170654297\n",
      "Handsegnet forward time: 0.0009748935699462891\n",
      "s shape torch.Size([1, 2, 224, 224])\n",
      "for loop time 0.002986431121826172\n",
      "hand mask sum: 2331.0\n",
      "Calculate single highest scoring object time: 0.02792644500732422\n",
      "Crop and resize time: 0.0009338855743408203\n",
      "Posenet forward time: 0.0019683837890625\n",
      "Posepriornet forward time: 0.0006997585296630859\n",
      "Viewpoint forward time: 0.0009613037109375\n",
      "Get normalized 3d coordinates time: 0.0005867481231689453\n",
      "Flip left handed input time: 0.0001201629638671875\n",
      "ScaLe heatmaps time 8.726119995117188e-05\n",
      "Time for processing 1 frame: 0.04235720634460449s\n"
     ]
    },
    {
     "name": "stderr",
     "output_type": "stream",
     "text": [
      "280it [00:48,  5.90it/s]"
     ]
    },
    {
     "name": "stdout",
     "output_type": "stream",
     "text": [
      "tensor([[0.9970]], device='cuda:0', grad_fn=<SigmoidBackward>)\n",
      "Handnet forward time: 0.007621288299560547\n",
      "Handsegnet forward time: 0.0015439987182617188\n",
      "s shape torch.Size([1, 2, 224, 224])\n",
      "for loop time 0.0034270286560058594\n",
      "hand mask sum: 2309.0\n",
      "Calculate single highest scoring object time: 0.03277182579040527\n",
      "Crop and resize time: 0.0011320114135742188\n",
      "Posenet forward time: 0.003274679183959961\n",
      "Posepriornet forward time: 0.0008683204650878906\n",
      "Viewpoint forward time: 0.0013568401336669922\n",
      "Get normalized 3d coordinates time: 0.000843048095703125\n",
      "Flip left handed input time: 6.628036499023438e-05\n",
      "ScaLe heatmaps time 8.082389831542969e-05\n",
      "Time for processing 1 frame: 0.0503690242767334s\n",
      "tensor([[0.9973]], device='cuda:0', grad_fn=<SigmoidBackward>)\n",
      "Handnet forward time: 0.007540225982666016\n",
      "Handsegnet forward time: 0.0009732246398925781\n"
     ]
    },
    {
     "name": "stderr",
     "output_type": "stream",
     "text": [
      "\r",
      "281it [00:48,  5.96it/s]"
     ]
    },
    {
     "name": "stdout",
     "output_type": "stream",
     "text": [
      "s shape torch.Size([1, 2, 224, 224])\n",
      "for loop time 0.002977609634399414\n",
      "hand mask sum: 2314.0\n",
      "Calculate single highest scoring object time: 0.027997255325317383\n",
      "Crop and resize time: 0.0009396076202392578\n",
      "Posenet forward time: 0.001967906951904297\n",
      "Posepriornet forward time: 0.0007138252258300781\n",
      "Viewpoint forward time: 0.0009491443634033203\n",
      "Get normalized 3d coordinates time: 0.0005867481231689453\n",
      "Flip left handed input time: 0.000118255615234375\n",
      "ScaLe heatmaps time 8.726119995117188e-05\n",
      "Time for processing 1 frame: 0.04243612289428711s\n",
      "tensor([[0.9965]], device='cuda:0', grad_fn=<SigmoidBackward>)\n",
      "Handnet forward time: 0.007521152496337891\n",
      "Handsegnet forward time: 0.0009646415710449219\n",
      "s shape torch.Size([1, 2, 224, 224])\n",
      "for loop time 0.003006458282470703\n",
      "hand mask sum: 2305.0\n",
      "Calculate single highest scoring object time: 0.02800917625427246\n",
      "Crop and resize time: 0.000942230224609375\n",
      "Posenet forward time: 0.001985311508178711\n",
      "Posepriornet forward time: 0.0007150173187255859\n",
      "Viewpoint forward time: 0.0009479522705078125\n",
      "Get normalized 3d coordinates time: 0.0005865097045898438\n",
      "Flip left handed input time: 0.00012350082397460938\n",
      "ScaLe heatmaps time 8.940696716308594e-05\n",
      "Time for processing 1 frame: 0.04246258735656738s\n"
     ]
    },
    {
     "name": "stderr",
     "output_type": "stream",
     "text": [
      "283it [00:49,  6.04it/s]"
     ]
    },
    {
     "name": "stdout",
     "output_type": "stream",
     "text": [
      "tensor([[0.9959]], device='cuda:0', grad_fn=<SigmoidBackward>)\n",
      "Handnet forward time: 0.0075643062591552734\n",
      "Handsegnet forward time: 0.0009641647338867188\n",
      "s shape torch.Size([1, 2, 224, 224])\n",
      "for loop time 0.002992868423461914\n",
      "hand mask sum: 2314.0\n",
      "Calculate single highest scoring object time: 0.027958154678344727\n",
      "Crop and resize time: 0.0009510517120361328\n",
      "Posenet forward time: 0.0020079612731933594\n",
      "Posepriornet forward time: 0.0007340908050537109\n",
      "Viewpoint forward time: 0.0009572505950927734\n",
      "Get normalized 3d coordinates time: 0.0005893707275390625\n",
      "Flip left handed input time: 0.00011610984802246094\n",
      "ScaLe heatmaps time 3.528594970703125e-05\n",
      "Time for processing 1 frame: 0.042475223541259766s\n",
      "tensor([[0.9947]], device='cuda:0', grad_fn=<SigmoidBackward>)\n",
      "Handnet forward time: 0.007498741149902344\n",
      "Handsegnet forward time: 0.000982522964477539\n",
      "s shape torch.Size([1, 2, 224, 224])\n",
      "for loop time 0.0029821395874023438\n",
      "hand mask sum: 2296.0\n",
      "Calculate single highest scoring object time: 0.02793121337890625\n",
      "Crop and resize time: 0.0009534358978271484\n",
      "Posenet forward time: 0.001995563507080078\n",
      "Posepriornet forward time: 0.0007181167602539062\n",
      "Viewpoint forward time: 0.0009601116180419922\n",
      "Get normalized 3d coordinates time: 0.0005857944488525391\n",
      "Flip left handed input time: 0.00012183189392089844\n",
      "ScaLe heatmaps time 8.20159912109375e-05\n",
      "Time for processing 1 frame: 0.04239320755004883s\n"
     ]
    },
    {
     "name": "stderr",
     "output_type": "stream",
     "text": [
      "285it [00:49,  6.08it/s]"
     ]
    },
    {
     "name": "stdout",
     "output_type": "stream",
     "text": [
      "tensor([[0.9957]], device='cuda:0', grad_fn=<SigmoidBackward>)\n",
      "Handnet forward time: 0.007530927658081055\n",
      "Handsegnet forward time: 0.00096893310546875\n",
      "s shape torch.Size([1, 2, 224, 224])\n",
      "for loop time 0.003057718276977539\n",
      "hand mask sum: 2286.0\n",
      "Calculate single highest scoring object time: 0.02801370620727539\n",
      "Crop and resize time: 0.00093841552734375\n",
      "Posenet forward time: 0.001955747604370117\n",
      "Posepriornet forward time: 0.0007092952728271484\n",
      "Viewpoint forward time: 0.0009486675262451172\n",
      "Get normalized 3d coordinates time: 0.0005819797515869141\n",
      "Flip left handed input time: 0.00011730194091796875\n",
      "ScaLe heatmaps time 8.702278137207031e-05\n",
      "Time for processing 1 frame: 0.04246044158935547s\n",
      "tensor([[0.9869]], device='cuda:0', grad_fn=<SigmoidBackward>)\n",
      "Handnet forward time: 0.007512569427490234\n",
      "Handsegnet forward time: 0.0009772777557373047\n",
      "s shape torch.Size([1, 2, 224, 224])\n",
      "for loop time 0.003002643585205078\n",
      "hand mask sum: 2253.0\n",
      "Calculate single highest scoring object time: 0.027965784072875977\n",
      "Crop and resize time: 0.0009477138519287109\n",
      "Posenet forward time: 0.0019466876983642578\n",
      "Posepriornet forward time: 0.0007076263427734375\n",
      "Viewpoint forward time: 0.0009477138519287109\n",
      "Get normalized 3d coordinates time: 0.0005915164947509766\n",
      "Flip left handed input time: 0.00011968612670898438\n",
      "ScaLe heatmaps time 8.177757263183594e-05\n",
      "Time for processing 1 frame: 0.04235649108886719s\n"
     ]
    },
    {
     "name": "stderr",
     "output_type": "stream",
     "text": [
      "287it [00:49,  6.08it/s]"
     ]
    },
    {
     "name": "stdout",
     "output_type": "stream",
     "text": [
      "tensor([[0.9784]], device='cuda:0', grad_fn=<SigmoidBackward>)\n",
      "Handnet forward time: 0.0075550079345703125\n",
      "Handsegnet forward time: 0.0012009143829345703\n",
      "s shape torch.Size([1, 2, 224, 224])\n",
      "for loop time 0.0032663345336914062\n",
      "hand mask sum: 2207.0\n",
      "Calculate single highest scoring object time: 0.028067827224731445\n",
      "Crop and resize time: 0.0011143684387207031\n",
      "Posenet forward time: 0.002422809600830078\n",
      "Posepriornet forward time: 0.0008454322814941406\n",
      "Viewpoint forward time: 0.0011353492736816406\n",
      "Get normalized 3d coordinates time: 0.0007047653198242188\n",
      "Flip left handed input time: 0.00013184547424316406\n",
      "ScaLe heatmaps time 9.226799011230469e-05\n",
      "Time for processing 1 frame: 0.04395723342895508s\n",
      "tensor([[0.9795]], device='cuda:0', grad_fn=<SigmoidBackward>)\n",
      "Handnet forward time: 0.007544994354248047\n",
      "Handsegnet forward time: 0.0009999275207519531\n",
      "s shape torch.Size([1, 2, 224, 224])\n",
      "for loop time 0.003058910369873047\n",
      "hand mask sum: 2180.0\n",
      "Calculate single highest scoring object time: 0.027945995330810547\n",
      "Crop and resize time: 0.0009338855743408203\n",
      "Posenet forward time: 0.0019807815551757812\n",
      "Posepriornet forward time: 0.0007073879241943359\n",
      "Viewpoint forward time: 0.0009646415710449219\n",
      "Get normalized 3d coordinates time: 0.0005812644958496094\n",
      "Flip left handed input time: 0.00011968612670898438\n",
      "ScaLe heatmaps time 8.320808410644531e-05\n",
      "Time for processing 1 frame: 0.042436838150024414s\n"
     ]
    },
    {
     "name": "stderr",
     "output_type": "stream",
     "text": [
      "289it [00:50,  6.11it/s]"
     ]
    },
    {
     "name": "stdout",
     "output_type": "stream",
     "text": [
      "tensor([[0.9813]], device='cuda:0', grad_fn=<SigmoidBackward>)\n",
      "Handnet forward time: 0.0075495243072509766\n",
      "Handsegnet forward time: 0.0009648799896240234\n",
      "s shape torch.Size([1, 2, 224, 224])\n",
      "for loop time 0.0031638145446777344\n",
      "hand mask sum: 2160.0\n",
      "Calculate single highest scoring object time: 0.028043270111083984\n",
      "Crop and resize time: 0.0009508132934570312\n",
      "Posenet forward time: 0.0019731521606445312\n",
      "Posepriornet forward time: 0.0007121562957763672\n",
      "Viewpoint forward time: 0.0009636878967285156\n",
      "Get normalized 3d coordinates time: 0.0005884170532226562\n",
      "Flip left handed input time: 0.00012063980102539062\n",
      "ScaLe heatmaps time 8.916854858398438e-05\n",
      "Time for processing 1 frame: 0.04255938529968262s\n",
      "tensor([[0.9874]], device='cuda:0', grad_fn=<SigmoidBackward>)\n",
      "Handnet forward time: 0.007513761520385742\n",
      "Handsegnet forward time: 0.0009648799896240234\n",
      "s shape torch.Size([1, 2, 224, 224])\n",
      "for loop time 0.0029861927032470703\n",
      "hand mask sum: 2140.0\n",
      "Calculate single highest scoring object time: 0.027935028076171875\n",
      "Crop and resize time: 0.0009317398071289062\n",
      "Posenet forward time: 0.0019845962524414062\n",
      "Posepriornet forward time: 0.000720977783203125\n",
      "Viewpoint forward time: 0.0010521411895751953\n",
      "Get normalized 3d coordinates time: 0.0006597042083740234\n",
      "Flip left handed input time: 0.00013780593872070312\n",
      "ScaLe heatmaps time 8.7738037109375e-05\n",
      "Time for processing 1 frame: 0.042572021484375s\n"
     ]
    },
    {
     "name": "stderr",
     "output_type": "stream",
     "text": [
      "291it [00:50,  6.10it/s]"
     ]
    },
    {
     "name": "stdout",
     "output_type": "stream",
     "text": [
      "tensor([[0.9889]], device='cuda:0', grad_fn=<SigmoidBackward>)\n",
      "Handnet forward time: 0.007550716400146484\n",
      "Handsegnet forward time: 0.0009624958038330078\n",
      "s shape torch.Size([1, 2, 224, 224])\n",
      "for loop time 0.0030083656311035156\n",
      "hand mask sum: 2118.0\n",
      "Calculate single highest scoring object time: 0.027968883514404297\n",
      "Crop and resize time: 0.0009336471557617188\n",
      "Posenet forward time: 0.0019598007202148438\n",
      "Posepriornet forward time: 0.0007109642028808594\n",
      "Viewpoint forward time: 0.0009469985961914062\n",
      "Get normalized 3d coordinates time: 0.0005817413330078125\n",
      "Flip left handed input time: 0.0001201629638671875\n",
      "ScaLe heatmaps time 8.273124694824219e-05\n",
      "Time for processing 1 frame: 0.04241347312927246s\n",
      "tensor([[0.9790]], device='cuda:0', grad_fn=<SigmoidBackward>)\n",
      "Handnet forward time: 0.007489681243896484\n",
      "Handsegnet forward time: 0.0009610652923583984\n",
      "s shape torch.Size([1, 2, 224, 224])\n",
      "for loop time 0.0030570030212402344\n",
      "hand mask sum: 2099.0\n",
      "Calculate single highest scoring object time: 0.028040170669555664\n",
      "Crop and resize time: 0.0009438991546630859\n",
      "Posenet forward time: 0.0019686222076416016\n",
      "Posepriornet forward time: 0.0007097721099853516\n",
      "Viewpoint forward time: 0.0009608268737792969\n",
      "Get normalized 3d coordinates time: 0.0005810260772705078\n",
      "Flip left handed input time: 0.00011944770812988281\n",
      "ScaLe heatmaps time 9.131431579589844e-05\n",
      "Time for processing 1 frame: 0.042420148849487305s\n"
     ]
    },
    {
     "name": "stderr",
     "output_type": "stream",
     "text": [
      "293it [00:50,  6.08it/s]"
     ]
    },
    {
     "name": "stdout",
     "output_type": "stream",
     "text": [
      "tensor([[0.9597]], device='cuda:0', grad_fn=<SigmoidBackward>)\n",
      "Handnet forward time: 0.007531881332397461\n",
      "Handsegnet forward time: 0.0009660720825195312\n",
      "s shape torch.Size([1, 2, 224, 224])\n",
      "for loop time 0.003020763397216797\n",
      "hand mask sum: 2085.0\n",
      "Calculate single highest scoring object time: 0.027985334396362305\n",
      "Crop and resize time: 0.0009522438049316406\n",
      "Posenet forward time: 0.0019598007202148438\n",
      "Posepriornet forward time: 0.0007181167602539062\n",
      "Viewpoint forward time: 0.0009601116180419922\n",
      "Get normalized 3d coordinates time: 0.0005834102630615234\n",
      "Flip left handed input time: 0.00012040138244628906\n",
      "ScaLe heatmaps time 7.987022399902344e-05\n",
      "Time for processing 1 frame: 0.04245591163635254s\n",
      "tensor([[0.9604]], device='cuda:0', grad_fn=<SigmoidBackward>)\n",
      "Handnet forward time: 0.007563591003417969\n",
      "Handsegnet forward time: 0.0009765625\n",
      "s shape torch.Size([1, 2, 224, 224])\n",
      "for loop time 0.003047943115234375\n",
      "hand mask sum: 2080.0\n",
      "Calculate single highest scoring object time: 0.028136253356933594\n",
      "Crop and resize time: 0.0009348392486572266\n",
      "Posenet forward time: 0.0019674301147460938\n",
      "Posepriornet forward time: 0.000705718994140625\n",
      "Viewpoint forward time: 0.0009579658508300781\n",
      "Get normalized 3d coordinates time: 0.0005841255187988281\n",
      "Flip left handed input time: 0.00011944770812988281\n",
      "ScaLe heatmaps time 8.153915405273438e-05\n",
      "Time for processing 1 frame: 0.04259800910949707s\n"
     ]
    },
    {
     "name": "stderr",
     "output_type": "stream",
     "text": [
      "295it [00:51,  6.06it/s]"
     ]
    },
    {
     "name": "stdout",
     "output_type": "stream",
     "text": [
      "tensor([[0.9679]], device='cuda:0', grad_fn=<SigmoidBackward>)\n",
      "Handnet forward time: 0.0075931549072265625\n",
      "Handsegnet forward time: 0.0009696483612060547\n",
      "s shape torch.Size([1, 2, 224, 224])\n",
      "for loop time 0.0030858516693115234\n",
      "hand mask sum: 2068.0\n",
      "Calculate single highest scoring object time: 0.028220653533935547\n",
      "Crop and resize time: 0.0009396076202392578\n",
      "Posenet forward time: 0.0019714832305908203\n",
      "Posepriornet forward time: 0.0007126331329345703\n",
      "Viewpoint forward time: 0.0009455680847167969\n",
      "Get normalized 3d coordinates time: 0.0005819797515869141\n",
      "Flip left handed input time: 0.00011754035949707031\n",
      "ScaLe heatmaps time 8.58306884765625e-05\n",
      "Time for processing 1 frame: 0.042731285095214844s\n",
      "tensor([[0.9640]], device='cuda:0', grad_fn=<SigmoidBackward>)\n",
      "Handnet forward time: 0.007592201232910156\n",
      "Handsegnet forward time: 0.0009696483612060547\n",
      "s shape torch.Size([1, 2, 224, 224])\n",
      "for loop time 0.003006458282470703\n",
      "hand mask sum: 2069.0\n",
      "Calculate single highest scoring object time: 0.0280001163482666\n",
      "Crop and resize time: 0.0009479522705078125\n",
      "Posenet forward time: 0.0019538402557373047\n",
      "Posepriornet forward time: 0.0007069110870361328\n",
      "Viewpoint forward time: 0.0009551048278808594\n",
      "Get normalized 3d coordinates time: 0.0005967617034912109\n",
      "Flip left handed input time: 0.00012159347534179688\n"
     ]
    },
    {
     "name": "stderr",
     "output_type": "stream",
     "text": [
      "\r",
      "296it [00:51,  6.05it/s]"
     ]
    },
    {
     "name": "stdout",
     "output_type": "stream",
     "text": [
      "ScaLe heatmaps time 0.00020766258239746094\n",
      "Time for processing 1 frame: 0.04266953468322754s\n",
      "tensor([[0.9592]], device='cuda:0', grad_fn=<SigmoidBackward>)\n",
      "Handnet forward time: 0.007592916488647461\n",
      "Handsegnet forward time: 0.0009725093841552734\n",
      "s shape torch.Size([1, 2, 224, 224])\n",
      "for loop time 0.003012418746948242\n",
      "hand mask sum: 2053.0\n",
      "Calculate single highest scoring object time: 0.02800297737121582\n",
      "Crop and resize time: 0.0009355545043945312\n",
      "Posenet forward time: 0.0019583702087402344\n",
      "Posepriornet forward time: 0.0007066726684570312\n",
      "Viewpoint forward time: 0.0009484291076660156\n",
      "Get normalized 3d coordinates time: 0.0005831718444824219\n",
      "Flip left handed input time: 0.00011968612670898438\n",
      "ScaLe heatmaps time 8.177757263183594e-05\n",
      "Time for processing 1 frame: 0.04247117042541504s\n"
     ]
    },
    {
     "name": "stderr",
     "output_type": "stream",
     "text": [
      "298it [00:51,  6.06it/s]"
     ]
    },
    {
     "name": "stdout",
     "output_type": "stream",
     "text": [
      "tensor([[0.9646]], device='cuda:0', grad_fn=<SigmoidBackward>)\n",
      "Handnet forward time: 0.007548809051513672\n",
      "Handsegnet forward time: 0.0009715557098388672\n",
      "s shape torch.Size([1, 2, 224, 224])\n",
      "for loop time 0.003010988235473633\n",
      "hand mask sum: 2064.0\n",
      "Calculate single highest scoring object time: 0.02781510353088379\n",
      "Crop and resize time: 0.0009312629699707031\n",
      "Posenet forward time: 0.0019669532775878906\n",
      "Posepriornet forward time: 0.0007190704345703125\n",
      "Viewpoint forward time: 0.0009567737579345703\n",
      "Get normalized 3d coordinates time: 0.0005822181701660156\n",
      "Flip left handed input time: 0.00011897087097167969\n",
      "ScaLe heatmaps time 8.249282836914062e-05\n",
      "Time for processing 1 frame: 0.04228472709655762s\n",
      "tensor([[0.9695]], device='cuda:0', grad_fn=<SigmoidBackward>)\n",
      "Handnet forward time: 0.007586002349853516\n",
      "Handsegnet forward time: 0.0009691715240478516\n",
      "s shape torch.Size([1, 2, 224, 224])\n",
      "for loop time 0.0030069351196289062\n",
      "hand mask sum: 2065.0\n",
      "Calculate single highest scoring object time: 0.027981042861938477\n",
      "Crop and resize time: 0.0009541511535644531\n",
      "Posenet forward time: 0.0020139217376708984\n",
      "Posepriornet forward time: 0.0007240772247314453\n",
      "Viewpoint forward time: 0.0009558200836181641\n",
      "Get normalized 3d coordinates time: 0.000598907470703125\n",
      "Flip left handed input time: 0.0001246929168701172\n",
      "ScaLe heatmaps time 9.274482727050781e-05\n",
      "Time for processing 1 frame: 0.04256868362426758s\n"
     ]
    },
    {
     "name": "stderr",
     "output_type": "stream",
     "text": [
      "300it [00:52,  6.05it/s]"
     ]
    },
    {
     "name": "stdout",
     "output_type": "stream",
     "text": [
      "tensor([[0.9711]], device='cuda:0', grad_fn=<SigmoidBackward>)\n",
      "Handnet forward time: 0.0075702667236328125\n",
      "Handsegnet forward time: 0.0010080337524414062\n",
      "s shape torch.Size([1, 2, 224, 224])\n",
      "for loop time 0.003065347671508789\n",
      "hand mask sum: 2070.0\n",
      "Calculate single highest scoring object time: 0.028100967407226562\n",
      "Crop and resize time: 0.0009427070617675781\n",
      "Posenet forward time: 0.00196075439453125\n",
      "Posepriornet forward time: 0.0007100105285644531\n",
      "Viewpoint forward time: 0.0009636878967285156\n",
      "Get normalized 3d coordinates time: 0.0005846023559570312\n",
      "Flip left handed input time: 0.00012135505676269531\n",
      "ScaLe heatmaps time 8.273124694824219e-05\n",
      "Time for processing 1 frame: 0.04265141487121582s\n",
      "tensor([[0.9833]], device='cuda:0', grad_fn=<SigmoidBackward>)\n",
      "Handnet forward time: 0.007565975189208984\n",
      "Handsegnet forward time: 0.0009675025939941406\n",
      "s shape torch.Size([1, 2, 224, 224])\n",
      "for loop time 0.0030295848846435547\n",
      "hand mask sum: 2064.0\n",
      "Calculate single highest scoring object time: 0.02815985679626465\n",
      "Crop and resize time: 0.0009303092956542969\n",
      "Posenet forward time: 0.0019659996032714844\n",
      "Posepriornet forward time: 0.0007092952728271484\n",
      "Viewpoint forward time: 0.0009481906890869141\n",
      "Get normalized 3d coordinates time: 0.0005826950073242188\n",
      "Flip left handed input time: 0.00011968612670898438\n",
      "ScaLe heatmaps time 8.106231689453125e-05\n",
      "Time for processing 1 frame: 0.042586326599121094s"
     ]
    },
    {
     "name": "stderr",
     "output_type": "stream",
     "text": [
      "\r",
      "301it [00:52,  6.06it/s]"
     ]
    },
    {
     "name": "stdout",
     "output_type": "stream",
     "text": [
      "\n",
      "tensor([[0.9862]], device='cuda:0', grad_fn=<SigmoidBackward>)\n",
      "Handnet forward time: 0.0075719356536865234\n",
      "Handsegnet forward time: 0.0009677410125732422\n",
      "s shape torch.Size([1, 2, 224, 224])\n",
      "for loop time 0.0030324459075927734\n",
      "hand mask sum: 2067.0\n",
      "Calculate single highest scoring object time: 0.02803802490234375\n",
      "Crop and resize time: 0.0009446144104003906\n",
      "Posenet forward time: 0.001966238021850586\n",
      "Posepriornet forward time: 0.0007154941558837891\n",
      "Viewpoint forward time: 0.0009481906890869141\n",
      "Get normalized 3d coordinates time: 0.0005841255187988281\n",
      "Flip left handed input time: 0.00011968612670898438\n",
      "ScaLe heatmaps time 8.273124694824219e-05\n",
      "Time for processing 1 frame: 0.042501211166381836s\n"
     ]
    },
    {
     "name": "stderr",
     "output_type": "stream",
     "text": [
      "303it [00:52,  6.05it/s]"
     ]
    },
    {
     "name": "stdout",
     "output_type": "stream",
     "text": [
      "tensor([[0.9899]], device='cuda:0', grad_fn=<SigmoidBackward>)\n",
      "Handnet forward time: 0.007587432861328125\n",
      "Handsegnet forward time: 0.0010457038879394531\n",
      "s shape torch.Size([1, 2, 224, 224])\n",
      "for loop time 0.0029904842376708984\n",
      "hand mask sum: 2080.0\n",
      "Calculate single highest scoring object time: 0.027958154678344727\n",
      "Crop and resize time: 0.0009407997131347656\n",
      "Posenet forward time: 0.0019478797912597656\n",
      "Posepriornet forward time: 0.0007002353668212891\n",
      "Viewpoint forward time: 0.0009493827819824219\n",
      "Get normalized 3d coordinates time: 0.0005829334259033203\n",
      "Flip left handed input time: 0.00011992454528808594\n",
      "ScaLe heatmaps time 8.726119995117188e-05\n",
      "Time for processing 1 frame: 0.042421579360961914s\n",
      "tensor([[0.9907]], device='cuda:0', grad_fn=<SigmoidBackward>)\n",
      "Handnet forward time: 0.00756382942199707\n",
      "Handsegnet forward time: 0.0009799003601074219\n",
      "s shape torch.Size([1, 2, 224, 224])\n",
      "for loop time 0.0030243396759033203\n",
      "hand mask sum: 2080.0\n",
      "Calculate single highest scoring object time: 0.027972936630249023\n",
      "Crop and resize time: 0.0009365081787109375\n",
      "Posenet forward time: 0.001970052719116211\n",
      "Posepriornet forward time: 0.0007112026214599609\n",
      "Viewpoint forward time: 0.0009529590606689453\n",
      "Get normalized 3d coordinates time: 0.0005865097045898438\n",
      "Flip left handed input time: 0.00012135505676269531\n",
      "ScaLe heatmaps time 3.886222839355469e-05\n",
      "Time for processing 1 frame: 0.04239630699157715s"
     ]
    },
    {
     "name": "stderr",
     "output_type": "stream",
     "text": [
      "\r",
      "304it [00:52,  6.05it/s]"
     ]
    },
    {
     "name": "stdout",
     "output_type": "stream",
     "text": [
      "\n",
      "tensor([[0.9905]], device='cuda:0', grad_fn=<SigmoidBackward>)\n",
      "Handnet forward time: 0.007581472396850586\n",
      "Handsegnet forward time: 0.0009696483612060547\n",
      "s shape torch.Size([1, 2, 224, 224])\n",
      "for loop time 0.003046274185180664\n",
      "hand mask sum: 2079.0\n",
      "Calculate single highest scoring object time: 0.028182029724121094\n",
      "Crop and resize time: 0.0009419918060302734\n",
      "Posenet forward time: 0.0019795894622802734\n",
      "Posepriornet forward time: 0.000705718994140625\n",
      "Viewpoint forward time: 0.0009441375732421875\n",
      "Get normalized 3d coordinates time: 0.0005979537963867188\n",
      "Flip left handed input time: 0.00011992454528808594\n",
      "ScaLe heatmaps time 8.678436279296875e-05\n",
      "Time for processing 1 frame: 0.04266858100891113s\n"
     ]
    },
    {
     "name": "stderr",
     "output_type": "stream",
     "text": [
      "306it [00:53,  6.04it/s]"
     ]
    },
    {
     "name": "stdout",
     "output_type": "stream",
     "text": [
      "tensor([[0.9932]], device='cuda:0', grad_fn=<SigmoidBackward>)\n",
      "Handnet forward time: 0.0075664520263671875\n",
      "Handsegnet forward time: 0.0009737014770507812\n",
      "s shape torch.Size([1, 2, 224, 224])\n",
      "for loop time 0.0030126571655273438\n",
      "hand mask sum: 2070.0\n",
      "Calculate single highest scoring object time: 0.02813100814819336\n",
      "Crop and resize time: 0.0009410381317138672\n",
      "Posenet forward time: 0.001970529556274414\n",
      "Posepriornet forward time: 0.0007205009460449219\n",
      "Viewpoint forward time: 0.0009450912475585938\n",
      "Get normalized 3d coordinates time: 0.0005788803100585938\n",
      "Flip left handed input time: 0.00011777877807617188\n",
      "ScaLe heatmaps time 8.678436279296875e-05\n",
      "Time for processing 1 frame: 0.04263472557067871s\n",
      "tensor([[0.9935]], device='cuda:0', grad_fn=<SigmoidBackward>)\n",
      "Handnet forward time: 0.007600069046020508\n",
      "Handsegnet forward time: 0.0009665489196777344\n",
      "s shape torch.Size([1, 2, 224, 224])\n",
      "for loop time 0.0030143260955810547\n",
      "hand mask sum: 2080.0\n",
      "Calculate single highest scoring object time: 0.02808403968811035\n",
      "Crop and resize time: 0.000986337661743164\n",
      "Posenet forward time: 0.0020117759704589844\n",
      "Posepriornet forward time: 0.0007224082946777344\n",
      "Viewpoint forward time: 0.0009500980377197266\n",
      "Get normalized 3d coordinates time: 0.0005919933319091797\n"
     ]
    },
    {
     "name": "stderr",
     "output_type": "stream",
     "text": [
      "\r",
      "307it [00:53,  6.04it/s]"
     ]
    },
    {
     "name": "stdout",
     "output_type": "stream",
     "text": [
      "Flip left handed input time: 0.00031280517578125\n",
      "ScaLe heatmaps time 0.00010585784912109375\n",
      "Time for processing 1 frame: 0.04299759864807129s\n",
      "tensor([[0.9928]], device='cuda:0', grad_fn=<SigmoidBackward>)\n",
      "Handnet forward time: 0.007616758346557617\n",
      "Handsegnet forward time: 0.0009660720825195312\n",
      "s shape torch.Size([1, 2, 224, 224])\n",
      "for loop time 0.0030035972595214844\n",
      "hand mask sum: 2074.0\n",
      "Calculate single highest scoring object time: 0.02802109718322754\n",
      "Crop and resize time: 0.0009398460388183594\n",
      "Posenet forward time: 0.00196075439453125\n",
      "Posepriornet forward time: 0.0007011890411376953\n",
      "Viewpoint forward time: 0.0009551048278808594\n",
      "Get normalized 3d coordinates time: 0.0005850791931152344\n",
      "Flip left handed input time: 0.00011897087097167969\n",
      "ScaLe heatmaps time 8.702278137207031e-05\n",
      "Time for processing 1 frame: 0.04252147674560547s\n"
     ]
    },
    {
     "name": "stderr",
     "output_type": "stream",
     "text": [
      "309it [00:53,  6.03it/s]"
     ]
    },
    {
     "name": "stdout",
     "output_type": "stream",
     "text": [
      "tensor([[0.9915]], device='cuda:0', grad_fn=<SigmoidBackward>)\n",
      "Handnet forward time: 0.007617950439453125\n",
      "Handsegnet forward time: 0.0009670257568359375\n",
      "s shape torch.Size([1, 2, 224, 224])\n",
      "for loop time 0.0029892921447753906\n",
      "hand mask sum: 2083.0\n",
      "Calculate single highest scoring object time: 0.027953624725341797\n",
      "Crop and resize time: 0.0009365081787109375\n",
      "Posenet forward time: 0.001968860626220703\n",
      "Posepriornet forward time: 0.0007116794586181641\n",
      "Viewpoint forward time: 0.0009481906890869141\n",
      "Get normalized 3d coordinates time: 0.0005908012390136719\n",
      "Flip left handed input time: 0.00012135505676269531\n",
      "ScaLe heatmaps time 8.749961853027344e-05\n",
      "Time for processing 1 frame: 0.042502403259277344s\n",
      "tensor([[0.9917]], device='cuda:0', grad_fn=<SigmoidBackward>)\n",
      "Handnet forward time: 0.007574558258056641\n",
      "Handsegnet forward time: 0.0009748935699462891\n",
      "s shape torch.Size([1, 2, 224, 224])\n",
      "for loop time 0.0030355453491210938\n",
      "hand mask sum: 2080.0\n",
      "Calculate single highest scoring object time: 0.02807164192199707\n",
      "Crop and resize time: 0.0009436607360839844\n",
      "Posenet forward time: 0.0019605159759521484\n",
      "Posepriornet forward time: 0.0007030963897705078\n",
      "Viewpoint forward time: 0.0009598731994628906\n",
      "Get normalized 3d coordinates time: 0.0005781650543212891\n",
      "Flip left handed input time: 0.00012254714965820312\n",
      "ScaLe heatmaps time 8.654594421386719e-05\n",
      "Time for processing 1 frame: 0.04253339767456055s"
     ]
    },
    {
     "name": "stderr",
     "output_type": "stream",
     "text": [
      "\r",
      "310it [00:53,  6.03it/s]"
     ]
    },
    {
     "name": "stdout",
     "output_type": "stream",
     "text": [
      "\n",
      "tensor([[0.9891]], device='cuda:0', grad_fn=<SigmoidBackward>)\n",
      "Handnet forward time: 0.0076100826263427734\n",
      "Handsegnet forward time: 0.0009715557098388672\n",
      "s shape torch.Size([1, 2, 224, 224])\n",
      "for loop time 0.0030028820037841797\n",
      "hand mask sum: 2080.0\n",
      "Calculate single highest scoring object time: 0.028058528900146484\n",
      "Crop and resize time: 0.0009541511535644531\n",
      "Posenet forward time: 0.001970052719116211\n",
      "Posepriornet forward time: 0.0007083415985107422\n",
      "Viewpoint forward time: 0.0009446144104003906\n",
      "Get normalized 3d coordinates time: 0.0005831718444824219\n",
      "Flip left handed input time: 0.00011849403381347656\n",
      "ScaLe heatmaps time 8.749961853027344e-05\n",
      "Time for processing 1 frame: 0.04256129264831543s\n"
     ]
    },
    {
     "name": "stderr",
     "output_type": "stream",
     "text": [
      "312it [00:54,  6.03it/s]"
     ]
    },
    {
     "name": "stdout",
     "output_type": "stream",
     "text": [
      "tensor([[0.9902]], device='cuda:0', grad_fn=<SigmoidBackward>)\n",
      "Handnet forward time: 0.0076029300689697266\n",
      "Handsegnet forward time: 0.0009846687316894531\n",
      "s shape torch.Size([1, 2, 224, 224])\n",
      "for loop time 0.0029783248901367188\n",
      "hand mask sum: 2082.0\n",
      "Calculate single highest scoring object time: 0.02791309356689453\n",
      "Crop and resize time: 0.0009434223175048828\n",
      "Posenet forward time: 0.001958608627319336\n",
      "Posepriornet forward time: 0.0007121562957763672\n",
      "Viewpoint forward time: 0.0009548664093017578\n",
      "Get normalized 3d coordinates time: 0.0005791187286376953\n",
      "Flip left handed input time: 0.00011968612670898438\n",
      "ScaLe heatmaps time 8.177757263183594e-05\n",
      "Time for processing 1 frame: 0.04245400428771973s\n",
      "tensor([[0.9925]], device='cuda:0', grad_fn=<SigmoidBackward>)\n",
      "Handnet forward time: 0.007542610168457031\n",
      "Handsegnet forward time: 0.0009589195251464844\n",
      "s shape torch.Size([1, 2, 224, 224])\n",
      "for loop time 0.0030188560485839844\n",
      "hand mask sum: 2081.0\n",
      "Calculate single highest scoring object time: 0.027858972549438477\n",
      "Crop and resize time: 0.0009360313415527344\n",
      "Posenet forward time: 0.0019652843475341797\n",
      "Posepriornet forward time: 0.0007109642028808594\n",
      "Viewpoint forward time: 0.0009491443634033203\n",
      "Get normalized 3d coordinates time: 0.000583648681640625\n",
      "Flip left handed input time: 0.00011992454528808594\n",
      "ScaLe heatmaps time 8.153915405273438e-05\n",
      "Time for processing 1 frame: 0.04226183891296387s"
     ]
    },
    {
     "name": "stderr",
     "output_type": "stream",
     "text": [
      "\r",
      "313it [00:54,  6.03it/s]"
     ]
    },
    {
     "name": "stdout",
     "output_type": "stream",
     "text": [
      "\n",
      "tensor([[0.9915]], device='cuda:0', grad_fn=<SigmoidBackward>)\n",
      "Handnet forward time: 0.007562875747680664\n",
      "Handsegnet forward time: 0.0010063648223876953\n",
      "s shape torch.Size([1, 2, 224, 224])\n",
      "for loop time 0.0030350685119628906\n",
      "hand mask sum: 2077.0\n",
      "Calculate single highest scoring object time: 0.027867794036865234\n",
      "Crop and resize time: 0.0009450912475585938\n",
      "Posenet forward time: 0.001959562301635742\n",
      "Posepriornet forward time: 0.0007047653198242188\n",
      "Viewpoint forward time: 0.0009462833404541016\n",
      "Get normalized 3d coordinates time: 0.000583648681640625\n",
      "Flip left handed input time: 0.00011706352233886719\n",
      "ScaLe heatmaps time 8.249282836914062e-05\n",
      "Time for processing 1 frame: 0.04227113723754883s\n"
     ]
    },
    {
     "name": "stderr",
     "output_type": "stream",
     "text": [
      "315it [00:54,  6.02it/s]"
     ]
    },
    {
     "name": "stdout",
     "output_type": "stream",
     "text": [
      "tensor([[0.9874]], device='cuda:0', grad_fn=<SigmoidBackward>)\n",
      "Handnet forward time: 0.007576465606689453\n",
      "Handsegnet forward time: 0.0009732246398925781\n",
      "s shape torch.Size([1, 2, 224, 224])\n",
      "for loop time 0.0030269622802734375\n",
      "hand mask sum: 2076.0\n",
      "Calculate single highest scoring object time: 0.028115272521972656\n",
      "Crop and resize time: 0.0009412765502929688\n",
      "Posenet forward time: 0.0019707679748535156\n",
      "Posepriornet forward time: 0.0007071495056152344\n",
      "Viewpoint forward time: 0.000946044921875\n",
      "Get normalized 3d coordinates time: 0.0005936622619628906\n",
      "Flip left handed input time: 0.00011348724365234375\n",
      "ScaLe heatmaps time 8.296966552734375e-05\n",
      "Time for processing 1 frame: 0.04262375831604004s\n",
      "tensor([[0.9830]], device='cuda:0', grad_fn=<SigmoidBackward>)\n",
      "Handnet forward time: 0.0075762271881103516\n",
      "Handsegnet forward time: 0.0009829998016357422\n",
      "s shape torch.Size([1, 2, 224, 224])\n",
      "for loop time 0.0029921531677246094\n",
      "hand mask sum: 2097.0\n",
      "Calculate single highest scoring object time: 0.028041601181030273\n",
      "Crop and resize time: 0.0009489059448242188\n",
      "Posenet forward time: 0.0019829273223876953\n",
      "Posepriornet forward time: 0.0007162094116210938\n"
     ]
    },
    {
     "name": "stderr",
     "output_type": "stream",
     "text": [
      "\r",
      "316it [00:54,  5.99it/s]"
     ]
    },
    {
     "name": "stdout",
     "output_type": "stream",
     "text": [
      "Viewpoint forward time: 0.0012049674987792969\n",
      "Get normalized 3d coordinates time: 0.0008022785186767578\n",
      "Flip left handed input time: 0.00013184547424316406\n",
      "ScaLe heatmaps time 9.131431579589844e-05\n",
      "Time for processing 1 frame: 0.043122053146362305s\n",
      "tensor([[0.9781]], device='cuda:0', grad_fn=<SigmoidBackward>)\n",
      "Handnet forward time: 0.007579326629638672\n",
      "Handsegnet forward time: 0.0009462833404541016\n",
      "s shape torch.Size([1, 2, 224, 224])\n",
      "for loop time 0.002949237823486328\n",
      "hand mask sum: 2099.0\n",
      "Calculate single highest scoring object time: 0.027871131896972656\n",
      "Crop and resize time: 0.0009284019470214844\n",
      "Posenet forward time: 0.0019328594207763672\n",
      "Posepriornet forward time: 0.0006940364837646484\n",
      "Viewpoint forward time: 0.0009303092956542969\n",
      "Get normalized 3d coordinates time: 0.0005769729614257812\n",
      "Flip left handed input time: 0.00011396408081054688\n",
      "ScaLe heatmaps time 8.273124694824219e-05\n",
      "Time for processing 1 frame: 0.0422060489654541s\n"
     ]
    },
    {
     "name": "stderr",
     "output_type": "stream",
     "text": [
      "318it [00:55,  6.00it/s]"
     ]
    },
    {
     "name": "stdout",
     "output_type": "stream",
     "text": [
      "tensor([[0.9690]], device='cuda:0', grad_fn=<SigmoidBackward>)\n",
      "Handnet forward time: 0.007587909698486328\n",
      "Handsegnet forward time: 0.0009608268737792969\n",
      "s shape torch.Size([1, 2, 224, 224])\n",
      "for loop time 0.002985239028930664\n",
      "hand mask sum: 2113.0\n",
      "Calculate single highest scoring object time: 0.02805638313293457\n",
      "Crop and resize time: 0.0009417533874511719\n",
      "Posenet forward time: 0.0019276142120361328\n",
      "Posepriornet forward time: 0.000698089599609375\n",
      "Viewpoint forward time: 0.0009467601776123047\n",
      "Get normalized 3d coordinates time: 0.0005803108215332031\n",
      "Flip left handed input time: 0.00011849403381347656\n",
      "ScaLe heatmaps time 8.678436279296875e-05\n",
      "Time for processing 1 frame: 0.0425112247467041s\n",
      "tensor([[0.9684]], device='cuda:0', grad_fn=<SigmoidBackward>)\n",
      "Handnet forward time: 0.007574319839477539\n",
      "Handsegnet forward time: 0.0009469985961914062\n",
      "s shape torch.Size([1, 2, 224, 224])\n",
      "for loop time 0.002988100051879883\n",
      "hand mask sum: 2107.0\n",
      "Calculate single highest scoring object time: 0.0280916690826416\n",
      "Crop and resize time: 0.0009233951568603516\n",
      "Posenet forward time: 0.0019369125366210938\n",
      "Posepriornet forward time: 0.0006961822509765625\n",
      "Viewpoint forward time: 0.0009341239929199219\n"
     ]
    },
    {
     "name": "stderr",
     "output_type": "stream",
     "text": [
      "\r",
      "319it [00:55,  6.01it/s]"
     ]
    },
    {
     "name": "stdout",
     "output_type": "stream",
     "text": [
      "Get normalized 3d coordinates time: 0.0007970333099365234\n",
      "Flip left handed input time: 0.0001666545867919922\n",
      "ScaLe heatmaps time 8.845329284667969e-05\n",
      "Time for processing 1 frame: 0.04272103309631348s\n",
      "tensor([[0.9649]], device='cuda:0', grad_fn=<SigmoidBackward>)\n",
      "Handnet forward time: 0.007589578628540039\n",
      "Handsegnet forward time: 0.0009636878967285156\n",
      "s shape torch.Size([1, 2, 224, 224])\n",
      "for loop time 0.002959728240966797\n",
      "hand mask sum: 2161.0\n",
      "Calculate single highest scoring object time: 0.027996301651000977\n",
      "Crop and resize time: 0.0009582042694091797\n",
      "Posenet forward time: 0.001973867416381836\n",
      "Posepriornet forward time: 0.0007333755493164062\n",
      "Viewpoint forward time: 0.0009708404541015625\n",
      "Get normalized 3d coordinates time: 0.0006010532379150391\n",
      "Flip left handed input time: 0.00014328956604003906\n",
      "ScaLe heatmaps time 9.965896606445312e-05\n",
      "Time for processing 1 frame: 0.04263925552368164s\n"
     ]
    },
    {
     "name": "stderr",
     "output_type": "stream",
     "text": [
      "321it [00:55,  6.01it/s]"
     ]
    },
    {
     "name": "stdout",
     "output_type": "stream",
     "text": [
      "tensor([[0.9882]], device='cuda:0', grad_fn=<SigmoidBackward>)\n",
      "Handnet forward time: 0.007561206817626953\n",
      "Handsegnet forward time: 0.0009479522705078125\n",
      "s shape torch.Size([1, 2, 224, 224])\n",
      "for loop time 0.002969503402709961\n",
      "hand mask sum: 2191.0\n",
      "Calculate single highest scoring object time: 0.027996063232421875\n",
      "Crop and resize time: 0.0009484291076660156\n",
      "Posenet forward time: 0.0019826889038085938\n",
      "Posepriornet forward time: 0.0007348060607910156\n",
      "Viewpoint forward time: 0.0009627342224121094\n",
      "Get normalized 3d coordinates time: 0.0006139278411865234\n",
      "Flip left handed input time: 0.00014281272888183594\n",
      "ScaLe heatmaps time 0.00010061264038085938\n",
      "Time for processing 1 frame: 0.04262804985046387s\n",
      "tensor([[0.9856]], device='cuda:0', grad_fn=<SigmoidBackward>)\n",
      "Handnet forward time: 0.0075435638427734375\n",
      "Handsegnet forward time: 0.0009469985961914062\n",
      "s shape torch.Size([1, 2, 224, 224])\n",
      "for loop time 0.0029723644256591797\n",
      "hand mask sum: 2206.0\n",
      "Calculate single highest scoring object time: 0.0279233455657959\n",
      "Crop and resize time: 0.0009508132934570312\n",
      "Posenet forward time: 0.0019714832305908203\n",
      "Posepriornet forward time: 0.0007338523864746094\n",
      "Viewpoint forward time: 0.0009763240814208984\n"
     ]
    },
    {
     "name": "stderr",
     "output_type": "stream",
     "text": [
      "\r",
      "322it [00:55,  6.01it/s]"
     ]
    },
    {
     "name": "stdout",
     "output_type": "stream",
     "text": [
      "Get normalized 3d coordinates time: 0.0008382797241210938\n",
      "Flip left handed input time: 0.00018477439880371094\n",
      "ScaLe heatmaps time 0.0001010894775390625\n",
      "Time for processing 1 frame: 0.0427861213684082s\n",
      "tensor([[0.9623]], device='cuda:0', grad_fn=<SigmoidBackward>)\n",
      "Handnet forward time: 0.007567644119262695\n",
      "Handsegnet forward time: 0.0009489059448242188\n",
      "s shape torch.Size([1, 2, 224, 224])\n",
      "for loop time 0.003011941909790039\n",
      "hand mask sum: 2245.0\n",
      "Calculate single highest scoring object time: 0.028161287307739258\n",
      "Crop and resize time: 0.0009477138519287109\n",
      "Posenet forward time: 0.0019865036010742188\n",
      "Posepriornet forward time: 0.0007357597351074219\n",
      "Viewpoint forward time: 0.0009658336639404297\n",
      "Get normalized 3d coordinates time: 0.0006093978881835938\n",
      "Flip left handed input time: 0.00014448165893554688\n",
      "ScaLe heatmaps time 0.00010251998901367188\n",
      "Time for processing 1 frame: 0.042839765548706055s\n"
     ]
    },
    {
     "name": "stderr",
     "output_type": "stream",
     "text": [
      "324it [00:56,  4.89it/s]"
     ]
    },
    {
     "name": "stdout",
     "output_type": "stream",
     "text": [
      "tensor([[0.8971]], device='cuda:0', grad_fn=<SigmoidBackward>)\n",
      "Handnet forward time: 0.007492780685424805\n",
      "Handsegnet forward time: 0.0008938312530517578\n",
      "s shape torch.Size([1, 2, 224, 224])\n",
      "for loop time 0.002943277359008789\n",
      "hand mask sum: 2252.0\n",
      "Calculate single highest scoring object time: 0.02788853645324707\n",
      "Crop and resize time: 0.0009543895721435547\n",
      "Posenet forward time: 0.0018744468688964844\n",
      "Posepriornet forward time: 0.0006895065307617188\n",
      "Viewpoint forward time: 0.0009052753448486328\n",
      "Get normalized 3d coordinates time: 0.0005710124969482422\n",
      "Flip left handed input time: 0.00013518333435058594\n",
      "ScaLe heatmaps time 9.560585021972656e-05\n",
      "Time for processing 1 frame: 0.04210948944091797s\n",
      "tensor([[0.8294]], device='cuda:0', grad_fn=<SigmoidBackward>)\n",
      "Handnet forward time: 0.007568359375\n",
      "Handsegnet forward time: 0.0009562969207763672\n",
      "s shape torch.Size([1, 2, 224, 224])\n",
      "for loop time 0.0029757022857666016\n",
      "hand mask sum: 2242.0\n",
      "Calculate single highest scoring object time: 0.02801513671875\n",
      "Crop and resize time: 0.0009543895721435547\n",
      "Posenet forward time: 0.0019915103912353516\n",
      "Posepriornet forward time: 0.0007352828979492188\n"
     ]
    },
    {
     "name": "stderr",
     "output_type": "stream",
     "text": [
      "\r",
      "325it [00:56,  5.18it/s]"
     ]
    },
    {
     "name": "stdout",
     "output_type": "stream",
     "text": [
      "Viewpoint forward time: 0.0012292861938476562\n",
      "Get normalized 3d coordinates time: 0.0006570816040039062\n",
      "Flip left handed input time: 0.00014448165893554688\n",
      "ScaLe heatmaps time 0.00010323524475097656\n",
      "Time for processing 1 frame: 0.0429685115814209s\n",
      "tensor([[0.7680]], device='cuda:0', grad_fn=<SigmoidBackward>)\n",
      "Handnet forward time: 0.0075571537017822266\n",
      "Handsegnet forward time: 0.0009567737579345703\n",
      "s shape torch.Size([1, 2, 224, 224])\n",
      "for loop time 0.002953052520751953\n",
      "hand mask sum: 2268.0\n",
      "Calculate single highest scoring object time: 0.027927398681640625\n",
      "Crop and resize time: 0.0009620189666748047\n",
      "Posenet forward time: 0.0019791126251220703\n",
      "Posepriornet forward time: 0.000736236572265625\n",
      "Viewpoint forward time: 0.0009770393371582031\n",
      "Get normalized 3d coordinates time: 0.0006067752838134766\n",
      "Flip left handed input time: 0.00014495849609375\n",
      "ScaLe heatmaps time 0.00010132789611816406\n",
      "Time for processing 1 frame: 0.0426173210144043s\n"
     ]
    },
    {
     "name": "stderr",
     "output_type": "stream",
     "text": [
      "327it [00:56,  5.57it/s]"
     ]
    },
    {
     "name": "stdout",
     "output_type": "stream",
     "text": [
      "tensor([[0.7816]], device='cuda:0', grad_fn=<SigmoidBackward>)\n",
      "Handnet forward time: 0.007567644119262695\n",
      "Handsegnet forward time: 0.0009448528289794922\n",
      "s shape torch.Size([1, 2, 224, 224])\n",
      "for loop time 0.0030045509338378906\n",
      "hand mask sum: 2266.0\n",
      "Calculate single highest scoring object time: 0.028179168701171875\n",
      "Crop and resize time: 0.0009539127349853516\n",
      "Posenet forward time: 0.0019910335540771484\n",
      "Posepriornet forward time: 0.0007350444793701172\n",
      "Viewpoint forward time: 0.0009617805480957031\n",
      "Get normalized 3d coordinates time: 0.0006139278411865234\n",
      "Flip left handed input time: 0.0001430511474609375\n",
      "ScaLe heatmaps time 0.00010395050048828125\n",
      "Time for processing 1 frame: 0.04283499717712402s\n",
      "tensor([[0.8088]], device='cuda:0', grad_fn=<SigmoidBackward>)\n",
      "Handnet forward time: 0.007560253143310547\n",
      "Handsegnet forward time: 0.0009713172912597656\n",
      "s shape torch.Size([1, 2, 224, 224])\n",
      "for loop time 0.003018617630004883\n",
      "hand mask sum: 2260.0\n",
      "Calculate single highest scoring object time: 0.02810978889465332\n",
      "Crop and resize time: 0.0009510517120361328\n",
      "Posenet forward time: 0.001983642578125\n",
      "Posepriornet forward time: 0.0007460117340087891\n",
      "Viewpoint forward time: 0.0009710788726806641\n"
     ]
    },
    {
     "name": "stderr",
     "output_type": "stream",
     "text": [
      "\r",
      "328it [00:56,  5.70it/s]"
     ]
    },
    {
     "name": "stdout",
     "output_type": "stream",
     "text": [
      "Get normalized 3d coordinates time: 0.0008389949798583984\n",
      "Flip left handed input time: 0.00018477439880371094\n",
      "ScaLe heatmaps time 0.00010371208190917969\n",
      "Time for processing 1 frame: 0.04303717613220215s\n",
      "tensor([[0.8129]], device='cuda:0', grad_fn=<SigmoidBackward>)\n",
      "Handnet forward time: 0.007548093795776367\n",
      "Handsegnet forward time: 0.0009517669677734375\n",
      "s shape torch.Size([1, 2, 224, 224])\n",
      "for loop time 0.0029668807983398438\n",
      "hand mask sum: 2234.0\n",
      "Calculate single highest scoring object time: 0.02802729606628418\n",
      "Crop and resize time: 0.0009481906890869141\n",
      "Posenet forward time: 0.0019791126251220703\n",
      "Posepriornet forward time: 0.0007319450378417969\n",
      "Viewpoint forward time: 0.0009624958038330078\n",
      "Get normalized 3d coordinates time: 0.0006182193756103516\n",
      "Flip left handed input time: 0.00014448165893554688\n",
      "ScaLe heatmaps time 0.00010061264038085938\n",
      "Time for processing 1 frame: 0.04261136054992676s\n"
     ]
    },
    {
     "name": "stderr",
     "output_type": "stream",
     "text": [
      "330it [00:57,  5.86it/s]"
     ]
    },
    {
     "name": "stdout",
     "output_type": "stream",
     "text": [
      "tensor([[0.8954]], device='cuda:0', grad_fn=<SigmoidBackward>)\n",
      "Handnet forward time: 0.007552146911621094\n",
      "Handsegnet forward time: 0.0009539127349853516\n",
      "s shape torch.Size([1, 2, 224, 224])\n",
      "for loop time 0.0029904842376708984\n",
      "hand mask sum: 2162.0\n",
      "Calculate single highest scoring object time: 0.028019189834594727\n",
      "Crop and resize time: 0.0009491443634033203\n",
      "Posenet forward time: 0.0019960403442382812\n",
      "Posepriornet forward time: 0.000736236572265625\n",
      "Viewpoint forward time: 0.0009663105010986328\n",
      "Get normalized 3d coordinates time: 0.0006091594696044922\n",
      "Flip left handed input time: 0.0001423358917236328\n",
      "ScaLe heatmaps time 9.989738464355469e-05\n",
      "Time for processing 1 frame: 0.04274272918701172s\n",
      "tensor([[0.9726]], device='cuda:0', grad_fn=<SigmoidBackward>)\n",
      "Handnet forward time: 0.007570505142211914\n",
      "Handsegnet forward time: 0.0009555816650390625\n",
      "s shape torch.Size([1, 2, 224, 224])\n",
      "for loop time 0.002993345260620117\n",
      "hand mask sum: 2128.0\n",
      "Calculate single highest scoring object time: 0.02813124656677246\n",
      "Crop and resize time: 0.0009603500366210938\n",
      "Posenet forward time: 0.001984834671020508\n",
      "Posepriornet forward time: 0.0007371902465820312\n",
      "Viewpoint forward time: 0.0009832382202148438\n"
     ]
    },
    {
     "name": "stderr",
     "output_type": "stream",
     "text": [
      "\r",
      "331it [00:57,  5.90it/s]"
     ]
    },
    {
     "name": "stdout",
     "output_type": "stream",
     "text": [
      "Get normalized 3d coordinates time: 0.0008368492126464844\n",
      "Flip left handed input time: 0.0001850128173828125\n",
      "ScaLe heatmaps time 0.0001010894775390625\n",
      "Time for processing 1 frame: 0.04306435585021973s\n",
      "tensor([[0.9723]], device='cuda:0', grad_fn=<SigmoidBackward>)\n",
      "Handnet forward time: 0.0075418949127197266\n",
      "Handsegnet forward time: 0.000957489013671875\n",
      "s shape torch.Size([1, 2, 224, 224])\n",
      "for loop time 0.0029692649841308594\n",
      "hand mask sum: 2110.0\n",
      "Calculate single highest scoring object time: 0.028083324432373047\n",
      "Crop and resize time: 0.0009415149688720703\n",
      "Posenet forward time: 0.0019979476928710938\n",
      "Posepriornet forward time: 0.0007350444793701172\n",
      "Viewpoint forward time: 0.0009634494781494141\n",
      "Get normalized 3d coordinates time: 0.0006067752838134766\n",
      "Flip left handed input time: 0.00014257431030273438\n",
      "ScaLe heatmaps time 9.989738464355469e-05\n",
      "Time for processing 1 frame: 0.04274296760559082s\n"
     ]
    },
    {
     "name": "stderr",
     "output_type": "stream",
     "text": [
      "333it [00:57,  5.92it/s]"
     ]
    },
    {
     "name": "stdout",
     "output_type": "stream",
     "text": [
      "tensor([[0.9555]], device='cuda:0', grad_fn=<SigmoidBackward>)\n",
      "Handnet forward time: 0.007565975189208984\n",
      "Handsegnet forward time: 0.0009601116180419922\n",
      "s shape torch.Size([1, 2, 224, 224])\n",
      "for loop time 0.0029687881469726562\n",
      "hand mask sum: 2071.0\n",
      "Calculate single highest scoring object time: 0.028049707412719727\n",
      "Crop and resize time: 0.0009500980377197266\n",
      "Posenet forward time: 0.001981496810913086\n",
      "Posepriornet forward time: 0.0007359981536865234\n",
      "Viewpoint forward time: 0.0011775493621826172\n",
      "Get normalized 3d coordinates time: 0.0006825923919677734\n",
      "Flip left handed input time: 0.00011014938354492188\n",
      "ScaLe heatmaps time 6.937980651855469e-05\n",
      "Time for processing 1 frame: 0.042962074279785156s\n",
      "tensor([[0.9537]], device='cuda:0', grad_fn=<SigmoidBackward>)\n",
      "Handnet forward time: 0.007484912872314453\n",
      "Handsegnet forward time: 0.000949859619140625\n",
      "s shape torch.Size([1, 2, 224, 224])\n",
      "for loop time 0.002964496612548828\n",
      "hand mask sum: 2044.0\n",
      "Calculate single highest scoring object time: 0.02786421775817871\n",
      "Crop and resize time: 0.0009317398071289062\n"
     ]
    },
    {
     "name": "stderr",
     "output_type": "stream",
     "text": [
      "\r",
      "334it [00:57,  5.95it/s]"
     ]
    },
    {
     "name": "stdout",
     "output_type": "stream",
     "text": [
      "Posenet forward time: 0.0021936893463134766\n",
      "Posepriornet forward time: 0.0007815361022949219\n",
      "Viewpoint forward time: 0.0009658336639404297\n",
      "Get normalized 3d coordinates time: 0.0006084442138671875\n",
      "Flip left handed input time: 0.00014328956604003906\n",
      "ScaLe heatmaps time 0.00010609626770019531\n",
      "Time for processing 1 frame: 0.04271364212036133s\n",
      "tensor([[0.9442]], device='cuda:0', grad_fn=<SigmoidBackward>)\n",
      "Handnet forward time: 0.007571697235107422\n",
      "Handsegnet forward time: 0.0009586811065673828\n",
      "s shape torch.Size([1, 2, 224, 224])\n",
      "for loop time 0.0030012130737304688\n",
      "hand mask sum: 2015.0\n",
      "Calculate single highest scoring object time: 0.028128623962402344\n",
      "Crop and resize time: 0.0009317398071289062\n",
      "Posenet forward time: 0.001967906951904297\n",
      "Posepriornet forward time: 0.0007410049438476562\n",
      "Viewpoint forward time: 0.0009608268737792969\n",
      "Get normalized 3d coordinates time: 0.0006043910980224609\n",
      "Flip left handed input time: 0.00014448165893554688\n",
      "ScaLe heatmaps time 9.918212890625e-05\n",
      "Time for processing 1 frame: 0.0427861213684082s\n"
     ]
    },
    {
     "name": "stderr",
     "output_type": "stream",
     "text": [
      "336it [00:58,  5.98it/s]"
     ]
    },
    {
     "name": "stdout",
     "output_type": "stream",
     "text": [
      "tensor([[0.9803]], device='cuda:0', grad_fn=<SigmoidBackward>)\n",
      "Handnet forward time: 0.007563114166259766\n",
      "Handsegnet forward time: 0.0009522438049316406\n",
      "s shape torch.Size([1, 2, 224, 224])\n",
      "for loop time 0.003081798553466797\n",
      "hand mask sum: 2016.0\n",
      "Calculate single highest scoring object time: 0.028250455856323242\n",
      "Crop and resize time: 0.0009396076202392578\n",
      "Posenet forward time: 0.0019783973693847656\n",
      "Posepriornet forward time: 0.0007367134094238281\n",
      "Viewpoint forward time: 0.0009598731994628906\n",
      "Get normalized 3d coordinates time: 0.0006158351898193359\n",
      "Flip left handed input time: 0.00014400482177734375\n",
      "ScaLe heatmaps time 0.00010132789611816406\n",
      "Time for processing 1 frame: 0.04288601875305176s\n",
      "tensor([[0.9778]], device='cuda:0', grad_fn=<SigmoidBackward>)\n",
      "Handnet forward time: 0.007563114166259766\n",
      "Handsegnet forward time: 0.0009663105010986328\n",
      "s shape torch.Size([1, 2, 224, 224])\n",
      "for loop time 0.0029611587524414062\n",
      "hand mask sum: 1997.0\n",
      "Calculate single highest scoring object time: 0.02803206443786621\n",
      "Crop and resize time: 0.0009353160858154297\n",
      "Posenet forward time: 0.001976490020751953\n",
      "Posepriornet forward time: 0.0007426738739013672\n",
      "Viewpoint forward time: 0.0009670257568359375\n"
     ]
    },
    {
     "name": "stderr",
     "output_type": "stream",
     "text": [
      "\r",
      "337it [00:58,  5.99it/s]"
     ]
    },
    {
     "name": "stdout",
     "output_type": "stream",
     "text": [
      "Get normalized 3d coordinates time: 0.0008387565612792969\n",
      "Flip left handed input time: 0.00018548965454101562\n",
      "ScaLe heatmaps time 0.00010275840759277344\n",
      "Time for processing 1 frame: 0.04292607307434082s\n",
      "tensor([[0.9799]], device='cuda:0', grad_fn=<SigmoidBackward>)\n",
      "Handnet forward time: 0.007539272308349609\n",
      "Handsegnet forward time: 0.00095367431640625\n",
      "s shape torch.Size([1, 2, 224, 224])\n",
      "for loop time 0.002963542938232422\n",
      "hand mask sum: 1988.0\n",
      "Calculate single highest scoring object time: 0.027956247329711914\n",
      "Crop and resize time: 0.0009307861328125\n",
      "Posenet forward time: 0.0019817352294921875\n",
      "Posepriornet forward time: 0.0007379055023193359\n",
      "Viewpoint forward time: 0.0009660720825195312\n",
      "Get normalized 3d coordinates time: 0.0006153583526611328\n",
      "Flip left handed input time: 0.00014543533325195312\n",
      "ScaLe heatmaps time 0.00010132789611816406\n",
      "Time for processing 1 frame: 0.042530059814453125s\n"
     ]
    },
    {
     "name": "stderr",
     "output_type": "stream",
     "text": [
      "339it [00:58,  6.00it/s]"
     ]
    },
    {
     "name": "stdout",
     "output_type": "stream",
     "text": [
      "tensor([[0.9762]], device='cuda:0', grad_fn=<SigmoidBackward>)\n",
      "Handnet forward time: 0.007562398910522461\n",
      "Handsegnet forward time: 0.0009672641754150391\n",
      "s shape torch.Size([1, 2, 224, 224])\n",
      "for loop time 0.003002166748046875\n",
      "hand mask sum: 1986.0\n",
      "Calculate single highest scoring object time: 0.02813100814819336\n",
      "Crop and resize time: 0.000934600830078125\n",
      "Posenet forward time: 0.001974344253540039\n",
      "Posepriornet forward time: 0.0007374286651611328\n",
      "Viewpoint forward time: 0.0009586811065673828\n",
      "Get normalized 3d coordinates time: 0.0006048679351806641\n",
      "Flip left handed input time: 0.00014472007751464844\n",
      "ScaLe heatmaps time 0.000102996826171875\n",
      "Time for processing 1 frame: 0.04282832145690918s\n",
      "tensor([[0.9799]], device='cuda:0', grad_fn=<SigmoidBackward>)\n",
      "Handnet forward time: 0.007536888122558594\n",
      "Handsegnet forward time: 0.0009598731994628906\n",
      "s shape torch.Size([1, 2, 224, 224])\n",
      "for loop time 0.002962827682495117\n",
      "hand mask sum: 1976.0\n",
      "Calculate single highest scoring object time: 0.02805471420288086\n",
      "Crop and resize time: 0.0009415149688720703\n",
      "Posenet forward time: 0.001973867416381836\n",
      "Posepriornet forward time: 0.000797271728515625\n"
     ]
    },
    {
     "name": "stderr",
     "output_type": "stream",
     "text": [
      "\r",
      "340it [00:58,  5.75it/s]"
     ]
    },
    {
     "name": "stdout",
     "output_type": "stream",
     "text": [
      "Viewpoint forward time: 0.0011806488037109375\n",
      "Get normalized 3d coordinates time: 0.0007939338684082031\n",
      "Flip left handed input time: 0.0001373291015625\n",
      "ScaLe heatmaps time 9.441375732421875e-05\n",
      "Time for processing 1 frame: 0.04314112663269043s\n",
      "tensor([[0.9803]], device='cuda:0', grad_fn=<SigmoidBackward>)\n",
      "Handnet forward time: 0.007611513137817383\n",
      "Handsegnet forward time: 0.001253366470336914\n",
      "s shape torch.Size([1, 2, 224, 224])\n",
      "for loop time 0.003299236297607422\n",
      "hand mask sum: 1974.0\n",
      "Calculate single highest scoring object time: 0.027800559997558594\n",
      "Crop and resize time: 0.0011060237884521484\n",
      "Posenet forward time: 0.0024678707122802734\n",
      "Posepriornet forward time: 0.0008754730224609375\n",
      "Viewpoint forward time: 0.0012433528900146484\n",
      "Get normalized 3d coordinates time: 0.0007393360137939453\n",
      "Flip left handed input time: 0.00011968612670898438\n",
      "ScaLe heatmaps time 8.821487426757812e-05\n",
      "Time for processing 1 frame: 0.04398608207702637s\n"
     ]
    },
    {
     "name": "stderr",
     "output_type": "stream",
     "text": [
      "342it [00:59,  5.85it/s]"
     ]
    },
    {
     "name": "stdout",
     "output_type": "stream",
     "text": [
      "tensor([[0.9826]], device='cuda:0', grad_fn=<SigmoidBackward>)\n",
      "Handnet forward time: 0.007628679275512695\n",
      "Handsegnet forward time: 0.0010313987731933594\n",
      "s shape torch.Size([1, 2, 224, 224])\n",
      "for loop time 0.002973794937133789\n",
      "hand mask sum: 1967.0\n",
      "Calculate single highest scoring object time: 0.028037071228027344\n",
      "Crop and resize time: 0.0009214878082275391\n",
      "Posenet forward time: 0.0019631385803222656\n",
      "Posepriornet forward time: 0.0007085800170898438\n",
      "Viewpoint forward time: 0.0009553432464599609\n",
      "Get normalized 3d coordinates time: 0.0005788803100585938\n",
      "Flip left handed input time: 0.00011944770812988281\n",
      "ScaLe heatmaps time 8.392333984375e-05\n",
      "Time for processing 1 frame: 0.04251837730407715s\n",
      "tensor([[0.9751]], device='cuda:0', grad_fn=<SigmoidBackward>)\n",
      "Handnet forward time: 0.007589101791381836\n",
      "Handsegnet forward time: 0.0009524822235107422\n",
      "s shape torch.Size([1, 2, 224, 224])\n",
      "for loop time 0.0029540061950683594\n",
      "hand mask sum: 1961.0\n",
      "Calculate single highest scoring object time: 0.027996301651000977\n",
      "Crop and resize time: 0.0009298324584960938\n",
      "Posenet forward time: 0.0019278526306152344\n",
      "Posepriornet forward time: 0.0006871223449707031\n",
      "Viewpoint forward time: 0.0009400844573974609\n",
      "Get normalized 3d coordinates time: 0.0005784034729003906\n"
     ]
    },
    {
     "name": "stderr",
     "output_type": "stream",
     "text": [
      "\r",
      "343it [00:59,  5.80it/s]"
     ]
    },
    {
     "name": "stdout",
     "output_type": "stream",
     "text": [
      "Flip left handed input time: 0.0002968311309814453\n",
      "ScaLe heatmaps time 3.504753112792969e-05\n",
      "Time for processing 1 frame: 0.04266667366027832s\n",
      "tensor([[0.9763]], device='cuda:0', grad_fn=<SigmoidBackward>)\n",
      "Handnet forward time: 0.007573604583740234\n",
      "Handsegnet forward time: 0.0009558200836181641\n",
      "s shape torch.Size([1, 2, 224, 224])\n",
      "for loop time 0.002985715866088867\n",
      "hand mask sum: 1970.0\n",
      "Calculate single highest scoring object time: 0.027863740921020508\n",
      "Crop and resize time: 0.0009307861328125\n",
      "Posenet forward time: 0.0019445419311523438\n",
      "Posepriornet forward time: 0.0006978511810302734\n",
      "Viewpoint forward time: 0.0009410381317138672\n",
      "Get normalized 3d coordinates time: 0.0005905628204345703\n",
      "Flip left handed input time: 0.0001201629638671875\n",
      "ScaLe heatmaps time 8.749961853027344e-05\n",
      "Time for processing 1 frame: 0.04227805137634277s\n"
     ]
    },
    {
     "name": "stderr",
     "output_type": "stream",
     "text": [
      "345it [00:59,  5.91it/s]"
     ]
    },
    {
     "name": "stdout",
     "output_type": "stream",
     "text": [
      "tensor([[0.9824]], device='cuda:0', grad_fn=<SigmoidBackward>)\n",
      "Handnet forward time: 0.007567644119262695\n",
      "Handsegnet forward time: 0.00096893310546875\n",
      "s shape torch.Size([1, 2, 224, 224])\n",
      "for loop time 0.002948760986328125\n",
      "hand mask sum: 1977.0\n",
      "Calculate single highest scoring object time: 0.027950525283813477\n",
      "Crop and resize time: 0.0009150505065917969\n",
      "Posenet forward time: 0.0019283294677734375\n",
      "Posepriornet forward time: 0.0007040500640869141\n",
      "Viewpoint forward time: 0.0009334087371826172\n",
      "Get normalized 3d coordinates time: 0.0005774497985839844\n",
      "Flip left handed input time: 0.0001239776611328125\n",
      "ScaLe heatmaps time 8.296966552734375e-05\n",
      "Time for processing 1 frame: 0.04235672950744629s\n",
      "tensor([[0.9793]], device='cuda:0', grad_fn=<SigmoidBackward>)\n",
      "Handnet forward time: 0.007547616958618164\n",
      "Handsegnet forward time: 0.0009479522705078125\n",
      "s shape torch.Size([1, 2, 224, 224])\n",
      "for loop time 0.002981424331665039\n",
      "hand mask sum: 1970.0\n",
      "Calculate single highest scoring object time: 0.02797389030456543\n",
      "Crop and resize time: 0.0009217262268066406\n",
      "Posenet forward time: 0.0019252300262451172\n",
      "Posepriornet forward time: 0.0006968975067138672\n",
      "Viewpoint forward time: 0.0009355545043945312\n",
      "Get normalized 3d coordinates time: 0.0005862712860107422\n"
     ]
    },
    {
     "name": "stderr",
     "output_type": "stream",
     "text": [
      "\r",
      "346it [00:59,  5.95it/s]"
     ]
    },
    {
     "name": "stdout",
     "output_type": "stream",
     "text": [
      "Flip left handed input time: 0.0002982616424560547\n",
      "ScaLe heatmaps time 3.3855438232421875e-05\n",
      "Time for processing 1 frame: 0.042600154876708984s\n",
      "tensor([[0.9860]], device='cuda:0', grad_fn=<SigmoidBackward>)\n",
      "Handnet forward time: 0.0075986385345458984\n",
      "Handsegnet forward time: 0.0009617805480957031\n",
      "s shape torch.Size([1, 2, 224, 224])\n",
      "for loop time 0.0029900074005126953\n",
      "hand mask sum: 1967.0\n",
      "Calculate single highest scoring object time: 0.027962446212768555\n",
      "Crop and resize time: 0.0009229183197021484\n",
      "Posenet forward time: 0.0019230842590332031\n",
      "Posepriornet forward time: 0.0007138252258300781\n",
      "Viewpoint forward time: 0.0009319782257080078\n",
      "Get normalized 3d coordinates time: 0.0005757808685302734\n",
      "Flip left handed input time: 0.00012183189392089844\n",
      "ScaLe heatmaps time 8.320808410644531e-05\n",
      "Time for processing 1 frame: 0.04233193397521973s\n"
     ]
    },
    {
     "name": "stderr",
     "output_type": "stream",
     "text": [
      "348it [01:00,  5.96it/s]"
     ]
    },
    {
     "name": "stdout",
     "output_type": "stream",
     "text": [
      "tensor([[0.9858]], device='cuda:0', grad_fn=<SigmoidBackward>)\n",
      "Handnet forward time: 0.007585287094116211\n",
      "Handsegnet forward time: 0.001028299331665039\n",
      "s shape torch.Size([1, 2, 224, 224])\n",
      "for loop time 0.002994537353515625\n",
      "hand mask sum: 1964.0\n",
      "Calculate single highest scoring object time: 0.02803802490234375\n",
      "Crop and resize time: 0.0009279251098632812\n",
      "Posenet forward time: 0.001947164535522461\n",
      "Posepriornet forward time: 0.0007224082946777344\n",
      "Viewpoint forward time: 0.0009391307830810547\n",
      "Get normalized 3d coordinates time: 0.0005831718444824219\n",
      "Flip left handed input time: 0.00012087821960449219\n",
      "ScaLe heatmaps time 8.749961853027344e-05\n",
      "Time for processing 1 frame: 0.04247903823852539s\n",
      "tensor([[0.9816]], device='cuda:0', grad_fn=<SigmoidBackward>)\n",
      "Handnet forward time: 0.007568836212158203\n",
      "Handsegnet forward time: 0.0009505748748779297\n",
      "s shape torch.Size([1, 2, 224, 224])\n",
      "for loop time 0.002961874008178711\n",
      "hand mask sum: 1963.0\n",
      "Calculate single highest scoring object time: 0.027971267700195312\n",
      "Crop and resize time: 0.0009224414825439453\n",
      "Posenet forward time: 0.0019202232360839844\n",
      "Posepriornet forward time: 0.0006921291351318359\n"
     ]
    },
    {
     "name": "stderr",
     "output_type": "stream",
     "text": [
      "\r",
      "349it [01:00,  5.98it/s]"
     ]
    },
    {
     "name": "stdout",
     "output_type": "stream",
     "text": [
      "Viewpoint forward time: 0.0012116432189941406\n",
      "Get normalized 3d coordinates time: 0.00078582763671875\n",
      "Flip left handed input time: 0.00013947486877441406\n",
      "ScaLe heatmaps time 9.655952453613281e-05\n",
      "Time for processing 1 frame: 0.04290318489074707s\n",
      "tensor([[0.9769]], device='cuda:0', grad_fn=<SigmoidBackward>)\n",
      "Handnet forward time: 0.007554292678833008\n",
      "Handsegnet forward time: 0.0009548664093017578\n",
      "s shape torch.Size([1, 2, 224, 224])\n",
      "for loop time 0.0029723644256591797\n",
      "hand mask sum: 1972.0\n",
      "Calculate single highest scoring object time: 0.02793431282043457\n",
      "Crop and resize time: 0.0009157657623291016\n",
      "Posenet forward time: 0.0019369125366210938\n",
      "Posepriornet forward time: 0.0006968975067138672\n",
      "Viewpoint forward time: 0.0009305477142333984\n",
      "Get normalized 3d coordinates time: 0.0005757808685302734\n",
      "Flip left handed input time: 0.00011801719665527344\n",
      "ScaLe heatmaps time 8.273124694824219e-05\n",
      "Time for processing 1 frame: 0.042261600494384766s\n"
     ]
    },
    {
     "name": "stderr",
     "output_type": "stream",
     "text": [
      "351it [01:00,  5.99it/s]"
     ]
    },
    {
     "name": "stdout",
     "output_type": "stream",
     "text": [
      "tensor([[0.9794]], device='cuda:0', grad_fn=<SigmoidBackward>)\n",
      "Handnet forward time: 0.007587909698486328\n",
      "Handsegnet forward time: 0.0009713172912597656\n",
      "s shape torch.Size([1, 2, 224, 224])\n",
      "for loop time 0.002961874008178711\n",
      "hand mask sum: 1968.0\n",
      "Calculate single highest scoring object time: 0.027881383895874023\n",
      "Crop and resize time: 0.0009174346923828125\n",
      "Posenet forward time: 0.0019299983978271484\n",
      "Posepriornet forward time: 0.0007126331329345703\n",
      "Viewpoint forward time: 0.0009396076202392578\n",
      "Get normalized 3d coordinates time: 0.0005772113800048828\n",
      "Flip left handed input time: 0.00011420249938964844\n",
      "ScaLe heatmaps time 8.225440979003906e-05\n",
      "Time for processing 1 frame: 0.04230833053588867s\n",
      "tensor([[0.9794]], device='cuda:0', grad_fn=<SigmoidBackward>)\n",
      "Handnet forward time: 0.0075533390045166016\n",
      "Handsegnet forward time: 0.0009577274322509766\n",
      "s shape torch.Size([1, 2, 224, 224])\n",
      "for loop time 0.0029947757720947266\n",
      "hand mask sum: 1967.0\n",
      "Calculate single highest scoring object time: 0.02808547019958496\n",
      "Crop and resize time: 0.000934600830078125\n",
      "Posenet forward time: 0.0019366741180419922\n",
      "Posepriornet forward time: 0.0006921291351318359\n",
      "Viewpoint forward time: 0.0009436607360839844\n"
     ]
    },
    {
     "name": "stderr",
     "output_type": "stream",
     "text": [
      "\r",
      "352it [01:00,  5.99it/s]"
     ]
    },
    {
     "name": "stdout",
     "output_type": "stream",
     "text": [
      "Get normalized 3d coordinates time: 0.0008232593536376953\n",
      "Flip left handed input time: 0.00016546249389648438\n",
      "ScaLe heatmaps time 8.988380432128906e-05\n",
      "Time for processing 1 frame: 0.04277300834655762s\n",
      "tensor([[0.9807]], device='cuda:0', grad_fn=<SigmoidBackward>)\n",
      "Handnet forward time: 0.007542610168457031\n",
      "Handsegnet forward time: 0.0009617805480957031\n",
      "s shape torch.Size([1, 2, 224, 224])\n",
      "for loop time 0.0030977725982666016\n",
      "hand mask sum: 1970.0\n",
      "Calculate single highest scoring object time: 0.028128862380981445\n",
      "Crop and resize time: 0.0009305477142333984\n",
      "Posenet forward time: 0.0019481182098388672\n",
      "Posepriornet forward time: 0.0007042884826660156\n",
      "Viewpoint forward time: 0.0009341239929199219\n",
      "Get normalized 3d coordinates time: 0.0005781650543212891\n",
      "Flip left handed input time: 0.000118255615234375\n",
      "ScaLe heatmaps time 8.177757263183594e-05\n",
      "Time for processing 1 frame: 0.04249405860900879s\n"
     ]
    },
    {
     "name": "stderr",
     "output_type": "stream",
     "text": [
      "354it [01:01,  6.00it/s]"
     ]
    },
    {
     "name": "stdout",
     "output_type": "stream",
     "text": [
      "tensor([[0.9849]], device='cuda:0', grad_fn=<SigmoidBackward>)\n",
      "Handnet forward time: 0.007563114166259766\n",
      "Handsegnet forward time: 0.0009481906890869141\n",
      "s shape torch.Size([1, 2, 224, 224])\n",
      "for loop time 0.0029561519622802734\n",
      "hand mask sum: 1970.0\n",
      "Calculate single highest scoring object time: 0.0279386043548584\n",
      "Crop and resize time: 0.0009212493896484375\n",
      "Posenet forward time: 0.001943349838256836\n",
      "Posepriornet forward time: 0.0007033348083496094\n",
      "Viewpoint forward time: 0.0009398460388183594\n",
      "Get normalized 3d coordinates time: 0.0005891323089599609\n",
      "Flip left handed input time: 0.00011992454528808594\n",
      "ScaLe heatmaps time 8.225440979003906e-05\n",
      "Time for processing 1 frame: 0.04235577583312988s\n",
      "tensor([[0.9830]], device='cuda:0', grad_fn=<SigmoidBackward>)\n",
      "Handnet forward time: 0.0075914859771728516\n",
      "Handsegnet forward time: 0.0009615421295166016\n",
      "s shape torch.Size([1, 2, 224, 224])\n",
      "for loop time 0.0029489994049072266\n",
      "hand mask sum: 1978.0\n",
      "Calculate single highest scoring object time: 0.027861356735229492\n",
      "Crop and resize time: 0.0009233951568603516\n",
      "Posenet forward time: 0.0019364356994628906\n",
      "Posepriornet forward time: 0.0006940364837646484\n",
      "Viewpoint forward time: 0.0009465217590332031\n"
     ]
    },
    {
     "name": "stderr",
     "output_type": "stream",
     "text": [
      "\r",
      "355it [01:01,  6.00it/s]"
     ]
    },
    {
     "name": "stdout",
     "output_type": "stream",
     "text": [
      "Get normalized 3d coordinates time: 0.0011370182037353516\n",
      "Flip left handed input time: 0.00019788742065429688\n",
      "ScaLe heatmaps time 0.00012350082397460938\n",
      "Time for processing 1 frame: 0.04297018051147461s\n",
      "tensor([[0.9697]], device='cuda:0', grad_fn=<SigmoidBackward>)\n",
      "Handnet forward time: 0.007548809051513672\n",
      "Handsegnet forward time: 0.0009593963623046875\n",
      "s shape torch.Size([1, 2, 224, 224])\n",
      "for loop time 0.0030193328857421875\n",
      "hand mask sum: 1970.0\n",
      "Calculate single highest scoring object time: 0.02806258201599121\n",
      "Crop and resize time: 0.0009210109710693359\n",
      "Posenet forward time: 0.0019588470458984375\n",
      "Posepriornet forward time: 0.0007064342498779297\n",
      "Viewpoint forward time: 0.0009443759918212891\n",
      "Get normalized 3d coordinates time: 0.0005755424499511719\n",
      "Flip left handed input time: 0.00011992454528808594\n",
      "ScaLe heatmaps time 8.20159912109375e-05\n",
      "Time for processing 1 frame: 0.04244661331176758s\n"
     ]
    },
    {
     "name": "stderr",
     "output_type": "stream",
     "text": [
      "357it [01:01,  6.00it/s]"
     ]
    },
    {
     "name": "stdout",
     "output_type": "stream",
     "text": [
      "tensor([[0.9659]], device='cuda:0', grad_fn=<SigmoidBackward>)\n",
      "Handnet forward time: 0.007587909698486328\n",
      "Handsegnet forward time: 0.0009489059448242188\n",
      "s shape torch.Size([1, 2, 224, 224])\n",
      "for loop time 0.0029582977294921875\n",
      "hand mask sum: 1967.0\n",
      "Calculate single highest scoring object time: 0.02797865867614746\n",
      "Crop and resize time: 0.0009140968322753906\n",
      "Posenet forward time: 0.0019404888153076172\n",
      "Posepriornet forward time: 0.0007016658782958984\n",
      "Viewpoint forward time: 0.0009386539459228516\n",
      "Get normalized 3d coordinates time: 0.0005769729614257812\n",
      "Flip left handed input time: 0.00012183189392089844\n",
      "ScaLe heatmaps time 8.320808410644531e-05\n",
      "Time for processing 1 frame: 0.04239630699157715s\n",
      "tensor([[0.9519]], device='cuda:0', grad_fn=<SigmoidBackward>)\n",
      "Handnet forward time: 0.0075490474700927734\n",
      "Handsegnet forward time: 0.0009539127349853516\n",
      "s shape torch.Size([1, 2, 224, 224])\n",
      "for loop time 0.002956390380859375\n",
      "hand mask sum: 1965.0\n",
      "Calculate single highest scoring object time: 0.027928829193115234\n",
      "Crop and resize time: 0.0009174346923828125\n",
      "Posenet forward time: 0.001947164535522461\n",
      "Posepriornet forward time: 0.0006947517395019531\n",
      "Viewpoint forward time: 0.0009248256683349609\n"
     ]
    },
    {
     "name": "stderr",
     "output_type": "stream",
     "text": [
      "\r",
      "358it [01:01,  6.00it/s]"
     ]
    },
    {
     "name": "stdout",
     "output_type": "stream",
     "text": [
      "Get normalized 3d coordinates time: 0.0008056163787841797\n",
      "Flip left handed input time: 0.0001685619354248047\n",
      "ScaLe heatmaps time 9.083747863769531e-05\n",
      "Time for processing 1 frame: 0.04255414009094238s\n",
      "tensor([[0.9048]], device='cuda:0', grad_fn=<SigmoidBackward>)\n",
      "Handnet forward time: 0.007575511932373047\n",
      "Handsegnet forward time: 0.0009491443634033203\n",
      "s shape torch.Size([1, 2, 224, 224])\n",
      "for loop time 0.003019571304321289\n",
      "hand mask sum: 1952.0\n",
      "Calculate single highest scoring object time: 0.027928590774536133\n",
      "Crop and resize time: 0.0009248256683349609\n",
      "Posenet forward time: 0.0019397735595703125\n",
      "Posepriornet forward time: 0.0007035732269287109\n",
      "Viewpoint forward time: 0.0009398460388183594\n",
      "Get normalized 3d coordinates time: 0.0005838871002197266\n",
      "Flip left handed input time: 0.00012755393981933594\n",
      "ScaLe heatmaps time 8.916854858398438e-05\n",
      "Time for processing 1 frame: 0.04232931137084961s\n"
     ]
    },
    {
     "name": "stderr",
     "output_type": "stream",
     "text": [
      "360it [01:02,  6.01it/s]"
     ]
    },
    {
     "name": "stdout",
     "output_type": "stream",
     "text": [
      "tensor([[0.8412]], device='cuda:0', grad_fn=<SigmoidBackward>)\n",
      "Handnet forward time: 0.007558584213256836\n",
      "Handsegnet forward time: 0.0009613037109375\n",
      "s shape torch.Size([1, 2, 224, 224])\n",
      "for loop time 0.003008604049682617\n",
      "hand mask sum: 1943.0\n",
      "Calculate single highest scoring object time: 0.02816176414489746\n",
      "Crop and resize time: 0.0009238719940185547\n",
      "Posenet forward time: 0.0019414424896240234\n",
      "Posepriornet forward time: 0.0007104873657226562\n",
      "Viewpoint forward time: 0.0009446144104003906\n",
      "Get normalized 3d coordinates time: 0.0005817413330078125\n",
      "Flip left handed input time: 0.00012254714965820312\n",
      "ScaLe heatmaps time 8.416175842285156e-05\n",
      "Time for processing 1 frame: 0.04259371757507324s\n",
      "tensor([[0.8999]], device='cuda:0', grad_fn=<SigmoidBackward>)\n",
      "Handnet forward time: 0.007566213607788086\n",
      "Handsegnet forward time: 0.0009450912475585938\n",
      "s shape torch.Size([1, 2, 224, 224])\n",
      "for loop time 0.002953767776489258\n",
      "hand mask sum: 1903.0\n",
      "Calculate single highest scoring object time: 0.02803492546081543\n",
      "Crop and resize time: 0.0009174346923828125\n",
      "Posenet forward time: 0.001924753189086914\n",
      "Posepriornet forward time: 0.0007030963897705078\n",
      "Viewpoint forward time: 0.0009315013885498047\n"
     ]
    },
    {
     "name": "stderr",
     "output_type": "stream",
     "text": [
      "\r",
      "361it [01:02,  6.01it/s]"
     ]
    },
    {
     "name": "stdout",
     "output_type": "stream",
     "text": [
      "Get normalized 3d coordinates time: 0.0008301734924316406\n",
      "Flip left handed input time: 0.00017189979553222656\n",
      "ScaLe heatmaps time 8.869171142578125e-05\n",
      "Time for processing 1 frame: 0.042684316635131836s\n",
      "tensor([[0.8997]], device='cuda:0', grad_fn=<SigmoidBackward>)\n",
      "Handnet forward time: 0.007549762725830078\n",
      "Handsegnet forward time: 0.0009591579437255859\n",
      "s shape torch.Size([1, 2, 224, 224])\n",
      "for loop time 0.0029599666595458984\n",
      "hand mask sum: 1882.0\n",
      "Calculate single highest scoring object time: 0.02799057960510254\n",
      "Crop and resize time: 0.0009162425994873047\n",
      "Posenet forward time: 0.0019266605377197266\n",
      "Posepriornet forward time: 0.0006988048553466797\n",
      "Viewpoint forward time: 0.0009336471557617188\n",
      "Get normalized 3d coordinates time: 0.0005834102630615234\n",
      "Flip left handed input time: 0.0001239776611328125\n",
      "ScaLe heatmaps time 8.726119995117188e-05\n",
      "Time for processing 1 frame: 0.04233551025390625s\n"
     ]
    },
    {
     "name": "stderr",
     "output_type": "stream",
     "text": [
      "363it [01:02,  5.99it/s]"
     ]
    },
    {
     "name": "stdout",
     "output_type": "stream",
     "text": [
      "tensor([[0.9747]], device='cuda:0', grad_fn=<SigmoidBackward>)\n",
      "Handnet forward time: 0.0075647830963134766\n",
      "Handsegnet forward time: 0.0009515285491943359\n",
      "s shape torch.Size([1, 2, 224, 224])\n",
      "for loop time 0.002961397171020508\n",
      "hand mask sum: 1865.0\n",
      "Calculate single highest scoring object time: 0.02794051170349121\n",
      "Crop and resize time: 0.0009508132934570312\n",
      "Posenet forward time: 0.0019745826721191406\n",
      "Posepriornet forward time: 0.0007040500640869141\n",
      "Viewpoint forward time: 0.0009524822235107422\n",
      "Get normalized 3d coordinates time: 0.0005822181701660156\n",
      "Flip left handed input time: 0.00012230873107910156\n",
      "ScaLe heatmaps time 8.726119995117188e-05\n",
      "Time for processing 1 frame: 0.04243302345275879s\n",
      "tensor([[0.9528]], device='cuda:0', grad_fn=<SigmoidBackward>)\n",
      "Handnet forward time: 0.007546901702880859\n",
      "Handsegnet forward time: 0.0009558200836181641\n",
      "s shape torch.Size([1, 2, 224, 224])\n",
      "for loop time 0.0029931068420410156\n",
      "hand mask sum: 1839.0\n",
      "Calculate single highest scoring object time: 0.028114795684814453\n",
      "Crop and resize time: 0.0009245872497558594\n",
      "Posenet forward time: 0.0019533634185791016\n",
      "Posepriornet forward time: 0.0006966590881347656\n"
     ]
    },
    {
     "name": "stderr",
     "output_type": "stream",
     "text": [
      "\r",
      "364it [01:02,  5.99it/s]"
     ]
    },
    {
     "name": "stdout",
     "output_type": "stream",
     "text": [
      "Viewpoint forward time: 0.0012125968933105469\n",
      "Get normalized 3d coordinates time: 0.0006508827209472656\n",
      "Flip left handed input time: 0.00012302398681640625\n",
      "ScaLe heatmaps time 9.059906005859375e-05\n",
      "Time for processing 1 frame: 0.04290604591369629s\n",
      "tensor([[0.9596]], device='cuda:0', grad_fn=<SigmoidBackward>)\n",
      "Handnet forward time: 0.007553815841674805\n",
      "Handsegnet forward time: 0.0009636878967285156\n",
      "s shape torch.Size([1, 2, 224, 224])\n",
      "for loop time 0.002963542938232422\n",
      "hand mask sum: 1810.0\n",
      "Calculate single highest scoring object time: 0.028023481369018555\n",
      "Crop and resize time: 0.0011196136474609375\n",
      "Posenet forward time: 0.0019719600677490234\n",
      "Posepriornet forward time: 0.0007059574127197266\n",
      "Viewpoint forward time: 0.0009353160858154297\n",
      "Get normalized 3d coordinates time: 0.0005800724029541016\n",
      "Flip left handed input time: 0.00012350082397460938\n",
      "ScaLe heatmaps time 8.845329284667969e-05\n",
      "Time for processing 1 frame: 0.04262995719909668s\n"
     ]
    },
    {
     "name": "stderr",
     "output_type": "stream",
     "text": [
      "366it [01:03,  6.00it/s]"
     ]
    },
    {
     "name": "stdout",
     "output_type": "stream",
     "text": [
      "tensor([[0.9246]], device='cuda:0', grad_fn=<SigmoidBackward>)\n",
      "Handnet forward time: 0.007585763931274414\n",
      "Handsegnet forward time: 0.0009698867797851562\n",
      "s shape torch.Size([1, 2, 224, 224])\n",
      "for loop time 0.0029935836791992188\n",
      "hand mask sum: 1780.0\n",
      "Calculate single highest scoring object time: 0.027995586395263672\n",
      "Crop and resize time: 0.0009317398071289062\n",
      "Posenet forward time: 0.0019519329071044922\n",
      "Posepriornet forward time: 0.0007171630859375\n",
      "Viewpoint forward time: 0.0009407997131347656\n",
      "Get normalized 3d coordinates time: 0.0005810260772705078\n",
      "Flip left handed input time: 0.00012159347534179688\n",
      "ScaLe heatmaps time 8.487701416015625e-05\n",
      "Time for processing 1 frame: 0.04248619079589844s\n",
      "tensor([[0.9452]], device='cuda:0', grad_fn=<SigmoidBackward>)\n",
      "Handnet forward time: 0.007513999938964844\n",
      "Handsegnet forward time: 0.0009520053863525391\n",
      "s shape torch.Size([1, 2, 224, 224])\n",
      "for loop time 0.002960681915283203\n",
      "hand mask sum: 1763.0\n",
      "Calculate single highest scoring object time: 0.02782893180847168\n",
      "Crop and resize time: 0.00091552734375\n",
      "Posenet forward time: 0.0019440650939941406\n",
      "Posepriornet forward time: 0.0007011890411376953\n",
      "Viewpoint forward time: 0.0009388923645019531\n",
      "Get normalized 3d coordinates time: 0.0005800724029541016\n"
     ]
    },
    {
     "name": "stderr",
     "output_type": "stream",
     "text": [
      "\r",
      "367it [01:03,  6.01it/s]"
     ]
    },
    {
     "name": "stdout",
     "output_type": "stream",
     "text": [
      "Flip left handed input time: 0.00028967857360839844\n",
      "ScaLe heatmaps time 0.00017786026000976562\n",
      "Time for processing 1 frame: 0.04241585731506348s\n",
      "tensor([[0.8907]], device='cuda:0', grad_fn=<SigmoidBackward>)\n",
      "Handnet forward time: 0.0075702667236328125\n",
      "Handsegnet forward time: 0.000965118408203125\n",
      "s shape torch.Size([1, 2, 224, 224])\n",
      "for loop time 0.002994537353515625\n",
      "hand mask sum: 1709.0\n",
      "Calculate single highest scoring object time: 0.02810382843017578\n",
      "Crop and resize time: 0.0009210109710693359\n",
      "Posenet forward time: 0.0019390583038330078\n",
      "Posepriornet forward time: 0.0007128715515136719\n",
      "Viewpoint forward time: 0.0009477138519287109\n",
      "Get normalized 3d coordinates time: 0.0005819797515869141\n",
      "Flip left handed input time: 0.00012063980102539062\n",
      "ScaLe heatmaps time 8.225440979003906e-05\n",
      "Time for processing 1 frame: 0.04251980781555176s\n"
     ]
    },
    {
     "name": "stderr",
     "output_type": "stream",
     "text": [
      "369it [01:03,  6.00it/s]"
     ]
    },
    {
     "name": "stdout",
     "output_type": "stream",
     "text": [
      "tensor([[0.8507]], device='cuda:0', grad_fn=<SigmoidBackward>)\n",
      "Handnet forward time: 0.007704257965087891\n",
      "Handsegnet forward time: 0.0009663105010986328\n",
      "s shape torch.Size([1, 2, 224, 224])\n",
      "for loop time 0.002991914749145508\n",
      "hand mask sum: 1688.0\n",
      "Calculate single highest scoring object time: 0.02809453010559082\n",
      "Crop and resize time: 0.0009293556213378906\n",
      "Posenet forward time: 0.0019414424896240234\n",
      "Posepriornet forward time: 0.00069427490234375\n",
      "Viewpoint forward time: 0.0009477138519287109\n",
      "Get normalized 3d coordinates time: 0.0005855560302734375\n",
      "Flip left handed input time: 0.00012135505676269531\n",
      "ScaLe heatmaps time 8.893013000488281e-05\n",
      "Time for processing 1 frame: 0.04254889488220215s\n",
      "tensor([[0.9177]], device='cuda:0', grad_fn=<SigmoidBackward>)\n",
      "Handnet forward time: 0.007540464401245117\n",
      "Handsegnet forward time: 0.0009539127349853516\n",
      "s shape torch.Size([1, 2, 224, 224])\n",
      "for loop time 0.0029807090759277344\n",
      "hand mask sum: 1662.0\n",
      "Calculate single highest scoring object time: 0.02811717987060547\n",
      "Crop and resize time: 0.0009219646453857422\n",
      "Posenet forward time: 0.001943349838256836\n",
      "Posepriornet forward time: 0.0007040500640869141\n",
      "Viewpoint forward time: 0.0009441375732421875\n"
     ]
    },
    {
     "name": "stderr",
     "output_type": "stream",
     "text": [
      "\r",
      "370it [01:03,  6.01it/s]"
     ]
    },
    {
     "name": "stdout",
     "output_type": "stream",
     "text": [
      "Get normalized 3d coordinates time: 0.0008325576782226562\n",
      "Flip left handed input time: 0.0001678466796875\n",
      "ScaLe heatmaps time 9.179115295410156e-05\n",
      "Time for processing 1 frame: 0.042823076248168945s\n",
      "tensor([[0.8932]], device='cuda:0', grad_fn=<SigmoidBackward>)\n",
      "Handnet forward time: 0.0075528621673583984\n",
      "Handsegnet forward time: 0.0009629726409912109\n",
      "s shape torch.Size([1, 2, 224, 224])\n",
      "for loop time 0.0029680728912353516\n",
      "hand mask sum: 1612.0\n",
      "Calculate single highest scoring object time: 0.0279998779296875\n",
      "Crop and resize time: 0.0009224414825439453\n",
      "Posenet forward time: 0.0019326210021972656\n",
      "Posepriornet forward time: 0.0007178783416748047\n",
      "Viewpoint forward time: 0.001096963882446289\n",
      "Get normalized 3d coordinates time: 0.0005767345428466797\n",
      "Flip left handed input time: 0.00012040138244628906\n",
      "ScaLe heatmaps time 8.296966552734375e-05\n",
      "Time for processing 1 frame: 0.04254937171936035s\n"
     ]
    },
    {
     "name": "stderr",
     "output_type": "stream",
     "text": [
      "372it [01:04,  6.00it/s]"
     ]
    },
    {
     "name": "stdout",
     "output_type": "stream",
     "text": [
      "tensor([[0.8859]], device='cuda:0', grad_fn=<SigmoidBackward>)\n",
      "Handnet forward time: 0.007549762725830078\n",
      "Handsegnet forward time: 0.0009465217590332031\n",
      "s shape torch.Size([1, 2, 224, 224])\n",
      "for loop time 0.0029845237731933594\n",
      "hand mask sum: 1570.0\n",
      "Calculate single highest scoring object time: 0.028148651123046875\n",
      "Crop and resize time: 0.0009319782257080078\n",
      "Posenet forward time: 0.0019497871398925781\n",
      "Posepriornet forward time: 0.0007119178771972656\n",
      "Viewpoint forward time: 0.0009596347808837891\n",
      "Get normalized 3d coordinates time: 0.0005862712860107422\n",
      "Flip left handed input time: 0.00012135505676269531\n",
      "ScaLe heatmaps time 8.96453857421875e-05\n",
      "Time for processing 1 frame: 0.04261016845703125s\n",
      "tensor([[0.7628]], device='cuda:0', grad_fn=<SigmoidBackward>)\n",
      "Handnet forward time: 0.007573604583740234\n",
      "Handsegnet forward time: 0.0009443759918212891\n",
      "s shape torch.Size([1, 2, 224, 224])\n",
      "for loop time 0.002983570098876953\n",
      "hand mask sum: 1518.0\n",
      "Calculate single highest scoring object time: 0.0281217098236084\n",
      "Crop and resize time: 0.0009124279022216797\n",
      "Posenet forward time: 0.0019485950469970703\n",
      "Posepriornet forward time: 0.000701904296875\n",
      "Viewpoint forward time: 0.0009410381317138672\n"
     ]
    },
    {
     "name": "stderr",
     "output_type": "stream",
     "text": [
      "\r",
      "373it [01:04,  5.99it/s]"
     ]
    },
    {
     "name": "stdout",
     "output_type": "stream",
     "text": [
      "Get normalized 3d coordinates time: 0.0008106231689453125\n",
      "Flip left handed input time: 0.00016546249389648438\n",
      "ScaLe heatmaps time 9.202957153320312e-05\n",
      "Time for processing 1 frame: 0.042815208435058594s\n",
      "tensor([[0.4714]], device='cuda:0', grad_fn=<SigmoidBackward>)\n",
      "Handnet forward time: 0.007559537887573242\n",
      "Handsegnet forward time: 0.0009737014770507812\n",
      "s shape torch.Size([1, 2, 224, 224])\n",
      "for loop time 0.0029757022857666016\n",
      "hand mask sum: 1509.0\n",
      "Calculate single highest scoring object time: 0.02804112434387207\n",
      "Crop and resize time: 0.0009176731109619141\n",
      "Posenet forward time: 0.0019397735595703125\n",
      "Posepriornet forward time: 0.0007007122039794922\n",
      "Viewpoint forward time: 0.0009410381317138672\n",
      "Get normalized 3d coordinates time: 0.0005795955657958984\n",
      "Flip left handed input time: 0.00011777877807617188\n",
      "ScaLe heatmaps time 8.153915405273438e-05\n",
      "Time for processing 1 frame: 0.042428016662597656s\n"
     ]
    },
    {
     "name": "stderr",
     "output_type": "stream",
     "text": [
      "375it [01:04,  6.00it/s]"
     ]
    },
    {
     "name": "stdout",
     "output_type": "stream",
     "text": [
      "tensor([[0.3560]], device='cuda:0', grad_fn=<SigmoidBackward>)\n",
      "Handnet forward time: 0.007506132125854492\n",
      "Handsegnet forward time: 0.0009553432464599609\n",
      "s shape torch.Size([1, 2, 224, 224])\n",
      "for loop time 0.002953767776489258\n",
      "hand mask sum: 1506.0\n",
      "Calculate single highest scoring object time: 0.027830123901367188\n",
      "Crop and resize time: 0.0009191036224365234\n",
      "Posenet forward time: 0.001931905746459961\n",
      "Posepriornet forward time: 0.0006902217864990234\n",
      "Viewpoint forward time: 0.0009446144104003906\n",
      "Get normalized 3d coordinates time: 0.0005784034729003906\n",
      "Flip left handed input time: 0.00012040138244628906\n",
      "ScaLe heatmaps time 8.797645568847656e-05\n",
      "Time for processing 1 frame: 0.04217195510864258s\n",
      "tensor([[0.1476]], device='cuda:0', grad_fn=<SigmoidBackward>)\n",
      "Handnet forward time: 0.007546901702880859\n",
      "Handsegnet forward time: 0.0009484291076660156\n",
      "s shape torch.Size([1, 2, 224, 224])\n",
      "for loop time 0.002996206283569336\n",
      "hand mask sum: 1515.0\n",
      "Calculate single highest scoring object time: 0.028067827224731445\n",
      "Crop and resize time: 0.0009195804595947266\n",
      "Posenet forward time: 0.0019440650939941406\n",
      "Posepriornet forward time: 0.0006926059722900391\n",
      "Viewpoint forward time: 0.0009436607360839844\n"
     ]
    },
    {
     "name": "stderr",
     "output_type": "stream",
     "text": [
      "\r",
      "376it [01:04,  5.99it/s]"
     ]
    },
    {
     "name": "stdout",
     "output_type": "stream",
     "text": [
      "Get normalized 3d coordinates time: 0.0008254051208496094\n",
      "Flip left handed input time: 0.0001697540283203125\n",
      "ScaLe heatmaps time 8.821487426757812e-05\n",
      "Time for processing 1 frame: 0.04274630546569824s\n",
      "tensor([[0.1905]], device='cuda:0', grad_fn=<SigmoidBackward>)\n",
      "Handnet forward time: 0.007558584213256836\n",
      "Handsegnet forward time: 0.000949859619140625\n",
      "s shape torch.Size([1, 2, 224, 224])\n",
      "for loop time 0.002959728240966797\n",
      "hand mask sum: 1502.0\n",
      "Calculate single highest scoring object time: 0.028049945831298828\n",
      "Crop and resize time: 0.0009181499481201172\n",
      "Posenet forward time: 0.0019464492797851562\n",
      "Posepriornet forward time: 0.0007445812225341797\n",
      "Viewpoint forward time: 0.0011281967163085938\n",
      "Get normalized 3d coordinates time: 0.0005862712860107422\n",
      "Flip left handed input time: 0.00012063980102539062\n",
      "ScaLe heatmaps time 8.487701416015625e-05\n",
      "Time for processing 1 frame: 0.042659759521484375s\n"
     ]
    },
    {
     "name": "stderr",
     "output_type": "stream",
     "text": [
      "378it [01:05,  6.00it/s]"
     ]
    },
    {
     "name": "stdout",
     "output_type": "stream",
     "text": [
      "tensor([[0.3596]], device='cuda:0', grad_fn=<SigmoidBackward>)\n",
      "Handnet forward time: 0.007689237594604492\n",
      "Handsegnet forward time: 0.0009660720825195312\n",
      "s shape torch.Size([1, 2, 224, 224])\n",
      "for loop time 0.002969026565551758\n",
      "hand mask sum: 1503.0\n",
      "Calculate single highest scoring object time: 0.02801370620727539\n",
      "Crop and resize time: 0.0009534358978271484\n",
      "Posenet forward time: 0.0019533634185791016\n",
      "Posepriornet forward time: 0.0007064342498779297\n",
      "Viewpoint forward time: 0.0009694099426269531\n",
      "Get normalized 3d coordinates time: 0.0005824565887451172\n",
      "Flip left handed input time: 0.00012063980102539062\n",
      "ScaLe heatmaps time 8.940696716308594e-05\n",
      "Time for processing 1 frame: 0.04257464408874512s\n",
      "tensor([[0.4913]], device='cuda:0', grad_fn=<SigmoidBackward>)\n",
      "Handnet forward time: 0.007578849792480469\n",
      "Handsegnet forward time: 0.0009529590606689453\n",
      "s shape torch.Size([1, 2, 224, 224])\n",
      "for loop time 0.003057241439819336\n",
      "hand mask sum: 1507.0\n",
      "Calculate single highest scoring object time: 0.028006792068481445\n",
      "Crop and resize time: 0.0009407997131347656\n",
      "Posenet forward time: 0.0019893646240234375\n",
      "Posepriornet forward time: 0.0007388591766357422\n",
      "Viewpoint forward time: 0.0009684562683105469\n"
     ]
    },
    {
     "name": "stderr",
     "output_type": "stream",
     "text": [
      "\r",
      "379it [01:05,  6.00it/s]"
     ]
    },
    {
     "name": "stdout",
     "output_type": "stream",
     "text": [
      "Get normalized 3d coordinates time: 0.0008428096771240234\n",
      "Flip left handed input time: 0.0001842975616455078\n",
      "ScaLe heatmaps time 0.00010180473327636719\n",
      "Time for processing 1 frame: 0.04293346405029297s\n",
      "tensor([[0.6342]], device='cuda:0', grad_fn=<SigmoidBackward>)\n",
      "Handnet forward time: 0.007586956024169922\n",
      "Handsegnet forward time: 0.0009891986846923828\n",
      "s shape torch.Size([1, 2, 224, 224])\n",
      "for loop time 0.0029985904693603516\n",
      "hand mask sum: 1544.0\n",
      "Calculate single highest scoring object time: 0.028064966201782227\n",
      "Crop and resize time: 0.0009436607360839844\n",
      "Posenet forward time: 0.0020189285278320312\n",
      "Posepriornet forward time: 0.0007421970367431641\n",
      "Viewpoint forward time: 0.0009653568267822266\n",
      "Get normalized 3d coordinates time: 0.0006117820739746094\n",
      "Flip left handed input time: 0.0001442432403564453\n",
      "ScaLe heatmaps time 0.00010156631469726562\n",
      "Time for processing 1 frame: 0.0427858829498291s\n"
     ]
    },
    {
     "name": "stderr",
     "output_type": "stream",
     "text": [
      "381it [01:05,  6.00it/s]"
     ]
    },
    {
     "name": "stdout",
     "output_type": "stream",
     "text": [
      "tensor([[0.6351]], device='cuda:0', grad_fn=<SigmoidBackward>)\n",
      "Handnet forward time: 0.007569551467895508\n",
      "Handsegnet forward time: 0.0009648799896240234\n",
      "s shape torch.Size([1, 2, 224, 224])\n",
      "for loop time 0.0029921531677246094\n",
      "hand mask sum: 1551.0\n",
      "Calculate single highest scoring object time: 0.02808690071105957\n",
      "Crop and resize time: 0.0009412765502929688\n",
      "Posenet forward time: 0.0019795894622802734\n",
      "Posepriornet forward time: 0.0007479190826416016\n",
      "Viewpoint forward time: 0.0009794235229492188\n",
      "Get normalized 3d coordinates time: 0.0006041526794433594\n",
      "Flip left handed input time: 0.00014519691467285156\n",
      "ScaLe heatmaps time 0.00010228157043457031\n",
      "Time for processing 1 frame: 0.042764902114868164s\n",
      "tensor([[0.5786]], device='cuda:0', grad_fn=<SigmoidBackward>)\n",
      "Handnet forward time: 0.007562875747680664\n",
      "Handsegnet forward time: 0.0009484291076660156\n",
      "s shape torch.Size([1, 2, 224, 224])\n",
      "for loop time 0.0029718875885009766\n",
      "hand mask sum: 1593.0\n",
      "Calculate single highest scoring object time: 0.028023481369018555\n",
      "Crop and resize time: 0.0009343624114990234\n",
      "Posenet forward time: 0.001996755599975586\n",
      "Posepriornet forward time: 0.0007395744323730469\n",
      "Viewpoint forward time: 0.0009701251983642578\n"
     ]
    },
    {
     "name": "stderr",
     "output_type": "stream",
     "text": [
      "\r",
      "382it [01:05,  6.01it/s]"
     ]
    },
    {
     "name": "stdout",
     "output_type": "stream",
     "text": [
      "Get normalized 3d coordinates time: 0.0008378028869628906\n",
      "Flip left handed input time: 0.0001842975616455078\n",
      "ScaLe heatmaps time 0.00010156631469726562\n",
      "Time for processing 1 frame: 0.04292440414428711s\n",
      "tensor([[0.7081]], device='cuda:0', grad_fn=<SigmoidBackward>)\n",
      "Handnet forward time: 0.007564544677734375\n",
      "Handsegnet forward time: 0.0009551048278808594\n",
      "s shape torch.Size([1, 2, 224, 224])\n",
      "for loop time 0.002992391586303711\n",
      "hand mask sum: 1637.0\n",
      "Calculate single highest scoring object time: 0.02799248695373535\n",
      "Crop and resize time: 0.000926971435546875\n",
      "Posenet forward time: 0.001928091049194336\n",
      "Posepriornet forward time: 0.0007116794586181641\n",
      "Viewpoint forward time: 0.0009393692016601562\n",
      "Get normalized 3d coordinates time: 0.000576019287109375\n",
      "Flip left handed input time: 0.00011992454528808594\n",
      "ScaLe heatmaps time 8.749961853027344e-05\n",
      "Time for processing 1 frame: 0.042369842529296875s\n"
     ]
    },
    {
     "name": "stderr",
     "output_type": "stream",
     "text": [
      "384it [01:06,  6.00it/s]"
     ]
    },
    {
     "name": "stdout",
     "output_type": "stream",
     "text": [
      "tensor([[0.7713]], device='cuda:0', grad_fn=<SigmoidBackward>)\n",
      "Handnet forward time: 0.007560014724731445\n",
      "Handsegnet forward time: 0.0009493827819824219\n",
      "s shape torch.Size([1, 2, 224, 224])\n",
      "for loop time 0.0029909610748291016\n",
      "hand mask sum: 1691.0\n",
      "Calculate single highest scoring object time: 0.028165340423583984\n",
      "Crop and resize time: 0.0009322166442871094\n",
      "Posenet forward time: 0.0019817352294921875\n",
      "Posepriornet forward time: 0.0007100105285644531\n",
      "Viewpoint forward time: 0.000942230224609375\n",
      "Get normalized 3d coordinates time: 0.0005850791931152344\n",
      "Flip left handed input time: 0.00011968612670898438\n",
      "ScaLe heatmaps time 8.463859558105469e-05\n",
      "Time for processing 1 frame: 0.04264640808105469s\n",
      "tensor([[0.9617]], device='cuda:0', grad_fn=<SigmoidBackward>)\n",
      "Handnet forward time: 0.007567405700683594\n",
      "Handsegnet forward time: 0.0009515285491943359\n",
      "s shape torch.Size([1, 2, 224, 224])\n",
      "for loop time 0.002986431121826172\n",
      "hand mask sum: 1736.0\n",
      "Calculate single highest scoring object time: 0.02810049057006836\n",
      "Crop and resize time: 0.0009200572967529297\n",
      "Posenet forward time: 0.001932382583618164\n",
      "Posepriornet forward time: 0.0007038116455078125\n",
      "Viewpoint forward time: 0.0009348392486572266\n"
     ]
    },
    {
     "name": "stderr",
     "output_type": "stream",
     "text": [
      "\r",
      "385it [01:06,  6.14it/s]"
     ]
    },
    {
     "name": "stdout",
     "output_type": "stream",
     "text": [
      "Get normalized 3d coordinates time: 0.0008056163787841797\n",
      "Flip left handed input time: 0.00015974044799804688\n",
      "ScaLe heatmaps time 9.179115295410156e-05\n",
      "Time for processing 1 frame: 0.04277205467224121s\n",
      "tensor([[0.9666]], device='cuda:0', grad_fn=<SigmoidBackward>)\n",
      "Handnet forward time: 0.007551908493041992\n",
      "Handsegnet forward time: 0.0009613037109375\n",
      "s shape torch.Size([1, 2, 224, 224])\n",
      "for loop time 0.002995729446411133\n",
      "hand mask sum: 1757.0\n",
      "Calculate single highest scoring object time: 0.028038978576660156\n",
      "Crop and resize time: 0.0009202957153320312\n",
      "Posenet forward time: 0.001943826675415039\n",
      "Posepriornet forward time: 0.0007026195526123047\n",
      "Viewpoint forward time: 0.0009591579437255859\n",
      "Get normalized 3d coordinates time: 0.0005772113800048828\n",
      "Flip left handed input time: 0.00011944770812988281\n",
      "ScaLe heatmaps time 8.320808410644531e-05\n",
      "Time for processing 1 frame: 0.042423248291015625s\n"
     ]
    },
    {
     "name": "stderr",
     "output_type": "stream",
     "text": [
      "387it [01:06,  6.18it/s]"
     ]
    },
    {
     "name": "stdout",
     "output_type": "stream",
     "text": [
      "tensor([[0.9681]], device='cuda:0', grad_fn=<SigmoidBackward>)\n",
      "Handnet forward time: 0.0076673030853271484\n",
      "Handsegnet forward time: 0.0009520053863525391\n",
      "s shape torch.Size([1, 2, 224, 224])\n",
      "for loop time 0.0030138492584228516\n",
      "hand mask sum: 1796.0\n",
      "Calculate single highest scoring object time: 0.028135061264038086\n",
      "Crop and resize time: 0.0009250640869140625\n",
      "Posenet forward time: 0.0019669532775878906\n",
      "Posepriornet forward time: 0.0007073879241943359\n",
      "Viewpoint forward time: 0.0009558200836181641\n",
      "Get normalized 3d coordinates time: 0.0005815029144287109\n",
      "Flip left handed input time: 0.00012040138244628906\n",
      "ScaLe heatmaps time 8.249282836914062e-05\n",
      "Time for processing 1 frame: 0.04262137413024902s\n",
      "tensor([[0.9788]], device='cuda:0', grad_fn=<SigmoidBackward>)\n",
      "Handnet forward time: 0.007559299468994141\n",
      "Handsegnet forward time: 0.0009601116180419922\n",
      "s shape torch.Size([1, 2, 224, 224])\n",
      "for loop time 0.002986907958984375\n",
      "hand mask sum: 1815.0\n",
      "Calculate single highest scoring object time: 0.028105974197387695\n",
      "Crop and resize time: 0.0009276866912841797\n",
      "Posenet forward time: 0.0020189285278320312\n",
      "Posepriornet forward time: 0.0007205009460449219\n",
      "Viewpoint forward time: 0.0009403228759765625\n",
      "Get normalized 3d coordinates time: 0.0005784034729003906\n",
      "Flip left handed input time: 0.00011682510375976562\n",
      "ScaLe heatmaps time 8.726119995117188e-05\n",
      "Time for processing 1 frame: 0.042585134506225586s\n"
     ]
    },
    {
     "name": "stderr",
     "output_type": "stream",
     "text": [
      "389it [01:07,  6.20it/s]"
     ]
    },
    {
     "name": "stdout",
     "output_type": "stream",
     "text": [
      "tensor([[0.9528]], device='cuda:0', grad_fn=<SigmoidBackward>)\n",
      "Handnet forward time: 0.007644176483154297\n",
      "Handsegnet forward time: 0.0009751319885253906\n",
      "s shape torch.Size([1, 2, 224, 224])\n",
      "for loop time 0.0029942989349365234\n",
      "hand mask sum: 1834.0\n",
      "Calculate single highest scoring object time: 0.02807021141052246\n",
      "Crop and resize time: 0.0009145736694335938\n",
      "Posenet forward time: 0.001950979232788086\n",
      "Posepriornet forward time: 0.0007059574127197266\n",
      "Viewpoint forward time: 0.0009403228759765625\n",
      "Get normalized 3d coordinates time: 0.0005803108215332031\n",
      "Flip left handed input time: 0.00011730194091796875\n",
      "ScaLe heatmaps time 8.797645568847656e-05\n",
      "Time for processing 1 frame: 0.042476654052734375s\n",
      "tensor([[0.9374]], device='cuda:0', grad_fn=<SigmoidBackward>)\n",
      "Handnet forward time: 0.007563352584838867\n",
      "Handsegnet forward time: 0.0009539127349853516\n",
      "s shape torch.Size([1, 2, 224, 224])\n",
      "for loop time 0.0029916763305664062\n",
      "hand mask sum: 1857.0\n",
      "Calculate single highest scoring object time: 0.028082609176635742\n",
      "Crop and resize time: 0.0009291172027587891\n",
      "Posenet forward time: 0.001959085464477539\n",
      "Posepriornet forward time: 0.0007009506225585938\n",
      "Viewpoint forward time: 0.0009369850158691406\n",
      "Get normalized 3d coordinates time: 0.0005862712860107422\n",
      "Flip left handed input time: 0.00012063980102539062\n",
      "ScaLe heatmaps time 8.869171142578125e-05\n",
      "Time for processing 1 frame: 0.042482852935791016s\n"
     ]
    },
    {
     "name": "stderr",
     "output_type": "stream",
     "text": [
      "391it [01:07,  6.17it/s]"
     ]
    },
    {
     "name": "stdout",
     "output_type": "stream",
     "text": [
      "tensor([[0.9528]], device='cuda:0', grad_fn=<SigmoidBackward>)\n",
      "Handnet forward time: 0.00768589973449707\n",
      "Handsegnet forward time: 0.0009477138519287109\n",
      "s shape torch.Size([1, 2, 224, 224])\n",
      "for loop time 0.0032775402069091797\n",
      "hand mask sum: 1856.0\n",
      "Calculate single highest scoring object time: 0.028455734252929688\n",
      "Crop and resize time: 0.0010919570922851562\n",
      "Posenet forward time: 0.002414226531982422\n",
      "Posepriornet forward time: 0.0008680820465087891\n",
      "Viewpoint forward time: 0.0011467933654785156\n",
      "Get normalized 3d coordinates time: 0.0007266998291015625\n",
      "Flip left handed input time: 0.0001430511474609375\n",
      "ScaLe heatmaps time 0.0001068115234375\n",
      "Time for processing 1 frame: 0.04416775703430176s\n",
      "tensor([[0.9538]], device='cuda:0', grad_fn=<SigmoidBackward>)\n",
      "Handnet forward time: 0.0075740814208984375\n",
      "Handsegnet forward time: 0.0009577274322509766\n",
      "s shape torch.Size([1, 2, 224, 224])\n",
      "for loop time 0.0030388832092285156\n",
      "hand mask sum: 1866.0\n",
      "Calculate single highest scoring object time: 0.028133869171142578\n",
      "Crop and resize time: 0.000934600830078125\n",
      "Posenet forward time: 0.0019769668579101562\n",
      "Posepriornet forward time: 0.0007348060607910156\n",
      "Viewpoint forward time: 0.0009679794311523438\n",
      "Get normalized 3d coordinates time: 0.0006024837493896484\n",
      "Flip left handed input time: 0.00014400482177734375\n",
      "ScaLe heatmaps time 0.0001010894775390625\n",
      "Time for processing 1 frame: 0.04272913932800293s\n"
     ]
    },
    {
     "name": "stderr",
     "output_type": "stream",
     "text": [
      "393it [01:07,  6.17it/s]"
     ]
    },
    {
     "name": "stdout",
     "output_type": "stream",
     "text": [
      "tensor([[0.9588]], device='cuda:0', grad_fn=<SigmoidBackward>)\n",
      "Handnet forward time: 0.007560253143310547\n",
      "Handsegnet forward time: 0.0009441375732421875\n",
      "s shape torch.Size([1, 2, 224, 224])\n",
      "for loop time 0.003023386001586914\n",
      "hand mask sum: 1864.0\n",
      "Calculate single highest scoring object time: 0.028164386749267578\n",
      "Crop and resize time: 0.0009484291076660156\n",
      "Posenet forward time: 0.001977205276489258\n",
      "Posepriornet forward time: 0.0007390975952148438\n",
      "Viewpoint forward time: 0.0009627342224121094\n",
      "Get normalized 3d coordinates time: 0.00063323974609375\n",
      "Flip left handed input time: 0.00014472007751464844\n",
      "ScaLe heatmaps time 0.00010251998901367188\n",
      "Time for processing 1 frame: 0.042816162109375s\n",
      "tensor([[0.9643]], device='cuda:0', grad_fn=<SigmoidBackward>)\n",
      "Handnet forward time: 0.007540464401245117\n",
      "Handsegnet forward time: 0.0009510517120361328\n",
      "s shape torch.Size([1, 2, 224, 224])\n",
      "for loop time 0.003003835678100586\n",
      "hand mask sum: 1871.0\n",
      "Calculate single highest scoring object time: 0.028120756149291992\n",
      "Crop and resize time: 0.0009276866912841797\n",
      "Posenet forward time: 0.001991748809814453\n",
      "Posepriornet forward time: 0.0007410049438476562\n",
      "Viewpoint forward time: 0.0009617805480957031\n",
      "Get normalized 3d coordinates time: 0.0007817745208740234\n",
      "Flip left handed input time: 0.00012922286987304688\n",
      "ScaLe heatmaps time 3.9577484130859375e-05\n",
      "Time for processing 1 frame: 0.04283928871154785s\n"
     ]
    },
    {
     "name": "stderr",
     "output_type": "stream",
     "text": [
      "395it [01:08,  6.15it/s]"
     ]
    },
    {
     "name": "stdout",
     "output_type": "stream",
     "text": [
      "tensor([[0.9742]], device='cuda:0', grad_fn=<SigmoidBackward>)\n",
      "Handnet forward time: 0.007596015930175781\n",
      "Handsegnet forward time: 0.0009548664093017578\n",
      "s shape torch.Size([1, 2, 224, 224])\n",
      "for loop time 0.002998828887939453\n",
      "hand mask sum: 1864.0\n",
      "Calculate single highest scoring object time: 0.028144359588623047\n",
      "Crop and resize time: 0.0009377002716064453\n",
      "Posenet forward time: 0.002000093460083008\n",
      "Posepriornet forward time: 0.0007419586181640625\n",
      "Viewpoint forward time: 0.0009670257568359375\n",
      "Get normalized 3d coordinates time: 0.0006091594696044922\n",
      "Flip left handed input time: 0.0001442432403564453\n",
      "ScaLe heatmaps time 0.00010085105895996094\n",
      "Time for processing 1 frame: 0.042910099029541016s\n",
      "tensor([[0.9620]], device='cuda:0', grad_fn=<SigmoidBackward>)\n",
      "Handnet forward time: 0.007587909698486328\n",
      "Handsegnet forward time: 0.0009598731994628906\n",
      "s shape torch.Size([1, 2, 224, 224])\n",
      "for loop time 0.002989053726196289\n",
      "hand mask sum: 1868.0\n",
      "Calculate single highest scoring object time: 0.02806401252746582\n",
      "Crop and resize time: 0.0009500980377197266\n",
      "Posenet forward time: 0.0020046234130859375\n",
      "Posepriornet forward time: 0.0007414817810058594\n",
      "Viewpoint forward time: 0.0009632110595703125\n",
      "Get normalized 3d coordinates time: 0.0006072521209716797\n",
      "Flip left handed input time: 0.00014448165893554688\n",
      "ScaLe heatmaps time 0.00010800361633300781\n",
      "Time for processing 1 frame: 0.042740583419799805s\n"
     ]
    },
    {
     "name": "stderr",
     "output_type": "stream",
     "text": [
      "397it [01:08,  6.15it/s]"
     ]
    },
    {
     "name": "stdout",
     "output_type": "stream",
     "text": [
      "tensor([[0.9584]], device='cuda:0', grad_fn=<SigmoidBackward>)\n",
      "Handnet forward time: 0.00757288932800293\n",
      "Handsegnet forward time: 0.0009558200836181641\n",
      "s shape torch.Size([1, 2, 224, 224])\n",
      "for loop time 0.0030107498168945312\n",
      "hand mask sum: 1859.0\n",
      "Calculate single highest scoring object time: 0.0281219482421875\n",
      "Crop and resize time: 0.0009648799896240234\n",
      "Posenet forward time: 0.001988649368286133\n",
      "Posepriornet forward time: 0.0007483959197998047\n",
      "Viewpoint forward time: 0.0009722709655761719\n",
      "Get normalized 3d coordinates time: 0.0006074905395507812\n",
      "Flip left handed input time: 0.00014495849609375\n",
      "ScaLe heatmaps time 0.00010347366333007812\n",
      "Time for processing 1 frame: 0.04281806945800781s\n",
      "tensor([[0.9718]], device='cuda:0', grad_fn=<SigmoidBackward>)\n",
      "Handnet forward time: 0.007555723190307617\n",
      "Handsegnet forward time: 0.0009644031524658203\n",
      "s shape torch.Size([1, 2, 224, 224])\n",
      "for loop time 0.003039121627807617\n",
      "hand mask sum: 1845.0\n",
      "Calculate single highest scoring object time: 0.028187990188598633\n",
      "Crop and resize time: 0.0009403228759765625\n",
      "Posenet forward time: 0.0019795894622802734\n",
      "Posepriornet forward time: 0.0007467269897460938\n",
      "Viewpoint forward time: 0.0009658336639404297\n",
      "Get normalized 3d coordinates time: 0.0006084442138671875\n",
      "Flip left handed input time: 0.00014472007751464844\n",
      "ScaLe heatmaps time 0.00010156631469726562\n",
      "Time for processing 1 frame: 0.042876243591308594s\n"
     ]
    },
    {
     "name": "stderr",
     "output_type": "stream",
     "text": [
      "399it [01:08,  6.14it/s]"
     ]
    },
    {
     "name": "stdout",
     "output_type": "stream",
     "text": [
      "tensor([[0.9764]], device='cuda:0', grad_fn=<SigmoidBackward>)\n",
      "Handnet forward time: 0.007565021514892578\n",
      "Handsegnet forward time: 0.0009512901306152344\n",
      "s shape torch.Size([1, 2, 224, 224])\n",
      "for loop time 0.0029871463775634766\n",
      "hand mask sum: 1864.0\n",
      "Calculate single highest scoring object time: 0.028166532516479492\n",
      "Crop and resize time: 0.0009515285491943359\n",
      "Posenet forward time: 0.0019605159759521484\n",
      "Posepriornet forward time: 0.000736236572265625\n",
      "Viewpoint forward time: 0.0009639263153076172\n",
      "Get normalized 3d coordinates time: 0.0006067752838134766\n",
      "Flip left handed input time: 0.00014448165893554688\n",
      "ScaLe heatmaps time 0.0001010894775390625\n",
      "Time for processing 1 frame: 0.04285144805908203s\n",
      "tensor([[0.9775]], device='cuda:0', grad_fn=<SigmoidBackward>)\n",
      "Handnet forward time: 0.007614850997924805\n",
      "Handsegnet forward time: 0.0009620189666748047\n",
      "s shape torch.Size([1, 2, 224, 224])\n",
      "for loop time 0.0030059814453125\n",
      "hand mask sum: 1861.0\n",
      "Calculate single highest scoring object time: 0.028148889541625977\n",
      "Crop and resize time: 0.0009396076202392578\n",
      "Posenet forward time: 0.0019960403442382812\n",
      "Posepriornet forward time: 0.0007374286651611328\n",
      "Viewpoint forward time: 0.0009806156158447266\n",
      "Get normalized 3d coordinates time: 0.0006127357482910156\n",
      "Flip left handed input time: 0.00014448165893554688\n",
      "ScaLe heatmaps time 0.00010466575622558594\n",
      "Time for processing 1 frame: 0.042859792709350586s\n"
     ]
    },
    {
     "name": "stderr",
     "output_type": "stream",
     "text": [
      "401it [01:09,  6.14it/s]"
     ]
    },
    {
     "name": "stdout",
     "output_type": "stream",
     "text": [
      "tensor([[0.9794]], device='cuda:0', grad_fn=<SigmoidBackward>)\n",
      "Handnet forward time: 0.0076045989990234375\n",
      "Handsegnet forward time: 0.0009560585021972656\n",
      "s shape torch.Size([1, 2, 224, 224])\n",
      "for loop time 0.0029680728912353516\n",
      "hand mask sum: 1860.0\n",
      "Calculate single highest scoring object time: 0.0280458927154541\n",
      "Crop and resize time: 0.0009374618530273438\n",
      "Posenet forward time: 0.0019893646240234375\n",
      "Posepriornet forward time: 0.0007340908050537109\n",
      "Viewpoint forward time: 0.0009703636169433594\n",
      "Get normalized 3d coordinates time: 0.0006084442138671875\n",
      "Flip left handed input time: 0.0001456737518310547\n",
      "ScaLe heatmaps time 0.00010204315185546875\n",
      "Time for processing 1 frame: 0.04281926155090332s\n",
      "tensor([[0.9759]], device='cuda:0', grad_fn=<SigmoidBackward>)\n",
      "Handnet forward time: 0.007544517517089844\n",
      "Handsegnet forward time: 0.0009608268737792969\n",
      "s shape torch.Size([1, 2, 224, 224])\n",
      "for loop time 0.0029621124267578125\n",
      "hand mask sum: 1854.0\n",
      "Calculate single highest scoring object time: 0.02800297737121582\n",
      "Crop and resize time: 0.0009465217590332031\n",
      "Posenet forward time: 0.0019829273223876953\n",
      "Posepriornet forward time: 0.0007376670837402344\n",
      "Viewpoint forward time: 0.0009756088256835938\n",
      "Get normalized 3d coordinates time: 0.0006062984466552734\n",
      "Flip left handed input time: 0.00014448165893554688\n",
      "ScaLe heatmaps time 0.00010132789611816406\n",
      "Time for processing 1 frame: 0.04267740249633789s\n"
     ]
    },
    {
     "name": "stderr",
     "output_type": "stream",
     "text": [
      "403it [01:09,  6.13it/s]"
     ]
    },
    {
     "name": "stdout",
     "output_type": "stream",
     "text": [
      "tensor([[0.9668]], device='cuda:0', grad_fn=<SigmoidBackward>)\n",
      "Handnet forward time: 0.0075664520263671875\n",
      "Handsegnet forward time: 0.0009522438049316406\n",
      "s shape torch.Size([1, 2, 224, 224])\n",
      "for loop time 0.0029599666595458984\n",
      "hand mask sum: 1857.0\n",
      "Calculate single highest scoring object time: 0.028003931045532227\n",
      "Crop and resize time: 0.0009484291076660156\n",
      "Posenet forward time: 0.001983165740966797\n",
      "Posepriornet forward time: 0.0007355213165283203\n",
      "Viewpoint forward time: 0.0009796619415283203\n",
      "Get normalized 3d coordinates time: 0.0006091594696044922\n",
      "Flip left handed input time: 0.0001442432403564453\n",
      "ScaLe heatmaps time 0.00010132789611816406\n",
      "Time for processing 1 frame: 0.04273343086242676s\n",
      "tensor([[0.9593]], device='cuda:0', grad_fn=<SigmoidBackward>)\n",
      "Handnet forward time: 0.007564067840576172\n",
      "Handsegnet forward time: 0.0009503364562988281\n",
      "s shape torch.Size([1, 2, 224, 224])\n",
      "for loop time 0.0029768943786621094\n",
      "hand mask sum: 1869.0\n",
      "Calculate single highest scoring object time: 0.02806258201599121\n",
      "Crop and resize time: 0.0009348392486572266\n",
      "Posenet forward time: 0.001985788345336914\n",
      "Posepriornet forward time: 0.0007345676422119141\n",
      "Viewpoint forward time: 0.0009639263153076172\n",
      "Get normalized 3d coordinates time: 0.0006108283996582031\n",
      "Flip left handed input time: 0.00014328956604003906\n",
      "ScaLe heatmaps time 0.00010442733764648438\n",
      "Time for processing 1 frame: 0.042724609375s\n"
     ]
    },
    {
     "name": "stderr",
     "output_type": "stream",
     "text": [
      "405it [01:09,  6.13it/s]"
     ]
    },
    {
     "name": "stdout",
     "output_type": "stream",
     "text": [
      "tensor([[0.9368]], device='cuda:0', grad_fn=<SigmoidBackward>)\n",
      "Handnet forward time: 0.007601022720336914\n",
      "Handsegnet forward time: 0.0009605884552001953\n",
      "s shape torch.Size([1, 2, 224, 224])\n",
      "for loop time 0.0029730796813964844\n",
      "hand mask sum: 1904.0\n",
      "Calculate single highest scoring object time: 0.027962446212768555\n",
      "Crop and resize time: 0.0009412765502929688\n",
      "Posenet forward time: 0.0019991397857666016\n",
      "Posepriornet forward time: 0.0007355213165283203\n",
      "Viewpoint forward time: 0.0009627342224121094\n",
      "Get normalized 3d coordinates time: 0.0006060600280761719\n",
      "Flip left handed input time: 0.00014543533325195312\n",
      "ScaLe heatmaps time 0.00010180473327636719\n",
      "Time for processing 1 frame: 0.04273796081542969s\n",
      "tensor([[0.9563]], device='cuda:0', grad_fn=<SigmoidBackward>)\n",
      "Handnet forward time: 0.007562160491943359\n",
      "Handsegnet forward time: 0.0009543895721435547\n",
      "s shape torch.Size([1, 2, 224, 224])\n",
      "for loop time 0.0029611587524414062\n",
      "hand mask sum: 1919.0\n",
      "Calculate single highest scoring object time: 0.027926206588745117\n",
      "Crop and resize time: 0.0009343624114990234\n",
      "Posenet forward time: 0.0019731521606445312\n",
      "Posepriornet forward time: 0.0007472038269042969\n",
      "Viewpoint forward time: 0.0009577274322509766\n",
      "Get normalized 3d coordinates time: 0.0006029605865478516\n",
      "Flip left handed input time: 0.00014400482177734375\n",
      "ScaLe heatmaps time 0.00010204315185546875\n",
      "Time for processing 1 frame: 0.042513132095336914s\n"
     ]
    },
    {
     "name": "stderr",
     "output_type": "stream",
     "text": [
      "407it [01:10,  6.12it/s]"
     ]
    },
    {
     "name": "stdout",
     "output_type": "stream",
     "text": [
      "tensor([[0.9908]], device='cuda:0', grad_fn=<SigmoidBackward>)\n",
      "Handnet forward time: 0.007566690444946289\n",
      "Handsegnet forward time: 0.0009543895721435547\n",
      "s shape torch.Size([1, 2, 224, 224])\n",
      "for loop time 0.002989530563354492\n",
      "hand mask sum: 1960.0\n",
      "Calculate single highest scoring object time: 0.028156042098999023\n",
      "Crop and resize time: 0.0009415149688720703\n",
      "Posenet forward time: 0.0019719600677490234\n",
      "Posepriornet forward time: 0.0007426738739013672\n",
      "Viewpoint forward time: 0.0009641647338867188\n",
      "Get normalized 3d coordinates time: 0.0006060600280761719\n",
      "Flip left handed input time: 0.00014328956604003906\n",
      "ScaLe heatmaps time 0.00010037422180175781\n",
      "Time for processing 1 frame: 0.042859554290771484s\n",
      "tensor([[0.9926]], device='cuda:0', grad_fn=<SigmoidBackward>)\n",
      "Handnet forward time: 0.0075664520263671875\n",
      "Handsegnet forward time: 0.0009508132934570312\n",
      "s shape torch.Size([1, 2, 224, 224])\n",
      "for loop time 0.0029938220977783203\n",
      "hand mask sum: 2047.0\n",
      "Calculate single highest scoring object time: 0.028149127960205078\n",
      "Crop and resize time: 0.0009341239929199219\n",
      "Posenet forward time: 0.001981019973754883\n",
      "Posepriornet forward time: 0.0007343292236328125\n",
      "Viewpoint forward time: 0.0009701251983642578\n",
      "Get normalized 3d coordinates time: 0.0006055831909179688\n",
      "Flip left handed input time: 0.00014472007751464844\n",
      "ScaLe heatmaps time 0.00010061264038085938\n",
      "Time for processing 1 frame: 0.042810916900634766s\n"
     ]
    },
    {
     "name": "stderr",
     "output_type": "stream",
     "text": [
      "409it [01:10,  6.10it/s]"
     ]
    },
    {
     "name": "stdout",
     "output_type": "stream",
     "text": [
      "tensor([[0.9982]], device='cuda:0', grad_fn=<SigmoidBackward>)\n",
      "Handnet forward time: 0.0075910091400146484\n",
      "Handsegnet forward time: 0.0009496212005615234\n",
      "s shape torch.Size([1, 2, 224, 224])\n",
      "for loop time 0.003040313720703125\n",
      "hand mask sum: 2143.0\n",
      "Calculate single highest scoring object time: 0.028226613998413086\n",
      "Crop and resize time: 0.0009481906890869141\n",
      "Posenet forward time: 0.0019707679748535156\n",
      "Posepriornet forward time: 0.0007305145263671875\n",
      "Viewpoint forward time: 0.0009732246398925781\n",
      "Get normalized 3d coordinates time: 0.0006062984466552734\n",
      "Flip left handed input time: 0.00014543533325195312\n",
      "ScaLe heatmaps time 0.00010180473327636719\n",
      "Time for processing 1 frame: 0.042948007583618164s\n",
      "tensor([[0.9985]], device='cuda:0', grad_fn=<SigmoidBackward>)\n",
      "Handnet forward time: 0.007559776306152344\n",
      "Handsegnet forward time: 0.0009572505950927734\n",
      "s shape torch.Size([1, 2, 224, 224])\n",
      "for loop time 0.003038644790649414\n",
      "hand mask sum: 2190.0\n",
      "Calculate single highest scoring object time: 0.02819657325744629\n",
      "Crop and resize time: 0.0009505748748779297\n",
      "Posenet forward time: 0.001981973648071289\n",
      "Posepriornet forward time: 0.000732421875\n",
      "Viewpoint forward time: 0.0009622573852539062\n",
      "Get normalized 3d coordinates time: 0.0006070137023925781\n",
      "Flip left handed input time: 0.00014519691467285156\n"
     ]
    },
    {
     "name": "stderr",
     "output_type": "stream",
     "text": [
      "\r",
      "410it [01:10,  6.10it/s]"
     ]
    },
    {
     "name": "stdout",
     "output_type": "stream",
     "text": [
      "ScaLe heatmaps time 0.0002238750457763672\n",
      "Time for processing 1 frame: 0.0429835319519043s\n",
      "tensor([[0.9982]], device='cuda:0', grad_fn=<SigmoidBackward>)\n",
      "Handnet forward time: 0.007579326629638672\n",
      "Handsegnet forward time: 0.0009622573852539062\n",
      "s shape torch.Size([1, 2, 224, 224])\n",
      "for loop time 0.0030014514923095703\n",
      "hand mask sum: 2196.0\n",
      "Calculate single highest scoring object time: 0.028097152709960938\n",
      "Crop and resize time: 0.0009520053863525391\n",
      "Posenet forward time: 0.0019783973693847656\n",
      "Posepriornet forward time: 0.0007412433624267578\n",
      "Viewpoint forward time: 0.0009622573852539062\n",
      "Get normalized 3d coordinates time: 0.0006043910980224609\n",
      "Flip left handed input time: 0.00014495849609375\n",
      "ScaLe heatmaps time 0.00010204315185546875\n",
      "Time for processing 1 frame: 0.042728424072265625s\n"
     ]
    },
    {
     "name": "stderr",
     "output_type": "stream",
     "text": [
      "\r",
      "411it [01:10,  6.10it/s]"
     ]
    },
    {
     "name": "stdout",
     "output_type": "stream",
     "text": [
      "tensor([[0.9961]], device='cuda:0', grad_fn=<SigmoidBackward>)\n",
      "Handnet forward time: 0.007570028305053711\n",
      "Handsegnet forward time: 0.0009567737579345703\n",
      "s shape torch.Size([1, 2, 224, 224])\n",
      "for loop time 0.002974987030029297\n",
      "hand mask sum: 2190.0\n",
      "Calculate single highest scoring object time: 0.02800297737121582\n",
      "Crop and resize time: 0.0009493827819824219\n",
      "Posenet forward time: 0.001970052719116211\n",
      "Posepriornet forward time: 0.0007407665252685547\n",
      "Viewpoint forward time: 0.0009634494781494141\n",
      "Get normalized 3d coordinates time: 0.0006039142608642578\n",
      "Flip left handed input time: 0.0001442432403564453\n",
      "ScaLe heatmaps time 0.00010132789611816406\n",
      "Time for processing 1 frame: 0.04263734817504883s\n"
     ]
    },
    {
     "name": "stderr",
     "output_type": "stream",
     "text": [
      "413it [01:11,  4.73it/s]"
     ]
    },
    {
     "name": "stdout",
     "output_type": "stream",
     "text": [
      "tensor([[0.9945]], device='cuda:0', grad_fn=<SigmoidBackward>)\n",
      "Handnet forward time: 0.00751495361328125\n",
      "Handsegnet forward time: 0.0009090900421142578\n",
      "s shape torch.Size([1, 2, 224, 224])\n",
      "for loop time 0.0029306411743164062\n",
      "hand mask sum: 2191.0\n",
      "Calculate single highest scoring object time: 0.027912139892578125\n",
      "Crop and resize time: 0.0009140968322753906\n",
      "Posenet forward time: 0.0019388198852539062\n",
      "Posepriornet forward time: 0.0007030963897705078\n",
      "Viewpoint forward time: 0.0009202957153320312\n",
      "Get normalized 3d coordinates time: 0.000579833984375\n",
      "Flip left handed input time: 0.00013637542724609375\n",
      "ScaLe heatmaps time 9.72747802734375e-05\n",
      "Time for processing 1 frame: 0.04223895072937012s\n",
      "tensor([[0.9937]], device='cuda:0', grad_fn=<SigmoidBackward>)\n",
      "Handnet forward time: 0.007612705230712891\n",
      "Handsegnet forward time: 0.0009589195251464844\n",
      "s shape torch.Size([1, 2, 224, 224])\n",
      "for loop time 0.0030651092529296875\n",
      "hand mask sum: 2205.0\n",
      "Calculate single highest scoring object time: 0.02820420265197754\n",
      "Crop and resize time: 0.0009520053863525391\n",
      "Posenet forward time: 0.0020101070404052734\n",
      "Posepriornet forward time: 0.0007331371307373047\n",
      "Viewpoint forward time: 0.0009746551513671875\n",
      "Get normalized 3d coordinates time: 0.0006222724914550781\n",
      "Flip left handed input time: 0.00014591217041015625\n",
      "ScaLe heatmaps time 0.00010251998901367188\n",
      "Time for processing 1 frame: 0.04291987419128418s\n"
     ]
    },
    {
     "name": "stderr",
     "output_type": "stream",
     "text": [
      "415it [01:11,  5.33it/s]"
     ]
    },
    {
     "name": "stdout",
     "output_type": "stream",
     "text": [
      "tensor([[0.9938]], device='cuda:0', grad_fn=<SigmoidBackward>)\n",
      "Handnet forward time: 0.007616996765136719\n",
      "Handsegnet forward time: 0.0009515285491943359\n",
      "s shape torch.Size([1, 2, 224, 224])\n",
      "for loop time 0.003073453903198242\n",
      "hand mask sum: 2219.0\n",
      "Calculate single highest scoring object time: 0.028182029724121094\n",
      "Crop and resize time: 0.0009629726409912109\n",
      "Posenet forward time: 0.001986265182495117\n",
      "Posepriornet forward time: 0.0007371902465820312\n",
      "Viewpoint forward time: 0.0009796619415283203\n",
      "Get normalized 3d coordinates time: 0.0006151199340820312\n",
      "Flip left handed input time: 0.00014400482177734375\n",
      "ScaLe heatmaps time 0.000102996826171875\n",
      "Time for processing 1 frame: 0.042916059494018555s\n",
      "tensor([[0.9936]], device='cuda:0', grad_fn=<SigmoidBackward>)\n",
      "Handnet forward time: 0.007559061050415039\n",
      "Handsegnet forward time: 0.000957489013671875\n",
      "s shape torch.Size([1, 2, 224, 224])\n",
      "for loop time 0.0030295848846435547\n",
      "hand mask sum: 2208.0\n",
      "Calculate single highest scoring object time: 0.02811908721923828\n",
      "Crop and resize time: 0.0009646415710449219\n",
      "Posenet forward time: 0.001982450485229492\n",
      "Posepriornet forward time: 0.0007371902465820312\n",
      "Viewpoint forward time: 0.0009875297546386719\n",
      "Get normalized 3d coordinates time: 0.0006091594696044922\n",
      "Flip left handed input time: 0.00014328956604003906\n",
      "ScaLe heatmaps time 0.00010347366333007812\n",
      "Time for processing 1 frame: 0.04283571243286133s\n"
     ]
    },
    {
     "name": "stderr",
     "output_type": "stream",
     "text": [
      "417it [01:11,  5.68it/s]"
     ]
    },
    {
     "name": "stdout",
     "output_type": "stream",
     "text": [
      "tensor([[0.9928]], device='cuda:0', grad_fn=<SigmoidBackward>)\n",
      "Handnet forward time: 0.0075991153717041016\n",
      "Handsegnet forward time: 0.0009479522705078125\n",
      "s shape torch.Size([1, 2, 224, 224])\n",
      "for loop time 0.003045320510864258\n",
      "hand mask sum: 2209.0\n",
      "Calculate single highest scoring object time: 0.028155088424682617\n",
      "Crop and resize time: 0.0009448528289794922\n",
      "Posenet forward time: 0.0019915103912353516\n",
      "Posepriornet forward time: 0.0007336139678955078\n",
      "Viewpoint forward time: 0.000965118408203125\n",
      "Get normalized 3d coordinates time: 0.0006082057952880859\n",
      "Flip left handed input time: 0.00014472007751464844\n",
      "ScaLe heatmaps time 0.00010514259338378906\n",
      "Time for processing 1 frame: 0.04284334182739258s\n",
      "tensor([[0.9932]], device='cuda:0', grad_fn=<SigmoidBackward>)\n",
      "Handnet forward time: 0.007567882537841797\n",
      "Handsegnet forward time: 0.0009882450103759766\n",
      "s shape torch.Size([1, 2, 224, 224])\n",
      "for loop time 0.003021240234375\n",
      "hand mask sum: 2225.0\n",
      "Calculate single highest scoring object time: 0.030476093292236328\n",
      "Crop and resize time: 0.00098419189453125\n",
      "Posenet forward time: 0.002076387405395508\n",
      "Posepriornet forward time: 0.0007731914520263672\n"
     ]
    },
    {
     "name": "stderr",
     "output_type": "stream",
     "text": [
      "\r",
      "418it [01:12,  5.62it/s]"
     ]
    },
    {
     "name": "stdout",
     "output_type": "stream",
     "text": [
      "Viewpoint forward time: 0.001589059829711914\n",
      "Get normalized 3d coordinates time: 0.0008192062377929688\n",
      "Flip left handed input time: 0.00014781951904296875\n",
      "ScaLe heatmaps time 0.0001087188720703125\n",
      "Time for processing 1 frame: 0.046236276626586914s\n",
      "tensor([[0.9921]], device='cuda:0', grad_fn=<SigmoidBackward>)\n",
      "Handnet forward time: 0.007581472396850586\n",
      "Handsegnet forward time: 0.0009970664978027344\n",
      "s shape torch.Size([1, 2, 224, 224])\n",
      "for loop time 0.002984285354614258\n",
      "hand mask sum: 2207.0\n",
      "Calculate single highest scoring object time: 0.030847787857055664\n",
      "Crop and resize time: 0.0009698867797851562\n",
      "Posenet forward time: 0.001962423324584961\n",
      "Posepriornet forward time: 0.0007150173187255859\n",
      "Viewpoint forward time: 0.0010900497436523438\n",
      "Get normalized 3d coordinates time: 0.0009145736694335938\n",
      "Flip left handed input time: 0.00015783309936523438\n",
      "ScaLe heatmaps time 9.822845458984375e-05\n",
      "Time for processing 1 frame: 0.046113014221191406s\n"
     ]
    },
    {
     "name": "stderr",
     "output_type": "stream",
     "text": [
      "420it [01:12,  5.62it/s]"
     ]
    },
    {
     "name": "stdout",
     "output_type": "stream",
     "text": [
      "tensor([[0.9909]], device='cuda:0', grad_fn=<SigmoidBackward>)\n",
      "Handnet forward time: 0.008801460266113281\n",
      "Handsegnet forward time: 0.0010037422180175781\n",
      "s shape torch.Size([1, 2, 224, 224])\n",
      "for loop time 0.002994537353515625\n",
      "hand mask sum: 2203.0\n",
      "Calculate single highest scoring object time: 0.03222513198852539\n",
      "Crop and resize time: 0.0009667873382568359\n",
      "Posenet forward time: 0.001990795135498047\n",
      "Posepriornet forward time: 0.0007467269897460938\n",
      "Viewpoint forward time: 0.0009438991546630859\n",
      "Get normalized 3d coordinates time: 0.0005855560302734375\n",
      "Flip left handed input time: 0.00011968612670898438\n",
      "ScaLe heatmaps time 9.131431579589844e-05\n",
      "Time for processing 1 frame: 0.04816246032714844s\n",
      "tensor([[0.9921]], device='cuda:0', grad_fn=<SigmoidBackward>)\n",
      "Handnet forward time: 0.009279012680053711\n",
      "Handsegnet forward time: 0.0010228157043457031\n"
     ]
    },
    {
     "name": "stderr",
     "output_type": "stream",
     "text": [
      "\r",
      "421it [01:12,  5.52it/s]"
     ]
    },
    {
     "name": "stdout",
     "output_type": "stream",
     "text": [
      "s shape torch.Size([1, 2, 224, 224])\n",
      "for loop time 0.004045248031616211\n",
      "hand mask sum: 2209.0\n",
      "Calculate single highest scoring object time: 0.032036781311035156\n",
      "Crop and resize time: 0.001459360122680664\n",
      "Posenet forward time: 0.0020699501037597656\n",
      "Posepriornet forward time: 0.0007333755493164062\n",
      "Viewpoint forward time: 0.0012121200561523438\n",
      "Get normalized 3d coordinates time: 0.0007326602935791016\n",
      "Flip left handed input time: 0.00013208389282226562\n",
      "ScaLe heatmaps time 9.560585021972656e-05\n",
      "Time for processing 1 frame: 0.04947018623352051s\n",
      "tensor([[0.9908]], device='cuda:0', grad_fn=<SigmoidBackward>)\n",
      "Handnet forward time: 0.00830078125\n",
      "Handsegnet forward time: 0.0010077953338623047\n",
      "s shape torch.Size([1, 2, 224, 224])\n",
      "for loop time 0.003034353256225586\n",
      "hand mask sum: 2201.0\n",
      "Calculate single highest scoring object time: 0.031655073165893555\n",
      "Crop and resize time: 0.0009872913360595703\n",
      "Posenet forward time: 0.0020117759704589844\n",
      "Posepriornet forward time: 0.0007216930389404297\n",
      "Viewpoint forward time: 0.0009450912475585938\n",
      "Get normalized 3d coordinates time: 0.0006089210510253906\n",
      "Flip left handed input time: 0.0001327991485595703\n",
      "ScaLe heatmaps time 9.012222290039062e-05\n",
      "Time for processing 1 frame: 0.047086477279663086s\n"
     ]
    },
    {
     "name": "stderr",
     "output_type": "stream",
     "text": [
      "423it [01:12,  5.56it/s]"
     ]
    },
    {
     "name": "stdout",
     "output_type": "stream",
     "text": [
      "tensor([[0.9922]], device='cuda:0', grad_fn=<SigmoidBackward>)\n",
      "Handnet forward time: 0.009225130081176758\n",
      "Handsegnet forward time: 0.00102996826171875\n",
      "s shape torch.Size([1, 2, 224, 224])\n",
      "for loop time 0.003060579299926758\n",
      "hand mask sum: 2208.0\n",
      "Calculate single highest scoring object time: 0.03169441223144531\n",
      "Crop and resize time: 0.0009801387786865234\n",
      "Posenet forward time: 0.0020132064819335938\n",
      "Posepriornet forward time: 0.0007274150848388672\n",
      "Viewpoint forward time: 0.0009558200836181641\n",
      "Get normalized 3d coordinates time: 0.0005877017974853516\n",
      "Flip left handed input time: 0.00012254714965820312\n",
      "ScaLe heatmaps time 9.202957153320312e-05\n",
      "Time for processing 1 frame: 0.04810667037963867s\n",
      "tensor([[0.9933]], device='cuda:0', grad_fn=<SigmoidBackward>)\n",
      "Handnet forward time: 0.008861780166625977\n",
      "Handsegnet forward time: 0.00128173828125\n"
     ]
    },
    {
     "name": "stderr",
     "output_type": "stream",
     "text": [
      "\r",
      "424it [01:13,  5.60it/s]"
     ]
    },
    {
     "name": "stdout",
     "output_type": "stream",
     "text": [
      "s shape torch.Size([1, 2, 224, 224])\n",
      "for loop time 0.004027843475341797\n",
      "hand mask sum: 2206.0\n",
      "Calculate single highest scoring object time: 0.03061389923095703\n",
      "Crop and resize time: 0.0013964176177978516\n",
      "Posenet forward time: 0.0025725364685058594\n",
      "Posepriornet forward time: 0.0010051727294921875\n",
      "Viewpoint forward time: 0.0011677742004394531\n",
      "Get normalized 3d coordinates time: 0.0007717609405517578\n",
      "Flip left handed input time: 0.00018143653869628906\n",
      "ScaLe heatmaps time 0.00011181831359863281\n",
      "Time for processing 1 frame: 0.04872441291809082s\n",
      "tensor([[0.9927]], device='cuda:0', grad_fn=<SigmoidBackward>)\n",
      "Handnet forward time: 0.008537530899047852\n",
      "Handsegnet forward time: 0.0010519027709960938\n",
      "s shape torch.Size([1, 2, 224, 224])\n",
      "for loop time 0.0030269622802734375\n",
      "hand mask sum: 2199.0\n",
      "Calculate single highest scoring object time: 0.031424522399902344\n",
      "Crop and resize time: 0.0009832382202148438\n",
      "Posenet forward time: 0.0020356178283691406\n",
      "Posepriornet forward time: 0.0007622241973876953\n",
      "Viewpoint forward time: 0.0009927749633789062\n",
      "Get normalized 3d coordinates time: 0.0006153583526611328\n",
      "Flip left handed input time: 0.0001461505889892578\n",
      "ScaLe heatmaps time 0.00010371208190917969\n",
      "Time for processing 1 frame: 0.04732108116149902s\n"
     ]
    },
    {
     "name": "stderr",
     "output_type": "stream",
     "text": [
      "426it [01:13,  5.70it/s]"
     ]
    },
    {
     "name": "stdout",
     "output_type": "stream",
     "text": [
      "tensor([[0.9929]], device='cuda:0', grad_fn=<SigmoidBackward>)\n",
      "Handnet forward time: 0.0075931549072265625\n",
      "Handsegnet forward time: 0.0010790824890136719\n",
      "s shape torch.Size([1, 2, 224, 224])\n",
      "for loop time 0.0030324459075927734\n",
      "hand mask sum: 2207.0\n",
      "Calculate single highest scoring object time: 0.029168128967285156\n",
      "Crop and resize time: 0.0009891986846923828\n",
      "Posenet forward time: 0.002053499221801758\n",
      "Posepriornet forward time: 0.000789642333984375\n",
      "Viewpoint forward time: 0.0010404586791992188\n",
      "Get normalized 3d coordinates time: 0.0006642341613769531\n",
      "Flip left handed input time: 0.00015091896057128906\n",
      "ScaLe heatmaps time 0.00010848045349121094\n",
      "Time for processing 1 frame: 0.04432058334350586s\n",
      "tensor([[0.9924]], device='cuda:0', grad_fn=<SigmoidBackward>)\n",
      "Handnet forward time: 0.0077037811279296875\n",
      "Handsegnet forward time: 0.0014519691467285156\n",
      "s shape torch.Size([1, 2, 224, 224])\n"
     ]
    },
    {
     "name": "stderr",
     "output_type": "stream",
     "text": [
      "\r",
      "427it [01:13,  5.74it/s]"
     ]
    },
    {
     "name": "stdout",
     "output_type": "stream",
     "text": [
      "for loop time 0.003789186477661133\n",
      "hand mask sum: 2191.0\n",
      "Calculate single highest scoring object time: 0.030570507049560547\n",
      "Crop and resize time: 0.0010111331939697266\n",
      "Posenet forward time: 0.0020301342010498047\n",
      "Posepriornet forward time: 0.0007309913635253906\n",
      "Viewpoint forward time: 0.0009570121765136719\n",
      "Get normalized 3d coordinates time: 0.0005917549133300781\n",
      "Flip left handed input time: 0.00012183189392089844\n",
      "ScaLe heatmaps time 9.274482727050781e-05\n",
      "Time for processing 1 frame: 0.04590725898742676s\n",
      "tensor([[0.9819]], device='cuda:0', grad_fn=<SigmoidBackward>)\n",
      "Handnet forward time: 0.007651090621948242\n",
      "Handsegnet forward time: 0.0009691715240478516\n",
      "s shape torch.Size([1, 2, 224, 224])\n",
      "for loop time 0.003081798553466797\n",
      "hand mask sum: 2205.0\n",
      "Calculate single highest scoring object time: 0.030220746994018555\n",
      "Crop and resize time: 0.0009748935699462891\n",
      "Posenet forward time: 0.002035379409790039\n",
      "Posepriornet forward time: 0.0007374286651611328\n",
      "Viewpoint forward time: 0.0009584426879882812\n",
      "Get normalized 3d coordinates time: 0.0006213188171386719\n",
      "Flip left handed input time: 0.0001347064971923828\n",
      "ScaLe heatmaps time 9.274482727050781e-05\n",
      "Time for processing 1 frame: 0.04499077796936035s\n"
     ]
    },
    {
     "name": "stderr",
     "output_type": "stream",
     "text": [
      "429it [01:13,  5.79it/s]"
     ]
    },
    {
     "name": "stdout",
     "output_type": "stream",
     "text": [
      "tensor([[0.9929]], device='cuda:0', grad_fn=<SigmoidBackward>)\n",
      "Handnet forward time: 0.007742643356323242\n",
      "Handsegnet forward time: 0.0012669563293457031\n",
      "s shape torch.Size([1, 2, 224, 224])\n",
      "for loop time 0.003016233444213867\n",
      "hand mask sum: 2277.0\n",
      "Calculate single highest scoring object time: 0.03037238121032715\n",
      "Crop and resize time: 0.0009789466857910156\n",
      "Posenet forward time: 0.0020294189453125\n",
      "Posepriornet forward time: 0.0007276535034179688\n",
      "Viewpoint forward time: 0.00096893310546875\n",
      "Get normalized 3d coordinates time: 0.0006034374237060547\n",
      "Flip left handed input time: 0.0001227855682373047\n",
      "ScaLe heatmaps time 9.393692016601562e-05\n",
      "Time for processing 1 frame: 0.04538989067077637s\n",
      "tensor([[0.9983]], device='cuda:0', grad_fn=<SigmoidBackward>)\n",
      "Handnet forward time: 0.007631063461303711\n",
      "Handsegnet forward time: 0.00103759765625\n",
      "s shape torch.Size([1, 2, 224, 224])\n"
     ]
    },
    {
     "name": "stderr",
     "output_type": "stream",
     "text": [
      "\r",
      "430it [01:14,  5.78it/s]"
     ]
    },
    {
     "name": "stdout",
     "output_type": "stream",
     "text": [
      "for loop time 0.003994464874267578\n",
      "hand mask sum: 2328.0\n",
      "Calculate single highest scoring object time: 0.03116607666015625\n",
      "Crop and resize time: 0.0010480880737304688\n",
      "Posenet forward time: 0.002141714096069336\n",
      "Posepriornet forward time: 0.0008287429809570312\n",
      "Viewpoint forward time: 0.0010104179382324219\n",
      "Get normalized 3d coordinates time: 0.0006575584411621094\n",
      "Flip left handed input time: 0.0001327991485595703\n",
      "ScaLe heatmaps time 9.059906005859375e-05\n",
      "Time for processing 1 frame: 0.04639863967895508s\n",
      "tensor([[0.9996]], device='cuda:0', grad_fn=<SigmoidBackward>)\n",
      "Handnet forward time: 0.0076274871826171875\n",
      "Handsegnet forward time: 0.0009725093841552734\n",
      "s shape torch.Size([1, 2, 224, 224])\n",
      "for loop time 0.003035306930541992\n",
      "hand mask sum: 2342.0\n",
      "Calculate single highest scoring object time: 0.029548168182373047\n",
      "Crop and resize time: 0.000986337661743164\n",
      "Posenet forward time: 0.002050638198852539\n",
      "Posepriornet forward time: 0.0007548332214355469\n",
      "Viewpoint forward time: 0.0009744167327880859\n",
      "Get normalized 3d coordinates time: 0.0005927085876464844\n",
      "Flip left handed input time: 0.00012087821960449219\n",
      "ScaLe heatmaps time 8.940696716308594e-05\n",
      "Time for processing 1 frame: 0.04431033134460449s\n"
     ]
    },
    {
     "name": "stderr",
     "output_type": "stream",
     "text": [
      "432it [01:14,  5.79it/s]"
     ]
    },
    {
     "name": "stdout",
     "output_type": "stream",
     "text": [
      "tensor([[0.9998]], device='cuda:0', grad_fn=<SigmoidBackward>)\n",
      "Handnet forward time: 0.007561206817626953\n",
      "Handsegnet forward time: 0.0009806156158447266\n",
      "s shape torch.Size([1, 2, 224, 224])\n",
      "for loop time 0.0030243396759033203\n",
      "hand mask sum: 2350.0\n",
      "Calculate single highest scoring object time: 0.030143022537231445\n",
      "Crop and resize time: 0.0009751319885253906\n",
      "Posenet forward time: 0.0020170211791992188\n",
      "Posepriornet forward time: 0.0007147789001464844\n",
      "Viewpoint forward time: 0.0009765625\n",
      "Get normalized 3d coordinates time: 0.0005924701690673828\n",
      "Flip left handed input time: 0.0001628398895263672\n",
      "ScaLe heatmaps time 0.0001049041748046875\n",
      "Time for processing 1 frame: 0.04490399360656738s\n",
      "tensor([[0.9998]], device='cuda:0', grad_fn=<SigmoidBackward>)\n",
      "Handnet forward time: 0.007704257965087891\n",
      "Handsegnet forward time: 0.001577615737915039\n",
      "s shape torch.Size([1, 2, 224, 224])\n"
     ]
    },
    {
     "name": "stderr",
     "output_type": "stream",
     "text": [
      "\r",
      "433it [01:14,  5.78it/s]"
     ]
    },
    {
     "name": "stdout",
     "output_type": "stream",
     "text": [
      "for loop time 0.004112720489501953\n",
      "hand mask sum: 2334.0\n",
      "Calculate single highest scoring object time: 0.030807971954345703\n",
      "Crop and resize time: 0.0013339519500732422\n",
      "Posenet forward time: 0.0031921863555908203\n",
      "Posepriornet forward time: 0.0009100437164306641\n",
      "Viewpoint forward time: 0.0010063648223876953\n",
      "Get normalized 3d coordinates time: 0.0006322860717773438\n",
      "Flip left handed input time: 0.00012612342834472656\n",
      "ScaLe heatmaps time 9.274482727050781e-05\n",
      "Time for processing 1 frame: 0.04812288284301758s\n",
      "tensor([[0.9998]], device='cuda:0', grad_fn=<SigmoidBackward>)\n",
      "Handnet forward time: 0.007562160491943359\n",
      "Handsegnet forward time: 0.0009860992431640625\n",
      "s shape torch.Size([1, 2, 224, 224])\n",
      "for loop time 0.0030019283294677734\n",
      "hand mask sum: 2351.0\n",
      "Calculate single highest scoring object time: 0.029253482818603516\n",
      "Crop and resize time: 0.0009739398956298828\n",
      "Posenet forward time: 0.002032041549682617\n",
      "Posepriornet forward time: 0.0007326602935791016\n",
      "Viewpoint forward time: 0.001009225845336914\n",
      "Get normalized 3d coordinates time: 0.0005879402160644531\n",
      "Flip left handed input time: 0.00012063980102539062\n",
      "ScaLe heatmaps time 8.58306884765625e-05\n",
      "Time for processing 1 frame: 0.043926239013671875s\n"
     ]
    },
    {
     "name": "stderr",
     "output_type": "stream",
     "text": [
      "435it [01:15,  5.55it/s]"
     ]
    },
    {
     "name": "stdout",
     "output_type": "stream",
     "text": [
      "tensor([[0.9997]], device='cuda:0', grad_fn=<SigmoidBackward>)\n",
      "Handnet forward time: 0.00778961181640625\n",
      "Handsegnet forward time: 0.0013151168823242188\n",
      "s shape torch.Size([1, 2, 224, 224])\n",
      "for loop time 0.003304719924926758\n",
      "hand mask sum: 2322.0\n",
      "Calculate single highest scoring object time: 0.03000617027282715\n",
      "Crop and resize time: 0.0009913444519042969\n",
      "Posenet forward time: 0.0019953250885009766\n",
      "Posepriornet forward time: 0.0007326602935791016\n",
      "Viewpoint forward time: 0.0009551048278808594\n",
      "Get normalized 3d coordinates time: 0.0008301734924316406\n",
      "Flip left handed input time: 0.00017952919006347656\n",
      "ScaLe heatmaps time 0.0001289844512939453\n",
      "Time for processing 1 frame: 0.04571223258972168s\n",
      "tensor([[0.9998]], device='cuda:0', grad_fn=<SigmoidBackward>)\n",
      "Handnet forward time: 0.007566690444946289\n",
      "Handsegnet forward time: 0.0011501312255859375\n"
     ]
    },
    {
     "name": "stderr",
     "output_type": "stream",
     "text": [
      "\r",
      "436it [01:15,  5.46it/s]"
     ]
    },
    {
     "name": "stdout",
     "output_type": "stream",
     "text": [
      "s shape torch.Size([1, 2, 224, 224])\n",
      "for loop time 0.003984928131103516\n",
      "hand mask sum: 2322.0\n",
      "Calculate single highest scoring object time: 0.032309770584106445\n",
      "Crop and resize time: 0.001676321029663086\n",
      "Posenet forward time: 0.002450704574584961\n",
      "Posepriornet forward time: 0.0009036064147949219\n",
      "Viewpoint forward time: 0.0011701583862304688\n",
      "Get normalized 3d coordinates time: 0.0007791519165039062\n",
      "Flip left handed input time: 0.00015425682067871094\n",
      "ScaLe heatmaps time 0.00010347366333007812\n",
      "Time for processing 1 frame: 0.04894852638244629s\n",
      "tensor([[0.9998]], device='cuda:0', grad_fn=<SigmoidBackward>)\n",
      "Handnet forward time: 0.007585287094116211\n",
      "Handsegnet forward time: 0.0010366439819335938\n",
      "s shape torch.Size([1, 2, 224, 224])\n",
      "for loop time 0.003023386001586914\n",
      "hand mask sum: 2311.0\n",
      "Calculate single highest scoring object time: 0.02984309196472168\n",
      "Crop and resize time: 0.0012688636779785156\n",
      "Posenet forward time: 0.0019698143005371094\n",
      "Posepriornet forward time: 0.0007503032684326172\n",
      "Viewpoint forward time: 0.0009441375732421875\n",
      "Get normalized 3d coordinates time: 0.0005900859832763672\n",
      "Flip left handed input time: 0.00012445449829101562\n",
      "ScaLe heatmaps time 9.083747863769531e-05\n",
      "Time for processing 1 frame: 0.04473590850830078s\n"
     ]
    },
    {
     "name": "stderr",
     "output_type": "stream",
     "text": [
      "438it [01:15,  5.65it/s]"
     ]
    },
    {
     "name": "stdout",
     "output_type": "stream",
     "text": [
      "tensor([[0.9999]], device='cuda:0', grad_fn=<SigmoidBackward>)\n",
      "Handnet forward time: 0.007569789886474609\n",
      "Handsegnet forward time: 0.0009508132934570312\n",
      "s shape torch.Size([1, 2, 224, 224])\n",
      "for loop time 0.003040313720703125\n",
      "hand mask sum: 2329.0\n",
      "Calculate single highest scoring object time: 0.029657602310180664\n",
      "Crop and resize time: 0.0009615421295166016\n",
      "Posenet forward time: 0.001975536346435547\n",
      "Posepriornet forward time: 0.0007216930389404297\n",
      "Viewpoint forward time: 0.0009372234344482422\n",
      "Get normalized 3d coordinates time: 0.00058746337890625\n",
      "Flip left handed input time: 0.00012373924255371094\n",
      "ScaLe heatmaps time 3.600120544433594e-05\n",
      "Time for processing 1 frame: 0.044126272201538086s\n",
      "tensor([[0.9998]], device='cuda:0', grad_fn=<SigmoidBackward>)\n",
      "Handnet forward time: 0.007563352584838867\n",
      "Handsegnet forward time: 0.0010204315185546875\n",
      "s shape torch.Size([1, 2, 224, 224])\n",
      "for loop time 0.002992868423461914\n"
     ]
    },
    {
     "name": "stderr",
     "output_type": "stream",
     "text": [
      "\r",
      "439it [01:15,  5.69it/s]"
     ]
    },
    {
     "name": "stdout",
     "output_type": "stream",
     "text": [
      "hand mask sum: 2349.0\n",
      "Calculate single highest scoring object time: 0.030521869659423828\n",
      "Crop and resize time: 0.001009225845336914\n",
      "Posenet forward time: 0.0020220279693603516\n",
      "Posepriornet forward time: 0.0007193088531494141\n",
      "Viewpoint forward time: 0.0009808540344238281\n",
      "Get normalized 3d coordinates time: 0.0005958080291748047\n",
      "Flip left handed input time: 0.00012111663818359375\n",
      "ScaLe heatmaps time 8.96453857421875e-05\n",
      "Time for processing 1 frame: 0.045136451721191406s\n",
      "tensor([[0.9998]], device='cuda:0', grad_fn=<SigmoidBackward>)\n",
      "Handnet forward time: 0.007569551467895508\n",
      "Handsegnet forward time: 0.001012563705444336\n",
      "s shape torch.Size([1, 2, 224, 224])\n",
      "for loop time 0.0032727718353271484\n",
      "hand mask sum: 2352.0\n",
      "Calculate single highest scoring object time: 0.030538320541381836\n",
      "Crop and resize time: 0.0011782646179199219\n",
      "Posenet forward time: 0.0024695396423339844\n",
      "Posepriornet forward time: 0.0008437633514404297\n",
      "Viewpoint forward time: 0.001116037368774414\n",
      "Get normalized 3d coordinates time: 0.0007143020629882812\n",
      "Flip left handed input time: 0.00013208389282226562\n",
      "ScaLe heatmaps time 9.417533874511719e-05\n",
      "Time for processing 1 frame: 0.04635119438171387s\n"
     ]
    },
    {
     "name": "stderr",
     "output_type": "stream",
     "text": [
      "441it [01:16,  5.74it/s]"
     ]
    },
    {
     "name": "stdout",
     "output_type": "stream",
     "text": [
      "tensor([[0.9998]], device='cuda:0', grad_fn=<SigmoidBackward>)\n",
      "Handnet forward time: 0.007599353790283203\n",
      "Handsegnet forward time: 0.0009469985961914062\n",
      "s shape torch.Size([1, 2, 224, 224])\n",
      "for loop time 0.003154754638671875\n",
      "hand mask sum: 2345.0\n",
      "Calculate single highest scoring object time: 0.029703140258789062\n",
      "Crop and resize time: 0.0009872913360595703\n",
      "Posenet forward time: 0.0019812583923339844\n",
      "Posepriornet forward time: 0.0007116794586181641\n",
      "Viewpoint forward time: 0.000926971435546875\n",
      "Get normalized 3d coordinates time: 0.0005791187286376953\n",
      "Flip left handed input time: 0.00011682510375976562\n",
      "ScaLe heatmaps time 8.869171142578125e-05\n",
      "Time for processing 1 frame: 0.04425477981567383s\n",
      "tensor([[0.9998]], device='cuda:0', grad_fn=<SigmoidBackward>)\n",
      "Handnet forward time: 0.007564067840576172\n",
      "Handsegnet forward time: 0.0009469985961914062\n",
      "s shape torch.Size([1, 2, 224, 224])\n"
     ]
    },
    {
     "name": "stderr",
     "output_type": "stream",
     "text": [
      "\r",
      "442it [01:16,  5.75it/s]"
     ]
    },
    {
     "name": "stdout",
     "output_type": "stream",
     "text": [
      "for loop time 0.00302886962890625\n",
      "hand mask sum: 2329.0\n",
      "Calculate single highest scoring object time: 0.030577421188354492\n",
      "Crop and resize time: 0.0010149478912353516\n",
      "Posenet forward time: 0.001993417739868164\n",
      "Posepriornet forward time: 0.000720977783203125\n",
      "Viewpoint forward time: 0.0009779930114746094\n",
      "Get normalized 3d coordinates time: 0.0006313323974609375\n",
      "Flip left handed input time: 7.43865966796875e-05\n",
      "ScaLe heatmaps time 4.029273986816406e-05\n",
      "Time for processing 1 frame: 0.04525113105773926s\n",
      "tensor([[0.9997]], device='cuda:0', grad_fn=<SigmoidBackward>)\n",
      "Handnet forward time: 0.0076274871826171875\n",
      "Handsegnet forward time: 0.0011641979217529297\n",
      "s shape torch.Size([1, 2, 224, 224])\n",
      "for loop time 0.003667116165161133\n",
      "hand mask sum: 2313.0\n",
      "Calculate single highest scoring object time: 0.03007674217224121\n",
      "Crop and resize time: 0.0009622573852539062\n",
      "Posenet forward time: 0.0019609928131103516\n",
      "Posepriornet forward time: 0.0007100105285644531\n",
      "Viewpoint forward time: 0.0009276866912841797\n",
      "Get normalized 3d coordinates time: 0.0005774497985839844\n",
      "Flip left handed input time: 0.0001201629638671875\n",
      "ScaLe heatmaps time 8.96453857421875e-05\n",
      "Time for processing 1 frame: 0.04482579231262207s\n"
     ]
    },
    {
     "name": "stderr",
     "output_type": "stream",
     "text": [
      "444it [01:16,  5.80it/s]"
     ]
    },
    {
     "name": "stdout",
     "output_type": "stream",
     "text": [
      "tensor([[0.9997]], device='cuda:0', grad_fn=<SigmoidBackward>)\n",
      "Handnet forward time: 0.007567644119262695\n",
      "Handsegnet forward time: 0.00093841552734375\n",
      "s shape torch.Size([1, 2, 224, 224])\n",
      "for loop time 0.002969980239868164\n",
      "hand mask sum: 2310.0\n",
      "Calculate single highest scoring object time: 0.030408382415771484\n",
      "Crop and resize time: 0.0009577274322509766\n",
      "Posenet forward time: 0.001971721649169922\n",
      "Posepriornet forward time: 0.0007567405700683594\n",
      "Viewpoint forward time: 0.0009322166442871094\n",
      "Get normalized 3d coordinates time: 0.0005774497985839844\n",
      "Flip left handed input time: 0.00012087821960449219\n",
      "ScaLe heatmaps time 8.58306884765625e-05\n",
      "Time for processing 1 frame: 0.04493069648742676s\n",
      "tensor([[0.9998]], device='cuda:0', grad_fn=<SigmoidBackward>)\n",
      "Handnet forward time: 0.007565975189208984\n",
      "Handsegnet forward time: 0.0009918212890625\n",
      "s shape torch.Size([1, 2, 224, 224])\n",
      "for loop time 0.0029592514038085938\n"
     ]
    },
    {
     "name": "stderr",
     "output_type": "stream",
     "text": [
      "\r",
      "445it [01:16,  5.80it/s]"
     ]
    },
    {
     "name": "stdout",
     "output_type": "stream",
     "text": [
      "hand mask sum: 2310.0\n",
      "Calculate single highest scoring object time: 0.0301511287689209\n",
      "Crop and resize time: 0.0010361671447753906\n",
      "Posenet forward time: 0.002085447311401367\n",
      "Posepriornet forward time: 0.0007443428039550781\n",
      "Viewpoint forward time: 0.0009634494781494141\n",
      "Get normalized 3d coordinates time: 0.0006163120269775391\n",
      "Flip left handed input time: 0.00014448165893554688\n",
      "ScaLe heatmaps time 0.00010228157043457031\n",
      "Time for processing 1 frame: 0.044936418533325195s\n",
      "tensor([[0.9997]], device='cuda:0', grad_fn=<SigmoidBackward>)\n",
      "Handnet forward time: 0.007727146148681641\n",
      "Handsegnet forward time: 0.0013582706451416016\n",
      "s shape torch.Size([1, 2, 224, 224])\n",
      "for loop time 0.0033447742462158203\n",
      "hand mask sum: 2302.0\n",
      "Calculate single highest scoring object time: 0.029796361923217773\n",
      "Crop and resize time: 0.0009694099426269531\n",
      "Posenet forward time: 0.001990795135498047\n",
      "Posepriornet forward time: 0.0007472038269042969\n",
      "Viewpoint forward time: 0.0009713172912597656\n",
      "Get normalized 3d coordinates time: 0.0006058216094970703\n",
      "Flip left handed input time: 0.0001513957977294922\n",
      "ScaLe heatmaps time 0.00010251998901367188\n",
      "Time for processing 1 frame: 0.0450129508972168s\n"
     ]
    },
    {
     "name": "stderr",
     "output_type": "stream",
     "text": [
      "447it [01:17,  5.71it/s]"
     ]
    },
    {
     "name": "stdout",
     "output_type": "stream",
     "text": [
      "tensor([[0.9995]], device='cuda:0', grad_fn=<SigmoidBackward>)\n",
      "Handnet forward time: 0.008637666702270508\n",
      "Handsegnet forward time: 0.001306295394897461\n",
      "s shape torch.Size([1, 2, 224, 224])\n",
      "for loop time 0.0032625198364257812\n",
      "hand mask sum: 2323.0\n",
      "Calculate single highest scoring object time: 0.03164267539978027\n",
      "Crop and resize time: 0.0011630058288574219\n",
      "Posenet forward time: 0.0024983882904052734\n",
      "Posepriornet forward time: 0.0008788108825683594\n",
      "Viewpoint forward time: 0.0011606216430664062\n",
      "Get normalized 3d coordinates time: 0.0007443428039550781\n",
      "Flip left handed input time: 0.00014209747314453125\n",
      "ScaLe heatmaps time 0.00010657310485839844\n",
      "Time for processing 1 frame: 0.04904031753540039s\n",
      "tensor([[0.9993]], device='cuda:0', grad_fn=<SigmoidBackward>)\n",
      "Handnet forward time: 0.008792638778686523\n",
      "Handsegnet forward time: 0.0010030269622802734\n"
     ]
    },
    {
     "name": "stderr",
     "output_type": "stream",
     "text": [
      "\r",
      "448it [01:17,  5.75it/s]"
     ]
    },
    {
     "name": "stdout",
     "output_type": "stream",
     "text": [
      "s shape torch.Size([1, 2, 224, 224])\n",
      "for loop time 0.003291606903076172\n",
      "hand mask sum: 2324.0\n",
      "Calculate single highest scoring object time: 0.029237985610961914\n",
      "Crop and resize time: 0.0009646415710449219\n",
      "Posenet forward time: 0.0019941329956054688\n",
      "Posepriornet forward time: 0.0007429122924804688\n",
      "Viewpoint forward time: 0.0009596347808837891\n",
      "Get normalized 3d coordinates time: 0.0006022453308105469\n",
      "Flip left handed input time: 0.00014972686767578125\n",
      "ScaLe heatmaps time 0.00010275840759277344\n",
      "Time for processing 1 frame: 0.04518866539001465s\n",
      "tensor([[0.9986]], device='cuda:0', grad_fn=<SigmoidBackward>)\n",
      "Handnet forward time: 0.007587432861328125\n",
      "Handsegnet forward time: 0.0009398460388183594\n",
      "s shape torch.Size([1, 2, 224, 224])\n",
      "for loop time 0.0030014514923095703\n",
      "hand mask sum: 2347.0\n",
      "Calculate single highest scoring object time: 0.028209209442138672\n",
      "Crop and resize time: 0.0009577274322509766\n",
      "Posenet forward time: 0.0019729137420654297\n",
      "Posepriornet forward time: 0.0007369518280029297\n",
      "Viewpoint forward time: 0.0009508132934570312\n",
      "Get normalized 3d coordinates time: 0.0006055831909179688\n",
      "Flip left handed input time: 0.0001506805419921875\n",
      "ScaLe heatmaps time 0.00010085105895996094\n",
      "Time for processing 1 frame: 0.04288172721862793s\n"
     ]
    },
    {
     "name": "stderr",
     "output_type": "stream",
     "text": [
      "450it [01:17,  5.72it/s]"
     ]
    },
    {
     "name": "stdout",
     "output_type": "stream",
     "text": [
      "tensor([[0.9979]], device='cuda:0', grad_fn=<SigmoidBackward>)\n",
      "Handnet forward time: 0.007586956024169922\n",
      "Handsegnet forward time: 0.0010013580322265625\n",
      "s shape torch.Size([1, 2, 224, 224])\n",
      "for loop time 0.003681182861328125\n",
      "hand mask sum: 2401.0\n",
      "Calculate single highest scoring object time: 0.03247237205505371\n",
      "Crop and resize time: 0.0009698867797851562\n",
      "Posenet forward time: 0.00197601318359375\n",
      "Posepriornet forward time: 0.0010292530059814453\n",
      "Viewpoint forward time: 0.0010540485382080078\n",
      "Get normalized 3d coordinates time: 0.0006105899810791016\n",
      "Flip left handed input time: 0.00011992454528808594\n",
      "ScaLe heatmaps time 9.036064147949219e-05\n",
      "Time for processing 1 frame: 0.04758286476135254s\n",
      "tensor([[0.9987]], device='cuda:0', grad_fn=<SigmoidBackward>)\n",
      "Handnet forward time: 0.007590293884277344\n",
      "Handsegnet forward time: 0.0009489059448242188\n"
     ]
    },
    {
     "name": "stderr",
     "output_type": "stream",
     "text": [
      "\r",
      "451it [01:17,  5.78it/s]"
     ]
    },
    {
     "name": "stdout",
     "output_type": "stream",
     "text": [
      "s shape torch.Size([1, 2, 224, 224])\n",
      "for loop time 0.0029633045196533203\n",
      "hand mask sum: 2469.0\n",
      "Calculate single highest scoring object time: 0.030417203903198242\n",
      "Crop and resize time: 0.0009436607360839844\n",
      "Posenet forward time: 0.001947641372680664\n",
      "Posepriornet forward time: 0.0006976127624511719\n",
      "Viewpoint forward time: 0.0009267330169677734\n",
      "Get normalized 3d coordinates time: 0.0005862712860107422\n",
      "Flip left handed input time: 0.00012159347534179688\n",
      "ScaLe heatmaps time 8.702278137207031e-05\n",
      "Time for processing 1 frame: 0.044844627380371094s\n",
      "tensor([[0.9995]], device='cuda:0', grad_fn=<SigmoidBackward>)\n",
      "Handnet forward time: 0.00751185417175293\n",
      "Handsegnet forward time: 0.0009338855743408203\n",
      "s shape torch.Size([1, 2, 224, 224])\n",
      "for loop time 0.002994060516357422\n",
      "hand mask sum: 2544.0\n",
      "Calculate single highest scoring object time: 0.02788829803466797\n",
      "Crop and resize time: 0.0009226799011230469\n",
      "Posenet forward time: 0.0019257068634033203\n",
      "Posepriornet forward time: 0.0006964206695556641\n",
      "Viewpoint forward time: 0.0009286403656005859\n",
      "Get normalized 3d coordinates time: 0.0005729198455810547\n",
      "Flip left handed input time: 0.00011897087097167969\n",
      "ScaLe heatmaps time 8.225440979003906e-05\n",
      "Time for processing 1 frame: 0.04213762283325195s\n"
     ]
    },
    {
     "name": "stderr",
     "output_type": "stream",
     "text": [
      "453it [01:18,  5.76it/s]"
     ]
    },
    {
     "name": "stdout",
     "output_type": "stream",
     "text": [
      "tensor([[0.9997]], device='cuda:0', grad_fn=<SigmoidBackward>)\n",
      "Handnet forward time: 0.00824117660522461\n",
      "Handsegnet forward time: 0.0011744499206542969\n",
      "s shape torch.Size([1, 2, 224, 224])\n",
      "for loop time 0.0037245750427246094\n",
      "hand mask sum: 2566.0\n",
      "Calculate single highest scoring object time: 0.031992197036743164\n",
      "Crop and resize time: 0.0010046958923339844\n",
      "Posenet forward time: 0.0020530223846435547\n",
      "Posepriornet forward time: 0.0008502006530761719\n",
      "Viewpoint forward time: 0.0009789466857910156\n",
      "Get normalized 3d coordinates time: 0.0006020069122314453\n",
      "Flip left handed input time: 0.00011849403381347656\n",
      "ScaLe heatmaps time 9.822845458984375e-05\n",
      "Time for processing 1 frame: 0.04771757125854492s\n",
      "tensor([[0.9998]], device='cuda:0', grad_fn=<SigmoidBackward>)\n",
      "Handnet forward time: 0.008065938949584961\n",
      "Handsegnet forward time: 0.0009706020355224609\n"
     ]
    },
    {
     "name": "stderr",
     "output_type": "stream",
     "text": [
      "\r",
      "454it [01:18,  5.68it/s]"
     ]
    },
    {
     "name": "stdout",
     "output_type": "stream",
     "text": [
      "s shape torch.Size([1, 2, 224, 224])\n",
      "for loop time 0.003013134002685547\n",
      "hand mask sum: 2633.0\n",
      "Calculate single highest scoring object time: 0.032083988189697266\n",
      "Crop and resize time: 0.0009751319885253906\n",
      "Posenet forward time: 0.002006053924560547\n",
      "Posepriornet forward time: 0.0007419586181640625\n",
      "Viewpoint forward time: 0.0009636878967285156\n",
      "Get normalized 3d coordinates time: 0.0006036758422851562\n",
      "Flip left handed input time: 0.00014209747314453125\n",
      "ScaLe heatmaps time 0.00010228157043457031\n",
      "Time for processing 1 frame: 0.04729008674621582s\n",
      "tensor([[0.9999]], device='cuda:0', grad_fn=<SigmoidBackward>)\n",
      "Handnet forward time: 0.008565902709960938\n",
      "Handsegnet forward time: 0.0012829303741455078\n",
      "s shape torch.Size([1, 2, 224, 224])\n",
      "for loop time 0.0033423900604248047\n",
      "hand mask sum: 2566.0\n",
      "Calculate single highest scoring object time: 0.030709028244018555\n",
      "Crop and resize time: 0.0011281967163085938\n",
      "Posenet forward time: 0.0024797916412353516\n",
      "Posepriornet forward time: 0.0008630752563476562\n",
      "Viewpoint forward time: 0.0011396408081054688\n",
      "Get normalized 3d coordinates time: 0.0007295608520507812\n",
      "Flip left handed input time: 0.0001418590545654297\n",
      "ScaLe heatmaps time 0.00010633468627929688\n",
      "Time for processing 1 frame: 0.047817230224609375s\n"
     ]
    },
    {
     "name": "stderr",
     "output_type": "stream",
     "text": [
      "456it [01:18,  5.72it/s]"
     ]
    },
    {
     "name": "stdout",
     "output_type": "stream",
     "text": [
      "tensor([[0.9999]], device='cuda:0', grad_fn=<SigmoidBackward>)\n",
      "Handnet forward time: 0.007573843002319336\n",
      "Handsegnet forward time: 0.00095367431640625\n",
      "s shape torch.Size([1, 2, 224, 224])\n",
      "for loop time 0.002950429916381836\n",
      "hand mask sum: 2575.0\n",
      "Calculate single highest scoring object time: 0.02801513671875\n",
      "Crop and resize time: 0.0009455680847167969\n",
      "Posenet forward time: 0.0019593238830566406\n",
      "Posepriornet forward time: 0.0007266998291015625\n",
      "Viewpoint forward time: 0.0009667873382568359\n",
      "Get normalized 3d coordinates time: 0.0006010532379150391\n",
      "Flip left handed input time: 0.00014352798461914062\n",
      "ScaLe heatmaps time 0.00010132789611816406\n",
      "Time for processing 1 frame: 0.04263496398925781s\n",
      "tensor([[0.9999]], device='cuda:0', grad_fn=<SigmoidBackward>)\n",
      "Handnet forward time: 0.009070873260498047\n",
      "Handsegnet forward time: 0.0010144710540771484\n"
     ]
    },
    {
     "name": "stderr",
     "output_type": "stream",
     "text": [
      "\r",
      "457it [01:18,  5.66it/s]"
     ]
    },
    {
     "name": "stdout",
     "output_type": "stream",
     "text": [
      "s shape torch.Size([1, 2, 224, 224])\n",
      "for loop time 0.003631591796875\n",
      "hand mask sum: 2565.0\n",
      "Calculate single highest scoring object time: 0.03184938430786133\n",
      "Crop and resize time: 0.0011637210845947266\n",
      "Posenet forward time: 0.002493143081665039\n",
      "Posepriornet forward time: 0.000888824462890625\n",
      "Viewpoint forward time: 0.0011391639709472656\n",
      "Get normalized 3d coordinates time: 0.0007364749908447266\n",
      "Flip left handed input time: 0.00014925003051757812\n",
      "ScaLe heatmaps time 0.00010442733764648438\n",
      "Time for processing 1 frame: 0.049283504486083984s\n",
      "tensor([[0.9999]], device='cuda:0', grad_fn=<SigmoidBackward>)\n",
      "Handnet forward time: 0.007941961288452148\n",
      "Handsegnet forward time: 0.0009770393371582031\n",
      "s shape torch.Size([1, 2, 224, 224])\n",
      "for loop time 0.003666400909423828\n",
      "hand mask sum: 2560.0\n",
      "Calculate single highest scoring object time: 0.030102014541625977\n",
      "Crop and resize time: 0.0012831687927246094\n",
      "Posenet forward time: 0.002484560012817383\n",
      "Posepriornet forward time: 0.0008580684661865234\n",
      "Viewpoint forward time: 0.0011494159698486328\n",
      "Get normalized 3d coordinates time: 0.0007164478302001953\n",
      "Flip left handed input time: 0.0001308917999267578\n",
      "ScaLe heatmaps time 9.298324584960938e-05\n",
      "Time for processing 1 frame: 0.046433210372924805s\n"
     ]
    },
    {
     "name": "stderr",
     "output_type": "stream",
     "text": [
      "459it [01:19,  5.51it/s]"
     ]
    },
    {
     "name": "stdout",
     "output_type": "stream",
     "text": [
      "tensor([[0.9999]], device='cuda:0', grad_fn=<SigmoidBackward>)\n",
      "Handnet forward time: 0.009240865707397461\n",
      "Handsegnet forward time: 0.0012383460998535156\n",
      "s shape torch.Size([1, 2, 224, 224])\n",
      "for loop time 0.0040972232818603516\n",
      "hand mask sum: 2525.0\n",
      "Calculate single highest scoring object time: 0.03043365478515625\n",
      "Crop and resize time: 0.0015041828155517578\n",
      "Posenet forward time: 0.002509593963623047\n",
      "Posepriornet forward time: 0.0008668899536132812\n",
      "Viewpoint forward time: 0.00113677978515625\n",
      "Get normalized 3d coordinates time: 0.0007257461547851562\n",
      "Flip left handed input time: 0.00013399124145507812\n",
      "ScaLe heatmaps time 9.202957153320312e-05\n",
      "Time for processing 1 frame: 0.04851889610290527s\n",
      "tensor([[0.9999]], device='cuda:0', grad_fn=<SigmoidBackward>)\n",
      "Handnet forward time: 0.007533550262451172\n",
      "Handsegnet forward time: 0.001232147216796875\n"
     ]
    },
    {
     "name": "stderr",
     "output_type": "stream",
     "text": [
      "\r",
      "460it [01:19,  5.56it/s]"
     ]
    },
    {
     "name": "stdout",
     "output_type": "stream",
     "text": [
      "s shape torch.Size([1, 2, 224, 224])\n",
      "for loop time 0.003218412399291992\n",
      "hand mask sum: 2519.0\n",
      "Calculate single highest scoring object time: 0.028412580490112305\n",
      "Crop and resize time: 0.001157522201538086\n",
      "Posenet forward time: 0.0024809837341308594\n",
      "Posepriornet forward time: 0.0008528232574462891\n",
      "Viewpoint forward time: 0.0011477470397949219\n",
      "Get normalized 3d coordinates time: 0.0007178783416748047\n",
      "Flip left handed input time: 0.0001316070556640625\n",
      "ScaLe heatmaps time 9.465217590332031e-05\n",
      "Time for processing 1 frame: 0.044445037841796875s\n",
      "tensor([[0.9999]], device='cuda:0', grad_fn=<SigmoidBackward>)\n",
      "Handnet forward time: 0.008833646774291992\n",
      "Handsegnet forward time: 0.0010159015655517578\n",
      "s shape torch.Size([1, 2, 224, 224])\n",
      "for loop time 0.0034492015838623047\n",
      "hand mask sum: 2514.0\n",
      "Calculate single highest scoring object time: 0.031333208084106445\n",
      "Crop and resize time: 0.0010104179382324219\n",
      "Posenet forward time: 0.0020530223846435547\n",
      "Posepriornet forward time: 0.0007653236389160156\n",
      "Viewpoint forward time: 0.0010085105895996094\n",
      "Get normalized 3d coordinates time: 0.0006151199340820312\n",
      "Flip left handed input time: 0.0001475811004638672\n",
      "ScaLe heatmaps time 0.00010442733764648438\n",
      "Time for processing 1 frame: 0.04754042625427246s\n"
     ]
    },
    {
     "name": "stderr",
     "output_type": "stream",
     "text": [
      "462it [01:19,  5.69it/s]"
     ]
    },
    {
     "name": "stdout",
     "output_type": "stream",
     "text": [
      "tensor([[0.9999]], device='cuda:0', grad_fn=<SigmoidBackward>)\n",
      "Handnet forward time: 0.007557392120361328\n",
      "Handsegnet forward time: 0.0009739398956298828\n",
      "s shape torch.Size([1, 2, 224, 224])\n",
      "for loop time 0.0030133724212646484\n",
      "hand mask sum: 2507.0\n",
      "Calculate single highest scoring object time: 0.028172731399536133\n",
      "Crop and resize time: 0.0009725093841552734\n",
      "Posenet forward time: 0.00200653076171875\n",
      "Posepriornet forward time: 0.0007474422454833984\n",
      "Viewpoint forward time: 0.0009908676147460938\n",
      "Get normalized 3d coordinates time: 0.0006136894226074219\n",
      "Flip left handed input time: 0.00015020370483398438\n",
      "ScaLe heatmaps time 0.00010371208190917969\n",
      "Time for processing 1 frame: 0.04293227195739746s\n",
      "tensor([[0.9997]], device='cuda:0', grad_fn=<SigmoidBackward>)\n",
      "Handnet forward time: 0.00756072998046875\n",
      "Handsegnet forward time: 0.000980377197265625\n",
      "s shape torch.Size([1, 2, 224, 224])\n",
      "for loop time 0.002972126007080078\n",
      "hand mask sum: 2532.0\n",
      "Calculate single highest scoring object time: 0.027986526489257812\n",
      "Crop and resize time: 0.0009622573852539062\n",
      "Posenet forward time: 0.002000570297241211\n"
     ]
    },
    {
     "name": "stderr",
     "output_type": "stream",
     "text": [
      "\r",
      "463it [01:19,  5.73it/s]"
     ]
    },
    {
     "name": "stdout",
     "output_type": "stream",
     "text": [
      "Posepriornet forward time: 0.0010056495666503906\n",
      "Viewpoint forward time: 0.0010402202606201172\n",
      "Get normalized 3d coordinates time: 0.0006115436553955078\n",
      "Flip left handed input time: 0.00014734268188476562\n",
      "ScaLe heatmaps time 0.00010538101196289062\n",
      "Time for processing 1 frame: 0.04303240776062012s\n",
      "tensor([[0.9993]], device='cuda:0', grad_fn=<SigmoidBackward>)\n",
      "Handnet forward time: 0.00752711296081543\n",
      "Handsegnet forward time: 0.0009789466857910156\n",
      "s shape torch.Size([1, 2, 224, 224])\n",
      "for loop time 0.0031828880310058594\n",
      "hand mask sum: 2497.0\n",
      "Calculate single highest scoring object time: 0.02814173698425293\n",
      "Crop and resize time: 0.001008749008178711\n",
      "Posenet forward time: 0.002051830291748047\n",
      "Posepriornet forward time: 0.0007631778717041016\n",
      "Viewpoint forward time: 0.0009970664978027344\n",
      "Get normalized 3d coordinates time: 0.0006186962127685547\n",
      "Flip left handed input time: 0.00014662742614746094\n",
      "ScaLe heatmaps time 0.00010609626770019531\n",
      "Time for processing 1 frame: 0.042961835861206055s\n"
     ]
    },
    {
     "name": "stderr",
     "output_type": "stream",
     "text": [
      "465it [01:20,  5.83it/s]"
     ]
    },
    {
     "name": "stdout",
     "output_type": "stream",
     "text": [
      "tensor([[0.9981]], device='cuda:0', grad_fn=<SigmoidBackward>)\n",
      "Handnet forward time: 0.007617950439453125\n",
      "Handsegnet forward time: 0.0009796619415283203\n",
      "s shape torch.Size([1, 2, 224, 224])\n",
      "for loop time 0.0029935836791992188\n",
      "hand mask sum: 2481.0\n",
      "Calculate single highest scoring object time: 0.028158187866210938\n",
      "Crop and resize time: 0.0009622573852539062\n",
      "Posenet forward time: 0.0020055770874023438\n",
      "Posepriornet forward time: 0.0007622241973876953\n",
      "Viewpoint forward time: 0.0009801387786865234\n",
      "Get normalized 3d coordinates time: 0.0006120204925537109\n",
      "Flip left handed input time: 0.0001494884490966797\n",
      "ScaLe heatmaps time 0.00010657310485839844\n",
      "Time for processing 1 frame: 0.04298853874206543s\n",
      "tensor([[0.9942]], device='cuda:0', grad_fn=<SigmoidBackward>)\n",
      "Handnet forward time: 0.008073806762695312\n",
      "Handsegnet forward time: 0.0010333061218261719\n",
      "s shape torch.Size([1, 2, 224, 224])\n"
     ]
    },
    {
     "name": "stderr",
     "output_type": "stream",
     "text": [
      "\r",
      "466it [01:20,  5.70it/s]"
     ]
    },
    {
     "name": "stdout",
     "output_type": "stream",
     "text": [
      "for loop time 0.003446340560913086\n",
      "hand mask sum: 2468.0\n",
      "Calculate single highest scoring object time: 0.032093048095703125\n",
      "Crop and resize time: 0.0011544227600097656\n",
      "Posenet forward time: 0.0024671554565429688\n",
      "Posepriornet forward time: 0.0008652210235595703\n",
      "Viewpoint forward time: 0.0011448860168457031\n",
      "Get normalized 3d coordinates time: 0.0007293224334716797\n",
      "Flip left handed input time: 0.00014090538024902344\n",
      "ScaLe heatmaps time 7.915496826171875e-05\n",
      "Time for processing 1 frame: 0.048471927642822266s\n",
      "tensor([[0.9884]], device='cuda:0', grad_fn=<SigmoidBackward>)\n",
      "Handnet forward time: 0.008039474487304688\n",
      "Handsegnet forward time: 0.0011055469512939453\n",
      "s shape torch.Size([1, 2, 224, 224])\n",
      "for loop time 0.0030946731567382812\n",
      "hand mask sum: 2442.0\n",
      "Calculate single highest scoring object time: 0.03179645538330078\n",
      "Crop and resize time: 0.0009791851043701172\n",
      "Posenet forward time: 0.0020291805267333984\n",
      "Posepriornet forward time: 0.0007417201995849609\n",
      "Viewpoint forward time: 0.0009541511535644531\n",
      "Get normalized 3d coordinates time: 0.0005948543548583984\n",
      "Flip left handed input time: 0.00013875961303710938\n",
      "ScaLe heatmaps time 9.846687316894531e-05\n",
      "Time for processing 1 frame: 0.047049522399902344s\n"
     ]
    },
    {
     "name": "stderr",
     "output_type": "stream",
     "text": [
      "468it [01:20,  5.68it/s]"
     ]
    },
    {
     "name": "stdout",
     "output_type": "stream",
     "text": [
      "tensor([[0.9877]], device='cuda:0', grad_fn=<SigmoidBackward>)\n",
      "Handnet forward time: 0.007602214813232422\n",
      "Handsegnet forward time: 0.0009663105010986328\n",
      "s shape torch.Size([1, 2, 224, 224])\n",
      "for loop time 0.003027677536010742\n",
      "hand mask sum: 2447.0\n",
      "Calculate single highest scoring object time: 0.02809619903564453\n",
      "Crop and resize time: 0.0009467601776123047\n",
      "Posenet forward time: 0.0019690990447998047\n",
      "Posepriornet forward time: 0.0007171630859375\n",
      "Viewpoint forward time: 0.0009546279907226562\n",
      "Get normalized 3d coordinates time: 0.0005869865417480469\n",
      "Flip left handed input time: 0.0001239776611328125\n",
      "ScaLe heatmaps time 8.344650268554688e-05\n",
      "Time for processing 1 frame: 0.04268240928649902s\n",
      "tensor([[0.9784]], device='cuda:0', grad_fn=<SigmoidBackward>)\n",
      "Handnet forward time: 0.007622480392456055\n",
      "Handsegnet forward time: 0.0010695457458496094\n"
     ]
    },
    {
     "name": "stderr",
     "output_type": "stream",
     "text": [
      "\r",
      "469it [01:21,  5.56it/s]"
     ]
    },
    {
     "name": "stdout",
     "output_type": "stream",
     "text": [
      "s shape torch.Size([1, 2, 224, 224])\n",
      "for loop time 0.0041141510009765625\n",
      "hand mask sum: 2456.0\n",
      "Calculate single highest scoring object time: 0.03462052345275879\n",
      "Crop and resize time: 0.0013654232025146484\n",
      "Posenet forward time: 0.0022683143615722656\n",
      "Posepriornet forward time: 0.0007939338684082031\n",
      "Viewpoint forward time: 0.0010094642639160156\n",
      "Get normalized 3d coordinates time: 0.0006530284881591797\n",
      "Flip left handed input time: 0.00012350082397460938\n",
      "ScaLe heatmaps time 8.916854858398438e-05\n",
      "Time for processing 1 frame: 0.05023908615112305s\n",
      "tensor([[0.9844]], device='cuda:0', grad_fn=<SigmoidBackward>)\n",
      "Handnet forward time: 0.007536888122558594\n",
      "Handsegnet forward time: 0.0010044574737548828\n",
      "s shape torch.Size([1, 2, 224, 224])\n",
      "for loop time 0.003016233444213867\n",
      "hand mask sum: 2458.0\n",
      "Calculate single highest scoring object time: 0.0278470516204834\n",
      "Crop and resize time: 0.0010538101196289062\n",
      "Posenet forward time: 0.0019731521606445312\n",
      "Posepriornet forward time: 0.0007226467132568359\n",
      "Viewpoint forward time: 0.0009660720825195312\n",
      "Get normalized 3d coordinates time: 0.0006115436553955078\n",
      "Flip left handed input time: 0.00013208389282226562\n",
      "ScaLe heatmaps time 8.726119995117188e-05\n",
      "Time for processing 1 frame: 0.0425262451171875s\n"
     ]
    },
    {
     "name": "stderr",
     "output_type": "stream",
     "text": [
      "471it [01:21,  5.74it/s]"
     ]
    },
    {
     "name": "stdout",
     "output_type": "stream",
     "text": [
      "tensor([[0.9851]], device='cuda:0', grad_fn=<SigmoidBackward>)\n",
      "Handnet forward time: 0.007598400115966797\n",
      "Handsegnet forward time: 0.0009572505950927734\n",
      "s shape torch.Size([1, 2, 224, 224])\n",
      "for loop time 0.0030405521392822266\n",
      "hand mask sum: 2456.0\n",
      "Calculate single highest scoring object time: 0.028011798858642578\n",
      "Crop and resize time: 0.0009472370147705078\n",
      "Posenet forward time: 0.0019762516021728516\n",
      "Posepriornet forward time: 0.0007145404815673828\n",
      "Viewpoint forward time: 0.0009953975677490234\n",
      "Get normalized 3d coordinates time: 0.0005896091461181641\n",
      "Flip left handed input time: 0.000118255615234375\n",
      "ScaLe heatmaps time 8.749961853027344e-05\n",
      "Time for processing 1 frame: 0.0426027774810791s\n",
      "tensor([[0.9832]], device='cuda:0', grad_fn=<SigmoidBackward>)\n",
      "Handnet forward time: 0.007569551467895508\n",
      "Handsegnet forward time: 0.0010285377502441406\n",
      "s shape torch.Size([1, 2, 224, 224])\n",
      "for loop time 0.0029854774475097656\n",
      "hand mask sum: 2456.0\n",
      "Calculate single highest scoring object time: 0.028010129928588867\n",
      "Crop and resize time: 0.0009379386901855469\n",
      "Posenet forward time: 0.0019788742065429688\n"
     ]
    },
    {
     "name": "stderr",
     "output_type": "stream",
     "text": [
      "\r",
      "472it [01:21,  5.79it/s]"
     ]
    },
    {
     "name": "stdout",
     "output_type": "stream",
     "text": [
      "Posepriornet forward time: 0.0009856224060058594\n",
      "Viewpoint forward time: 0.0009927749633789062\n",
      "Get normalized 3d coordinates time: 0.0005919933319091797\n",
      "Flip left handed input time: 0.00012803077697753906\n",
      "ScaLe heatmaps time 8.893013000488281e-05\n",
      "Time for processing 1 frame: 0.042888641357421875s\n",
      "tensor([[0.9818]], device='cuda:0', grad_fn=<SigmoidBackward>)\n",
      "Handnet forward time: 0.007587909698486328\n",
      "Handsegnet forward time: 0.0009706020355224609\n",
      "s shape torch.Size([1, 2, 224, 224])\n",
      "for loop time 0.002975940704345703\n",
      "hand mask sum: 2471.0\n",
      "Calculate single highest scoring object time: 0.02802443504333496\n",
      "Crop and resize time: 0.0009582042694091797\n",
      "Posenet forward time: 0.002026796340942383\n",
      "Posepriornet forward time: 0.0007288455963134766\n",
      "Viewpoint forward time: 0.0009610652923583984\n",
      "Get normalized 3d coordinates time: 0.00058746337890625\n",
      "Flip left handed input time: 0.00012183189392089844\n",
      "ScaLe heatmaps time 9.012222290039062e-05\n",
      "Time for processing 1 frame: 0.04262900352478027s\n"
     ]
    },
    {
     "name": "stderr",
     "output_type": "stream",
     "text": [
      "474it [01:21,  5.74it/s]"
     ]
    },
    {
     "name": "stdout",
     "output_type": "stream",
     "text": [
      "tensor([[0.9829]], device='cuda:0', grad_fn=<SigmoidBackward>)\n",
      "Handnet forward time: 0.007555246353149414\n",
      "Handsegnet forward time: 0.0009887218475341797\n",
      "s shape torch.Size([1, 2, 224, 224])\n",
      "for loop time 0.0030303001403808594\n",
      "hand mask sum: 2471.0\n",
      "Calculate single highest scoring object time: 0.028172731399536133\n",
      "Crop and resize time: 0.0010027885437011719\n",
      "Posenet forward time: 0.0020210742950439453\n",
      "Posepriornet forward time: 0.0007114410400390625\n",
      "Viewpoint forward time: 0.0009486675262451172\n",
      "Get normalized 3d coordinates time: 0.0005886554718017578\n",
      "Flip left handed input time: 0.00011587142944335938\n",
      "ScaLe heatmaps time 8.7738037109375e-05\n",
      "Time for processing 1 frame: 0.04283738136291504s\n",
      "tensor([[0.9859]], device='cuda:0', grad_fn=<SigmoidBackward>)\n",
      "Handnet forward time: 0.009336233139038086\n",
      "Handsegnet forward time: 0.001016378402709961\n"
     ]
    },
    {
     "name": "stderr",
     "output_type": "stream",
     "text": [
      "\r",
      "475it [01:22,  5.42it/s]"
     ]
    },
    {
     "name": "stdout",
     "output_type": "stream",
     "text": [
      "s shape torch.Size([1, 2, 224, 224])\n",
      "for loop time 0.0029997825622558594\n",
      "hand mask sum: 2431.0\n",
      "Calculate single highest scoring object time: 0.035295963287353516\n",
      "Crop and resize time: 0.0010373592376708984\n",
      "Posenet forward time: 0.002087116241455078\n",
      "Posepriornet forward time: 0.0010764598846435547\n",
      "Viewpoint forward time: 0.0013155937194824219\n",
      "Get normalized 3d coordinates time: 0.0007786750793457031\n",
      "Flip left handed input time: 0.0001475811004638672\n",
      "ScaLe heatmaps time 0.0001087188720703125\n",
      "Time for processing 1 frame: 0.05295586585998535s\n",
      "tensor([[0.9942]], device='cuda:0', grad_fn=<SigmoidBackward>)\n",
      "Handnet forward time: 0.007537364959716797\n",
      "Handsegnet forward time: 0.0011777877807617188\n",
      "s shape torch.Size([1, 2, 224, 224])\n"
     ]
    },
    {
     "name": "stderr",
     "output_type": "stream",
     "text": [
      "\r",
      "476it [01:22,  5.45it/s]"
     ]
    },
    {
     "name": "stdout",
     "output_type": "stream",
     "text": [
      "for loop time 0.003571748733520508\n",
      "hand mask sum: 2408.0\n",
      "Calculate single highest scoring object time: 0.028239727020263672\n",
      "Crop and resize time: 0.0011363029479980469\n",
      "Posenet forward time: 0.002520322799682617\n",
      "Posepriornet forward time: 0.0008690357208251953\n",
      "Viewpoint forward time: 0.0011441707611083984\n",
      "Get normalized 3d coordinates time: 0.0007150173187255859\n",
      "Flip left handed input time: 0.00013256072998046875\n",
      "ScaLe heatmaps time 9.5367431640625e-05\n",
      "Time for processing 1 frame: 0.04423260688781738s\n",
      "tensor([[0.9938]], device='cuda:0', grad_fn=<SigmoidBackward>)\n",
      "Handnet forward time: 0.007559061050415039\n",
      "Handsegnet forward time: 0.0009765625\n",
      "s shape torch.Size([1, 2, 224, 224])\n",
      "for loop time 0.0029897689819335938\n",
      "hand mask sum: 2399.0\n",
      "Calculate single highest scoring object time: 0.02788376808166504\n",
      "Crop and resize time: 0.0009386539459228516\n",
      "Posenet forward time: 0.001966238021850586\n",
      "Posepriornet forward time: 0.0007054805755615234\n",
      "Viewpoint forward time: 0.0009474754333496094\n",
      "Get normalized 3d coordinates time: 0.0005764961242675781\n",
      "Flip left handed input time: 0.00012159347534179688\n",
      "ScaLe heatmaps time 8.225440979003906e-05\n",
      "Time for processing 1 frame: 0.042336225509643555s\n"
     ]
    },
    {
     "name": "stderr",
     "output_type": "stream",
     "text": [
      "478it [01:22,  5.69it/s]"
     ]
    },
    {
     "name": "stdout",
     "output_type": "stream",
     "text": [
      "tensor([[0.9936]], device='cuda:0', grad_fn=<SigmoidBackward>)\n",
      "Handnet forward time: 0.0075528621673583984\n",
      "Handsegnet forward time: 0.0009632110595703125\n",
      "s shape torch.Size([1, 2, 224, 224])\n",
      "for loop time 0.0029859542846679688\n",
      "hand mask sum: 2371.0\n",
      "Calculate single highest scoring object time: 0.027982711791992188\n",
      "Crop and resize time: 0.0011258125305175781\n",
      "Posenet forward time: 0.002014636993408203\n",
      "Posepriornet forward time: 0.0007205009460449219\n",
      "Viewpoint forward time: 0.0009558200836181641\n",
      "Get normalized 3d coordinates time: 0.0005939006805419922\n",
      "Flip left handed input time: 0.00011992454528808594\n",
      "ScaLe heatmaps time 8.392333984375e-05\n",
      "Time for processing 1 frame: 0.04273104667663574s\n",
      "tensor([[0.9800]], device='cuda:0', grad_fn=<SigmoidBackward>)\n",
      "Handnet forward time: 0.007581233978271484\n",
      "Handsegnet forward time: 0.0009686946868896484\n",
      "s shape torch.Size([1, 2, 224, 224])\n",
      "for loop time 0.002982616424560547\n",
      "hand mask sum: 2333.0\n",
      "Calculate single highest scoring object time: 0.027849912643432617\n",
      "Crop and resize time: 0.0009772777557373047\n",
      "Posenet forward time: 0.002003908157348633\n"
     ]
    },
    {
     "name": "stderr",
     "output_type": "stream",
     "text": [
      "\r",
      "479it [01:22,  5.77it/s]"
     ]
    },
    {
     "name": "stdout",
     "output_type": "stream",
     "text": [
      "Posepriornet forward time: 0.0010151863098144531\n",
      "Viewpoint forward time: 0.0012836456298828125\n",
      "Get normalized 3d coordinates time: 0.0006041526794433594\n",
      "Flip left handed input time: 0.00012350082397460938\n",
      "ScaLe heatmaps time 8.7738037109375e-05\n",
      "Time for processing 1 frame: 0.043074607849121094s\n",
      "tensor([[0.9951]], device='cuda:0', grad_fn=<SigmoidBackward>)\n",
      "Handnet forward time: 0.007577657699584961\n",
      "Handsegnet forward time: 0.0009679794311523438\n",
      "s shape torch.Size([1, 2, 224, 224])\n",
      "for loop time 0.0029783248901367188\n",
      "hand mask sum: 2342.0\n",
      "Calculate single highest scoring object time: 0.027994632720947266\n",
      "Crop and resize time: 0.000934600830078125\n",
      "Posenet forward time: 0.0019528865814208984\n",
      "Posepriornet forward time: 0.000698089599609375\n",
      "Viewpoint forward time: 0.0009431838989257812\n",
      "Get normalized 3d coordinates time: 0.0005819797515869141\n",
      "Flip left handed input time: 0.00011396408081054688\n",
      "ScaLe heatmaps time 8.153915405273438e-05\n",
      "Time for processing 1 frame: 0.04247570037841797s\n"
     ]
    },
    {
     "name": "stderr",
     "output_type": "stream",
     "text": [
      "481it [01:23,  5.84it/s]"
     ]
    },
    {
     "name": "stdout",
     "output_type": "stream",
     "text": [
      "tensor([[0.9987]], device='cuda:0', grad_fn=<SigmoidBackward>)\n",
      "Handnet forward time: 0.00770115852355957\n",
      "Handsegnet forward time: 0.0009832382202148438\n",
      "s shape torch.Size([1, 2, 224, 224])\n",
      "for loop time 0.002994537353515625\n",
      "hand mask sum: 2304.0\n",
      "Calculate single highest scoring object time: 0.028015851974487305\n",
      "Crop and resize time: 0.00093841552734375\n",
      "Posenet forward time: 0.001956462860107422\n",
      "Posepriornet forward time: 0.000720977783203125\n",
      "Viewpoint forward time: 0.0009610652923583984\n",
      "Get normalized 3d coordinates time: 0.0005803108215332031\n",
      "Flip left handed input time: 0.0001201629638671875\n",
      "ScaLe heatmaps time 8.96453857421875e-05\n",
      "Time for processing 1 frame: 0.04258918762207031s\n",
      "tensor([[0.9983]], device='cuda:0', grad_fn=<SigmoidBackward>)\n",
      "Handnet forward time: 0.007584571838378906\n",
      "Handsegnet forward time: 0.000982522964477539\n",
      "s shape torch.Size([1, 2, 224, 224])\n",
      "for loop time 0.0030221939086914062\n",
      "hand mask sum: 2317.0\n",
      "Calculate single highest scoring object time: 0.02814650535583496\n",
      "Crop and resize time: 0.0009541511535644531\n",
      "Posenet forward time: 0.0019867420196533203\n"
     ]
    },
    {
     "name": "stderr",
     "output_type": "stream",
     "text": [
      "\r",
      "482it [01:23,  5.87it/s]"
     ]
    },
    {
     "name": "stdout",
     "output_type": "stream",
     "text": [
      "Posepriornet forward time: 0.0009937286376953125\n",
      "Viewpoint forward time: 0.0013234615325927734\n",
      "Get normalized 3d coordinates time: 0.0005979537963867188\n",
      "Flip left handed input time: 0.0001201629638671875\n",
      "ScaLe heatmaps time 8.869171142578125e-05\n",
      "Time for processing 1 frame: 0.04336261749267578s\n",
      "tensor([[0.9985]], device='cuda:0', grad_fn=<SigmoidBackward>)\n",
      "Handnet forward time: 0.00756382942199707\n",
      "Handsegnet forward time: 0.0009708404541015625\n",
      "s shape torch.Size([1, 2, 224, 224])\n",
      "for loop time 0.0029914379119873047\n",
      "hand mask sum: 2304.0\n",
      "Calculate single highest scoring object time: 0.0280764102935791\n",
      "Crop and resize time: 0.0009450912475585938\n",
      "Posenet forward time: 0.0019791126251220703\n",
      "Posepriornet forward time: 0.0007112026214599609\n",
      "Viewpoint forward time: 0.0009548664093017578\n",
      "Get normalized 3d coordinates time: 0.0005800724029541016\n",
      "Flip left handed input time: 0.00011491775512695312\n",
      "ScaLe heatmaps time 8.344650268554688e-05\n",
      "Time for processing 1 frame: 0.04254031181335449s\n"
     ]
    },
    {
     "name": "stderr",
     "output_type": "stream",
     "text": [
      "484it [01:23,  5.89it/s]"
     ]
    },
    {
     "name": "stdout",
     "output_type": "stream",
     "text": [
      "tensor([[0.9981]], device='cuda:0', grad_fn=<SigmoidBackward>)\n",
      "Handnet forward time: 0.007569789886474609\n",
      "Handsegnet forward time: 0.0009717941284179688\n",
      "s shape torch.Size([1, 2, 224, 224])\n",
      "for loop time 0.0029900074005126953\n",
      "hand mask sum: 2320.0\n",
      "Calculate single highest scoring object time: 0.027962446212768555\n",
      "Crop and resize time: 0.0009560585021972656\n",
      "Posenet forward time: 0.001977205276489258\n",
      "Posepriornet forward time: 0.000713348388671875\n",
      "Viewpoint forward time: 0.0009629726409912109\n",
      "Get normalized 3d coordinates time: 0.0006108283996582031\n",
      "Flip left handed input time: 0.0001227855682373047\n",
      "ScaLe heatmaps time 8.845329284667969e-05\n",
      "Time for processing 1 frame: 0.04253721237182617s\n",
      "tensor([[0.9989]], device='cuda:0', grad_fn=<SigmoidBackward>)\n",
      "Handnet forward time: 0.007558584213256836\n",
      "Handsegnet forward time: 0.0009818077087402344\n",
      "s shape torch.Size([1, 2, 224, 224])\n",
      "for loop time 0.0030088424682617188\n",
      "hand mask sum: 2285.0\n",
      "Calculate single highest scoring object time: 0.028090953826904297\n",
      "Crop and resize time: 0.0009379386901855469\n",
      "Posenet forward time: 0.001943349838256836\n"
     ]
    },
    {
     "name": "stderr",
     "output_type": "stream",
     "text": [
      "\r",
      "485it [01:23,  5.91it/s]"
     ]
    },
    {
     "name": "stdout",
     "output_type": "stream",
     "text": [
      "Posepriornet forward time: 0.0009760856628417969\n",
      "Viewpoint forward time: 0.0012869834899902344\n",
      "Get normalized 3d coordinates time: 0.0005905628204345703\n",
      "Flip left handed input time: 0.00012087821960449219\n",
      "ScaLe heatmaps time 8.654594421386719e-05\n",
      "Time for processing 1 frame: 0.04313993453979492s\n",
      "tensor([[0.9996]], device='cuda:0', grad_fn=<SigmoidBackward>)\n",
      "Handnet forward time: 0.007559537887573242\n",
      "Handsegnet forward time: 0.0009822845458984375\n",
      "s shape torch.Size([1, 2, 224, 224])\n",
      "for loop time 0.002997159957885742\n",
      "hand mask sum: 2277.0\n",
      "Calculate single highest scoring object time: 0.02802729606628418\n",
      "Crop and resize time: 0.0009467601776123047\n",
      "Posenet forward time: 0.0019576549530029297\n",
      "Posepriornet forward time: 0.0007119178771972656\n",
      "Viewpoint forward time: 0.0009534358978271484\n",
      "Get normalized 3d coordinates time: 0.0005877017974853516\n",
      "Flip left handed input time: 0.0001201629638671875\n",
      "ScaLe heatmaps time 8.368492126464844e-05\n",
      "Time for processing 1 frame: 0.042513370513916016s\n"
     ]
    },
    {
     "name": "stderr",
     "output_type": "stream",
     "text": [
      "487it [01:24,  5.92it/s]"
     ]
    },
    {
     "name": "stdout",
     "output_type": "stream",
     "text": [
      "tensor([[0.9996]], device='cuda:0', grad_fn=<SigmoidBackward>)\n",
      "Handnet forward time: 0.007590532302856445\n",
      "Handsegnet forward time: 0.0009772777557373047\n",
      "s shape torch.Size([1, 2, 224, 224])\n",
      "for loop time 0.00298309326171875\n",
      "hand mask sum: 2320.0\n",
      "Calculate single highest scoring object time: 0.027876615524291992\n",
      "Crop and resize time: 0.0009400844573974609\n",
      "Posenet forward time: 0.001993894577026367\n",
      "Posepriornet forward time: 0.0007262229919433594\n",
      "Viewpoint forward time: 0.000957489013671875\n",
      "Get normalized 3d coordinates time: 0.0005886554718017578\n",
      "Flip left handed input time: 0.00012493133544921875\n",
      "ScaLe heatmaps time 8.797645568847656e-05\n",
      "Time for processing 1 frame: 0.042469024658203125s\n",
      "tensor([[0.9996]], device='cuda:0', grad_fn=<SigmoidBackward>)\n",
      "Handnet forward time: 0.007591962814331055\n",
      "Handsegnet forward time: 0.0009682178497314453\n",
      "s shape torch.Size([1, 2, 224, 224])\n",
      "for loop time 0.00302886962890625\n",
      "hand mask sum: 2328.0\n",
      "Calculate single highest scoring object time: 0.028089523315429688\n",
      "Crop and resize time: 0.0009465217590332031\n",
      "Posenet forward time: 0.001966238021850586\n"
     ]
    },
    {
     "name": "stderr",
     "output_type": "stream",
     "text": [
      "\r",
      "488it [01:24,  5.93it/s]"
     ]
    },
    {
     "name": "stdout",
     "output_type": "stream",
     "text": [
      "Posepriornet forward time: 0.0009827613830566406\n",
      "Viewpoint forward time: 0.0009965896606445312\n",
      "Get normalized 3d coordinates time: 0.000591278076171875\n",
      "Flip left handed input time: 0.00012111663818359375\n",
      "ScaLe heatmaps time 8.7738037109375e-05\n",
      "Time for processing 1 frame: 0.04292464256286621s\n",
      "tensor([[0.9997]], device='cuda:0', grad_fn=<SigmoidBackward>)\n",
      "Handnet forward time: 0.0075817108154296875\n",
      "Handsegnet forward time: 0.0009884834289550781\n",
      "s shape torch.Size([1, 2, 224, 224])\n",
      "for loop time 0.0030024051666259766\n",
      "hand mask sum: 2337.0\n",
      "Calculate single highest scoring object time: 0.028127670288085938\n",
      "Crop and resize time: 0.0009417533874511719\n",
      "Posenet forward time: 0.0019919872283935547\n",
      "Posepriornet forward time: 0.0007071495056152344\n",
      "Viewpoint forward time: 0.0009434223175048828\n",
      "Get normalized 3d coordinates time: 0.0005819797515869141\n",
      "Flip left handed input time: 0.00011730194091796875\n",
      "ScaLe heatmaps time 8.654594421386719e-05\n",
      "Time for processing 1 frame: 0.04262876510620117s\n"
     ]
    },
    {
     "name": "stderr",
     "output_type": "stream",
     "text": [
      "490it [01:24,  5.93it/s]"
     ]
    },
    {
     "name": "stdout",
     "output_type": "stream",
     "text": [
      "tensor([[0.9998]], device='cuda:0', grad_fn=<SigmoidBackward>)\n",
      "Handnet forward time: 0.007580995559692383\n",
      "Handsegnet forward time: 0.0009655952453613281\n",
      "s shape torch.Size([1, 2, 224, 224])\n",
      "for loop time 0.0029921531677246094\n",
      "hand mask sum: 2350.0\n",
      "Calculate single highest scoring object time: 0.02798175811767578\n",
      "Crop and resize time: 0.000942230224609375\n",
      "Posenet forward time: 0.0019724369049072266\n",
      "Posepriornet forward time: 0.0007104873657226562\n",
      "Viewpoint forward time: 0.0009479522705078125\n",
      "Get normalized 3d coordinates time: 0.000606536865234375\n",
      "Flip left handed input time: 0.00011444091796875\n",
      "ScaLe heatmaps time 8.249282836914062e-05\n",
      "Time for processing 1 frame: 0.04250931739807129s\n",
      "tensor([[0.9998]], device='cuda:0', grad_fn=<SigmoidBackward>)\n",
      "Handnet forward time: 0.007581472396850586\n",
      "Handsegnet forward time: 0.0009684562683105469\n",
      "s shape torch.Size([1, 2, 224, 224])\n",
      "for loop time 0.003015279769897461\n",
      "hand mask sum: 2367.0\n",
      "Calculate single highest scoring object time: 0.028133392333984375\n",
      "Crop and resize time: 0.0009431838989257812\n",
      "Posenet forward time: 0.0019779205322265625\n"
     ]
    },
    {
     "name": "stderr",
     "output_type": "stream",
     "text": [
      "\r",
      "491it [01:24,  5.93it/s]"
     ]
    },
    {
     "name": "stdout",
     "output_type": "stream",
     "text": [
      "Posepriornet forward time: 0.0009889602661132812\n",
      "Viewpoint forward time: 0.00099945068359375\n",
      "Get normalized 3d coordinates time: 0.0006022453308105469\n",
      "Flip left handed input time: 0.00012183189392089844\n",
      "ScaLe heatmaps time 8.7738037109375e-05\n",
      "Time for processing 1 frame: 0.042975425720214844s\n",
      "tensor([[0.9997]], device='cuda:0', grad_fn=<SigmoidBackward>)\n",
      "Handnet forward time: 0.0075626373291015625\n",
      "Handsegnet forward time: 0.0009710788726806641\n",
      "s shape torch.Size([1, 2, 224, 224])\n",
      "for loop time 0.0030035972595214844\n",
      "hand mask sum: 2424.0\n",
      "Calculate single highest scoring object time: 0.028107881546020508\n",
      "Crop and resize time: 0.0009377002716064453\n",
      "Posenet forward time: 0.001966238021850586\n",
      "Posepriornet forward time: 0.0007052421569824219\n",
      "Viewpoint forward time: 0.0009515285491943359\n",
      "Get normalized 3d coordinates time: 0.0006039142608642578\n",
      "Flip left handed input time: 0.00012159347534179688\n",
      "ScaLe heatmaps time 8.630752563476562e-05\n",
      "Time for processing 1 frame: 0.04257035255432129s\n"
     ]
    },
    {
     "name": "stderr",
     "output_type": "stream",
     "text": [
      "493it [01:25,  5.92it/s]"
     ]
    },
    {
     "name": "stdout",
     "output_type": "stream",
     "text": [
      "tensor([[0.9990]], device='cuda:0', grad_fn=<SigmoidBackward>)\n",
      "Handnet forward time: 0.007568836212158203\n",
      "Handsegnet forward time: 0.0009772777557373047\n",
      "s shape torch.Size([1, 2, 224, 224])\n",
      "for loop time 0.0029892921447753906\n",
      "hand mask sum: 2431.0\n",
      "Calculate single highest scoring object time: 0.027901887893676758\n",
      "Crop and resize time: 0.0009434223175048828\n",
      "Posenet forward time: 0.001989126205444336\n",
      "Posepriornet forward time: 0.0007159709930419922\n",
      "Viewpoint forward time: 0.0009560585021972656\n",
      "Get normalized 3d coordinates time: 0.0005872249603271484\n",
      "Flip left handed input time: 0.0001201629638671875\n",
      "ScaLe heatmaps time 9.012222290039062e-05\n",
      "Time for processing 1 frame: 0.04246854782104492s\n",
      "tensor([[0.9991]], device='cuda:0', grad_fn=<SigmoidBackward>)\n",
      "Handnet forward time: 0.007550477981567383\n",
      "Handsegnet forward time: 0.0009682178497314453\n",
      "s shape torch.Size([1, 2, 224, 224])\n",
      "for loop time 0.002979755401611328\n",
      "hand mask sum: 2428.0\n",
      "Calculate single highest scoring object time: 0.02800893783569336\n",
      "Crop and resize time: 0.0009379386901855469\n",
      "Posenet forward time: 0.0019659996032714844\n"
     ]
    },
    {
     "name": "stderr",
     "output_type": "stream",
     "text": [
      "\r",
      "494it [01:25,  5.93it/s]"
     ]
    },
    {
     "name": "stdout",
     "output_type": "stream",
     "text": [
      "Posepriornet forward time: 0.0009801387786865234\n",
      "Viewpoint forward time: 0.0009951591491699219\n",
      "Get normalized 3d coordinates time: 0.0005929470062255859\n",
      "Flip left handed input time: 0.00012612342834472656\n",
      "ScaLe heatmaps time 8.749961853027344e-05\n",
      "Time for processing 1 frame: 0.04278755187988281s\n",
      "tensor([[0.9989]], device='cuda:0', grad_fn=<SigmoidBackward>)\n",
      "Handnet forward time: 0.007557392120361328\n",
      "Handsegnet forward time: 0.0009717941284179688\n",
      "s shape torch.Size([1, 2, 224, 224])\n",
      "for loop time 0.002980947494506836\n",
      "hand mask sum: 2412.0\n",
      "Calculate single highest scoring object time: 0.027935266494750977\n",
      "Crop and resize time: 0.0009312629699707031\n",
      "Posenet forward time: 0.0019702911376953125\n",
      "Posepriornet forward time: 0.0007061958312988281\n",
      "Viewpoint forward time: 0.0009555816650390625\n",
      "Get normalized 3d coordinates time: 0.0005807876586914062\n",
      "Flip left handed input time: 0.00012063980102539062\n",
      "ScaLe heatmaps time 8.034706115722656e-05\n",
      "Time for processing 1 frame: 0.042366743087768555s\n"
     ]
    },
    {
     "name": "stderr",
     "output_type": "stream",
     "text": [
      "496it [01:25,  5.93it/s]"
     ]
    },
    {
     "name": "stdout",
     "output_type": "stream",
     "text": [
      "tensor([[0.9992]], device='cuda:0', grad_fn=<SigmoidBackward>)\n",
      "Handnet forward time: 0.007589817047119141\n",
      "Handsegnet forward time: 0.0011191368103027344\n",
      "s shape torch.Size([1, 2, 224, 224])\n",
      "for loop time 0.002988576889038086\n",
      "hand mask sum: 2406.0\n",
      "Calculate single highest scoring object time: 0.027740955352783203\n",
      "Crop and resize time: 0.0009655952453613281\n",
      "Posenet forward time: 0.0020465850830078125\n",
      "Posepriornet forward time: 0.0007488727569580078\n",
      "Viewpoint forward time: 0.0009829998016357422\n",
      "Get normalized 3d coordinates time: 0.0006134510040283203\n",
      "Flip left handed input time: 0.0001456737518310547\n",
      "ScaLe heatmaps time 0.00010347366333007812\n",
      "Time for processing 1 frame: 0.04271888732910156s\n",
      "tensor([[0.9992]], device='cuda:0', grad_fn=<SigmoidBackward>)\n",
      "Handnet forward time: 0.007599830627441406\n",
      "Handsegnet forward time: 0.0009655952453613281\n",
      "s shape torch.Size([1, 2, 224, 224])\n",
      "for loop time 0.0029914379119873047\n",
      "hand mask sum: 2424.0\n",
      "Calculate single highest scoring object time: 0.028085708618164062\n",
      "Crop and resize time: 0.0009567737579345703\n",
      "Posenet forward time: 0.0020155906677246094\n"
     ]
    },
    {
     "name": "stderr",
     "output_type": "stream",
     "text": [
      "\r",
      "497it [01:25,  5.94it/s]"
     ]
    },
    {
     "name": "stdout",
     "output_type": "stream",
     "text": [
      "Posepriornet forward time: 0.0010080337524414062\n",
      "Viewpoint forward time: 0.0010247230529785156\n",
      "Get normalized 3d coordinates time: 0.0006237030029296875\n",
      "Flip left handed input time: 0.00014853477478027344\n",
      "ScaLe heatmaps time 0.00010395050048828125\n",
      "Time for processing 1 frame: 0.04316854476928711s\n",
      "tensor([[0.9990]], device='cuda:0', grad_fn=<SigmoidBackward>)\n",
      "Handnet forward time: 0.007544040679931641\n",
      "Handsegnet forward time: 0.0009663105010986328\n",
      "s shape torch.Size([1, 2, 224, 224])\n",
      "for loop time 0.0029718875885009766\n",
      "hand mask sum: 2435.0\n",
      "Calculate single highest scoring object time: 0.028021574020385742\n",
      "Crop and resize time: 0.0009572505950927734\n",
      "Posenet forward time: 0.002012968063354492\n",
      "Posepriornet forward time: 0.0007441043853759766\n",
      "Viewpoint forward time: 0.0009789466857910156\n",
      "Get normalized 3d coordinates time: 0.0006248950958251953\n",
      "Flip left handed input time: 0.00014925003051757812\n",
      "ScaLe heatmaps time 0.00010418891906738281\n",
      "Time for processing 1 frame: 0.04271268844604492s\n"
     ]
    },
    {
     "name": "stderr",
     "output_type": "stream",
     "text": [
      "499it [01:26,  5.85it/s]"
     ]
    },
    {
     "name": "stdout",
     "output_type": "stream",
     "text": [
      "tensor([[0.9992]], device='cuda:0', grad_fn=<SigmoidBackward>)\n",
      "Handnet forward time: 0.0075931549072265625\n",
      "Handsegnet forward time: 0.0009615421295166016\n",
      "s shape torch.Size([1, 2, 224, 224])\n",
      "for loop time 0.003013134002685547\n",
      "hand mask sum: 2431.0\n",
      "Calculate single highest scoring object time: 0.028057336807250977\n",
      "Crop and resize time: 0.0011501312255859375\n",
      "Posenet forward time: 0.002422332763671875\n",
      "Posepriornet forward time: 0.0008325576782226562\n",
      "Viewpoint forward time: 0.0011272430419921875\n",
      "Get normalized 3d coordinates time: 0.0007023811340332031\n",
      "Flip left handed input time: 0.0001163482666015625\n",
      "ScaLe heatmaps time 7.557868957519531e-05\n",
      "Time for processing 1 frame: 0.0437314510345459s\n",
      "tensor([[0.9992]], device='cuda:0', grad_fn=<SigmoidBackward>)\n",
      "Handnet forward time: 0.0075376033782958984\n",
      "Handsegnet forward time: 0.0009748935699462891\n"
     ]
    },
    {
     "name": "stderr",
     "output_type": "stream",
     "text": [
      "\r",
      "500it [01:26,  5.86it/s]"
     ]
    },
    {
     "name": "stdout",
     "output_type": "stream",
     "text": [
      "s shape torch.Size([1, 2, 224, 224])\n",
      "for loop time 0.0030040740966796875\n",
      "hand mask sum: 2430.0\n",
      "Calculate single highest scoring object time: 0.02801966667175293\n",
      "Crop and resize time: 0.0009839534759521484\n",
      "Posenet forward time: 0.0020203590393066406\n",
      "Posepriornet forward time: 0.0007510185241699219\n",
      "Viewpoint forward time: 0.0010051727294921875\n",
      "Get normalized 3d coordinates time: 0.0006172657012939453\n",
      "Flip left handed input time: 0.0001475811004638672\n",
      "ScaLe heatmaps time 0.00010418891906738281\n",
      "Time for processing 1 frame: 0.04277682304382324s\n",
      "tensor([[0.9994]], device='cuda:0', grad_fn=<SigmoidBackward>)\n",
      "Handnet forward time: 0.0076045989990234375\n",
      "Handsegnet forward time: 0.0009706020355224609\n",
      "s shape torch.Size([1, 2, 224, 224])\n",
      "for loop time 0.003028392791748047\n",
      "hand mask sum: 2439.0\n",
      "Calculate single highest scoring object time: 0.02809929847717285\n",
      "Crop and resize time: 0.0009765625\n",
      "Posenet forward time: 0.0020198822021484375\n",
      "Posepriornet forward time: 0.0007493495941162109\n",
      "Viewpoint forward time: 0.0009758472442626953\n",
      "Get normalized 3d coordinates time: 0.0006172657012939453\n",
      "Flip left handed input time: 0.000148773193359375\n",
      "ScaLe heatmaps time 0.00010442733764648438\n",
      "Time for processing 1 frame: 0.04288125038146973s\n"
     ]
    },
    {
     "name": "stderr",
     "output_type": "stream",
     "text": [
      "502it [01:26,  5.90it/s]"
     ]
    },
    {
     "name": "stdout",
     "output_type": "stream",
     "text": [
      "tensor([[0.9994]], device='cuda:0', grad_fn=<SigmoidBackward>)\n",
      "Handnet forward time: 0.007584571838378906\n",
      "Handsegnet forward time: 0.0009715557098388672\n",
      "s shape torch.Size([1, 2, 224, 224])\n",
      "for loop time 0.002986431121826172\n",
      "hand mask sum: 2435.0\n",
      "Calculate single highest scoring object time: 0.02809309959411621\n",
      "Crop and resize time: 0.000965118408203125\n",
      "Posenet forward time: 0.0020558834075927734\n",
      "Posepriornet forward time: 0.000751495361328125\n",
      "Viewpoint forward time: 0.0009794235229492188\n",
      "Get normalized 3d coordinates time: 0.0006275177001953125\n",
      "Flip left handed input time: 0.00014638900756835938\n",
      "ScaLe heatmaps time 0.00011038780212402344\n",
      "Time for processing 1 frame: 0.04293966293334961s\n",
      "tensor([[0.9990]], device='cuda:0', grad_fn=<SigmoidBackward>)\n",
      "Handnet forward time: 0.007590293884277344\n",
      "Handsegnet forward time: 0.0009653568267822266\n",
      "s shape torch.Size([1, 2, 224, 224])\n",
      "for loop time 0.0029981136322021484\n",
      "hand mask sum: 2449.0\n",
      "Calculate single highest scoring object time: 0.028022050857543945\n",
      "Crop and resize time: 0.0009670257568359375\n",
      "Posenet forward time: 0.002011537551879883\n"
     ]
    },
    {
     "name": "stderr",
     "output_type": "stream",
     "text": [
      "\r",
      "503it [01:26,  5.91it/s]"
     ]
    },
    {
     "name": "stdout",
     "output_type": "stream",
     "text": [
      "Posepriornet forward time: 0.001001596450805664\n",
      "Viewpoint forward time: 0.0010294914245605469\n",
      "Get normalized 3d coordinates time: 0.0006260871887207031\n",
      "Flip left handed input time: 0.0001468658447265625\n",
      "ScaLe heatmaps time 0.00010395050048828125\n",
      "Time for processing 1 frame: 0.04308772087097168s\n",
      "tensor([[0.9987]], device='cuda:0', grad_fn=<SigmoidBackward>)\n",
      "Handnet forward time: 0.0076181888580322266\n",
      "Handsegnet forward time: 0.0009703636169433594\n",
      "s shape torch.Size([1, 2, 224, 224])\n",
      "for loop time 0.003027200698852539\n",
      "hand mask sum: 2456.0\n",
      "Calculate single highest scoring object time: 0.028357744216918945\n",
      "Crop and resize time: 0.0009663105010986328\n",
      "Posenet forward time: 0.002007007598876953\n",
      "Posepriornet forward time: 0.0007953643798828125\n",
      "Viewpoint forward time: 0.000989675521850586\n",
      "Get normalized 3d coordinates time: 0.0006144046783447266\n",
      "Flip left handed input time: 0.00014638900756835938\n",
      "ScaLe heatmaps time 0.00010657310485839844\n",
      "Time for processing 1 frame: 0.04318380355834961s\n"
     ]
    },
    {
     "name": "stderr",
     "output_type": "stream",
     "text": [
      "505it [01:27,  5.89it/s]"
     ]
    },
    {
     "name": "stdout",
     "output_type": "stream",
     "text": [
      "tensor([[0.9992]], device='cuda:0', grad_fn=<SigmoidBackward>)\n",
      "Handnet forward time: 0.007611513137817383\n",
      "Handsegnet forward time: 0.0010025501251220703\n",
      "s shape torch.Size([1, 2, 224, 224])\n",
      "for loop time 0.0030372142791748047\n",
      "hand mask sum: 2467.0\n",
      "Calculate single highest scoring object time: 0.02833414077758789\n",
      "Crop and resize time: 0.0009779930114746094\n",
      "Posenet forward time: 0.0020427703857421875\n",
      "Posepriornet forward time: 0.0007600784301757812\n",
      "Viewpoint forward time: 0.0009849071502685547\n",
      "Get normalized 3d coordinates time: 0.000621795654296875\n",
      "Flip left handed input time: 0.00014829635620117188\n",
      "ScaLe heatmaps time 0.00010418891906738281\n",
      "Time for processing 1 frame: 0.043248891830444336s\n",
      "tensor([[0.9992]], device='cuda:0', grad_fn=<SigmoidBackward>)\n",
      "Handnet forward time: 0.007592201232910156\n",
      "Handsegnet forward time: 0.0009660720825195312\n",
      "s shape torch.Size([1, 2, 224, 224])\n",
      "for loop time 0.0030226707458496094\n",
      "hand mask sum: 2466.0\n",
      "Calculate single highest scoring object time: 0.028202056884765625\n"
     ]
    },
    {
     "name": "stderr",
     "output_type": "stream",
     "text": [
      "\r",
      "506it [01:27,  5.89it/s]"
     ]
    },
    {
     "name": "stdout",
     "output_type": "stream",
     "text": [
      "Crop and resize time: 0.0011811256408691406\n",
      "Posenet forward time: 0.002086162567138672\n",
      "Posepriornet forward time: 0.0007562637329101562\n",
      "Viewpoint forward time: 0.0009987354278564453\n",
      "Get normalized 3d coordinates time: 0.0006172657012939453\n",
      "Flip left handed input time: 0.0001506805419921875\n",
      "ScaLe heatmaps time 0.00010561943054199219\n",
      "Time for processing 1 frame: 0.04327678680419922s\n",
      "tensor([[0.9984]], device='cuda:0', grad_fn=<SigmoidBackward>)\n",
      "Handnet forward time: 0.007620096206665039\n",
      "Handsegnet forward time: 0.0009739398956298828\n",
      "s shape torch.Size([1, 2, 224, 224])\n",
      "for loop time 0.0030231475830078125\n",
      "hand mask sum: 2452.0\n",
      "Calculate single highest scoring object time: 0.028247833251953125\n",
      "Crop and resize time: 0.0009593963623046875\n",
      "Posenet forward time: 0.0020220279693603516\n",
      "Posepriornet forward time: 0.0007734298706054688\n",
      "Viewpoint forward time: 0.0009794235229492188\n",
      "Get normalized 3d coordinates time: 0.0006124973297119141\n",
      "Flip left handed input time: 0.0001461505889892578\n",
      "ScaLe heatmaps time 0.00010466575622558594\n",
      "Time for processing 1 frame: 0.04305839538574219s\n"
     ]
    },
    {
     "name": "stderr",
     "output_type": "stream",
     "text": [
      "508it [01:27,  5.91it/s]"
     ]
    },
    {
     "name": "stdout",
     "output_type": "stream",
     "text": [
      "tensor([[0.9984]], device='cuda:0', grad_fn=<SigmoidBackward>)\n",
      "Handnet forward time: 0.00762629508972168\n",
      "Handsegnet forward time: 0.0009741783142089844\n",
      "s shape torch.Size([1, 2, 224, 224])\n",
      "for loop time 0.0029947757720947266\n",
      "hand mask sum: 2449.0\n",
      "Calculate single highest scoring object time: 0.02799391746520996\n",
      "Crop and resize time: 0.0009658336639404297\n",
      "Posenet forward time: 0.002040863037109375\n",
      "Posepriornet forward time: 0.0007505416870117188\n",
      "Viewpoint forward time: 0.000978231430053711\n",
      "Get normalized 3d coordinates time: 0.0006148815155029297\n",
      "Flip left handed input time: 0.00014662742614746094\n",
      "ScaLe heatmaps time 0.00010442733764648438\n",
      "Time for processing 1 frame: 0.04284167289733887s\n",
      "tensor([[0.9987]], device='cuda:0', grad_fn=<SigmoidBackward>)\n",
      "Handnet forward time: 0.007565021514892578\n",
      "Handsegnet forward time: 0.0009701251983642578\n",
      "s shape torch.Size([1, 2, 224, 224])\n",
      "for loop time 0.003038644790649414\n",
      "hand mask sum: 2434.0\n",
      "Calculate single highest scoring object time: 0.028424739837646484\n",
      "Crop and resize time: 0.0009856224060058594\n"
     ]
    },
    {
     "name": "stderr",
     "output_type": "stream",
     "text": [
      "\r",
      "509it [01:27,  5.91it/s]"
     ]
    },
    {
     "name": "stdout",
     "output_type": "stream",
     "text": [
      "Posenet forward time: 0.002264738082885742\n",
      "Posepriornet forward time: 0.0007963180541992188\n",
      "Viewpoint forward time: 0.000988006591796875\n",
      "Get normalized 3d coordinates time: 0.0006287097930908203\n",
      "Flip left handed input time: 0.00014901161193847656\n",
      "ScaLe heatmaps time 0.00010418891906738281\n",
      "Time for processing 1 frame: 0.04349946975708008s\n",
      "tensor([[0.9986]], device='cuda:0', grad_fn=<SigmoidBackward>)\n",
      "Handnet forward time: 0.0075473785400390625\n",
      "Handsegnet forward time: 0.0009701251983642578\n",
      "s shape torch.Size([1, 2, 224, 224])\n",
      "for loop time 0.0029845237731933594\n",
      "hand mask sum: 2433.0\n",
      "Calculate single highest scoring object time: 0.028055191040039062\n",
      "Crop and resize time: 0.0009694099426269531\n",
      "Posenet forward time: 0.0020067691802978516\n",
      "Posepriornet forward time: 0.0007517337799072266\n",
      "Viewpoint forward time: 0.0009913444519042969\n",
      "Get normalized 3d coordinates time: 0.0006201267242431641\n",
      "Flip left handed input time: 0.0001456737518310547\n",
      "ScaLe heatmaps time 0.00010156631469726562\n",
      "Time for processing 1 frame: 0.04276704788208008s\n"
     ]
    },
    {
     "name": "stderr",
     "output_type": "stream",
     "text": [
      "511it [01:28,  5.89it/s]"
     ]
    },
    {
     "name": "stdout",
     "output_type": "stream",
     "text": [
      "tensor([[0.9984]], device='cuda:0', grad_fn=<SigmoidBackward>)\n",
      "Handnet forward time: 0.007563591003417969\n",
      "Handsegnet forward time: 0.0009887218475341797\n",
      "s shape torch.Size([1, 2, 224, 224])\n",
      "for loop time 0.0029861927032470703\n",
      "hand mask sum: 2418.0\n",
      "Calculate single highest scoring object time: 0.02798151969909668\n",
      "Crop and resize time: 0.0009624958038330078\n",
      "Posenet forward time: 0.0020322799682617188\n",
      "Posepriornet forward time: 0.0007519721984863281\n",
      "Viewpoint forward time: 0.0009906291961669922\n",
      "Get normalized 3d coordinates time: 0.0006105899810791016\n",
      "Flip left handed input time: 0.00014710426330566406\n",
      "ScaLe heatmaps time 0.00010251998901367188\n",
      "Time for processing 1 frame: 0.04278206825256348s\n",
      "tensor([[0.9972]], device='cuda:0', grad_fn=<SigmoidBackward>)\n",
      "Handnet forward time: 0.007542848587036133\n",
      "Handsegnet forward time: 0.0009748935699462891\n",
      "s shape torch.Size([1, 2, 224, 224])\n",
      "for loop time 0.0030252933502197266\n",
      "hand mask sum: 2403.0\n",
      "Calculate single highest scoring object time: 0.02814316749572754\n"
     ]
    },
    {
     "name": "stderr",
     "output_type": "stream",
     "text": [
      "\r",
      "512it [01:28,  5.89it/s]"
     ]
    },
    {
     "name": "stdout",
     "output_type": "stream",
     "text": [
      "Crop and resize time: 0.0011708736419677734\n",
      "Posenet forward time: 0.0020751953125\n",
      "Posepriornet forward time: 0.0007543563842773438\n",
      "Viewpoint forward time: 0.0009963512420654297\n",
      "Get normalized 3d coordinates time: 0.0006198883056640625\n",
      "Flip left handed input time: 0.00014591217041015625\n",
      "ScaLe heatmaps time 0.00010514259338378906\n",
      "Time for processing 1 frame: 0.04314684867858887s\n",
      "tensor([[0.9973]], device='cuda:0', grad_fn=<SigmoidBackward>)\n",
      "Handnet forward time: 0.00760340690612793\n",
      "Handsegnet forward time: 0.0009694099426269531\n",
      "s shape torch.Size([1, 2, 224, 224])\n",
      "for loop time 0.0030069351196289062\n",
      "hand mask sum: 2304.0\n",
      "Calculate single highest scoring object time: 0.02810955047607422\n",
      "Crop and resize time: 0.0009665489196777344\n",
      "Posenet forward time: 0.002015829086303711\n",
      "Posepriornet forward time: 0.0007469654083251953\n",
      "Viewpoint forward time: 0.000982046127319336\n",
      "Get normalized 3d coordinates time: 0.0006136894226074219\n",
      "Flip left handed input time: 0.00014734268188476562\n",
      "ScaLe heatmaps time 0.00010395050048828125\n",
      "Time for processing 1 frame: 0.042865753173828125s\n"
     ]
    },
    {
     "name": "stderr",
     "output_type": "stream",
     "text": [
      "514it [01:28,  6.08it/s]"
     ]
    },
    {
     "name": "stdout",
     "output_type": "stream",
     "text": [
      "tensor([[0.9989]], device='cuda:0', grad_fn=<SigmoidBackward>)\n",
      "Handnet forward time: 0.007561445236206055\n",
      "Handsegnet forward time: 0.0009717941284179688\n",
      "s shape torch.Size([1, 2, 224, 224])\n",
      "for loop time 0.0029947757720947266\n",
      "hand mask sum: 2317.0\n",
      "Calculate single highest scoring object time: 0.028106212615966797\n",
      "Crop and resize time: 0.0009653568267822266\n",
      "Posenet forward time: 0.0021028518676757812\n",
      "Posepriornet forward time: 0.0007526874542236328\n",
      "Viewpoint forward time: 0.0009808540344238281\n",
      "Get normalized 3d coordinates time: 0.0006139278411865234\n",
      "Flip left handed input time: 0.00014591217041015625\n",
      "ScaLe heatmaps time 0.00010418891906738281\n",
      "Time for processing 1 frame: 0.04295682907104492s\n",
      "tensor([[0.9993]], device='cuda:0', grad_fn=<SigmoidBackward>)\n",
      "Handnet forward time: 0.0076138973236083984\n",
      "Handsegnet forward time: 0.0009682178497314453\n",
      "s shape torch.Size([1, 2, 224, 224])\n",
      "for loop time 0.0029892921447753906\n",
      "hand mask sum: 2330.0\n",
      "Calculate single highest scoring object time: 0.028037548065185547\n",
      "Crop and resize time: 0.0009603500366210938\n",
      "Posenet forward time: 0.002036571502685547\n",
      "Posepriornet forward time: 0.0007460117340087891\n",
      "Viewpoint forward time: 0.0009865760803222656\n",
      "Get normalized 3d coordinates time: 0.0006227493286132812\n",
      "Flip left handed input time: 0.00014972686767578125\n",
      "ScaLe heatmaps time 0.00010371208190917969\n",
      "Time for processing 1 frame: 0.04283428192138672s\n"
     ]
    },
    {
     "name": "stderr",
     "output_type": "stream",
     "text": [
      "516it [01:29,  6.14it/s]"
     ]
    },
    {
     "name": "stdout",
     "output_type": "stream",
     "text": [
      "tensor([[1.0000]], device='cuda:0', grad_fn=<SigmoidBackward>)\n",
      "Handnet forward time: 0.007608652114868164\n",
      "Handsegnet forward time: 0.0009729862213134766\n",
      "s shape torch.Size([1, 2, 224, 224])\n",
      "for loop time 0.0030236244201660156\n",
      "hand mask sum: 2371.0\n",
      "Calculate single highest scoring object time: 0.028274059295654297\n",
      "Crop and resize time: 0.0009615421295166016\n",
      "Posenet forward time: 0.002053499221801758\n",
      "Posepriornet forward time: 0.0007436275482177734\n",
      "Viewpoint forward time: 0.0009951591491699219\n",
      "Get normalized 3d coordinates time: 0.0006144046783447266\n",
      "Flip left handed input time: 0.00014591217041015625\n",
      "ScaLe heatmaps time 0.00010323524475097656\n",
      "Time for processing 1 frame: 0.04311537742614746s\n",
      "tensor([[1.0000]], device='cuda:0', grad_fn=<SigmoidBackward>)\n",
      "Handnet forward time: 0.007632017135620117\n",
      "Handsegnet forward time: 0.0009641647338867188\n",
      "s shape torch.Size([1, 2, 224, 224])\n",
      "for loop time 0.003060579299926758\n",
      "hand mask sum: 2430.0\n",
      "Calculate single highest scoring object time: 0.02838730812072754\n",
      "Crop and resize time: 0.0009627342224121094\n",
      "Posenet forward time: 0.002057790756225586\n",
      "Posepriornet forward time: 0.0007524490356445312\n",
      "Viewpoint forward time: 0.000982046127319336\n",
      "Get normalized 3d coordinates time: 0.0006148815155029297\n",
      "Flip left handed input time: 0.00014662742614746094\n",
      "ScaLe heatmaps time 0.00010323524475097656\n",
      "Time for processing 1 frame: 0.043224334716796875s\n"
     ]
    },
    {
     "name": "stderr",
     "output_type": "stream",
     "text": [
      "518it [01:29,  6.16it/s]"
     ]
    },
    {
     "name": "stdout",
     "output_type": "stream",
     "text": [
      "tensor([[1.0000]], device='cuda:0', grad_fn=<SigmoidBackward>)\n",
      "Handnet forward time: 0.007641792297363281\n",
      "Handsegnet forward time: 0.0009665489196777344\n",
      "s shape torch.Size([1, 2, 224, 224])\n",
      "for loop time 0.003007173538208008\n",
      "hand mask sum: 2467.0\n",
      "Calculate single highest scoring object time: 0.028288602828979492\n",
      "Crop and resize time: 0.0009589195251464844\n",
      "Posenet forward time: 0.0020105838775634766\n",
      "Posepriornet forward time: 0.0007476806640625\n",
      "Viewpoint forward time: 0.000985860824584961\n",
      "Get normalized 3d coordinates time: 0.0006105899810791016\n",
      "Flip left handed input time: 0.00014543533325195312\n",
      "ScaLe heatmaps time 0.00010395050048828125\n",
      "Time for processing 1 frame: 0.043103694915771484s\n",
      "tensor([[1.0000]], device='cuda:0', grad_fn=<SigmoidBackward>)\n",
      "Handnet forward time: 0.007575273513793945\n",
      "Handsegnet forward time: 0.0009677410125732422\n",
      "s shape torch.Size([1, 2, 224, 224])\n",
      "for loop time 0.00299835205078125\n",
      "hand mask sum: 2530.0\n",
      "Calculate single highest scoring object time: 0.028061866760253906\n",
      "Crop and resize time: 0.0009596347808837891\n",
      "Posenet forward time: 0.0020270347595214844\n",
      "Posepriornet forward time: 0.0007436275482177734\n",
      "Viewpoint forward time: 0.0009794235229492188\n",
      "Get normalized 3d coordinates time: 0.0006144046783447266\n",
      "Flip left handed input time: 0.0001468658447265625\n",
      "ScaLe heatmaps time 0.00010347366333007812\n",
      "Time for processing 1 frame: 0.04279208183288574s\n"
     ]
    },
    {
     "name": "stderr",
     "output_type": "stream",
     "text": [
      "520it [01:29,  6.17it/s]"
     ]
    },
    {
     "name": "stdout",
     "output_type": "stream",
     "text": [
      "tensor([[1.0000]], device='cuda:0', grad_fn=<SigmoidBackward>)\n",
      "Handnet forward time: 0.007611513137817383\n",
      "Handsegnet forward time: 0.0009756088256835938\n",
      "s shape torch.Size([1, 2, 224, 224])\n",
      "for loop time 0.0030183792114257812\n",
      "hand mask sum: 2544.0\n",
      "Calculate single highest scoring object time: 0.028144121170043945\n",
      "Crop and resize time: 0.0009596347808837891\n",
      "Posenet forward time: 0.002042531967163086\n",
      "Posepriornet forward time: 0.0007488727569580078\n",
      "Viewpoint forward time: 0.0009922981262207031\n",
      "Get normalized 3d coordinates time: 0.0006194114685058594\n",
      "Flip left handed input time: 0.00014710426330566406\n",
      "ScaLe heatmaps time 0.00010418891906738281\n",
      "Time for processing 1 frame: 0.042997121810913086s\n",
      "tensor([[1.0000]], device='cuda:0', grad_fn=<SigmoidBackward>)\n",
      "Handnet forward time: 0.007638454437255859\n",
      "Handsegnet forward time: 0.0009760856628417969\n",
      "s shape torch.Size([1, 2, 224, 224])\n",
      "for loop time 0.0030145645141601562\n",
      "hand mask sum: 2578.0\n",
      "Calculate single highest scoring object time: 0.028267621994018555\n",
      "Crop and resize time: 0.0009753704071044922\n",
      "Posenet forward time: 0.0020155906677246094\n",
      "Posepriornet forward time: 0.0007429122924804688\n",
      "Viewpoint forward time: 0.0009794235229492188\n",
      "Get normalized 3d coordinates time: 0.0006108283996582031\n",
      "Flip left handed input time: 0.0001461505889892578\n",
      "ScaLe heatmaps time 0.00010132789611816406\n",
      "Time for processing 1 frame: 0.04306292533874512s\n"
     ]
    },
    {
     "name": "stderr",
     "output_type": "stream",
     "text": [
      "522it [01:29,  6.16it/s]"
     ]
    },
    {
     "name": "stdout",
     "output_type": "stream",
     "text": [
      "tensor([[1.0000]], device='cuda:0', grad_fn=<SigmoidBackward>)\n",
      "Handnet forward time: 0.007620334625244141\n",
      "Handsegnet forward time: 0.000965118408203125\n",
      "s shape torch.Size([1, 2, 224, 224])\n",
      "for loop time 0.0029973983764648438\n",
      "hand mask sum: 2631.0\n",
      "Calculate single highest scoring object time: 0.028202295303344727\n",
      "Crop and resize time: 0.0009777545928955078\n",
      "Posenet forward time: 0.001994609832763672\n",
      "Posepriornet forward time: 0.0007410049438476562\n",
      "Viewpoint forward time: 0.0009918212890625\n",
      "Get normalized 3d coordinates time: 0.0006127357482910156\n",
      "Flip left handed input time: 0.00014710426330566406\n",
      "ScaLe heatmaps time 0.00010347366333007812\n",
      "Time for processing 1 frame: 0.043003082275390625s\n",
      "tensor([[1.0000]], device='cuda:0', grad_fn=<SigmoidBackward>)\n",
      "Handnet forward time: 0.0076029300689697266\n",
      "Handsegnet forward time: 0.0009658336639404297\n",
      "s shape torch.Size([1, 2, 224, 224])\n",
      "for loop time 0.0030112266540527344\n",
      "hand mask sum: 2686.0\n",
      "Calculate single highest scoring object time: 0.028249502182006836\n",
      "Crop and resize time: 0.0009660720825195312\n",
      "Posenet forward time: 0.002028942108154297\n",
      "Posepriornet forward time: 0.0007441043853759766\n",
      "Viewpoint forward time: 0.000990152359008789\n",
      "Get normalized 3d coordinates time: 0.0006136894226074219\n",
      "Flip left handed input time: 0.0001475811004638672\n",
      "ScaLe heatmaps time 0.000102996826171875\n",
      "Time for processing 1 frame: 0.04302167892456055s\n"
     ]
    },
    {
     "name": "stderr",
     "output_type": "stream",
     "text": [
      "524it [01:30,  4.51it/s]"
     ]
    },
    {
     "name": "stdout",
     "output_type": "stream",
     "text": [
      "tensor([[0.9999]], device='cuda:0', grad_fn=<SigmoidBackward>)\n",
      "Handnet forward time: 0.007540464401245117\n",
      "Handsegnet forward time: 0.0009214878082275391\n",
      "s shape torch.Size([1, 2, 224, 224])\n",
      "for loop time 0.0029611587524414062\n",
      "hand mask sum: 2647.0\n",
      "Calculate single highest scoring object time: 0.02815389633178711\n",
      "Crop and resize time: 0.0009055137634277344\n",
      "Posenet forward time: 0.001973867416381836\n",
      "Posepriornet forward time: 0.0007436275482177734\n",
      "Viewpoint forward time: 0.0009455680847167969\n",
      "Get normalized 3d coordinates time: 0.0005733966827392578\n",
      "Flip left handed input time: 0.00014019012451171875\n",
      "ScaLe heatmaps time 4.1484832763671875e-05\n",
      "Time for processing 1 frame: 0.04261302947998047s\n",
      "tensor([[0.9999]], device='cuda:0', grad_fn=<SigmoidBackward>)\n",
      "Handnet forward time: 0.00767827033996582\n",
      "Handsegnet forward time: 0.0009851455688476562\n",
      "s shape torch.Size([1, 2, 224, 224])\n",
      "for loop time 0.003010988235473633\n",
      "hand mask sum: 2635.0\n",
      "Calculate single highest scoring object time: 0.02820873260498047\n",
      "Crop and resize time: 0.0009417533874511719\n",
      "Posenet forward time: 0.001957416534423828\n",
      "Posepriornet forward time: 0.0007126331329345703\n",
      "Viewpoint forward time: 0.0009541511535644531\n",
      "Get normalized 3d coordinates time: 0.0005831718444824219\n",
      "Flip left handed input time: 0.00011992454528808594\n",
      "ScaLe heatmaps time 8.106231689453125e-05\n",
      "Time for processing 1 frame: 0.04279327392578125s\n"
     ]
    },
    {
     "name": "stderr",
     "output_type": "stream",
     "text": [
      "526it [01:30,  5.22it/s]"
     ]
    },
    {
     "name": "stdout",
     "output_type": "stream",
     "text": [
      "tensor([[0.9993]], device='cuda:0', grad_fn=<SigmoidBackward>)\n",
      "Handnet forward time: 0.007618904113769531\n",
      "Handsegnet forward time: 0.0009646415710449219\n",
      "s shape torch.Size([1, 2, 224, 224])\n",
      "for loop time 0.003009796142578125\n",
      "hand mask sum: 2618.0\n",
      "Calculate single highest scoring object time: 0.02811288833618164\n",
      "Crop and resize time: 0.0009429454803466797\n",
      "Posenet forward time: 0.0019729137420654297\n",
      "Posepriornet forward time: 0.0007069110870361328\n",
      "Viewpoint forward time: 0.0009567737579345703\n",
      "Get normalized 3d coordinates time: 0.00058746337890625\n",
      "Flip left handed input time: 0.0001227855682373047\n",
      "ScaLe heatmaps time 8.726119995117188e-05\n",
      "Time for processing 1 frame: 0.04268169403076172s\n",
      "tensor([[0.9998]], device='cuda:0', grad_fn=<SigmoidBackward>)\n",
      "Handnet forward time: 0.007587909698486328\n",
      "Handsegnet forward time: 0.0009672641754150391\n",
      "s shape torch.Size([1, 2, 224, 224])\n",
      "for loop time 0.0030105113983154297\n",
      "hand mask sum: 2634.0\n",
      "Calculate single highest scoring object time: 0.02817058563232422\n",
      "Crop and resize time: 0.0009369850158691406\n",
      "Posenet forward time: 0.001962423324584961\n",
      "Posepriornet forward time: 0.0007035732269287109\n",
      "Viewpoint forward time: 0.0009462833404541016\n",
      "Get normalized 3d coordinates time: 0.0005826950073242188\n",
      "Flip left handed input time: 0.00012111663818359375\n",
      "ScaLe heatmaps time 8.273124694824219e-05\n",
      "Time for processing 1 frame: 0.04262900352478027s\n"
     ]
    },
    {
     "name": "stderr",
     "output_type": "stream",
     "text": [
      "528it [01:31,  5.64it/s]"
     ]
    },
    {
     "name": "stdout",
     "output_type": "stream",
     "text": [
      "tensor([[0.9999]], device='cuda:0', grad_fn=<SigmoidBackward>)\n",
      "Handnet forward time: 0.007608175277709961\n",
      "Handsegnet forward time: 0.0009722709655761719\n",
      "s shape torch.Size([1, 2, 224, 224])\n",
      "for loop time 0.0030202865600585938\n",
      "hand mask sum: 2661.0\n",
      "Calculate single highest scoring object time: 0.028248071670532227\n",
      "Crop and resize time: 0.0009377002716064453\n",
      "Posenet forward time: 0.001974344253540039\n",
      "Posepriornet forward time: 0.0007090568542480469\n",
      "Viewpoint forward time: 0.0009527206420898438\n",
      "Get normalized 3d coordinates time: 0.0005843639373779297\n",
      "Flip left handed input time: 0.00012063980102539062\n",
      "ScaLe heatmaps time 8.416175842285156e-05\n",
      "Time for processing 1 frame: 0.042798519134521484s\n",
      "tensor([[0.9999]], device='cuda:0', grad_fn=<SigmoidBackward>)\n",
      "Handnet forward time: 0.0076177120208740234\n",
      "Handsegnet forward time: 0.0009768009185791016\n",
      "s shape torch.Size([1, 2, 224, 224])\n",
      "for loop time 0.0030786991119384766\n",
      "hand mask sum: 2681.0\n",
      "Calculate single highest scoring object time: 0.028357505798339844\n",
      "Crop and resize time: 0.0009424686431884766\n",
      "Posenet forward time: 0.0019774436950683594\n",
      "Posepriornet forward time: 0.0007131099700927734\n",
      "Viewpoint forward time: 0.0009524822235107422\n",
      "Get normalized 3d coordinates time: 0.0005884170532226562\n",
      "Flip left handed input time: 0.00012159347534179688\n",
      "ScaLe heatmaps time 8.225440979003906e-05\n",
      "Time for processing 1 frame: 0.042847633361816406s\n"
     ]
    },
    {
     "name": "stderr",
     "output_type": "stream",
     "text": [
      "530it [01:31,  5.86it/s]"
     ]
    },
    {
     "name": "stdout",
     "output_type": "stream",
     "text": [
      "tensor([[0.9999]], device='cuda:0', grad_fn=<SigmoidBackward>)\n",
      "Handnet forward time: 0.0076694488525390625\n",
      "Handsegnet forward time: 0.0009834766387939453\n",
      "s shape torch.Size([1, 2, 224, 224])\n",
      "for loop time 0.003067493438720703\n",
      "hand mask sum: 2691.0\n",
      "Calculate single highest scoring object time: 0.02832198143005371\n",
      "Crop and resize time: 0.0009472370147705078\n",
      "Posenet forward time: 0.0019867420196533203\n",
      "Posepriornet forward time: 0.0007128715515136719\n",
      "Viewpoint forward time: 0.0009491443634033203\n",
      "Get normalized 3d coordinates time: 0.0005900859832763672\n",
      "Flip left handed input time: 0.0001220703125\n",
      "ScaLe heatmaps time 9.1552734375e-05\n",
      "Time for processing 1 frame: 0.04297924041748047s\n",
      "tensor([[1.0000]], device='cuda:0', grad_fn=<SigmoidBackward>)\n",
      "Handnet forward time: 0.007630586624145508\n",
      "Handsegnet forward time: 0.0009708404541015625\n",
      "s shape torch.Size([1, 2, 224, 224])\n",
      "for loop time 0.003050565719604492\n",
      "hand mask sum: 2708.0\n",
      "Calculate single highest scoring object time: 0.028258800506591797\n",
      "Crop and resize time: 0.0009391307830810547\n",
      "Posenet forward time: 0.0019605159759521484\n",
      "Posepriornet forward time: 0.0007109642028808594\n",
      "Viewpoint forward time: 0.0009500980377197266\n",
      "Get normalized 3d coordinates time: 0.0005838871002197266\n",
      "Flip left handed input time: 0.00011801719665527344\n",
      "ScaLe heatmaps time 8.344650268554688e-05\n",
      "Time for processing 1 frame: 0.04276871681213379s\n"
     ]
    },
    {
     "name": "stderr",
     "output_type": "stream",
     "text": [
      "532it [01:31,  5.98it/s]"
     ]
    },
    {
     "name": "stdout",
     "output_type": "stream",
     "text": [
      "tensor([[1.0000]], device='cuda:0', grad_fn=<SigmoidBackward>)\n",
      "Handnet forward time: 0.0076181888580322266\n",
      "Handsegnet forward time: 0.0009720325469970703\n",
      "s shape torch.Size([1, 2, 224, 224])\n",
      "for loop time 0.003077268600463867\n",
      "hand mask sum: 2735.0\n",
      "Calculate single highest scoring object time: 0.028275251388549805\n",
      "Crop and resize time: 0.000942230224609375\n",
      "Posenet forward time: 0.001979827880859375\n",
      "Posepriornet forward time: 0.0007107257843017578\n",
      "Viewpoint forward time: 0.0009548664093017578\n",
      "Get normalized 3d coordinates time: 0.0005838871002197266\n",
      "Flip left handed input time: 0.00012254714965820312\n",
      "ScaLe heatmaps time 8.988380432128906e-05\n",
      "Time for processing 1 frame: 0.04285573959350586s\n",
      "tensor([[1.0000]], device='cuda:0', grad_fn=<SigmoidBackward>)\n",
      "Handnet forward time: 0.0076138973236083984\n",
      "Handsegnet forward time: 0.0009691715240478516\n",
      "s shape torch.Size([1, 2, 224, 224])\n",
      "for loop time 0.003000974655151367\n",
      "hand mask sum: 2739.0\n",
      "Calculate single highest scoring object time: 0.028191566467285156\n",
      "Crop and resize time: 0.0009429454803466797\n",
      "Posenet forward time: 0.0019631385803222656\n",
      "Posepriornet forward time: 0.0007119178771972656\n",
      "Viewpoint forward time: 0.0009520053863525391\n",
      "Get normalized 3d coordinates time: 0.0005888938903808594\n",
      "Flip left handed input time: 0.000118255615234375\n",
      "ScaLe heatmaps time 8.749961853027344e-05\n",
      "Time for processing 1 frame: 0.04269742965698242s\n"
     ]
    },
    {
     "name": "stderr",
     "output_type": "stream",
     "text": [
      "534it [01:32,  6.04it/s]"
     ]
    },
    {
     "name": "stdout",
     "output_type": "stream",
     "text": [
      "tensor([[0.9999]], device='cuda:0', grad_fn=<SigmoidBackward>)\n",
      "Handnet forward time: 0.007635831832885742\n",
      "Handsegnet forward time: 0.0009758472442626953\n",
      "s shape torch.Size([1, 2, 224, 224])\n",
      "for loop time 0.0030379295349121094\n",
      "hand mask sum: 2753.0\n",
      "Calculate single highest scoring object time: 0.02821826934814453\n",
      "Crop and resize time: 0.0009415149688720703\n",
      "Posenet forward time: 0.0019788742065429688\n",
      "Posepriornet forward time: 0.0007116794586181641\n",
      "Viewpoint forward time: 0.0009496212005615234\n",
      "Get normalized 3d coordinates time: 0.0005831718444824219\n",
      "Flip left handed input time: 0.0001201629638671875\n",
      "ScaLe heatmaps time 8.320808410644531e-05\n",
      "Time for processing 1 frame: 0.04279828071594238s\n",
      "tensor([[0.9999]], device='cuda:0', grad_fn=<SigmoidBackward>)\n",
      "Handnet forward time: 0.0075969696044921875\n",
      "Handsegnet forward time: 0.0009822845458984375\n",
      "s shape torch.Size([1, 2, 224, 224])\n",
      "for loop time 0.0030508041381835938\n",
      "hand mask sum: 2756.0\n",
      "Calculate single highest scoring object time: 0.028161048889160156\n",
      "Crop and resize time: 0.0009474754333496094\n",
      "Posenet forward time: 0.0019745826721191406\n",
      "Posepriornet forward time: 0.0007135868072509766\n",
      "Viewpoint forward time: 0.0009527206420898438\n",
      "Get normalized 3d coordinates time: 0.0005834102630615234\n",
      "Flip left handed input time: 0.00012254714965820312\n",
      "ScaLe heatmaps time 8.296966552734375e-05\n",
      "Time for processing 1 frame: 0.04267692565917969s\n"
     ]
    },
    {
     "name": "stderr",
     "output_type": "stream",
     "text": [
      "536it [01:32,  6.07it/s]"
     ]
    },
    {
     "name": "stdout",
     "output_type": "stream",
     "text": [
      "tensor([[0.9999]], device='cuda:0', grad_fn=<SigmoidBackward>)\n",
      "Handnet forward time: 0.007610321044921875\n",
      "Handsegnet forward time: 0.0009791851043701172\n",
      "s shape torch.Size([1, 2, 224, 224])\n",
      "for loop time 0.0030274391174316406\n",
      "hand mask sum: 2780.0\n",
      "Calculate single highest scoring object time: 0.02818441390991211\n",
      "Crop and resize time: 0.0009493827819824219\n",
      "Posenet forward time: 0.0019593238830566406\n",
      "Posepriornet forward time: 0.0007047653198242188\n",
      "Viewpoint forward time: 0.0009558200836181641\n",
      "Get normalized 3d coordinates time: 0.0005793571472167969\n",
      "Flip left handed input time: 0.00012350082397460938\n",
      "ScaLe heatmaps time 9.012222290039062e-05\n",
      "Time for processing 1 frame: 0.042740583419799805s\n",
      "tensor([[0.9999]], device='cuda:0', grad_fn=<SigmoidBackward>)\n",
      "Handnet forward time: 0.0076372623443603516\n",
      "Handsegnet forward time: 0.0009789466857910156\n",
      "s shape torch.Size([1, 2, 224, 224])\n",
      "for loop time 0.0030646324157714844\n",
      "hand mask sum: 2800.0\n",
      "Calculate single highest scoring object time: 0.028260469436645508\n",
      "Crop and resize time: 0.0009436607360839844\n",
      "Posenet forward time: 0.0019795894622802734\n",
      "Posepriornet forward time: 0.0007071495056152344\n",
      "Viewpoint forward time: 0.0009503364562988281\n",
      "Get normalized 3d coordinates time: 0.0005865097045898438\n",
      "Flip left handed input time: 0.000118255615234375\n",
      "ScaLe heatmaps time 8.654594421386719e-05\n",
      "Time for processing 1 frame: 0.04281115531921387s\n"
     ]
    },
    {
     "name": "stderr",
     "output_type": "stream",
     "text": [
      "538it [01:32,  6.07it/s]"
     ]
    },
    {
     "name": "stdout",
     "output_type": "stream",
     "text": [
      "tensor([[0.9999]], device='cuda:0', grad_fn=<SigmoidBackward>)\n",
      "Handnet forward time: 0.007609128952026367\n",
      "Handsegnet forward time: 0.0009744167327880859\n",
      "s shape torch.Size([1, 2, 224, 224])\n",
      "for loop time 0.0030591487884521484\n",
      "hand mask sum: 2803.0\n",
      "Calculate single highest scoring object time: 0.028243064880371094\n",
      "Crop and resize time: 0.0009448528289794922\n",
      "Posenet forward time: 0.001969575881958008\n",
      "Posepriornet forward time: 0.0007135868072509766\n",
      "Viewpoint forward time: 0.00095367431640625\n",
      "Get normalized 3d coordinates time: 0.0005891323089599609\n",
      "Flip left handed input time: 0.0001232624053955078\n",
      "ScaLe heatmaps time 9.059906005859375e-05\n",
      "Time for processing 1 frame: 0.042810916900634766s\n",
      "tensor([[0.9999]], device='cuda:0', grad_fn=<SigmoidBackward>)\n",
      "Handnet forward time: 0.00761723518371582\n",
      "Handsegnet forward time: 0.0009706020355224609\n",
      "s shape torch.Size([1, 2, 224, 224])\n",
      "for loop time 0.0030226707458496094\n",
      "hand mask sum: 2758.0\n",
      "Calculate single highest scoring object time: 0.028220653533935547\n",
      "Crop and resize time: 0.0009400844573974609\n",
      "Posenet forward time: 0.0019729137420654297\n",
      "Posepriornet forward time: 0.0007059574127197266\n",
      "Viewpoint forward time: 0.0009505748748779297\n",
      "Get normalized 3d coordinates time: 0.0005867481231689453\n",
      "Flip left handed input time: 0.00012350082397460938\n",
      "ScaLe heatmaps time 9.083747863769531e-05\n",
      "Time for processing 1 frame: 0.0427401065826416s\n"
     ]
    },
    {
     "name": "stderr",
     "output_type": "stream",
     "text": [
      "540it [01:33,  6.08it/s]"
     ]
    },
    {
     "name": "stdout",
     "output_type": "stream",
     "text": [
      "tensor([[0.9998]], device='cuda:0', grad_fn=<SigmoidBackward>)\n",
      "Handnet forward time: 0.0076177120208740234\n",
      "Handsegnet forward time: 0.0009737014770507812\n",
      "s shape torch.Size([1, 2, 224, 224])\n",
      "for loop time 0.003014802932739258\n",
      "hand mask sum: 2746.0\n",
      "Calculate single highest scoring object time: 0.02823615074157715\n",
      "Crop and resize time: 0.0009374618530273438\n",
      "Posenet forward time: 0.0019674301147460938\n",
      "Posepriornet forward time: 0.0007097721099853516\n",
      "Viewpoint forward time: 0.0009555816650390625\n",
      "Get normalized 3d coordinates time: 0.0005886554718017578\n",
      "Flip left handed input time: 0.00012254714965820312\n",
      "ScaLe heatmaps time 8.893013000488281e-05\n",
      "Time for processing 1 frame: 0.0428004264831543s\n",
      "tensor([[0.9970]], device='cuda:0', grad_fn=<SigmoidBackward>)\n",
      "Handnet forward time: 0.007626056671142578\n",
      "Handsegnet forward time: 0.0009679794311523438\n",
      "s shape torch.Size([1, 2, 224, 224])\n",
      "for loop time 0.0030241012573242188\n",
      "hand mask sum: 2595.0\n",
      "Calculate single highest scoring object time: 0.028185367584228516\n",
      "Crop and resize time: 0.0009479522705078125\n",
      "Posenet forward time: 0.001954317092895508\n",
      "Posepriornet forward time: 0.000701904296875\n",
      "Viewpoint forward time: 0.0009512901306152344\n",
      "Get normalized 3d coordinates time: 0.0005879402160644531\n",
      "Flip left handed input time: 0.00012254714965820312\n",
      "ScaLe heatmaps time 8.869171142578125e-05\n",
      "Time for processing 1 frame: 0.04269528388977051s\n"
     ]
    },
    {
     "name": "stderr",
     "output_type": "stream",
     "text": [
      "542it [01:33,  6.09it/s]"
     ]
    },
    {
     "name": "stdout",
     "output_type": "stream",
     "text": [
      "tensor([[0.9908]], device='cuda:0', grad_fn=<SigmoidBackward>)\n",
      "Handnet forward time: 0.007588386535644531\n",
      "Handsegnet forward time: 0.0009698867797851562\n",
      "s shape torch.Size([1, 2, 224, 224])\n",
      "for loop time 0.003021717071533203\n",
      "hand mask sum: 2418.0\n",
      "Calculate single highest scoring object time: 0.02812504768371582\n",
      "Crop and resize time: 0.0009424686431884766\n",
      "Posenet forward time: 0.0019655227661132812\n",
      "Posepriornet forward time: 0.0006990432739257812\n",
      "Viewpoint forward time: 0.0009484291076660156\n",
      "Get normalized 3d coordinates time: 0.0005955696105957031\n",
      "Flip left handed input time: 0.00012302398681640625\n",
      "ScaLe heatmaps time 8.845329284667969e-05\n",
      "Time for processing 1 frame: 0.042647361755371094s\n",
      "tensor([[0.9713]], device='cuda:0', grad_fn=<SigmoidBackward>)\n",
      "Handnet forward time: 0.0076367855072021484\n",
      "Handsegnet forward time: 0.0009732246398925781\n",
      "s shape torch.Size([1, 2, 224, 224])\n",
      "for loop time 0.0030164718627929688\n",
      "hand mask sum: 2294.0\n",
      "Calculate single highest scoring object time: 0.028184890747070312\n",
      "Crop and resize time: 0.0009403228759765625\n",
      "Posenet forward time: 0.001955270767211914\n",
      "Posepriornet forward time: 0.0007023811340332031\n",
      "Viewpoint forward time: 0.0009472370147705078\n",
      "Get normalized 3d coordinates time: 0.000591278076171875\n",
      "Flip left handed input time: 0.0001232624053955078\n",
      "ScaLe heatmaps time 8.821487426757812e-05\n",
      "Time for processing 1 frame: 0.042704105377197266s\n"
     ]
    },
    {
     "name": "stderr",
     "output_type": "stream",
     "text": [
      "544it [01:33,  6.10it/s]"
     ]
    },
    {
     "name": "stdout",
     "output_type": "stream",
     "text": [
      "tensor([[0.9711]], device='cuda:0', grad_fn=<SigmoidBackward>)\n",
      "Handnet forward time: 0.007622718811035156\n",
      "Handsegnet forward time: 0.0009644031524658203\n",
      "s shape torch.Size([1, 2, 224, 224])\n",
      "for loop time 0.003054380416870117\n",
      "hand mask sum: 2118.0\n",
      "Calculate single highest scoring object time: 0.028229475021362305\n",
      "Crop and resize time: 0.000942230224609375\n",
      "Posenet forward time: 0.001978158950805664\n",
      "Posepriornet forward time: 0.0007069110870361328\n",
      "Viewpoint forward time: 0.0009419918060302734\n",
      "Get normalized 3d coordinates time: 0.0005955696105957031\n",
      "Flip left handed input time: 0.0001227855682373047\n",
      "ScaLe heatmaps time 8.845329284667969e-05\n",
      "Time for processing 1 frame: 0.04278707504272461s\n",
      "tensor([[0.9630]], device='cuda:0', grad_fn=<SigmoidBackward>)\n",
      "Handnet forward time: 0.007620096206665039\n",
      "Handsegnet forward time: 0.001028299331665039\n",
      "s shape torch.Size([1, 2, 224, 224])\n",
      "for loop time 0.003062009811401367\n",
      "hand mask sum: 2058.0\n",
      "Calculate single highest scoring object time: 0.028222322463989258\n",
      "Crop and resize time: 0.0009493827819824219\n",
      "Posenet forward time: 0.001982450485229492\n",
      "Posepriornet forward time: 0.0007116794586181641\n",
      "Viewpoint forward time: 0.0009529590606689453\n",
      "Get normalized 3d coordinates time: 0.0006139278411865234\n",
      "Flip left handed input time: 0.00012445449829101562\n",
      "ScaLe heatmaps time 8.7738037109375e-05\n",
      "Time for processing 1 frame: 0.04286932945251465s\n"
     ]
    },
    {
     "name": "stderr",
     "output_type": "stream",
     "text": [
      "546it [01:34,  6.09it/s]"
     ]
    },
    {
     "name": "stdout",
     "output_type": "stream",
     "text": [
      "tensor([[0.8878]], device='cuda:0', grad_fn=<SigmoidBackward>)\n",
      "Handnet forward time: 0.00761866569519043\n",
      "Handsegnet forward time: 0.0009737014770507812\n",
      "s shape torch.Size([1, 2, 224, 224])\n",
      "for loop time 0.0030913352966308594\n",
      "hand mask sum: 1968.0\n",
      "Calculate single highest scoring object time: 0.028335094451904297\n",
      "Crop and resize time: 0.0009462833404541016\n",
      "Posenet forward time: 0.001972198486328125\n",
      "Posepriornet forward time: 0.0007145404815673828\n",
      "Viewpoint forward time: 0.0009582042694091797\n",
      "Get normalized 3d coordinates time: 0.0005893707275390625\n",
      "Flip left handed input time: 0.0001220703125\n",
      "ScaLe heatmaps time 9.131431579589844e-05\n",
      "Time for processing 1 frame: 0.04292702674865723s\n",
      "tensor([[0.9045]], device='cuda:0', grad_fn=<SigmoidBackward>)\n",
      "Handnet forward time: 0.007621288299560547\n",
      "Handsegnet forward time: 0.0009694099426269531\n",
      "s shape torch.Size([1, 2, 224, 224])\n",
      "for loop time 0.003066539764404297\n",
      "hand mask sum: 1924.0\n",
      "Calculate single highest scoring object time: 0.02830219268798828\n",
      "Crop and resize time: 0.0009388923645019531\n",
      "Posenet forward time: 0.0019752979278564453\n",
      "Posepriornet forward time: 0.0007162094116210938\n",
      "Viewpoint forward time: 0.0009636878967285156\n",
      "Get normalized 3d coordinates time: 0.0005853176116943359\n",
      "Flip left handed input time: 0.00012040138244628906\n",
      "ScaLe heatmaps time 8.606910705566406e-05\n",
      "Time for processing 1 frame: 0.04283714294433594s\n"
     ]
    },
    {
     "name": "stderr",
     "output_type": "stream",
     "text": [
      "548it [01:34,  6.08it/s]"
     ]
    },
    {
     "name": "stdout",
     "output_type": "stream",
     "text": [
      "tensor([[0.8621]], device='cuda:0', grad_fn=<SigmoidBackward>)\n",
      "Handnet forward time: 0.007605791091918945\n",
      "Handsegnet forward time: 0.000980377197265625\n",
      "s shape torch.Size([1, 2, 224, 224])\n",
      "for loop time 0.0030362606048583984\n",
      "hand mask sum: 1891.0\n",
      "Calculate single highest scoring object time: 0.028220176696777344\n",
      "Crop and resize time: 0.0009405612945556641\n",
      "Posenet forward time: 0.001958608627319336\n",
      "Posepriornet forward time: 0.0007181167602539062\n",
      "Viewpoint forward time: 0.0009500980377197266\n",
      "Get normalized 3d coordinates time: 0.0005848407745361328\n",
      "Flip left handed input time: 0.00011897087097167969\n",
      "ScaLe heatmaps time 8.249282836914062e-05\n",
      "Time for processing 1 frame: 0.042761802673339844s\n",
      "tensor([[0.8588]], device='cuda:0', grad_fn=<SigmoidBackward>)\n",
      "Handnet forward time: 0.007622957229614258\n",
      "Handsegnet forward time: 0.001003265380859375\n",
      "s shape torch.Size([1, 2, 224, 224])\n",
      "for loop time 0.003031492233276367\n",
      "hand mask sum: 1866.0\n",
      "Calculate single highest scoring object time: 0.028242826461791992\n",
      "Crop and resize time: 0.0009405612945556641\n",
      "Posenet forward time: 0.0019702911376953125\n",
      "Posepriornet forward time: 0.0007219314575195312\n",
      "Viewpoint forward time: 0.0009593963623046875\n",
      "Get normalized 3d coordinates time: 0.0005862712860107422\n",
      "Flip left handed input time: 0.00012302398681640625\n",
      "ScaLe heatmaps time 8.320808410644531e-05\n",
      "Time for processing 1 frame: 0.042818546295166016s\n"
     ]
    },
    {
     "name": "stderr",
     "output_type": "stream",
     "text": [
      "550it [01:34,  6.09it/s]"
     ]
    },
    {
     "name": "stdout",
     "output_type": "stream",
     "text": [
      "tensor([[0.8846]], device='cuda:0', grad_fn=<SigmoidBackward>)\n",
      "Handnet forward time: 0.007576942443847656\n",
      "Handsegnet forward time: 0.0009810924530029297\n",
      "s shape torch.Size([1, 2, 224, 224])\n",
      "for loop time 0.0030431747436523438\n",
      "hand mask sum: 1823.0\n",
      "Calculate single highest scoring object time: 0.028139352798461914\n",
      "Crop and resize time: 0.0009307861328125\n",
      "Posenet forward time: 0.0019655227661132812\n",
      "Posepriornet forward time: 0.0007102489471435547\n",
      "Viewpoint forward time: 0.0009565353393554688\n",
      "Get normalized 3d coordinates time: 0.0005900859832763672\n",
      "Flip left handed input time: 0.0001201629638671875\n",
      "ScaLe heatmaps time 8.20159912109375e-05\n",
      "Time for processing 1 frame: 0.04265546798706055s\n",
      "tensor([[0.8626]], device='cuda:0', grad_fn=<SigmoidBackward>)\n",
      "Handnet forward time: 0.00763249397277832\n",
      "Handsegnet forward time: 0.0009772777557373047\n",
      "s shape torch.Size([1, 2, 224, 224])\n",
      "for loop time 0.0030345916748046875\n",
      "hand mask sum: 1808.0\n",
      "Calculate single highest scoring object time: 0.02835536003112793\n",
      "Crop and resize time: 0.0009331703186035156\n",
      "Posenet forward time: 0.0019686222076416016\n",
      "Posepriornet forward time: 0.0007121562957763672\n",
      "Viewpoint forward time: 0.0009615421295166016\n",
      "Get normalized 3d coordinates time: 0.0005846023559570312\n",
      "Flip left handed input time: 0.00012111663818359375\n",
      "ScaLe heatmaps time 8.034706115722656e-05\n",
      "Time for processing 1 frame: 0.042887210845947266s\n"
     ]
    },
    {
     "name": "stderr",
     "output_type": "stream",
     "text": [
      "552it [01:35,  6.09it/s]"
     ]
    },
    {
     "name": "stdout",
     "output_type": "stream",
     "text": [
      "tensor([[0.8942]], device='cuda:0', grad_fn=<SigmoidBackward>)\n",
      "Handnet forward time: 0.0076007843017578125\n",
      "Handsegnet forward time: 0.0009815692901611328\n",
      "s shape torch.Size([1, 2, 224, 224])\n",
      "for loop time 0.0030622482299804688\n",
      "hand mask sum: 1786.0\n",
      "Calculate single highest scoring object time: 0.028250694274902344\n",
      "Crop and resize time: 0.0009331703186035156\n",
      "Posenet forward time: 0.0020008087158203125\n",
      "Posepriornet forward time: 0.0007135868072509766\n",
      "Viewpoint forward time: 0.0009560585021972656\n",
      "Get normalized 3d coordinates time: 0.0005855560302734375\n",
      "Flip left handed input time: 0.00011992454528808594\n",
      "ScaLe heatmaps time 8.368492126464844e-05\n",
      "Time for processing 1 frame: 0.04283022880554199s\n",
      "tensor([[0.8385]], device='cuda:0', grad_fn=<SigmoidBackward>)\n",
      "Handnet forward time: 0.007618427276611328\n",
      "Handsegnet forward time: 0.0009708404541015625\n",
      "s shape torch.Size([1, 2, 224, 224])\n",
      "for loop time 0.0030639171600341797\n",
      "hand mask sum: 1757.0\n",
      "Calculate single highest scoring object time: 0.028310060501098633\n",
      "Crop and resize time: 0.0009305477142333984\n",
      "Posenet forward time: 0.0019683837890625\n",
      "Posepriornet forward time: 0.0007300376892089844\n",
      "Viewpoint forward time: 0.0009503364562988281\n",
      "Get normalized 3d coordinates time: 0.0005815029144287109\n",
      "Flip left handed input time: 0.00012230873107910156\n",
      "ScaLe heatmaps time 8.20159912109375e-05\n",
      "Time for processing 1 frame: 0.04282712936401367s\n"
     ]
    },
    {
     "name": "stderr",
     "output_type": "stream",
     "text": [
      "554it [01:35,  6.09it/s]"
     ]
    },
    {
     "name": "stdout",
     "output_type": "stream",
     "text": [
      "tensor([[0.8606]], device='cuda:0', grad_fn=<SigmoidBackward>)\n",
      "Handnet forward time: 0.007592439651489258\n",
      "Handsegnet forward time: 0.0010046958923339844\n",
      "s shape torch.Size([1, 2, 224, 224])\n",
      "for loop time 0.0030465126037597656\n",
      "hand mask sum: 1741.0\n",
      "Calculate single highest scoring object time: 0.02823019027709961\n",
      "Crop and resize time: 0.0009295940399169922\n",
      "Posenet forward time: 0.0019795894622802734\n",
      "Posepriornet forward time: 0.0007126331329345703\n",
      "Viewpoint forward time: 0.0009529590606689453\n",
      "Get normalized 3d coordinates time: 0.0005841255187988281\n",
      "Flip left handed input time: 0.00012111663818359375\n",
      "ScaLe heatmaps time 8.320808410644531e-05\n",
      "Time for processing 1 frame: 0.042726993560791016s\n",
      "tensor([[0.9265]], device='cuda:0', grad_fn=<SigmoidBackward>)\n",
      "Handnet forward time: 0.007622241973876953\n",
      "Handsegnet forward time: 0.0011980533599853516\n",
      "s shape torch.Size([1, 2, 224, 224])\n",
      "for loop time 0.0032639503479003906\n",
      "hand mask sum: 1714.0\n",
      "Calculate single highest scoring object time: 0.02831125259399414\n",
      "Crop and resize time: 0.0010838508605957031\n",
      "Posenet forward time: 0.0023877620697021484\n",
      "Posepriornet forward time: 0.0008323192596435547\n",
      "Viewpoint forward time: 0.0011217594146728516\n",
      "Get normalized 3d coordinates time: 0.0007119178771972656\n"
     ]
    },
    {
     "name": "stderr",
     "output_type": "stream",
     "text": [
      "\r",
      "555it [01:35,  6.07it/s]"
     ]
    },
    {
     "name": "stdout",
     "output_type": "stream",
     "text": [
      "Flip left handed input time: 0.00031447410583496094\n",
      "ScaLe heatmaps time 0.00010418891906738281\n",
      "Time for processing 1 frame: 0.04445815086364746s\n",
      "tensor([[0.9178]], device='cuda:0', grad_fn=<SigmoidBackward>)\n",
      "Handnet forward time: 0.007615804672241211\n",
      "Handsegnet forward time: 0.0009522438049316406\n",
      "s shape torch.Size([1, 2, 224, 224])\n",
      "for loop time 0.002991914749145508\n",
      "hand mask sum: 1693.0\n",
      "Calculate single highest scoring object time: 0.02822399139404297\n",
      "Crop and resize time: 0.0009315013885498047\n",
      "Posenet forward time: 0.0019383430480957031\n",
      "Posepriornet forward time: 0.0007016658782958984\n",
      "Viewpoint forward time: 0.0009541511535644531\n",
      "Get normalized 3d coordinates time: 0.0005793571472167969\n",
      "Flip left handed input time: 0.00011706352233886719\n",
      "ScaLe heatmaps time 8.797645568847656e-05\n",
      "Time for processing 1 frame: 0.04266071319580078s\n"
     ]
    },
    {
     "name": "stderr",
     "output_type": "stream",
     "text": [
      "557it [01:35,  6.09it/s]"
     ]
    },
    {
     "name": "stdout",
     "output_type": "stream",
     "text": [
      "tensor([[0.8714]], device='cuda:0', grad_fn=<SigmoidBackward>)\n",
      "Handnet forward time: 0.00762176513671875\n",
      "Handsegnet forward time: 0.0009529590606689453\n",
      "s shape torch.Size([1, 2, 224, 224])\n",
      "for loop time 0.0029914379119873047\n",
      "hand mask sum: 1669.0\n",
      "Calculate single highest scoring object time: 0.028205394744873047\n",
      "Crop and resize time: 0.0009205341339111328\n",
      "Posenet forward time: 0.0019381046295166016\n",
      "Posepriornet forward time: 0.000698089599609375\n",
      "Viewpoint forward time: 0.0009412765502929688\n",
      "Get normalized 3d coordinates time: 0.000591278076171875\n",
      "Flip left handed input time: 0.00012230873107910156\n",
      "ScaLe heatmaps time 8.749961853027344e-05\n",
      "Time for processing 1 frame: 0.042678117752075195s\n",
      "tensor([[0.8532]], device='cuda:0', grad_fn=<SigmoidBackward>)\n",
      "Handnet forward time: 0.007588624954223633\n",
      "Handsegnet forward time: 0.0009496212005615234\n",
      "s shape torch.Size([1, 2, 224, 224])\n",
      "for loop time 0.0030138492584228516\n",
      "hand mask sum: 1664.0\n",
      "Calculate single highest scoring object time: 0.02823638916015625\n",
      "Crop and resize time: 0.0009138584136962891\n",
      "Posenet forward time: 0.0019373893737792969\n",
      "Posepriornet forward time: 0.0007054805755615234\n",
      "Viewpoint forward time: 0.0009374618530273438\n",
      "Get normalized 3d coordinates time: 0.0005888938903808594\n",
      "Flip left handed input time: 0.0001239776611328125\n",
      "ScaLe heatmaps time 8.392333984375e-05\n",
      "Time for processing 1 frame: 0.04262232780456543s\n"
     ]
    },
    {
     "name": "stderr",
     "output_type": "stream",
     "text": [
      "559it [01:36,  6.09it/s]"
     ]
    },
    {
     "name": "stdout",
     "output_type": "stream",
     "text": [
      "tensor([[0.7919]], device='cuda:0', grad_fn=<SigmoidBackward>)\n",
      "Handnet forward time: 0.007608175277709961\n",
      "Handsegnet forward time: 0.0009524822235107422\n",
      "s shape torch.Size([1, 2, 224, 224])\n",
      "for loop time 0.003033876419067383\n",
      "hand mask sum: 1664.0\n",
      "Calculate single highest scoring object time: 0.028253555297851562\n",
      "Crop and resize time: 0.0009229183197021484\n",
      "Posenet forward time: 0.0019257068634033203\n",
      "Posepriornet forward time: 0.0006918907165527344\n",
      "Viewpoint forward time: 0.0009374618530273438\n",
      "Get normalized 3d coordinates time: 0.0005979537963867188\n",
      "Flip left handed input time: 0.00012254714965820312\n",
      "ScaLe heatmaps time 8.893013000488281e-05\n",
      "Time for processing 1 frame: 0.04269886016845703s\n",
      "tensor([[0.7919]], device='cuda:0', grad_fn=<SigmoidBackward>)\n",
      "Handnet forward time: 0.00758814811706543\n",
      "Handsegnet forward time: 0.0009543895721435547\n",
      "s shape torch.Size([1, 2, 224, 224])\n",
      "for loop time 0.0030515193939208984\n",
      "hand mask sum: 1654.0\n",
      "Calculate single highest scoring object time: 0.028282642364501953\n",
      "Crop and resize time: 0.0009236335754394531\n",
      "Posenet forward time: 0.001947641372680664\n",
      "Posepriornet forward time: 0.0006971359252929688\n",
      "Viewpoint forward time: 0.0009572505950927734\n",
      "Get normalized 3d coordinates time: 0.0005855560302734375\n",
      "Flip left handed input time: 0.00011968612670898438\n",
      "ScaLe heatmaps time 8.726119995117188e-05\n",
      "Time for processing 1 frame: 0.04269528388977051s\n"
     ]
    },
    {
     "name": "stderr",
     "output_type": "stream",
     "text": [
      "561it [01:36,  6.09it/s]"
     ]
    },
    {
     "name": "stdout",
     "output_type": "stream",
     "text": [
      "tensor([[0.7776]], device='cuda:0', grad_fn=<SigmoidBackward>)\n",
      "Handnet forward time: 0.007611751556396484\n",
      "Handsegnet forward time: 0.0009467601776123047\n",
      "s shape torch.Size([1, 2, 224, 224])\n",
      "for loop time 0.003033876419067383\n",
      "hand mask sum: 1647.0\n",
      "Calculate single highest scoring object time: 0.02833247184753418\n",
      "Crop and resize time: 0.0009331703186035156\n",
      "Posenet forward time: 0.0019392967224121094\n",
      "Posepriornet forward time: 0.0007045269012451172\n",
      "Viewpoint forward time: 0.0009534358978271484\n",
      "Get normalized 3d coordinates time: 0.0005867481231689453\n",
      "Flip left handed input time: 0.0001270771026611328\n",
      "ScaLe heatmaps time 8.726119995117188e-05\n",
      "Time for processing 1 frame: 0.04282402992248535s\n",
      "tensor([[0.7220]], device='cuda:0', grad_fn=<SigmoidBackward>)\n",
      "Handnet forward time: 0.007572174072265625\n",
      "Handsegnet forward time: 0.0009510517120361328\n",
      "s shape torch.Size([1, 2, 224, 224])\n",
      "for loop time 0.003022432327270508\n",
      "hand mask sum: 1640.0\n",
      "Calculate single highest scoring object time: 0.028320789337158203\n",
      "Crop and resize time: 0.0009233951568603516\n",
      "Posenet forward time: 0.001954317092895508\n",
      "Posepriornet forward time: 0.0006978511810302734\n",
      "Viewpoint forward time: 0.0009508132934570312\n",
      "Get normalized 3d coordinates time: 0.0005803108215332031\n",
      "Flip left handed input time: 0.00012040138244628906\n",
      "ScaLe heatmaps time 8.821487426757812e-05\n",
      "Time for processing 1 frame: 0.04271054267883301s\n"
     ]
    },
    {
     "name": "stderr",
     "output_type": "stream",
     "text": [
      "563it [01:36,  6.04it/s]"
     ]
    },
    {
     "name": "stdout",
     "output_type": "stream",
     "text": [
      "tensor([[0.7911]], device='cuda:0', grad_fn=<SigmoidBackward>)\n",
      "Handnet forward time: 0.007670402526855469\n",
      "Handsegnet forward time: 0.0015308856964111328\n",
      "s shape torch.Size([1, 2, 224, 224])\n",
      "for loop time 0.0033278465270996094\n",
      "hand mask sum: 1641.0\n",
      "Calculate single highest scoring object time: 0.027922868728637695\n",
      "Crop and resize time: 0.0010826587677001953\n",
      "Posenet forward time: 0.002381563186645508\n",
      "Posepriornet forward time: 0.0008418560028076172\n",
      "Viewpoint forward time: 0.0011096000671386719\n",
      "Get normalized 3d coordinates time: 0.00070953369140625\n",
      "Flip left handed input time: 0.00014019012451171875\n",
      "ScaLe heatmaps time 0.00010800361633300781\n",
      "Time for processing 1 frame: 0.04398822784423828s\n",
      "tensor([[0.7896]], device='cuda:0', grad_fn=<SigmoidBackward>)\n",
      "Handnet forward time: 0.007540702819824219\n",
      "Handsegnet forward time: 0.0009405612945556641\n",
      "s shape torch.Size([1, 2, 224, 224])\n",
      "for loop time 0.0029783248901367188\n",
      "hand mask sum: 1637.0\n",
      "Calculate single highest scoring object time: 0.028078556060791016\n",
      "Crop and resize time: 0.0009057521820068359\n",
      "Posenet forward time: 0.0019316673278808594\n",
      "Posepriornet forward time: 0.0006911754608154297\n"
     ]
    },
    {
     "name": "stderr",
     "output_type": "stream",
     "text": [
      "\r",
      "564it [01:37,  6.04it/s]"
     ]
    },
    {
     "name": "stdout",
     "output_type": "stream",
     "text": [
      "Viewpoint forward time: 0.0016586780548095703\n",
      "Get normalized 3d coordinates time: 0.0006229877471923828\n",
      "Flip left handed input time: 0.00011491775512695312\n",
      "ScaLe heatmaps time 8.726119995117188e-05\n",
      "Time for processing 1 frame: 0.04315590858459473s\n",
      "tensor([[0.8038]], device='cuda:0', grad_fn=<SigmoidBackward>)\n",
      "Handnet forward time: 0.007632017135620117\n",
      "Handsegnet forward time: 0.0009362697601318359\n",
      "s shape torch.Size([1, 2, 224, 224])\n",
      "for loop time 0.003030538558959961\n",
      "hand mask sum: 1627.0\n",
      "Calculate single highest scoring object time: 0.028334856033325195\n",
      "Crop and resize time: 0.0009136199951171875\n",
      "Posenet forward time: 0.0019044876098632812\n",
      "Posepriornet forward time: 0.0006885528564453125\n",
      "Viewpoint forward time: 0.0009181499481201172\n",
      "Get normalized 3d coordinates time: 0.0005774497985839844\n",
      "Flip left handed input time: 0.00011968612670898438\n",
      "ScaLe heatmaps time 8.106231689453125e-05\n",
      "Time for processing 1 frame: 0.04266214370727539s\n"
     ]
    },
    {
     "name": "stderr",
     "output_type": "stream",
     "text": [
      "566it [01:37,  6.07it/s]"
     ]
    },
    {
     "name": "stdout",
     "output_type": "stream",
     "text": [
      "tensor([[0.7337]], device='cuda:0', grad_fn=<SigmoidBackward>)\n",
      "Handnet forward time: 0.007626056671142578\n",
      "Handsegnet forward time: 0.0009355545043945312\n",
      "s shape torch.Size([1, 2, 224, 224])\n",
      "for loop time 0.0030069351196289062\n",
      "hand mask sum: 1633.0\n",
      "Calculate single highest scoring object time: 0.028284311294555664\n",
      "Crop and resize time: 0.0009098052978515625\n",
      "Posenet forward time: 0.0019080638885498047\n",
      "Posepriornet forward time: 0.0006937980651855469\n",
      "Viewpoint forward time: 0.0009272098541259766\n",
      "Get normalized 3d coordinates time: 0.0005786418914794922\n",
      "Flip left handed input time: 0.00011992454528808594\n",
      "ScaLe heatmaps time 8.845329284667969e-05\n",
      "Time for processing 1 frame: 0.04265284538269043s\n",
      "tensor([[0.6918]], device='cuda:0', grad_fn=<SigmoidBackward>)\n",
      "Handnet forward time: 0.007628202438354492\n",
      "Handsegnet forward time: 0.0009329319000244141\n",
      "s shape torch.Size([1, 2, 224, 224])\n",
      "for loop time 0.0030202865600585938\n",
      "hand mask sum: 1611.0\n",
      "Calculate single highest scoring object time: 0.028214693069458008\n",
      "Crop and resize time: 0.0009169578552246094\n",
      "Posenet forward time: 0.0019071102142333984\n",
      "Posepriornet forward time: 0.0006933212280273438\n",
      "Viewpoint forward time: 0.0009219646453857422\n",
      "Get normalized 3d coordinates time: 0.0005753040313720703\n",
      "Flip left handed input time: 0.00011563301086425781\n",
      "ScaLe heatmaps time 8.654594421386719e-05\n",
      "Time for processing 1 frame: 0.04255366325378418s\n"
     ]
    },
    {
     "name": "stderr",
     "output_type": "stream",
     "text": [
      "568it [01:37,  6.06it/s]"
     ]
    },
    {
     "name": "stdout",
     "output_type": "stream",
     "text": [
      "tensor([[0.6588]], device='cuda:0', grad_fn=<SigmoidBackward>)\n",
      "Handnet forward time: 0.007637739181518555\n",
      "Handsegnet forward time: 0.0009369850158691406\n",
      "s shape torch.Size([1, 2, 224, 224])\n",
      "for loop time 0.003000020980834961\n",
      "hand mask sum: 1611.0\n",
      "Calculate single highest scoring object time: 0.02815413475036621\n",
      "Crop and resize time: 0.0009126663208007812\n",
      "Posenet forward time: 0.0018961429595947266\n",
      "Posepriornet forward time: 0.0006880760192871094\n",
      "Viewpoint forward time: 0.0009386539459228516\n",
      "Get normalized 3d coordinates time: 0.0005748271942138672\n",
      "Flip left handed input time: 0.000118255615234375\n",
      "ScaLe heatmaps time 8.630752563476562e-05\n",
      "Time for processing 1 frame: 0.04253053665161133s\n",
      "tensor([[0.6140]], device='cuda:0', grad_fn=<SigmoidBackward>)\n",
      "Handnet forward time: 0.007616519927978516\n",
      "Handsegnet forward time: 0.0009319782257080078\n",
      "s shape torch.Size([1, 2, 224, 224])\n",
      "for loop time 0.003032684326171875\n",
      "hand mask sum: 1611.0\n",
      "Calculate single highest scoring object time: 0.028172969818115234\n",
      "Crop and resize time: 0.0009086132049560547\n",
      "Posenet forward time: 0.0019123554229736328\n",
      "Posepriornet forward time: 0.0006892681121826172\n",
      "Viewpoint forward time: 0.0009183883666992188\n",
      "Get normalized 3d coordinates time: 0.0005786418914794922\n",
      "Flip left handed input time: 0.000118255615234375\n",
      "ScaLe heatmaps time 8.511543273925781e-05\n",
      "Time for processing 1 frame: 0.04247927665710449s"
     ]
    },
    {
     "name": "stderr",
     "output_type": "stream",
     "text": [
      "\r",
      "569it [01:37,  6.05it/s]"
     ]
    },
    {
     "name": "stdout",
     "output_type": "stream",
     "text": [
      "\n",
      "tensor([[0.6316]], device='cuda:0', grad_fn=<SigmoidBackward>)\n",
      "Handnet forward time: 0.007605552673339844\n",
      "Handsegnet forward time: 0.0009431838989257812\n",
      "s shape torch.Size([1, 2, 224, 224])\n",
      "for loop time 0.0029816627502441406\n",
      "hand mask sum: 1612.0\n",
      "Calculate single highest scoring object time: 0.028087139129638672\n",
      "Crop and resize time: 0.0009088516235351562\n",
      "Posenet forward time: 0.0019202232360839844\n",
      "Posepriornet forward time: 0.0006849765777587891\n",
      "Viewpoint forward time: 0.0009176731109619141\n",
      "Get normalized 3d coordinates time: 0.0005886554718017578\n",
      "Flip left handed input time: 0.00012111663818359375\n",
      "ScaLe heatmaps time 8.630752563476562e-05\n",
      "Time for processing 1 frame: 0.04241371154785156s\n"
     ]
    },
    {
     "name": "stderr",
     "output_type": "stream",
     "text": [
      "571it [01:38,  6.02it/s]"
     ]
    },
    {
     "name": "stdout",
     "output_type": "stream",
     "text": [
      "tensor([[0.5667]], device='cuda:0', grad_fn=<SigmoidBackward>)\n",
      "Handnet forward time: 0.007652759552001953\n",
      "Handsegnet forward time: 0.0009388923645019531\n",
      "s shape torch.Size([1, 2, 224, 224])\n",
      "for loop time 0.003010272979736328\n",
      "hand mask sum: 1613.0\n",
      "Calculate single highest scoring object time: 0.028234004974365234\n",
      "Crop and resize time: 0.0009081363677978516\n",
      "Posenet forward time: 0.001920938491821289\n",
      "Posepriornet forward time: 0.0006892681121826172\n",
      "Viewpoint forward time: 0.0009272098541259766\n",
      "Get normalized 3d coordinates time: 0.0005719661712646484\n",
      "Flip left handed input time: 0.00011563301086425781\n",
      "ScaLe heatmaps time 8.58306884765625e-05\n",
      "Time for processing 1 frame: 0.04263782501220703s\n",
      "tensor([[0.5009]], device='cuda:0', grad_fn=<SigmoidBackward>)\n",
      "Handnet forward time: 0.007596731185913086\n",
      "Handsegnet forward time: 0.0009477138519287109\n",
      "s shape torch.Size([1, 2, 224, 224])\n",
      "for loop time 0.0030100345611572266\n",
      "hand mask sum: 1608.0\n",
      "Calculate single highest scoring object time: 0.028162240982055664\n",
      "Crop and resize time: 0.0009074211120605469\n",
      "Posenet forward time: 0.0019028186798095703\n",
      "Posepriornet forward time: 0.0006949901580810547\n",
      "Viewpoint forward time: 0.0009324550628662109\n"
     ]
    },
    {
     "name": "stderr",
     "output_type": "stream",
     "text": [
      "\r",
      "572it [01:38,  6.03it/s]"
     ]
    },
    {
     "name": "stdout",
     "output_type": "stream",
     "text": [
      "Get normalized 3d coordinates time: 0.0011336803436279297\n",
      "Flip left handed input time: 0.00019431114196777344\n",
      "ScaLe heatmaps time 9.441375732421875e-05\n",
      "Time for processing 1 frame: 0.043169260025024414s\n",
      "tensor([[0.5359]], device='cuda:0', grad_fn=<SigmoidBackward>)\n",
      "Handnet forward time: 0.007621288299560547\n",
      "Handsegnet forward time: 0.0009386539459228516\n",
      "s shape torch.Size([1, 2, 224, 224])\n",
      "for loop time 0.003182649612426758\n",
      "hand mask sum: 1592.0\n",
      "Calculate single highest scoring object time: 0.028446197509765625\n",
      "Crop and resize time: 0.0011227130889892578\n",
      "Posenet forward time: 0.0019278526306152344\n",
      "Posepriornet forward time: 0.0006973743438720703\n",
      "Viewpoint forward time: 0.0009262561798095703\n",
      "Get normalized 3d coordinates time: 0.0005714893341064453\n",
      "Flip left handed input time: 0.00011897087097167969\n",
      "ScaLe heatmaps time 8.153915405273438e-05\n",
      "Time for processing 1 frame: 0.043024539947509766s\n"
     ]
    },
    {
     "name": "stderr",
     "output_type": "stream",
     "text": [
      "574it [01:38,  6.02it/s]"
     ]
    },
    {
     "name": "stdout",
     "output_type": "stream",
     "text": [
      "tensor([[0.4510]], device='cuda:0', grad_fn=<SigmoidBackward>)\n",
      "Handnet forward time: 0.0076160430908203125\n",
      "Handsegnet forward time: 0.0009398460388183594\n",
      "s shape torch.Size([1, 2, 224, 224])\n",
      "for loop time 0.0029959678649902344\n",
      "hand mask sum: 1564.0\n",
      "Calculate single highest scoring object time: 0.028216838836669922\n",
      "Crop and resize time: 0.0009047985076904297\n",
      "Posenet forward time: 0.0019116401672363281\n",
      "Posepriornet forward time: 0.0006859302520751953\n",
      "Viewpoint forward time: 0.0009229183197021484\n",
      "Get normalized 3d coordinates time: 0.0005719661712646484\n",
      "Flip left handed input time: 0.00011229515075683594\n",
      "ScaLe heatmaps time 8.130073547363281e-05\n",
      "Time for processing 1 frame: 0.04254555702209473s\n",
      "tensor([[0.3465]], device='cuda:0', grad_fn=<SigmoidBackward>)\n",
      "Handnet forward time: 0.007622957229614258\n",
      "Handsegnet forward time: 0.0009367465972900391\n",
      "s shape torch.Size([1, 2, 224, 224])\n",
      "for loop time 0.0030143260955810547\n",
      "hand mask sum: 1522.0\n",
      "Calculate single highest scoring object time: 0.02832508087158203\n",
      "Crop and resize time: 0.0009450912475585938\n",
      "Posenet forward time: 0.001924753189086914\n",
      "Posepriornet forward time: 0.0006871223449707031\n",
      "Viewpoint forward time: 0.0009219646453857422\n",
      "Get normalized 3d coordinates time: 0.0005869865417480469\n"
     ]
    },
    {
     "name": "stderr",
     "output_type": "stream",
     "text": [
      "\r",
      "575it [01:38,  6.02it/s]"
     ]
    },
    {
     "name": "stdout",
     "output_type": "stream",
     "text": [
      "Flip left handed input time: 0.0003066062927246094\n",
      "ScaLe heatmaps time 0.00010609626770019531\n",
      "Time for processing 1 frame: 0.0431215763092041s\n",
      "tensor([[0.3917]], device='cuda:0', grad_fn=<SigmoidBackward>)\n",
      "Handnet forward time: 0.007627725601196289\n",
      "Handsegnet forward time: 0.0009415149688720703\n",
      "s shape torch.Size([1, 2, 224, 224])\n",
      "for loop time 0.002969503402709961\n",
      "hand mask sum: 1499.0\n",
      "Calculate single highest scoring object time: 0.028203248977661133\n",
      "Crop and resize time: 0.0009050369262695312\n",
      "Posenet forward time: 0.0019004344940185547\n",
      "Posepriornet forward time: 0.0006847381591796875\n",
      "Viewpoint forward time: 0.0009195804595947266\n",
      "Get normalized 3d coordinates time: 0.0005726814270019531\n",
      "Flip left handed input time: 0.00011301040649414062\n",
      "ScaLe heatmaps time 8.153915405273438e-05\n",
      "Time for processing 1 frame: 0.04249072074890137s\n"
     ]
    },
    {
     "name": "stderr",
     "output_type": "stream",
     "text": [
      "577it [01:39,  6.02it/s]"
     ]
    },
    {
     "name": "stdout",
     "output_type": "stream",
     "text": [
      "tensor([[0.2990]], device='cuda:0', grad_fn=<SigmoidBackward>)\n",
      "Handnet forward time: 0.007633686065673828\n",
      "Handsegnet forward time: 0.0009353160858154297\n",
      "s shape torch.Size([1, 2, 224, 224])\n",
      "for loop time 0.002974271774291992\n",
      "hand mask sum: 1486.0\n",
      "Calculate single highest scoring object time: 0.02819061279296875\n",
      "Crop and resize time: 0.0009076595306396484\n",
      "Posenet forward time: 0.001901388168334961\n",
      "Posepriornet forward time: 0.0006885528564453125\n",
      "Viewpoint forward time: 0.0009186267852783203\n",
      "Get normalized 3d coordinates time: 0.0005724430084228516\n",
      "Flip left handed input time: 0.00011897087097167969\n",
      "ScaLe heatmaps time 8.988380432128906e-05\n",
      "Time for processing 1 frame: 0.042551279067993164s\n",
      "tensor([[0.3641]], device='cuda:0', grad_fn=<SigmoidBackward>)\n",
      "Handnet forward time: 0.0075609683990478516\n",
      "Handsegnet forward time: 0.0009360313415527344\n",
      "s shape torch.Size([1, 2, 224, 224])\n",
      "for loop time 0.0029702186584472656\n",
      "hand mask sum: 1474.0\n",
      "Calculate single highest scoring object time: 0.028049468994140625\n",
      "Crop and resize time: 0.0009055137634277344\n",
      "Posenet forward time: 0.0019347667694091797\n",
      "Posepriornet forward time: 0.0006899833679199219\n",
      "Viewpoint forward time: 0.0009226799011230469\n"
     ]
    },
    {
     "name": "stderr",
     "output_type": "stream",
     "text": [
      "\r",
      "578it [01:39,  6.02it/s]"
     ]
    },
    {
     "name": "stdout",
     "output_type": "stream",
     "text": [
      "Get normalized 3d coordinates time: 0.0011246204376220703\n",
      "Flip left handed input time: 0.0001933574676513672\n",
      "ScaLe heatmaps time 9.393692016601562e-05\n",
      "Time for processing 1 frame: 0.04300284385681152s\n",
      "tensor([[0.4203]], device='cuda:0', grad_fn=<SigmoidBackward>)\n",
      "Handnet forward time: 0.00760340690612793\n",
      "Handsegnet forward time: 0.0009377002716064453\n",
      "s shape torch.Size([1, 2, 224, 224])\n",
      "for loop time 0.0029931068420410156\n",
      "hand mask sum: 1448.0\n",
      "Calculate single highest scoring object time: 0.028283119201660156\n",
      "Crop and resize time: 0.0009257793426513672\n",
      "Posenet forward time: 0.001917123794555664\n",
      "Posepriornet forward time: 0.0006897449493408203\n",
      "Viewpoint forward time: 0.0009682178497314453\n",
      "Get normalized 3d coordinates time: 0.0005869865417480469\n",
      "Flip left handed input time: 0.00013065338134765625\n",
      "ScaLe heatmaps time 8.988380432128906e-05\n",
      "Time for processing 1 frame: 0.042809486389160156s\n"
     ]
    },
    {
     "name": "stderr",
     "output_type": "stream",
     "text": [
      "580it [01:39,  6.03it/s]"
     ]
    },
    {
     "name": "stdout",
     "output_type": "stream",
     "text": [
      "tensor([[0.4831]], device='cuda:0', grad_fn=<SigmoidBackward>)\n",
      "Handnet forward time: 0.007593631744384766\n",
      "Handsegnet forward time: 0.0009412765502929688\n",
      "s shape torch.Size([1, 2, 224, 224])\n",
      "for loop time 0.0030031204223632812\n",
      "hand mask sum: 1442.0\n",
      "Calculate single highest scoring object time: 0.02820873260498047\n",
      "Crop and resize time: 0.0009107589721679688\n",
      "Posenet forward time: 0.0019190311431884766\n",
      "Posepriornet forward time: 0.0006937980651855469\n",
      "Viewpoint forward time: 0.0009286403656005859\n",
      "Get normalized 3d coordinates time: 0.0005755424499511719\n",
      "Flip left handed input time: 0.0001125335693359375\n",
      "ScaLe heatmaps time 8.153915405273438e-05\n",
      "Time for processing 1 frame: 0.0425570011138916s\n",
      "tensor([[0.5236]], device='cuda:0', grad_fn=<SigmoidBackward>)\n",
      "Handnet forward time: 0.007613182067871094\n",
      "Handsegnet forward time: 0.0009355545043945312\n",
      "s shape torch.Size([1, 2, 224, 224])\n",
      "for loop time 0.0030100345611572266\n",
      "hand mask sum: 1458.0\n",
      "Calculate single highest scoring object time: 0.02821183204650879\n",
      "Crop and resize time: 0.0009102821350097656\n",
      "Posenet forward time: 0.0019125938415527344\n",
      "Posepriornet forward time: 0.0006916522979736328\n",
      "Viewpoint forward time: 0.0009262561798095703\n",
      "Get normalized 3d coordinates time: 0.0005929470062255859\n",
      "Flip left handed input time: 0.00011944770812988281\n"
     ]
    },
    {
     "name": "stderr",
     "output_type": "stream",
     "text": [
      "\r",
      "581it [01:39,  6.02it/s]"
     ]
    },
    {
     "name": "stdout",
     "output_type": "stream",
     "text": [
      "ScaLe heatmaps time 0.00020813941955566406\n",
      "Time for processing 1 frame: 0.04269266128540039s\n",
      "tensor([[0.5405]], device='cuda:0', grad_fn=<SigmoidBackward>)\n",
      "Handnet forward time: 0.007612466812133789\n",
      "Handsegnet forward time: 0.0009446144104003906\n",
      "s shape torch.Size([1, 2, 224, 224])\n",
      "for loop time 0.0029768943786621094\n",
      "hand mask sum: 1466.0\n",
      "Calculate single highest scoring object time: 0.02814626693725586\n",
      "Crop and resize time: 0.0009107589721679688\n",
      "Posenet forward time: 0.0019214153289794922\n",
      "Posepriornet forward time: 0.0006914138793945312\n",
      "Viewpoint forward time: 0.0009248256683349609\n",
      "Get normalized 3d coordinates time: 0.0005714893341064453\n",
      "Flip left handed input time: 0.00011587142944335938\n",
      "ScaLe heatmaps time 8.678436279296875e-05\n",
      "Time for processing 1 frame: 0.04247903823852539s\n"
     ]
    },
    {
     "name": "stderr",
     "output_type": "stream",
     "text": [
      "583it [01:40,  6.00it/s]"
     ]
    },
    {
     "name": "stdout",
     "output_type": "stream",
     "text": [
      "tensor([[0.7257]], device='cuda:0', grad_fn=<SigmoidBackward>)\n",
      "Handnet forward time: 0.007615327835083008\n",
      "Handsegnet forward time: 0.0009450912475585938\n",
      "s shape torch.Size([1, 2, 224, 224])\n",
      "for loop time 0.00299835205078125\n",
      "hand mask sum: 1465.0\n",
      "Calculate single highest scoring object time: 0.028263568878173828\n",
      "Crop and resize time: 0.0009121894836425781\n",
      "Posenet forward time: 0.0019195079803466797\n",
      "Posepriornet forward time: 0.0006935596466064453\n",
      "Viewpoint forward time: 0.0009410381317138672\n",
      "Get normalized 3d coordinates time: 0.0005819797515869141\n",
      "Flip left handed input time: 0.00011992454528808594\n",
      "ScaLe heatmaps time 8.726119995117188e-05\n",
      "Time for processing 1 frame: 0.04267239570617676s\n",
      "tensor([[0.9337]], device='cuda:0', grad_fn=<SigmoidBackward>)\n",
      "Handnet forward time: 0.007577180862426758\n",
      "Handsegnet forward time: 0.0009415149688720703\n",
      "s shape torch.Size([1, 2, 224, 224])\n",
      "for loop time 0.0030014514923095703\n",
      "hand mask sum: 1592.0\n",
      "Calculate single highest scoring object time: 0.02827620506286621\n",
      "Crop and resize time: 0.0009119510650634766\n",
      "Posenet forward time: 0.0019168853759765625\n",
      "Posepriornet forward time: 0.0006875991821289062\n"
     ]
    },
    {
     "name": "stderr",
     "output_type": "stream",
     "text": [
      "\r",
      "584it [01:40,  6.01it/s]"
     ]
    },
    {
     "name": "stdout",
     "output_type": "stream",
     "text": [
      "Viewpoint forward time: 0.001194000244140625\n",
      "Get normalized 3d coordinates time: 0.0006468296051025391\n",
      "Flip left handed input time: 0.00011491775512695312\n",
      "ScaLe heatmaps time 8.630752563476562e-05\n",
      "Time for processing 1 frame: 0.04291415214538574s\n",
      "tensor([[0.9798]], device='cuda:0', grad_fn=<SigmoidBackward>)\n",
      "Handnet forward time: 0.007587909698486328\n",
      "Handsegnet forward time: 0.0009467601776123047\n",
      "s shape torch.Size([1, 2, 224, 224])\n",
      "for loop time 0.002991199493408203\n",
      "hand mask sum: 1629.0\n",
      "Calculate single highest scoring object time: 0.028191804885864258\n",
      "Crop and resize time: 0.0009028911590576172\n",
      "Posenet forward time: 0.0019116401672363281\n",
      "Posepriornet forward time: 0.0007002353668212891\n",
      "Viewpoint forward time: 0.0009236335754394531\n",
      "Get normalized 3d coordinates time: 0.0005719661712646484\n",
      "Flip left handed input time: 0.00011730194091796875\n",
      "ScaLe heatmaps time 8.535385131835938e-05\n",
      "Time for processing 1 frame: 0.04248619079589844s\n"
     ]
    },
    {
     "name": "stderr",
     "output_type": "stream",
     "text": [
      "586it [01:40,  6.02it/s]"
     ]
    },
    {
     "name": "stdout",
     "output_type": "stream",
     "text": [
      "tensor([[0.9598]], device='cuda:0', grad_fn=<SigmoidBackward>)\n",
      "Handnet forward time: 0.0075893402099609375\n",
      "Handsegnet forward time: 0.0009407997131347656\n",
      "s shape torch.Size([1, 2, 224, 224])\n",
      "for loop time 0.0029823780059814453\n",
      "hand mask sum: 1671.0\n",
      "Calculate single highest scoring object time: 0.02819228172302246\n",
      "Crop and resize time: 0.00091552734375\n",
      "Posenet forward time: 0.0019233226776123047\n",
      "Posepriornet forward time: 0.0006871223449707031\n",
      "Viewpoint forward time: 0.0009279251098632812\n",
      "Get normalized 3d coordinates time: 0.0005984306335449219\n",
      "Flip left handed input time: 0.00011944770812988281\n",
      "ScaLe heatmaps time 8.654594421386719e-05\n",
      "Time for processing 1 frame: 0.042566537857055664s\n",
      "tensor([[0.9648]], device='cuda:0', grad_fn=<SigmoidBackward>)\n",
      "Handnet forward time: 0.007584571838378906\n",
      "Handsegnet forward time: 0.0009503364562988281\n",
      "s shape torch.Size([1, 2, 224, 224])\n",
      "for loop time 0.002993345260620117\n",
      "hand mask sum: 1720.0\n",
      "Calculate single highest scoring object time: 0.02816319465637207\n",
      "Crop and resize time: 0.0009086132049560547\n",
      "Posenet forward time: 0.001922607421875\n",
      "Posepriornet forward time: 0.0006947517395019531\n",
      "Viewpoint forward time: 0.0009324550628662109\n",
      "Get normalized 3d coordinates time: 0.0005750656127929688\n"
     ]
    },
    {
     "name": "stderr",
     "output_type": "stream",
     "text": [
      "\r",
      "587it [01:40,  6.01it/s]"
     ]
    },
    {
     "name": "stdout",
     "output_type": "stream",
     "text": [
      "Flip left handed input time: 0.0002963542938232422\n",
      "ScaLe heatmaps time 0.0001785755157470703\n",
      "Time for processing 1 frame: 0.042756080627441406s\n",
      "tensor([[0.9369]], device='cuda:0', grad_fn=<SigmoidBackward>)\n",
      "Handnet forward time: 0.007611274719238281\n",
      "Handsegnet forward time: 0.0009465217590332031\n",
      "s shape torch.Size([1, 2, 224, 224])\n",
      "for loop time 0.003015279769897461\n",
      "hand mask sum: 1746.0\n",
      "Calculate single highest scoring object time: 0.02830791473388672\n",
      "Crop and resize time: 0.0009353160858154297\n",
      "Posenet forward time: 0.0019140243530273438\n",
      "Posepriornet forward time: 0.0006875991821289062\n",
      "Viewpoint forward time: 0.0009465217590332031\n",
      "Get normalized 3d coordinates time: 0.0005762577056884766\n",
      "Flip left handed input time: 0.00012063980102539062\n",
      "ScaLe heatmaps time 8.702278137207031e-05\n",
      "Time for processing 1 frame: 0.04268312454223633s\n"
     ]
    },
    {
     "name": "stderr",
     "output_type": "stream",
     "text": [
      "589it [01:41,  6.01it/s]"
     ]
    },
    {
     "name": "stdout",
     "output_type": "stream",
     "text": [
      "tensor([[0.9194]], device='cuda:0', grad_fn=<SigmoidBackward>)\n",
      "Handnet forward time: 0.007609844207763672\n",
      "Handsegnet forward time: 0.0009431838989257812\n",
      "s shape torch.Size([1, 2, 224, 224])\n",
      "for loop time 0.002985715866088867\n",
      "hand mask sum: 1773.0\n",
      "Calculate single highest scoring object time: 0.028261423110961914\n",
      "Crop and resize time: 0.0009174346923828125\n",
      "Posenet forward time: 0.001924276351928711\n",
      "Posepriornet forward time: 0.0006976127624511719\n",
      "Viewpoint forward time: 0.0009398460388183594\n",
      "Get normalized 3d coordinates time: 0.0005719661712646484\n",
      "Flip left handed input time: 0.00011849403381347656\n",
      "ScaLe heatmaps time 8.082389831542969e-05\n",
      "Time for processing 1 frame: 0.042654991149902344s\n",
      "tensor([[0.9472]], device='cuda:0', grad_fn=<SigmoidBackward>)\n",
      "Handnet forward time: 0.007587432861328125\n",
      "Handsegnet forward time: 0.0009472370147705078\n",
      "s shape torch.Size([1, 2, 224, 224])\n",
      "for loop time 0.0029764175415039062\n",
      "hand mask sum: 1785.0\n",
      "Calculate single highest scoring object time: 0.02817392349243164\n",
      "Crop and resize time: 0.0009050369262695312\n",
      "Posenet forward time: 0.0019061565399169922\n",
      "Posepriornet forward time: 0.0006909370422363281\n",
      "Viewpoint forward time: 0.0009281635284423828\n"
     ]
    },
    {
     "name": "stderr",
     "output_type": "stream",
     "text": [
      "\r",
      "590it [01:41,  6.02it/s]"
     ]
    },
    {
     "name": "stdout",
     "output_type": "stream",
     "text": [
      "Get normalized 3d coordinates time: 0.0007989406585693359\n",
      "Flip left handed input time: 0.00016236305236816406\n",
      "ScaLe heatmaps time 9.012222290039062e-05\n",
      "Time for processing 1 frame: 0.04277539253234863s\n",
      "tensor([[0.9164]], device='cuda:0', grad_fn=<SigmoidBackward>)\n",
      "Handnet forward time: 0.007611751556396484\n",
      "Handsegnet forward time: 0.0009343624114990234\n",
      "s shape torch.Size([1, 2, 224, 224])\n",
      "for loop time 0.0029630661010742188\n",
      "hand mask sum: 1812.0\n",
      "Calculate single highest scoring object time: 0.028143882751464844\n",
      "Crop and resize time: 0.0009055137634277344\n",
      "Posenet forward time: 0.0019121170043945312\n",
      "Posepriornet forward time: 0.0006895065307617188\n",
      "Viewpoint forward time: 0.0009219646453857422\n",
      "Get normalized 3d coordinates time: 0.0005729198455810547\n",
      "Flip left handed input time: 0.00011944770812988281\n",
      "ScaLe heatmaps time 8.058547973632812e-05\n",
      "Time for processing 1 frame: 0.04244518280029297s\n"
     ]
    },
    {
     "name": "stderr",
     "output_type": "stream",
     "text": [
      "592it [01:41,  6.01it/s]"
     ]
    },
    {
     "name": "stdout",
     "output_type": "stream",
     "text": [
      "tensor([[0.9195]], device='cuda:0', grad_fn=<SigmoidBackward>)\n",
      "Handnet forward time: 0.007596731185913086\n",
      "Handsegnet forward time: 0.0010228157043457031\n",
      "s shape torch.Size([1, 2, 224, 224])\n",
      "for loop time 0.003058910369873047\n",
      "hand mask sum: 1823.0\n",
      "Calculate single highest scoring object time: 0.028248071670532227\n",
      "Crop and resize time: 0.0009093284606933594\n",
      "Posenet forward time: 0.0019192695617675781\n",
      "Posepriornet forward time: 0.0007030963897705078\n",
      "Viewpoint forward time: 0.0009372234344482422\n",
      "Get normalized 3d coordinates time: 0.0005788803100585938\n",
      "Flip left handed input time: 0.00011897087097167969\n",
      "ScaLe heatmaps time 8.106231689453125e-05\n",
      "Time for processing 1 frame: 0.042593955993652344s\n",
      "tensor([[0.9399]], device='cuda:0', grad_fn=<SigmoidBackward>)\n",
      "Handnet forward time: 0.0076138973236083984\n",
      "Handsegnet forward time: 0.0009288787841796875\n",
      "s shape torch.Size([1, 2, 224, 224])\n",
      "for loop time 0.002973318099975586\n",
      "hand mask sum: 1833.0\n",
      "Calculate single highest scoring object time: 0.02826237678527832\n",
      "Crop and resize time: 0.0009207725524902344\n",
      "Posenet forward time: 0.0019099712371826172\n",
      "Posepriornet forward time: 0.0006914138793945312\n",
      "Viewpoint forward time: 0.0009198188781738281\n"
     ]
    },
    {
     "name": "stderr",
     "output_type": "stream",
     "text": [
      "\r",
      "593it [01:41,  6.01it/s]"
     ]
    },
    {
     "name": "stdout",
     "output_type": "stream",
     "text": [
      "Get normalized 3d coordinates time: 0.0008225440979003906\n",
      "Flip left handed input time: 0.00016188621520996094\n",
      "ScaLe heatmaps time 8.273124694824219e-05\n",
      "Time for processing 1 frame: 0.04289746284484863s\n",
      "tensor([[0.9530]], device='cuda:0', grad_fn=<SigmoidBackward>)\n",
      "Handnet forward time: 0.007578134536743164\n",
      "Handsegnet forward time: 0.000965118408203125\n",
      "s shape torch.Size([1, 2, 224, 224])\n",
      "for loop time 0.002980947494506836\n",
      "hand mask sum: 1848.0\n",
      "Calculate single highest scoring object time: 0.028171062469482422\n",
      "Crop and resize time: 0.0009095668792724609\n",
      "Posenet forward time: 0.0019221305847167969\n",
      "Posepriornet forward time: 0.0006878376007080078\n",
      "Viewpoint forward time: 0.0009329319000244141\n",
      "Get normalized 3d coordinates time: 0.0005762577056884766\n",
      "Flip left handed input time: 0.000118255615234375\n",
      "ScaLe heatmaps time 7.987022399902344e-05\n",
      "Time for processing 1 frame: 0.04249215126037598s\n"
     ]
    },
    {
     "name": "stderr",
     "output_type": "stream",
     "text": [
      "595it [01:42,  6.01it/s]"
     ]
    },
    {
     "name": "stdout",
     "output_type": "stream",
     "text": [
      "tensor([[0.9537]], device='cuda:0', grad_fn=<SigmoidBackward>)\n",
      "Handnet forward time: 0.007550239562988281\n",
      "Handsegnet forward time: 0.0009474754333496094\n",
      "s shape torch.Size([1, 2, 224, 224])\n",
      "for loop time 0.0029833316802978516\n",
      "hand mask sum: 1847.0\n",
      "Calculate single highest scoring object time: 0.028084516525268555\n",
      "Crop and resize time: 0.0009043216705322266\n",
      "Posenet forward time: 0.001901865005493164\n",
      "Posepriornet forward time: 0.0006840229034423828\n",
      "Viewpoint forward time: 0.0009350776672363281\n",
      "Get normalized 3d coordinates time: 0.0005712509155273438\n",
      "Flip left handed input time: 0.00011467933654785156\n",
      "ScaLe heatmaps time 8.630752563476562e-05\n",
      "Time for processing 1 frame: 0.04237031936645508s\n",
      "tensor([[0.9661]], device='cuda:0', grad_fn=<SigmoidBackward>)\n",
      "Handnet forward time: 0.007615089416503906\n",
      "Handsegnet forward time: 0.0009396076202392578\n",
      "s shape torch.Size([1, 2, 224, 224])\n",
      "for loop time 0.003007173538208008\n",
      "hand mask sum: 1907.0\n",
      "Calculate single highest scoring object time: 0.028293609619140625\n",
      "Crop and resize time: 0.0009109973907470703\n",
      "Posenet forward time: 0.001920938491821289\n",
      "Posepriornet forward time: 0.0006921291351318359\n",
      "Viewpoint forward time: 0.0009243488311767578\n"
     ]
    },
    {
     "name": "stderr",
     "output_type": "stream",
     "text": [
      "\r",
      "596it [01:42,  6.01it/s]"
     ]
    },
    {
     "name": "stdout",
     "output_type": "stream",
     "text": [
      "Get normalized 3d coordinates time: 0.0008139610290527344\n",
      "Flip left handed input time: 0.0001671314239501953\n",
      "ScaLe heatmaps time 8.678436279296875e-05\n",
      "Time for processing 1 frame: 0.04295539855957031s\n",
      "tensor([[0.9862]], device='cuda:0', grad_fn=<SigmoidBackward>)\n",
      "Handnet forward time: 0.007592678070068359\n",
      "Handsegnet forward time: 0.0009367465972900391\n",
      "s shape torch.Size([1, 2, 224, 224])\n",
      "for loop time 0.0029854774475097656\n",
      "hand mask sum: 1925.0\n",
      "Calculate single highest scoring object time: 0.02827143669128418\n",
      "Crop and resize time: 0.0009028911590576172\n",
      "Posenet forward time: 0.0019164085388183594\n",
      "Posepriornet forward time: 0.0006890296936035156\n",
      "Viewpoint forward time: 0.0009191036224365234\n",
      "Get normalized 3d coordinates time: 0.0005757808685302734\n",
      "Flip left handed input time: 0.00011658668518066406\n",
      "ScaLe heatmaps time 8.654594421386719e-05\n",
      "Time for processing 1 frame: 0.042568206787109375s\n"
     ]
    },
    {
     "name": "stderr",
     "output_type": "stream",
     "text": [
      "598it [01:42,  6.02it/s]"
     ]
    },
    {
     "name": "stdout",
     "output_type": "stream",
     "text": [
      "tensor([[0.9861]], device='cuda:0', grad_fn=<SigmoidBackward>)\n",
      "Handnet forward time: 0.007729530334472656\n",
      "Handsegnet forward time: 0.0009362697601318359\n",
      "s shape torch.Size([1, 2, 224, 224])\n",
      "for loop time 0.0029785633087158203\n",
      "hand mask sum: 1940.0\n",
      "Calculate single highest scoring object time: 0.028194427490234375\n",
      "Crop and resize time: 0.0009186267852783203\n",
      "Posenet forward time: 0.0019049644470214844\n",
      "Posepriornet forward time: 0.0006906986236572266\n",
      "Viewpoint forward time: 0.0009188652038574219\n",
      "Get normalized 3d coordinates time: 0.0005807876586914062\n",
      "Flip left handed input time: 0.00012111663818359375\n",
      "ScaLe heatmaps time 8.702278137207031e-05\n",
      "Time for processing 1 frame: 0.04259753227233887s\n",
      "tensor([[0.9945]], device='cuda:0', grad_fn=<SigmoidBackward>)\n",
      "Handnet forward time: 0.0076122283935546875\n",
      "Handsegnet forward time: 0.0009915828704833984\n",
      "s shape torch.Size([1, 2, 224, 224])\n",
      "for loop time 0.002979755401611328\n",
      "hand mask sum: 1958.0\n",
      "Calculate single highest scoring object time: 0.02814507484436035\n",
      "Crop and resize time: 0.0009086132049560547\n",
      "Posenet forward time: 0.001950979232788086\n",
      "Posepriornet forward time: 0.0006935596466064453\n",
      "Viewpoint forward time: 0.0009248256683349609\n",
      "Get normalized 3d coordinates time: 0.0005719661712646484\n"
     ]
    },
    {
     "name": "stderr",
     "output_type": "stream",
     "text": [
      "\r",
      "599it [01:42,  6.02it/s]"
     ]
    },
    {
     "name": "stdout",
     "output_type": "stream",
     "text": [
      "Flip left handed input time: 0.00028324127197265625\n",
      "ScaLe heatmaps time 0.00018072128295898438\n",
      "Time for processing 1 frame: 0.0427401065826416s\n",
      "tensor([[0.9963]], device='cuda:0', grad_fn=<SigmoidBackward>)\n",
      "Handnet forward time: 0.00762176513671875\n",
      "Handsegnet forward time: 0.0009410381317138672\n",
      "s shape torch.Size([1, 2, 224, 224])\n",
      "for loop time 0.0030128955841064453\n",
      "hand mask sum: 1974.0\n",
      "Calculate single highest scoring object time: 0.028301477432250977\n",
      "Crop and resize time: 0.0009102821350097656\n",
      "Posenet forward time: 0.0019130706787109375\n",
      "Posepriornet forward time: 0.0006875991821289062\n",
      "Viewpoint forward time: 0.0009276866912841797\n",
      "Get normalized 3d coordinates time: 0.0005819797515869141\n",
      "Flip left handed input time: 0.00011515617370605469\n",
      "ScaLe heatmaps time 8.678436279296875e-05\n",
      "Time for processing 1 frame: 0.042647361755371094s\n"
     ]
    },
    {
     "name": "stderr",
     "output_type": "stream",
     "text": [
      "601it [01:43,  6.00it/s]"
     ]
    },
    {
     "name": "stdout",
     "output_type": "stream",
     "text": [
      "tensor([[0.9951]], device='cuda:0', grad_fn=<SigmoidBackward>)\n",
      "Handnet forward time: 0.007662534713745117\n",
      "Handsegnet forward time: 0.0009484291076660156\n",
      "s shape torch.Size([1, 2, 224, 224])\n",
      "for loop time 0.0030028820037841797\n",
      "hand mask sum: 1971.0\n",
      "Calculate single highest scoring object time: 0.028307437896728516\n",
      "Crop and resize time: 0.0009107589721679688\n",
      "Posenet forward time: 0.0019195079803466797\n",
      "Posepriornet forward time: 0.0006988048553466797\n",
      "Viewpoint forward time: 0.0009276866912841797\n",
      "Get normalized 3d coordinates time: 0.0005822181701660156\n",
      "Flip left handed input time: 0.00012111663818359375\n",
      "ScaLe heatmaps time 8.440017700195312e-05\n",
      "Time for processing 1 frame: 0.04279041290283203s\n",
      "tensor([[0.9950]], device='cuda:0', grad_fn=<SigmoidBackward>)\n",
      "Handnet forward time: 0.007585048675537109\n",
      "Handsegnet forward time: 0.0009369850158691406\n",
      "s shape torch.Size([1, 2, 224, 224])\n",
      "for loop time 0.0029692649841308594\n",
      "hand mask sum: 1995.0\n",
      "Calculate single highest scoring object time: 0.028183460235595703\n",
      "Crop and resize time: 0.0009076595306396484\n",
      "Posenet forward time: 0.0019137859344482422\n",
      "Posepriornet forward time: 0.000690460205078125\n"
     ]
    },
    {
     "name": "stderr",
     "output_type": "stream",
     "text": [
      "\r",
      "602it [01:43,  6.01it/s]"
     ]
    },
    {
     "name": "stdout",
     "output_type": "stream",
     "text": [
      "Viewpoint forward time: 0.0011944770812988281\n",
      "Get normalized 3d coordinates time: 0.0009071826934814453\n",
      "Flip left handed input time: 5.5789947509765625e-05\n",
      "ScaLe heatmaps time 8.821487426757812e-05\n",
      "Time for processing 1 frame: 0.043126821517944336s\n",
      "tensor([[0.9933]], device='cuda:0', grad_fn=<SigmoidBackward>)\n",
      "Handnet forward time: 0.007623910903930664\n",
      "Handsegnet forward time: 0.0009436607360839844\n",
      "s shape torch.Size([1, 2, 224, 224])\n",
      "for loop time 0.0029621124267578125\n",
      "hand mask sum: 2008.0\n",
      "Calculate single highest scoring object time: 0.028128623962402344\n",
      "Crop and resize time: 0.0009183883666992188\n",
      "Posenet forward time: 0.0019137859344482422\n",
      "Posepriornet forward time: 0.0006945133209228516\n",
      "Viewpoint forward time: 0.0009214878082275391\n",
      "Get normalized 3d coordinates time: 0.0005757808685302734\n",
      "Flip left handed input time: 0.0001220703125\n",
      "ScaLe heatmaps time 8.940696716308594e-05\n",
      "Time for processing 1 frame: 0.042490482330322266s\n"
     ]
    },
    {
     "name": "stderr",
     "output_type": "stream",
     "text": [
      "604it [01:43,  6.01it/s]"
     ]
    },
    {
     "name": "stdout",
     "output_type": "stream",
     "text": [
      "tensor([[0.9910]], device='cuda:0', grad_fn=<SigmoidBackward>)\n",
      "Handnet forward time: 0.0076138973236083984\n",
      "Handsegnet forward time: 0.0010190010070800781\n",
      "s shape torch.Size([1, 2, 224, 224])\n",
      "for loop time 0.002977609634399414\n",
      "hand mask sum: 2007.0\n",
      "Calculate single highest scoring object time: 0.02805328369140625\n",
      "Crop and resize time: 0.0009083747863769531\n",
      "Posenet forward time: 0.0019309520721435547\n",
      "Posepriornet forward time: 0.0006959438323974609\n",
      "Viewpoint forward time: 0.0009317398071289062\n",
      "Get normalized 3d coordinates time: 0.0005788803100585938\n",
      "Flip left handed input time: 0.00011944770812988281\n",
      "ScaLe heatmaps time 8.344650268554688e-05\n",
      "Time for processing 1 frame: 0.04241514205932617s\n",
      "tensor([[0.9892]], device='cuda:0', grad_fn=<SigmoidBackward>)\n",
      "Handnet forward time: 0.007621049880981445\n",
      "Handsegnet forward time: 0.0009381771087646484\n",
      "s shape torch.Size([1, 2, 224, 224])\n",
      "for loop time 0.0030050277709960938\n",
      "hand mask sum: 2017.0\n",
      "Calculate single highest scoring object time: 0.028238534927368164\n",
      "Crop and resize time: 0.0009226799011230469\n",
      "Posenet forward time: 0.0019154548645019531\n",
      "Posepriornet forward time: 0.0006973743438720703\n",
      "Viewpoint forward time: 0.0009281635284423828\n"
     ]
    },
    {
     "name": "stderr",
     "output_type": "stream",
     "text": [
      "\r",
      "605it [01:43,  6.01it/s]"
     ]
    },
    {
     "name": "stdout",
     "output_type": "stream",
     "text": [
      "Get normalized 3d coordinates time: 0.0008115768432617188\n",
      "Flip left handed input time: 0.00016760826110839844\n",
      "ScaLe heatmaps time 8.368492126464844e-05\n",
      "Time for processing 1 frame: 0.04290771484375s\n",
      "tensor([[0.9895]], device='cuda:0', grad_fn=<SigmoidBackward>)\n",
      "Handnet forward time: 0.007624149322509766\n",
      "Handsegnet forward time: 0.0009343624114990234\n",
      "s shape torch.Size([1, 2, 224, 224])\n",
      "for loop time 0.002980470657348633\n",
      "hand mask sum: 2018.0\n",
      "Calculate single highest scoring object time: 0.028184175491333008\n",
      "Crop and resize time: 0.0009062290191650391\n",
      "Posenet forward time: 0.0019109249114990234\n",
      "Posepriornet forward time: 0.0006923675537109375\n",
      "Viewpoint forward time: 0.0009202957153320312\n",
      "Get normalized 3d coordinates time: 0.0005748271942138672\n",
      "Flip left handed input time: 0.0001220703125\n",
      "ScaLe heatmaps time 8.273124694824219e-05\n",
      "Time for processing 1 frame: 0.04250454902648926s\n"
     ]
    },
    {
     "name": "stderr",
     "output_type": "stream",
     "text": [
      "607it [01:44,  6.01it/s]"
     ]
    },
    {
     "name": "stdout",
     "output_type": "stream",
     "text": [
      "tensor([[0.9918]], device='cuda:0', grad_fn=<SigmoidBackward>)\n",
      "Handnet forward time: 0.007676601409912109\n",
      "Handsegnet forward time: 0.0009527206420898438\n",
      "s shape torch.Size([1, 2, 224, 224])\n",
      "for loop time 0.002979278564453125\n",
      "hand mask sum: 2012.0\n",
      "Calculate single highest scoring object time: 0.028108835220336914\n",
      "Crop and resize time: 0.0009107589721679688\n",
      "Posenet forward time: 0.0019068717956542969\n",
      "Posepriornet forward time: 0.0006878376007080078\n",
      "Viewpoint forward time: 0.0009291172027587891\n",
      "Get normalized 3d coordinates time: 0.0005753040313720703\n",
      "Flip left handed input time: 0.000118255615234375\n",
      "ScaLe heatmaps time 8.845329284667969e-05\n",
      "Time for processing 1 frame: 0.04254961013793945s\n",
      "tensor([[0.9893]], device='cuda:0', grad_fn=<SigmoidBackward>)\n",
      "Handnet forward time: 0.007634639739990234\n",
      "Handsegnet forward time: 0.0009350776672363281\n",
      "s shape torch.Size([1, 2, 224, 224])\n",
      "for loop time 0.0029783248901367188\n",
      "hand mask sum: 2036.0\n",
      "Calculate single highest scoring object time: 0.028112173080444336\n",
      "Crop and resize time: 0.0009067058563232422\n",
      "Posenet forward time: 0.0019025802612304688\n",
      "Posepriornet forward time: 0.0006914138793945312\n",
      "Viewpoint forward time: 0.0009264945983886719\n"
     ]
    },
    {
     "name": "stderr",
     "output_type": "stream",
     "text": [
      "\r",
      "608it [01:44,  6.00it/s]"
     ]
    },
    {
     "name": "stdout",
     "output_type": "stream",
     "text": [
      "Get normalized 3d coordinates time: 0.0008132457733154297\n",
      "Flip left handed input time: 0.0001704692840576172\n",
      "ScaLe heatmaps time 9.059906005859375e-05\n",
      "Time for processing 1 frame: 0.0427706241607666s\n",
      "tensor([[0.9825]], device='cuda:0', grad_fn=<SigmoidBackward>)\n",
      "Handnet forward time: 0.007642269134521484\n",
      "Handsegnet forward time: 0.0009882450103759766\n",
      "s shape torch.Size([1, 2, 224, 224])\n",
      "for loop time 0.0030012130737304688\n",
      "hand mask sum: 2023.0\n",
      "Calculate single highest scoring object time: 0.028171777725219727\n",
      "Crop and resize time: 0.0009083747863769531\n",
      "Posenet forward time: 0.0019199848175048828\n",
      "Posepriornet forward time: 0.0006916522979736328\n",
      "Viewpoint forward time: 0.0009205341339111328\n",
      "Get normalized 3d coordinates time: 0.0005753040313720703\n",
      "Flip left handed input time: 0.00011539459228515625\n",
      "ScaLe heatmaps time 8.58306884765625e-05\n",
      "Time for processing 1 frame: 0.04249167442321777s\n"
     ]
    },
    {
     "name": "stderr",
     "output_type": "stream",
     "text": [
      "610it [01:44,  6.00it/s]"
     ]
    },
    {
     "name": "stdout",
     "output_type": "stream",
     "text": [
      "tensor([[0.9862]], device='cuda:0', grad_fn=<SigmoidBackward>)\n",
      "Handnet forward time: 0.007613658905029297\n",
      "Handsegnet forward time: 0.0009450912475585938\n",
      "s shape torch.Size([1, 2, 224, 224])\n",
      "for loop time 0.0029726028442382812\n",
      "hand mask sum: 2066.0\n",
      "Calculate single highest scoring object time: 0.028132915496826172\n",
      "Crop and resize time: 0.0009207725524902344\n",
      "Posenet forward time: 0.0019066333770751953\n",
      "Posepriornet forward time: 0.0006949901580810547\n",
      "Viewpoint forward time: 0.0009224414825439453\n",
      "Get normalized 3d coordinates time: 0.0005736351013183594\n",
      "Flip left handed input time: 0.00011682510375976562\n",
      "ScaLe heatmaps time 8.511543273925781e-05\n",
      "Time for processing 1 frame: 0.042508840560913086s\n",
      "tensor([[0.9772]], device='cuda:0', grad_fn=<SigmoidBackward>)\n",
      "Handnet forward time: 0.007588863372802734\n",
      "Handsegnet forward time: 0.0009386539459228516\n",
      "s shape torch.Size([1, 2, 224, 224])\n",
      "for loop time 0.002971649169921875\n",
      "hand mask sum: 2059.0\n",
      "Calculate single highest scoring object time: 0.028105974197387695\n",
      "Crop and resize time: 0.0009284019470214844\n",
      "Posenet forward time: 0.0019047260284423828\n",
      "Posepriornet forward time: 0.0006875991821289062\n",
      "Viewpoint forward time: 0.0009315013885498047\n"
     ]
    },
    {
     "name": "stderr",
     "output_type": "stream",
     "text": [
      "\r",
      "611it [01:44,  6.01it/s]"
     ]
    },
    {
     "name": "stdout",
     "output_type": "stream",
     "text": [
      "Get normalized 3d coordinates time: 0.0008139610290527344\n",
      "Flip left handed input time: 0.0001659393310546875\n",
      "ScaLe heatmaps time 8.821487426757812e-05\n",
      "Time for processing 1 frame: 0.042746782302856445s\n",
      "tensor([[0.9657]], device='cuda:0', grad_fn=<SigmoidBackward>)\n",
      "Handnet forward time: 0.007642507553100586\n",
      "Handsegnet forward time: 0.0009360313415527344\n",
      "s shape torch.Size([1, 2, 224, 224])\n",
      "for loop time 0.002977609634399414\n",
      "hand mask sum: 2082.0\n",
      "Calculate single highest scoring object time: 0.02811455726623535\n",
      "Crop and resize time: 0.0009214878082275391\n",
      "Posenet forward time: 0.0019097328186035156\n",
      "Posepriornet forward time: 0.0006923675537109375\n",
      "Viewpoint forward time: 0.0009195804595947266\n",
      "Get normalized 3d coordinates time: 0.0005757808685302734\n",
      "Flip left handed input time: 0.00012183189392089844\n",
      "ScaLe heatmaps time 8.225440979003906e-05\n",
      "Time for processing 1 frame: 0.04246783256530762s\n"
     ]
    },
    {
     "name": "stderr",
     "output_type": "stream",
     "text": [
      "613it [01:45,  5.93it/s]"
     ]
    },
    {
     "name": "stdout",
     "output_type": "stream",
     "text": [
      "tensor([[0.8499]], device='cuda:0', grad_fn=<SigmoidBackward>)\n",
      "Handnet forward time: 0.007668733596801758\n",
      "Handsegnet forward time: 0.0010285377502441406\n",
      "s shape torch.Size([1, 2, 224, 224])\n",
      "for loop time 0.0030035972595214844\n",
      "hand mask sum: 2120.0\n",
      "Calculate single highest scoring object time: 0.028185606002807617\n",
      "Crop and resize time: 0.0011227130889892578\n",
      "Posenet forward time: 0.002405405044555664\n",
      "Posepriornet forward time: 0.0008487701416015625\n",
      "Viewpoint forward time: 0.0011217594146728516\n",
      "Get normalized 3d coordinates time: 0.000705718994140625\n",
      "Flip left handed input time: 0.00012969970703125\n",
      "ScaLe heatmaps time 9.393692016601562e-05\n",
      "Time for processing 1 frame: 0.04389524459838867s\n",
      "tensor([[0.8626]], device='cuda:0', grad_fn=<SigmoidBackward>)\n",
      "Handnet forward time: 0.007600545883178711\n",
      "Handsegnet forward time: 0.00093841552734375\n",
      "s shape torch.Size([1, 2, 224, 224])\n"
     ]
    },
    {
     "name": "stderr",
     "output_type": "stream",
     "text": [
      "\r",
      "614it [01:45,  5.96it/s]"
     ]
    },
    {
     "name": "stdout",
     "output_type": "stream",
     "text": [
      "for loop time 0.0032372474670410156\n",
      "hand mask sum: 2219.0\n",
      "Calculate single highest scoring object time: 0.028504371643066406\n",
      "Crop and resize time: 0.0009305477142333984\n",
      "Posenet forward time: 0.001920938491821289\n",
      "Posepriornet forward time: 0.0006921291351318359\n",
      "Viewpoint forward time: 0.0009224414825439453\n",
      "Get normalized 3d coordinates time: 0.0005819797515869141\n",
      "Flip left handed input time: 0.00012230873107910156\n",
      "ScaLe heatmaps time 8.368492126464844e-05\n",
      "Time for processing 1 frame: 0.04288220405578613s\n",
      "tensor([[0.8910]], device='cuda:0', grad_fn=<SigmoidBackward>)\n",
      "Handnet forward time: 0.0076143741607666016\n",
      "Handsegnet forward time: 0.000934600830078125\n",
      "s shape torch.Size([1, 2, 224, 224])\n",
      "for loop time 0.0029861927032470703\n",
      "hand mask sum: 2391.0\n",
      "Calculate single highest scoring object time: 0.028266429901123047\n",
      "Crop and resize time: 0.0009298324584960938\n",
      "Posenet forward time: 0.0019009113311767578\n",
      "Posepriornet forward time: 0.00069427490234375\n",
      "Viewpoint forward time: 0.0009407997131347656\n",
      "Get normalized 3d coordinates time: 0.0005784034729003906\n",
      "Flip left handed input time: 0.00011682510375976562\n",
      "ScaLe heatmaps time 8.893013000488281e-05\n",
      "Time for processing 1 frame: 0.04263806343078613s\n"
     ]
    },
    {
     "name": "stderr",
     "output_type": "stream",
     "text": [
      "616it [01:45,  5.97it/s]"
     ]
    },
    {
     "name": "stdout",
     "output_type": "stream",
     "text": [
      "tensor([[0.8854]], device='cuda:0', grad_fn=<SigmoidBackward>)\n",
      "Handnet forward time: 0.007704496383666992\n",
      "Handsegnet forward time: 0.000942230224609375\n",
      "s shape torch.Size([1, 2, 224, 224])\n",
      "for loop time 0.0030024051666259766\n",
      "hand mask sum: 2498.0\n",
      "Calculate single highest scoring object time: 0.028264522552490234\n",
      "Crop and resize time: 0.0009329319000244141\n",
      "Posenet forward time: 0.0019116401672363281\n",
      "Posepriornet forward time: 0.0006887912750244141\n",
      "Viewpoint forward time: 0.0009410381317138672\n",
      "Get normalized 3d coordinates time: 0.0005757808685302734\n",
      "Flip left handed input time: 0.00012254714965820312\n",
      "ScaLe heatmaps time 8.749961853027344e-05\n",
      "Time for processing 1 frame: 0.042703866958618164s\n",
      "tensor([[0.9628]], device='cuda:0', grad_fn=<SigmoidBackward>)\n",
      "Handnet forward time: 0.007605075836181641\n",
      "Handsegnet forward time: 0.001001596450805664\n",
      "s shape torch.Size([1, 2, 224, 224])\n",
      "for loop time 0.002984762191772461\n",
      "hand mask sum: 2657.0\n",
      "Calculate single highest scoring object time: 0.028135299682617188\n",
      "Crop and resize time: 0.0009279251098632812\n",
      "Posenet forward time: 0.0019183158874511719\n",
      "Posepriornet forward time: 0.0006906986236572266\n",
      "Viewpoint forward time: 0.0009255409240722656\n"
     ]
    },
    {
     "name": "stderr",
     "output_type": "stream",
     "text": [
      "\r",
      "617it [01:45,  5.98it/s]"
     ]
    },
    {
     "name": "stdout",
     "output_type": "stream",
     "text": [
      "Get normalized 3d coordinates time: 0.0008139610290527344\n",
      "Flip left handed input time: 0.00016427040100097656\n",
      "ScaLe heatmaps time 8.416175842285156e-05\n",
      "Time for processing 1 frame: 0.04275655746459961s\n",
      "tensor([[0.9919]], device='cuda:0', grad_fn=<SigmoidBackward>)\n",
      "Handnet forward time: 0.007620096206665039\n",
      "Handsegnet forward time: 0.0009479522705078125\n",
      "s shape torch.Size([1, 2, 224, 224])\n",
      "for loop time 0.0029761791229248047\n",
      "hand mask sum: 2744.0\n",
      "Calculate single highest scoring object time: 0.028121232986450195\n",
      "Crop and resize time: 0.0009312629699707031\n",
      "Posenet forward time: 0.001912832260131836\n",
      "Posepriornet forward time: 0.0006957054138183594\n",
      "Viewpoint forward time: 0.0009317398071289062\n",
      "Get normalized 3d coordinates time: 0.0005779266357421875\n",
      "Flip left handed input time: 0.00011920928955078125\n",
      "ScaLe heatmaps time 8.273124694824219e-05\n",
      "Time for processing 1 frame: 0.04250836372375488s\n"
     ]
    },
    {
     "name": "stderr",
     "output_type": "stream",
     "text": [
      "619it [01:46,  5.97it/s]"
     ]
    },
    {
     "name": "stdout",
     "output_type": "stream",
     "text": [
      "tensor([[0.9850]], device='cuda:0', grad_fn=<SigmoidBackward>)\n",
      "Handnet forward time: 0.007638216018676758\n",
      "Handsegnet forward time: 0.0009503364562988281\n",
      "s shape torch.Size([1, 2, 224, 224])\n",
      "for loop time 0.003009319305419922\n",
      "hand mask sum: 3057.0\n",
      "Calculate single highest scoring object time: 0.028278112411499023\n",
      "Crop and resize time: 0.0009264945983886719\n",
      "Posenet forward time: 0.0019140243530273438\n",
      "Posepriornet forward time: 0.000690460205078125\n",
      "Viewpoint forward time: 0.0009329319000244141\n",
      "Get normalized 3d coordinates time: 0.0005776882171630859\n",
      "Flip left handed input time: 0.00012040138244628906\n",
      "ScaLe heatmaps time 8.392333984375e-05\n",
      "Time for processing 1 frame: 0.04271674156188965s\n",
      "tensor([[0.9930]], device='cuda:0', grad_fn=<SigmoidBackward>)\n",
      "Handnet forward time: 0.007591724395751953\n",
      "Handsegnet forward time: 0.0009362697601318359\n",
      "s shape torch.Size([1, 2, 224, 224])\n",
      "for loop time 0.0030050277709960938\n",
      "hand mask sum: 3317.0\n",
      "Calculate single highest scoring object time: 0.028233051300048828\n",
      "Crop and resize time: 0.0009241104125976562\n",
      "Posenet forward time: 0.001916646957397461\n",
      "Posepriornet forward time: 0.0006814002990722656\n"
     ]
    },
    {
     "name": "stderr",
     "output_type": "stream",
     "text": [
      "\r",
      "620it [01:46,  5.98it/s]"
     ]
    },
    {
     "name": "stdout",
     "output_type": "stream",
     "text": [
      "Viewpoint forward time: 0.0016355514526367188\n",
      "Get normalized 3d coordinates time: 0.0006315708160400391\n",
      "Flip left handed input time: 0.0001251697540283203\n",
      "ScaLe heatmaps time 9.083747863769531e-05\n",
      "Time for processing 1 frame: 0.04333758354187012s\n",
      "tensor([[0.9977]], device='cuda:0', grad_fn=<SigmoidBackward>)\n",
      "Handnet forward time: 0.007608652114868164\n",
      "Handsegnet forward time: 0.0009438991546630859\n",
      "s shape torch.Size([1, 2, 224, 224])\n",
      "for loop time 0.0029795169830322266\n",
      "hand mask sum: 3584.0\n",
      "Calculate single highest scoring object time: 0.02817511558532715\n",
      "Crop and resize time: 0.0009367465972900391\n",
      "Posenet forward time: 0.001979351043701172\n",
      "Posepriornet forward time: 0.0007266998291015625\n",
      "Viewpoint forward time: 0.0009355545043945312\n",
      "Get normalized 3d coordinates time: 0.0005960464477539062\n",
      "Flip left handed input time: 0.0001227855682373047\n",
      "ScaLe heatmaps time 8.916854858398438e-05\n",
      "Time for processing 1 frame: 0.0426788330078125s\n"
     ]
    },
    {
     "name": "stderr",
     "output_type": "stream",
     "text": [
      "622it [01:46,  5.94it/s]"
     ]
    },
    {
     "name": "stdout",
     "output_type": "stream",
     "text": [
      "tensor([[0.9997]], device='cuda:0', grad_fn=<SigmoidBackward>)\n",
      "Handnet forward time: 0.007623910903930664\n",
      "Handsegnet forward time: 0.0009653568267822266\n",
      "s shape torch.Size([1, 2, 224, 224])\n",
      "for loop time 0.003009319305419922\n",
      "hand mask sum: 3659.0\n",
      "Calculate single highest scoring object time: 0.028120994567871094\n",
      "Crop and resize time: 0.0009341239929199219\n",
      "Posenet forward time: 0.0019452571868896484\n",
      "Posepriornet forward time: 0.0007045269012451172\n",
      "Viewpoint forward time: 0.0009386539459228516\n",
      "Get normalized 3d coordinates time: 0.0005719661712646484\n",
      "Flip left handed input time: 0.00012087821960449219\n",
      "ScaLe heatmaps time 8.463859558105469e-05\n",
      "Time for processing 1 frame: 0.04260611534118652s\n",
      "tensor([[0.9999]], device='cuda:0', grad_fn=<SigmoidBackward>)\n",
      "Handnet forward time: 0.0076291561126708984\n",
      "Handsegnet forward time: 0.0009465217590332031\n",
      "s shape torch.Size([1, 2, 224, 224])\n",
      "for loop time 0.003022432327270508\n",
      "hand mask sum: 3677.0\n",
      "Calculate single highest scoring object time: 0.028239011764526367\n",
      "Crop and resize time: 0.0009417533874511719\n",
      "Posenet forward time: 0.0019817352294921875\n"
     ]
    },
    {
     "name": "stderr",
     "output_type": "stream",
     "text": [
      "\r",
      "623it [01:46,  5.95it/s]"
     ]
    },
    {
     "name": "stdout",
     "output_type": "stream",
     "text": [
      "Posepriornet forward time: 0.0010020732879638672\n",
      "Viewpoint forward time: 0.0009815692901611328\n",
      "Get normalized 3d coordinates time: 0.0005960464477539062\n",
      "Flip left handed input time: 0.00012350082397460938\n",
      "ScaLe heatmaps time 8.940696716308594e-05\n",
      "Time for processing 1 frame: 0.043126583099365234s\n",
      "tensor([[0.9999]], device='cuda:0', grad_fn=<SigmoidBackward>)\n",
      "Handnet forward time: 0.007624626159667969\n",
      "Handsegnet forward time: 0.0009438991546630859\n",
      "s shape torch.Size([1, 2, 224, 224])\n",
      "for loop time 0.003027200698852539\n",
      "hand mask sum: 3650.0\n",
      "Calculate single highest scoring object time: 0.028155803680419922\n",
      "Crop and resize time: 0.0009336471557617188\n",
      "Posenet forward time: 0.0019271373748779297\n",
      "Posepriornet forward time: 0.0006926059722900391\n",
      "Viewpoint forward time: 0.0009369850158691406\n",
      "Get normalized 3d coordinates time: 0.000576019287109375\n",
      "Flip left handed input time: 0.00012040138244628906\n",
      "ScaLe heatmaps time 8.893013000488281e-05\n",
      "Time for processing 1 frame: 0.04256081581115723s\n"
     ]
    },
    {
     "name": "stderr",
     "output_type": "stream",
     "text": [
      "625it [01:47,  5.82it/s]"
     ]
    },
    {
     "name": "stdout",
     "output_type": "stream",
     "text": [
      "tensor([[1.0000]], device='cuda:0', grad_fn=<SigmoidBackward>)\n",
      "Handnet forward time: 0.00870966911315918\n",
      "Handsegnet forward time: 0.0009882450103759766\n",
      "s shape torch.Size([1, 2, 224, 224])\n",
      "for loop time 0.003022909164428711\n",
      "hand mask sum: 3690.0\n",
      "Calculate single highest scoring object time: 0.032401084899902344\n",
      "Crop and resize time: 0.0009593963623046875\n",
      "Posenet forward time: 0.0019690990447998047\n",
      "Posepriornet forward time: 0.0007147789001464844\n",
      "Viewpoint forward time: 0.0009338855743408203\n",
      "Get normalized 3d coordinates time: 0.000576019287109375\n",
      "Flip left handed input time: 0.00011920928955078125\n",
      "ScaLe heatmaps time 3.9577484130859375e-05\n",
      "Time for processing 1 frame: 0.04806661605834961s\n",
      "tensor([[1.0000]], device='cuda:0', grad_fn=<SigmoidBackward>)\n",
      "Handnet forward time: 0.009164571762084961\n",
      "Handsegnet forward time: 0.0010254383087158203\n"
     ]
    },
    {
     "name": "stderr",
     "output_type": "stream",
     "text": [
      "\r",
      "626it [01:47,  5.69it/s]"
     ]
    },
    {
     "name": "stdout",
     "output_type": "stream",
     "text": [
      "s shape torch.Size([1, 2, 224, 224])\n",
      "for loop time 0.003818511962890625\n",
      "hand mask sum: 3693.0\n",
      "Calculate single highest scoring object time: 0.03142738342285156\n",
      "Crop and resize time: 0.0009865760803222656\n",
      "Posenet forward time: 0.0019681453704833984\n",
      "Posepriornet forward time: 0.0007121562957763672\n",
      "Viewpoint forward time: 0.0009474754333496094\n",
      "Get normalized 3d coordinates time: 0.000583648681640625\n",
      "Flip left handed input time: 0.00011420249938964844\n",
      "ScaLe heatmaps time 9.012222290039062e-05\n",
      "Time for processing 1 frame: 0.04763960838317871s\n",
      "tensor([[1.0000]], device='cuda:0', grad_fn=<SigmoidBackward>)\n",
      "Handnet forward time: 0.008400201797485352\n",
      "Handsegnet forward time: 0.0010271072387695312\n",
      "s shape torch.Size([1, 2, 224, 224])\n",
      "for loop time 0.003754854202270508\n",
      "hand mask sum: 3660.0\n",
      "Calculate single highest scoring object time: 0.030634164810180664\n",
      "Crop and resize time: 0.0009746551513671875\n",
      "Posenet forward time: 0.0019502639770507812\n",
      "Posepriornet forward time: 0.0007090568542480469\n",
      "Viewpoint forward time: 0.0009305477142333984\n",
      "Get normalized 3d coordinates time: 0.0005826950073242188\n",
      "Flip left handed input time: 0.00011920928955078125\n",
      "ScaLe heatmaps time 9.179115295410156e-05\n",
      "Time for processing 1 frame: 0.04604172706604004s\n"
     ]
    },
    {
     "name": "stderr",
     "output_type": "stream",
     "text": [
      "628it [01:47,  5.74it/s]"
     ]
    },
    {
     "name": "stdout",
     "output_type": "stream",
     "text": [
      "tensor([[1.0000]], device='cuda:0', grad_fn=<SigmoidBackward>)\n",
      "Handnet forward time: 0.007807493209838867\n",
      "Handsegnet forward time: 0.001142740249633789\n",
      "s shape torch.Size([1, 2, 224, 224])\n",
      "for loop time 0.0029840469360351562\n",
      "hand mask sum: 3659.0\n",
      "Calculate single highest scoring object time: 0.030022621154785156\n",
      "Crop and resize time: 0.0009608268737792969\n",
      "Posenet forward time: 0.0019359588623046875\n",
      "Posepriornet forward time: 0.0007097721099853516\n",
      "Viewpoint forward time: 0.0009796619415283203\n",
      "Get normalized 3d coordinates time: 0.0005762577056884766\n",
      "Flip left handed input time: 0.00012040138244628906\n",
      "ScaLe heatmaps time 8.988380432128906e-05\n",
      "Time for processing 1 frame: 0.04488563537597656s\n",
      "tensor([[0.9999]], device='cuda:0', grad_fn=<SigmoidBackward>)\n",
      "Handnet forward time: 0.008501529693603516\n",
      "Handsegnet forward time: 0.0010323524475097656\n"
     ]
    },
    {
     "name": "stderr",
     "output_type": "stream",
     "text": [
      "\r",
      "629it [01:48,  5.68it/s]"
     ]
    },
    {
     "name": "stdout",
     "output_type": "stream",
     "text": [
      "s shape torch.Size([1, 2, 224, 224])\n",
      "for loop time 0.004584312438964844\n",
      "hand mask sum: 3656.0\n",
      "Calculate single highest scoring object time: 0.032610177993774414\n",
      "Crop and resize time: 0.0013484954833984375\n",
      "Posenet forward time: 0.002968311309814453\n",
      "Posepriornet forward time: 0.0010383129119873047\n",
      "Viewpoint forward time: 0.0014252662658691406\n",
      "Get normalized 3d coordinates time: 0.0007166862487792969\n",
      "Flip left handed input time: 0.0001728534698486328\n",
      "ScaLe heatmaps time 0.00010728836059570312\n",
      "Time for processing 1 frame: 0.05056262016296387s\n",
      "tensor([[0.9999]], device='cuda:0', grad_fn=<SigmoidBackward>)\n",
      "Handnet forward time: 0.0075664520263671875\n",
      "Handsegnet forward time: 0.0009686946868896484\n",
      "s shape torch.Size([1, 2, 224, 224])\n",
      "for loop time 0.003045320510864258\n",
      "hand mask sum: 3650.0\n",
      "Calculate single highest scoring object time: 0.031320810317993164\n",
      "Crop and resize time: 0.0009965896606445312\n",
      "Posenet forward time: 0.002029895782470703\n",
      "Posepriornet forward time: 0.0007967948913574219\n",
      "Viewpoint forward time: 0.0009715557098388672\n",
      "Get normalized 3d coordinates time: 0.0005922317504882812\n",
      "Flip left handed input time: 0.00012445449829101562\n",
      "ScaLe heatmaps time 8.463859558105469e-05\n",
      "Time for processing 1 frame: 0.04605817794799805s\n"
     ]
    },
    {
     "name": "stderr",
     "output_type": "stream",
     "text": [
      "631it [01:48,  5.70it/s]"
     ]
    },
    {
     "name": "stdout",
     "output_type": "stream",
     "text": [
      "tensor([[0.9999]], device='cuda:0', grad_fn=<SigmoidBackward>)\n",
      "Handnet forward time: 0.008060216903686523\n",
      "Handsegnet forward time: 0.0010492801666259766\n",
      "s shape torch.Size([1, 2, 224, 224])\n",
      "for loop time 0.0030908584594726562\n",
      "hand mask sum: 3631.0\n",
      "Calculate single highest scoring object time: 0.03181600570678711\n",
      "Crop and resize time: 0.0009734630584716797\n",
      "Posenet forward time: 0.001966238021850586\n",
      "Posepriornet forward time: 0.0007119178771972656\n",
      "Viewpoint forward time: 0.0009293556213378906\n",
      "Get normalized 3d coordinates time: 0.0005934238433837891\n",
      "Flip left handed input time: 0.0001392364501953125\n",
      "ScaLe heatmaps time 9.608268737792969e-05\n",
      "Time for processing 1 frame: 0.046862125396728516s\n",
      "tensor([[0.9998]], device='cuda:0', grad_fn=<SigmoidBackward>)\n",
      "Handnet forward time: 0.0076673030853271484\n",
      "Handsegnet forward time: 0.001329183578491211\n"
     ]
    },
    {
     "name": "stderr",
     "output_type": "stream",
     "text": [
      "\r",
      "632it [01:48,  5.70it/s]"
     ]
    },
    {
     "name": "stdout",
     "output_type": "stream",
     "text": [
      "s shape torch.Size([1, 2, 224, 224])\n",
      "for loop time 0.0032453536987304688\n",
      "hand mask sum: 3633.0\n",
      "Calculate single highest scoring object time: 0.030428647994995117\n",
      "Crop and resize time: 0.0011191368103027344\n",
      "Posenet forward time: 0.0026960372924804688\n",
      "Posepriornet forward time: 0.0007636547088623047\n",
      "Viewpoint forward time: 0.001012563705444336\n",
      "Get normalized 3d coordinates time: 0.0006160736083984375\n",
      "Flip left handed input time: 0.0001342296600341797\n",
      "ScaLe heatmaps time 9.1552734375e-05\n",
      "Time for processing 1 frame: 0.046601295471191406s\n",
      "tensor([[0.9998]], device='cuda:0', grad_fn=<SigmoidBackward>)\n",
      "Handnet forward time: 0.007685661315917969\n",
      "Handsegnet forward time: 0.0012259483337402344\n",
      "s shape torch.Size([1, 2, 224, 224])\n",
      "for loop time 0.003362894058227539\n",
      "hand mask sum: 3607.0\n",
      "Calculate single highest scoring object time: 0.029617786407470703\n",
      "Crop and resize time: 0.0009472370147705078\n",
      "Posenet forward time: 0.0019488334655761719\n",
      "Posepriornet forward time: 0.0007088184356689453\n",
      "Viewpoint forward time: 0.0009262561798095703\n",
      "Get normalized 3d coordinates time: 0.00057220458984375\n",
      "Flip left handed input time: 0.00011944770812988281\n",
      "ScaLe heatmaps time 8.368492126464844e-05\n",
      "Time for processing 1 frame: 0.044356346130371094s\n"
     ]
    },
    {
     "name": "stderr",
     "output_type": "stream",
     "text": [
      "634it [01:48,  5.77it/s]"
     ]
    },
    {
     "name": "stdout",
     "output_type": "stream",
     "text": [
      "tensor([[0.9998]], device='cuda:0', grad_fn=<SigmoidBackward>)\n",
      "Handnet forward time: 0.007811069488525391\n",
      "Handsegnet forward time: 0.0011897087097167969\n",
      "s shape torch.Size([1, 2, 224, 224])\n",
      "for loop time 0.0030150413513183594\n",
      "hand mask sum: 3593.0\n",
      "Calculate single highest scoring object time: 0.030106067657470703\n",
      "Crop and resize time: 0.0009527206420898438\n",
      "Posenet forward time: 0.0019526481628417969\n",
      "Posepriornet forward time: 0.0007150173187255859\n",
      "Viewpoint forward time: 0.0009403228759765625\n",
      "Get normalized 3d coordinates time: 0.0005941390991210938\n",
      "Flip left handed input time: 0.000125885009765625\n",
      "ScaLe heatmaps time 9.298324584960938e-05\n",
      "Time for processing 1 frame: 0.0450284481048584s\n",
      "tensor([[0.9999]], device='cuda:0', grad_fn=<SigmoidBackward>)\n",
      "Handnet forward time: 0.007723569869995117\n",
      "Handsegnet forward time: 0.0012540817260742188\n",
      "s shape torch.Size([1, 2, 224, 224])\n"
     ]
    },
    {
     "name": "stderr",
     "output_type": "stream",
     "text": [
      "\r",
      "635it [01:49,  5.76it/s]"
     ]
    },
    {
     "name": "stdout",
     "output_type": "stream",
     "text": [
      "for loop time 0.0039103031158447266\n",
      "hand mask sum: 3587.0\n",
      "Calculate single highest scoring object time: 0.03078603744506836\n",
      "Crop and resize time: 0.0010001659393310547\n",
      "Posenet forward time: 0.0019941329956054688\n",
      "Posepriornet forward time: 0.0007410049438476562\n",
      "Viewpoint forward time: 0.0009522438049316406\n",
      "Get normalized 3d coordinates time: 0.0005960464477539062\n",
      "Flip left handed input time: 0.00012135505676269531\n",
      "ScaLe heatmaps time 8.535385131835938e-05\n",
      "Time for processing 1 frame: 0.04590129852294922s\n",
      "tensor([[0.9998]], device='cuda:0', grad_fn=<SigmoidBackward>)\n",
      "Handnet forward time: 0.007688999176025391\n",
      "Handsegnet forward time: 0.0011968612670898438\n",
      "s shape torch.Size([1, 2, 224, 224])\n",
      "for loop time 0.0032987594604492188\n",
      "hand mask sum: 3585.0\n",
      "Calculate single highest scoring object time: 0.029488325119018555\n",
      "Crop and resize time: 0.0009512901306152344\n",
      "Posenet forward time: 0.0019588470458984375\n",
      "Posepriornet forward time: 0.0007085800170898438\n",
      "Viewpoint forward time: 0.000926971435546875\n",
      "Get normalized 3d coordinates time: 0.0005738735198974609\n",
      "Flip left handed input time: 0.00011849403381347656\n",
      "ScaLe heatmaps time 6.771087646484375e-05\n",
      "Time for processing 1 frame: 0.04412436485290527s\n"
     ]
    },
    {
     "name": "stderr",
     "output_type": "stream",
     "text": [
      "637it [01:49,  5.80it/s]"
     ]
    },
    {
     "name": "stdout",
     "output_type": "stream",
     "text": [
      "tensor([[0.9999]], device='cuda:0', grad_fn=<SigmoidBackward>)\n",
      "Handnet forward time: 0.007691860198974609\n",
      "Handsegnet forward time: 0.0011315345764160156\n",
      "s shape torch.Size([1, 2, 224, 224])\n",
      "for loop time 0.0030128955841064453\n",
      "hand mask sum: 3569.0\n",
      "Calculate single highest scoring object time: 0.030328750610351562\n",
      "Crop and resize time: 0.0009758472442626953\n",
      "Posenet forward time: 0.0019519329071044922\n",
      "Posepriornet forward time: 0.0007021427154541016\n",
      "Viewpoint forward time: 0.0009334087371826172\n",
      "Get normalized 3d coordinates time: 0.0005865097045898438\n",
      "Flip left handed input time: 0.00012969970703125\n",
      "ScaLe heatmaps time 9.107589721679688e-05\n",
      "Time for processing 1 frame: 0.04519319534301758s\n",
      "tensor([[0.9999]], device='cuda:0', grad_fn=<SigmoidBackward>)\n",
      "Handnet forward time: 0.007750988006591797\n",
      "Handsegnet forward time: 0.0014886856079101562\n",
      "s shape torch.Size([1, 2, 224, 224])\n"
     ]
    },
    {
     "name": "stderr",
     "output_type": "stream",
     "text": [
      "\r",
      "638it [01:49,  5.79it/s]"
     ]
    },
    {
     "name": "stdout",
     "output_type": "stream",
     "text": [
      "for loop time 0.003762483596801758\n",
      "hand mask sum: 3577.0\n",
      "Calculate single highest scoring object time: 0.030544519424438477\n",
      "Crop and resize time: 0.0014972686767578125\n",
      "Posenet forward time: 0.002946615219116211\n",
      "Posepriornet forward time: 0.0010161399841308594\n",
      "Viewpoint forward time: 0.0013496875762939453\n",
      "Get normalized 3d coordinates time: 0.000873565673828125\n",
      "Flip left handed input time: 0.00014400482177734375\n",
      "ScaLe heatmaps time 9.512901306152344e-05\n",
      "Time for processing 1 frame: 0.04850959777832031s\n",
      "tensor([[0.9999]], device='cuda:0', grad_fn=<SigmoidBackward>)\n",
      "Handnet forward time: 0.007731199264526367\n",
      "Handsegnet forward time: 0.0012142658233642578\n",
      "s shape torch.Size([1, 2, 224, 224])\n",
      "for loop time 0.00328826904296875\n",
      "hand mask sum: 3573.0\n",
      "Calculate single highest scoring object time: 0.029814958572387695\n",
      "Crop and resize time: 0.0009648799896240234\n",
      "Posenet forward time: 0.001943826675415039\n",
      "Posepriornet forward time: 0.0007078647613525391\n",
      "Viewpoint forward time: 0.0009322166442871094\n",
      "Get normalized 3d coordinates time: 0.0005815029144287109\n",
      "Flip left handed input time: 0.00011897087097167969\n",
      "ScaLe heatmaps time 8.416175842285156e-05\n",
      "Time for processing 1 frame: 0.04470252990722656s\n"
     ]
    },
    {
     "name": "stderr",
     "output_type": "stream",
     "text": [
      "640it [01:49,  5.65it/s]"
     ]
    },
    {
     "name": "stdout",
     "output_type": "stream",
     "text": [
      "tensor([[0.9998]], device='cuda:0', grad_fn=<SigmoidBackward>)\n",
      "Handnet forward time: 0.007775306701660156\n",
      "Handsegnet forward time: 0.0012454986572265625\n",
      "s shape torch.Size([1, 2, 224, 224])\n",
      "for loop time 0.0033273696899414062\n",
      "hand mask sum: 3578.0\n",
      "Calculate single highest scoring object time: 0.03067779541015625\n",
      "Crop and resize time: 0.0011289119720458984\n",
      "Posenet forward time: 0.002453327178955078\n",
      "Posepriornet forward time: 0.0008637905120849609\n",
      "Viewpoint forward time: 0.0011379718780517578\n",
      "Get normalized 3d coordinates time: 0.0007245540618896484\n",
      "Flip left handed input time: 0.00013971328735351562\n",
      "ScaLe heatmaps time 0.00010585784912109375\n",
      "Time for processing 1 frame: 0.046950340270996094s\n",
      "tensor([[0.9998]], device='cuda:0', grad_fn=<SigmoidBackward>)\n",
      "Handnet forward time: 0.008432149887084961\n",
      "Handsegnet forward time: 0.0015075206756591797\n"
     ]
    },
    {
     "name": "stderr",
     "output_type": "stream",
     "text": [
      "\r",
      "641it [01:50,  5.69it/s]"
     ]
    },
    {
     "name": "stdout",
     "output_type": "stream",
     "text": [
      "s shape torch.Size([1, 2, 224, 224])\n",
      "for loop time 0.0036873817443847656\n",
      "hand mask sum: 3615.0\n",
      "Calculate single highest scoring object time: 0.030823230743408203\n",
      "Crop and resize time: 0.0014693737030029297\n",
      "Posenet forward time: 0.002416849136352539\n",
      "Posepriornet forward time: 0.0011382102966308594\n",
      "Viewpoint forward time: 0.0014736652374267578\n",
      "Get normalized 3d coordinates time: 0.0006084442138671875\n",
      "Flip left handed input time: 0.00012063980102539062\n",
      "ScaLe heatmaps time 9.465217590332031e-05\n",
      "Time for processing 1 frame: 0.04894280433654785s\n",
      "tensor([[1.0000]], device='cuda:0', grad_fn=<SigmoidBackward>)\n",
      "Handnet forward time: 0.008553266525268555\n",
      "Handsegnet forward time: 0.0014536380767822266\n",
      "s shape torch.Size([1, 2, 224, 224])\n",
      "for loop time 0.003623485565185547\n",
      "hand mask sum: 3571.0\n",
      "Calculate single highest scoring object time: 0.03306150436401367\n",
      "Crop and resize time: 0.0009860992431640625\n",
      "Posenet forward time: 0.001982450485229492\n",
      "Posepriornet forward time: 0.0007035732269287109\n",
      "Viewpoint forward time: 0.0009281635284423828\n",
      "Get normalized 3d coordinates time: 0.0005867481231689453\n",
      "Flip left handed input time: 0.00012063980102539062\n",
      "ScaLe heatmaps time 8.487701416015625e-05\n",
      "Time for processing 1 frame: 0.04900836944580078s\n"
     ]
    },
    {
     "name": "stderr",
     "output_type": "stream",
     "text": [
      "643it [01:50,  5.79it/s]"
     ]
    },
    {
     "name": "stdout",
     "output_type": "stream",
     "text": [
      "tensor([[0.9998]], device='cuda:0', grad_fn=<SigmoidBackward>)\n",
      "Handnet forward time: 0.0076181888580322266\n",
      "Handsegnet forward time: 0.001020193099975586\n",
      "s shape torch.Size([1, 2, 224, 224])\n",
      "for loop time 0.003023386001586914\n",
      "hand mask sum: 3460.0\n",
      "Calculate single highest scoring object time: 0.02976250648498535\n",
      "Crop and resize time: 0.0009741783142089844\n",
      "Posenet forward time: 0.001954317092895508\n",
      "Posepriornet forward time: 0.0007398128509521484\n",
      "Viewpoint forward time: 0.0010380744934082031\n",
      "Get normalized 3d coordinates time: 0.0006036758422851562\n",
      "Flip left handed input time: 0.00012993812561035156\n",
      "ScaLe heatmaps time 9.489059448242188e-05\n",
      "Time for processing 1 frame: 0.0444483757019043s\n",
      "tensor([[0.9991]], device='cuda:0', grad_fn=<SigmoidBackward>)\n",
      "Handnet forward time: 0.007590055465698242\n",
      "Handsegnet forward time: 0.0009341239929199219\n",
      "s shape torch.Size([1, 2, 224, 224])\n",
      "for loop time 0.0029900074005126953\n",
      "hand mask sum: 3332.0\n",
      "Calculate single highest scoring object time: 0.030326128005981445\n",
      "Crop and resize time: 0.0009548664093017578\n",
      "Posenet forward time: 0.0019621849060058594\n"
     ]
    },
    {
     "name": "stderr",
     "output_type": "stream",
     "text": [
      "\r",
      "644it [01:50,  5.72it/s]"
     ]
    },
    {
     "name": "stdout",
     "output_type": "stream",
     "text": [
      "Posepriornet forward time: 0.0010213851928710938\n",
      "Viewpoint forward time: 0.0012497901916503906\n",
      "Get normalized 3d coordinates time: 0.0007534027099609375\n",
      "Flip left handed input time: 0.0001354217529296875\n",
      "ScaLe heatmaps time 9.369850158691406e-05\n",
      "Time for processing 1 frame: 0.04569387435913086s\n",
      "tensor([[0.9842]], device='cuda:0', grad_fn=<SigmoidBackward>)\n",
      "Handnet forward time: 0.007696866989135742\n",
      "Handsegnet forward time: 0.0010111331939697266\n",
      "s shape torch.Size([1, 2, 224, 224])\n",
      "for loop time 0.0030126571655273438\n",
      "hand mask sum: 2965.0\n",
      "Calculate single highest scoring object time: 0.030647993087768555\n",
      "Crop and resize time: 0.0009658336639404297\n",
      "Posenet forward time: 0.00197601318359375\n",
      "Posepriornet forward time: 0.0007138252258300781\n",
      "Viewpoint forward time: 0.0009279251098632812\n",
      "Get normalized 3d coordinates time: 0.0005784034729003906\n",
      "Flip left handed input time: 0.00012636184692382812\n",
      "ScaLe heatmaps time 8.678436279296875e-05\n",
      "Time for processing 1 frame: 0.045346975326538086s\n"
     ]
    },
    {
     "name": "stderr",
     "output_type": "stream",
     "text": [
      "646it [01:50,  5.84it/s]"
     ]
    },
    {
     "name": "stdout",
     "output_type": "stream",
     "text": [
      "tensor([[0.8949]], device='cuda:0', grad_fn=<SigmoidBackward>)\n",
      "Handnet forward time: 0.007651805877685547\n",
      "Handsegnet forward time: 0.0012578964233398438\n",
      "s shape torch.Size([1, 2, 224, 224])\n",
      "for loop time 0.003011465072631836\n",
      "hand mask sum: 2653.0\n",
      "Calculate single highest scoring object time: 0.03046441078186035\n",
      "Crop and resize time: 0.0009610652923583984\n",
      "Posenet forward time: 0.001966238021850586\n",
      "Posepriornet forward time: 0.0006968975067138672\n",
      "Viewpoint forward time: 0.000978231430053711\n",
      "Get normalized 3d coordinates time: 0.0006244182586669922\n",
      "Flip left handed input time: 0.00013709068298339844\n",
      "ScaLe heatmaps time 9.393692016601562e-05\n",
      "Time for processing 1 frame: 0.04528498649597168s\n",
      "tensor([[0.7250]], device='cuda:0', grad_fn=<SigmoidBackward>)\n",
      "Handnet forward time: 0.0077972412109375\n",
      "Handsegnet forward time: 0.0012726783752441406\n",
      "s shape torch.Size([1, 2, 224, 224])\n",
      "for loop time 0.003281831741333008\n",
      "hand mask sum: 2535.0\n",
      "Calculate single highest scoring object time: 0.030190229415893555\n",
      "Crop and resize time: 0.00112152099609375\n"
     ]
    },
    {
     "name": "stderr",
     "output_type": "stream",
     "text": [
      "\r",
      "647it [01:51,  5.86it/s]"
     ]
    },
    {
     "name": "stdout",
     "output_type": "stream",
     "text": [
      "Posenet forward time: 0.0026612281799316406\n",
      "Posepriornet forward time: 0.0009076595306396484\n",
      "Viewpoint forward time: 0.0011515617370605469\n",
      "Get normalized 3d coordinates time: 0.0007607936859130859\n",
      "Flip left handed input time: 0.00014209747314453125\n",
      "ScaLe heatmaps time 0.00010824203491210938\n",
      "Time for processing 1 frame: 0.04673910140991211s\n",
      "tensor([[0.7141]], device='cuda:0', grad_fn=<SigmoidBackward>)\n",
      "Handnet forward time: 0.007729530334472656\n",
      "Handsegnet forward time: 0.001542806625366211\n",
      "s shape torch.Size([1, 2, 224, 224])\n",
      "for loop time 0.0033075809478759766\n",
      "hand mask sum: 2433.0\n",
      "Calculate single highest scoring object time: 0.03075242042541504\n",
      "Crop and resize time: 0.0009701251983642578\n",
      "Posenet forward time: 0.0020132064819335938\n",
      "Posepriornet forward time: 0.0007429122924804688\n",
      "Viewpoint forward time: 0.0009543895721435547\n",
      "Get normalized 3d coordinates time: 0.0005824565887451172\n",
      "Flip left handed input time: 0.0001201629638671875\n",
      "ScaLe heatmaps time 9.179115295410156e-05\n",
      "Time for processing 1 frame: 0.04613089561462402s\n"
     ]
    },
    {
     "name": "stderr",
     "output_type": "stream",
     "text": [
      "649it [01:51,  5.92it/s]"
     ]
    },
    {
     "name": "stdout",
     "output_type": "stream",
     "text": [
      "tensor([[0.6958]], device='cuda:0', grad_fn=<SigmoidBackward>)\n",
      "Handnet forward time: 0.007699728012084961\n",
      "Handsegnet forward time: 0.0010159015655517578\n",
      "s shape torch.Size([1, 2, 224, 224])\n",
      "for loop time 0.004010200500488281\n",
      "hand mask sum: 2380.0\n",
      "Calculate single highest scoring object time: 0.031064987182617188\n",
      "Crop and resize time: 0.0015156269073486328\n",
      "Posenet forward time: 0.0024442672729492188\n",
      "Posepriornet forward time: 0.0008549690246582031\n",
      "Viewpoint forward time: 0.0011909008026123047\n",
      "Get normalized 3d coordinates time: 0.0007069110870361328\n",
      "Flip left handed input time: 0.00012993812561035156\n",
      "ScaLe heatmaps time 9.489059448242188e-05\n",
      "Time for processing 1 frame: 0.04744672775268555s\n",
      "tensor([[0.5388]], device='cuda:0', grad_fn=<SigmoidBackward>)\n",
      "Handnet forward time: 0.007646083831787109\n",
      "Handsegnet forward time: 0.0012507438659667969\n",
      "s shape torch.Size([1, 2, 224, 224])\n",
      "for loop time 0.0033843517303466797\n",
      "hand mask sum: 2208.0\n",
      "Calculate single highest scoring object time: 0.03023815155029297\n",
      "Crop and resize time: 0.0009427070617675781\n"
     ]
    },
    {
     "name": "stderr",
     "output_type": "stream",
     "text": [
      "\r",
      "650it [01:51,  5.93it/s]"
     ]
    },
    {
     "name": "stdout",
     "output_type": "stream",
     "text": [
      "Posenet forward time: 0.00229644775390625\n",
      "Posepriornet forward time: 0.0007979869842529297\n",
      "Viewpoint forward time: 0.0009369850158691406\n",
      "Get normalized 3d coordinates time: 0.0005857944488525391\n",
      "Flip left handed input time: 0.00011920928955078125\n",
      "ScaLe heatmaps time 8.320808410644531e-05\n",
      "Time for processing 1 frame: 0.045577287673950195s\n",
      "tensor([[0.4983]], device='cuda:0', grad_fn=<SigmoidBackward>)\n",
      "Handnet forward time: 0.007704257965087891\n",
      "Handsegnet forward time: 0.0010993480682373047\n",
      "s shape torch.Size([1, 2, 224, 224])\n",
      "for loop time 0.004270792007446289\n",
      "hand mask sum: 2127.0\n",
      "Calculate single highest scoring object time: 0.032045602798461914\n",
      "Crop and resize time: 0.0009765625\n",
      "Posenet forward time: 0.0020112991333007812\n",
      "Posepriornet forward time: 0.0007436275482177734\n",
      "Viewpoint forward time: 0.0009572505950927734\n",
      "Get normalized 3d coordinates time: 0.0006127357482910156\n",
      "Flip left handed input time: 0.00014400482177734375\n",
      "ScaLe heatmaps time 0.000102996826171875\n",
      "Time for processing 1 frame: 0.04711461067199707s\n"
     ]
    },
    {
     "name": "stderr",
     "output_type": "stream",
     "text": [
      "652it [01:52,  5.91it/s]"
     ]
    },
    {
     "name": "stdout",
     "output_type": "stream",
     "text": [
      "tensor([[0.6723]], device='cuda:0', grad_fn=<SigmoidBackward>)\n",
      "Handnet forward time: 0.007715463638305664\n",
      "Handsegnet forward time: 0.0015223026275634766\n",
      "s shape torch.Size([1, 2, 224, 224])\n",
      "for loop time 0.003052949905395508\n",
      "hand mask sum: 2054.0\n",
      "Calculate single highest scoring object time: 0.0321192741394043\n",
      "Crop and resize time: 0.0009717941284179688\n",
      "Posenet forward time: 0.0019729137420654297\n",
      "Posepriornet forward time: 0.0007152557373046875\n",
      "Viewpoint forward time: 0.0009520053863525391\n",
      "Get normalized 3d coordinates time: 0.0005819797515869141\n",
      "Flip left handed input time: 0.00011610984802246094\n",
      "ScaLe heatmaps time 9.1552734375e-05\n",
      "Time for processing 1 frame: 0.04745221138000488s\n",
      "tensor([[0.6295]], device='cuda:0', grad_fn=<SigmoidBackward>)\n",
      "Handnet forward time: 0.007605314254760742\n",
      "Handsegnet forward time: 0.0009462833404541016\n",
      "s shape torch.Size([1, 2, 224, 224])\n",
      "for loop time 0.003052949905395508\n",
      "hand mask sum: 1981.0\n",
      "Calculate single highest scoring object time: 0.030316591262817383\n",
      "Crop and resize time: 0.0009491443634033203\n"
     ]
    },
    {
     "name": "stderr",
     "output_type": "stream",
     "text": [
      "\r",
      "653it [01:52,  5.90it/s]"
     ]
    },
    {
     "name": "stdout",
     "output_type": "stream",
     "text": [
      "Posenet forward time: 0.002712726593017578\n",
      "Posepriornet forward time: 0.0010921955108642578\n",
      "Viewpoint forward time: 0.0013315677642822266\n",
      "Get normalized 3d coordinates time: 0.0008692741394042969\n",
      "Flip left handed input time: 0.00014710426330566406\n",
      "ScaLe heatmaps time 9.560585021972656e-05\n",
      "Time for processing 1 frame: 0.04681825637817383s\n",
      "tensor([[0.6368]], device='cuda:0', grad_fn=<SigmoidBackward>)\n",
      "Handnet forward time: 0.0076541900634765625\n",
      "Handsegnet forward time: 0.0010068416595458984\n",
      "s shape torch.Size([1, 2, 224, 224])\n",
      "for loop time 0.0030417442321777344\n",
      "hand mask sum: 1941.0\n",
      "Calculate single highest scoring object time: 0.03077101707458496\n",
      "Crop and resize time: 0.0009491443634033203\n",
      "Posenet forward time: 0.0019769668579101562\n",
      "Posepriornet forward time: 0.000743865966796875\n",
      "Viewpoint forward time: 0.0012121200561523438\n",
      "Get normalized 3d coordinates time: 0.0007193088531494141\n",
      "Flip left handed input time: 0.00015211105346679688\n",
      "ScaLe heatmaps time 4.00543212890625e-05\n",
      "Time for processing 1 frame: 0.045990705490112305s\n"
     ]
    },
    {
     "name": "stderr",
     "output_type": "stream",
     "text": [
      "655it [01:52,  5.79it/s]"
     ]
    },
    {
     "name": "stdout",
     "output_type": "stream",
     "text": [
      "tensor([[0.7057]], device='cuda:0', grad_fn=<SigmoidBackward>)\n",
      "Handnet forward time: 0.007806062698364258\n",
      "Handsegnet forward time: 0.001043558120727539\n",
      "s shape torch.Size([1, 2, 224, 224])\n",
      "for loop time 0.0037796497344970703\n",
      "hand mask sum: 1923.0\n",
      "Calculate single highest scoring object time: 0.031503915786743164\n",
      "Crop and resize time: 0.0009953975677490234\n",
      "Posenet forward time: 0.001998424530029297\n",
      "Posepriornet forward time: 0.0007417201995849609\n",
      "Viewpoint forward time: 0.0009665489196777344\n",
      "Get normalized 3d coordinates time: 0.0006101131439208984\n",
      "Flip left handed input time: 0.00014352798461914062\n",
      "ScaLe heatmaps time 0.00010275840759277344\n",
      "Time for processing 1 frame: 0.04657125473022461s\n",
      "tensor([[0.7523]], device='cuda:0', grad_fn=<SigmoidBackward>)\n",
      "Handnet forward time: 0.0077250003814697266\n",
      "Handsegnet forward time: 0.0015630722045898438\n",
      "s shape torch.Size([1, 2, 224, 224])\n",
      "for loop time 0.003304719924926758\n",
      "hand mask sum: 1903.0\n",
      "Calculate single highest scoring object time: 0.029993295669555664\n",
      "Crop and resize time: 0.0009419918060302734\n"
     ]
    },
    {
     "name": "stderr",
     "output_type": "stream",
     "text": [
      "\r",
      "656it [01:52,  5.85it/s]"
     ]
    },
    {
     "name": "stdout",
     "output_type": "stream",
     "text": [
      "Posenet forward time: 0.002245664596557617\n",
      "Posepriornet forward time: 0.0007748603820800781\n",
      "Viewpoint forward time: 0.0009298324584960938\n",
      "Get normalized 3d coordinates time: 0.0005853176116943359\n",
      "Flip left handed input time: 0.00012063980102539062\n",
      "ScaLe heatmaps time 8.726119995117188e-05\n",
      "Time for processing 1 frame: 0.045625925064086914s\n",
      "tensor([[0.8180]], device='cuda:0', grad_fn=<SigmoidBackward>)\n",
      "Handnet forward time: 0.007675886154174805\n",
      "Handsegnet forward time: 0.0010449886322021484\n",
      "s shape torch.Size([1, 2, 224, 224])\n",
      "for loop time 0.003316164016723633\n",
      "hand mask sum: 1916.0\n",
      "Calculate single highest scoring object time: 0.03057074546813965\n",
      "Crop and resize time: 0.0009763240814208984\n",
      "Posenet forward time: 0.001977682113647461\n",
      "Posepriornet forward time: 0.0007135868072509766\n",
      "Viewpoint forward time: 0.0009393692016601562\n",
      "Get normalized 3d coordinates time: 0.0005831718444824219\n",
      "Flip left handed input time: 0.0001227855682373047\n",
      "ScaLe heatmaps time 8.511543273925781e-05\n",
      "Time for processing 1 frame: 0.04530739784240723s\n"
     ]
    },
    {
     "name": "stderr",
     "output_type": "stream",
     "text": [
      "658it [01:53,  5.94it/s]"
     ]
    },
    {
     "name": "stdout",
     "output_type": "stream",
     "text": [
      "tensor([[0.8326]], device='cuda:0', grad_fn=<SigmoidBackward>)\n",
      "Handnet forward time: 0.00768733024597168\n",
      "Handsegnet forward time: 0.0011456012725830078\n",
      "s shape torch.Size([1, 2, 224, 224])\n",
      "for loop time 0.0029790401458740234\n",
      "hand mask sum: 1909.0\n",
      "Calculate single highest scoring object time: 0.029254436492919922\n",
      "Crop and resize time: 0.0009369850158691406\n",
      "Posenet forward time: 0.0020074844360351562\n",
      "Posepriornet forward time: 0.0007266998291015625\n",
      "Viewpoint forward time: 0.0009374618530273438\n",
      "Get normalized 3d coordinates time: 0.0005841255187988281\n",
      "Flip left handed input time: 0.00011849403381347656\n",
      "ScaLe heatmaps time 7.724761962890625e-05\n",
      "Time for processing 1 frame: 0.044045448303222656s\n",
      "tensor([[0.8321]], device='cuda:0', grad_fn=<SigmoidBackward>)\n",
      "Handnet forward time: 0.007700920104980469\n",
      "Handsegnet forward time: 0.001481771469116211\n",
      "s shape torch.Size([1, 2, 224, 224])\n",
      "for loop time 0.003259420394897461\n",
      "hand mask sum: 1921.0\n",
      "Calculate single highest scoring object time: 0.030148744583129883\n",
      "Crop and resize time: 0.0014410018920898438\n"
     ]
    },
    {
     "name": "stderr",
     "output_type": "stream",
     "text": [
      "\r",
      "659it [01:53,  5.88it/s]"
     ]
    },
    {
     "name": "stdout",
     "output_type": "stream",
     "text": [
      "Posenet forward time: 0.0027167797088623047\n",
      "Posepriornet forward time: 0.0009119510650634766\n",
      "Viewpoint forward time: 0.0011334419250488281\n",
      "Get normalized 3d coordinates time: 0.0007317066192626953\n",
      "Flip left handed input time: 0.0001373291015625\n",
      "ScaLe heatmaps time 9.489059448242188e-05\n",
      "Time for processing 1 frame: 0.04704427719116211s\n",
      "tensor([[0.7975]], device='cuda:0', grad_fn=<SigmoidBackward>)\n",
      "Handnet forward time: 0.007759809494018555\n",
      "Handsegnet forward time: 0.0015208721160888672\n",
      "s shape torch.Size([1, 2, 224, 224])\n",
      "for loop time 0.0032715797424316406\n",
      "hand mask sum: 1899.0\n",
      "Calculate single highest scoring object time: 0.029229164123535156\n",
      "Crop and resize time: 0.0009462833404541016\n",
      "Posenet forward time: 0.001955270767211914\n",
      "Posepriornet forward time: 0.0007090568542480469\n",
      "Viewpoint forward time: 0.0009207725524902344\n",
      "Get normalized 3d coordinates time: 0.0005896091461181641\n",
      "Flip left handed input time: 0.0001220703125\n",
      "ScaLe heatmaps time 8.940696716308594e-05\n",
      "Time for processing 1 frame: 0.04448127746582031s\n"
     ]
    },
    {
     "name": "stderr",
     "output_type": "stream",
     "text": [
      "\r",
      "660it [01:53,  5.93it/s]"
     ]
    },
    {
     "name": "stdout",
     "output_type": "stream",
     "text": [
      "tensor([[0.8202]], device='cuda:0', grad_fn=<SigmoidBackward>)\n",
      "Handnet forward time: 0.007851839065551758\n",
      "Handsegnet forward time: 0.0010225772857666016\n",
      "s shape torch.Size([1, 2, 224, 224])\n",
      "for loop time 0.002989053726196289\n",
      "hand mask sum: 1924.0\n",
      "Calculate single highest scoring object time: 0.030553579330444336\n",
      "Crop and resize time: 0.0009377002716064453\n",
      "Posenet forward time: 0.0019423961639404297\n",
      "Posepriornet forward time: 0.0007050037384033203\n",
      "Viewpoint forward time: 0.0009393692016601562\n",
      "Get normalized 3d coordinates time: 0.0005781650543212891\n",
      "Flip left handed input time: 0.00012183189392089844\n",
      "ScaLe heatmaps time 8.487701416015625e-05\n",
      "Time for processing 1 frame: 0.04528498649597168s\n"
     ]
    },
    {
     "name": "stderr",
     "output_type": "stream",
     "text": [
      "662it [01:54,  4.16it/s]"
     ]
    },
    {
     "name": "stdout",
     "output_type": "stream",
     "text": [
      "tensor([[0.8542]], device='cuda:0', grad_fn=<SigmoidBackward>)\n",
      "Handnet forward time: 0.007752418518066406\n",
      "Handsegnet forward time: 0.0011882781982421875\n",
      "s shape torch.Size([1, 2, 224, 224])\n",
      "for loop time 0.0031490325927734375\n",
      "hand mask sum: 1921.0\n",
      "Calculate single highest scoring object time: 0.029114723205566406\n",
      "Crop and resize time: 0.0013897418975830078\n",
      "Posenet forward time: 0.0019953250885009766\n",
      "Posepriornet forward time: 0.0007233619689941406\n",
      "Viewpoint forward time: 0.0009257793426513672\n",
      "Get normalized 3d coordinates time: 0.0005877017974853516\n",
      "Flip left handed input time: 5.364418029785156e-05\n",
      "ScaLe heatmaps time 3.075599670410156e-05\n",
      "Time for processing 1 frame: 0.04457879066467285s\n",
      "tensor([[0.8718]], device='cuda:0', grad_fn=<SigmoidBackward>)\n",
      "Handnet forward time: 0.007683277130126953\n",
      "Handsegnet forward time: 0.0012028217315673828\n",
      "s shape torch.Size([1, 2, 224, 224])\n",
      "for loop time 0.003342866897583008\n",
      "hand mask sum: 1922.0\n",
      "Calculate single highest scoring object time: 0.030321598052978516\n",
      "Crop and resize time: 0.0009362697601318359\n"
     ]
    },
    {
     "name": "stderr",
     "output_type": "stream",
     "text": [
      "\r",
      "663it [01:54,  4.58it/s]"
     ]
    },
    {
     "name": "stdout",
     "output_type": "stream",
     "text": [
      "Posenet forward time: 0.002222776412963867\n",
      "Posepriornet forward time: 0.0008063316345214844\n",
      "Viewpoint forward time: 0.0009415149688720703\n",
      "Get normalized 3d coordinates time: 0.0005865097045898438\n",
      "Flip left handed input time: 0.0001201629638671875\n",
      "ScaLe heatmaps time 8.893013000488281e-05\n",
      "Time for processing 1 frame: 0.045449018478393555s\n",
      "tensor([[0.7942]], device='cuda:0', grad_fn=<SigmoidBackward>)\n",
      "Handnet forward time: 0.0076313018798828125\n",
      "Handsegnet forward time: 0.0010042190551757812\n",
      "s shape torch.Size([1, 2, 224, 224])\n",
      "for loop time 0.003263235092163086\n",
      "hand mask sum: 1932.0\n",
      "Calculate single highest scoring object time: 0.02961421012878418\n",
      "Crop and resize time: 0.0018177032470703125\n",
      "Posenet forward time: 0.0024785995483398438\n",
      "Posepriornet forward time: 0.0008890628814697266\n",
      "Viewpoint forward time: 0.0011565685272216797\n",
      "Get normalized 3d coordinates time: 0.0007195472717285156\n",
      "Flip left handed input time: 0.0001373291015625\n",
      "ScaLe heatmaps time 9.441375732421875e-05\n",
      "Time for processing 1 frame: 0.04605245590209961s\n"
     ]
    },
    {
     "name": "stderr",
     "output_type": "stream",
     "text": [
      "665it [01:54,  5.22it/s]"
     ]
    },
    {
     "name": "stdout",
     "output_type": "stream",
     "text": [
      "tensor([[0.8348]], device='cuda:0', grad_fn=<SigmoidBackward>)\n",
      "Handnet forward time: 0.0076904296875\n",
      "Handsegnet forward time: 0.0011010169982910156\n",
      "s shape torch.Size([1, 2, 224, 224])\n",
      "for loop time 0.0032033920288085938\n",
      "hand mask sum: 1928.0\n",
      "Calculate single highest scoring object time: 0.03036808967590332\n",
      "Crop and resize time: 0.0009524822235107422\n",
      "Posenet forward time: 0.001940011978149414\n",
      "Posepriornet forward time: 0.0007052421569824219\n",
      "Viewpoint forward time: 0.0009260177612304688\n",
      "Get normalized 3d coordinates time: 0.0005834102630615234\n",
      "Flip left handed input time: 0.00011897087097167969\n",
      "ScaLe heatmaps time 8.893013000488281e-05\n",
      "Time for processing 1 frame: 0.045140981674194336s\n",
      "tensor([[0.8296]], device='cuda:0', grad_fn=<SigmoidBackward>)\n",
      "Handnet forward time: 0.0076830387115478516\n",
      "Handsegnet forward time: 0.001413106918334961\n",
      "s shape torch.Size([1, 2, 224, 224])\n",
      "for loop time 0.0033330917358398438\n",
      "hand mask sum: 1982.0\n",
      "Calculate single highest scoring object time: 0.03006458282470703\n",
      "Crop and resize time: 0.0009388923645019531\n",
      "Posenet forward time: 0.0019345283508300781\n"
     ]
    },
    {
     "name": "stderr",
     "output_type": "stream",
     "text": [
      "\r",
      "666it [01:54,  5.42it/s]"
     ]
    },
    {
     "name": "stdout",
     "output_type": "stream",
     "text": [
      "Posepriornet forward time: 0.0009992122650146484\n",
      "Viewpoint forward time: 0.0010344982147216797\n",
      "Get normalized 3d coordinates time: 0.0006046295166015625\n",
      "Flip left handed input time: 0.00012493133544921875\n",
      "ScaLe heatmaps time 9.059906005859375e-05\n",
      "Time for processing 1 frame: 0.04552602767944336s\n",
      "tensor([[0.7604]], device='cuda:0', grad_fn=<SigmoidBackward>)\n",
      "Handnet forward time: 0.007661342620849609\n",
      "Handsegnet forward time: 0.0009958744049072266\n",
      "s shape torch.Size([1, 2, 224, 224])\n",
      "for loop time 0.003021240234375\n",
      "hand mask sum: 1938.0\n",
      "Calculate single highest scoring object time: 0.029359817504882812\n",
      "Crop and resize time: 0.0016837120056152344\n",
      "Posenet forward time: 0.0019588470458984375\n",
      "Posepriornet forward time: 0.0007076263427734375\n",
      "Viewpoint forward time: 0.0009427070617675781\n",
      "Get normalized 3d coordinates time: 0.0006017684936523438\n",
      "Flip left handed input time: 0.000118255615234375\n",
      "ScaLe heatmaps time 8.726119995117188e-05\n",
      "Time for processing 1 frame: 0.04471993446350098s\n"
     ]
    },
    {
     "name": "stderr",
     "output_type": "stream",
     "text": [
      "668it [01:55,  5.71it/s]"
     ]
    },
    {
     "name": "stdout",
     "output_type": "stream",
     "text": [
      "tensor([[0.8772]], device='cuda:0', grad_fn=<SigmoidBackward>)\n",
      "Handnet forward time: 0.0077168941497802734\n",
      "Handsegnet forward time: 0.0010619163513183594\n",
      "s shape torch.Size([1, 2, 224, 224])\n",
      "for loop time 0.0036034584045410156\n",
      "hand mask sum: 1815.0\n",
      "Calculate single highest scoring object time: 0.0307157039642334\n",
      "Crop and resize time: 0.0011055469512939453\n",
      "Posenet forward time: 0.002416372299194336\n",
      "Posepriornet forward time: 0.0008389949798583984\n",
      "Viewpoint forward time: 0.001119375228881836\n",
      "Get normalized 3d coordinates time: 0.0007824897766113281\n",
      "Flip left handed input time: 0.00013518333435058594\n",
      "ScaLe heatmaps time 9.608268737792969e-05\n",
      "Time for processing 1 frame: 0.04660296440124512s\n",
      "tensor([[0.4411]], device='cuda:0', grad_fn=<SigmoidBackward>)\n",
      "Handnet forward time: 0.007708311080932617\n",
      "Handsegnet forward time: 0.001081228256225586\n",
      "s shape torch.Size([1, 2, 224, 224])\n",
      "for loop time 0.0033295154571533203\n",
      "hand mask sum: 1655.0\n",
      "Calculate single highest scoring object time: 0.030433177947998047\n",
      "Crop and resize time: 0.000934600830078125\n",
      "Posenet forward time: 0.0019364356994628906\n"
     ]
    },
    {
     "name": "stderr",
     "output_type": "stream",
     "text": [
      "\r",
      "669it [01:55,  5.78it/s]"
     ]
    },
    {
     "name": "stdout",
     "output_type": "stream",
     "text": [
      "Posepriornet forward time: 0.0010178089141845703\n",
      "Viewpoint forward time: 0.001020193099975586\n",
      "Get normalized 3d coordinates time: 0.0005908012390136719\n",
      "Flip left handed input time: 0.00011396408081054688\n",
      "ScaLe heatmaps time 8.392333984375e-05\n",
      "Time for processing 1 frame: 0.045554399490356445s\n",
      "tensor([[0.1719]], device='cuda:0', grad_fn=<SigmoidBackward>)\n",
      "Handnet forward time: 0.007697105407714844\n",
      "Handsegnet forward time: 0.0010266304016113281\n",
      "s shape torch.Size([1, 2, 224, 224])\n",
      "for loop time 0.003065824508666992\n",
      "hand mask sum: 1459.0\n",
      "Calculate single highest scoring object time: 0.03036022186279297\n",
      "Crop and resize time: 0.0009388923645019531\n",
      "Posenet forward time: 0.0019431114196777344\n",
      "Posepriornet forward time: 0.0007061958312988281\n",
      "Viewpoint forward time: 0.0009255409240722656\n",
      "Get normalized 3d coordinates time: 0.0005998611450195312\n",
      "Flip left handed input time: 0.00012159347534179688\n",
      "ScaLe heatmaps time 9.179115295410156e-05\n",
      "Time for processing 1 frame: 0.044922590255737305s\n"
     ]
    },
    {
     "name": "stderr",
     "output_type": "stream",
     "text": [
      "671it [01:55,  5.91it/s]"
     ]
    },
    {
     "name": "stdout",
     "output_type": "stream",
     "text": [
      "tensor([[0.0594]], device='cuda:0', grad_fn=<SigmoidBackward>)\n",
      "Handnet forward time: 0.007716178894042969\n",
      "Handsegnet forward time: 0.0010225772857666016\n",
      "s shape torch.Size([1, 2, 224, 224])\n",
      "for loop time 0.0030090808868408203\n",
      "hand mask sum: 1174.0\n",
      "Calculate single highest scoring object time: 0.029399871826171875\n",
      "Crop and resize time: 0.001664876937866211\n",
      "Posenet forward time: 0.001972675323486328\n",
      "Posepriornet forward time: 0.0007083415985107422\n",
      "Viewpoint forward time: 0.0009276866912841797\n",
      "Get normalized 3d coordinates time: 0.0005764961242675781\n",
      "Flip left handed input time: 0.00011754035949707031\n",
      "ScaLe heatmaps time 8.296966552734375e-05\n",
      "Time for processing 1 frame: 0.0448300838470459s\n",
      "tensor([[0.0199]], device='cuda:0', grad_fn=<SigmoidBackward>)\n",
      "Handnet forward time: 0.007735252380371094\n",
      "Handsegnet forward time: 0.0013759136199951172\n",
      "s shape torch.Size([1, 2, 224, 224])\n",
      "for loop time 0.0029850006103515625\n",
      "hand mask sum: 834.0\n",
      "Calculate single highest scoring object time: 0.02890801429748535\n",
      "Crop and resize time: 0.0009338855743408203\n",
      "Posenet forward time: 0.0019388198852539062\n",
      "Posepriornet forward time: 0.0007162094116210938\n"
     ]
    },
    {
     "name": "stderr",
     "output_type": "stream",
     "text": [
      "\r",
      "672it [01:55,  5.97it/s]"
     ]
    },
    {
     "name": "stdout",
     "output_type": "stream",
     "text": [
      "Viewpoint forward time: 0.0014770030975341797\n",
      "Get normalized 3d coordinates time: 0.0006682872772216797\n",
      "Flip left handed input time: 0.00011849403381347656\n",
      "ScaLe heatmaps time 8.368492126464844e-05\n",
      "Time for processing 1 frame: 0.04464387893676758s\n",
      "tensor([[0.0030]], device='cuda:0', grad_fn=<SigmoidBackward>)\n",
      "Handnet forward time: 0.007648944854736328\n",
      "Handsegnet forward time: 0.0010085105895996094\n",
      "s shape torch.Size([1, 2, 224, 224])\n",
      "for loop time 0.002980947494506836\n",
      "hand mask sum: 478.0\n",
      "Calculate single highest scoring object time: 0.03014659881591797\n",
      "Crop and resize time: 0.0009300708770751953\n",
      "Posenet forward time: 0.0019614696502685547\n",
      "Posepriornet forward time: 0.000705718994140625\n",
      "Viewpoint forward time: 0.0009520053863525391\n",
      "Get normalized 3d coordinates time: 0.0005960464477539062\n",
      "Flip left handed input time: 0.00012350082397460938\n",
      "ScaLe heatmaps time 9.1552734375e-05\n",
      "Time for processing 1 frame: 0.044768571853637695s\n"
     ]
    },
    {
     "name": "stderr",
     "output_type": "stream",
     "text": [
      "674it [01:56,  5.97it/s]"
     ]
    },
    {
     "name": "stdout",
     "output_type": "stream",
     "text": [
      "tensor([[0.0019]], device='cuda:0', grad_fn=<SigmoidBackward>)\n",
      "Handnet forward time: 0.007661342620849609\n",
      "Handsegnet forward time: 0.0012547969818115234\n",
      "s shape torch.Size([1, 2, 224, 224])\n",
      "for loop time 0.003271341323852539\n",
      "hand mask sum: 21.0\n",
      "Calculate single highest scoring object time: 0.03026103973388672\n",
      "Crop and resize time: 0.0011203289031982422\n",
      "Posenet forward time: 0.002454519271850586\n",
      "Posepriornet forward time: 0.0008647441864013672\n",
      "Viewpoint forward time: 0.001138448715209961\n",
      "Get normalized 3d coordinates time: 0.0007166862487792969\n",
      "Flip left handed input time: 0.00014781951904296875\n",
      "ScaLe heatmaps time 0.00011038780212402344\n",
      "Time for processing 1 frame: 0.04646635055541992s\n",
      "tensor([[0.0005]], device='cuda:0', grad_fn=<SigmoidBackward>)\n",
      "Handnet forward time: 0.007662773132324219\n",
      "Handsegnet forward time: 0.0011315345764160156\n",
      "s shape torch.Size([1, 2, 224, 224])\n",
      "for loop time 0.0031108856201171875\n",
      "hand mask sum: 3.0\n",
      "Calculate single highest scoring object time: 0.030060529708862305\n"
     ]
    },
    {
     "name": "stderr",
     "output_type": "stream",
     "text": [
      "\r",
      "675it [01:56,  5.98it/s]"
     ]
    },
    {
     "name": "stdout",
     "output_type": "stream",
     "text": [
      "Crop and resize time: 0.001495361328125\n",
      "Posenet forward time: 0.002044200897216797\n",
      "Posepriornet forward time: 0.0007119178771972656\n",
      "Viewpoint forward time: 0.0009324550628662109\n",
      "Get normalized 3d coordinates time: 0.0005834102630615234\n",
      "Flip left handed input time: 0.00011968612670898438\n",
      "ScaLe heatmaps time 8.249282836914062e-05\n",
      "Time for processing 1 frame: 0.04549145698547363s\n",
      "tensor([[0.0003]], device='cuda:0', grad_fn=<SigmoidBackward>)\n",
      "Handnet forward time: 0.007784128189086914\n",
      "Handsegnet forward time: 0.0010249614715576172\n",
      "s shape torch.Size([1, 2, 224, 224])\n",
      "for loop time 0.0032198429107666016\n",
      "hand mask sum: 6.0\n",
      "Calculate single highest scoring object time: 0.03076767921447754\n",
      "Crop and resize time: 0.0011076927185058594\n",
      "Posenet forward time: 0.0024242401123046875\n",
      "Posepriornet forward time: 0.0009810924530029297\n",
      "Viewpoint forward time: 0.001116037368774414\n",
      "Get normalized 3d coordinates time: 0.0007014274597167969\n",
      "Flip left handed input time: 0.00012993812561035156\n",
      "ScaLe heatmaps time 9.441375732421875e-05\n",
      "Time for processing 1 frame: 0.046712636947631836s\n"
     ]
    },
    {
     "name": "stderr",
     "output_type": "stream",
     "text": [
      "677it [01:56,  6.01it/s]"
     ]
    },
    {
     "name": "stdout",
     "output_type": "stream",
     "text": [
      "tensor([[0.0004]], device='cuda:0', grad_fn=<SigmoidBackward>)\n",
      "Handnet forward time: 0.0076978206634521484\n",
      "Handsegnet forward time: 0.001104116439819336\n",
      "s shape torch.Size([1, 2, 224, 224])\n",
      "for loop time 0.003009319305419922\n",
      "hand mask sum: 8.0\n",
      "Calculate single highest scoring object time: 0.02930617332458496\n",
      "Crop and resize time: 0.0009443759918212891\n",
      "Posenet forward time: 0.0019941329956054688\n",
      "Posepriornet forward time: 0.0007641315460205078\n",
      "Viewpoint forward time: 0.0009696483612060547\n",
      "Get normalized 3d coordinates time: 0.0006022453308105469\n",
      "Flip left handed input time: 0.00014257431030273438\n",
      "ScaLe heatmaps time 0.00010395050048828125\n",
      "Time for processing 1 frame: 0.044342041015625s\n",
      "tensor([[0.0004]], device='cuda:0', grad_fn=<SigmoidBackward>)\n",
      "Handnet forward time: 0.007711172103881836\n",
      "Handsegnet forward time: 0.0015234947204589844\n",
      "s shape torch.Size([1, 2, 224, 224])\n",
      "for loop time 0.003010272979736328\n",
      "hand mask sum: 19.0\n",
      "Calculate single highest scoring object time: 0.029622554779052734\n",
      "Crop and resize time: 0.0009462833404541016\n",
      "Posenet forward time: 0.0019583702087402344\n",
      "Posepriornet forward time: 0.0007157325744628906\n"
     ]
    },
    {
     "name": "stderr",
     "output_type": "stream",
     "text": [
      "\r",
      "678it [01:56,  6.00it/s]"
     ]
    },
    {
     "name": "stdout",
     "output_type": "stream",
     "text": [
      "Viewpoint forward time: 0.001233816146850586\n",
      "Get normalized 3d coordinates time: 0.0008878707885742188\n",
      "Flip left handed input time: 8.440017700195312e-05\n",
      "ScaLe heatmaps time 9.775161743164062e-05\n",
      "Time for processing 1 frame: 0.045743703842163086s\n",
      "tensor([[0.0006]], device='cuda:0', grad_fn=<SigmoidBackward>)\n",
      "Handnet forward time: 0.00765538215637207\n",
      "Handsegnet forward time: 0.0010323524475097656\n",
      "s shape torch.Size([1, 2, 224, 224])\n",
      "for loop time 0.002989053726196289\n",
      "hand mask sum: 31.0\n",
      "Calculate single highest scoring object time: 0.030257701873779297\n",
      "Crop and resize time: 0.0009362697601318359\n",
      "Posenet forward time: 0.001966714859008789\n",
      "Posepriornet forward time: 0.0007317066192626953\n",
      "Viewpoint forward time: 0.0009372234344482422\n",
      "Get normalized 3d coordinates time: 0.0005891323089599609\n",
      "Flip left handed input time: 0.00012230873107910156\n",
      "ScaLe heatmaps time 8.988380432128906e-05\n",
      "Time for processing 1 frame: 0.04484057426452637s\n"
     ]
    },
    {
     "name": "stderr",
     "output_type": "stream",
     "text": [
      "680it [01:57,  6.02it/s]"
     ]
    },
    {
     "name": "stdout",
     "output_type": "stream",
     "text": [
      "tensor([[0.0005]], device='cuda:0', grad_fn=<SigmoidBackward>)\n",
      "Handnet forward time: 0.007828474044799805\n",
      "Handsegnet forward time: 0.00099945068359375\n",
      "s shape torch.Size([1, 2, 224, 224])\n",
      "for loop time 0.002980470657348633\n",
      "hand mask sum: 40.0\n",
      "Calculate single highest scoring object time: 0.030284643173217773\n",
      "Crop and resize time: 0.0009362697601318359\n",
      "Posenet forward time: 0.0019576549530029297\n",
      "Posepriornet forward time: 0.0007116794586181641\n",
      "Viewpoint forward time: 0.0009670257568359375\n",
      "Get normalized 3d coordinates time: 0.0005953311920166016\n",
      "Flip left handed input time: 0.00012111663818359375\n",
      "ScaLe heatmaps time 7.724761962890625e-05\n",
      "Time for processing 1 frame: 0.04501509666442871s\n",
      "tensor([[0.0005]], device='cuda:0', grad_fn=<SigmoidBackward>)\n",
      "Handnet forward time: 0.0077037811279296875\n",
      "Handsegnet forward time: 0.0014755725860595703\n",
      "s shape torch.Size([1, 2, 224, 224])\n",
      "for loop time 0.002981901168823242\n",
      "hand mask sum: 50.0\n",
      "Calculate single highest scoring object time: 0.02956843376159668\n",
      "Crop and resize time: 0.0009312629699707031\n",
      "Posenet forward time: 0.002501249313354492\n",
      "Posepriornet forward time: 0.0007240772247314453\n"
     ]
    },
    {
     "name": "stderr",
     "output_type": "stream",
     "text": [
      "\r",
      "681it [01:57,  5.99it/s]"
     ]
    },
    {
     "name": "stdout",
     "output_type": "stream",
     "text": [
      "Viewpoint forward time: 0.0016887187957763672\n",
      "Get normalized 3d coordinates time: 0.0006711483001708984\n",
      "Flip left handed input time: 0.0001366138458251953\n",
      "ScaLe heatmaps time 9.369850158691406e-05\n",
      "Time for processing 1 frame: 0.046154022216796875s\n",
      "tensor([[0.0004]], device='cuda:0', grad_fn=<SigmoidBackward>)\n",
      "Handnet forward time: 0.007685661315917969\n",
      "Handsegnet forward time: 0.0010139942169189453\n",
      "s shape torch.Size([1, 2, 224, 224])\n",
      "for loop time 0.00301361083984375\n",
      "hand mask sum: 89.0\n",
      "Calculate single highest scoring object time: 0.030104398727416992\n",
      "Crop and resize time: 0.0009405612945556641\n",
      "Posenet forward time: 0.001984119415283203\n",
      "Posepriornet forward time: 0.0007131099700927734\n",
      "Viewpoint forward time: 0.0009555816650390625\n",
      "Get normalized 3d coordinates time: 0.0005958080291748047\n",
      "Flip left handed input time: 0.00012373924255371094\n",
      "ScaLe heatmaps time 9.059906005859375e-05\n",
      "Time for processing 1 frame: 0.044825077056884766s\n"
     ]
    },
    {
     "name": "stderr",
     "output_type": "stream",
     "text": [
      "683it [01:57,  6.02it/s]"
     ]
    },
    {
     "name": "stdout",
     "output_type": "stream",
     "text": [
      "tensor([[0.0004]], device='cuda:0', grad_fn=<SigmoidBackward>)\n",
      "Handnet forward time: 0.007794380187988281\n",
      "Handsegnet forward time: 0.001003265380859375\n",
      "s shape torch.Size([1, 2, 224, 224])\n",
      "for loop time 0.002984285354614258\n",
      "hand mask sum: 90.0\n",
      "Calculate single highest scoring object time: 0.030283451080322266\n",
      "Crop and resize time: 0.000942230224609375\n",
      "Posenet forward time: 0.001964092254638672\n",
      "Posepriornet forward time: 0.0007112026214599609\n",
      "Viewpoint forward time: 0.0009713172912597656\n",
      "Get normalized 3d coordinates time: 0.0006043910980224609\n",
      "Flip left handed input time: 0.00012445449829101562\n",
      "ScaLe heatmaps time 9.322166442871094e-05\n",
      "Time for processing 1 frame: 0.04514670372009277s\n",
      "tensor([[0.0003]], device='cuda:0', grad_fn=<SigmoidBackward>)\n",
      "Handnet forward time: 0.0076749324798583984\n",
      "Handsegnet forward time: 0.0012252330780029297\n",
      "s shape torch.Size([1, 2, 224, 224])\n",
      "for loop time 0.0029861927032470703\n",
      "hand mask sum: 89.0\n",
      "Calculate single highest scoring object time: 0.030045270919799805\n",
      "Crop and resize time: 0.0009541511535644531\n",
      "Posenet forward time: 0.0019724369049072266\n",
      "Posepriornet forward time: 0.0007154941558837891\n"
     ]
    },
    {
     "name": "stderr",
     "output_type": "stream",
     "text": [
      "\r",
      "684it [01:57,  6.01it/s]"
     ]
    },
    {
     "name": "stdout",
     "output_type": "stream",
     "text": [
      "Viewpoint forward time: 0.001718282699584961\n",
      "Get normalized 3d coordinates time: 0.0007262229919433594\n",
      "Flip left handed input time: 0.0001552104949951172\n",
      "ScaLe heatmaps time 3.361701965332031e-05\n",
      "Time for processing 1 frame: 0.045926809310913086s\n",
      "tensor([[0.0002]], device='cuda:0', grad_fn=<SigmoidBackward>)\n",
      "Handnet forward time: 0.0076525211334228516\n",
      "Handsegnet forward time: 0.0010063648223876953\n",
      "s shape torch.Size([1, 2, 224, 224])\n",
      "for loop time 0.002992391586303711\n",
      "hand mask sum: 63.0\n",
      "Calculate single highest scoring object time: 0.030147075653076172\n",
      "Crop and resize time: 0.0009377002716064453\n",
      "Posenet forward time: 0.0019490718841552734\n",
      "Posepriornet forward time: 0.0007085800170898438\n",
      "Viewpoint forward time: 0.0009386539459228516\n",
      "Get normalized 3d coordinates time: 0.000583648681640625\n",
      "Flip left handed input time: 0.00011968612670898438\n",
      "ScaLe heatmaps time 8.988380432128906e-05\n",
      "Time for processing 1 frame: 0.04473996162414551s\n"
     ]
    },
    {
     "name": "stderr",
     "output_type": "stream",
     "text": [
      "686it [01:58,  6.03it/s]"
     ]
    },
    {
     "name": "stdout",
     "output_type": "stream",
     "text": [
      "tensor([[0.0002]], device='cuda:0', grad_fn=<SigmoidBackward>)\n",
      "Handnet forward time: 0.007655143737792969\n",
      "Handsegnet forward time: 0.0012326240539550781\n",
      "s shape torch.Size([1, 2, 224, 224])\n",
      "for loop time 0.003062009811401367\n",
      "hand mask sum: 37.0\n",
      "Calculate single highest scoring object time: 0.030107975006103516\n",
      "Crop and resize time: 0.0009372234344482422\n",
      "Posenet forward time: 0.001962900161743164\n",
      "Posepriornet forward time: 0.0007176399230957031\n",
      "Viewpoint forward time: 0.0009353160858154297\n",
      "Get normalized 3d coordinates time: 0.0005831718444824219\n",
      "Flip left handed input time: 0.00011301040649414062\n",
      "ScaLe heatmaps time 0.00012111663818359375\n",
      "Time for processing 1 frame: 0.04482388496398926s\n",
      "tensor([[0.0002]], device='cuda:0', grad_fn=<SigmoidBackward>)\n",
      "Handnet forward time: 0.007732868194580078\n",
      "Handsegnet forward time: 0.0013649463653564453\n",
      "s shape torch.Size([1, 2, 224, 224])\n",
      "for loop time 0.002994060516357422\n",
      "hand mask sum: 65.0\n",
      "Calculate single highest scoring object time: 0.030556917190551758\n",
      "Crop and resize time: 0.0009403228759765625\n",
      "Posenet forward time: 0.0019338130950927734\n",
      "Posepriornet forward time: 0.0007150173187255859\n",
      "Viewpoint forward time: 0.0009398460388183594\n"
     ]
    },
    {
     "name": "stderr",
     "output_type": "stream",
     "text": [
      "\r",
      "687it [01:58,  6.00it/s]"
     ]
    },
    {
     "name": "stdout",
     "output_type": "stream",
     "text": [
      "Get normalized 3d coordinates time: 0.0008769035339355469\n",
      "Flip left handed input time: 0.00017642974853515625\n",
      "ScaLe heatmaps time 9.107589721679688e-05\n",
      "Time for processing 1 frame: 0.04598236083984375s\n",
      "tensor([[0.0001]], device='cuda:0', grad_fn=<SigmoidBackward>)\n",
      "Handnet forward time: 0.007635831832885742\n",
      "Handsegnet forward time: 0.0010046958923339844\n",
      "s shape torch.Size([1, 2, 224, 224])\n",
      "for loop time 0.0030295848846435547\n",
      "hand mask sum: 65.0\n",
      "Calculate single highest scoring object time: 0.030436992645263672\n",
      "Crop and resize time: 0.0009429454803466797\n",
      "Posenet forward time: 0.001941680908203125\n",
      "Posepriornet forward time: 0.000713348388671875\n",
      "Viewpoint forward time: 0.0009431838989257812\n",
      "Get normalized 3d coordinates time: 0.0005769729614257812\n",
      "Flip left handed input time: 0.00011873245239257812\n",
      "ScaLe heatmaps time 8.487701416015625e-05\n",
      "Time for processing 1 frame: 0.045008182525634766s\n"
     ]
    },
    {
     "name": "stderr",
     "output_type": "stream",
     "text": [
      "689it [01:58,  6.01it/s]"
     ]
    },
    {
     "name": "stdout",
     "output_type": "stream",
     "text": [
      "tensor([[0.0001]], device='cuda:0', grad_fn=<SigmoidBackward>)\n",
      "Handnet forward time: 0.007777214050292969\n",
      "Handsegnet forward time: 0.001043081283569336\n",
      "s shape torch.Size([1, 2, 224, 224])\n",
      "for loop time 0.002989053726196289\n",
      "hand mask sum: 52.0\n",
      "Calculate single highest scoring object time: 0.030100107192993164\n",
      "Crop and resize time: 0.0009391307830810547\n",
      "Posenet forward time: 0.0019524097442626953\n",
      "Posepriornet forward time: 0.0007045269012451172\n",
      "Viewpoint forward time: 0.0009322166442871094\n",
      "Get normalized 3d coordinates time: 0.0006103515625\n",
      "Flip left handed input time: 0.00012302398681640625\n",
      "ScaLe heatmaps time 8.988380432128906e-05\n",
      "Time for processing 1 frame: 0.044809818267822266s\n",
      "tensor([[0.0001]], device='cuda:0', grad_fn=<SigmoidBackward>)\n",
      "Handnet forward time: 0.007653951644897461\n",
      "Handsegnet forward time: 0.0011355876922607422\n",
      "s shape torch.Size([1, 2, 224, 224])\n",
      "for loop time 0.0030145645141601562\n",
      "hand mask sum: 8.0\n",
      "Calculate single highest scoring object time: 0.030602455139160156\n",
      "Crop and resize time: 0.0009400844573974609\n",
      "Posenet forward time: 0.0019359588623046875\n"
     ]
    },
    {
     "name": "stderr",
     "output_type": "stream",
     "text": [
      "\r",
      "690it [01:58,  5.99it/s]"
     ]
    },
    {
     "name": "stdout",
     "output_type": "stream",
     "text": [
      "Posepriornet forward time: 0.0010154247283935547\n",
      "Viewpoint forward time: 0.001016378402709961\n",
      "Get normalized 3d coordinates time: 0.0006043910980224609\n",
      "Flip left handed input time: 0.00012540817260742188\n",
      "ScaLe heatmaps time 9.417533874511719e-05\n",
      "Time for processing 1 frame: 0.0457463264465332s\n",
      "tensor([[0.0001]], device='cuda:0', grad_fn=<SigmoidBackward>)\n",
      "Handnet forward time: 0.007656574249267578\n",
      "Handsegnet forward time: 0.0010042190551757812\n",
      "s shape torch.Size([1, 2, 224, 224])\n",
      "for loop time 0.0030019283294677734\n",
      "hand mask sum: 1.0\n",
      "Calculate single highest scoring object time: 0.030395984649658203\n",
      "Crop and resize time: 0.0009372234344482422\n",
      "Posenet forward time: 0.001981973648071289\n",
      "Posepriornet forward time: 0.0007221698760986328\n",
      "Viewpoint forward time: 0.0009329319000244141\n",
      "Get normalized 3d coordinates time: 0.0005819797515869141\n",
      "Flip left handed input time: 0.00011920928955078125\n",
      "ScaLe heatmaps time 8.416175842285156e-05\n",
      "Time for processing 1 frame: 0.04502296447753906s\n"
     ]
    },
    {
     "name": "stderr",
     "output_type": "stream",
     "text": [
      "692it [01:59,  6.01it/s]"
     ]
    },
    {
     "name": "stdout",
     "output_type": "stream",
     "text": [
      "tensor([[0.0001]], device='cuda:0', grad_fn=<SigmoidBackward>)\n",
      "Handnet forward time: 0.007742404937744141\n",
      "Handsegnet forward time: 0.0015316009521484375\n",
      "s shape torch.Size([1, 2, 224, 224])\n",
      "for loop time 0.0029981136322021484\n",
      "hand mask sum: 2.0\n",
      "Calculate single highest scoring object time: 0.02988910675048828\n",
      "Crop and resize time: 0.00093841552734375\n",
      "Posenet forward time: 0.0019497871398925781\n",
      "Posepriornet forward time: 0.0007150173187255859\n",
      "Viewpoint forward time: 0.0009379386901855469\n",
      "Get normalized 3d coordinates time: 0.0005793571472167969\n",
      "Flip left handed input time: 0.00012040138244628906\n",
      "ScaLe heatmaps time 9.107589721679688e-05\n",
      "Time for processing 1 frame: 0.04516911506652832s\n",
      "tensor([[0.0001]], device='cuda:0', grad_fn=<SigmoidBackward>)\n",
      "Handnet forward time: 0.00766444206237793\n",
      "Handsegnet forward time: 0.0011265277862548828\n",
      "s shape torch.Size([1, 2, 224, 224])\n",
      "for loop time 0.0029866695404052734\n",
      "hand mask sum: 8.0\n",
      "Calculate single highest scoring object time: 0.03047347068786621\n",
      "Crop and resize time: 0.0009291172027587891\n",
      "Posenet forward time: 0.0019338130950927734\n"
     ]
    }
   ],
   "source": [
    "main()"
   ]
  },
  {
   "cell_type": "code",
   "execution_count": null,
   "metadata": {},
   "outputs": [],
   "source": []
  }
 ],
 "metadata": {
  "kernelspec": {
   "display_name": "Python 3",
   "language": "python",
   "name": "python3"
  },
  "language_info": {
   "codemirror_mode": {
    "name": "ipython",
    "version": 3
   },
   "file_extension": ".py",
   "mimetype": "text/x-python",
   "name": "python",
   "nbconvert_exporter": "python",
   "pygments_lexer": "ipython3",
   "version": "3.6.12"
  }
 },
 "nbformat": 4,
 "nbformat_minor": 4
}
