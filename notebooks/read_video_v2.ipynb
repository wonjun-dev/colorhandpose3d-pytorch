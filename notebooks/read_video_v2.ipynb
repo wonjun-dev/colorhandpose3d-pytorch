{
 "cells": [
  {
   "cell_type": "code",
   "execution_count": 1,
   "metadata": {},
   "outputs": [
    {
     "name": "stdout",
     "output_type": "stream",
     "text": [
      "320.0 240.0 1250,"
     ]
    }
   ],
   "source": [
    "# 저장 된 비디오를 읽고 3d pose estimation 이 된 frame을 다시 비디오로 저장.\n",
    "\n",
    "import os\n",
    "import sys\n",
    "\n",
    "import cv2\n",
    "from PIL import Image\n",
    "import numpy as np\n",
    "import torch\n",
    "import torchvision\n",
    "\n",
    "model_path = os.path.abspath(os.path.join('..'))\n",
    "if model_path not in sys.path:\n",
    "    sys.path.append(model_path)\n",
    "\n",
    "from colorhandpose3d.model.ColorHandPose3D import ColorHandPose3D\n",
    "from colorhandpose3d.model.HandNet import HandNet\n",
    "from colorhandpose3d.utils.general import *\n",
    "from colorhandpose3d.utils.transforms import *\n",
    "\n",
    "\n",
    "from matplotlib import pyplot as plt\n",
    "from tqdm import tqdm\n",
    "import time\n",
    "\n",
    "# Initialize models and load weights\n",
    "weight_path = \"../saved/\"\n",
    "use_cuda = torch.cuda.is_available()\n",
    "chp3d = ColorHandPose3D(weight_path, crop_size=224)\n",
    "\n",
    "if use_cuda:\n",
    "    chp3d.cuda()\n",
    "\n",
    "\n",
    "\n",
    "\n",
    "# Initialize OpenCV object\n",
    "video_name = 'test_easy.avi'\n",
    "cap = cv2.VideoCapture(os.path.join(\"../outputs/in_video/\", video_name))  # Open video\n",
    "frame_width = cap.get(cv2.CAP_PROP_FRAME_WIDTH)\n",
    "frame_height = cap.get(cv2.CAP_PROP_FRAME_HEIGHT)\n",
    "length = int(cap.get(cv2.CAP_PROP_FRAME_COUNT))\n",
    "\n",
    "print(frame_width, frame_height, length, end=\",\")\n",
    "\n",
    "# Define image transforms\n",
    "transform0 = torchvision.transforms.ToPILImage()\n",
    "transform1 = torchvision.transforms.ToTensor()\n",
    "transform2 = torchvision.transforms.Resize((224, 224))\n",
    "transform3 = torchvision.transforms.Normalize(mean=[0.641, 0.619, 0.612], std=[0.254, 0.262, 0.258])\n",
    "transform4 = torchvision.transforms.Resize((240, 320))\n",
    "preprocess_chp3d = torchvision.transforms.Compose([transform0, transform2, transform1])\n",
    "preprocess_handnet = torchvision.transforms.Compose([transform1, transform3])\n",
    "\n",
    "def main():\n",
    "    import gc\n",
    "    # Preprocessing recorded frames\n",
    "    frames = []\n",
    "    i = 0\n",
    "    while cap.isOpened():\n",
    "        ret, frame = cap.read()  # frame: numpy array, (H480, W640, C3)\n",
    "\n",
    "        if ret:\n",
    "            frame = cv2.cvtColor(frame, cv2.COLOR_BGR2RGB)  # BGR -> RGB\n",
    "            sample_original = preprocess_chp3d(frame).unsqueeze(0)\n",
    "#             sample_original = transform1(frame).unsqueeze(0)  # (C3, H480, W640)\n",
    "            sample_chp = sample_original - 0.5\n",
    "            sample_handnet = preprocess_handnet(frame)\n",
    "            sample_handnet = sample_handnet.unsqueeze(0)\n",
    "            hand_side = torch.tensor([[1.0, 0.0]])\n",
    "\n",
    "#             if use_cuda:\n",
    "#                 sample = sample.cuda()\n",
    "#                 hand_side = hand_side.cuda()\n",
    "\n",
    "            frames.append([sample_handnet, sample_chp, sample_original, hand_side])\n",
    "            _frame = transform0(frame)\n",
    "            _frame.save(\"../outputs/in_video/{0:04d}.png\".format(i+1))\n",
    "            i += 1\n",
    "\n",
    "        \n",
    "            del sample_original\n",
    "            del sample_chp\n",
    "            del sample_handnet\n",
    "            del hand_side\n",
    "            gc.collect()\n",
    "            print(i)\n",
    "\n",
    "        else:\n",
    "            break\n",
    "\n",
    "    # Pass frames through chp3d\n",
    "    passFrames(frames)\n",
    "\n",
    "    cap.release()\n",
    "    cv2.destroyAllWindows()\n",
    "\n",
    "\n",
    "def passFrames(frames):\n",
    "\n",
    "    # Video writer\n",
    "#     fourcc = cv2.VideoWriter_fourcc(*\"DIVX\")\n",
    "#     out = cv2.VideoWriter(\"../outputs/after_test.avi\", fourcc, 25.0, (640, 480))\n",
    "\n",
    "    for i, frame in tqdm(enumerate(frames)):\n",
    "        sample_handnet = frame[0]\n",
    "        sample_chp = frame[1]\n",
    "        sample_original = frame[2]\n",
    "        hand_side = frame[3]\n",
    "        \n",
    "        if use_cuda:\n",
    "            sample_handnet = sample_handnet.cuda()\n",
    "            sample_chp = sample_chp.cuda()\n",
    "            hand_side = hand_side.cuda()\n",
    "            \n",
    "        \n",
    "        # Pass frame through chp3d\n",
    "        inputs = [sample_handnet, sample_chp]\n",
    "        s = time.time()\n",
    "        coords_xyz_rel_normed, keypoint_scoremap, image_crop, centers, scale_crop, hand_mask = chp3d(\n",
    "            inputs, hand_side, deploy=True\n",
    "        )\n",
    "        print('Time for processing 1 frame: {}s'.format(time.time() - s))\n",
    "        \n",
    "\n",
    "        # hand flag\n",
    "        if coords_xyz_rel_normed is None:\n",
    "#             img = transform4(transform0(sample_original.squeeze()))\n",
    "#             fig = plt.figure()\n",
    "#             plt.imshow(img)\n",
    "#             plt.axis(\"off\")\n",
    "#             plt.tight_layout()\n",
    "#             plt.subplots_adjust(left = 0, bottom = 0, right = 1, top = 1, hspace = 0, wspace = 0)\n",
    "#             pil = fig2img(fig)\n",
    "#             pil.save(\"../outputs/out_video/ver0_3/{0:04d}.png\".format(i+1))\n",
    "# #             plt.savefig(\"../outputs/out_video/ver0_3/{0:04d}.png\".format(i+1))\n",
    "#             plt.close()\n",
    "    \n",
    "            \n",
    "            # save 3d\n",
    "            fig = plt.figure(1, figsize=(16, 16))\n",
    "            ax1 = fig.add_subplot(111, projection='3d')\n",
    "            ax1.view_init(azim=-90, elev=-90)\n",
    "            ax1.set_xlim([-3, 3])\n",
    "            ax1.set_ylim([-4, 4])\n",
    "            ax1.set_zlim([-5, 5])\n",
    "            plt.savefig(\"../outputs/out_video/ver0_3/3d/{0:04d}.png\".format(i+1))\n",
    "            plt.close()\n",
    "\n",
    "            \n",
    "        else:\n",
    "            # Back to CPU\n",
    "            if use_cuda is True:\n",
    "                coords_xyz_rel_normed = coords_xyz_rel_normed.cpu()\n",
    "                keypoint_scoremap = keypoint_scoremap.cpu()\n",
    "                image_crop = image_crop.cpu()\n",
    "                centers = centers.cpu()\n",
    "                scale_crop = scale_crop.cpu()\n",
    "                hand_mask = hand_mask.cpu()\n",
    "\n",
    "            keypoint_coords3d = coords_xyz_rel_normed.detach().numpy()\n",
    "            keypoint_coords3d = keypoint_coords3d.squeeze()\n",
    "            \n",
    "            ## save 3d \n",
    "            fig = plt.figure(1, figsize=(16, 16))\n",
    "            ax1 = fig.add_subplot(111, projection='3d')\n",
    "            plot_hand_3d(keypoint_coords3d, ax1)\n",
    "            ax1.view_init(azim=-90, elev=-90)\n",
    "            ax1.set_xlim([-3, 3])\n",
    "            ax1.set_ylim([-4, 4])\n",
    "            ax1.set_zlim([-5, 5])\n",
    "            plt.savefig(\"../outputs/out_video/ver0_3/3d/{0:04d}.png\".format(i+1))\n",
    "            plt.close()\n",
    "\n",
    "\n",
    "#             keypoint_coords_crop = detect_keypoints(keypoint_scoremap[0].detach().numpy())\n",
    "#             keypoint_coords = transform_cropped_coords(keypoint_coords_crop, centers, scale_crop, 224)\n",
    "\n",
    "\n",
    "#             img = transform0(sample_original.squeeze())\n",
    "            \n",
    "#             fig = plt.figure()\n",
    "#             plt.imshow(img)\n",
    "#             plot_hand(keypoint_coords, plt)\n",
    "#             plt.axis(\"off\")\n",
    "#             plt.tight_layout()\n",
    "#             plt.subplots_adjust(left = 0, bottom = 0, right = 1, top = 1, hspace = 0, wspace = 0)\n",
    "#             pil = fig2img(fig)\n",
    "#             pil = transform4(pil)\n",
    "#             pil.save(\"../outputs/out_video/ver0_3/{0:04d}.png\".format(i+1))\n",
    "\n",
    "#             plt.close()"
   ]
  },
  {
   "cell_type": "code",
   "execution_count": 2,
   "metadata": {},
   "outputs": [],
   "source": [
    "def fig2img(fig):\n",
    "    \"\"\"Convert a Matplotlib figure to a PIL Image and return it\"\"\"\n",
    "    import io\n",
    "    buf = io.BytesIO()\n",
    "    fig.savefig(buf, bbox_inches='tight', pad_inches=0)\n",
    "    buf.seek(0)\n",
    "    img = Image.open(buf)\n",
    "    return img"
   ]
  },
  {
   "cell_type": "code",
   "execution_count": null,
   "metadata": {},
   "outputs": [
    {
     "name": "stdout",
     "output_type": "stream",
     "text": [
      "1\n",
      "2\n",
      "3\n",
      "4\n",
      "5\n",
      "6\n",
      "7\n",
      "8\n",
      "9\n",
      "10\n",
      "11\n",
      "12\n",
      "13\n",
      "14\n",
      "15\n",
      "16\n",
      "17\n",
      "18\n",
      "19\n",
      "20\n",
      "21\n",
      "22\n",
      "23\n",
      "24\n",
      "25\n",
      "26\n",
      "27\n",
      "28\n",
      "29\n",
      "30\n",
      "31\n",
      "32\n",
      "33\n",
      "34\n",
      "35\n",
      "36\n",
      "37\n",
      "38\n",
      "39\n",
      "40\n",
      "41\n",
      "42\n",
      "43\n",
      "44\n",
      "45\n",
      "46\n",
      "47\n",
      "48\n",
      "49\n",
      "50\n",
      "51\n",
      "52\n",
      "53\n",
      "54\n",
      "55\n",
      "56\n",
      "57\n",
      "58\n",
      "59\n",
      "60\n",
      "61\n",
      "62\n",
      "63\n",
      "64\n",
      "65\n",
      "66\n",
      "67\n",
      "68\n",
      "69\n",
      "70\n",
      "71\n",
      "72\n",
      "73\n",
      "74\n",
      "75\n",
      "76\n",
      "77\n",
      "78\n",
      "79\n",
      "80\n",
      "81\n",
      "82\n",
      "83\n",
      "84\n",
      "85\n",
      "86\n",
      "87\n",
      "88\n",
      "89\n",
      "90\n",
      "91\n",
      "92\n",
      "93\n",
      "94\n",
      "95\n",
      "96\n",
      "97\n",
      "98\n",
      "99\n",
      "100\n",
      "101\n",
      "102\n",
      "103\n",
      "104\n",
      "105\n",
      "106\n",
      "107\n",
      "108\n",
      "109\n",
      "110\n",
      "111\n",
      "112\n",
      "113\n",
      "114\n",
      "115\n",
      "116\n",
      "117\n",
      "118\n",
      "119\n",
      "120\n",
      "121\n",
      "122\n",
      "123\n",
      "124\n",
      "125\n",
      "126\n",
      "127\n",
      "128\n",
      "129\n",
      "130\n",
      "131\n",
      "132\n",
      "133\n",
      "134\n",
      "135\n",
      "136\n",
      "137\n",
      "138\n",
      "139\n",
      "140\n",
      "141\n",
      "142\n",
      "143\n",
      "144\n",
      "145\n",
      "146\n",
      "147\n",
      "148\n",
      "149\n",
      "150\n",
      "151\n",
      "152\n",
      "153\n",
      "154\n",
      "155\n",
      "156\n",
      "157\n",
      "158\n",
      "159\n",
      "160\n",
      "161\n",
      "162\n",
      "163\n",
      "164\n",
      "165\n",
      "166\n",
      "167\n",
      "168\n",
      "169\n",
      "170\n",
      "171\n",
      "172\n",
      "173\n",
      "174\n",
      "175\n",
      "176\n",
      "177\n",
      "178\n",
      "179\n",
      "180\n",
      "181\n",
      "182\n",
      "183\n",
      "184\n",
      "185\n",
      "186\n",
      "187\n",
      "188\n",
      "189\n",
      "190\n",
      "191\n",
      "192\n",
      "193\n",
      "194\n",
      "195\n",
      "196\n",
      "197\n",
      "198\n",
      "199\n",
      "200\n",
      "201\n",
      "202\n",
      "203\n",
      "204\n",
      "205\n",
      "206\n",
      "207\n",
      "208\n",
      "209\n",
      "210\n",
      "211\n",
      "212\n",
      "213\n",
      "214\n",
      "215\n",
      "216\n",
      "217\n",
      "218\n",
      "219\n",
      "220\n",
      "221\n",
      "222\n",
      "223\n",
      "224\n",
      "225\n",
      "226\n",
      "227\n",
      "228\n",
      "229\n",
      "230\n",
      "231\n",
      "232\n",
      "233\n",
      "234\n",
      "235\n",
      "236\n",
      "237\n",
      "238\n",
      "239\n",
      "240\n",
      "241\n",
      "242\n",
      "243\n",
      "244\n",
      "245\n",
      "246\n",
      "247\n",
      "248\n",
      "249\n",
      "250\n",
      "251\n",
      "252\n",
      "253\n",
      "254\n",
      "255\n",
      "256\n",
      "257\n",
      "258\n",
      "259\n",
      "260\n",
      "261\n",
      "262\n",
      "263\n",
      "264\n",
      "265\n",
      "266\n",
      "267\n",
      "268\n",
      "269\n",
      "270\n",
      "271\n",
      "272\n",
      "273\n",
      "274\n",
      "275\n",
      "276\n",
      "277\n",
      "278\n",
      "279\n",
      "280\n",
      "281\n",
      "282\n",
      "283\n",
      "284\n",
      "285\n",
      "286\n",
      "287\n",
      "288\n",
      "289\n",
      "290\n",
      "291\n",
      "292\n",
      "293\n",
      "294\n",
      "295\n",
      "296\n",
      "297\n",
      "298\n",
      "299\n",
      "300\n",
      "301\n",
      "302\n",
      "303\n",
      "304\n",
      "305\n",
      "306\n",
      "307\n",
      "308\n",
      "309\n",
      "310\n",
      "311\n",
      "312\n",
      "313\n",
      "314\n",
      "315\n",
      "316\n",
      "317\n",
      "318\n",
      "319\n",
      "320\n",
      "321\n",
      "322\n",
      "323\n",
      "324\n",
      "325\n",
      "326\n",
      "327\n",
      "328\n",
      "329\n",
      "330\n",
      "331\n",
      "332\n",
      "333\n",
      "334\n",
      "335\n",
      "336\n",
      "337\n",
      "338\n",
      "339\n",
      "340\n",
      "341\n",
      "342\n",
      "343\n",
      "344\n",
      "345\n",
      "346\n",
      "347\n",
      "348\n",
      "349\n",
      "350\n",
      "351\n",
      "352\n",
      "353\n",
      "354\n",
      "355\n",
      "356\n",
      "357\n",
      "358\n",
      "359\n",
      "360\n",
      "361\n",
      "362\n",
      "363\n",
      "364\n",
      "365\n",
      "366\n",
      "367\n",
      "368\n",
      "369\n",
      "370\n",
      "371\n",
      "372\n",
      "373\n",
      "374\n",
      "375\n",
      "376\n",
      "377\n",
      "378\n",
      "379\n",
      "380\n",
      "381\n",
      "382\n",
      "383\n",
      "384\n",
      "385\n",
      "386\n",
      "387\n",
      "388\n",
      "389\n",
      "390\n",
      "391\n",
      "392\n",
      "393\n",
      "394\n",
      "395\n",
      "396\n",
      "397\n",
      "398\n",
      "399\n",
      "400\n",
      "401\n",
      "402\n",
      "403\n",
      "404\n",
      "405\n",
      "406\n",
      "407\n",
      "408\n",
      "409\n",
      "410\n",
      "411\n",
      "412\n",
      "413\n",
      "414\n",
      "415\n",
      "416\n",
      "417\n",
      "418\n",
      "419\n",
      "420\n",
      "421\n",
      "422\n",
      "423\n",
      "424\n",
      "425\n",
      "426\n",
      "427\n",
      "428\n",
      "429\n",
      "430\n",
      "431\n",
      "432\n",
      "433\n",
      "434\n",
      "435\n",
      "436\n",
      "437\n",
      "438\n",
      "439\n",
      "440\n",
      "441\n",
      "442\n",
      "443\n",
      "444\n",
      "445\n",
      "446\n",
      "447\n",
      "448\n",
      "449\n",
      "450\n",
      "451\n",
      "452\n",
      "453\n",
      "454\n",
      "455\n",
      "456\n",
      "457\n",
      "458\n",
      "459\n",
      "460\n",
      "461\n",
      "462\n",
      "463\n",
      "464\n",
      "465\n",
      "466\n",
      "467\n",
      "468\n",
      "469\n",
      "470\n",
      "471\n",
      "472\n",
      "473\n",
      "474\n",
      "475\n",
      "476\n",
      "477\n",
      "478\n",
      "479\n",
      "480\n",
      "481\n",
      "482\n",
      "483\n",
      "484\n",
      "485\n",
      "486\n",
      "487\n",
      "488\n",
      "489\n",
      "490\n",
      "491\n",
      "492\n",
      "493\n",
      "494\n",
      "495\n",
      "496\n",
      "497\n",
      "498\n",
      "499\n",
      "500\n",
      "501\n",
      "502\n",
      "503\n",
      "504\n",
      "505\n",
      "506\n",
      "507\n",
      "508\n",
      "509\n",
      "510\n",
      "511\n",
      "512\n",
      "513\n",
      "514\n",
      "515\n",
      "516\n",
      "517\n",
      "518\n",
      "519\n",
      "520\n",
      "521\n",
      "522\n",
      "523\n",
      "524\n",
      "525\n",
      "526\n",
      "527\n",
      "528\n",
      "529\n",
      "530\n",
      "531\n",
      "532\n",
      "533\n",
      "534\n",
      "535\n",
      "536\n",
      "537\n",
      "538\n",
      "539\n",
      "540\n",
      "541\n",
      "542\n",
      "543\n",
      "544\n",
      "545\n",
      "546\n",
      "547\n",
      "548\n",
      "549\n",
      "550\n",
      "551\n",
      "552\n",
      "553\n",
      "554\n",
      "555\n",
      "556\n",
      "557\n",
      "558\n",
      "559\n",
      "560\n",
      "561\n",
      "562\n",
      "563\n",
      "564\n",
      "565\n",
      "566\n",
      "567\n",
      "568\n",
      "569\n",
      "570\n",
      "571\n",
      "572\n",
      "573\n",
      "574\n",
      "575\n",
      "576\n",
      "577\n",
      "578\n",
      "579\n",
      "580\n",
      "581\n",
      "582\n",
      "583\n",
      "584\n",
      "585\n",
      "586\n",
      "587\n",
      "588\n",
      "589\n",
      "590\n",
      "591\n",
      "592\n",
      "593\n",
      "594\n",
      "595\n",
      "596\n",
      "597\n",
      "598\n",
      "599\n",
      "600\n",
      "601\n",
      "602\n",
      "603\n",
      "604\n",
      "605\n",
      "606\n",
      "607\n",
      "608\n",
      "609\n",
      "610\n",
      "611\n",
      "612\n",
      "613\n",
      "614\n",
      "615\n",
      "616\n",
      "617\n",
      "618\n",
      "619\n",
      "620\n",
      "621\n",
      "622\n",
      "623\n",
      "624\n",
      "625\n",
      "626\n",
      "627\n",
      "628\n",
      "629\n",
      "630\n",
      "631\n",
      "632\n",
      "633\n",
      "634\n",
      "635\n",
      "636\n",
      "637\n",
      "638\n",
      "639\n",
      "640\n",
      "641\n",
      "642\n",
      "643\n",
      "644\n",
      "645\n",
      "646\n",
      "647\n",
      "648\n",
      "649\n",
      "650\n",
      "651\n",
      "652\n",
      "653\n",
      "654\n",
      "655\n",
      "656\n",
      "657\n",
      "658\n",
      "659\n",
      "660\n",
      "661\n",
      "662\n",
      "663\n",
      "664\n",
      "665\n",
      "666\n",
      "667\n",
      "668\n",
      "669\n",
      "670\n",
      "671\n",
      "672\n",
      "673\n",
      "674\n",
      "675\n",
      "676\n",
      "677\n",
      "678\n",
      "679\n",
      "680\n",
      "681\n",
      "682\n",
      "683\n",
      "684\n",
      "685\n",
      "686\n",
      "687\n",
      "688\n",
      "689\n",
      "690\n",
      "691\n",
      "692\n",
      "693\n",
      "694\n",
      "695\n",
      "696\n",
      "697\n",
      "698\n",
      "699\n",
      "700\n",
      "701\n",
      "702\n",
      "703\n",
      "704\n",
      "705\n",
      "706\n",
      "707\n",
      "708\n",
      "709\n",
      "710\n",
      "711\n",
      "712\n",
      "713\n",
      "714\n",
      "715\n",
      "716\n",
      "717\n",
      "718\n",
      "719\n",
      "720\n",
      "721\n",
      "722\n",
      "723\n",
      "724\n",
      "725\n",
      "726\n",
      "727\n",
      "728\n",
      "729\n",
      "730\n",
      "731\n",
      "732\n",
      "733\n",
      "734\n",
      "735\n",
      "736\n",
      "737\n",
      "738\n",
      "739\n",
      "740\n",
      "741\n",
      "742\n",
      "743\n",
      "744\n",
      "745\n",
      "746\n",
      "747\n",
      "748\n",
      "749\n",
      "750\n",
      "751\n",
      "752\n",
      "753\n",
      "754\n",
      "755\n",
      "756\n",
      "757\n",
      "758\n",
      "759\n",
      "760\n",
      "761\n",
      "762\n",
      "763\n",
      "764\n",
      "765\n",
      "766\n",
      "767\n",
      "768\n",
      "769\n",
      "770\n",
      "771\n",
      "772\n",
      "773\n",
      "774\n",
      "775\n",
      "776\n",
      "777\n",
      "778\n",
      "779\n",
      "780\n",
      "781\n",
      "782\n",
      "783\n",
      "784\n",
      "785\n",
      "786\n",
      "787\n",
      "788\n",
      "789\n",
      "790\n",
      "791\n",
      "792\n",
      "793\n",
      "794\n",
      "795\n",
      "796\n",
      "797\n",
      "798\n",
      "799\n",
      "800\n",
      "801\n",
      "802\n",
      "803\n",
      "804\n",
      "805\n",
      "806\n",
      "807\n",
      "808\n",
      "809\n",
      "810\n",
      "811\n",
      "812\n",
      "813\n",
      "814\n",
      "815\n",
      "816\n",
      "817\n",
      "818\n",
      "819\n",
      "820\n",
      "821\n",
      "822\n",
      "823\n",
      "824\n",
      "825\n",
      "826\n",
      "827\n",
      "828\n",
      "829\n",
      "830\n",
      "831\n",
      "832\n",
      "833\n",
      "834\n",
      "835\n",
      "836\n",
      "837\n",
      "838\n",
      "839\n",
      "840\n",
      "841\n",
      "842\n",
      "843\n",
      "844\n",
      "845\n",
      "846\n",
      "847\n",
      "848\n",
      "849\n",
      "850\n",
      "851\n",
      "852\n",
      "853\n",
      "854\n",
      "855\n",
      "856\n",
      "857\n",
      "858\n",
      "859\n",
      "860\n",
      "861\n",
      "862\n",
      "863\n",
      "864\n",
      "865\n",
      "866\n",
      "867\n",
      "868\n",
      "869\n",
      "870\n",
      "871\n",
      "872\n",
      "873\n",
      "874\n",
      "875\n",
      "876\n",
      "877\n",
      "878\n",
      "879\n",
      "880\n",
      "881\n",
      "882\n",
      "883\n",
      "884\n",
      "885\n",
      "886\n",
      "887\n",
      "888\n",
      "889\n",
      "890\n",
      "891\n",
      "892\n",
      "893\n",
      "894\n",
      "895\n",
      "896\n",
      "897\n",
      "898\n",
      "899\n",
      "900\n",
      "901\n",
      "902\n",
      "903\n",
      "904\n",
      "905\n",
      "906\n",
      "907\n",
      "908\n",
      "909\n",
      "910\n",
      "911\n",
      "912\n",
      "913\n",
      "914\n",
      "915\n",
      "916\n",
      "917\n",
      "918\n",
      "919\n",
      "920\n",
      "921\n",
      "922\n",
      "923\n",
      "924\n",
      "925\n",
      "926\n",
      "927\n",
      "928\n",
      "929\n",
      "930\n",
      "931\n",
      "932\n",
      "933\n",
      "934\n",
      "935\n",
      "936\n",
      "937\n",
      "938\n",
      "939\n",
      "940\n",
      "941\n",
      "942\n",
      "943\n",
      "944\n",
      "945\n",
      "946\n",
      "947\n",
      "948\n",
      "949\n",
      "950\n",
      "951\n",
      "952\n",
      "953\n",
      "954\n",
      "955\n",
      "956\n",
      "957\n",
      "958\n",
      "959\n",
      "960\n",
      "961\n",
      "962\n",
      "963\n",
      "964\n",
      "965\n",
      "966\n",
      "967\n",
      "968\n",
      "969\n",
      "970\n",
      "971\n",
      "972\n",
      "973\n",
      "974\n",
      "975\n",
      "976\n",
      "977\n",
      "978\n",
      "979\n",
      "980\n",
      "981\n",
      "982\n",
      "983\n",
      "984\n",
      "985\n",
      "986\n",
      "987\n",
      "988\n",
      "989\n",
      "990\n",
      "991\n",
      "992\n",
      "993\n",
      "994\n",
      "995\n",
      "996\n",
      "997\n",
      "998\n",
      "999\n",
      "1000\n",
      "1001\n",
      "1002\n",
      "1003\n",
      "1004\n",
      "1005\n",
      "1006\n",
      "1007\n",
      "1008\n",
      "1009\n",
      "1010\n",
      "1011\n",
      "1012\n",
      "1013\n",
      "1014\n",
      "1015\n",
      "1016\n",
      "1017\n",
      "1018\n",
      "1019\n",
      "1020\n",
      "1021\n",
      "1022\n",
      "1023\n",
      "1024\n",
      "1025\n",
      "1026\n",
      "1027\n",
      "1028\n",
      "1029\n",
      "1030\n",
      "1031\n",
      "1032\n",
      "1033\n",
      "1034\n",
      "1035\n",
      "1036\n",
      "1037\n",
      "1038\n",
      "1039\n",
      "1040\n",
      "1041\n",
      "1042\n",
      "1043\n",
      "1044\n",
      "1045\n",
      "1046\n",
      "1047\n",
      "1048\n",
      "1049\n",
      "1050\n",
      "1051\n",
      "1052\n",
      "1053\n",
      "1054\n",
      "1055\n",
      "1056\n",
      "1057\n",
      "1058\n",
      "1059\n",
      "1060\n",
      "1061\n",
      "1062\n",
      "1063\n",
      "1064\n",
      "1065\n",
      "1066\n",
      "1067\n",
      "1068\n",
      "1069\n",
      "1070\n",
      "1071\n",
      "1072\n",
      "1073\n",
      "1074\n",
      "1075\n",
      "1076\n",
      "1077\n",
      "1078\n",
      "1079\n",
      "1080\n",
      "1081\n",
      "1082\n",
      "1083\n",
      "1084\n",
      "1085\n",
      "1086\n",
      "1087\n",
      "1088\n",
      "1089\n",
      "1090\n",
      "1091\n",
      "1092\n",
      "1093\n",
      "1094\n",
      "1095\n",
      "1096\n",
      "1097\n",
      "1098\n",
      "1099\n",
      "1100\n",
      "1101\n",
      "1102\n",
      "1103\n",
      "1104\n",
      "1105\n",
      "1106\n",
      "1107\n",
      "1108\n",
      "1109\n",
      "1110\n",
      "1111\n",
      "1112\n",
      "1113\n",
      "1114\n",
      "1115\n",
      "1116\n",
      "1117\n",
      "1118\n",
      "1119\n",
      "1120\n",
      "1121\n",
      "1122\n",
      "1123\n",
      "1124\n",
      "1125\n",
      "1126\n",
      "1127\n",
      "1128\n",
      "1129\n",
      "1130\n",
      "1131\n",
      "1132\n",
      "1133\n",
      "1134\n",
      "1135\n",
      "1136\n",
      "1137\n",
      "1138\n",
      "1139\n",
      "1140\n",
      "1141\n",
      "1142\n",
      "1143\n",
      "1144\n",
      "1145\n",
      "1146\n",
      "1147\n",
      "1148\n",
      "1149\n",
      "1150\n",
      "1151\n",
      "1152\n",
      "1153\n",
      "1154\n",
      "1155\n",
      "1156\n",
      "1157\n",
      "1158\n",
      "1159\n",
      "1160\n",
      "1161\n",
      "1162\n",
      "1163\n",
      "1164\n",
      "1165\n",
      "1166\n",
      "1167\n",
      "1168\n",
      "1169\n",
      "1170\n",
      "1171\n",
      "1172\n",
      "1173\n",
      "1174\n",
      "1175\n",
      "1176\n",
      "1177\n",
      "1178\n",
      "1179\n",
      "1180\n",
      "1181\n",
      "1182\n",
      "1183\n",
      "1184\n",
      "1185\n",
      "1186\n",
      "1187\n",
      "1188\n",
      "1189\n",
      "1190\n",
      "1191\n",
      "1192\n",
      "1193\n",
      "1194\n",
      "1195\n",
      "1196\n",
      "1197\n",
      "1198\n",
      "1199\n",
      "1200\n",
      "1201\n",
      "1202\n",
      "1203\n",
      "1204\n",
      "1205\n",
      "1206\n",
      "1207\n",
      "1208\n",
      "1209\n",
      "1210\n",
      "1211\n",
      "1212\n",
      "1213\n",
      "1214\n",
      "1215\n",
      "1216\n",
      "1217\n",
      "1218\n",
      "1219\n",
      "1220\n",
      "1221\n",
      "1222\n",
      "1223\n",
      "1224\n",
      "1225\n",
      "1226\n",
      "1227\n",
      "1228\n",
      "1229\n",
      "1230\n",
      "1231\n",
      "1232\n",
      "1233\n",
      "1234\n",
      "1235\n",
      "1236\n",
      "1237\n",
      "1238\n",
      "1239\n",
      "1240\n",
      "1241\n",
      "1242\n",
      "1243\n"
     ]
    },
    {
     "name": "stderr",
     "output_type": "stream",
     "text": [
      "\r",
      "0it [00:00, ?it/s]"
     ]
    },
    {
     "name": "stdout",
     "output_type": "stream",
     "text": [
      "1244\n",
      "1245\n",
      "1246\n",
      "1247\n",
      "1248\n",
      "1249\n",
      "tensor([[0.0000]], device='cuda:0', grad_fn=<SigmoidBackward>)\n",
      "Handnet forward time: 0.01228189468383789\n",
      "no hand\n",
      "Time for processing 1 frame: 0.01244044303894043s\n"
     ]
    },
    {
     "name": "stderr",
     "output_type": "stream",
     "text": [
      "2it [00:00,  7.21it/s]"
     ]
    },
    {
     "name": "stdout",
     "output_type": "stream",
     "text": [
      "tensor([[0.0000]], device='cuda:0', grad_fn=<SigmoidBackward>)\n",
      "Handnet forward time: 0.009752273559570312\n",
      "no hand\n",
      "Time for processing 1 frame: 0.009928226470947266s\n",
      "tensor([[0.0000]], device='cuda:0', grad_fn=<SigmoidBackward>)\n",
      "Handnet forward time: 0.01088261604309082\n",
      "no hand\n",
      "Time for processing 1 frame: 0.011202096939086914s\n"
     ]
    },
    {
     "name": "stderr",
     "output_type": "stream",
     "text": [
      "4it [00:00,  7.58it/s]"
     ]
    },
    {
     "name": "stdout",
     "output_type": "stream",
     "text": [
      "tensor([[0.0000]], device='cuda:0', grad_fn=<SigmoidBackward>)\n",
      "Handnet forward time: 0.009253740310668945\n",
      "no hand\n",
      "Time for processing 1 frame: 0.009538650512695312s\n",
      "tensor([[0.0000]], device='cuda:0', grad_fn=<SigmoidBackward>)\n",
      "Handnet forward time: 0.00973820686340332\n",
      "no hand\n",
      "Time for processing 1 frame: 0.009965181350708008s\n"
     ]
    },
    {
     "name": "stderr",
     "output_type": "stream",
     "text": [
      "6it [00:00,  7.75it/s]"
     ]
    },
    {
     "name": "stdout",
     "output_type": "stream",
     "text": [
      "tensor([[0.0000]], device='cuda:0', grad_fn=<SigmoidBackward>)\n",
      "Handnet forward time: 0.010220527648925781\n",
      "no hand\n",
      "Time for processing 1 frame: 0.01051640510559082s\n",
      "tensor([[0.0000]], device='cuda:0', grad_fn=<SigmoidBackward>)\n",
      "Handnet forward time: 0.009630680084228516\n",
      "no hand\n",
      "Time for processing 1 frame: 0.00984644889831543s\n"
     ]
    },
    {
     "name": "stderr",
     "output_type": "stream",
     "text": [
      "8it [00:01,  7.92it/s]"
     ]
    },
    {
     "name": "stdout",
     "output_type": "stream",
     "text": [
      "tensor([[0.0000]], device='cuda:0', grad_fn=<SigmoidBackward>)\n",
      "Handnet forward time: 0.009755373001098633\n",
      "no hand\n",
      "Time for processing 1 frame: 0.01001596450805664s\n",
      "tensor([[0.0000]], device='cuda:0', grad_fn=<SigmoidBackward>)\n",
      "Handnet forward time: 0.009631633758544922\n",
      "no hand\n",
      "Time for processing 1 frame: 0.009850263595581055s\n"
     ]
    },
    {
     "name": "stderr",
     "output_type": "stream",
     "text": [
      "10it [00:01,  8.00it/s]"
     ]
    },
    {
     "name": "stdout",
     "output_type": "stream",
     "text": [
      "tensor([[0.0000]], device='cuda:0', grad_fn=<SigmoidBackward>)\n",
      "Handnet forward time: 0.010820627212524414\n",
      "no hand\n",
      "Time for processing 1 frame: 0.01113271713256836s\n",
      "tensor([[0.0000]], device='cuda:0', grad_fn=<SigmoidBackward>)\n",
      "Handnet forward time: 0.009633302688598633\n",
      "no hand\n",
      "Time for processing 1 frame: 0.00985860824584961s\n"
     ]
    },
    {
     "name": "stderr",
     "output_type": "stream",
     "text": [
      "12it [00:01,  7.60it/s]"
     ]
    },
    {
     "name": "stdout",
     "output_type": "stream",
     "text": [
      "tensor([[0.0000]], device='cuda:0', grad_fn=<SigmoidBackward>)\n",
      "Handnet forward time: 0.009783267974853516\n",
      "no hand\n",
      "Time for processing 1 frame: 0.009967565536499023s\n",
      "tensor([[0.0000]], device='cuda:0', grad_fn=<SigmoidBackward>)\n",
      "Handnet forward time: 0.009618520736694336\n",
      "no hand\n",
      "Time for processing 1 frame: 0.009840726852416992s\n"
     ]
    },
    {
     "name": "stderr",
     "output_type": "stream",
     "text": [
      "14it [00:01,  7.85it/s]"
     ]
    },
    {
     "name": "stdout",
     "output_type": "stream",
     "text": [
      "tensor([[0.0000]], device='cuda:0', grad_fn=<SigmoidBackward>)\n",
      "Handnet forward time: 0.009227275848388672\n",
      "no hand\n",
      "Time for processing 1 frame: 0.009466409683227539s\n",
      "tensor([[0.0000]], device='cuda:0', grad_fn=<SigmoidBackward>)\n",
      "Handnet forward time: 0.009649276733398438\n",
      "no hand\n",
      "Time for processing 1 frame: 0.009875774383544922s\n"
     ]
    },
    {
     "name": "stderr",
     "output_type": "stream",
     "text": [
      "16it [00:02,  8.00it/s]"
     ]
    },
    {
     "name": "stdout",
     "output_type": "stream",
     "text": [
      "tensor([[0.0000]], device='cuda:0', grad_fn=<SigmoidBackward>)\n",
      "Handnet forward time: 0.00927281379699707\n",
      "no hand\n",
      "Time for processing 1 frame: 0.009432077407836914s\n",
      "tensor([[0.0000]], device='cuda:0', grad_fn=<SigmoidBackward>)\n",
      "Handnet forward time: 0.00962066650390625\n",
      "no hand\n",
      "Time for processing 1 frame: 0.00985264778137207s\n"
     ]
    },
    {
     "name": "stderr",
     "output_type": "stream",
     "text": [
      "18it [00:02,  8.04it/s]"
     ]
    },
    {
     "name": "stdout",
     "output_type": "stream",
     "text": [
      "tensor([[0.0000]], device='cuda:0', grad_fn=<SigmoidBackward>)\n",
      "Handnet forward time: 0.009851932525634766\n",
      "no hand\n",
      "Time for processing 1 frame: 0.009939908981323242s\n",
      "tensor([[0.0000]], device='cuda:0', grad_fn=<SigmoidBackward>)\n",
      "Handnet forward time: 0.010806560516357422\n",
      "no hand\n",
      "Time for processing 1 frame: 0.011042118072509766s\n"
     ]
    },
    {
     "name": "stderr",
     "output_type": "stream",
     "text": [
      "20it [00:02,  8.06it/s]"
     ]
    },
    {
     "name": "stdout",
     "output_type": "stream",
     "text": [
      "tensor([[0.0000]], device='cuda:0', grad_fn=<SigmoidBackward>)\n",
      "Handnet forward time: 0.010170698165893555\n",
      "no hand\n",
      "Time for processing 1 frame: 0.010411977767944336s\n",
      "tensor([[0.0000]], device='cuda:0', grad_fn=<SigmoidBackward>)\n",
      "Handnet forward time: 0.010320663452148438\n",
      "no hand\n",
      "Time for processing 1 frame: 0.010552167892456055s\n"
     ]
    },
    {
     "name": "stderr",
     "output_type": "stream",
     "text": [
      "22it [00:02,  8.04it/s]"
     ]
    },
    {
     "name": "stdout",
     "output_type": "stream",
     "text": [
      "tensor([[0.0000]], device='cuda:0', grad_fn=<SigmoidBackward>)\n",
      "Handnet forward time: 0.01093292236328125\n",
      "no hand\n",
      "Time for processing 1 frame: 0.011161088943481445s\n",
      "tensor([[0.0000]], device='cuda:0', grad_fn=<SigmoidBackward>)\n",
      "Handnet forward time: 0.009683370590209961\n",
      "no hand\n",
      "Time for processing 1 frame: 0.009907960891723633s\n"
     ]
    },
    {
     "name": "stderr",
     "output_type": "stream",
     "text": [
      "24it [00:03,  8.13it/s]"
     ]
    },
    {
     "name": "stdout",
     "output_type": "stream",
     "text": [
      "tensor([[0.0000]], device='cuda:0', grad_fn=<SigmoidBackward>)\n",
      "Handnet forward time: 0.009740829467773438\n",
      "no hand\n",
      "Time for processing 1 frame: 0.009948253631591797s\n",
      "tensor([[0.0000]], device='cuda:0', grad_fn=<SigmoidBackward>)\n",
      "Handnet forward time: 0.009626150131225586\n",
      "no hand\n",
      "Time for processing 1 frame: 0.009848833084106445s\n"
     ]
    },
    {
     "name": "stderr",
     "output_type": "stream",
     "text": [
      "26it [00:03,  7.69it/s]"
     ]
    },
    {
     "name": "stdout",
     "output_type": "stream",
     "text": [
      "tensor([[0.0000]], device='cuda:0', grad_fn=<SigmoidBackward>)\n",
      "Handnet forward time: 0.009884119033813477\n",
      "no hand\n",
      "Time for processing 1 frame: 0.010046005249023438s\n",
      "tensor([[0.0000]], device='cuda:0', grad_fn=<SigmoidBackward>)\n",
      "Handnet forward time: 0.009585380554199219\n",
      "no hand\n",
      "Time for processing 1 frame: 0.009808778762817383s\n"
     ]
    },
    {
     "name": "stderr",
     "output_type": "stream",
     "text": [
      "28it [00:03,  7.90it/s]"
     ]
    },
    {
     "name": "stdout",
     "output_type": "stream",
     "text": [
      "tensor([[0.0000]], device='cuda:0', grad_fn=<SigmoidBackward>)\n",
      "Handnet forward time: 0.00931239128112793\n",
      "no hand\n",
      "Time for processing 1 frame: 0.009553194046020508s\n",
      "tensor([[0.0000]], device='cuda:0', grad_fn=<SigmoidBackward>)\n",
      "Handnet forward time: 0.010977029800415039\n",
      "no hand\n",
      "Time for processing 1 frame: 0.011208295822143555s\n"
     ]
    },
    {
     "name": "stderr",
     "output_type": "stream",
     "text": [
      "30it [00:03,  7.99it/s]"
     ]
    },
    {
     "name": "stdout",
     "output_type": "stream",
     "text": [
      "tensor([[0.0000]], device='cuda:0', grad_fn=<SigmoidBackward>)\n",
      "Handnet forward time: 0.010305404663085938\n",
      "no hand\n",
      "Time for processing 1 frame: 0.010374307632446289s\n",
      "tensor([[0.0000]], device='cuda:0', grad_fn=<SigmoidBackward>)\n",
      "Handnet forward time: 0.010374307632446289\n",
      "no hand\n",
      "Time for processing 1 frame: 0.01059722900390625s\n"
     ]
    },
    {
     "name": "stderr",
     "output_type": "stream",
     "text": [
      "32it [00:04,  8.01it/s]"
     ]
    },
    {
     "name": "stdout",
     "output_type": "stream",
     "text": [
      "tensor([[0.0000]], device='cuda:0', grad_fn=<SigmoidBackward>)\n",
      "Handnet forward time: 0.010901212692260742\n",
      "no hand\n",
      "Time for processing 1 frame: 0.011141061782836914s\n",
      "tensor([[0.0000]], device='cuda:0', grad_fn=<SigmoidBackward>)\n",
      "Handnet forward time: 0.009673357009887695\n",
      "no hand\n",
      "Time for processing 1 frame: 0.009904623031616211s\n"
     ]
    },
    {
     "name": "stderr",
     "output_type": "stream",
     "text": [
      "34it [00:04,  8.06it/s]"
     ]
    },
    {
     "name": "stdout",
     "output_type": "stream",
     "text": [
      "tensor([[0.0000]], device='cuda:0', grad_fn=<SigmoidBackward>)\n",
      "Handnet forward time: 0.009599685668945312\n",
      "no hand\n",
      "Time for processing 1 frame: 0.00982356071472168s\n",
      "tensor([[0.0000]], device='cuda:0', grad_fn=<SigmoidBackward>)\n",
      "Handnet forward time: 0.009688854217529297\n",
      "no hand\n",
      "Time for processing 1 frame: 0.009927749633789062s\n"
     ]
    },
    {
     "name": "stderr",
     "output_type": "stream",
     "text": [
      "36it [00:04,  8.10it/s]"
     ]
    },
    {
     "name": "stdout",
     "output_type": "stream",
     "text": [
      "tensor([[0.0000]], device='cuda:0', grad_fn=<SigmoidBackward>)\n",
      "Handnet forward time: 0.009803056716918945\n",
      "no hand\n",
      "Time for processing 1 frame: 0.010167837142944336s\n",
      "tensor([[0.0000]], device='cuda:0', grad_fn=<SigmoidBackward>)\n",
      "Handnet forward time: 0.009630680084228516\n",
      "no hand\n",
      "Time for processing 1 frame: 0.00985860824584961s\n"
     ]
    },
    {
     "name": "stderr",
     "output_type": "stream",
     "text": [
      "38it [00:04,  8.11it/s]"
     ]
    },
    {
     "name": "stdout",
     "output_type": "stream",
     "text": [
      "tensor([[0.0000]], device='cuda:0', grad_fn=<SigmoidBackward>)\n",
      "Handnet forward time: 0.009204626083374023\n",
      "no hand\n",
      "Time for processing 1 frame: 0.009442329406738281s\n",
      "tensor([[0.0000]], device='cuda:0', grad_fn=<SigmoidBackward>)\n",
      "Handnet forward time: 0.009627103805541992\n",
      "no hand\n",
      "Time for processing 1 frame: 0.009852886199951172s\n"
     ]
    },
    {
     "name": "stderr",
     "output_type": "stream",
     "text": [
      "40it [00:05,  8.13it/s]"
     ]
    },
    {
     "name": "stdout",
     "output_type": "stream",
     "text": [
      "tensor([[0.0000]], device='cuda:0', grad_fn=<SigmoidBackward>)\n",
      "Handnet forward time: 0.010107040405273438\n",
      "no hand\n",
      "Time for processing 1 frame: 0.010410308837890625s\n",
      "tensor([[0.0000]], device='cuda:0', grad_fn=<SigmoidBackward>)\n",
      "Handnet forward time: 0.01031637191772461\n",
      "no hand\n",
      "Time for processing 1 frame: 0.010545492172241211s\n"
     ]
    },
    {
     "name": "stderr",
     "output_type": "stream",
     "text": [
      "42it [00:05,  7.32it/s]"
     ]
    },
    {
     "name": "stdout",
     "output_type": "stream",
     "text": [
      "tensor([[0.0000]], device='cuda:0', grad_fn=<SigmoidBackward>)\n",
      "Handnet forward time: 0.010933637619018555\n",
      "no hand\n",
      "Time for processing 1 frame: 0.011166095733642578s\n",
      "tensor([[0.0000]], device='cuda:0', grad_fn=<SigmoidBackward>)\n",
      "Handnet forward time: 0.009695768356323242\n",
      "no hand\n",
      "Time for processing 1 frame: 0.009918212890625s\n"
     ]
    },
    {
     "name": "stderr",
     "output_type": "stream",
     "text": [
      "44it [00:05,  7.69it/s]"
     ]
    },
    {
     "name": "stdout",
     "output_type": "stream",
     "text": [
      "tensor([[0.0000]], device='cuda:0', grad_fn=<SigmoidBackward>)\n",
      "Handnet forward time: 0.010519742965698242\n",
      "no hand\n",
      "Time for processing 1 frame: 0.010775327682495117s\n",
      "tensor([[0.0000]], device='cuda:0', grad_fn=<SigmoidBackward>)\n",
      "Handnet forward time: 0.00963282585144043\n",
      "no hand\n",
      "Time for processing 1 frame: 0.009854793548583984s\n"
     ]
    },
    {
     "name": "stderr",
     "output_type": "stream",
     "text": [
      "46it [00:05,  7.91it/s]"
     ]
    },
    {
     "name": "stdout",
     "output_type": "stream",
     "text": [
      "tensor([[0.0000]], device='cuda:0', grad_fn=<SigmoidBackward>)\n",
      "Handnet forward time: 0.00926828384399414\n",
      "no hand\n",
      "Time for processing 1 frame: 0.009479522705078125s\n",
      "tensor([[0.0000]], device='cuda:0', grad_fn=<SigmoidBackward>)\n",
      "Handnet forward time: 0.010671615600585938\n",
      "no hand\n",
      "Time for processing 1 frame: 0.010908126831054688s\n"
     ]
    },
    {
     "name": "stderr",
     "output_type": "stream",
     "text": [
      "48it [00:06,  7.98it/s]"
     ]
    },
    {
     "name": "stdout",
     "output_type": "stream",
     "text": [
      "tensor([[0.0000]], device='cuda:0', grad_fn=<SigmoidBackward>)\n",
      "Handnet forward time: 0.010056257247924805\n",
      "no hand\n",
      "Time for processing 1 frame: 0.010282278060913086s\n",
      "tensor([[0.0000]], device='cuda:0', grad_fn=<SigmoidBackward>)\n",
      "Handnet forward time: 0.01038670539855957\n",
      "no hand\n",
      "Time for processing 1 frame: 0.010655403137207031s\n"
     ]
    },
    {
     "name": "stderr",
     "output_type": "stream",
     "text": [
      "50it [00:06,  8.01it/s]"
     ]
    },
    {
     "name": "stdout",
     "output_type": "stream",
     "text": [
      "tensor([[0.0000]], device='cuda:0', grad_fn=<SigmoidBackward>)\n",
      "Handnet forward time: 0.010881900787353516\n",
      "no hand\n",
      "Time for processing 1 frame: 0.011120080947875977s\n",
      "tensor([[0.0000]], device='cuda:0', grad_fn=<SigmoidBackward>)\n",
      "Handnet forward time: 0.009607315063476562\n",
      "no hand\n",
      "Time for processing 1 frame: 0.009842157363891602s\n"
     ]
    },
    {
     "name": "stderr",
     "output_type": "stream",
     "text": [
      "52it [00:06,  8.05it/s]"
     ]
    },
    {
     "name": "stdout",
     "output_type": "stream",
     "text": [
      "tensor([[0.0000]], device='cuda:0', grad_fn=<SigmoidBackward>)\n",
      "Handnet forward time: 0.010104894638061523\n",
      "no hand\n",
      "Time for processing 1 frame: 0.010344743728637695s\n",
      "tensor([[0.0000]], device='cuda:0', grad_fn=<SigmoidBackward>)\n",
      "Handnet forward time: 0.009605169296264648\n",
      "no hand\n",
      "Time for processing 1 frame: 0.00982809066772461s\n"
     ]
    },
    {
     "name": "stderr",
     "output_type": "stream",
     "text": [
      "54it [00:06,  7.97it/s]"
     ]
    },
    {
     "name": "stdout",
     "output_type": "stream",
     "text": [
      "tensor([[0.0000]], device='cuda:0', grad_fn=<SigmoidBackward>)\n",
      "Handnet forward time: 0.00968313217163086\n",
      "no hand\n",
      "Time for processing 1 frame: 0.009928703308105469s\n",
      "tensor([[0.0000]], device='cuda:0', grad_fn=<SigmoidBackward>)\n",
      "Handnet forward time: 0.009595394134521484\n",
      "no hand\n",
      "Time for processing 1 frame: 0.00982046127319336s\n"
     ]
    },
    {
     "name": "stderr",
     "output_type": "stream",
     "text": [
      "56it [00:07,  8.06it/s]"
     ]
    },
    {
     "name": "stdout",
     "output_type": "stream",
     "text": [
      "tensor([[0.0000]], device='cuda:0', grad_fn=<SigmoidBackward>)\n",
      "Handnet forward time: 0.010248422622680664\n",
      "no hand\n",
      "Time for processing 1 frame: 0.010523080825805664s\n",
      "tensor([[0.0000]], device='cuda:0', grad_fn=<SigmoidBackward>)\n",
      "Handnet forward time: 0.009601831436157227\n",
      "no hand\n",
      "Time for processing 1 frame: 0.009775161743164062s\n"
     ]
    },
    {
     "name": "stderr",
     "output_type": "stream",
     "text": [
      "58it [00:07,  8.14it/s]"
     ]
    },
    {
     "name": "stdout",
     "output_type": "stream",
     "text": [
      "tensor([[0.0000]], device='cuda:0', grad_fn=<SigmoidBackward>)\n",
      "Handnet forward time: 0.00911855697631836\n",
      "no hand\n",
      "Time for processing 1 frame: 0.009361982345581055s\n",
      "tensor([[0.0000]], device='cuda:0', grad_fn=<SigmoidBackward>)\n",
      "Handnet forward time: 0.009617328643798828\n",
      "no hand\n",
      "Time for processing 1 frame: 0.009836912155151367s\n"
     ]
    },
    {
     "name": "stderr",
     "output_type": "stream",
     "text": [
      "60it [00:07,  8.16it/s]"
     ]
    },
    {
     "name": "stdout",
     "output_type": "stream",
     "text": [
      "tensor([[0.0000]], device='cuda:0', grad_fn=<SigmoidBackward>)\n",
      "Handnet forward time: 0.010046243667602539\n",
      "no hand\n",
      "Time for processing 1 frame: 0.010259866714477539s\n",
      "tensor([[0.0000]], device='cuda:0', grad_fn=<SigmoidBackward>)\n",
      "Handnet forward time: 0.009610652923583984\n",
      "no hand\n",
      "Time for processing 1 frame: 0.009833574295043945s\n"
     ]
    },
    {
     "name": "stderr",
     "output_type": "stream",
     "text": [
      "62it [00:07,  8.15it/s]"
     ]
    },
    {
     "name": "stdout",
     "output_type": "stream",
     "text": [
      "tensor([[0.0000]], device='cuda:0', grad_fn=<SigmoidBackward>)\n",
      "Handnet forward time: 0.010655403137207031\n",
      "no hand\n",
      "Time for processing 1 frame: 0.010889291763305664s\n",
      "tensor([[0.0000]], device='cuda:0', grad_fn=<SigmoidBackward>)\n",
      "Handnet forward time: 0.009592533111572266\n",
      "no hand\n",
      "Time for processing 1 frame: 0.009662151336669922s\n"
     ]
    },
    {
     "name": "stderr",
     "output_type": "stream",
     "text": [
      "64it [00:08,  7.51it/s]"
     ]
    },
    {
     "name": "stdout",
     "output_type": "stream",
     "text": [
      "tensor([[0.0000]], device='cuda:0', grad_fn=<SigmoidBackward>)\n",
      "Handnet forward time: 0.009761810302734375\n",
      "no hand\n",
      "Time for processing 1 frame: 0.010022878646850586s\n",
      "tensor([[0.0000]], device='cuda:0', grad_fn=<SigmoidBackward>)\n",
      "Handnet forward time: 0.009605884552001953\n",
      "no hand\n",
      "Time for processing 1 frame: 0.009831666946411133s\n"
     ]
    },
    {
     "name": "stderr",
     "output_type": "stream",
     "text": [
      "66it [00:08,  7.88it/s]"
     ]
    },
    {
     "name": "stdout",
     "output_type": "stream",
     "text": [
      "tensor([[0.0000]], device='cuda:0', grad_fn=<SigmoidBackward>)\n",
      "Handnet forward time: 0.009130001068115234\n",
      "no hand\n",
      "Time for processing 1 frame: 0.009392499923706055s\n",
      "tensor([[0.0000]], device='cuda:0', grad_fn=<SigmoidBackward>)\n",
      "Handnet forward time: 0.009600639343261719\n",
      "no hand\n",
      "Time for processing 1 frame: 0.00983119010925293s\n"
     ]
    },
    {
     "name": "stderr",
     "output_type": "stream",
     "text": [
      "68it [00:08,  8.05it/s]"
     ]
    },
    {
     "name": "stdout",
     "output_type": "stream",
     "text": [
      "tensor([[0.0000]], device='cuda:0', grad_fn=<SigmoidBackward>)\n",
      "Handnet forward time: 0.009615182876586914\n",
      "no hand\n",
      "Time for processing 1 frame: 0.009832382202148438s\n",
      "tensor([[0.0000]], device='cuda:0', grad_fn=<SigmoidBackward>)\n",
      "Handnet forward time: 0.009628772735595703\n",
      "no hand\n",
      "Time for processing 1 frame: 0.00985860824584961s\n"
     ]
    },
    {
     "name": "stderr",
     "output_type": "stream",
     "text": [
      "70it [00:08,  8.18it/s]"
     ]
    },
    {
     "name": "stdout",
     "output_type": "stream",
     "text": [
      "tensor([[0.0000]], device='cuda:0', grad_fn=<SigmoidBackward>)\n",
      "Handnet forward time: 0.009137868881225586\n",
      "no hand\n",
      "Time for processing 1 frame: 0.00935220718383789s\n",
      "tensor([[0.0000]], device='cuda:0', grad_fn=<SigmoidBackward>)\n",
      "Handnet forward time: 0.009617328643798828\n",
      "no hand\n",
      "Time for processing 1 frame: 0.009886503219604492s\n"
     ]
    },
    {
     "name": "stderr",
     "output_type": "stream",
     "text": [
      "72it [00:09,  8.20it/s]"
     ]
    },
    {
     "name": "stdout",
     "output_type": "stream",
     "text": [
      "tensor([[0.0000]], device='cuda:0', grad_fn=<SigmoidBackward>)\n",
      "Handnet forward time: 0.009621381759643555\n",
      "no hand\n",
      "Time for processing 1 frame: 0.009828567504882812s\n",
      "tensor([[0.0000]], device='cuda:0', grad_fn=<SigmoidBackward>)\n",
      "Handnet forward time: 0.009627819061279297\n",
      "no hand\n",
      "Time for processing 1 frame: 0.00985097885131836s\n"
     ]
    },
    {
     "name": "stderr",
     "output_type": "stream",
     "text": [
      "74it [00:09,  8.23it/s]"
     ]
    },
    {
     "name": "stdout",
     "output_type": "stream",
     "text": [
      "tensor([[0.0000]], device='cuda:0', grad_fn=<SigmoidBackward>)\n",
      "Handnet forward time: 0.009112358093261719\n",
      "no hand\n",
      "Time for processing 1 frame: 0.00932168960571289s\n",
      "tensor([[0.0000]], device='cuda:0', grad_fn=<SigmoidBackward>)\n",
      "Handnet forward time: 0.010294675827026367\n",
      "no hand\n",
      "Time for processing 1 frame: 0.010515689849853516s\n"
     ]
    },
    {
     "name": "stderr",
     "output_type": "stream",
     "text": [
      "76it [00:09,  8.24it/s]"
     ]
    },
    {
     "name": "stdout",
     "output_type": "stream",
     "text": [
      "tensor([[0.0000]], device='cuda:0', grad_fn=<SigmoidBackward>)\n",
      "Handnet forward time: 0.009572505950927734\n",
      "no hand\n",
      "Time for processing 1 frame: 0.009796142578125s\n",
      "tensor([[0.0000]], device='cuda:0', grad_fn=<SigmoidBackward>)\n",
      "Handnet forward time: 0.009587287902832031\n",
      "no hand\n",
      "Time for processing 1 frame: 0.009810686111450195s\n"
     ]
    },
    {
     "name": "stderr",
     "output_type": "stream",
     "text": [
      "78it [00:09,  8.26it/s]"
     ]
    },
    {
     "name": "stdout",
     "output_type": "stream",
     "text": [
      "tensor([[0.0000]], device='cuda:0', grad_fn=<SigmoidBackward>)\n",
      "Handnet forward time: 0.009157896041870117\n",
      "no hand\n",
      "Time for processing 1 frame: 0.009365320205688477s\n",
      "tensor([[0.0000]], device='cuda:0', grad_fn=<SigmoidBackward>)\n",
      "Handnet forward time: 0.010285139083862305\n",
      "no hand\n",
      "Time for processing 1 frame: 0.010519742965698242s\n"
     ]
    },
    {
     "name": "stderr",
     "output_type": "stream",
     "text": [
      "80it [00:10,  8.27it/s]"
     ]
    },
    {
     "name": "stdout",
     "output_type": "stream",
     "text": [
      "tensor([[0.0000]], device='cuda:0', grad_fn=<SigmoidBackward>)\n",
      "Handnet forward time: 0.009580612182617188\n",
      "no hand\n",
      "Time for processing 1 frame: 0.009800434112548828s\n",
      "tensor([[0.0000]], device='cuda:0', grad_fn=<SigmoidBackward>)\n",
      "Handnet forward time: 0.009586811065673828\n",
      "no hand\n",
      "Time for processing 1 frame: 0.009810447692871094s\n"
     ]
    },
    {
     "name": "stderr",
     "output_type": "stream",
     "text": [
      "82it [00:10,  8.30it/s]"
     ]
    },
    {
     "name": "stdout",
     "output_type": "stream",
     "text": [
      "tensor([[0.0000]], device='cuda:0', grad_fn=<SigmoidBackward>)\n",
      "Handnet forward time: 0.009138107299804688\n",
      "no hand\n",
      "Time for processing 1 frame: 0.009345054626464844s\n",
      "tensor([[0.0000]], device='cuda:0', grad_fn=<SigmoidBackward>)\n",
      "Handnet forward time: 0.010288000106811523\n",
      "no hand\n",
      "Time for processing 1 frame: 0.010568618774414062s\n"
     ]
    },
    {
     "name": "stderr",
     "output_type": "stream",
     "text": [
      "84it [00:10,  8.30it/s]"
     ]
    },
    {
     "name": "stdout",
     "output_type": "stream",
     "text": [
      "tensor([[0.0000]], device='cuda:0', grad_fn=<SigmoidBackward>)\n",
      "Handnet forward time: 0.009623527526855469\n",
      "no hand\n",
      "Time for processing 1 frame: 0.009831666946411133s\n",
      "tensor([[0.0000]], device='cuda:0', grad_fn=<SigmoidBackward>)\n",
      "Handnet forward time: 0.009608030319213867\n",
      "no hand\n",
      "Time for processing 1 frame: 0.00982356071472168s\n"
     ]
    },
    {
     "name": "stderr",
     "output_type": "stream",
     "text": [
      "86it [00:10,  8.28it/s]"
     ]
    },
    {
     "name": "stdout",
     "output_type": "stream",
     "text": [
      "tensor([[0.0000]], device='cuda:0', grad_fn=<SigmoidBackward>)\n",
      "Handnet forward time: 0.009139060974121094\n",
      "no hand\n",
      "Time for processing 1 frame: 0.00935053825378418s\n",
      "tensor([[0.0000]], device='cuda:0', grad_fn=<SigmoidBackward>)\n",
      "Handnet forward time: 0.01027989387512207\n",
      "no hand\n",
      "Time for processing 1 frame: 0.010499954223632812s\n"
     ]
    },
    {
     "name": "stderr",
     "output_type": "stream",
     "text": [
      "88it [00:10,  8.24it/s]"
     ]
    },
    {
     "name": "stdout",
     "output_type": "stream",
     "text": [
      "tensor([[0.0000]], device='cuda:0', grad_fn=<SigmoidBackward>)\n",
      "Handnet forward time: 0.00967264175415039\n",
      "no hand\n",
      "Time for processing 1 frame: 0.009974479675292969s\n",
      "tensor([[0.0000]], device='cuda:0', grad_fn=<SigmoidBackward>)\n",
      "Handnet forward time: 0.009569883346557617\n",
      "no hand\n",
      "Time for processing 1 frame: 0.009635448455810547s\n"
     ]
    },
    {
     "name": "stderr",
     "output_type": "stream",
     "text": [
      "90it [00:11,  7.36it/s]"
     ]
    },
    {
     "name": "stdout",
     "output_type": "stream",
     "text": [
      "tensor([[0.0000]], device='cuda:0', grad_fn=<SigmoidBackward>)\n",
      "Handnet forward time: 0.009731292724609375\n",
      "no hand\n",
      "Time for processing 1 frame: 0.009972572326660156s\n",
      "tensor([[0.0000]], device='cuda:0', grad_fn=<SigmoidBackward>)\n",
      "Handnet forward time: 0.009589910507202148\n",
      "no hand\n",
      "Time for processing 1 frame: 0.009807348251342773s\n"
     ]
    },
    {
     "name": "stderr",
     "output_type": "stream",
     "text": [
      "92it [00:11,  7.78it/s]"
     ]
    },
    {
     "name": "stdout",
     "output_type": "stream",
     "text": [
      "tensor([[0.0000]], device='cuda:0', grad_fn=<SigmoidBackward>)\n",
      "Handnet forward time: 0.009128332138061523\n",
      "no hand\n",
      "Time for processing 1 frame: 0.009352445602416992s\n",
      "tensor([[0.0000]], device='cuda:0', grad_fn=<SigmoidBackward>)\n",
      "Handnet forward time: 0.009612083435058594\n",
      "no hand\n",
      "Time for processing 1 frame: 0.009841203689575195s\n"
     ]
    },
    {
     "name": "stderr",
     "output_type": "stream",
     "text": [
      "94it [00:11,  7.99it/s]"
     ]
    },
    {
     "name": "stdout",
     "output_type": "stream",
     "text": [
      "tensor([[0.0000]], device='cuda:0', grad_fn=<SigmoidBackward>)\n",
      "Handnet forward time: 0.009600400924682617\n",
      "no hand\n",
      "Time for processing 1 frame: 0.009819984436035156s\n",
      "tensor([[0.0000]], device='cuda:0', grad_fn=<SigmoidBackward>)\n",
      "Handnet forward time: 0.00959324836730957\n",
      "no hand\n",
      "Time for processing 1 frame: 0.009824752807617188s\n"
     ]
    },
    {
     "name": "stderr",
     "output_type": "stream",
     "text": [
      "96it [00:12,  8.14it/s]"
     ]
    },
    {
     "name": "stdout",
     "output_type": "stream",
     "text": [
      "tensor([[0.0000]], device='cuda:0', grad_fn=<SigmoidBackward>)\n",
      "Handnet forward time: 0.009128093719482422\n",
      "no hand\n",
      "Time for processing 1 frame: 0.00933837890625s\n",
      "tensor([[0.0000]], device='cuda:0', grad_fn=<SigmoidBackward>)\n",
      "Handnet forward time: 0.010289192199707031\n",
      "no hand\n",
      "Time for processing 1 frame: 0.010354280471801758s\n"
     ]
    },
    {
     "name": "stderr",
     "output_type": "stream",
     "text": [
      "98it [00:12,  8.18it/s]"
     ]
    },
    {
     "name": "stdout",
     "output_type": "stream",
     "text": [
      "tensor([[0.0000]], device='cuda:0', grad_fn=<SigmoidBackward>)\n",
      "Handnet forward time: 0.009570598602294922\n",
      "no hand\n",
      "Time for processing 1 frame: 0.009791851043701172s\n",
      "tensor([[0.0000]], device='cuda:0', grad_fn=<SigmoidBackward>)\n",
      "Handnet forward time: 0.009599447250366211\n",
      "no hand\n",
      "Time for processing 1 frame: 0.009827852249145508s\n"
     ]
    },
    {
     "name": "stderr",
     "output_type": "stream",
     "text": [
      "100it [00:12,  8.25it/s]"
     ]
    },
    {
     "name": "stdout",
     "output_type": "stream",
     "text": [
      "tensor([[0.0000]], device='cuda:0', grad_fn=<SigmoidBackward>)\n",
      "Handnet forward time: 0.009110450744628906\n",
      "no hand\n",
      "Time for processing 1 frame: 0.00932002067565918s\n",
      "tensor([[0.0000]], device='cuda:0', grad_fn=<SigmoidBackward>)\n",
      "Handnet forward time: 0.010291576385498047\n",
      "no hand\n",
      "Time for processing 1 frame: 0.010511159896850586s\n"
     ]
    },
    {
     "name": "stderr",
     "output_type": "stream",
     "text": [
      "102it [00:12,  8.24it/s]"
     ]
    },
    {
     "name": "stdout",
     "output_type": "stream",
     "text": [
      "tensor([[0.0000]], device='cuda:0', grad_fn=<SigmoidBackward>)\n",
      "Handnet forward time: 0.010280370712280273\n",
      "no hand\n",
      "Time for processing 1 frame: 0.010546684265136719s\n",
      "tensor([[0.0000]], device='cuda:0', grad_fn=<SigmoidBackward>)\n",
      "Handnet forward time: 0.009622335433959961\n",
      "no hand\n",
      "Time for processing 1 frame: 0.00969076156616211s\n"
     ]
    },
    {
     "name": "stderr",
     "output_type": "stream",
     "text": [
      "104it [00:12,  8.27it/s]"
     ]
    },
    {
     "name": "stdout",
     "output_type": "stream",
     "text": [
      "tensor([[0.0000]], device='cuda:0', grad_fn=<SigmoidBackward>)\n",
      "Handnet forward time: 0.009117603302001953\n",
      "no hand\n",
      "Time for processing 1 frame: 0.009346723556518555s\n",
      "tensor([[0.0000]], device='cuda:0', grad_fn=<SigmoidBackward>)\n",
      "Handnet forward time: 0.010885477066040039\n",
      "no hand\n",
      "Time for processing 1 frame: 0.011111021041870117s\n"
     ]
    },
    {
     "name": "stderr",
     "output_type": "stream",
     "text": [
      "106it [00:13,  8.27it/s]"
     ]
    },
    {
     "name": "stdout",
     "output_type": "stream",
     "text": [
      "tensor([[0.0000]], device='cuda:0', grad_fn=<SigmoidBackward>)\n",
      "Handnet forward time: 0.009561300277709961\n",
      "no hand\n",
      "Time for processing 1 frame: 0.009783744812011719s\n",
      "tensor([[0.0001]], device='cuda:0', grad_fn=<SigmoidBackward>)\n",
      "Handnet forward time: 0.009653806686401367\n",
      "no hand\n",
      "Time for processing 1 frame: 0.009878396987915039s\n"
     ]
    },
    {
     "name": "stderr",
     "output_type": "stream",
     "text": [
      "108it [00:13,  8.31it/s]"
     ]
    },
    {
     "name": "stdout",
     "output_type": "stream",
     "text": [
      "tensor([[0.0001]], device='cuda:0', grad_fn=<SigmoidBackward>)\n",
      "Handnet forward time: 0.00912022590637207\n",
      "no hand\n",
      "Time for processing 1 frame: 0.009328365325927734s\n",
      "tensor([[0.0004]], device='cuda:0', grad_fn=<SigmoidBackward>)\n",
      "Handnet forward time: 0.010278701782226562\n",
      "no hand\n",
      "Time for processing 1 frame: 0.010508537292480469s\n"
     ]
    },
    {
     "name": "stderr",
     "output_type": "stream",
     "text": [
      "110it [00:13,  8.29it/s]"
     ]
    },
    {
     "name": "stdout",
     "output_type": "stream",
     "text": [
      "tensor([[0.0012]], device='cuda:0', grad_fn=<SigmoidBackward>)\n",
      "Handnet forward time: 0.00958561897277832\n",
      "no hand\n",
      "Time for processing 1 frame: 0.009800195693969727s\n",
      "tensor([[0.0078]], device='cuda:0', grad_fn=<SigmoidBackward>)\n",
      "Handnet forward time: 0.009586811065673828\n",
      "no hand\n",
      "Time for processing 1 frame: 0.009813785552978516s\n"
     ]
    },
    {
     "name": "stderr",
     "output_type": "stream",
     "text": [
      "112it [00:13,  8.28it/s]"
     ]
    },
    {
     "name": "stdout",
     "output_type": "stream",
     "text": [
      "tensor([[0.0350]], device='cuda:0', grad_fn=<SigmoidBackward>)\n",
      "Handnet forward time: 0.009135246276855469\n",
      "no hand\n",
      "Time for processing 1 frame: 0.009351968765258789s\n",
      "tensor([[0.1496]], device='cuda:0', grad_fn=<SigmoidBackward>)\n",
      "Handnet forward time: 0.010256528854370117\n",
      "no hand\n",
      "Time for processing 1 frame: 0.01032400131225586s\n"
     ]
    },
    {
     "name": "stderr",
     "output_type": "stream",
     "text": [
      "\r",
      "113it [00:14,  8.27it/s]"
     ]
    },
    {
     "name": "stdout",
     "output_type": "stream",
     "text": [
      "tensor([[0.5293]], device='cuda:0', grad_fn=<SigmoidBackward>)\n",
      "Handnet forward time: 0.00960397720336914\n",
      "Handsegnet forward time: 0.002019166946411133\n",
      "s shape torch.Size([1, 2, 224, 224])\n",
      "for loop time 0.003599405288696289\n",
      "hand mask sum: 1734.0\n",
      "Calculate single highest scoring object time: 0.034432411193847656\n",
      "Crop and resize time: 0.0013148784637451172\n",
      "Posenet forward time: 0.0044329166412353516\n",
      "Posepriornet forward time: 0.0009336471557617188\n",
      "Viewpoint forward time: 0.0009899139404296875\n",
      "Get normalized 3d coordinates time: 0.0008053779602050781\n",
      "Flip left handed input time: 0.00014066696166992188\n",
      "ScaLe heatmaps time 0.00011157989501953125\n",
      "Time for processing 1 frame: 0.0552065372467041s\n"
     ]
    },
    {
     "name": "stderr",
     "output_type": "stream",
     "text": [
      "\r",
      "114it [00:14,  5.61it/s]"
     ]
    },
    {
     "name": "stdout",
     "output_type": "stream",
     "text": [
      "tensor([[0.5144]], device='cuda:0', grad_fn=<SigmoidBackward>)\n",
      "Handnet forward time: 0.010213375091552734\n",
      "Handsegnet forward time: 0.00101470947265625\n",
      "s shape torch.Size([1, 2, 224, 224])\n",
      "for loop time 0.003552675247192383\n",
      "hand mask sum: 2019.0\n",
      "Calculate single highest scoring object time: 0.0342555046081543\n",
      "Crop and resize time: 0.0011205673217773438\n",
      "Posenet forward time: 0.003430604934692383\n",
      "Posepriornet forward time: 0.0007410049438476562\n",
      "Viewpoint forward time: 0.0009405612945556641\n",
      "Get normalized 3d coordinates time: 0.0005958080291748047\n",
      "Flip left handed input time: 0.00014352798461914062\n",
      "ScaLe heatmaps time 0.0001087188720703125\n",
      "Time for processing 1 frame: 0.053191184997558594s\n"
     ]
    },
    {
     "name": "stderr",
     "output_type": "stream",
     "text": [
      "\r",
      "115it [00:14,  5.06it/s]"
     ]
    },
    {
     "name": "stdout",
     "output_type": "stream",
     "text": [
      "tensor([[0.5597]], device='cuda:0', grad_fn=<SigmoidBackward>)\n",
      "Handnet forward time: 0.008066177368164062\n",
      "Handsegnet forward time: 0.0010654926300048828\n",
      "s shape torch.Size([1, 2, 224, 224])\n",
      "for loop time 0.003294229507446289\n",
      "hand mask sum: 2283.0\n",
      "Calculate single highest scoring object time: 0.03298497200012207\n",
      "Crop and resize time: 0.0009388923645019531\n",
      "Posenet forward time: 0.0020961761474609375\n",
      "Posepriornet forward time: 0.0007579326629638672\n",
      "Viewpoint forward time: 0.0008985996246337891\n",
      "Get normalized 3d coordinates time: 0.0005784034729003906\n",
      "Flip left handed input time: 0.00013208389282226562\n",
      "ScaLe heatmaps time 0.00012063980102539062\n",
      "Time for processing 1 frame: 0.04809308052062988s\n"
     ]
    },
    {
     "name": "stderr",
     "output_type": "stream",
     "text": [
      "\r",
      "116it [00:14,  4.77it/s]"
     ]
    },
    {
     "name": "stdout",
     "output_type": "stream",
     "text": [
      "tensor([[0.7482]], device='cuda:0', grad_fn=<SigmoidBackward>)\n",
      "Handnet forward time: 0.0076751708984375\n",
      "Handsegnet forward time: 0.0009529590606689453\n",
      "s shape torch.Size([1, 2, 224, 224])\n",
      "for loop time 0.0031778812408447266\n",
      "hand mask sum: 2540.0\n",
      "Calculate single highest scoring object time: 0.031167268753051758\n",
      "Crop and resize time: 0.0009722709655761719\n",
      "Posenet forward time: 0.001996755599975586\n",
      "Posepriornet forward time: 0.0007369518280029297\n",
      "Viewpoint forward time: 0.0009386539459228516\n",
      "Get normalized 3d coordinates time: 0.0006091594696044922\n",
      "Flip left handed input time: 0.0001404285430908203\n",
      "ScaLe heatmaps time 0.00010895729064941406\n",
      "Time for processing 1 frame: 0.04589390754699707s\n"
     ]
    },
    {
     "name": "stderr",
     "output_type": "stream",
     "text": [
      "\r",
      "117it [00:15,  4.09it/s]"
     ]
    },
    {
     "name": "stdout",
     "output_type": "stream",
     "text": [
      "tensor([[0.9191]], device='cuda:0', grad_fn=<SigmoidBackward>)\n",
      "Handnet forward time: 0.008212566375732422\n",
      "Handsegnet forward time: 0.001031637191772461\n",
      "s shape torch.Size([1, 2, 224, 224])\n",
      "for loop time 0.003114938735961914\n",
      "hand mask sum: 2789.0\n",
      "Calculate single highest scoring object time: 0.030321359634399414\n",
      "Crop and resize time: 0.0009577274322509766\n",
      "Posenet forward time: 0.0020067691802978516\n",
      "Posepriornet forward time: 0.0007302761077880859\n",
      "Viewpoint forward time: 0.0009760856628417969\n",
      "Get normalized 3d coordinates time: 0.0006101131439208984\n",
      "Flip left handed input time: 0.00013208389282226562\n",
      "ScaLe heatmaps time 0.00010967254638671875\n",
      "Time for processing 1 frame: 0.045713186264038086s\n"
     ]
    },
    {
     "name": "stderr",
     "output_type": "stream",
     "text": [
      "\r",
      "118it [00:15,  4.14it/s]"
     ]
    },
    {
     "name": "stdout",
     "output_type": "stream",
     "text": [
      "tensor([[0.9259]], device='cuda:0', grad_fn=<SigmoidBackward>)\n",
      "Handnet forward time: 0.009019136428833008\n",
      "Handsegnet forward time: 0.0010459423065185547\n",
      "s shape torch.Size([1, 2, 224, 224])\n",
      "for loop time 0.003092050552368164\n",
      "hand mask sum: 2986.0\n",
      "Calculate single highest scoring object time: 0.030535221099853516\n",
      "Crop and resize time: 0.000946044921875\n",
      "Posenet forward time: 0.002031087875366211\n",
      "Posepriornet forward time: 0.0007281303405761719\n",
      "Viewpoint forward time: 0.0009202957153320312\n",
      "Get normalized 3d coordinates time: 0.0006489753723144531\n",
      "Flip left handed input time: 0.00013566017150878906\n",
      "ScaLe heatmaps time 0.0001068115234375\n",
      "Time for processing 1 frame: 0.046741485595703125s\n"
     ]
    },
    {
     "name": "stderr",
     "output_type": "stream",
     "text": [
      "\r",
      "119it [00:15,  4.17it/s]"
     ]
    },
    {
     "name": "stdout",
     "output_type": "stream",
     "text": [
      "tensor([[0.9289]], device='cuda:0', grad_fn=<SigmoidBackward>)\n",
      "Handnet forward time: 0.008721590042114258\n",
      "Handsegnet forward time: 0.0009708404541015625\n",
      "s shape torch.Size([1, 2, 224, 224])\n",
      "for loop time 0.0031309127807617188\n",
      "hand mask sum: 3173.0\n",
      "Calculate single highest scoring object time: 0.03335237503051758\n",
      "Crop and resize time: 0.0009717941284179688\n",
      "Posenet forward time: 0.0019960403442382812\n",
      "Posepriornet forward time: 0.0007503032684326172\n",
      "Viewpoint forward time: 0.0009453296661376953\n",
      "Get normalized 3d coordinates time: 0.0006136894226074219\n",
      "Flip left handed input time: 0.00014543533325195312\n",
      "ScaLe heatmaps time 0.00010800361633300781\n",
      "Time for processing 1 frame: 0.04920506477355957s\n"
     ]
    },
    {
     "name": "stderr",
     "output_type": "stream",
     "text": [
      "\r",
      "120it [00:15,  4.14it/s]"
     ]
    },
    {
     "name": "stdout",
     "output_type": "stream",
     "text": [
      "tensor([[0.9783]], device='cuda:0', grad_fn=<SigmoidBackward>)\n",
      "Handnet forward time: 0.008172035217285156\n",
      "Handsegnet forward time: 0.0010721683502197266\n",
      "s shape torch.Size([1, 2, 224, 224])\n",
      "for loop time 0.003123760223388672\n",
      "hand mask sum: 3345.0\n",
      "Calculate single highest scoring object time: 0.0303347110748291\n",
      "Crop and resize time: 0.0009713172912597656\n",
      "Posenet forward time: 0.0020461082458496094\n",
      "Posepriornet forward time: 0.0007460117340087891\n",
      "Viewpoint forward time: 0.0009486675262451172\n",
      "Get normalized 3d coordinates time: 0.0006058216094970703\n",
      "Flip left handed input time: 0.00013780593872070312\n",
      "ScaLe heatmaps time 3.075599670410156e-05\n",
      "Time for processing 1 frame: 0.04572010040283203s\n"
     ]
    },
    {
     "name": "stderr",
     "output_type": "stream",
     "text": [
      "\r",
      "121it [00:16,  4.18it/s]"
     ]
    },
    {
     "name": "stdout",
     "output_type": "stream",
     "text": [
      "tensor([[0.9956]], device='cuda:0', grad_fn=<SigmoidBackward>)\n",
      "Handnet forward time: 0.009612798690795898\n",
      "Handsegnet forward time: 0.0010569095611572266\n",
      "s shape torch.Size([1, 2, 224, 224])\n",
      "for loop time 0.0029754638671875\n",
      "hand mask sum: 3469.0\n",
      "Calculate single highest scoring object time: 0.03190946578979492\n",
      "Crop and resize time: 0.0009541511535644531\n",
      "Posenet forward time: 0.0020232200622558594\n",
      "Posepriornet forward time: 0.0007102489471435547\n",
      "Viewpoint forward time: 0.0009615421295166016\n",
      "Get normalized 3d coordinates time: 0.0006246566772460938\n",
      "Flip left handed input time: 0.00016546249389648438\n",
      "ScaLe heatmaps time 8.893013000488281e-05\n",
      "Time for processing 1 frame: 0.048781394958496094s\n"
     ]
    },
    {
     "name": "stderr",
     "output_type": "stream",
     "text": [
      "\r",
      "122it [00:16,  4.18it/s]"
     ]
    },
    {
     "name": "stdout",
     "output_type": "stream",
     "text": [
      "tensor([[0.9975]], device='cuda:0', grad_fn=<SigmoidBackward>)\n",
      "Handnet forward time: 0.008284807205200195\n",
      "Handsegnet forward time: 0.0009636878967285156\n",
      "s shape torch.Size([1, 2, 224, 224])\n",
      "for loop time 0.0029768943786621094\n",
      "hand mask sum: 3566.0\n",
      "Calculate single highest scoring object time: 0.031419992446899414\n",
      "Crop and resize time: 0.0009918212890625\n",
      "Posenet forward time: 0.0021932125091552734\n",
      "Posepriornet forward time: 0.0007638931274414062\n",
      "Viewpoint forward time: 0.0009686946868896484\n",
      "Get normalized 3d coordinates time: 0.0006153583526611328\n",
      "Flip left handed input time: 0.00013589859008789062\n",
      "ScaLe heatmaps time 0.00010704994201660156\n",
      "Time for processing 1 frame: 0.04705405235290527s\n"
     ]
    },
    {
     "name": "stderr",
     "output_type": "stream",
     "text": [
      "\r",
      "123it [00:16,  4.18it/s]"
     ]
    },
    {
     "name": "stdout",
     "output_type": "stream",
     "text": [
      "tensor([[0.9987]], device='cuda:0', grad_fn=<SigmoidBackward>)\n",
      "Handnet forward time: 0.008266687393188477\n",
      "Handsegnet forward time: 0.0013434886932373047\n",
      "s shape torch.Size([1, 2, 224, 224])\n",
      "for loop time 0.003580808639526367\n",
      "hand mask sum: 3573.0\n",
      "Calculate single highest scoring object time: 0.03075718879699707\n",
      "Crop and resize time: 0.0011668205261230469\n",
      "Posenet forward time: 0.0020935535430908203\n",
      "Posepriornet forward time: 0.001008749008178711\n",
      "Viewpoint forward time: 0.000978231430053711\n",
      "Get normalized 3d coordinates time: 0.0005936622619628906\n",
      "Flip left handed input time: 0.0001327991485595703\n",
      "ScaLe heatmaps time 0.00010371208190917969\n",
      "Time for processing 1 frame: 0.046912193298339844s\n"
     ]
    },
    {
     "name": "stderr",
     "output_type": "stream",
     "text": [
      "\r",
      "124it [00:16,  4.18it/s]"
     ]
    },
    {
     "name": "stdout",
     "output_type": "stream",
     "text": [
      "tensor([[0.9993]], device='cuda:0', grad_fn=<SigmoidBackward>)\n",
      "Handnet forward time: 0.009127140045166016\n",
      "Handsegnet forward time: 0.0010218620300292969\n",
      "s shape torch.Size([1, 2, 224, 224])\n",
      "for loop time 0.003447294235229492\n",
      "hand mask sum: 3630.0\n",
      "Calculate single highest scoring object time: 0.03210186958312988\n",
      "Crop and resize time: 0.0009598731994628906\n",
      "Posenet forward time: 0.002035856246948242\n",
      "Posepriornet forward time: 0.0007534027099609375\n",
      "Viewpoint forward time: 0.0009765625\n",
      "Get normalized 3d coordinates time: 0.0006136894226074219\n",
      "Flip left handed input time: 0.00013685226440429688\n",
      "ScaLe heatmaps time 0.00010633468627929688\n",
      "Time for processing 1 frame: 0.04846954345703125s\n"
     ]
    },
    {
     "name": "stderr",
     "output_type": "stream",
     "text": [
      "\r",
      "125it [00:17,  4.20it/s]"
     ]
    },
    {
     "name": "stdout",
     "output_type": "stream",
     "text": [
      "tensor([[0.9998]], device='cuda:0', grad_fn=<SigmoidBackward>)\n",
      "Handnet forward time: 0.008321046829223633\n",
      "Handsegnet forward time: 0.001024007797241211\n",
      "s shape torch.Size([1, 2, 224, 224])\n",
      "for loop time 0.0031218528747558594\n",
      "hand mask sum: 3609.0\n",
      "Calculate single highest scoring object time: 0.03125286102294922\n",
      "Crop and resize time: 0.0009648799896240234\n",
      "Posenet forward time: 0.0020720958709716797\n",
      "Posepriornet forward time: 0.0007376670837402344\n",
      "Viewpoint forward time: 0.0009484291076660156\n",
      "Get normalized 3d coordinates time: 0.0006110668182373047\n",
      "Flip left handed input time: 0.0001347064971923828\n",
      "ScaLe heatmaps time 3.0994415283203125e-05\n",
      "Time for processing 1 frame: 0.04672861099243164s\n"
     ]
    },
    {
     "name": "stderr",
     "output_type": "stream",
     "text": [
      "\r",
      "126it [00:17,  4.20it/s]"
     ]
    },
    {
     "name": "stdout",
     "output_type": "stream",
     "text": [
      "tensor([[0.9998]], device='cuda:0', grad_fn=<SigmoidBackward>)\n",
      "Handnet forward time: 0.007582902908325195\n",
      "Handsegnet forward time: 0.0011970996856689453\n",
      "s shape torch.Size([1, 2, 224, 224])\n",
      "for loop time 0.003088235855102539\n",
      "hand mask sum: 3584.0\n",
      "Calculate single highest scoring object time: 0.0319063663482666\n",
      "Crop and resize time: 0.0009489059448242188\n",
      "Posenet forward time: 0.0020525455474853516\n",
      "Posepriornet forward time: 0.000946044921875\n",
      "Viewpoint forward time: 0.0009200572967529297\n",
      "Get normalized 3d coordinates time: 0.0006308555603027344\n",
      "Flip left handed input time: 9.965896606445312e-05\n",
      "ScaLe heatmaps time 6.508827209472656e-05\n",
      "Time for processing 1 frame: 0.04681110382080078s\n"
     ]
    },
    {
     "name": "stderr",
     "output_type": "stream",
     "text": [
      "\r",
      "127it [00:17,  4.21it/s]"
     ]
    },
    {
     "name": "stdout",
     "output_type": "stream",
     "text": [
      "tensor([[0.9998]], device='cuda:0', grad_fn=<SigmoidBackward>)\n",
      "Handnet forward time: 0.008553743362426758\n",
      "Handsegnet forward time: 0.001161336898803711\n",
      "s shape torch.Size([1, 2, 224, 224])\n",
      "for loop time 0.0036001205444335938\n",
      "hand mask sum: 3628.0\n",
      "Calculate single highest scoring object time: 0.031311988830566406\n",
      "Crop and resize time: 0.0009889602661132812\n",
      "Posenet forward time: 0.0020439624786376953\n",
      "Posepriornet forward time: 0.0007634162902832031\n",
      "Viewpoint forward time: 0.00096893310546875\n",
      "Get normalized 3d coordinates time: 0.00061798095703125\n",
      "Flip left handed input time: 0.00013780593872070312\n",
      "ScaLe heatmaps time 0.00010848045349121094\n",
      "Time for processing 1 frame: 0.0471196174621582s\n"
     ]
    },
    {
     "name": "stderr",
     "output_type": "stream",
     "text": [
      "\r",
      "128it [00:17,  4.21it/s]"
     ]
    },
    {
     "name": "stdout",
     "output_type": "stream",
     "text": [
      "tensor([[0.9992]], device='cuda:0', grad_fn=<SigmoidBackward>)\n",
      "Handnet forward time: 0.008543968200683594\n",
      "Handsegnet forward time: 0.0010709762573242188\n",
      "s shape torch.Size([1, 2, 224, 224])\n",
      "for loop time 0.003706693649291992\n",
      "hand mask sum: 3693.0\n",
      "Calculate single highest scoring object time: 0.03225874900817871\n",
      "Crop and resize time: 0.0009708404541015625\n",
      "Posenet forward time: 0.0020062923431396484\n",
      "Posepriornet forward time: 0.0007357597351074219\n",
      "Viewpoint forward time: 0.0009443759918212891\n",
      "Get normalized 3d coordinates time: 0.0006101131439208984\n",
      "Flip left handed input time: 0.00013518333435058594\n",
      "ScaLe heatmaps time 0.00010609626770019531\n",
      "Time for processing 1 frame: 0.04800748825073242s\n"
     ]
    },
    {
     "name": "stderr",
     "output_type": "stream",
     "text": [
      "\r",
      "129it [00:18,  4.21it/s]"
     ]
    },
    {
     "name": "stdout",
     "output_type": "stream",
     "text": [
      "tensor([[0.9999]], device='cuda:0', grad_fn=<SigmoidBackward>)\n",
      "Handnet forward time: 0.008400440216064453\n",
      "Handsegnet forward time: 0.0011074542999267578\n",
      "s shape torch.Size([1, 2, 224, 224])\n",
      "for loop time 0.0036923885345458984\n",
      "hand mask sum: 3682.0\n",
      "Calculate single highest scoring object time: 0.031060457229614258\n",
      "Crop and resize time: 0.001344442367553711\n",
      "Posenet forward time: 0.0021283626556396484\n",
      "Posepriornet forward time: 0.0007665157318115234\n",
      "Viewpoint forward time: 0.0009679794311523438\n",
      "Get normalized 3d coordinates time: 0.0006127357482910156\n",
      "Flip left handed input time: 0.0001366138458251953\n",
      "ScaLe heatmaps time 0.00010848045349121094\n",
      "Time for processing 1 frame: 0.0471193790435791s\n"
     ]
    },
    {
     "name": "stderr",
     "output_type": "stream",
     "text": [
      "\r",
      "130it [00:18,  4.21it/s]"
     ]
    },
    {
     "name": "stdout",
     "output_type": "stream",
     "text": [
      "tensor([[0.9994]], device='cuda:0', grad_fn=<SigmoidBackward>)\n",
      "Handnet forward time: 0.007471561431884766\n",
      "Handsegnet forward time: 0.0009684562683105469\n",
      "s shape torch.Size([1, 2, 224, 224])\n",
      "for loop time 0.003117084503173828\n",
      "hand mask sum: 3697.0\n",
      "Calculate single highest scoring object time: 0.031366586685180664\n",
      "Crop and resize time: 0.0009844303131103516\n",
      "Posenet forward time: 0.002204418182373047\n",
      "Posepriornet forward time: 0.0007574558258056641\n",
      "Viewpoint forward time: 0.0009715557098388672\n",
      "Get normalized 3d coordinates time: 0.0006444454193115234\n",
      "Flip left handed input time: 5.9604644775390625e-05\n",
      "ScaLe heatmaps time 3.528594970703125e-05\n",
      "Time for processing 1 frame: 0.04606366157531738s\n"
     ]
    },
    {
     "name": "stderr",
     "output_type": "stream",
     "text": [
      "\r",
      "131it [00:18,  4.21it/s]"
     ]
    },
    {
     "name": "stdout",
     "output_type": "stream",
     "text": [
      "tensor([[0.9996]], device='cuda:0', grad_fn=<SigmoidBackward>)\n",
      "Handnet forward time: 0.00840306282043457\n",
      "Handsegnet forward time: 0.0013339519500732422\n",
      "s shape torch.Size([1, 2, 224, 224])\n",
      "for loop time 0.0034139156341552734\n",
      "hand mask sum: 3749.0\n",
      "Calculate single highest scoring object time: 0.030701160430908203\n",
      "Crop and resize time: 0.001598358154296875\n",
      "Posenet forward time: 0.0021157264709472656\n",
      "Posepriornet forward time: 0.0007593631744384766\n",
      "Viewpoint forward time: 0.0009696483612060547\n",
      "Get normalized 3d coordinates time: 0.00058746337890625\n",
      "Flip left handed input time: 0.00013589859008789062\n",
      "ScaLe heatmaps time 4.5299530029296875e-05\n",
      "Time for processing 1 frame: 0.04724740982055664s\n"
     ]
    },
    {
     "name": "stderr",
     "output_type": "stream",
     "text": [
      "\r",
      "132it [00:18,  4.21it/s]"
     ]
    },
    {
     "name": "stdout",
     "output_type": "stream",
     "text": [
      "tensor([[0.9998]], device='cuda:0', grad_fn=<SigmoidBackward>)\n",
      "Handnet forward time: 0.009001016616821289\n",
      "Handsegnet forward time: 0.0013356208801269531\n",
      "s shape torch.Size([1, 2, 224, 224])\n",
      "for loop time 0.003190279006958008\n",
      "hand mask sum: 3717.0\n",
      "Calculate single highest scoring object time: 0.031473398208618164\n",
      "Crop and resize time: 0.0009877681732177734\n",
      "Posenet forward time: 0.0020558834075927734\n",
      "Posepriornet forward time: 0.0007519721984863281\n",
      "Viewpoint forward time: 0.0009708404541015625\n",
      "Get normalized 3d coordinates time: 0.0006144046783447266\n",
      "Flip left handed input time: 0.0001380443572998047\n",
      "ScaLe heatmaps time 0.00010395050048828125\n",
      "Time for processing 1 frame: 0.047890424728393555s\n"
     ]
    },
    {
     "name": "stderr",
     "output_type": "stream",
     "text": [
      "\r",
      "133it [00:19,  4.21it/s]"
     ]
    },
    {
     "name": "stdout",
     "output_type": "stream",
     "text": [
      "tensor([[0.9996]], device='cuda:0', grad_fn=<SigmoidBackward>)\n",
      "Handnet forward time: 0.007496833801269531\n",
      "Handsegnet forward time: 0.0009670257568359375\n",
      "s shape torch.Size([1, 2, 224, 224])\n",
      "for loop time 0.003128528594970703\n",
      "hand mask sum: 3692.0\n",
      "Calculate single highest scoring object time: 0.029279470443725586\n",
      "Crop and resize time: 0.0009915828704833984\n",
      "Posenet forward time: 0.0020453929901123047\n",
      "Posepriornet forward time: 0.0007457733154296875\n",
      "Viewpoint forward time: 0.0009629726409912109\n",
      "Get normalized 3d coordinates time: 0.0006301403045654297\n",
      "Flip left handed input time: 0.00013566017150878906\n",
      "ScaLe heatmaps time 9.5367431640625e-05\n",
      "Time for processing 1 frame: 0.043951988220214844s\n"
     ]
    },
    {
     "name": "stderr",
     "output_type": "stream",
     "text": [
      "\r",
      "134it [00:19,  4.22it/s]"
     ]
    },
    {
     "name": "stdout",
     "output_type": "stream",
     "text": [
      "tensor([[0.9999]], device='cuda:0', grad_fn=<SigmoidBackward>)\n",
      "Handnet forward time: 0.007538795471191406\n",
      "Handsegnet forward time: 0.0009796619415283203\n",
      "s shape torch.Size([1, 2, 224, 224])\n",
      "for loop time 0.0030722618103027344\n",
      "hand mask sum: 3698.0\n",
      "Calculate single highest scoring object time: 0.030553817749023438\n",
      "Crop and resize time: 0.001087188720703125\n",
      "Posenet forward time: 0.001982450485229492\n",
      "Posepriornet forward time: 0.0006899833679199219\n",
      "Viewpoint forward time: 0.0009911060333251953\n",
      "Get normalized 3d coordinates time: 0.0006041526794433594\n",
      "Flip left handed input time: 5.6743621826171875e-05\n",
      "ScaLe heatmaps time 3.2901763916015625e-05\n",
      "Time for processing 1 frame: 0.04510807991027832s\n"
     ]
    },
    {
     "name": "stderr",
     "output_type": "stream",
     "text": [
      "\r",
      "135it [00:19,  4.22it/s]"
     ]
    },
    {
     "name": "stdout",
     "output_type": "stream",
     "text": [
      "tensor([[0.9998]], device='cuda:0', grad_fn=<SigmoidBackward>)\n",
      "Handnet forward time: 0.007488250732421875\n",
      "Handsegnet forward time: 0.0009477138519287109\n",
      "s shape torch.Size([1, 2, 224, 224])\n",
      "for loop time 0.002994537353515625\n",
      "hand mask sum: 3691.0\n",
      "Calculate single highest scoring object time: 0.03207206726074219\n",
      "Crop and resize time: 0.001012563705444336\n",
      "Posenet forward time: 0.0021212100982666016\n",
      "Posepriornet forward time: 0.0007951259613037109\n",
      "Viewpoint forward time: 0.0009758472442626953\n",
      "Get normalized 3d coordinates time: 0.0006382465362548828\n",
      "Flip left handed input time: 0.00013494491577148438\n",
      "ScaLe heatmaps time 0.00010800361633300781\n",
      "Time for processing 1 frame: 0.04693746566772461s\n"
     ]
    },
    {
     "name": "stderr",
     "output_type": "stream",
     "text": [
      "\r",
      "136it [00:19,  4.19it/s]"
     ]
    },
    {
     "name": "stdout",
     "output_type": "stream",
     "text": [
      "tensor([[1.0000]], device='cuda:0', grad_fn=<SigmoidBackward>)\n",
      "Handnet forward time: 0.008640289306640625\n",
      "Handsegnet forward time: 0.0011870861053466797\n",
      "s shape torch.Size([1, 2, 224, 224])\n",
      "for loop time 0.0030775070190429688\n",
      "hand mask sum: 3711.0\n",
      "Calculate single highest scoring object time: 0.029452085494995117\n",
      "Crop and resize time: 0.0012094974517822266\n",
      "Posenet forward time: 0.0021295547485351562\n",
      "Posepriornet forward time: 0.0007603168487548828\n",
      "Viewpoint forward time: 0.0009832382202148438\n",
      "Get normalized 3d coordinates time: 0.0006213188171386719\n",
      "Flip left handed input time: 0.0001366138458251953\n",
      "ScaLe heatmaps time 0.00010824203491210938\n",
      "Time for processing 1 frame: 0.045911312103271484s\n"
     ]
    },
    {
     "name": "stderr",
     "output_type": "stream",
     "text": [
      "\r",
      "137it [00:19,  4.21it/s]"
     ]
    },
    {
     "name": "stdout",
     "output_type": "stream",
     "text": [
      "tensor([[1.0000]], device='cuda:0', grad_fn=<SigmoidBackward>)\n",
      "Handnet forward time: 0.00754857063293457\n",
      "Handsegnet forward time: 0.0011310577392578125\n",
      "s shape torch.Size([1, 2, 224, 224])\n",
      "for loop time 0.003026247024536133\n",
      "hand mask sum: 3661.0\n",
      "Calculate single highest scoring object time: 0.03196144104003906\n",
      "Crop and resize time: 0.001009225845336914\n",
      "Posenet forward time: 0.002099752426147461\n",
      "Posepriornet forward time: 0.0007612705230712891\n",
      "Viewpoint forward time: 0.0009672641754150391\n",
      "Get normalized 3d coordinates time: 0.0006153583526611328\n",
      "Flip left handed input time: 0.00012135505676269531\n",
      "ScaLe heatmaps time 0.00010609626770019531\n",
      "Time for processing 1 frame: 0.0468904972076416s\n"
     ]
    },
    {
     "name": "stderr",
     "output_type": "stream",
     "text": [
      "\r",
      "138it [00:20,  4.18it/s]"
     ]
    },
    {
     "name": "stdout",
     "output_type": "stream",
     "text": [
      "tensor([[0.9999]], device='cuda:0', grad_fn=<SigmoidBackward>)\n",
      "Handnet forward time: 0.008957862854003906\n",
      "Handsegnet forward time: 0.0011911392211914062\n",
      "s shape torch.Size([1, 2, 224, 224])\n",
      "for loop time 0.004938364028930664\n",
      "hand mask sum: 3648.0\n",
      "Calculate single highest scoring object time: 0.032362937927246094\n",
      "Crop and resize time: 0.0009999275207519531\n",
      "Posenet forward time: 0.0020558834075927734\n",
      "Posepriornet forward time: 0.0007512569427490234\n",
      "Viewpoint forward time: 0.0009708404541015625\n",
      "Get normalized 3d coordinates time: 0.0006172657012939453\n",
      "Flip left handed input time: 0.00013828277587890625\n",
      "ScaLe heatmaps time 0.00010919570922851562\n",
      "Time for processing 1 frame: 0.04883384704589844s\n"
     ]
    },
    {
     "name": "stderr",
     "output_type": "stream",
     "text": [
      "\r",
      "139it [00:20,  4.16it/s]"
     ]
    },
    {
     "name": "stdout",
     "output_type": "stream",
     "text": [
      "tensor([[0.9999]], device='cuda:0', grad_fn=<SigmoidBackward>)\n",
      "Handnet forward time: 0.007504463195800781\n",
      "Handsegnet forward time: 0.0009737014770507812\n",
      "s shape torch.Size([1, 2, 224, 224])\n",
      "for loop time 0.0031278133392333984\n",
      "hand mask sum: 3663.0\n",
      "Calculate single highest scoring object time: 0.03265213966369629\n",
      "Crop and resize time: 0.0009856224060058594\n",
      "Posenet forward time: 0.002056598663330078\n",
      "Posepriornet forward time: 0.0007519721984863281\n",
      "Viewpoint forward time: 0.001234292984008789\n",
      "Get normalized 3d coordinates time: 0.0009405612945556641\n",
      "Flip left handed input time: 0.0001773834228515625\n",
      "ScaLe heatmaps time 9.34600830078125e-05\n",
      "Time for processing 1 frame: 0.04813790321350098s\n"
     ]
    },
    {
     "name": "stderr",
     "output_type": "stream",
     "text": [
      "\r",
      "140it [00:20,  4.10it/s]"
     ]
    },
    {
     "name": "stdout",
     "output_type": "stream",
     "text": [
      "tensor([[0.9999]], device='cuda:0', grad_fn=<SigmoidBackward>)\n",
      "Handnet forward time: 0.0074748992919921875\n",
      "Handsegnet forward time: 0.0009739398956298828\n",
      "s shape torch.Size([1, 2, 224, 224])\n",
      "for loop time 0.0034356117248535156\n",
      "hand mask sum: 3687.0\n",
      "Calculate single highest scoring object time: 0.03305220603942871\n",
      "Crop and resize time: 0.0010042190551757812\n",
      "Posenet forward time: 0.002694845199584961\n",
      "Posepriornet forward time: 0.0009093284606933594\n",
      "Viewpoint forward time: 0.0009946823120117188\n",
      "Get normalized 3d coordinates time: 0.0006394386291503906\n",
      "Flip left handed input time: 0.00013780593872070312\n",
      "ScaLe heatmaps time 0.00010824203491210938\n",
      "Time for processing 1 frame: 0.04862332344055176s\n"
     ]
    },
    {
     "name": "stderr",
     "output_type": "stream",
     "text": [
      "\r",
      "141it [00:20,  4.05it/s]"
     ]
    },
    {
     "name": "stdout",
     "output_type": "stream",
     "text": [
      "tensor([[0.9999]], device='cuda:0', grad_fn=<SigmoidBackward>)\n",
      "Handnet forward time: 0.007558345794677734\n",
      "Handsegnet forward time: 0.001470804214477539\n",
      "s shape torch.Size([1, 2, 224, 224])\n",
      "for loop time 0.0040013790130615234\n",
      "hand mask sum: 3702.0\n",
      "Calculate single highest scoring object time: 0.03288102149963379\n",
      "Crop and resize time: 0.0011513233184814453\n",
      "Posenet forward time: 0.0020706653594970703\n",
      "Posepriornet forward time: 0.0007612705230712891\n",
      "Viewpoint forward time: 0.0009748935699462891\n",
      "Get normalized 3d coordinates time: 0.0006227493286132812\n",
      "Flip left handed input time: 0.00013756752014160156\n",
      "ScaLe heatmaps time 0.000110626220703125\n",
      "Time for processing 1 frame: 0.048378705978393555s\n"
     ]
    },
    {
     "name": "stderr",
     "output_type": "stream",
     "text": [
      "\r",
      "142it [00:21,  4.08it/s]"
     ]
    },
    {
     "name": "stdout",
     "output_type": "stream",
     "text": [
      "tensor([[0.9999]], device='cuda:0', grad_fn=<SigmoidBackward>)\n",
      "Handnet forward time: 0.007467031478881836\n",
      "Handsegnet forward time: 0.0009660720825195312\n",
      "s shape torch.Size([1, 2, 224, 224])\n",
      "for loop time 0.0030968189239501953\n",
      "hand mask sum: 3698.0\n",
      "Calculate single highest scoring object time: 0.029293537139892578\n",
      "Crop and resize time: 0.0011463165283203125\n",
      "Posenet forward time: 0.0020394325256347656\n",
      "Posepriornet forward time: 0.0007462501525878906\n",
      "Viewpoint forward time: 0.0009598731994628906\n",
      "Get normalized 3d coordinates time: 0.0006134510040283203\n",
      "Flip left handed input time: 6.151199340820312e-05\n",
      "ScaLe heatmaps time 3.528594970703125e-05\n",
      "Time for processing 1 frame: 0.04394102096557617s\n"
     ]
    },
    {
     "name": "stderr",
     "output_type": "stream",
     "text": [
      "\r",
      "143it [00:21,  3.61it/s]"
     ]
    },
    {
     "name": "stdout",
     "output_type": "stream",
     "text": [
      "tensor([[1.0000]], device='cuda:0', grad_fn=<SigmoidBackward>)\n",
      "Handnet forward time: 0.00803685188293457\n",
      "Handsegnet forward time: 0.0010440349578857422\n",
      "s shape torch.Size([1, 2, 224, 224])\n",
      "for loop time 0.003073453903198242\n",
      "hand mask sum: 3710.0\n",
      "Calculate single highest scoring object time: 0.029691219329833984\n",
      "Crop and resize time: 0.000986337661743164\n",
      "Posenet forward time: 0.002033710479736328\n",
      "Posepriornet forward time: 0.0007486343383789062\n",
      "Viewpoint forward time: 0.00096893310546875\n",
      "Get normalized 3d coordinates time: 0.0006122589111328125\n",
      "Flip left handed input time: 0.00013875961303710938\n",
      "ScaLe heatmaps time 0.00010776519775390625\n",
      "Time for processing 1 frame: 0.04501485824584961s\n"
     ]
    },
    {
     "name": "stderr",
     "output_type": "stream",
     "text": [
      "\r",
      "144it [00:21,  3.78it/s]"
     ]
    },
    {
     "name": "stdout",
     "output_type": "stream",
     "text": [
      "tensor([[1.0000]], device='cuda:0', grad_fn=<SigmoidBackward>)\n",
      "Handnet forward time: 0.008221149444580078\n",
      "Handsegnet forward time: 0.001079559326171875\n",
      "s shape torch.Size([1, 2, 224, 224])\n",
      "for loop time 0.0030503273010253906\n",
      "hand mask sum: 3710.0\n",
      "Calculate single highest scoring object time: 0.02945566177368164\n",
      "Crop and resize time: 0.0009684562683105469\n",
      "Posenet forward time: 0.002020597457885742\n",
      "Posepriornet forward time: 0.0007503032684326172\n",
      "Viewpoint forward time: 0.0009686946868896484\n",
      "Get normalized 3d coordinates time: 0.0006146430969238281\n",
      "Flip left handed input time: 5.626678466796875e-05\n",
      "ScaLe heatmaps time 2.86102294921875e-05\n",
      "Time for processing 1 frame: 0.04464006423950195s\n"
     ]
    },
    {
     "name": "stderr",
     "output_type": "stream",
     "text": [
      "\r",
      "145it [00:22,  3.92it/s]"
     ]
    },
    {
     "name": "stdout",
     "output_type": "stream",
     "text": [
      "tensor([[1.0000]], device='cuda:0', grad_fn=<SigmoidBackward>)\n",
      "Handnet forward time: 0.008019685745239258\n",
      "Handsegnet forward time: 0.0010690689086914062\n",
      "s shape torch.Size([1, 2, 224, 224])\n",
      "for loop time 0.0030851364135742188\n",
      "hand mask sum: 3723.0\n",
      "Calculate single highest scoring object time: 0.03018355369567871\n",
      "Crop and resize time: 0.0009653568267822266\n",
      "Posenet forward time: 0.002025604248046875\n",
      "Posepriornet forward time: 0.0007302761077880859\n",
      "Viewpoint forward time: 0.0009090900421142578\n",
      "Get normalized 3d coordinates time: 0.0006513595581054688\n",
      "Flip left handed input time: 5.7220458984375e-05\n",
      "ScaLe heatmaps time 3.2901763916015625e-05\n",
      "Time for processing 1 frame: 0.04542088508605957s\n"
     ]
    },
    {
     "name": "stderr",
     "output_type": "stream",
     "text": [
      "\r",
      "146it [00:22,  4.00it/s]"
     ]
    },
    {
     "name": "stdout",
     "output_type": "stream",
     "text": [
      "tensor([[1.0000]], device='cuda:0', grad_fn=<SigmoidBackward>)\n",
      "Handnet forward time: 0.008742332458496094\n",
      "Handsegnet forward time: 0.0015194416046142578\n",
      "s shape torch.Size([1, 2, 224, 224])\n",
      "for loop time 0.0033745765686035156\n",
      "hand mask sum: 3746.0\n",
      "Calculate single highest scoring object time: 0.02999138832092285\n",
      "Crop and resize time: 0.0010132789611816406\n",
      "Posenet forward time: 0.0020928382873535156\n",
      "Posepriornet forward time: 0.0009512901306152344\n",
      "Viewpoint forward time: 0.00098419189453125\n",
      "Get normalized 3d coordinates time: 0.0005943775177001953\n",
      "Flip left handed input time: 5.650520324707031e-05\n",
      "ScaLe heatmaps time 3.170967102050781e-05\n",
      "Time for processing 1 frame: 0.046449899673461914s\n"
     ]
    },
    {
     "name": "stderr",
     "output_type": "stream",
     "text": [
      "\r",
      "147it [00:22,  4.05it/s]"
     ]
    },
    {
     "name": "stdout",
     "output_type": "stream",
     "text": [
      "tensor([[0.9999]], device='cuda:0', grad_fn=<SigmoidBackward>)\n",
      "Handnet forward time: 0.008638620376586914\n",
      "Handsegnet forward time: 0.0010573863983154297\n",
      "s shape torch.Size([1, 2, 224, 224])\n",
      "for loop time 0.0030901432037353516\n",
      "hand mask sum: 3685.0\n",
      "Calculate single highest scoring object time: 0.029990434646606445\n",
      "Crop and resize time: 0.0009710788726806641\n",
      "Posenet forward time: 0.0020356178283691406\n",
      "Posepriornet forward time: 0.0007538795471191406\n",
      "Viewpoint forward time: 0.0009715557098388672\n",
      "Get normalized 3d coordinates time: 0.0006210803985595703\n",
      "Flip left handed input time: 0.00013875961303710938\n",
      "ScaLe heatmaps time 0.00010919570922851562\n",
      "Time for processing 1 frame: 0.04591822624206543s\n"
     ]
    },
    {
     "name": "stderr",
     "output_type": "stream",
     "text": [
      "\r",
      "148it [00:22,  4.13it/s]"
     ]
    },
    {
     "name": "stdout",
     "output_type": "stream",
     "text": [
      "tensor([[0.9999]], device='cuda:0', grad_fn=<SigmoidBackward>)\n",
      "Handnet forward time: 0.009343624114990234\n",
      "Handsegnet forward time: 0.0010695457458496094\n",
      "s shape torch.Size([1, 2, 224, 224])\n",
      "for loop time 0.003904104232788086\n",
      "hand mask sum: 3675.0\n",
      "Calculate single highest scoring object time: 0.029491424560546875\n",
      "Crop and resize time: 0.0009386539459228516\n",
      "Posenet forward time: 0.002121448516845703\n",
      "Posepriornet forward time: 0.0007336139678955078\n",
      "Viewpoint forward time: 0.0009293556213378906\n",
      "Get normalized 3d coordinates time: 0.0006017684936523438\n",
      "Flip left handed input time: 0.000133514404296875\n",
      "ScaLe heatmaps time 0.0001068115234375\n",
      "Time for processing 1 frame: 0.04611706733703613s\n"
     ]
    },
    {
     "name": "stderr",
     "output_type": "stream",
     "text": [
      "\r",
      "149it [00:22,  4.17it/s]"
     ]
    },
    {
     "name": "stdout",
     "output_type": "stream",
     "text": [
      "tensor([[1.0000]], device='cuda:0', grad_fn=<SigmoidBackward>)\n",
      "Handnet forward time: 0.009426355361938477\n",
      "Handsegnet forward time: 0.0010082721710205078\n",
      "s shape torch.Size([1, 2, 224, 224])\n",
      "for loop time 0.0039017200469970703\n",
      "hand mask sum: 3671.0\n",
      "Calculate single highest scoring object time: 0.02962207794189453\n",
      "Crop and resize time: 0.000993490219116211\n",
      "Posenet forward time: 0.0019500255584716797\n",
      "Posepriornet forward time: 0.0007197856903076172\n",
      "Viewpoint forward time: 0.0009801387786865234\n",
      "Get normalized 3d coordinates time: 0.0006039142608642578\n",
      "Flip left handed input time: 0.0001366138458251953\n",
      "ScaLe heatmaps time 0.00010895729064941406\n",
      "Time for processing 1 frame: 0.046167850494384766s\n"
     ]
    },
    {
     "name": "stderr",
     "output_type": "stream",
     "text": [
      "\r",
      "150it [00:23,  4.20it/s]"
     ]
    },
    {
     "name": "stdout",
     "output_type": "stream",
     "text": [
      "tensor([[1.0000]], device='cuda:0', grad_fn=<SigmoidBackward>)\n",
      "Handnet forward time: 0.009510040283203125\n",
      "Handsegnet forward time: 0.0009999275207519531\n",
      "s shape torch.Size([1, 2, 224, 224])\n",
      "for loop time 0.0030663013458251953\n",
      "hand mask sum: 3683.0\n",
      "Calculate single highest scoring object time: 0.02970576286315918\n",
      "Crop and resize time: 0.0009696483612060547\n",
      "Posenet forward time: 0.0020341873168945312\n",
      "Posepriornet forward time: 0.0007464885711669922\n",
      "Viewpoint forward time: 0.0009598731994628906\n",
      "Get normalized 3d coordinates time: 0.0006105899810791016\n",
      "Flip left handed input time: 0.00013399124145507812\n",
      "ScaLe heatmaps time 0.00010800361633300781\n",
      "Time for processing 1 frame: 0.046399593353271484s\n"
     ]
    },
    {
     "name": "stderr",
     "output_type": "stream",
     "text": [
      "\r",
      "151it [00:23,  4.21it/s]"
     ]
    },
    {
     "name": "stdout",
     "output_type": "stream",
     "text": [
      "tensor([[1.0000]], device='cuda:0', grad_fn=<SigmoidBackward>)\n",
      "Handnet forward time: 0.008740663528442383\n",
      "Handsegnet forward time: 0.001046895980834961\n",
      "s shape torch.Size([1, 2, 224, 224])\n",
      "for loop time 0.0031108856201171875\n",
      "hand mask sum: 3675.0\n",
      "Calculate single highest scoring object time: 0.03213095664978027\n",
      "Crop and resize time: 0.00099945068359375\n",
      "Posenet forward time: 0.002049684524536133\n",
      "Posepriornet forward time: 0.0007576942443847656\n",
      "Viewpoint forward time: 0.0009818077087402344\n",
      "Get normalized 3d coordinates time: 0.0006167888641357422\n",
      "Flip left handed input time: 0.00013518333435058594\n",
      "ScaLe heatmaps time 0.00010895729064941406\n",
      "Time for processing 1 frame: 0.04819774627685547s\n"
     ]
    },
    {
     "name": "stderr",
     "output_type": "stream",
     "text": [
      "\r",
      "152it [00:23,  4.18it/s]"
     ]
    },
    {
     "name": "stdout",
     "output_type": "stream",
     "text": [
      "tensor([[1.0000]], device='cuda:0', grad_fn=<SigmoidBackward>)\n",
      "Handnet forward time: 0.007896900177001953\n",
      "Handsegnet forward time: 0.001294851303100586\n",
      "s shape torch.Size([1, 2, 224, 224])\n",
      "for loop time 0.003080129623413086\n",
      "hand mask sum: 3670.0\n",
      "Calculate single highest scoring object time: 0.028658151626586914\n",
      "Crop and resize time: 0.0009732246398925781\n",
      "Posenet forward time: 0.0021448135375976562\n",
      "Posepriornet forward time: 0.0007586479187011719\n",
      "Viewpoint forward time: 0.0009400844573974609\n",
      "Get normalized 3d coordinates time: 0.0006339550018310547\n",
      "Flip left handed input time: 5.9604644775390625e-05\n",
      "ScaLe heatmaps time 3.337860107421875e-05\n",
      "Time for processing 1 frame: 0.04384636878967285s\n"
     ]
    },
    {
     "name": "stderr",
     "output_type": "stream",
     "text": [
      "\r",
      "153it [00:23,  4.20it/s]"
     ]
    },
    {
     "name": "stdout",
     "output_type": "stream",
     "text": [
      "tensor([[1.0000]], device='cuda:0', grad_fn=<SigmoidBackward>)\n",
      "Handnet forward time: 0.009399652481079102\n",
      "Handsegnet forward time: 0.0010480880737304688\n",
      "s shape torch.Size([1, 2, 224, 224])\n",
      "for loop time 0.004658222198486328\n",
      "hand mask sum: 3640.0\n",
      "Calculate single highest scoring object time: 0.0313105583190918\n",
      "Crop and resize time: 0.0009882450103759766\n",
      "Posenet forward time: 0.002052783966064453\n",
      "Posepriornet forward time: 0.0007605552673339844\n",
      "Viewpoint forward time: 0.0009653568267822266\n",
      "Get normalized 3d coordinates time: 0.00061798095703125\n",
      "Flip left handed input time: 0.00013756752014160156\n",
      "ScaLe heatmaps time 0.00010967254638671875\n",
      "Time for processing 1 frame: 0.048023223876953125s\n"
     ]
    },
    {
     "name": "stderr",
     "output_type": "stream",
     "text": [
      "\r",
      "154it [00:24,  4.20it/s]"
     ]
    },
    {
     "name": "stdout",
     "output_type": "stream",
     "text": [
      "tensor([[1.0000]], device='cuda:0', grad_fn=<SigmoidBackward>)\n",
      "Handnet forward time: 0.00867772102355957\n",
      "Handsegnet forward time: 0.0010852813720703125\n",
      "s shape torch.Size([1, 2, 224, 224])\n",
      "for loop time 0.0034024715423583984\n",
      "hand mask sum: 3632.0\n",
      "Calculate single highest scoring object time: 0.03214573860168457\n",
      "Crop and resize time: 0.001020669937133789\n",
      "Posenet forward time: 0.0020749568939208984\n",
      "Posepriornet forward time: 0.0007522106170654297\n",
      "Viewpoint forward time: 0.0009875297546386719\n",
      "Get normalized 3d coordinates time: 0.0006232261657714844\n",
      "Flip left handed input time: 0.00013637542724609375\n",
      "ScaLe heatmaps time 0.0001087188720703125\n",
      "Time for processing 1 frame: 0.04817819595336914s\n"
     ]
    },
    {
     "name": "stderr",
     "output_type": "stream",
     "text": [
      "\r",
      "155it [00:24,  4.16it/s]"
     ]
    },
    {
     "name": "stdout",
     "output_type": "stream",
     "text": [
      "tensor([[1.0000]], device='cuda:0', grad_fn=<SigmoidBackward>)\n",
      "Handnet forward time: 0.009476423263549805\n",
      "Handsegnet forward time: 0.0010540485382080078\n",
      "s shape torch.Size([1, 2, 224, 224])\n",
      "for loop time 0.003810882568359375\n",
      "hand mask sum: 3650.0\n",
      "Calculate single highest scoring object time: 0.03205442428588867\n",
      "Crop and resize time: 0.0009899139404296875\n",
      "Posenet forward time: 0.002036571502685547\n",
      "Posepriornet forward time: 0.0007526874542236328\n",
      "Viewpoint forward time: 0.001012563705444336\n",
      "Get normalized 3d coordinates time: 0.0006196498870849609\n",
      "Flip left handed input time: 0.00013327598571777344\n",
      "ScaLe heatmaps time 0.00010800361633300781\n",
      "Time for processing 1 frame: 0.048891544342041016s\n"
     ]
    },
    {
     "name": "stderr",
     "output_type": "stream",
     "text": [
      "\r",
      "156it [00:24,  4.10it/s]"
     ]
    },
    {
     "name": "stdout",
     "output_type": "stream",
     "text": [
      "tensor([[1.0000]], device='cuda:0', grad_fn=<SigmoidBackward>)\n",
      "Handnet forward time: 0.009500503540039062\n",
      "Handsegnet forward time: 0.0010535717010498047\n",
      "s shape torch.Size([1, 2, 224, 224])\n",
      "for loop time 0.0029871463775634766\n",
      "hand mask sum: 3646.0\n",
      "Calculate single highest scoring object time: 0.03180193901062012\n",
      "Crop and resize time: 0.0009920597076416016\n",
      "Posenet forward time: 0.0020780563354492188\n",
      "Posepriornet forward time: 0.0007631778717041016\n",
      "Viewpoint forward time: 0.0009682178497314453\n",
      "Get normalized 3d coordinates time: 0.0006351470947265625\n",
      "Flip left handed input time: 0.00013756752014160156\n",
      "ScaLe heatmaps time 0.00010561943054199219\n",
      "Time for processing 1 frame: 0.04871988296508789s\n"
     ]
    },
    {
     "name": "stderr",
     "output_type": "stream",
     "text": [
      "\r",
      "157it [00:24,  4.08it/s]"
     ]
    },
    {
     "name": "stdout",
     "output_type": "stream",
     "text": [
      "tensor([[1.0000]], device='cuda:0', grad_fn=<SigmoidBackward>)\n",
      "Handnet forward time: 0.008077621459960938\n",
      "Handsegnet forward time: 0.0011098384857177734\n",
      "s shape torch.Size([1, 2, 224, 224])\n",
      "for loop time 0.0033235549926757812\n",
      "hand mask sum: 3650.0\n",
      "Calculate single highest scoring object time: 0.029813289642333984\n",
      "Crop and resize time: 0.0009770393371582031\n",
      "Posenet forward time: 0.002045869827270508\n",
      "Posepriornet forward time: 0.0007472038269042969\n",
      "Viewpoint forward time: 0.0009598731994628906\n",
      "Get normalized 3d coordinates time: 0.0006120204925537109\n",
      "Flip left handed input time: 0.0001380443572998047\n",
      "ScaLe heatmaps time 4.410743713378906e-05\n",
      "Time for processing 1 frame: 0.045181989669799805s\n"
     ]
    },
    {
     "name": "stderr",
     "output_type": "stream",
     "text": [
      "\r",
      "158it [00:25,  4.14it/s]"
     ]
    },
    {
     "name": "stdout",
     "output_type": "stream",
     "text": [
      "tensor([[1.0000]], device='cuda:0', grad_fn=<SigmoidBackward>)\n",
      "Handnet forward time: 0.008619546890258789\n",
      "Handsegnet forward time: 0.0010242462158203125\n",
      "s shape torch.Size([1, 2, 224, 224])\n",
      "for loop time 0.003119945526123047\n",
      "hand mask sum: 3646.0\n",
      "Calculate single highest scoring object time: 0.029778003692626953\n",
      "Crop and resize time: 0.0009684562683105469\n",
      "Posenet forward time: 0.002043485641479492\n",
      "Posepriornet forward time: 0.0007379055023193359\n",
      "Viewpoint forward time: 0.0009493827819824219\n",
      "Get normalized 3d coordinates time: 0.0006053447723388672\n",
      "Flip left handed input time: 0.0001342296600341797\n",
      "ScaLe heatmaps time 0.00010418891906738281\n",
      "Time for processing 1 frame: 0.04559946060180664s\n"
     ]
    },
    {
     "name": "stderr",
     "output_type": "stream",
     "text": [
      "\r",
      "159it [00:25,  4.16it/s]"
     ]
    },
    {
     "name": "stdout",
     "output_type": "stream",
     "text": [
      "tensor([[1.0000]], device='cuda:0', grad_fn=<SigmoidBackward>)\n",
      "Handnet forward time: 0.007503986358642578\n",
      "Handsegnet forward time: 0.0009751319885253906\n",
      "s shape torch.Size([1, 2, 224, 224])\n",
      "for loop time 0.0031321048736572266\n",
      "hand mask sum: 3642.0\n",
      "Calculate single highest scoring object time: 0.029840707778930664\n",
      "Crop and resize time: 0.0009829998016357422\n",
      "Posenet forward time: 0.002064228057861328\n",
      "Posepriornet forward time: 0.0007538795471191406\n",
      "Viewpoint forward time: 0.0009734630584716797\n",
      "Get normalized 3d coordinates time: 0.0006175041198730469\n",
      "Flip left handed input time: 0.00013756752014160156\n",
      "ScaLe heatmaps time 0.00010848045349121094\n",
      "Time for processing 1 frame: 0.044565439224243164s\n"
     ]
    },
    {
     "name": "stderr",
     "output_type": "stream",
     "text": [
      "\r",
      "160it [00:25,  4.18it/s]"
     ]
    },
    {
     "name": "stdout",
     "output_type": "stream",
     "text": [
      "tensor([[1.0000]], device='cuda:0', grad_fn=<SigmoidBackward>)\n",
      "Handnet forward time: 0.007477760314941406\n",
      "Handsegnet forward time: 0.0009615421295166016\n",
      "s shape torch.Size([1, 2, 224, 224])\n",
      "for loop time 0.0031058788299560547\n",
      "hand mask sum: 3648.0\n",
      "Calculate single highest scoring object time: 0.030305862426757812\n",
      "Crop and resize time: 0.0009801387786865234\n",
      "Posenet forward time: 0.0020530223846435547\n",
      "Posepriornet forward time: 0.0007495880126953125\n",
      "Viewpoint forward time: 0.0009849071502685547\n",
      "Get normalized 3d coordinates time: 0.0006132125854492188\n",
      "Flip left handed input time: 0.00013518333435058594\n",
      "ScaLe heatmaps time 0.00010824203491210938\n",
      "Time for processing 1 frame: 0.04497671127319336s\n"
     ]
    },
    {
     "name": "stderr",
     "output_type": "stream",
     "text": [
      "\r",
      "161it [00:25,  4.21it/s]"
     ]
    },
    {
     "name": "stdout",
     "output_type": "stream",
     "text": [
      "tensor([[1.0000]], device='cuda:0', grad_fn=<SigmoidBackward>)\n",
      "Handnet forward time: 0.007585763931274414\n",
      "Handsegnet forward time: 0.0012326240539550781\n",
      "s shape torch.Size([1, 2, 224, 224])\n",
      "for loop time 0.0036292076110839844\n",
      "hand mask sum: 3633.0\n",
      "Calculate single highest scoring object time: 0.030667543411254883\n",
      "Crop and resize time: 0.001196146011352539\n",
      "Posenet forward time: 0.0022890567779541016\n",
      "Posepriornet forward time: 0.0007932186126708984\n",
      "Viewpoint forward time: 0.0008916854858398438\n",
      "Get normalized 3d coordinates time: 0.0010423660278320312\n",
      "Flip left handed input time: 0.00013518333435058594\n",
      "ScaLe heatmaps time 0.00010514259338378906\n",
      "Time for processing 1 frame: 0.04654216766357422s\n"
     ]
    },
    {
     "name": "stderr",
     "output_type": "stream",
     "text": [
      "\r",
      "162it [00:26,  4.21it/s]"
     ]
    },
    {
     "name": "stdout",
     "output_type": "stream",
     "text": [
      "tensor([[1.0000]], device='cuda:0', grad_fn=<SigmoidBackward>)\n",
      "Handnet forward time: 0.0077075958251953125\n",
      "Handsegnet forward time: 0.000997304916381836\n",
      "s shape torch.Size([1, 2, 224, 224])\n",
      "for loop time 0.0030565261840820312\n",
      "hand mask sum: 3620.0\n",
      "Calculate single highest scoring object time: 0.029729843139648438\n",
      "Crop and resize time: 0.0009627342224121094\n",
      "Posenet forward time: 0.002134561538696289\n",
      "Posepriornet forward time: 0.0010623931884765625\n",
      "Viewpoint forward time: 0.0009431838989257812\n",
      "Get normalized 3d coordinates time: 0.0006082057952880859\n",
      "Flip left handed input time: 0.00013589859008789062\n",
      "ScaLe heatmaps time 0.00011014938354492188\n",
      "Time for processing 1 frame: 0.04504060745239258s\n"
     ]
    },
    {
     "name": "stderr",
     "output_type": "stream",
     "text": [
      "\r",
      "163it [00:26,  4.18it/s]"
     ]
    },
    {
     "name": "stdout",
     "output_type": "stream",
     "text": [
      "tensor([[1.0000]], device='cuda:0', grad_fn=<SigmoidBackward>)\n",
      "Handnet forward time: 0.007500171661376953\n",
      "Handsegnet forward time: 0.0009529590606689453\n",
      "s shape torch.Size([1, 2, 224, 224])\n",
      "for loop time 0.0030765533447265625\n",
      "hand mask sum: 3611.0\n",
      "Calculate single highest scoring object time: 0.029798269271850586\n",
      "Crop and resize time: 0.0009663105010986328\n",
      "Posenet forward time: 0.0020024776458740234\n",
      "Posepriornet forward time: 0.0007402896881103516\n",
      "Viewpoint forward time: 0.0009403228759765625\n",
      "Get normalized 3d coordinates time: 0.0006067752838134766\n",
      "Flip left handed input time: 0.00013875961303710938\n",
      "ScaLe heatmaps time 0.00010919570922851562\n",
      "Time for processing 1 frame: 0.04434323310852051s\n"
     ]
    },
    {
     "name": "stderr",
     "output_type": "stream",
     "text": [
      "\r",
      "164it [00:26,  4.20it/s]"
     ]
    },
    {
     "name": "stdout",
     "output_type": "stream",
     "text": [
      "tensor([[1.0000]], device='cuda:0', grad_fn=<SigmoidBackward>)\n",
      "Handnet forward time: 0.007611751556396484\n",
      "Handsegnet forward time: 0.001178741455078125\n",
      "s shape torch.Size([1, 2, 224, 224])\n",
      "for loop time 0.0031404495239257812\n",
      "hand mask sum: 3608.0\n",
      "Calculate single highest scoring object time: 0.031640052795410156\n",
      "Crop and resize time: 0.0009377002716064453\n",
      "Posenet forward time: 0.0019445419311523438\n",
      "Posepriornet forward time: 0.0008032321929931641\n",
      "Viewpoint forward time: 0.0011425018310546875\n",
      "Get normalized 3d coordinates time: 0.0008234977722167969\n",
      "Flip left handed input time: 0.00017642974853515625\n",
      "ScaLe heatmaps time 6.151199340820312e-05\n",
      "Time for processing 1 frame: 0.046918392181396484s\n"
     ]
    },
    {
     "name": "stderr",
     "output_type": "stream",
     "text": [
      "\r",
      "165it [00:26,  4.16it/s]"
     ]
    },
    {
     "name": "stdout",
     "output_type": "stream",
     "text": [
      "tensor([[1.0000]], device='cuda:0', grad_fn=<SigmoidBackward>)\n",
      "Handnet forward time: 0.008493900299072266\n",
      "Handsegnet forward time: 0.0010104179382324219\n",
      "s shape torch.Size([1, 2, 224, 224])\n",
      "for loop time 0.0038204193115234375\n",
      "hand mask sum: 3597.0\n",
      "Calculate single highest scoring object time: 0.029187440872192383\n",
      "Crop and resize time: 0.00096893310546875\n",
      "Posenet forward time: 0.001987934112548828\n",
      "Posepriornet forward time: 0.0007455348968505859\n",
      "Viewpoint forward time: 0.0009436607360839844\n",
      "Get normalized 3d coordinates time: 0.000606536865234375\n",
      "Flip left handed input time: 5.793571472167969e-05\n",
      "ScaLe heatmaps time 3.218650817871094e-05\n",
      "Time for processing 1 frame: 0.0446622371673584s\n"
     ]
    },
    {
     "name": "stderr",
     "output_type": "stream",
     "text": [
      "\r",
      "166it [00:27,  4.18it/s]"
     ]
    },
    {
     "name": "stdout",
     "output_type": "stream",
     "text": [
      "tensor([[0.9999]], device='cuda:0', grad_fn=<SigmoidBackward>)\n",
      "Handnet forward time: 0.007921934127807617\n",
      "Handsegnet forward time: 0.0009717941284179688\n",
      "s shape torch.Size([1, 2, 224, 224])\n",
      "for loop time 0.0030815601348876953\n",
      "hand mask sum: 3602.0\n",
      "Calculate single highest scoring object time: 0.03042292594909668\n",
      "Crop and resize time: 0.0009653568267822266\n",
      "Posenet forward time: 0.0020036697387695312\n",
      "Posepriornet forward time: 0.0007419586181640625\n",
      "Viewpoint forward time: 0.0009481906890869141\n",
      "Get normalized 3d coordinates time: 0.0006256103515625\n",
      "Flip left handed input time: 0.0001392364501953125\n",
      "ScaLe heatmaps time 0.00011134147644042969\n",
      "Time for processing 1 frame: 0.04546070098876953s\n"
     ]
    },
    {
     "name": "stderr",
     "output_type": "stream",
     "text": [
      "\r",
      "167it [00:27,  4.19it/s]"
     ]
    },
    {
     "name": "stdout",
     "output_type": "stream",
     "text": [
      "tensor([[1.0000]], device='cuda:0', grad_fn=<SigmoidBackward>)\n",
      "Handnet forward time: 0.008481502532958984\n",
      "Handsegnet forward time: 0.001360177993774414\n",
      "s shape torch.Size([1, 2, 224, 224])\n",
      "for loop time 0.0041942596435546875\n",
      "hand mask sum: 3610.0\n",
      "Calculate single highest scoring object time: 0.03375124931335449\n",
      "Crop and resize time: 0.0013265609741210938\n",
      "Posenet forward time: 0.0031735897064208984\n",
      "Posepriornet forward time: 0.0010156631469726562\n",
      "Viewpoint forward time: 0.0010290145874023438\n",
      "Get normalized 3d coordinates time: 0.0007300376892089844\n",
      "Flip left handed input time: 0.00013637542724609375\n",
      "ScaLe heatmaps time 0.00010633468627929688\n",
      "Time for processing 1 frame: 0.05166506767272949s\n"
     ]
    },
    {
     "name": "stderr",
     "output_type": "stream",
     "text": [
      "\r",
      "168it [00:27,  4.10it/s]"
     ]
    },
    {
     "name": "stdout",
     "output_type": "stream",
     "text": [
      "tensor([[0.9999]], device='cuda:0', grad_fn=<SigmoidBackward>)\n",
      "Handnet forward time: 0.0075647830963134766\n",
      "Handsegnet forward time: 0.0010941028594970703\n",
      "s shape torch.Size([1, 2, 224, 224])\n",
      "for loop time 0.003055572509765625\n",
      "hand mask sum: 3607.0\n",
      "Calculate single highest scoring object time: 0.028794288635253906\n",
      "Crop and resize time: 0.00096893310546875\n",
      "Posenet forward time: 0.002004861831665039\n",
      "Posepriornet forward time: 0.0007474422454833984\n",
      "Viewpoint forward time: 0.0009262561798095703\n",
      "Get normalized 3d coordinates time: 0.0006220340728759766\n",
      "Flip left handed input time: 0.00013685226440429688\n",
      "ScaLe heatmaps time 0.0001087188720703125\n",
      "Time for processing 1 frame: 0.0435335636138916s\n"
     ]
    },
    {
     "name": "stderr",
     "output_type": "stream",
     "text": [
      "\r",
      "169it [00:27,  4.15it/s]"
     ]
    },
    {
     "name": "stdout",
     "output_type": "stream",
     "text": [
      "tensor([[1.0000]], device='cuda:0', grad_fn=<SigmoidBackward>)\n",
      "Handnet forward time: 0.008984565734863281\n",
      "Handsegnet forward time: 0.0011401176452636719\n",
      "s shape torch.Size([1, 2, 224, 224])\n",
      "for loop time 0.004409074783325195\n",
      "hand mask sum: 3609.0\n",
      "Calculate single highest scoring object time: 0.03061389923095703\n",
      "Crop and resize time: 0.0011434555053710938\n",
      "Posenet forward time: 0.002172231674194336\n",
      "Posepriornet forward time: 0.0007352828979492188\n",
      "Viewpoint forward time: 0.0009365081787109375\n",
      "Get normalized 3d coordinates time: 0.0006239414215087891\n",
      "Flip left handed input time: 0.00013399124145507812\n",
      "ScaLe heatmaps time 0.00010561943054199219\n",
      "Time for processing 1 frame: 0.047270774841308594s\n"
     ]
    },
    {
     "name": "stderr",
     "output_type": "stream",
     "text": [
      "\r",
      "170it [00:27,  4.13it/s]"
     ]
    },
    {
     "name": "stdout",
     "output_type": "stream",
     "text": [
      "tensor([[1.0000]], device='cuda:0', grad_fn=<SigmoidBackward>)\n",
      "Handnet forward time: 0.007523775100708008\n",
      "Handsegnet forward time: 0.0016150474548339844\n",
      "s shape torch.Size([1, 2, 224, 224])\n",
      "for loop time 0.0034551620483398438\n",
      "hand mask sum: 3620.0\n",
      "Calculate single highest scoring object time: 0.03232765197753906\n",
      "Crop and resize time: 0.0010371208190917969\n",
      "Posenet forward time: 0.00214385986328125\n",
      "Posepriornet forward time: 0.0007576942443847656\n",
      "Viewpoint forward time: 0.0009548664093017578\n",
      "Get normalized 3d coordinates time: 0.0006239414215087891\n",
      "Flip left handed input time: 0.00013637542724609375\n",
      "ScaLe heatmaps time 0.00010609626770019531\n",
      "Time for processing 1 frame: 0.04792642593383789s\n"
     ]
    },
    {
     "name": "stderr",
     "output_type": "stream",
     "text": [
      "\r",
      "171it [00:28,  4.11it/s]"
     ]
    },
    {
     "name": "stdout",
     "output_type": "stream",
     "text": [
      "tensor([[1.0000]], device='cuda:0', grad_fn=<SigmoidBackward>)\n",
      "Handnet forward time: 0.007486581802368164\n",
      "Handsegnet forward time: 0.0009608268737792969\n",
      "s shape torch.Size([1, 2, 224, 224])\n",
      "for loop time 0.0030896663665771484\n",
      "hand mask sum: 3603.0\n",
      "Calculate single highest scoring object time: 0.033111572265625\n",
      "Crop and resize time: 0.0009913444519042969\n",
      "Posenet forward time: 0.0020186901092529297\n",
      "Posepriornet forward time: 0.0007596015930175781\n",
      "Viewpoint forward time: 0.0010323524475097656\n",
      "Get normalized 3d coordinates time: 0.0006403923034667969\n",
      "Flip left handed input time: 6.008148193359375e-05\n",
      "ScaLe heatmaps time 0.00014829635620117188\n",
      "Time for processing 1 frame: 0.04793739318847656s\n"
     ]
    },
    {
     "name": "stderr",
     "output_type": "stream",
     "text": [
      "\r",
      "172it [00:28,  4.11it/s]"
     ]
    },
    {
     "name": "stdout",
     "output_type": "stream",
     "text": [
      "tensor([[1.0000]], device='cuda:0', grad_fn=<SigmoidBackward>)\n",
      "Handnet forward time: 0.009895086288452148\n",
      "Handsegnet forward time: 0.0010471343994140625\n",
      "s shape torch.Size([1, 2, 224, 224])\n",
      "for loop time 0.0030639171600341797\n",
      "hand mask sum: 3617.0\n",
      "Calculate single highest scoring object time: 0.032045602798461914\n",
      "Crop and resize time: 0.0010001659393310547\n",
      "Posenet forward time: 0.0020172595977783203\n",
      "Posepriornet forward time: 0.0007495880126953125\n",
      "Viewpoint forward time: 0.0009508132934570312\n",
      "Get normalized 3d coordinates time: 0.0006122589111328125\n",
      "Flip left handed input time: 0.0001366138458251953\n",
      "ScaLe heatmaps time 0.00011229515075683594\n",
      "Time for processing 1 frame: 0.04920506477355957s\n"
     ]
    },
    {
     "name": "stderr",
     "output_type": "stream",
     "text": [
      "\r",
      "173it [00:28,  4.11it/s]"
     ]
    },
    {
     "name": "stdout",
     "output_type": "stream",
     "text": [
      "tensor([[1.0000]], device='cuda:0', grad_fn=<SigmoidBackward>)\n",
      "Handnet forward time: 0.007491350173950195\n",
      "Handsegnet forward time: 0.0009713172912597656\n",
      "s shape torch.Size([1, 2, 224, 224])\n",
      "for loop time 0.003075122833251953\n",
      "hand mask sum: 3606.0\n",
      "Calculate single highest scoring object time: 0.02910327911376953\n",
      "Crop and resize time: 0.0009691715240478516\n",
      "Posenet forward time: 0.0020122528076171875\n",
      "Posepriornet forward time: 0.0007379055023193359\n",
      "Viewpoint forward time: 0.0009531974792480469\n",
      "Get normalized 3d coordinates time: 0.0006656646728515625\n",
      "Flip left handed input time: 6.127357482910156e-05\n",
      "ScaLe heatmaps time 3.933906555175781e-05\n",
      "Time for processing 1 frame: 0.043669700622558594s\n"
     ]
    },
    {
     "name": "stderr",
     "output_type": "stream",
     "text": [
      "\r",
      "174it [00:28,  4.15it/s]"
     ]
    },
    {
     "name": "stdout",
     "output_type": "stream",
     "text": [
      "tensor([[1.0000]], device='cuda:0', grad_fn=<SigmoidBackward>)\n",
      "Handnet forward time: 0.008334159851074219\n",
      "Handsegnet forward time: 0.0010340213775634766\n",
      "s shape torch.Size([1, 2, 224, 224])\n",
      "for loop time 0.0030579566955566406\n",
      "hand mask sum: 3608.0\n",
      "Calculate single highest scoring object time: 0.029099702835083008\n",
      "Crop and resize time: 0.0013985633850097656\n",
      "Posenet forward time: 0.0020134449005126953\n",
      "Posepriornet forward time: 0.0007450580596923828\n",
      "Viewpoint forward time: 0.0009603500366210938\n",
      "Get normalized 3d coordinates time: 0.0006115436553955078\n",
      "Flip left handed input time: 0.00014209747314453125\n",
      "ScaLe heatmaps time 0.0001068115234375\n",
      "Time for processing 1 frame: 0.04497075080871582s\n"
     ]
    },
    {
     "name": "stderr",
     "output_type": "stream",
     "text": [
      "\r",
      "175it [00:29,  3.51it/s]"
     ]
    },
    {
     "name": "stdout",
     "output_type": "stream",
     "text": [
      "tensor([[1.0000]], device='cuda:0', grad_fn=<SigmoidBackward>)\n",
      "Handnet forward time: 0.008063077926635742\n",
      "Handsegnet forward time: 0.0010416507720947266\n",
      "s shape torch.Size([1, 2, 224, 224])\n",
      "for loop time 0.0029675960540771484\n",
      "hand mask sum: 3604.0\n",
      "Calculate single highest scoring object time: 0.02962803840637207\n",
      "Crop and resize time: 0.0009655952453613281\n",
      "Posenet forward time: 0.0020148754119873047\n",
      "Posepriornet forward time: 0.0007829666137695312\n",
      "Viewpoint forward time: 0.0009233951568603516\n",
      "Get normalized 3d coordinates time: 0.0006184577941894531\n",
      "Flip left handed input time: 0.00013685226440429688\n",
      "ScaLe heatmaps time 0.00010848045349121094\n",
      "Time for processing 1 frame: 0.04494929313659668s\n"
     ]
    },
    {
     "name": "stderr",
     "output_type": "stream",
     "text": [
      "\r",
      "176it [00:29,  3.70it/s]"
     ]
    },
    {
     "name": "stdout",
     "output_type": "stream",
     "text": [
      "tensor([[1.0000]], device='cuda:0', grad_fn=<SigmoidBackward>)\n",
      "Handnet forward time: 0.008111238479614258\n",
      "Handsegnet forward time: 0.0010504722595214844\n",
      "s shape torch.Size([1, 2, 224, 224])\n",
      "for loop time 0.0030612945556640625\n",
      "hand mask sum: 3600.0\n",
      "Calculate single highest scoring object time: 0.029645204544067383\n",
      "Crop and resize time: 0.0009691715240478516\n",
      "Posenet forward time: 0.0020186901092529297\n",
      "Posepriornet forward time: 0.0007388591766357422\n",
      "Viewpoint forward time: 0.0009508132934570312\n",
      "Get normalized 3d coordinates time: 0.0006091594696044922\n",
      "Flip left handed input time: 5.7220458984375e-05\n",
      "ScaLe heatmaps time 3.218650817871094e-05\n",
      "Time for processing 1 frame: 0.044971466064453125s\n"
     ]
    },
    {
     "name": "stderr",
     "output_type": "stream",
     "text": [
      "\r",
      "177it [00:29,  3.85it/s]"
     ]
    },
    {
     "name": "stdout",
     "output_type": "stream",
     "text": [
      "tensor([[1.0000]], device='cuda:0', grad_fn=<SigmoidBackward>)\n",
      "Handnet forward time: 0.007552146911621094\n",
      "Handsegnet forward time: 0.0009717941284179688\n",
      "s shape torch.Size([1, 2, 224, 224])\n",
      "for loop time 0.0030975341796875\n",
      "hand mask sum: 3595.0\n",
      "Calculate single highest scoring object time: 0.02920985221862793\n",
      "Crop and resize time: 0.0009794235229492188\n",
      "Posenet forward time: 0.002017498016357422\n",
      "Posepriornet forward time: 0.0007429122924804688\n",
      "Viewpoint forward time: 0.0009579658508300781\n",
      "Get normalized 3d coordinates time: 0.0006151199340820312\n",
      "Flip left handed input time: 0.0001308917999267578\n",
      "ScaLe heatmaps time 7.367134094238281e-05\n",
      "Time for processing 1 frame: 0.0438690185546875s\n"
     ]
    },
    {
     "name": "stderr",
     "output_type": "stream",
     "text": [
      "\r",
      "178it [00:30,  3.96it/s]"
     ]
    },
    {
     "name": "stdout",
     "output_type": "stream",
     "text": [
      "tensor([[1.0000]], device='cuda:0', grad_fn=<SigmoidBackward>)\n",
      "Handnet forward time: 0.008194684982299805\n",
      "Handsegnet forward time: 0.0010333061218261719\n",
      "s shape torch.Size([1, 2, 224, 224])\n",
      "for loop time 0.0030770301818847656\n",
      "hand mask sum: 3588.0\n",
      "Calculate single highest scoring object time: 0.030116558074951172\n",
      "Crop and resize time: 0.0009691715240478516\n",
      "Posenet forward time: 0.0020308494567871094\n",
      "Posepriornet forward time: 0.0007469654083251953\n",
      "Viewpoint forward time: 0.0009458065032958984\n",
      "Get normalized 3d coordinates time: 0.0006108283996582031\n",
      "Flip left handed input time: 0.00013899803161621094\n",
      "ScaLe heatmaps time 0.00010919570922851562\n",
      "Time for processing 1 frame: 0.04542279243469238s\n"
     ]
    },
    {
     "name": "stderr",
     "output_type": "stream",
     "text": [
      "\r",
      "179it [00:30,  4.03it/s]"
     ]
    },
    {
     "name": "stdout",
     "output_type": "stream",
     "text": [
      "tensor([[1.0000]], device='cuda:0', grad_fn=<SigmoidBackward>)\n",
      "Handnet forward time: 0.008311033248901367\n",
      "Handsegnet forward time: 0.0012269020080566406\n",
      "s shape torch.Size([1, 2, 224, 224])\n",
      "for loop time 0.0030622482299804688\n",
      "hand mask sum: 3578.0\n",
      "Calculate single highest scoring object time: 0.029233932495117188\n",
      "Crop and resize time: 0.0013604164123535156\n",
      "Posenet forward time: 0.0020074844360351562\n",
      "Posepriornet forward time: 0.0007529258728027344\n",
      "Viewpoint forward time: 0.0009486675262451172\n",
      "Get normalized 3d coordinates time: 0.0006089210510253906\n",
      "Flip left handed input time: 0.0001232624053955078\n",
      "ScaLe heatmaps time 4.076957702636719e-05\n",
      "Time for processing 1 frame: 0.045053720474243164s\n"
     ]
    },
    {
     "name": "stderr",
     "output_type": "stream",
     "text": [
      "\r",
      "180it [00:30,  4.09it/s]"
     ]
    },
    {
     "name": "stdout",
     "output_type": "stream",
     "text": [
      "tensor([[1.0000]], device='cuda:0', grad_fn=<SigmoidBackward>)\n",
      "Handnet forward time: 0.00850224494934082\n",
      "Handsegnet forward time: 0.0010349750518798828\n",
      "s shape torch.Size([1, 2, 224, 224])\n",
      "for loop time 0.003428936004638672\n",
      "hand mask sum: 3575.0\n",
      "Calculate single highest scoring object time: 0.029624223709106445\n",
      "Crop and resize time: 0.0010454654693603516\n",
      "Posenet forward time: 0.0020470619201660156\n",
      "Posepriornet forward time: 0.0007376670837402344\n",
      "Viewpoint forward time: 0.0009610652923583984\n",
      "Get normalized 3d coordinates time: 0.0005822181701660156\n",
      "Flip left handed input time: 0.00010538101196289062\n",
      "ScaLe heatmaps time 7.390975952148438e-05\n",
      "Time for processing 1 frame: 0.04536890983581543s\n"
     ]
    },
    {
     "name": "stderr",
     "output_type": "stream",
     "text": [
      "\r",
      "181it [00:30,  4.14it/s]"
     ]
    },
    {
     "name": "stdout",
     "output_type": "stream",
     "text": [
      "tensor([[1.0000]], device='cuda:0', grad_fn=<SigmoidBackward>)\n",
      "Handnet forward time: 0.008539199829101562\n",
      "Handsegnet forward time: 0.0010488033294677734\n",
      "s shape torch.Size([1, 2, 224, 224])\n",
      "for loop time 0.0031423568725585938\n",
      "hand mask sum: 3548.0\n",
      "Calculate single highest scoring object time: 0.02884387969970703\n",
      "Crop and resize time: 0.0016016960144042969\n",
      "Posenet forward time: 0.0020346641540527344\n",
      "Posepriornet forward time: 0.0007383823394775391\n",
      "Viewpoint forward time: 0.000942230224609375\n",
      "Get normalized 3d coordinates time: 0.000614166259765625\n",
      "Flip left handed input time: 0.00014328956604003906\n",
      "ScaLe heatmaps time 0.00011014938354492188\n",
      "Time for processing 1 frame: 0.045258283615112305s\n"
     ]
    },
    {
     "name": "stderr",
     "output_type": "stream",
     "text": [
      "\r",
      "182it [00:31,  4.17it/s]"
     ]
    },
    {
     "name": "stdout",
     "output_type": "stream",
     "text": [
      "tensor([[1.0000]], device='cuda:0', grad_fn=<SigmoidBackward>)\n",
      "Handnet forward time: 0.008698463439941406\n",
      "Handsegnet forward time: 0.0010426044464111328\n",
      "s shape torch.Size([1, 2, 224, 224])\n",
      "for loop time 0.0038208961486816406\n",
      "hand mask sum: 3556.0\n",
      "Calculate single highest scoring object time: 0.029664278030395508\n",
      "Crop and resize time: 0.0009453296661376953\n",
      "Posenet forward time: 0.001998424530029297\n",
      "Posepriornet forward time: 0.0007379055023193359\n",
      "Viewpoint forward time: 0.0009477138519287109\n",
      "Get normalized 3d coordinates time: 0.0006144046783447266\n",
      "Flip left handed input time: 0.0001366138458251953\n",
      "ScaLe heatmaps time 0.00010824203491210938\n",
      "Time for processing 1 frame: 0.04552602767944336s\n"
     ]
    },
    {
     "name": "stderr",
     "output_type": "stream",
     "text": [
      "\r",
      "183it [00:31,  4.17it/s]"
     ]
    },
    {
     "name": "stdout",
     "output_type": "stream",
     "text": [
      "tensor([[0.9999]], device='cuda:0', grad_fn=<SigmoidBackward>)\n",
      "Handnet forward time: 0.0075490474700927734\n",
      "Handsegnet forward time: 0.0009505748748779297\n",
      "s shape torch.Size([1, 2, 224, 224])\n",
      "for loop time 0.0031065940856933594\n",
      "hand mask sum: 3540.0\n",
      "Calculate single highest scoring object time: 0.030068635940551758\n",
      "Crop and resize time: 0.000972747802734375\n",
      "Posenet forward time: 0.0020248889923095703\n",
      "Posepriornet forward time: 0.0007402896881103516\n",
      "Viewpoint forward time: 0.0009450912475585938\n",
      "Get normalized 3d coordinates time: 0.0006067752838134766\n",
      "Flip left handed input time: 0.00013327598571777344\n",
      "ScaLe heatmaps time 9.679794311523438e-05\n",
      "Time for processing 1 frame: 0.04468584060668945s\n"
     ]
    },
    {
     "name": "stderr",
     "output_type": "stream",
     "text": [
      "\r",
      "184it [00:31,  4.17it/s]"
     ]
    },
    {
     "name": "stdout",
     "output_type": "stream",
     "text": [
      "tensor([[0.9999]], device='cuda:0', grad_fn=<SigmoidBackward>)\n",
      "Handnet forward time: 0.008701801300048828\n",
      "Handsegnet forward time: 0.001039266586303711\n",
      "s shape torch.Size([1, 2, 224, 224])\n",
      "for loop time 0.0035905838012695312\n",
      "hand mask sum: 3491.0\n",
      "Calculate single highest scoring object time: 0.031610727310180664\n",
      "Crop and resize time: 0.00095367431640625\n",
      "Posenet forward time: 0.0019867420196533203\n",
      "Posepriornet forward time: 0.0007479190826416016\n",
      "Viewpoint forward time: 0.0009551048278808594\n",
      "Get normalized 3d coordinates time: 0.0006139278411865234\n",
      "Flip left handed input time: 5.888938903808594e-05\n",
      "ScaLe heatmaps time 3.266334533691406e-05\n",
      "Time for processing 1 frame: 0.04733753204345703s\n"
     ]
    },
    {
     "name": "stderr",
     "output_type": "stream",
     "text": [
      "\r",
      "185it [00:31,  4.16it/s]"
     ]
    },
    {
     "name": "stdout",
     "output_type": "stream",
     "text": [
      "tensor([[0.9999]], device='cuda:0', grad_fn=<SigmoidBackward>)\n",
      "Handnet forward time: 0.007609844207763672\n",
      "Handsegnet forward time: 0.0010325908660888672\n",
      "s shape torch.Size([1, 2, 224, 224])\n",
      "for loop time 0.003127574920654297\n",
      "hand mask sum: 3492.0\n",
      "Calculate single highest scoring object time: 0.030864953994750977\n",
      "Crop and resize time: 0.0009732246398925781\n",
      "Posenet forward time: 0.0020036697387695312\n",
      "Posepriornet forward time: 0.0007457733154296875\n",
      "Viewpoint forward time: 0.0009527206420898438\n",
      "Get normalized 3d coordinates time: 0.0006079673767089844\n",
      "Flip left handed input time: 5.5789947509765625e-05\n",
      "ScaLe heatmaps time 3.0994415283203125e-05\n",
      "Time for processing 1 frame: 0.04541802406311035s\n"
     ]
    },
    {
     "name": "stderr",
     "output_type": "stream",
     "text": [
      "\r",
      "186it [00:31,  4.18it/s]"
     ]
    },
    {
     "name": "stdout",
     "output_type": "stream",
     "text": [
      "tensor([[0.9999]], device='cuda:0', grad_fn=<SigmoidBackward>)\n",
      "Handnet forward time: 0.00837087631225586\n",
      "Handsegnet forward time: 0.0010344982147216797\n",
      "s shape torch.Size([1, 2, 224, 224])\n",
      "for loop time 0.00305938720703125\n",
      "hand mask sum: 3481.0\n",
      "Calculate single highest scoring object time: 0.030472517013549805\n",
      "Crop and resize time: 0.0009694099426269531\n",
      "Posenet forward time: 0.002000570297241211\n",
      "Posepriornet forward time: 0.0007741451263427734\n",
      "Viewpoint forward time: 0.0009503364562988281\n",
      "Get normalized 3d coordinates time: 0.0006110668182373047\n",
      "Flip left handed input time: 0.0001385211944580078\n",
      "ScaLe heatmaps time 0.00010824203491210938\n",
      "Time for processing 1 frame: 0.04605507850646973s\n"
     ]
    },
    {
     "name": "stderr",
     "output_type": "stream",
     "text": [
      "\r",
      "187it [00:32,  4.13it/s]"
     ]
    },
    {
     "name": "stdout",
     "output_type": "stream",
     "text": [
      "tensor([[0.9999]], device='cuda:0', grad_fn=<SigmoidBackward>)\n",
      "Handnet forward time: 0.007680177688598633\n",
      "Handsegnet forward time: 0.0010461807250976562\n",
      "s shape torch.Size([1, 2, 224, 224])\n",
      "for loop time 0.003091573715209961\n",
      "hand mask sum: 3474.0\n",
      "Calculate single highest scoring object time: 0.03267717361450195\n",
      "Crop and resize time: 0.0009725093841552734\n",
      "Posenet forward time: 0.002010345458984375\n",
      "Posepriornet forward time: 0.0007526874542236328\n",
      "Viewpoint forward time: 0.0009653568267822266\n",
      "Get normalized 3d coordinates time: 0.0006663799285888672\n",
      "Flip left handed input time: 0.00013685226440429688\n",
      "ScaLe heatmaps time 0.00010704994201660156\n",
      "Time for processing 1 frame: 0.04767799377441406s\n"
     ]
    },
    {
     "name": "stderr",
     "output_type": "stream",
     "text": [
      "\r",
      "188it [00:32,  4.16it/s]"
     ]
    },
    {
     "name": "stdout",
     "output_type": "stream",
     "text": [
      "tensor([[0.9999]], device='cuda:0', grad_fn=<SigmoidBackward>)\n",
      "Handnet forward time: 0.008191585540771484\n",
      "Handsegnet forward time: 0.001093149185180664\n",
      "s shape torch.Size([1, 2, 224, 224])\n",
      "for loop time 0.003112316131591797\n",
      "hand mask sum: 3476.0\n",
      "Calculate single highest scoring object time: 0.02864813804626465\n",
      "Crop and resize time: 0.0009610652923583984\n",
      "Posenet forward time: 0.0019741058349609375\n",
      "Posepriornet forward time: 0.0008032321929931641\n",
      "Viewpoint forward time: 0.0009322166442871094\n",
      "Get normalized 3d coordinates time: 0.0006024837493896484\n",
      "Flip left handed input time: 0.00017523765563964844\n",
      "ScaLe heatmaps time 4.76837158203125e-05\n",
      "Time for processing 1 frame: 0.04413890838623047s\n"
     ]
    },
    {
     "name": "stderr",
     "output_type": "stream",
     "text": [
      "\r",
      "189it [00:32,  4.18it/s]"
     ]
    },
    {
     "name": "stdout",
     "output_type": "stream",
     "text": [
      "tensor([[0.9999]], device='cuda:0', grad_fn=<SigmoidBackward>)\n",
      "Handnet forward time: 0.00864100456237793\n",
      "Handsegnet forward time: 0.0010981559753417969\n",
      "s shape torch.Size([1, 2, 224, 224])\n",
      "for loop time 0.0030870437622070312\n",
      "hand mask sum: 3450.0\n",
      "Calculate single highest scoring object time: 0.028699636459350586\n",
      "Crop and resize time: 0.0016181468963623047\n",
      "Posenet forward time: 0.0020372867584228516\n",
      "Posepriornet forward time: 0.00075531005859375\n",
      "Viewpoint forward time: 0.0009238719940185547\n",
      "Get normalized 3d coordinates time: 0.0006227493286132812\n",
      "Flip left handed input time: 0.0001366138458251953\n",
      "ScaLe heatmaps time 0.0001087188720703125\n",
      "Time for processing 1 frame: 0.04509782791137695s\n"
     ]
    },
    {
     "name": "stderr",
     "output_type": "stream",
     "text": [
      "\r",
      "190it [00:32,  4.19it/s]"
     ]
    },
    {
     "name": "stdout",
     "output_type": "stream",
     "text": [
      "tensor([[0.9999]], device='cuda:0', grad_fn=<SigmoidBackward>)\n",
      "Handnet forward time: 0.0086212158203125\n",
      "Handsegnet forward time: 0.0009663105010986328\n",
      "s shape torch.Size([1, 2, 224, 224])\n",
      "for loop time 0.0031032562255859375\n",
      "hand mask sum: 3436.0\n",
      "Calculate single highest scoring object time: 0.031203269958496094\n",
      "Crop and resize time: 0.0009701251983642578\n",
      "Posenet forward time: 0.0020208358764648438\n",
      "Posepriornet forward time: 0.0007393360137939453\n",
      "Viewpoint forward time: 0.000946044921875\n",
      "Get normalized 3d coordinates time: 0.0006098747253417969\n",
      "Flip left handed input time: 5.7697296142578125e-05\n",
      "ScaLe heatmaps time 3.361701965332031e-05\n",
      "Time for processing 1 frame: 0.0467839241027832s\n"
     ]
    },
    {
     "name": "stderr",
     "output_type": "stream",
     "text": [
      "\r",
      "191it [00:33,  4.13it/s]"
     ]
    },
    {
     "name": "stdout",
     "output_type": "stream",
     "text": [
      "tensor([[0.9999]], device='cuda:0', grad_fn=<SigmoidBackward>)\n",
      "Handnet forward time: 0.00800180435180664\n",
      "Handsegnet forward time: 0.0013370513916015625\n",
      "s shape torch.Size([1, 2, 224, 224])\n",
      "for loop time 0.0031142234802246094\n",
      "hand mask sum: 3430.0\n",
      "Calculate single highest scoring object time: 0.03261518478393555\n",
      "Crop and resize time: 0.0010170936584472656\n",
      "Posenet forward time: 0.0021817684173583984\n",
      "Posepriornet forward time: 0.0007765293121337891\n",
      "Viewpoint forward time: 0.0009667873382568359\n",
      "Get normalized 3d coordinates time: 0.0006268024444580078\n",
      "Flip left handed input time: 0.00013566017150878906\n",
      "ScaLe heatmaps time 0.00010752677917480469\n",
      "Time for processing 1 frame: 0.04858970642089844s\n"
     ]
    },
    {
     "name": "stderr",
     "output_type": "stream",
     "text": [
      "\r",
      "192it [00:33,  4.09it/s]"
     ]
    },
    {
     "name": "stdout",
     "output_type": "stream",
     "text": [
      "tensor([[1.0000]], device='cuda:0', grad_fn=<SigmoidBackward>)\n",
      "Handnet forward time: 0.008486032485961914\n",
      "Handsegnet forward time: 0.001032114028930664\n",
      "s shape torch.Size([1, 2, 224, 224])\n",
      "for loop time 0.0031309127807617188\n",
      "hand mask sum: 3388.0\n",
      "Calculate single highest scoring object time: 0.029872655868530273\n",
      "Crop and resize time: 0.000982046127319336\n",
      "Posenet forward time: 0.002010345458984375\n",
      "Posepriornet forward time: 0.0007467269897460938\n",
      "Viewpoint forward time: 0.0009641647338867188\n",
      "Get normalized 3d coordinates time: 0.0006642341613769531\n",
      "Flip left handed input time: 0.00015497207641601562\n",
      "ScaLe heatmaps time 0.00010275840759277344\n",
      "Time for processing 1 frame: 0.04567265510559082s\n"
     ]
    },
    {
     "name": "stderr",
     "output_type": "stream",
     "text": [
      "\r",
      "193it [00:33,  4.11it/s]"
     ]
    },
    {
     "name": "stdout",
     "output_type": "stream",
     "text": [
      "tensor([[1.0000]], device='cuda:0', grad_fn=<SigmoidBackward>)\n",
      "Handnet forward time: 0.007541656494140625\n",
      "Handsegnet forward time: 0.0009493827819824219\n",
      "s shape torch.Size([1, 2, 224, 224])\n",
      "for loop time 0.002972841262817383\n",
      "hand mask sum: 3389.0\n",
      "Calculate single highest scoring object time: 0.030559062957763672\n",
      "Crop and resize time: 0.0009970664978027344\n",
      "Posenet forward time: 0.002004861831665039\n",
      "Posepriornet forward time: 0.0007383823394775391\n",
      "Viewpoint forward time: 0.0009839534759521484\n",
      "Get normalized 3d coordinates time: 0.0006163120269775391\n",
      "Flip left handed input time: 0.0001366138458251953\n",
      "ScaLe heatmaps time 0.00010728836059570312\n",
      "Time for processing 1 frame: 0.04525351524353027s\n"
     ]
    },
    {
     "name": "stderr",
     "output_type": "stream",
     "text": [
      "\r",
      "194it [00:33,  4.14it/s]"
     ]
    },
    {
     "name": "stdout",
     "output_type": "stream",
     "text": [
      "tensor([[1.0000]], device='cuda:0', grad_fn=<SigmoidBackward>)\n",
      "Handnet forward time: 0.008405923843383789\n",
      "Handsegnet forward time: 0.0011568069458007812\n",
      "s shape torch.Size([1, 2, 224, 224])\n",
      "for loop time 0.00307464599609375\n",
      "hand mask sum: 3351.0\n",
      "Calculate single highest scoring object time: 0.029453754425048828\n",
      "Crop and resize time: 0.000993490219116211\n",
      "Posenet forward time: 0.0020477771759033203\n",
      "Posepriornet forward time: 0.0007641315460205078\n",
      "Viewpoint forward time: 0.0009598731994628906\n",
      "Get normalized 3d coordinates time: 0.0006105899810791016\n",
      "Flip left handed input time: 0.0001404285430908203\n",
      "ScaLe heatmaps time 0.00011086463928222656\n",
      "Time for processing 1 frame: 0.04514050483703613s\n"
     ]
    },
    {
     "name": "stderr",
     "output_type": "stream",
     "text": [
      "\r",
      "195it [00:34,  4.18it/s]"
     ]
    },
    {
     "name": "stdout",
     "output_type": "stream",
     "text": [
      "tensor([[1.0000]], device='cuda:0', grad_fn=<SigmoidBackward>)\n",
      "Handnet forward time: 0.008189201354980469\n",
      "Handsegnet forward time: 0.001371145248413086\n",
      "s shape torch.Size([1, 2, 224, 224])\n",
      "for loop time 0.003001689910888672\n",
      "hand mask sum: 3352.0\n",
      "Calculate single highest scoring object time: 0.029232025146484375\n",
      "Crop and resize time: 0.0010366439819335938\n",
      "Posenet forward time: 0.0019443035125732422\n",
      "Posepriornet forward time: 0.0007123947143554688\n",
      "Viewpoint forward time: 0.0009160041809082031\n",
      "Get normalized 3d coordinates time: 0.0005810260772705078\n",
      "Flip left handed input time: 0.0001347064971923828\n",
      "ScaLe heatmaps time 0.00010538101196289062\n",
      "Time for processing 1 frame: 0.04470205307006836s\n"
     ]
    },
    {
     "name": "stderr",
     "output_type": "stream",
     "text": [
      "\r",
      "196it [00:34,  4.20it/s]"
     ]
    },
    {
     "name": "stdout",
     "output_type": "stream",
     "text": [
      "tensor([[1.0000]], device='cuda:0', grad_fn=<SigmoidBackward>)\n",
      "Handnet forward time: 0.008579730987548828\n",
      "Handsegnet forward time: 0.0010383129119873047\n",
      "s shape torch.Size([1, 2, 224, 224])\n",
      "for loop time 0.003296375274658203\n",
      "hand mask sum: 3356.0\n",
      "Calculate single highest scoring object time: 0.03042316436767578\n",
      "Crop and resize time: 0.0009703636169433594\n",
      "Posenet forward time: 0.0020084381103515625\n",
      "Posepriornet forward time: 0.0007436275482177734\n",
      "Viewpoint forward time: 0.0009670257568359375\n",
      "Get normalized 3d coordinates time: 0.0006120204925537109\n",
      "Flip left handed input time: 0.0001373291015625\n",
      "ScaLe heatmaps time 0.00010704994201660156\n",
      "Time for processing 1 frame: 0.046228885650634766s\n"
     ]
    },
    {
     "name": "stderr",
     "output_type": "stream",
     "text": [
      "\r",
      "197it [00:34,  4.19it/s]"
     ]
    },
    {
     "name": "stdout",
     "output_type": "stream",
     "text": [
      "tensor([[1.0000]], device='cuda:0', grad_fn=<SigmoidBackward>)\n",
      "Handnet forward time: 0.0076749324798583984\n",
      "Handsegnet forward time: 0.0010464191436767578\n",
      "s shape torch.Size([1, 2, 224, 224])\n",
      "for loop time 0.0035676956176757812\n",
      "hand mask sum: 3359.0\n",
      "Calculate single highest scoring object time: 0.029771089553833008\n",
      "Crop and resize time: 0.0010204315185546875\n",
      "Posenet forward time: 0.0020322799682617188\n",
      "Posepriornet forward time: 0.0007467269897460938\n",
      "Viewpoint forward time: 0.0009899139404296875\n",
      "Get normalized 3d coordinates time: 0.0006699562072753906\n",
      "Flip left handed input time: 0.0001590251922607422\n",
      "ScaLe heatmaps time 0.00011968612670898438\n",
      "Time for processing 1 frame: 0.044936418533325195s\n"
     ]
    },
    {
     "name": "stderr",
     "output_type": "stream",
     "text": [
      "\r",
      "198it [00:34,  4.18it/s]"
     ]
    },
    {
     "name": "stdout",
     "output_type": "stream",
     "text": [
      "tensor([[1.0000]], device='cuda:0', grad_fn=<SigmoidBackward>)\n",
      "Handnet forward time: 0.007972478866577148\n",
      "Handsegnet forward time: 0.0010035037994384766\n",
      "s shape torch.Size([1, 2, 224, 224])\n",
      "for loop time 0.0030715465545654297\n",
      "hand mask sum: 3332.0\n",
      "Calculate single highest scoring object time: 0.029803752899169922\n",
      "Crop and resize time: 0.0013246536254882812\n",
      "Posenet forward time: 0.002033233642578125\n",
      "Posepriornet forward time: 0.0007452964782714844\n",
      "Viewpoint forward time: 0.0009512901306152344\n",
      "Get normalized 3d coordinates time: 0.0006175041198730469\n",
      "Flip left handed input time: 0.00013828277587890625\n",
      "ScaLe heatmaps time 0.0001087188720703125\n",
      "Time for processing 1 frame: 0.0453188419342041s\n"
     ]
    },
    {
     "name": "stderr",
     "output_type": "stream",
     "text": [
      "\r",
      "199it [00:35,  4.21it/s]"
     ]
    },
    {
     "name": "stdout",
     "output_type": "stream",
     "text": [
      "tensor([[1.0000]], device='cuda:0', grad_fn=<SigmoidBackward>)\n",
      "Handnet forward time: 0.008378982543945312\n",
      "Handsegnet forward time: 0.0010132789611816406\n",
      "s shape torch.Size([1, 2, 224, 224])\n",
      "for loop time 0.003062009811401367\n",
      "hand mask sum: 3312.0\n",
      "Calculate single highest scoring object time: 0.02868819236755371\n",
      "Crop and resize time: 0.000982522964477539\n",
      "Posenet forward time: 0.0020236968994140625\n",
      "Posepriornet forward time: 0.0007801055908203125\n",
      "Viewpoint forward time: 0.0009799003601074219\n",
      "Get normalized 3d coordinates time: 0.0006413459777832031\n",
      "Flip left handed input time: 0.00013637542724609375\n",
      "ScaLe heatmaps time 0.00011157989501953125\n",
      "Time for processing 1 frame: 0.044417381286621094s\n"
     ]
    },
    {
     "name": "stderr",
     "output_type": "stream",
     "text": [
      "\r",
      "200it [00:35,  4.20it/s]"
     ]
    },
    {
     "name": "stdout",
     "output_type": "stream",
     "text": [
      "tensor([[1.0000]], device='cuda:0', grad_fn=<SigmoidBackward>)\n",
      "Handnet forward time: 0.007580757141113281\n",
      "Handsegnet forward time: 0.0011522769927978516\n",
      "s shape torch.Size([1, 2, 224, 224])\n",
      "for loop time 0.003859281539916992\n",
      "hand mask sum: 3324.0\n",
      "Calculate single highest scoring object time: 0.029891252517700195\n",
      "Crop and resize time: 0.0009834766387939453\n",
      "Posenet forward time: 0.002043485641479492\n",
      "Posepriornet forward time: 0.0007379055023193359\n",
      "Viewpoint forward time: 0.0009553432464599609\n",
      "Get normalized 3d coordinates time: 0.0006339550018310547\n",
      "Flip left handed input time: 0.00013875961303710938\n",
      "ScaLe heatmaps time 0.00011110305786132812\n",
      "Time for processing 1 frame: 0.044673919677734375s\n"
     ]
    },
    {
     "name": "stderr",
     "output_type": "stream",
     "text": [
      "\r",
      "201it [00:35,  4.23it/s]"
     ]
    },
    {
     "name": "stdout",
     "output_type": "stream",
     "text": [
      "tensor([[1.0000]], device='cuda:0', grad_fn=<SigmoidBackward>)\n",
      "Handnet forward time: 0.007575035095214844\n",
      "Handsegnet forward time: 0.0009565353393554688\n",
      "s shape torch.Size([1, 2, 224, 224])\n",
      "for loop time 0.003916025161743164\n",
      "hand mask sum: 3319.0\n",
      "Calculate single highest scoring object time: 0.03074932098388672\n",
      "Crop and resize time: 0.0010292530059814453\n",
      "Posenet forward time: 0.0020644664764404297\n",
      "Posepriornet forward time: 0.0010042190551757812\n",
      "Viewpoint forward time: 0.0011625289916992188\n",
      "Get normalized 3d coordinates time: 0.0009281635284423828\n",
      "Flip left handed input time: 0.00020551681518554688\n",
      "ScaLe heatmaps time 0.00013494491577148438\n",
      "Time for processing 1 frame: 0.04666590690612793s\n"
     ]
    },
    {
     "name": "stderr",
     "output_type": "stream",
     "text": [
      "\r",
      "202it [00:35,  4.11it/s]"
     ]
    },
    {
     "name": "stdout",
     "output_type": "stream",
     "text": [
      "tensor([[1.0000]], device='cuda:0', grad_fn=<SigmoidBackward>)\n",
      "Handnet forward time: 0.008107185363769531\n",
      "Handsegnet forward time: 0.001039266586303711\n",
      "s shape torch.Size([1, 2, 224, 224])\n",
      "for loop time 0.0030722618103027344\n",
      "hand mask sum: 3313.0\n",
      "Calculate single highest scoring object time: 0.029515981674194336\n",
      "Crop and resize time: 0.0009593963623046875\n",
      "Posenet forward time: 0.0020160675048828125\n",
      "Posepriornet forward time: 0.0007441043853759766\n",
      "Viewpoint forward time: 0.0009703636169433594\n",
      "Get normalized 3d coordinates time: 0.00061798095703125\n",
      "Flip left handed input time: 0.0001380443572998047\n",
      "ScaLe heatmaps time 8.177757263183594e-05\n",
      "Time for processing 1 frame: 0.04484844207763672s\n"
     ]
    },
    {
     "name": "stderr",
     "output_type": "stream",
     "text": [
      "\r",
      "203it [00:36,  4.17it/s]"
     ]
    },
    {
     "name": "stdout",
     "output_type": "stream",
     "text": [
      "tensor([[1.0000]], device='cuda:0', grad_fn=<SigmoidBackward>)\n",
      "Handnet forward time: 0.008095979690551758\n",
      "Handsegnet forward time: 0.0010454654693603516\n",
      "s shape torch.Size([1, 2, 224, 224])\n",
      "for loop time 0.0030608177185058594\n",
      "hand mask sum: 3322.0\n",
      "Calculate single highest scoring object time: 0.03130960464477539\n",
      "Crop and resize time: 0.0009367465972900391\n",
      "Posenet forward time: 0.002178668975830078\n",
      "Posepriornet forward time: 0.0009722709655761719\n",
      "Viewpoint forward time: 0.0010623931884765625\n",
      "Get normalized 3d coordinates time: 0.0006427764892578125\n",
      "Flip left handed input time: 0.0001380443572998047\n",
      "ScaLe heatmaps time 6.222724914550781e-05\n",
      "Time for processing 1 frame: 0.04720115661621094s\n"
     ]
    },
    {
     "name": "stderr",
     "output_type": "stream",
     "text": [
      "\r",
      "204it [00:36,  4.15it/s]"
     ]
    },
    {
     "name": "stdout",
     "output_type": "stream",
     "text": [
      "tensor([[1.0000]], device='cuda:0', grad_fn=<SigmoidBackward>)\n",
      "Handnet forward time: 0.007523059844970703\n",
      "Handsegnet forward time: 0.0009713172912597656\n",
      "s shape torch.Size([1, 2, 224, 224])\n",
      "for loop time 0.0030846595764160156\n",
      "hand mask sum: 3328.0\n",
      "Calculate single highest scoring object time: 0.029262065887451172\n",
      "Crop and resize time: 0.0009715557098388672\n",
      "Posenet forward time: 0.0020194053649902344\n",
      "Posepriornet forward time: 0.0007419586181640625\n",
      "Viewpoint forward time: 0.0009484291076660156\n",
      "Get normalized 3d coordinates time: 0.0006201267242431641\n",
      "Flip left handed input time: 0.0001366138458251953\n",
      "ScaLe heatmaps time 0.00011014938354492188\n",
      "Time for processing 1 frame: 0.04392242431640625s\n"
     ]
    },
    {
     "name": "stderr",
     "output_type": "stream",
     "text": [
      "\r",
      "205it [00:36,  4.18it/s]"
     ]
    },
    {
     "name": "stdout",
     "output_type": "stream",
     "text": [
      "tensor([[1.0000]], device='cuda:0', grad_fn=<SigmoidBackward>)\n",
      "Handnet forward time: 0.008493900299072266\n",
      "Handsegnet forward time: 0.0009756088256835938\n",
      "s shape torch.Size([1, 2, 224, 224])\n",
      "for loop time 0.0029845237731933594\n",
      "hand mask sum: 3307.0\n",
      "Calculate single highest scoring object time: 0.029807329177856445\n",
      "Crop and resize time: 0.0009739398956298828\n",
      "Posenet forward time: 0.0020186901092529297\n",
      "Posepriornet forward time: 0.0007357597351074219\n",
      "Viewpoint forward time: 0.0009489059448242188\n",
      "Get normalized 3d coordinates time: 0.0006105899810791016\n",
      "Flip left handed input time: 0.00013685226440429688\n",
      "ScaLe heatmaps time 8.440017700195312e-05\n",
      "Time for processing 1 frame: 0.045398712158203125s\n"
     ]
    },
    {
     "name": "stderr",
     "output_type": "stream",
     "text": [
      "\r",
      "206it [00:36,  4.14it/s]"
     ]
    },
    {
     "name": "stdout",
     "output_type": "stream",
     "text": [
      "tensor([[1.0000]], device='cuda:0', grad_fn=<SigmoidBackward>)\n",
      "Handnet forward time: 0.008275032043457031\n",
      "Handsegnet forward time: 0.0011577606201171875\n",
      "s shape torch.Size([1, 2, 224, 224])\n",
      "for loop time 0.0031118392944335938\n",
      "hand mask sum: 3330.0\n",
      "Calculate single highest scoring object time: 0.03132152557373047\n",
      "Crop and resize time: 0.0009980201721191406\n",
      "Posenet forward time: 0.0020377635955810547\n",
      "Posepriornet forward time: 0.0007498264312744141\n",
      "Viewpoint forward time: 0.000985860824584961\n",
      "Get normalized 3d coordinates time: 0.0006177425384521484\n",
      "Flip left handed input time: 0.00013566017150878906\n",
      "ScaLe heatmaps time 0.00010895729064941406\n",
      "Time for processing 1 frame: 0.04702615737915039s\n"
     ]
    },
    {
     "name": "stderr",
     "output_type": "stream",
     "text": [
      "\r",
      "207it [00:37,  4.16it/s]"
     ]
    },
    {
     "name": "stdout",
     "output_type": "stream",
     "text": [
      "tensor([[1.0000]], device='cuda:0', grad_fn=<SigmoidBackward>)\n",
      "Handnet forward time: 0.008044958114624023\n",
      "Handsegnet forward time: 0.0011429786682128906\n",
      "s shape torch.Size([1, 2, 224, 224])\n",
      "for loop time 0.003000497817993164\n",
      "hand mask sum: 3311.0\n",
      "Calculate single highest scoring object time: 0.03357982635498047\n",
      "Crop and resize time: 0.0009732246398925781\n",
      "Posenet forward time: 0.002062559127807617\n",
      "Posepriornet forward time: 0.0007598400115966797\n",
      "Viewpoint forward time: 0.0009875297546386719\n",
      "Get normalized 3d coordinates time: 0.0006284713745117188\n",
      "Flip left handed input time: 5.984306335449219e-05\n",
      "ScaLe heatmaps time 3.4809112548828125e-05\n",
      "Time for processing 1 frame: 0.04893159866333008s\n"
     ]
    },
    {
     "name": "stderr",
     "output_type": "stream",
     "text": [
      "\r",
      "208it [00:37,  4.16it/s]"
     ]
    },
    {
     "name": "stdout",
     "output_type": "stream",
     "text": [
      "tensor([[1.0000]], device='cuda:0', grad_fn=<SigmoidBackward>)\n",
      "Handnet forward time: 0.008382558822631836\n",
      "Handsegnet forward time: 0.0010952949523925781\n",
      "s shape torch.Size([1, 2, 224, 224])\n",
      "for loop time 0.0030868053436279297\n",
      "hand mask sum: 3311.0\n",
      "Calculate single highest scoring object time: 0.028458356857299805\n",
      "Crop and resize time: 0.0010027885437011719\n",
      "Posenet forward time: 0.002056598663330078\n",
      "Posepriornet forward time: 0.0007650852203369141\n",
      "Viewpoint forward time: 0.0009701251983642578\n",
      "Get normalized 3d coordinates time: 0.000644683837890625\n",
      "Flip left handed input time: 0.00014328956604003906\n",
      "ScaLe heatmaps time 0.00010824203491210938\n",
      "Time for processing 1 frame: 0.04419898986816406s\n"
     ]
    },
    {
     "name": "stderr",
     "output_type": "stream",
     "text": [
      "\r",
      "209it [00:37,  4.18it/s]"
     ]
    },
    {
     "name": "stdout",
     "output_type": "stream",
     "text": [
      "tensor([[1.0000]], device='cuda:0', grad_fn=<SigmoidBackward>)\n",
      "Handnet forward time: 0.008849143981933594\n",
      "Handsegnet forward time: 0.0010540485382080078\n",
      "s shape torch.Size([1, 2, 224, 224])\n",
      "for loop time 0.003142833709716797\n",
      "hand mask sum: 3289.0\n",
      "Calculate single highest scoring object time: 0.03042292594909668\n",
      "Crop and resize time: 0.0009801387786865234\n",
      "Posenet forward time: 0.002050161361694336\n",
      "Posepriornet forward time: 0.0007579326629638672\n",
      "Viewpoint forward time: 0.0009677410125732422\n",
      "Get normalized 3d coordinates time: 0.0006244182586669922\n",
      "Flip left handed input time: 0.0001399517059326172\n",
      "ScaLe heatmaps time 0.00011467933654785156\n",
      "Time for processing 1 frame: 0.0466005802154541s\n"
     ]
    },
    {
     "name": "stderr",
     "output_type": "stream",
     "text": [
      "\r",
      "210it [00:37,  4.16it/s]"
     ]
    },
    {
     "name": "stdout",
     "output_type": "stream",
     "text": [
      "tensor([[1.0000]], device='cuda:0', grad_fn=<SigmoidBackward>)\n",
      "Handnet forward time: 0.007592678070068359\n",
      "Handsegnet forward time: 0.0009925365447998047\n",
      "s shape torch.Size([1, 2, 224, 224])\n",
      "for loop time 0.0032024383544921875\n",
      "hand mask sum: 3275.0\n",
      "Calculate single highest scoring object time: 0.030709505081176758\n",
      "Crop and resize time: 0.0009737014770507812\n",
      "Posenet forward time: 0.002053499221801758\n",
      "Posepriornet forward time: 0.0007555484771728516\n",
      "Viewpoint forward time: 0.0010170936584472656\n",
      "Get normalized 3d coordinates time: 0.0006303787231445312\n",
      "Flip left handed input time: 0.00014352798461914062\n",
      "ScaLe heatmaps time 7.510185241699219e-05\n",
      "Time for processing 1 frame: 0.04566478729248047s\n"
     ]
    },
    {
     "name": "stderr",
     "output_type": "stream",
     "text": [
      "\r",
      "211it [00:37,  4.18it/s]"
     ]
    },
    {
     "name": "stdout",
     "output_type": "stream",
     "text": [
      "tensor([[1.0000]], device='cuda:0', grad_fn=<SigmoidBackward>)\n",
      "Handnet forward time: 0.008851289749145508\n",
      "Handsegnet forward time: 0.0010228157043457031\n",
      "s shape torch.Size([1, 2, 224, 224])\n",
      "for loop time 0.0034105777740478516\n",
      "hand mask sum: 3223.0\n",
      "Calculate single highest scoring object time: 0.030400753021240234\n",
      "Crop and resize time: 0.0009891986846923828\n",
      "Posenet forward time: 0.002054929733276367\n",
      "Posepriornet forward time: 0.0007534027099609375\n",
      "Viewpoint forward time: 0.0009627342224121094\n",
      "Get normalized 3d coordinates time: 0.0006256103515625\n",
      "Flip left handed input time: 0.00012302398681640625\n",
      "ScaLe heatmaps time 0.00011372566223144531\n",
      "Time for processing 1 frame: 0.046535491943359375s\n"
     ]
    },
    {
     "name": "stderr",
     "output_type": "stream",
     "text": [
      "\r",
      "212it [00:38,  4.19it/s]"
     ]
    },
    {
     "name": "stdout",
     "output_type": "stream",
     "text": [
      "tensor([[1.0000]], device='cuda:0', grad_fn=<SigmoidBackward>)\n",
      "Handnet forward time: 0.008606433868408203\n",
      "Handsegnet forward time: 0.0010578632354736328\n",
      "s shape torch.Size([1, 2, 224, 224])\n",
      "for loop time 0.0039048194885253906\n",
      "hand mask sum: 3281.0\n",
      "Calculate single highest scoring object time: 0.029407024383544922\n",
      "Crop and resize time: 0.0009791851043701172\n",
      "Posenet forward time: 0.002039670944213867\n",
      "Posepriornet forward time: 0.0007481575012207031\n",
      "Viewpoint forward time: 0.0009620189666748047\n",
      "Get normalized 3d coordinates time: 0.0006124973297119141\n",
      "Flip left handed input time: 0.00013685226440429688\n",
      "ScaLe heatmaps time 0.00010800361633300781\n",
      "Time for processing 1 frame: 0.04529452323913574s\n"
     ]
    },
    {
     "name": "stderr",
     "output_type": "stream",
     "text": [
      "\r",
      "213it [00:38,  4.21it/s]"
     ]
    },
    {
     "name": "stdout",
     "output_type": "stream",
     "text": [
      "tensor([[1.0000]], device='cuda:0', grad_fn=<SigmoidBackward>)\n",
      "Handnet forward time: 0.007517576217651367\n",
      "Handsegnet forward time: 0.0009679794311523438\n",
      "s shape torch.Size([1, 2, 224, 224])\n",
      "for loop time 0.0037670135498046875\n",
      "hand mask sum: 3227.0\n",
      "Calculate single highest scoring object time: 0.030338287353515625\n",
      "Crop and resize time: 0.000986337661743164\n",
      "Posenet forward time: 0.0020401477813720703\n",
      "Posepriornet forward time: 0.0007646083831787109\n",
      "Viewpoint forward time: 0.0009560585021972656\n",
      "Get normalized 3d coordinates time: 0.0006144046783447266\n",
      "Flip left handed input time: 0.00014257431030273438\n",
      "ScaLe heatmaps time 0.00010752677917480469\n",
      "Time for processing 1 frame: 0.04504132270812988s\n"
     ]
    },
    {
     "name": "stderr",
     "output_type": "stream",
     "text": [
      "\r",
      "214it [00:38,  4.22it/s]"
     ]
    },
    {
     "name": "stdout",
     "output_type": "stream",
     "text": [
      "tensor([[1.0000]], device='cuda:0', grad_fn=<SigmoidBackward>)\n",
      "Handnet forward time: 0.008009195327758789\n",
      "Handsegnet forward time: 0.0010571479797363281\n",
      "s shape torch.Size([1, 2, 224, 224])\n",
      "for loop time 0.0031652450561523438\n",
      "hand mask sum: 3227.0\n",
      "Calculate single highest scoring object time: 0.032152414321899414\n",
      "Crop and resize time: 0.0009996891021728516\n",
      "Posenet forward time: 0.002408742904663086\n",
      "Posepriornet forward time: 0.0008809566497802734\n",
      "Viewpoint forward time: 0.0010442733764648438\n",
      "Get normalized 3d coordinates time: 0.000659942626953125\n",
      "Flip left handed input time: 0.0001399517059326172\n",
      "ScaLe heatmaps time 0.00011229515075683594\n",
      "Time for processing 1 frame: 0.04819130897521973s\n"
     ]
    },
    {
     "name": "stderr",
     "output_type": "stream",
     "text": [
      "\r",
      "215it [00:39,  3.36it/s]"
     ]
    },
    {
     "name": "stdout",
     "output_type": "stream",
     "text": [
      "tensor([[1.0000]], device='cuda:0', grad_fn=<SigmoidBackward>)\n",
      "Handnet forward time: 0.008282899856567383\n",
      "Handsegnet forward time: 0.0014965534210205078\n",
      "s shape torch.Size([1, 2, 224, 224])\n",
      "for loop time 0.003098726272583008\n",
      "hand mask sum: 3171.0\n",
      "Calculate single highest scoring object time: 0.028998374938964844\n",
      "Crop and resize time: 0.0009982585906982422\n",
      "Posenet forward time: 0.0023539066314697266\n",
      "Posepriornet forward time: 0.0010619163513183594\n",
      "Viewpoint forward time: 0.0010678768157958984\n",
      "Get normalized 3d coordinates time: 0.0008802413940429688\n",
      "Flip left handed input time: 0.00017118453979492188\n",
      "ScaLe heatmaps time 9.703636169433594e-05\n",
      "Time for processing 1 frame: 0.0460965633392334s\n"
     ]
    },
    {
     "name": "stderr",
     "output_type": "stream",
     "text": [
      "\r",
      "216it [00:39,  3.54it/s]"
     ]
    },
    {
     "name": "stdout",
     "output_type": "stream",
     "text": [
      "tensor([[0.9999]], device='cuda:0', grad_fn=<SigmoidBackward>)\n",
      "Handnet forward time: 0.007551670074462891\n",
      "Handsegnet forward time: 0.0009908676147460938\n",
      "s shape torch.Size([1, 2, 224, 224])\n",
      "for loop time 0.0031347274780273438\n",
      "hand mask sum: 3138.0\n",
      "Calculate single highest scoring object time: 0.030066967010498047\n",
      "Crop and resize time: 0.0009958744049072266\n",
      "Posenet forward time: 0.0020482540130615234\n",
      "Posepriornet forward time: 0.0007641315460205078\n",
      "Viewpoint forward time: 0.0009777545928955078\n",
      "Get normalized 3d coordinates time: 0.0006167888641357422\n",
      "Flip left handed input time: 0.000133514404296875\n",
      "ScaLe heatmaps time 0.0001087188720703125\n",
      "Time for processing 1 frame: 0.0448758602142334s\n"
     ]
    },
    {
     "name": "stderr",
     "output_type": "stream",
     "text": [
      "\r",
      "217it [00:39,  3.73it/s]"
     ]
    },
    {
     "name": "stdout",
     "output_type": "stream",
     "text": [
      "tensor([[0.9999]], device='cuda:0', grad_fn=<SigmoidBackward>)\n",
      "Handnet forward time: 0.00808262825012207\n",
      "Handsegnet forward time: 0.0010461807250976562\n",
      "s shape torch.Size([1, 2, 224, 224])\n",
      "for loop time 0.003079652786254883\n",
      "hand mask sum: 3075.0\n",
      "Calculate single highest scoring object time: 0.030132770538330078\n",
      "Crop and resize time: 0.0009865760803222656\n",
      "Posenet forward time: 0.0020415782928466797\n",
      "Posepriornet forward time: 0.0007781982421875\n",
      "Viewpoint forward time: 0.0009930133819580078\n",
      "Get normalized 3d coordinates time: 0.0006759166717529297\n",
      "Flip left handed input time: 5.91278076171875e-05\n",
      "ScaLe heatmaps time 3.457069396972656e-05\n",
      "Time for processing 1 frame: 0.045473337173461914s\n"
     ]
    },
    {
     "name": "stderr",
     "output_type": "stream",
     "text": [
      "\r",
      "218it [00:39,  3.87it/s]"
     ]
    },
    {
     "name": "stdout",
     "output_type": "stream",
     "text": [
      "tensor([[0.9999]], device='cuda:0', grad_fn=<SigmoidBackward>)\n",
      "Handnet forward time: 0.008079290390014648\n",
      "Handsegnet forward time: 0.0010521411895751953\n",
      "s shape torch.Size([1, 2, 224, 224])\n",
      "for loop time 0.0030820369720458984\n",
      "hand mask sum: 3067.0\n",
      "Calculate single highest scoring object time: 0.02978682518005371\n",
      "Crop and resize time: 0.000980377197265625\n",
      "Posenet forward time: 0.002038717269897461\n",
      "Posepriornet forward time: 0.0007452964782714844\n",
      "Viewpoint forward time: 0.0009753704071044922\n",
      "Get normalized 3d coordinates time: 0.0006134510040283203\n",
      "Flip left handed input time: 0.00013756752014160156\n",
      "ScaLe heatmaps time 0.00010848045349121094\n",
      "Time for processing 1 frame: 0.045159339904785156s\n"
     ]
    },
    {
     "name": "stderr",
     "output_type": "stream",
     "text": [
      "\r",
      "219it [00:40,  3.91it/s]"
     ]
    },
    {
     "name": "stdout",
     "output_type": "stream",
     "text": [
      "tensor([[0.9999]], device='cuda:0', grad_fn=<SigmoidBackward>)\n",
      "Handnet forward time: 0.007572650909423828\n",
      "Handsegnet forward time: 0.0011737346649169922\n",
      "s shape torch.Size([1, 2, 224, 224])\n",
      "for loop time 0.00299835205078125\n",
      "hand mask sum: 3060.0\n",
      "Calculate single highest scoring object time: 0.03053760528564453\n",
      "Crop and resize time: 0.0009760856628417969\n",
      "Posenet forward time: 0.00205230712890625\n",
      "Posepriornet forward time: 0.0008065700531005859\n",
      "Viewpoint forward time: 0.0010104179382324219\n",
      "Get normalized 3d coordinates time: 0.0006608963012695312\n",
      "Flip left handed input time: 0.00013947486877441406\n",
      "ScaLe heatmaps time 7.510185241699219e-05\n",
      "Time for processing 1 frame: 0.045591115951538086s\n"
     ]
    },
    {
     "name": "stderr",
     "output_type": "stream",
     "text": [
      "\r",
      "220it [00:40,  3.99it/s]"
     ]
    },
    {
     "name": "stdout",
     "output_type": "stream",
     "text": [
      "tensor([[0.9998]], device='cuda:0', grad_fn=<SigmoidBackward>)\n",
      "Handnet forward time: 0.008509159088134766\n",
      "Handsegnet forward time: 0.0010428428649902344\n",
      "s shape torch.Size([1, 2, 224, 224])\n",
      "for loop time 0.0030901432037353516\n",
      "hand mask sum: 3043.0\n",
      "Calculate single highest scoring object time: 0.029722929000854492\n",
      "Crop and resize time: 0.0009737014770507812\n",
      "Posenet forward time: 0.002034902572631836\n",
      "Posepriornet forward time: 0.0007426738739013672\n",
      "Viewpoint forward time: 0.0009622573852539062\n",
      "Get normalized 3d coordinates time: 0.0006165504455566406\n",
      "Flip left handed input time: 0.0001361370086669922\n",
      "ScaLe heatmaps time 0.00010895729064941406\n",
      "Time for processing 1 frame: 0.04549598693847656s\n"
     ]
    },
    {
     "name": "stderr",
     "output_type": "stream",
     "text": [
      "\r",
      "221it [00:40,  4.06it/s]"
     ]
    },
    {
     "name": "stdout",
     "output_type": "stream",
     "text": [
      "tensor([[0.9998]], device='cuda:0', grad_fn=<SigmoidBackward>)\n",
      "Handnet forward time: 0.009371519088745117\n",
      "Handsegnet forward time: 0.0010077953338623047\n",
      "s shape torch.Size([1, 2, 224, 224])\n",
      "for loop time 0.0031960010528564453\n",
      "hand mask sum: 3041.0\n",
      "Calculate single highest scoring object time: 0.030454635620117188\n",
      "Crop and resize time: 0.0009379386901855469\n",
      "Posenet forward time: 0.0020058155059814453\n",
      "Posepriornet forward time: 0.0007364749908447266\n",
      "Viewpoint forward time: 0.0009653568267822266\n",
      "Get normalized 3d coordinates time: 0.0006155967712402344\n",
      "Flip left handed input time: 0.0001373291015625\n",
      "ScaLe heatmaps time 0.00010800361633300781\n",
      "Time for processing 1 frame: 0.04698657989501953s\n"
     ]
    },
    {
     "name": "stderr",
     "output_type": "stream",
     "text": [
      "\r",
      "222it [00:40,  4.12it/s]"
     ]
    },
    {
     "name": "stdout",
     "output_type": "stream",
     "text": [
      "tensor([[0.9998]], device='cuda:0', grad_fn=<SigmoidBackward>)\n",
      "Handnet forward time: 0.007521152496337891\n",
      "Handsegnet forward time: 0.0009515285491943359\n",
      "s shape torch.Size([1, 2, 224, 224])\n",
      "for loop time 0.002999544143676758\n",
      "hand mask sum: 3048.0\n",
      "Calculate single highest scoring object time: 0.030103206634521484\n",
      "Crop and resize time: 0.0009911060333251953\n",
      "Posenet forward time: 0.002056598663330078\n",
      "Posepriornet forward time: 0.0007555484771728516\n",
      "Viewpoint forward time: 0.0009987354278564453\n",
      "Get normalized 3d coordinates time: 0.0006110668182373047\n",
      "Flip left handed input time: 0.00014066696166992188\n",
      "ScaLe heatmaps time 0.00011134147644042969\n",
      "Time for processing 1 frame: 0.04485058784484863s\n"
     ]
    },
    {
     "name": "stderr",
     "output_type": "stream",
     "text": [
      "\r",
      "223it [00:41,  4.16it/s]"
     ]
    },
    {
     "name": "stdout",
     "output_type": "stream",
     "text": [
      "tensor([[0.9999]], device='cuda:0', grad_fn=<SigmoidBackward>)\n",
      "Handnet forward time: 0.007987737655639648\n",
      "Handsegnet forward time: 0.0009925365447998047\n",
      "s shape torch.Size([1, 2, 224, 224])\n",
      "for loop time 0.0031347274780273438\n",
      "hand mask sum: 3060.0\n",
      "Calculate single highest scoring object time: 0.030310392379760742\n",
      "Crop and resize time: 0.000988006591796875\n",
      "Posenet forward time: 0.0020384788513183594\n",
      "Posepriornet forward time: 0.0007545948028564453\n",
      "Viewpoint forward time: 0.000972747802734375\n",
      "Get normalized 3d coordinates time: 0.000629425048828125\n",
      "Flip left handed input time: 0.00014066696166992188\n",
      "ScaLe heatmaps time 0.00011229515075683594\n",
      "Time for processing 1 frame: 0.04553985595703125s\n"
     ]
    },
    {
     "name": "stderr",
     "output_type": "stream",
     "text": [
      "\r",
      "224it [00:41,  4.19it/s]"
     ]
    },
    {
     "name": "stdout",
     "output_type": "stream",
     "text": [
      "tensor([[0.9999]], device='cuda:0', grad_fn=<SigmoidBackward>)\n",
      "Handnet forward time: 0.008078575134277344\n",
      "Handsegnet forward time: 0.0010263919830322266\n",
      "s shape torch.Size([1, 2, 224, 224])\n",
      "for loop time 0.003091573715209961\n",
      "hand mask sum: 3044.0\n",
      "Calculate single highest scoring object time: 0.030780792236328125\n",
      "Crop and resize time: 0.0009927749633789062\n",
      "Posenet forward time: 0.002084016799926758\n",
      "Posepriornet forward time: 0.0007512569427490234\n",
      "Viewpoint forward time: 0.0009503364562988281\n",
      "Get normalized 3d coordinates time: 0.0006363391876220703\n",
      "Flip left handed input time: 0.00014138221740722656\n",
      "ScaLe heatmaps time 8.654594421386719e-05\n",
      "Time for processing 1 frame: 0.04623079299926758s\n"
     ]
    },
    {
     "name": "stderr",
     "output_type": "stream",
     "text": [
      "\r",
      "225it [00:41,  4.13it/s]"
     ]
    },
    {
     "name": "stdout",
     "output_type": "stream",
     "text": [
      "tensor([[0.9999]], device='cuda:0', grad_fn=<SigmoidBackward>)\n",
      "Handnet forward time: 0.007965087890625\n",
      "Handsegnet forward time: 0.0010995864868164062\n",
      "s shape torch.Size([1, 2, 224, 224])\n",
      "for loop time 0.003105640411376953\n",
      "hand mask sum: 3033.0\n",
      "Calculate single highest scoring object time: 0.03125715255737305\n",
      "Crop and resize time: 0.0010454654693603516\n",
      "Posenet forward time: 0.00209808349609375\n",
      "Posepriornet forward time: 0.0007841587066650391\n",
      "Viewpoint forward time: 0.0009531974792480469\n",
      "Get normalized 3d coordinates time: 0.0006544589996337891\n",
      "Flip left handed input time: 0.00014019012451171875\n",
      "ScaLe heatmaps time 0.000110626220703125\n",
      "Time for processing 1 frame: 0.046826839447021484s\n"
     ]
    },
    {
     "name": "stderr",
     "output_type": "stream",
     "text": [
      "\r",
      "226it [00:41,  4.09it/s]"
     ]
    },
    {
     "name": "stdout",
     "output_type": "stream",
     "text": [
      "tensor([[0.9999]], device='cuda:0', grad_fn=<SigmoidBackward>)\n",
      "Handnet forward time: 0.007561445236206055\n",
      "Handsegnet forward time: 0.0010075569152832031\n",
      "s shape torch.Size([1, 2, 224, 224])\n",
      "for loop time 0.0031273365020751953\n",
      "hand mask sum: 3021.0\n",
      "Calculate single highest scoring object time: 0.030011415481567383\n",
      "Crop and resize time: 0.0009913444519042969\n",
      "Posenet forward time: 0.0020449161529541016\n",
      "Posepriornet forward time: 0.0007576942443847656\n",
      "Viewpoint forward time: 0.0009646415710449219\n",
      "Get normalized 3d coordinates time: 0.0006151199340820312\n",
      "Flip left handed input time: 0.00013875961303710938\n",
      "ScaLe heatmaps time 0.00011014938354492188\n",
      "Time for processing 1 frame: 0.044838666915893555s\n"
     ]
    },
    {
     "name": "stderr",
     "output_type": "stream",
     "text": [
      "\r",
      "227it [00:41,  4.14it/s]"
     ]
    },
    {
     "name": "stdout",
     "output_type": "stream",
     "text": [
      "tensor([[1.0000]], device='cuda:0', grad_fn=<SigmoidBackward>)\n",
      "Handnet forward time: 0.00806570053100586\n",
      "Handsegnet forward time: 0.0010395050048828125\n",
      "s shape torch.Size([1, 2, 224, 224])\n",
      "for loop time 0.003110170364379883\n",
      "hand mask sum: 3020.0\n",
      "Calculate single highest scoring object time: 0.030161380767822266\n",
      "Crop and resize time: 0.0010249614715576172\n",
      "Posenet forward time: 0.002054929733276367\n",
      "Posepriornet forward time: 0.0007569789886474609\n",
      "Viewpoint forward time: 0.0009691715240478516\n",
      "Get normalized 3d coordinates time: 0.0006222724914550781\n",
      "Flip left handed input time: 0.0001392364501953125\n",
      "ScaLe heatmaps time 0.00010585784912109375\n",
      "Time for processing 1 frame: 0.045584917068481445s\n"
     ]
    },
    {
     "name": "stderr",
     "output_type": "stream",
     "text": [
      "\r",
      "228it [00:42,  4.17it/s]"
     ]
    },
    {
     "name": "stdout",
     "output_type": "stream",
     "text": [
      "tensor([[1.0000]], device='cuda:0', grad_fn=<SigmoidBackward>)\n",
      "Handnet forward time: 0.008073568344116211\n",
      "Handsegnet forward time: 0.0010678768157958984\n",
      "s shape torch.Size([1, 2, 224, 224])\n",
      "for loop time 0.0030808448791503906\n",
      "hand mask sum: 3025.0\n",
      "Calculate single highest scoring object time: 0.03053593635559082\n",
      "Crop and resize time: 0.0009558200836181641\n",
      "Posenet forward time: 0.002039670944213867\n",
      "Posepriornet forward time: 0.0007517337799072266\n",
      "Viewpoint forward time: 0.000946044921875\n",
      "Get normalized 3d coordinates time: 0.0006182193756103516\n",
      "Flip left handed input time: 0.00013947486877441406\n",
      "ScaLe heatmaps time 0.00010704994201660156\n",
      "Time for processing 1 frame: 0.04589080810546875s\n"
     ]
    },
    {
     "name": "stderr",
     "output_type": "stream",
     "text": [
      "\r",
      "229it [00:42,  4.14it/s]"
     ]
    },
    {
     "name": "stdout",
     "output_type": "stream",
     "text": [
      "tensor([[1.0000]], device='cuda:0', grad_fn=<SigmoidBackward>)\n",
      "Handnet forward time: 0.007995128631591797\n",
      "Handsegnet forward time: 0.0010144710540771484\n",
      "s shape torch.Size([1, 2, 224, 224])\n",
      "for loop time 0.0031118392944335938\n",
      "hand mask sum: 3023.0\n",
      "Calculate single highest scoring object time: 0.03234076499938965\n",
      "Crop and resize time: 0.0010066032409667969\n",
      "Posenet forward time: 0.0020356178283691406\n",
      "Posepriornet forward time: 0.0007555484771728516\n",
      "Viewpoint forward time: 0.0009810924530029297\n",
      "Get normalized 3d coordinates time: 0.0006690025329589844\n",
      "Flip left handed input time: 0.00016307830810546875\n",
      "ScaLe heatmaps time 0.00010371208190917969\n",
      "Time for processing 1 frame: 0.047731637954711914s\n"
     ]
    },
    {
     "name": "stderr",
     "output_type": "stream",
     "text": [
      "\r",
      "230it [00:42,  4.16it/s]"
     ]
    },
    {
     "name": "stdout",
     "output_type": "stream",
     "text": [
      "tensor([[1.0000]], device='cuda:0', grad_fn=<SigmoidBackward>)\n",
      "Handnet forward time: 0.008099794387817383\n",
      "Handsegnet forward time: 0.001398324966430664\n",
      "s shape torch.Size([1, 2, 224, 224])\n",
      "for loop time 0.0031404495239257812\n",
      "hand mask sum: 3012.0\n",
      "Calculate single highest scoring object time: 0.029696941375732422\n",
      "Crop and resize time: 0.0010156631469726562\n",
      "Posenet forward time: 0.0021822452545166016\n",
      "Posepriornet forward time: 0.0007419586181640625\n",
      "Viewpoint forward time: 0.0010018348693847656\n",
      "Get normalized 3d coordinates time: 0.0006132125854492188\n",
      "Flip left handed input time: 0.0001347064971923828\n",
      "ScaLe heatmaps time 0.00010633468627929688\n",
      "Time for processing 1 frame: 0.04559588432312012s\n"
     ]
    },
    {
     "name": "stderr",
     "output_type": "stream",
     "text": [
      "\r",
      "231it [00:42,  4.18it/s]"
     ]
    },
    {
     "name": "stdout",
     "output_type": "stream",
     "text": [
      "tensor([[0.9999]], device='cuda:0', grad_fn=<SigmoidBackward>)\n",
      "Handnet forward time: 0.008536577224731445\n",
      "Handsegnet forward time: 0.001046895980834961\n",
      "s shape torch.Size([1, 2, 224, 224])\n",
      "for loop time 0.004382610321044922\n",
      "hand mask sum: 3010.0\n",
      "Calculate single highest scoring object time: 0.03151869773864746\n",
      "Crop and resize time: 0.0013356208801269531\n",
      "Posenet forward time: 0.0020542144775390625\n",
      "Posepriornet forward time: 0.0007507801055908203\n",
      "Viewpoint forward time: 0.0009691715240478516\n",
      "Get normalized 3d coordinates time: 0.0006380081176757812\n",
      "Flip left handed input time: 0.0001392364501953125\n",
      "ScaLe heatmaps time 0.00010895729064941406\n",
      "Time for processing 1 frame: 0.047743797302246094s\n"
     ]
    },
    {
     "name": "stderr",
     "output_type": "stream",
     "text": [
      "\r",
      "232it [00:43,  4.20it/s]"
     ]
    },
    {
     "name": "stdout",
     "output_type": "stream",
     "text": [
      "tensor([[0.9999]], device='cuda:0', grad_fn=<SigmoidBackward>)\n",
      "Handnet forward time: 0.009328603744506836\n",
      "Handsegnet forward time: 0.0010356903076171875\n",
      "s shape torch.Size([1, 2, 224, 224])\n",
      "for loop time 0.0030927658081054688\n",
      "hand mask sum: 3010.0\n",
      "Calculate single highest scoring object time: 0.029633045196533203\n",
      "Crop and resize time: 0.0010004043579101562\n",
      "Posenet forward time: 0.0020599365234375\n",
      "Posepriornet forward time: 0.0007560253143310547\n",
      "Viewpoint forward time: 0.0009739398956298828\n",
      "Get normalized 3d coordinates time: 0.0006272792816162109\n",
      "Flip left handed input time: 0.0001380443572998047\n",
      "ScaLe heatmaps time 0.00010919570922851562\n",
      "Time for processing 1 frame: 0.046309709548950195s\n"
     ]
    },
    {
     "name": "stderr",
     "output_type": "stream",
     "text": [
      "\r",
      "233it [00:43,  4.21it/s]"
     ]
    },
    {
     "name": "stdout",
     "output_type": "stream",
     "text": [
      "tensor([[1.0000]], device='cuda:0', grad_fn=<SigmoidBackward>)\n",
      "Handnet forward time: 0.007540702819824219\n",
      "Handsegnet forward time: 0.0010151863098144531\n",
      "s shape torch.Size([1, 2, 224, 224])\n",
      "for loop time 0.004145145416259766\n",
      "hand mask sum: 3008.0\n",
      "Calculate single highest scoring object time: 0.0305478572845459\n",
      "Crop and resize time: 0.0010025501251220703\n",
      "Posenet forward time: 0.0020351409912109375\n",
      "Posepriornet forward time: 0.0007638931274414062\n",
      "Viewpoint forward time: 0.0009925365447998047\n",
      "Get normalized 3d coordinates time: 0.0006177425384521484\n",
      "Flip left handed input time: 0.00013899803161621094\n",
      "ScaLe heatmaps time 9.679794311523438e-05\n",
      "Time for processing 1 frame: 0.04537010192871094s\n"
     ]
    },
    {
     "name": "stderr",
     "output_type": "stream",
     "text": [
      "\r",
      "234it [00:43,  4.18it/s]"
     ]
    },
    {
     "name": "stdout",
     "output_type": "stream",
     "text": [
      "tensor([[1.0000]], device='cuda:0', grad_fn=<SigmoidBackward>)\n",
      "Handnet forward time: 0.007490396499633789\n",
      "Handsegnet forward time: 0.0009810924530029297\n",
      "s shape torch.Size([1, 2, 224, 224])\n",
      "for loop time 0.003139019012451172\n",
      "hand mask sum: 3004.0\n",
      "Calculate single highest scoring object time: 0.030031681060791016\n",
      "Crop and resize time: 0.0009899139404296875\n",
      "Posenet forward time: 0.0021064281463623047\n",
      "Posepriornet forward time: 0.0007517337799072266\n",
      "Viewpoint forward time: 0.0009448528289794922\n",
      "Get normalized 3d coordinates time: 0.00061798095703125\n",
      "Flip left handed input time: 0.00014090538024902344\n",
      "ScaLe heatmaps time 0.00011086463928222656\n",
      "Time for processing 1 frame: 0.04478120803833008s\n"
     ]
    },
    {
     "name": "stderr",
     "output_type": "stream",
     "text": [
      "\r",
      "235it [00:43,  4.18it/s]"
     ]
    },
    {
     "name": "stdout",
     "output_type": "stream",
     "text": [
      "tensor([[1.0000]], device='cuda:0', grad_fn=<SigmoidBackward>)\n",
      "Handnet forward time: 0.00985264778137207\n",
      "Handsegnet forward time: 0.001088857650756836\n",
      "s shape torch.Size([1, 2, 224, 224])\n",
      "for loop time 0.003189563751220703\n",
      "hand mask sum: 2990.0\n",
      "Calculate single highest scoring object time: 0.03179287910461426\n",
      "Crop and resize time: 0.0010051727294921875\n",
      "Posenet forward time: 0.0020418167114257812\n",
      "Posepriornet forward time: 0.0007567405700683594\n",
      "Viewpoint forward time: 0.0009658336639404297\n",
      "Get normalized 3d coordinates time: 0.0006210803985595703\n",
      "Flip left handed input time: 0.0001380443572998047\n",
      "ScaLe heatmaps time 0.00011157989501953125\n",
      "Time for processing 1 frame: 0.049007415771484375s\n"
     ]
    },
    {
     "name": "stderr",
     "output_type": "stream",
     "text": [
      "\r",
      "236it [00:44,  4.15it/s]"
     ]
    },
    {
     "name": "stdout",
     "output_type": "stream",
     "text": [
      "tensor([[1.0000]], device='cuda:0', grad_fn=<SigmoidBackward>)\n",
      "Handnet forward time: 0.008370637893676758\n",
      "Handsegnet forward time: 0.0010523796081542969\n",
      "s shape torch.Size([1, 2, 224, 224])\n",
      "for loop time 0.0040225982666015625\n",
      "hand mask sum: 2998.0\n",
      "Calculate single highest scoring object time: 0.03186607360839844\n",
      "Crop and resize time: 0.0013668537139892578\n",
      "Posenet forward time: 0.0020661354064941406\n",
      "Posepriornet forward time: 0.0007543563842773438\n",
      "Viewpoint forward time: 0.0009665489196777344\n",
      "Get normalized 3d coordinates time: 0.0006237030029296875\n",
      "Flip left handed input time: 0.00013947486877441406\n",
      "ScaLe heatmaps time 3.123283386230469e-05\n",
      "Time for processing 1 frame: 0.047899484634399414s\n"
     ]
    },
    {
     "name": "stderr",
     "output_type": "stream",
     "text": [
      "\r",
      "237it [00:44,  4.14it/s]"
     ]
    },
    {
     "name": "stdout",
     "output_type": "stream",
     "text": [
      "tensor([[0.9999]], device='cuda:0', grad_fn=<SigmoidBackward>)\n",
      "Handnet forward time: 0.008046627044677734\n",
      "Handsegnet forward time: 0.0010018348693847656\n",
      "s shape torch.Size([1, 2, 224, 224])\n",
      "for loop time 0.003770589828491211\n",
      "hand mask sum: 2990.0\n",
      "Calculate single highest scoring object time: 0.03289937973022461\n",
      "Crop and resize time: 0.0010263919830322266\n",
      "Posenet forward time: 0.002054452896118164\n",
      "Posepriornet forward time: 0.0007772445678710938\n",
      "Viewpoint forward time: 0.0010461807250976562\n",
      "Get normalized 3d coordinates time: 0.0006723403930664062\n",
      "Flip left handed input time: 0.00014901161193847656\n",
      "ScaLe heatmaps time 0.00011181831359863281\n",
      "Time for processing 1 frame: 0.04848003387451172s\n"
     ]
    },
    {
     "name": "stderr",
     "output_type": "stream",
     "text": [
      "\r",
      "238it [00:44,  4.07it/s]"
     ]
    },
    {
     "name": "stdout",
     "output_type": "stream",
     "text": [
      "tensor([[0.9999]], device='cuda:0', grad_fn=<SigmoidBackward>)\n",
      "Handnet forward time: 0.0076563358306884766\n",
      "Handsegnet forward time: 0.0012164115905761719\n",
      "s shape torch.Size([1, 2, 224, 224])\n",
      "for loop time 0.004300594329833984\n",
      "hand mask sum: 2989.0\n",
      "Calculate single highest scoring object time: 0.033998966217041016\n",
      "Crop and resize time: 0.001781463623046875\n",
      "Posenet forward time: 0.002301931381225586\n",
      "Posepriornet forward time: 0.000782012939453125\n",
      "Viewpoint forward time: 0.0009670257568359375\n",
      "Get normalized 3d coordinates time: 0.0006301403045654297\n",
      "Flip left handed input time: 0.00013756752014160156\n",
      "ScaLe heatmaps time 0.00010800361633300781\n",
      "Time for processing 1 frame: 0.050284385681152344s\n"
     ]
    },
    {
     "name": "stderr",
     "output_type": "stream",
     "text": [
      "\r",
      "239it [00:44,  4.08it/s]"
     ]
    },
    {
     "name": "stdout",
     "output_type": "stream",
     "text": [
      "tensor([[0.9998]], device='cuda:0', grad_fn=<SigmoidBackward>)\n",
      "Handnet forward time: 0.0075261592864990234\n",
      "Handsegnet forward time: 0.0009911060333251953\n",
      "s shape torch.Size([1, 2, 224, 224])\n",
      "for loop time 0.003146648406982422\n",
      "hand mask sum: 2967.0\n",
      "Calculate single highest scoring object time: 0.03045058250427246\n",
      "Crop and resize time: 0.0010113716125488281\n",
      "Posenet forward time: 0.0020499229431152344\n",
      "Posepriornet forward time: 0.0007493495941162109\n",
      "Viewpoint forward time: 0.0009632110595703125\n",
      "Get normalized 3d coordinates time: 0.0006506443023681641\n",
      "Flip left handed input time: 0.00016951560974121094\n",
      "ScaLe heatmaps time 0.00010609626770019531\n",
      "Time for processing 1 frame: 0.04530453681945801s\n"
     ]
    },
    {
     "name": "stderr",
     "output_type": "stream",
     "text": [
      "\r",
      "240it [00:45,  4.14it/s]"
     ]
    },
    {
     "name": "stdout",
     "output_type": "stream",
     "text": [
      "tensor([[0.9998]], device='cuda:0', grad_fn=<SigmoidBackward>)\n",
      "Handnet forward time: 0.008168220520019531\n",
      "Handsegnet forward time: 0.0010523796081542969\n",
      "s shape torch.Size([1, 2, 224, 224])\n",
      "for loop time 0.0031495094299316406\n",
      "hand mask sum: 2928.0\n",
      "Calculate single highest scoring object time: 0.030386924743652344\n",
      "Crop and resize time: 0.0009627342224121094\n",
      "Posenet forward time: 0.002077341079711914\n",
      "Posepriornet forward time: 0.0007658004760742188\n",
      "Viewpoint forward time: 0.000957489013671875\n",
      "Get normalized 3d coordinates time: 0.0006496906280517578\n",
      "Flip left handed input time: 0.00013637542724609375\n",
      "ScaLe heatmaps time 4.7206878662109375e-05\n",
      "Time for processing 1 frame: 0.04603719711303711s\n"
     ]
    },
    {
     "name": "stderr",
     "output_type": "stream",
     "text": [
      "\r",
      "241it [00:45,  4.16it/s]"
     ]
    },
    {
     "name": "stdout",
     "output_type": "stream",
     "text": [
      "tensor([[0.9997]], device='cuda:0', grad_fn=<SigmoidBackward>)\n",
      "Handnet forward time: 0.007518768310546875\n",
      "Handsegnet forward time: 0.000978231430053711\n",
      "s shape torch.Size([1, 2, 224, 224])\n",
      "for loop time 0.002988576889038086\n",
      "hand mask sum: 2888.0\n",
      "Calculate single highest scoring object time: 0.03067779541015625\n",
      "Crop and resize time: 0.000995635986328125\n",
      "Posenet forward time: 0.002075672149658203\n",
      "Posepriornet forward time: 0.0007562637329101562\n",
      "Viewpoint forward time: 0.0010218620300292969\n",
      "Get normalized 3d coordinates time: 0.0007994174957275391\n",
      "Flip left handed input time: 0.00013899803161621094\n",
      "ScaLe heatmaps time 0.00010800361633300781\n",
      "Time for processing 1 frame: 0.0456995964050293s\n"
     ]
    },
    {
     "name": "stderr",
     "output_type": "stream",
     "text": [
      "\r",
      "242it [00:45,  4.19it/s]"
     ]
    },
    {
     "name": "stdout",
     "output_type": "stream",
     "text": [
      "tensor([[0.9995]], device='cuda:0', grad_fn=<SigmoidBackward>)\n",
      "Handnet forward time: 0.008058547973632812\n",
      "Handsegnet forward time: 0.001043081283569336\n",
      "s shape torch.Size([1, 2, 224, 224])\n",
      "for loop time 0.0031228065490722656\n",
      "hand mask sum: 2818.0\n",
      "Calculate single highest scoring object time: 0.029715776443481445\n",
      "Crop and resize time: 0.0009872913360595703\n",
      "Posenet forward time: 0.002276182174682617\n",
      "Posepriornet forward time: 0.0007488727569580078\n",
      "Viewpoint forward time: 0.0009448528289794922\n",
      "Get normalized 3d coordinates time: 0.0006253719329833984\n",
      "Flip left handed input time: 0.00013947486877441406\n",
      "ScaLe heatmaps time 0.00011396408081054688\n",
      "Time for processing 1 frame: 0.04531049728393555s\n"
     ]
    },
    {
     "name": "stderr",
     "output_type": "stream",
     "text": [
      "\r",
      "243it [00:45,  4.20it/s]"
     ]
    },
    {
     "name": "stdout",
     "output_type": "stream",
     "text": [
      "tensor([[0.9979]], device='cuda:0', grad_fn=<SigmoidBackward>)\n",
      "Handnet forward time: 0.008330345153808594\n",
      "Handsegnet forward time: 0.0010423660278320312\n",
      "s shape torch.Size([1, 2, 224, 224])\n",
      "for loop time 0.003511190414428711\n",
      "hand mask sum: 2737.0\n",
      "Calculate single highest scoring object time: 0.029974937438964844\n",
      "Crop and resize time: 0.0009806156158447266\n",
      "Posenet forward time: 0.002081155776977539\n",
      "Posepriornet forward time: 0.0007505416870117188\n",
      "Viewpoint forward time: 0.0009813308715820312\n",
      "Get normalized 3d coordinates time: 0.0006177425384521484\n",
      "Flip left handed input time: 0.000141143798828125\n",
      "ScaLe heatmaps time 0.00011110305786132812\n",
      "Time for processing 1 frame: 0.045649051666259766s\n"
     ]
    },
    {
     "name": "stderr",
     "output_type": "stream",
     "text": [
      "\r",
      "244it [00:46,  4.21it/s]"
     ]
    },
    {
     "name": "stdout",
     "output_type": "stream",
     "text": [
      "tensor([[0.9996]], device='cuda:0', grad_fn=<SigmoidBackward>)\n",
      "Handnet forward time: 0.010251998901367188\n",
      "Handsegnet forward time: 0.0010781288146972656\n",
      "s shape torch.Size([1, 2, 224, 224])\n",
      "for loop time 0.0030524730682373047\n",
      "hand mask sum: 2746.0\n",
      "Calculate single highest scoring object time: 0.032624006271362305\n",
      "Crop and resize time: 0.0010693073272705078\n",
      "Posenet forward time: 0.002273082733154297\n",
      "Posepriornet forward time: 0.0008003711700439453\n",
      "Viewpoint forward time: 0.0009593963623046875\n",
      "Get normalized 3d coordinates time: 0.0006113052368164062\n",
      "Flip left handed input time: 0.00010776519775390625\n",
      "ScaLe heatmaps time 7.700920104980469e-05\n",
      "Time for processing 1 frame: 0.05043148994445801s\n"
     ]
    },
    {
     "name": "stderr",
     "output_type": "stream",
     "text": [
      "\r",
      "245it [00:46,  4.17it/s]"
     ]
    },
    {
     "name": "stdout",
     "output_type": "stream",
     "text": [
      "tensor([[0.9998]], device='cuda:0', grad_fn=<SigmoidBackward>)\n",
      "Handnet forward time: 0.0075702667236328125\n",
      "Handsegnet forward time: 0.0011928081512451172\n",
      "s shape torch.Size([1, 2, 224, 224])\n",
      "for loop time 0.003116607666015625\n",
      "hand mask sum: 2755.0\n",
      "Calculate single highest scoring object time: 0.029464006423950195\n",
      "Crop and resize time: 0.0009975433349609375\n",
      "Posenet forward time: 0.002185344696044922\n",
      "Posepriornet forward time: 0.0007691383361816406\n",
      "Viewpoint forward time: 0.0009822845458984375\n",
      "Get normalized 3d coordinates time: 0.0006387233734130859\n",
      "Flip left handed input time: 0.00014352798461914062\n",
      "ScaLe heatmaps time 0.00011014938354492188\n",
      "Time for processing 1 frame: 0.04452633857727051s\n"
     ]
    },
    {
     "name": "stderr",
     "output_type": "stream",
     "text": [
      "\r",
      "246it [00:46,  4.20it/s]"
     ]
    },
    {
     "name": "stdout",
     "output_type": "stream",
     "text": [
      "tensor([[0.9997]], device='cuda:0', grad_fn=<SigmoidBackward>)\n",
      "Handnet forward time: 0.009195566177368164\n",
      "Handsegnet forward time: 0.0010371208190917969\n",
      "s shape torch.Size([1, 2, 224, 224])\n",
      "for loop time 0.0033257007598876953\n",
      "hand mask sum: 2744.0\n",
      "Calculate single highest scoring object time: 0.0298922061920166\n",
      "Crop and resize time: 0.0009765625\n",
      "Posenet forward time: 0.002048492431640625\n",
      "Posepriornet forward time: 0.0007603168487548828\n",
      "Viewpoint forward time: 0.0010495185852050781\n",
      "Get normalized 3d coordinates time: 0.0006253719329833984\n",
      "Flip left handed input time: 0.00013899803161621094\n",
      "ScaLe heatmaps time 0.00010848045349121094\n",
      "Time for processing 1 frame: 0.046466827392578125s\n"
     ]
    },
    {
     "name": "stderr",
     "output_type": "stream",
     "text": [
      "\r",
      "247it [00:46,  4.19it/s]"
     ]
    },
    {
     "name": "stdout",
     "output_type": "stream",
     "text": [
      "tensor([[0.9999]], device='cuda:0', grad_fn=<SigmoidBackward>)\n",
      "Handnet forward time: 0.008725643157958984\n",
      "Handsegnet forward time: 0.0010349750518798828\n",
      "s shape torch.Size([1, 2, 224, 224])\n",
      "for loop time 0.0031309127807617188\n",
      "hand mask sum: 2745.0\n",
      "Calculate single highest scoring object time: 0.03280186653137207\n",
      "Crop and resize time: 0.0009891986846923828\n",
      "Posenet forward time: 0.002115488052368164\n",
      "Posepriornet forward time: 0.0007650852203369141\n",
      "Viewpoint forward time: 0.0009479522705078125\n",
      "Get normalized 3d coordinates time: 0.0006220340728759766\n",
      "Flip left handed input time: 0.0001308917999267578\n",
      "ScaLe heatmaps time 4.887580871582031e-05\n",
      "Time for processing 1 frame: 0.04884696006774902s\n"
     ]
    },
    {
     "name": "stderr",
     "output_type": "stream",
     "text": [
      "\r",
      "248it [00:47,  4.16it/s]"
     ]
    },
    {
     "name": "stdout",
     "output_type": "stream",
     "text": [
      "tensor([[0.9997]], device='cuda:0', grad_fn=<SigmoidBackward>)\n",
      "Handnet forward time: 0.009467124938964844\n",
      "Handsegnet forward time: 0.001138925552368164\n",
      "s shape torch.Size([1, 2, 224, 224])\n",
      "for loop time 0.004680156707763672\n",
      "hand mask sum: 2735.0\n",
      "Calculate single highest scoring object time: 0.030792713165283203\n",
      "Crop and resize time: 0.001073598861694336\n",
      "Posenet forward time: 0.0020885467529296875\n",
      "Posepriornet forward time: 0.0010004043579101562\n",
      "Viewpoint forward time: 0.0011796951293945312\n",
      "Get normalized 3d coordinates time: 0.0006439685821533203\n",
      "Flip left handed input time: 0.00014066696166992188\n",
      "ScaLe heatmaps time 0.00010752677917480469\n",
      "Time for processing 1 frame: 0.048285484313964844s\n"
     ]
    },
    {
     "name": "stderr",
     "output_type": "stream",
     "text": [
      "\r",
      "249it [00:47,  4.12it/s]"
     ]
    },
    {
     "name": "stdout",
     "output_type": "stream",
     "text": [
      "tensor([[0.9996]], device='cuda:0', grad_fn=<SigmoidBackward>)\n",
      "Handnet forward time: 0.008473873138427734\n",
      "Handsegnet forward time: 0.0010478496551513672\n",
      "s shape torch.Size([1, 2, 224, 224])\n",
      "for loop time 0.0031266212463378906\n",
      "hand mask sum: 2730.0\n",
      "Calculate single highest scoring object time: 0.02990865707397461\n",
      "Crop and resize time: 0.001001119613647461\n",
      "Posenet forward time: 0.002040863037109375\n",
      "Posepriornet forward time: 0.0007650852203369141\n",
      "Viewpoint forward time: 0.0009543895721435547\n",
      "Get normalized 3d coordinates time: 0.0006234645843505859\n",
      "Flip left handed input time: 0.00013709068298339844\n",
      "ScaLe heatmaps time 0.00011038780212402344\n",
      "Time for processing 1 frame: 0.04572272300720215s\n"
     ]
    },
    {
     "name": "stderr",
     "output_type": "stream",
     "text": [
      "\r",
      "250it [00:47,  4.15it/s]"
     ]
    },
    {
     "name": "stdout",
     "output_type": "stream",
     "text": [
      "tensor([[0.9996]], device='cuda:0', grad_fn=<SigmoidBackward>)\n",
      "Handnet forward time: 0.00986623764038086\n",
      "Handsegnet forward time: 0.0011322498321533203\n",
      "s shape torch.Size([1, 2, 224, 224])\n",
      "for loop time 0.003000020980834961\n",
      "hand mask sum: 2739.0\n",
      "Calculate single highest scoring object time: 0.0326688289642334\n",
      "Crop and resize time: 0.0009891986846923828\n",
      "Posenet forward time: 0.002065896987915039\n",
      "Posepriornet forward time: 0.0007524490356445312\n",
      "Viewpoint forward time: 0.0009684562683105469\n",
      "Get normalized 3d coordinates time: 0.0006225109100341797\n",
      "Flip left handed input time: 0.000133514404296875\n",
      "ScaLe heatmaps time 0.00010752677917480469\n",
      "Time for processing 1 frame: 0.04996967315673828s\n"
     ]
    },
    {
     "name": "stderr",
     "output_type": "stream",
     "text": [
      "\r",
      "251it [00:47,  4.16it/s]"
     ]
    },
    {
     "name": "stdout",
     "output_type": "stream",
     "text": [
      "tensor([[0.9998]], device='cuda:0', grad_fn=<SigmoidBackward>)\n",
      "Handnet forward time: 0.007550954818725586\n",
      "Handsegnet forward time: 0.0009989738464355469\n",
      "s shape torch.Size([1, 2, 224, 224])\n",
      "for loop time 0.003015756607055664\n",
      "hand mask sum: 2729.0\n",
      "Calculate single highest scoring object time: 0.030330419540405273\n",
      "Crop and resize time: 0.000949859619140625\n",
      "Posenet forward time: 0.0020246505737304688\n",
      "Posepriornet forward time: 0.0007071495056152344\n",
      "Viewpoint forward time: 0.0009720325469970703\n",
      "Get normalized 3d coordinates time: 0.000652313232421875\n",
      "Flip left handed input time: 0.00013709068298339844\n",
      "ScaLe heatmaps time 0.00010776519775390625\n",
      "Time for processing 1 frame: 0.04505634307861328s\n"
     ]
    },
    {
     "name": "stderr",
     "output_type": "stream",
     "text": [
      "\r",
      "252it [00:48,  4.15it/s]"
     ]
    },
    {
     "name": "stdout",
     "output_type": "stream",
     "text": [
      "tensor([[0.9996]], device='cuda:0', grad_fn=<SigmoidBackward>)\n",
      "Handnet forward time: 0.009210348129272461\n",
      "Handsegnet forward time: 0.0010876655578613281\n",
      "s shape torch.Size([1, 2, 224, 224])\n",
      "for loop time 0.003767251968383789\n",
      "hand mask sum: 2740.0\n",
      "Calculate single highest scoring object time: 0.030855655670166016\n",
      "Crop and resize time: 0.0010616779327392578\n",
      "Posenet forward time: 0.002147197723388672\n",
      "Posepriornet forward time: 0.0009458065032958984\n",
      "Viewpoint forward time: 0.0011968612670898438\n",
      "Get normalized 3d coordinates time: 0.0006589889526367188\n",
      "Flip left handed input time: 0.00014472007751464844\n",
      "ScaLe heatmaps time 7.700920104980469e-05\n",
      "Time for processing 1 frame: 0.048178911209106445s\n"
     ]
    },
    {
     "name": "stderr",
     "output_type": "stream",
     "text": [
      "\r",
      "253it [00:48,  4.07it/s]"
     ]
    },
    {
     "name": "stdout",
     "output_type": "stream",
     "text": [
      "tensor([[0.9997]], device='cuda:0', grad_fn=<SigmoidBackward>)\n",
      "Handnet forward time: 0.008120298385620117\n",
      "Handsegnet forward time: 0.001046895980834961\n",
      "s shape torch.Size([1, 2, 224, 224])\n",
      "for loop time 0.0030930042266845703\n",
      "hand mask sum: 2731.0\n",
      "Calculate single highest scoring object time: 0.029995203018188477\n",
      "Crop and resize time: 0.0009806156158447266\n",
      "Posenet forward time: 0.0020291805267333984\n",
      "Posepriornet forward time: 0.0007615089416503906\n",
      "Viewpoint forward time: 0.0009796619415283203\n",
      "Get normalized 3d coordinates time: 0.0006260871887207031\n",
      "Flip left handed input time: 0.00013756752014160156\n",
      "ScaLe heatmaps time 0.00010776519775390625\n",
      "Time for processing 1 frame: 0.04543471336364746s\n"
     ]
    },
    {
     "name": "stderr",
     "output_type": "stream",
     "text": [
      "\r",
      "254it [00:48,  4.13it/s]"
     ]
    },
    {
     "name": "stdout",
     "output_type": "stream",
     "text": [
      "tensor([[0.9998]], device='cuda:0', grad_fn=<SigmoidBackward>)\n",
      "Handnet forward time: 0.008090496063232422\n",
      "Handsegnet forward time: 0.0010728836059570312\n",
      "s shape torch.Size([1, 2, 224, 224])\n",
      "for loop time 0.0033788681030273438\n",
      "hand mask sum: 2737.0\n",
      "Calculate single highest scoring object time: 0.030489206314086914\n",
      "Crop and resize time: 0.000997781753540039\n",
      "Posenet forward time: 0.002050638198852539\n",
      "Posepriornet forward time: 0.0007498264312744141\n",
      "Viewpoint forward time: 0.0009725093841552734\n",
      "Get normalized 3d coordinates time: 0.0006239414215087891\n",
      "Flip left handed input time: 0.0001385211944580078\n",
      "ScaLe heatmaps time 0.00010967254638671875\n",
      "Time for processing 1 frame: 0.045931100845336914s\n"
     ]
    },
    {
     "name": "stderr",
     "output_type": "stream",
     "text": [
      "\r",
      "255it [00:48,  4.14it/s]"
     ]
    },
    {
     "name": "stdout",
     "output_type": "stream",
     "text": [
      "tensor([[0.9998]], device='cuda:0', grad_fn=<SigmoidBackward>)\n",
      "Handnet forward time: 0.008115291595458984\n",
      "Handsegnet forward time: 0.0010561943054199219\n",
      "s shape torch.Size([1, 2, 224, 224])\n",
      "for loop time 0.0030891895294189453\n",
      "hand mask sum: 2726.0\n",
      "Calculate single highest scoring object time: 0.029376983642578125\n",
      "Crop and resize time: 0.0009551048278808594\n",
      "Posenet forward time: 0.001980304718017578\n",
      "Posepriornet forward time: 0.0008006095886230469\n",
      "Viewpoint forward time: 0.0009434223175048828\n",
      "Get normalized 3d coordinates time: 0.0006334781646728516\n",
      "Flip left handed input time: 0.0001366138458251953\n",
      "ScaLe heatmaps time 0.00010752677917480469\n",
      "Time for processing 1 frame: 0.04474377632141113s\n"
     ]
    },
    {
     "name": "stderr",
     "output_type": "stream",
     "text": [
      "\r",
      "256it [00:48,  4.19it/s]"
     ]
    },
    {
     "name": "stdout",
     "output_type": "stream",
     "text": [
      "tensor([[0.9835]], device='cuda:0', grad_fn=<SigmoidBackward>)\n",
      "Handnet forward time: 0.008054971694946289\n",
      "Handsegnet forward time: 0.0012371540069580078\n",
      "s shape torch.Size([1, 2, 224, 224])\n",
      "for loop time 0.0030651092529296875\n",
      "hand mask sum: 2713.0\n",
      "Calculate single highest scoring object time: 0.029430627822875977\n",
      "Crop and resize time: 0.00096893310546875\n",
      "Posenet forward time: 0.0020165443420410156\n",
      "Posepriornet forward time: 0.0007622241973876953\n",
      "Viewpoint forward time: 0.0009677410125732422\n",
      "Get normalized 3d coordinates time: 0.000621795654296875\n",
      "Flip left handed input time: 0.00013566017150878906\n",
      "ScaLe heatmaps time 0.00010991096496582031\n",
      "Time for processing 1 frame: 0.04494071006774902s\n"
     ]
    },
    {
     "name": "stderr",
     "output_type": "stream",
     "text": [
      "\r",
      "257it [00:49,  4.19it/s]"
     ]
    },
    {
     "name": "stdout",
     "output_type": "stream",
     "text": [
      "tensor([[0.9998]], device='cuda:0', grad_fn=<SigmoidBackward>)\n",
      "Handnet forward time: 0.009801626205444336\n",
      "Handsegnet forward time: 0.0010716915130615234\n",
      "s shape torch.Size([1, 2, 224, 224])\n",
      "for loop time 0.0035469532012939453\n",
      "hand mask sum: 2695.0\n",
      "Calculate single highest scoring object time: 0.030930519104003906\n",
      "Crop and resize time: 0.0010476112365722656\n",
      "Posenet forward time: 0.0032744407653808594\n",
      "Posepriornet forward time: 0.0011417865753173828\n",
      "Viewpoint forward time: 0.0014600753784179688\n",
      "Get normalized 3d coordinates time: 0.0011250972747802734\n",
      "Flip left handed input time: 0.00018143653869628906\n",
      "ScaLe heatmaps time 8.988380432128906e-05\n",
      "Time for processing 1 frame: 0.050917625427246094s\n"
     ]
    },
    {
     "name": "stderr",
     "output_type": "stream",
     "text": [
      "\r",
      "258it [00:49,  4.16it/s]"
     ]
    },
    {
     "name": "stdout",
     "output_type": "stream",
     "text": [
      "tensor([[0.9996]], device='cuda:0', grad_fn=<SigmoidBackward>)\n",
      "Handnet forward time: 0.007512331008911133\n",
      "Handsegnet forward time: 0.0009906291961669922\n",
      "s shape torch.Size([1, 2, 224, 224])\n",
      "for loop time 0.003283977508544922\n",
      "hand mask sum: 2685.0\n",
      "Calculate single highest scoring object time: 0.030296802520751953\n",
      "Crop and resize time: 0.0009877681732177734\n",
      "Posenet forward time: 0.002129077911376953\n",
      "Posepriornet forward time: 0.0007646083831787109\n",
      "Viewpoint forward time: 0.0009822845458984375\n",
      "Get normalized 3d coordinates time: 0.0006263256072998047\n",
      "Flip left handed input time: 0.00013637542724609375\n",
      "ScaLe heatmaps time 0.0001087188720703125\n",
      "Time for processing 1 frame: 0.04516100883483887s\n"
     ]
    },
    {
     "name": "stderr",
     "output_type": "stream",
     "text": [
      "\r",
      "259it [00:49,  4.18it/s]"
     ]
    },
    {
     "name": "stdout",
     "output_type": "stream",
     "text": [
      "tensor([[0.9995]], device='cuda:0', grad_fn=<SigmoidBackward>)\n",
      "Handnet forward time: 0.008467435836791992\n",
      "Handsegnet forward time: 0.0010654926300048828\n",
      "s shape torch.Size([1, 2, 224, 224])\n",
      "for loop time 0.003323793411254883\n",
      "hand mask sum: 2657.0\n",
      "Calculate single highest scoring object time: 0.029880523681640625\n",
      "Crop and resize time: 0.0009703636169433594\n",
      "Posenet forward time: 0.002063751220703125\n",
      "Posepriornet forward time: 0.0007510185241699219\n",
      "Viewpoint forward time: 0.0009620189666748047\n",
      "Get normalized 3d coordinates time: 0.0006291866302490234\n",
      "Flip left handed input time: 0.00013685226440429688\n",
      "ScaLe heatmaps time 0.0001087188720703125\n",
      "Time for processing 1 frame: 0.04572916030883789s\n"
     ]
    },
    {
     "name": "stderr",
     "output_type": "stream",
     "text": [
      "\r",
      "260it [00:49,  4.20it/s]"
     ]
    },
    {
     "name": "stdout",
     "output_type": "stream",
     "text": [
      "tensor([[0.9996]], device='cuda:0', grad_fn=<SigmoidBackward>)\n",
      "Handnet forward time: 0.008610010147094727\n",
      "Handsegnet forward time: 0.0010292530059814453\n",
      "s shape torch.Size([1, 2, 224, 224])\n",
      "for loop time 0.003621339797973633\n",
      "hand mask sum: 2640.0\n",
      "Calculate single highest scoring object time: 0.029880285263061523\n",
      "Crop and resize time: 0.0010743141174316406\n",
      "Posenet forward time: 0.00244903564453125\n",
      "Posepriornet forward time: 0.0008857250213623047\n",
      "Viewpoint forward time: 0.0009233951568603516\n",
      "Get normalized 3d coordinates time: 0.0006189346313476562\n",
      "Flip left handed input time: 0.0001354217529296875\n",
      "ScaLe heatmaps time 0.00010514259338378906\n",
      "Time for processing 1 frame: 0.04637265205383301s\n"
     ]
    },
    {
     "name": "stderr",
     "output_type": "stream",
     "text": [
      "\r",
      "261it [00:50,  4.16it/s]"
     ]
    },
    {
     "name": "stdout",
     "output_type": "stream",
     "text": [
      "tensor([[0.9996]], device='cuda:0', grad_fn=<SigmoidBackward>)\n",
      "Handnet forward time: 0.008389949798583984\n",
      "Handsegnet forward time: 0.001107931137084961\n",
      "s shape torch.Size([1, 2, 224, 224])\n",
      "for loop time 0.003934144973754883\n",
      "hand mask sum: 2602.0\n",
      "Calculate single highest scoring object time: 0.03258967399597168\n",
      "Crop and resize time: 0.0009796619415283203\n",
      "Posenet forward time: 0.002080678939819336\n",
      "Posepriornet forward time: 0.0007646083831787109\n",
      "Viewpoint forward time: 0.0010764598846435547\n",
      "Get normalized 3d coordinates time: 0.0006544589996337891\n",
      "Flip left handed input time: 0.0001361370086669922\n",
      "ScaLe heatmaps time 3.504753112792969e-05\n",
      "Time for processing 1 frame: 0.04849815368652344s\n"
     ]
    },
    {
     "name": "stderr",
     "output_type": "stream",
     "text": [
      "\r",
      "262it [00:50,  4.16it/s]"
     ]
    },
    {
     "name": "stdout",
     "output_type": "stream",
     "text": [
      "tensor([[0.9996]], device='cuda:0', grad_fn=<SigmoidBackward>)\n",
      "Handnet forward time: 0.008062124252319336\n",
      "Handsegnet forward time: 0.001003265380859375\n",
      "s shape torch.Size([1, 2, 224, 224])\n",
      "for loop time 0.003908634185791016\n",
      "hand mask sum: 2583.0\n",
      "Calculate single highest scoring object time: 0.030286312103271484\n",
      "Crop and resize time: 0.0009472370147705078\n",
      "Posenet forward time: 0.0020542144775390625\n",
      "Posepriornet forward time: 0.0007469654083251953\n",
      "Viewpoint forward time: 0.0009465217590332031\n",
      "Get normalized 3d coordinates time: 0.000652313232421875\n",
      "Flip left handed input time: 0.0001361370086669922\n",
      "ScaLe heatmaps time 0.00010776519775390625\n",
      "Time for processing 1 frame: 0.04555535316467285s\n"
     ]
    },
    {
     "name": "stderr",
     "output_type": "stream",
     "text": [
      "\r",
      "263it [00:50,  4.18it/s]"
     ]
    },
    {
     "name": "stdout",
     "output_type": "stream",
     "text": [
      "tensor([[0.9996]], device='cuda:0', grad_fn=<SigmoidBackward>)\n",
      "Handnet forward time: 0.007581949234008789\n",
      "Handsegnet forward time: 0.0010750293731689453\n",
      "s shape torch.Size([1, 2, 224, 224])\n",
      "for loop time 0.003114461898803711\n",
      "hand mask sum: 2564.0\n",
      "Calculate single highest scoring object time: 0.032634735107421875\n",
      "Crop and resize time: 0.0009660720825195312\n",
      "Posenet forward time: 0.0020515918731689453\n",
      "Posepriornet forward time: 0.0007369518280029297\n",
      "Viewpoint forward time: 0.0009484291076660156\n",
      "Get normalized 3d coordinates time: 0.0008952617645263672\n",
      "Flip left handed input time: 9.393692016601562e-05\n",
      "ScaLe heatmaps time 0.00010251998901367188\n",
      "Time for processing 1 frame: 0.04794716835021973s\n"
     ]
    },
    {
     "name": "stderr",
     "output_type": "stream",
     "text": [
      "\r",
      "264it [00:51,  3.14it/s]"
     ]
    },
    {
     "name": "stdout",
     "output_type": "stream",
     "text": [
      "tensor([[0.9995]], device='cuda:0', grad_fn=<SigmoidBackward>)\n",
      "Handnet forward time: 0.00806427001953125\n",
      "Handsegnet forward time: 0.001041412353515625\n",
      "s shape torch.Size([1, 2, 224, 224])\n",
      "for loop time 0.0031003952026367188\n",
      "hand mask sum: 2529.0\n",
      "Calculate single highest scoring object time: 0.032012224197387695\n",
      "Crop and resize time: 0.0009894371032714844\n",
      "Posenet forward time: 0.002064228057861328\n",
      "Posepriornet forward time: 0.0007536411285400391\n",
      "Viewpoint forward time: 0.0009810924530029297\n",
      "Get normalized 3d coordinates time: 0.0006225109100341797\n",
      "Flip left handed input time: 0.00013780593872070312\n",
      "ScaLe heatmaps time 0.00011014938354492188\n",
      "Time for processing 1 frame: 0.04745912551879883s\n"
     ]
    },
    {
     "name": "stderr",
     "output_type": "stream",
     "text": [
      "\r",
      "265it [00:51,  3.39it/s]"
     ]
    },
    {
     "name": "stdout",
     "output_type": "stream",
     "text": [
      "tensor([[0.9984]], device='cuda:0', grad_fn=<SigmoidBackward>)\n",
      "Handnet forward time: 0.008520364761352539\n",
      "Handsegnet forward time: 0.0010597705841064453\n",
      "s shape torch.Size([1, 2, 224, 224])\n",
      "for loop time 0.0034666061401367188\n",
      "hand mask sum: 2495.0\n",
      "Calculate single highest scoring object time: 0.029697418212890625\n",
      "Crop and resize time: 0.0009853839874267578\n",
      "Posenet forward time: 0.002038717269897461\n",
      "Posepriornet forward time: 0.0007526874542236328\n",
      "Viewpoint forward time: 0.0009703636169433594\n",
      "Get normalized 3d coordinates time: 0.0006189346313476562\n",
      "Flip left handed input time: 0.00013947486877441406\n",
      "ScaLe heatmaps time 0.00011086463928222656\n",
      "Time for processing 1 frame: 0.04560208320617676s\n"
     ]
    },
    {
     "name": "stderr",
     "output_type": "stream",
     "text": [
      "\r",
      "266it [00:51,  3.62it/s]"
     ]
    },
    {
     "name": "stdout",
     "output_type": "stream",
     "text": [
      "tensor([[0.9970]], device='cuda:0', grad_fn=<SigmoidBackward>)\n",
      "Handnet forward time: 0.008929252624511719\n",
      "Handsegnet forward time: 0.0010349750518798828\n",
      "s shape torch.Size([1, 2, 224, 224])\n",
      "for loop time 0.004187583923339844\n",
      "hand mask sum: 2501.0\n",
      "Calculate single highest scoring object time: 0.03114914894104004\n",
      "Crop and resize time: 0.0010476112365722656\n",
      "Posenet forward time: 0.002098560333251953\n",
      "Posepriornet forward time: 0.0008375644683837891\n",
      "Viewpoint forward time: 0.0010693073272705078\n",
      "Get normalized 3d coordinates time: 0.0006763935089111328\n",
      "Flip left handed input time: 0.00016498565673828125\n",
      "ScaLe heatmaps time 0.000118255615234375\n",
      "Time for processing 1 frame: 0.04787254333496094s\n"
     ]
    },
    {
     "name": "stderr",
     "output_type": "stream",
     "text": [
      "\r",
      "267it [00:51,  3.75it/s]"
     ]
    },
    {
     "name": "stdout",
     "output_type": "stream",
     "text": [
      "tensor([[0.9972]], device='cuda:0', grad_fn=<SigmoidBackward>)\n",
      "Handnet forward time: 0.007513523101806641\n",
      "Handsegnet forward time: 0.0009760856628417969\n",
      "s shape torch.Size([1, 2, 224, 224])\n",
      "for loop time 0.003134012222290039\n",
      "hand mask sum: 2405.0\n",
      "Calculate single highest scoring object time: 0.03232169151306152\n",
      "Crop and resize time: 0.0010209083557128906\n",
      "Posenet forward time: 0.0021822452545166016\n",
      "Posepriornet forward time: 0.0009121894836425781\n",
      "Viewpoint forward time: 0.0009908676147460938\n",
      "Get normalized 3d coordinates time: 0.0006539821624755859\n",
      "Flip left handed input time: 0.00013685226440429688\n",
      "ScaLe heatmaps time 0.00010752677917480469\n",
      "Time for processing 1 frame: 0.047486066818237305s\n"
     ]
    },
    {
     "name": "stderr",
     "output_type": "stream",
     "text": [
      "\r",
      "268it [00:52,  3.84it/s]"
     ]
    },
    {
     "name": "stdout",
     "output_type": "stream",
     "text": [
      "tensor([[0.9985]], device='cuda:0', grad_fn=<SigmoidBackward>)\n",
      "Handnet forward time: 0.008552074432373047\n",
      "Handsegnet forward time: 0.0010483264923095703\n",
      "s shape torch.Size([1, 2, 224, 224])\n",
      "for loop time 0.003166675567626953\n",
      "hand mask sum: 2324.0\n",
      "Calculate single highest scoring object time: 0.0326685905456543\n",
      "Crop and resize time: 0.0009844303131103516\n",
      "Posenet forward time: 0.002045869827270508\n",
      "Posepriornet forward time: 0.0007901191711425781\n",
      "Viewpoint forward time: 0.0009884834289550781\n",
      "Get normalized 3d coordinates time: 0.0007367134094238281\n",
      "Flip left handed input time: 0.0001990795135498047\n",
      "ScaLe heatmaps time 0.00010704994201660156\n",
      "Time for processing 1 frame: 0.04883718490600586s\n"
     ]
    },
    {
     "name": "stderr",
     "output_type": "stream",
     "text": [
      "\r",
      "269it [00:52,  3.91it/s]"
     ]
    },
    {
     "name": "stdout",
     "output_type": "stream",
     "text": [
      "tensor([[0.9987]], device='cuda:0', grad_fn=<SigmoidBackward>)\n",
      "Handnet forward time: 0.00950169563293457\n",
      "Handsegnet forward time: 0.001055002212524414\n",
      "s shape torch.Size([1, 2, 224, 224])\n",
      "for loop time 0.003345966339111328\n",
      "hand mask sum: 2324.0\n",
      "Calculate single highest scoring object time: 0.030102014541625977\n",
      "Crop and resize time: 0.0009613037109375\n",
      "Posenet forward time: 0.00205230712890625\n",
      "Posepriornet forward time: 0.0007238388061523438\n",
      "Viewpoint forward time: 0.0009348392486572266\n",
      "Get normalized 3d coordinates time: 0.0005970001220703125\n",
      "Flip left handed input time: 0.0001392364501953125\n",
      "ScaLe heatmaps time 0.00011134147644042969\n",
      "Time for processing 1 frame: 0.04682159423828125s\n"
     ]
    },
    {
     "name": "stderr",
     "output_type": "stream",
     "text": [
      "\r",
      "270it [00:52,  4.00it/s]"
     ]
    },
    {
     "name": "stdout",
     "output_type": "stream",
     "text": [
      "tensor([[0.9971]], device='cuda:0', grad_fn=<SigmoidBackward>)\n",
      "Handnet forward time: 0.00755763053894043\n",
      "Handsegnet forward time: 0.0009551048278808594\n",
      "s shape torch.Size([1, 2, 224, 224])\n",
      "for loop time 0.004148006439208984\n",
      "hand mask sum: 2327.0\n",
      "Calculate single highest scoring object time: 0.030670642852783203\n",
      "Crop and resize time: 0.0010156631469726562\n",
      "Posenet forward time: 0.0020265579223632812\n",
      "Posepriornet forward time: 0.0007431507110595703\n",
      "Viewpoint forward time: 0.0009279251098632812\n",
      "Get normalized 3d coordinates time: 0.0006184577941894531\n",
      "Flip left handed input time: 5.817413330078125e-05\n",
      "ScaLe heatmaps time 3.409385681152344e-05\n",
      "Time for processing 1 frame: 0.04522109031677246s\n"
     ]
    },
    {
     "name": "stderr",
     "output_type": "stream",
     "text": [
      "\r",
      "271it [00:52,  4.06it/s]"
     ]
    },
    {
     "name": "stdout",
     "output_type": "stream",
     "text": [
      "tensor([[0.9972]], device='cuda:0', grad_fn=<SigmoidBackward>)\n",
      "Handnet forward time: 0.007491350173950195\n",
      "Handsegnet forward time: 0.0009520053863525391\n",
      "s shape torch.Size([1, 2, 224, 224])\n",
      "for loop time 0.003110170364379883\n",
      "hand mask sum: 2316.0\n",
      "Calculate single highest scoring object time: 0.03011035919189453\n",
      "Crop and resize time: 0.0009717941284179688\n",
      "Posenet forward time: 0.0020067691802978516\n",
      "Posepriornet forward time: 0.0007529258728027344\n",
      "Viewpoint forward time: 0.0009603500366210938\n",
      "Get normalized 3d coordinates time: 0.0006101131439208984\n",
      "Flip left handed input time: 0.00013947486877441406\n",
      "ScaLe heatmaps time 0.000110626220703125\n",
      "Time for processing 1 frame: 0.044759273529052734s\n"
     ]
    },
    {
     "name": "stderr",
     "output_type": "stream",
     "text": [
      "\r",
      "272it [00:53,  4.13it/s]"
     ]
    },
    {
     "name": "stdout",
     "output_type": "stream",
     "text": [
      "tensor([[0.9974]], device='cuda:0', grad_fn=<SigmoidBackward>)\n",
      "Handnet forward time: 0.008109092712402344\n",
      "Handsegnet forward time: 0.0010061264038085938\n",
      "s shape torch.Size([1, 2, 224, 224])\n",
      "for loop time 0.0030324459075927734\n",
      "hand mask sum: 2313.0\n",
      "Calculate single highest scoring object time: 0.029592514038085938\n",
      "Crop and resize time: 0.00093841552734375\n",
      "Posenet forward time: 0.0019354820251464844\n",
      "Posepriornet forward time: 0.0007424354553222656\n",
      "Viewpoint forward time: 0.0009341239929199219\n",
      "Get normalized 3d coordinates time: 0.0005917549133300781\n",
      "Flip left handed input time: 0.0001354217529296875\n",
      "ScaLe heatmaps time 0.00010776519775390625\n",
      "Time for processing 1 frame: 0.044727325439453125s\n"
     ]
    },
    {
     "name": "stderr",
     "output_type": "stream",
     "text": [
      "\r",
      "273it [00:53,  4.16it/s]"
     ]
    },
    {
     "name": "stdout",
     "output_type": "stream",
     "text": [
      "tensor([[0.9965]], device='cuda:0', grad_fn=<SigmoidBackward>)\n",
      "Handnet forward time: 0.008112192153930664\n",
      "Handsegnet forward time: 0.0011315345764160156\n",
      "s shape torch.Size([1, 2, 224, 224])\n",
      "for loop time 0.0031092166900634766\n",
      "hand mask sum: 2320.0\n",
      "Calculate single highest scoring object time: 0.03129124641418457\n",
      "Crop and resize time: 0.0009789466857910156\n",
      "Posenet forward time: 0.0020558834075927734\n",
      "Posepriornet forward time: 0.0007474422454833984\n",
      "Viewpoint forward time: 0.0009634494781494141\n",
      "Get normalized 3d coordinates time: 0.0006225109100341797\n",
      "Flip left handed input time: 0.00013947486877441406\n",
      "ScaLe heatmaps time 0.00011110305786132812\n",
      "Time for processing 1 frame: 0.04680180549621582s\n"
     ]
    },
    {
     "name": "stderr",
     "output_type": "stream",
     "text": [
      "\r",
      "274it [00:53,  4.18it/s]"
     ]
    },
    {
     "name": "stdout",
     "output_type": "stream",
     "text": [
      "tensor([[0.9963]], device='cuda:0', grad_fn=<SigmoidBackward>)\n",
      "Handnet forward time: 0.0082855224609375\n",
      "Handsegnet forward time: 0.0012063980102539062\n",
      "s shape torch.Size([1, 2, 224, 224])\n",
      "for loop time 0.003421306610107422\n",
      "hand mask sum: 2300.0\n",
      "Calculate single highest scoring object time: 0.03152585029602051\n",
      "Crop and resize time: 0.0009629726409912109\n",
      "Posenet forward time: 0.002017498016357422\n",
      "Posepriornet forward time: 0.0007216930389404297\n",
      "Viewpoint forward time: 0.0009317398071289062\n",
      "Get normalized 3d coordinates time: 0.0006475448608398438\n",
      "Flip left handed input time: 0.0001366138458251953\n",
      "ScaLe heatmaps time 0.0001087188720703125\n",
      "Time for processing 1 frame: 0.04719352722167969s\n"
     ]
    },
    {
     "name": "stderr",
     "output_type": "stream",
     "text": [
      "\r",
      "275it [00:53,  4.10it/s]"
     ]
    },
    {
     "name": "stdout",
     "output_type": "stream",
     "text": [
      "tensor([[0.9959]], device='cuda:0', grad_fn=<SigmoidBackward>)\n",
      "Handnet forward time: 0.008764505386352539\n",
      "Handsegnet forward time: 0.0010564327239990234\n",
      "s shape torch.Size([1, 2, 224, 224])\n",
      "for loop time 0.003331899642944336\n",
      "hand mask sum: 2318.0\n",
      "Calculate single highest scoring object time: 0.03188347816467285\n",
      "Crop and resize time: 0.0009694099426269531\n",
      "Posenet forward time: 0.001993894577026367\n",
      "Posepriornet forward time: 0.0007321834564208984\n",
      "Viewpoint forward time: 0.00093841552734375\n",
      "Get normalized 3d coordinates time: 0.0006058216094970703\n",
      "Flip left handed input time: 0.0001380443572998047\n",
      "ScaLe heatmaps time 0.00010323524475097656\n",
      "Time for processing 1 frame: 0.04783153533935547s\n"
     ]
    },
    {
     "name": "stderr",
     "output_type": "stream",
     "text": [
      "\r",
      "276it [00:54,  4.12it/s]"
     ]
    },
    {
     "name": "stdout",
     "output_type": "stream",
     "text": [
      "tensor([[0.9955]], device='cuda:0', grad_fn=<SigmoidBackward>)\n",
      "Handnet forward time: 0.007554292678833008\n",
      "Handsegnet forward time: 0.0009381771087646484\n",
      "s shape torch.Size([1, 2, 224, 224])\n",
      "for loop time 0.003145456314086914\n",
      "hand mask sum: 2322.0\n",
      "Calculate single highest scoring object time: 0.03015923500061035\n",
      "Crop and resize time: 0.0009541511535644531\n",
      "Posenet forward time: 0.0020241737365722656\n",
      "Posepriornet forward time: 0.000762939453125\n",
      "Viewpoint forward time: 0.0009510517120361328\n",
      "Get normalized 3d coordinates time: 0.0006535053253173828\n",
      "Flip left handed input time: 0.00014138221740722656\n",
      "ScaLe heatmaps time 0.00011134147644042969\n",
      "Time for processing 1 frame: 0.044873714447021484s\n"
     ]
    },
    {
     "name": "stderr",
     "output_type": "stream",
     "text": [
      "\r",
      "277it [00:54,  4.14it/s]"
     ]
    },
    {
     "name": "stdout",
     "output_type": "stream",
     "text": [
      "tensor([[0.9970]], device='cuda:0', grad_fn=<SigmoidBackward>)\n",
      "Handnet forward time: 0.008185148239135742\n",
      "Handsegnet forward time: 0.0015215873718261719\n",
      "s shape torch.Size([1, 2, 224, 224])\n",
      "for loop time 0.004100799560546875\n",
      "hand mask sum: 2327.0\n",
      "Calculate single highest scoring object time: 0.032206058502197266\n",
      "Crop and resize time: 0.0012590885162353516\n",
      "Posenet forward time: 0.0020036697387695312\n",
      "Posepriornet forward time: 0.000736236572265625\n",
      "Viewpoint forward time: 0.0009405612945556641\n",
      "Get normalized 3d coordinates time: 0.0006251335144042969\n",
      "Flip left handed input time: 0.00013589859008789062\n",
      "ScaLe heatmaps time 0.00010800361633300781\n",
      "Time for processing 1 frame: 0.04839205741882324s\n"
     ]
    },
    {
     "name": "stderr",
     "output_type": "stream",
     "text": [
      "\r",
      "278it [00:54,  4.12it/s]"
     ]
    },
    {
     "name": "stdout",
     "output_type": "stream",
     "text": [
      "tensor([[0.9976]], device='cuda:0', grad_fn=<SigmoidBackward>)\n",
      "Handnet forward time: 0.0075681209564208984\n",
      "Handsegnet forward time: 0.0009562969207763672\n",
      "s shape torch.Size([1, 2, 224, 224])\n",
      "for loop time 0.0031058788299560547\n",
      "hand mask sum: 2331.0\n",
      "Calculate single highest scoring object time: 0.032769203186035156\n",
      "Crop and resize time: 0.0009763240814208984\n",
      "Posenet forward time: 0.0019910335540771484\n",
      "Posepriornet forward time: 0.0007312297821044922\n",
      "Viewpoint forward time: 0.0009472370147705078\n",
      "Get normalized 3d coordinates time: 0.0006196498870849609\n",
      "Flip left handed input time: 5.7220458984375e-05\n",
      "ScaLe heatmaps time 3.3855438232421875e-05\n",
      "Time for processing 1 frame: 0.047272443771362305s\n"
     ]
    },
    {
     "name": "stderr",
     "output_type": "stream",
     "text": [
      "\r",
      "279it [00:54,  4.13it/s]"
     ]
    },
    {
     "name": "stdout",
     "output_type": "stream",
     "text": [
      "tensor([[0.9970]], device='cuda:0', grad_fn=<SigmoidBackward>)\n",
      "Handnet forward time: 0.009487390518188477\n",
      "Handsegnet forward time: 0.0011234283447265625\n",
      "s shape torch.Size([1, 2, 224, 224])\n",
      "for loop time 0.004836559295654297\n",
      "hand mask sum: 2309.0\n",
      "Calculate single highest scoring object time: 0.03197669982910156\n",
      "Crop and resize time: 0.0014581680297851562\n",
      "Posenet forward time: 0.0020351409912109375\n",
      "Posepriornet forward time: 0.0007565021514892578\n",
      "Viewpoint forward time: 0.0009615421295166016\n",
      "Get normalized 3d coordinates time: 0.0006456375122070312\n",
      "Flip left handed input time: 0.00014352798461914062\n",
      "ScaLe heatmaps time 5.817413330078125e-05\n",
      "Time for processing 1 frame: 0.049410104751586914s\n"
     ]
    },
    {
     "name": "stderr",
     "output_type": "stream",
     "text": [
      "\r",
      "280it [00:54,  4.11it/s]"
     ]
    },
    {
     "name": "stdout",
     "output_type": "stream",
     "text": [
      "tensor([[0.9973]], device='cuda:0', grad_fn=<SigmoidBackward>)\n",
      "Handnet forward time: 0.007556915283203125\n",
      "Handsegnet forward time: 0.0010259151458740234\n",
      "s shape torch.Size([1, 2, 224, 224])\n",
      "for loop time 0.0031082630157470703\n",
      "hand mask sum: 2314.0\n",
      "Calculate single highest scoring object time: 0.03146100044250488\n",
      "Crop and resize time: 0.0009913444519042969\n",
      "Posenet forward time: 0.0020067691802978516\n",
      "Posepriornet forward time: 0.0007367134094238281\n",
      "Viewpoint forward time: 0.0009572505950927734\n",
      "Get normalized 3d coordinates time: 0.0006144046783447266\n",
      "Flip left handed input time: 0.0001392364501953125\n",
      "ScaLe heatmaps time 0.000110626220703125\n",
      "Time for processing 1 frame: 0.04621291160583496s\n"
     ]
    },
    {
     "name": "stderr",
     "output_type": "stream",
     "text": [
      "\r",
      "281it [00:55,  4.15it/s]"
     ]
    },
    {
     "name": "stdout",
     "output_type": "stream",
     "text": [
      "tensor([[0.9965]], device='cuda:0', grad_fn=<SigmoidBackward>)\n",
      "Handnet forward time: 0.00825643539428711\n",
      "Handsegnet forward time: 0.0012323856353759766\n",
      "s shape torch.Size([1, 2, 224, 224])\n",
      "for loop time 0.0028908252716064453\n",
      "hand mask sum: 2305.0\n",
      "Calculate single highest scoring object time: 0.0284121036529541\n",
      "Crop and resize time: 0.0009047985076904297\n",
      "Posenet forward time: 0.001987934112548828\n",
      "Posepriornet forward time: 0.0007479190826416016\n",
      "Viewpoint forward time: 0.0009405612945556641\n",
      "Get normalized 3d coordinates time: 0.0006365776062011719\n",
      "Flip left handed input time: 0.00020194053649902344\n",
      "ScaLe heatmaps time 0.0001442432403564453\n",
      "Time for processing 1 frame: 0.04412031173706055s\n"
     ]
    },
    {
     "name": "stderr",
     "output_type": "stream",
     "text": [
      "\r",
      "282it [00:55,  4.19it/s]"
     ]
    },
    {
     "name": "stdout",
     "output_type": "stream",
     "text": [
      "tensor([[0.9959]], device='cuda:0', grad_fn=<SigmoidBackward>)\n",
      "Handnet forward time: 0.00852656364440918\n",
      "Handsegnet forward time: 0.0011513233184814453\n",
      "s shape torch.Size([1, 2, 224, 224])\n",
      "for loop time 0.003394603729248047\n",
      "hand mask sum: 2314.0\n",
      "Calculate single highest scoring object time: 0.030575275421142578\n",
      "Crop and resize time: 0.0009772777557373047\n",
      "Posenet forward time: 0.0019941329956054688\n",
      "Posepriornet forward time: 0.0007472038269042969\n",
      "Viewpoint forward time: 0.0009424686431884766\n",
      "Get normalized 3d coordinates time: 0.0006129741668701172\n",
      "Flip left handed input time: 0.0001354217529296875\n",
      "ScaLe heatmaps time 0.00010704994201660156\n",
      "Time for processing 1 frame: 0.04645347595214844s\n"
     ]
    },
    {
     "name": "stderr",
     "output_type": "stream",
     "text": [
      "\r",
      "283it [00:55,  4.21it/s]"
     ]
    },
    {
     "name": "stdout",
     "output_type": "stream",
     "text": [
      "tensor([[0.9947]], device='cuda:0', grad_fn=<SigmoidBackward>)\n",
      "Handnet forward time: 0.008545160293579102\n",
      "Handsegnet forward time: 0.001085519790649414\n",
      "s shape torch.Size([1, 2, 224, 224])\n",
      "for loop time 0.0033941268920898438\n",
      "hand mask sum: 2296.0\n",
      "Calculate single highest scoring object time: 0.029572486877441406\n",
      "Crop and resize time: 0.0009710788726806641\n",
      "Posenet forward time: 0.0019915103912353516\n",
      "Posepriornet forward time: 0.0007326602935791016\n",
      "Viewpoint forward time: 0.0009379386901855469\n",
      "Get normalized 3d coordinates time: 0.0006155967712402344\n",
      "Flip left handed input time: 0.0001373291015625\n",
      "ScaLe heatmaps time 0.000110626220703125\n",
      "Time for processing 1 frame: 0.04535865783691406s\n"
     ]
    },
    {
     "name": "stderr",
     "output_type": "stream",
     "text": [
      "\r",
      "284it [00:55,  4.17it/s]"
     ]
    },
    {
     "name": "stdout",
     "output_type": "stream",
     "text": [
      "tensor([[0.9957]], device='cuda:0', grad_fn=<SigmoidBackward>)\n",
      "Handnet forward time: 0.007547140121459961\n",
      "Handsegnet forward time: 0.0009534358978271484\n",
      "s shape torch.Size([1, 2, 224, 224])\n",
      "for loop time 0.003131866455078125\n",
      "hand mask sum: 2286.0\n",
      "Calculate single highest scoring object time: 0.032616615295410156\n",
      "Crop and resize time: 0.0010001659393310547\n",
      "Posenet forward time: 0.0020008087158203125\n",
      "Posepriornet forward time: 0.0007350444793701172\n",
      "Viewpoint forward time: 0.0009481906890869141\n",
      "Get normalized 3d coordinates time: 0.0006232261657714844\n",
      "Flip left handed input time: 0.0001373291015625\n",
      "ScaLe heatmaps time 8.845329284667969e-05\n",
      "Time for processing 1 frame: 0.047281503677368164s\n"
     ]
    },
    {
     "name": "stderr",
     "output_type": "stream",
     "text": [
      "\r",
      "285it [00:56,  4.16it/s]"
     ]
    },
    {
     "name": "stdout",
     "output_type": "stream",
     "text": [
      "tensor([[0.9869]], device='cuda:0', grad_fn=<SigmoidBackward>)\n",
      "Handnet forward time: 0.010016202926635742\n",
      "Handsegnet forward time: 0.0010743141174316406\n",
      "s shape torch.Size([1, 2, 224, 224])\n",
      "for loop time 0.0030989646911621094\n",
      "hand mask sum: 2253.0\n",
      "Calculate single highest scoring object time: 0.032713890075683594\n",
      "Crop and resize time: 0.0009739398956298828\n",
      "Posenet forward time: 0.0019903182983398438\n",
      "Posepriornet forward time: 0.0007588863372802734\n",
      "Viewpoint forward time: 0.0009465217590332031\n",
      "Get normalized 3d coordinates time: 0.0006101131439208984\n",
      "Flip left handed input time: 0.00015163421630859375\n",
      "ScaLe heatmaps time 0.00010848045349121094\n",
      "Time for processing 1 frame: 0.0499262809753418s\n"
     ]
    },
    {
     "name": "stderr",
     "output_type": "stream",
     "text": [
      "\r",
      "286it [00:56,  4.15it/s]"
     ]
    },
    {
     "name": "stdout",
     "output_type": "stream",
     "text": [
      "tensor([[0.9784]], device='cuda:0', grad_fn=<SigmoidBackward>)\n",
      "Handnet forward time: 0.007535696029663086\n",
      "Handsegnet forward time: 0.0009534358978271484\n",
      "s shape torch.Size([1, 2, 224, 224])\n",
      "for loop time 0.0030927658081054688\n",
      "hand mask sum: 2207.0\n",
      "Calculate single highest scoring object time: 0.03264927864074707\n",
      "Crop and resize time: 0.001956939697265625\n",
      "Posenet forward time: 0.002109050750732422\n",
      "Posepriornet forward time: 0.0008072853088378906\n",
      "Viewpoint forward time: 0.0009584426879882812\n",
      "Get normalized 3d coordinates time: 0.0006186962127685547\n",
      "Flip left handed input time: 0.00010776519775390625\n",
      "ScaLe heatmaps time 7.653236389160156e-05\n",
      "Time for processing 1 frame: 0.048426151275634766s\n"
     ]
    },
    {
     "name": "stderr",
     "output_type": "stream",
     "text": [
      "\r",
      "287it [00:56,  4.15it/s]"
     ]
    },
    {
     "name": "stdout",
     "output_type": "stream",
     "text": [
      "tensor([[0.9795]], device='cuda:0', grad_fn=<SigmoidBackward>)\n",
      "Handnet forward time: 0.009948492050170898\n",
      "Handsegnet forward time: 0.001024484634399414\n",
      "s shape torch.Size([1, 2, 224, 224])\n",
      "for loop time 0.0030541419982910156\n",
      "hand mask sum: 2180.0\n",
      "Calculate single highest scoring object time: 0.03135800361633301\n",
      "Crop and resize time: 0.0009593963623046875\n",
      "Posenet forward time: 0.001999378204345703\n",
      "Posepriornet forward time: 0.0007343292236328125\n",
      "Viewpoint forward time: 0.0009493827819824219\n",
      "Get normalized 3d coordinates time: 0.0006108283996582031\n",
      "Flip left handed input time: 0.0001366138458251953\n",
      "ScaLe heatmaps time 0.00010967254638671875\n",
      "Time for processing 1 frame: 0.048477888107299805s\n"
     ]
    },
    {
     "name": "stderr",
     "output_type": "stream",
     "text": [
      "\r",
      "288it [00:56,  4.15it/s]"
     ]
    },
    {
     "name": "stdout",
     "output_type": "stream",
     "text": [
      "tensor([[0.9813]], device='cuda:0', grad_fn=<SigmoidBackward>)\n",
      "Handnet forward time: 0.007500886917114258\n",
      "Handsegnet forward time: 0.0010919570922851562\n",
      "s shape torch.Size([1, 2, 224, 224])\n",
      "for loop time 0.003084897994995117\n",
      "hand mask sum: 2160.0\n",
      "Calculate single highest scoring object time: 0.03169870376586914\n",
      "Crop and resize time: 0.0009655952453613281\n",
      "Posenet forward time: 0.001985311508178711\n",
      "Posepriornet forward time: 0.0007281303405761719\n",
      "Viewpoint forward time: 0.0009329319000244141\n",
      "Get normalized 3d coordinates time: 0.0006206035614013672\n",
      "Flip left handed input time: 0.00013709068298339844\n",
      "ScaLe heatmaps time 0.00010776519775390625\n",
      "Time for processing 1 frame: 0.046228647232055664s\n"
     ]
    },
    {
     "name": "stderr",
     "output_type": "stream",
     "text": [
      "\r",
      "289it [00:57,  4.14it/s]"
     ]
    },
    {
     "name": "stdout",
     "output_type": "stream",
     "text": [
      "tensor([[0.9874]], device='cuda:0', grad_fn=<SigmoidBackward>)\n",
      "Handnet forward time: 0.010020256042480469\n",
      "Handsegnet forward time: 0.001058816909790039\n",
      "s shape torch.Size([1, 2, 224, 224])\n",
      "for loop time 0.002999544143676758\n",
      "hand mask sum: 2140.0\n",
      "Calculate single highest scoring object time: 0.033934593200683594\n",
      "Crop and resize time: 0.0009725093841552734\n",
      "Posenet forward time: 0.001985788345336914\n",
      "Posepriornet forward time: 0.0007343292236328125\n",
      "Viewpoint forward time: 0.0010628700256347656\n",
      "Get normalized 3d coordinates time: 0.0006229877471923828\n",
      "Flip left handed input time: 0.00013637542724609375\n",
      "ScaLe heatmaps time 0.00010824203491210938\n",
      "Time for processing 1 frame: 0.05130481719970703s\n"
     ]
    },
    {
     "name": "stderr",
     "output_type": "stream",
     "text": [
      "\r",
      "290it [00:57,  4.09it/s]"
     ]
    },
    {
     "name": "stdout",
     "output_type": "stream",
     "text": [
      "tensor([[0.9889]], device='cuda:0', grad_fn=<SigmoidBackward>)\n",
      "Handnet forward time: 0.008565187454223633\n",
      "Handsegnet forward time: 0.001007080078125\n",
      "s shape torch.Size([1, 2, 224, 224])\n",
      "for loop time 0.0031049251556396484\n",
      "hand mask sum: 2118.0\n",
      "Calculate single highest scoring object time: 0.032105207443237305\n",
      "Crop and resize time: 0.0009975433349609375\n",
      "Posenet forward time: 0.0020437240600585938\n",
      "Posepriornet forward time: 0.0007503032684326172\n",
      "Viewpoint forward time: 0.0009520053863525391\n",
      "Get normalized 3d coordinates time: 0.0006186962127685547\n",
      "Flip left handed input time: 0.00013685226440429688\n",
      "ScaLe heatmaps time 0.00010848045349121094\n",
      "Time for processing 1 frame: 0.047928571701049805s\n"
     ]
    },
    {
     "name": "stderr",
     "output_type": "stream",
     "text": [
      "\r",
      "291it [00:57,  4.12it/s]"
     ]
    },
    {
     "name": "stdout",
     "output_type": "stream",
     "text": [
      "tensor([[0.9790]], device='cuda:0', grad_fn=<SigmoidBackward>)\n",
      "Handnet forward time: 0.007521629333496094\n",
      "Handsegnet forward time: 0.001108407974243164\n",
      "s shape torch.Size([1, 2, 224, 224])\n",
      "for loop time 0.00305938720703125\n",
      "hand mask sum: 2099.0\n",
      "Calculate single highest scoring object time: 0.03035259246826172\n",
      "Crop and resize time: 0.0009469985961914062\n",
      "Posenet forward time: 0.0019576549530029297\n",
      "Posepriornet forward time: 0.0007238388061523438\n",
      "Viewpoint forward time: 0.0009889602661132812\n",
      "Get normalized 3d coordinates time: 0.0006029605865478516\n",
      "Flip left handed input time: 0.00015735626220703125\n",
      "ScaLe heatmaps time 0.00012087821960449219\n",
      "Time for processing 1 frame: 0.04494452476501465s\n"
     ]
    },
    {
     "name": "stderr",
     "output_type": "stream",
     "text": [
      "\r",
      "292it [00:57,  4.18it/s]"
     ]
    },
    {
     "name": "stdout",
     "output_type": "stream",
     "text": [
      "tensor([[0.9597]], device='cuda:0', grad_fn=<SigmoidBackward>)\n",
      "Handnet forward time: 0.00807642936706543\n",
      "Handsegnet forward time: 0.0010018348693847656\n",
      "s shape torch.Size([1, 2, 224, 224])\n",
      "for loop time 0.003076314926147461\n",
      "hand mask sum: 2085.0\n",
      "Calculate single highest scoring object time: 0.030051231384277344\n",
      "Crop and resize time: 0.0009608268737792969\n",
      "Posenet forward time: 0.0019774436950683594\n",
      "Posepriornet forward time: 0.0007321834564208984\n",
      "Viewpoint forward time: 0.000911712646484375\n",
      "Get normalized 3d coordinates time: 0.0006098747253417969\n",
      "Flip left handed input time: 0.00013756752014160156\n",
      "ScaLe heatmaps time 3.0994415283203125e-05\n",
      "Time for processing 1 frame: 0.04515671730041504s\n"
     ]
    },
    {
     "name": "stderr",
     "output_type": "stream",
     "text": [
      "\r",
      "293it [00:58,  4.21it/s]"
     ]
    },
    {
     "name": "stdout",
     "output_type": "stream",
     "text": [
      "tensor([[0.9604]], device='cuda:0', grad_fn=<SigmoidBackward>)\n",
      "Handnet forward time: 0.008083343505859375\n",
      "Handsegnet forward time: 0.0010123252868652344\n",
      "s shape torch.Size([1, 2, 224, 224])\n",
      "for loop time 0.0030820369720458984\n",
      "hand mask sum: 2080.0\n",
      "Calculate single highest scoring object time: 0.03014540672302246\n",
      "Crop and resize time: 0.0009777545928955078\n",
      "Posenet forward time: 0.001985311508178711\n",
      "Posepriornet forward time: 0.0007290840148925781\n",
      "Viewpoint forward time: 0.0009515285491943359\n",
      "Get normalized 3d coordinates time: 0.0006060600280761719\n",
      "Flip left handed input time: 0.0001385211944580078\n",
      "ScaLe heatmaps time 0.00011014938354492188\n",
      "Time for processing 1 frame: 0.04536724090576172s\n"
     ]
    },
    {
     "name": "stderr",
     "output_type": "stream",
     "text": [
      "\r",
      "294it [00:58,  4.24it/s]"
     ]
    },
    {
     "name": "stdout",
     "output_type": "stream",
     "text": [
      "tensor([[0.9679]], device='cuda:0', grad_fn=<SigmoidBackward>)\n",
      "Handnet forward time: 0.007832050323486328\n",
      "Handsegnet forward time: 0.001116037368774414\n",
      "s shape torch.Size([1, 2, 224, 224])\n",
      "for loop time 0.002925395965576172\n",
      "hand mask sum: 2068.0\n",
      "Calculate single highest scoring object time: 0.030122995376586914\n",
      "Crop and resize time: 0.0009944438934326172\n",
      "Posenet forward time: 0.0019388198852539062\n",
      "Posepriornet forward time: 0.0007131099700927734\n",
      "Viewpoint forward time: 0.0009160041809082031\n",
      "Get normalized 3d coordinates time: 0.0006358623504638672\n",
      "Flip left handed input time: 0.00013518333435058594\n",
      "ScaLe heatmaps time 0.00010752677917480469\n",
      "Time for processing 1 frame: 0.045246124267578125s\n"
     ]
    },
    {
     "name": "stderr",
     "output_type": "stream",
     "text": [
      "\r",
      "295it [00:58,  4.26it/s]"
     ]
    },
    {
     "name": "stdout",
     "output_type": "stream",
     "text": [
      "tensor([[0.9640]], device='cuda:0', grad_fn=<SigmoidBackward>)\n",
      "Handnet forward time: 0.008162498474121094\n",
      "Handsegnet forward time: 0.001129150390625\n",
      "s shape torch.Size([1, 2, 224, 224])\n",
      "for loop time 0.0031719207763671875\n",
      "hand mask sum: 2069.0\n",
      "Calculate single highest scoring object time: 0.03261208534240723\n",
      "Crop and resize time: 0.0009636878967285156\n",
      "Posenet forward time: 0.001984119415283203\n",
      "Posepriornet forward time: 0.0007762908935546875\n",
      "Viewpoint forward time: 0.0009436607360839844\n",
      "Get normalized 3d coordinates time: 0.0006051063537597656\n",
      "Flip left handed input time: 0.0001385211944580078\n",
      "ScaLe heatmaps time 0.00010704994201660156\n",
      "Time for processing 1 frame: 0.047885894775390625s\n"
     ]
    },
    {
     "name": "stderr",
     "output_type": "stream",
     "text": [
      "\r",
      "296it [00:58,  4.24it/s]"
     ]
    },
    {
     "name": "stdout",
     "output_type": "stream",
     "text": [
      "tensor([[0.9592]], device='cuda:0', grad_fn=<SigmoidBackward>)\n",
      "Handnet forward time: 0.008181333541870117\n",
      "Handsegnet forward time: 0.0010373592376708984\n",
      "s shape torch.Size([1, 2, 224, 224])\n",
      "for loop time 0.0031015872955322266\n",
      "hand mask sum: 2053.0\n",
      "Calculate single highest scoring object time: 0.030005693435668945\n",
      "Crop and resize time: 0.0009584426879882812\n",
      "Posenet forward time: 0.0019845962524414062\n",
      "Posepriornet forward time: 0.0007345676422119141\n",
      "Viewpoint forward time: 0.0009410381317138672\n",
      "Get normalized 3d coordinates time: 0.0006091594696044922\n",
      "Flip left handed input time: 0.00013709068298339844\n",
      "ScaLe heatmaps time 0.00010704994201660156\n",
      "Time for processing 1 frame: 0.04513692855834961s\n"
     ]
    },
    {
     "name": "stderr",
     "output_type": "stream",
     "text": [
      "\r",
      "297it [00:59,  4.27it/s]"
     ]
    },
    {
     "name": "stdout",
     "output_type": "stream",
     "text": [
      "tensor([[0.9646]], device='cuda:0', grad_fn=<SigmoidBackward>)\n",
      "Handnet forward time: 0.008061408996582031\n",
      "Handsegnet forward time: 0.0009846687316894531\n",
      "s shape torch.Size([1, 2, 224, 224])\n",
      "for loop time 0.002972126007080078\n",
      "hand mask sum: 2064.0\n",
      "Calculate single highest scoring object time: 0.029570579528808594\n",
      "Crop and resize time: 0.0009410381317138672\n",
      "Posenet forward time: 0.001875162124633789\n",
      "Posepriornet forward time: 0.0007026195526123047\n",
      "Viewpoint forward time: 0.0009553432464599609\n",
      "Get normalized 3d coordinates time: 0.0005812644958496094\n",
      "Flip left handed input time: 0.00012874603271484375\n",
      "ScaLe heatmaps time 0.00010514259338378906\n",
      "Time for processing 1 frame: 0.04451632499694824s\n"
     ]
    },
    {
     "name": "stderr",
     "output_type": "stream",
     "text": [
      "\r",
      "298it [00:59,  4.28it/s]"
     ]
    },
    {
     "name": "stdout",
     "output_type": "stream",
     "text": [
      "tensor([[0.9695]], device='cuda:0', grad_fn=<SigmoidBackward>)\n",
      "Handnet forward time: 0.008974313735961914\n",
      "Handsegnet forward time: 0.001020193099975586\n",
      "s shape torch.Size([1, 2, 224, 224])\n",
      "for loop time 0.0029680728912353516\n",
      "hand mask sum: 2065.0\n",
      "Calculate single highest scoring object time: 0.032073020935058594\n",
      "Crop and resize time: 0.0009622573852539062\n",
      "Posenet forward time: 0.0019965171813964844\n",
      "Posepriornet forward time: 0.0007336139678955078\n",
      "Viewpoint forward time: 0.0009431838989257812\n",
      "Get normalized 3d coordinates time: 0.0006184577941894531\n",
      "Flip left handed input time: 5.7697296142578125e-05\n",
      "ScaLe heatmaps time 3.361701965332031e-05\n",
      "Time for processing 1 frame: 0.04806685447692871s\n"
     ]
    },
    {
     "name": "stderr",
     "output_type": "stream",
     "text": [
      "\r",
      "299it [00:59,  4.25it/s]"
     ]
    },
    {
     "name": "stdout",
     "output_type": "stream",
     "text": [
      "tensor([[0.9711]], device='cuda:0', grad_fn=<SigmoidBackward>)\n",
      "Handnet forward time: 0.00778508186340332\n",
      "Handsegnet forward time: 0.0010638236999511719\n",
      "s shape torch.Size([1, 2, 224, 224])\n",
      "for loop time 0.0040357112884521484\n",
      "hand mask sum: 2070.0\n",
      "Calculate single highest scoring object time: 0.03295302391052246\n",
      "Crop and resize time: 0.0012879371643066406\n",
      "Posenet forward time: 0.0021021366119384766\n",
      "Posepriornet forward time: 0.0008943080902099609\n",
      "Viewpoint forward time: 0.0014977455139160156\n",
      "Get normalized 3d coordinates time: 0.0010559558868408203\n",
      "Flip left handed input time: 0.00015592575073242188\n",
      "ScaLe heatmaps time 5.602836608886719e-05\n",
      "Time for processing 1 frame: 0.04986882209777832s\n"
     ]
    },
    {
     "name": "stderr",
     "output_type": "stream",
     "text": [
      "\r",
      "300it [00:59,  4.22it/s]"
     ]
    },
    {
     "name": "stdout",
     "output_type": "stream",
     "text": [
      "tensor([[0.9833]], device='cuda:0', grad_fn=<SigmoidBackward>)\n",
      "Handnet forward time: 0.007627725601196289\n",
      "Handsegnet forward time: 0.000997781753540039\n",
      "s shape torch.Size([1, 2, 224, 224])\n",
      "for loop time 0.0037059783935546875\n",
      "hand mask sum: 2064.0\n",
      "Calculate single highest scoring object time: 0.03048849105834961\n",
      "Crop and resize time: 0.0010612010955810547\n",
      "Posenet forward time: 0.0020117759704589844\n",
      "Posepriornet forward time: 0.0007371902465820312\n",
      "Viewpoint forward time: 0.0009150505065917969\n",
      "Get normalized 3d coordinates time: 0.0006077289581298828\n",
      "Flip left handed input time: 0.00013518333435058594\n",
      "ScaLe heatmaps time 0.00010895729064941406\n",
      "Time for processing 1 frame: 0.04532337188720703s\n"
     ]
    },
    {
     "name": "stderr",
     "output_type": "stream",
     "text": [
      "\r",
      "301it [00:59,  4.24it/s]"
     ]
    },
    {
     "name": "stdout",
     "output_type": "stream",
     "text": [
      "tensor([[0.9862]], device='cuda:0', grad_fn=<SigmoidBackward>)\n",
      "Handnet forward time: 0.009154558181762695\n",
      "Handsegnet forward time: 0.0010225772857666016\n",
      "s shape torch.Size([1, 2, 224, 224])\n",
      "for loop time 0.002978086471557617\n",
      "hand mask sum: 2067.0\n",
      "Calculate single highest scoring object time: 0.032392024993896484\n",
      "Crop and resize time: 0.0009725093841552734\n",
      "Posenet forward time: 0.001991748809814453\n",
      "Posepriornet forward time: 0.0007572174072265625\n",
      "Viewpoint forward time: 0.0009598731994628906\n",
      "Get normalized 3d coordinates time: 0.0006203651428222656\n",
      "Flip left handed input time: 0.00013685226440429688\n",
      "ScaLe heatmaps time 0.00010824203491210938\n",
      "Time for processing 1 frame: 0.04874587059020996s\n"
     ]
    },
    {
     "name": "stderr",
     "output_type": "stream",
     "text": [
      "\r",
      "302it [01:00,  4.21it/s]"
     ]
    },
    {
     "name": "stdout",
     "output_type": "stream",
     "text": [
      "tensor([[0.9899]], device='cuda:0', grad_fn=<SigmoidBackward>)\n",
      "Handnet forward time: 0.008065223693847656\n",
      "Handsegnet forward time: 0.001127004623413086\n",
      "s shape torch.Size([1, 2, 224, 224])\n",
      "for loop time 0.0030715465545654297\n",
      "hand mask sum: 2080.0\n",
      "Calculate single highest scoring object time: 0.0315401554107666\n",
      "Crop and resize time: 0.001874685287475586\n",
      "Posenet forward time: 0.0020177364349365234\n",
      "Posepriornet forward time: 0.0007407665252685547\n",
      "Viewpoint forward time: 0.0009644031524658203\n",
      "Get normalized 3d coordinates time: 0.0006184577941894531\n",
      "Flip left handed input time: 0.00013256072998046875\n",
      "ScaLe heatmaps time 0.00010776519775390625\n",
      "Time for processing 1 frame: 0.04777121543884277s\n"
     ]
    },
    {
     "name": "stderr",
     "output_type": "stream",
     "text": [
      "\r",
      "303it [01:00,  4.20it/s]"
     ]
    },
    {
     "name": "stdout",
     "output_type": "stream",
     "text": [
      "tensor([[0.9907]], device='cuda:0', grad_fn=<SigmoidBackward>)\n",
      "Handnet forward time: 0.009885549545288086\n",
      "Handsegnet forward time: 0.0010159015655517578\n",
      "s shape torch.Size([1, 2, 224, 224])\n",
      "for loop time 0.003396272659301758\n",
      "hand mask sum: 2080.0\n",
      "Calculate single highest scoring object time: 0.03193545341491699\n",
      "Crop and resize time: 0.0009703636169433594\n",
      "Posenet forward time: 0.0019741058349609375\n",
      "Posepriornet forward time: 0.0007419586181640625\n",
      "Viewpoint forward time: 0.000946044921875\n",
      "Get normalized 3d coordinates time: 0.0006232261657714844\n",
      "Flip left handed input time: 0.000133514404296875\n",
      "ScaLe heatmaps time 0.00010991096496582031\n",
      "Time for processing 1 frame: 0.04897427558898926s\n"
     ]
    },
    {
     "name": "stderr",
     "output_type": "stream",
     "text": [
      "\r",
      "304it [01:00,  4.19it/s]"
     ]
    },
    {
     "name": "stdout",
     "output_type": "stream",
     "text": [
      "tensor([[0.9905]], device='cuda:0', grad_fn=<SigmoidBackward>)\n",
      "Handnet forward time: 0.00749516487121582\n",
      "Handsegnet forward time: 0.001008749008178711\n",
      "s shape torch.Size([1, 2, 224, 224])\n",
      "for loop time 0.0029594898223876953\n",
      "hand mask sum: 2079.0\n",
      "Calculate single highest scoring object time: 0.0324702262878418\n",
      "Crop and resize time: 0.0009729862213134766\n",
      "Posenet forward time: 0.001990795135498047\n",
      "Posepriornet forward time: 0.0007717609405517578\n",
      "Viewpoint forward time: 0.0009658336639404297\n",
      "Get normalized 3d coordinates time: 0.0006175041198730469\n",
      "Flip left handed input time: 0.00013709068298339844\n",
      "ScaLe heatmaps time 0.00010371208190917969\n",
      "Time for processing 1 frame: 0.047168731689453125s\n"
     ]
    },
    {
     "name": "stderr",
     "output_type": "stream",
     "text": [
      "\r",
      "305it [01:00,  4.19it/s]"
     ]
    },
    {
     "name": "stdout",
     "output_type": "stream",
     "text": [
      "tensor([[0.9932]], device='cuda:0', grad_fn=<SigmoidBackward>)\n",
      "Handnet forward time: 0.008090496063232422\n",
      "Handsegnet forward time: 0.0010333061218261719\n",
      "s shape torch.Size([1, 2, 224, 224])\n",
      "for loop time 0.002969026565551758\n",
      "hand mask sum: 2070.0\n",
      "Calculate single highest scoring object time: 0.03136730194091797\n",
      "Crop and resize time: 0.0019936561584472656\n",
      "Posenet forward time: 0.0019843578338623047\n",
      "Posepriornet forward time: 0.0007312297821044922\n",
      "Viewpoint forward time: 0.0009589195251464844\n",
      "Get normalized 3d coordinates time: 0.0006113052368164062\n",
      "Flip left handed input time: 0.0001380443572998047\n",
      "ScaLe heatmaps time 0.00010967254638671875\n",
      "Time for processing 1 frame: 0.04767036437988281s\n"
     ]
    },
    {
     "name": "stderr",
     "output_type": "stream",
     "text": [
      "\r",
      "306it [01:01,  4.19it/s]"
     ]
    },
    {
     "name": "stdout",
     "output_type": "stream",
     "text": [
      "tensor([[0.9935]], device='cuda:0', grad_fn=<SigmoidBackward>)\n",
      "Handnet forward time: 0.010195255279541016\n",
      "Handsegnet forward time: 0.0010266304016113281\n",
      "s shape torch.Size([1, 2, 224, 224])\n",
      "for loop time 0.0030918121337890625\n",
      "hand mask sum: 2080.0\n",
      "Calculate single highest scoring object time: 0.032698631286621094\n",
      "Crop and resize time: 0.0009663105010986328\n",
      "Posenet forward time: 0.0019922256469726562\n",
      "Posepriornet forward time: 0.0007307529449462891\n",
      "Viewpoint forward time: 0.0009429454803466797\n",
      "Get normalized 3d coordinates time: 0.0006031990051269531\n",
      "Flip left handed input time: 0.00014638900756835938\n",
      "ScaLe heatmaps time 5.793571472167969e-05\n",
      "Time for processing 1 frame: 0.05000662803649902s\n"
     ]
    },
    {
     "name": "stderr",
     "output_type": "stream",
     "text": [
      "\r",
      "307it [01:01,  4.18it/s]"
     ]
    },
    {
     "name": "stdout",
     "output_type": "stream",
     "text": [
      "tensor([[0.9928]], device='cuda:0', grad_fn=<SigmoidBackward>)\n",
      "Handnet forward time: 0.007520914077758789\n",
      "Handsegnet forward time: 0.0009374618530273438\n",
      "s shape torch.Size([1, 2, 224, 224])\n",
      "for loop time 0.003091096878051758\n",
      "hand mask sum: 2074.0\n",
      "Calculate single highest scoring object time: 0.03006887435913086\n",
      "Crop and resize time: 0.0009617805480957031\n",
      "Posenet forward time: 0.0019757747650146484\n",
      "Posepriornet forward time: 0.0007345676422119141\n",
      "Viewpoint forward time: 0.0009367465972900391\n",
      "Get normalized 3d coordinates time: 0.0006265640258789062\n",
      "Flip left handed input time: 0.0001347064971923828\n",
      "ScaLe heatmaps time 0.00011134147644042969\n",
      "Time for processing 1 frame: 0.044622182846069336s\n"
     ]
    },
    {
     "name": "stderr",
     "output_type": "stream",
     "text": [
      "\r",
      "308it [01:01,  4.23it/s]"
     ]
    },
    {
     "name": "stdout",
     "output_type": "stream",
     "text": [
      "tensor([[0.9915]], device='cuda:0', grad_fn=<SigmoidBackward>)\n",
      "Handnet forward time: 0.010150671005249023\n",
      "Handsegnet forward time: 0.0010411739349365234\n",
      "s shape torch.Size([1, 2, 224, 224])\n",
      "for loop time 0.0030469894409179688\n",
      "hand mask sum: 2083.0\n",
      "Calculate single highest scoring object time: 0.0322108268737793\n",
      "Crop and resize time: 0.0009760856628417969\n",
      "Posenet forward time: 0.0019767284393310547\n",
      "Posepriornet forward time: 0.0007431507110595703\n",
      "Viewpoint forward time: 0.00093841552734375\n",
      "Get normalized 3d coordinates time: 0.0006129741668701172\n",
      "Flip left handed input time: 0.00013709068298339844\n",
      "ScaLe heatmaps time 0.00010585784912109375\n",
      "Time for processing 1 frame: 0.04955029487609863s\n"
     ]
    },
    {
     "name": "stderr",
     "output_type": "stream",
     "text": [
      "\r",
      "309it [01:01,  4.18it/s]"
     ]
    },
    {
     "name": "stdout",
     "output_type": "stream",
     "text": [
      "tensor([[0.9917]], device='cuda:0', grad_fn=<SigmoidBackward>)\n",
      "Handnet forward time: 0.008556842803955078\n",
      "Handsegnet forward time: 0.0010318756103515625\n",
      "s shape torch.Size([1, 2, 224, 224])\n",
      "for loop time 0.0036308765411376953\n",
      "hand mask sum: 2080.0\n",
      "Calculate single highest scoring object time: 0.03018641471862793\n",
      "Crop and resize time: 0.0009899139404296875\n",
      "Posenet forward time: 0.002000093460083008\n",
      "Posepriornet forward time: 0.00074005126953125\n",
      "Viewpoint forward time: 0.0009396076202392578\n",
      "Get normalized 3d coordinates time: 0.0006189346313476562\n",
      "Flip left handed input time: 0.00013685226440429688\n",
      "ScaLe heatmaps time 0.00010991096496582031\n",
      "Time for processing 1 frame: 0.04597282409667969s\n"
     ]
    },
    {
     "name": "stderr",
     "output_type": "stream",
     "text": [
      "\r",
      "310it [01:02,  4.19it/s]"
     ]
    },
    {
     "name": "stdout",
     "output_type": "stream",
     "text": [
      "tensor([[0.9891]], device='cuda:0', grad_fn=<SigmoidBackward>)\n",
      "Handnet forward time: 0.008675575256347656\n",
      "Handsegnet forward time: 0.0010080337524414062\n",
      "s shape torch.Size([1, 2, 224, 224])\n",
      "for loop time 0.0030934810638427734\n",
      "hand mask sum: 2080.0\n",
      "Calculate single highest scoring object time: 0.03298544883728027\n",
      "Crop and resize time: 0.0009679794311523438\n",
      "Posenet forward time: 0.001996278762817383\n",
      "Posepriornet forward time: 0.0007295608520507812\n",
      "Viewpoint forward time: 0.0009491443634033203\n",
      "Get normalized 3d coordinates time: 0.0006041526794433594\n",
      "Flip left handed input time: 0.0001404285430908203\n",
      "ScaLe heatmaps time 7.843971252441406e-05\n",
      "Time for processing 1 frame: 0.04877448081970215s\n"
     ]
    },
    {
     "name": "stderr",
     "output_type": "stream",
     "text": [
      "\r",
      "311it [01:02,  4.22it/s]"
     ]
    },
    {
     "name": "stdout",
     "output_type": "stream",
     "text": [
      "tensor([[0.9902]], device='cuda:0', grad_fn=<SigmoidBackward>)\n",
      "Handnet forward time: 0.008824586868286133\n",
      "Handsegnet forward time: 0.0009775161743164062\n",
      "s shape torch.Size([1, 2, 224, 224])\n",
      "for loop time 0.0036640167236328125\n",
      "hand mask sum: 2082.0\n",
      "Calculate single highest scoring object time: 0.029430150985717773\n",
      "Crop and resize time: 0.0009608268737792969\n",
      "Posenet forward time: 0.0019724369049072266\n",
      "Posepriornet forward time: 0.0007317066192626953\n",
      "Viewpoint forward time: 0.0009419918060302734\n",
      "Get normalized 3d coordinates time: 0.0006177425384521484\n",
      "Flip left handed input time: 5.91278076171875e-05\n",
      "ScaLe heatmaps time 3.075599670410156e-05\n",
      "Time for processing 1 frame: 0.04530811309814453s\n"
     ]
    },
    {
     "name": "stderr",
     "output_type": "stream",
     "text": [
      "\r",
      "312it [01:02,  4.23it/s]"
     ]
    },
    {
     "name": "stdout",
     "output_type": "stream",
     "text": [
      "tensor([[0.9925]], device='cuda:0', grad_fn=<SigmoidBackward>)\n",
      "Handnet forward time: 0.008929967880249023\n",
      "Handsegnet forward time: 0.0010399818420410156\n",
      "s shape torch.Size([1, 2, 224, 224])\n",
      "for loop time 0.0031197071075439453\n",
      "hand mask sum: 2081.0\n",
      "Calculate single highest scoring object time: 0.029964923858642578\n",
      "Crop and resize time: 0.001102447509765625\n",
      "Posenet forward time: 0.002074718475341797\n",
      "Posepriornet forward time: 0.0007455348968505859\n",
      "Viewpoint forward time: 0.0009224414825439453\n",
      "Get normalized 3d coordinates time: 0.0005972385406494141\n",
      "Flip left handed input time: 0.00010919570922851562\n",
      "ScaLe heatmaps time 3.2901763916015625e-05\n",
      "Time for processing 1 frame: 0.04616546630859375s\n"
     ]
    },
    {
     "name": "stderr",
     "output_type": "stream",
     "text": [
      "\r",
      "313it [01:02,  4.21it/s]"
     ]
    },
    {
     "name": "stdout",
     "output_type": "stream",
     "text": [
      "tensor([[0.9915]], device='cuda:0', grad_fn=<SigmoidBackward>)\n",
      "Handnet forward time: 0.008071422576904297\n",
      "Handsegnet forward time: 0.0012788772583007812\n",
      "s shape torch.Size([1, 2, 224, 224])\n",
      "for loop time 0.0030918121337890625\n",
      "hand mask sum: 2077.0\n",
      "Calculate single highest scoring object time: 0.02915215492248535\n",
      "Crop and resize time: 0.0009617805480957031\n",
      "Posenet forward time: 0.001990079879760742\n",
      "Posepriornet forward time: 0.000736236572265625\n",
      "Viewpoint forward time: 0.0009469985961914062\n",
      "Get normalized 3d coordinates time: 0.0006089210510253906\n",
      "Flip left handed input time: 0.00013685226440429688\n",
      "ScaLe heatmaps time 0.00011038780212402344\n",
      "Time for processing 1 frame: 0.044434547424316406s\n"
     ]
    },
    {
     "name": "stderr",
     "output_type": "stream",
     "text": [
      "\r",
      "314it [01:03,  4.24it/s]"
     ]
    },
    {
     "name": "stdout",
     "output_type": "stream",
     "text": [
      "tensor([[0.9874]], device='cuda:0', grad_fn=<SigmoidBackward>)\n",
      "Handnet forward time: 0.008038520812988281\n",
      "Handsegnet forward time: 0.0011758804321289062\n",
      "s shape torch.Size([1, 2, 224, 224])\n",
      "for loop time 0.0030050277709960938\n",
      "hand mask sum: 2076.0\n",
      "Calculate single highest scoring object time: 0.029695510864257812\n",
      "Crop and resize time: 0.0009570121765136719\n",
      "Posenet forward time: 0.0019843578338623047\n",
      "Posepriornet forward time: 0.0007343292236328125\n",
      "Viewpoint forward time: 0.0009446144104003906\n",
      "Get normalized 3d coordinates time: 0.0006144046783447266\n",
      "Flip left handed input time: 5.7220458984375e-05\n",
      "ScaLe heatmaps time 3.409385681152344e-05\n",
      "Time for processing 1 frame: 0.04467892646789551s\n"
     ]
    },
    {
     "name": "stderr",
     "output_type": "stream",
     "text": [
      "\r",
      "315it [01:03,  4.27it/s]"
     ]
    },
    {
     "name": "stdout",
     "output_type": "stream",
     "text": [
      "tensor([[0.9830]], device='cuda:0', grad_fn=<SigmoidBackward>)\n",
      "Handnet forward time: 0.008086681365966797\n",
      "Handsegnet forward time: 0.0010221004486083984\n",
      "s shape torch.Size([1, 2, 224, 224])\n",
      "for loop time 0.003126859664916992\n",
      "hand mask sum: 2097.0\n",
      "Calculate single highest scoring object time: 0.02979254722595215\n",
      "Crop and resize time: 0.0009641647338867188\n",
      "Posenet forward time: 0.001986980438232422\n",
      "Posepriornet forward time: 0.0007371902465820312\n",
      "Viewpoint forward time: 0.00093841552734375\n",
      "Get normalized 3d coordinates time: 0.0006091594696044922\n",
      "Flip left handed input time: 5.793571472167969e-05\n",
      "ScaLe heatmaps time 3.2901763916015625e-05\n",
      "Time for processing 1 frame: 0.04486989974975586s\n"
     ]
    },
    {
     "name": "stderr",
     "output_type": "stream",
     "text": [
      "\r",
      "316it [01:03,  4.27it/s]"
     ]
    },
    {
     "name": "stdout",
     "output_type": "stream",
     "text": [
      "tensor([[0.9781]], device='cuda:0', grad_fn=<SigmoidBackward>)\n",
      "Handnet forward time: 0.008073806762695312\n",
      "Handsegnet forward time: 0.0010249614715576172\n",
      "s shape torch.Size([1, 2, 224, 224])\n",
      "for loop time 0.003089427947998047\n",
      "hand mask sum: 2099.0\n",
      "Calculate single highest scoring object time: 0.03082275390625\n",
      "Crop and resize time: 0.000965118408203125\n",
      "Posenet forward time: 0.002015352249145508\n",
      "Posepriornet forward time: 0.0007305145263671875\n",
      "Viewpoint forward time: 0.0009407997131347656\n",
      "Get normalized 3d coordinates time: 0.0006203651428222656\n",
      "Flip left handed input time: 0.00013899803161621094\n",
      "ScaLe heatmaps time 0.00010657310485839844\n",
      "Time for processing 1 frame: 0.04607415199279785s\n"
     ]
    },
    {
     "name": "stderr",
     "output_type": "stream",
     "text": [
      "\r",
      "317it [01:03,  4.29it/s]"
     ]
    },
    {
     "name": "stdout",
     "output_type": "stream",
     "text": [
      "tensor([[0.9690]], device='cuda:0', grad_fn=<SigmoidBackward>)\n",
      "Handnet forward time: 0.008093595504760742\n",
      "Handsegnet forward time: 0.0009813308715820312\n",
      "s shape torch.Size([1, 2, 224, 224])\n",
      "for loop time 0.003068685531616211\n",
      "hand mask sum: 2113.0\n",
      "Calculate single highest scoring object time: 0.03048849105834961\n",
      "Crop and resize time: 0.0009632110595703125\n",
      "Posenet forward time: 0.0019931793212890625\n",
      "Posepriornet forward time: 0.0007321834564208984\n",
      "Viewpoint forward time: 0.0009386539459228516\n",
      "Get normalized 3d coordinates time: 0.0006010532379150391\n",
      "Flip left handed input time: 0.00013780593872070312\n",
      "ScaLe heatmaps time 8.082389831542969e-05\n",
      "Time for processing 1 frame: 0.04564261436462402s\n"
     ]
    },
    {
     "name": "stderr",
     "output_type": "stream",
     "text": [
      "\r",
      "318it [01:04,  4.25it/s]"
     ]
    },
    {
     "name": "stdout",
     "output_type": "stream",
     "text": [
      "tensor([[0.9684]], device='cuda:0', grad_fn=<SigmoidBackward>)\n",
      "Handnet forward time: 0.008232831954956055\n",
      "Handsegnet forward time: 0.0010368824005126953\n",
      "s shape torch.Size([1, 2, 224, 224])\n",
      "for loop time 0.0041425228118896484\n",
      "hand mask sum: 2107.0\n",
      "Calculate single highest scoring object time: 0.0318751335144043\n",
      "Crop and resize time: 0.0012593269348144531\n",
      "Posenet forward time: 0.002044200897216797\n",
      "Posepriornet forward time: 0.0007829666137695312\n",
      "Viewpoint forward time: 0.0009548664093017578\n",
      "Get normalized 3d coordinates time: 0.0006287097930908203\n",
      "Flip left handed input time: 0.0001399517059326172\n",
      "ScaLe heatmaps time 0.0001087188720703125\n",
      "Time for processing 1 frame: 0.04762554168701172s\n"
     ]
    },
    {
     "name": "stderr",
     "output_type": "stream",
     "text": [
      "\r",
      "319it [01:04,  4.24it/s]"
     ]
    },
    {
     "name": "stdout",
     "output_type": "stream",
     "text": [
      "tensor([[0.9649]], device='cuda:0', grad_fn=<SigmoidBackward>)\n",
      "Handnet forward time: 0.008492231369018555\n",
      "Handsegnet forward time: 0.0010285377502441406\n",
      "s shape torch.Size([1, 2, 224, 224])\n",
      "for loop time 0.0030786991119384766\n",
      "hand mask sum: 2161.0\n",
      "Calculate single highest scoring object time: 0.029433012008666992\n",
      "Crop and resize time: 0.0009491443634033203\n",
      "Posenet forward time: 0.001966238021850586\n",
      "Posepriornet forward time: 0.0007300376892089844\n",
      "Viewpoint forward time: 0.0009396076202392578\n",
      "Get normalized 3d coordinates time: 0.0006005764007568359\n",
      "Flip left handed input time: 0.00013589859008789062\n",
      "ScaLe heatmaps time 8.58306884765625e-05\n",
      "Time for processing 1 frame: 0.045017242431640625s\n"
     ]
    },
    {
     "name": "stderr",
     "output_type": "stream",
     "text": [
      "\r",
      "320it [01:04,  4.25it/s]"
     ]
    },
    {
     "name": "stdout",
     "output_type": "stream",
     "text": [
      "tensor([[0.9882]], device='cuda:0', grad_fn=<SigmoidBackward>)\n",
      "Handnet forward time: 0.010425090789794922\n",
      "Handsegnet forward time: 0.0010390281677246094\n",
      "s shape torch.Size([1, 2, 224, 224])\n",
      "for loop time 0.003108501434326172\n",
      "hand mask sum: 2191.0\n",
      "Calculate single highest scoring object time: 0.03231310844421387\n",
      "Crop and resize time: 0.0009591579437255859\n",
      "Posenet forward time: 0.0019903182983398438\n",
      "Posepriornet forward time: 0.0007364749908447266\n",
      "Viewpoint forward time: 0.0009362697601318359\n",
      "Get normalized 3d coordinates time: 0.0006055831909179688\n",
      "Flip left handed input time: 0.00013518333435058594\n",
      "ScaLe heatmaps time 3.24249267578125e-05\n",
      "Time for processing 1 frame: 0.04981112480163574s\n"
     ]
    },
    {
     "name": "stderr",
     "output_type": "stream",
     "text": [
      "\r",
      "321it [01:04,  4.22it/s]"
     ]
    },
    {
     "name": "stdout",
     "output_type": "stream",
     "text": [
      "tensor([[0.9856]], device='cuda:0', grad_fn=<SigmoidBackward>)\n",
      "Handnet forward time: 0.007536411285400391\n",
      "Handsegnet forward time: 0.00095367431640625\n",
      "s shape torch.Size([1, 2, 224, 224])\n",
      "for loop time 0.003088712692260742\n",
      "hand mask sum: 2206.0\n",
      "Calculate single highest scoring object time: 0.03313565254211426\n",
      "Crop and resize time: 0.0009562969207763672\n",
      "Posenet forward time: 0.0019974708557128906\n",
      "Posepriornet forward time: 0.0007474422454833984\n",
      "Viewpoint forward time: 0.0009725093841552734\n",
      "Get normalized 3d coordinates time: 0.0006747245788574219\n",
      "Flip left handed input time: 0.00017023086547851562\n",
      "ScaLe heatmaps time 9.703636169433594e-05\n",
      "Time for processing 1 frame: 0.04790353775024414s\n"
     ]
    },
    {
     "name": "stderr",
     "output_type": "stream",
     "text": [
      "\r",
      "322it [01:04,  4.20it/s]"
     ]
    },
    {
     "name": "stdout",
     "output_type": "stream",
     "text": [
      "tensor([[0.9623]], device='cuda:0', grad_fn=<SigmoidBackward>)\n",
      "Handnet forward time: 0.009443521499633789\n",
      "Handsegnet forward time: 0.0010323524475097656\n",
      "s shape torch.Size([1, 2, 224, 224])\n",
      "for loop time 0.004080533981323242\n",
      "hand mask sum: 2245.0\n",
      "Calculate single highest scoring object time: 0.032494544982910156\n",
      "Crop and resize time: 0.0009827613830566406\n",
      "Posenet forward time: 0.0020096302032470703\n",
      "Posepriornet forward time: 0.0007383823394775391\n",
      "Viewpoint forward time: 0.0009410381317138672\n",
      "Get normalized 3d coordinates time: 0.0006046295166015625\n",
      "Flip left handed input time: 0.0001327991485595703\n",
      "ScaLe heatmaps time 0.00010943412780761719\n",
      "Time for processing 1 frame: 0.04912447929382324s\n"
     ]
    },
    {
     "name": "stderr",
     "output_type": "stream",
     "text": [
      "\r",
      "323it [01:05,  4.19it/s]"
     ]
    },
    {
     "name": "stdout",
     "output_type": "stream",
     "text": [
      "tensor([[0.8971]], device='cuda:0', grad_fn=<SigmoidBackward>)\n",
      "Handnet forward time: 0.008413314819335938\n",
      "Handsegnet forward time: 0.0009713172912597656\n",
      "s shape torch.Size([1, 2, 224, 224])\n",
      "for loop time 0.0030889511108398438\n",
      "hand mask sum: 2252.0\n",
      "Calculate single highest scoring object time: 0.032242536544799805\n",
      "Crop and resize time: 0.0011212825775146484\n",
      "Posenet forward time: 0.0020051002502441406\n",
      "Posepriornet forward time: 0.0007472038269042969\n",
      "Viewpoint forward time: 0.0009508132934570312\n",
      "Get normalized 3d coordinates time: 0.0006232261657714844\n",
      "Flip left handed input time: 0.00015044212341308594\n",
      "ScaLe heatmaps time 0.00010347366333007812\n",
      "Time for processing 1 frame: 0.047959089279174805s\n"
     ]
    },
    {
     "name": "stderr",
     "output_type": "stream",
     "text": [
      "\r",
      "324it [01:05,  4.21it/s]"
     ]
    },
    {
     "name": "stdout",
     "output_type": "stream",
     "text": [
      "tensor([[0.8294]], device='cuda:0', grad_fn=<SigmoidBackward>)\n",
      "Handnet forward time: 0.00808262825012207\n",
      "Handsegnet forward time: 0.0011930465698242188\n",
      "s shape torch.Size([1, 2, 224, 224])\n",
      "for loop time 0.0030918121337890625\n",
      "hand mask sum: 2242.0\n",
      "Calculate single highest scoring object time: 0.03052806854248047\n",
      "Crop and resize time: 0.0009632110595703125\n",
      "Posenet forward time: 0.0019936561584472656\n",
      "Posepriornet forward time: 0.0007331371307373047\n",
      "Viewpoint forward time: 0.0009143352508544922\n",
      "Get normalized 3d coordinates time: 0.000606536865234375\n",
      "Flip left handed input time: 0.0001366138458251953\n",
      "ScaLe heatmaps time 3.123283386230469e-05\n",
      "Time for processing 1 frame: 0.04575705528259277s\n"
     ]
    },
    {
     "name": "stderr",
     "output_type": "stream",
     "text": [
      "\r",
      "325it [01:06,  2.96it/s]"
     ]
    },
    {
     "name": "stdout",
     "output_type": "stream",
     "text": [
      "tensor([[0.7680]], device='cuda:0', grad_fn=<SigmoidBackward>)\n",
      "Handnet forward time: 0.008126020431518555\n",
      "Handsegnet forward time: 0.0011026859283447266\n",
      "s shape torch.Size([1, 2, 224, 224])\n",
      "for loop time 0.004115104675292969\n",
      "hand mask sum: 2268.0\n",
      "Calculate single highest scoring object time: 0.03245234489440918\n",
      "Crop and resize time: 0.000972747802734375\n",
      "Posenet forward time: 0.001964092254638672\n",
      "Posepriornet forward time: 0.0007474422454833984\n",
      "Viewpoint forward time: 0.000946044921875\n",
      "Get normalized 3d coordinates time: 0.0006153583526611328\n",
      "Flip left handed input time: 5.745887756347656e-05\n",
      "ScaLe heatmaps time 3.2901763916015625e-05\n",
      "Time for processing 1 frame: 0.04760026931762695s\n"
     ]
    },
    {
     "name": "stderr",
     "output_type": "stream",
     "text": [
      "\r",
      "326it [01:06,  3.23it/s]"
     ]
    },
    {
     "name": "stdout",
     "output_type": "stream",
     "text": [
      "tensor([[0.7816]], device='cuda:0', grad_fn=<SigmoidBackward>)\n",
      "Handnet forward time: 0.007529258728027344\n",
      "Handsegnet forward time: 0.0009446144104003906\n",
      "s shape torch.Size([1, 2, 224, 224])\n",
      "for loop time 0.002975940704345703\n",
      "hand mask sum: 2266.0\n",
      "Calculate single highest scoring object time: 0.03365349769592285\n",
      "Crop and resize time: 0.0009891986846923828\n",
      "Posenet forward time: 0.002116680145263672\n",
      "Posepriornet forward time: 0.00095367431640625\n",
      "Viewpoint forward time: 0.0010368824005126953\n",
      "Get normalized 3d coordinates time: 0.0006597042083740234\n",
      "Flip left handed input time: 0.00014281272888183594\n",
      "ScaLe heatmaps time 9.965896606445312e-05\n",
      "Time for processing 1 frame: 0.04883623123168945s\n"
     ]
    },
    {
     "name": "stderr",
     "output_type": "stream",
     "text": [
      "\r",
      "327it [01:06,  3.44it/s]"
     ]
    },
    {
     "name": "stdout",
     "output_type": "stream",
     "text": [
      "tensor([[0.8088]], device='cuda:0', grad_fn=<SigmoidBackward>)\n",
      "Handnet forward time: 0.008918046951293945\n",
      "Handsegnet forward time: 0.001043558120727539\n",
      "s shape torch.Size([1, 2, 224, 224])\n",
      "for loop time 0.0030329227447509766\n",
      "hand mask sum: 2260.0\n",
      "Calculate single highest scoring object time: 0.03194165229797363\n",
      "Crop and resize time: 0.0010020732879638672\n",
      "Posenet forward time: 0.002048015594482422\n",
      "Posepriornet forward time: 0.0007855892181396484\n",
      "Viewpoint forward time: 0.0009942054748535156\n",
      "Get normalized 3d coordinates time: 0.0006933212280273438\n",
      "Flip left handed input time: 0.00014066696166992188\n",
      "ScaLe heatmaps time 0.00010824203491210938\n",
      "Time for processing 1 frame: 0.04841804504394531s\n"
     ]
    },
    {
     "name": "stderr",
     "output_type": "stream",
     "text": [
      "\r",
      "328it [01:06,  3.62it/s]"
     ]
    },
    {
     "name": "stdout",
     "output_type": "stream",
     "text": [
      "tensor([[0.8129]], device='cuda:0', grad_fn=<SigmoidBackward>)\n",
      "Handnet forward time: 0.008351802825927734\n",
      "Handsegnet forward time: 0.001168966293334961\n",
      "s shape torch.Size([1, 2, 224, 224])\n",
      "for loop time 0.003931283950805664\n",
      "hand mask sum: 2234.0\n",
      "Calculate single highest scoring object time: 0.03260183334350586\n",
      "Crop and resize time: 0.0009698867797851562\n",
      "Posenet forward time: 0.0023546218872070312\n",
      "Posepriornet forward time: 0.0007979869842529297\n",
      "Viewpoint forward time: 0.0010449886322021484\n",
      "Get normalized 3d coordinates time: 0.0006203651428222656\n",
      "Flip left handed input time: 0.0001347064971923828\n",
      "ScaLe heatmaps time 0.00010538101196289062\n",
      "Time for processing 1 frame: 0.048657894134521484s\n"
     ]
    },
    {
     "name": "stderr",
     "output_type": "stream",
     "text": [
      "\r",
      "329it [01:06,  3.78it/s]"
     ]
    },
    {
     "name": "stdout",
     "output_type": "stream",
     "text": [
      "tensor([[0.8954]], device='cuda:0', grad_fn=<SigmoidBackward>)\n",
      "Handnet forward time: 0.008574247360229492\n",
      "Handsegnet forward time: 0.0010323524475097656\n",
      "s shape torch.Size([1, 2, 224, 224])\n",
      "for loop time 0.0030679702758789062\n",
      "hand mask sum: 2162.0\n",
      "Calculate single highest scoring object time: 0.029685497283935547\n",
      "Crop and resize time: 0.0009706020355224609\n",
      "Posenet forward time: 0.002020597457885742\n",
      "Posepriornet forward time: 0.0007812976837158203\n",
      "Viewpoint forward time: 0.0009260177612304688\n",
      "Get normalized 3d coordinates time: 0.0006201267242431641\n",
      "Flip left handed input time: 0.00013566017150878906\n",
      "ScaLe heatmaps time 0.00010538101196289062\n",
      "Time for processing 1 frame: 0.04550814628601074s\n"
     ]
    },
    {
     "name": "stderr",
     "output_type": "stream",
     "text": [
      "\r",
      "330it [01:07,  3.89it/s]"
     ]
    },
    {
     "name": "stdout",
     "output_type": "stream",
     "text": [
      "tensor([[0.9726]], device='cuda:0', grad_fn=<SigmoidBackward>)\n",
      "Handnet forward time: 0.007664918899536133\n",
      "Handsegnet forward time: 0.0010478496551513672\n",
      "s shape torch.Size([1, 2, 224, 224])\n",
      "for loop time 0.002998828887939453\n",
      "hand mask sum: 2128.0\n",
      "Calculate single highest scoring object time: 0.033104896545410156\n",
      "Crop and resize time: 0.0009849071502685547\n",
      "Posenet forward time: 0.002023458480834961\n",
      "Posepriornet forward time: 0.0008866786956787109\n",
      "Viewpoint forward time: 0.0013802051544189453\n",
      "Get normalized 3d coordinates time: 0.0009465217590332031\n",
      "Flip left handed input time: 0.00016260147094726562\n",
      "ScaLe heatmaps time 0.00011181831359863281\n",
      "Time for processing 1 frame: 0.04913759231567383s\n"
     ]
    },
    {
     "name": "stderr",
     "output_type": "stream",
     "text": [
      "\r",
      "331it [01:07,  3.95it/s]"
     ]
    },
    {
     "name": "stdout",
     "output_type": "stream",
     "text": [
      "tensor([[0.9723]], device='cuda:0', grad_fn=<SigmoidBackward>)\n",
      "Handnet forward time: 0.008482217788696289\n",
      "Handsegnet forward time: 0.0010476112365722656\n",
      "s shape torch.Size([1, 2, 224, 224])\n",
      "for loop time 0.0031080245971679688\n",
      "hand mask sum: 2110.0\n",
      "Calculate single highest scoring object time: 0.030371665954589844\n",
      "Crop and resize time: 0.0009732246398925781\n",
      "Posenet forward time: 0.0020074844360351562\n",
      "Posepriornet forward time: 0.0007541179656982422\n",
      "Viewpoint forward time: 0.0009515285491943359\n",
      "Get normalized 3d coordinates time: 0.0006353855133056641\n",
      "Flip left handed input time: 0.0001347064971923828\n",
      "ScaLe heatmaps time 0.00010895729064941406\n",
      "Time for processing 1 frame: 0.046102046966552734s\n"
     ]
    },
    {
     "name": "stderr",
     "output_type": "stream",
     "text": [
      "\r",
      "332it [01:07,  4.03it/s]"
     ]
    },
    {
     "name": "stdout",
     "output_type": "stream",
     "text": [
      "tensor([[0.9555]], device='cuda:0', grad_fn=<SigmoidBackward>)\n",
      "Handnet forward time: 0.008577346801757812\n",
      "Handsegnet forward time: 0.0009746551513671875\n",
      "s shape torch.Size([1, 2, 224, 224])\n",
      "for loop time 0.003149747848510742\n",
      "hand mask sum: 2071.0\n",
      "Calculate single highest scoring object time: 0.032288551330566406\n",
      "Crop and resize time: 0.0009682178497314453\n",
      "Posenet forward time: 0.002012014389038086\n",
      "Posepriornet forward time: 0.0007381439208984375\n",
      "Viewpoint forward time: 0.0009489059448242188\n",
      "Get normalized 3d coordinates time: 0.0006148815155029297\n",
      "Flip left handed input time: 0.00013875961303710938\n",
      "ScaLe heatmaps time 0.00010848045349121094\n",
      "Time for processing 1 frame: 0.04799199104309082s\n"
     ]
    },
    {
     "name": "stderr",
     "output_type": "stream",
     "text": [
      "\r",
      "333it [01:07,  4.05it/s]"
     ]
    },
    {
     "name": "stdout",
     "output_type": "stream",
     "text": [
      "tensor([[0.9537]], device='cuda:0', grad_fn=<SigmoidBackward>)\n",
      "Handnet forward time: 0.008884191513061523\n",
      "Handsegnet forward time: 0.0011157989501953125\n",
      "s shape torch.Size([1, 2, 224, 224])\n",
      "for loop time 0.004294157028198242\n",
      "hand mask sum: 2044.0\n",
      "Calculate single highest scoring object time: 0.03256630897521973\n",
      "Crop and resize time: 0.0015454292297363281\n",
      "Posenet forward time: 0.002113819122314453\n",
      "Posepriornet forward time: 0.0007472038269042969\n",
      "Viewpoint forward time: 0.0009646415710449219\n",
      "Get normalized 3d coordinates time: 0.0006148815155029297\n",
      "Flip left handed input time: 0.00013875961303710938\n",
      "ScaLe heatmaps time 9.441375732421875e-05\n",
      "Time for processing 1 frame: 0.049448490142822266s\n"
     ]
    },
    {
     "name": "stderr",
     "output_type": "stream",
     "text": [
      "\r",
      "334it [01:08,  4.08it/s]"
     ]
    },
    {
     "name": "stdout",
     "output_type": "stream",
     "text": [
      "tensor([[0.9442]], device='cuda:0', grad_fn=<SigmoidBackward>)\n",
      "Handnet forward time: 0.008397579193115234\n",
      "Handsegnet forward time: 0.0009741783142089844\n",
      "s shape torch.Size([1, 2, 224, 224])\n",
      "for loop time 0.0031185150146484375\n",
      "hand mask sum: 2015.0\n",
      "Calculate single highest scoring object time: 0.03301692008972168\n",
      "Crop and resize time: 0.0009810924530029297\n",
      "Posenet forward time: 0.0020999908447265625\n",
      "Posepriornet forward time: 0.0007634162902832031\n",
      "Viewpoint forward time: 0.0009491443634033203\n",
      "Get normalized 3d coordinates time: 0.0006208419799804688\n",
      "Flip left handed input time: 5.8650970458984375e-05\n",
      "ScaLe heatmaps time 3.504753112792969e-05\n",
      "Time for processing 1 frame: 0.04853701591491699s\n"
     ]
    },
    {
     "name": "stderr",
     "output_type": "stream",
     "text": [
      "\r",
      "335it [01:08,  4.03it/s]"
     ]
    },
    {
     "name": "stdout",
     "output_type": "stream",
     "text": [
      "tensor([[0.9803]], device='cuda:0', grad_fn=<SigmoidBackward>)\n",
      "Handnet forward time: 0.007702827453613281\n",
      "Handsegnet forward time: 0.0016875267028808594\n",
      "s shape torch.Size([1, 2, 224, 224])\n",
      "for loop time 0.004970073699951172\n",
      "hand mask sum: 2016.0\n",
      "Calculate single highest scoring object time: 0.03461194038391113\n",
      "Crop and resize time: 0.002016782760620117\n",
      "Posenet forward time: 0.003312826156616211\n",
      "Posepriornet forward time: 0.0011229515075683594\n",
      "Viewpoint forward time: 0.0015592575073242188\n",
      "Get normalized 3d coordinates time: 0.0009918212890625\n",
      "Flip left handed input time: 0.00010061264038085938\n",
      "ScaLe heatmaps time 0.00015735626220703125\n",
      "Time for processing 1 frame: 0.054192543029785156s\n"
     ]
    },
    {
     "name": "stderr",
     "output_type": "stream",
     "text": [
      "\r",
      "336it [01:08,  4.00it/s]"
     ]
    },
    {
     "name": "stdout",
     "output_type": "stream",
     "text": [
      "tensor([[0.9778]], device='cuda:0', grad_fn=<SigmoidBackward>)\n",
      "Handnet forward time: 0.007592678070068359\n",
      "Handsegnet forward time: 0.0012345314025878906\n",
      "s shape torch.Size([1, 2, 224, 224])\n",
      "for loop time 0.003068685531616211\n",
      "hand mask sum: 1997.0\n",
      "Calculate single highest scoring object time: 0.029755592346191406\n",
      "Crop and resize time: 0.0009815692901611328\n",
      "Posenet forward time: 0.0020606517791748047\n",
      "Posepriornet forward time: 0.0007917881011962891\n",
      "Viewpoint forward time: 0.0009737014770507812\n",
      "Get normalized 3d coordinates time: 0.0006244182586669922\n",
      "Flip left handed input time: 0.00013566017150878906\n",
      "ScaLe heatmaps time 0.00010561943054199219\n",
      "Time for processing 1 frame: 0.04482698440551758s\n"
     ]
    },
    {
     "name": "stderr",
     "output_type": "stream",
     "text": [
      "\r",
      "337it [01:08,  4.07it/s]"
     ]
    },
    {
     "name": "stdout",
     "output_type": "stream",
     "text": [
      "tensor([[0.9799]], device='cuda:0', grad_fn=<SigmoidBackward>)\n",
      "Handnet forward time: 0.008812427520751953\n",
      "Handsegnet forward time: 0.0011298656463623047\n",
      "s shape torch.Size([1, 2, 224, 224])\n",
      "for loop time 0.004090070724487305\n",
      "hand mask sum: 1988.0\n",
      "Calculate single highest scoring object time: 0.03339886665344238\n",
      "Crop and resize time: 0.0009906291961669922\n",
      "Posenet forward time: 0.002053499221801758\n",
      "Posepriornet forward time: 0.0007579326629638672\n",
      "Viewpoint forward time: 0.0009424686431884766\n",
      "Get normalized 3d coordinates time: 0.0006172657012939453\n",
      "Flip left handed input time: 0.00013971328735351562\n",
      "ScaLe heatmaps time 0.00010967254638671875\n",
      "Time for processing 1 frame: 0.04950666427612305s\n"
     ]
    },
    {
     "name": "stderr",
     "output_type": "stream",
     "text": [
      "\r",
      "338it [01:09,  4.06it/s]"
     ]
    },
    {
     "name": "stdout",
     "output_type": "stream",
     "text": [
      "tensor([[0.9762]], device='cuda:0', grad_fn=<SigmoidBackward>)\n",
      "Handnet forward time: 0.008597373962402344\n",
      "Handsegnet forward time: 0.0011980533599853516\n",
      "s shape torch.Size([1, 2, 224, 224])\n",
      "for loop time 0.004862785339355469\n",
      "hand mask sum: 1986.0\n",
      "Calculate single highest scoring object time: 0.03290534019470215\n",
      "Crop and resize time: 0.0009760856628417969\n",
      "Posenet forward time: 0.0020461082458496094\n",
      "Posepriornet forward time: 0.0007429122924804688\n",
      "Viewpoint forward time: 0.0009675025939941406\n",
      "Get normalized 3d coordinates time: 0.0006167888641357422\n",
      "Flip left handed input time: 0.0001327991485595703\n",
      "ScaLe heatmaps time 3.123283386230469e-05\n",
      "Time for processing 1 frame: 0.04889988899230957s\n"
     ]
    },
    {
     "name": "stderr",
     "output_type": "stream",
     "text": [
      "\r",
      "339it [01:09,  4.08it/s]"
     ]
    },
    {
     "name": "stdout",
     "output_type": "stream",
     "text": [
      "tensor([[0.9799]], device='cuda:0', grad_fn=<SigmoidBackward>)\n",
      "Handnet forward time: 0.007570505142211914\n",
      "Handsegnet forward time: 0.0010693073272705078\n",
      "s shape torch.Size([1, 2, 224, 224])\n",
      "for loop time 0.0031113624572753906\n",
      "hand mask sum: 1976.0\n",
      "Calculate single highest scoring object time: 0.03225874900817871\n",
      "Crop and resize time: 0.001031637191772461\n",
      "Posenet forward time: 0.0020995140075683594\n",
      "Posepriornet forward time: 0.0008237361907958984\n",
      "Viewpoint forward time: 0.0014986991882324219\n",
      "Get normalized 3d coordinates time: 0.001027822494506836\n",
      "Flip left handed input time: 0.0001728534698486328\n",
      "ScaLe heatmaps time 0.00011324882507324219\n",
      "Time for processing 1 frame: 0.04857754707336426s\n"
     ]
    },
    {
     "name": "stderr",
     "output_type": "stream",
     "text": [
      "\r",
      "340it [01:09,  4.09it/s]"
     ]
    },
    {
     "name": "stdout",
     "output_type": "stream",
     "text": [
      "tensor([[0.9803]], device='cuda:0', grad_fn=<SigmoidBackward>)\n",
      "Handnet forward time: 0.009374141693115234\n",
      "Handsegnet forward time: 0.001154184341430664\n",
      "s shape torch.Size([1, 2, 224, 224])\n",
      "for loop time 0.0034558773040771484\n",
      "hand mask sum: 1974.0\n",
      "Calculate single highest scoring object time: 0.03213977813720703\n",
      "Crop and resize time: 0.0009770393371582031\n",
      "Posenet forward time: 0.0020601749420166016\n",
      "Posepriornet forward time: 0.0007548332214355469\n",
      "Viewpoint forward time: 0.0009713172912597656\n",
      "Get normalized 3d coordinates time: 0.0006241798400878906\n",
      "Flip left handed input time: 0.0001475811004638672\n",
      "ScaLe heatmaps time 0.00011086463928222656\n",
      "Time for processing 1 frame: 0.04889035224914551s\n"
     ]
    },
    {
     "name": "stderr",
     "output_type": "stream",
     "text": [
      "\r",
      "341it [01:09,  4.10it/s]"
     ]
    },
    {
     "name": "stdout",
     "output_type": "stream",
     "text": [
      "tensor([[0.9826]], device='cuda:0', grad_fn=<SigmoidBackward>)\n",
      "Handnet forward time: 0.007592439651489258\n",
      "Handsegnet forward time: 0.0009770393371582031\n",
      "s shape torch.Size([1, 2, 224, 224])\n",
      "for loop time 0.003002643585205078\n",
      "hand mask sum: 1967.0\n",
      "Calculate single highest scoring object time: 0.0331423282623291\n",
      "Crop and resize time: 0.000982522964477539\n",
      "Posenet forward time: 0.0021533966064453125\n",
      "Posepriornet forward time: 0.0007779598236083984\n",
      "Viewpoint forward time: 0.0010075569152832031\n",
      "Get normalized 3d coordinates time: 0.0006568431854248047\n",
      "Flip left handed input time: 0.00014138221740722656\n",
      "ScaLe heatmaps time 0.00010824203491210938\n",
      "Time for processing 1 frame: 0.04819083213806152s\n"
     ]
    },
    {
     "name": "stderr",
     "output_type": "stream",
     "text": [
      "\r",
      "342it [01:10,  4.11it/s]"
     ]
    },
    {
     "name": "stdout",
     "output_type": "stream",
     "text": [
      "tensor([[0.9751]], device='cuda:0', grad_fn=<SigmoidBackward>)\n",
      "Handnet forward time: 0.009120941162109375\n",
      "Handsegnet forward time: 0.0013353824615478516\n",
      "s shape torch.Size([1, 2, 224, 224])\n",
      "for loop time 0.003111124038696289\n",
      "hand mask sum: 1961.0\n",
      "Calculate single highest scoring object time: 0.03210616111755371\n",
      "Crop and resize time: 0.00121307373046875\n",
      "Posenet forward time: 0.0022258758544921875\n",
      "Posepriornet forward time: 0.0007669925689697266\n",
      "Viewpoint forward time: 0.0009655952453613281\n",
      "Get normalized 3d coordinates time: 0.0006234645843505859\n",
      "Flip left handed input time: 0.00015115737915039062\n",
      "ScaLe heatmaps time 0.00011110305786132812\n",
      "Time for processing 1 frame: 0.04924726486206055s\n"
     ]
    },
    {
     "name": "stderr",
     "output_type": "stream",
     "text": [
      "\r",
      "343it [01:10,  4.12it/s]"
     ]
    },
    {
     "name": "stdout",
     "output_type": "stream",
     "text": [
      "tensor([[0.9763]], device='cuda:0', grad_fn=<SigmoidBackward>)\n",
      "Handnet forward time: 0.007544994354248047\n",
      "Handsegnet forward time: 0.0009739398956298828\n",
      "s shape torch.Size([1, 2, 224, 224])\n",
      "for loop time 0.0031473636627197266\n",
      "hand mask sum: 1970.0\n",
      "Calculate single highest scoring object time: 0.03200650215148926\n",
      "Crop and resize time: 0.0009961128234863281\n",
      "Posenet forward time: 0.0021409988403320312\n",
      "Posepriornet forward time: 0.0007593631744384766\n",
      "Viewpoint forward time: 0.0010061264038085938\n",
      "Get normalized 3d coordinates time: 0.0006325244903564453\n",
      "Flip left handed input time: 0.00011682510375976562\n",
      "ScaLe heatmaps time 8.893013000488281e-05\n",
      "Time for processing 1 frame: 0.04688620567321777s\n"
     ]
    },
    {
     "name": "stderr",
     "output_type": "stream",
     "text": [
      "\r",
      "344it [01:10,  4.15it/s]"
     ]
    },
    {
     "name": "stdout",
     "output_type": "stream",
     "text": [
      "tensor([[0.9824]], device='cuda:0', grad_fn=<SigmoidBackward>)\n",
      "Handnet forward time: 0.008485078811645508\n",
      "Handsegnet forward time: 0.0011944770812988281\n",
      "s shape torch.Size([1, 2, 224, 224])\n",
      "for loop time 0.0039255619049072266\n",
      "hand mask sum: 1977.0\n",
      "Calculate single highest scoring object time: 0.032863616943359375\n",
      "Crop and resize time: 0.0009677410125732422\n",
      "Posenet forward time: 0.0020503997802734375\n",
      "Posepriornet forward time: 0.0007927417755126953\n",
      "Viewpoint forward time: 0.0009832382202148438\n",
      "Get normalized 3d coordinates time: 0.0006303787231445312\n",
      "Flip left handed input time: 0.00013327598571777344\n",
      "ScaLe heatmaps time 0.00010633468627929688\n",
      "Time for processing 1 frame: 0.04891681671142578s\n"
     ]
    },
    {
     "name": "stderr",
     "output_type": "stream",
     "text": [
      "\r",
      "345it [01:10,  4.14it/s]"
     ]
    },
    {
     "name": "stdout",
     "output_type": "stream",
     "text": [
      "tensor([[0.9793]], device='cuda:0', grad_fn=<SigmoidBackward>)\n",
      "Handnet forward time: 0.007557868957519531\n",
      "Handsegnet forward time: 0.0009827613830566406\n",
      "s shape torch.Size([1, 2, 224, 224])\n",
      "for loop time 0.0031354427337646484\n",
      "hand mask sum: 1970.0\n",
      "Calculate single highest scoring object time: 0.03003072738647461\n",
      "Crop and resize time: 0.0009720325469970703\n",
      "Posenet forward time: 0.0021126270294189453\n",
      "Posepriornet forward time: 0.0007462501525878906\n",
      "Viewpoint forward time: 0.000957489013671875\n",
      "Get normalized 3d coordinates time: 0.0006222724914550781\n",
      "Flip left handed input time: 0.00014066696166992188\n",
      "ScaLe heatmaps time 0.00010848045349121094\n",
      "Time for processing 1 frame: 0.04485201835632324s\n"
     ]
    },
    {
     "name": "stderr",
     "output_type": "stream",
     "text": [
      "\r",
      "346it [01:11,  4.16it/s]"
     ]
    },
    {
     "name": "stdout",
     "output_type": "stream",
     "text": [
      "tensor([[0.9860]], device='cuda:0', grad_fn=<SigmoidBackward>)\n",
      "Handnet forward time: 0.00808095932006836\n",
      "Handsegnet forward time: 0.001066446304321289\n",
      "s shape torch.Size([1, 2, 224, 224])\n",
      "for loop time 0.0031130313873291016\n",
      "hand mask sum: 1967.0\n",
      "Calculate single highest scoring object time: 0.030774831771850586\n",
      "Crop and resize time: 0.0009822845458984375\n",
      "Posenet forward time: 0.0021042823791503906\n",
      "Posepriornet forward time: 0.0007619857788085938\n",
      "Viewpoint forward time: 0.0010788440704345703\n",
      "Get normalized 3d coordinates time: 0.0006470680236816406\n",
      "Flip left handed input time: 0.00014138221740722656\n",
      "ScaLe heatmaps time 0.00010704994201660156\n",
      "Time for processing 1 frame: 0.04642963409423828s\n"
     ]
    },
    {
     "name": "stderr",
     "output_type": "stream",
     "text": [
      "\r",
      "347it [01:11,  4.14it/s]"
     ]
    },
    {
     "name": "stdout",
     "output_type": "stream",
     "text": [
      "tensor([[0.9858]], device='cuda:0', grad_fn=<SigmoidBackward>)\n",
      "Handnet forward time: 0.008844375610351562\n",
      "Handsegnet forward time: 0.0010075569152832031\n",
      "s shape torch.Size([1, 2, 224, 224])\n",
      "for loop time 0.003224611282348633\n",
      "hand mask sum: 1964.0\n",
      "Calculate single highest scoring object time: 0.031760215759277344\n",
      "Crop and resize time: 0.000988006591796875\n",
      "Posenet forward time: 0.002044200897216797\n",
      "Posepriornet forward time: 0.0007739067077636719\n",
      "Viewpoint forward time: 0.0009758472442626953\n",
      "Get normalized 3d coordinates time: 0.0006215572357177734\n",
      "Flip left handed input time: 0.00013899803161621094\n",
      "ScaLe heatmaps time 0.00011086463928222656\n",
      "Time for processing 1 frame: 0.04789328575134277s\n"
     ]
    },
    {
     "name": "stderr",
     "output_type": "stream",
     "text": [
      "\r",
      "348it [01:11,  4.09it/s]"
     ]
    },
    {
     "name": "stdout",
     "output_type": "stream",
     "text": [
      "tensor([[0.9816]], device='cuda:0', grad_fn=<SigmoidBackward>)\n",
      "Handnet forward time: 0.008769035339355469\n",
      "Handsegnet forward time: 0.0010101795196533203\n",
      "s shape torch.Size([1, 2, 224, 224])\n",
      "for loop time 0.003120899200439453\n",
      "hand mask sum: 1963.0\n",
      "Calculate single highest scoring object time: 0.031914710998535156\n",
      "Crop and resize time: 0.0009906291961669922\n",
      "Posenet forward time: 0.0020482540130615234\n",
      "Posepriornet forward time: 0.0007567405700683594\n",
      "Viewpoint forward time: 0.0009789466857910156\n",
      "Get normalized 3d coordinates time: 0.0006206035614013672\n",
      "Flip left handed input time: 0.0001366138458251953\n",
      "ScaLe heatmaps time 0.00011086463928222656\n",
      "Time for processing 1 frame: 0.04796266555786133s\n"
     ]
    },
    {
     "name": "stderr",
     "output_type": "stream",
     "text": [
      "\r",
      "349it [01:11,  4.12it/s]"
     ]
    },
    {
     "name": "stdout",
     "output_type": "stream",
     "text": [
      "tensor([[0.9769]], device='cuda:0', grad_fn=<SigmoidBackward>)\n",
      "Handnet forward time: 0.008579492568969727\n",
      "Handsegnet forward time: 0.00106048583984375\n",
      "s shape torch.Size([1, 2, 224, 224])\n",
      "for loop time 0.003138303756713867\n",
      "hand mask sum: 1972.0\n",
      "Calculate single highest scoring object time: 0.0311887264251709\n",
      "Crop and resize time: 0.000982522964477539\n",
      "Posenet forward time: 0.0020904541015625\n",
      "Posepriornet forward time: 0.0008246898651123047\n",
      "Viewpoint forward time: 0.0011987686157226562\n",
      "Get normalized 3d coordinates time: 0.0006372928619384766\n",
      "Flip left handed input time: 0.00012063980102539062\n",
      "ScaLe heatmaps time 9.799003601074219e-05\n",
      "Time for processing 1 frame: 0.047477006912231445s\n"
     ]
    },
    {
     "name": "stderr",
     "output_type": "stream",
     "text": [
      "\r",
      "350it [01:12,  4.13it/s]"
     ]
    },
    {
     "name": "stdout",
     "output_type": "stream",
     "text": [
      "tensor([[0.9794]], device='cuda:0', grad_fn=<SigmoidBackward>)\n",
      "Handnet forward time: 0.009442567825317383\n",
      "Handsegnet forward time: 0.0010309219360351562\n",
      "s shape torch.Size([1, 2, 224, 224])\n",
      "for loop time 0.0030202865600585938\n",
      "hand mask sum: 1968.0\n",
      "Calculate single highest scoring object time: 0.03274679183959961\n",
      "Crop and resize time: 0.0009744167327880859\n",
      "Posenet forward time: 0.0020596981048583984\n",
      "Posepriornet forward time: 0.0007536411285400391\n",
      "Viewpoint forward time: 0.00096893310546875\n",
      "Get normalized 3d coordinates time: 0.00072479248046875\n",
      "Flip left handed input time: 0.00016069412231445312\n",
      "ScaLe heatmaps time 0.00010538101196289062\n",
      "Time for processing 1 frame: 0.049625396728515625s\n"
     ]
    },
    {
     "name": "stderr",
     "output_type": "stream",
     "text": [
      "\r",
      "351it [01:12,  4.08it/s]"
     ]
    },
    {
     "name": "stdout",
     "output_type": "stream",
     "text": [
      "tensor([[0.9794]], device='cuda:0', grad_fn=<SigmoidBackward>)\n",
      "Handnet forward time: 0.00991511344909668\n",
      "Handsegnet forward time: 0.0010328292846679688\n",
      "s shape torch.Size([1, 2, 224, 224])\n",
      "for loop time 0.003136873245239258\n",
      "hand mask sum: 1967.0\n",
      "Calculate single highest scoring object time: 0.031129121780395508\n",
      "Crop and resize time: 0.0009942054748535156\n",
      "Posenet forward time: 0.0020589828491210938\n",
      "Posepriornet forward time: 0.0007894039154052734\n",
      "Viewpoint forward time: 0.0009906291961669922\n",
      "Get normalized 3d coordinates time: 0.0006718635559082031\n",
      "Flip left handed input time: 0.0001862049102783203\n",
      "ScaLe heatmaps time 0.0001323223114013672\n",
      "Time for processing 1 frame: 0.04861283302307129s\n"
     ]
    },
    {
     "name": "stderr",
     "output_type": "stream",
     "text": [
      "\r",
      "352it [01:12,  4.11it/s]"
     ]
    },
    {
     "name": "stdout",
     "output_type": "stream",
     "text": [
      "tensor([[0.9807]], device='cuda:0', grad_fn=<SigmoidBackward>)\n",
      "Handnet forward time: 0.00764012336730957\n",
      "Handsegnet forward time: 0.0010194778442382812\n",
      "s shape torch.Size([1, 2, 224, 224])\n",
      "for loop time 0.0031054019927978516\n",
      "hand mask sum: 1970.0\n",
      "Calculate single highest scoring object time: 0.029897451400756836\n",
      "Crop and resize time: 0.0009701251983642578\n",
      "Posenet forward time: 0.002030611038208008\n",
      "Posepriornet forward time: 0.0007534027099609375\n",
      "Viewpoint forward time: 0.0009870529174804688\n",
      "Get normalized 3d coordinates time: 0.0006146430969238281\n",
      "Flip left handed input time: 0.00013709068298339844\n",
      "ScaLe heatmaps time 0.00010919570922851562\n",
      "Time for processing 1 frame: 0.04480242729187012s\n"
     ]
    },
    {
     "name": "stderr",
     "output_type": "stream",
     "text": [
      "\r",
      "353it [01:12,  4.15it/s]"
     ]
    },
    {
     "name": "stdout",
     "output_type": "stream",
     "text": [
      "tensor([[0.9849]], device='cuda:0', grad_fn=<SigmoidBackward>)\n",
      "Handnet forward time: 0.008098840713500977\n",
      "Handsegnet forward time: 0.0011005401611328125\n",
      "s shape torch.Size([1, 2, 224, 224])\n",
      "for loop time 0.0030078887939453125\n",
      "hand mask sum: 1970.0\n",
      "Calculate single highest scoring object time: 0.0317533016204834\n",
      "Crop and resize time: 0.0020699501037597656\n",
      "Posenet forward time: 0.0020470619201660156\n",
      "Posepriornet forward time: 0.0008263587951660156\n",
      "Viewpoint forward time: 0.0009703636169433594\n",
      "Get normalized 3d coordinates time: 0.0006268024444580078\n",
      "Flip left handed input time: 0.0001392364501953125\n",
      "ScaLe heatmaps time 8.249282836914062e-05\n",
      "Time for processing 1 frame: 0.0483853816986084s\n"
     ]
    },
    {
     "name": "stderr",
     "output_type": "stream",
     "text": [
      "\r",
      "354it [01:13,  4.14it/s]"
     ]
    },
    {
     "name": "stdout",
     "output_type": "stream",
     "text": [
      "tensor([[0.9830]], device='cuda:0', grad_fn=<SigmoidBackward>)\n",
      "Handnet forward time: 0.008703947067260742\n",
      "Handsegnet forward time: 0.0011703968048095703\n",
      "s shape torch.Size([1, 2, 224, 224])\n",
      "for loop time 0.0031735897064208984\n",
      "hand mask sum: 1978.0\n",
      "Calculate single highest scoring object time: 0.03182053565979004\n",
      "Crop and resize time: 0.000997304916381836\n",
      "Posenet forward time: 0.0020334720611572266\n",
      "Posepriornet forward time: 0.0007631778717041016\n",
      "Viewpoint forward time: 0.0009737014770507812\n",
      "Get normalized 3d coordinates time: 0.0006158351898193359\n",
      "Flip left handed input time: 0.0001392364501953125\n",
      "ScaLe heatmaps time 0.00010991096496582031\n",
      "Time for processing 1 frame: 0.0477752685546875s\n"
     ]
    },
    {
     "name": "stderr",
     "output_type": "stream",
     "text": [
      "\r",
      "355it [01:13,  4.14it/s]"
     ]
    },
    {
     "name": "stdout",
     "output_type": "stream",
     "text": [
      "tensor([[0.9697]], device='cuda:0', grad_fn=<SigmoidBackward>)\n",
      "Handnet forward time: 0.008122920989990234\n",
      "Handsegnet forward time: 0.001096963882446289\n",
      "s shape torch.Size([1, 2, 224, 224])\n",
      "for loop time 0.003809690475463867\n",
      "hand mask sum: 1970.0\n",
      "Calculate single highest scoring object time: 0.032570600509643555\n",
      "Crop and resize time: 0.0009930133819580078\n",
      "Posenet forward time: 0.0020995140075683594\n",
      "Posepriornet forward time: 0.0007870197296142578\n",
      "Viewpoint forward time: 0.0009591579437255859\n",
      "Get normalized 3d coordinates time: 0.0006132125854492188\n",
      "Flip left handed input time: 0.00011420249938964844\n",
      "ScaLe heatmaps time 3.504753112792969e-05\n",
      "Time for processing 1 frame: 0.048074960708618164s\n"
     ]
    },
    {
     "name": "stderr",
     "output_type": "stream",
     "text": [
      "\r",
      "356it [01:13,  4.14it/s]"
     ]
    },
    {
     "name": "stdout",
     "output_type": "stream",
     "text": [
      "tensor([[0.9659]], device='cuda:0', grad_fn=<SigmoidBackward>)\n",
      "Handnet forward time: 0.008584976196289062\n",
      "Handsegnet forward time: 0.0009953975677490234\n",
      "s shape torch.Size([1, 2, 224, 224])\n",
      "for loop time 0.0030412673950195312\n",
      "hand mask sum: 1967.0\n",
      "Calculate single highest scoring object time: 0.03161478042602539\n",
      "Crop and resize time: 0.0009582042694091797\n",
      "Posenet forward time: 0.002022981643676758\n",
      "Posepriornet forward time: 0.0007600784301757812\n",
      "Viewpoint forward time: 0.0009586811065673828\n",
      "Get normalized 3d coordinates time: 0.0006198883056640625\n",
      "Flip left handed input time: 0.0001418590545654297\n",
      "ScaLe heatmaps time 0.00011301040649414062\n",
      "Time for processing 1 frame: 0.04742860794067383s\n"
     ]
    },
    {
     "name": "stderr",
     "output_type": "stream",
     "text": [
      "\r",
      "357it [01:13,  4.15it/s]"
     ]
    },
    {
     "name": "stdout",
     "output_type": "stream",
     "text": [
      "tensor([[0.9519]], device='cuda:0', grad_fn=<SigmoidBackward>)\n",
      "Handnet forward time: 0.008133411407470703\n",
      "Handsegnet forward time: 0.0010933876037597656\n",
      "s shape torch.Size([1, 2, 224, 224])\n",
      "for loop time 0.0030972957611083984\n",
      "hand mask sum: 1965.0\n",
      "Calculate single highest scoring object time: 0.03249526023864746\n",
      "Crop and resize time: 0.0010251998901367188\n",
      "Posenet forward time: 0.0025548934936523438\n",
      "Posepriornet forward time: 0.0009233951568603516\n",
      "Viewpoint forward time: 0.0010421276092529297\n",
      "Get normalized 3d coordinates time: 0.0006911754608154297\n",
      "Flip left handed input time: 0.00016832351684570312\n",
      "ScaLe heatmaps time 0.00012993812561035156\n",
      "Time for processing 1 frame: 0.04901623725891113s\n"
     ]
    },
    {
     "name": "stderr",
     "output_type": "stream",
     "text": [
      "\r",
      "358it [01:14,  4.13it/s]"
     ]
    },
    {
     "name": "stdout",
     "output_type": "stream",
     "text": [
      "tensor([[0.9048]], device='cuda:0', grad_fn=<SigmoidBackward>)\n",
      "Handnet forward time: 0.008770942687988281\n",
      "Handsegnet forward time: 0.00104522705078125\n",
      "s shape torch.Size([1, 2, 224, 224])\n",
      "for loop time 0.0031499862670898438\n",
      "hand mask sum: 1952.0\n",
      "Calculate single highest scoring object time: 0.03354239463806152\n",
      "Crop and resize time: 0.0009732246398925781\n",
      "Posenet forward time: 0.0020341873168945312\n",
      "Posepriornet forward time: 0.0007543563842773438\n",
      "Viewpoint forward time: 0.0009899139404296875\n",
      "Get normalized 3d coordinates time: 0.0006258487701416016\n",
      "Flip left handed input time: 6.031990051269531e-05\n",
      "ScaLe heatmaps time 3.4809112548828125e-05\n",
      "Time for processing 1 frame: 0.049474477767944336s\n"
     ]
    },
    {
     "name": "stderr",
     "output_type": "stream",
     "text": [
      "\r",
      "359it [01:14,  4.13it/s]"
     ]
    },
    {
     "name": "stdout",
     "output_type": "stream",
     "text": [
      "tensor([[0.8412]], device='cuda:0', grad_fn=<SigmoidBackward>)\n",
      "Handnet forward time: 0.009025812149047852\n",
      "Handsegnet forward time: 0.0010492801666259766\n",
      "s shape torch.Size([1, 2, 224, 224])\n",
      "for loop time 0.004769325256347656\n",
      "hand mask sum: 1943.0\n",
      "Calculate single highest scoring object time: 0.03220176696777344\n",
      "Crop and resize time: 0.0009703636169433594\n",
      "Posenet forward time: 0.0020084381103515625\n",
      "Posepriornet forward time: 0.0007202625274658203\n",
      "Viewpoint forward time: 0.0009481906890869141\n",
      "Get normalized 3d coordinates time: 0.0005884170532226562\n",
      "Flip left handed input time: 0.00010728836059570312\n",
      "ScaLe heatmaps time 6.29425048828125e-05\n",
      "Time for processing 1 frame: 0.04836273193359375s\n"
     ]
    },
    {
     "name": "stderr",
     "output_type": "stream",
     "text": [
      "\r",
      "360it [01:14,  4.12it/s]"
     ]
    },
    {
     "name": "stdout",
     "output_type": "stream",
     "text": [
      "tensor([[0.8999]], device='cuda:0', grad_fn=<SigmoidBackward>)\n",
      "Handnet forward time: 0.0075626373291015625\n",
      "Handsegnet forward time: 0.0009887218475341797\n",
      "s shape torch.Size([1, 2, 224, 224])\n",
      "for loop time 0.0030171871185302734\n",
      "hand mask sum: 1903.0\n",
      "Calculate single highest scoring object time: 0.03302335739135742\n",
      "Crop and resize time: 0.0009486675262451172\n",
      "Posenet forward time: 0.0020303726196289062\n",
      "Posepriornet forward time: 0.0008170604705810547\n",
      "Viewpoint forward time: 0.0009672641754150391\n",
      "Get normalized 3d coordinates time: 0.0007460117340087891\n",
      "Flip left handed input time: 0.00016736984252929688\n",
      "ScaLe heatmaps time 0.00011873245239257812\n",
      "Time for processing 1 frame: 0.04813408851623535s\n"
     ]
    },
    {
     "name": "stderr",
     "output_type": "stream",
     "text": [
      "\r",
      "361it [01:14,  4.07it/s]"
     ]
    },
    {
     "name": "stdout",
     "output_type": "stream",
     "text": [
      "tensor([[0.8997]], device='cuda:0', grad_fn=<SigmoidBackward>)\n",
      "Handnet forward time: 0.007548093795776367\n",
      "Handsegnet forward time: 0.0009911060333251953\n",
      "s shape torch.Size([1, 2, 224, 224])\n",
      "for loop time 0.003200054168701172\n",
      "hand mask sum: 1882.0\n",
      "Calculate single highest scoring object time: 0.03310728073120117\n",
      "Crop and resize time: 0.0018606185913085938\n",
      "Posenet forward time: 0.002157926559448242\n",
      "Posepriornet forward time: 0.0007977485656738281\n",
      "Viewpoint forward time: 0.0009753704071044922\n",
      "Get normalized 3d coordinates time: 0.0006358623504638672\n",
      "Flip left handed input time: 0.00014090538024902344\n",
      "ScaLe heatmaps time 0.0001068115234375\n",
      "Time for processing 1 frame: 0.0489506721496582s\n"
     ]
    },
    {
     "name": "stderr",
     "output_type": "stream",
     "text": [
      "\r",
      "362it [01:15,  4.08it/s]"
     ]
    },
    {
     "name": "stdout",
     "output_type": "stream",
     "text": [
      "tensor([[0.9747]], device='cuda:0', grad_fn=<SigmoidBackward>)\n",
      "Handnet forward time: 0.009093523025512695\n",
      "Handsegnet forward time: 0.0010631084442138672\n",
      "s shape torch.Size([1, 2, 224, 224])\n",
      "for loop time 0.0035483837127685547\n",
      "hand mask sum: 1865.0\n",
      "Calculate single highest scoring object time: 0.033442020416259766\n",
      "Crop and resize time: 0.0009474754333496094\n",
      "Posenet forward time: 0.0020232200622558594\n",
      "Posepriornet forward time: 0.0007147789001464844\n",
      "Viewpoint forward time: 0.0009706020355224609\n",
      "Get normalized 3d coordinates time: 0.0006248950958251953\n",
      "Flip left handed input time: 0.00013518333435058594\n",
      "ScaLe heatmaps time 0.00010728836059570312\n",
      "Time for processing 1 frame: 0.04977703094482422s\n"
     ]
    },
    {
     "name": "stderr",
     "output_type": "stream",
     "text": [
      "\r",
      "363it [01:15,  4.10it/s]"
     ]
    },
    {
     "name": "stdout",
     "output_type": "stream",
     "text": [
      "tensor([[0.9528]], device='cuda:0', grad_fn=<SigmoidBackward>)\n",
      "Handnet forward time: 0.008111000061035156\n",
      "Handsegnet forward time: 0.0011277198791503906\n",
      "s shape torch.Size([1, 2, 224, 224])\n",
      "for loop time 0.004064321517944336\n",
      "hand mask sum: 1839.0\n",
      "Calculate single highest scoring object time: 0.032787322998046875\n",
      "Crop and resize time: 0.0020232200622558594\n",
      "Posenet forward time: 0.0020515918731689453\n",
      "Posepriornet forward time: 0.0007493495941162109\n",
      "Viewpoint forward time: 0.0009686946868896484\n",
      "Get normalized 3d coordinates time: 0.0006649494171142578\n",
      "Flip left handed input time: 0.00013685226440429688\n",
      "ScaLe heatmaps time 0.00010633468627929688\n",
      "Time for processing 1 frame: 0.049368858337402344s\n"
     ]
    },
    {
     "name": "stderr",
     "output_type": "stream",
     "text": [
      "\r",
      "364it [01:15,  4.11it/s]"
     ]
    },
    {
     "name": "stdout",
     "output_type": "stream",
     "text": [
      "tensor([[0.9596]], device='cuda:0', grad_fn=<SigmoidBackward>)\n",
      "Handnet forward time: 0.00880575180053711\n",
      "Handsegnet forward time: 0.0009961128234863281\n",
      "s shape torch.Size([1, 2, 224, 224])\n",
      "for loop time 0.0036039352416992188\n",
      "hand mask sum: 1810.0\n",
      "Calculate single highest scoring object time: 0.032494544982910156\n",
      "Crop and resize time: 0.0009982585906982422\n",
      "Posenet forward time: 0.0021257400512695312\n",
      "Posepriornet forward time: 0.0008535385131835938\n",
      "Viewpoint forward time: 0.0013582706451416016\n",
      "Get normalized 3d coordinates time: 0.0009431838989257812\n",
      "Flip left handed input time: 0.00021696090698242188\n",
      "ScaLe heatmaps time 0.00016498565673828125\n",
      "Time for processing 1 frame: 0.049941301345825195s\n"
     ]
    },
    {
     "name": "stderr",
     "output_type": "stream",
     "text": [
      "\r",
      "365it [01:15,  4.05it/s]"
     ]
    },
    {
     "name": "stdout",
     "output_type": "stream",
     "text": [
      "tensor([[0.9246]], device='cuda:0', grad_fn=<SigmoidBackward>)\n",
      "Handnet forward time: 0.007622480392456055\n",
      "Handsegnet forward time: 0.0010251998901367188\n",
      "s shape torch.Size([1, 2, 224, 224])\n",
      "for loop time 0.0031609535217285156\n",
      "hand mask sum: 1780.0\n",
      "Calculate single highest scoring object time: 0.02954554557800293\n",
      "Crop and resize time: 0.0009753704071044922\n",
      "Posenet forward time: 0.002058744430541992\n",
      "Posepriornet forward time: 0.000762939453125\n",
      "Viewpoint forward time: 0.0009443759918212891\n",
      "Get normalized 3d coordinates time: 0.0006387233734130859\n",
      "Flip left handed input time: 0.00014066696166992188\n",
      "ScaLe heatmaps time 0.00011086463928222656\n",
      "Time for processing 1 frame: 0.04445362091064453s\n"
     ]
    },
    {
     "name": "stderr",
     "output_type": "stream",
     "text": [
      "\r",
      "366it [01:15,  4.11it/s]"
     ]
    },
    {
     "name": "stdout",
     "output_type": "stream",
     "text": [
      "tensor([[0.9452]], device='cuda:0', grad_fn=<SigmoidBackward>)\n",
      "Handnet forward time: 0.008095264434814453\n",
      "Handsegnet forward time: 0.0010685920715332031\n",
      "s shape torch.Size([1, 2, 224, 224])\n",
      "for loop time 0.003142833709716797\n",
      "hand mask sum: 1763.0\n",
      "Calculate single highest scoring object time: 0.03067946434020996\n",
      "Crop and resize time: 0.0009677410125732422\n",
      "Posenet forward time: 0.0020689964294433594\n",
      "Posepriornet forward time: 0.0007843971252441406\n",
      "Viewpoint forward time: 0.0010669231414794922\n",
      "Get normalized 3d coordinates time: 0.0007078647613525391\n",
      "Flip left handed input time: 0.00015091896057128906\n",
      "ScaLe heatmaps time 0.00021457672119140625\n",
      "Time for processing 1 frame: 0.046517372131347656s\n"
     ]
    },
    {
     "name": "stderr",
     "output_type": "stream",
     "text": [
      "\r",
      "367it [01:16,  4.11it/s]"
     ]
    },
    {
     "name": "stdout",
     "output_type": "stream",
     "text": [
      "tensor([[0.8907]], device='cuda:0', grad_fn=<SigmoidBackward>)\n",
      "Handnet forward time: 0.008664369583129883\n",
      "Handsegnet forward time: 0.0009911060333251953\n",
      "s shape torch.Size([1, 2, 224, 224])\n",
      "for loop time 0.00310516357421875\n",
      "hand mask sum: 1709.0\n",
      "Calculate single highest scoring object time: 0.03309440612792969\n",
      "Crop and resize time: 0.0009596347808837891\n",
      "Posenet forward time: 0.0019919872283935547\n",
      "Posepriornet forward time: 0.0007524490356445312\n",
      "Viewpoint forward time: 0.0009779930114746094\n",
      "Get normalized 3d coordinates time: 0.0006110668182373047\n",
      "Flip left handed input time: 0.0001373291015625\n",
      "ScaLe heatmaps time 0.00010967254638671875\n",
      "Time for processing 1 frame: 0.04892873764038086s\n"
     ]
    },
    {
     "name": "stderr",
     "output_type": "stream",
     "text": [
      "\r",
      "368it [01:16,  4.11it/s]"
     ]
    },
    {
     "name": "stdout",
     "output_type": "stream",
     "text": [
      "tensor([[0.8507]], device='cuda:0', grad_fn=<SigmoidBackward>)\n",
      "Handnet forward time: 0.008661031723022461\n",
      "Handsegnet forward time: 0.0010271072387695312\n",
      "s shape torch.Size([1, 2, 224, 224])\n",
      "for loop time 0.004652738571166992\n",
      "hand mask sum: 1688.0\n",
      "Calculate single highest scoring object time: 0.032144784927368164\n",
      "Crop and resize time: 0.0012972354888916016\n",
      "Posenet forward time: 0.001979827880859375\n",
      "Posepriornet forward time: 0.0007481575012207031\n",
      "Viewpoint forward time: 0.0009315013885498047\n",
      "Get normalized 3d coordinates time: 0.0006098747253417969\n",
      "Flip left handed input time: 5.698204040527344e-05\n",
      "ScaLe heatmaps time 3.218650817871094e-05\n",
      "Time for processing 1 frame: 0.048139095306396484s\n"
     ]
    },
    {
     "name": "stderr",
     "output_type": "stream",
     "text": [
      "\r",
      "369it [01:16,  4.07it/s]"
     ]
    },
    {
     "name": "stdout",
     "output_type": "stream",
     "text": [
      "tensor([[0.9177]], device='cuda:0', grad_fn=<SigmoidBackward>)\n",
      "Handnet forward time: 0.00843501091003418\n",
      "Handsegnet forward time: 0.0016837120056152344\n",
      "s shape torch.Size([1, 2, 224, 224])\n",
      "for loop time 0.004964113235473633\n",
      "hand mask sum: 1662.0\n",
      "Calculate single highest scoring object time: 0.032900094985961914\n",
      "Crop and resize time: 0.0015377998352050781\n",
      "Posenet forward time: 0.002004861831665039\n",
      "Posepriornet forward time: 0.0007100105285644531\n",
      "Viewpoint forward time: 0.0009233951568603516\n",
      "Get normalized 3d coordinates time: 0.0006115436553955078\n",
      "Flip left handed input time: 0.0001373291015625\n",
      "ScaLe heatmaps time 3.123283386230469e-05\n",
      "Time for processing 1 frame: 0.049463510513305664s\n"
     ]
    },
    {
     "name": "stderr",
     "output_type": "stream",
     "text": [
      "\r",
      "370it [01:16,  4.09it/s]"
     ]
    },
    {
     "name": "stdout",
     "output_type": "stream",
     "text": [
      "tensor([[0.8932]], device='cuda:0', grad_fn=<SigmoidBackward>)\n",
      "Handnet forward time: 0.007573127746582031\n",
      "Handsegnet forward time: 0.0009491443634033203\n",
      "s shape torch.Size([1, 2, 224, 224])\n",
      "for loop time 0.0034589767456054688\n",
      "hand mask sum: 1612.0\n",
      "Calculate single highest scoring object time: 0.031200647354125977\n",
      "Crop and resize time: 0.0009768009185791016\n",
      "Posenet forward time: 0.0019903182983398438\n",
      "Posepriornet forward time: 0.00074005126953125\n",
      "Viewpoint forward time: 0.0009493827819824219\n",
      "Get normalized 3d coordinates time: 0.0006082057952880859\n",
      "Flip left handed input time: 0.00014019012451171875\n",
      "ScaLe heatmaps time 0.00011014938354492188\n",
      "Time for processing 1 frame: 0.04586148262023926s\n"
     ]
    },
    {
     "name": "stderr",
     "output_type": "stream",
     "text": [
      "\r",
      "371it [01:17,  4.12it/s]"
     ]
    },
    {
     "name": "stdout",
     "output_type": "stream",
     "text": [
      "tensor([[0.8859]], device='cuda:0', grad_fn=<SigmoidBackward>)\n",
      "Handnet forward time: 0.007730722427368164\n",
      "Handsegnet forward time: 0.001127004623413086\n",
      "s shape torch.Size([1, 2, 224, 224])\n",
      "for loop time 0.0032396316528320312\n",
      "hand mask sum: 1570.0\n",
      "Calculate single highest scoring object time: 0.032144784927368164\n",
      "Crop and resize time: 0.0017812252044677734\n",
      "Posenet forward time: 0.0020346641540527344\n",
      "Posepriornet forward time: 0.0007426738739013672\n",
      "Viewpoint forward time: 0.0009565353393554688\n",
      "Get normalized 3d coordinates time: 0.0006279945373535156\n",
      "Flip left handed input time: 5.793571472167969e-05\n",
      "ScaLe heatmaps time 3.4332275390625e-05\n",
      "Time for processing 1 frame: 0.047907114028930664s\n"
     ]
    },
    {
     "name": "stderr",
     "output_type": "stream",
     "text": [
      "\r",
      "372it [01:17,  4.12it/s]"
     ]
    },
    {
     "name": "stdout",
     "output_type": "stream",
     "text": [
      "tensor([[0.7628]], device='cuda:0', grad_fn=<SigmoidBackward>)\n",
      "Handnet forward time: 0.00860738754272461\n",
      "Handsegnet forward time: 0.0009806156158447266\n",
      "s shape torch.Size([1, 2, 224, 224])\n",
      "for loop time 0.0029723644256591797\n",
      "hand mask sum: 1518.0\n",
      "Calculate single highest scoring object time: 0.031884193420410156\n",
      "Crop and resize time: 0.0010006427764892578\n",
      "Posenet forward time: 0.0020024776458740234\n",
      "Posepriornet forward time: 0.0007407665252685547\n",
      "Viewpoint forward time: 0.0009491443634033203\n",
      "Get normalized 3d coordinates time: 0.0006146430969238281\n",
      "Flip left handed input time: 0.0001380443572998047\n",
      "ScaLe heatmaps time 0.0001087188720703125\n",
      "Time for processing 1 frame: 0.04767346382141113s\n"
     ]
    },
    {
     "name": "stderr",
     "output_type": "stream",
     "text": [
      "374it [01:17,  4.80it/s]"
     ]
    },
    {
     "name": "stdout",
     "output_type": "stream",
     "text": [
      "tensor([[0.4714]], device='cuda:0', grad_fn=<SigmoidBackward>)\n",
      "Handnet forward time: 0.009941816329956055\n",
      "no hand\n",
      "Time for processing 1 frame: 0.01033639907836914s\n",
      "tensor([[0.3560]], device='cuda:0', grad_fn=<SigmoidBackward>)\n",
      "Handnet forward time: 0.007687807083129883\n",
      "no hand\n",
      "Time for processing 1 frame: 0.007775306701660156s\n"
     ]
    },
    {
     "name": "stderr",
     "output_type": "stream",
     "text": [
      "376it [01:18,  6.08it/s]"
     ]
    },
    {
     "name": "stdout",
     "output_type": "stream",
     "text": [
      "tensor([[0.1476]], device='cuda:0', grad_fn=<SigmoidBackward>)\n",
      "Handnet forward time: 0.008149385452270508\n",
      "no hand\n",
      "Time for processing 1 frame: 0.008221864700317383s\n",
      "tensor([[0.1905]], device='cuda:0', grad_fn=<SigmoidBackward>)\n",
      "Handnet forward time: 0.008583545684814453\n",
      "no hand\n",
      "Time for processing 1 frame: 0.008818864822387695s\n"
     ]
    },
    {
     "name": "stderr",
     "output_type": "stream",
     "text": [
      "378it [01:18,  7.02it/s]"
     ]
    },
    {
     "name": "stdout",
     "output_type": "stream",
     "text": [
      "tensor([[0.3596]], device='cuda:0', grad_fn=<SigmoidBackward>)\n",
      "Handnet forward time: 0.007643938064575195\n",
      "no hand\n",
      "Time for processing 1 frame: 0.0077114105224609375s\n",
      "tensor([[0.4913]], device='cuda:0', grad_fn=<SigmoidBackward>)\n",
      "Handnet forward time: 0.008650064468383789\n",
      "no hand\n",
      "Time for processing 1 frame: 0.008872270584106445s\n"
     ]
    },
    {
     "name": "stderr",
     "output_type": "stream",
     "text": [
      "\r",
      "379it [01:18,  7.26it/s]"
     ]
    },
    {
     "name": "stdout",
     "output_type": "stream",
     "text": [
      "tensor([[0.6342]], device='cuda:0', grad_fn=<SigmoidBackward>)\n",
      "Handnet forward time: 0.007749080657958984\n",
      "Handsegnet forward time: 0.001119852066040039\n",
      "s shape torch.Size([1, 2, 224, 224])\n",
      "for loop time 0.002972841262817383\n",
      "hand mask sum: 1544.0\n",
      "Calculate single highest scoring object time: 0.0329592227935791\n",
      "Crop and resize time: 0.0009815692901611328\n",
      "Posenet forward time: 0.0020897388458251953\n",
      "Posepriornet forward time: 0.000782012939453125\n",
      "Viewpoint forward time: 0.0009925365447998047\n",
      "Get normalized 3d coordinates time: 0.0006558895111083984\n",
      "Flip left handed input time: 0.00014925003051757812\n",
      "ScaLe heatmaps time 0.00010800361633300781\n",
      "Time for processing 1 frame: 0.04813671112060547s\n"
     ]
    },
    {
     "name": "stderr",
     "output_type": "stream",
     "text": [
      "\r",
      "380it [01:18,  5.94it/s]"
     ]
    },
    {
     "name": "stdout",
     "output_type": "stream",
     "text": [
      "tensor([[0.6351]], device='cuda:0', grad_fn=<SigmoidBackward>)\n",
      "Handnet forward time: 0.008159160614013672\n",
      "Handsegnet forward time: 0.00102996826171875\n",
      "s shape torch.Size([1, 2, 224, 224])\n",
      "for loop time 0.003275632858276367\n",
      "hand mask sum: 1551.0\n",
      "Calculate single highest scoring object time: 0.030817270278930664\n",
      "Crop and resize time: 0.0009813308715820312\n",
      "Posenet forward time: 0.002027750015258789\n",
      "Posepriornet forward time: 0.0007526874542236328\n",
      "Viewpoint forward time: 0.0009610652923583984\n",
      "Get normalized 3d coordinates time: 0.0006115436553955078\n",
      "Flip left handed input time: 0.0001430511474609375\n",
      "ScaLe heatmaps time 0.00010633468627929688\n",
      "Time for processing 1 frame: 0.04632377624511719s\n"
     ]
    },
    {
     "name": "stderr",
     "output_type": "stream",
     "text": [
      "\r",
      "381it [01:18,  5.32it/s]"
     ]
    },
    {
     "name": "stdout",
     "output_type": "stream",
     "text": [
      "tensor([[0.5786]], device='cuda:0', grad_fn=<SigmoidBackward>)\n",
      "Handnet forward time: 0.008546590805053711\n",
      "Handsegnet forward time: 0.001033782958984375\n",
      "s shape torch.Size([1, 2, 224, 224])\n",
      "for loop time 0.005240917205810547\n",
      "hand mask sum: 1593.0\n",
      "Calculate single highest scoring object time: 0.03203916549682617\n",
      "Crop and resize time: 0.0009980201721191406\n",
      "Posenet forward time: 0.002044677734375\n",
      "Posepriornet forward time: 0.0007696151733398438\n",
      "Viewpoint forward time: 0.0009729862213134766\n",
      "Get normalized 3d coordinates time: 0.0006296634674072266\n",
      "Flip left handed input time: 0.00014448165893554688\n",
      "ScaLe heatmaps time 0.00010347366333007812\n",
      "Time for processing 1 frame: 0.04797482490539551s\n"
     ]
    },
    {
     "name": "stderr",
     "output_type": "stream",
     "text": [
      "\r",
      "382it [01:19,  4.92it/s]"
     ]
    },
    {
     "name": "stdout",
     "output_type": "stream",
     "text": [
      "tensor([[0.7081]], device='cuda:0', grad_fn=<SigmoidBackward>)\n",
      "Handnet forward time: 0.008522272109985352\n",
      "Handsegnet forward time: 0.0011506080627441406\n",
      "s shape torch.Size([1, 2, 224, 224])\n",
      "for loop time 0.003288745880126953\n",
      "hand mask sum: 1637.0\n",
      "Calculate single highest scoring object time: 0.03294658660888672\n",
      "Crop and resize time: 0.0012364387512207031\n",
      "Posenet forward time: 0.0020737648010253906\n",
      "Posepriornet forward time: 0.0008022785186767578\n",
      "Viewpoint forward time: 0.0009682178497314453\n",
      "Get normalized 3d coordinates time: 0.0006687641143798828\n",
      "Flip left handed input time: 0.00013494491577148438\n",
      "ScaLe heatmaps time 8.463859558105469e-05\n",
      "Time for processing 1 frame: 0.04912066459655762s\n"
     ]
    },
    {
     "name": "stderr",
     "output_type": "stream",
     "text": [
      "\r",
      "383it [01:19,  4.59it/s]"
     ]
    },
    {
     "name": "stdout",
     "output_type": "stream",
     "text": [
      "tensor([[0.7713]], device='cuda:0', grad_fn=<SigmoidBackward>)\n",
      "Handnet forward time: 0.008031368255615234\n",
      "Handsegnet forward time: 0.001129150390625\n",
      "s shape torch.Size([1, 2, 224, 224])\n",
      "for loop time 0.0031371116638183594\n",
      "hand mask sum: 1691.0\n",
      "Calculate single highest scoring object time: 0.03065943717956543\n",
      "Crop and resize time: 0.0009641647338867188\n",
      "Posenet forward time: 0.0020329952239990234\n",
      "Posepriornet forward time: 0.0007460117340087891\n",
      "Viewpoint forward time: 0.0009584426879882812\n",
      "Get normalized 3d coordinates time: 0.0006260871887207031\n",
      "Flip left handed input time: 0.0001418590545654297\n",
      "ScaLe heatmaps time 0.000110626220703125\n",
      "Time for processing 1 frame: 0.04582571983337402s\n"
     ]
    },
    {
     "name": "stderr",
     "output_type": "stream",
     "text": [
      "\r",
      "384it [01:19,  4.49it/s]"
     ]
    },
    {
     "name": "stdout",
     "output_type": "stream",
     "text": [
      "tensor([[0.9617]], device='cuda:0', grad_fn=<SigmoidBackward>)\n",
      "Handnet forward time: 0.008170604705810547\n",
      "Handsegnet forward time: 0.0010266304016113281\n",
      "s shape torch.Size([1, 2, 224, 224])\n",
      "for loop time 0.0031032562255859375\n",
      "hand mask sum: 1736.0\n",
      "Calculate single highest scoring object time: 0.02960371971130371\n",
      "Crop and resize time: 0.0009553432464599609\n",
      "Posenet forward time: 0.0019893646240234375\n",
      "Posepriornet forward time: 0.0007524490356445312\n",
      "Viewpoint forward time: 0.00095367431640625\n",
      "Get normalized 3d coordinates time: 0.0006048679351806641\n",
      "Flip left handed input time: 0.00013709068298339844\n",
      "ScaLe heatmaps time 0.00011086463928222656\n",
      "Time for processing 1 frame: 0.044968366622924805s\n"
     ]
    },
    {
     "name": "stderr",
     "output_type": "stream",
     "text": [
      "\r",
      "385it [01:19,  4.41it/s]"
     ]
    },
    {
     "name": "stdout",
     "output_type": "stream",
     "text": [
      "tensor([[0.9666]], device='cuda:0', grad_fn=<SigmoidBackward>)\n",
      "Handnet forward time: 0.007635354995727539\n",
      "Handsegnet forward time: 0.0010445117950439453\n",
      "s shape torch.Size([1, 2, 224, 224])\n",
      "for loop time 0.0030765533447265625\n",
      "hand mask sum: 1757.0\n",
      "Calculate single highest scoring object time: 0.0317838191986084\n",
      "Crop and resize time: 0.0012748241424560547\n",
      "Posenet forward time: 0.0022673606872558594\n",
      "Posepriornet forward time: 0.0008690357208251953\n",
      "Viewpoint forward time: 0.0010485649108886719\n",
      "Get normalized 3d coordinates time: 0.0010266304016113281\n",
      "Flip left handed input time: 0.00020265579223632812\n",
      "ScaLe heatmaps time 0.00014972686767578125\n",
      "Time for processing 1 frame: 0.04822063446044922s\n"
     ]
    },
    {
     "name": "stderr",
     "output_type": "stream",
     "text": [
      "\r",
      "386it [01:20,  4.31it/s]"
     ]
    },
    {
     "name": "stdout",
     "output_type": "stream",
     "text": [
      "tensor([[0.9681]], device='cuda:0', grad_fn=<SigmoidBackward>)\n",
      "Handnet forward time: 0.008485555648803711\n",
      "Handsegnet forward time: 0.0009670257568359375\n",
      "s shape torch.Size([1, 2, 224, 224])\n",
      "for loop time 0.0031213760375976562\n",
      "hand mask sum: 1796.0\n",
      "Calculate single highest scoring object time: 0.030399799346923828\n",
      "Crop and resize time: 0.0009794235229492188\n",
      "Posenet forward time: 0.0020246505737304688\n",
      "Posepriornet forward time: 0.0007433891296386719\n",
      "Viewpoint forward time: 0.0009546279907226562\n",
      "Get normalized 3d coordinates time: 0.0006058216094970703\n",
      "Flip left handed input time: 0.00014019012451171875\n",
      "ScaLe heatmaps time 0.00011181831359863281\n",
      "Time for processing 1 frame: 0.04603934288024902s\n"
     ]
    },
    {
     "name": "stderr",
     "output_type": "stream",
     "text": [
      "\r",
      "387it [01:20,  4.29it/s]"
     ]
    },
    {
     "name": "stdout",
     "output_type": "stream",
     "text": [
      "tensor([[0.9788]], device='cuda:0', grad_fn=<SigmoidBackward>)\n",
      "Handnet forward time: 0.008278846740722656\n",
      "Handsegnet forward time: 0.00103759765625\n",
      "s shape torch.Size([1, 2, 224, 224])\n",
      "for loop time 0.003068685531616211\n",
      "hand mask sum: 1815.0\n",
      "Calculate single highest scoring object time: 0.029679298400878906\n",
      "Crop and resize time: 0.0009198188781738281\n",
      "Posenet forward time: 0.001959562301635742\n",
      "Posepriornet forward time: 0.0006937980651855469\n",
      "Viewpoint forward time: 0.0009570121765136719\n",
      "Get normalized 3d coordinates time: 0.0006093978881835938\n",
      "Flip left handed input time: 0.0001385211944580078\n",
      "ScaLe heatmaps time 0.000110626220703125\n",
      "Time for processing 1 frame: 0.04502534866333008s\n"
     ]
    },
    {
     "name": "stderr",
     "output_type": "stream",
     "text": [
      "\r",
      "388it [01:20,  4.27it/s]"
     ]
    },
    {
     "name": "stdout",
     "output_type": "stream",
     "text": [
      "tensor([[0.9528]], device='cuda:0', grad_fn=<SigmoidBackward>)\n",
      "Handnet forward time: 0.008523702621459961\n",
      "Handsegnet forward time: 0.001035928726196289\n",
      "s shape torch.Size([1, 2, 224, 224])\n",
      "for loop time 0.003108501434326172\n",
      "hand mask sum: 1834.0\n",
      "Calculate single highest scoring object time: 0.03237509727478027\n",
      "Crop and resize time: 0.0009691715240478516\n",
      "Posenet forward time: 0.002147197723388672\n",
      "Posepriornet forward time: 0.0007572174072265625\n",
      "Viewpoint forward time: 0.0009570121765136719\n",
      "Get normalized 3d coordinates time: 0.0006146430969238281\n",
      "Flip left handed input time: 0.00013518333435058594\n",
      "ScaLe heatmaps time 0.00010991096496582031\n",
      "Time for processing 1 frame: 0.04828381538391113s\n"
     ]
    },
    {
     "name": "stderr",
     "output_type": "stream",
     "text": [
      "\r",
      "389it [01:20,  4.23it/s]"
     ]
    },
    {
     "name": "stdout",
     "output_type": "stream",
     "text": [
      "tensor([[0.9374]], device='cuda:0', grad_fn=<SigmoidBackward>)\n",
      "Handnet forward time: 0.009491682052612305\n",
      "Handsegnet forward time: 0.0010006427764892578\n",
      "s shape torch.Size([1, 2, 224, 224])\n",
      "for loop time 0.0031557083129882812\n",
      "hand mask sum: 1857.0\n",
      "Calculate single highest scoring object time: 0.032839298248291016\n",
      "Crop and resize time: 0.0010025501251220703\n",
      "Posenet forward time: 0.0020258426666259766\n",
      "Posepriornet forward time: 0.0010328292846679688\n",
      "Viewpoint forward time: 0.0011560916900634766\n",
      "Get normalized 3d coordinates time: 0.0007910728454589844\n",
      "Flip left handed input time: 0.00021386146545410156\n",
      "ScaLe heatmaps time 0.00013375282287597656\n",
      "Time for processing 1 frame: 0.0505070686340332s\n"
     ]
    },
    {
     "name": "stderr",
     "output_type": "stream",
     "text": [
      "\r",
      "390it [01:21,  4.17it/s]"
     ]
    },
    {
     "name": "stdout",
     "output_type": "stream",
     "text": [
      "tensor([[0.9528]], device='cuda:0', grad_fn=<SigmoidBackward>)\n",
      "Handnet forward time: 0.009520292282104492\n",
      "Handsegnet forward time: 0.0010821819305419922\n",
      "s shape torch.Size([1, 2, 224, 224])\n",
      "for loop time 0.003097057342529297\n",
      "hand mask sum: 1856.0\n",
      "Calculate single highest scoring object time: 0.030036449432373047\n",
      "Crop and resize time: 0.0009663105010986328\n",
      "Posenet forward time: 0.002030611038208008\n",
      "Posepriornet forward time: 0.0007548332214355469\n",
      "Viewpoint forward time: 0.0009694099426269531\n",
      "Get normalized 3d coordinates time: 0.0006120204925537109\n",
      "Flip left handed input time: 5.888938903808594e-05\n",
      "ScaLe heatmaps time 0.0001442432403564453\n",
      "Time for processing 1 frame: 0.04681849479675293s\n"
     ]
    },
    {
     "name": "stderr",
     "output_type": "stream",
     "text": [
      "\r",
      "391it [01:21,  4.19it/s]"
     ]
    },
    {
     "name": "stdout",
     "output_type": "stream",
     "text": [
      "tensor([[0.9538]], device='cuda:0', grad_fn=<SigmoidBackward>)\n",
      "Handnet forward time: 0.00809025764465332\n",
      "Handsegnet forward time: 0.0010013580322265625\n",
      "s shape torch.Size([1, 2, 224, 224])\n",
      "for loop time 0.00480341911315918\n",
      "hand mask sum: 1866.0\n",
      "Calculate single highest scoring object time: 0.030606985092163086\n",
      "Crop and resize time: 0.0009756088256835938\n",
      "Posenet forward time: 0.0020639896392822266\n",
      "Posepriornet forward time: 0.0007479190826416016\n",
      "Viewpoint forward time: 0.0009293556213378906\n",
      "Get normalized 3d coordinates time: 0.000621795654296875\n",
      "Flip left handed input time: 0.00013589859008789062\n",
      "ScaLe heatmaps time 0.00010609626770019531\n",
      "Time for processing 1 frame: 0.04590106010437012s\n"
     ]
    },
    {
     "name": "stderr",
     "output_type": "stream",
     "text": [
      "\r",
      "392it [01:21,  4.20it/s]"
     ]
    },
    {
     "name": "stdout",
     "output_type": "stream",
     "text": [
      "tensor([[0.9588]], device='cuda:0', grad_fn=<SigmoidBackward>)\n",
      "Handnet forward time: 0.008474111557006836\n",
      "Handsegnet forward time: 0.0009980201721191406\n",
      "s shape torch.Size([1, 2, 224, 224])\n",
      "for loop time 0.0031402111053466797\n",
      "hand mask sum: 1864.0\n",
      "Calculate single highest scoring object time: 0.032000064849853516\n",
      "Crop and resize time: 0.0009646415710449219\n",
      "Posenet forward time: 0.002035379409790039\n",
      "Posepriornet forward time: 0.0008029937744140625\n",
      "Viewpoint forward time: 0.0009644031524658203\n",
      "Get normalized 3d coordinates time: 0.0006282329559326172\n",
      "Flip left handed input time: 0.000148773193359375\n",
      "ScaLe heatmaps time 3.2901763916015625e-05\n",
      "Time for processing 1 frame: 0.047692060470581055s\n"
     ]
    },
    {
     "name": "stderr",
     "output_type": "stream",
     "text": [
      "\r",
      "393it [01:21,  4.17it/s]"
     ]
    },
    {
     "name": "stdout",
     "output_type": "stream",
     "text": [
      "tensor([[0.9643]], device='cuda:0', grad_fn=<SigmoidBackward>)\n",
      "Handnet forward time: 0.009715080261230469\n",
      "Handsegnet forward time: 0.0010457038879394531\n",
      "s shape torch.Size([1, 2, 224, 224])\n",
      "for loop time 0.003779172897338867\n",
      "hand mask sum: 1871.0\n",
      "Calculate single highest scoring object time: 0.0323786735534668\n",
      "Crop and resize time: 0.000993490219116211\n",
      "Posenet forward time: 0.002027750015258789\n",
      "Posepriornet forward time: 0.0007483959197998047\n",
      "Viewpoint forward time: 0.0009791851043701172\n",
      "Get normalized 3d coordinates time: 0.0006151199340820312\n",
      "Flip left handed input time: 0.0001366138458251953\n",
      "ScaLe heatmaps time 0.00011181831359863281\n",
      "Time for processing 1 frame: 0.0494084358215332s\n"
     ]
    },
    {
     "name": "stderr",
     "output_type": "stream",
     "text": [
      "\r",
      "394it [01:22,  4.15it/s]"
     ]
    },
    {
     "name": "stdout",
     "output_type": "stream",
     "text": [
      "tensor([[0.9742]], device='cuda:0', grad_fn=<SigmoidBackward>)\n",
      "Handnet forward time: 0.007567167282104492\n",
      "Handsegnet forward time: 0.0011448860168457031\n",
      "s shape torch.Size([1, 2, 224, 224])\n",
      "for loop time 0.0032176971435546875\n",
      "hand mask sum: 1864.0\n",
      "Calculate single highest scoring object time: 0.03265643119812012\n",
      "Crop and resize time: 0.0009751319885253906\n",
      "Posenet forward time: 0.0020918846130371094\n",
      "Posepriornet forward time: 0.0007691383361816406\n",
      "Viewpoint forward time: 0.0009710788726806641\n",
      "Get normalized 3d coordinates time: 0.0006315708160400391\n",
      "Flip left handed input time: 0.00013446807861328125\n",
      "ScaLe heatmaps time 0.00010633468627929688\n",
      "Time for processing 1 frame: 0.04759669303894043s\n"
     ]
    },
    {
     "name": "stderr",
     "output_type": "stream",
     "text": [
      "\r",
      "395it [01:22,  4.12it/s]"
     ]
    },
    {
     "name": "stdout",
     "output_type": "stream",
     "text": [
      "tensor([[0.9620]], device='cuda:0', grad_fn=<SigmoidBackward>)\n",
      "Handnet forward time: 0.007866859436035156\n",
      "Handsegnet forward time: 0.0015270709991455078\n",
      "s shape torch.Size([1, 2, 224, 224])\n",
      "for loop time 0.003014087677001953\n",
      "hand mask sum: 1868.0\n",
      "Calculate single highest scoring object time: 0.03415250778198242\n",
      "Crop and resize time: 0.001033782958984375\n",
      "Posenet forward time: 0.00212860107421875\n",
      "Posepriornet forward time: 0.0008945465087890625\n",
      "Viewpoint forward time: 0.0010116100311279297\n",
      "Get normalized 3d coordinates time: 0.000652313232421875\n",
      "Flip left handed input time: 0.0001366138458251953\n",
      "ScaLe heatmaps time 8.416175842285156e-05\n",
      "Time for processing 1 frame: 0.05031275749206543s\n"
     ]
    },
    {
     "name": "stderr",
     "output_type": "stream",
     "text": [
      "\r",
      "396it [01:22,  4.06it/s]"
     ]
    },
    {
     "name": "stdout",
     "output_type": "stream",
     "text": [
      "tensor([[0.9584]], device='cuda:0', grad_fn=<SigmoidBackward>)\n",
      "Handnet forward time: 0.0076749324798583984\n",
      "Handsegnet forward time: 0.0012865066528320312\n",
      "s shape torch.Size([1, 2, 224, 224])\n",
      "for loop time 0.0031626224517822266\n",
      "hand mask sum: 1859.0\n",
      "Calculate single highest scoring object time: 0.032006263732910156\n",
      "Crop and resize time: 0.0014777183532714844\n",
      "Posenet forward time: 0.002452850341796875\n",
      "Posepriornet forward time: 0.0009875297546386719\n",
      "Viewpoint forward time: 0.001001119613647461\n",
      "Get normalized 3d coordinates time: 0.0006389617919921875\n",
      "Flip left handed input time: 0.00013566017150878906\n",
      "ScaLe heatmaps time 0.00010466575622558594\n",
      "Time for processing 1 frame: 0.04828214645385742s\n"
     ]
    },
    {
     "name": "stderr",
     "output_type": "stream",
     "text": [
      "\r",
      "397it [01:22,  4.07it/s]"
     ]
    },
    {
     "name": "stdout",
     "output_type": "stream",
     "text": [
      "tensor([[0.9718]], device='cuda:0', grad_fn=<SigmoidBackward>)\n",
      "Handnet forward time: 0.008621692657470703\n",
      "Handsegnet forward time: 0.0010471343994140625\n",
      "s shape torch.Size([1, 2, 224, 224])\n",
      "for loop time 0.00313568115234375\n",
      "hand mask sum: 1845.0\n",
      "Calculate single highest scoring object time: 0.033377885818481445\n",
      "Crop and resize time: 0.0009989738464355469\n",
      "Posenet forward time: 0.002095460891723633\n",
      "Posepriornet forward time: 0.0009162425994873047\n",
      "Viewpoint forward time: 0.0010690689086914062\n",
      "Get normalized 3d coordinates time: 0.0006601810455322266\n",
      "Flip left handed input time: 0.00011777877807617188\n",
      "ScaLe heatmaps time 7.891654968261719e-05\n",
      "Time for processing 1 frame: 0.04973769187927246s\n"
     ]
    },
    {
     "name": "stderr",
     "output_type": "stream",
     "text": [
      "\r",
      "398it [01:23,  4.03it/s]"
     ]
    },
    {
     "name": "stdout",
     "output_type": "stream",
     "text": [
      "tensor([[0.9764]], device='cuda:0', grad_fn=<SigmoidBackward>)\n",
      "Handnet forward time: 0.007569313049316406\n",
      "Handsegnet forward time: 0.0009682178497314453\n",
      "s shape torch.Size([1, 2, 224, 224])\n",
      "for loop time 0.003042936325073242\n",
      "hand mask sum: 1864.0\n",
      "Calculate single highest scoring object time: 0.03343653678894043\n",
      "Crop and resize time: 0.0023336410522460938\n",
      "Posenet forward time: 0.0021855831146240234\n",
      "Posepriornet forward time: 0.0008318424224853516\n",
      "Viewpoint forward time: 0.0009675025939941406\n",
      "Get normalized 3d coordinates time: 0.0006086826324462891\n",
      "Flip left handed input time: 0.00010848045349121094\n",
      "ScaLe heatmaps time 7.534027099609375e-05\n",
      "Time for processing 1 frame: 0.04975390434265137s\n"
     ]
    },
    {
     "name": "stderr",
     "output_type": "stream",
     "text": [
      "\r",
      "399it [01:23,  4.00it/s]"
     ]
    },
    {
     "name": "stdout",
     "output_type": "stream",
     "text": [
      "tensor([[0.9775]], device='cuda:0', grad_fn=<SigmoidBackward>)\n",
      "Handnet forward time: 0.008713722229003906\n",
      "Handsegnet forward time: 0.0010848045349121094\n",
      "s shape torch.Size([1, 2, 224, 224])\n",
      "for loop time 0.004314899444580078\n",
      "hand mask sum: 1861.0\n",
      "Calculate single highest scoring object time: 0.03263354301452637\n",
      "Crop and resize time: 0.0013566017150878906\n",
      "Posenet forward time: 0.001974821090698242\n",
      "Posepriornet forward time: 0.0007119178771972656\n",
      "Viewpoint forward time: 0.0009403228759765625\n",
      "Get normalized 3d coordinates time: 0.0005860328674316406\n",
      "Flip left handed input time: 0.00010776519775390625\n",
      "ScaLe heatmaps time 7.534027099609375e-05\n",
      "Time for processing 1 frame: 0.04874563217163086s\n"
     ]
    },
    {
     "name": "stderr",
     "output_type": "stream",
     "text": [
      "\r",
      "400it [01:23,  4.04it/s]"
     ]
    },
    {
     "name": "stdout",
     "output_type": "stream",
     "text": [
      "tensor([[0.9794]], device='cuda:0', grad_fn=<SigmoidBackward>)\n",
      "Handnet forward time: 0.008420705795288086\n",
      "Handsegnet forward time: 0.0009510517120361328\n",
      "s shape torch.Size([1, 2, 224, 224])\n",
      "for loop time 0.003139019012451172\n",
      "hand mask sum: 1860.0\n",
      "Calculate single highest scoring object time: 0.032395362854003906\n",
      "Crop and resize time: 0.0009601116180419922\n",
      "Posenet forward time: 0.001981973648071289\n",
      "Posepriornet forward time: 0.0007443428039550781\n",
      "Viewpoint forward time: 0.0009443759918212891\n",
      "Get normalized 3d coordinates time: 0.0006222724914550781\n",
      "Flip left handed input time: 0.00014257431030273438\n",
      "ScaLe heatmaps time 0.00011086463928222656\n",
      "Time for processing 1 frame: 0.0478825569152832s\n"
     ]
    },
    {
     "name": "stderr",
     "output_type": "stream",
     "text": [
      "\r",
      "401it [01:23,  4.10it/s]"
     ]
    },
    {
     "name": "stdout",
     "output_type": "stream",
     "text": [
      "tensor([[0.9759]], device='cuda:0', grad_fn=<SigmoidBackward>)\n",
      "Handnet forward time: 0.007612943649291992\n",
      "Handsegnet forward time: 0.000982046127319336\n",
      "s shape torch.Size([1, 2, 224, 224])\n",
      "for loop time 0.0030961036682128906\n",
      "hand mask sum: 1854.0\n",
      "Calculate single highest scoring object time: 0.030594348907470703\n",
      "Crop and resize time: 0.0009615421295166016\n",
      "Posenet forward time: 0.0019965171813964844\n",
      "Posepriornet forward time: 0.000736236572265625\n",
      "Viewpoint forward time: 0.0009264945983886719\n",
      "Get normalized 3d coordinates time: 0.0006086826324462891\n",
      "Flip left handed input time: 0.00014138221740722656\n",
      "ScaLe heatmaps time 0.0001125335693359375\n",
      "Time for processing 1 frame: 0.04529309272766113s\n"
     ]
    },
    {
     "name": "stderr",
     "output_type": "stream",
     "text": [
      "\r",
      "402it [01:24,  4.11it/s]"
     ]
    },
    {
     "name": "stdout",
     "output_type": "stream",
     "text": [
      "tensor([[0.9668]], device='cuda:0', grad_fn=<SigmoidBackward>)\n",
      "Handnet forward time: 0.009724140167236328\n",
      "Handsegnet forward time: 0.0011675357818603516\n",
      "s shape torch.Size([1, 2, 224, 224])\n",
      "for loop time 0.0033490657806396484\n",
      "hand mask sum: 1857.0\n",
      "Calculate single highest scoring object time: 0.03565573692321777\n",
      "Crop and resize time: 0.0009706020355224609\n",
      "Posenet forward time: 0.0020008087158203125\n",
      "Posepriornet forward time: 0.0007338523864746094\n",
      "Viewpoint forward time: 0.0009400844573974609\n",
      "Get normalized 3d coordinates time: 0.0006334781646728516\n",
      "Flip left handed input time: 6.556510925292969e-05\n",
      "ScaLe heatmaps time 3.6716461181640625e-05\n",
      "Time for processing 1 frame: 0.052590131759643555s\n"
     ]
    },
    {
     "name": "stderr",
     "output_type": "stream",
     "text": [
      "\r",
      "403it [01:24,  2.65it/s]"
     ]
    },
    {
     "name": "stdout",
     "output_type": "stream",
     "text": [
      "tensor([[0.9593]], device='cuda:0', grad_fn=<SigmoidBackward>)\n",
      "Handnet forward time: 0.0075626373291015625\n",
      "Handsegnet forward time: 0.0009510517120361328\n",
      "s shape torch.Size([1, 2, 224, 224])\n",
      "for loop time 0.00311279296875\n",
      "hand mask sum: 1869.0\n",
      "Calculate single highest scoring object time: 0.030489206314086914\n",
      "Crop and resize time: 0.0009670257568359375\n",
      "Posenet forward time: 0.001983642578125\n",
      "Posepriornet forward time: 0.0007395744323730469\n",
      "Viewpoint forward time: 0.0009202957153320312\n",
      "Get normalized 3d coordinates time: 0.0006096363067626953\n",
      "Flip left handed input time: 0.00013709068298339844\n",
      "ScaLe heatmaps time 0.00010728836059570312\n",
      "Time for processing 1 frame: 0.04508495330810547s\n"
     ]
    },
    {
     "name": "stderr",
     "output_type": "stream",
     "text": [
      "\r",
      "404it [01:24,  2.99it/s]"
     ]
    },
    {
     "name": "stdout",
     "output_type": "stream",
     "text": [
      "tensor([[0.9368]], device='cuda:0', grad_fn=<SigmoidBackward>)\n",
      "Handnet forward time: 0.007605791091918945\n",
      "Handsegnet forward time: 0.0010862350463867188\n",
      "s shape torch.Size([1, 2, 224, 224])\n",
      "for loop time 0.0030798912048339844\n",
      "hand mask sum: 1904.0\n",
      "Calculate single highest scoring object time: 0.03169417381286621\n",
      "Crop and resize time: 0.0009198188781738281\n",
      "Posenet forward time: 0.001974344253540039\n",
      "Posepriornet forward time: 0.0008034706115722656\n",
      "Viewpoint forward time: 0.0010228157043457031\n",
      "Get normalized 3d coordinates time: 0.0006442070007324219\n",
      "Flip left handed input time: 0.0001537799835205078\n",
      "ScaLe heatmaps time 4.744529724121094e-05\n",
      "Time for processing 1 frame: 0.046677589416503906s\n"
     ]
    },
    {
     "name": "stderr",
     "output_type": "stream",
     "text": [
      "\r",
      "405it [01:25,  3.25it/s]"
     ]
    },
    {
     "name": "stdout",
     "output_type": "stream",
     "text": [
      "tensor([[0.9563]], device='cuda:0', grad_fn=<SigmoidBackward>)\n",
      "Handnet forward time: 0.00848078727722168\n",
      "Handsegnet forward time: 0.0010099411010742188\n",
      "s shape torch.Size([1, 2, 224, 224])\n",
      "for loop time 0.0037147998809814453\n",
      "hand mask sum: 1919.0\n",
      "Calculate single highest scoring object time: 0.029402494430541992\n",
      "Crop and resize time: 0.0009405612945556641\n",
      "Posenet forward time: 0.001969575881958008\n",
      "Posepriornet forward time: 0.0007307529449462891\n",
      "Viewpoint forward time: 0.0009374618530273438\n",
      "Get normalized 3d coordinates time: 0.0006041526794433594\n",
      "Flip left handed input time: 0.0001373291015625\n",
      "ScaLe heatmaps time 0.00010848045349121094\n",
      "Time for processing 1 frame: 0.04495501518249512s\n"
     ]
    },
    {
     "name": "stderr",
     "output_type": "stream",
     "text": [
      "\r",
      "406it [01:25,  3.52it/s]"
     ]
    },
    {
     "name": "stdout",
     "output_type": "stream",
     "text": [
      "tensor([[0.9908]], device='cuda:0', grad_fn=<SigmoidBackward>)\n",
      "Handnet forward time: 0.008859395980834961\n",
      "Handsegnet forward time: 0.0009970664978027344\n",
      "s shape torch.Size([1, 2, 224, 224])\n",
      "for loop time 0.0033321380615234375\n",
      "hand mask sum: 1960.0\n",
      "Calculate single highest scoring object time: 0.02988910675048828\n",
      "Crop and resize time: 0.0009586811065673828\n",
      "Posenet forward time: 0.001916646957397461\n",
      "Posepriornet forward time: 0.0007135868072509766\n",
      "Viewpoint forward time: 0.0009584426879882812\n",
      "Get normalized 3d coordinates time: 0.0005922317504882812\n",
      "Flip left handed input time: 0.00013184547424316406\n",
      "ScaLe heatmaps time 0.00010728836059570312\n",
      "Time for processing 1 frame: 0.04573559761047363s\n"
     ]
    },
    {
     "name": "stderr",
     "output_type": "stream",
     "text": [
      "\r",
      "407it [01:25,  3.73it/s]"
     ]
    },
    {
     "name": "stdout",
     "output_type": "stream",
     "text": [
      "tensor([[0.9926]], device='cuda:0', grad_fn=<SigmoidBackward>)\n",
      "Handnet forward time: 0.007701873779296875\n",
      "Handsegnet forward time: 0.0009927749633789062\n",
      "s shape torch.Size([1, 2, 224, 224])\n",
      "for loop time 0.00313568115234375\n",
      "hand mask sum: 2047.0\n",
      "Calculate single highest scoring object time: 0.029729366302490234\n",
      "Crop and resize time: 0.0009107589721679688\n",
      "Posenet forward time: 0.001955270767211914\n",
      "Posepriornet forward time: 0.0007212162017822266\n",
      "Viewpoint forward time: 0.0009157657623291016\n",
      "Get normalized 3d coordinates time: 0.0006043910980224609\n",
      "Flip left handed input time: 0.00013589859008789062\n",
      "ScaLe heatmaps time 0.00010800361633300781\n",
      "Time for processing 1 frame: 0.04440164566040039s\n"
     ]
    },
    {
     "name": "stderr",
     "output_type": "stream",
     "text": [
      "\r",
      "408it [01:25,  3.89it/s]"
     ]
    },
    {
     "name": "stdout",
     "output_type": "stream",
     "text": [
      "tensor([[0.9982]], device='cuda:0', grad_fn=<SigmoidBackward>)\n",
      "Handnet forward time: 0.0075457096099853516\n",
      "Handsegnet forward time: 0.0009534358978271484\n",
      "s shape torch.Size([1, 2, 224, 224])\n",
      "for loop time 0.0031087398529052734\n",
      "hand mask sum: 2143.0\n",
      "Calculate single highest scoring object time: 0.03152656555175781\n",
      "Crop and resize time: 0.0009560585021972656\n",
      "Posenet forward time: 0.0020020008087158203\n",
      "Posepriornet forward time: 0.0007321834564208984\n",
      "Viewpoint forward time: 0.0009379386901855469\n",
      "Get normalized 3d coordinates time: 0.0006124973297119141\n",
      "Flip left handed input time: 0.0001342296600341797\n",
      "ScaLe heatmaps time 0.00010919570922851562\n",
      "Time for processing 1 frame: 0.046117544174194336s\n"
     ]
    },
    {
     "name": "stderr",
     "output_type": "stream",
     "text": [
      "\r",
      "409it [01:26,  4.00it/s]"
     ]
    },
    {
     "name": "stdout",
     "output_type": "stream",
     "text": [
      "tensor([[0.9985]], device='cuda:0', grad_fn=<SigmoidBackward>)\n",
      "Handnet forward time: 0.007560014724731445\n",
      "Handsegnet forward time: 0.0009758472442626953\n",
      "s shape torch.Size([1, 2, 224, 224])\n",
      "for loop time 0.003101825714111328\n",
      "hand mask sum: 2190.0\n",
      "Calculate single highest scoring object time: 0.03075408935546875\n",
      "Crop and resize time: 0.0009670257568359375\n",
      "Posenet forward time: 0.0020232200622558594\n",
      "Posepriornet forward time: 0.0007445812225341797\n",
      "Viewpoint forward time: 0.0009427070617675781\n",
      "Get normalized 3d coordinates time: 0.0006136894226074219\n",
      "Flip left handed input time: 0.00013947486877441406\n",
      "ScaLe heatmaps time 0.00010943412780761719\n",
      "Time for processing 1 frame: 0.04544186592102051s\n"
     ]
    },
    {
     "name": "stderr",
     "output_type": "stream",
     "text": [
      "\r",
      "410it [01:26,  4.09it/s]"
     ]
    },
    {
     "name": "stdout",
     "output_type": "stream",
     "text": [
      "tensor([[0.9982]], device='cuda:0', grad_fn=<SigmoidBackward>)\n",
      "Handnet forward time: 0.007555246353149414\n",
      "Handsegnet forward time: 0.0013453960418701172\n",
      "s shape torch.Size([1, 2, 224, 224])\n",
      "for loop time 0.0029706954956054688\n",
      "hand mask sum: 2196.0\n",
      "Calculate single highest scoring object time: 0.03136038780212402\n",
      "Crop and resize time: 0.0009419918060302734\n",
      "Posenet forward time: 0.0020210742950439453\n",
      "Posepriornet forward time: 0.0007147789001464844\n",
      "Viewpoint forward time: 0.0009164810180664062\n",
      "Get normalized 3d coordinates time: 0.0006411075592041016\n",
      "Flip left handed input time: 0.0001347064971923828\n",
      "ScaLe heatmaps time 0.00010800361633300781\n",
      "Time for processing 1 frame: 0.04616594314575195s\n"
     ]
    },
    {
     "name": "stderr",
     "output_type": "stream",
     "text": [
      "\r",
      "411it [01:26,  4.15it/s]"
     ]
    },
    {
     "name": "stdout",
     "output_type": "stream",
     "text": [
      "tensor([[0.9961]], device='cuda:0', grad_fn=<SigmoidBackward>)\n",
      "Handnet forward time: 0.0075550079345703125\n",
      "Handsegnet forward time: 0.0009720325469970703\n",
      "s shape torch.Size([1, 2, 224, 224])\n",
      "for loop time 0.003088235855102539\n",
      "hand mask sum: 2190.0\n",
      "Calculate single highest scoring object time: 0.031642913818359375\n",
      "Crop and resize time: 0.0009610652923583984\n",
      "Posenet forward time: 0.0019631385803222656\n",
      "Posepriornet forward time: 0.0007510185241699219\n",
      "Viewpoint forward time: 0.0009508132934570312\n",
      "Get normalized 3d coordinates time: 0.0006144046783447266\n",
      "Flip left handed input time: 5.745887756347656e-05\n",
      "ScaLe heatmaps time 3.314018249511719e-05\n",
      "Time for processing 1 frame: 0.04609513282775879s\n"
     ]
    },
    {
     "name": "stderr",
     "output_type": "stream",
     "text": [
      "\r",
      "412it [01:26,  4.19it/s]"
     ]
    },
    {
     "name": "stdout",
     "output_type": "stream",
     "text": [
      "tensor([[0.9945]], device='cuda:0', grad_fn=<SigmoidBackward>)\n",
      "Handnet forward time: 0.007577180862426758\n",
      "Handsegnet forward time: 0.0009551048278808594\n",
      "s shape torch.Size([1, 2, 224, 224])\n",
      "for loop time 0.003108978271484375\n",
      "hand mask sum: 2191.0\n",
      "Calculate single highest scoring object time: 0.03166651725769043\n",
      "Crop and resize time: 0.0009717941284179688\n",
      "Posenet forward time: 0.002099752426147461\n",
      "Posepriornet forward time: 0.0007467269897460938\n",
      "Viewpoint forward time: 0.0009400844573974609\n",
      "Get normalized 3d coordinates time: 0.00061798095703125\n",
      "Flip left handed input time: 0.000141143798828125\n",
      "ScaLe heatmaps time 0.00010609626770019531\n",
      "Time for processing 1 frame: 0.0464329719543457s\n"
     ]
    },
    {
     "name": "stderr",
     "output_type": "stream",
     "text": [
      "\r",
      "413it [01:27,  4.22it/s]"
     ]
    },
    {
     "name": "stdout",
     "output_type": "stream",
     "text": [
      "tensor([[0.9937]], device='cuda:0', grad_fn=<SigmoidBackward>)\n",
      "Handnet forward time: 0.0075380802154541016\n",
      "Handsegnet forward time: 0.000965118408203125\n",
      "s shape torch.Size([1, 2, 224, 224])\n",
      "for loop time 0.0030927658081054688\n",
      "hand mask sum: 2205.0\n",
      "Calculate single highest scoring object time: 0.030460596084594727\n",
      "Crop and resize time: 0.0009672641754150391\n",
      "Posenet forward time: 0.0019805431365966797\n",
      "Posepriornet forward time: 0.0007457733154296875\n",
      "Viewpoint forward time: 0.0009393692016601562\n",
      "Get normalized 3d coordinates time: 0.0006084442138671875\n",
      "Flip left handed input time: 0.00013947486877441406\n",
      "ScaLe heatmaps time 0.00011110305786132812\n",
      "Time for processing 1 frame: 0.045049428939819336s\n"
     ]
    },
    {
     "name": "stderr",
     "output_type": "stream",
     "text": [
      "\r",
      "414it [01:27,  4.25it/s]"
     ]
    },
    {
     "name": "stdout",
     "output_type": "stream",
     "text": [
      "tensor([[0.9938]], device='cuda:0', grad_fn=<SigmoidBackward>)\n",
      "Handnet forward time: 0.008119583129882812\n",
      "Handsegnet forward time: 0.0009546279907226562\n",
      "s shape torch.Size([1, 2, 224, 224])\n",
      "for loop time 0.0031366348266601562\n",
      "hand mask sum: 2219.0\n",
      "Calculate single highest scoring object time: 0.031887054443359375\n",
      "Crop and resize time: 0.0009701251983642578\n",
      "Posenet forward time: 0.0019855499267578125\n",
      "Posepriornet forward time: 0.0007317066192626953\n",
      "Viewpoint forward time: 0.0009396076202392578\n",
      "Get normalized 3d coordinates time: 0.0006110668182373047\n",
      "Flip left handed input time: 0.00013780593872070312\n",
      "ScaLe heatmaps time 0.00010967254638671875\n",
      "Time for processing 1 frame: 0.04708147048950195s\n"
     ]
    },
    {
     "name": "stderr",
     "output_type": "stream",
     "text": [
      "\r",
      "415it [01:27,  4.26it/s]"
     ]
    },
    {
     "name": "stdout",
     "output_type": "stream",
     "text": [
      "tensor([[0.9936]], device='cuda:0', grad_fn=<SigmoidBackward>)\n",
      "Handnet forward time: 0.007680654525756836\n",
      "Handsegnet forward time: 0.0011157989501953125\n",
      "s shape torch.Size([1, 2, 224, 224])\n",
      "for loop time 0.0031304359436035156\n",
      "hand mask sum: 2208.0\n",
      "Calculate single highest scoring object time: 0.029922962188720703\n",
      "Crop and resize time: 0.000997304916381836\n",
      "Posenet forward time: 0.0019898414611816406\n",
      "Posepriornet forward time: 0.0007333755493164062\n",
      "Viewpoint forward time: 0.0009438991546630859\n",
      "Get normalized 3d coordinates time: 0.0006918907165527344\n",
      "Flip left handed input time: 6.29425048828125e-05\n",
      "ScaLe heatmaps time 3.409385681152344e-05\n",
      "Time for processing 1 frame: 0.04462838172912598s\n"
     ]
    },
    {
     "name": "stderr",
     "output_type": "stream",
     "text": [
      "\r",
      "416it [01:27,  4.26it/s]"
     ]
    },
    {
     "name": "stdout",
     "output_type": "stream",
     "text": [
      "tensor([[0.9928]], device='cuda:0', grad_fn=<SigmoidBackward>)\n",
      "Handnet forward time: 0.007798194885253906\n",
      "Handsegnet forward time: 0.0009465217590332031\n",
      "s shape torch.Size([1, 2, 224, 224])\n",
      "for loop time 0.003311634063720703\n",
      "hand mask sum: 2209.0\n",
      "Calculate single highest scoring object time: 0.03218197822570801\n",
      "Crop and resize time: 0.0009665489196777344\n",
      "Posenet forward time: 0.0019986629486083984\n",
      "Posepriornet forward time: 0.0007524490356445312\n",
      "Viewpoint forward time: 0.0010499954223632812\n",
      "Get normalized 3d coordinates time: 0.0008883476257324219\n",
      "Flip left handed input time: 0.00016045570373535156\n",
      "ScaLe heatmaps time 0.00011181831359863281\n",
      "Time for processing 1 frame: 0.04746699333190918s\n"
     ]
    },
    {
     "name": "stderr",
     "output_type": "stream",
     "text": [
      "\r",
      "417it [01:27,  4.25it/s]"
     ]
    },
    {
     "name": "stdout",
     "output_type": "stream",
     "text": [
      "tensor([[0.9932]], device='cuda:0', grad_fn=<SigmoidBackward>)\n",
      "Handnet forward time: 0.008132219314575195\n",
      "Handsegnet forward time: 0.0011239051818847656\n",
      "s shape torch.Size([1, 2, 224, 224])\n",
      "for loop time 0.003395557403564453\n",
      "hand mask sum: 2225.0\n",
      "Calculate single highest scoring object time: 0.032845497131347656\n",
      "Crop and resize time: 0.0009613037109375\n",
      "Posenet forward time: 0.0019788742065429688\n",
      "Posepriornet forward time: 0.0007467269897460938\n",
      "Viewpoint forward time: 0.0009474754333496094\n",
      "Get normalized 3d coordinates time: 0.0007398128509521484\n",
      "Flip left handed input time: 0.0001380443572998047\n",
      "ScaLe heatmaps time 0.00010824203491210938\n",
      "Time for processing 1 frame: 0.048369407653808594s\n"
     ]
    },
    {
     "name": "stderr",
     "output_type": "stream",
     "text": [
      "\r",
      "418it [01:28,  4.23it/s]"
     ]
    },
    {
     "name": "stdout",
     "output_type": "stream",
     "text": [
      "tensor([[0.9921]], device='cuda:0', grad_fn=<SigmoidBackward>)\n",
      "Handnet forward time: 0.009206771850585938\n",
      "Handsegnet forward time: 0.0010797977447509766\n",
      "s shape torch.Size([1, 2, 224, 224])\n",
      "for loop time 0.003154754638671875\n",
      "hand mask sum: 2207.0\n",
      "Calculate single highest scoring object time: 0.0307769775390625\n",
      "Crop and resize time: 0.0009396076202392578\n",
      "Posenet forward time: 0.0019872188568115234\n",
      "Posepriornet forward time: 0.0007174015045166016\n",
      "Viewpoint forward time: 0.0009176731109619141\n",
      "Get normalized 3d coordinates time: 0.0005953311920166016\n",
      "Flip left handed input time: 0.00013375282287597656\n",
      "ScaLe heatmaps time 3.0040740966796875e-05\n",
      "Time for processing 1 frame: 0.047034502029418945s\n"
     ]
    },
    {
     "name": "stderr",
     "output_type": "stream",
     "text": [
      "\r",
      "419it [01:28,  4.24it/s]"
     ]
    },
    {
     "name": "stdout",
     "output_type": "stream",
     "text": [
      "tensor([[0.9909]], device='cuda:0', grad_fn=<SigmoidBackward>)\n",
      "Handnet forward time: 0.009469032287597656\n",
      "Handsegnet forward time: 0.0009992122650146484\n",
      "s shape torch.Size([1, 2, 224, 224])\n",
      "for loop time 0.003838777542114258\n",
      "hand mask sum: 2203.0\n",
      "Calculate single highest scoring object time: 0.030364036560058594\n",
      "Crop and resize time: 0.00093841552734375\n",
      "Posenet forward time: 0.0019257068634033203\n",
      "Posepriornet forward time: 0.0007364749908447266\n",
      "Viewpoint forward time: 0.00092315673828125\n",
      "Get normalized 3d coordinates time: 0.0007023811340332031\n",
      "Flip left handed input time: 0.00013303756713867188\n",
      "ScaLe heatmaps time 0.00010561943054199219\n",
      "Time for processing 1 frame: 0.04691147804260254s\n"
     ]
    },
    {
     "name": "stderr",
     "output_type": "stream",
     "text": [
      "\r",
      "420it [01:28,  4.24it/s]"
     ]
    },
    {
     "name": "stdout",
     "output_type": "stream",
     "text": [
      "tensor([[0.9921]], device='cuda:0', grad_fn=<SigmoidBackward>)\n",
      "Handnet forward time: 0.00902557373046875\n",
      "Handsegnet forward time: 0.0009505748748779297\n",
      "s shape torch.Size([1, 2, 224, 224])\n",
      "for loop time 0.0031545162200927734\n",
      "hand mask sum: 2209.0\n",
      "Calculate single highest scoring object time: 0.030273914337158203\n",
      "Crop and resize time: 0.0009648799896240234\n",
      "Posenet forward time: 0.0021715164184570312\n",
      "Posepriornet forward time: 0.0007426738739013672\n",
      "Viewpoint forward time: 0.0009458065032958984\n",
      "Get normalized 3d coordinates time: 0.0006086826324462891\n",
      "Flip left handed input time: 0.00013637542724609375\n",
      "ScaLe heatmaps time 0.00010728836059570312\n",
      "Time for processing 1 frame: 0.04656100273132324s\n"
     ]
    },
    {
     "name": "stderr",
     "output_type": "stream",
     "text": [
      "\r",
      "421it [01:28,  4.25it/s]"
     ]
    },
    {
     "name": "stdout",
     "output_type": "stream",
     "text": [
      "tensor([[0.9908]], device='cuda:0', grad_fn=<SigmoidBackward>)\n",
      "Handnet forward time: 0.007858753204345703\n",
      "Handsegnet forward time: 0.0010578632354736328\n",
      "s shape torch.Size([1, 2, 224, 224])\n",
      "for loop time 0.0032219886779785156\n",
      "hand mask sum: 2201.0\n",
      "Calculate single highest scoring object time: 0.030660390853881836\n",
      "Crop and resize time: 0.0009434223175048828\n",
      "Posenet forward time: 0.001976490020751953\n",
      "Posepriornet forward time: 0.0007164478302001953\n",
      "Viewpoint forward time: 0.0009167194366455078\n",
      "Get normalized 3d coordinates time: 0.0005943775177001953\n",
      "Flip left handed input time: 0.00013446807861328125\n",
      "ScaLe heatmaps time 0.00010466575622558594\n",
      "Time for processing 1 frame: 0.04559612274169922s\n"
     ]
    },
    {
     "name": "stderr",
     "output_type": "stream",
     "text": [
      "\r",
      "422it [01:29,  4.25it/s]"
     ]
    },
    {
     "name": "stdout",
     "output_type": "stream",
     "text": [
      "tensor([[0.9922]], device='cuda:0', grad_fn=<SigmoidBackward>)\n",
      "Handnet forward time: 0.0076982975006103516\n",
      "Handsegnet forward time: 0.0009403228759765625\n",
      "s shape torch.Size([1, 2, 224, 224])\n",
      "for loop time 0.003184795379638672\n",
      "hand mask sum: 2208.0\n",
      "Calculate single highest scoring object time: 0.030349254608154297\n",
      "Crop and resize time: 0.0009660720825195312\n",
      "Posenet forward time: 0.001982450485229492\n",
      "Posepriornet forward time: 0.0007348060607910156\n",
      "Viewpoint forward time: 0.0009548664093017578\n",
      "Get normalized 3d coordinates time: 0.0006048679351806641\n",
      "Flip left handed input time: 5.698204040527344e-05\n",
      "ScaLe heatmaps time 3.1948089599609375e-05\n",
      "Time for processing 1 frame: 0.04492354393005371s\n"
     ]
    },
    {
     "name": "stderr",
     "output_type": "stream",
     "text": [
      "\r",
      "423it [01:29,  4.27it/s]"
     ]
    },
    {
     "name": "stdout",
     "output_type": "stream",
     "text": [
      "tensor([[0.9933]], device='cuda:0', grad_fn=<SigmoidBackward>)\n",
      "Handnet forward time: 0.0077478885650634766\n",
      "Handsegnet forward time: 0.001001119613647461\n",
      "s shape torch.Size([1, 2, 224, 224])\n",
      "for loop time 0.0031180381774902344\n",
      "hand mask sum: 2206.0\n",
      "Calculate single highest scoring object time: 0.030594587326049805\n",
      "Crop and resize time: 0.0009517669677734375\n",
      "Posenet forward time: 0.0019805431365966797\n",
      "Posepriornet forward time: 0.0007352828979492188\n",
      "Viewpoint forward time: 0.0009386539459228516\n",
      "Get normalized 3d coordinates time: 0.0006098747253417969\n",
      "Flip left handed input time: 0.00013566017150878906\n",
      "ScaLe heatmaps time 0.00010561943054199219\n",
      "Time for processing 1 frame: 0.04542040824890137s\n"
     ]
    },
    {
     "name": "stderr",
     "output_type": "stream",
     "text": [
      "\r",
      "424it [01:29,  4.27it/s]"
     ]
    },
    {
     "name": "stdout",
     "output_type": "stream",
     "text": [
      "tensor([[0.9927]], device='cuda:0', grad_fn=<SigmoidBackward>)\n",
      "Handnet forward time: 0.00819253921508789\n",
      "Handsegnet forward time: 0.0009889602661132812\n",
      "s shape torch.Size([1, 2, 224, 224])\n",
      "for loop time 0.0031647682189941406\n",
      "hand mask sum: 2199.0\n",
      "Calculate single highest scoring object time: 0.0312955379486084\n",
      "Crop and resize time: 0.0009660720825195312\n",
      "Posenet forward time: 0.0020377635955810547\n",
      "Posepriornet forward time: 0.0007679462432861328\n",
      "Viewpoint forward time: 0.0009703636169433594\n",
      "Get normalized 3d coordinates time: 0.0006339550018310547\n",
      "Flip left handed input time: 7.581710815429688e-05\n",
      "ScaLe heatmaps time 3.743171691894531e-05\n",
      "Time for processing 1 frame: 0.04679083824157715s\n"
     ]
    },
    {
     "name": "stderr",
     "output_type": "stream",
     "text": [
      "\r",
      "425it [01:29,  4.22it/s]"
     ]
    },
    {
     "name": "stdout",
     "output_type": "stream",
     "text": [
      "tensor([[0.9929]], device='cuda:0', grad_fn=<SigmoidBackward>)\n",
      "Handnet forward time: 0.00914621353149414\n",
      "Handsegnet forward time: 0.0010683536529541016\n",
      "s shape torch.Size([1, 2, 224, 224])\n",
      "for loop time 0.004119873046875\n",
      "hand mask sum: 2207.0\n",
      "Calculate single highest scoring object time: 0.03406167030334473\n",
      "Crop and resize time: 0.000985860824584961\n",
      "Posenet forward time: 0.00199127197265625\n",
      "Posepriornet forward time: 0.0007350444793701172\n",
      "Viewpoint forward time: 0.0009398460388183594\n",
      "Get normalized 3d coordinates time: 0.00061798095703125\n",
      "Flip left handed input time: 0.0001373291015625\n",
      "ScaLe heatmaps time 0.00010943412780761719\n",
      "Time for processing 1 frame: 0.05044221878051758s\n"
     ]
    },
    {
     "name": "stderr",
     "output_type": "stream",
     "text": [
      "\r",
      "426it [01:30,  4.17it/s]"
     ]
    },
    {
     "name": "stdout",
     "output_type": "stream",
     "text": [
      "tensor([[0.9924]], device='cuda:0', grad_fn=<SigmoidBackward>)\n",
      "Handnet forward time: 0.0075953006744384766\n",
      "Handsegnet forward time: 0.0010111331939697266\n",
      "s shape torch.Size([1, 2, 224, 224])\n",
      "for loop time 0.00441431999206543\n",
      "hand mask sum: 2191.0\n",
      "Calculate single highest scoring object time: 0.03505396842956543\n",
      "Crop and resize time: 0.002255678176879883\n",
      "Posenet forward time: 0.002468109130859375\n",
      "Posepriornet forward time: 0.0007462501525878906\n",
      "Viewpoint forward time: 0.0009446144104003906\n",
      "Get normalized 3d coordinates time: 0.0006155967712402344\n",
      "Flip left handed input time: 0.00014495849609375\n",
      "ScaLe heatmaps time 0.00011301040649414062\n",
      "Time for processing 1 frame: 0.05161881446838379s\n"
     ]
    },
    {
     "name": "stderr",
     "output_type": "stream",
     "text": [
      "\r",
      "427it [01:30,  4.11it/s]"
     ]
    },
    {
     "name": "stdout",
     "output_type": "stream",
     "text": [
      "tensor([[0.9819]], device='cuda:0', grad_fn=<SigmoidBackward>)\n",
      "Handnet forward time: 0.008115053176879883\n",
      "Handsegnet forward time: 0.0012519359588623047\n",
      "s shape torch.Size([1, 2, 224, 224])\n",
      "for loop time 0.0033190250396728516\n",
      "hand mask sum: 2205.0\n",
      "Calculate single highest scoring object time: 0.02988266944885254\n",
      "Crop and resize time: 0.0009326934814453125\n",
      "Posenet forward time: 0.001995086669921875\n",
      "Posepriornet forward time: 0.0006923675537109375\n",
      "Viewpoint forward time: 0.0009343624114990234\n",
      "Get normalized 3d coordinates time: 0.0006091594696044922\n",
      "Flip left handed input time: 0.00013899803161621094\n",
      "ScaLe heatmaps time 0.00011014938354492188\n",
      "Time for processing 1 frame: 0.045311927795410156s\n"
     ]
    },
    {
     "name": "stderr",
     "output_type": "stream",
     "text": [
      "\r",
      "428it [01:30,  4.17it/s]"
     ]
    },
    {
     "name": "stdout",
     "output_type": "stream",
     "text": [
      "tensor([[0.9929]], device='cuda:0', grad_fn=<SigmoidBackward>)\n",
      "Handnet forward time: 0.007604360580444336\n",
      "Handsegnet forward time: 0.001020669937133789\n",
      "s shape torch.Size([1, 2, 224, 224])\n",
      "for loop time 0.003110170364379883\n",
      "hand mask sum: 2277.0\n",
      "Calculate single highest scoring object time: 0.03019404411315918\n",
      "Crop and resize time: 0.0009772777557373047\n",
      "Posenet forward time: 0.0019936561584472656\n",
      "Posepriornet forward time: 0.0007314682006835938\n",
      "Viewpoint forward time: 0.0009515285491943359\n",
      "Get normalized 3d coordinates time: 0.0006227493286132812\n",
      "Flip left handed input time: 0.00017380714416503906\n",
      "ScaLe heatmaps time 0.00011587142944335938\n",
      "Time for processing 1 frame: 0.045050859451293945s\n"
     ]
    },
    {
     "name": "stderr",
     "output_type": "stream",
     "text": [
      "\r",
      "429it [01:30,  4.20it/s]"
     ]
    },
    {
     "name": "stdout",
     "output_type": "stream",
     "text": [
      "tensor([[0.9983]], device='cuda:0', grad_fn=<SigmoidBackward>)\n",
      "Handnet forward time: 0.007638216018676758\n",
      "Handsegnet forward time: 0.0010230541229248047\n",
      "s shape torch.Size([1, 2, 224, 224])\n",
      "for loop time 0.0031044483184814453\n",
      "hand mask sum: 2328.0\n",
      "Calculate single highest scoring object time: 0.030216217041015625\n",
      "Crop and resize time: 0.0009989738464355469\n",
      "Posenet forward time: 0.0019812583923339844\n",
      "Posepriornet forward time: 0.0007390975952148438\n",
      "Viewpoint forward time: 0.0009417533874511719\n",
      "Get normalized 3d coordinates time: 0.0006117820739746094\n",
      "Flip left handed input time: 0.00013875961303710938\n",
      "ScaLe heatmaps time 0.00010895729064941406\n",
      "Time for processing 1 frame: 0.045032501220703125s\n"
     ]
    },
    {
     "name": "stderr",
     "output_type": "stream",
     "text": [
      "\r",
      "430it [01:31,  4.23it/s]"
     ]
    },
    {
     "name": "stdout",
     "output_type": "stream",
     "text": [
      "tensor([[0.9996]], device='cuda:0', grad_fn=<SigmoidBackward>)\n",
      "Handnet forward time: 0.0076677799224853516\n",
      "Handsegnet forward time: 0.001172780990600586\n",
      "s shape torch.Size([1, 2, 224, 224])\n",
      "for loop time 0.003098726272583008\n",
      "hand mask sum: 2342.0\n",
      "Calculate single highest scoring object time: 0.0307159423828125\n",
      "Crop and resize time: 0.0009617805480957031\n",
      "Posenet forward time: 0.0020363330841064453\n",
      "Posepriornet forward time: 0.0007305145263671875\n",
      "Viewpoint forward time: 0.0009381771087646484\n",
      "Get normalized 3d coordinates time: 0.0006327629089355469\n",
      "Flip left handed input time: 0.0001442432403564453\n",
      "ScaLe heatmaps time 0.00010514259338378906\n",
      "Time for processing 1 frame: 0.04556632041931152s\n"
     ]
    },
    {
     "name": "stderr",
     "output_type": "stream",
     "text": [
      "\r",
      "431it [01:31,  4.24it/s]"
     ]
    },
    {
     "name": "stdout",
     "output_type": "stream",
     "text": [
      "tensor([[0.9998]], device='cuda:0', grad_fn=<SigmoidBackward>)\n",
      "Handnet forward time: 0.007654905319213867\n",
      "Handsegnet forward time: 0.0010154247283935547\n",
      "s shape torch.Size([1, 2, 224, 224])\n",
      "for loop time 0.003085613250732422\n",
      "hand mask sum: 2350.0\n",
      "Calculate single highest scoring object time: 0.031186819076538086\n",
      "Crop and resize time: 0.0011434555053710938\n",
      "Posenet forward time: 0.001992464065551758\n",
      "Posepriornet forward time: 0.0007374286651611328\n",
      "Viewpoint forward time: 0.0009477138519287109\n",
      "Get normalized 3d coordinates time: 0.0006108283996582031\n",
      "Flip left handed input time: 0.00013828277587890625\n",
      "ScaLe heatmaps time 0.00011038780212402344\n",
      "Time for processing 1 frame: 0.04620790481567383s\n"
     ]
    },
    {
     "name": "stderr",
     "output_type": "stream",
     "text": [
      "\r",
      "432it [01:31,  4.22it/s]"
     ]
    },
    {
     "name": "stdout",
     "output_type": "stream",
     "text": [
      "tensor([[0.9998]], device='cuda:0', grad_fn=<SigmoidBackward>)\n",
      "Handnet forward time: 0.008872747421264648\n",
      "Handsegnet forward time: 0.0010857582092285156\n",
      "s shape torch.Size([1, 2, 224, 224])\n",
      "for loop time 0.0031151771545410156\n",
      "hand mask sum: 2334.0\n",
      "Calculate single highest scoring object time: 0.032877445220947266\n",
      "Crop and resize time: 0.0009768009185791016\n",
      "Posenet forward time: 0.0019969940185546875\n",
      "Posepriornet forward time: 0.000736236572265625\n",
      "Viewpoint forward time: 0.0009465217590332031\n",
      "Get normalized 3d coordinates time: 0.0006108283996582031\n",
      "Flip left handed input time: 0.0001373291015625\n",
      "ScaLe heatmaps time 3.0994415283203125e-05\n",
      "Time for processing 1 frame: 0.048825979232788086s\n"
     ]
    },
    {
     "name": "stderr",
     "output_type": "stream",
     "text": [
      "\r",
      "433it [01:31,  4.19it/s]"
     ]
    },
    {
     "name": "stdout",
     "output_type": "stream",
     "text": [
      "tensor([[0.9998]], device='cuda:0', grad_fn=<SigmoidBackward>)\n",
      "Handnet forward time: 0.007647037506103516\n",
      "Handsegnet forward time: 0.0010263919830322266\n",
      "s shape torch.Size([1, 2, 224, 224])\n",
      "for loop time 0.0031189918518066406\n",
      "hand mask sum: 2351.0\n",
      "Calculate single highest scoring object time: 0.02960491180419922\n",
      "Crop and resize time: 0.0009717941284179688\n",
      "Posenet forward time: 0.001991748809814453\n",
      "Posepriornet forward time: 0.0007376670837402344\n",
      "Viewpoint forward time: 0.0009455680847167969\n",
      "Get normalized 3d coordinates time: 0.0006122589111328125\n",
      "Flip left handed input time: 0.00012993812561035156\n",
      "ScaLe heatmaps time 3.6716461181640625e-05\n",
      "Time for processing 1 frame: 0.04434061050415039s\n"
     ]
    },
    {
     "name": "stderr",
     "output_type": "stream",
     "text": [
      "\r",
      "434it [01:31,  4.22it/s]"
     ]
    },
    {
     "name": "stdout",
     "output_type": "stream",
     "text": [
      "tensor([[0.9997]], device='cuda:0', grad_fn=<SigmoidBackward>)\n",
      "Handnet forward time: 0.007595062255859375\n",
      "Handsegnet forward time: 0.0010256767272949219\n",
      "s shape torch.Size([1, 2, 224, 224])\n",
      "for loop time 0.002982616424560547\n",
      "hand mask sum: 2322.0\n",
      "Calculate single highest scoring object time: 0.03204059600830078\n",
      "Crop and resize time: 0.0014491081237792969\n",
      "Posenet forward time: 0.0020148754119873047\n",
      "Posepriornet forward time: 0.0007326602935791016\n",
      "Viewpoint forward time: 0.0009424686431884766\n",
      "Get normalized 3d coordinates time: 0.0006117820739746094\n",
      "Flip left handed input time: 0.00015425682067871094\n",
      "ScaLe heatmaps time 9.417533874511719e-05\n",
      "Time for processing 1 frame: 0.04731392860412598s\n"
     ]
    },
    {
     "name": "stderr",
     "output_type": "stream",
     "text": [
      "\r",
      "435it [01:32,  4.23it/s]"
     ]
    },
    {
     "name": "stdout",
     "output_type": "stream",
     "text": [
      "tensor([[0.9998]], device='cuda:0', grad_fn=<SigmoidBackward>)\n",
      "Handnet forward time: 0.008656024932861328\n",
      "Handsegnet forward time: 0.0014679431915283203\n",
      "s shape torch.Size([1, 2, 224, 224])\n",
      "for loop time 0.003627777099609375\n",
      "hand mask sum: 2322.0\n",
      "Calculate single highest scoring object time: 0.03101825714111328\n",
      "Crop and resize time: 0.0010027885437011719\n",
      "Posenet forward time: 0.0020520687103271484\n",
      "Posepriornet forward time: 0.0008106231689453125\n",
      "Viewpoint forward time: 0.000997304916381836\n",
      "Get normalized 3d coordinates time: 0.000583648681640625\n",
      "Flip left handed input time: 0.00013685226440429688\n",
      "ScaLe heatmaps time 5.91278076171875e-05\n",
      "Time for processing 1 frame: 0.04732394218444824s\n"
     ]
    },
    {
     "name": "stderr",
     "output_type": "stream",
     "text": [
      "\r",
      "436it [01:32,  4.23it/s]"
     ]
    },
    {
     "name": "stdout",
     "output_type": "stream",
     "text": [
      "tensor([[0.9998]], device='cuda:0', grad_fn=<SigmoidBackward>)\n",
      "Handnet forward time: 0.009021759033203125\n",
      "Handsegnet forward time: 0.0009758472442626953\n",
      "s shape torch.Size([1, 2, 224, 224])\n",
      "for loop time 0.0036966800689697266\n",
      "hand mask sum: 2311.0\n",
      "Calculate single highest scoring object time: 0.030858755111694336\n",
      "Crop and resize time: 0.0009660720825195312\n",
      "Posenet forward time: 0.0019826889038085938\n",
      "Posepriornet forward time: 0.0007355213165283203\n",
      "Viewpoint forward time: 0.0009300708770751953\n",
      "Get normalized 3d coordinates time: 0.0006005764007568359\n",
      "Flip left handed input time: 0.0001366138458251953\n",
      "ScaLe heatmaps time 0.00011038780212402344\n",
      "Time for processing 1 frame: 0.04696917533874512s\n"
     ]
    },
    {
     "name": "stderr",
     "output_type": "stream",
     "text": [
      "\r",
      "437it [01:32,  4.25it/s]"
     ]
    },
    {
     "name": "stdout",
     "output_type": "stream",
     "text": [
      "tensor([[0.9999]], device='cuda:0', grad_fn=<SigmoidBackward>)\n",
      "Handnet forward time: 0.00831747055053711\n",
      "Handsegnet forward time: 0.001088857650756836\n",
      "s shape torch.Size([1, 2, 224, 224])\n",
      "for loop time 0.0034291744232177734\n",
      "hand mask sum: 2329.0\n",
      "Calculate single highest scoring object time: 0.030397891998291016\n",
      "Crop and resize time: 0.0009486675262451172\n",
      "Posenet forward time: 0.001954317092895508\n",
      "Posepriornet forward time: 0.0007462501525878906\n",
      "Viewpoint forward time: 0.0009484291076660156\n",
      "Get normalized 3d coordinates time: 0.0006175041198730469\n",
      "Flip left handed input time: 0.00013518333435058594\n",
      "ScaLe heatmaps time 0.00010895729064941406\n",
      "Time for processing 1 frame: 0.045891761779785156s\n"
     ]
    },
    {
     "name": "stderr",
     "output_type": "stream",
     "text": [
      "\r",
      "438it [01:32,  4.27it/s]"
     ]
    },
    {
     "name": "stdout",
     "output_type": "stream",
     "text": [
      "tensor([[0.9998]], device='cuda:0', grad_fn=<SigmoidBackward>)\n",
      "Handnet forward time: 0.008432865142822266\n",
      "Handsegnet forward time: 0.0011775493621826172\n",
      "s shape torch.Size([1, 2, 224, 224])\n",
      "for loop time 0.003476381301879883\n",
      "hand mask sum: 2349.0\n",
      "Calculate single highest scoring object time: 0.030675649642944336\n",
      "Crop and resize time: 0.0010008811950683594\n",
      "Posenet forward time: 0.0019969940185546875\n",
      "Posepriornet forward time: 0.0007381439208984375\n",
      "Viewpoint forward time: 0.0009555816650390625\n",
      "Get normalized 3d coordinates time: 0.0006291866302490234\n",
      "Flip left handed input time: 0.00013566017150878906\n",
      "ScaLe heatmaps time 0.00010967254638671875\n",
      "Time for processing 1 frame: 0.04645037651062012s\n"
     ]
    },
    {
     "name": "stderr",
     "output_type": "stream",
     "text": [
      "\r",
      "439it [01:33,  4.26it/s]"
     ]
    },
    {
     "name": "stdout",
     "output_type": "stream",
     "text": [
      "tensor([[0.9998]], device='cuda:0', grad_fn=<SigmoidBackward>)\n",
      "Handnet forward time: 0.008136749267578125\n",
      "Handsegnet forward time: 0.0010426044464111328\n",
      "s shape torch.Size([1, 2, 224, 224])\n",
      "for loop time 0.0034024715423583984\n",
      "hand mask sum: 2352.0\n",
      "Calculate single highest scoring object time: 0.029747962951660156\n",
      "Crop and resize time: 0.0009429454803466797\n",
      "Posenet forward time: 0.0019631385803222656\n",
      "Posepriornet forward time: 0.0007452964782714844\n",
      "Viewpoint forward time: 0.0009474754333496094\n",
      "Get normalized 3d coordinates time: 0.0006134510040283203\n",
      "Flip left handed input time: 0.0001404285430908203\n",
      "ScaLe heatmaps time 8.535385131835938e-05\n",
      "Time for processing 1 frame: 0.04500269889831543s\n"
     ]
    },
    {
     "name": "stderr",
     "output_type": "stream",
     "text": [
      "\r",
      "440it [01:33,  4.27it/s]"
     ]
    },
    {
     "name": "stdout",
     "output_type": "stream",
     "text": [
      "tensor([[0.9998]], device='cuda:0', grad_fn=<SigmoidBackward>)\n",
      "Handnet forward time: 0.008146524429321289\n",
      "Handsegnet forward time: 0.0010991096496582031\n",
      "s shape torch.Size([1, 2, 224, 224])\n",
      "for loop time 0.0034945011138916016\n",
      "hand mask sum: 2345.0\n",
      "Calculate single highest scoring object time: 0.0299224853515625\n",
      "Crop and resize time: 0.0009772777557373047\n",
      "Posenet forward time: 0.0020329952239990234\n",
      "Posepriornet forward time: 0.0007338523864746094\n",
      "Viewpoint forward time: 0.0009567737579345703\n",
      "Get normalized 3d coordinates time: 0.0006124973297119141\n",
      "Flip left handed input time: 0.0001399517059326172\n",
      "ScaLe heatmaps time 0.00010967254638671875\n",
      "Time for processing 1 frame: 0.04530215263366699s\n"
     ]
    },
    {
     "name": "stderr",
     "output_type": "stream",
     "text": [
      "\r",
      "441it [01:33,  4.27it/s]"
     ]
    },
    {
     "name": "stdout",
     "output_type": "stream",
     "text": [
      "tensor([[0.9998]], device='cuda:0', grad_fn=<SigmoidBackward>)\n",
      "Handnet forward time: 0.008157968521118164\n",
      "Handsegnet forward time: 0.0010268688201904297\n",
      "s shape torch.Size([1, 2, 224, 224])\n",
      "for loop time 0.003457307815551758\n",
      "hand mask sum: 2329.0\n",
      "Calculate single highest scoring object time: 0.02983546257019043\n",
      "Crop and resize time: 0.00098419189453125\n",
      "Posenet forward time: 0.0019969940185546875\n",
      "Posepriornet forward time: 0.0007343292236328125\n",
      "Viewpoint forward time: 0.0009434223175048828\n",
      "Get normalized 3d coordinates time: 0.0006101131439208984\n",
      "Flip left handed input time: 0.00013756752014160156\n",
      "ScaLe heatmaps time 0.0001087188720703125\n",
      "Time for processing 1 frame: 0.04517483711242676s\n"
     ]
    },
    {
     "name": "stderr",
     "output_type": "stream",
     "text": [
      "\r",
      "442it [01:33,  4.28it/s]"
     ]
    },
    {
     "name": "stdout",
     "output_type": "stream",
     "text": [
      "tensor([[0.9997]], device='cuda:0', grad_fn=<SigmoidBackward>)\n",
      "Handnet forward time: 0.00810551643371582\n",
      "Handsegnet forward time: 0.0010380744934082031\n",
      "s shape torch.Size([1, 2, 224, 224])\n",
      "for loop time 0.003485441207885742\n",
      "hand mask sum: 2313.0\n",
      "Calculate single highest scoring object time: 0.02984309196472168\n",
      "Crop and resize time: 0.000978231430053711\n",
      "Posenet forward time: 0.0019981861114501953\n",
      "Posepriornet forward time: 0.0007100105285644531\n",
      "Viewpoint forward time: 0.0009334087371826172\n",
      "Get normalized 3d coordinates time: 0.0006139278411865234\n",
      "Flip left handed input time: 6.008148193359375e-05\n",
      "ScaLe heatmaps time 3.314018249511719e-05\n",
      "Time for processing 1 frame: 0.04495501518249512s\n"
     ]
    },
    {
     "name": "stderr",
     "output_type": "stream",
     "text": [
      "\r",
      "443it [01:34,  4.28it/s]"
     ]
    },
    {
     "name": "stdout",
     "output_type": "stream",
     "text": [
      "tensor([[0.9997]], device='cuda:0', grad_fn=<SigmoidBackward>)\n",
      "Handnet forward time: 0.008125543594360352\n",
      "Handsegnet forward time: 0.0010209083557128906\n",
      "s shape torch.Size([1, 2, 224, 224])\n",
      "for loop time 0.0034406185150146484\n",
      "hand mask sum: 2310.0\n",
      "Calculate single highest scoring object time: 0.029927492141723633\n",
      "Crop and resize time: 0.0009377002716064453\n",
      "Posenet forward time: 0.0019922256469726562\n",
      "Posepriornet forward time: 0.0007336139678955078\n",
      "Viewpoint forward time: 0.0009546279907226562\n",
      "Get normalized 3d coordinates time: 0.0006108283996582031\n",
      "Flip left handed input time: 5.817413330078125e-05\n",
      "ScaLe heatmaps time 3.2901763916015625e-05\n",
      "Time for processing 1 frame: 0.04502701759338379s\n"
     ]
    },
    {
     "name": "stderr",
     "output_type": "stream",
     "text": [
      "\r",
      "444it [01:34,  4.28it/s]"
     ]
    },
    {
     "name": "stdout",
     "output_type": "stream",
     "text": [
      "tensor([[0.9998]], device='cuda:0', grad_fn=<SigmoidBackward>)\n",
      "Handnet forward time: 0.008126974105834961\n",
      "Handsegnet forward time: 0.001010894775390625\n",
      "s shape torch.Size([1, 2, 224, 224])\n",
      "for loop time 0.003470897674560547\n",
      "hand mask sum: 2310.0\n",
      "Calculate single highest scoring object time: 0.029849767684936523\n",
      "Crop and resize time: 0.0009505748748779297\n",
      "Posenet forward time: 0.0019915103912353516\n",
      "Posepriornet forward time: 0.0007250308990478516\n",
      "Viewpoint forward time: 0.0009291172027587891\n",
      "Get normalized 3d coordinates time: 0.0005905628204345703\n",
      "Flip left handed input time: 0.0001342296600341797\n",
      "ScaLe heatmaps time 0.00010585784912109375\n",
      "Time for processing 1 frame: 0.04512166976928711s\n"
     ]
    },
    {
     "name": "stderr",
     "output_type": "stream",
     "text": [
      "\r",
      "445it [01:34,  4.28it/s]"
     ]
    },
    {
     "name": "stdout",
     "output_type": "stream",
     "text": [
      "tensor([[0.9997]], device='cuda:0', grad_fn=<SigmoidBackward>)\n",
      "Handnet forward time: 0.008402824401855469\n",
      "Handsegnet forward time: 0.001003265380859375\n",
      "s shape torch.Size([1, 2, 224, 224])\n",
      "for loop time 0.003950834274291992\n",
      "hand mask sum: 2302.0\n",
      "Calculate single highest scoring object time: 0.030801057815551758\n",
      "Crop and resize time: 0.0009698867797851562\n",
      "Posenet forward time: 0.0020067691802978516\n",
      "Posepriornet forward time: 0.0007512569427490234\n",
      "Viewpoint forward time: 0.0009438991546630859\n",
      "Get normalized 3d coordinates time: 0.0006129741668701172\n",
      "Flip left handed input time: 5.6743621826171875e-05\n",
      "ScaLe heatmaps time 3.409385681152344e-05\n",
      "Time for processing 1 frame: 0.046210289001464844s\n"
     ]
    },
    {
     "name": "stderr",
     "output_type": "stream",
     "text": [
      "\r",
      "446it [01:34,  4.27it/s]"
     ]
    },
    {
     "name": "stdout",
     "output_type": "stream",
     "text": [
      "tensor([[0.9995]], device='cuda:0', grad_fn=<SigmoidBackward>)\n",
      "Handnet forward time: 0.010155439376831055\n",
      "Handsegnet forward time: 0.0010256767272949219\n",
      "s shape torch.Size([1, 2, 224, 224])\n",
      "for loop time 0.0033195018768310547\n",
      "hand mask sum: 2323.0\n",
      "Calculate single highest scoring object time: 0.03250408172607422\n",
      "Crop and resize time: 0.0009722709655761719\n",
      "Posenet forward time: 0.0019965171813964844\n",
      "Posepriornet forward time: 0.0007379055023193359\n",
      "Viewpoint forward time: 0.0009407997131347656\n",
      "Get normalized 3d coordinates time: 0.0006101131439208984\n",
      "Flip left handed input time: 0.00014543533325195312\n",
      "ScaLe heatmaps time 0.00010800361633300781\n",
      "Time for processing 1 frame: 0.0498354434967041s\n"
     ]
    },
    {
     "name": "stderr",
     "output_type": "stream",
     "text": [
      "\r",
      "447it [01:35,  4.24it/s]"
     ]
    },
    {
     "name": "stdout",
     "output_type": "stream",
     "text": [
      "tensor([[0.9993]], device='cuda:0', grad_fn=<SigmoidBackward>)\n",
      "Handnet forward time: 0.007864236831665039\n",
      "Handsegnet forward time: 0.0010373592376708984\n",
      "s shape torch.Size([1, 2, 224, 224])\n",
      "for loop time 0.0032045841217041016\n",
      "hand mask sum: 2324.0\n",
      "Calculate single highest scoring object time: 0.0306551456451416\n",
      "Crop and resize time: 0.0009739398956298828\n",
      "Posenet forward time: 0.0019881725311279297\n",
      "Posepriornet forward time: 0.0007333755493164062\n",
      "Viewpoint forward time: 0.0010311603546142578\n",
      "Get normalized 3d coordinates time: 0.0006139278411865234\n",
      "Flip left handed input time: 5.698204040527344e-05\n",
      "ScaLe heatmaps time 3.1948089599609375e-05\n",
      "Time for processing 1 frame: 0.045632123947143555s\n"
     ]
    },
    {
     "name": "stderr",
     "output_type": "stream",
     "text": [
      "\r",
      "448it [01:35,  4.24it/s]"
     ]
    },
    {
     "name": "stdout",
     "output_type": "stream",
     "text": [
      "tensor([[0.9986]], device='cuda:0', grad_fn=<SigmoidBackward>)\n",
      "Handnet forward time: 0.007834434509277344\n",
      "Handsegnet forward time: 0.0010120868682861328\n",
      "s shape torch.Size([1, 2, 224, 224])\n",
      "for loop time 0.0031244754791259766\n",
      "hand mask sum: 2347.0\n",
      "Calculate single highest scoring object time: 0.030875682830810547\n",
      "Crop and resize time: 0.0009560585021972656\n",
      "Posenet forward time: 0.002000093460083008\n",
      "Posepriornet forward time: 0.0008032321929931641\n",
      "Viewpoint forward time: 0.0009505748748779297\n",
      "Get normalized 3d coordinates time: 0.0006244182586669922\n",
      "Flip left handed input time: 0.00013756752014160156\n",
      "ScaLe heatmaps time 7.867813110351562e-05\n",
      "Time for processing 1 frame: 0.04593920707702637s\n"
     ]
    },
    {
     "name": "stderr",
     "output_type": "stream",
     "text": [
      "\r",
      "449it [01:35,  4.25it/s]"
     ]
    },
    {
     "name": "stdout",
     "output_type": "stream",
     "text": [
      "tensor([[0.9979]], device='cuda:0', grad_fn=<SigmoidBackward>)\n",
      "Handnet forward time: 0.0076787471771240234\n",
      "Handsegnet forward time: 0.0010073184967041016\n",
      "s shape torch.Size([1, 2, 224, 224])\n",
      "for loop time 0.0031685829162597656\n",
      "hand mask sum: 2401.0\n",
      "Calculate single highest scoring object time: 0.031432151794433594\n",
      "Crop and resize time: 0.001031637191772461\n",
      "Posenet forward time: 0.0020034313201904297\n",
      "Posepriornet forward time: 0.0007381439208984375\n",
      "Viewpoint forward time: 0.0009462833404541016\n",
      "Get normalized 3d coordinates time: 0.0006120204925537109\n",
      "Flip left handed input time: 0.00013780593872070312\n",
      "ScaLe heatmaps time 9.489059448242188e-05\n",
      "Time for processing 1 frame: 0.04630112648010254s\n"
     ]
    },
    {
     "name": "stderr",
     "output_type": "stream",
     "text": [
      "\r",
      "450it [01:35,  4.25it/s]"
     ]
    },
    {
     "name": "stdout",
     "output_type": "stream",
     "text": [
      "tensor([[0.9987]], device='cuda:0', grad_fn=<SigmoidBackward>)\n",
      "Handnet forward time: 0.008469104766845703\n",
      "Handsegnet forward time: 0.0010459423065185547\n",
      "s shape torch.Size([1, 2, 224, 224])\n",
      "for loop time 0.0032172203063964844\n",
      "hand mask sum: 2469.0\n",
      "Calculate single highest scoring object time: 0.0301513671875\n",
      "Crop and resize time: 0.0009999275207519531\n",
      "Posenet forward time: 0.002048969268798828\n",
      "Posepriornet forward time: 0.0007984638214111328\n",
      "Viewpoint forward time: 0.0009703636169433594\n",
      "Get normalized 3d coordinates time: 0.0006525516510009766\n",
      "Flip left handed input time: 0.0001366138458251953\n",
      "ScaLe heatmaps time 0.00010895729064941406\n",
      "Time for processing 1 frame: 0.04605579376220703s\n"
     ]
    },
    {
     "name": "stderr",
     "output_type": "stream",
     "text": [
      "\r",
      "451it [01:35,  4.23it/s]"
     ]
    },
    {
     "name": "stdout",
     "output_type": "stream",
     "text": [
      "tensor([[0.9995]], device='cuda:0', grad_fn=<SigmoidBackward>)\n",
      "Handnet forward time: 0.007729530334472656\n",
      "Handsegnet forward time: 0.0013742446899414062\n",
      "s shape torch.Size([1, 2, 224, 224])\n",
      "for loop time 0.003149271011352539\n",
      "hand mask sum: 2544.0\n",
      "Calculate single highest scoring object time: 0.030188798904418945\n",
      "Crop and resize time: 0.0010001659393310547\n",
      "Posenet forward time: 0.002042055130004883\n",
      "Posepriornet forward time: 0.0007517337799072266\n",
      "Viewpoint forward time: 0.000982522964477539\n",
      "Get normalized 3d coordinates time: 0.0006244182586669922\n",
      "Flip left handed input time: 0.0001373291015625\n",
      "ScaLe heatmaps time 0.0001087188720703125\n",
      "Time for processing 1 frame: 0.045504093170166016s\n"
     ]
    },
    {
     "name": "stderr",
     "output_type": "stream",
     "text": [
      "\r",
      "452it [01:36,  4.22it/s]"
     ]
    },
    {
     "name": "stdout",
     "output_type": "stream",
     "text": [
      "tensor([[0.9997]], device='cuda:0', grad_fn=<SigmoidBackward>)\n",
      "Handnet forward time: 0.007695913314819336\n",
      "Handsegnet forward time: 0.0012133121490478516\n",
      "s shape torch.Size([1, 2, 224, 224])\n",
      "for loop time 0.0031447410583496094\n",
      "hand mask sum: 2566.0\n",
      "Calculate single highest scoring object time: 0.03086066246032715\n",
      "Crop and resize time: 0.0009891986846923828\n",
      "Posenet forward time: 0.0020983219146728516\n",
      "Posepriornet forward time: 0.0007565021514892578\n",
      "Viewpoint forward time: 0.0009641647338867188\n",
      "Get normalized 3d coordinates time: 0.0006241798400878906\n",
      "Flip left handed input time: 0.0001361370086669922\n",
      "ScaLe heatmaps time 0.00011014938354492188\n",
      "Time for processing 1 frame: 0.04610395431518555s\n"
     ]
    },
    {
     "name": "stderr",
     "output_type": "stream",
     "text": [
      "\r",
      "453it [01:36,  4.22it/s]"
     ]
    },
    {
     "name": "stdout",
     "output_type": "stream",
     "text": [
      "tensor([[0.9998]], device='cuda:0', grad_fn=<SigmoidBackward>)\n",
      "Handnet forward time: 0.008003711700439453\n",
      "Handsegnet forward time: 0.001538991928100586\n",
      "s shape torch.Size([1, 2, 224, 224])\n",
      "for loop time 0.0031528472900390625\n",
      "hand mask sum: 2633.0\n",
      "Calculate single highest scoring object time: 0.02962470054626465\n",
      "Crop and resize time: 0.0009832382202148438\n",
      "Posenet forward time: 0.002059459686279297\n",
      "Posepriornet forward time: 0.0007572174072265625\n",
      "Viewpoint forward time: 0.0009720325469970703\n",
      "Get normalized 3d coordinates time: 0.000629425048828125\n",
      "Flip left handed input time: 0.00012683868408203125\n",
      "ScaLe heatmaps time 3.2901763916015625e-05\n",
      "Time for processing 1 frame: 0.045223236083984375s\n"
     ]
    },
    {
     "name": "stderr",
     "output_type": "stream",
     "text": [
      "\r",
      "454it [01:36,  4.22it/s]"
     ]
    },
    {
     "name": "stdout",
     "output_type": "stream",
     "text": [
      "tensor([[0.9999]], device='cuda:0', grad_fn=<SigmoidBackward>)\n",
      "Handnet forward time: 0.008431434631347656\n",
      "Handsegnet forward time: 0.001379251480102539\n",
      "s shape torch.Size([1, 2, 224, 224])\n",
      "for loop time 0.0033495426177978516\n",
      "hand mask sum: 2566.0\n",
      "Calculate single highest scoring object time: 0.0305633544921875\n",
      "Crop and resize time: 0.0009713172912597656\n",
      "Posenet forward time: 0.001993417739868164\n",
      "Posepriornet forward time: 0.0007314682006835938\n",
      "Viewpoint forward time: 0.0010080337524414062\n",
      "Get normalized 3d coordinates time: 0.0006043910980224609\n",
      "Flip left handed input time: 5.7220458984375e-05\n",
      "ScaLe heatmaps time 3.409385681152344e-05\n",
      "Time for processing 1 frame: 0.04665708541870117s\n"
     ]
    },
    {
     "name": "stderr",
     "output_type": "stream",
     "text": [
      "\r",
      "455it [01:36,  4.21it/s]"
     ]
    },
    {
     "name": "stdout",
     "output_type": "stream",
     "text": [
      "tensor([[0.9999]], device='cuda:0', grad_fn=<SigmoidBackward>)\n",
      "Handnet forward time: 0.00834798812866211\n",
      "Handsegnet forward time: 0.001119375228881836\n",
      "s shape torch.Size([1, 2, 224, 224])\n",
      "for loop time 0.0031464099884033203\n",
      "hand mask sum: 2575.0\n",
      "Calculate single highest scoring object time: 0.030940532684326172\n",
      "Crop and resize time: 0.0009894371032714844\n",
      "Posenet forward time: 0.002040386199951172\n",
      "Posepriornet forward time: 0.0007488727569580078\n",
      "Viewpoint forward time: 0.0009822845458984375\n",
      "Get normalized 3d coordinates time: 0.0006229877471923828\n",
      "Flip left handed input time: 0.00015163421630859375\n",
      "ScaLe heatmaps time 0.00011372566223144531\n",
      "Time for processing 1 frame: 0.046792030334472656s\n"
     ]
    },
    {
     "name": "stderr",
     "output_type": "stream",
     "text": [
      "\r",
      "456it [01:37,  4.15it/s]"
     ]
    },
    {
     "name": "stdout",
     "output_type": "stream",
     "text": [
      "tensor([[0.9999]], device='cuda:0', grad_fn=<SigmoidBackward>)\n",
      "Handnet forward time: 0.007660388946533203\n",
      "Handsegnet forward time: 0.0009171962738037109\n",
      "s shape torch.Size([1, 2, 224, 224])\n",
      "for loop time 0.0037839412689208984\n",
      "hand mask sum: 2565.0\n",
      "Calculate single highest scoring object time: 0.03034663200378418\n",
      "Crop and resize time: 0.0009958744049072266\n",
      "Posenet forward time: 0.0020453929901123047\n",
      "Posepriornet forward time: 0.0007531642913818359\n",
      "Viewpoint forward time: 0.0009739398956298828\n",
      "Get normalized 3d coordinates time: 0.0006198883056640625\n",
      "Flip left handed input time: 0.00013947486877441406\n",
      "ScaLe heatmaps time 0.00010752677917480469\n",
      "Time for processing 1 frame: 0.04515886306762695s\n"
     ]
    },
    {
     "name": "stderr",
     "output_type": "stream",
     "text": [
      "\r",
      "457it [01:37,  4.17it/s]"
     ]
    },
    {
     "name": "stdout",
     "output_type": "stream",
     "text": [
      "tensor([[0.9999]], device='cuda:0', grad_fn=<SigmoidBackward>)\n",
      "Handnet forward time: 0.0078125\n",
      "Handsegnet forward time: 0.001291513442993164\n",
      "s shape torch.Size([1, 2, 224, 224])\n",
      "for loop time 0.00313568115234375\n",
      "hand mask sum: 2560.0\n",
      "Calculate single highest scoring object time: 0.03072953224182129\n",
      "Crop and resize time: 0.0010225772857666016\n",
      "Posenet forward time: 0.002014636993408203\n",
      "Posepriornet forward time: 0.0007455348968505859\n",
      "Viewpoint forward time: 0.0009362697601318359\n",
      "Get normalized 3d coordinates time: 0.0006203651428222656\n",
      "Flip left handed input time: 0.00015735626220703125\n",
      "ScaLe heatmaps time 0.00010800361633300781\n",
      "Time for processing 1 frame: 0.04613780975341797s\n"
     ]
    },
    {
     "name": "stderr",
     "output_type": "stream",
     "text": [
      "\r",
      "458it [01:37,  4.19it/s]"
     ]
    },
    {
     "name": "stdout",
     "output_type": "stream",
     "text": [
      "tensor([[0.9999]], device='cuda:0', grad_fn=<SigmoidBackward>)\n",
      "Handnet forward time: 0.007863283157348633\n",
      "Handsegnet forward time: 0.0010576248168945312\n",
      "s shape torch.Size([1, 2, 224, 224])\n",
      "for loop time 0.003113269805908203\n",
      "hand mask sum: 2525.0\n",
      "Calculate single highest scoring object time: 0.030010461807250977\n",
      "Crop and resize time: 0.0009810924530029297\n",
      "Posenet forward time: 0.0019969940185546875\n",
      "Posepriornet forward time: 0.0007433891296386719\n",
      "Viewpoint forward time: 0.0009562969207763672\n",
      "Get normalized 3d coordinates time: 0.0006124973297119141\n",
      "Flip left handed input time: 0.00013637542724609375\n",
      "ScaLe heatmaps time 0.00010323524475097656\n",
      "Time for processing 1 frame: 0.04512643814086914s\n"
     ]
    },
    {
     "name": "stderr",
     "output_type": "stream",
     "text": [
      "\r",
      "459it [01:37,  4.22it/s]"
     ]
    },
    {
     "name": "stdout",
     "output_type": "stream",
     "text": [
      "tensor([[0.9999]], device='cuda:0', grad_fn=<SigmoidBackward>)\n",
      "Handnet forward time: 0.007836341857910156\n",
      "Handsegnet forward time: 0.001031637191772461\n",
      "s shape torch.Size([1, 2, 224, 224])\n",
      "for loop time 0.0031027793884277344\n",
      "hand mask sum: 2519.0\n",
      "Calculate single highest scoring object time: 0.030536174774169922\n",
      "Crop and resize time: 0.0009567737579345703\n",
      "Posenet forward time: 0.0022077560424804688\n",
      "Posepriornet forward time: 0.0007574558258056641\n",
      "Viewpoint forward time: 0.0009636878967285156\n",
      "Get normalized 3d coordinates time: 0.0006227493286132812\n",
      "Flip left handed input time: 0.0001399517059326172\n",
      "ScaLe heatmaps time 0.0001087188720703125\n",
      "Time for processing 1 frame: 0.04581928253173828s\n"
     ]
    },
    {
     "name": "stderr",
     "output_type": "stream",
     "text": [
      "\r",
      "460it [01:38,  4.25it/s]"
     ]
    },
    {
     "name": "stdout",
     "output_type": "stream",
     "text": [
      "tensor([[0.9999]], device='cuda:0', grad_fn=<SigmoidBackward>)\n",
      "Handnet forward time: 0.007877826690673828\n",
      "Handsegnet forward time: 0.001262664794921875\n",
      "s shape torch.Size([1, 2, 224, 224])\n",
      "for loop time 0.0030870437622070312\n",
      "hand mask sum: 2514.0\n",
      "Calculate single highest scoring object time: 0.03019571304321289\n",
      "Crop and resize time: 0.0009667873382568359\n",
      "Posenet forward time: 0.0019092559814453125\n",
      "Posepriornet forward time: 0.0007066726684570312\n",
      "Viewpoint forward time: 0.0009589195251464844\n",
      "Get normalized 3d coordinates time: 0.0006115436553955078\n",
      "Flip left handed input time: 0.0001316070556640625\n",
      "ScaLe heatmaps time 0.00010132789611816406\n",
      "Time for processing 1 frame: 0.04516410827636719s\n"
     ]
    },
    {
     "name": "stderr",
     "output_type": "stream",
     "text": [
      "\r",
      "461it [01:38,  4.26it/s]"
     ]
    },
    {
     "name": "stdout",
     "output_type": "stream",
     "text": [
      "tensor([[0.9999]], device='cuda:0', grad_fn=<SigmoidBackward>)\n",
      "Handnet forward time: 0.007859468460083008\n",
      "Handsegnet forward time: 0.001186370849609375\n",
      "s shape torch.Size([1, 2, 224, 224])\n",
      "for loop time 0.003133058547973633\n",
      "hand mask sum: 2507.0\n",
      "Calculate single highest scoring object time: 0.02996373176574707\n",
      "Crop and resize time: 0.0009233951568603516\n",
      "Posenet forward time: 0.0019867420196533203\n",
      "Posepriornet forward time: 0.0007343292236328125\n",
      "Viewpoint forward time: 0.0009493827819824219\n",
      "Get normalized 3d coordinates time: 0.0006089210510253906\n",
      "Flip left handed input time: 0.00013518333435058594\n",
      "ScaLe heatmaps time 0.00010824203491210938\n",
      "Time for processing 1 frame: 0.04492831230163574s\n"
     ]
    },
    {
     "name": "stderr",
     "output_type": "stream",
     "text": [
      "\r",
      "462it [01:38,  4.27it/s]"
     ]
    },
    {
     "name": "stdout",
     "output_type": "stream",
     "text": [
      "tensor([[0.9997]], device='cuda:0', grad_fn=<SigmoidBackward>)\n",
      "Handnet forward time: 0.007827281951904297\n",
      "Handsegnet forward time: 0.0010266304016113281\n",
      "s shape torch.Size([1, 2, 224, 224])\n",
      "for loop time 0.0031137466430664062\n",
      "hand mask sum: 2532.0\n",
      "Calculate single highest scoring object time: 0.030740022659301758\n",
      "Crop and resize time: 0.0009541511535644531\n",
      "Posenet forward time: 0.0019826889038085938\n",
      "Posepriornet forward time: 0.0007874965667724609\n",
      "Viewpoint forward time: 0.001104116439819336\n",
      "Get normalized 3d coordinates time: 0.0006244182586669922\n",
      "Flip left handed input time: 0.00013756752014160156\n",
      "ScaLe heatmaps time 0.00010347366333007812\n",
      "Time for processing 1 frame: 0.045934438705444336s\n"
     ]
    },
    {
     "name": "stderr",
     "output_type": "stream",
     "text": [
      "\r",
      "463it [01:38,  4.27it/s]"
     ]
    },
    {
     "name": "stdout",
     "output_type": "stream",
     "text": [
      "tensor([[0.9993]], device='cuda:0', grad_fn=<SigmoidBackward>)\n",
      "Handnet forward time: 0.007815361022949219\n",
      "Handsegnet forward time: 0.0010259151458740234\n",
      "s shape torch.Size([1, 2, 224, 224])\n",
      "for loop time 0.0031251907348632812\n",
      "hand mask sum: 2497.0\n",
      "Calculate single highest scoring object time: 0.03001093864440918\n",
      "Crop and resize time: 0.00099945068359375\n",
      "Posenet forward time: 0.001981973648071289\n",
      "Posepriornet forward time: 0.0007538795471191406\n",
      "Viewpoint forward time: 0.0009806156158447266\n",
      "Get normalized 3d coordinates time: 0.0006020069122314453\n",
      "Flip left handed input time: 0.0001347064971923828\n",
      "ScaLe heatmaps time 0.00010728836059570312\n",
      "Time for processing 1 frame: 0.045060157775878906s\n"
     ]
    },
    {
     "name": "stderr",
     "output_type": "stream",
     "text": [
      "\r",
      "464it [01:39,  4.27it/s]"
     ]
    },
    {
     "name": "stdout",
     "output_type": "stream",
     "text": [
      "tensor([[0.9981]], device='cuda:0', grad_fn=<SigmoidBackward>)\n",
      "Handnet forward time: 0.00782918930053711\n",
      "Handsegnet forward time: 0.001009225845336914\n",
      "s shape torch.Size([1, 2, 224, 224])\n",
      "for loop time 0.0031385421752929688\n",
      "hand mask sum: 2481.0\n",
      "Calculate single highest scoring object time: 0.03078770637512207\n",
      "Crop and resize time: 0.0009655952453613281\n",
      "Posenet forward time: 0.0020165443420410156\n",
      "Posepriornet forward time: 0.000743865966796875\n",
      "Viewpoint forward time: 0.0009527206420898438\n",
      "Get normalized 3d coordinates time: 0.0006215572357177734\n",
      "Flip left handed input time: 0.0001373291015625\n",
      "ScaLe heatmaps time 0.0001087188720703125\n",
      "Time for processing 1 frame: 0.045835018157958984s\n"
     ]
    },
    {
     "name": "stderr",
     "output_type": "stream",
     "text": [
      "\r",
      "465it [01:39,  4.28it/s]"
     ]
    },
    {
     "name": "stdout",
     "output_type": "stream",
     "text": [
      "tensor([[0.9942]], device='cuda:0', grad_fn=<SigmoidBackward>)\n",
      "Handnet forward time: 0.007845163345336914\n",
      "Handsegnet forward time: 0.0010306835174560547\n",
      "s shape torch.Size([1, 2, 224, 224])\n",
      "for loop time 0.0031037330627441406\n",
      "hand mask sum: 2468.0\n",
      "Calculate single highest scoring object time: 0.030783653259277344\n",
      "Crop and resize time: 0.0009474754333496094\n",
      "Posenet forward time: 0.0019812583923339844\n",
      "Posepriornet forward time: 0.0007319450378417969\n",
      "Viewpoint forward time: 0.0011246204376220703\n",
      "Get normalized 3d coordinates time: 0.0006222724914550781\n",
      "Flip left handed input time: 0.00013780593872070312\n",
      "ScaLe heatmaps time 0.00010967254638671875\n",
      "Time for processing 1 frame: 0.045949459075927734s\n"
     ]
    },
    {
     "name": "stderr",
     "output_type": "stream",
     "text": [
      "\r",
      "466it [01:39,  4.30it/s]"
     ]
    },
    {
     "name": "stdout",
     "output_type": "stream",
     "text": [
      "tensor([[0.9884]], device='cuda:0', grad_fn=<SigmoidBackward>)\n",
      "Handnet forward time: 0.008246898651123047\n",
      "Handsegnet forward time: 0.0011456012725830078\n",
      "s shape torch.Size([1, 2, 224, 224])\n",
      "for loop time 0.0030961036682128906\n",
      "hand mask sum: 2442.0\n",
      "Calculate single highest scoring object time: 0.03029179573059082\n",
      "Crop and resize time: 0.0009300708770751953\n",
      "Posenet forward time: 0.0019676685333251953\n",
      "Posepriornet forward time: 0.0007028579711914062\n",
      "Viewpoint forward time: 0.0009005069732666016\n",
      "Get normalized 3d coordinates time: 0.000583648681640625\n",
      "Flip left handed input time: 0.0001316070556640625\n",
      "ScaLe heatmaps time 0.00010585784912109375\n",
      "Time for processing 1 frame: 0.04546070098876953s\n"
     ]
    },
    {
     "name": "stderr",
     "output_type": "stream",
     "text": [
      "\r",
      "467it [01:39,  4.29it/s]"
     ]
    },
    {
     "name": "stdout",
     "output_type": "stream",
     "text": [
      "tensor([[0.9877]], device='cuda:0', grad_fn=<SigmoidBackward>)\n",
      "Handnet forward time: 0.007895946502685547\n",
      "Handsegnet forward time: 0.0012505054473876953\n",
      "s shape torch.Size([1, 2, 224, 224])\n",
      "for loop time 0.003070831298828125\n",
      "hand mask sum: 2447.0\n",
      "Calculate single highest scoring object time: 0.030890226364135742\n",
      "Crop and resize time: 0.0009353160858154297\n",
      "Posenet forward time: 0.0019805431365966797\n",
      "Posepriornet forward time: 0.0007455348968505859\n",
      "Viewpoint forward time: 0.0009481906890869141\n",
      "Get normalized 3d coordinates time: 0.0006122589111328125\n",
      "Flip left handed input time: 0.00013685226440429688\n",
      "ScaLe heatmaps time 0.00011014938354492188\n",
      "Time for processing 1 frame: 0.04620051383972168s\n"
     ]
    },
    {
     "name": "stderr",
     "output_type": "stream",
     "text": [
      "\r",
      "468it [01:39,  4.27it/s]"
     ]
    },
    {
     "name": "stdout",
     "output_type": "stream",
     "text": [
      "tensor([[0.9784]], device='cuda:0', grad_fn=<SigmoidBackward>)\n",
      "Handnet forward time: 0.007830381393432617\n",
      "Handsegnet forward time: 0.0010480880737304688\n",
      "s shape torch.Size([1, 2, 224, 224])\n",
      "for loop time 0.0031485557556152344\n",
      "hand mask sum: 2456.0\n",
      "Calculate single highest scoring object time: 0.03071880340576172\n",
      "Crop and resize time: 0.0009744167327880859\n",
      "Posenet forward time: 0.002235889434814453\n",
      "Posepriornet forward time: 0.0007636547088623047\n",
      "Viewpoint forward time: 0.0009617805480957031\n",
      "Get normalized 3d coordinates time: 0.0007226467132568359\n",
      "Flip left handed input time: 0.00013971328735351562\n",
      "ScaLe heatmaps time 0.00011038780212402344\n",
      "Time for processing 1 frame: 0.0461726188659668s\n"
     ]
    },
    {
     "name": "stderr",
     "output_type": "stream",
     "text": [
      "\r",
      "469it [01:40,  4.27it/s]"
     ]
    },
    {
     "name": "stdout",
     "output_type": "stream",
     "text": [
      "tensor([[0.9844]], device='cuda:0', grad_fn=<SigmoidBackward>)\n",
      "Handnet forward time: 0.007875442504882812\n",
      "Handsegnet forward time: 0.0015823841094970703\n",
      "s shape torch.Size([1, 2, 224, 224])\n",
      "for loop time 0.0031058788299560547\n",
      "hand mask sum: 2458.0\n",
      "Calculate single highest scoring object time: 0.030153512954711914\n",
      "Crop and resize time: 0.0009260177612304688\n",
      "Posenet forward time: 0.002024412155151367\n",
      "Posepriornet forward time: 0.0007116794586181641\n",
      "Viewpoint forward time: 0.0009176731109619141\n",
      "Get normalized 3d coordinates time: 0.0005884170532226562\n",
      "Flip left handed input time: 5.53131103515625e-05\n",
      "ScaLe heatmaps time 3.266334533691406e-05\n",
      "Time for processing 1 frame: 0.045307159423828125s\n"
     ]
    },
    {
     "name": "stderr",
     "output_type": "stream",
     "text": [
      "\r",
      "470it [01:40,  4.28it/s]"
     ]
    },
    {
     "name": "stdout",
     "output_type": "stream",
     "text": [
      "tensor([[0.9851]], device='cuda:0', grad_fn=<SigmoidBackward>)\n",
      "Handnet forward time: 0.007877826690673828\n",
      "Handsegnet forward time: 0.001279592514038086\n",
      "s shape torch.Size([1, 2, 224, 224])\n",
      "for loop time 0.003036022186279297\n",
      "hand mask sum: 2456.0\n",
      "Calculate single highest scoring object time: 0.031002283096313477\n",
      "Crop and resize time: 0.0009725093841552734\n",
      "Posenet forward time: 0.0020122528076171875\n",
      "Posepriornet forward time: 0.0007426738739013672\n",
      "Viewpoint forward time: 0.0009508132934570312\n",
      "Get normalized 3d coordinates time: 0.0006167888641357422\n",
      "Flip left handed input time: 0.00013566017150878906\n",
      "ScaLe heatmaps time 0.00010991096496582031\n",
      "Time for processing 1 frame: 0.046158790588378906s\n"
     ]
    },
    {
     "name": "stderr",
     "output_type": "stream",
     "text": [
      "\r",
      "471it [01:40,  4.29it/s]"
     ]
    },
    {
     "name": "stdout",
     "output_type": "stream",
     "text": [
      "tensor([[0.9832]], device='cuda:0', grad_fn=<SigmoidBackward>)\n",
      "Handnet forward time: 0.007803440093994141\n",
      "Handsegnet forward time: 0.0010371208190917969\n",
      "s shape torch.Size([1, 2, 224, 224])\n",
      "for loop time 0.00310516357421875\n",
      "hand mask sum: 2456.0\n",
      "Calculate single highest scoring object time: 0.030609607696533203\n",
      "Crop and resize time: 0.0009553432464599609\n",
      "Posenet forward time: 0.0019943714141845703\n",
      "Posepriornet forward time: 0.0007441043853759766\n",
      "Viewpoint forward time: 0.0011909008026123047\n",
      "Get normalized 3d coordinates time: 0.0006253719329833984\n",
      "Flip left handed input time: 5.888938903808594e-05\n",
      "ScaLe heatmaps time 3.24249267578125e-05\n",
      "Time for processing 1 frame: 0.04570317268371582s\n"
     ]
    },
    {
     "name": "stderr",
     "output_type": "stream",
     "text": [
      "\r",
      "472it [01:40,  4.29it/s]"
     ]
    },
    {
     "name": "stdout",
     "output_type": "stream",
     "text": [
      "tensor([[0.9818]], device='cuda:0', grad_fn=<SigmoidBackward>)\n",
      "Handnet forward time: 0.0077440738677978516\n",
      "Handsegnet forward time: 0.0010497570037841797\n",
      "s shape torch.Size([1, 2, 224, 224])\n",
      "for loop time 0.0031228065490722656\n",
      "hand mask sum: 2471.0\n",
      "Calculate single highest scoring object time: 0.030613422393798828\n",
      "Crop and resize time: 0.0009748935699462891\n",
      "Posenet forward time: 0.002002716064453125\n",
      "Posepriornet forward time: 0.0007386207580566406\n",
      "Viewpoint forward time: 0.0009524822235107422\n",
      "Get normalized 3d coordinates time: 0.0006132125854492188\n",
      "Flip left handed input time: 0.00013899803161621094\n",
      "ScaLe heatmaps time 0.00011134147644042969\n",
      "Time for processing 1 frame: 0.04558992385864258s\n"
     ]
    },
    {
     "name": "stderr",
     "output_type": "stream",
     "text": [
      "\r",
      "473it [01:41,  4.30it/s]"
     ]
    },
    {
     "name": "stdout",
     "output_type": "stream",
     "text": [
      "tensor([[0.9829]], device='cuda:0', grad_fn=<SigmoidBackward>)\n",
      "Handnet forward time: 0.007811307907104492\n",
      "Handsegnet forward time: 0.0011990070343017578\n",
      "s shape torch.Size([1, 2, 224, 224])\n",
      "for loop time 0.003063201904296875\n",
      "hand mask sum: 2471.0\n",
      "Calculate single highest scoring object time: 0.030318260192871094\n",
      "Crop and resize time: 0.0009813308715820312\n",
      "Posenet forward time: 0.001935720443725586\n",
      "Posepriornet forward time: 0.0007357597351074219\n",
      "Viewpoint forward time: 0.001001119613647461\n",
      "Get normalized 3d coordinates time: 0.0006144046783447266\n",
      "Flip left handed input time: 0.0001392364501953125\n",
      "ScaLe heatmaps time 0.00011014938354492188\n",
      "Time for processing 1 frame: 0.04541373252868652s\n"
     ]
    },
    {
     "name": "stderr",
     "output_type": "stream",
     "text": [
      "\r",
      "474it [01:41,  4.30it/s]"
     ]
    },
    {
     "name": "stdout",
     "output_type": "stream",
     "text": [
      "tensor([[0.9859]], device='cuda:0', grad_fn=<SigmoidBackward>)\n",
      "Handnet forward time: 0.009192466735839844\n",
      "Handsegnet forward time: 0.0010042190551757812\n",
      "s shape torch.Size([1, 2, 224, 224])\n",
      "for loop time 0.003108501434326172\n",
      "hand mask sum: 2431.0\n",
      "Calculate single highest scoring object time: 0.03049755096435547\n",
      "Crop and resize time: 0.0009653568267822266\n",
      "Posenet forward time: 0.0019903182983398438\n",
      "Posepriornet forward time: 0.0007431507110595703\n",
      "Viewpoint forward time: 0.0009565353393554688\n",
      "Get normalized 3d coordinates time: 0.0006101131439208984\n",
      "Flip left handed input time: 0.0001361370086669922\n",
      "ScaLe heatmaps time 0.0001087188720703125\n",
      "Time for processing 1 frame: 0.04684114456176758s\n"
     ]
    },
    {
     "name": "stderr",
     "output_type": "stream",
     "text": [
      "\r",
      "475it [01:41,  4.25it/s]"
     ]
    },
    {
     "name": "stdout",
     "output_type": "stream",
     "text": [
      "tensor([[0.9942]], device='cuda:0', grad_fn=<SigmoidBackward>)\n",
      "Handnet forward time: 0.007811069488525391\n",
      "Handsegnet forward time: 0.0010426044464111328\n",
      "s shape torch.Size([1, 2, 224, 224])\n",
      "for loop time 0.003194570541381836\n",
      "hand mask sum: 2408.0\n",
      "Calculate single highest scoring object time: 0.030050039291381836\n",
      "Crop and resize time: 0.0009777545928955078\n",
      "Posenet forward time: 0.002023935317993164\n",
      "Posepriornet forward time: 0.0007448196411132812\n",
      "Viewpoint forward time: 0.0009517669677734375\n",
      "Get normalized 3d coordinates time: 0.0006160736083984375\n",
      "Flip left handed input time: 0.00013875961303710938\n",
      "ScaLe heatmaps time 0.000110626220703125\n",
      "Time for processing 1 frame: 0.04511308670043945s\n"
     ]
    },
    {
     "name": "stderr",
     "output_type": "stream",
     "text": [
      "\r",
      "476it [01:41,  4.20it/s]"
     ]
    },
    {
     "name": "stdout",
     "output_type": "stream",
     "text": [
      "tensor([[0.9938]], device='cuda:0', grad_fn=<SigmoidBackward>)\n",
      "Handnet forward time: 0.0076601505279541016\n",
      "Handsegnet forward time: 0.0010881423950195312\n",
      "s shape torch.Size([1, 2, 224, 224])\n",
      "for loop time 0.003167390823364258\n",
      "hand mask sum: 2399.0\n",
      "Calculate single highest scoring object time: 0.030450820922851562\n",
      "Crop and resize time: 0.0009760856628417969\n",
      "Posenet forward time: 0.0020151138305664062\n",
      "Posepriornet forward time: 0.0007493495941162109\n",
      "Viewpoint forward time: 0.000957489013671875\n",
      "Get normalized 3d coordinates time: 0.0006492137908935547\n",
      "Flip left handed input time: 0.0001392364501953125\n",
      "ScaLe heatmaps time 0.00010967254638671875\n",
      "Time for processing 1 frame: 0.04523515701293945s\n"
     ]
    },
    {
     "name": "stderr",
     "output_type": "stream",
     "text": [
      "\r",
      "477it [01:42,  4.24it/s]"
     ]
    },
    {
     "name": "stdout",
     "output_type": "stream",
     "text": [
      "tensor([[0.9936]], device='cuda:0', grad_fn=<SigmoidBackward>)\n",
      "Handnet forward time: 0.008556365966796875\n",
      "Handsegnet forward time: 0.0010323524475097656\n",
      "s shape torch.Size([1, 2, 224, 224])\n",
      "for loop time 0.0031366348266601562\n",
      "hand mask sum: 2371.0\n",
      "Calculate single highest scoring object time: 0.030664920806884766\n",
      "Crop and resize time: 0.0009319782257080078\n",
      "Posenet forward time: 0.0019638538360595703\n",
      "Posepriornet forward time: 0.0007255077362060547\n",
      "Viewpoint forward time: 0.0009093284606933594\n",
      "Get normalized 3d coordinates time: 0.0005981922149658203\n",
      "Flip left handed input time: 0.0001361370086669922\n",
      "ScaLe heatmaps time 0.00011181831359863281\n",
      "Time for processing 1 frame: 0.04617047309875488s\n"
     ]
    },
    {
     "name": "stderr",
     "output_type": "stream",
     "text": [
      "\r",
      "478it [01:42,  4.25it/s]"
     ]
    },
    {
     "name": "stdout",
     "output_type": "stream",
     "text": [
      "tensor([[0.9800]], device='cuda:0', grad_fn=<SigmoidBackward>)\n",
      "Handnet forward time: 0.008142471313476562\n",
      "Handsegnet forward time: 0.0010433197021484375\n",
      "s shape torch.Size([1, 2, 224, 224])\n",
      "for loop time 0.0034482479095458984\n",
      "hand mask sum: 2333.0\n",
      "Calculate single highest scoring object time: 0.029758930206298828\n",
      "Crop and resize time: 0.0009796619415283203\n",
      "Posenet forward time: 0.0020210742950439453\n",
      "Posepriornet forward time: 0.0007417201995849609\n",
      "Viewpoint forward time: 0.0009467601776123047\n",
      "Get normalized 3d coordinates time: 0.0006129741668701172\n",
      "Flip left handed input time: 0.0001399517059326172\n",
      "ScaLe heatmaps time 0.00010991096496582031\n",
      "Time for processing 1 frame: 0.04513263702392578s\n"
     ]
    },
    {
     "name": "stderr",
     "output_type": "stream",
     "text": [
      "\r",
      "479it [01:42,  4.23it/s]"
     ]
    },
    {
     "name": "stdout",
     "output_type": "stream",
     "text": [
      "tensor([[0.9951]], device='cuda:0', grad_fn=<SigmoidBackward>)\n",
      "Handnet forward time: 0.007780790328979492\n",
      "Handsegnet forward time: 0.0014371871948242188\n",
      "s shape torch.Size([1, 2, 224, 224])\n",
      "for loop time 0.0031480789184570312\n",
      "hand mask sum: 2342.0\n",
      "Calculate single highest scoring object time: 0.030229568481445312\n",
      "Crop and resize time: 0.0009877681732177734\n",
      "Posenet forward time: 0.002026796340942383\n",
      "Posepriornet forward time: 0.0007495880126953125\n",
      "Viewpoint forward time: 0.0009341239929199219\n",
      "Get normalized 3d coordinates time: 0.0006194114685058594\n",
      "Flip left handed input time: 0.00013828277587890625\n",
      "ScaLe heatmaps time 8.249282836914062e-05\n",
      "Time for processing 1 frame: 0.045679330825805664s\n"
     ]
    },
    {
     "name": "stderr",
     "output_type": "stream",
     "text": [
      "\r",
      "480it [01:42,  4.22it/s]"
     ]
    },
    {
     "name": "stdout",
     "output_type": "stream",
     "text": [
      "tensor([[0.9987]], device='cuda:0', grad_fn=<SigmoidBackward>)\n",
      "Handnet forward time: 0.008261442184448242\n",
      "Handsegnet forward time: 0.00140380859375\n",
      "s shape torch.Size([1, 2, 224, 224])\n",
      "for loop time 0.0034682750701904297\n",
      "hand mask sum: 2304.0\n",
      "Calculate single highest scoring object time: 0.03033304214477539\n",
      "Crop and resize time: 0.0009744167327880859\n",
      "Posenet forward time: 0.002018451690673828\n",
      "Posepriornet forward time: 0.0007469654083251953\n",
      "Viewpoint forward time: 0.0009658336639404297\n",
      "Get normalized 3d coordinates time: 0.0006153583526611328\n",
      "Flip left handed input time: 0.0001373291015625\n",
      "ScaLe heatmaps time 0.00010967254638671875\n",
      "Time for processing 1 frame: 0.0460352897644043s\n"
     ]
    },
    {
     "name": "stderr",
     "output_type": "stream",
     "text": [
      "\r",
      "481it [01:43,  4.20it/s]"
     ]
    },
    {
     "name": "stdout",
     "output_type": "stream",
     "text": [
      "tensor([[0.9983]], device='cuda:0', grad_fn=<SigmoidBackward>)\n",
      "Handnet forward time: 0.007821798324584961\n",
      "Handsegnet forward time: 0.0015611648559570312\n",
      "s shape torch.Size([1, 2, 224, 224])\n",
      "for loop time 0.003140687942504883\n",
      "hand mask sum: 2317.0\n",
      "Calculate single highest scoring object time: 0.0298159122467041\n",
      "Crop and resize time: 0.000946044921875\n",
      "Posenet forward time: 0.0019958019256591797\n",
      "Posepriornet forward time: 0.0007479190826416016\n",
      "Viewpoint forward time: 0.0009477138519287109\n",
      "Get normalized 3d coordinates time: 0.0006208419799804688\n",
      "Flip left handed input time: 0.00013756752014160156\n",
      "ScaLe heatmaps time 0.00010824203491210938\n",
      "Time for processing 1 frame: 0.045356035232543945s\n"
     ]
    },
    {
     "name": "stderr",
     "output_type": "stream",
     "text": [
      "\r",
      "482it [01:43,  4.18it/s]"
     ]
    },
    {
     "name": "stdout",
     "output_type": "stream",
     "text": [
      "tensor([[0.9985]], device='cuda:0', grad_fn=<SigmoidBackward>)\n",
      "Handnet forward time: 0.008310317993164062\n",
      "Handsegnet forward time: 0.0013980865478515625\n",
      "s shape torch.Size([1, 2, 224, 224])\n",
      "for loop time 0.005348920822143555\n",
      "hand mask sum: 2304.0\n",
      "Calculate single highest scoring object time: 0.033538818359375\n",
      "Crop and resize time: 0.0012705326080322266\n",
      "Posenet forward time: 0.002882242202758789\n",
      "Posepriornet forward time: 0.0009148120880126953\n",
      "Viewpoint forward time: 0.0009534358978271484\n",
      "Get normalized 3d coordinates time: 0.0006475448608398438\n",
      "Flip left handed input time: 5.888938903808594e-05\n",
      "ScaLe heatmaps time 3.4809112548828125e-05\n",
      "Time for processing 1 frame: 0.050543785095214844s\n"
     ]
    },
    {
     "name": "stderr",
     "output_type": "stream",
     "text": [
      "\r",
      "483it [01:43,  4.14it/s]"
     ]
    },
    {
     "name": "stdout",
     "output_type": "stream",
     "text": [
      "tensor([[0.9981]], device='cuda:0', grad_fn=<SigmoidBackward>)\n",
      "Handnet forward time: 0.0077478885650634766\n",
      "Handsegnet forward time: 0.0015761852264404297\n",
      "s shape torch.Size([1, 2, 224, 224])\n",
      "for loop time 0.0032744407653808594\n",
      "hand mask sum: 2320.0\n",
      "Calculate single highest scoring object time: 0.029788970947265625\n",
      "Crop and resize time: 0.0012013912200927734\n",
      "Posenet forward time: 0.002033233642578125\n",
      "Posepriornet forward time: 0.0008363723754882812\n",
      "Viewpoint forward time: 0.0010561943054199219\n",
      "Get normalized 3d coordinates time: 0.0006365776062011719\n",
      "Flip left handed input time: 0.0001304149627685547\n",
      "ScaLe heatmaps time 8.940696716308594e-05\n",
      "Time for processing 1 frame: 0.04586648941040039s\n"
     ]
    },
    {
     "name": "stderr",
     "output_type": "stream",
     "text": [
      "\r",
      "484it [01:43,  4.16it/s]"
     ]
    },
    {
     "name": "stdout",
     "output_type": "stream",
     "text": [
      "tensor([[0.9989]], device='cuda:0', grad_fn=<SigmoidBackward>)\n",
      "Handnet forward time: 0.008004188537597656\n",
      "Handsegnet forward time: 0.0009438991546630859\n",
      "s shape torch.Size([1, 2, 224, 224])\n",
      "for loop time 0.003715991973876953\n",
      "hand mask sum: 2285.0\n",
      "Calculate single highest scoring object time: 0.029377460479736328\n",
      "Crop and resize time: 0.0017933845520019531\n",
      "Posenet forward time: 0.0020017623901367188\n",
      "Posepriornet forward time: 0.0007460117340087891\n",
      "Viewpoint forward time: 0.000957489013671875\n",
      "Get normalized 3d coordinates time: 0.0006115436553955078\n",
      "Flip left handed input time: 0.0001373291015625\n",
      "ScaLe heatmaps time 0.0001087188720703125\n",
      "Time for processing 1 frame: 0.045285940170288086s\n"
     ]
    },
    {
     "name": "stderr",
     "output_type": "stream",
     "text": [
      "\r",
      "485it [01:44,  4.19it/s]"
     ]
    },
    {
     "name": "stdout",
     "output_type": "stream",
     "text": [
      "tensor([[0.9996]], device='cuda:0', grad_fn=<SigmoidBackward>)\n",
      "Handnet forward time: 0.010141849517822266\n",
      "Handsegnet forward time: 0.001165628433227539\n",
      "s shape torch.Size([1, 2, 224, 224])\n",
      "for loop time 0.003108978271484375\n",
      "hand mask sum: 2277.0\n",
      "Calculate single highest scoring object time: 0.03007221221923828\n",
      "Crop and resize time: 0.0009527206420898438\n",
      "Posenet forward time: 0.001972675323486328\n",
      "Posepriornet forward time: 0.0007364749908447266\n",
      "Viewpoint forward time: 0.0009448528289794922\n",
      "Get normalized 3d coordinates time: 0.0006384849548339844\n",
      "Flip left handed input time: 0.0001366138458251953\n",
      "ScaLe heatmaps time 0.00010991096496582031\n",
      "Time for processing 1 frame: 0.04731869697570801s\n"
     ]
    },
    {
     "name": "stderr",
     "output_type": "stream",
     "text": [
      "\r",
      "486it [01:44,  4.19it/s]"
     ]
    },
    {
     "name": "stdout",
     "output_type": "stream",
     "text": [
      "tensor([[0.9996]], device='cuda:0', grad_fn=<SigmoidBackward>)\n",
      "Handnet forward time: 0.008434534072875977\n",
      "Handsegnet forward time: 0.0010418891906738281\n",
      "s shape torch.Size([1, 2, 224, 224])\n",
      "for loop time 0.003072977066040039\n",
      "hand mask sum: 2320.0\n",
      "Calculate single highest scoring object time: 0.03033280372619629\n",
      "Crop and resize time: 0.0009646415710449219\n",
      "Posenet forward time: 0.0019872188568115234\n",
      "Posepriornet forward time: 0.0007390975952148438\n",
      "Viewpoint forward time: 0.0009415149688720703\n",
      "Get normalized 3d coordinates time: 0.0006105899810791016\n",
      "Flip left handed input time: 0.00013875961303710938\n",
      "ScaLe heatmaps time 0.0001087188720703125\n",
      "Time for processing 1 frame: 0.045943498611450195s\n"
     ]
    },
    {
     "name": "stderr",
     "output_type": "stream",
     "text": [
      "\r",
      "487it [01:44,  4.21it/s]"
     ]
    },
    {
     "name": "stdout",
     "output_type": "stream",
     "text": [
      "tensor([[0.9996]], device='cuda:0', grad_fn=<SigmoidBackward>)\n",
      "Handnet forward time: 0.007681369781494141\n",
      "Handsegnet forward time: 0.0010223388671875\n",
      "s shape torch.Size([1, 2, 224, 224])\n",
      "for loop time 0.0030715465545654297\n",
      "hand mask sum: 2328.0\n",
      "Calculate single highest scoring object time: 0.030398130416870117\n",
      "Crop and resize time: 0.0009572505950927734\n",
      "Posenet forward time: 0.0020864009857177734\n",
      "Posepriornet forward time: 0.0007834434509277344\n",
      "Viewpoint forward time: 0.0009450912475585938\n",
      "Get normalized 3d coordinates time: 0.0006060600280761719\n",
      "Flip left handed input time: 0.0001347064971923828\n",
      "ScaLe heatmaps time 0.00011348724365234375\n",
      "Time for processing 1 frame: 0.0453946590423584s\n"
     ]
    },
    {
     "name": "stderr",
     "output_type": "stream",
     "text": [
      "\r",
      "488it [01:44,  4.23it/s]"
     ]
    },
    {
     "name": "stdout",
     "output_type": "stream",
     "text": [
      "tensor([[0.9997]], device='cuda:0', grad_fn=<SigmoidBackward>)\n",
      "Handnet forward time: 0.007792234420776367\n",
      "Handsegnet forward time: 0.0012640953063964844\n",
      "s shape torch.Size([1, 2, 224, 224])\n",
      "for loop time 0.0031309127807617188\n",
      "hand mask sum: 2337.0\n",
      "Calculate single highest scoring object time: 0.030076265335083008\n",
      "Crop and resize time: 0.0009474754333496094\n",
      "Posenet forward time: 0.001992464065551758\n",
      "Posepriornet forward time: 0.0007221698760986328\n",
      "Viewpoint forward time: 0.0009200572967529297\n",
      "Get normalized 3d coordinates time: 0.0006227493286132812\n",
      "Flip left handed input time: 6.318092346191406e-05\n",
      "ScaLe heatmaps time 3.123283386230469e-05\n",
      "Time for processing 1 frame: 0.04513812065124512s\n"
     ]
    },
    {
     "name": "stderr",
     "output_type": "stream",
     "text": [
      "\r",
      "489it [01:44,  4.25it/s]"
     ]
    },
    {
     "name": "stdout",
     "output_type": "stream",
     "text": [
      "tensor([[0.9998]], device='cuda:0', grad_fn=<SigmoidBackward>)\n",
      "Handnet forward time: 0.007710456848144531\n",
      "Handsegnet forward time: 0.0011053085327148438\n",
      "s shape torch.Size([1, 2, 224, 224])\n",
      "for loop time 0.0030443668365478516\n",
      "hand mask sum: 2350.0\n",
      "Calculate single highest scoring object time: 0.030601024627685547\n",
      "Crop and resize time: 0.0009469985961914062\n",
      "Posenet forward time: 0.0019707679748535156\n",
      "Posepriornet forward time: 0.0007343292236328125\n",
      "Viewpoint forward time: 0.0009357929229736328\n",
      "Get normalized 3d coordinates time: 0.0006034374237060547\n",
      "Flip left handed input time: 0.0001399517059326172\n",
      "ScaLe heatmaps time 0.00011038780212402344\n",
      "Time for processing 1 frame: 0.045485734939575195s\n"
     ]
    },
    {
     "name": "stderr",
     "output_type": "stream",
     "text": [
      "\r",
      "490it [01:45,  4.28it/s]"
     ]
    },
    {
     "name": "stdout",
     "output_type": "stream",
     "text": [
      "tensor([[0.9998]], device='cuda:0', grad_fn=<SigmoidBackward>)\n",
      "Handnet forward time: 0.008436918258666992\n",
      "Handsegnet forward time: 0.0009775161743164062\n",
      "s shape torch.Size([1, 2, 224, 224])\n",
      "for loop time 0.0035572052001953125\n",
      "hand mask sum: 2367.0\n",
      "Calculate single highest scoring object time: 0.029512882232666016\n",
      "Crop and resize time: 0.0009534358978271484\n",
      "Posenet forward time: 0.0023822784423828125\n",
      "Posepriornet forward time: 0.0007426738739013672\n",
      "Viewpoint forward time: 0.0009562969207763672\n",
      "Get normalized 3d coordinates time: 0.0006086826324462891\n",
      "Flip left handed input time: 0.00013685226440429688\n",
      "ScaLe heatmaps time 0.00010991096496582031\n",
      "Time for processing 1 frame: 0.045495033264160156s\n"
     ]
    },
    {
     "name": "stderr",
     "output_type": "stream",
     "text": [
      "\r",
      "491it [01:45,  4.28it/s]"
     ]
    },
    {
     "name": "stdout",
     "output_type": "stream",
     "text": [
      "tensor([[0.9997]], device='cuda:0', grad_fn=<SigmoidBackward>)\n",
      "Handnet forward time: 0.008878231048583984\n",
      "Handsegnet forward time: 0.0014336109161376953\n",
      "s shape torch.Size([1, 2, 224, 224])\n",
      "for loop time 0.0031037330627441406\n",
      "hand mask sum: 2424.0\n",
      "Calculate single highest scoring object time: 0.03199148178100586\n",
      "Crop and resize time: 0.0009627342224121094\n",
      "Posenet forward time: 0.001981973648071289\n",
      "Posepriornet forward time: 0.0007460117340087891\n",
      "Viewpoint forward time: 0.0009391307830810547\n",
      "Get normalized 3d coordinates time: 0.0006082057952880859\n",
      "Flip left handed input time: 0.0001373291015625\n",
      "ScaLe heatmaps time 0.00010967254638671875\n",
      "Time for processing 1 frame: 0.04842805862426758s\n"
     ]
    },
    {
     "name": "stderr",
     "output_type": "stream",
     "text": [
      "\r",
      "492it [01:45,  4.22it/s]"
     ]
    },
    {
     "name": "stdout",
     "output_type": "stream",
     "text": [
      "tensor([[0.9990]], device='cuda:0', grad_fn=<SigmoidBackward>)\n",
      "Handnet forward time: 0.008076667785644531\n",
      "Handsegnet forward time: 0.0010356903076171875\n",
      "s shape torch.Size([1, 2, 224, 224])\n",
      "for loop time 0.0036046504974365234\n",
      "hand mask sum: 2431.0\n",
      "Calculate single highest scoring object time: 0.0312650203704834\n",
      "Crop and resize time: 0.0010056495666503906\n",
      "Posenet forward time: 0.0020041465759277344\n",
      "Posepriornet forward time: 0.0007326602935791016\n",
      "Viewpoint forward time: 0.0009441375732421875\n",
      "Get normalized 3d coordinates time: 0.0006268024444580078\n",
      "Flip left handed input time: 0.0001354217529296875\n",
      "ScaLe heatmaps time 0.0001049041748046875\n",
      "Time for processing 1 frame: 0.0466001033782959s\n"
     ]
    },
    {
     "name": "stderr",
     "output_type": "stream",
     "text": [
      "\r",
      "493it [01:45,  4.20it/s]"
     ]
    },
    {
     "name": "stdout",
     "output_type": "stream",
     "text": [
      "tensor([[0.9991]], device='cuda:0', grad_fn=<SigmoidBackward>)\n",
      "Handnet forward time: 0.008607864379882812\n",
      "Handsegnet forward time: 0.0010538101196289062\n",
      "s shape torch.Size([1, 2, 224, 224])\n",
      "for loop time 0.0031690597534179688\n",
      "hand mask sum: 2428.0\n",
      "Calculate single highest scoring object time: 0.03238081932067871\n",
      "Crop and resize time: 0.0009865760803222656\n",
      "Posenet forward time: 0.0020301342010498047\n",
      "Posepriornet forward time: 0.0007815361022949219\n",
      "Viewpoint forward time: 0.0010390281677246094\n",
      "Get normalized 3d coordinates time: 0.0007307529449462891\n",
      "Flip left handed input time: 0.0001461505889892578\n",
      "ScaLe heatmaps time 7.82012939453125e-05\n",
      "Time for processing 1 frame: 0.04860520362854004s\n"
     ]
    },
    {
     "name": "stderr",
     "output_type": "stream",
     "text": [
      "\r",
      "494it [01:46,  4.17it/s]"
     ]
    },
    {
     "name": "stdout",
     "output_type": "stream",
     "text": [
      "tensor([[0.9989]], device='cuda:0', grad_fn=<SigmoidBackward>)\n",
      "Handnet forward time: 0.009425640106201172\n",
      "Handsegnet forward time: 0.001016855239868164\n",
      "s shape torch.Size([1, 2, 224, 224])\n",
      "for loop time 0.0033855438232421875\n",
      "hand mask sum: 2412.0\n",
      "Calculate single highest scoring object time: 0.031023740768432617\n",
      "Crop and resize time: 0.0009768009185791016\n",
      "Posenet forward time: 0.001985788345336914\n",
      "Posepriornet forward time: 0.0007395744323730469\n",
      "Viewpoint forward time: 0.0009357929229736328\n",
      "Get normalized 3d coordinates time: 0.0006074905395507812\n",
      "Flip left handed input time: 0.0001327991485595703\n",
      "ScaLe heatmaps time 0.00010848045349121094\n",
      "Time for processing 1 frame: 0.04759693145751953s\n"
     ]
    },
    {
     "name": "stderr",
     "output_type": "stream",
     "text": [
      "\r",
      "495it [01:46,  4.19it/s]"
     ]
    },
    {
     "name": "stdout",
     "output_type": "stream",
     "text": [
      "tensor([[0.9992]], device='cuda:0', grad_fn=<SigmoidBackward>)\n",
      "Handnet forward time: 0.0077972412109375\n",
      "Handsegnet forward time: 0.0011510848999023438\n",
      "s shape torch.Size([1, 2, 224, 224])\n",
      "for loop time 0.0030977725982666016\n",
      "hand mask sum: 2406.0\n",
      "Calculate single highest scoring object time: 0.030434846878051758\n",
      "Crop and resize time: 0.0009829998016357422\n",
      "Posenet forward time: 0.0019860267639160156\n",
      "Posepriornet forward time: 0.0007295608520507812\n",
      "Viewpoint forward time: 0.0009360313415527344\n",
      "Get normalized 3d coordinates time: 0.0006086826324462891\n",
      "Flip left handed input time: 0.00013780593872070312\n",
      "ScaLe heatmaps time 0.00011014938354492188\n",
      "Time for processing 1 frame: 0.045450687408447266s\n"
     ]
    },
    {
     "name": "stderr",
     "output_type": "stream",
     "text": [
      "\r",
      "496it [01:46,  4.11it/s]"
     ]
    },
    {
     "name": "stdout",
     "output_type": "stream",
     "text": [
      "tensor([[0.9992]], device='cuda:0', grad_fn=<SigmoidBackward>)\n",
      "Handnet forward time: 0.00883340835571289\n",
      "Handsegnet forward time: 0.0010688304901123047\n",
      "s shape torch.Size([1, 2, 224, 224])\n",
      "for loop time 0.003155946731567383\n",
      "hand mask sum: 2424.0\n",
      "Calculate single highest scoring object time: 0.03238964080810547\n",
      "Crop and resize time: 0.0009891986846923828\n",
      "Posenet forward time: 0.001990795135498047\n",
      "Posepriornet forward time: 0.0007417201995849609\n",
      "Viewpoint forward time: 0.0009980201721191406\n",
      "Get normalized 3d coordinates time: 0.0007283687591552734\n",
      "Flip left handed input time: 0.000148773193359375\n",
      "ScaLe heatmaps time 0.00010347366333007812\n",
      "Time for processing 1 frame: 0.048670291900634766s\n"
     ]
    },
    {
     "name": "stderr",
     "output_type": "stream",
     "text": [
      "\r",
      "497it [01:47,  2.47it/s]"
     ]
    },
    {
     "name": "stdout",
     "output_type": "stream",
     "text": [
      "tensor([[0.9990]], device='cuda:0', grad_fn=<SigmoidBackward>)\n",
      "Handnet forward time: 0.007796287536621094\n",
      "Handsegnet forward time: 0.0010409355163574219\n",
      "s shape torch.Size([1, 2, 224, 224])\n",
      "for loop time 0.003106832504272461\n",
      "hand mask sum: 2435.0\n",
      "Calculate single highest scoring object time: 0.032738447189331055\n",
      "Crop and resize time: 0.000982046127319336\n",
      "Posenet forward time: 0.0019903182983398438\n",
      "Posepriornet forward time: 0.0007369518280029297\n",
      "Viewpoint forward time: 0.0009257793426513672\n",
      "Get normalized 3d coordinates time: 0.0006315708160400391\n",
      "Flip left handed input time: 0.00014066696166992188\n",
      "ScaLe heatmaps time 3.218650817871094e-05\n",
      "Time for processing 1 frame: 0.04775834083557129s\n"
     ]
    },
    {
     "name": "stderr",
     "output_type": "stream",
     "text": [
      "\r",
      "498it [01:47,  2.81it/s]"
     ]
    },
    {
     "name": "stdout",
     "output_type": "stream",
     "text": [
      "tensor([[0.9992]], device='cuda:0', grad_fn=<SigmoidBackward>)\n",
      "Handnet forward time: 0.009335756301879883\n",
      "Handsegnet forward time: 0.0010440349578857422\n",
      "s shape torch.Size([1, 2, 224, 224])\n",
      "for loop time 0.004591703414916992\n",
      "hand mask sum: 2431.0\n",
      "Calculate single highest scoring object time: 0.03195810317993164\n",
      "Crop and resize time: 0.000980377197265625\n",
      "Posenet forward time: 0.001981019973754883\n",
      "Posepriornet forward time: 0.0007278919219970703\n",
      "Viewpoint forward time: 0.00096893310546875\n",
      "Get normalized 3d coordinates time: 0.0006077289581298828\n",
      "Flip left handed input time: 0.00013685226440429688\n",
      "ScaLe heatmaps time 0.00010466575622558594\n",
      "Time for processing 1 frame: 0.04849123954772949s\n"
     ]
    },
    {
     "name": "stderr",
     "output_type": "stream",
     "text": [
      "\r",
      "499it [01:47,  3.10it/s]"
     ]
    },
    {
     "name": "stdout",
     "output_type": "stream",
     "text": [
      "tensor([[0.9992]], device='cuda:0', grad_fn=<SigmoidBackward>)\n",
      "Handnet forward time: 0.007574796676635742\n",
      "Handsegnet forward time: 0.000957489013671875\n",
      "s shape torch.Size([1, 2, 224, 224])\n",
      "for loop time 0.0031099319458007812\n",
      "hand mask sum: 2430.0\n",
      "Calculate single highest scoring object time: 0.030495405197143555\n",
      "Crop and resize time: 0.0009632110595703125\n",
      "Posenet forward time: 0.00200653076171875\n",
      "Posepriornet forward time: 0.0007348060607910156\n",
      "Viewpoint forward time: 0.0009918212890625\n",
      "Get normalized 3d coordinates time: 0.0006136894226074219\n",
      "Flip left handed input time: 5.435943603515625e-05\n",
      "ScaLe heatmaps time 3.170967102050781e-05\n",
      "Time for processing 1 frame: 0.04502534866333008s\n"
     ]
    },
    {
     "name": "stderr",
     "output_type": "stream",
     "text": [
      "\r",
      "500it [01:48,  3.38it/s]"
     ]
    },
    {
     "name": "stdout",
     "output_type": "stream",
     "text": [
      "tensor([[0.9994]], device='cuda:0', grad_fn=<SigmoidBackward>)\n",
      "Handnet forward time: 0.007838010787963867\n",
      "Handsegnet forward time: 0.001238107681274414\n",
      "s shape torch.Size([1, 2, 224, 224])\n",
      "for loop time 0.003132343292236328\n",
      "hand mask sum: 2439.0\n",
      "Calculate single highest scoring object time: 0.030393123626708984\n",
      "Crop and resize time: 0.0009412765502929688\n",
      "Posenet forward time: 0.002034425735473633\n",
      "Posepriornet forward time: 0.00072479248046875\n",
      "Viewpoint forward time: 0.0009295940399169922\n",
      "Get normalized 3d coordinates time: 0.0006690025329589844\n",
      "Flip left handed input time: 0.00016307830810546875\n",
      "ScaLe heatmaps time 0.00011658668518066406\n",
      "Time for processing 1 frame: 0.04561305046081543s\n"
     ]
    },
    {
     "name": "stderr",
     "output_type": "stream",
     "text": [
      "\r",
      "501it [01:48,  3.61it/s]"
     ]
    },
    {
     "name": "stdout",
     "output_type": "stream",
     "text": [
      "tensor([[0.9994]], device='cuda:0', grad_fn=<SigmoidBackward>)\n",
      "Handnet forward time: 0.007691860198974609\n",
      "Handsegnet forward time: 0.00116729736328125\n",
      "s shape torch.Size([1, 2, 224, 224])\n",
      "for loop time 0.0030519962310791016\n",
      "hand mask sum: 2435.0\n",
      "Calculate single highest scoring object time: 0.029685258865356445\n",
      "Crop and resize time: 0.0009603500366210938\n",
      "Posenet forward time: 0.0019843578338623047\n",
      "Posepriornet forward time: 0.000732421875\n",
      "Viewpoint forward time: 0.0009479522705078125\n",
      "Get normalized 3d coordinates time: 0.0006422996520996094\n",
      "Flip left handed input time: 0.0001347064971923828\n",
      "ScaLe heatmaps time 0.00010895729064941406\n",
      "Time for processing 1 frame: 0.044498443603515625s\n"
     ]
    },
    {
     "name": "stderr",
     "output_type": "stream",
     "text": [
      "\r",
      "502it [01:48,  3.79it/s]"
     ]
    },
    {
     "name": "stdout",
     "output_type": "stream",
     "text": [
      "tensor([[0.9990]], device='cuda:0', grad_fn=<SigmoidBackward>)\n",
      "Handnet forward time: 0.007673740386962891\n",
      "Handsegnet forward time: 0.0011870861053466797\n",
      "s shape torch.Size([1, 2, 224, 224])\n",
      "for loop time 0.003056764602661133\n",
      "hand mask sum: 2449.0\n",
      "Calculate single highest scoring object time: 0.029627084732055664\n",
      "Crop and resize time: 0.0009496212005615234\n",
      "Posenet forward time: 0.0019719600677490234\n",
      "Posepriornet forward time: 0.0007464885711669922\n",
      "Viewpoint forward time: 0.0009367465972900391\n",
      "Get normalized 3d coordinates time: 0.0006098747253417969\n",
      "Flip left handed input time: 0.00013756752014160156\n",
      "ScaLe heatmaps time 0.00011038780212402344\n",
      "Time for processing 1 frame: 0.04440951347351074s\n"
     ]
    },
    {
     "name": "stderr",
     "output_type": "stream",
     "text": [
      "\r",
      "503it [01:48,  3.93it/s]"
     ]
    },
    {
     "name": "stdout",
     "output_type": "stream",
     "text": [
      "tensor([[0.9987]], device='cuda:0', grad_fn=<SigmoidBackward>)\n",
      "Handnet forward time: 0.007668972015380859\n",
      "Handsegnet forward time: 0.0010213851928710938\n",
      "s shape torch.Size([1, 2, 224, 224])\n",
      "for loop time 0.0030455589294433594\n",
      "hand mask sum: 2456.0\n",
      "Calculate single highest scoring object time: 0.030373811721801758\n",
      "Crop and resize time: 0.0009381771087646484\n",
      "Posenet forward time: 0.0019369125366210938\n",
      "Posepriornet forward time: 0.0007586479187011719\n",
      "Viewpoint forward time: 0.0009217262268066406\n",
      "Get normalized 3d coordinates time: 0.0005915164947509766\n",
      "Flip left handed input time: 5.459785461425781e-05\n",
      "ScaLe heatmaps time 3.075599670410156e-05\n",
      "Time for processing 1 frame: 0.044988155364990234s\n"
     ]
    },
    {
     "name": "stderr",
     "output_type": "stream",
     "text": [
      "\r",
      "504it [01:49,  4.05it/s]"
     ]
    },
    {
     "name": "stdout",
     "output_type": "stream",
     "text": [
      "tensor([[0.9992]], device='cuda:0', grad_fn=<SigmoidBackward>)\n",
      "Handnet forward time: 0.007843255996704102\n",
      "Handsegnet forward time: 0.0011801719665527344\n",
      "s shape torch.Size([1, 2, 224, 224])\n",
      "for loop time 0.0030488967895507812\n",
      "hand mask sum: 2467.0\n",
      "Calculate single highest scoring object time: 0.030622482299804688\n",
      "Crop and resize time: 0.0009515285491943359\n",
      "Posenet forward time: 0.0019652843475341797\n",
      "Posepriornet forward time: 0.0007460117340087891\n",
      "Viewpoint forward time: 0.0009388923645019531\n",
      "Get normalized 3d coordinates time: 0.0006024837493896484\n",
      "Flip left handed input time: 0.00012969970703125\n",
      "ScaLe heatmaps time 0.00010848045349121094\n",
      "Time for processing 1 frame: 0.04573941230773926s\n"
     ]
    },
    {
     "name": "stderr",
     "output_type": "stream",
     "text": [
      "\r",
      "505it [01:49,  4.14it/s]"
     ]
    },
    {
     "name": "stdout",
     "output_type": "stream",
     "text": [
      "tensor([[0.9992]], device='cuda:0', grad_fn=<SigmoidBackward>)\n",
      "Handnet forward time: 0.008832216262817383\n",
      "Handsegnet forward time: 0.0009965896606445312\n",
      "s shape torch.Size([1, 2, 224, 224])\n",
      "for loop time 0.003053426742553711\n",
      "hand mask sum: 2466.0\n",
      "Calculate single highest scoring object time: 0.030123472213745117\n",
      "Crop and resize time: 0.0009255409240722656\n",
      "Posenet forward time: 0.0019216537475585938\n",
      "Posepriornet forward time: 0.0007123947143554688\n",
      "Viewpoint forward time: 0.0009157657623291016\n",
      "Get normalized 3d coordinates time: 0.0005931854248046875\n",
      "Flip left handed input time: 0.0001354217529296875\n",
      "ScaLe heatmaps time 0.00011086463928222656\n",
      "Time for processing 1 frame: 0.04591059684753418s\n"
     ]
    },
    {
     "name": "stderr",
     "output_type": "stream",
     "text": [
      "\r",
      "506it [01:49,  4.19it/s]"
     ]
    },
    {
     "name": "stdout",
     "output_type": "stream",
     "text": [
      "tensor([[0.9984]], device='cuda:0', grad_fn=<SigmoidBackward>)\n",
      "Handnet forward time: 0.009097576141357422\n",
      "Handsegnet forward time: 0.001024484634399414\n",
      "s shape torch.Size([1, 2, 224, 224])\n",
      "for loop time 0.004300355911254883\n",
      "hand mask sum: 2452.0\n",
      "Calculate single highest scoring object time: 0.031499385833740234\n",
      "Crop and resize time: 0.0010237693786621094\n",
      "Posenet forward time: 0.0020313262939453125\n",
      "Posepriornet forward time: 0.0007526874542236328\n",
      "Viewpoint forward time: 0.0009553432464599609\n",
      "Get normalized 3d coordinates time: 0.000621795654296875\n",
      "Flip left handed input time: 0.00013494491577148438\n",
      "ScaLe heatmaps time 0.00010609626770019531\n",
      "Time for processing 1 frame: 0.04790544509887695s\n"
     ]
    },
    {
     "name": "stderr",
     "output_type": "stream",
     "text": [
      "\r",
      "507it [01:49,  4.16it/s]"
     ]
    },
    {
     "name": "stdout",
     "output_type": "stream",
     "text": [
      "tensor([[0.9984]], device='cuda:0', grad_fn=<SigmoidBackward>)\n",
      "Handnet forward time: 0.007546901702880859\n",
      "Handsegnet forward time: 0.0009551048278808594\n",
      "s shape torch.Size([1, 2, 224, 224])\n",
      "for loop time 0.0030922889709472656\n",
      "hand mask sum: 2449.0\n",
      "Calculate single highest scoring object time: 0.03231024742126465\n",
      "Crop and resize time: 0.0009667873382568359\n",
      "Posenet forward time: 0.0020334720611572266\n",
      "Posepriornet forward time: 0.0007429122924804688\n",
      "Viewpoint forward time: 0.0009441375732421875\n",
      "Get normalized 3d coordinates time: 0.0006263256072998047\n",
      "Flip left handed input time: 0.00014328956604003906\n",
      "ScaLe heatmaps time 3.266334533691406e-05\n",
      "Time for processing 1 frame: 0.046911001205444336s\n"
     ]
    },
    {
     "name": "stderr",
     "output_type": "stream",
     "text": [
      "\r",
      "508it [01:50,  4.17it/s]"
     ]
    },
    {
     "name": "stdout",
     "output_type": "stream",
     "text": [
      "tensor([[0.9987]], device='cuda:0', grad_fn=<SigmoidBackward>)\n",
      "Handnet forward time: 0.008127927780151367\n",
      "Handsegnet forward time: 0.0010175704956054688\n",
      "s shape torch.Size([1, 2, 224, 224])\n",
      "for loop time 0.0034818649291992188\n",
      "hand mask sum: 2434.0\n",
      "Calculate single highest scoring object time: 0.02998805046081543\n",
      "Crop and resize time: 0.0009677410125732422\n",
      "Posenet forward time: 0.002017974853515625\n",
      "Posepriornet forward time: 0.0007283687591552734\n",
      "Viewpoint forward time: 0.0009467601776123047\n",
      "Get normalized 3d coordinates time: 0.0006070137023925781\n",
      "Flip left handed input time: 0.00013589859008789062\n",
      "ScaLe heatmaps time 0.00010800361633300781\n",
      "Time for processing 1 frame: 0.04527688026428223s\n"
     ]
    },
    {
     "name": "stderr",
     "output_type": "stream",
     "text": [
      "\r",
      "509it [01:50,  4.19it/s]"
     ]
    },
    {
     "name": "stdout",
     "output_type": "stream",
     "text": [
      "tensor([[0.9986]], device='cuda:0', grad_fn=<SigmoidBackward>)\n",
      "Handnet forward time: 0.008129358291625977\n",
      "Handsegnet forward time: 0.0009636878967285156\n",
      "s shape torch.Size([1, 2, 224, 224])\n",
      "for loop time 0.004553794860839844\n",
      "hand mask sum: 2433.0\n",
      "Calculate single highest scoring object time: 0.03040766716003418\n",
      "Crop and resize time: 0.0009725093841552734\n",
      "Posenet forward time: 0.002000093460083008\n",
      "Posepriornet forward time: 0.0007455348968505859\n",
      "Viewpoint forward time: 0.0009758472442626953\n",
      "Get normalized 3d coordinates time: 0.0006244182586669922\n",
      "Flip left handed input time: 0.0001380443572998047\n",
      "ScaLe heatmaps time 0.00011801719665527344\n",
      "Time for processing 1 frame: 0.04568934440612793s\n"
     ]
    },
    {
     "name": "stderr",
     "output_type": "stream",
     "text": [
      "\r",
      "510it [01:50,  4.19it/s]"
     ]
    },
    {
     "name": "stdout",
     "output_type": "stream",
     "text": [
      "tensor([[0.9984]], device='cuda:0', grad_fn=<SigmoidBackward>)\n",
      "Handnet forward time: 0.008792877197265625\n",
      "Handsegnet forward time: 0.0013153553009033203\n",
      "s shape torch.Size([1, 2, 224, 224])\n",
      "for loop time 0.0031423568725585938\n",
      "hand mask sum: 2418.0\n",
      "Calculate single highest scoring object time: 0.030757904052734375\n",
      "Crop and resize time: 0.0009946823120117188\n",
      "Posenet forward time: 0.002063751220703125\n",
      "Posepriornet forward time: 0.0009431838989257812\n",
      "Viewpoint forward time: 0.0009911060333251953\n",
      "Get normalized 3d coordinates time: 0.0006160736083984375\n",
      "Flip left handed input time: 0.0001366138458251953\n",
      "ScaLe heatmaps time 3.1948089599609375e-05\n",
      "Time for processing 1 frame: 0.047129154205322266s\n"
     ]
    },
    {
     "name": "stderr",
     "output_type": "stream",
     "text": [
      "\r",
      "511it [01:50,  4.19it/s]"
     ]
    },
    {
     "name": "stdout",
     "output_type": "stream",
     "text": [
      "tensor([[0.9972]], device='cuda:0', grad_fn=<SigmoidBackward>)\n",
      "Handnet forward time: 0.00768280029296875\n",
      "Handsegnet forward time: 0.001110076904296875\n",
      "s shape torch.Size([1, 2, 224, 224])\n",
      "for loop time 0.003151416778564453\n",
      "hand mask sum: 2403.0\n",
      "Calculate single highest scoring object time: 0.03242373466491699\n",
      "Crop and resize time: 0.0010042190551757812\n",
      "Posenet forward time: 0.002169370651245117\n",
      "Posepriornet forward time: 0.0007677078247070312\n",
      "Viewpoint forward time: 0.0009746551513671875\n",
      "Get normalized 3d coordinates time: 0.0006346702575683594\n",
      "Flip left handed input time: 0.00014090538024902344\n",
      "ScaLe heatmaps time 0.00011134147644042969\n",
      "Time for processing 1 frame: 0.04772639274597168s\n"
     ]
    },
    {
     "name": "stderr",
     "output_type": "stream",
     "text": [
      "\r",
      "512it [01:50,  4.19it/s]"
     ]
    },
    {
     "name": "stdout",
     "output_type": "stream",
     "text": [
      "tensor([[0.9973]], device='cuda:0', grad_fn=<SigmoidBackward>)\n",
      "Handnet forward time: 0.009396791458129883\n",
      "Handsegnet forward time: 0.0010254383087158203\n",
      "s shape torch.Size([1, 2, 224, 224])\n",
      "for loop time 0.003838777542114258\n",
      "hand mask sum: 2304.0\n",
      "Calculate single highest scoring object time: 0.03043341636657715\n",
      "Crop and resize time: 0.0009801387786865234\n",
      "Posenet forward time: 0.0020499229431152344\n",
      "Posepriornet forward time: 0.0007443428039550781\n",
      "Viewpoint forward time: 0.0009589195251464844\n",
      "Get normalized 3d coordinates time: 0.0006160736083984375\n",
      "Flip left handed input time: 5.91278076171875e-05\n",
      "ScaLe heatmaps time 3.3855438232421875e-05\n",
      "Time for processing 1 frame: 0.046924591064453125s\n"
     ]
    },
    {
     "name": "stderr",
     "output_type": "stream",
     "text": [
      "\r",
      "513it [01:51,  4.19it/s]"
     ]
    },
    {
     "name": "stdout",
     "output_type": "stream",
     "text": [
      "tensor([[0.9989]], device='cuda:0', grad_fn=<SigmoidBackward>)\n",
      "Handnet forward time: 0.008581876754760742\n",
      "Handsegnet forward time: 0.0010821819305419922\n",
      "s shape torch.Size([1, 2, 224, 224])\n",
      "for loop time 0.003155946731567383\n",
      "hand mask sum: 2317.0\n",
      "Calculate single highest scoring object time: 0.030387163162231445\n",
      "Crop and resize time: 0.0010077953338623047\n",
      "Posenet forward time: 0.0021178722381591797\n",
      "Posepriornet forward time: 0.0007710456848144531\n",
      "Viewpoint forward time: 0.001016855239868164\n",
      "Get normalized 3d coordinates time: 0.00263214111328125\n",
      "Flip left handed input time: 0.0002498626708984375\n",
      "ScaLe heatmaps time 0.00011420249938964844\n",
      "Time for processing 1 frame: 0.048889875411987305s\n"
     ]
    },
    {
     "name": "stderr",
     "output_type": "stream",
     "text": [
      "\r",
      "514it [01:51,  4.18it/s]"
     ]
    },
    {
     "name": "stdout",
     "output_type": "stream",
     "text": [
      "tensor([[0.9993]], device='cuda:0', grad_fn=<SigmoidBackward>)\n",
      "Handnet forward time: 0.008152008056640625\n",
      "Handsegnet forward time: 0.001066446304321289\n",
      "s shape torch.Size([1, 2, 224, 224])\n",
      "for loop time 0.0041811466217041016\n",
      "hand mask sum: 2330.0\n",
      "Calculate single highest scoring object time: 0.03178071975708008\n",
      "Crop and resize time: 0.0010128021240234375\n",
      "Posenet forward time: 0.002046823501586914\n",
      "Posepriornet forward time: 0.0007948875427246094\n",
      "Viewpoint forward time: 0.0009644031524658203\n",
      "Get normalized 3d coordinates time: 0.0006272792816162109\n",
      "Flip left handed input time: 0.0001392364501953125\n",
      "ScaLe heatmaps time 0.00011086463928222656\n",
      "Time for processing 1 frame: 0.047342538833618164s\n"
     ]
    },
    {
     "name": "stderr",
     "output_type": "stream",
     "text": [
      "\r",
      "515it [01:51,  4.16it/s]"
     ]
    },
    {
     "name": "stdout",
     "output_type": "stream",
     "text": [
      "tensor([[1.0000]], device='cuda:0', grad_fn=<SigmoidBackward>)\n",
      "Handnet forward time: 0.008388280868530273\n",
      "Handsegnet forward time: 0.0010578632354736328\n",
      "s shape torch.Size([1, 2, 224, 224])\n",
      "for loop time 0.003122568130493164\n",
      "hand mask sum: 2371.0\n",
      "Calculate single highest scoring object time: 0.03238511085510254\n",
      "Crop and resize time: 0.0010001659393310547\n",
      "Posenet forward time: 0.0020952224731445312\n",
      "Posepriornet forward time: 0.0010042190551757812\n",
      "Viewpoint forward time: 0.0011913776397705078\n",
      "Get normalized 3d coordinates time: 0.0006532669067382812\n",
      "Flip left handed input time: 0.00010824203491210938\n",
      "ScaLe heatmaps time 8.511543273925781e-05\n",
      "Time for processing 1 frame: 0.04869842529296875s\n"
     ]
    },
    {
     "name": "stderr",
     "output_type": "stream",
     "text": [
      "\r",
      "516it [01:51,  4.17it/s]"
     ]
    },
    {
     "name": "stdout",
     "output_type": "stream",
     "text": [
      "tensor([[1.0000]], device='cuda:0', grad_fn=<SigmoidBackward>)\n",
      "Handnet forward time: 0.0077533721923828125\n",
      "Handsegnet forward time: 0.001280069351196289\n",
      "s shape torch.Size([1, 2, 224, 224])\n",
      "for loop time 0.0035097599029541016\n",
      "hand mask sum: 2430.0\n",
      "Calculate single highest scoring object time: 0.033045291900634766\n",
      "Crop and resize time: 0.001046895980834961\n",
      "Posenet forward time: 0.0020284652709960938\n",
      "Posepriornet forward time: 0.0007374286651611328\n",
      "Viewpoint forward time: 0.0009846687316894531\n",
      "Get normalized 3d coordinates time: 0.0006082057952880859\n",
      "Flip left handed input time: 0.00021004676818847656\n",
      "ScaLe heatmaps time 6.365776062011719e-05\n",
      "Time for processing 1 frame: 0.04831695556640625s\n"
     ]
    },
    {
     "name": "stderr",
     "output_type": "stream",
     "text": [
      "\r",
      "517it [01:52,  4.14it/s]"
     ]
    },
    {
     "name": "stdout",
     "output_type": "stream",
     "text": [
      "tensor([[1.0000]], device='cuda:0', grad_fn=<SigmoidBackward>)\n",
      "Handnet forward time: 0.0077342987060546875\n",
      "Handsegnet forward time: 0.0011019706726074219\n",
      "s shape torch.Size([1, 2, 224, 224])\n",
      "for loop time 0.0031328201293945312\n",
      "hand mask sum: 2467.0\n",
      "Calculate single highest scoring object time: 0.03292679786682129\n",
      "Crop and resize time: 0.0010631084442138672\n",
      "Posenet forward time: 0.0020771026611328125\n",
      "Posepriornet forward time: 0.0008530616760253906\n",
      "Viewpoint forward time: 0.0009644031524658203\n",
      "Get normalized 3d coordinates time: 0.0007464885711669922\n",
      "Flip left handed input time: 0.00017380714416503906\n",
      "ScaLe heatmaps time 0.00010919570922851562\n",
      "Time for processing 1 frame: 0.04861044883728027s\n"
     ]
    },
    {
     "name": "stderr",
     "output_type": "stream",
     "text": [
      "\r",
      "518it [01:52,  4.08it/s]"
     ]
    },
    {
     "name": "stdout",
     "output_type": "stream",
     "text": [
      "tensor([[1.0000]], device='cuda:0', grad_fn=<SigmoidBackward>)\n",
      "Handnet forward time: 0.0076138973236083984\n",
      "Handsegnet forward time: 0.001232147216796875\n",
      "s shape torch.Size([1, 2, 224, 224])\n",
      "for loop time 0.0031456947326660156\n",
      "hand mask sum: 2530.0\n",
      "Calculate single highest scoring object time: 0.03204798698425293\n",
      "Crop and resize time: 0.002022981643676758\n",
      "Posenet forward time: 0.0020856857299804688\n",
      "Posepriornet forward time: 0.0007569789886474609\n",
      "Viewpoint forward time: 0.000997304916381836\n",
      "Get normalized 3d coordinates time: 0.0006415843963623047\n",
      "Flip left handed input time: 0.00013780593872070312\n",
      "ScaLe heatmaps time 0.00010585784912109375\n",
      "Time for processing 1 frame: 0.04830646514892578s\n"
     ]
    },
    {
     "name": "stderr",
     "output_type": "stream",
     "text": [
      "\r",
      "519it [01:52,  4.12it/s]"
     ]
    },
    {
     "name": "stdout",
     "output_type": "stream",
     "text": [
      "tensor([[1.0000]], device='cuda:0', grad_fn=<SigmoidBackward>)\n",
      "Handnet forward time: 0.008315801620483398\n",
      "Handsegnet forward time: 0.0013382434844970703\n",
      "s shape torch.Size([1, 2, 224, 224])\n",
      "for loop time 0.005143880844116211\n",
      "hand mask sum: 2544.0\n",
      "Calculate single highest scoring object time: 0.033075571060180664\n",
      "Crop and resize time: 0.0010972023010253906\n",
      "Posenet forward time: 0.0022430419921875\n",
      "Posepriornet forward time: 0.0008413791656494141\n",
      "Viewpoint forward time: 0.0009975433349609375\n",
      "Get normalized 3d coordinates time: 0.0006573200225830078\n",
      "Flip left handed input time: 0.00014925003051757812\n",
      "ScaLe heatmaps time 0.0001068115234375\n",
      "Time for processing 1 frame: 0.04964399337768555s\n"
     ]
    },
    {
     "name": "stderr",
     "output_type": "stream",
     "text": [
      "\r",
      "520it [01:52,  4.06it/s]"
     ]
    },
    {
     "name": "stdout",
     "output_type": "stream",
     "text": [
      "tensor([[1.0000]], device='cuda:0', grad_fn=<SigmoidBackward>)\n",
      "Handnet forward time: 0.007611751556396484\n",
      "Handsegnet forward time: 0.0010106563568115234\n",
      "s shape torch.Size([1, 2, 224, 224])\n",
      "for loop time 0.003662586212158203\n",
      "hand mask sum: 2578.0\n",
      "Calculate single highest scoring object time: 0.031304121017456055\n",
      "Crop and resize time: 0.0009772777557373047\n",
      "Posenet forward time: 0.0019948482513427734\n",
      "Posepriornet forward time: 0.0007300376892089844\n",
      "Viewpoint forward time: 0.0009326934814453125\n",
      "Get normalized 3d coordinates time: 0.000606536865234375\n",
      "Flip left handed input time: 0.0001347064971923828\n",
      "ScaLe heatmaps time 0.00010776519775390625\n",
      "Time for processing 1 frame: 0.04604029655456543s\n"
     ]
    },
    {
     "name": "stderr",
     "output_type": "stream",
     "text": [
      "\r",
      "521it [01:53,  4.10it/s]"
     ]
    },
    {
     "name": "stdout",
     "output_type": "stream",
     "text": [
      "tensor([[1.0000]], device='cuda:0', grad_fn=<SigmoidBackward>)\n",
      "Handnet forward time: 0.00764918327331543\n",
      "Handsegnet forward time: 0.0010600090026855469\n",
      "s shape torch.Size([1, 2, 224, 224])\n",
      "for loop time 0.003128528594970703\n",
      "hand mask sum: 2631.0\n",
      "Calculate single highest scoring object time: 0.030932903289794922\n",
      "Crop and resize time: 0.0009636878967285156\n",
      "Posenet forward time: 0.002012968063354492\n",
      "Posepriornet forward time: 0.0007348060607910156\n",
      "Viewpoint forward time: 0.0009429454803466797\n",
      "Get normalized 3d coordinates time: 0.0006191730499267578\n",
      "Flip left handed input time: 5.841255187988281e-05\n",
      "ScaLe heatmaps time 3.266334533691406e-05\n",
      "Time for processing 1 frame: 0.04565119743347168s\n"
     ]
    },
    {
     "name": "stderr",
     "output_type": "stream",
     "text": [
      "\r",
      "522it [01:53,  4.12it/s]"
     ]
    },
    {
     "name": "stdout",
     "output_type": "stream",
     "text": [
      "tensor([[1.0000]], device='cuda:0', grad_fn=<SigmoidBackward>)\n",
      "Handnet forward time: 0.00864553451538086\n",
      "Handsegnet forward time: 0.0010836124420166016\n",
      "s shape torch.Size([1, 2, 224, 224])\n",
      "for loop time 0.0048220157623291016\n",
      "hand mask sum: 2686.0\n",
      "Calculate single highest scoring object time: 0.03363656997680664\n",
      "Crop and resize time: 0.0009613037109375\n",
      "Posenet forward time: 0.0020012855529785156\n",
      "Posepriornet forward time: 0.0007276535034179688\n",
      "Viewpoint forward time: 0.0009138584136962891\n",
      "Get normalized 3d coordinates time: 0.0006020069122314453\n",
      "Flip left handed input time: 0.0001361370086669922\n",
      "ScaLe heatmaps time 8.20159912109375e-05\n",
      "Time for processing 1 frame: 0.04945969581604004s\n"
     ]
    },
    {
     "name": "stderr",
     "output_type": "stream",
     "text": [
      "\r",
      "523it [01:53,  4.11it/s]"
     ]
    },
    {
     "name": "stdout",
     "output_type": "stream",
     "text": [
      "tensor([[0.9999]], device='cuda:0', grad_fn=<SigmoidBackward>)\n",
      "Handnet forward time: 0.007568359375\n",
      "Handsegnet forward time: 0.0009887218475341797\n",
      "s shape torch.Size([1, 2, 224, 224])\n",
      "for loop time 0.0031273365020751953\n",
      "hand mask sum: 2647.0\n",
      "Calculate single highest scoring object time: 0.03309750556945801\n",
      "Crop and resize time: 0.0009374618530273438\n",
      "Posenet forward time: 0.0020804405212402344\n",
      "Posepriornet forward time: 0.0007967948913574219\n",
      "Viewpoint forward time: 0.0009317398071289062\n",
      "Get normalized 3d coordinates time: 0.0006244182586669922\n",
      "Flip left handed input time: 0.00013589859008789062\n",
      "ScaLe heatmaps time 0.00010561943054199219\n",
      "Time for processing 1 frame: 0.04790091514587402s\n"
     ]
    },
    {
     "name": "stderr",
     "output_type": "stream",
     "text": [
      "\r",
      "524it [01:53,  4.11it/s]"
     ]
    },
    {
     "name": "stdout",
     "output_type": "stream",
     "text": [
      "tensor([[0.9999]], device='cuda:0', grad_fn=<SigmoidBackward>)\n",
      "Handnet forward time: 0.008973360061645508\n",
      "Handsegnet forward time: 0.0010478496551513672\n",
      "s shape torch.Size([1, 2, 224, 224])\n",
      "for loop time 0.003031015396118164\n",
      "hand mask sum: 2635.0\n",
      "Calculate single highest scoring object time: 0.0327916145324707\n",
      "Crop and resize time: 0.0009677410125732422\n",
      "Posenet forward time: 0.001993894577026367\n",
      "Posepriornet forward time: 0.0007340908050537109\n",
      "Viewpoint forward time: 0.0009438991546630859\n",
      "Get normalized 3d coordinates time: 0.0008018016815185547\n",
      "Flip left handed input time: 0.000141143798828125\n",
      "ScaLe heatmaps time 0.00011038780212402344\n",
      "Time for processing 1 frame: 0.04918956756591797s\n"
     ]
    },
    {
     "name": "stderr",
     "output_type": "stream",
     "text": [
      "\r",
      "525it [01:54,  4.11it/s]"
     ]
    },
    {
     "name": "stdout",
     "output_type": "stream",
     "text": [
      "tensor([[0.9993]], device='cuda:0', grad_fn=<SigmoidBackward>)\n",
      "Handnet forward time: 0.0077478885650634766\n",
      "Handsegnet forward time: 0.0011098384857177734\n",
      "s shape torch.Size([1, 2, 224, 224])\n",
      "for loop time 0.003409147262573242\n",
      "hand mask sum: 2618.0\n",
      "Calculate single highest scoring object time: 0.031491994857788086\n",
      "Crop and resize time: 0.0009715557098388672\n",
      "Posenet forward time: 0.0019958019256591797\n",
      "Posepriornet forward time: 0.0007519721984863281\n",
      "Viewpoint forward time: 0.0009343624114990234\n",
      "Get normalized 3d coordinates time: 0.0006256103515625\n",
      "Flip left handed input time: 0.0001342296600341797\n",
      "ScaLe heatmaps time 0.00011181831359863281\n",
      "Time for processing 1 frame: 0.04646944999694824s\n"
     ]
    },
    {
     "name": "stderr",
     "output_type": "stream",
     "text": [
      "\r",
      "526it [01:54,  4.13it/s]"
     ]
    },
    {
     "name": "stdout",
     "output_type": "stream",
     "text": [
      "tensor([[0.9998]], device='cuda:0', grad_fn=<SigmoidBackward>)\n",
      "Handnet forward time: 0.008077144622802734\n",
      "Handsegnet forward time: 0.0009899139404296875\n",
      "s shape torch.Size([1, 2, 224, 224])\n",
      "for loop time 0.004347562789916992\n",
      "hand mask sum: 2634.0\n",
      "Calculate single highest scoring object time: 0.030796289443969727\n",
      "Crop and resize time: 0.0010063648223876953\n",
      "Posenet forward time: 0.0019979476928710938\n",
      "Posepriornet forward time: 0.0007326602935791016\n",
      "Viewpoint forward time: 0.0009322166442871094\n",
      "Get normalized 3d coordinates time: 0.0006306171417236328\n",
      "Flip left handed input time: 0.00013709068298339844\n",
      "ScaLe heatmaps time 0.00010824203491210938\n",
      "Time for processing 1 frame: 0.046036720275878906s\n"
     ]
    },
    {
     "name": "stderr",
     "output_type": "stream",
     "text": [
      "\r",
      "527it [01:54,  4.13it/s]"
     ]
    },
    {
     "name": "stdout",
     "output_type": "stream",
     "text": [
      "tensor([[0.9999]], device='cuda:0', grad_fn=<SigmoidBackward>)\n",
      "Handnet forward time: 0.007710695266723633\n",
      "Handsegnet forward time: 0.0011239051818847656\n",
      "s shape torch.Size([1, 2, 224, 224])\n",
      "for loop time 0.0029876232147216797\n",
      "hand mask sum: 2661.0\n",
      "Calculate single highest scoring object time: 0.03066396713256836\n",
      "Crop and resize time: 0.001008749008178711\n",
      "Posenet forward time: 0.0019991397857666016\n",
      "Posepriornet forward time: 0.0007312297821044922\n",
      "Viewpoint forward time: 0.0009453296661376953\n",
      "Get normalized 3d coordinates time: 0.0006334781646728516\n",
      "Flip left handed input time: 0.00013828277587890625\n",
      "ScaLe heatmaps time 0.00010728836059570312\n",
      "Time for processing 1 frame: 0.04587817192077637s\n"
     ]
    },
    {
     "name": "stderr",
     "output_type": "stream",
     "text": [
      "\r",
      "528it [01:54,  4.13it/s]"
     ]
    },
    {
     "name": "stdout",
     "output_type": "stream",
     "text": [
      "tensor([[0.9999]], device='cuda:0', grad_fn=<SigmoidBackward>)\n",
      "Handnet forward time: 0.008717536926269531\n",
      "Handsegnet forward time: 0.0009729862213134766\n",
      "s shape torch.Size([1, 2, 224, 224])\n",
      "for loop time 0.0029859542846679688\n",
      "hand mask sum: 2681.0\n",
      "Calculate single highest scoring object time: 0.032065629959106445\n",
      "Crop and resize time: 0.000993967056274414\n",
      "Posenet forward time: 0.0019884109497070312\n",
      "Posepriornet forward time: 0.0007164478302001953\n",
      "Viewpoint forward time: 0.0009467601776123047\n",
      "Get normalized 3d coordinates time: 0.0006077289581298828\n",
      "Flip left handed input time: 5.650520324707031e-05\n",
      "ScaLe heatmaps time 3.4809112548828125e-05\n",
      "Time for processing 1 frame: 0.047731637954711914s\n"
     ]
    },
    {
     "name": "stderr",
     "output_type": "stream",
     "text": [
      "\r",
      "529it [01:55,  4.12it/s]"
     ]
    },
    {
     "name": "stdout",
     "output_type": "stream",
     "text": [
      "tensor([[0.9999]], device='cuda:0', grad_fn=<SigmoidBackward>)\n",
      "Handnet forward time: 0.008720159530639648\n",
      "Handsegnet forward time: 0.0010678768157958984\n",
      "s shape torch.Size([1, 2, 224, 224])\n",
      "for loop time 0.0040204524993896484\n",
      "hand mask sum: 2691.0\n",
      "Calculate single highest scoring object time: 0.03160834312438965\n",
      "Crop and resize time: 0.0009942054748535156\n",
      "Posenet forward time: 0.002251863479614258\n",
      "Posepriornet forward time: 0.0007598400115966797\n",
      "Viewpoint forward time: 0.0009257793426513672\n",
      "Get normalized 3d coordinates time: 0.0006241798400878906\n",
      "Flip left handed input time: 0.00013828277587890625\n",
      "ScaLe heatmaps time 0.00011301040649414062\n",
      "Time for processing 1 frame: 0.04775738716125488s\n"
     ]
    },
    {
     "name": "stderr",
     "output_type": "stream",
     "text": [
      "\r",
      "530it [01:55,  4.12it/s]"
     ]
    },
    {
     "name": "stdout",
     "output_type": "stream",
     "text": [
      "tensor([[1.0000]], device='cuda:0', grad_fn=<SigmoidBackward>)\n",
      "Handnet forward time: 0.007601499557495117\n",
      "Handsegnet forward time: 0.0009491443634033203\n",
      "s shape torch.Size([1, 2, 224, 224])\n",
      "for loop time 0.002993345260620117\n",
      "hand mask sum: 2708.0\n",
      "Calculate single highest scoring object time: 0.03215670585632324\n",
      "Crop and resize time: 0.0009734630584716797\n",
      "Posenet forward time: 0.0020294189453125\n",
      "Posepriornet forward time: 0.0007462501525878906\n",
      "Viewpoint forward time: 0.0009479522705078125\n",
      "Get normalized 3d coordinates time: 0.0006356239318847656\n",
      "Flip left handed input time: 0.00013637542724609375\n",
      "ScaLe heatmaps time 3.218650817871094e-05\n",
      "Time for processing 1 frame: 0.04684567451477051s\n"
     ]
    },
    {
     "name": "stderr",
     "output_type": "stream",
     "text": [
      "\r",
      "531it [01:55,  4.13it/s]"
     ]
    },
    {
     "name": "stdout",
     "output_type": "stream",
     "text": [
      "tensor([[1.0000]], device='cuda:0', grad_fn=<SigmoidBackward>)\n",
      "Handnet forward time: 0.008150577545166016\n",
      "Handsegnet forward time: 0.0010266304016113281\n",
      "s shape torch.Size([1, 2, 224, 224])\n",
      "for loop time 0.003203153610229492\n",
      "hand mask sum: 2735.0\n",
      "Calculate single highest scoring object time: 0.029084444046020508\n",
      "Crop and resize time: 0.0010156631469726562\n",
      "Posenet forward time: 0.0019555091857910156\n",
      "Posepriornet forward time: 0.0008070468902587891\n",
      "Viewpoint forward time: 0.0009624958038330078\n",
      "Get normalized 3d coordinates time: 0.00066375732421875\n",
      "Flip left handed input time: 0.00013566017150878906\n",
      "ScaLe heatmaps time 0.00010800361633300781\n",
      "Time for processing 1 frame: 0.04457688331604004s\n"
     ]
    },
    {
     "name": "stderr",
     "output_type": "stream",
     "text": [
      "\r",
      "532it [01:55,  4.16it/s]"
     ]
    },
    {
     "name": "stdout",
     "output_type": "stream",
     "text": [
      "tensor([[1.0000]], device='cuda:0', grad_fn=<SigmoidBackward>)\n",
      "Handnet forward time: 0.00799870491027832\n",
      "Handsegnet forward time: 0.0011181831359863281\n",
      "s shape torch.Size([1, 2, 224, 224])\n",
      "for loop time 0.003711700439453125\n",
      "hand mask sum: 2739.0\n",
      "Calculate single highest scoring object time: 0.029125213623046875\n",
      "Crop and resize time: 0.001322031021118164\n",
      "Posenet forward time: 0.001977682113647461\n",
      "Posepriornet forward time: 0.0007302761077880859\n",
      "Viewpoint forward time: 0.0009505748748779297\n",
      "Get normalized 3d coordinates time: 0.0006074905395507812\n",
      "Flip left handed input time: 0.00013899803161621094\n",
      "ScaLe heatmaps time 0.00011277198791503906\n",
      "Time for processing 1 frame: 0.044516801834106445s\n"
     ]
    },
    {
     "name": "stderr",
     "output_type": "stream",
     "text": [
      "\r",
      "533it [01:56,  4.20it/s]"
     ]
    },
    {
     "name": "stdout",
     "output_type": "stream",
     "text": [
      "tensor([[0.9999]], device='cuda:0', grad_fn=<SigmoidBackward>)\n",
      "Handnet forward time: 0.008411645889282227\n",
      "Handsegnet forward time: 0.001032114028930664\n",
      "s shape torch.Size([1, 2, 224, 224])\n",
      "for loop time 0.003504514694213867\n",
      "hand mask sum: 2753.0\n",
      "Calculate single highest scoring object time: 0.030065298080444336\n",
      "Crop and resize time: 0.0010373592376708984\n",
      "Posenet forward time: 0.0020885467529296875\n",
      "Posepriornet forward time: 0.0012569427490234375\n",
      "Viewpoint forward time: 0.0012629032135009766\n",
      "Get normalized 3d coordinates time: 0.0007014274597167969\n",
      "Flip left handed input time: 0.00015997886657714844\n",
      "ScaLe heatmaps time 0.00010442733764648438\n",
      "Time for processing 1 frame: 0.04699230194091797s\n"
     ]
    },
    {
     "name": "stderr",
     "output_type": "stream",
     "text": [
      "\r",
      "534it [01:56,  4.19it/s]"
     ]
    },
    {
     "name": "stdout",
     "output_type": "stream",
     "text": [
      "tensor([[0.9999]], device='cuda:0', grad_fn=<SigmoidBackward>)\n",
      "Handnet forward time: 0.007684469223022461\n",
      "Handsegnet forward time: 0.001043081283569336\n",
      "s shape torch.Size([1, 2, 224, 224])\n",
      "for loop time 0.003126859664916992\n",
      "hand mask sum: 2756.0\n",
      "Calculate single highest scoring object time: 0.03345513343811035\n",
      "Crop and resize time: 0.0009701251983642578\n",
      "Posenet forward time: 0.0020067691802978516\n",
      "Posepriornet forward time: 0.0007925033569335938\n",
      "Viewpoint forward time: 0.0009665489196777344\n",
      "Get normalized 3d coordinates time: 0.0006134510040283203\n",
      "Flip left handed input time: 0.00013828277587890625\n",
      "ScaLe heatmaps time 0.00010943412780761719\n",
      "Time for processing 1 frame: 0.04844164848327637s\n"
     ]
    },
    {
     "name": "stderr",
     "output_type": "stream",
     "text": [
      "\r",
      "535it [01:56,  4.10it/s]"
     ]
    },
    {
     "name": "stdout",
     "output_type": "stream",
     "text": [
      "tensor([[0.9999]], device='cuda:0', grad_fn=<SigmoidBackward>)\n",
      "Handnet forward time: 0.007732868194580078\n",
      "Handsegnet forward time: 0.0011138916015625\n",
      "s shape torch.Size([1, 2, 224, 224])\n",
      "for loop time 0.0038700103759765625\n",
      "hand mask sum: 2780.0\n",
      "Calculate single highest scoring object time: 0.03380393981933594\n",
      "Crop and resize time: 0.001811981201171875\n",
      "Posenet forward time: 0.002243518829345703\n",
      "Posepriornet forward time: 0.0007956027984619141\n",
      "Viewpoint forward time: 0.0009777545928955078\n",
      "Get normalized 3d coordinates time: 0.000667572021484375\n",
      "Flip left handed input time: 0.0001239776611328125\n",
      "ScaLe heatmaps time 3.4809112548828125e-05\n",
      "Time for processing 1 frame: 0.04995274543762207s\n"
     ]
    },
    {
     "name": "stderr",
     "output_type": "stream",
     "text": [
      "\r",
      "536it [01:56,  4.12it/s]"
     ]
    },
    {
     "name": "stdout",
     "output_type": "stream",
     "text": [
      "tensor([[0.9999]], device='cuda:0', grad_fn=<SigmoidBackward>)\n",
      "Handnet forward time: 0.007599830627441406\n",
      "Handsegnet forward time: 0.001104593276977539\n",
      "s shape torch.Size([1, 2, 224, 224])\n",
      "for loop time 0.0038461685180664062\n",
      "hand mask sum: 2800.0\n",
      "Calculate single highest scoring object time: 0.030236482620239258\n",
      "Crop and resize time: 0.0009684562683105469\n",
      "Posenet forward time: 0.001989126205444336\n",
      "Posepriornet forward time: 0.0007317066192626953\n",
      "Viewpoint forward time: 0.0009374618530273438\n",
      "Get normalized 3d coordinates time: 0.0006084442138671875\n",
      "Flip left handed input time: 0.0001373291015625\n",
      "ScaLe heatmaps time 0.00010895729064941406\n",
      "Time for processing 1 frame: 0.04486823081970215s\n"
     ]
    },
    {
     "name": "stderr",
     "output_type": "stream",
     "text": [
      "\r",
      "537it [01:57,  4.17it/s]"
     ]
    },
    {
     "name": "stdout",
     "output_type": "stream",
     "text": [
      "tensor([[0.9999]], device='cuda:0', grad_fn=<SigmoidBackward>)\n",
      "Handnet forward time: 0.009546756744384766\n",
      "Handsegnet forward time: 0.0010209083557128906\n",
      "s shape torch.Size([1, 2, 224, 224])\n",
      "for loop time 0.0031194686889648438\n",
      "hand mask sum: 2803.0\n",
      "Calculate single highest scoring object time: 0.031835317611694336\n",
      "Crop and resize time: 0.0009577274322509766\n",
      "Posenet forward time: 0.0019905567169189453\n",
      "Posepriornet forward time: 0.0007336139678955078\n",
      "Viewpoint forward time: 0.0009388923645019531\n",
      "Get normalized 3d coordinates time: 0.0006098747253417969\n",
      "Flip left handed input time: 0.0001380443572998047\n",
      "ScaLe heatmaps time 0.00011038780212402344\n",
      "Time for processing 1 frame: 0.04852104187011719s\n"
     ]
    },
    {
     "name": "stderr",
     "output_type": "stream",
     "text": [
      "\r",
      "538it [01:57,  4.16it/s]"
     ]
    },
    {
     "name": "stdout",
     "output_type": "stream",
     "text": [
      "tensor([[0.9999]], device='cuda:0', grad_fn=<SigmoidBackward>)\n",
      "Handnet forward time: 0.0077190399169921875\n",
      "Handsegnet forward time: 0.0010349750518798828\n",
      "s shape torch.Size([1, 2, 224, 224])\n",
      "for loop time 0.003215312957763672\n",
      "hand mask sum: 2758.0\n",
      "Calculate single highest scoring object time: 0.03209495544433594\n",
      "Crop and resize time: 0.0009737014770507812\n",
      "Posenet forward time: 0.0028235912322998047\n",
      "Posepriornet forward time: 0.0010647773742675781\n",
      "Viewpoint forward time: 0.0009281635284423828\n",
      "Get normalized 3d coordinates time: 0.0006227493286132812\n",
      "Flip left handed input time: 5.6743621826171875e-05\n",
      "ScaLe heatmaps time 3.337860107421875e-05\n",
      "Time for processing 1 frame: 0.04803133010864258s\n"
     ]
    },
    {
     "name": "stderr",
     "output_type": "stream",
     "text": [
      "\r",
      "539it [01:57,  4.11it/s]"
     ]
    },
    {
     "name": "stdout",
     "output_type": "stream",
     "text": [
      "tensor([[0.9998]], device='cuda:0', grad_fn=<SigmoidBackward>)\n",
      "Handnet forward time: 0.007604837417602539\n",
      "Handsegnet forward time: 0.0011866092681884766\n",
      "s shape torch.Size([1, 2, 224, 224])\n",
      "for loop time 0.0031473636627197266\n",
      "hand mask sum: 2746.0\n",
      "Calculate single highest scoring object time: 0.032088279724121094\n",
      "Crop and resize time: 0.0020377635955810547\n",
      "Posenet forward time: 0.001996278762817383\n",
      "Posepriornet forward time: 0.0010290145874023438\n",
      "Viewpoint forward time: 0.0009386539459228516\n",
      "Get normalized 3d coordinates time: 0.0006093978881835938\n",
      "Flip left handed input time: 0.00015115737915039062\n",
      "ScaLe heatmaps time 3.337860107421875e-05\n",
      "Time for processing 1 frame: 0.04831051826477051s\n"
     ]
    },
    {
     "name": "stderr",
     "output_type": "stream",
     "text": [
      "\r",
      "540it [01:57,  4.06it/s]"
     ]
    },
    {
     "name": "stdout",
     "output_type": "stream",
     "text": [
      "tensor([[0.9970]], device='cuda:0', grad_fn=<SigmoidBackward>)\n",
      "Handnet forward time: 0.008897781372070312\n",
      "Handsegnet forward time: 0.0011212825775146484\n",
      "s shape torch.Size([1, 2, 224, 224])\n",
      "for loop time 0.004739999771118164\n",
      "hand mask sum: 2595.0\n",
      "Calculate single highest scoring object time: 0.03243422508239746\n",
      "Crop and resize time: 0.0009732246398925781\n",
      "Posenet forward time: 0.001981496810913086\n",
      "Posepriornet forward time: 0.0007288455963134766\n",
      "Viewpoint forward time: 0.0009522438049316406\n",
      "Get normalized 3d coordinates time: 0.0006041526794433594\n",
      "Flip left handed input time: 5.7220458984375e-05\n",
      "ScaLe heatmaps time 3.314018249511719e-05\n",
      "Time for processing 1 frame: 0.04843735694885254s\n"
     ]
    },
    {
     "name": "stderr",
     "output_type": "stream",
     "text": [
      "\r",
      "541it [01:58,  4.06it/s]"
     ]
    },
    {
     "name": "stdout",
     "output_type": "stream",
     "text": [
      "tensor([[0.9908]], device='cuda:0', grad_fn=<SigmoidBackward>)\n",
      "Handnet forward time: 0.007645845413208008\n",
      "Handsegnet forward time: 0.001066446304321289\n",
      "s shape torch.Size([1, 2, 224, 224])\n",
      "for loop time 0.0031838417053222656\n",
      "hand mask sum: 2418.0\n",
      "Calculate single highest scoring object time: 0.032172203063964844\n",
      "Crop and resize time: 0.0009758472442626953\n",
      "Posenet forward time: 0.0020399093627929688\n",
      "Posepriornet forward time: 0.0007507801055908203\n",
      "Viewpoint forward time: 0.000946044921875\n",
      "Get normalized 3d coordinates time: 0.0006170272827148438\n",
      "Flip left handed input time: 0.00013637542724609375\n",
      "ScaLe heatmaps time 0.00011301040649414062\n",
      "Time for processing 1 frame: 0.04711031913757324s\n"
     ]
    },
    {
     "name": "stderr",
     "output_type": "stream",
     "text": [
      "\r",
      "542it [01:58,  4.02it/s]"
     ]
    },
    {
     "name": "stdout",
     "output_type": "stream",
     "text": [
      "tensor([[0.9713]], device='cuda:0', grad_fn=<SigmoidBackward>)\n",
      "Handnet forward time: 0.008756637573242188\n",
      "Handsegnet forward time: 0.0010385513305664062\n",
      "s shape torch.Size([1, 2, 224, 224])\n",
      "for loop time 0.0033690929412841797\n",
      "hand mask sum: 2294.0\n",
      "Calculate single highest scoring object time: 0.03000330924987793\n",
      "Crop and resize time: 0.0009639263153076172\n",
      "Posenet forward time: 0.0020072460174560547\n",
      "Posepriornet forward time: 0.0007386207580566406\n",
      "Viewpoint forward time: 0.0009472370147705078\n",
      "Get normalized 3d coordinates time: 0.0006098747253417969\n",
      "Flip left handed input time: 0.00014019012451171875\n",
      "ScaLe heatmaps time 0.00011134147644042969\n",
      "Time for processing 1 frame: 0.045964717864990234s\n"
     ]
    },
    {
     "name": "stderr",
     "output_type": "stream",
     "text": [
      "\r",
      "543it [01:58,  4.10it/s]"
     ]
    },
    {
     "name": "stdout",
     "output_type": "stream",
     "text": [
      "tensor([[0.9711]], device='cuda:0', grad_fn=<SigmoidBackward>)\n",
      "Handnet forward time: 0.008386850357055664\n",
      "Handsegnet forward time: 0.0010900497436523438\n",
      "s shape torch.Size([1, 2, 224, 224])\n",
      "for loop time 0.0030829906463623047\n",
      "hand mask sum: 2118.0\n",
      "Calculate single highest scoring object time: 0.02945089340209961\n",
      "Crop and resize time: 0.0009732246398925781\n",
      "Posenet forward time: 0.0020034313201904297\n",
      "Posepriornet forward time: 0.0007498264312744141\n",
      "Viewpoint forward time: 0.0009307861328125\n",
      "Get normalized 3d coordinates time: 0.0006275177001953125\n",
      "Flip left handed input time: 5.745887756347656e-05\n",
      "ScaLe heatmaps time 3.361701965332031e-05\n",
      "Time for processing 1 frame: 0.0449526309967041s\n"
     ]
    },
    {
     "name": "stderr",
     "output_type": "stream",
     "text": [
      "\r",
      "544it [01:58,  4.13it/s]"
     ]
    },
    {
     "name": "stdout",
     "output_type": "stream",
     "text": [
      "tensor([[0.9630]], device='cuda:0', grad_fn=<SigmoidBackward>)\n",
      "Handnet forward time: 0.008861780166625977\n",
      "Handsegnet forward time: 0.001032114028930664\n",
      "s shape torch.Size([1, 2, 224, 224])\n",
      "for loop time 0.0031316280364990234\n",
      "hand mask sum: 2058.0\n",
      "Calculate single highest scoring object time: 0.031720876693725586\n",
      "Crop and resize time: 0.0009598731994628906\n",
      "Posenet forward time: 0.002012968063354492\n",
      "Posepriornet forward time: 0.0007243156433105469\n",
      "Viewpoint forward time: 0.0009348392486572266\n",
      "Get normalized 3d coordinates time: 0.0005979537963867188\n",
      "Flip left handed input time: 0.00017118453979492188\n",
      "ScaLe heatmaps time 0.000102996826171875\n",
      "Time for processing 1 frame: 0.047733306884765625s\n"
     ]
    },
    {
     "name": "stderr",
     "output_type": "stream",
     "text": [
      "\r",
      "545it [01:58,  4.11it/s]"
     ]
    },
    {
     "name": "stdout",
     "output_type": "stream",
     "text": [
      "tensor([[0.8878]], device='cuda:0', grad_fn=<SigmoidBackward>)\n",
      "Handnet forward time: 0.010175228118896484\n",
      "Handsegnet forward time: 0.0010886192321777344\n",
      "s shape torch.Size([1, 2, 224, 224])\n",
      "for loop time 0.0031147003173828125\n",
      "hand mask sum: 1968.0\n",
      "Calculate single highest scoring object time: 0.03216290473937988\n",
      "Crop and resize time: 0.0010187625885009766\n",
      "Posenet forward time: 0.0022783279418945312\n",
      "Posepriornet forward time: 0.0009248256683349609\n",
      "Viewpoint forward time: 0.00107574462890625\n",
      "Get normalized 3d coordinates time: 0.0007665157318115234\n",
      "Flip left handed input time: 0.00019240379333496094\n",
      "ScaLe heatmaps time 0.00013113021850585938\n",
      "Time for processing 1 frame: 0.05059456825256348s\n"
     ]
    },
    {
     "name": "stderr",
     "output_type": "stream",
     "text": [
      "\r",
      "546it [01:59,  4.09it/s]"
     ]
    },
    {
     "name": "stdout",
     "output_type": "stream",
     "text": [
      "tensor([[0.9045]], device='cuda:0', grad_fn=<SigmoidBackward>)\n",
      "Handnet forward time: 0.007661342620849609\n",
      "Handsegnet forward time: 0.0010974407196044922\n",
      "s shape torch.Size([1, 2, 224, 224])\n",
      "for loop time 0.003439664840698242\n",
      "hand mask sum: 1924.0\n",
      "Calculate single highest scoring object time: 0.03260540962219238\n",
      "Crop and resize time: 0.000980377197265625\n",
      "Posenet forward time: 0.002011537551879883\n",
      "Posepriornet forward time: 0.0007379055023193359\n",
      "Viewpoint forward time: 0.0009613037109375\n",
      "Get normalized 3d coordinates time: 0.0006155967712402344\n",
      "Flip left handed input time: 0.00013566017150878906\n",
      "ScaLe heatmaps time 0.00010967254638671875\n",
      "Time for processing 1 frame: 0.0475766658782959s\n"
     ]
    },
    {
     "name": "stderr",
     "output_type": "stream",
     "text": [
      "\r",
      "547it [01:59,  4.12it/s]"
     ]
    },
    {
     "name": "stdout",
     "output_type": "stream",
     "text": [
      "tensor([[0.8621]], device='cuda:0', grad_fn=<SigmoidBackward>)\n",
      "Handnet forward time: 0.008151054382324219\n",
      "Handsegnet forward time: 0.0011701583862304688\n",
      "s shape torch.Size([1, 2, 224, 224])\n",
      "for loop time 0.003744363784790039\n",
      "hand mask sum: 1891.0\n",
      "Calculate single highest scoring object time: 0.03265213966369629\n",
      "Crop and resize time: 0.0009744167327880859\n",
      "Posenet forward time: 0.0020210742950439453\n",
      "Posepriornet forward time: 0.0007522106170654297\n",
      "Viewpoint forward time: 0.0009582042694091797\n",
      "Get normalized 3d coordinates time: 0.0006115436553955078\n",
      "Flip left handed input time: 0.00014710426330566406\n",
      "ScaLe heatmaps time 0.00011014938354492188\n",
      "Time for processing 1 frame: 0.04820084571838379s\n"
     ]
    },
    {
     "name": "stderr",
     "output_type": "stream",
     "text": [
      "\r",
      "548it [01:59,  4.13it/s]"
     ]
    },
    {
     "name": "stdout",
     "output_type": "stream",
     "text": [
      "tensor([[0.8588]], device='cuda:0', grad_fn=<SigmoidBackward>)\n",
      "Handnet forward time: 0.007662534713745117\n",
      "Handsegnet forward time: 0.0010464191436767578\n",
      "s shape torch.Size([1, 2, 224, 224])\n",
      "for loop time 0.003120899200439453\n",
      "hand mask sum: 1866.0\n",
      "Calculate single highest scoring object time: 0.03277468681335449\n",
      "Crop and resize time: 0.0009613037109375\n",
      "Posenet forward time: 0.002032756805419922\n",
      "Posepriornet forward time: 0.0007436275482177734\n",
      "Viewpoint forward time: 0.0009548664093017578\n",
      "Get normalized 3d coordinates time: 0.0006139278411865234\n",
      "Flip left handed input time: 0.00013566017150878906\n",
      "ScaLe heatmaps time 7.843971252441406e-05\n",
      "Time for processing 1 frame: 0.047667741775512695s\n"
     ]
    },
    {
     "name": "stderr",
     "output_type": "stream",
     "text": [
      "\r",
      "549it [01:59,  4.13it/s]"
     ]
    },
    {
     "name": "stdout",
     "output_type": "stream",
     "text": [
      "tensor([[0.8846]], device='cuda:0', grad_fn=<SigmoidBackward>)\n",
      "Handnet forward time: 0.00924062728881836\n",
      "Handsegnet forward time: 0.0011887550354003906\n",
      "s shape torch.Size([1, 2, 224, 224])\n",
      "for loop time 0.004307746887207031\n",
      "hand mask sum: 1823.0\n",
      "Calculate single highest scoring object time: 0.033445119857788086\n",
      "Crop and resize time: 0.0009517669677734375\n",
      "Posenet forward time: 0.0020012855529785156\n",
      "Posepriornet forward time: 0.0007543563842773438\n",
      "Viewpoint forward time: 0.0009531974792480469\n",
      "Get normalized 3d coordinates time: 0.0006818771362304688\n",
      "Flip left handed input time: 0.00014019012451171875\n",
      "ScaLe heatmaps time 0.00011181831359863281\n",
      "Time for processing 1 frame: 0.05006265640258789s\n"
     ]
    },
    {
     "name": "stderr",
     "output_type": "stream",
     "text": [
      "\r",
      "550it [02:00,  4.14it/s]"
     ]
    },
    {
     "name": "stdout",
     "output_type": "stream",
     "text": [
      "tensor([[0.8626]], device='cuda:0', grad_fn=<SigmoidBackward>)\n",
      "Handnet forward time: 0.007682323455810547\n",
      "Handsegnet forward time: 0.0010592937469482422\n",
      "s shape torch.Size([1, 2, 224, 224])\n",
      "for loop time 0.0031197071075439453\n",
      "hand mask sum: 1808.0\n",
      "Calculate single highest scoring object time: 0.032897233963012695\n",
      "Crop and resize time: 0.0009627342224121094\n",
      "Posenet forward time: 0.0020599365234375\n",
      "Posepriornet forward time: 0.0007431507110595703\n",
      "Viewpoint forward time: 0.0009691715240478516\n",
      "Get normalized 3d coordinates time: 0.0006444454193115234\n",
      "Flip left handed input time: 0.0001552104949951172\n",
      "ScaLe heatmaps time 0.0001246929168701172\n",
      "Time for processing 1 frame: 0.04798531532287598s\n"
     ]
    },
    {
     "name": "stderr",
     "output_type": "stream",
     "text": [
      "\r",
      "551it [02:00,  4.13it/s]"
     ]
    },
    {
     "name": "stdout",
     "output_type": "stream",
     "text": [
      "tensor([[0.8942]], device='cuda:0', grad_fn=<SigmoidBackward>)\n",
      "Handnet forward time: 0.009385108947753906\n",
      "Handsegnet forward time: 0.0010411739349365234\n",
      "s shape torch.Size([1, 2, 224, 224])\n",
      "for loop time 0.004088878631591797\n",
      "hand mask sum: 1786.0\n",
      "Calculate single highest scoring object time: 0.033309221267700195\n",
      "Crop and resize time: 0.0009796619415283203\n",
      "Posenet forward time: 0.0020074844360351562\n",
      "Posepriornet forward time: 0.0007402896881103516\n",
      "Viewpoint forward time: 0.0009496212005615234\n",
      "Get normalized 3d coordinates time: 0.0006086826324462891\n",
      "Flip left handed input time: 0.0001342296600341797\n",
      "ScaLe heatmaps time 0.00011110305786132812\n",
      "Time for processing 1 frame: 0.04989814758300781s\n"
     ]
    },
    {
     "name": "stderr",
     "output_type": "stream",
     "text": [
      "\r",
      "552it [02:00,  4.14it/s]"
     ]
    },
    {
     "name": "stdout",
     "output_type": "stream",
     "text": [
      "tensor([[0.8385]], device='cuda:0', grad_fn=<SigmoidBackward>)\n",
      "Handnet forward time: 0.0077059268951416016\n",
      "Handsegnet forward time: 0.0010380744934082031\n",
      "s shape torch.Size([1, 2, 224, 224])\n",
      "for loop time 0.0031158924102783203\n",
      "hand mask sum: 1757.0\n",
      "Calculate single highest scoring object time: 0.031241655349731445\n",
      "Crop and resize time: 0.0009620189666748047\n",
      "Posenet forward time: 0.0020186901092529297\n",
      "Posepriornet forward time: 0.0007426738739013672\n",
      "Viewpoint forward time: 0.0009515285491943359\n",
      "Get normalized 3d coordinates time: 0.0006210803985595703\n",
      "Flip left handed input time: 0.00013709068298339844\n",
      "ScaLe heatmaps time 0.000110626220703125\n",
      "Time for processing 1 frame: 0.04618525505065918s\n"
     ]
    },
    {
     "name": "stderr",
     "output_type": "stream",
     "text": [
      "\r",
      "553it [02:00,  4.16it/s]"
     ]
    },
    {
     "name": "stdout",
     "output_type": "stream",
     "text": [
      "tensor([[0.8606]], device='cuda:0', grad_fn=<SigmoidBackward>)\n",
      "Handnet forward time: 0.0076258182525634766\n",
      "Handsegnet forward time: 0.001046895980834961\n",
      "s shape torch.Size([1, 2, 224, 224])\n",
      "for loop time 0.0058841705322265625\n",
      "hand mask sum: 1741.0\n",
      "Calculate single highest scoring object time: 0.03620171546936035\n",
      "Crop and resize time: 0.000980377197265625\n",
      "Posenet forward time: 0.0020411014556884766\n",
      "Posepriornet forward time: 0.0007171630859375\n",
      "Viewpoint forward time: 0.0009407997131347656\n",
      "Get normalized 3d coordinates time: 0.0005831718444824219\n",
      "Flip left handed input time: 0.00010728836059570312\n",
      "ScaLe heatmaps time 7.62939453125e-05\n",
      "Time for processing 1 frame: 0.050983428955078125s\n"
     ]
    },
    {
     "name": "stderr",
     "output_type": "stream",
     "text": [
      "\r",
      "554it [02:01,  4.12it/s]"
     ]
    },
    {
     "name": "stdout",
     "output_type": "stream",
     "text": [
      "tensor([[0.9265]], device='cuda:0', grad_fn=<SigmoidBackward>)\n",
      "Handnet forward time: 0.007565975189208984\n",
      "Handsegnet forward time: 0.0009875297546386719\n",
      "s shape torch.Size([1, 2, 224, 224])\n",
      "for loop time 0.0031371116638183594\n",
      "hand mask sum: 1714.0\n",
      "Calculate single highest scoring object time: 0.03256559371948242\n",
      "Crop and resize time: 0.0009734630584716797\n",
      "Posenet forward time: 0.0020487308502197266\n",
      "Posepriornet forward time: 0.0007488727569580078\n",
      "Viewpoint forward time: 0.0009741783142089844\n",
      "Get normalized 3d coordinates time: 0.0006182193756103516\n",
      "Flip left handed input time: 0.0001361370086669922\n",
      "ScaLe heatmaps time 3.218650817871094e-05\n",
      "Time for processing 1 frame: 0.047261953353881836s\n"
     ]
    },
    {
     "name": "stderr",
     "output_type": "stream",
     "text": [
      "\r",
      "555it [02:01,  4.12it/s]"
     ]
    },
    {
     "name": "stdout",
     "output_type": "stream",
     "text": [
      "tensor([[0.9178]], device='cuda:0', grad_fn=<SigmoidBackward>)\n",
      "Handnet forward time: 0.008131742477416992\n",
      "Handsegnet forward time: 0.0010290145874023438\n",
      "s shape torch.Size([1, 2, 224, 224])\n",
      "for loop time 0.003767728805541992\n",
      "hand mask sum: 1693.0\n",
      "Calculate single highest scoring object time: 0.03268313407897949\n",
      "Crop and resize time: 0.0009675025939941406\n",
      "Posenet forward time: 0.002069234848022461\n",
      "Posepriornet forward time: 0.0007643699645996094\n",
      "Viewpoint forward time: 0.0009658336639404297\n",
      "Get normalized 3d coordinates time: 0.0006265640258789062\n",
      "Flip left handed input time: 0.0001423358917236328\n",
      "ScaLe heatmaps time 0.00011014938354492188\n",
      "Time for processing 1 frame: 0.04812455177307129s\n"
     ]
    },
    {
     "name": "stderr",
     "output_type": "stream",
     "text": [
      "\r",
      "556it [02:01,  4.10it/s]"
     ]
    },
    {
     "name": "stdout",
     "output_type": "stream",
     "text": [
      "tensor([[0.8714]], device='cuda:0', grad_fn=<SigmoidBackward>)\n",
      "Handnet forward time: 0.009322404861450195\n",
      "Handsegnet forward time: 0.001125335693359375\n",
      "s shape torch.Size([1, 2, 224, 224])\n",
      "for loop time 0.003893613815307617\n",
      "hand mask sum: 1669.0\n",
      "Calculate single highest scoring object time: 0.03221940994262695\n",
      "Crop and resize time: 0.0009748935699462891\n",
      "Posenet forward time: 0.0020356178283691406\n",
      "Posepriornet forward time: 0.0007510185241699219\n",
      "Viewpoint forward time: 0.0009343624114990234\n",
      "Get normalized 3d coordinates time: 0.0006177425384521484\n",
      "Flip left handed input time: 0.00013875961303710938\n",
      "ScaLe heatmaps time 0.00010991096496582031\n",
      "Time for processing 1 frame: 0.0488896369934082s\n"
     ]
    },
    {
     "name": "stderr",
     "output_type": "stream",
     "text": [
      "\r",
      "557it [02:01,  4.09it/s]"
     ]
    },
    {
     "name": "stdout",
     "output_type": "stream",
     "text": [
      "tensor([[0.8532]], device='cuda:0', grad_fn=<SigmoidBackward>)\n",
      "Handnet forward time: 0.007695913314819336\n",
      "Handsegnet forward time: 0.0010852813720703125\n",
      "s shape torch.Size([1, 2, 224, 224])\n",
      "for loop time 0.0032854080200195312\n",
      "hand mask sum: 1664.0\n",
      "Calculate single highest scoring object time: 0.03236889839172363\n",
      "Crop and resize time: 0.001711130142211914\n",
      "Posenet forward time: 0.0023179054260253906\n",
      "Posepriornet forward time: 0.0007824897766113281\n",
      "Viewpoint forward time: 0.0009405612945556641\n",
      "Get normalized 3d coordinates time: 0.0006251335144042969\n",
      "Flip left handed input time: 5.91278076171875e-05\n",
      "ScaLe heatmaps time 3.337860107421875e-05\n",
      "Time for processing 1 frame: 0.048427581787109375s\n"
     ]
    },
    {
     "name": "stderr",
     "output_type": "stream",
     "text": [
      "\r",
      "558it [02:02,  4.06it/s]"
     ]
    },
    {
     "name": "stdout",
     "output_type": "stream",
     "text": [
      "tensor([[0.7919]], device='cuda:0', grad_fn=<SigmoidBackward>)\n",
      "Handnet forward time: 0.007882118225097656\n",
      "Handsegnet forward time: 0.0018029212951660156\n",
      "s shape torch.Size([1, 2, 224, 224])\n",
      "for loop time 0.0041582584381103516\n",
      "hand mask sum: 1664.0\n",
      "Calculate single highest scoring object time: 0.0333859920501709\n",
      "Crop and resize time: 0.001669168472290039\n",
      "Posenet forward time: 0.0031037330627441406\n",
      "Posepriornet forward time: 0.0008299350738525391\n",
      "Viewpoint forward time: 0.0009703636169433594\n",
      "Get normalized 3d coordinates time: 0.0006365776062011719\n",
      "Flip left handed input time: 0.0001373291015625\n",
      "ScaLe heatmaps time 0.00010776519775390625\n",
      "Time for processing 1 frame: 0.05155014991760254s\n"
     ]
    },
    {
     "name": "stderr",
     "output_type": "stream",
     "text": [
      "\r",
      "559it [02:02,  4.00it/s]"
     ]
    },
    {
     "name": "stdout",
     "output_type": "stream",
     "text": [
      "tensor([[0.7919]], device='cuda:0', grad_fn=<SigmoidBackward>)\n",
      "Handnet forward time: 0.008659601211547852\n",
      "Handsegnet forward time: 0.0010840892791748047\n",
      "s shape torch.Size([1, 2, 224, 224])\n",
      "for loop time 0.003104686737060547\n",
      "hand mask sum: 1654.0\n",
      "Calculate single highest scoring object time: 0.03072953224182129\n",
      "Crop and resize time: 0.0009853839874267578\n",
      "Posenet forward time: 0.0020215511322021484\n",
      "Posepriornet forward time: 0.0007469654083251953\n",
      "Viewpoint forward time: 0.000957489013671875\n",
      "Get normalized 3d coordinates time: 0.0006229877471923828\n",
      "Flip left handed input time: 0.00013875961303710938\n",
      "ScaLe heatmaps time 0.00010991096496582031\n",
      "Time for processing 1 frame: 0.04664492607116699s\n"
     ]
    },
    {
     "name": "stderr",
     "output_type": "stream",
     "text": [
      "\r",
      "560it [02:02,  4.08it/s]"
     ]
    },
    {
     "name": "stdout",
     "output_type": "stream",
     "text": [
      "tensor([[0.7776]], device='cuda:0', grad_fn=<SigmoidBackward>)\n",
      "Handnet forward time: 0.008920907974243164\n",
      "Handsegnet forward time: 0.0010900497436523438\n",
      "s shape torch.Size([1, 2, 224, 224])\n",
      "for loop time 0.0031130313873291016\n",
      "hand mask sum: 1647.0\n",
      "Calculate single highest scoring object time: 0.0318608283996582\n",
      "Crop and resize time: 0.0009655952453613281\n",
      "Posenet forward time: 0.002016305923461914\n",
      "Posepriornet forward time: 0.0007386207580566406\n",
      "Viewpoint forward time: 0.0009591579437255859\n",
      "Get normalized 3d coordinates time: 0.0006113052368164062\n",
      "Flip left handed input time: 0.0001385211944580078\n",
      "ScaLe heatmaps time 0.00010943412780761719\n",
      "Time for processing 1 frame: 0.047858476638793945s\n"
     ]
    },
    {
     "name": "stderr",
     "output_type": "stream",
     "text": [
      "\r",
      "561it [02:02,  4.08it/s]"
     ]
    },
    {
     "name": "stdout",
     "output_type": "stream",
     "text": [
      "tensor([[0.7220]], device='cuda:0', grad_fn=<SigmoidBackward>)\n",
      "Handnet forward time: 0.009350299835205078\n",
      "Handsegnet forward time: 0.001065969467163086\n",
      "s shape torch.Size([1, 2, 224, 224])\n",
      "for loop time 0.0038204193115234375\n",
      "hand mask sum: 1640.0\n",
      "Calculate single highest scoring object time: 0.03300833702087402\n",
      "Crop and resize time: 0.0009701251983642578\n",
      "Posenet forward time: 0.002056121826171875\n",
      "Posepriornet forward time: 0.0007355213165283203\n",
      "Viewpoint forward time: 0.0009453296661376953\n",
      "Get normalized 3d coordinates time: 0.0006213188171386719\n",
      "Flip left handed input time: 0.00013518333435058594\n",
      "ScaLe heatmaps time 0.000110626220703125\n",
      "Time for processing 1 frame: 0.04964756965637207s\n"
     ]
    },
    {
     "name": "stderr",
     "output_type": "stream",
     "text": [
      "\r",
      "562it [02:03,  4.09it/s]"
     ]
    },
    {
     "name": "stdout",
     "output_type": "stream",
     "text": [
      "tensor([[0.7911]], device='cuda:0', grad_fn=<SigmoidBackward>)\n",
      "Handnet forward time: 0.007688760757446289\n",
      "Handsegnet forward time: 0.001073598861694336\n",
      "s shape torch.Size([1, 2, 224, 224])\n",
      "for loop time 0.0031652450561523438\n",
      "hand mask sum: 1641.0\n",
      "Calculate single highest scoring object time: 0.03325533866882324\n",
      "Crop and resize time: 0.0009634494781494141\n",
      "Posenet forward time: 0.0020360946655273438\n",
      "Posepriornet forward time: 0.0009288787841796875\n",
      "Viewpoint forward time: 0.0009779930114746094\n",
      "Get normalized 3d coordinates time: 0.0006544589996337891\n",
      "Flip left handed input time: 0.0001385211944580078\n",
      "ScaLe heatmaps time 0.00010776519775390625\n",
      "Time for processing 1 frame: 0.04860711097717285s\n"
     ]
    },
    {
     "name": "stderr",
     "output_type": "stream",
     "text": [
      "\r",
      "563it [02:03,  4.08it/s]"
     ]
    },
    {
     "name": "stdout",
     "output_type": "stream",
     "text": [
      "tensor([[0.7896]], device='cuda:0', grad_fn=<SigmoidBackward>)\n",
      "Handnet forward time: 0.008640527725219727\n",
      "Handsegnet forward time: 0.0009636878967285156\n",
      "s shape torch.Size([1, 2, 224, 224])\n",
      "for loop time 0.0029990673065185547\n",
      "hand mask sum: 1637.0\n",
      "Calculate single highest scoring object time: 0.032741546630859375\n",
      "Crop and resize time: 0.0009944438934326172\n",
      "Posenet forward time: 0.0020406246185302734\n",
      "Posepriornet forward time: 0.0009038448333740234\n",
      "Viewpoint forward time: 0.0009479522705078125\n",
      "Get normalized 3d coordinates time: 0.001249074935913086\n",
      "Flip left handed input time: 0.0001316070556640625\n",
      "ScaLe heatmaps time 0.00018095970153808594\n",
      "Time for processing 1 frame: 0.04953455924987793s\n"
     ]
    },
    {
     "name": "stderr",
     "output_type": "stream",
     "text": [
      "\r",
      "564it [02:03,  4.09it/s]"
     ]
    },
    {
     "name": "stdout",
     "output_type": "stream",
     "text": [
      "tensor([[0.8038]], device='cuda:0', grad_fn=<SigmoidBackward>)\n",
      "Handnet forward time: 0.009345293045043945\n",
      "Handsegnet forward time: 0.0012125968933105469\n",
      "s shape torch.Size([1, 2, 224, 224])\n",
      "for loop time 0.003087759017944336\n",
      "hand mask sum: 1627.0\n",
      "Calculate single highest scoring object time: 0.031385183334350586\n",
      "Crop and resize time: 0.0009524822235107422\n",
      "Posenet forward time: 0.002003908157348633\n",
      "Posepriornet forward time: 0.0007374286651611328\n",
      "Viewpoint forward time: 0.0009489059448242188\n",
      "Get normalized 3d coordinates time: 0.0006117820739746094\n",
      "Flip left handed input time: 0.0001392364501953125\n",
      "ScaLe heatmaps time 8.535385131835938e-05\n",
      "Time for processing 1 frame: 0.0480961799621582s\n"
     ]
    },
    {
     "name": "stderr",
     "output_type": "stream",
     "text": [
      "\r",
      "565it [02:03,  4.12it/s]"
     ]
    },
    {
     "name": "stdout",
     "output_type": "stream",
     "text": [
      "tensor([[0.7337]], device='cuda:0', grad_fn=<SigmoidBackward>)\n",
      "Handnet forward time: 0.008638143539428711\n",
      "Handsegnet forward time: 0.0010542869567871094\n",
      "s shape torch.Size([1, 2, 224, 224])\n",
      "for loop time 0.0031042098999023438\n",
      "hand mask sum: 1633.0\n",
      "Calculate single highest scoring object time: 0.03031754493713379\n",
      "Crop and resize time: 0.0009558200836181641\n",
      "Posenet forward time: 0.0019989013671875\n",
      "Posepriornet forward time: 0.0007357597351074219\n",
      "Viewpoint forward time: 0.0009500980377197266\n",
      "Get normalized 3d coordinates time: 0.0006155967712402344\n",
      "Flip left handed input time: 0.0001361370086669922\n",
      "ScaLe heatmaps time 0.00010848045349121094\n",
      "Time for processing 1 frame: 0.04614853858947754s\n"
     ]
    },
    {
     "name": "stderr",
     "output_type": "stream",
     "text": [
      "\r",
      "566it [02:04,  4.18it/s]"
     ]
    },
    {
     "name": "stdout",
     "output_type": "stream",
     "text": [
      "tensor([[0.6918]], device='cuda:0', grad_fn=<SigmoidBackward>)\n",
      "Handnet forward time: 0.009340286254882812\n",
      "Handsegnet forward time: 0.0010235309600830078\n",
      "s shape torch.Size([1, 2, 224, 224])\n",
      "for loop time 0.0035028457641601562\n",
      "hand mask sum: 1611.0\n",
      "Calculate single highest scoring object time: 0.029841899871826172\n",
      "Crop and resize time: 0.00095367431640625\n",
      "Posenet forward time: 0.0019817352294921875\n",
      "Posepriornet forward time: 0.0007393360137939453\n",
      "Viewpoint forward time: 0.0009427070617675781\n",
      "Get normalized 3d coordinates time: 0.0006182193756103516\n",
      "Flip left handed input time: 0.00013399124145507812\n",
      "ScaLe heatmaps time 0.00010776519775390625\n",
      "Time for processing 1 frame: 0.04635143280029297s\n"
     ]
    },
    {
     "name": "stderr",
     "output_type": "stream",
     "text": [
      "\r",
      "567it [02:04,  4.18it/s]"
     ]
    },
    {
     "name": "stdout",
     "output_type": "stream",
     "text": [
      "tensor([[0.6588]], device='cuda:0', grad_fn=<SigmoidBackward>)\n",
      "Handnet forward time: 0.0076601505279541016\n",
      "Handsegnet forward time: 0.0011088848114013672\n",
      "s shape torch.Size([1, 2, 224, 224])\n",
      "for loop time 0.003099679946899414\n",
      "hand mask sum: 1611.0\n",
      "Calculate single highest scoring object time: 0.03188967704772949\n",
      "Crop and resize time: 0.0010018348693847656\n",
      "Posenet forward time: 0.00225830078125\n",
      "Posepriornet forward time: 0.0008957386016845703\n",
      "Viewpoint forward time: 0.0009024143218994141\n",
      "Get normalized 3d coordinates time: 0.0006470680236816406\n",
      "Flip left handed input time: 0.00014734268188476562\n",
      "ScaLe heatmaps time 0.00010514259338378906\n",
      "Time for processing 1 frame: 0.047453880310058594s\n"
     ]
    },
    {
     "name": "stderr",
     "output_type": "stream",
     "text": [
      "\r",
      "568it [02:04,  4.12it/s]"
     ]
    },
    {
     "name": "stdout",
     "output_type": "stream",
     "text": [
      "tensor([[0.6140]], device='cuda:0', grad_fn=<SigmoidBackward>)\n",
      "Handnet forward time: 0.008127212524414062\n",
      "Handsegnet forward time: 0.001005411148071289\n",
      "s shape torch.Size([1, 2, 224, 224])\n",
      "for loop time 0.003007173538208008\n",
      "hand mask sum: 1611.0\n",
      "Calculate single highest scoring object time: 0.03147578239440918\n",
      "Crop and resize time: 0.0010199546813964844\n",
      "Posenet forward time: 0.002039670944213867\n",
      "Posepriornet forward time: 0.0007798671722412109\n",
      "Viewpoint forward time: 0.0009810924530029297\n",
      "Get normalized 3d coordinates time: 0.0006415843963623047\n",
      "Flip left handed input time: 0.0001456737518310547\n",
      "ScaLe heatmaps time 0.00010395050048828125\n",
      "Time for processing 1 frame: 0.04706382751464844s\n"
     ]
    },
    {
     "name": "stderr",
     "output_type": "stream",
     "text": [
      "\r",
      "569it [02:04,  4.16it/s]"
     ]
    },
    {
     "name": "stdout",
     "output_type": "stream",
     "text": [
      "tensor([[0.6316]], device='cuda:0', grad_fn=<SigmoidBackward>)\n",
      "Handnet forward time: 0.0077381134033203125\n",
      "Handsegnet forward time: 0.0010902881622314453\n",
      "s shape torch.Size([1, 2, 224, 224])\n",
      "for loop time 0.0029993057250976562\n",
      "hand mask sum: 1612.0\n",
      "Calculate single highest scoring object time: 0.030611515045166016\n",
      "Crop and resize time: 0.0009882450103759766\n",
      "Posenet forward time: 0.002041339874267578\n",
      "Posepriornet forward time: 0.0007641315460205078\n",
      "Viewpoint forward time: 0.0009930133819580078\n",
      "Get normalized 3d coordinates time: 0.0006244182586669922\n",
      "Flip left handed input time: 0.00014638900756835938\n",
      "ScaLe heatmaps time 0.00010347366333007812\n",
      "Time for processing 1 frame: 0.04582834243774414s\n"
     ]
    },
    {
     "name": "stderr",
     "output_type": "stream",
     "text": [
      "\r",
      "570it [02:05,  4.18it/s]"
     ]
    },
    {
     "name": "stdout",
     "output_type": "stream",
     "text": [
      "tensor([[0.5667]], device='cuda:0', grad_fn=<SigmoidBackward>)\n",
      "Handnet forward time: 0.008095026016235352\n",
      "Handsegnet forward time: 0.0010633468627929688\n",
      "s shape torch.Size([1, 2, 224, 224])\n",
      "for loop time 0.0034151077270507812\n",
      "hand mask sum: 1613.0\n",
      "Calculate single highest scoring object time: 0.03055262565612793\n",
      "Crop and resize time: 0.000989675521850586\n",
      "Posenet forward time: 0.002034425735473633\n",
      "Posepriornet forward time: 0.0007596015930175781\n",
      "Viewpoint forward time: 0.0009891986846923828\n",
      "Get normalized 3d coordinates time: 0.0006239414215087891\n",
      "Flip left handed input time: 0.00014543533325195312\n",
      "ScaLe heatmaps time 0.00010228157043457031\n",
      "Time for processing 1 frame: 0.046079397201538086s\n"
     ]
    },
    {
     "name": "stderr",
     "output_type": "stream",
     "text": [
      "\r",
      "571it [02:05,  4.20it/s]"
     ]
    },
    {
     "name": "stdout",
     "output_type": "stream",
     "text": [
      "tensor([[0.5009]], device='cuda:0', grad_fn=<SigmoidBackward>)\n",
      "Handnet forward time: 0.009280204772949219\n",
      "Handsegnet forward time: 0.0010557174682617188\n",
      "s shape torch.Size([1, 2, 224, 224])\n",
      "for loop time 0.003573179244995117\n",
      "hand mask sum: 1608.0\n",
      "Calculate single highest scoring object time: 0.03307938575744629\n",
      "Crop and resize time: 0.0009970664978027344\n",
      "Posenet forward time: 0.002061128616333008\n",
      "Posepriornet forward time: 0.0007510185241699219\n",
      "Viewpoint forward time: 0.0009644031524658203\n",
      "Get normalized 3d coordinates time: 0.0006213188171386719\n",
      "Flip left handed input time: 0.00013375282287597656\n",
      "ScaLe heatmaps time 0.00010776519775390625\n",
      "Time for processing 1 frame: 0.049736976623535156s\n"
     ]
    },
    {
     "name": "stderr",
     "output_type": "stream",
     "text": [
      "\r",
      "572it [02:05,  4.15it/s]"
     ]
    },
    {
     "name": "stdout",
     "output_type": "stream",
     "text": [
      "tensor([[0.5359]], device='cuda:0', grad_fn=<SigmoidBackward>)\n",
      "Handnet forward time: 0.008762836456298828\n",
      "Handsegnet forward time: 0.0011281967163085938\n",
      "s shape torch.Size([1, 2, 224, 224])\n",
      "for loop time 0.0040891170501708984\n",
      "hand mask sum: 1592.0\n",
      "Calculate single highest scoring object time: 0.03187918663024902\n",
      "Crop and resize time: 0.0016887187957763672\n",
      "Posenet forward time: 0.0020303726196289062\n",
      "Posepriornet forward time: 0.0007565021514892578\n",
      "Viewpoint forward time: 0.0009565353393554688\n",
      "Get normalized 3d coordinates time: 0.0006339550018310547\n",
      "Flip left handed input time: 5.7697296142578125e-05\n",
      "ScaLe heatmaps time 3.409385681152344e-05\n",
      "Time for processing 1 frame: 0.04859304428100586s\n"
     ]
    },
    {
     "name": "stderr",
     "output_type": "stream",
     "text": [
      "574it [02:05,  4.83it/s]"
     ]
    },
    {
     "name": "stdout",
     "output_type": "stream",
     "text": [
      "tensor([[0.4510]], device='cuda:0', grad_fn=<SigmoidBackward>)\n",
      "Handnet forward time: 0.008469581604003906\n",
      "no hand\n",
      "Time for processing 1 frame: 0.008957624435424805s\n",
      "tensor([[0.3465]], device='cuda:0', grad_fn=<SigmoidBackward>)\n",
      "Handnet forward time: 0.00883173942565918\n",
      "no hand\n",
      "Time for processing 1 frame: 0.009103775024414062s\n"
     ]
    },
    {
     "name": "stderr",
     "output_type": "stream",
     "text": [
      "576it [02:06,  5.92it/s]"
     ]
    },
    {
     "name": "stdout",
     "output_type": "stream",
     "text": [
      "tensor([[0.3917]], device='cuda:0', grad_fn=<SigmoidBackward>)\n",
      "Handnet forward time: 0.008079290390014648\n",
      "no hand\n",
      "Time for processing 1 frame: 0.008379220962524414s\n",
      "tensor([[0.2990]], device='cuda:0', grad_fn=<SigmoidBackward>)\n",
      "Handnet forward time: 0.00769805908203125\n",
      "no hand\n",
      "Time for processing 1 frame: 0.00795435905456543s\n"
     ]
    },
    {
     "name": "stderr",
     "output_type": "stream",
     "text": [
      "578it [02:06,  6.90it/s]"
     ]
    },
    {
     "name": "stdout",
     "output_type": "stream",
     "text": [
      "tensor([[0.3641]], device='cuda:0', grad_fn=<SigmoidBackward>)\n",
      "Handnet forward time: 0.007534027099609375\n",
      "no hand\n",
      "Time for processing 1 frame: 0.007783651351928711s\n",
      "tensor([[0.4203]], device='cuda:0', grad_fn=<SigmoidBackward>)\n",
      "Handnet forward time: 0.007672786712646484\n",
      "no hand\n",
      "Time for processing 1 frame: 0.007934093475341797s\n"
     ]
    },
    {
     "name": "stderr",
     "output_type": "stream",
     "text": [
      "580it [02:06,  7.45it/s]"
     ]
    },
    {
     "name": "stdout",
     "output_type": "stream",
     "text": [
      "tensor([[0.4831]], device='cuda:0', grad_fn=<SigmoidBackward>)\n",
      "Handnet forward time: 0.008715391159057617\n",
      "no hand\n",
      "Time for processing 1 frame: 0.00896453857421875s\n",
      "tensor([[0.5236]], device='cuda:0', grad_fn=<SigmoidBackward>)\n",
      "Handnet forward time: 0.007637977600097656\n",
      "Handsegnet forward time: 0.0010905265808105469\n",
      "s shape torch.Size([1, 2, 224, 224])\n",
      "for loop time 0.0031256675720214844\n",
      "hand mask sum: 1458.0\n",
      "Calculate single highest scoring object time: 0.031569480895996094\n",
      "Crop and resize time: 0.00096893310546875\n",
      "Posenet forward time: 0.0022559165954589844\n",
      "Posepriornet forward time: 0.0008816719055175781\n",
      "Viewpoint forward time: 0.000949859619140625\n",
      "Get normalized 3d coordinates time: 0.0006716251373291016\n",
      "Flip left handed input time: 0.00013899803161621094\n",
      "ScaLe heatmaps time 0.0001068115234375\n",
      "Time for processing 1 frame: 0.04670286178588867s\n"
     ]
    },
    {
     "name": "stderr",
     "output_type": "stream",
     "text": [
      "\r",
      "581it [02:06,  6.02it/s]"
     ]
    },
    {
     "name": "stdout",
     "output_type": "stream",
     "text": [
      "tensor([[0.5405]], device='cuda:0', grad_fn=<SigmoidBackward>)\n",
      "Handnet forward time: 0.009500980377197266\n",
      "Handsegnet forward time: 0.00104522705078125\n",
      "s shape torch.Size([1, 2, 224, 224])\n",
      "for loop time 0.0031816959381103516\n",
      "hand mask sum: 1466.0\n",
      "Calculate single highest scoring object time: 0.03184103965759277\n",
      "Crop and resize time: 0.0009760856628417969\n",
      "Posenet forward time: 0.0020067691802978516\n",
      "Posepriornet forward time: 0.0007565021514892578\n",
      "Viewpoint forward time: 0.0009469985961914062\n",
      "Get normalized 3d coordinates time: 0.0006077289581298828\n",
      "Flip left handed input time: 0.0001380443572998047\n",
      "ScaLe heatmaps time 0.00011277198791503906\n",
      "Time for processing 1 frame: 0.04859614372253418s\n"
     ]
    },
    {
     "name": "stderr",
     "output_type": "stream",
     "text": [
      "\r",
      "582it [02:07,  5.30it/s]"
     ]
    },
    {
     "name": "stdout",
     "output_type": "stream",
     "text": [
      "tensor([[0.7257]], device='cuda:0', grad_fn=<SigmoidBackward>)\n",
      "Handnet forward time: 0.007685661315917969\n",
      "Handsegnet forward time: 0.0011036396026611328\n",
      "s shape torch.Size([1, 2, 224, 224])\n",
      "for loop time 0.0031342506408691406\n",
      "hand mask sum: 1465.0\n",
      "Calculate single highest scoring object time: 0.03313779830932617\n",
      "Crop and resize time: 0.0009682178497314453\n",
      "Posenet forward time: 0.0020875930786132812\n",
      "Posepriornet forward time: 0.0008933544158935547\n",
      "Viewpoint forward time: 0.0009877681732177734\n",
      "Get normalized 3d coordinates time: 0.0006151199340820312\n",
      "Flip left handed input time: 0.00010919570922851562\n",
      "ScaLe heatmaps time 7.724761962890625e-05\n",
      "Time for processing 1 frame: 0.04835915565490723s\n"
     ]
    },
    {
     "name": "stderr",
     "output_type": "stream",
     "text": [
      "\r",
      "583it [02:07,  4.90it/s]"
     ]
    },
    {
     "name": "stdout",
     "output_type": "stream",
     "text": [
      "tensor([[0.9337]], device='cuda:0', grad_fn=<SigmoidBackward>)\n",
      "Handnet forward time: 0.008939266204833984\n",
      "Handsegnet forward time: 0.0010433197021484375\n",
      "s shape torch.Size([1, 2, 224, 224])\n",
      "for loop time 0.0030984878540039062\n",
      "hand mask sum: 1592.0\n",
      "Calculate single highest scoring object time: 0.030057907104492188\n",
      "Crop and resize time: 0.0009894371032714844\n",
      "Posenet forward time: 0.001997709274291992\n",
      "Posepriornet forward time: 0.0007436275482177734\n",
      "Viewpoint forward time: 0.0009427070617675781\n",
      "Get normalized 3d coordinates time: 0.0006005764007568359\n",
      "Flip left handed input time: 0.0001380443572998047\n",
      "ScaLe heatmaps time 3.075599670410156e-05\n",
      "Time for processing 1 frame: 0.04614663124084473s\n"
     ]
    },
    {
     "name": "stderr",
     "output_type": "stream",
     "text": [
      "\r",
      "584it [02:07,  4.69it/s]"
     ]
    },
    {
     "name": "stdout",
     "output_type": "stream",
     "text": [
      "tensor([[0.9798]], device='cuda:0', grad_fn=<SigmoidBackward>)\n",
      "Handnet forward time: 0.008953332901000977\n",
      "Handsegnet forward time: 0.0009870529174804688\n",
      "s shape torch.Size([1, 2, 224, 224])\n",
      "for loop time 0.0037262439727783203\n",
      "hand mask sum: 1629.0\n",
      "Calculate single highest scoring object time: 0.03079843521118164\n",
      "Crop and resize time: 0.0009698867797851562\n",
      "Posenet forward time: 0.002023458480834961\n",
      "Posepriornet forward time: 0.0007357597351074219\n",
      "Viewpoint forward time: 0.0009593963623046875\n",
      "Get normalized 3d coordinates time: 0.0006198883056640625\n",
      "Flip left handed input time: 0.00013184547424316406\n",
      "ScaLe heatmaps time 0.00010776519775390625\n",
      "Time for processing 1 frame: 0.04688000679016113s\n"
     ]
    },
    {
     "name": "stderr",
     "output_type": "stream",
     "text": [
      "\r",
      "585it [02:07,  4.55it/s]"
     ]
    },
    {
     "name": "stdout",
     "output_type": "stream",
     "text": [
      "tensor([[0.9598]], device='cuda:0', grad_fn=<SigmoidBackward>)\n",
      "Handnet forward time: 0.009148597717285156\n",
      "Handsegnet forward time: 0.0009713172912597656\n",
      "s shape torch.Size([1, 2, 224, 224])\n",
      "for loop time 0.003164529800415039\n",
      "hand mask sum: 1671.0\n",
      "Calculate single highest scoring object time: 0.030392885208129883\n",
      "Crop and resize time: 0.000965118408203125\n",
      "Posenet forward time: 0.0020182132720947266\n",
      "Posepriornet forward time: 0.0007445812225341797\n",
      "Viewpoint forward time: 0.0009412765502929688\n",
      "Get normalized 3d coordinates time: 0.0006077289581298828\n",
      "Flip left handed input time: 0.0001392364501953125\n",
      "ScaLe heatmaps time 0.00010800361633300781\n",
      "Time for processing 1 frame: 0.04666423797607422s\n"
     ]
    },
    {
     "name": "stderr",
     "output_type": "stream",
     "text": [
      "\r",
      "586it [02:08,  4.46it/s]"
     ]
    },
    {
     "name": "stdout",
     "output_type": "stream",
     "text": [
      "tensor([[0.9648]], device='cuda:0', grad_fn=<SigmoidBackward>)\n",
      "Handnet forward time: 0.008161306381225586\n",
      "Handsegnet forward time: 0.0010449886322021484\n",
      "s shape torch.Size([1, 2, 224, 224])\n",
      "for loop time 0.003123044967651367\n",
      "hand mask sum: 1720.0\n",
      "Calculate single highest scoring object time: 0.03133702278137207\n",
      "Crop and resize time: 0.0009613037109375\n",
      "Posenet forward time: 0.0020127296447753906\n",
      "Posepriornet forward time: 0.0007472038269042969\n",
      "Viewpoint forward time: 0.0009636878967285156\n",
      "Get normalized 3d coordinates time: 0.0006129741668701172\n",
      "Flip left handed input time: 0.0001354217529296875\n",
      "ScaLe heatmaps time 0.00010824203491210938\n",
      "Time for processing 1 frame: 0.04671597480773926s\n"
     ]
    },
    {
     "name": "stderr",
     "output_type": "stream",
     "text": [
      "\r",
      "587it [02:08,  4.40it/s]"
     ]
    },
    {
     "name": "stdout",
     "output_type": "stream",
     "text": [
      "tensor([[0.9369]], device='cuda:0', grad_fn=<SigmoidBackward>)\n",
      "Handnet forward time: 0.00842595100402832\n",
      "Handsegnet forward time: 0.0009624958038330078\n",
      "s shape torch.Size([1, 2, 224, 224])\n",
      "for loop time 0.003110647201538086\n",
      "hand mask sum: 1746.0\n",
      "Calculate single highest scoring object time: 0.030409812927246094\n",
      "Crop and resize time: 0.0009577274322509766\n",
      "Posenet forward time: 0.0020160675048828125\n",
      "Posepriornet forward time: 0.0007419586181640625\n",
      "Viewpoint forward time: 0.0009505748748779297\n",
      "Get normalized 3d coordinates time: 0.0006070137023925781\n",
      "Flip left handed input time: 0.00013899803161621094\n",
      "ScaLe heatmaps time 0.0001304149627685547\n",
      "Time for processing 1 frame: 0.04597187042236328s\n"
     ]
    },
    {
     "name": "stderr",
     "output_type": "stream",
     "text": [
      "\r",
      "588it [02:08,  4.38it/s]"
     ]
    },
    {
     "name": "stdout",
     "output_type": "stream",
     "text": [
      "tensor([[0.9194]], device='cuda:0', grad_fn=<SigmoidBackward>)\n",
      "Handnet forward time: 0.00915837287902832\n",
      "Handsegnet forward time: 0.0011894702911376953\n",
      "s shape torch.Size([1, 2, 224, 224])\n",
      "for loop time 0.003518342971801758\n",
      "hand mask sum: 1773.0\n",
      "Calculate single highest scoring object time: 0.029458999633789062\n",
      "Crop and resize time: 0.0009133815765380859\n",
      "Posenet forward time: 0.0019867420196533203\n",
      "Posepriornet forward time: 0.0007145404815673828\n",
      "Viewpoint forward time: 0.0010802745819091797\n",
      "Get normalized 3d coordinates time: 0.0006182193756103516\n",
      "Flip left handed input time: 5.817413330078125e-05\n",
      "ScaLe heatmaps time 3.337860107421875e-05\n",
      "Time for processing 1 frame: 0.04581809043884277s\n"
     ]
    },
    {
     "name": "stderr",
     "output_type": "stream",
     "text": [
      "\r",
      "589it [02:08,  4.30it/s]"
     ]
    },
    {
     "name": "stdout",
     "output_type": "stream",
     "text": [
      "tensor([[0.9472]], device='cuda:0', grad_fn=<SigmoidBackward>)\n",
      "Handnet forward time: 0.007636070251464844\n",
      "Handsegnet forward time: 0.0011370182037353516\n",
      "s shape torch.Size([1, 2, 224, 224])\n",
      "for loop time 0.0031528472900390625\n",
      "hand mask sum: 1785.0\n",
      "Calculate single highest scoring object time: 0.03150010108947754\n",
      "Crop and resize time: 0.002359151840209961\n",
      "Posenet forward time: 0.0020732879638671875\n",
      "Posepriornet forward time: 0.0007603168487548828\n",
      "Viewpoint forward time: 0.0009515285491943359\n",
      "Get normalized 3d coordinates time: 0.0006270408630371094\n",
      "Flip left handed input time: 0.00011849403381347656\n",
      "ScaLe heatmaps time 8.106231689453125e-05\n",
      "Time for processing 1 frame: 0.04785633087158203s\n"
     ]
    },
    {
     "name": "stderr",
     "output_type": "stream",
     "text": [
      "\r",
      "590it [02:09,  4.26it/s]"
     ]
    },
    {
     "name": "stdout",
     "output_type": "stream",
     "text": [
      "tensor([[0.9164]], device='cuda:0', grad_fn=<SigmoidBackward>)\n",
      "Handnet forward time: 0.00900888442993164\n",
      "Handsegnet forward time: 0.0009796619415283203\n",
      "s shape torch.Size([1, 2, 224, 224])\n",
      "for loop time 0.0037508010864257812\n",
      "hand mask sum: 1812.0\n",
      "Calculate single highest scoring object time: 0.031136512756347656\n",
      "Crop and resize time: 0.0009653568267822266\n",
      "Posenet forward time: 0.002015352249145508\n",
      "Posepriornet forward time: 0.0007534027099609375\n",
      "Viewpoint forward time: 0.0009505748748779297\n",
      "Get normalized 3d coordinates time: 0.0006198883056640625\n",
      "Flip left handed input time: 0.0001366138458251953\n",
      "ScaLe heatmaps time 0.000110626220703125\n",
      "Time for processing 1 frame: 0.04729104042053223s\n"
     ]
    },
    {
     "name": "stderr",
     "output_type": "stream",
     "text": [
      "\r",
      "591it [02:09,  4.25it/s]"
     ]
    },
    {
     "name": "stdout",
     "output_type": "stream",
     "text": [
      "tensor([[0.9195]], device='cuda:0', grad_fn=<SigmoidBackward>)\n",
      "Handnet forward time: 0.008557319641113281\n",
      "Handsegnet forward time: 0.0010416507720947266\n",
      "s shape torch.Size([1, 2, 224, 224])\n",
      "for loop time 0.0030906200408935547\n",
      "hand mask sum: 1823.0\n",
      "Calculate single highest scoring object time: 0.030234336853027344\n",
      "Crop and resize time: 0.0009708404541015625\n",
      "Posenet forward time: 0.0019905567169189453\n",
      "Posepriornet forward time: 0.0007359981536865234\n",
      "Viewpoint forward time: 0.0009524822235107422\n",
      "Get normalized 3d coordinates time: 0.0006060600280761719\n",
      "Flip left handed input time: 0.0001366138458251953\n",
      "ScaLe heatmaps time 8.749961853027344e-05\n",
      "Time for processing 1 frame: 0.045989036560058594s\n"
     ]
    },
    {
     "name": "stderr",
     "output_type": "stream",
     "text": [
      "\r",
      "592it [02:09,  4.27it/s]"
     ]
    },
    {
     "name": "stdout",
     "output_type": "stream",
     "text": [
      "tensor([[0.9399]], device='cuda:0', grad_fn=<SigmoidBackward>)\n",
      "Handnet forward time: 0.008147716522216797\n",
      "Handsegnet forward time: 0.0011882781982421875\n",
      "s shape torch.Size([1, 2, 224, 224])\n",
      "for loop time 0.003148794174194336\n",
      "hand mask sum: 1833.0\n",
      "Calculate single highest scoring object time: 0.031766414642333984\n",
      "Crop and resize time: 0.0009663105010986328\n",
      "Posenet forward time: 0.0020232200622558594\n",
      "Posepriornet forward time: 0.0007407665252685547\n",
      "Viewpoint forward time: 0.0009524822235107422\n",
      "Get normalized 3d coordinates time: 0.0006155967712402344\n",
      "Flip left handed input time: 0.0001373291015625\n",
      "ScaLe heatmaps time 8.821487426757812e-05\n",
      "Time for processing 1 frame: 0.04706931114196777s\n"
     ]
    },
    {
     "name": "stderr",
     "output_type": "stream",
     "text": [
      "\r",
      "593it [02:09,  4.25it/s]"
     ]
    },
    {
     "name": "stdout",
     "output_type": "stream",
     "text": [
      "tensor([[0.9530]], device='cuda:0', grad_fn=<SigmoidBackward>)\n",
      "Handnet forward time: 0.007683753967285156\n",
      "Handsegnet forward time: 0.0011987686157226562\n",
      "s shape torch.Size([1, 2, 224, 224])\n",
      "for loop time 0.002984285354614258\n",
      "hand mask sum: 1848.0\n",
      "Calculate single highest scoring object time: 0.03073406219482422\n",
      "Crop and resize time: 0.0009582042694091797\n",
      "Posenet forward time: 0.0020067691802978516\n",
      "Posepriornet forward time: 0.0007393360137939453\n",
      "Viewpoint forward time: 0.0009555816650390625\n",
      "Get normalized 3d coordinates time: 0.000614166259765625\n",
      "Flip left handed input time: 0.00013828277587890625\n",
      "ScaLe heatmaps time 8.893013000488281e-05\n",
      "Time for processing 1 frame: 0.045574188232421875s\n"
     ]
    },
    {
     "name": "stderr",
     "output_type": "stream",
     "text": [
      "\r",
      "594it [02:09,  4.25it/s]"
     ]
    },
    {
     "name": "stdout",
     "output_type": "stream",
     "text": [
      "tensor([[0.9537]], device='cuda:0', grad_fn=<SigmoidBackward>)\n",
      "Handnet forward time: 0.0077419281005859375\n",
      "Handsegnet forward time: 0.001138925552368164\n",
      "s shape torch.Size([1, 2, 224, 224])\n",
      "for loop time 0.0030412673950195312\n",
      "hand mask sum: 1847.0\n",
      "Calculate single highest scoring object time: 0.0320591926574707\n",
      "Crop and resize time: 0.0009598731994628906\n",
      "Posenet forward time: 0.0020067691802978516\n",
      "Posepriornet forward time: 0.0007436275482177734\n",
      "Viewpoint forward time: 0.0009529590606689453\n",
      "Get normalized 3d coordinates time: 0.0006182193756103516\n",
      "Flip left handed input time: 0.00014495849609375\n",
      "ScaLe heatmaps time 0.00010895729064941406\n",
      "Time for processing 1 frame: 0.04704880714416504s\n"
     ]
    },
    {
     "name": "stderr",
     "output_type": "stream",
     "text": [
      "\r",
      "595it [02:10,  4.20it/s]"
     ]
    },
    {
     "name": "stdout",
     "output_type": "stream",
     "text": [
      "tensor([[0.9661]], device='cuda:0', grad_fn=<SigmoidBackward>)\n",
      "Handnet forward time: 0.007715463638305664\n",
      "Handsegnet forward time: 0.0010437965393066406\n",
      "s shape torch.Size([1, 2, 224, 224])\n",
      "for loop time 0.003018617630004883\n",
      "hand mask sum: 1907.0\n",
      "Calculate single highest scoring object time: 0.03172636032104492\n",
      "Crop and resize time: 0.0009646415710449219\n",
      "Posenet forward time: 0.0020236968994140625\n",
      "Posepriornet forward time: 0.0007472038269042969\n",
      "Viewpoint forward time: 0.0009546279907226562\n",
      "Get normalized 3d coordinates time: 0.0006124973297119141\n",
      "Flip left handed input time: 0.0001373291015625\n",
      "ScaLe heatmaps time 8.535385131835938e-05\n",
      "Time for processing 1 frame: 0.046689748764038086s\n"
     ]
    },
    {
     "name": "stderr",
     "output_type": "stream",
     "text": [
      "\r",
      "596it [02:10,  4.20it/s]"
     ]
    },
    {
     "name": "stdout",
     "output_type": "stream",
     "text": [
      "tensor([[0.9862]], device='cuda:0', grad_fn=<SigmoidBackward>)\n",
      "Handnet forward time: 0.007688999176025391\n",
      "Handsegnet forward time: 0.0010602474212646484\n",
      "s shape torch.Size([1, 2, 224, 224])\n",
      "for loop time 0.003122568130493164\n",
      "hand mask sum: 1925.0\n",
      "Calculate single highest scoring object time: 0.033388376235961914\n",
      "Crop and resize time: 0.0009729862213134766\n",
      "Posenet forward time: 0.002057313919067383\n",
      "Posepriornet forward time: 0.0007772445678710938\n",
      "Viewpoint forward time: 0.0009729862213134766\n",
      "Get normalized 3d coordinates time: 0.0006549358367919922\n",
      "Flip left handed input time: 0.0001380443572998047\n",
      "ScaLe heatmaps time 0.00011205673217773438\n",
      "Time for processing 1 frame: 0.04854297637939453s\n"
     ]
    },
    {
     "name": "stderr",
     "output_type": "stream",
     "text": [
      "\r",
      "597it [02:10,  4.19it/s]"
     ]
    },
    {
     "name": "stdout",
     "output_type": "stream",
     "text": [
      "tensor([[0.9861]], device='cuda:0', grad_fn=<SigmoidBackward>)\n",
      "Handnet forward time: 0.00808262825012207\n",
      "Handsegnet forward time: 0.00112152099609375\n",
      "s shape torch.Size([1, 2, 224, 224])\n",
      "for loop time 0.004595756530761719\n",
      "hand mask sum: 1940.0\n",
      "Calculate single highest scoring object time: 0.0326075553894043\n",
      "Crop and resize time: 0.0012216567993164062\n",
      "Posenet forward time: 0.0021958351135253906\n",
      "Posepriornet forward time: 0.000759124755859375\n",
      "Viewpoint forward time: 0.0009605884552001953\n",
      "Get normalized 3d coordinates time: 0.0006191730499267578\n",
      "Flip left handed input time: 0.00013780593872070312\n",
      "ScaLe heatmaps time 3.552436828613281e-05\n",
      "Time for processing 1 frame: 0.048367977142333984s\n"
     ]
    },
    {
     "name": "stderr",
     "output_type": "stream",
     "text": [
      "\r",
      "598it [02:10,  4.18it/s]"
     ]
    },
    {
     "name": "stdout",
     "output_type": "stream",
     "text": [
      "tensor([[0.9945]], device='cuda:0', grad_fn=<SigmoidBackward>)\n",
      "Handnet forward time: 0.008026838302612305\n",
      "Handsegnet forward time: 0.0013132095336914062\n",
      "s shape torch.Size([1, 2, 224, 224])\n",
      "for loop time 0.003116607666015625\n",
      "hand mask sum: 1958.0\n",
      "Calculate single highest scoring object time: 0.03359389305114746\n",
      "Crop and resize time: 0.0009789466857910156\n",
      "Posenet forward time: 0.002233266830444336\n",
      "Posepriornet forward time: 0.0007607936859130859\n",
      "Viewpoint forward time: 0.00092315673828125\n",
      "Get normalized 3d coordinates time: 0.0007581710815429688\n",
      "Flip left handed input time: 0.0001475811004638672\n",
      "ScaLe heatmaps time 6.389617919921875e-05\n",
      "Time for processing 1 frame: 0.04972195625305176s\n"
     ]
    },
    {
     "name": "stderr",
     "output_type": "stream",
     "text": [
      "\r",
      "599it [02:11,  4.16it/s]"
     ]
    },
    {
     "name": "stdout",
     "output_type": "stream",
     "text": [
      "tensor([[0.9963]], device='cuda:0', grad_fn=<SigmoidBackward>)\n",
      "Handnet forward time: 0.009478569030761719\n",
      "Handsegnet forward time: 0.0010449886322021484\n",
      "s shape torch.Size([1, 2, 224, 224])\n",
      "for loop time 0.00409698486328125\n",
      "hand mask sum: 1974.0\n",
      "Calculate single highest scoring object time: 0.032770633697509766\n",
      "Crop and resize time: 0.0009789466857910156\n",
      "Posenet forward time: 0.002060413360595703\n",
      "Posepriornet forward time: 0.0007576942443847656\n",
      "Viewpoint forward time: 0.0009675025939941406\n",
      "Get normalized 3d coordinates time: 0.0006222724914550781\n",
      "Flip left handed input time: 0.0001385211944580078\n",
      "ScaLe heatmaps time 0.00010895729064941406\n",
      "Time for processing 1 frame: 0.049566030502319336s\n"
     ]
    },
    {
     "name": "stderr",
     "output_type": "stream",
     "text": [
      "\r",
      "600it [02:11,  4.15it/s]"
     ]
    },
    {
     "name": "stdout",
     "output_type": "stream",
     "text": [
      "tensor([[0.9951]], device='cuda:0', grad_fn=<SigmoidBackward>)\n",
      "Handnet forward time: 0.007673740386962891\n",
      "Handsegnet forward time: 0.0010831356048583984\n",
      "s shape torch.Size([1, 2, 224, 224])\n",
      "for loop time 0.0030121803283691406\n",
      "hand mask sum: 1971.0\n",
      "Calculate single highest scoring object time: 0.03270578384399414\n",
      "Crop and resize time: 0.0009799003601074219\n",
      "Posenet forward time: 0.002117156982421875\n",
      "Posepriornet forward time: 0.0007834434509277344\n",
      "Viewpoint forward time: 0.0010259151458740234\n",
      "Get normalized 3d coordinates time: 0.0006401538848876953\n",
      "Flip left handed input time: 0.0001366138458251953\n",
      "ScaLe heatmaps time 0.00011014938354492188\n",
      "Time for processing 1 frame: 0.048023223876953125s\n"
     ]
    },
    {
     "name": "stderr",
     "output_type": "stream",
     "text": [
      "\r",
      "601it [02:11,  4.14it/s]"
     ]
    },
    {
     "name": "stdout",
     "output_type": "stream",
     "text": [
      "tensor([[0.9950]], device='cuda:0', grad_fn=<SigmoidBackward>)\n",
      "Handnet forward time: 0.009807586669921875\n",
      "Handsegnet forward time: 0.0010449886322021484\n",
      "s shape torch.Size([1, 2, 224, 224])\n",
      "for loop time 0.003145933151245117\n",
      "hand mask sum: 1995.0\n",
      "Calculate single highest scoring object time: 0.032689571380615234\n",
      "Crop and resize time: 0.0009837150573730469\n",
      "Posenet forward time: 0.002042055130004883\n",
      "Posepriornet forward time: 0.0007596015930175781\n",
      "Viewpoint forward time: 0.0009741783142089844\n",
      "Get normalized 3d coordinates time: 0.0006291866302490234\n",
      "Flip left handed input time: 0.00013780593872070312\n",
      "ScaLe heatmaps time 3.266334533691406e-05\n",
      "Time for processing 1 frame: 0.04975533485412598s\n"
     ]
    },
    {
     "name": "stderr",
     "output_type": "stream",
     "text": [
      "\r",
      "602it [02:11,  4.14it/s]"
     ]
    },
    {
     "name": "stdout",
     "output_type": "stream",
     "text": [
      "tensor([[0.9933]], device='cuda:0', grad_fn=<SigmoidBackward>)\n",
      "Handnet forward time: 0.0076596736907958984\n",
      "Handsegnet forward time: 0.0011417865753173828\n",
      "s shape torch.Size([1, 2, 224, 224])\n",
      "for loop time 0.003104686737060547\n",
      "hand mask sum: 2008.0\n",
      "Calculate single highest scoring object time: 0.030441761016845703\n",
      "Crop and resize time: 0.000985860824584961\n",
      "Posenet forward time: 0.002052783966064453\n",
      "Posepriornet forward time: 0.0007455348968505859\n",
      "Viewpoint forward time: 0.0009655952453613281\n",
      "Get normalized 3d coordinates time: 0.0006163120269775391\n",
      "Flip left handed input time: 5.9604644775390625e-05\n",
      "ScaLe heatmaps time 3.62396240234375e-05\n",
      "Time for processing 1 frame: 0.045393943786621094s\n"
     ]
    },
    {
     "name": "stderr",
     "output_type": "stream",
     "text": [
      "\r",
      "603it [02:12,  4.19it/s]"
     ]
    },
    {
     "name": "stdout",
     "output_type": "stream",
     "text": [
      "tensor([[0.9910]], device='cuda:0', grad_fn=<SigmoidBackward>)\n",
      "Handnet forward time: 0.007816076278686523\n",
      "Handsegnet forward time: 0.0013015270233154297\n",
      "s shape torch.Size([1, 2, 224, 224])\n",
      "for loop time 0.0030481815338134766\n",
      "hand mask sum: 2007.0\n",
      "Calculate single highest scoring object time: 0.030034542083740234\n",
      "Crop and resize time: 0.0009207725524902344\n",
      "Posenet forward time: 0.0021054744720458984\n",
      "Posepriornet forward time: 0.0007140636444091797\n",
      "Viewpoint forward time: 0.0009500980377197266\n",
      "Get normalized 3d coordinates time: 0.0005888938903808594\n",
      "Flip left handed input time: 0.00020003318786621094\n",
      "ScaLe heatmaps time 4.506111145019531e-05\n",
      "Time for processing 1 frame: 0.04517221450805664s\n"
     ]
    },
    {
     "name": "stderr",
     "output_type": "stream",
     "text": [
      "\r",
      "604it [02:12,  4.15it/s]"
     ]
    },
    {
     "name": "stdout",
     "output_type": "stream",
     "text": [
      "tensor([[0.9892]], device='cuda:0', grad_fn=<SigmoidBackward>)\n",
      "Handnet forward time: 0.007598161697387695\n",
      "Handsegnet forward time: 0.0009596347808837891\n",
      "s shape torch.Size([1, 2, 224, 224])\n",
      "for loop time 0.0030798912048339844\n",
      "hand mask sum: 2017.0\n",
      "Calculate single highest scoring object time: 0.030465126037597656\n",
      "Crop and resize time: 0.000972747802734375\n",
      "Posenet forward time: 0.0020368099212646484\n",
      "Posepriornet forward time: 0.0007536411285400391\n",
      "Viewpoint forward time: 0.0009608268737792969\n",
      "Get normalized 3d coordinates time: 0.0006754398345947266\n",
      "Flip left handed input time: 0.000133514404296875\n",
      "ScaLe heatmaps time 3.409385681152344e-05\n",
      "Time for processing 1 frame: 0.045211076736450195s\n"
     ]
    },
    {
     "name": "stderr",
     "output_type": "stream",
     "text": [
      "\r",
      "605it [02:12,  4.19it/s]"
     ]
    },
    {
     "name": "stdout",
     "output_type": "stream",
     "text": [
      "tensor([[0.9895]], device='cuda:0', grad_fn=<SigmoidBackward>)\n",
      "Handnet forward time: 0.007958173751831055\n",
      "Handsegnet forward time: 0.0013837814331054688\n",
      "s shape torch.Size([1, 2, 224, 224])\n",
      "for loop time 0.0031006336212158203\n",
      "hand mask sum: 2018.0\n",
      "Calculate single highest scoring object time: 0.032267093658447266\n",
      "Crop and resize time: 0.0009224414825439453\n",
      "Posenet forward time: 0.0019450187683105469\n",
      "Posepriornet forward time: 0.0007662773132324219\n",
      "Viewpoint forward time: 0.0009503364562988281\n",
      "Get normalized 3d coordinates time: 0.0006198883056640625\n",
      "Flip left handed input time: 0.0002372264862060547\n",
      "ScaLe heatmaps time 7.724761962890625e-05\n",
      "Time for processing 1 frame: 0.04770970344543457s\n"
     ]
    },
    {
     "name": "stderr",
     "output_type": "stream",
     "text": [
      "\r",
      "606it [02:12,  4.20it/s]"
     ]
    },
    {
     "name": "stdout",
     "output_type": "stream",
     "text": [
      "tensor([[0.9918]], device='cuda:0', grad_fn=<SigmoidBackward>)\n",
      "Handnet forward time: 0.007790088653564453\n",
      "Handsegnet forward time: 0.0013930797576904297\n",
      "s shape torch.Size([1, 2, 224, 224])\n",
      "for loop time 0.003111124038696289\n",
      "hand mask sum: 2012.0\n",
      "Calculate single highest scoring object time: 0.030517578125\n",
      "Crop and resize time: 0.0009701251983642578\n",
      "Posenet forward time: 0.0020699501037597656\n",
      "Posepriornet forward time: 0.0007469654083251953\n",
      "Viewpoint forward time: 0.0009799003601074219\n",
      "Get normalized 3d coordinates time: 0.00061798095703125\n",
      "Flip left handed input time: 0.0001366138458251953\n",
      "ScaLe heatmaps time 0.00010585784912109375\n",
      "Time for processing 1 frame: 0.04582476615905762s\n"
     ]
    },
    {
     "name": "stderr",
     "output_type": "stream",
     "text": [
      "\r",
      "607it [02:13,  4.23it/s]"
     ]
    },
    {
     "name": "stdout",
     "output_type": "stream",
     "text": [
      "tensor([[0.9893]], device='cuda:0', grad_fn=<SigmoidBackward>)\n",
      "Handnet forward time: 0.007769346237182617\n",
      "Handsegnet forward time: 0.0011303424835205078\n",
      "s shape torch.Size([1, 2, 224, 224])\n",
      "for loop time 0.003100156784057617\n",
      "hand mask sum: 2036.0\n",
      "Calculate single highest scoring object time: 0.030960798263549805\n",
      "Crop and resize time: 0.0009725093841552734\n",
      "Posenet forward time: 0.0021004676818847656\n",
      "Posepriornet forward time: 0.0008730888366699219\n",
      "Viewpoint forward time: 0.0009827613830566406\n",
      "Get normalized 3d coordinates time: 0.0005979537963867188\n",
      "Flip left handed input time: 0.00013518333435058594\n",
      "ScaLe heatmaps time 0.00010848045349121094\n",
      "Time for processing 1 frame: 0.04632115364074707s\n"
     ]
    },
    {
     "name": "stderr",
     "output_type": "stream",
     "text": [
      "\r",
      "608it [02:13,  4.22it/s]"
     ]
    },
    {
     "name": "stdout",
     "output_type": "stream",
     "text": [
      "tensor([[0.9825]], device='cuda:0', grad_fn=<SigmoidBackward>)\n",
      "Handnet forward time: 0.008136510848999023\n",
      "Handsegnet forward time: 0.0011048316955566406\n",
      "s shape torch.Size([1, 2, 224, 224])\n",
      "for loop time 0.0042819976806640625\n",
      "hand mask sum: 2023.0\n",
      "Calculate single highest scoring object time: 0.03292131423950195\n",
      "Crop and resize time: 0.0013325214385986328\n",
      "Posenet forward time: 0.0019981861114501953\n",
      "Posepriornet forward time: 0.0007188320159912109\n",
      "Viewpoint forward time: 0.0009663105010986328\n",
      "Get normalized 3d coordinates time: 0.0006313323974609375\n",
      "Flip left handed input time: 0.0001323223114013672\n",
      "ScaLe heatmaps time 9.012222290039062e-05\n",
      "Time for processing 1 frame: 0.04871392250061035s\n"
     ]
    },
    {
     "name": "stderr",
     "output_type": "stream",
     "text": [
      "\r",
      "609it [02:13,  4.16it/s]"
     ]
    },
    {
     "name": "stdout",
     "output_type": "stream",
     "text": [
      "tensor([[0.9862]], device='cuda:0', grad_fn=<SigmoidBackward>)\n",
      "Handnet forward time: 0.0077593326568603516\n",
      "Handsegnet forward time: 0.0015177726745605469\n",
      "s shape torch.Size([1, 2, 224, 224])\n",
      "for loop time 0.003437519073486328\n",
      "hand mask sum: 2066.0\n",
      "Calculate single highest scoring object time: 0.030516386032104492\n",
      "Crop and resize time: 0.0009968280792236328\n",
      "Posenet forward time: 0.0020093917846679688\n",
      "Posepriornet forward time: 0.0007457733154296875\n",
      "Viewpoint forward time: 0.0009267330169677734\n",
      "Get normalized 3d coordinates time: 0.0006382465362548828\n",
      "Flip left handed input time: 0.0001354217529296875\n",
      "ScaLe heatmaps time 0.00010728836059570312\n",
      "Time for processing 1 frame: 0.04604220390319824s\n"
     ]
    },
    {
     "name": "stderr",
     "output_type": "stream",
     "text": [
      "\r",
      "610it [02:13,  4.12it/s]"
     ]
    },
    {
     "name": "stdout",
     "output_type": "stream",
     "text": [
      "tensor([[0.9772]], device='cuda:0', grad_fn=<SigmoidBackward>)\n",
      "Handnet forward time: 0.00809621810913086\n",
      "Handsegnet forward time: 0.0016880035400390625\n",
      "s shape torch.Size([1, 2, 224, 224])\n",
      "for loop time 0.0031554698944091797\n",
      "hand mask sum: 2059.0\n",
      "Calculate single highest scoring object time: 0.03310394287109375\n",
      "Crop and resize time: 0.0009801387786865234\n",
      "Posenet forward time: 0.0020258426666259766\n",
      "Posepriornet forward time: 0.0007662773132324219\n",
      "Viewpoint forward time: 0.0009624958038330078\n",
      "Get normalized 3d coordinates time: 0.0006353855133056641\n",
      "Flip left handed input time: 0.0001392364501953125\n",
      "ScaLe heatmaps time 0.0001068115234375\n",
      "Time for processing 1 frame: 0.04899954795837402s\n"
     ]
    },
    {
     "name": "stderr",
     "output_type": "stream",
     "text": [
      "\r",
      "611it [02:14,  4.11it/s]"
     ]
    },
    {
     "name": "stdout",
     "output_type": "stream",
     "text": [
      "tensor([[0.9657]], device='cuda:0', grad_fn=<SigmoidBackward>)\n",
      "Handnet forward time: 0.008753299713134766\n",
      "Handsegnet forward time: 0.0010287761688232422\n",
      "s shape torch.Size([1, 2, 224, 224])\n",
      "for loop time 0.0029900074005126953\n",
      "hand mask sum: 2082.0\n",
      "Calculate single highest scoring object time: 0.033324241638183594\n",
      "Crop and resize time: 0.000989675521850586\n",
      "Posenet forward time: 0.002036571502685547\n",
      "Posepriornet forward time: 0.0007481575012207031\n",
      "Viewpoint forward time: 0.0009701251983642578\n",
      "Get normalized 3d coordinates time: 0.0006349086761474609\n",
      "Flip left handed input time: 0.00013947486877441406\n",
      "ScaLe heatmaps time 0.00011467933654785156\n",
      "Time for processing 1 frame: 0.04940390586853027s\n"
     ]
    },
    {
     "name": "stderr",
     "output_type": "stream",
     "text": [
      "\r",
      "612it [02:14,  4.07it/s]"
     ]
    },
    {
     "name": "stdout",
     "output_type": "stream",
     "text": [
      "tensor([[0.8499]], device='cuda:0', grad_fn=<SigmoidBackward>)\n",
      "Handnet forward time: 0.008421659469604492\n",
      "Handsegnet forward time: 0.0009760856628417969\n",
      "s shape torch.Size([1, 2, 224, 224])\n",
      "for loop time 0.0031135082244873047\n",
      "hand mask sum: 2120.0\n",
      "Calculate single highest scoring object time: 0.030514001846313477\n",
      "Crop and resize time: 0.0009813308715820312\n",
      "Posenet forward time: 0.0020279884338378906\n",
      "Posepriornet forward time: 0.0007467269897460938\n",
      "Viewpoint forward time: 0.0009555816650390625\n",
      "Get normalized 3d coordinates time: 0.0006403923034667969\n",
      "Flip left handed input time: 0.00013780593872070312\n",
      "ScaLe heatmaps time 0.00010919570922851562\n",
      "Time for processing 1 frame: 0.046157121658325195s\n"
     ]
    },
    {
     "name": "stderr",
     "output_type": "stream",
     "text": [
      "\r",
      "613it [02:14,  4.11it/s]"
     ]
    },
    {
     "name": "stdout",
     "output_type": "stream",
     "text": [
      "tensor([[0.8626]], device='cuda:0', grad_fn=<SigmoidBackward>)\n",
      "Handnet forward time: 0.00768589973449707\n",
      "Handsegnet forward time: 0.001672506332397461\n",
      "s shape torch.Size([1, 2, 224, 224])\n",
      "for loop time 0.003126859664916992\n",
      "hand mask sum: 2219.0\n",
      "Calculate single highest scoring object time: 0.030036449432373047\n",
      "Crop and resize time: 0.000978708267211914\n",
      "Posenet forward time: 0.0020585060119628906\n",
      "Posepriornet forward time: 0.0007450580596923828\n",
      "Viewpoint forward time: 0.0009584426879882812\n",
      "Get normalized 3d coordinates time: 0.0006232261657714844\n",
      "Flip left handed input time: 0.000141143798828125\n",
      "ScaLe heatmaps time 0.00010466575622558594\n",
      "Time for processing 1 frame: 0.045480966567993164s\n"
     ]
    },
    {
     "name": "stderr",
     "output_type": "stream",
     "text": [
      "\r",
      "614it [02:14,  4.13it/s]"
     ]
    },
    {
     "name": "stdout",
     "output_type": "stream",
     "text": [
      "tensor([[0.8910]], device='cuda:0', grad_fn=<SigmoidBackward>)\n",
      "Handnet forward time: 0.008281230926513672\n",
      "Handsegnet forward time: 0.0010833740234375\n",
      "s shape torch.Size([1, 2, 224, 224])\n",
      "for loop time 0.005341529846191406\n",
      "hand mask sum: 2391.0\n",
      "Calculate single highest scoring object time: 0.032636165618896484\n",
      "Crop and resize time: 0.0010364055633544922\n",
      "Posenet forward time: 0.0020341873168945312\n",
      "Posepriornet forward time: 0.0007412433624267578\n",
      "Viewpoint forward time: 0.0009598731994628906\n",
      "Get normalized 3d coordinates time: 0.000614166259765625\n",
      "Flip left handed input time: 0.00014138221740722656\n",
      "ScaLe heatmaps time 8.487701416015625e-05\n",
      "Time for processing 1 frame: 0.04826641082763672s\n"
     ]
    },
    {
     "name": "stderr",
     "output_type": "stream",
     "text": [
      "\r",
      "615it [02:15,  4.13it/s]"
     ]
    },
    {
     "name": "stdout",
     "output_type": "stream",
     "text": [
      "tensor([[0.8854]], device='cuda:0', grad_fn=<SigmoidBackward>)\n",
      "Handnet forward time: 0.007673978805541992\n",
      "Handsegnet forward time: 0.0010504722595214844\n",
      "s shape torch.Size([1, 2, 224, 224])\n",
      "for loop time 0.003082275390625\n",
      "hand mask sum: 2498.0\n",
      "Calculate single highest scoring object time: 0.030046463012695312\n",
      "Crop and resize time: 0.0010187625885009766\n",
      "Posenet forward time: 0.0023670196533203125\n",
      "Posepriornet forward time: 0.0008854866027832031\n",
      "Viewpoint forward time: 0.0010323524475097656\n",
      "Get normalized 3d coordinates time: 0.0006527900695800781\n",
      "Flip left handed input time: 0.00014925003051757812\n",
      "ScaLe heatmaps time 8.654594421386719e-05\n",
      "Time for processing 1 frame: 0.045690059661865234s\n"
     ]
    },
    {
     "name": "stderr",
     "output_type": "stream",
     "text": [
      "\r",
      "616it [02:16,  2.18it/s]"
     ]
    },
    {
     "name": "stdout",
     "output_type": "stream",
     "text": [
      "tensor([[0.9628]], device='cuda:0', grad_fn=<SigmoidBackward>)\n",
      "Handnet forward time: 0.009435892105102539\n",
      "Handsegnet forward time: 0.0012912750244140625\n",
      "s shape torch.Size([1, 2, 224, 224])\n",
      "for loop time 0.0031173229217529297\n",
      "hand mask sum: 2657.0\n",
      "Calculate single highest scoring object time: 0.03307223320007324\n",
      "Crop and resize time: 0.0009744167327880859\n",
      "Posenet forward time: 0.002128124237060547\n",
      "Posepriornet forward time: 0.0007808208465576172\n",
      "Viewpoint forward time: 0.0009582042694091797\n",
      "Get normalized 3d coordinates time: 0.0006330013275146484\n",
      "Flip left handed input time: 0.00013875961303710938\n",
      "ScaLe heatmaps time 3.337860107421875e-05\n",
      "Time for processing 1 frame: 0.04990267753601074s\n"
     ]
    },
    {
     "name": "stderr",
     "output_type": "stream",
     "text": [
      "\r",
      "617it [02:16,  2.54it/s]"
     ]
    },
    {
     "name": "stdout",
     "output_type": "stream",
     "text": [
      "tensor([[0.9919]], device='cuda:0', grad_fn=<SigmoidBackward>)\n",
      "Handnet forward time: 0.008604049682617188\n",
      "Handsegnet forward time: 0.0011420249938964844\n",
      "s shape torch.Size([1, 2, 224, 224])\n",
      "for loop time 0.004838466644287109\n",
      "hand mask sum: 2744.0\n",
      "Calculate single highest scoring object time: 0.03305459022521973\n",
      "Crop and resize time: 0.000982522964477539\n",
      "Posenet forward time: 0.0020093917846679688\n",
      "Posepriornet forward time: 0.0007572174072265625\n",
      "Viewpoint forward time: 0.000957489013671875\n",
      "Get normalized 3d coordinates time: 0.0006191730499267578\n",
      "Flip left handed input time: 0.00013947486877441406\n",
      "ScaLe heatmaps time 0.00011086463928222656\n",
      "Time for processing 1 frame: 0.049024105072021484s\n"
     ]
    },
    {
     "name": "stderr",
     "output_type": "stream",
     "text": [
      "\r",
      "618it [02:16,  2.88it/s]"
     ]
    },
    {
     "name": "stdout",
     "output_type": "stream",
     "text": [
      "tensor([[0.9850]], device='cuda:0', grad_fn=<SigmoidBackward>)\n",
      "Handnet forward time: 0.00884389877319336\n",
      "Handsegnet forward time: 0.0010986328125\n",
      "s shape torch.Size([1, 2, 224, 224])\n",
      "for loop time 0.0031969547271728516\n",
      "hand mask sum: 3057.0\n",
      "Calculate single highest scoring object time: 0.03296685218811035\n",
      "Crop and resize time: 0.0009999275207519531\n",
      "Posenet forward time: 0.0020172595977783203\n",
      "Posepriornet forward time: 0.0007600784301757812\n",
      "Viewpoint forward time: 0.00095367431640625\n",
      "Get normalized 3d coordinates time: 0.0006165504455566406\n",
      "Flip left handed input time: 0.0001308917999267578\n",
      "ScaLe heatmaps time 7.724761962890625e-05\n",
      "Time for processing 1 frame: 0.048928022384643555s\n"
     ]
    },
    {
     "name": "stderr",
     "output_type": "stream",
     "text": [
      "\r",
      "619it [02:16,  3.16it/s]"
     ]
    },
    {
     "name": "stdout",
     "output_type": "stream",
     "text": [
      "tensor([[0.9930]], device='cuda:0', grad_fn=<SigmoidBackward>)\n",
      "Handnet forward time: 0.008610725402832031\n",
      "Handsegnet forward time: 0.0010616779327392578\n",
      "s shape torch.Size([1, 2, 224, 224])\n",
      "for loop time 0.004362821578979492\n",
      "hand mask sum: 3317.0\n",
      "Calculate single highest scoring object time: 0.032305240631103516\n",
      "Crop and resize time: 0.0009877681732177734\n",
      "Posenet forward time: 0.0020122528076171875\n",
      "Posepriornet forward time: 0.0007357597351074219\n",
      "Viewpoint forward time: 0.0009582042694091797\n",
      "Get normalized 3d coordinates time: 0.0006113052368164062\n",
      "Flip left handed input time: 0.00013899803161621094\n",
      "ScaLe heatmaps time 0.00010752677917480469\n",
      "Time for processing 1 frame: 0.04821205139160156s\n"
     ]
    },
    {
     "name": "stderr",
     "output_type": "stream",
     "text": [
      "\r",
      "620it [02:16,  3.42it/s]"
     ]
    },
    {
     "name": "stdout",
     "output_type": "stream",
     "text": [
      "tensor([[0.9977]], device='cuda:0', grad_fn=<SigmoidBackward>)\n",
      "Handnet forward time: 0.008942842483520508\n",
      "Handsegnet forward time: 0.0012459754943847656\n",
      "s shape torch.Size([1, 2, 224, 224])\n",
      "for loop time 0.0038728713989257812\n",
      "hand mask sum: 3584.0\n",
      "Calculate single highest scoring object time: 0.030022382736206055\n",
      "Crop and resize time: 0.0009534358978271484\n",
      "Posenet forward time: 0.0019333362579345703\n",
      "Posepriornet forward time: 0.0006856918334960938\n",
      "Viewpoint forward time: 0.0009732246398925781\n",
      "Get normalized 3d coordinates time: 0.0006110668182373047\n",
      "Flip left handed input time: 0.00013756752014160156\n",
      "ScaLe heatmaps time 0.00011086463928222656\n",
      "Time for processing 1 frame: 0.0463099479675293s\n"
     ]
    },
    {
     "name": "stderr",
     "output_type": "stream",
     "text": [
      "\r",
      "621it [02:17,  3.64it/s]"
     ]
    },
    {
     "name": "stdout",
     "output_type": "stream",
     "text": [
      "tensor([[0.9997]], device='cuda:0', grad_fn=<SigmoidBackward>)\n",
      "Handnet forward time: 0.008378267288208008\n",
      "Handsegnet forward time: 0.001283884048461914\n",
      "s shape torch.Size([1, 2, 224, 224])\n",
      "for loop time 0.0031082630157470703\n",
      "hand mask sum: 3659.0\n",
      "Calculate single highest scoring object time: 0.03077411651611328\n",
      "Crop and resize time: 0.0009541511535644531\n",
      "Posenet forward time: 0.0020143985748291016\n",
      "Posepriornet forward time: 0.0007240772247314453\n",
      "Viewpoint forward time: 0.0009286403656005859\n",
      "Get normalized 3d coordinates time: 0.0006320476531982422\n",
      "Flip left handed input time: 0.0001308917999267578\n",
      "ScaLe heatmaps time 0.00010776519775390625\n",
      "Time for processing 1 frame: 0.04661107063293457s\n"
     ]
    },
    {
     "name": "stderr",
     "output_type": "stream",
     "text": [
      "\r",
      "622it [02:17,  3.82it/s]"
     ]
    },
    {
     "name": "stdout",
     "output_type": "stream",
     "text": [
      "tensor([[0.9999]], device='cuda:0', grad_fn=<SigmoidBackward>)\n",
      "Handnet forward time: 0.009039640426635742\n",
      "Handsegnet forward time: 0.0010640621185302734\n",
      "s shape torch.Size([1, 2, 224, 224])\n",
      "for loop time 0.0030825138092041016\n",
      "hand mask sum: 3677.0\n",
      "Calculate single highest scoring object time: 0.030426740646362305\n",
      "Crop and resize time: 0.0009276866912841797\n",
      "Posenet forward time: 0.001979827880859375\n",
      "Posepriornet forward time: 0.0007038116455078125\n",
      "Viewpoint forward time: 0.0009081363677978516\n",
      "Get normalized 3d coordinates time: 0.0005922317504882812\n",
      "Flip left handed input time: 0.00013303756713867188\n",
      "ScaLe heatmaps time 0.00010919570922851562\n",
      "Time for processing 1 frame: 0.0466458797454834s\n"
     ]
    },
    {
     "name": "stderr",
     "output_type": "stream",
     "text": [
      "\r",
      "623it [02:17,  3.94it/s]"
     ]
    },
    {
     "name": "stdout",
     "output_type": "stream",
     "text": [
      "tensor([[0.9999]], device='cuda:0', grad_fn=<SigmoidBackward>)\n",
      "Handnet forward time: 0.009248733520507812\n",
      "Handsegnet forward time: 0.0010075569152832031\n",
      "s shape torch.Size([1, 2, 224, 224])\n",
      "for loop time 0.0038187503814697266\n",
      "hand mask sum: 3650.0\n",
      "Calculate single highest scoring object time: 0.030031204223632812\n",
      "Crop and resize time: 0.0009591579437255859\n",
      "Posenet forward time: 0.001975536346435547\n",
      "Posepriornet forward time: 0.00074005126953125\n",
      "Viewpoint forward time: 0.0009596347808837891\n",
      "Get normalized 3d coordinates time: 0.0006093978881835938\n",
      "Flip left handed input time: 0.0001380443572998047\n",
      "ScaLe heatmaps time 0.00011014938354492188\n",
      "Time for processing 1 frame: 0.04640007019042969s\n"
     ]
    },
    {
     "name": "stderr",
     "output_type": "stream",
     "text": [
      "\r",
      "624it [02:17,  4.03it/s]"
     ]
    },
    {
     "name": "stdout",
     "output_type": "stream",
     "text": [
      "tensor([[1.0000]], device='cuda:0', grad_fn=<SigmoidBackward>)\n",
      "Handnet forward time: 0.009325981140136719\n",
      "Handsegnet forward time: 0.0010662078857421875\n",
      "s shape torch.Size([1, 2, 224, 224])\n",
      "for loop time 0.003106832504272461\n",
      "hand mask sum: 3690.0\n",
      "Calculate single highest scoring object time: 0.030478954315185547\n",
      "Crop and resize time: 0.0009467601776123047\n",
      "Posenet forward time: 0.0019981861114501953\n",
      "Posepriornet forward time: 0.0007174015045166016\n",
      "Viewpoint forward time: 0.0009326934814453125\n",
      "Get normalized 3d coordinates time: 0.0006511211395263672\n",
      "Flip left handed input time: 0.00014901161193847656\n",
      "ScaLe heatmaps time 0.00010704994201660156\n",
      "Time for processing 1 frame: 0.04700922966003418s\n"
     ]
    },
    {
     "name": "stderr",
     "output_type": "stream",
     "text": [
      "\r",
      "625it [02:18,  4.11it/s]"
     ]
    },
    {
     "name": "stdout",
     "output_type": "stream",
     "text": [
      "tensor([[1.0000]], device='cuda:0', grad_fn=<SigmoidBackward>)\n",
      "Handnet forward time: 0.009193658828735352\n",
      "Handsegnet forward time: 0.0013282299041748047\n",
      "s shape torch.Size([1, 2, 224, 224])\n",
      "for loop time 0.0038213729858398438\n",
      "hand mask sum: 3693.0\n",
      "Calculate single highest scoring object time: 0.03008437156677246\n",
      "Crop and resize time: 0.0009312629699707031\n",
      "Posenet forward time: 0.0019664764404296875\n",
      "Posepriornet forward time: 0.0007066726684570312\n",
      "Viewpoint forward time: 0.00090789794921875\n",
      "Get normalized 3d coordinates time: 0.0006358623504638672\n",
      "Flip left handed input time: 0.000133514404296875\n",
      "ScaLe heatmaps time 6.961822509765625e-05\n",
      "Time for processing 1 frame: 0.04640364646911621s\n"
     ]
    },
    {
     "name": "stderr",
     "output_type": "stream",
     "text": [
      "\r",
      "626it [02:18,  4.16it/s]"
     ]
    },
    {
     "name": "stdout",
     "output_type": "stream",
     "text": [
      "tensor([[1.0000]], device='cuda:0', grad_fn=<SigmoidBackward>)\n",
      "Handnet forward time: 0.009164571762084961\n",
      "Handsegnet forward time: 0.0010731220245361328\n",
      "s shape torch.Size([1, 2, 224, 224])\n",
      "for loop time 0.003083944320678711\n",
      "hand mask sum: 3660.0\n",
      "Calculate single highest scoring object time: 0.030527591705322266\n",
      "Crop and resize time: 0.0009310245513916016\n",
      "Posenet forward time: 0.0019216537475585938\n",
      "Posepriornet forward time: 0.0007176399230957031\n",
      "Viewpoint forward time: 0.0009388923645019531\n",
      "Get normalized 3d coordinates time: 0.0005974769592285156\n",
      "Flip left handed input time: 0.00013399124145507812\n",
      "ScaLe heatmaps time 2.7418136596679688e-05\n",
      "Time for processing 1 frame: 0.04650616645812988s\n"
     ]
    },
    {
     "name": "stderr",
     "output_type": "stream",
     "text": [
      "\r",
      "627it [02:18,  4.19it/s]"
     ]
    },
    {
     "name": "stdout",
     "output_type": "stream",
     "text": [
      "tensor([[1.0000]], device='cuda:0', grad_fn=<SigmoidBackward>)\n",
      "Handnet forward time: 0.009224176406860352\n",
      "Handsegnet forward time: 0.0010485649108886719\n",
      "s shape torch.Size([1, 2, 224, 224])\n",
      "for loop time 0.0031883716583251953\n",
      "hand mask sum: 3659.0\n",
      "Calculate single highest scoring object time: 0.030761003494262695\n",
      "Crop and resize time: 0.0009891986846923828\n",
      "Posenet forward time: 0.002010345458984375\n",
      "Posepriornet forward time: 0.0007481575012207031\n",
      "Viewpoint forward time: 0.0009253025054931641\n",
      "Get normalized 3d coordinates time: 0.0006213188171386719\n",
      "Flip left handed input time: 0.0001385211944580078\n",
      "ScaLe heatmaps time 0.00010585784912109375\n",
      "Time for processing 1 frame: 0.047273874282836914s\n"
     ]
    },
    {
     "name": "stderr",
     "output_type": "stream",
     "text": [
      "\r",
      "628it [02:18,  4.20it/s]"
     ]
    },
    {
     "name": "stdout",
     "output_type": "stream",
     "text": [
      "tensor([[0.9999]], device='cuda:0', grad_fn=<SigmoidBackward>)\n",
      "Handnet forward time: 0.00847315788269043\n",
      "Handsegnet forward time: 0.001077890396118164\n",
      "s shape torch.Size([1, 2, 224, 224])\n",
      "for loop time 0.003100156784057617\n",
      "hand mask sum: 3656.0\n",
      "Calculate single highest scoring object time: 0.030234813690185547\n",
      "Crop and resize time: 0.0009691715240478516\n",
      "Posenet forward time: 0.0020122528076171875\n",
      "Posepriornet forward time: 0.0007381439208984375\n",
      "Viewpoint forward time: 0.0009207725524902344\n",
      "Get normalized 3d coordinates time: 0.0006372928619384766\n",
      "Flip left handed input time: 0.00013875961303710938\n",
      "ScaLe heatmaps time 0.00011014938354492188\n",
      "Time for processing 1 frame: 0.04596662521362305s\n"
     ]
    },
    {
     "name": "stderr",
     "output_type": "stream",
     "text": [
      "\r",
      "629it [02:19,  4.22it/s]"
     ]
    },
    {
     "name": "stdout",
     "output_type": "stream",
     "text": [
      "tensor([[0.9999]], device='cuda:0', grad_fn=<SigmoidBackward>)\n",
      "Handnet forward time: 0.008128166198730469\n",
      "Handsegnet forward time: 0.000978231430053711\n",
      "s shape torch.Size([1, 2, 224, 224])\n",
      "for loop time 0.00313568115234375\n",
      "hand mask sum: 3650.0\n",
      "Calculate single highest scoring object time: 0.031066417694091797\n",
      "Crop and resize time: 0.0009777545928955078\n",
      "Posenet forward time: 0.0020110607147216797\n",
      "Posepriornet forward time: 0.0007374286651611328\n",
      "Viewpoint forward time: 0.0009801387786865234\n",
      "Get normalized 3d coordinates time: 0.0006165504455566406\n",
      "Flip left handed input time: 0.0001399517059326172\n",
      "ScaLe heatmaps time 0.00011110305786132812\n",
      "Time for processing 1 frame: 0.04637026786804199s\n"
     ]
    },
    {
     "name": "stderr",
     "output_type": "stream",
     "text": [
      "\r",
      "630it [02:19,  4.23it/s]"
     ]
    },
    {
     "name": "stdout",
     "output_type": "stream",
     "text": [
      "tensor([[0.9999]], device='cuda:0', grad_fn=<SigmoidBackward>)\n",
      "Handnet forward time: 0.007594585418701172\n",
      "Handsegnet forward time: 0.0009891986846923828\n",
      "s shape torch.Size([1, 2, 224, 224])\n",
      "for loop time 0.0031418800354003906\n",
      "hand mask sum: 3631.0\n",
      "Calculate single highest scoring object time: 0.03186225891113281\n",
      "Crop and resize time: 0.001001596450805664\n",
      "Posenet forward time: 0.00201416015625\n",
      "Posepriornet forward time: 0.0007395744323730469\n",
      "Viewpoint forward time: 0.0009889602661132812\n",
      "Get normalized 3d coordinates time: 0.000614166259765625\n",
      "Flip left handed input time: 5.745887756347656e-05\n",
      "ScaLe heatmaps time 3.266334533691406e-05\n",
      "Time for processing 1 frame: 0.04666471481323242s\n"
     ]
    },
    {
     "name": "stderr",
     "output_type": "stream",
     "text": [
      "\r",
      "631it [02:19,  4.22it/s]"
     ]
    },
    {
     "name": "stdout",
     "output_type": "stream",
     "text": [
      "tensor([[0.9998]], device='cuda:0', grad_fn=<SigmoidBackward>)\n",
      "Handnet forward time: 0.008331537246704102\n",
      "Handsegnet forward time: 0.0013518333435058594\n",
      "s shape torch.Size([1, 2, 224, 224])\n",
      "for loop time 0.003185749053955078\n",
      "hand mask sum: 3633.0\n",
      "Calculate single highest scoring object time: 0.030391931533813477\n",
      "Crop and resize time: 0.0009400844573974609\n",
      "Posenet forward time: 0.0019724369049072266\n",
      "Posepriornet forward time: 0.0007405281066894531\n",
      "Viewpoint forward time: 0.0009167194366455078\n",
      "Get normalized 3d coordinates time: 0.0005886554718017578\n",
      "Flip left handed input time: 5.626678466796875e-05\n",
      "ScaLe heatmaps time 0.00010633468627929688\n",
      "Time for processing 1 frame: 0.0460512638092041s\n"
     ]
    },
    {
     "name": "stderr",
     "output_type": "stream",
     "text": [
      "\r",
      "632it [02:19,  4.24it/s]"
     ]
    },
    {
     "name": "stdout",
     "output_type": "stream",
     "text": [
      "tensor([[0.9998]], device='cuda:0', grad_fn=<SigmoidBackward>)\n",
      "Handnet forward time: 0.008352518081665039\n",
      "Handsegnet forward time: 0.0010142326354980469\n",
      "s shape torch.Size([1, 2, 224, 224])\n",
      "for loop time 0.0033838748931884766\n",
      "hand mask sum: 3607.0\n",
      "Calculate single highest scoring object time: 0.030878782272338867\n",
      "Crop and resize time: 0.0009725093841552734\n",
      "Posenet forward time: 0.0020062923431396484\n",
      "Posepriornet forward time: 0.0007379055023193359\n",
      "Viewpoint forward time: 0.000946044921875\n",
      "Get normalized 3d coordinates time: 0.0006096363067626953\n",
      "Flip left handed input time: 0.0001380443572998047\n",
      "ScaLe heatmaps time 0.00011181831359863281\n",
      "Time for processing 1 frame: 0.046405792236328125s\n"
     ]
    },
    {
     "name": "stderr",
     "output_type": "stream",
     "text": [
      "\r",
      "633it [02:20,  4.26it/s]"
     ]
    },
    {
     "name": "stdout",
     "output_type": "stream",
     "text": [
      "tensor([[0.9998]], device='cuda:0', grad_fn=<SigmoidBackward>)\n",
      "Handnet forward time: 0.007611274719238281\n",
      "Handsegnet forward time: 0.0010371208190917969\n",
      "s shape torch.Size([1, 2, 224, 224])\n",
      "for loop time 0.003166675567626953\n",
      "hand mask sum: 3593.0\n",
      "Calculate single highest scoring object time: 0.03053140640258789\n",
      "Crop and resize time: 0.0010302066802978516\n",
      "Posenet forward time: 0.0019655227661132812\n",
      "Posepriornet forward time: 0.0007169246673583984\n",
      "Viewpoint forward time: 0.0009319782257080078\n",
      "Get normalized 3d coordinates time: 0.0006494522094726562\n",
      "Flip left handed input time: 0.00013637542724609375\n",
      "ScaLe heatmaps time 8.940696716308594e-05\n",
      "Time for processing 1 frame: 0.045326948165893555s\n"
     ]
    },
    {
     "name": "stderr",
     "output_type": "stream",
     "text": [
      "\r",
      "634it [02:20,  4.27it/s]"
     ]
    },
    {
     "name": "stdout",
     "output_type": "stream",
     "text": [
      "tensor([[0.9999]], device='cuda:0', grad_fn=<SigmoidBackward>)\n",
      "Handnet forward time: 0.00783848762512207\n",
      "Handsegnet forward time: 0.0013234615325927734\n",
      "s shape torch.Size([1, 2, 224, 224])\n",
      "for loop time 0.0031545162200927734\n",
      "hand mask sum: 3587.0\n",
      "Calculate single highest scoring object time: 0.030218839645385742\n",
      "Crop and resize time: 0.0009264945983886719\n",
      "Posenet forward time: 0.0020170211791992188\n",
      "Posepriornet forward time: 0.000705718994140625\n",
      "Viewpoint forward time: 0.0009052753448486328\n",
      "Get normalized 3d coordinates time: 0.0005865097045898438\n",
      "Flip left handed input time: 5.53131103515625e-05\n",
      "ScaLe heatmaps time 6.008148193359375e-05\n",
      "Time for processing 1 frame: 0.04551362991333008s\n"
     ]
    },
    {
     "name": "stderr",
     "output_type": "stream",
     "text": [
      "\r",
      "635it [02:20,  4.28it/s]"
     ]
    },
    {
     "name": "stdout",
     "output_type": "stream",
     "text": [
      "tensor([[0.9998]], device='cuda:0', grad_fn=<SigmoidBackward>)\n",
      "Handnet forward time: 0.007697105407714844\n",
      "Handsegnet forward time: 0.0009613037109375\n",
      "s shape torch.Size([1, 2, 224, 224])\n",
      "for loop time 0.003142833709716797\n",
      "hand mask sum: 3585.0\n",
      "Calculate single highest scoring object time: 0.03026580810546875\n",
      "Crop and resize time: 0.0009903907775878906\n",
      "Posenet forward time: 0.0020041465759277344\n",
      "Posepriornet forward time: 0.0007402896881103516\n",
      "Viewpoint forward time: 0.0009520053863525391\n",
      "Get normalized 3d coordinates time: 0.0006110668182373047\n",
      "Flip left handed input time: 0.00013947486877441406\n",
      "ScaLe heatmaps time 0.00011110305786132812\n",
      "Time for processing 1 frame: 0.04510188102722168s\n"
     ]
    },
    {
     "name": "stderr",
     "output_type": "stream",
     "text": [
      "\r",
      "636it [02:20,  4.29it/s]"
     ]
    },
    {
     "name": "stdout",
     "output_type": "stream",
     "text": [
      "tensor([[0.9999]], device='cuda:0', grad_fn=<SigmoidBackward>)\n",
      "Handnet forward time: 0.007919073104858398\n",
      "Handsegnet forward time: 0.0013768672943115234\n",
      "s shape torch.Size([1, 2, 224, 224])\n",
      "for loop time 0.0031392574310302734\n",
      "hand mask sum: 3569.0\n",
      "Calculate single highest scoring object time: 0.030504465103149414\n",
      "Crop and resize time: 0.0010249614715576172\n",
      "Posenet forward time: 0.0019702911376953125\n",
      "Posepriornet forward time: 0.0007688999176025391\n",
      "Viewpoint forward time: 0.0009226799011230469\n",
      "Get normalized 3d coordinates time: 0.0005927085876464844\n",
      "Flip left handed input time: 0.00012493133544921875\n",
      "ScaLe heatmaps time 0.00010347366333007812\n",
      "Time for processing 1 frame: 0.04580569267272949s\n"
     ]
    },
    {
     "name": "stderr",
     "output_type": "stream",
     "text": [
      "\r",
      "637it [02:20,  4.29it/s]"
     ]
    },
    {
     "name": "stdout",
     "output_type": "stream",
     "text": [
      "tensor([[0.9999]], device='cuda:0', grad_fn=<SigmoidBackward>)\n",
      "Handnet forward time: 0.007724761962890625\n",
      "Handsegnet forward time: 0.0015840530395507812\n",
      "s shape torch.Size([1, 2, 224, 224])\n",
      "for loop time 0.0032393932342529297\n",
      "hand mask sum: 3577.0\n",
      "Calculate single highest scoring object time: 0.030527114868164062\n",
      "Crop and resize time: 0.000946044921875\n",
      "Posenet forward time: 0.0020990371704101562\n",
      "Posepriornet forward time: 0.0007479190826416016\n",
      "Viewpoint forward time: 0.0010023117065429688\n",
      "Get normalized 3d coordinates time: 0.0006864070892333984\n",
      "Flip left handed input time: 0.00017142295837402344\n",
      "ScaLe heatmaps time 8.225440979003906e-05\n",
      "Time for processing 1 frame: 0.04609966278076172s\n"
     ]
    },
    {
     "name": "stderr",
     "output_type": "stream",
     "text": [
      "\r",
      "638it [02:21,  4.29it/s]"
     ]
    },
    {
     "name": "stdout",
     "output_type": "stream",
     "text": [
      "tensor([[0.9999]], device='cuda:0', grad_fn=<SigmoidBackward>)\n",
      "Handnet forward time: 0.007887601852416992\n",
      "Handsegnet forward time: 0.0014336109161376953\n",
      "s shape torch.Size([1, 2, 224, 224])\n",
      "for loop time 0.0031020641326904297\n",
      "hand mask sum: 3573.0\n",
      "Calculate single highest scoring object time: 0.030304908752441406\n",
      "Crop and resize time: 0.0009655952453613281\n",
      "Posenet forward time: 0.002014636993408203\n",
      "Posepriornet forward time: 0.000732421875\n",
      "Viewpoint forward time: 0.0009462833404541016\n",
      "Get normalized 3d coordinates time: 0.0006361007690429688\n",
      "Flip left handed input time: 0.00014066696166992188\n",
      "ScaLe heatmaps time 0.00010728836059570312\n",
      "Time for processing 1 frame: 0.045673370361328125s\n"
     ]
    },
    {
     "name": "stderr",
     "output_type": "stream",
     "text": [
      "\r",
      "639it [02:21,  4.31it/s]"
     ]
    },
    {
     "name": "stdout",
     "output_type": "stream",
     "text": [
      "tensor([[0.9998]], device='cuda:0', grad_fn=<SigmoidBackward>)\n",
      "Handnet forward time: 0.007850170135498047\n",
      "Handsegnet forward time: 0.0010647773742675781\n",
      "s shape torch.Size([1, 2, 224, 224])\n",
      "for loop time 0.0030884742736816406\n",
      "hand mask sum: 3578.0\n",
      "Calculate single highest scoring object time: 0.03110790252685547\n",
      "Crop and resize time: 0.0009379386901855469\n",
      "Posenet forward time: 0.001962900161743164\n",
      "Posepriornet forward time: 0.0007200241088867188\n",
      "Viewpoint forward time: 0.0009288787841796875\n",
      "Get normalized 3d coordinates time: 0.0005955696105957031\n",
      "Flip left handed input time: 0.00013637542724609375\n",
      "ScaLe heatmaps time 0.00010800361633300781\n",
      "Time for processing 1 frame: 0.046039581298828125s\n"
     ]
    },
    {
     "name": "stderr",
     "output_type": "stream",
     "text": [
      "\r",
      "640it [02:21,  4.29it/s]"
     ]
    },
    {
     "name": "stdout",
     "output_type": "stream",
     "text": [
      "tensor([[0.9998]], device='cuda:0', grad_fn=<SigmoidBackward>)\n",
      "Handnet forward time: 0.0076143741607666016\n",
      "Handsegnet forward time: 0.0009548664093017578\n",
      "s shape torch.Size([1, 2, 224, 224])\n",
      "for loop time 0.0031309127807617188\n",
      "hand mask sum: 3615.0\n",
      "Calculate single highest scoring object time: 0.0307619571685791\n",
      "Crop and resize time: 0.0009891986846923828\n",
      "Posenet forward time: 0.0020143985748291016\n",
      "Posepriornet forward time: 0.00077056884765625\n",
      "Viewpoint forward time: 0.0009355545043945312\n",
      "Get normalized 3d coordinates time: 0.0006296634674072266\n",
      "Flip left handed input time: 5.7697296142578125e-05\n",
      "ScaLe heatmaps time 3.409385681152344e-05\n",
      "Time for processing 1 frame: 0.045372962951660156s\n"
     ]
    },
    {
     "name": "stderr",
     "output_type": "stream",
     "text": [
      "\r",
      "641it [02:21,  4.28it/s]"
     ]
    },
    {
     "name": "stdout",
     "output_type": "stream",
     "text": [
      "tensor([[1.0000]], device='cuda:0', grad_fn=<SigmoidBackward>)\n",
      "Handnet forward time: 0.007601261138916016\n",
      "Handsegnet forward time: 0.0009915828704833984\n",
      "s shape torch.Size([1, 2, 224, 224])\n",
      "for loop time 0.003128528594970703\n",
      "hand mask sum: 3571.0\n",
      "Calculate single highest scoring object time: 0.03101038932800293\n",
      "Crop and resize time: 0.0009641647338867188\n",
      "Posenet forward time: 0.002064228057861328\n",
      "Posepriornet forward time: 0.0007388591766357422\n",
      "Viewpoint forward time: 0.0009868144989013672\n",
      "Get normalized 3d coordinates time: 0.0006225109100341797\n",
      "Flip left handed input time: 0.0001399517059326172\n",
      "ScaLe heatmaps time 0.00010895729064941406\n",
      "Time for processing 1 frame: 0.04586291313171387s\n"
     ]
    },
    {
     "name": "stderr",
     "output_type": "stream",
     "text": [
      "\r",
      "642it [02:22,  4.27it/s]"
     ]
    },
    {
     "name": "stdout",
     "output_type": "stream",
     "text": [
      "tensor([[0.9998]], device='cuda:0', grad_fn=<SigmoidBackward>)\n",
      "Handnet forward time: 0.007616996765136719\n",
      "Handsegnet forward time: 0.0010342597961425781\n",
      "s shape torch.Size([1, 2, 224, 224])\n",
      "for loop time 0.0031523704528808594\n",
      "hand mask sum: 3460.0\n",
      "Calculate single highest scoring object time: 0.03172755241394043\n",
      "Crop and resize time: 0.0009849071502685547\n",
      "Posenet forward time: 0.002012014389038086\n",
      "Posepriornet forward time: 0.0007486343383789062\n",
      "Viewpoint forward time: 0.0009505748748779297\n",
      "Get normalized 3d coordinates time: 0.00063323974609375\n",
      "Flip left handed input time: 0.00014019012451171875\n",
      "ScaLe heatmaps time 0.00011134147644042969\n",
      "Time for processing 1 frame: 0.04660964012145996s\n"
     ]
    },
    {
     "name": "stderr",
     "output_type": "stream",
     "text": [
      "\r",
      "643it [02:22,  4.24it/s]"
     ]
    },
    {
     "name": "stdout",
     "output_type": "stream",
     "text": [
      "tensor([[0.9991]], device='cuda:0', grad_fn=<SigmoidBackward>)\n",
      "Handnet forward time: 0.008681297302246094\n",
      "Handsegnet forward time: 0.0010089874267578125\n",
      "s shape torch.Size([1, 2, 224, 224])\n",
      "for loop time 0.0038979053497314453\n",
      "hand mask sum: 3332.0\n",
      "Calculate single highest scoring object time: 0.03197455406188965\n",
      "Crop and resize time: 0.0010418891906738281\n",
      "Posenet forward time: 0.002003908157348633\n",
      "Posepriornet forward time: 0.0007526874542236328\n",
      "Viewpoint forward time: 0.0009529590606689453\n",
      "Get normalized 3d coordinates time: 0.0006177425384521484\n",
      "Flip left handed input time: 0.0001399517059326172\n",
      "ScaLe heatmaps time 0.00011205673217773438\n",
      "Time for processing 1 frame: 0.04790973663330078s\n"
     ]
    },
    {
     "name": "stderr",
     "output_type": "stream",
     "text": [
      "\r",
      "644it [02:22,  4.18it/s]"
     ]
    },
    {
     "name": "stdout",
     "output_type": "stream",
     "text": [
      "tensor([[0.9842]], device='cuda:0', grad_fn=<SigmoidBackward>)\n",
      "Handnet forward time: 0.008438587188720703\n",
      "Handsegnet forward time: 0.001604318618774414\n",
      "s shape torch.Size([1, 2, 224, 224])\n",
      "for loop time 0.0038709640502929688\n",
      "hand mask sum: 2965.0\n",
      "Calculate single highest scoring object time: 0.0304563045501709\n",
      "Crop and resize time: 0.0010175704956054688\n",
      "Posenet forward time: 0.0029523372650146484\n",
      "Posepriornet forward time: 0.0007452964782714844\n",
      "Viewpoint forward time: 0.0009438991546630859\n",
      "Get normalized 3d coordinates time: 0.0006272792816162109\n",
      "Flip left handed input time: 0.00013899803161621094\n",
      "ScaLe heatmaps time 0.00011038780212402344\n",
      "Time for processing 1 frame: 0.047711849212646484s\n"
     ]
    },
    {
     "name": "stderr",
     "output_type": "stream",
     "text": [
      "\r",
      "645it [02:22,  4.14it/s]"
     ]
    },
    {
     "name": "stdout",
     "output_type": "stream",
     "text": [
      "tensor([[0.8949]], device='cuda:0', grad_fn=<SigmoidBackward>)\n",
      "Handnet forward time: 0.007578372955322266\n",
      "Handsegnet forward time: 0.0010144710540771484\n",
      "s shape torch.Size([1, 2, 224, 224])\n",
      "for loop time 0.003202676773071289\n",
      "hand mask sum: 2653.0\n",
      "Calculate single highest scoring object time: 0.032144784927368164\n",
      "Crop and resize time: 0.0009770393371582031\n",
      "Posenet forward time: 0.002026796340942383\n",
      "Posepriornet forward time: 0.0007429122924804688\n",
      "Viewpoint forward time: 0.0009589195251464844\n",
      "Get normalized 3d coordinates time: 0.0006139278411865234\n",
      "Flip left handed input time: 0.00013685226440429688\n",
      "ScaLe heatmaps time 3.1948089599609375e-05\n",
      "Time for processing 1 frame: 0.04685473442077637s\n"
     ]
    },
    {
     "name": "stderr",
     "output_type": "stream",
     "text": [
      "\r",
      "646it [02:23,  4.15it/s]"
     ]
    },
    {
     "name": "stdout",
     "output_type": "stream",
     "text": [
      "tensor([[0.7250]], device='cuda:0', grad_fn=<SigmoidBackward>)\n",
      "Handnet forward time: 0.009677648544311523\n",
      "Handsegnet forward time: 0.0010986328125\n",
      "s shape torch.Size([1, 2, 224, 224])\n",
      "for loop time 0.003110170364379883\n",
      "hand mask sum: 2535.0\n",
      "Calculate single highest scoring object time: 0.03170061111450195\n",
      "Crop and resize time: 0.001058816909790039\n",
      "Posenet forward time: 0.0020012855529785156\n",
      "Posepriornet forward time: 0.0007627010345458984\n",
      "Viewpoint forward time: 0.0009372234344482422\n",
      "Get normalized 3d coordinates time: 0.0006148815155029297\n",
      "Flip left handed input time: 0.0001442432403564453\n",
      "ScaLe heatmaps time 0.00010061264038085938\n",
      "Time for processing 1 frame: 0.04877829551696777s\n"
     ]
    },
    {
     "name": "stderr",
     "output_type": "stream",
     "text": [
      "\r",
      "647it [02:23,  4.12it/s]"
     ]
    },
    {
     "name": "stdout",
     "output_type": "stream",
     "text": [
      "tensor([[0.7141]], device='cuda:0', grad_fn=<SigmoidBackward>)\n",
      "Handnet forward time: 0.008823156356811523\n",
      "Handsegnet forward time: 0.0011851787567138672\n",
      "s shape torch.Size([1, 2, 224, 224])\n",
      "for loop time 0.004781961441040039\n",
      "hand mask sum: 2433.0\n",
      "Calculate single highest scoring object time: 0.03167843818664551\n",
      "Crop and resize time: 0.0009996891021728516\n",
      "Posenet forward time: 0.0020322799682617188\n",
      "Posepriornet forward time: 0.0007834434509277344\n",
      "Viewpoint forward time: 0.0009567737579345703\n",
      "Get normalized 3d coordinates time: 0.0006189346313476562\n",
      "Flip left handed input time: 0.0001392364501953125\n",
      "ScaLe heatmaps time 0.00010800361633300781\n",
      "Time for processing 1 frame: 0.04776954650878906s\n"
     ]
    },
    {
     "name": "stderr",
     "output_type": "stream",
     "text": [
      "\r",
      "648it [02:23,  4.16it/s]"
     ]
    },
    {
     "name": "stdout",
     "output_type": "stream",
     "text": [
      "tensor([[0.6958]], device='cuda:0', grad_fn=<SigmoidBackward>)\n",
      "Handnet forward time: 0.007577657699584961\n",
      "Handsegnet forward time: 0.0009734630584716797\n",
      "s shape torch.Size([1, 2, 224, 224])\n",
      "for loop time 0.0031015872955322266\n",
      "hand mask sum: 2380.0\n",
      "Calculate single highest scoring object time: 0.0279998779296875\n",
      "Crop and resize time: 0.0009608268737792969\n",
      "Posenet forward time: 0.002000093460083008\n",
      "Posepriornet forward time: 0.0007424354553222656\n",
      "Viewpoint forward time: 0.0009677410125732422\n",
      "Get normalized 3d coordinates time: 0.0006177425384521484\n",
      "Flip left handed input time: 0.00013709068298339844\n",
      "ScaLe heatmaps time 8.58306884765625e-05\n",
      "Time for processing 1 frame: 0.0426785945892334s\n"
     ]
    },
    {
     "name": "stderr",
     "output_type": "stream",
     "text": [
      "\r",
      "649it [02:23,  4.21it/s]"
     ]
    },
    {
     "name": "stdout",
     "output_type": "stream",
     "text": [
      "tensor([[0.5388]], device='cuda:0', grad_fn=<SigmoidBackward>)\n",
      "Handnet forward time: 0.007545948028564453\n",
      "Handsegnet forward time: 0.0009396076202392578\n",
      "s shape torch.Size([1, 2, 224, 224])\n",
      "for loop time 0.003056049346923828\n",
      "hand mask sum: 2208.0\n",
      "Calculate single highest scoring object time: 0.028138399124145508\n",
      "Crop and resize time: 0.0010938644409179688\n",
      "Posenet forward time: 0.001993894577026367\n",
      "Posepriornet forward time: 0.000720977783203125\n",
      "Viewpoint forward time: 0.0009343624114990234\n",
      "Get normalized 3d coordinates time: 0.0005950927734375\n",
      "Flip left handed input time: 0.00017595291137695312\n",
      "ScaLe heatmaps time 0.00010967254638671875\n",
      "Time for processing 1 frame: 0.04284334182739258s\n"
     ]
    },
    {
     "name": "stderr",
     "output_type": "stream",
     "text": [
      "651it [02:24,  5.03it/s]"
     ]
    },
    {
     "name": "stdout",
     "output_type": "stream",
     "text": [
      "tensor([[0.4983]], device='cuda:0', grad_fn=<SigmoidBackward>)\n",
      "Handnet forward time: 0.007567644119262695\n",
      "no hand\n",
      "Time for processing 1 frame: 0.008004188537597656s\n",
      "tensor([[0.6723]], device='cuda:0', grad_fn=<SigmoidBackward>)\n",
      "Handnet forward time: 0.007585763931274414\n",
      "Handsegnet forward time: 0.001010894775390625\n",
      "s shape torch.Size([1, 2, 224, 224])\n",
      "for loop time 0.0030014514923095703\n",
      "hand mask sum: 2054.0\n",
      "Calculate single highest scoring object time: 0.027943849563598633\n",
      "Crop and resize time: 0.0009019374847412109\n",
      "Posenet forward time: 0.0019164085388183594\n",
      "Posepriornet forward time: 0.0006957054138183594\n",
      "Viewpoint forward time: 0.0009074211120605469\n",
      "Get normalized 3d coordinates time: 0.0005698204040527344\n",
      "Flip left handed input time: 0.00010919570922851562\n",
      "ScaLe heatmaps time 0.0001049041748046875\n",
      "Time for processing 1 frame: 0.04197072982788086s\n"
     ]
    },
    {
     "name": "stderr",
     "output_type": "stream",
     "text": [
      "\r",
      "652it [02:24,  4.83it/s]"
     ]
    },
    {
     "name": "stdout",
     "output_type": "stream",
     "text": [
      "tensor([[0.6295]], device='cuda:0', grad_fn=<SigmoidBackward>)\n",
      "Handnet forward time: 0.007575511932373047\n",
      "Handsegnet forward time: 0.0009398460388183594\n",
      "s shape torch.Size([1, 2, 224, 224])\n",
      "for loop time 0.003111600875854492\n",
      "hand mask sum: 1981.0\n",
      "Calculate single highest scoring object time: 0.028076887130737305\n",
      "Crop and resize time: 0.0009942054748535156\n",
      "Posenet forward time: 0.0019311904907226562\n",
      "Posepriornet forward time: 0.0007174015045166016\n",
      "Viewpoint forward time: 0.0009596347808837891\n",
      "Get normalized 3d coordinates time: 0.0006563663482666016\n",
      "Flip left handed input time: 5.555152893066406e-05\n",
      "ScaLe heatmaps time 3.147125244140625e-05\n",
      "Time for processing 1 frame: 0.04254484176635742s\n"
     ]
    },
    {
     "name": "stderr",
     "output_type": "stream",
     "text": [
      "\r",
      "653it [02:24,  4.66it/s]"
     ]
    },
    {
     "name": "stdout",
     "output_type": "stream",
     "text": [
      "tensor([[0.6368]], device='cuda:0', grad_fn=<SigmoidBackward>)\n",
      "Handnet forward time: 0.008028507232666016\n",
      "Handsegnet forward time: 0.0009899139404296875\n",
      "s shape torch.Size([1, 2, 224, 224])\n",
      "for loop time 0.0030672550201416016\n",
      "hand mask sum: 1941.0\n",
      "Calculate single highest scoring object time: 0.027964115142822266\n",
      "Crop and resize time: 0.0009586811065673828\n",
      "Posenet forward time: 0.001985311508178711\n",
      "Posepriornet forward time: 0.0007367134094238281\n",
      "Viewpoint forward time: 0.0009696483612060547\n",
      "Get normalized 3d coordinates time: 0.0006182193756103516\n",
      "Flip left handed input time: 0.00014019012451171875\n",
      "ScaLe heatmaps time 0.0001087188720703125\n",
      "Time for processing 1 frame: 0.04308366775512695s\n"
     ]
    },
    {
     "name": "stderr",
     "output_type": "stream",
     "text": [
      "\r",
      "654it [02:24,  4.55it/s]"
     ]
    },
    {
     "name": "stdout",
     "output_type": "stream",
     "text": [
      "tensor([[0.7057]], device='cuda:0', grad_fn=<SigmoidBackward>)\n",
      "Handnet forward time: 0.00753474235534668\n",
      "Handsegnet forward time: 0.0009474754333496094\n",
      "s shape torch.Size([1, 2, 224, 224])\n",
      "for loop time 0.003089427947998047\n",
      "hand mask sum: 1923.0\n",
      "Calculate single highest scoring object time: 0.02802443504333496\n",
      "Crop and resize time: 0.0009305477142333984\n",
      "Posenet forward time: 0.0019469261169433594\n",
      "Posepriornet forward time: 0.0007123947143554688\n",
      "Viewpoint forward time: 0.0009448528289794922\n",
      "Get normalized 3d coordinates time: 0.0005946159362792969\n",
      "Flip left handed input time: 0.00013327598571777344\n",
      "ScaLe heatmaps time 0.00010609626770019531\n",
      "Time for processing 1 frame: 0.0424809455871582s\n"
     ]
    },
    {
     "name": "stderr",
     "output_type": "stream",
     "text": [
      "\r",
      "655it [02:25,  4.51it/s]"
     ]
    },
    {
     "name": "stdout",
     "output_type": "stream",
     "text": [
      "tensor([[0.7523]], device='cuda:0', grad_fn=<SigmoidBackward>)\n",
      "Handnet forward time: 0.007626771926879883\n",
      "Handsegnet forward time: 0.0011935234069824219\n",
      "s shape torch.Size([1, 2, 224, 224])\n",
      "for loop time 0.0030975341796875\n",
      "hand mask sum: 1903.0\n",
      "Calculate single highest scoring object time: 0.02825188636779785\n",
      "Crop and resize time: 0.0008997917175292969\n",
      "Posenet forward time: 0.0020356178283691406\n",
      "Posepriornet forward time: 0.0007891654968261719\n",
      "Viewpoint forward time: 0.0009310245513916016\n",
      "Get normalized 3d coordinates time: 0.000598907470703125\n",
      "Flip left handed input time: 5.602836608886719e-05\n",
      "ScaLe heatmaps time 3.075599670410156e-05\n",
      "Time for processing 1 frame: 0.04305100440979004s\n"
     ]
    },
    {
     "name": "stderr",
     "output_type": "stream",
     "text": [
      "\r",
      "656it [02:25,  4.44it/s]"
     ]
    },
    {
     "name": "stdout",
     "output_type": "stream",
     "text": [
      "tensor([[0.8180]], device='cuda:0', grad_fn=<SigmoidBackward>)\n",
      "Handnet forward time: 0.0076045989990234375\n",
      "Handsegnet forward time: 0.0009472370147705078\n",
      "s shape torch.Size([1, 2, 224, 224])\n",
      "for loop time 0.0031456947326660156\n",
      "hand mask sum: 1916.0\n",
      "Calculate single highest scoring object time: 0.030932188034057617\n",
      "Crop and resize time: 0.0009632110595703125\n",
      "Posenet forward time: 0.00200653076171875\n",
      "Posepriornet forward time: 0.0007469654083251953\n",
      "Viewpoint forward time: 0.0010721683502197266\n",
      "Get normalized 3d coordinates time: 0.0006496906280517578\n",
      "Flip left handed input time: 0.00013494491577148438\n",
      "ScaLe heatmaps time 0.00010895729064941406\n",
      "Time for processing 1 frame: 0.04583263397216797s\n"
     ]
    },
    {
     "name": "stderr",
     "output_type": "stream",
     "text": [
      "\r",
      "657it [02:25,  4.37it/s]"
     ]
    },
    {
     "name": "stdout",
     "output_type": "stream",
     "text": [
      "tensor([[0.8326]], device='cuda:0', grad_fn=<SigmoidBackward>)\n",
      "Handnet forward time: 0.007681846618652344\n",
      "Handsegnet forward time: 0.0010364055633544922\n",
      "s shape torch.Size([1, 2, 224, 224])\n",
      "for loop time 0.003053426742553711\n",
      "hand mask sum: 1909.0\n",
      "Calculate single highest scoring object time: 0.0279233455657959\n",
      "Crop and resize time: 0.0009326934814453125\n",
      "Posenet forward time: 0.001998424530029297\n",
      "Posepriornet forward time: 0.0007395744323730469\n",
      "Viewpoint forward time: 0.0009567737579345703\n",
      "Get normalized 3d coordinates time: 0.0006096363067626953\n",
      "Flip left handed input time: 0.0001366138458251953\n",
      "ScaLe heatmaps time 0.00010848045349121094\n",
      "Time for processing 1 frame: 0.042548418045043945s\n"
     ]
    },
    {
     "name": "stderr",
     "output_type": "stream",
     "text": [
      "\r",
      "658it [02:25,  4.36it/s]"
     ]
    },
    {
     "name": "stdout",
     "output_type": "stream",
     "text": [
      "tensor([[0.8321]], device='cuda:0', grad_fn=<SigmoidBackward>)\n",
      "Handnet forward time: 0.007595539093017578\n",
      "Handsegnet forward time: 0.001007080078125\n",
      "s shape torch.Size([1, 2, 224, 224])\n",
      "for loop time 0.0030732154846191406\n",
      "hand mask sum: 1921.0\n",
      "Calculate single highest scoring object time: 0.028067350387573242\n",
      "Crop and resize time: 0.0009667873382568359\n",
      "Posenet forward time: 0.0019905567169189453\n",
      "Posepriornet forward time: 0.0007405281066894531\n",
      "Viewpoint forward time: 0.0009398460388183594\n",
      "Get normalized 3d coordinates time: 0.000614166259765625\n",
      "Flip left handed input time: 0.0001366138458251953\n",
      "ScaLe heatmaps time 6.198883056640625e-05\n",
      "Time for processing 1 frame: 0.04275655746459961s\n"
     ]
    },
    {
     "name": "stderr",
     "output_type": "stream",
     "text": [
      "\r",
      "659it [02:25,  4.35it/s]"
     ]
    },
    {
     "name": "stdout",
     "output_type": "stream",
     "text": [
      "tensor([[0.7975]], device='cuda:0', grad_fn=<SigmoidBackward>)\n",
      "Handnet forward time: 0.007536888122558594\n",
      "Handsegnet forward time: 0.0009512901306152344\n",
      "s shape torch.Size([1, 2, 224, 224])\n",
      "for loop time 0.0030777454376220703\n",
      "hand mask sum: 1899.0\n",
      "Calculate single highest scoring object time: 0.030360937118530273\n",
      "Crop and resize time: 0.0009360313415527344\n",
      "Posenet forward time: 0.0019712448120117188\n",
      "Posepriornet forward time: 0.0006940364837646484\n",
      "Viewpoint forward time: 0.0009887218475341797\n",
      "Get normalized 3d coordinates time: 0.0006930828094482422\n",
      "Flip left handed input time: 0.0001919269561767578\n",
      "ScaLe heatmaps time 0.00013685226440429688\n",
      "Time for processing 1 frame: 0.04509925842285156s\n"
     ]
    },
    {
     "name": "stderr",
     "output_type": "stream",
     "text": [
      "\r",
      "660it [02:26,  4.19it/s]"
     ]
    },
    {
     "name": "stdout",
     "output_type": "stream",
     "text": [
      "tensor([[0.8202]], device='cuda:0', grad_fn=<SigmoidBackward>)\n",
      "Handnet forward time: 0.009401321411132812\n",
      "Handsegnet forward time: 0.0010106563568115234\n",
      "s shape torch.Size([1, 2, 224, 224])\n",
      "for loop time 0.0037119388580322266\n",
      "hand mask sum: 1924.0\n",
      "Calculate single highest scoring object time: 0.0321652889251709\n",
      "Crop and resize time: 0.0009453296661376953\n",
      "Posenet forward time: 0.001974821090698242\n",
      "Posepriornet forward time: 0.0007290840148925781\n",
      "Viewpoint forward time: 0.0009171962738037109\n",
      "Get normalized 3d coordinates time: 0.0006210803985595703\n",
      "Flip left handed input time: 5.7220458984375e-05\n",
      "ScaLe heatmaps time 3.3855438232421875e-05\n",
      "Time for processing 1 frame: 0.04848980903625488s\n"
     ]
    },
    {
     "name": "stderr",
     "output_type": "stream",
     "text": [
      "\r",
      "661it [02:26,  4.17it/s]"
     ]
    },
    {
     "name": "stdout",
     "output_type": "stream",
     "text": [
      "tensor([[0.8542]], device='cuda:0', grad_fn=<SigmoidBackward>)\n",
      "Handnet forward time: 0.00759434700012207\n",
      "Handsegnet forward time: 0.0010156631469726562\n",
      "s shape torch.Size([1, 2, 224, 224])\n",
      "for loop time 0.0031304359436035156\n",
      "hand mask sum: 1921.0\n",
      "Calculate single highest scoring object time: 0.030364990234375\n",
      "Crop and resize time: 0.0009741783142089844\n",
      "Posenet forward time: 0.002021312713623047\n",
      "Posepriornet forward time: 0.0007407665252685547\n",
      "Viewpoint forward time: 0.0009579658508300781\n",
      "Get normalized 3d coordinates time: 0.0008432865142822266\n",
      "Flip left handed input time: 0.00016450881958007812\n",
      "ScaLe heatmaps time 9.465217590332031e-05\n",
      "Time for processing 1 frame: 0.04545474052429199s\n"
     ]
    },
    {
     "name": "stderr",
     "output_type": "stream",
     "text": [
      "\r",
      "662it [02:26,  4.11it/s]"
     ]
    },
    {
     "name": "stdout",
     "output_type": "stream",
     "text": [
      "tensor([[0.8718]], device='cuda:0', grad_fn=<SigmoidBackward>)\n",
      "Handnet forward time: 0.007645845413208008\n",
      "Handsegnet forward time: 0.0010180473327636719\n",
      "s shape torch.Size([1, 2, 224, 224])\n",
      "for loop time 0.003156423568725586\n",
      "hand mask sum: 1922.0\n",
      "Calculate single highest scoring object time: 0.029773950576782227\n",
      "Crop and resize time: 0.0009567737579345703\n",
      "Posenet forward time: 0.0019927024841308594\n",
      "Posepriornet forward time: 0.0009195804595947266\n",
      "Viewpoint forward time: 0.0010709762573242188\n",
      "Get normalized 3d coordinates time: 0.0006504058837890625\n",
      "Flip left handed input time: 0.0001475811004638672\n",
      "ScaLe heatmaps time 0.00010561943054199219\n",
      "Time for processing 1 frame: 0.045003414154052734s\n"
     ]
    },
    {
     "name": "stderr",
     "output_type": "stream",
     "text": [
      "\r",
      "663it [02:26,  4.14it/s]"
     ]
    },
    {
     "name": "stdout",
     "output_type": "stream",
     "text": [
      "tensor([[0.7942]], device='cuda:0', grad_fn=<SigmoidBackward>)\n",
      "Handnet forward time: 0.008447408676147461\n",
      "Handsegnet forward time: 0.0010313987731933594\n",
      "s shape torch.Size([1, 2, 224, 224])\n",
      "for loop time 0.0036687850952148438\n",
      "hand mask sum: 1932.0\n",
      "Calculate single highest scoring object time: 0.03050065040588379\n",
      "Crop and resize time: 0.0012178421020507812\n",
      "Posenet forward time: 0.002473592758178711\n",
      "Posepriornet forward time: 0.0012764930725097656\n",
      "Viewpoint forward time: 0.0015532970428466797\n",
      "Get normalized 3d coordinates time: 0.0012154579162597656\n",
      "Flip left handed input time: 0.00026345252990722656\n",
      "ScaLe heatmaps time 0.00020313262939453125\n",
      "Time for processing 1 frame: 0.04932093620300293s\n"
     ]
    },
    {
     "name": "stderr",
     "output_type": "stream",
     "text": [
      "\r",
      "664it [02:27,  4.07it/s]"
     ]
    },
    {
     "name": "stdout",
     "output_type": "stream",
     "text": [
      "tensor([[0.8348]], device='cuda:0', grad_fn=<SigmoidBackward>)\n",
      "Handnet forward time: 0.009366750717163086\n",
      "Handsegnet forward time: 0.0009953975677490234\n",
      "s shape torch.Size([1, 2, 224, 224])\n",
      "for loop time 0.0031156539916992188\n",
      "hand mask sum: 1928.0\n",
      "Calculate single highest scoring object time: 0.031189680099487305\n",
      "Crop and resize time: 0.0009481906890869141\n",
      "Posenet forward time: 0.001974344253540039\n",
      "Posepriornet forward time: 0.0007398128509521484\n",
      "Viewpoint forward time: 0.0009360313415527344\n",
      "Get normalized 3d coordinates time: 0.0006070137023925781\n",
      "Flip left handed input time: 0.000133514404296875\n",
      "ScaLe heatmaps time 0.00010704994201660156\n",
      "Time for processing 1 frame: 0.04764270782470703s\n"
     ]
    },
    {
     "name": "stderr",
     "output_type": "stream",
     "text": [
      "\r",
      "665it [02:27,  4.09it/s]"
     ]
    },
    {
     "name": "stdout",
     "output_type": "stream",
     "text": [
      "tensor([[0.8296]], device='cuda:0', grad_fn=<SigmoidBackward>)\n",
      "Handnet forward time: 0.007602214813232422\n",
      "Handsegnet forward time: 0.0010833740234375\n",
      "s shape torch.Size([1, 2, 224, 224])\n",
      "for loop time 0.003126382827758789\n",
      "hand mask sum: 1982.0\n",
      "Calculate single highest scoring object time: 0.028382062911987305\n",
      "Crop and resize time: 0.0009553432464599609\n",
      "Posenet forward time: 0.001978158950805664\n",
      "Posepriornet forward time: 0.0007500648498535156\n",
      "Viewpoint forward time: 0.0009577274322509766\n",
      "Get normalized 3d coordinates time: 0.0006175041198730469\n",
      "Flip left handed input time: 0.0001354217529296875\n",
      "ScaLe heatmaps time 0.00010728836059570312\n",
      "Time for processing 1 frame: 0.0431208610534668s\n"
     ]
    },
    {
     "name": "stderr",
     "output_type": "stream",
     "text": [
      "\r",
      "666it [02:27,  4.14it/s]"
     ]
    },
    {
     "name": "stdout",
     "output_type": "stream",
     "text": [
      "tensor([[0.7604]], device='cuda:0', grad_fn=<SigmoidBackward>)\n",
      "Handnet forward time: 0.0075991153717041016\n",
      "Handsegnet forward time: 0.0010075569152832031\n",
      "s shape torch.Size([1, 2, 224, 224])\n",
      "for loop time 0.0030989646911621094\n",
      "hand mask sum: 1938.0\n",
      "Calculate single highest scoring object time: 0.029352188110351562\n",
      "Crop and resize time: 0.0009412765502929688\n",
      "Posenet forward time: 0.0019905567169189453\n",
      "Posepriornet forward time: 0.0008358955383300781\n",
      "Viewpoint forward time: 0.0010204315185546875\n",
      "Get normalized 3d coordinates time: 0.0006377696990966797\n",
      "Flip left handed input time: 5.7220458984375e-05\n",
      "ScaLe heatmaps time 3.4332275390625e-05\n",
      "Time for processing 1 frame: 0.044142961502075195s\n"
     ]
    },
    {
     "name": "stderr",
     "output_type": "stream",
     "text": [
      "\r",
      "667it [02:27,  4.19it/s]"
     ]
    },
    {
     "name": "stdout",
     "output_type": "stream",
     "text": [
      "tensor([[0.8772]], device='cuda:0', grad_fn=<SigmoidBackward>)\n",
      "Handnet forward time: 0.007553815841674805\n",
      "Handsegnet forward time: 0.0010950565338134766\n",
      "s shape torch.Size([1, 2, 224, 224])\n",
      "for loop time 0.0030243396759033203\n",
      "hand mask sum: 1815.0\n",
      "Calculate single highest scoring object time: 0.027899980545043945\n",
      "Crop and resize time: 0.0009183883666992188\n",
      "Posenet forward time: 0.001953125\n",
      "Posepriornet forward time: 0.0007169246673583984\n",
      "Viewpoint forward time: 0.0009527206420898438\n",
      "Get normalized 3d coordinates time: 0.0006070137023925781\n",
      "Flip left handed input time: 0.000141143798828125\n",
      "ScaLe heatmaps time 9.679794311523438e-05\n",
      "Time for processing 1 frame: 0.042360544204711914s\n"
     ]
    },
    {
     "name": "stderr",
     "output_type": "stream",
     "text": [
      "669it [02:28,  4.87it/s]"
     ]
    },
    {
     "name": "stdout",
     "output_type": "stream",
     "text": [
      "tensor([[0.4411]], device='cuda:0', grad_fn=<SigmoidBackward>)\n",
      "Handnet forward time: 0.010146617889404297\n",
      "no hand\n",
      "Time for processing 1 frame: 0.010676145553588867s\n",
      "tensor([[0.1719]], device='cuda:0', grad_fn=<SigmoidBackward>)\n",
      "Handnet forward time: 0.007550716400146484\n",
      "no hand\n",
      "Time for processing 1 frame: 0.007691860198974609s\n"
     ]
    },
    {
     "name": "stderr",
     "output_type": "stream",
     "text": [
      "671it [02:28,  6.21it/s]"
     ]
    },
    {
     "name": "stdout",
     "output_type": "stream",
     "text": [
      "tensor([[0.0594]], device='cuda:0', grad_fn=<SigmoidBackward>)\n",
      "Handnet forward time: 0.0075817108154296875\n",
      "no hand\n",
      "Time for processing 1 frame: 0.00782322883605957s\n",
      "tensor([[0.0199]], device='cuda:0', grad_fn=<SigmoidBackward>)\n",
      "Handnet forward time: 0.0075473785400390625\n",
      "no hand\n",
      "Time for processing 1 frame: 0.007740974426269531s\n"
     ]
    },
    {
     "name": "stderr",
     "output_type": "stream",
     "text": [
      "673it [02:28,  7.18it/s]"
     ]
    },
    {
     "name": "stdout",
     "output_type": "stream",
     "text": [
      "tensor([[0.0030]], device='cuda:0', grad_fn=<SigmoidBackward>)\n",
      "Handnet forward time: 0.007544040679931641\n",
      "no hand\n",
      "Time for processing 1 frame: 0.007761240005493164s\n",
      "tensor([[0.0019]], device='cuda:0', grad_fn=<SigmoidBackward>)\n",
      "Handnet forward time: 0.0075376033782958984\n",
      "no hand\n",
      "Time for processing 1 frame: 0.0077359676361083984s\n"
     ]
    },
    {
     "name": "stderr",
     "output_type": "stream",
     "text": [
      "675it [02:29,  7.63it/s]"
     ]
    },
    {
     "name": "stdout",
     "output_type": "stream",
     "text": [
      "tensor([[0.0005]], device='cuda:0', grad_fn=<SigmoidBackward>)\n",
      "Handnet forward time: 0.009181022644042969\n",
      "no hand\n",
      "Time for processing 1 frame: 0.009438753128051758s\n",
      "tensor([[0.0003]], device='cuda:0', grad_fn=<SigmoidBackward>)\n",
      "Handnet forward time: 0.007548093795776367\n",
      "no hand\n",
      "Time for processing 1 frame: 0.007752180099487305s\n"
     ]
    },
    {
     "name": "stderr",
     "output_type": "stream",
     "text": [
      "677it [02:29,  8.03it/s]"
     ]
    },
    {
     "name": "stdout",
     "output_type": "stream",
     "text": [
      "tensor([[0.0004]], device='cuda:0', grad_fn=<SigmoidBackward>)\n",
      "Handnet forward time: 0.007536649703979492\n",
      "no hand\n",
      "Time for processing 1 frame: 0.0077555179595947266s\n",
      "tensor([[0.0004]], device='cuda:0', grad_fn=<SigmoidBackward>)\n",
      "Handnet forward time: 0.009243249893188477\n",
      "no hand\n",
      "Time for processing 1 frame: 0.009408235549926758s\n"
     ]
    },
    {
     "name": "stderr",
     "output_type": "stream",
     "text": [
      "679it [02:29,  8.15it/s]"
     ]
    },
    {
     "name": "stdout",
     "output_type": "stream",
     "text": [
      "tensor([[0.0006]], device='cuda:0', grad_fn=<SigmoidBackward>)\n",
      "Handnet forward time: 0.007538557052612305\n",
      "no hand\n",
      "Time for processing 1 frame: 0.007595062255859375s\n",
      "tensor([[0.0005]], device='cuda:0', grad_fn=<SigmoidBackward>)\n",
      "Handnet forward time: 0.007522106170654297\n",
      "no hand\n",
      "Time for processing 1 frame: 0.007574558258056641s\n"
     ]
    },
    {
     "name": "stderr",
     "output_type": "stream",
     "text": [
      "681it [02:29,  8.10it/s]"
     ]
    },
    {
     "name": "stdout",
     "output_type": "stream",
     "text": [
      "tensor([[0.0005]], device='cuda:0', grad_fn=<SigmoidBackward>)\n",
      "Handnet forward time: 0.008253335952758789\n",
      "no hand\n",
      "Time for processing 1 frame: 0.008408069610595703s\n",
      "tensor([[0.0004]], device='cuda:0', grad_fn=<SigmoidBackward>)\n",
      "Handnet forward time: 0.009138345718383789\n",
      "no hand\n",
      "Time for processing 1 frame: 0.009196043014526367s\n"
     ]
    },
    {
     "name": "stderr",
     "output_type": "stream",
     "text": [
      "683it [02:29,  8.26it/s]"
     ]
    },
    {
     "name": "stdout",
     "output_type": "stream",
     "text": [
      "tensor([[0.0004]], device='cuda:0', grad_fn=<SigmoidBackward>)\n",
      "Handnet forward time: 0.00927591323852539\n",
      "no hand\n",
      "Time for processing 1 frame: 0.009494304656982422s\n",
      "tensor([[0.0003]], device='cuda:0', grad_fn=<SigmoidBackward>)\n",
      "Handnet forward time: 0.009110212326049805\n",
      "no hand\n",
      "Time for processing 1 frame: 0.009303092956542969s\n"
     ]
    },
    {
     "name": "stderr",
     "output_type": "stream",
     "text": [
      "685it [02:30,  8.38it/s]"
     ]
    },
    {
     "name": "stdout",
     "output_type": "stream",
     "text": [
      "tensor([[0.0002]], device='cuda:0', grad_fn=<SigmoidBackward>)\n",
      "Handnet forward time: 0.009100675582885742\n",
      "no hand\n",
      "Time for processing 1 frame: 0.009151935577392578s\n",
      "tensor([[0.0002]], device='cuda:0', grad_fn=<SigmoidBackward>)\n",
      "Handnet forward time: 0.00911092758178711\n",
      "no hand\n",
      "Time for processing 1 frame: 0.009303092956542969s\n"
     ]
    },
    {
     "name": "stderr",
     "output_type": "stream",
     "text": [
      "687it [02:30,  8.42it/s]"
     ]
    },
    {
     "name": "stdout",
     "output_type": "stream",
     "text": [
      "tensor([[0.0002]], device='cuda:0', grad_fn=<SigmoidBackward>)\n",
      "Handnet forward time: 0.009103536605834961\n",
      "no hand\n",
      "Time for processing 1 frame: 0.009284496307373047s\n",
      "tensor([[0.0001]], device='cuda:0', grad_fn=<SigmoidBackward>)\n",
      "Handnet forward time: 0.009111404418945312\n",
      "no hand\n",
      "Time for processing 1 frame: 0.009164094924926758s\n"
     ]
    },
    {
     "name": "stderr",
     "output_type": "stream",
     "text": [
      "689it [02:30,  8.49it/s]"
     ]
    },
    {
     "name": "stdout",
     "output_type": "stream",
     "text": [
      "tensor([[0.0001]], device='cuda:0', grad_fn=<SigmoidBackward>)\n",
      "Handnet forward time: 0.009099721908569336\n",
      "no hand\n",
      "Time for processing 1 frame: 0.009309053421020508s\n",
      "tensor([[0.0001]], device='cuda:0', grad_fn=<SigmoidBackward>)\n",
      "Handnet forward time: 0.009135246276855469\n",
      "no hand\n",
      "Time for processing 1 frame: 0.009409666061401367s\n"
     ]
    },
    {
     "name": "stderr",
     "output_type": "stream",
     "text": [
      "691it [02:30,  8.46it/s]"
     ]
    },
    {
     "name": "stdout",
     "output_type": "stream",
     "text": [
      "tensor([[0.0001]], device='cuda:0', grad_fn=<SigmoidBackward>)\n",
      "Handnet forward time: 0.009103059768676758\n",
      "no hand\n",
      "Time for processing 1 frame: 0.00931859016418457s\n",
      "tensor([[0.0001]], device='cuda:0', grad_fn=<SigmoidBackward>)\n",
      "Handnet forward time: 0.010607481002807617\n",
      "no hand\n",
      "Time for processing 1 frame: 0.01080942153930664s\n"
     ]
    },
    {
     "name": "stderr",
     "output_type": "stream",
     "text": [
      "693it [02:31,  8.33it/s]"
     ]
    },
    {
     "name": "stdout",
     "output_type": "stream",
     "text": [
      "tensor([[0.0001]], device='cuda:0', grad_fn=<SigmoidBackward>)\n",
      "Handnet forward time: 0.009124279022216797\n",
      "no hand\n",
      "Time for processing 1 frame: 0.00939321517944336s\n",
      "tensor([[0.0001]], device='cuda:0', grad_fn=<SigmoidBackward>)\n",
      "Handnet forward time: 0.009160757064819336\n",
      "no hand\n",
      "Time for processing 1 frame: 0.009369373321533203s\n"
     ]
    },
    {
     "name": "stderr",
     "output_type": "stream",
     "text": [
      "695it [02:31,  8.33it/s]"
     ]
    },
    {
     "name": "stdout",
     "output_type": "stream",
     "text": [
      "tensor([[0.0001]], device='cuda:0', grad_fn=<SigmoidBackward>)\n",
      "Handnet forward time: 0.009147405624389648\n",
      "no hand\n",
      "Time for processing 1 frame: 0.00936746597290039s\n",
      "tensor([[0.0001]], device='cuda:0', grad_fn=<SigmoidBackward>)\n",
      "Handnet forward time: 0.009131669998168945\n",
      "no hand\n",
      "Time for processing 1 frame: 0.009185314178466797s\n"
     ]
    },
    {
     "name": "stderr",
     "output_type": "stream",
     "text": [
      "697it [02:31,  8.28it/s]"
     ]
    },
    {
     "name": "stdout",
     "output_type": "stream",
     "text": [
      "tensor([[0.0001]], device='cuda:0', grad_fn=<SigmoidBackward>)\n",
      "Handnet forward time: 0.009107828140258789\n",
      "no hand\n",
      "Time for processing 1 frame: 0.009328126907348633s\n",
      "tensor([[0.0001]], device='cuda:0', grad_fn=<SigmoidBackward>)\n",
      "Handnet forward time: 0.009133338928222656\n",
      "no hand\n",
      "Time for processing 1 frame: 0.009329080581665039s\n"
     ]
    },
    {
     "name": "stderr",
     "output_type": "stream",
     "text": [
      "699it [02:31,  8.26it/s]"
     ]
    },
    {
     "name": "stdout",
     "output_type": "stream",
     "text": [
      "tensor([[0.0001]], device='cuda:0', grad_fn=<SigmoidBackward>)\n",
      "Handnet forward time: 0.009165763854980469\n",
      "no hand\n",
      "Time for processing 1 frame: 0.009389638900756836s\n",
      "tensor([[0.0001]], device='cuda:0', grad_fn=<SigmoidBackward>)\n",
      "Handnet forward time: 0.009134769439697266\n",
      "no hand\n",
      "Time for processing 1 frame: 0.009199380874633789s\n"
     ]
    },
    {
     "name": "stderr",
     "output_type": "stream",
     "text": [
      "701it [02:32,  8.03it/s]"
     ]
    },
    {
     "name": "stdout",
     "output_type": "stream",
     "text": [
      "tensor([[0.0001]], device='cuda:0', grad_fn=<SigmoidBackward>)\n",
      "Handnet forward time: 0.011652231216430664\n",
      "no hand\n",
      "Time for processing 1 frame: 0.011922836303710938s\n",
      "tensor([[0.0001]], device='cuda:0', grad_fn=<SigmoidBackward>)\n",
      "Handnet forward time: 0.009214162826538086\n",
      "no hand\n",
      "Time for processing 1 frame: 0.009292125701904297s\n"
     ]
    },
    {
     "name": "stderr",
     "output_type": "stream",
     "text": [
      "703it [02:32,  8.06it/s]"
     ]
    },
    {
     "name": "stdout",
     "output_type": "stream",
     "text": [
      "tensor([[0.0001]], device='cuda:0', grad_fn=<SigmoidBackward>)\n",
      "Handnet forward time: 0.010582208633422852\n",
      "no hand\n",
      "Time for processing 1 frame: 0.01082158088684082s\n",
      "tensor([[0.0001]], device='cuda:0', grad_fn=<SigmoidBackward>)\n",
      "Handnet forward time: 0.009154558181762695\n",
      "no hand\n",
      "Time for processing 1 frame: 0.009210348129272461s\n"
     ]
    },
    {
     "name": "stderr",
     "output_type": "stream",
     "text": [
      "705it [02:32,  8.19it/s]"
     ]
    },
    {
     "name": "stdout",
     "output_type": "stream",
     "text": [
      "tensor([[0.0001]], device='cuda:0', grad_fn=<SigmoidBackward>)\n",
      "Handnet forward time: 0.00913381576538086\n",
      "no hand\n",
      "Time for processing 1 frame: 0.009389638900756836s\n",
      "tensor([[0.0001]], device='cuda:0', grad_fn=<SigmoidBackward>)\n",
      "Handnet forward time: 0.011253595352172852\n",
      "no hand\n",
      "Time for processing 1 frame: 0.011492013931274414s\n"
     ]
    },
    {
     "name": "stderr",
     "output_type": "stream",
     "text": [
      "707it [02:32,  8.04it/s]"
     ]
    },
    {
     "name": "stdout",
     "output_type": "stream",
     "text": [
      "tensor([[0.0001]], device='cuda:0', grad_fn=<SigmoidBackward>)\n",
      "Handnet forward time: 0.01017451286315918\n",
      "no hand\n",
      "Time for processing 1 frame: 0.01045536994934082s\n",
      "tensor([[0.0001]], device='cuda:0', grad_fn=<SigmoidBackward>)\n",
      "Handnet forward time: 0.009155035018920898\n",
      "no hand\n",
      "Time for processing 1 frame: 0.009210586547851562s\n"
     ]
    },
    {
     "name": "stderr",
     "output_type": "stream",
     "text": [
      "709it [02:33,  8.17it/s]"
     ]
    },
    {
     "name": "stdout",
     "output_type": "stream",
     "text": [
      "tensor([[0.0001]], device='cuda:0', grad_fn=<SigmoidBackward>)\n",
      "Handnet forward time: 0.009132623672485352\n",
      "no hand\n",
      "Time for processing 1 frame: 0.009189605712890625s\n",
      "tensor([[0.0001]], device='cuda:0', grad_fn=<SigmoidBackward>)\n",
      "Handnet forward time: 0.009100914001464844\n",
      "no hand\n",
      "Time for processing 1 frame: 0.009290933609008789s\n"
     ]
    },
    {
     "name": "stderr",
     "output_type": "stream",
     "text": [
      "711it [02:33,  8.18it/s]"
     ]
    },
    {
     "name": "stdout",
     "output_type": "stream",
     "text": [
      "tensor([[0.0001]], device='cuda:0', grad_fn=<SigmoidBackward>)\n",
      "Handnet forward time: 0.009146451950073242\n",
      "no hand\n",
      "Time for processing 1 frame: 0.009375572204589844s\n",
      "tensor([[0.0001]], device='cuda:0', grad_fn=<SigmoidBackward>)\n",
      "Handnet forward time: 0.009139776229858398\n",
      "no hand\n",
      "Time for processing 1 frame: 0.009343862533569336s\n"
     ]
    },
    {
     "name": "stderr",
     "output_type": "stream",
     "text": [
      "713it [02:33,  8.19it/s]"
     ]
    },
    {
     "name": "stdout",
     "output_type": "stream",
     "text": [
      "tensor([[0.0001]], device='cuda:0', grad_fn=<SigmoidBackward>)\n",
      "Handnet forward time: 0.009146690368652344\n",
      "no hand\n",
      "Time for processing 1 frame: 0.009391069412231445s\n",
      "tensor([[0.0001]], device='cuda:0', grad_fn=<SigmoidBackward>)\n",
      "Handnet forward time: 0.009133100509643555\n",
      "no hand\n",
      "Time for processing 1 frame: 0.009233713150024414s\n"
     ]
    },
    {
     "name": "stderr",
     "output_type": "stream",
     "text": [
      "715it [02:33,  8.15it/s]"
     ]
    },
    {
     "name": "stdout",
     "output_type": "stream",
     "text": [
      "tensor([[0.0001]], device='cuda:0', grad_fn=<SigmoidBackward>)\n",
      "Handnet forward time: 0.00980377197265625\n",
      "no hand\n",
      "Time for processing 1 frame: 0.010058879852294922s\n",
      "tensor([[0.0001]], device='cuda:0', grad_fn=<SigmoidBackward>)\n",
      "Handnet forward time: 0.009123086929321289\n",
      "no hand\n",
      "Time for processing 1 frame: 0.009329795837402344s\n"
     ]
    },
    {
     "name": "stderr",
     "output_type": "stream",
     "text": [
      "717it [02:34,  8.14it/s]"
     ]
    },
    {
     "name": "stdout",
     "output_type": "stream",
     "text": [
      "tensor([[0.0001]], device='cuda:0', grad_fn=<SigmoidBackward>)\n",
      "Handnet forward time: 0.009205818176269531\n",
      "no hand\n",
      "Time for processing 1 frame: 0.009428024291992188s\n",
      "tensor([[0.0001]], device='cuda:0', grad_fn=<SigmoidBackward>)\n",
      "Handnet forward time: 0.00926971435546875\n",
      "no hand\n",
      "Time for processing 1 frame: 0.009495258331298828s\n"
     ]
    },
    {
     "name": "stderr",
     "output_type": "stream",
     "text": [
      "719it [02:34,  7.89it/s]"
     ]
    },
    {
     "name": "stdout",
     "output_type": "stream",
     "text": [
      "tensor([[0.0002]], device='cuda:0', grad_fn=<SigmoidBackward>)\n",
      "Handnet forward time: 0.01111149787902832\n",
      "no hand\n",
      "Time for processing 1 frame: 0.011369943618774414s\n",
      "tensor([[0.0002]], device='cuda:0', grad_fn=<SigmoidBackward>)\n",
      "Handnet forward time: 0.010790348052978516\n",
      "no hand\n",
      "Time for processing 1 frame: 0.010991334915161133s\n"
     ]
    },
    {
     "name": "stderr",
     "output_type": "stream",
     "text": [
      "721it [02:34,  7.90it/s]"
     ]
    },
    {
     "name": "stdout",
     "output_type": "stream",
     "text": [
      "tensor([[0.0003]], device='cuda:0', grad_fn=<SigmoidBackward>)\n",
      "Handnet forward time: 0.010076761245727539\n",
      "no hand\n",
      "Time for processing 1 frame: 0.010376691818237305s\n",
      "tensor([[0.0003]], device='cuda:0', grad_fn=<SigmoidBackward>)\n",
      "Handnet forward time: 0.010038137435913086\n",
      "no hand\n",
      "Time for processing 1 frame: 0.01030111312866211s\n"
     ]
    },
    {
     "name": "stderr",
     "output_type": "stream",
     "text": [
      "723it [02:34,  7.96it/s]"
     ]
    },
    {
     "name": "stdout",
     "output_type": "stream",
     "text": [
      "tensor([[0.0004]], device='cuda:0', grad_fn=<SigmoidBackward>)\n",
      "Handnet forward time: 0.010135650634765625\n",
      "no hand\n",
      "Time for processing 1 frame: 0.01044607162475586s\n",
      "tensor([[0.0006]], device='cuda:0', grad_fn=<SigmoidBackward>)\n",
      "Handnet forward time: 0.009151458740234375\n",
      "no hand\n",
      "Time for processing 1 frame: 0.009373188018798828s\n"
     ]
    },
    {
     "name": "stderr",
     "output_type": "stream",
     "text": [
      "725it [02:35,  8.05it/s]"
     ]
    },
    {
     "name": "stdout",
     "output_type": "stream",
     "text": [
      "tensor([[0.0005]], device='cuda:0', grad_fn=<SigmoidBackward>)\n",
      "Handnet forward time: 0.009171009063720703\n",
      "no hand\n",
      "Time for processing 1 frame: 0.009456634521484375s\n",
      "tensor([[0.0007]], device='cuda:0', grad_fn=<SigmoidBackward>)\n",
      "Handnet forward time: 0.009753942489624023\n",
      "no hand\n",
      "Time for processing 1 frame: 0.010014772415161133s\n"
     ]
    },
    {
     "name": "stderr",
     "output_type": "stream",
     "text": [
      "727it [02:35,  8.08it/s]"
     ]
    },
    {
     "name": "stdout",
     "output_type": "stream",
     "text": [
      "tensor([[0.0007]], device='cuda:0', grad_fn=<SigmoidBackward>)\n",
      "Handnet forward time: 0.00915217399597168\n",
      "no hand\n",
      "Time for processing 1 frame: 0.009311437606811523s\n",
      "tensor([[0.0008]], device='cuda:0', grad_fn=<SigmoidBackward>)\n",
      "Handnet forward time: 0.00960230827331543\n",
      "no hand\n",
      "Time for processing 1 frame: 0.009856462478637695s\n"
     ]
    },
    {
     "name": "stderr",
     "output_type": "stream",
     "text": [
      "729it [02:35,  8.08it/s]"
     ]
    },
    {
     "name": "stdout",
     "output_type": "stream",
     "text": [
      "tensor([[0.0008]], device='cuda:0', grad_fn=<SigmoidBackward>)\n",
      "Handnet forward time: 0.010658979415893555\n",
      "no hand\n",
      "Time for processing 1 frame: 0.010924339294433594s\n",
      "tensor([[0.0014]], device='cuda:0', grad_fn=<SigmoidBackward>)\n",
      "Handnet forward time: 0.009237527847290039\n",
      "no hand\n",
      "Time for processing 1 frame: 0.009514808654785156s\n"
     ]
    },
    {
     "name": "stderr",
     "output_type": "stream",
     "text": [
      "731it [02:35,  8.11it/s]"
     ]
    },
    {
     "name": "stdout",
     "output_type": "stream",
     "text": [
      "tensor([[0.0018]], device='cuda:0', grad_fn=<SigmoidBackward>)\n",
      "Handnet forward time: 0.0095977783203125\n",
      "no hand\n",
      "Time for processing 1 frame: 0.009863138198852539s\n",
      "tensor([[0.0018]], device='cuda:0', grad_fn=<SigmoidBackward>)\n",
      "Handnet forward time: 0.009147405624389648\n",
      "no hand\n",
      "Time for processing 1 frame: 0.009363412857055664s\n"
     ]
    },
    {
     "name": "stderr",
     "output_type": "stream",
     "text": [
      "733it [02:36,  8.14it/s]"
     ]
    },
    {
     "name": "stdout",
     "output_type": "stream",
     "text": [
      "tensor([[0.0018]], device='cuda:0', grad_fn=<SigmoidBackward>)\n",
      "Handnet forward time: 0.009557962417602539\n",
      "no hand\n",
      "Time for processing 1 frame: 0.009919404983520508s\n",
      "tensor([[0.0030]], device='cuda:0', grad_fn=<SigmoidBackward>)\n",
      "Handnet forward time: 0.009638547897338867\n",
      "no hand\n",
      "Time for processing 1 frame: 0.009894609451293945s\n"
     ]
    },
    {
     "name": "stderr",
     "output_type": "stream",
     "text": [
      "735it [02:36,  8.07it/s]"
     ]
    },
    {
     "name": "stdout",
     "output_type": "stream",
     "text": [
      "tensor([[0.0026]], device='cuda:0', grad_fn=<SigmoidBackward>)\n",
      "Handnet forward time: 0.010317325592041016\n",
      "no hand\n",
      "Time for processing 1 frame: 0.0106201171875s\n",
      "tensor([[0.0031]], device='cuda:0', grad_fn=<SigmoidBackward>)\n",
      "Handnet forward time: 0.011533021926879883\n",
      "no hand\n",
      "Time for processing 1 frame: 0.0117950439453125s\n"
     ]
    },
    {
     "name": "stderr",
     "output_type": "stream",
     "text": [
      "737it [02:36,  8.04it/s]"
     ]
    },
    {
     "name": "stdout",
     "output_type": "stream",
     "text": [
      "tensor([[0.0043]], device='cuda:0', grad_fn=<SigmoidBackward>)\n",
      "Handnet forward time: 0.00925898551940918\n",
      "no hand\n",
      "Time for processing 1 frame: 0.00955510139465332s\n",
      "tensor([[0.0044]], device='cuda:0', grad_fn=<SigmoidBackward>)\n",
      "Handnet forward time: 0.00914764404296875\n",
      "no hand\n",
      "Time for processing 1 frame: 0.009369850158691406s\n"
     ]
    },
    {
     "name": "stderr",
     "output_type": "stream",
     "text": [
      "739it [02:36,  8.08it/s]"
     ]
    },
    {
     "name": "stdout",
     "output_type": "stream",
     "text": [
      "tensor([[0.0041]], device='cuda:0', grad_fn=<SigmoidBackward>)\n",
      "Handnet forward time: 0.009159326553344727\n",
      "no hand\n",
      "Time for processing 1 frame: 0.0094146728515625s\n",
      "tensor([[0.0064]], device='cuda:0', grad_fn=<SigmoidBackward>)\n",
      "Handnet forward time: 0.009239435195922852\n",
      "no hand\n",
      "Time for processing 1 frame: 0.009506940841674805s\n"
     ]
    },
    {
     "name": "stderr",
     "output_type": "stream",
     "text": [
      "741it [02:37,  8.07it/s]"
     ]
    },
    {
     "name": "stdout",
     "output_type": "stream",
     "text": [
      "tensor([[0.0062]], device='cuda:0', grad_fn=<SigmoidBackward>)\n",
      "Handnet forward time: 0.011172771453857422\n",
      "no hand\n",
      "Time for processing 1 frame: 0.011465311050415039s\n",
      "tensor([[0.0060]], device='cuda:0', grad_fn=<SigmoidBackward>)\n",
      "Handnet forward time: 0.009190559387207031\n",
      "no hand\n",
      "Time for processing 1 frame: 0.009444713592529297s\n"
     ]
    },
    {
     "name": "stderr",
     "output_type": "stream",
     "text": [
      "743it [02:37,  8.06it/s]"
     ]
    },
    {
     "name": "stdout",
     "output_type": "stream",
     "text": [
      "tensor([[0.0077]], device='cuda:0', grad_fn=<SigmoidBackward>)\n",
      "Handnet forward time: 0.010747194290161133\n",
      "no hand\n",
      "Time for processing 1 frame: 0.011045217514038086s\n",
      "tensor([[0.0060]], device='cuda:0', grad_fn=<SigmoidBackward>)\n",
      "Handnet forward time: 0.009170293807983398\n",
      "no hand\n",
      "Time for processing 1 frame: 0.009414911270141602s\n"
     ]
    },
    {
     "name": "stderr",
     "output_type": "stream",
     "text": [
      "745it [02:37,  8.09it/s]"
     ]
    },
    {
     "name": "stdout",
     "output_type": "stream",
     "text": [
      "tensor([[0.0062]], device='cuda:0', grad_fn=<SigmoidBackward>)\n",
      "Handnet forward time: 0.010123014450073242\n",
      "no hand\n",
      "Time for processing 1 frame: 0.010406255722045898s\n",
      "tensor([[0.0071]], device='cuda:0', grad_fn=<SigmoidBackward>)\n",
      "Handnet forward time: 0.009098052978515625\n",
      "no hand\n",
      "Time for processing 1 frame: 0.009314537048339844s\n"
     ]
    },
    {
     "name": "stderr",
     "output_type": "stream",
     "text": [
      "747it [02:37,  8.07it/s]"
     ]
    },
    {
     "name": "stdout",
     "output_type": "stream",
     "text": [
      "tensor([[0.0078]], device='cuda:0', grad_fn=<SigmoidBackward>)\n",
      "Handnet forward time: 0.009972333908081055\n",
      "no hand\n",
      "Time for processing 1 frame: 0.010240793228149414s\n",
      "tensor([[0.0103]], device='cuda:0', grad_fn=<SigmoidBackward>)\n",
      "Handnet forward time: 0.009136676788330078\n",
      "no hand\n",
      "Time for processing 1 frame: 0.009363651275634766s\n"
     ]
    },
    {
     "name": "stderr",
     "output_type": "stream",
     "text": [
      "749it [02:38,  8.09it/s]"
     ]
    },
    {
     "name": "stdout",
     "output_type": "stream",
     "text": [
      "tensor([[0.0112]], device='cuda:0', grad_fn=<SigmoidBackward>)\n",
      "Handnet forward time: 0.009236335754394531\n",
      "no hand\n",
      "Time for processing 1 frame: 0.009540796279907227s\n",
      "tensor([[0.0113]], device='cuda:0', grad_fn=<SigmoidBackward>)\n",
      "Handnet forward time: 0.009619474411010742\n",
      "no hand\n",
      "Time for processing 1 frame: 0.009885311126708984s\n"
     ]
    },
    {
     "name": "stderr",
     "output_type": "stream",
     "text": [
      "751it [02:38,  8.14it/s]"
     ]
    },
    {
     "name": "stdout",
     "output_type": "stream",
     "text": [
      "tensor([[0.0111]], device='cuda:0', grad_fn=<SigmoidBackward>)\n",
      "Handnet forward time: 0.009126901626586914\n",
      "no hand\n",
      "Time for processing 1 frame: 0.009377717971801758s\n",
      "tensor([[0.0101]], device='cuda:0', grad_fn=<SigmoidBackward>)\n",
      "Handnet forward time: 0.009604215621948242\n",
      "no hand\n",
      "Time for processing 1 frame: 0.009862661361694336s\n"
     ]
    },
    {
     "name": "stderr",
     "output_type": "stream",
     "text": [
      "753it [02:38,  8.14it/s]"
     ]
    },
    {
     "name": "stdout",
     "output_type": "stream",
     "text": [
      "tensor([[0.0118]], device='cuda:0', grad_fn=<SigmoidBackward>)\n",
      "Handnet forward time: 0.009685039520263672\n",
      "no hand\n",
      "Time for processing 1 frame: 0.009820938110351562s\n",
      "tensor([[0.0161]], device='cuda:0', grad_fn=<SigmoidBackward>)\n",
      "Handnet forward time: 0.009209394454956055\n",
      "no hand\n",
      "Time for processing 1 frame: 0.009461402893066406s\n"
     ]
    },
    {
     "name": "stderr",
     "output_type": "stream",
     "text": [
      "755it [02:38,  8.12it/s]"
     ]
    },
    {
     "name": "stdout",
     "output_type": "stream",
     "text": [
      "tensor([[0.0160]], device='cuda:0', grad_fn=<SigmoidBackward>)\n",
      "Handnet forward time: 0.009650945663452148\n",
      "no hand\n",
      "Time for processing 1 frame: 0.009908914566040039s\n",
      "tensor([[0.0176]], device='cuda:0', grad_fn=<SigmoidBackward>)\n",
      "Handnet forward time: 0.009262323379516602\n",
      "no hand\n",
      "Time for processing 1 frame: 0.009516716003417969s\n"
     ]
    },
    {
     "name": "stderr",
     "output_type": "stream",
     "text": [
      "757it [02:39,  8.13it/s]"
     ]
    },
    {
     "name": "stdout",
     "output_type": "stream",
     "text": [
      "tensor([[0.0368]], device='cuda:0', grad_fn=<SigmoidBackward>)\n",
      "Handnet forward time: 0.009207010269165039\n",
      "no hand\n",
      "Time for processing 1 frame: 0.009482145309448242s\n",
      "tensor([[0.0659]], device='cuda:0', grad_fn=<SigmoidBackward>)\n",
      "Handnet forward time: 0.009624242782592773\n",
      "no hand\n",
      "Time for processing 1 frame: 0.009883642196655273s\n"
     ]
    },
    {
     "name": "stderr",
     "output_type": "stream",
     "text": [
      "759it [02:39,  8.14it/s]"
     ]
    },
    {
     "name": "stdout",
     "output_type": "stream",
     "text": [
      "tensor([[0.1089]], device='cuda:0', grad_fn=<SigmoidBackward>)\n",
      "Handnet forward time: 0.00913691520690918\n",
      "no hand\n",
      "Time for processing 1 frame: 0.009396791458129883s\n",
      "tensor([[0.0985]], device='cuda:0', grad_fn=<SigmoidBackward>)\n",
      "Handnet forward time: 0.009669780731201172\n",
      "no hand\n",
      "Time for processing 1 frame: 0.009922981262207031s\n"
     ]
    },
    {
     "name": "stderr",
     "output_type": "stream",
     "text": [
      "761it [02:39,  8.15it/s]"
     ]
    },
    {
     "name": "stdout",
     "output_type": "stream",
     "text": [
      "tensor([[0.2237]], device='cuda:0', grad_fn=<SigmoidBackward>)\n",
      "Handnet forward time: 0.009572744369506836\n",
      "no hand\n",
      "Time for processing 1 frame: 0.009815454483032227s\n",
      "tensor([[0.5250]], device='cuda:0', grad_fn=<SigmoidBackward>)\n",
      "Handnet forward time: 0.009612083435058594\n",
      "Handsegnet forward time: 0.0010540485382080078\n",
      "s shape torch.Size([1, 2, 224, 224])\n",
      "for loop time 0.0036039352416992188\n",
      "hand mask sum: 1755.0\n",
      "Calculate single highest scoring object time: 0.03596949577331543\n",
      "Crop and resize time: 0.0010786056518554688\n",
      "Posenet forward time: 0.0020351409912109375\n",
      "Posepriornet forward time: 0.0007557868957519531\n",
      "Viewpoint forward time: 0.0010228157043457031\n",
      "Get normalized 3d coordinates time: 0.0006339550018310547\n",
      "Flip left handed input time: 0.0001456737518310547\n",
      "ScaLe heatmaps time 0.00010228157043457031\n",
      "Time for processing 1 frame: 0.0528864860534668s\n"
     ]
    },
    {
     "name": "stderr",
     "output_type": "stream",
     "text": [
      "\r",
      "762it [02:39,  6.22it/s]"
     ]
    },
    {
     "name": "stdout",
     "output_type": "stream",
     "text": [
      "tensor([[0.8695]], device='cuda:0', grad_fn=<SigmoidBackward>)\n",
      "Handnet forward time: 0.008951425552368164\n",
      "Handsegnet forward time: 0.0011088848114013672\n",
      "s shape torch.Size([1, 2, 224, 224])\n",
      "for loop time 0.003436565399169922\n",
      "hand mask sum: 2329.0\n",
      "Calculate single highest scoring object time: 0.034629106521606445\n",
      "Crop and resize time: 0.0010292530059814453\n",
      "Posenet forward time: 0.002016305923461914\n",
      "Posepriornet forward time: 0.0007460117340087891\n",
      "Viewpoint forward time: 0.0009958744049072266\n",
      "Get normalized 3d coordinates time: 0.0006060600280761719\n",
      "Flip left handed input time: 0.00014352798461914062\n",
      "ScaLe heatmaps time 0.00010323524475097656\n",
      "Time for processing 1 frame: 0.05123591423034668s\n"
     ]
    },
    {
     "name": "stderr",
     "output_type": "stream",
     "text": [
      "\r",
      "763it [02:40,  5.39it/s]"
     ]
    },
    {
     "name": "stdout",
     "output_type": "stream",
     "text": [
      "tensor([[0.9866]], device='cuda:0', grad_fn=<SigmoidBackward>)\n",
      "Handnet forward time: 0.009158611297607422\n",
      "Handsegnet forward time: 0.0010159015655517578\n",
      "s shape torch.Size([1, 2, 224, 224])\n",
      "for loop time 0.003548145294189453\n",
      "hand mask sum: 2549.0\n",
      "Calculate single highest scoring object time: 0.033423662185668945\n",
      "Crop and resize time: 0.0009920597076416016\n",
      "Posenet forward time: 0.002062082290649414\n",
      "Posepriornet forward time: 0.0007672309875488281\n",
      "Viewpoint forward time: 0.0009810924530029297\n",
      "Get normalized 3d coordinates time: 0.0006296634674072266\n",
      "Flip left handed input time: 0.00013899803161621094\n",
      "ScaLe heatmaps time 0.000110626220703125\n",
      "Time for processing 1 frame: 0.049896240234375s\n"
     ]
    },
    {
     "name": "stderr",
     "output_type": "stream",
     "text": [
      "\r",
      "764it [02:40,  4.92it/s]"
     ]
    },
    {
     "name": "stdout",
     "output_type": "stream",
     "text": [
      "tensor([[0.9986]], device='cuda:0', grad_fn=<SigmoidBackward>)\n",
      "Handnet forward time: 0.007996559143066406\n",
      "Handsegnet forward time: 0.0011909008026123047\n",
      "s shape torch.Size([1, 2, 224, 224])\n",
      "for loop time 0.003255605697631836\n",
      "hand mask sum: 2663.0\n",
      "Calculate single highest scoring object time: 0.031546592712402344\n",
      "Crop and resize time: 0.0009806156158447266\n",
      "Posenet forward time: 0.002041339874267578\n",
      "Posepriornet forward time: 0.0007331371307373047\n",
      "Viewpoint forward time: 0.0009331703186035156\n",
      "Get normalized 3d coordinates time: 0.0006532669067382812\n",
      "Flip left handed input time: 0.00013589859008789062\n",
      "ScaLe heatmaps time 0.00010561943054199219\n",
      "Time for processing 1 frame: 0.0469815731048584s\n"
     ]
    },
    {
     "name": "stderr",
     "output_type": "stream",
     "text": [
      "\r",
      "765it [02:40,  4.69it/s]"
     ]
    },
    {
     "name": "stdout",
     "output_type": "stream",
     "text": [
      "tensor([[0.9987]], device='cuda:0', grad_fn=<SigmoidBackward>)\n",
      "Handnet forward time: 0.00836944580078125\n",
      "Handsegnet forward time: 0.0015802383422851562\n",
      "s shape torch.Size([1, 2, 224, 224])\n",
      "for loop time 0.003363370895385742\n",
      "hand mask sum: 2758.0\n",
      "Calculate single highest scoring object time: 0.0304715633392334\n",
      "Crop and resize time: 0.0009243488311767578\n",
      "Posenet forward time: 0.001964092254638672\n",
      "Posepriornet forward time: 0.0007669925689697266\n",
      "Viewpoint forward time: 0.0009551048278808594\n",
      "Get normalized 3d coordinates time: 0.0006430149078369141\n",
      "Flip left handed input time: 0.00013756752014160156\n",
      "ScaLe heatmaps time 4.38690185546875e-05\n",
      "Time for processing 1 frame: 0.04659318923950195s\n"
     ]
    },
    {
     "name": "stderr",
     "output_type": "stream",
     "text": [
      "\r",
      "766it [02:40,  4.55it/s]"
     ]
    },
    {
     "name": "stdout",
     "output_type": "stream",
     "text": [
      "tensor([[0.9989]], device='cuda:0', grad_fn=<SigmoidBackward>)\n",
      "Handnet forward time: 0.009025096893310547\n",
      "Handsegnet forward time: 0.0015573501586914062\n",
      "s shape torch.Size([1, 2, 224, 224])\n",
      "for loop time 0.003145456314086914\n",
      "hand mask sum: 2891.0\n",
      "Calculate single highest scoring object time: 0.029462337493896484\n",
      "Crop and resize time: 0.0018396377563476562\n",
      "Posenet forward time: 0.002058744430541992\n",
      "Posepriornet forward time: 0.0007531642913818359\n",
      "Viewpoint forward time: 0.0009534358978271484\n",
      "Get normalized 3d coordinates time: 0.0006237030029296875\n",
      "Flip left handed input time: 0.00013709068298339844\n",
      "ScaLe heatmaps time 0.00010919570922851562\n",
      "Time for processing 1 frame: 0.04702305793762207s\n"
     ]
    },
    {
     "name": "stderr",
     "output_type": "stream",
     "text": [
      "\r",
      "767it [02:41,  4.45it/s]"
     ]
    },
    {
     "name": "stdout",
     "output_type": "stream",
     "text": [
      "tensor([[0.9993]], device='cuda:0', grad_fn=<SigmoidBackward>)\n",
      "Handnet forward time: 0.009365558624267578\n",
      "Handsegnet forward time: 0.0015938282012939453\n",
      "s shape torch.Size([1, 2, 224, 224])\n",
      "for loop time 0.003113985061645508\n",
      "hand mask sum: 3019.0\n",
      "Calculate single highest scoring object time: 0.0306546688079834\n",
      "Crop and resize time: 0.0009884834289550781\n",
      "Posenet forward time: 0.0019407272338867188\n",
      "Posepriornet forward time: 0.0007205009460449219\n",
      "Viewpoint forward time: 0.0009241104125976562\n",
      "Get normalized 3d coordinates time: 0.0006303787231445312\n",
      "Flip left handed input time: 0.000133514404296875\n",
      "ScaLe heatmaps time 0.00010561943054199219\n",
      "Time for processing 1 frame: 0.04751253128051758s\n"
     ]
    },
    {
     "name": "stderr",
     "output_type": "stream",
     "text": [
      "\r",
      "768it [02:41,  4.38it/s]"
     ]
    },
    {
     "name": "stdout",
     "output_type": "stream",
     "text": [
      "tensor([[0.9999]], device='cuda:0', grad_fn=<SigmoidBackward>)\n",
      "Handnet forward time: 0.007763385772705078\n",
      "Handsegnet forward time: 0.0017061233520507812\n",
      "s shape torch.Size([1, 2, 224, 224])\n",
      "for loop time 0.003073453903198242\n",
      "hand mask sum: 3101.0\n",
      "Calculate single highest scoring object time: 0.030475616455078125\n",
      "Crop and resize time: 0.0009284019470214844\n",
      "Posenet forward time: 0.0019843578338623047\n",
      "Posepriornet forward time: 0.0007433891296386719\n",
      "Viewpoint forward time: 0.0009748935699462891\n",
      "Get normalized 3d coordinates time: 0.0006074905395507812\n",
      "Flip left handed input time: 0.00013756752014160156\n",
      "ScaLe heatmaps time 0.00010943412780761719\n",
      "Time for processing 1 frame: 0.045941829681396484s\n"
     ]
    },
    {
     "name": "stderr",
     "output_type": "stream",
     "text": [
      "\r",
      "769it [02:41,  4.35it/s]"
     ]
    },
    {
     "name": "stdout",
     "output_type": "stream",
     "text": [
      "tensor([[0.9999]], device='cuda:0', grad_fn=<SigmoidBackward>)\n",
      "Handnet forward time: 0.007706880569458008\n",
      "Handsegnet forward time: 0.001512289047241211\n",
      "s shape torch.Size([1, 2, 224, 224])\n",
      "for loop time 0.0031092166900634766\n",
      "hand mask sum: 3253.0\n",
      "Calculate single highest scoring object time: 0.030512332916259766\n",
      "Crop and resize time: 0.0009579658508300781\n",
      "Posenet forward time: 0.0019714832305908203\n",
      "Posepriornet forward time: 0.0007839202880859375\n",
      "Viewpoint forward time: 0.0009546279907226562\n",
      "Get normalized 3d coordinates time: 0.0006020069122314453\n",
      "Flip left handed input time: 0.0001392364501953125\n",
      "ScaLe heatmaps time 0.00010800361633300781\n",
      "Time for processing 1 frame: 0.0459134578704834s\n"
     ]
    },
    {
     "name": "stderr",
     "output_type": "stream",
     "text": [
      "\r",
      "770it [02:41,  4.33it/s]"
     ]
    },
    {
     "name": "stdout",
     "output_type": "stream",
     "text": [
      "tensor([[0.9999]], device='cuda:0', grad_fn=<SigmoidBackward>)\n",
      "Handnet forward time: 0.00777888298034668\n",
      "Handsegnet forward time: 0.0014891624450683594\n",
      "s shape torch.Size([1, 2, 224, 224])\n",
      "for loop time 0.0031821727752685547\n",
      "hand mask sum: 3322.0\n",
      "Calculate single highest scoring object time: 0.030731678009033203\n",
      "Crop and resize time: 0.000946044921875\n",
      "Posenet forward time: 0.002002716064453125\n",
      "Posepriornet forward time: 0.0007445812225341797\n",
      "Viewpoint forward time: 0.0009400844573974609\n",
      "Get normalized 3d coordinates time: 0.0007092952728271484\n",
      "Flip left handed input time: 0.00013256072998046875\n",
      "ScaLe heatmaps time 0.00010609626770019531\n",
      "Time for processing 1 frame: 0.04607391357421875s\n"
     ]
    },
    {
     "name": "stderr",
     "output_type": "stream",
     "text": [
      "\r",
      "771it [02:41,  4.29it/s]"
     ]
    },
    {
     "name": "stdout",
     "output_type": "stream",
     "text": [
      "tensor([[0.9999]], device='cuda:0', grad_fn=<SigmoidBackward>)\n",
      "Handnet forward time: 0.007724761962890625\n",
      "Handsegnet forward time: 0.0013363361358642578\n",
      "s shape torch.Size([1, 2, 224, 224])\n",
      "for loop time 0.0032405853271484375\n",
      "hand mask sum: 3388.0\n",
      "Calculate single highest scoring object time: 0.029789447784423828\n",
      "Crop and resize time: 0.0009763240814208984\n",
      "Posenet forward time: 0.0020520687103271484\n",
      "Posepriornet forward time: 0.0007488727569580078\n",
      "Viewpoint forward time: 0.0009732246398925781\n",
      "Get normalized 3d coordinates time: 0.000629425048828125\n",
      "Flip left handed input time: 0.00013947486877441406\n",
      "ScaLe heatmaps time 0.00010776519775390625\n",
      "Time for processing 1 frame: 0.04522705078125s\n"
     ]
    },
    {
     "name": "stderr",
     "output_type": "stream",
     "text": [
      "\r",
      "772it [02:42,  4.25it/s]"
     ]
    },
    {
     "name": "stdout",
     "output_type": "stream",
     "text": [
      "tensor([[0.9999]], device='cuda:0', grad_fn=<SigmoidBackward>)\n",
      "Handnet forward time: 0.008064508438110352\n",
      "Handsegnet forward time: 0.001039266586303711\n",
      "s shape torch.Size([1, 2, 224, 224])\n",
      "for loop time 0.0037453174591064453\n",
      "hand mask sum: 3479.0\n",
      "Calculate single highest scoring object time: 0.029746294021606445\n",
      "Crop and resize time: 0.0013778209686279297\n",
      "Posenet forward time: 0.002206563949584961\n",
      "Posepriornet forward time: 0.0007789134979248047\n",
      "Viewpoint forward time: 0.0010061264038085938\n",
      "Get normalized 3d coordinates time: 0.0005931854248046875\n",
      "Flip left handed input time: 0.00010657310485839844\n",
      "ScaLe heatmaps time 7.557868957519531e-05\n",
      "Time for processing 1 frame: 0.0456693172454834s\n"
     ]
    },
    {
     "name": "stderr",
     "output_type": "stream",
     "text": [
      "\r",
      "773it [02:42,  4.21it/s]"
     ]
    },
    {
     "name": "stdout",
     "output_type": "stream",
     "text": [
      "tensor([[0.9999]], device='cuda:0', grad_fn=<SigmoidBackward>)\n",
      "Handnet forward time: 0.007696628570556641\n",
      "Handsegnet forward time: 0.0011639595031738281\n",
      "s shape torch.Size([1, 2, 224, 224])\n",
      "for loop time 0.003123760223388672\n",
      "hand mask sum: 3561.0\n",
      "Calculate single highest scoring object time: 0.03059840202331543\n",
      "Crop and resize time: 0.0009808540344238281\n",
      "Posenet forward time: 0.002050638198852539\n",
      "Posepriornet forward time: 0.0007462501525878906\n",
      "Viewpoint forward time: 0.0009763240814208984\n",
      "Get normalized 3d coordinates time: 0.0006194114685058594\n",
      "Flip left handed input time: 0.0001571178436279297\n",
      "ScaLe heatmaps time 9.5367431640625e-05\n",
      "Time for processing 1 frame: 0.045734405517578125s\n"
     ]
    },
    {
     "name": "stderr",
     "output_type": "stream",
     "text": [
      "\r",
      "774it [02:42,  4.23it/s]"
     ]
    },
    {
     "name": "stdout",
     "output_type": "stream",
     "text": [
      "tensor([[0.9999]], device='cuda:0', grad_fn=<SigmoidBackward>)\n",
      "Handnet forward time: 0.0076751708984375\n",
      "Handsegnet forward time: 0.001651763916015625\n",
      "s shape torch.Size([1, 2, 224, 224])\n",
      "for loop time 0.0031294822692871094\n",
      "hand mask sum: 3591.0\n",
      "Calculate single highest scoring object time: 0.029994487762451172\n",
      "Crop and resize time: 0.0009839534759521484\n",
      "Posenet forward time: 0.00202178955078125\n",
      "Posepriornet forward time: 0.0007467269897460938\n",
      "Viewpoint forward time: 0.0009822845458984375\n",
      "Get normalized 3d coordinates time: 0.0006234645843505859\n",
      "Flip left handed input time: 0.00013756752014160156\n",
      "ScaLe heatmaps time 0.00010657310485839844\n",
      "Time for processing 1 frame: 0.0453948974609375s\n"
     ]
    },
    {
     "name": "stderr",
     "output_type": "stream",
     "text": [
      "\r",
      "775it [02:42,  4.25it/s]"
     ]
    },
    {
     "name": "stdout",
     "output_type": "stream",
     "text": [
      "tensor([[1.0000]], device='cuda:0', grad_fn=<SigmoidBackward>)\n",
      "Handnet forward time: 0.0076673030853271484\n",
      "Handsegnet forward time: 0.0012497901916503906\n",
      "s shape torch.Size([1, 2, 224, 224])\n",
      "for loop time 0.003087759017944336\n",
      "hand mask sum: 3608.0\n",
      "Calculate single highest scoring object time: 0.029578208923339844\n",
      "Crop and resize time: 0.0010199546813964844\n",
      "Posenet forward time: 0.002000093460083008\n",
      "Posepriornet forward time: 0.0007712841033935547\n",
      "Viewpoint forward time: 0.0009429454803466797\n",
      "Get normalized 3d coordinates time: 0.0006022453308105469\n",
      "Flip left handed input time: 0.0001366138458251953\n",
      "ScaLe heatmaps time 0.00010347366333007812\n",
      "Time for processing 1 frame: 0.044708251953125s\n"
     ]
    },
    {
     "name": "stderr",
     "output_type": "stream",
     "text": [
      "\r",
      "776it [02:43,  4.25it/s]"
     ]
    },
    {
     "name": "stdout",
     "output_type": "stream",
     "text": [
      "tensor([[1.0000]], device='cuda:0', grad_fn=<SigmoidBackward>)\n",
      "Handnet forward time: 0.007733345031738281\n",
      "Handsegnet forward time: 0.0012972354888916016\n",
      "s shape torch.Size([1, 2, 224, 224])\n",
      "for loop time 0.0030090808868408203\n",
      "hand mask sum: 3651.0\n",
      "Calculate single highest scoring object time: 0.03051447868347168\n",
      "Crop and resize time: 0.0009477138519287109\n",
      "Posenet forward time: 0.001998424530029297\n",
      "Posepriornet forward time: 0.0007109642028808594\n",
      "Viewpoint forward time: 0.000997781753540039\n",
      "Get normalized 3d coordinates time: 0.0005960464477539062\n",
      "Flip left handed input time: 0.00013303756713867188\n",
      "ScaLe heatmaps time 0.00010776519775390625\n",
      "Time for processing 1 frame: 0.04551863670349121s\n"
     ]
    },
    {
     "name": "stderr",
     "output_type": "stream",
     "text": [
      "\r",
      "777it [02:43,  4.26it/s]"
     ]
    },
    {
     "name": "stdout",
     "output_type": "stream",
     "text": [
      "tensor([[1.0000]], device='cuda:0', grad_fn=<SigmoidBackward>)\n",
      "Handnet forward time: 0.007734775543212891\n",
      "Handsegnet forward time: 0.001538991928100586\n",
      "s shape torch.Size([1, 2, 224, 224])\n",
      "for loop time 0.0031690597534179688\n",
      "hand mask sum: 3654.0\n",
      "Calculate single highest scoring object time: 0.02983856201171875\n",
      "Crop and resize time: 0.0009849071502685547\n",
      "Posenet forward time: 0.0020759105682373047\n",
      "Posepriornet forward time: 0.0007500648498535156\n",
      "Viewpoint forward time: 0.0009658336639404297\n",
      "Get normalized 3d coordinates time: 0.0006184577941894531\n",
      "Flip left handed input time: 0.0001380443572998047\n",
      "ScaLe heatmaps time 0.00011181831359863281\n",
      "Time for processing 1 frame: 0.04523491859436035s\n"
     ]
    },
    {
     "name": "stderr",
     "output_type": "stream",
     "text": [
      "\r",
      "778it [02:43,  4.27it/s]"
     ]
    },
    {
     "name": "stdout",
     "output_type": "stream",
     "text": [
      "tensor([[1.0000]], device='cuda:0', grad_fn=<SigmoidBackward>)\n",
      "Handnet forward time: 0.007705211639404297\n",
      "Handsegnet forward time: 0.0012493133544921875\n",
      "s shape torch.Size([1, 2, 224, 224])\n",
      "for loop time 0.0031723976135253906\n",
      "hand mask sum: 3670.0\n",
      "Calculate single highest scoring object time: 0.030897140502929688\n",
      "Crop and resize time: 0.0009527206420898438\n",
      "Posenet forward time: 0.0020322799682617188\n",
      "Posepriornet forward time: 0.0007107257843017578\n",
      "Viewpoint forward time: 0.0009260177612304688\n",
      "Get normalized 3d coordinates time: 0.0005996227264404297\n",
      "Flip left handed input time: 0.0001347064971923828\n",
      "ScaLe heatmaps time 0.00010800361633300781\n",
      "Time for processing 1 frame: 0.0457763671875s\n"
     ]
    },
    {
     "name": "stderr",
     "output_type": "stream",
     "text": [
      "\r",
      "779it [02:43,  4.27it/s]"
     ]
    },
    {
     "name": "stdout",
     "output_type": "stream",
     "text": [
      "tensor([[1.0000]], device='cuda:0', grad_fn=<SigmoidBackward>)\n",
      "Handnet forward time: 0.008135557174682617\n",
      "Handsegnet forward time: 0.001707315444946289\n",
      "s shape torch.Size([1, 2, 224, 224])\n",
      "for loop time 0.003156423568725586\n",
      "hand mask sum: 3674.0\n",
      "Calculate single highest scoring object time: 0.029642581939697266\n",
      "Crop and resize time: 0.0012137889862060547\n",
      "Posenet forward time: 0.0020046234130859375\n",
      "Posepriornet forward time: 0.0007159709930419922\n",
      "Viewpoint forward time: 0.0009243488311767578\n",
      "Get normalized 3d coordinates time: 0.0005962848663330078\n",
      "Flip left handed input time: 0.00013446807861328125\n",
      "ScaLe heatmaps time 0.00010085105895996094\n",
      "Time for processing 1 frame: 0.04563784599304199s\n"
     ]
    },
    {
     "name": "stderr",
     "output_type": "stream",
     "text": [
      "\r",
      "780it [02:44,  4.27it/s]"
     ]
    },
    {
     "name": "stdout",
     "output_type": "stream",
     "text": [
      "tensor([[0.9999]], device='cuda:0', grad_fn=<SigmoidBackward>)\n",
      "Handnet forward time: 0.007902145385742188\n",
      "Handsegnet forward time: 0.0012049674987792969\n",
      "s shape torch.Size([1, 2, 224, 224])\n",
      "for loop time 0.003509998321533203\n",
      "hand mask sum: 3663.0\n",
      "Calculate single highest scoring object time: 0.03160429000854492\n",
      "Crop and resize time: 0.0009620189666748047\n",
      "Posenet forward time: 0.0020449161529541016\n",
      "Posepriornet forward time: 0.0007517337799072266\n",
      "Viewpoint forward time: 0.0009741783142089844\n",
      "Get normalized 3d coordinates time: 0.0006167888641357422\n",
      "Flip left handed input time: 0.00013709068298339844\n",
      "ScaLe heatmaps time 0.00010895729064941406\n",
      "Time for processing 1 frame: 0.04677939414978027s\n"
     ]
    },
    {
     "name": "stderr",
     "output_type": "stream",
     "text": [
      "\r",
      "781it [02:44,  4.27it/s]"
     ]
    },
    {
     "name": "stdout",
     "output_type": "stream",
     "text": [
      "tensor([[0.9999]], device='cuda:0', grad_fn=<SigmoidBackward>)\n",
      "Handnet forward time: 0.008127450942993164\n",
      "Handsegnet forward time: 0.001270294189453125\n",
      "s shape torch.Size([1, 2, 224, 224])\n",
      "for loop time 0.0030193328857421875\n",
      "hand mask sum: 3640.0\n",
      "Calculate single highest scoring object time: 0.029431819915771484\n",
      "Crop and resize time: 0.0009763240814208984\n",
      "Posenet forward time: 0.002002716064453125\n",
      "Posepriornet forward time: 0.00090789794921875\n",
      "Viewpoint forward time: 0.0009267330169677734\n",
      "Get normalized 3d coordinates time: 0.0005958080291748047\n",
      "Flip left handed input time: 0.0001361370086669922\n",
      "ScaLe heatmaps time 0.0001010894775390625\n",
      "Time for processing 1 frame: 0.044968605041503906s\n"
     ]
    },
    {
     "name": "stderr",
     "output_type": "stream",
     "text": [
      "\r",
      "782it [02:44,  4.26it/s]"
     ]
    },
    {
     "name": "stdout",
     "output_type": "stream",
     "text": [
      "tensor([[0.9999]], device='cuda:0', grad_fn=<SigmoidBackward>)\n",
      "Handnet forward time: 0.00802922248840332\n",
      "Handsegnet forward time: 0.0010988712310791016\n",
      "s shape torch.Size([1, 2, 224, 224])\n",
      "for loop time 0.00376129150390625\n",
      "hand mask sum: 3615.0\n",
      "Calculate single highest scoring object time: 0.029438495635986328\n",
      "Crop and resize time: 0.0014960765838623047\n",
      "Posenet forward time: 0.002027750015258789\n",
      "Posepriornet forward time: 0.0007369518280029297\n",
      "Viewpoint forward time: 0.0009937286376953125\n",
      "Get normalized 3d coordinates time: 0.0006115436553955078\n",
      "Flip left handed input time: 0.00013709068298339844\n",
      "ScaLe heatmaps time 0.00010514259338378906\n",
      "Time for processing 1 frame: 0.04510807991027832s\n"
     ]
    },
    {
     "name": "stderr",
     "output_type": "stream",
     "text": [
      "\r",
      "783it [02:44,  4.26it/s]"
     ]
    },
    {
     "name": "stdout",
     "output_type": "stream",
     "text": [
      "tensor([[0.9999]], device='cuda:0', grad_fn=<SigmoidBackward>)\n",
      "Handnet forward time: 0.009500741958618164\n",
      "Handsegnet forward time: 0.0013630390167236328\n",
      "s shape torch.Size([1, 2, 224, 224])\n",
      "for loop time 0.003124713897705078\n",
      "hand mask sum: 3611.0\n",
      "Calculate single highest scoring object time: 0.030727624893188477\n",
      "Crop and resize time: 0.0009799003601074219\n",
      "Posenet forward time: 0.002037525177001953\n",
      "Posepriornet forward time: 0.0007495880126953125\n",
      "Viewpoint forward time: 0.0009670257568359375\n",
      "Get normalized 3d coordinates time: 0.0006136894226074219\n",
      "Flip left handed input time: 0.0001385211944580078\n",
      "ScaLe heatmaps time 0.00011420249938964844\n",
      "Time for processing 1 frame: 0.047736406326293945s\n"
     ]
    },
    {
     "name": "stderr",
     "output_type": "stream",
     "text": [
      "\r",
      "784it [02:45,  4.26it/s]"
     ]
    },
    {
     "name": "stdout",
     "output_type": "stream",
     "text": [
      "tensor([[0.9999]], device='cuda:0', grad_fn=<SigmoidBackward>)\n",
      "Handnet forward time: 0.009324073791503906\n",
      "Handsegnet forward time: 0.001188039779663086\n",
      "s shape torch.Size([1, 2, 224, 224])\n",
      "for loop time 0.0032470226287841797\n",
      "hand mask sum: 3605.0\n",
      "Calculate single highest scoring object time: 0.030101537704467773\n",
      "Crop and resize time: 0.0009870529174804688\n",
      "Posenet forward time: 0.001924276351928711\n",
      "Posepriornet forward time: 0.0007143020629882812\n",
      "Viewpoint forward time: 0.0009684562683105469\n",
      "Get normalized 3d coordinates time: 0.0005886554718017578\n",
      "Flip left handed input time: 0.00012946128845214844\n",
      "ScaLe heatmaps time 0.00010752677917480469\n",
      "Time for processing 1 frame: 0.046666622161865234s\n"
     ]
    },
    {
     "name": "stderr",
     "output_type": "stream",
     "text": [
      "\r",
      "785it [02:45,  4.25it/s]"
     ]
    },
    {
     "name": "stdout",
     "output_type": "stream",
     "text": [
      "tensor([[0.9999]], device='cuda:0', grad_fn=<SigmoidBackward>)\n",
      "Handnet forward time: 0.007860422134399414\n",
      "Handsegnet forward time: 0.001440286636352539\n",
      "s shape torch.Size([1, 2, 224, 224])\n",
      "for loop time 0.003184080123901367\n",
      "hand mask sum: 3592.0\n",
      "Calculate single highest scoring object time: 0.030029773712158203\n",
      "Crop and resize time: 0.0009663105010986328\n",
      "Posenet forward time: 0.002004384994506836\n",
      "Posepriornet forward time: 0.0007452964782714844\n",
      "Viewpoint forward time: 0.0009655952453613281\n",
      "Get normalized 3d coordinates time: 0.0006256103515625\n",
      "Flip left handed input time: 0.00014090538024902344\n",
      "ScaLe heatmaps time 0.00011134147644042969\n",
      "Time for processing 1 frame: 0.04537057876586914s\n"
     ]
    },
    {
     "name": "stderr",
     "output_type": "stream",
     "text": [
      "\r",
      "786it [02:45,  4.25it/s]"
     ]
    },
    {
     "name": "stdout",
     "output_type": "stream",
     "text": [
      "tensor([[0.9999]], device='cuda:0', grad_fn=<SigmoidBackward>)\n",
      "Handnet forward time: 0.007737874984741211\n",
      "Handsegnet forward time: 0.0013380050659179688\n",
      "s shape torch.Size([1, 2, 224, 224])\n",
      "for loop time 0.0031468868255615234\n",
      "hand mask sum: 3563.0\n",
      "Calculate single highest scoring object time: 0.03080439567565918\n",
      "Crop and resize time: 0.0009493827819824219\n",
      "Posenet forward time: 0.0020508766174316406\n",
      "Posepriornet forward time: 0.0007355213165283203\n",
      "Viewpoint forward time: 0.0010023117065429688\n",
      "Get normalized 3d coordinates time: 0.0006794929504394531\n",
      "Flip left handed input time: 0.00013256072998046875\n",
      "ScaLe heatmaps time 0.00010728836059570312\n",
      "Time for processing 1 frame: 0.046235084533691406s\n"
     ]
    },
    {
     "name": "stderr",
     "output_type": "stream",
     "text": [
      "\r",
      "787it [02:45,  4.27it/s]"
     ]
    },
    {
     "name": "stdout",
     "output_type": "stream",
     "text": [
      "tensor([[0.9999]], device='cuda:0', grad_fn=<SigmoidBackward>)\n",
      "Handnet forward time: 0.007741212844848633\n",
      "Handsegnet forward time: 0.0016357898712158203\n",
      "s shape torch.Size([1, 2, 224, 224])\n",
      "for loop time 0.0030808448791503906\n",
      "hand mask sum: 3536.0\n",
      "Calculate single highest scoring object time: 0.03019404411315918\n",
      "Crop and resize time: 0.000942230224609375\n",
      "Posenet forward time: 0.002365589141845703\n",
      "Posepriornet forward time: 0.0007851123809814453\n",
      "Viewpoint forward time: 0.0009851455688476562\n",
      "Get normalized 3d coordinates time: 0.0008304119110107422\n",
      "Flip left handed input time: 0.00013971328735351562\n",
      "ScaLe heatmaps time 0.00014209747314453125\n",
      "Time for processing 1 frame: 0.04656219482421875s\n"
     ]
    },
    {
     "name": "stderr",
     "output_type": "stream",
     "text": [
      "\r",
      "788it [02:45,  4.26it/s]"
     ]
    },
    {
     "name": "stdout",
     "output_type": "stream",
     "text": [
      "tensor([[0.9999]], device='cuda:0', grad_fn=<SigmoidBackward>)\n",
      "Handnet forward time: 0.007767438888549805\n",
      "Handsegnet forward time: 0.001157522201538086\n",
      "s shape torch.Size([1, 2, 224, 224])\n",
      "for loop time 0.0032052993774414062\n",
      "hand mask sum: 3501.0\n",
      "Calculate single highest scoring object time: 0.030687570571899414\n",
      "Crop and resize time: 0.0009806156158447266\n",
      "Posenet forward time: 0.0020411014556884766\n",
      "Posepriornet forward time: 0.0007443428039550781\n",
      "Viewpoint forward time: 0.000978708267211914\n",
      "Get normalized 3d coordinates time: 0.0006189346313476562\n",
      "Flip left handed input time: 0.00013780593872070312\n",
      "ScaLe heatmaps time 0.00010657310485839844\n",
      "Time for processing 1 frame: 0.04570913314819336s\n"
     ]
    },
    {
     "name": "stderr",
     "output_type": "stream",
     "text": [
      "\r",
      "789it [02:46,  4.26it/s]"
     ]
    },
    {
     "name": "stdout",
     "output_type": "stream",
     "text": [
      "tensor([[0.9999]], device='cuda:0', grad_fn=<SigmoidBackward>)\n",
      "Handnet forward time: 0.007723331451416016\n",
      "Handsegnet forward time: 0.0011544227600097656\n",
      "s shape torch.Size([1, 2, 224, 224])\n",
      "for loop time 0.003117084503173828\n",
      "hand mask sum: 3488.0\n",
      "Calculate single highest scoring object time: 0.0298001766204834\n",
      "Crop and resize time: 0.0009679794311523438\n",
      "Posenet forward time: 0.0020246505737304688\n",
      "Posepriornet forward time: 0.0007555484771728516\n",
      "Viewpoint forward time: 0.0009846687316894531\n",
      "Get normalized 3d coordinates time: 0.0006201267242431641\n",
      "Flip left handed input time: 0.0001404285430908203\n",
      "ScaLe heatmaps time 0.00011563301086425781\n",
      "Time for processing 1 frame: 0.04494619369506836s\n"
     ]
    },
    {
     "name": "stderr",
     "output_type": "stream",
     "text": [
      "\r",
      "790it [02:46,  4.26it/s]"
     ]
    },
    {
     "name": "stdout",
     "output_type": "stream",
     "text": [
      "tensor([[0.9999]], device='cuda:0', grad_fn=<SigmoidBackward>)\n",
      "Handnet forward time: 0.007863521575927734\n",
      "Handsegnet forward time: 0.001493215560913086\n",
      "s shape torch.Size([1, 2, 224, 224])\n",
      "for loop time 0.003154754638671875\n",
      "hand mask sum: 3507.0\n",
      "Calculate single highest scoring object time: 0.03014850616455078\n",
      "Crop and resize time: 0.0009415149688720703\n",
      "Posenet forward time: 0.002063751220703125\n",
      "Posepriornet forward time: 0.0007216930389404297\n",
      "Viewpoint forward time: 0.0009279251098632812\n",
      "Get normalized 3d coordinates time: 0.0006611347198486328\n",
      "Flip left handed input time: 0.00013327598571777344\n",
      "ScaLe heatmaps time 0.00010609626770019531\n",
      "Time for processing 1 frame: 0.04562568664550781s\n"
     ]
    },
    {
     "name": "stderr",
     "output_type": "stream",
     "text": [
      "\r",
      "791it [02:46,  4.26it/s]"
     ]
    },
    {
     "name": "stdout",
     "output_type": "stream",
     "text": [
      "tensor([[0.9999]], device='cuda:0', grad_fn=<SigmoidBackward>)\n",
      "Handnet forward time: 0.007743120193481445\n",
      "Handsegnet forward time: 0.0012247562408447266\n",
      "s shape torch.Size([1, 2, 224, 224])\n",
      "for loop time 0.003141641616821289\n",
      "hand mask sum: 3525.0\n",
      "Calculate single highest scoring object time: 0.029482126235961914\n",
      "Crop and resize time: 0.0009837150573730469\n",
      "Posenet forward time: 0.0020360946655273438\n",
      "Posepriornet forward time: 0.0007574558258056641\n",
      "Viewpoint forward time: 0.0009613037109375\n",
      "Get normalized 3d coordinates time: 0.0006184577941894531\n",
      "Flip left handed input time: 5.91278076171875e-05\n",
      "ScaLe heatmaps time 3.361701965332031e-05\n",
      "Time for processing 1 frame: 0.04435110092163086s\n"
     ]
    },
    {
     "name": "stderr",
     "output_type": "stream",
     "text": [
      "\r",
      "792it [02:46,  4.26it/s]"
     ]
    },
    {
     "name": "stdout",
     "output_type": "stream",
     "text": [
      "tensor([[0.9999]], device='cuda:0', grad_fn=<SigmoidBackward>)\n",
      "Handnet forward time: 0.008142948150634766\n",
      "Handsegnet forward time: 0.0010423660278320312\n",
      "s shape torch.Size([1, 2, 224, 224])\n",
      "for loop time 0.0034804344177246094\n",
      "hand mask sum: 3536.0\n",
      "Calculate single highest scoring object time: 0.030999183654785156\n",
      "Crop and resize time: 0.0009810924530029297\n",
      "Posenet forward time: 0.002032041549682617\n",
      "Posepriornet forward time: 0.0007441043853759766\n",
      "Viewpoint forward time: 0.0009629726409912109\n",
      "Get normalized 3d coordinates time: 0.0006134510040283203\n",
      "Flip left handed input time: 0.0001373291015625\n",
      "ScaLe heatmaps time 0.00010824203491210938\n",
      "Time for processing 1 frame: 0.046390533447265625s\n"
     ]
    },
    {
     "name": "stderr",
     "output_type": "stream",
     "text": [
      "\r",
      "793it [02:48,  2.02it/s]"
     ]
    },
    {
     "name": "stdout",
     "output_type": "stream",
     "text": [
      "tensor([[0.9999]], device='cuda:0', grad_fn=<SigmoidBackward>)\n",
      "Handnet forward time: 0.007719755172729492\n",
      "Handsegnet forward time: 0.0014433860778808594\n",
      "s shape torch.Size([1, 2, 224, 224])\n",
      "for loop time 0.003286600112915039\n",
      "hand mask sum: 3528.0\n",
      "Calculate single highest scoring object time: 0.029160737991333008\n",
      "Crop and resize time: 0.001819610595703125\n",
      "Posenet forward time: 0.0020020008087158203\n",
      "Posepriornet forward time: 0.0007171630859375\n",
      "Viewpoint forward time: 0.0009274482727050781\n",
      "Get normalized 3d coordinates time: 0.0005908012390136719\n",
      "Flip left handed input time: 0.0001704692840576172\n",
      "ScaLe heatmaps time 0.00010514259338378906\n",
      "Time for processing 1 frame: 0.045201778411865234s\n"
     ]
    },
    {
     "name": "stderr",
     "output_type": "stream",
     "text": [
      "\r",
      "794it [02:48,  2.40it/s]"
     ]
    },
    {
     "name": "stdout",
     "output_type": "stream",
     "text": [
      "tensor([[0.9999]], device='cuda:0', grad_fn=<SigmoidBackward>)\n",
      "Handnet forward time: 0.008948087692260742\n",
      "Handsegnet forward time: 0.0012362003326416016\n",
      "s shape torch.Size([1, 2, 224, 224])\n",
      "for loop time 0.003149271011352539\n",
      "hand mask sum: 3520.0\n",
      "Calculate single highest scoring object time: 0.029781579971313477\n",
      "Crop and resize time: 0.0018160343170166016\n",
      "Posenet forward time: 0.0019724369049072266\n",
      "Posepriornet forward time: 0.0007967948913574219\n",
      "Viewpoint forward time: 0.0009374618530273438\n",
      "Get normalized 3d coordinates time: 0.0005974769592285156\n",
      "Flip left handed input time: 0.00013947486877441406\n",
      "ScaLe heatmaps time 9.703636169433594e-05\n",
      "Time for processing 1 frame: 0.047133445739746094s\n"
     ]
    },
    {
     "name": "stderr",
     "output_type": "stream",
     "text": [
      "\r",
      "795it [02:48,  2.76it/s]"
     ]
    },
    {
     "name": "stdout",
     "output_type": "stream",
     "text": [
      "tensor([[0.9999]], device='cuda:0', grad_fn=<SigmoidBackward>)\n",
      "Handnet forward time: 0.00921487808227539\n",
      "Handsegnet forward time: 0.001588582992553711\n",
      "s shape torch.Size([1, 2, 224, 224])\n",
      "for loop time 0.0035049915313720703\n",
      "hand mask sum: 3522.0\n",
      "Calculate single highest scoring object time: 0.02976846694946289\n",
      "Crop and resize time: 0.0009853839874267578\n",
      "Posenet forward time: 0.0020499229431152344\n",
      "Posepriornet forward time: 0.0007512569427490234\n",
      "Viewpoint forward time: 0.0009613037109375\n",
      "Get normalized 3d coordinates time: 0.0006177425384521484\n",
      "Flip left handed input time: 0.00013947486877441406\n",
      "ScaLe heatmaps time 0.000110626220703125\n",
      "Time for processing 1 frame: 0.046679019927978516s\n"
     ]
    },
    {
     "name": "stderr",
     "output_type": "stream",
     "text": [
      "\r",
      "796it [02:48,  3.09it/s]"
     ]
    },
    {
     "name": "stdout",
     "output_type": "stream",
     "text": [
      "tensor([[0.9999]], device='cuda:0', grad_fn=<SigmoidBackward>)\n",
      "Handnet forward time: 0.008290767669677734\n",
      "Handsegnet forward time: 0.0013060569763183594\n",
      "s shape torch.Size([1, 2, 224, 224])\n",
      "for loop time 0.0031061172485351562\n",
      "hand mask sum: 3507.0\n",
      "Calculate single highest scoring object time: 0.030893802642822266\n",
      "Crop and resize time: 0.0009584426879882812\n",
      "Posenet forward time: 0.002011537551879883\n",
      "Posepriornet forward time: 0.0007290840148925781\n",
      "Viewpoint forward time: 0.0009882450103759766\n",
      "Get normalized 3d coordinates time: 0.0005960464477539062\n",
      "Flip left handed input time: 0.00013327598571777344\n",
      "ScaLe heatmaps time 0.00010633468627929688\n",
      "Time for processing 1 frame: 0.04670000076293945s\n"
     ]
    },
    {
     "name": "stderr",
     "output_type": "stream",
     "text": [
      "\r",
      "797it [02:48,  3.36it/s]"
     ]
    },
    {
     "name": "stdout",
     "output_type": "stream",
     "text": [
      "tensor([[0.9999]], device='cuda:0', grad_fn=<SigmoidBackward>)\n",
      "Handnet forward time: 0.007704019546508789\n",
      "Handsegnet forward time: 0.0012392997741699219\n",
      "s shape torch.Size([1, 2, 224, 224])\n",
      "for loop time 0.0031075477600097656\n",
      "hand mask sum: 3500.0\n",
      "Calculate single highest scoring object time: 0.03012871742248535\n",
      "Crop and resize time: 0.0009777545928955078\n",
      "Posenet forward time: 0.002010345458984375\n",
      "Posepriornet forward time: 0.0007610321044921875\n",
      "Viewpoint forward time: 0.0009694099426269531\n",
      "Get normalized 3d coordinates time: 0.0006146430969238281\n",
      "Flip left handed input time: 0.00014781951904296875\n",
      "ScaLe heatmaps time 0.00010943412780761719\n",
      "Time for processing 1 frame: 0.045310020446777344s\n"
     ]
    },
    {
     "name": "stderr",
     "output_type": "stream",
     "text": [
      "\r",
      "798it [02:49,  3.59it/s]"
     ]
    },
    {
     "name": "stdout",
     "output_type": "stream",
     "text": [
      "tensor([[0.9999]], device='cuda:0', grad_fn=<SigmoidBackward>)\n",
      "Handnet forward time: 0.007831573486328125\n",
      "Handsegnet forward time: 0.001394033432006836\n",
      "s shape torch.Size([1, 2, 224, 224])\n",
      "for loop time 0.0031206607818603516\n",
      "hand mask sum: 3476.0\n",
      "Calculate single highest scoring object time: 0.03032970428466797\n",
      "Crop and resize time: 0.0009758472442626953\n",
      "Posenet forward time: 0.0019986629486083984\n",
      "Posepriornet forward time: 0.0007290840148925781\n",
      "Viewpoint forward time: 0.0009601116180419922\n",
      "Get normalized 3d coordinates time: 0.0006070137023925781\n",
      "Flip left handed input time: 0.00013685226440429688\n",
      "ScaLe heatmaps time 0.00011229515075683594\n",
      "Time for processing 1 frame: 0.04575824737548828s\n"
     ]
    },
    {
     "name": "stderr",
     "output_type": "stream",
     "text": [
      "\r",
      "799it [02:49,  3.78it/s]"
     ]
    },
    {
     "name": "stdout",
     "output_type": "stream",
     "text": [
      "tensor([[0.9999]], device='cuda:0', grad_fn=<SigmoidBackward>)\n",
      "Handnet forward time: 0.007840156555175781\n",
      "Handsegnet forward time: 0.0011601448059082031\n",
      "s shape torch.Size([1, 2, 224, 224])\n",
      "for loop time 0.0031599998474121094\n",
      "hand mask sum: 3477.0\n",
      "Calculate single highest scoring object time: 0.03107452392578125\n",
      "Crop and resize time: 0.0009593963623046875\n",
      "Posenet forward time: 0.001995086669921875\n",
      "Posepriornet forward time: 0.0007903575897216797\n",
      "Viewpoint forward time: 0.0009815692901611328\n",
      "Get normalized 3d coordinates time: 0.0006058216094970703\n",
      "Flip left handed input time: 0.0001347064971923828\n",
      "ScaLe heatmaps time 0.0001068115234375\n",
      "Time for processing 1 frame: 0.0462796688079834s\n"
     ]
    },
    {
     "name": "stderr",
     "output_type": "stream",
     "text": [
      "\r",
      "800it [02:49,  3.91it/s]"
     ]
    },
    {
     "name": "stdout",
     "output_type": "stream",
     "text": [
      "tensor([[0.9999]], device='cuda:0', grad_fn=<SigmoidBackward>)\n",
      "Handnet forward time: 0.007802486419677734\n",
      "Handsegnet forward time: 0.0013692378997802734\n",
      "s shape torch.Size([1, 2, 224, 224])\n",
      "for loop time 0.0031511783599853516\n",
      "hand mask sum: 3474.0\n",
      "Calculate single highest scoring object time: 0.03108692169189453\n",
      "Crop and resize time: 0.0009932518005371094\n",
      "Posenet forward time: 0.0020842552185058594\n",
      "Posepriornet forward time: 0.0007867813110351562\n",
      "Viewpoint forward time: 0.0009505748748779297\n",
      "Get normalized 3d coordinates time: 0.0006043910980224609\n",
      "Flip left handed input time: 0.00013709068298339844\n",
      "ScaLe heatmaps time 0.00011181831359863281\n",
      "Time for processing 1 frame: 0.046518564224243164s\n"
     ]
    },
    {
     "name": "stderr",
     "output_type": "stream",
     "text": [
      "\r",
      "801it [02:49,  4.00it/s]"
     ]
    },
    {
     "name": "stdout",
     "output_type": "stream",
     "text": [
      "tensor([[0.9999]], device='cuda:0', grad_fn=<SigmoidBackward>)\n",
      "Handnet forward time: 0.007746219635009766\n",
      "Handsegnet forward time: 0.0014853477478027344\n",
      "s shape torch.Size([1, 2, 224, 224])\n",
      "for loop time 0.0031366348266601562\n",
      "hand mask sum: 3452.0\n",
      "Calculate single highest scoring object time: 0.02965855598449707\n",
      "Crop and resize time: 0.0009808540344238281\n",
      "Posenet forward time: 0.0020394325256347656\n",
      "Posepriornet forward time: 0.0007505416870117188\n",
      "Viewpoint forward time: 0.0009665489196777344\n",
      "Get normalized 3d coordinates time: 0.0006279945373535156\n",
      "Flip left handed input time: 0.00013875961303710938\n",
      "ScaLe heatmaps time 0.00010466575622558594\n",
      "Time for processing 1 frame: 0.044974327087402344s\n"
     ]
    },
    {
     "name": "stderr",
     "output_type": "stream",
     "text": [
      "\r",
      "802it [02:50,  4.08it/s]"
     ]
    },
    {
     "name": "stdout",
     "output_type": "stream",
     "text": [
      "tensor([[0.9999]], device='cuda:0', grad_fn=<SigmoidBackward>)\n",
      "Handnet forward time: 0.0076944828033447266\n",
      "Handsegnet forward time: 0.0013289451599121094\n",
      "s shape torch.Size([1, 2, 224, 224])\n",
      "for loop time 0.003148317337036133\n",
      "hand mask sum: 3414.0\n",
      "Calculate single highest scoring object time: 0.030377626419067383\n",
      "Crop and resize time: 0.0009527206420898438\n",
      "Posenet forward time: 0.002068758010864258\n",
      "Posepriornet forward time: 0.0007326602935791016\n",
      "Viewpoint forward time: 0.0009441375732421875\n",
      "Get normalized 3d coordinates time: 0.0006051063537597656\n",
      "Flip left handed input time: 0.0001316070556640625\n",
      "ScaLe heatmaps time 0.00011610984802246094\n",
      "Time for processing 1 frame: 0.0456089973449707s\n"
     ]
    },
    {
     "name": "stderr",
     "output_type": "stream",
     "text": [
      "\r",
      "803it [02:50,  4.13it/s]"
     ]
    },
    {
     "name": "stdout",
     "output_type": "stream",
     "text": [
      "tensor([[0.9999]], device='cuda:0', grad_fn=<SigmoidBackward>)\n",
      "Handnet forward time: 0.007754087448120117\n",
      "Handsegnet forward time: 0.0012493133544921875\n",
      "s shape torch.Size([1, 2, 224, 224])\n",
      "for loop time 0.0031652450561523438\n",
      "hand mask sum: 3363.0\n",
      "Calculate single highest scoring object time: 0.029532194137573242\n",
      "Crop and resize time: 0.0009474754333496094\n",
      "Posenet forward time: 0.002158641815185547\n",
      "Posepriornet forward time: 0.0007214546203613281\n",
      "Viewpoint forward time: 0.0010118484497070312\n",
      "Get normalized 3d coordinates time: 0.0006959438323974609\n",
      "Flip left handed input time: 0.0002014636993408203\n",
      "ScaLe heatmaps time 0.00020694732666015625\n",
      "Time for processing 1 frame: 0.04505348205566406s\n"
     ]
    },
    {
     "name": "stderr",
     "output_type": "stream",
     "text": [
      "\r",
      "804it [02:50,  4.17it/s]"
     ]
    },
    {
     "name": "stdout",
     "output_type": "stream",
     "text": [
      "tensor([[0.9999]], device='cuda:0', grad_fn=<SigmoidBackward>)\n",
      "Handnet forward time: 0.00823211669921875\n",
      "Handsegnet forward time: 0.0013990402221679688\n",
      "s shape torch.Size([1, 2, 224, 224])\n",
      "for loop time 0.0034301280975341797\n",
      "hand mask sum: 3346.0\n",
      "Calculate single highest scoring object time: 0.03069615364074707\n",
      "Crop and resize time: 0.0009489059448242188\n",
      "Posenet forward time: 0.001976490020751953\n",
      "Posepriornet forward time: 0.000732421875\n",
      "Viewpoint forward time: 0.0009474754333496094\n",
      "Get normalized 3d coordinates time: 0.0006043910980224609\n",
      "Flip left handed input time: 0.00013756752014160156\n",
      "ScaLe heatmaps time 0.00010991096496582031\n",
      "Time for processing 1 frame: 0.0464479923248291s\n"
     ]
    },
    {
     "name": "stderr",
     "output_type": "stream",
     "text": [
      "\r",
      "805it [02:50,  4.19it/s]"
     ]
    },
    {
     "name": "stdout",
     "output_type": "stream",
     "text": [
      "tensor([[0.9999]], device='cuda:0', grad_fn=<SigmoidBackward>)\n",
      "Handnet forward time: 0.009135246276855469\n",
      "Handsegnet forward time: 0.001123189926147461\n",
      "s shape torch.Size([1, 2, 224, 224])\n",
      "for loop time 0.003736257553100586\n",
      "hand mask sum: 3321.0\n",
      "Calculate single highest scoring object time: 0.030519962310791016\n",
      "Crop and resize time: 0.0009965896606445312\n",
      "Posenet forward time: 0.002023935317993164\n",
      "Posepriornet forward time: 0.0007567405700683594\n",
      "Viewpoint forward time: 0.000978231430053711\n",
      "Get normalized 3d coordinates time: 0.0006186962127685547\n",
      "Flip left handed input time: 0.000125885009765625\n",
      "ScaLe heatmaps time 9.846687316894531e-05\n",
      "Time for processing 1 frame: 0.0469663143157959s\n"
     ]
    },
    {
     "name": "stderr",
     "output_type": "stream",
     "text": [
      "\r",
      "806it [02:51,  4.21it/s]"
     ]
    },
    {
     "name": "stdout",
     "output_type": "stream",
     "text": [
      "tensor([[0.9998]], device='cuda:0', grad_fn=<SigmoidBackward>)\n",
      "Handnet forward time: 0.009249448776245117\n",
      "Handsegnet forward time: 0.0014543533325195312\n",
      "s shape torch.Size([1, 2, 224, 224])\n",
      "for loop time 0.0030257701873779297\n",
      "hand mask sum: 3310.0\n",
      "Calculate single highest scoring object time: 0.030406475067138672\n",
      "Crop and resize time: 0.0009639263153076172\n",
      "Posenet forward time: 0.001965761184692383\n",
      "Posepriornet forward time: 0.0008156299591064453\n",
      "Viewpoint forward time: 0.00099945068359375\n",
      "Get normalized 3d coordinates time: 0.0006117820739746094\n",
      "Flip left handed input time: 0.00013780593872070312\n",
      "ScaLe heatmaps time 0.0001087188720703125\n",
      "Time for processing 1 frame: 0.04725146293640137s\n"
     ]
    },
    {
     "name": "stderr",
     "output_type": "stream",
     "text": [
      "\r",
      "807it [02:51,  4.22it/s]"
     ]
    },
    {
     "name": "stdout",
     "output_type": "stream",
     "text": [
      "tensor([[0.9998]], device='cuda:0', grad_fn=<SigmoidBackward>)\n",
      "Handnet forward time: 0.008495569229125977\n",
      "Handsegnet forward time: 0.0012404918670654297\n",
      "s shape torch.Size([1, 2, 224, 224])\n",
      "for loop time 0.0034422874450683594\n",
      "hand mask sum: 3314.0\n",
      "Calculate single highest scoring object time: 0.029794931411743164\n",
      "Crop and resize time: 0.0009844303131103516\n",
      "Posenet forward time: 0.0020465850830078125\n",
      "Posepriornet forward time: 0.0007531642913818359\n",
      "Viewpoint forward time: 0.0009639263153076172\n",
      "Get normalized 3d coordinates time: 0.0006201267242431641\n",
      "Flip left handed input time: 0.00013828277587890625\n",
      "ScaLe heatmaps time 0.00010943412780761719\n",
      "Time for processing 1 frame: 0.04572486877441406s\n"
     ]
    },
    {
     "name": "stderr",
     "output_type": "stream",
     "text": [
      "\r",
      "808it [02:51,  4.24it/s]"
     ]
    },
    {
     "name": "stdout",
     "output_type": "stream",
     "text": [
      "tensor([[0.9998]], device='cuda:0', grad_fn=<SigmoidBackward>)\n",
      "Handnet forward time: 0.007679462432861328\n",
      "Handsegnet forward time: 0.0011036396026611328\n",
      "s shape torch.Size([1, 2, 224, 224])\n",
      "for loop time 0.003271818161010742\n",
      "hand mask sum: 3346.0\n",
      "Calculate single highest scoring object time: 0.029944419860839844\n",
      "Crop and resize time: 0.000993967056274414\n",
      "Posenet forward time: 0.0019450187683105469\n",
      "Posepriornet forward time: 0.0007166862487792969\n",
      "Viewpoint forward time: 0.0009188652038574219\n",
      "Get normalized 3d coordinates time: 0.0006349086761474609\n",
      "Flip left handed input time: 0.00013327598571777344\n",
      "ScaLe heatmaps time 0.00010466575622558594\n",
      "Time for processing 1 frame: 0.04478645324707031s\n"
     ]
    },
    {
     "name": "stderr",
     "output_type": "stream",
     "text": [
      "\r",
      "809it [02:51,  4.25it/s]"
     ]
    },
    {
     "name": "stdout",
     "output_type": "stream",
     "text": [
      "tensor([[0.9998]], device='cuda:0', grad_fn=<SigmoidBackward>)\n",
      "Handnet forward time: 0.00775146484375\n",
      "Handsegnet forward time: 0.0011091232299804688\n",
      "s shape torch.Size([1, 2, 224, 224])\n",
      "for loop time 0.0031211376190185547\n",
      "hand mask sum: 3334.0\n",
      "Calculate single highest scoring object time: 0.03089308738708496\n",
      "Crop and resize time: 0.0009710788726806641\n",
      "Posenet forward time: 0.002150297164916992\n",
      "Posepriornet forward time: 0.0007529258728027344\n",
      "Viewpoint forward time: 0.0009675025939941406\n",
      "Get normalized 3d coordinates time: 0.0006260871887207031\n",
      "Flip left handed input time: 0.0001494884490966797\n",
      "ScaLe heatmaps time 0.00010824203491210938\n",
      "Time for processing 1 frame: 0.046056270599365234s\n"
     ]
    },
    {
     "name": "stderr",
     "output_type": "stream",
     "text": [
      "\r",
      "810it [02:51,  4.26it/s]"
     ]
    },
    {
     "name": "stdout",
     "output_type": "stream",
     "text": [
      "tensor([[0.9997]], device='cuda:0', grad_fn=<SigmoidBackward>)\n",
      "Handnet forward time: 0.00777745246887207\n",
      "Handsegnet forward time: 0.0014050006866455078\n",
      "s shape torch.Size([1, 2, 224, 224])\n",
      "for loop time 0.0030968189239501953\n",
      "hand mask sum: 3322.0\n",
      "Calculate single highest scoring object time: 0.03068828582763672\n",
      "Crop and resize time: 0.0009920597076416016\n",
      "Posenet forward time: 0.0019745826721191406\n",
      "Posepriornet forward time: 0.0007274150848388672\n",
      "Viewpoint forward time: 0.0009517669677734375\n",
      "Get normalized 3d coordinates time: 0.0005967617034912109\n",
      "Flip left handed input time: 5.626678466796875e-05\n",
      "ScaLe heatmaps time 3.218650817871094e-05\n",
      "Time for processing 1 frame: 0.04578518867492676s\n"
     ]
    },
    {
     "name": "stderr",
     "output_type": "stream",
     "text": [
      "\r",
      "811it [02:52,  4.27it/s]"
     ]
    },
    {
     "name": "stdout",
     "output_type": "stream",
     "text": [
      "tensor([[0.9998]], device='cuda:0', grad_fn=<SigmoidBackward>)\n",
      "Handnet forward time: 0.008441686630249023\n",
      "Handsegnet forward time: 0.0014231204986572266\n",
      "s shape torch.Size([1, 2, 224, 224])\n",
      "for loop time 0.0032813549041748047\n",
      "hand mask sum: 3280.0\n",
      "Calculate single highest scoring object time: 0.029649734497070312\n",
      "Crop and resize time: 0.0009627342224121094\n",
      "Posenet forward time: 0.0019445419311523438\n",
      "Posepriornet forward time: 0.0008068084716796875\n",
      "Viewpoint forward time: 0.0009326934814453125\n",
      "Get normalized 3d coordinates time: 0.0006308555603027344\n",
      "Flip left handed input time: 0.0001342296600341797\n",
      "ScaLe heatmaps time 4.3392181396484375e-05\n",
      "Time for processing 1 frame: 0.04566764831542969s\n"
     ]
    },
    {
     "name": "stderr",
     "output_type": "stream",
     "text": [
      "\r",
      "812it [02:52,  4.27it/s]"
     ]
    },
    {
     "name": "stdout",
     "output_type": "stream",
     "text": [
      "tensor([[0.9998]], device='cuda:0', grad_fn=<SigmoidBackward>)\n",
      "Handnet forward time: 0.007874250411987305\n",
      "Handsegnet forward time: 0.0012111663818359375\n",
      "s shape torch.Size([1, 2, 224, 224])\n",
      "for loop time 0.003114461898803711\n",
      "hand mask sum: 3293.0\n",
      "Calculate single highest scoring object time: 0.030896902084350586\n",
      "Crop and resize time: 0.0009319782257080078\n",
      "Posenet forward time: 0.0020246505737304688\n",
      "Posepriornet forward time: 0.0007398128509521484\n",
      "Viewpoint forward time: 0.000957489013671875\n",
      "Get normalized 3d coordinates time: 0.0006580352783203125\n",
      "Flip left handed input time: 0.00015664100646972656\n",
      "ScaLe heatmaps time 0.00010967254638671875\n",
      "Time for processing 1 frame: 0.04606366157531738s\n"
     ]
    },
    {
     "name": "stderr",
     "output_type": "stream",
     "text": [
      "\r",
      "813it [02:52,  4.28it/s]"
     ]
    },
    {
     "name": "stdout",
     "output_type": "stream",
     "text": [
      "tensor([[0.9999]], device='cuda:0', grad_fn=<SigmoidBackward>)\n",
      "Handnet forward time: 0.00811457633972168\n",
      "Handsegnet forward time: 0.0015306472778320312\n",
      "s shape torch.Size([1, 2, 224, 224])\n",
      "for loop time 0.003124713897705078\n",
      "hand mask sum: 3264.0\n",
      "Calculate single highest scoring object time: 0.030473709106445312\n",
      "Crop and resize time: 0.0009753704071044922\n",
      "Posenet forward time: 0.0019996166229248047\n",
      "Posepriornet forward time: 0.0007393360137939453\n",
      "Viewpoint forward time: 0.0009517669677734375\n",
      "Get normalized 3d coordinates time: 0.0006227493286132812\n",
      "Flip left handed input time: 5.602836608886719e-05\n",
      "ScaLe heatmaps time 3.314018249511719e-05\n",
      "Time for processing 1 frame: 0.04595303535461426s\n"
     ]
    },
    {
     "name": "stderr",
     "output_type": "stream",
     "text": [
      "\r",
      "814it [02:52,  4.27it/s]"
     ]
    },
    {
     "name": "stdout",
     "output_type": "stream",
     "text": [
      "tensor([[0.9999]], device='cuda:0', grad_fn=<SigmoidBackward>)\n",
      "Handnet forward time: 0.007727146148681641\n",
      "Handsegnet forward time: 0.0013096332550048828\n",
      "s shape torch.Size([1, 2, 224, 224])\n",
      "for loop time 0.0030977725982666016\n",
      "hand mask sum: 3254.0\n",
      "Calculate single highest scoring object time: 0.030765056610107422\n",
      "Crop and resize time: 0.0009438991546630859\n",
      "Posenet forward time: 0.0020644664764404297\n",
      "Posepriornet forward time: 0.0007090568542480469\n",
      "Viewpoint forward time: 0.0009145736694335938\n",
      "Get normalized 3d coordinates time: 0.0005967617034912109\n",
      "Flip left handed input time: 0.00016570091247558594\n",
      "ScaLe heatmaps time 0.00010633468627929688\n",
      "Time for processing 1 frame: 0.045748233795166016s\n"
     ]
    },
    {
     "name": "stderr",
     "output_type": "stream",
     "text": [
      "\r",
      "815it [02:53,  4.25it/s]"
     ]
    },
    {
     "name": "stdout",
     "output_type": "stream",
     "text": [
      "tensor([[0.9999]], device='cuda:0', grad_fn=<SigmoidBackward>)\n",
      "Handnet forward time: 0.007756233215332031\n",
      "Handsegnet forward time: 0.0014252662658691406\n",
      "s shape torch.Size([1, 2, 224, 224])\n",
      "for loop time 0.0031266212463378906\n",
      "hand mask sum: 3264.0\n",
      "Calculate single highest scoring object time: 0.03031015396118164\n",
      "Crop and resize time: 0.0009691715240478516\n",
      "Posenet forward time: 0.002007007598876953\n",
      "Posepriornet forward time: 0.0007479190826416016\n",
      "Viewpoint forward time: 0.0009558200836181641\n",
      "Get normalized 3d coordinates time: 0.0006735324859619141\n",
      "Flip left handed input time: 0.0001437664031982422\n",
      "ScaLe heatmaps time 0.00011134147644042969\n",
      "Time for processing 1 frame: 0.045594215393066406s\n"
     ]
    },
    {
     "name": "stderr",
     "output_type": "stream",
     "text": [
      "\r",
      "816it [02:53,  4.27it/s]"
     ]
    },
    {
     "name": "stdout",
     "output_type": "stream",
     "text": [
      "tensor([[0.9999]], device='cuda:0', grad_fn=<SigmoidBackward>)\n",
      "Handnet forward time: 0.00764012336730957\n",
      "Handsegnet forward time: 0.0009698867797851562\n",
      "s shape torch.Size([1, 2, 224, 224])\n",
      "for loop time 0.0031321048736572266\n",
      "hand mask sum: 3256.0\n",
      "Calculate single highest scoring object time: 0.030174732208251953\n",
      "Crop and resize time: 0.0009710788726806641\n",
      "Posenet forward time: 0.0020482540130615234\n",
      "Posepriornet forward time: 0.0007753372192382812\n",
      "Viewpoint forward time: 0.000982522964477539\n",
      "Get normalized 3d coordinates time: 0.0005936622619628906\n",
      "Flip left handed input time: 0.00013327598571777344\n",
      "ScaLe heatmaps time 2.9325485229492188e-05\n",
      "Time for processing 1 frame: 0.044939517974853516s\n"
     ]
    },
    {
     "name": "stderr",
     "output_type": "stream",
     "text": [
      "\r",
      "817it [02:53,  4.26it/s]"
     ]
    },
    {
     "name": "stdout",
     "output_type": "stream",
     "text": [
      "tensor([[0.9999]], device='cuda:0', grad_fn=<SigmoidBackward>)\n",
      "Handnet forward time: 0.007814407348632812\n",
      "Handsegnet forward time: 0.001489877700805664\n",
      "s shape torch.Size([1, 2, 224, 224])\n",
      "for loop time 0.0031175613403320312\n",
      "hand mask sum: 3254.0\n",
      "Calculate single highest scoring object time: 0.030011653900146484\n",
      "Crop and resize time: 0.0009238719940185547\n",
      "Posenet forward time: 0.002023935317993164\n",
      "Posepriornet forward time: 0.0008535385131835938\n",
      "Viewpoint forward time: 0.0009083747863769531\n",
      "Get normalized 3d coordinates time: 0.0006449222564697266\n",
      "Flip left handed input time: 5.459785461425781e-05\n",
      "ScaLe heatmaps time 3.24249267578125e-05\n",
      "Time for processing 1 frame: 0.045221805572509766s\n"
     ]
    },
    {
     "name": "stderr",
     "output_type": "stream",
     "text": [
      "\r",
      "818it [02:53,  4.26it/s]"
     ]
    },
    {
     "name": "stdout",
     "output_type": "stream",
     "text": [
      "tensor([[0.9999]], device='cuda:0', grad_fn=<SigmoidBackward>)\n",
      "Handnet forward time: 0.008155107498168945\n",
      "Handsegnet forward time: 0.00118255615234375\n",
      "s shape torch.Size([1, 2, 224, 224])\n",
      "for loop time 0.0034487247467041016\n",
      "hand mask sum: 3254.0\n",
      "Calculate single highest scoring object time: 0.030477523803710938\n",
      "Crop and resize time: 0.0009665489196777344\n",
      "Posenet forward time: 0.0020029544830322266\n",
      "Posepriornet forward time: 0.0007381439208984375\n",
      "Viewpoint forward time: 0.0009505748748779297\n",
      "Get normalized 3d coordinates time: 0.0006155967712402344\n",
      "Flip left handed input time: 0.00013637542724609375\n",
      "ScaLe heatmaps time 0.00010824203491210938\n",
      "Time for processing 1 frame: 0.04598069190979004s\n"
     ]
    },
    {
     "name": "stderr",
     "output_type": "stream",
     "text": [
      "\r",
      "819it [02:54,  4.28it/s]"
     ]
    },
    {
     "name": "stdout",
     "output_type": "stream",
     "text": [
      "tensor([[0.9998]], device='cuda:0', grad_fn=<SigmoidBackward>)\n",
      "Handnet forward time: 0.007680416107177734\n",
      "Handsegnet forward time: 0.001088857650756836\n",
      "s shape torch.Size([1, 2, 224, 224])\n",
      "for loop time 0.0030438899993896484\n",
      "hand mask sum: 3256.0\n",
      "Calculate single highest scoring object time: 0.03110051155090332\n",
      "Crop and resize time: 0.0012218952178955078\n",
      "Posenet forward time: 0.0020380020141601562\n",
      "Posepriornet forward time: 0.0007283687591552734\n",
      "Viewpoint forward time: 0.0009386539459228516\n",
      "Get normalized 3d coordinates time: 0.0005974769592285156\n",
      "Flip left handed input time: 0.00015354156494140625\n",
      "ScaLe heatmaps time 0.00010585784912109375\n",
      "Time for processing 1 frame: 0.046422481536865234s\n"
     ]
    },
    {
     "name": "stderr",
     "output_type": "stream",
     "text": [
      "\r",
      "820it [02:54,  4.27it/s]"
     ]
    },
    {
     "name": "stdout",
     "output_type": "stream",
     "text": [
      "tensor([[0.9997]], device='cuda:0', grad_fn=<SigmoidBackward>)\n",
      "Handnet forward time: 0.008118629455566406\n",
      "Handsegnet forward time: 0.0013246536254882812\n",
      "s shape torch.Size([1, 2, 224, 224])\n",
      "for loop time 0.003467082977294922\n",
      "hand mask sum: 3261.0\n",
      "Calculate single highest scoring object time: 0.03042769432067871\n",
      "Crop and resize time: 0.0009236335754394531\n",
      "Posenet forward time: 0.001990795135498047\n",
      "Posepriornet forward time: 0.0007092952728271484\n",
      "Viewpoint forward time: 0.0009119510650634766\n",
      "Get normalized 3d coordinates time: 0.0005817413330078125\n",
      "Flip left handed input time: 0.00013208389282226562\n",
      "ScaLe heatmaps time 0.00010442733764648438\n",
      "Time for processing 1 frame: 0.045827627182006836s\n"
     ]
    },
    {
     "name": "stderr",
     "output_type": "stream",
     "text": [
      "\r",
      "821it [02:54,  4.26it/s]"
     ]
    },
    {
     "name": "stdout",
     "output_type": "stream",
     "text": [
      "tensor([[0.9998]], device='cuda:0', grad_fn=<SigmoidBackward>)\n",
      "Handnet forward time: 0.008897781372070312\n",
      "Handsegnet forward time: 0.0013973712921142578\n",
      "s shape torch.Size([1, 2, 224, 224])\n",
      "for loop time 0.003098726272583008\n",
      "hand mask sum: 3248.0\n",
      "Calculate single highest scoring object time: 0.02939128875732422\n",
      "Crop and resize time: 0.001768350601196289\n",
      "Posenet forward time: 0.001996278762817383\n",
      "Posepriornet forward time: 0.0007367134094238281\n",
      "Viewpoint forward time: 0.000949859619140625\n",
      "Get normalized 3d coordinates time: 0.0006122589111328125\n",
      "Flip left handed input time: 0.0001373291015625\n",
      "ScaLe heatmaps time 0.00010943412780761719\n",
      "Time for processing 1 frame: 0.04644274711608887s\n"
     ]
    },
    {
     "name": "stderr",
     "output_type": "stream",
     "text": [
      "\r",
      "822it [02:54,  4.26it/s]"
     ]
    },
    {
     "name": "stdout",
     "output_type": "stream",
     "text": [
      "tensor([[0.9998]], device='cuda:0', grad_fn=<SigmoidBackward>)\n",
      "Handnet forward time: 0.009186744689941406\n",
      "Handsegnet forward time: 0.0011234283447265625\n",
      "s shape torch.Size([1, 2, 224, 224])\n",
      "for loop time 0.0031290054321289062\n",
      "hand mask sum: 3239.0\n",
      "Calculate single highest scoring object time: 0.03107452392578125\n",
      "Crop and resize time: 0.0009799003601074219\n",
      "Posenet forward time: 0.0019655227661132812\n",
      "Posepriornet forward time: 0.0007240772247314453\n",
      "Viewpoint forward time: 0.0009286403656005859\n",
      "Get normalized 3d coordinates time: 0.0005991458892822266\n",
      "Flip left handed input time: 0.00013637542724609375\n",
      "ScaLe heatmaps time 0.00010919570922851562\n",
      "Time for processing 1 frame: 0.04749178886413574s\n"
     ]
    },
    {
     "name": "stderr",
     "output_type": "stream",
     "text": [
      "\r",
      "823it [02:55,  4.26it/s]"
     ]
    },
    {
     "name": "stdout",
     "output_type": "stream",
     "text": [
      "tensor([[1.0000]], device='cuda:0', grad_fn=<SigmoidBackward>)\n",
      "Handnet forward time: 0.008754253387451172\n",
      "Handsegnet forward time: 0.0012354850769042969\n",
      "s shape torch.Size([1, 2, 224, 224])\n",
      "for loop time 0.0030930042266845703\n",
      "hand mask sum: 3224.0\n",
      "Calculate single highest scoring object time: 0.03099370002746582\n",
      "Crop and resize time: 0.0009119510650634766\n",
      "Posenet forward time: 0.0019309520721435547\n",
      "Posepriornet forward time: 0.0007021427154541016\n",
      "Viewpoint forward time: 0.0009000301361083984\n",
      "Get normalized 3d coordinates time: 0.0006170272827148438\n",
      "Flip left handed input time: 5.3882598876953125e-05\n",
      "ScaLe heatmaps time 0.00014519691467285156\n",
      "Time for processing 1 frame: 0.047011613845825195s\n"
     ]
    },
    {
     "name": "stderr",
     "output_type": "stream",
     "text": [
      "\r",
      "824it [02:55,  4.26it/s]"
     ]
    },
    {
     "name": "stdout",
     "output_type": "stream",
     "text": [
      "tensor([[1.0000]], device='cuda:0', grad_fn=<SigmoidBackward>)\n",
      "Handnet forward time: 0.007678985595703125\n",
      "Handsegnet forward time: 0.0010390281677246094\n",
      "s shape torch.Size([1, 2, 224, 224])\n",
      "for loop time 0.00311279296875\n",
      "hand mask sum: 3154.0\n",
      "Calculate single highest scoring object time: 0.03097367286682129\n",
      "Crop and resize time: 0.000957489013671875\n",
      "Posenet forward time: 0.002001047134399414\n",
      "Posepriornet forward time: 0.0007340908050537109\n",
      "Viewpoint forward time: 0.0009388923645019531\n",
      "Get normalized 3d coordinates time: 0.0006041526794433594\n",
      "Flip left handed input time: 0.00014448165893554688\n",
      "ScaLe heatmaps time 0.00011086463928222656\n",
      "Time for processing 1 frame: 0.04583311080932617s\n"
     ]
    },
    {
     "name": "stderr",
     "output_type": "stream",
     "text": [
      "\r",
      "825it [02:55,  4.27it/s]"
     ]
    },
    {
     "name": "stdout",
     "output_type": "stream",
     "text": [
      "tensor([[1.0000]], device='cuda:0', grad_fn=<SigmoidBackward>)\n",
      "Handnet forward time: 0.008153915405273438\n",
      "Handsegnet forward time: 0.0011949539184570312\n",
      "s shape torch.Size([1, 2, 224, 224])\n",
      "for loop time 0.0030715465545654297\n",
      "hand mask sum: 3140.0\n",
      "Calculate single highest scoring object time: 0.03024458885192871\n",
      "Crop and resize time: 0.0009822845458984375\n",
      "Posenet forward time: 0.001935720443725586\n",
      "Posepriornet forward time: 0.0007181167602539062\n",
      "Viewpoint forward time: 0.0009207725524902344\n",
      "Get normalized 3d coordinates time: 0.0006356239318847656\n",
      "Flip left handed input time: 0.00013303756713867188\n",
      "ScaLe heatmaps time 3.075599670410156e-05\n",
      "Time for processing 1 frame: 0.04558706283569336s\n"
     ]
    },
    {
     "name": "stderr",
     "output_type": "stream",
     "text": [
      "\r",
      "826it [02:55,  4.28it/s]"
     ]
    },
    {
     "name": "stdout",
     "output_type": "stream",
     "text": [
      "tensor([[1.0000]], device='cuda:0', grad_fn=<SigmoidBackward>)\n",
      "Handnet forward time: 0.008298635482788086\n",
      "Handsegnet forward time: 0.0015645027160644531\n",
      "s shape torch.Size([1, 2, 224, 224])\n",
      "for loop time 0.0033407211303710938\n",
      "hand mask sum: 3162.0\n",
      "Calculate single highest scoring object time: 0.029675006866455078\n",
      "Crop and resize time: 0.001041412353515625\n",
      "Posenet forward time: 0.0018606185913085938\n",
      "Posepriornet forward time: 0.0007028579711914062\n",
      "Viewpoint forward time: 0.000986337661743164\n",
      "Get normalized 3d coordinates time: 0.0005698204040527344\n",
      "Flip left handed input time: 0.00013518333435058594\n",
      "ScaLe heatmaps time 9.679794311523438e-05\n",
      "Time for processing 1 frame: 0.04550647735595703s\n"
     ]
    },
    {
     "name": "stderr",
     "output_type": "stream",
     "text": [
      "\r",
      "827it [02:55,  4.28it/s]"
     ]
    },
    {
     "name": "stdout",
     "output_type": "stream",
     "text": [
      "tensor([[1.0000]], device='cuda:0', grad_fn=<SigmoidBackward>)\n",
      "Handnet forward time: 0.008359432220458984\n",
      "Handsegnet forward time: 0.0015716552734375\n",
      "s shape torch.Size([1, 2, 224, 224])\n",
      "for loop time 0.003077268600463867\n",
      "hand mask sum: 3148.0\n",
      "Calculate single highest scoring object time: 0.02974081039428711\n",
      "Crop and resize time: 0.0009565353393554688\n",
      "Posenet forward time: 0.0019791126251220703\n",
      "Posepriornet forward time: 0.0007274150848388672\n",
      "Viewpoint forward time: 0.0009329319000244141\n",
      "Get normalized 3d coordinates time: 0.0006067752838134766\n",
      "Flip left handed input time: 5.6743621826171875e-05\n",
      "ScaLe heatmaps time 3.361701965332031e-05\n",
      "Time for processing 1 frame: 0.0454714298248291s\n"
     ]
    },
    {
     "name": "stderr",
     "output_type": "stream",
     "text": [
      "\r",
      "828it [02:56,  4.29it/s]"
     ]
    },
    {
     "name": "stdout",
     "output_type": "stream",
     "text": [
      "tensor([[1.0000]], device='cuda:0', grad_fn=<SigmoidBackward>)\n",
      "Handnet forward time: 0.009210348129272461\n",
      "Handsegnet forward time: 0.0013227462768554688\n",
      "s shape torch.Size([1, 2, 224, 224])\n",
      "for loop time 0.0033426284790039062\n",
      "hand mask sum: 3164.0\n",
      "Calculate single highest scoring object time: 0.029873371124267578\n",
      "Crop and resize time: 0.000946044921875\n",
      "Posenet forward time: 0.0019459724426269531\n",
      "Posepriornet forward time: 0.0007138252258300781\n",
      "Viewpoint forward time: 0.0009150505065917969\n",
      "Get normalized 3d coordinates time: 0.0005905628204345703\n",
      "Flip left handed input time: 0.00013256072998046875\n",
      "ScaLe heatmaps time 0.00010561943054199219\n",
      "Time for processing 1 frame: 0.046361684799194336s\n"
     ]
    },
    {
     "name": "stderr",
     "output_type": "stream",
     "text": [
      "\r",
      "829it [02:56,  4.29it/s]"
     ]
    },
    {
     "name": "stdout",
     "output_type": "stream",
     "text": [
      "tensor([[1.0000]], device='cuda:0', grad_fn=<SigmoidBackward>)\n",
      "Handnet forward time: 0.009169816970825195\n",
      "Handsegnet forward time: 0.001071929931640625\n",
      "s shape torch.Size([1, 2, 224, 224])\n",
      "for loop time 0.003347635269165039\n",
      "hand mask sum: 3185.0\n",
      "Calculate single highest scoring object time: 0.029911041259765625\n",
      "Crop and resize time: 0.000978708267211914\n",
      "Posenet forward time: 0.0019176006317138672\n",
      "Posepriornet forward time: 0.0007042884826660156\n",
      "Viewpoint forward time: 0.0008943080902099609\n",
      "Get normalized 3d coordinates time: 0.0006270408630371094\n",
      "Flip left handed input time: 0.00013518333435058594\n",
      "ScaLe heatmaps time 0.00010442733764648438\n",
      "Time for processing 1 frame: 0.04614591598510742s\n"
     ]
    },
    {
     "name": "stderr",
     "output_type": "stream",
     "text": [
      "\r",
      "830it [02:56,  4.29it/s]"
     ]
    },
    {
     "name": "stdout",
     "output_type": "stream",
     "text": [
      "tensor([[1.0000]], device='cuda:0', grad_fn=<SigmoidBackward>)\n",
      "Handnet forward time: 0.009122848510742188\n",
      "Handsegnet forward time: 0.001322031021118164\n",
      "s shape torch.Size([1, 2, 224, 224])\n",
      "for loop time 0.0037374496459960938\n",
      "hand mask sum: 3171.0\n",
      "Calculate single highest scoring object time: 0.03003859519958496\n",
      "Crop and resize time: 0.0009264945983886719\n",
      "Posenet forward time: 0.0019683837890625\n",
      "Posepriornet forward time: 0.0007293224334716797\n",
      "Viewpoint forward time: 0.0009467601776123047\n",
      "Get normalized 3d coordinates time: 0.0006022453308105469\n",
      "Flip left handed input time: 0.00013780593872070312\n",
      "ScaLe heatmaps time 0.00010824203491210938\n",
      "Time for processing 1 frame: 0.04658627510070801s\n"
     ]
    },
    {
     "name": "stderr",
     "output_type": "stream",
     "text": [
      "\r",
      "831it [02:56,  4.29it/s]"
     ]
    },
    {
     "name": "stdout",
     "output_type": "stream",
     "text": [
      "tensor([[1.0000]], device='cuda:0', grad_fn=<SigmoidBackward>)\n",
      "Handnet forward time: 0.009064912796020508\n",
      "Handsegnet forward time: 0.0010635852813720703\n",
      "s shape torch.Size([1, 2, 224, 224])\n",
      "for loop time 0.003834247589111328\n",
      "hand mask sum: 3166.0\n",
      "Calculate single highest scoring object time: 0.03030109405517578\n",
      "Crop and resize time: 0.0009953975677490234\n",
      "Posenet forward time: 0.0019941329956054688\n",
      "Posepriornet forward time: 0.0007407665252685547\n",
      "Viewpoint forward time: 0.0009205341339111328\n",
      "Get normalized 3d coordinates time: 0.0006098747253417969\n",
      "Flip left handed input time: 0.00013709068298339844\n",
      "ScaLe heatmaps time 0.00011110305786132812\n",
      "Time for processing 1 frame: 0.04650688171386719s\n"
     ]
    },
    {
     "name": "stderr",
     "output_type": "stream",
     "text": [
      "\r",
      "832it [02:57,  4.30it/s]"
     ]
    },
    {
     "name": "stdout",
     "output_type": "stream",
     "text": [
      "tensor([[1.0000]], device='cuda:0', grad_fn=<SigmoidBackward>)\n",
      "Handnet forward time: 0.009323835372924805\n",
      "Handsegnet forward time: 0.0012097358703613281\n",
      "s shape torch.Size([1, 2, 224, 224])\n",
      "for loop time 0.0030536651611328125\n",
      "hand mask sum: 3159.0\n",
      "Calculate single highest scoring object time: 0.0304262638092041\n",
      "Crop and resize time: 0.0009183883666992188\n",
      "Posenet forward time: 0.001905202865600586\n",
      "Posepriornet forward time: 0.0007538795471191406\n",
      "Viewpoint forward time: 0.0009016990661621094\n",
      "Get normalized 3d coordinates time: 0.0005822181701660156\n",
      "Flip left handed input time: 0.00013184547424316406\n",
      "ScaLe heatmaps time 0.00010776519775390625\n",
      "Time for processing 1 frame: 0.04673457145690918s\n"
     ]
    },
    {
     "name": "stderr",
     "output_type": "stream",
     "text": [
      "\r",
      "833it [02:57,  4.30it/s]"
     ]
    },
    {
     "name": "stdout",
     "output_type": "stream",
     "text": [
      "tensor([[1.0000]], device='cuda:0', grad_fn=<SigmoidBackward>)\n",
      "Handnet forward time: 0.008344888687133789\n",
      "Handsegnet forward time: 0.0010106563568115234\n",
      "s shape torch.Size([1, 2, 224, 224])\n",
      "for loop time 0.0034630298614501953\n",
      "hand mask sum: 3139.0\n",
      "Calculate single highest scoring object time: 0.03076314926147461\n",
      "Crop and resize time: 0.0009586811065673828\n",
      "Posenet forward time: 0.0019752979278564453\n",
      "Posepriornet forward time: 0.0007328987121582031\n",
      "Viewpoint forward time: 0.0009276866912841797\n",
      "Get normalized 3d coordinates time: 0.0006086826324462891\n",
      "Flip left handed input time: 0.00013899803161621094\n",
      "ScaLe heatmaps time 0.00011086463928222656\n",
      "Time for processing 1 frame: 0.046233177185058594s\n"
     ]
    },
    {
     "name": "stderr",
     "output_type": "stream",
     "text": [
      "\r",
      "834it [02:57,  4.30it/s]"
     ]
    },
    {
     "name": "stdout",
     "output_type": "stream",
     "text": [
      "tensor([[1.0000]], device='cuda:0', grad_fn=<SigmoidBackward>)\n",
      "Handnet forward time: 0.008377552032470703\n",
      "Handsegnet forward time: 0.0010204315185546875\n",
      "s shape torch.Size([1, 2, 224, 224])\n",
      "for loop time 0.003142118453979492\n",
      "hand mask sum: 3126.0\n",
      "Calculate single highest scoring object time: 0.02990889549255371\n",
      "Crop and resize time: 0.0009725093841552734\n",
      "Posenet forward time: 0.0020301342010498047\n",
      "Posepriornet forward time: 0.0007541179656982422\n",
      "Viewpoint forward time: 0.0010013580322265625\n",
      "Get normalized 3d coordinates time: 0.0006086826324462891\n",
      "Flip left handed input time: 0.0001347064971923828\n",
      "ScaLe heatmaps time 3.0517578125e-05\n",
      "Time for processing 1 frame: 0.04550981521606445s\n"
     ]
    },
    {
     "name": "stderr",
     "output_type": "stream",
     "text": [
      "\r",
      "835it [02:57,  4.30it/s]"
     ]
    },
    {
     "name": "stdout",
     "output_type": "stream",
     "text": [
      "tensor([[1.0000]], device='cuda:0', grad_fn=<SigmoidBackward>)\n",
      "Handnet forward time: 0.007683277130126953\n",
      "Handsegnet forward time: 0.0011837482452392578\n",
      "s shape torch.Size([1, 2, 224, 224])\n",
      "for loop time 0.0031173229217529297\n",
      "hand mask sum: 3135.0\n",
      "Calculate single highest scoring object time: 0.03144192695617676\n",
      "Crop and resize time: 0.0009341239929199219\n",
      "Posenet forward time: 0.0019435882568359375\n",
      "Posepriornet forward time: 0.0007545948028564453\n",
      "Viewpoint forward time: 0.0009145736694335938\n",
      "Get normalized 3d coordinates time: 0.0005934238433837891\n",
      "Flip left handed input time: 5.459785461425781e-05\n",
      "ScaLe heatmaps time 3.218650817871094e-05\n",
      "Time for processing 1 frame: 0.04616951942443848s\n"
     ]
    },
    {
     "name": "stderr",
     "output_type": "stream",
     "text": [
      "\r",
      "836it [02:58,  4.29it/s]"
     ]
    },
    {
     "name": "stdout",
     "output_type": "stream",
     "text": [
      "tensor([[1.0000]], device='cuda:0', grad_fn=<SigmoidBackward>)\n",
      "Handnet forward time: 0.00844430923461914\n",
      "Handsegnet forward time: 0.0010373592376708984\n",
      "s shape torch.Size([1, 2, 224, 224])\n",
      "for loop time 0.0031173229217529297\n",
      "hand mask sum: 3142.0\n",
      "Calculate single highest scoring object time: 0.02992415428161621\n",
      "Crop and resize time: 0.0009644031524658203\n",
      "Posenet forward time: 0.0019974708557128906\n",
      "Posepriornet forward time: 0.000728607177734375\n",
      "Viewpoint forward time: 0.0009343624114990234\n",
      "Get normalized 3d coordinates time: 0.0006191730499267578\n",
      "Flip left handed input time: 5.698204040527344e-05\n",
      "ScaLe heatmaps time 3.457069396972656e-05\n",
      "Time for processing 1 frame: 0.045403480529785156s\n"
     ]
    },
    {
     "name": "stderr",
     "output_type": "stream",
     "text": [
      "\r",
      "837it [02:58,  4.29it/s]"
     ]
    },
    {
     "name": "stdout",
     "output_type": "stream",
     "text": [
      "tensor([[1.0000]], device='cuda:0', grad_fn=<SigmoidBackward>)\n",
      "Handnet forward time: 0.008488178253173828\n",
      "Handsegnet forward time: 0.0010197162628173828\n",
      "s shape torch.Size([1, 2, 224, 224])\n",
      "for loop time 0.0032014846801757812\n",
      "hand mask sum: 3137.0\n",
      "Calculate single highest scoring object time: 0.030016422271728516\n",
      "Crop and resize time: 0.0009703636169433594\n",
      "Posenet forward time: 0.0019474029541015625\n",
      "Posepriornet forward time: 0.0007257461547851562\n",
      "Viewpoint forward time: 0.0010423660278320312\n",
      "Get normalized 3d coordinates time: 0.0005974769592285156\n",
      "Flip left handed input time: 0.0001366138458251953\n",
      "ScaLe heatmaps time 4.7206878662109375e-05\n",
      "Time for processing 1 frame: 0.04572749137878418s\n"
     ]
    },
    {
     "name": "stderr",
     "output_type": "stream",
     "text": [
      "\r",
      "838it [02:58,  4.29it/s]"
     ]
    },
    {
     "name": "stdout",
     "output_type": "stream",
     "text": [
      "tensor([[1.0000]], device='cuda:0', grad_fn=<SigmoidBackward>)\n",
      "Handnet forward time: 0.00852656364440918\n",
      "Handsegnet forward time: 0.0010638236999511719\n",
      "s shape torch.Size([1, 2, 224, 224])\n",
      "for loop time 0.0032243728637695312\n",
      "hand mask sum: 3152.0\n",
      "Calculate single highest scoring object time: 0.03003239631652832\n",
      "Crop and resize time: 0.0009522438049316406\n",
      "Posenet forward time: 0.0019898414611816406\n",
      "Posepriornet forward time: 0.0007476806640625\n",
      "Viewpoint forward time: 0.0009779930114746094\n",
      "Get normalized 3d coordinates time: 0.0006022453308105469\n",
      "Flip left handed input time: 0.00013589859008789062\n",
      "ScaLe heatmaps time 0.00010824203491210938\n",
      "Time for processing 1 frame: 0.04559445381164551s\n"
     ]
    },
    {
     "name": "stderr",
     "output_type": "stream",
     "text": [
      "\r",
      "839it [02:58,  4.29it/s]"
     ]
    },
    {
     "name": "stdout",
     "output_type": "stream",
     "text": [
      "tensor([[1.0000]], device='cuda:0', grad_fn=<SigmoidBackward>)\n",
      "Handnet forward time: 0.008562088012695312\n",
      "Handsegnet forward time: 0.0012760162353515625\n",
      "s shape torch.Size([1, 2, 224, 224])\n",
      "for loop time 0.0031278133392333984\n",
      "hand mask sum: 3195.0\n",
      "Calculate single highest scoring object time: 0.029750585556030273\n",
      "Crop and resize time: 0.0009582042694091797\n",
      "Posenet forward time: 0.0019953250885009766\n",
      "Posepriornet forward time: 0.0007615089416503906\n",
      "Viewpoint forward time: 0.0009539127349853516\n",
      "Get normalized 3d coordinates time: 0.0006117820739746094\n",
      "Flip left handed input time: 0.00014138221740722656\n",
      "ScaLe heatmaps time 0.00010991096496582031\n",
      "Time for processing 1 frame: 0.045607805252075195s\n"
     ]
    },
    {
     "name": "stderr",
     "output_type": "stream",
     "text": [
      "\r",
      "840it [02:58,  4.29it/s]"
     ]
    },
    {
     "name": "stdout",
     "output_type": "stream",
     "text": [
      "tensor([[1.0000]], device='cuda:0', grad_fn=<SigmoidBackward>)\n",
      "Handnet forward time: 0.0077168941497802734\n",
      "Handsegnet forward time: 0.0012454986572265625\n",
      "s shape torch.Size([1, 2, 224, 224])\n",
      "for loop time 0.003531932830810547\n",
      "hand mask sum: 3102.0\n",
      "Calculate single highest scoring object time: 0.03168892860412598\n",
      "Crop and resize time: 0.0009469985961914062\n",
      "Posenet forward time: 0.0019474029541015625\n",
      "Posepriornet forward time: 0.0007150173187255859\n",
      "Viewpoint forward time: 0.0009427070617675781\n",
      "Get normalized 3d coordinates time: 0.0005824565887451172\n",
      "Flip left handed input time: 0.00010824203491210938\n",
      "ScaLe heatmaps time 7.653236389160156e-05\n",
      "Time for processing 1 frame: 0.04655599594116211s\n"
     ]
    },
    {
     "name": "stderr",
     "output_type": "stream",
     "text": [
      "\r",
      "841it [02:59,  4.29it/s]"
     ]
    },
    {
     "name": "stdout",
     "output_type": "stream",
     "text": [
      "tensor([[1.0000]], device='cuda:0', grad_fn=<SigmoidBackward>)\n",
      "Handnet forward time: 0.007767200469970703\n",
      "Handsegnet forward time: 0.0010974407196044922\n",
      "s shape torch.Size([1, 2, 224, 224])\n",
      "for loop time 0.0031681060791015625\n",
      "hand mask sum: 2718.0\n",
      "Calculate single highest scoring object time: 0.02964162826538086\n",
      "Crop and resize time: 0.0009438991546630859\n",
      "Posenet forward time: 0.001983642578125\n",
      "Posepriornet forward time: 0.0007159709930419922\n",
      "Viewpoint forward time: 0.0009260177612304688\n",
      "Get normalized 3d coordinates time: 0.0006427764892578125\n",
      "Flip left handed input time: 0.00016188621520996094\n",
      "ScaLe heatmaps time 4.553794860839844e-05\n",
      "Time for processing 1 frame: 0.04471182823181152s\n"
     ]
    },
    {
     "name": "stderr",
     "output_type": "stream",
     "text": [
      "\r",
      "842it [02:59,  4.30it/s]"
     ]
    },
    {
     "name": "stdout",
     "output_type": "stream",
     "text": [
      "tensor([[1.0000]], device='cuda:0', grad_fn=<SigmoidBackward>)\n",
      "Handnet forward time: 0.007673501968383789\n",
      "Handsegnet forward time: 0.0011606216430664062\n",
      "s shape torch.Size([1, 2, 224, 224])\n",
      "for loop time 0.003122568130493164\n",
      "hand mask sum: 2769.0\n",
      "Calculate single highest scoring object time: 0.03065800666809082\n",
      "Crop and resize time: 0.0009758472442626953\n",
      "Posenet forward time: 0.0019922256469726562\n",
      "Posepriornet forward time: 0.0007343292236328125\n",
      "Viewpoint forward time: 0.0009531974792480469\n",
      "Get normalized 3d coordinates time: 0.0006060600280761719\n",
      "Flip left handed input time: 0.0001392364501953125\n",
      "ScaLe heatmaps time 0.00011110305786132812\n",
      "Time for processing 1 frame: 0.04559946060180664s\n"
     ]
    },
    {
     "name": "stderr",
     "output_type": "stream",
     "text": [
      "\r",
      "843it [02:59,  4.28it/s]"
     ]
    },
    {
     "name": "stdout",
     "output_type": "stream",
     "text": [
      "tensor([[0.9999]], device='cuda:0', grad_fn=<SigmoidBackward>)\n",
      "Handnet forward time: 0.008947372436523438\n",
      "Handsegnet forward time: 0.0012891292572021484\n",
      "s shape torch.Size([1, 2, 224, 224])\n",
      "for loop time 0.0035119056701660156\n",
      "hand mask sum: 2535.0\n",
      "Calculate single highest scoring object time: 0.03067493438720703\n",
      "Crop and resize time: 0.0009553432464599609\n",
      "Posenet forward time: 0.001995563507080078\n",
      "Posepriornet forward time: 0.0007202625274658203\n",
      "Viewpoint forward time: 0.0009281635284423828\n",
      "Get normalized 3d coordinates time: 0.0005924701690673828\n",
      "Flip left handed input time: 0.00013589859008789062\n",
      "ScaLe heatmaps time 0.0001087188720703125\n",
      "Time for processing 1 frame: 0.04702496528625488s\n"
     ]
    },
    {
     "name": "stderr",
     "output_type": "stream",
     "text": [
      "\r",
      "844it [02:59,  4.28it/s]"
     ]
    },
    {
     "name": "stdout",
     "output_type": "stream",
     "text": [
      "tensor([[0.9998]], device='cuda:0', grad_fn=<SigmoidBackward>)\n",
      "Handnet forward time: 0.008458852767944336\n",
      "Handsegnet forward time: 0.0011475086212158203\n",
      "s shape torch.Size([1, 2, 224, 224])\n",
      "for loop time 0.003531932830810547\n",
      "hand mask sum: 2488.0\n",
      "Calculate single highest scoring object time: 0.031286001205444336\n",
      "Crop and resize time: 0.0009369850158691406\n",
      "Posenet forward time: 0.0019655227661132812\n",
      "Posepriornet forward time: 0.0006990432739257812\n",
      "Viewpoint forward time: 0.0009038448333740234\n",
      "Get normalized 3d coordinates time: 0.0006358623504638672\n",
      "Flip left handed input time: 0.0001327991485595703\n",
      "ScaLe heatmaps time 0.00010132789611816406\n",
      "Time for processing 1 frame: 0.04684925079345703s\n"
     ]
    },
    {
     "name": "stderr",
     "output_type": "stream",
     "text": [
      "\r",
      "845it [03:00,  4.29it/s]"
     ]
    },
    {
     "name": "stdout",
     "output_type": "stream",
     "text": [
      "tensor([[0.9997]], device='cuda:0', grad_fn=<SigmoidBackward>)\n",
      "Handnet forward time: 0.008382797241210938\n",
      "Handsegnet forward time: 0.0011088848114013672\n",
      "s shape torch.Size([1, 2, 224, 224])\n",
      "for loop time 0.0034940242767333984\n",
      "hand mask sum: 2469.0\n",
      "Calculate single highest scoring object time: 0.03100895881652832\n",
      "Crop and resize time: 0.0009629726409912109\n",
      "Posenet forward time: 0.0019905567169189453\n",
      "Posepriornet forward time: 0.0007367134094238281\n",
      "Viewpoint forward time: 0.000942230224609375\n",
      "Get normalized 3d coordinates time: 0.0006151199340820312\n",
      "Flip left handed input time: 0.00013971328735351562\n",
      "ScaLe heatmaps time 0.00010776519775390625\n",
      "Time for processing 1 frame: 0.046619415283203125s\n"
     ]
    },
    {
     "name": "stderr",
     "output_type": "stream",
     "text": [
      "\r",
      "846it [03:00,  4.30it/s]"
     ]
    },
    {
     "name": "stdout",
     "output_type": "stream",
     "text": [
      "tensor([[0.9998]], device='cuda:0', grad_fn=<SigmoidBackward>)\n",
      "Handnet forward time: 0.007724761962890625\n",
      "Handsegnet forward time: 0.0011138916015625\n",
      "s shape torch.Size([1, 2, 224, 224])\n",
      "for loop time 0.003152608871459961\n",
      "hand mask sum: 2458.0\n",
      "Calculate single highest scoring object time: 0.031200170516967773\n",
      "Crop and resize time: 0.0009789466857910156\n",
      "Posenet forward time: 0.0020024776458740234\n",
      "Posepriornet forward time: 0.0007405281066894531\n",
      "Viewpoint forward time: 0.0009434223175048828\n",
      "Get normalized 3d coordinates time: 0.0006337165832519531\n",
      "Flip left handed input time: 0.0001556873321533203\n",
      "ScaLe heatmaps time 0.00011372566223144531\n",
      "Time for processing 1 frame: 0.04618549346923828s\n"
     ]
    },
    {
     "name": "stderr",
     "output_type": "stream",
     "text": [
      "\r",
      "847it [03:00,  4.29it/s]"
     ]
    },
    {
     "name": "stdout",
     "output_type": "stream",
     "text": [
      "tensor([[0.9999]], device='cuda:0', grad_fn=<SigmoidBackward>)\n",
      "Handnet forward time: 0.0077898502349853516\n",
      "Handsegnet forward time: 0.001146078109741211\n",
      "s shape torch.Size([1, 2, 224, 224])\n",
      "for loop time 0.0031690597534179688\n",
      "hand mask sum: 2397.0\n",
      "Calculate single highest scoring object time: 0.030481815338134766\n",
      "Crop and resize time: 0.0009732246398925781\n",
      "Posenet forward time: 0.0019648075103759766\n",
      "Posepriornet forward time: 0.0007016658782958984\n",
      "Viewpoint forward time: 0.0009038448333740234\n",
      "Get normalized 3d coordinates time: 0.0006315708160400391\n",
      "Flip left handed input time: 0.0001285076141357422\n",
      "ScaLe heatmaps time 0.00010704994201660156\n",
      "Time for processing 1 frame: 0.045418500900268555s\n"
     ]
    },
    {
     "name": "stderr",
     "output_type": "stream",
     "text": [
      "\r",
      "848it [03:00,  4.27it/s]"
     ]
    },
    {
     "name": "stdout",
     "output_type": "stream",
     "text": [
      "tensor([[0.9993]], device='cuda:0', grad_fn=<SigmoidBackward>)\n",
      "Handnet forward time: 0.008679866790771484\n",
      "Handsegnet forward time: 0.003167867660522461\n",
      "s shape torch.Size([1, 2, 224, 224])\n",
      "for loop time 0.0033550262451171875\n",
      "hand mask sum: 2366.0\n",
      "Calculate single highest scoring object time: 0.02876901626586914\n",
      "Crop and resize time: 0.0010378360748291016\n",
      "Posenet forward time: 0.002082347869873047\n",
      "Posepriornet forward time: 0.0007328987121582031\n",
      "Viewpoint forward time: 0.0009336471557617188\n",
      "Get normalized 3d coordinates time: 0.0005881786346435547\n",
      "Flip left handed input time: 0.00013971328735351562\n",
      "ScaLe heatmaps time 0.00011086463928222656\n",
      "Time for processing 1 frame: 0.046939849853515625s\n"
     ]
    },
    {
     "name": "stderr",
     "output_type": "stream",
     "text": [
      "\r",
      "849it [03:01,  4.29it/s]"
     ]
    },
    {
     "name": "stdout",
     "output_type": "stream",
     "text": [
      "tensor([[0.9992]], device='cuda:0', grad_fn=<SigmoidBackward>)\n",
      "Handnet forward time: 0.0077817440032958984\n",
      "Handsegnet forward time: 0.0013170242309570312\n",
      "s shape torch.Size([1, 2, 224, 224])\n",
      "for loop time 0.0035009384155273438\n",
      "hand mask sum: 2307.0\n",
      "Calculate single highest scoring object time: 0.03173971176147461\n",
      "Crop and resize time: 0.0009381771087646484\n",
      "Posenet forward time: 0.001939535140991211\n",
      "Posepriornet forward time: 0.0007145404815673828\n",
      "Viewpoint forward time: 0.0009319782257080078\n",
      "Get normalized 3d coordinates time: 0.0005946159362792969\n",
      "Flip left handed input time: 5.507469177246094e-05\n",
      "ScaLe heatmaps time 3.170967102050781e-05\n",
      "Time for processing 1 frame: 0.04649519920349121s\n"
     ]
    },
    {
     "name": "stderr",
     "output_type": "stream",
     "text": [
      "\r",
      "850it [03:01,  4.30it/s]"
     ]
    },
    {
     "name": "stdout",
     "output_type": "stream",
     "text": [
      "tensor([[0.9993]], device='cuda:0', grad_fn=<SigmoidBackward>)\n",
      "Handnet forward time: 0.007745504379272461\n",
      "Handsegnet forward time: 0.0011010169982910156\n",
      "s shape torch.Size([1, 2, 224, 224])\n",
      "for loop time 0.0031943321228027344\n",
      "hand mask sum: 2209.0\n",
      "Calculate single highest scoring object time: 0.03134465217590332\n",
      "Crop and resize time: 0.0010004043579101562\n",
      "Posenet forward time: 0.0019273757934570312\n",
      "Posepriornet forward time: 0.0007169246673583984\n",
      "Viewpoint forward time: 0.0011658668518066406\n",
      "Get normalized 3d coordinates time: 0.0006201267242431641\n",
      "Flip left handed input time: 0.0001418590545654297\n",
      "ScaLe heatmaps time 7.62939453125e-05\n",
      "Time for processing 1 frame: 0.0467381477355957s\n"
     ]
    },
    {
     "name": "stderr",
     "output_type": "stream",
     "text": [
      "\r",
      "851it [03:01,  4.29it/s]"
     ]
    },
    {
     "name": "stdout",
     "output_type": "stream",
     "text": [
      "tensor([[0.9994]], device='cuda:0', grad_fn=<SigmoidBackward>)\n",
      "Handnet forward time: 0.00777435302734375\n",
      "Handsegnet forward time: 0.0012395381927490234\n",
      "s shape torch.Size([1, 2, 224, 224])\n",
      "for loop time 0.003169536590576172\n",
      "hand mask sum: 2107.0\n",
      "Calculate single highest scoring object time: 0.030461549758911133\n",
      "Crop and resize time: 0.0009779930114746094\n",
      "Posenet forward time: 0.0020074844360351562\n",
      "Posepriornet forward time: 0.0007495880126953125\n",
      "Viewpoint forward time: 0.0009248256683349609\n",
      "Get normalized 3d coordinates time: 0.0006172657012939453\n",
      "Flip left handed input time: 5.745887756347656e-05\n",
      "ScaLe heatmaps time 3.552436828613281e-05\n",
      "Time for processing 1 frame: 0.045379638671875s\n"
     ]
    },
    {
     "name": "stderr",
     "output_type": "stream",
     "text": [
      "\r",
      "852it [03:01,  4.30it/s]"
     ]
    },
    {
     "name": "stdout",
     "output_type": "stream",
     "text": [
      "tensor([[0.9993]], device='cuda:0', grad_fn=<SigmoidBackward>)\n",
      "Handnet forward time: 0.007748126983642578\n",
      "Handsegnet forward time: 0.0010440349578857422\n",
      "s shape torch.Size([1, 2, 224, 224])\n",
      "for loop time 0.0031795501708984375\n",
      "hand mask sum: 2042.0\n",
      "Calculate single highest scoring object time: 0.032171010971069336\n",
      "Crop and resize time: 0.0009603500366210938\n",
      "Posenet forward time: 0.002074718475341797\n",
      "Posepriornet forward time: 0.0007419586181640625\n",
      "Viewpoint forward time: 0.0009455680847167969\n",
      "Get normalized 3d coordinates time: 0.0006165504455566406\n",
      "Flip left handed input time: 0.0001380443572998047\n",
      "ScaLe heatmaps time 0.00011205673217773438\n",
      "Time for processing 1 frame: 0.0471951961517334s\n"
     ]
    },
    {
     "name": "stderr",
     "output_type": "stream",
     "text": [
      "\r",
      "853it [03:02,  4.28it/s]"
     ]
    },
    {
     "name": "stdout",
     "output_type": "stream",
     "text": [
      "tensor([[0.9979]], device='cuda:0', grad_fn=<SigmoidBackward>)\n",
      "Handnet forward time: 0.007745027542114258\n",
      "Handsegnet forward time: 0.0010161399841308594\n",
      "s shape torch.Size([1, 2, 224, 224])\n",
      "for loop time 0.003286600112915039\n",
      "hand mask sum: 1965.0\n",
      "Calculate single highest scoring object time: 0.029968976974487305\n",
      "Crop and resize time: 0.0009932518005371094\n",
      "Posenet forward time: 0.001970052719116211\n",
      "Posepriornet forward time: 0.0007252693176269531\n",
      "Viewpoint forward time: 0.001016855239868164\n",
      "Get normalized 3d coordinates time: 0.0005986690521240234\n",
      "Flip left handed input time: 0.0001442432403564453\n",
      "ScaLe heatmaps time 6.29425048828125e-05\n",
      "Time for processing 1 frame: 0.045075178146362305s\n"
     ]
    },
    {
     "name": "stderr",
     "output_type": "stream",
     "text": [
      "\r",
      "854it [03:02,  4.28it/s]"
     ]
    },
    {
     "name": "stdout",
     "output_type": "stream",
     "text": [
      "tensor([[0.9967]], device='cuda:0', grad_fn=<SigmoidBackward>)\n",
      "Handnet forward time: 0.008407354354858398\n",
      "Handsegnet forward time: 0.0010762214660644531\n",
      "s shape torch.Size([1, 2, 224, 224])\n",
      "for loop time 0.0031185150146484375\n",
      "hand mask sum: 1939.0\n",
      "Calculate single highest scoring object time: 0.029693603515625\n",
      "Crop and resize time: 0.0009579658508300781\n",
      "Posenet forward time: 0.0020744800567626953\n",
      "Posepriornet forward time: 0.0007529258728027344\n",
      "Viewpoint forward time: 0.0009646415710449219\n",
      "Get normalized 3d coordinates time: 0.0006177425384521484\n",
      "Flip left handed input time: 0.00013184547424316406\n",
      "ScaLe heatmaps time 7.867813110351562e-05\n",
      "Time for processing 1 frame: 0.04543924331665039s\n"
     ]
    },
    {
     "name": "stderr",
     "output_type": "stream",
     "text": [
      "\r",
      "855it [03:02,  4.29it/s]"
     ]
    },
    {
     "name": "stdout",
     "output_type": "stream",
     "text": [
      "tensor([[0.9956]], device='cuda:0', grad_fn=<SigmoidBackward>)\n",
      "Handnet forward time: 0.007709026336669922\n",
      "Handsegnet forward time: 0.001068115234375\n",
      "s shape torch.Size([1, 2, 224, 224])\n",
      "for loop time 0.0031909942626953125\n",
      "hand mask sum: 1922.0\n",
      "Calculate single highest scoring object time: 0.03119826316833496\n",
      "Crop and resize time: 0.0009417533874511719\n",
      "Posenet forward time: 0.0020017623901367188\n",
      "Posepriornet forward time: 0.0007200241088867188\n",
      "Viewpoint forward time: 0.0012326240539550781\n",
      "Get normalized 3d coordinates time: 0.0006091594696044922\n",
      "Flip left handed input time: 0.00010156631469726562\n",
      "ScaLe heatmaps time 0.00017595291137695312\n",
      "Time for processing 1 frame: 0.046443939208984375s\n"
     ]
    },
    {
     "name": "stderr",
     "output_type": "stream",
     "text": [
      "\r",
      "856it [03:02,  4.30it/s]"
     ]
    },
    {
     "name": "stdout",
     "output_type": "stream",
     "text": [
      "tensor([[0.9963]], device='cuda:0', grad_fn=<SigmoidBackward>)\n",
      "Handnet forward time: 0.007663726806640625\n",
      "Handsegnet forward time: 0.0009784698486328125\n",
      "s shape torch.Size([1, 2, 224, 224])\n",
      "for loop time 0.0032510757446289062\n",
      "hand mask sum: 1886.0\n",
      "Calculate single highest scoring object time: 0.03117656707763672\n",
      "Crop and resize time: 0.0009286403656005859\n",
      "Posenet forward time: 0.0019702911376953125\n",
      "Posepriornet forward time: 0.0007836818695068359\n",
      "Viewpoint forward time: 0.0009112358093261719\n",
      "Get normalized 3d coordinates time: 0.0007765293121337891\n",
      "Flip left handed input time: 0.00013256072998046875\n",
      "ScaLe heatmaps time 0.00010514259338378906\n",
      "Time for processing 1 frame: 0.046059608459472656s\n"
     ]
    },
    {
     "name": "stderr",
     "output_type": "stream",
     "text": [
      "\r",
      "857it [03:02,  4.26it/s]"
     ]
    },
    {
     "name": "stdout",
     "output_type": "stream",
     "text": [
      "tensor([[0.9956]], device='cuda:0', grad_fn=<SigmoidBackward>)\n",
      "Handnet forward time: 0.008120298385620117\n",
      "Handsegnet forward time: 0.0009496212005615234\n",
      "s shape torch.Size([1, 2, 224, 224])\n",
      "for loop time 0.0038766860961914062\n",
      "hand mask sum: 1876.0\n",
      "Calculate single highest scoring object time: 0.02987384796142578\n",
      "Crop and resize time: 0.0014393329620361328\n",
      "Posenet forward time: 0.002057790756225586\n",
      "Posepriornet forward time: 0.0007503032684326172\n",
      "Viewpoint forward time: 0.0009605884552001953\n",
      "Get normalized 3d coordinates time: 0.0006127357482910156\n",
      "Flip left handed input time: 0.00013589859008789062\n",
      "ScaLe heatmaps time 0.00010824203491210938\n",
      "Time for processing 1 frame: 0.0456235408782959s\n"
     ]
    },
    {
     "name": "stderr",
     "output_type": "stream",
     "text": [
      "\r",
      "858it [03:03,  4.28it/s]"
     ]
    },
    {
     "name": "stdout",
     "output_type": "stream",
     "text": [
      "tensor([[0.9962]], device='cuda:0', grad_fn=<SigmoidBackward>)\n",
      "Handnet forward time: 0.007774829864501953\n",
      "Handsegnet forward time: 0.001310110092163086\n",
      "s shape torch.Size([1, 2, 224, 224])\n",
      "for loop time 0.0034656524658203125\n",
      "hand mask sum: 1871.0\n",
      "Calculate single highest scoring object time: 0.031690120697021484\n",
      "Crop and resize time: 0.0009534358978271484\n",
      "Posenet forward time: 0.001964569091796875\n",
      "Posepriornet forward time: 0.0007283687591552734\n",
      "Viewpoint forward time: 0.0009372234344482422\n",
      "Get normalized 3d coordinates time: 0.0005953311920166016\n",
      "Flip left handed input time: 0.000133514404296875\n",
      "ScaLe heatmaps time 0.00010824203491210938\n",
      "Time for processing 1 frame: 0.04664778709411621s\n"
     ]
    },
    {
     "name": "stderr",
     "output_type": "stream",
     "text": [
      "\r",
      "859it [03:03,  4.28it/s]"
     ]
    },
    {
     "name": "stdout",
     "output_type": "stream",
     "text": [
      "tensor([[0.9952]], device='cuda:0', grad_fn=<SigmoidBackward>)\n",
      "Handnet forward time: 0.008163213729858398\n",
      "Handsegnet forward time: 0.001138448715209961\n",
      "s shape torch.Size([1, 2, 224, 224])\n",
      "for loop time 0.0034902095794677734\n",
      "hand mask sum: 1859.0\n",
      "Calculate single highest scoring object time: 0.030740976333618164\n",
      "Crop and resize time: 0.0009276866912841797\n",
      "Posenet forward time: 0.0019888877868652344\n",
      "Posepriornet forward time: 0.0007112026214599609\n",
      "Viewpoint forward time: 0.0009453296661376953\n",
      "Get normalized 3d coordinates time: 0.0005879402160644531\n",
      "Flip left handed input time: 0.00013947486877441406\n",
      "ScaLe heatmaps time 7.700920104980469e-05\n",
      "Time for processing 1 frame: 0.04622936248779297s\n"
     ]
    },
    {
     "name": "stderr",
     "output_type": "stream",
     "text": [
      "\r",
      "860it [03:03,  4.28it/s]"
     ]
    },
    {
     "name": "stdout",
     "output_type": "stream",
     "text": [
      "tensor([[0.9947]], device='cuda:0', grad_fn=<SigmoidBackward>)\n",
      "Handnet forward time: 0.008435249328613281\n",
      "Handsegnet forward time: 0.0010492801666259766\n",
      "s shape torch.Size([1, 2, 224, 224])\n",
      "for loop time 0.00344085693359375\n",
      "hand mask sum: 1847.0\n",
      "Calculate single highest scoring object time: 0.0312504768371582\n",
      "Crop and resize time: 0.0009608268737792969\n",
      "Posenet forward time: 0.0020067691802978516\n",
      "Posepriornet forward time: 0.0007419586181640625\n",
      "Viewpoint forward time: 0.000949859619140625\n",
      "Get normalized 3d coordinates time: 0.0006132125854492188\n",
      "Flip left handed input time: 0.0001385211944580078\n",
      "ScaLe heatmaps time 0.00011038780212402344\n",
      "Time for processing 1 frame: 0.04691290855407715s\n"
     ]
    },
    {
     "name": "stderr",
     "output_type": "stream",
     "text": [
      "\r",
      "861it [03:03,  4.26it/s]"
     ]
    },
    {
     "name": "stdout",
     "output_type": "stream",
     "text": [
      "tensor([[0.9942]], device='cuda:0', grad_fn=<SigmoidBackward>)\n",
      "Handnet forward time: 0.008813619613647461\n",
      "Handsegnet forward time: 0.0010342597961425781\n",
      "s shape torch.Size([1, 2, 224, 224])\n",
      "for loop time 0.0031151771545410156\n",
      "hand mask sum: 1843.0\n",
      "Calculate single highest scoring object time: 0.030954837799072266\n",
      "Crop and resize time: 0.0009589195251464844\n",
      "Posenet forward time: 0.0019986629486083984\n",
      "Posepriornet forward time: 0.0007426738739013672\n",
      "Viewpoint forward time: 0.0009503364562988281\n",
      "Get normalized 3d coordinates time: 0.0006101131439208984\n",
      "Flip left handed input time: 0.00013518333435058594\n",
      "ScaLe heatmaps time 0.00010895729064941406\n",
      "Time for processing 1 frame: 0.04694318771362305s\n"
     ]
    },
    {
     "name": "stderr",
     "output_type": "stream",
     "text": [
      "\r",
      "862it [03:04,  4.26it/s]"
     ]
    },
    {
     "name": "stdout",
     "output_type": "stream",
     "text": [
      "tensor([[0.9959]], device='cuda:0', grad_fn=<SigmoidBackward>)\n",
      "Handnet forward time: 0.009248495101928711\n",
      "Handsegnet forward time: 0.0015521049499511719\n",
      "s shape torch.Size([1, 2, 224, 224])\n",
      "for loop time 0.003065347671508789\n",
      "hand mask sum: 1835.0\n",
      "Calculate single highest scoring object time: 0.030515432357788086\n",
      "Crop and resize time: 0.0009505748748779297\n",
      "Posenet forward time: 0.0019078254699707031\n",
      "Posepriornet forward time: 0.00070953369140625\n",
      "Viewpoint forward time: 0.0011670589447021484\n",
      "Get normalized 3d coordinates time: 0.0005877017974853516\n",
      "Flip left handed input time: 0.00013303756713867188\n",
      "ScaLe heatmaps time 0.00010466575622558594\n",
      "Time for processing 1 frame: 0.0473630428314209s\n"
     ]
    },
    {
     "name": "stderr",
     "output_type": "stream",
     "text": [
      "\r",
      "863it [03:04,  4.26it/s]"
     ]
    },
    {
     "name": "stdout",
     "output_type": "stream",
     "text": [
      "tensor([[0.9957]], device='cuda:0', grad_fn=<SigmoidBackward>)\n",
      "Handnet forward time: 0.0077478885650634766\n",
      "Handsegnet forward time: 0.0012454986572265625\n",
      "s shape torch.Size([1, 2, 224, 224])\n",
      "for loop time 0.0031538009643554688\n",
      "hand mask sum: 1824.0\n",
      "Calculate single highest scoring object time: 0.031092166900634766\n",
      "Crop and resize time: 0.0009350776672363281\n",
      "Posenet forward time: 0.002010345458984375\n",
      "Posepriornet forward time: 0.0007369518280029297\n",
      "Viewpoint forward time: 0.0009491443634033203\n",
      "Get normalized 3d coordinates time: 0.0006120204925537109\n",
      "Flip left handed input time: 0.00014138221740722656\n",
      "ScaLe heatmaps time 3.170967102050781e-05\n",
      "Time for processing 1 frame: 0.04597067832946777s\n"
     ]
    },
    {
     "name": "stderr",
     "output_type": "stream",
     "text": [
      "\r",
      "864it [03:04,  4.27it/s]"
     ]
    },
    {
     "name": "stdout",
     "output_type": "stream",
     "text": [
      "tensor([[0.9942]], device='cuda:0', grad_fn=<SigmoidBackward>)\n",
      "Handnet forward time: 0.008368730545043945\n",
      "Handsegnet forward time: 0.0011010169982910156\n",
      "s shape torch.Size([1, 2, 224, 224])\n",
      "for loop time 0.0033159255981445312\n",
      "hand mask sum: 1812.0\n",
      "Calculate single highest scoring object time: 0.030083656311035156\n",
      "Crop and resize time: 0.0009350776672363281\n",
      "Posenet forward time: 0.0019745826721191406\n",
      "Posepriornet forward time: 0.0007212162017822266\n",
      "Viewpoint forward time: 0.0009336471557617188\n",
      "Get normalized 3d coordinates time: 0.0005984306335449219\n",
      "Flip left handed input time: 0.00012755393981933594\n",
      "ScaLe heatmaps time 0.00010895729064941406\n",
      "Time for processing 1 frame: 0.045537471771240234s\n"
     ]
    },
    {
     "name": "stderr",
     "output_type": "stream",
     "text": [
      "\r",
      "865it [03:04,  4.25it/s]"
     ]
    },
    {
     "name": "stdout",
     "output_type": "stream",
     "text": [
      "tensor([[0.9965]], device='cuda:0', grad_fn=<SigmoidBackward>)\n",
      "Handnet forward time: 0.007773160934448242\n",
      "Handsegnet forward time: 0.0012059211730957031\n",
      "s shape torch.Size([1, 2, 224, 224])\n",
      "for loop time 0.003114938735961914\n",
      "hand mask sum: 1800.0\n",
      "Calculate single highest scoring object time: 0.029908180236816406\n",
      "Crop and resize time: 0.000988006591796875\n",
      "Posenet forward time: 0.0021092891693115234\n",
      "Posepriornet forward time: 0.0007379055023193359\n",
      "Viewpoint forward time: 0.000985860824584961\n",
      "Get normalized 3d coordinates time: 0.0006067752838134766\n",
      "Flip left handed input time: 0.00013303756713867188\n",
      "ScaLe heatmaps time 0.00010228157043457031\n",
      "Time for processing 1 frame: 0.04503154754638672s\n"
     ]
    },
    {
     "name": "stderr",
     "output_type": "stream",
     "text": [
      "\r",
      "866it [03:05,  4.26it/s]"
     ]
    },
    {
     "name": "stdout",
     "output_type": "stream",
     "text": [
      "tensor([[0.9960]], device='cuda:0', grad_fn=<SigmoidBackward>)\n",
      "Handnet forward time: 0.007900476455688477\n",
      "Handsegnet forward time: 0.001116037368774414\n",
      "s shape torch.Size([1, 2, 224, 224])\n",
      "for loop time 0.0031435489654541016\n",
      "hand mask sum: 1746.0\n",
      "Calculate single highest scoring object time: 0.03061056137084961\n",
      "Crop and resize time: 0.0009315013885498047\n",
      "Posenet forward time: 0.0020797252655029297\n",
      "Posepriornet forward time: 0.0007734298706054688\n",
      "Viewpoint forward time: 0.0009288787841796875\n",
      "Get normalized 3d coordinates time: 0.0005967617034912109\n",
      "Flip left handed input time: 0.0001347064971923828\n",
      "ScaLe heatmaps time 0.0001621246337890625\n",
      "Time for processing 1 frame: 0.045706748962402344s\n"
     ]
    },
    {
     "name": "stderr",
     "output_type": "stream",
     "text": [
      "\r",
      "867it [03:05,  4.25it/s]"
     ]
    },
    {
     "name": "stdout",
     "output_type": "stream",
     "text": [
      "tensor([[0.9944]], device='cuda:0', grad_fn=<SigmoidBackward>)\n",
      "Handnet forward time: 0.0077056884765625\n",
      "Handsegnet forward time: 0.0011942386627197266\n",
      "s shape torch.Size([1, 2, 224, 224])\n",
      "for loop time 0.0032188892364501953\n",
      "hand mask sum: 1744.0\n",
      "Calculate single highest scoring object time: 0.030337095260620117\n",
      "Crop and resize time: 0.0009438991546630859\n",
      "Posenet forward time: 0.0019674301147460938\n",
      "Posepriornet forward time: 0.0007200241088867188\n",
      "Viewpoint forward time: 0.0009260177612304688\n",
      "Get normalized 3d coordinates time: 0.0005943775177001953\n",
      "Flip left handed input time: 0.0001342296600341797\n",
      "ScaLe heatmaps time 0.00010848045349121094\n",
      "Time for processing 1 frame: 0.04507780075073242s\n"
     ]
    },
    {
     "name": "stderr",
     "output_type": "stream",
     "text": [
      "\r",
      "868it [03:05,  4.27it/s]"
     ]
    },
    {
     "name": "stdout",
     "output_type": "stream",
     "text": [
      "tensor([[0.9951]], device='cuda:0', grad_fn=<SigmoidBackward>)\n",
      "Handnet forward time: 0.0076656341552734375\n",
      "Handsegnet forward time: 0.0009582042694091797\n",
      "s shape torch.Size([1, 2, 224, 224])\n",
      "for loop time 0.00322723388671875\n",
      "hand mask sum: 1745.0\n",
      "Calculate single highest scoring object time: 0.03227710723876953\n",
      "Crop and resize time: 0.0009763240814208984\n",
      "Posenet forward time: 0.0019822120666503906\n",
      "Posepriornet forward time: 0.0007026195526123047\n",
      "Viewpoint forward time: 0.0009062290191650391\n",
      "Get normalized 3d coordinates time: 0.0007348060607910156\n",
      "Flip left handed input time: 0.00013947486877441406\n",
      "ScaLe heatmaps time 6.031990051269531e-05\n",
      "Time for processing 1 frame: 0.047057390213012695s\n"
     ]
    },
    {
     "name": "stderr",
     "output_type": "stream",
     "text": [
      "\r",
      "869it [03:05,  4.28it/s]"
     ]
    },
    {
     "name": "stdout",
     "output_type": "stream",
     "text": [
      "tensor([[0.9969]], device='cuda:0', grad_fn=<SigmoidBackward>)\n",
      "Handnet forward time: 0.007731914520263672\n",
      "Handsegnet forward time: 0.001203775405883789\n",
      "s shape torch.Size([1, 2, 224, 224])\n",
      "for loop time 0.003126382827758789\n",
      "hand mask sum: 1709.0\n",
      "Calculate single highest scoring object time: 0.03077530860900879\n",
      "Crop and resize time: 0.0010006427764892578\n",
      "Posenet forward time: 0.002010822296142578\n",
      "Posepriornet forward time: 0.0007336139678955078\n",
      "Viewpoint forward time: 0.0009415149688720703\n",
      "Get normalized 3d coordinates time: 0.0006110668182373047\n",
      "Flip left handed input time: 0.00013828277587890625\n",
      "ScaLe heatmaps time 0.00010943412780761719\n",
      "Time for processing 1 frame: 0.04572892189025879s\n"
     ]
    },
    {
     "name": "stderr",
     "output_type": "stream",
     "text": [
      "\r",
      "870it [03:06,  4.27it/s]"
     ]
    },
    {
     "name": "stdout",
     "output_type": "stream",
     "text": [
      "tensor([[0.9963]], device='cuda:0', grad_fn=<SigmoidBackward>)\n",
      "Handnet forward time: 0.007675647735595703\n",
      "Handsegnet forward time: 0.001032114028930664\n",
      "s shape torch.Size([1, 2, 224, 224])\n",
      "for loop time 0.003175973892211914\n",
      "hand mask sum: 1694.0\n",
      "Calculate single highest scoring object time: 0.030489206314086914\n",
      "Crop and resize time: 0.000946044921875\n",
      "Posenet forward time: 0.002036571502685547\n",
      "Posepriornet forward time: 0.0007255077362060547\n",
      "Viewpoint forward time: 0.0009324550628662109\n",
      "Get normalized 3d coordinates time: 0.0006029605865478516\n",
      "Flip left handed input time: 0.0001342296600341797\n",
      "ScaLe heatmaps time 0.00010776519775390625\n",
      "Time for processing 1 frame: 0.04533267021179199s\n"
     ]
    },
    {
     "name": "stderr",
     "output_type": "stream",
     "text": [
      "\r",
      "871it [03:06,  4.29it/s]"
     ]
    },
    {
     "name": "stdout",
     "output_type": "stream",
     "text": [
      "tensor([[0.9938]], device='cuda:0', grad_fn=<SigmoidBackward>)\n",
      "Handnet forward time: 0.007603645324707031\n",
      "Handsegnet forward time: 0.0009589195251464844\n",
      "s shape torch.Size([1, 2, 224, 224])\n",
      "for loop time 0.0031824111938476562\n",
      "hand mask sum: 1690.0\n",
      "Calculate single highest scoring object time: 0.030982494354248047\n",
      "Crop and resize time: 0.0010313987731933594\n",
      "Posenet forward time: 0.002023458480834961\n",
      "Posepriornet forward time: 0.0007278919219970703\n",
      "Viewpoint forward time: 0.0009453296661376953\n",
      "Get normalized 3d coordinates time: 0.0006320476531982422\n",
      "Flip left handed input time: 5.7220458984375e-05\n",
      "ScaLe heatmaps time 3.2901763916015625e-05\n",
      "Time for processing 1 frame: 0.0455930233001709s\n"
     ]
    },
    {
     "name": "stderr",
     "output_type": "stream",
     "text": [
      "\r",
      "872it [03:06,  4.31it/s]"
     ]
    },
    {
     "name": "stdout",
     "output_type": "stream",
     "text": [
      "tensor([[0.9973]], device='cuda:0', grad_fn=<SigmoidBackward>)\n",
      "Handnet forward time: 0.007839202880859375\n",
      "Handsegnet forward time: 0.0010426044464111328\n",
      "s shape torch.Size([1, 2, 224, 224])\n",
      "for loop time 0.0031211376190185547\n",
      "hand mask sum: 1669.0\n",
      "Calculate single highest scoring object time: 0.03099966049194336\n",
      "Crop and resize time: 0.0009589195251464844\n",
      "Posenet forward time: 0.002004384994506836\n",
      "Posepriornet forward time: 0.0007381439208984375\n",
      "Viewpoint forward time: 0.0009753704071044922\n",
      "Get normalized 3d coordinates time: 0.0006289482116699219\n",
      "Flip left handed input time: 5.698204040527344e-05\n",
      "ScaLe heatmaps time 3.2901763916015625e-05\n",
      "Time for processing 1 frame: 0.0458371639251709s\n"
     ]
    },
    {
     "name": "stderr",
     "output_type": "stream",
     "text": [
      "\r",
      "873it [03:06,  4.29it/s]"
     ]
    },
    {
     "name": "stdout",
     "output_type": "stream",
     "text": [
      "tensor([[0.9961]], device='cuda:0', grad_fn=<SigmoidBackward>)\n",
      "Handnet forward time: 0.007745265960693359\n",
      "Handsegnet forward time: 0.0010142326354980469\n",
      "s shape torch.Size([1, 2, 224, 224])\n",
      "for loop time 0.0032067298889160156\n",
      "hand mask sum: 1701.0\n",
      "Calculate single highest scoring object time: 0.03112006187438965\n",
      "Crop and resize time: 0.0009453296661376953\n",
      "Posenet forward time: 0.00206756591796875\n",
      "Posepriornet forward time: 0.000720977783203125\n",
      "Viewpoint forward time: 0.0009291172027587891\n",
      "Get normalized 3d coordinates time: 0.000591278076171875\n",
      "Flip left handed input time: 0.00013327598571777344\n",
      "ScaLe heatmaps time 0.0001068115234375\n",
      "Time for processing 1 frame: 0.04599308967590332s\n"
     ]
    },
    {
     "name": "stderr",
     "output_type": "stream",
     "text": [
      "\r",
      "874it [03:06,  4.29it/s]"
     ]
    },
    {
     "name": "stdout",
     "output_type": "stream",
     "text": [
      "tensor([[0.9958]], device='cuda:0', grad_fn=<SigmoidBackward>)\n",
      "Handnet forward time: 0.007830142974853516\n",
      "Handsegnet forward time: 0.0011653900146484375\n",
      "s shape torch.Size([1, 2, 224, 224])\n",
      "for loop time 0.0031213760375976562\n",
      "hand mask sum: 1693.0\n",
      "Calculate single highest scoring object time: 0.03031611442565918\n",
      "Crop and resize time: 0.000989675521850586\n",
      "Posenet forward time: 0.002046823501586914\n",
      "Posepriornet forward time: 0.0007138252258300781\n",
      "Viewpoint forward time: 0.0009603500366210938\n",
      "Get normalized 3d coordinates time: 0.0005850791931152344\n",
      "Flip left handed input time: 0.0001895427703857422\n",
      "ScaLe heatmaps time 4.553794860839844e-05\n",
      "Time for processing 1 frame: 0.0454254150390625s\n"
     ]
    },
    {
     "name": "stderr",
     "output_type": "stream",
     "text": [
      "\r",
      "875it [03:07,  4.30it/s]"
     ]
    },
    {
     "name": "stdout",
     "output_type": "stream",
     "text": [
      "tensor([[0.9920]], device='cuda:0', grad_fn=<SigmoidBackward>)\n",
      "Handnet forward time: 0.0078046321868896484\n",
      "Handsegnet forward time: 0.001110076904296875\n",
      "s shape torch.Size([1, 2, 224, 224])\n",
      "for loop time 0.003131389617919922\n",
      "hand mask sum: 1697.0\n",
      "Calculate single highest scoring object time: 0.031064987182617188\n",
      "Crop and resize time: 0.0009560585021972656\n",
      "Posenet forward time: 0.001987934112548828\n",
      "Posepriornet forward time: 0.0007312297821044922\n",
      "Viewpoint forward time: 0.0009515285491943359\n",
      "Get normalized 3d coordinates time: 0.0006067752838134766\n",
      "Flip left handed input time: 0.00013256072998046875\n",
      "ScaLe heatmaps time 0.00010323524475097656\n",
      "Time for processing 1 frame: 0.04610419273376465s\n"
     ]
    },
    {
     "name": "stderr",
     "output_type": "stream",
     "text": [
      "\r",
      "876it [03:07,  4.28it/s]"
     ]
    },
    {
     "name": "stdout",
     "output_type": "stream",
     "text": [
      "tensor([[0.9842]], device='cuda:0', grad_fn=<SigmoidBackward>)\n",
      "Handnet forward time: 0.007700443267822266\n",
      "Handsegnet forward time: 0.0010619163513183594\n",
      "s shape torch.Size([1, 2, 224, 224])\n",
      "for loop time 0.003141641616821289\n",
      "hand mask sum: 1756.0\n",
      "Calculate single highest scoring object time: 0.030807018280029297\n",
      "Crop and resize time: 0.0011112689971923828\n",
      "Posenet forward time: 0.001981973648071289\n",
      "Posepriornet forward time: 0.0007257461547851562\n",
      "Viewpoint forward time: 0.0009696483612060547\n",
      "Get normalized 3d coordinates time: 0.0006000995635986328\n",
      "Flip left handed input time: 0.00013375282287597656\n",
      "ScaLe heatmaps time 0.000102996826171875\n",
      "Time for processing 1 frame: 0.045821428298950195s\n"
     ]
    },
    {
     "name": "stderr",
     "output_type": "stream",
     "text": [
      "\r",
      "877it [03:07,  4.28it/s]"
     ]
    },
    {
     "name": "stdout",
     "output_type": "stream",
     "text": [
      "tensor([[0.9849]], device='cuda:0', grad_fn=<SigmoidBackward>)\n",
      "Handnet forward time: 0.007775068283081055\n",
      "Handsegnet forward time: 0.0010268688201904297\n",
      "s shape torch.Size([1, 2, 224, 224])\n",
      "for loop time 0.0030689239501953125\n",
      "hand mask sum: 1828.0\n",
      "Calculate single highest scoring object time: 0.02988910675048828\n",
      "Crop and resize time: 0.0009529590606689453\n",
      "Posenet forward time: 0.0020678043365478516\n",
      "Posepriornet forward time: 0.0007109642028808594\n",
      "Viewpoint forward time: 0.0009472370147705078\n",
      "Get normalized 3d coordinates time: 0.0005860328674316406\n",
      "Flip left handed input time: 5.507469177246094e-05\n",
      "ScaLe heatmaps time 3.170967102050781e-05\n",
      "Time for processing 1 frame: 0.0446929931640625s\n"
     ]
    },
    {
     "name": "stderr",
     "output_type": "stream",
     "text": [
      "\r",
      "878it [03:07,  4.29it/s]"
     ]
    },
    {
     "name": "stdout",
     "output_type": "stream",
     "text": [
      "tensor([[0.9903]], device='cuda:0', grad_fn=<SigmoidBackward>)\n",
      "Handnet forward time: 0.007738351821899414\n",
      "Handsegnet forward time: 0.0011222362518310547\n",
      "s shape torch.Size([1, 2, 224, 224])\n",
      "for loop time 0.003149271011352539\n",
      "hand mask sum: 1881.0\n",
      "Calculate single highest scoring object time: 0.030453920364379883\n",
      "Crop and resize time: 0.0009682178497314453\n",
      "Posenet forward time: 0.0020194053649902344\n",
      "Posepriornet forward time: 0.0007371902465820312\n",
      "Viewpoint forward time: 0.0009613037109375\n",
      "Get normalized 3d coordinates time: 0.0006117820739746094\n",
      "Flip left handed input time: 0.0001385211944580078\n",
      "ScaLe heatmaps time 0.00010919570922851562\n",
      "Time for processing 1 frame: 0.04549598693847656s\n"
     ]
    },
    {
     "name": "stderr",
     "output_type": "stream",
     "text": [
      "\r",
      "879it [03:08,  4.31it/s]"
     ]
    },
    {
     "name": "stdout",
     "output_type": "stream",
     "text": [
      "tensor([[0.9920]], device='cuda:0', grad_fn=<SigmoidBackward>)\n",
      "Handnet forward time: 0.008558273315429688\n",
      "Handsegnet forward time: 0.0010654926300048828\n",
      "s shape torch.Size([1, 2, 224, 224])\n",
      "for loop time 0.0032143592834472656\n",
      "hand mask sum: 1930.0\n",
      "Calculate single highest scoring object time: 0.030123472213745117\n",
      "Crop and resize time: 0.0009393692016601562\n",
      "Posenet forward time: 0.001998424530029297\n",
      "Posepriornet forward time: 0.0007255077362060547\n",
      "Viewpoint forward time: 0.0009336471557617188\n",
      "Get normalized 3d coordinates time: 0.0006017684936523438\n",
      "Flip left handed input time: 5.602836608886719e-05\n",
      "ScaLe heatmaps time 3.314018249511719e-05\n",
      "Time for processing 1 frame: 0.04565167427062988s\n"
     ]
    },
    {
     "name": "stderr",
     "output_type": "stream",
     "text": [
      "\r",
      "880it [03:08,  4.26it/s]"
     ]
    },
    {
     "name": "stdout",
     "output_type": "stream",
     "text": [
      "tensor([[0.9952]], device='cuda:0', grad_fn=<SigmoidBackward>)\n",
      "Handnet forward time: 0.007791996002197266\n",
      "Handsegnet forward time: 0.0013010501861572266\n",
      "s shape torch.Size([1, 2, 224, 224])\n",
      "for loop time 0.0032181739807128906\n",
      "hand mask sum: 1964.0\n",
      "Calculate single highest scoring object time: 0.03083181381225586\n",
      "Crop and resize time: 0.0009706020355224609\n",
      "Posenet forward time: 0.0020949840545654297\n",
      "Posepriornet forward time: 0.0007457733154296875\n",
      "Viewpoint forward time: 0.00090789794921875\n",
      "Get normalized 3d coordinates time: 0.0006392002105712891\n",
      "Flip left handed input time: 0.00013518333435058594\n",
      "ScaLe heatmaps time 0.00011134147644042969\n",
      "Time for processing 1 frame: 0.046007394790649414s\n"
     ]
    },
    {
     "name": "stderr",
     "output_type": "stream",
     "text": [
      "\r",
      "881it [03:08,  4.27it/s]"
     ]
    },
    {
     "name": "stdout",
     "output_type": "stream",
     "text": [
      "tensor([[0.9956]], device='cuda:0', grad_fn=<SigmoidBackward>)\n",
      "Handnet forward time: 0.008028268814086914\n",
      "Handsegnet forward time: 0.0011868476867675781\n",
      "s shape torch.Size([1, 2, 224, 224])\n",
      "for loop time 0.0031614303588867188\n",
      "hand mask sum: 2019.0\n",
      "Calculate single highest scoring object time: 0.030142784118652344\n",
      "Crop and resize time: 0.0009708404541015625\n",
      "Posenet forward time: 0.0020182132720947266\n",
      "Posepriornet forward time: 0.0007426738739013672\n",
      "Viewpoint forward time: 0.0009517669677734375\n",
      "Get normalized 3d coordinates time: 0.0006234645843505859\n",
      "Flip left handed input time: 0.0001392364501953125\n",
      "ScaLe heatmaps time 0.00010800361633300781\n",
      "Time for processing 1 frame: 0.04581260681152344s\n"
     ]
    },
    {
     "name": "stderr",
     "output_type": "stream",
     "text": [
      "\r",
      "882it [03:08,  4.28it/s]"
     ]
    },
    {
     "name": "stdout",
     "output_type": "stream",
     "text": [
      "tensor([[0.9954]], device='cuda:0', grad_fn=<SigmoidBackward>)\n",
      "Handnet forward time: 0.007677555084228516\n",
      "Handsegnet forward time: 0.0011663436889648438\n",
      "s shape torch.Size([1, 2, 224, 224])\n",
      "for loop time 0.0030982494354248047\n",
      "hand mask sum: 2049.0\n",
      "Calculate single highest scoring object time: 0.030887126922607422\n",
      "Crop and resize time: 0.0010721683502197266\n",
      "Posenet forward time: 0.0019347667694091797\n",
      "Posepriornet forward time: 0.0007045269012451172\n",
      "Viewpoint forward time: 0.0010297298431396484\n",
      "Get normalized 3d coordinates time: 0.0005903244018554688\n",
      "Flip left handed input time: 5.5789947509765625e-05\n",
      "ScaLe heatmaps time 3.218650817871094e-05\n",
      "Time for processing 1 frame: 0.045636892318725586s\n"
     ]
    },
    {
     "name": "stderr",
     "output_type": "stream",
     "text": [
      "\r",
      "883it [03:09,  4.21it/s]"
     ]
    },
    {
     "name": "stdout",
     "output_type": "stream",
     "text": [
      "tensor([[0.9970]], device='cuda:0', grad_fn=<SigmoidBackward>)\n",
      "Handnet forward time: 0.0076334476470947266\n",
      "Handsegnet forward time: 0.0009794235229492188\n",
      "s shape torch.Size([1, 2, 224, 224])\n",
      "for loop time 0.0031442642211914062\n",
      "hand mask sum: 2031.0\n",
      "Calculate single highest scoring object time: 0.02977919578552246\n",
      "Crop and resize time: 0.0009264945983886719\n",
      "Posenet forward time: 0.0020227432250976562\n",
      "Posepriornet forward time: 0.0007431507110595703\n",
      "Viewpoint forward time: 0.0009548664093017578\n",
      "Get normalized 3d coordinates time: 0.0006203651428222656\n",
      "Flip left handed input time: 0.0001392364501953125\n",
      "ScaLe heatmaps time 0.00011038780212402344\n",
      "Time for processing 1 frame: 0.04451107978820801s\n"
     ]
    },
    {
     "name": "stderr",
     "output_type": "stream",
     "text": [
      "\r",
      "884it [03:09,  4.25it/s]"
     ]
    },
    {
     "name": "stdout",
     "output_type": "stream",
     "text": [
      "tensor([[0.9975]], device='cuda:0', grad_fn=<SigmoidBackward>)\n",
      "Handnet forward time: 0.008531808853149414\n",
      "Handsegnet forward time: 0.001312255859375\n",
      "s shape torch.Size([1, 2, 224, 224])\n",
      "for loop time 0.0034050941467285156\n",
      "hand mask sum: 2023.0\n",
      "Calculate single highest scoring object time: 0.029896974563598633\n",
      "Crop and resize time: 0.0009577274322509766\n",
      "Posenet forward time: 0.0020074844360351562\n",
      "Posepriornet forward time: 0.000736236572265625\n",
      "Viewpoint forward time: 0.0009443759918212891\n",
      "Get normalized 3d coordinates time: 0.0006077289581298828\n",
      "Flip left handed input time: 0.00013875961303710938\n",
      "ScaLe heatmaps time 0.00010657310485839844\n",
      "Time for processing 1 frame: 0.04588770866394043s\n"
     ]
    },
    {
     "name": "stderr",
     "output_type": "stream",
     "text": [
      "\r",
      "885it [03:09,  4.27it/s]"
     ]
    },
    {
     "name": "stdout",
     "output_type": "stream",
     "text": [
      "tensor([[0.9982]], device='cuda:0', grad_fn=<SigmoidBackward>)\n",
      "Handnet forward time: 0.00912022590637207\n",
      "Handsegnet forward time: 0.0012929439544677734\n",
      "s shape torch.Size([1, 2, 224, 224])\n",
      "for loop time 0.00311279296875\n",
      "hand mask sum: 2009.0\n",
      "Calculate single highest scoring object time: 0.030935049057006836\n",
      "Crop and resize time: 0.0009291172027587891\n",
      "Posenet forward time: 0.001959085464477539\n",
      "Posepriornet forward time: 0.0007243156433105469\n",
      "Viewpoint forward time: 0.0009365081787109375\n",
      "Get normalized 3d coordinates time: 0.0006022453308105469\n",
      "Flip left handed input time: 0.0001361370086669922\n",
      "ScaLe heatmaps time 0.00010848045349121094\n",
      "Time for processing 1 frame: 0.047420501708984375s\n"
     ]
    },
    {
     "name": "stderr",
     "output_type": "stream",
     "text": [
      "\r",
      "886it [03:09,  4.24it/s]"
     ]
    },
    {
     "name": "stdout",
     "output_type": "stream",
     "text": [
      "tensor([[0.9979]], device='cuda:0', grad_fn=<SigmoidBackward>)\n",
      "Handnet forward time: 0.007776975631713867\n",
      "Handsegnet forward time: 0.0012946128845214844\n",
      "s shape torch.Size([1, 2, 224, 224])\n",
      "for loop time 0.0030829906463623047\n",
      "hand mask sum: 1985.0\n",
      "Calculate single highest scoring object time: 0.030507326126098633\n",
      "Crop and resize time: 0.0010063648223876953\n",
      "Posenet forward time: 0.001995563507080078\n",
      "Posepriornet forward time: 0.0008037090301513672\n",
      "Viewpoint forward time: 0.0009829998016357422\n",
      "Get normalized 3d coordinates time: 0.0006322860717773438\n",
      "Flip left handed input time: 0.00015282630920410156\n",
      "ScaLe heatmaps time 0.00011515617370605469\n",
      "Time for processing 1 frame: 0.04577016830444336s\n"
     ]
    },
    {
     "name": "stderr",
     "output_type": "stream",
     "text": [
      "\r",
      "887it [03:09,  4.22it/s]"
     ]
    },
    {
     "name": "stdout",
     "output_type": "stream",
     "text": [
      "tensor([[0.9975]], device='cuda:0', grad_fn=<SigmoidBackward>)\n",
      "Handnet forward time: 0.00806736946105957\n",
      "Handsegnet forward time: 0.0010590553283691406\n",
      "s shape torch.Size([1, 2, 224, 224])\n",
      "for loop time 0.003456592559814453\n",
      "hand mask sum: 1880.0\n",
      "Calculate single highest scoring object time: 0.03063511848449707\n",
      "Crop and resize time: 0.0009865760803222656\n",
      "Posenet forward time: 0.0019791126251220703\n",
      "Posepriornet forward time: 0.0007295608520507812\n",
      "Viewpoint forward time: 0.0009570121765136719\n",
      "Get normalized 3d coordinates time: 0.0006034374237060547\n",
      "Flip left handed input time: 0.0001373291015625\n",
      "ScaLe heatmaps time 0.00010919570922851562\n",
      "Time for processing 1 frame: 0.04589724540710449s\n"
     ]
    },
    {
     "name": "stderr",
     "output_type": "stream",
     "text": [
      "\r",
      "888it [03:10,  4.26it/s]"
     ]
    },
    {
     "name": "stdout",
     "output_type": "stream",
     "text": [
      "tensor([[0.9977]], device='cuda:0', grad_fn=<SigmoidBackward>)\n",
      "Handnet forward time: 0.007668972015380859\n",
      "Handsegnet forward time: 0.0011074542999267578\n",
      "s shape torch.Size([1, 2, 224, 224])\n",
      "for loop time 0.0030837059020996094\n",
      "hand mask sum: 1927.0\n",
      "Calculate single highest scoring object time: 0.029940128326416016\n",
      "Crop and resize time: 0.0010378360748291016\n",
      "Posenet forward time: 0.001959562301635742\n",
      "Posepriornet forward time: 0.0007622241973876953\n",
      "Viewpoint forward time: 0.0009241104125976562\n",
      "Get normalized 3d coordinates time: 0.0005860328674316406\n",
      "Flip left handed input time: 5.53131103515625e-05\n",
      "ScaLe heatmaps time 3.24249267578125e-05\n",
      "Time for processing 1 frame: 0.04471111297607422s\n"
     ]
    },
    {
     "name": "stderr",
     "output_type": "stream",
     "text": [
      "\r",
      "889it [03:10,  4.23it/s]"
     ]
    },
    {
     "name": "stdout",
     "output_type": "stream",
     "text": [
      "tensor([[0.9980]], device='cuda:0', grad_fn=<SigmoidBackward>)\n",
      "Handnet forward time: 0.008157491683959961\n",
      "Handsegnet forward time: 0.0009665489196777344\n",
      "s shape torch.Size([1, 2, 224, 224])\n",
      "for loop time 0.004294157028198242\n",
      "hand mask sum: 1859.0\n",
      "Calculate single highest scoring object time: 0.029987096786499023\n",
      "Crop and resize time: 0.0009763240814208984\n",
      "Posenet forward time: 0.0020148754119873047\n",
      "Posepriornet forward time: 0.0007524490356445312\n",
      "Viewpoint forward time: 0.0009527206420898438\n",
      "Get normalized 3d coordinates time: 0.0006091594696044922\n",
      "Flip left handed input time: 0.00013875961303710938\n",
      "ScaLe heatmaps time 0.00010752677917480469\n",
      "Time for processing 1 frame: 0.04526495933532715s\n"
     ]
    },
    {
     "name": "stderr",
     "output_type": "stream",
     "text": [
      "\r",
      "890it [03:10,  4.26it/s]"
     ]
    },
    {
     "name": "stdout",
     "output_type": "stream",
     "text": [
      "tensor([[0.9967]], device='cuda:0', grad_fn=<SigmoidBackward>)\n",
      "Handnet forward time: 0.008330821990966797\n",
      "Handsegnet forward time: 0.0010609626770019531\n",
      "s shape torch.Size([1, 2, 224, 224])\n",
      "for loop time 0.0035400390625\n",
      "hand mask sum: 1959.0\n",
      "Calculate single highest scoring object time: 0.030879497528076172\n",
      "Crop and resize time: 0.0009474754333496094\n",
      "Posenet forward time: 0.0019707679748535156\n",
      "Posepriornet forward time: 0.0007669925689697266\n",
      "Viewpoint forward time: 0.0009202957153320312\n",
      "Get normalized 3d coordinates time: 0.0005986690521240234\n",
      "Flip left handed input time: 0.00013494491577148438\n",
      "ScaLe heatmaps time 0.00010728836059570312\n",
      "Time for processing 1 frame: 0.046375274658203125s\n"
     ]
    },
    {
     "name": "stderr",
     "output_type": "stream",
     "text": [
      "\r",
      "891it [03:10,  4.27it/s]"
     ]
    },
    {
     "name": "stdout",
     "output_type": "stream",
     "text": [
      "tensor([[0.9977]], device='cuda:0', grad_fn=<SigmoidBackward>)\n",
      "Handnet forward time: 0.008479595184326172\n",
      "Handsegnet forward time: 0.0010154247283935547\n",
      "s shape torch.Size([1, 2, 224, 224])\n",
      "for loop time 0.0035254955291748047\n",
      "hand mask sum: 1968.0\n",
      "Calculate single highest scoring object time: 0.031182050704956055\n",
      "Crop and resize time: 0.0009415149688720703\n",
      "Posenet forward time: 0.0019800662994384766\n",
      "Posepriornet forward time: 0.0007190704345703125\n",
      "Viewpoint forward time: 0.0009057521820068359\n",
      "Get normalized 3d coordinates time: 0.0005905628204345703\n",
      "Flip left handed input time: 5.555152893066406e-05\n",
      "ScaLe heatmaps time 3.1948089599609375e-05\n",
      "Time for processing 1 frame: 0.04658794403076172s\n"
     ]
    },
    {
     "name": "stderr",
     "output_type": "stream",
     "text": [
      "\r",
      "892it [03:11,  4.29it/s]"
     ]
    },
    {
     "name": "stdout",
     "output_type": "stream",
     "text": [
      "tensor([[0.9981]], device='cuda:0', grad_fn=<SigmoidBackward>)\n",
      "Handnet forward time: 0.007779598236083984\n",
      "Handsegnet forward time: 0.0013458728790283203\n",
      "s shape torch.Size([1, 2, 224, 224])\n",
      "for loop time 0.0031936168670654297\n",
      "hand mask sum: 1931.0\n",
      "Calculate single highest scoring object time: 0.032208919525146484\n",
      "Crop and resize time: 0.0009684562683105469\n",
      "Posenet forward time: 0.002026796340942383\n",
      "Posepriornet forward time: 0.0007472038269042969\n",
      "Viewpoint forward time: 0.0009560585021972656\n",
      "Get normalized 3d coordinates time: 0.0006132125854492188\n",
      "Flip left handed input time: 0.00014019012451171875\n",
      "ScaLe heatmaps time 0.00011086463928222656\n",
      "Time for processing 1 frame: 0.04736590385437012s\n"
     ]
    },
    {
     "name": "stderr",
     "output_type": "stream",
     "text": [
      "\r",
      "893it [03:11,  4.20it/s]"
     ]
    },
    {
     "name": "stdout",
     "output_type": "stream",
     "text": [
      "tensor([[0.9971]], device='cuda:0', grad_fn=<SigmoidBackward>)\n",
      "Handnet forward time: 0.0076410770416259766\n",
      "Handsegnet forward time: 0.0010020732879638672\n",
      "s shape torch.Size([1, 2, 224, 224])\n",
      "for loop time 0.003139495849609375\n",
      "hand mask sum: 1965.0\n",
      "Calculate single highest scoring object time: 0.030268192291259766\n",
      "Crop and resize time: 0.0009539127349853516\n",
      "Posenet forward time: 0.0019807815551757812\n",
      "Posepriornet forward time: 0.0007255077362060547\n",
      "Viewpoint forward time: 0.0009295940399169922\n",
      "Get normalized 3d coordinates time: 0.0006101131439208984\n",
      "Flip left handed input time: 0.00013637542724609375\n",
      "ScaLe heatmaps time 0.00011086463928222656\n",
      "Time for processing 1 frame: 0.0450131893157959s\n"
     ]
    },
    {
     "name": "stderr",
     "output_type": "stream",
     "text": [
      "\r",
      "894it [03:11,  4.24it/s]"
     ]
    },
    {
     "name": "stdout",
     "output_type": "stream",
     "text": [
      "tensor([[0.9965]], device='cuda:0', grad_fn=<SigmoidBackward>)\n",
      "Handnet forward time: 0.007732868194580078\n",
      "Handsegnet forward time: 0.001070261001586914\n",
      "s shape torch.Size([1, 2, 224, 224])\n",
      "for loop time 0.003143787384033203\n",
      "hand mask sum: 2021.0\n",
      "Calculate single highest scoring object time: 0.03076481819152832\n",
      "Crop and resize time: 0.0010082721710205078\n",
      "Posenet forward time: 0.0019311904907226562\n",
      "Posepriornet forward time: 0.0007505416870117188\n",
      "Viewpoint forward time: 0.0009772777557373047\n",
      "Get normalized 3d coordinates time: 0.0005877017974853516\n",
      "Flip left handed input time: 0.00016236305236816406\n",
      "ScaLe heatmaps time 4.38690185546875e-05\n",
      "Time for processing 1 frame: 0.04567360877990723s\n"
     ]
    },
    {
     "name": "stderr",
     "output_type": "stream",
     "text": [
      "\r",
      "895it [03:11,  4.26it/s]"
     ]
    },
    {
     "name": "stdout",
     "output_type": "stream",
     "text": [
      "tensor([[0.9980]], device='cuda:0', grad_fn=<SigmoidBackward>)\n",
      "Handnet forward time: 0.007672786712646484\n",
      "Handsegnet forward time: 0.0011715888977050781\n",
      "s shape torch.Size([1, 2, 224, 224])\n",
      "for loop time 0.003105640411376953\n",
      "hand mask sum: 1952.0\n",
      "Calculate single highest scoring object time: 0.029679536819458008\n",
      "Crop and resize time: 0.0009634494781494141\n",
      "Posenet forward time: 0.0020155906677246094\n",
      "Posepriornet forward time: 0.0007410049438476562\n",
      "Viewpoint forward time: 0.0009627342224121094\n",
      "Get normalized 3d coordinates time: 0.0006139278411865234\n",
      "Flip left handed input time: 5.817413330078125e-05\n",
      "ScaLe heatmaps time 3.24249267578125e-05\n",
      "Time for processing 1 frame: 0.044368743896484375s\n"
     ]
    },
    {
     "name": "stderr",
     "output_type": "stream",
     "text": [
      "\r",
      "896it [03:12,  4.24it/s]"
     ]
    },
    {
     "name": "stdout",
     "output_type": "stream",
     "text": [
      "tensor([[0.9985]], device='cuda:0', grad_fn=<SigmoidBackward>)\n",
      "Handnet forward time: 0.008132457733154297\n",
      "Handsegnet forward time: 0.0011851787567138672\n",
      "s shape torch.Size([1, 2, 224, 224])\n",
      "for loop time 0.0034406185150146484\n",
      "hand mask sum: 1294.0\n",
      "Calculate single highest scoring object time: 0.030723094940185547\n",
      "Crop and resize time: 0.0009503364562988281\n",
      "Posenet forward time: 0.0019791126251220703\n",
      "Posepriornet forward time: 0.0007276535034179688\n",
      "Viewpoint forward time: 0.0009584426879882812\n",
      "Get normalized 3d coordinates time: 0.0006320476531982422\n",
      "Flip left handed input time: 0.0001361370086669922\n",
      "ScaLe heatmaps time 0.00010895729064941406\n",
      "Time for processing 1 frame: 0.046019554138183594s\n"
     ]
    },
    {
     "name": "stderr",
     "output_type": "stream",
     "text": [
      "\r",
      "897it [03:12,  4.25it/s]"
     ]
    },
    {
     "name": "stdout",
     "output_type": "stream",
     "text": [
      "tensor([[0.9991]], device='cuda:0', grad_fn=<SigmoidBackward>)\n",
      "Handnet forward time: 0.008370399475097656\n",
      "Handsegnet forward time: 0.0010328292846679688\n",
      "s shape torch.Size([1, 2, 224, 224])\n",
      "for loop time 0.0033071041107177734\n",
      "hand mask sum: 2083.0\n",
      "Calculate single highest scoring object time: 0.030800342559814453\n",
      "Crop and resize time: 0.0009350776672363281\n",
      "Posenet forward time: 0.0020401477813720703\n",
      "Posepriornet forward time: 0.0007860660552978516\n",
      "Viewpoint forward time: 0.0009448528289794922\n",
      "Get normalized 3d coordinates time: 0.0006151199340820312\n",
      "Flip left handed input time: 0.0001373291015625\n",
      "ScaLe heatmaps time 4.363059997558594e-05\n",
      "Time for processing 1 frame: 0.046591997146606445s\n"
     ]
    },
    {
     "name": "stderr",
     "output_type": "stream",
     "text": [
      "\r",
      "898it [03:12,  4.18it/s]"
     ]
    },
    {
     "name": "stdout",
     "output_type": "stream",
     "text": [
      "tensor([[0.9989]], device='cuda:0', grad_fn=<SigmoidBackward>)\n",
      "Handnet forward time: 0.007659912109375\n",
      "Handsegnet forward time: 0.0010788440704345703\n",
      "s shape torch.Size([1, 2, 224, 224])\n",
      "for loop time 0.003136873245239258\n",
      "hand mask sum: 2066.0\n",
      "Calculate single highest scoring object time: 0.03050827980041504\n",
      "Crop and resize time: 0.000978231430053711\n",
      "Posenet forward time: 0.002077341079711914\n",
      "Posepriornet forward time: 0.0007476806640625\n",
      "Viewpoint forward time: 0.0009572505950927734\n",
      "Get normalized 3d coordinates time: 0.0006198883056640625\n",
      "Flip left handed input time: 0.0001385211944580078\n",
      "ScaLe heatmaps time 0.00010919570922851562\n",
      "Time for processing 1 frame: 0.04551982879638672s\n"
     ]
    },
    {
     "name": "stderr",
     "output_type": "stream",
     "text": [
      "\r",
      "899it [03:12,  4.22it/s]"
     ]
    },
    {
     "name": "stdout",
     "output_type": "stream",
     "text": [
      "tensor([[0.9991]], device='cuda:0', grad_fn=<SigmoidBackward>)\n",
      "Handnet forward time: 0.007801532745361328\n",
      "Handsegnet forward time: 0.0011212825775146484\n",
      "s shape torch.Size([1, 2, 224, 224])\n",
      "for loop time 0.0031354427337646484\n",
      "hand mask sum: 2081.0\n",
      "Calculate single highest scoring object time: 0.030231714248657227\n",
      "Crop and resize time: 0.0009341239929199219\n",
      "Posenet forward time: 0.0019273757934570312\n",
      "Posepriornet forward time: 0.0007767677307128906\n",
      "Viewpoint forward time: 0.0009174346923828125\n",
      "Get normalized 3d coordinates time: 0.00058746337890625\n",
      "Flip left handed input time: 0.0001304149627685547\n",
      "ScaLe heatmaps time 0.00010585784912109375\n",
      "Time for processing 1 frame: 0.04499006271362305s\n"
     ]
    },
    {
     "name": "stderr",
     "output_type": "stream",
     "text": [
      "\r",
      "900it [03:13,  4.24it/s]"
     ]
    },
    {
     "name": "stdout",
     "output_type": "stream",
     "text": [
      "tensor([[0.9987]], device='cuda:0', grad_fn=<SigmoidBackward>)\n",
      "Handnet forward time: 0.007744789123535156\n",
      "Handsegnet forward time: 0.0011990070343017578\n",
      "s shape torch.Size([1, 2, 224, 224])\n",
      "for loop time 0.003148317337036133\n",
      "hand mask sum: 2116.0\n",
      "Calculate single highest scoring object time: 0.03081345558166504\n",
      "Crop and resize time: 0.0009739398956298828\n",
      "Posenet forward time: 0.0020296573638916016\n",
      "Posepriornet forward time: 0.0007388591766357422\n",
      "Viewpoint forward time: 0.0009572505950927734\n",
      "Get normalized 3d coordinates time: 0.0006105899810791016\n",
      "Flip left handed input time: 0.00013566017150878906\n",
      "ScaLe heatmaps time 9.059906005859375e-05\n",
      "Time for processing 1 frame: 0.04577374458312988s\n"
     ]
    },
    {
     "name": "stderr",
     "output_type": "stream",
     "text": [
      "\r",
      "901it [03:13,  4.26it/s]"
     ]
    },
    {
     "name": "stdout",
     "output_type": "stream",
     "text": [
      "tensor([[0.9988]], device='cuda:0', grad_fn=<SigmoidBackward>)\n",
      "Handnet forward time: 0.007697343826293945\n",
      "Handsegnet forward time: 0.0010497570037841797\n",
      "s shape torch.Size([1, 2, 224, 224])\n",
      "for loop time 0.003160238265991211\n",
      "hand mask sum: 2151.0\n",
      "Calculate single highest scoring object time: 0.030849695205688477\n",
      "Crop and resize time: 0.0010216236114501953\n",
      "Posenet forward time: 0.002021312713623047\n",
      "Posepriornet forward time: 0.0007693767547607422\n",
      "Viewpoint forward time: 0.0009682178497314453\n",
      "Get normalized 3d coordinates time: 0.0006134510040283203\n",
      "Flip left handed input time: 0.00015497207641601562\n",
      "ScaLe heatmaps time 0.00010180473327636719\n",
      "Time for processing 1 frame: 0.04589223861694336s\n"
     ]
    },
    {
     "name": "stderr",
     "output_type": "stream",
     "text": [
      "\r",
      "902it [03:13,  4.23it/s]"
     ]
    },
    {
     "name": "stdout",
     "output_type": "stream",
     "text": [
      "tensor([[0.9990]], device='cuda:0', grad_fn=<SigmoidBackward>)\n",
      "Handnet forward time: 0.008244037628173828\n",
      "Handsegnet forward time: 0.0012891292572021484\n",
      "s shape torch.Size([1, 2, 224, 224])\n",
      "for loop time 0.003544330596923828\n",
      "hand mask sum: 2113.0\n",
      "Calculate single highest scoring object time: 0.03057074546813965\n",
      "Crop and resize time: 0.0009396076202392578\n",
      "Posenet forward time: 0.0019927024841308594\n",
      "Posepriornet forward time: 0.0007081031799316406\n",
      "Viewpoint forward time: 0.0009055137634277344\n",
      "Get normalized 3d coordinates time: 0.0005841255187988281\n",
      "Flip left handed input time: 0.0001049041748046875\n",
      "ScaLe heatmaps time 3.3855438232421875e-05\n",
      "Time for processing 1 frame: 0.04583239555358887s\n"
     ]
    },
    {
     "name": "stderr",
     "output_type": "stream",
     "text": [
      "\r",
      "903it [03:13,  4.24it/s]"
     ]
    },
    {
     "name": "stdout",
     "output_type": "stream",
     "text": [
      "tensor([[0.9988]], device='cuda:0', grad_fn=<SigmoidBackward>)\n",
      "Handnet forward time: 0.009202957153320312\n",
      "Handsegnet forward time: 0.0015704631805419922\n",
      "s shape torch.Size([1, 2, 224, 224])\n",
      "for loop time 0.0038373470306396484\n",
      "hand mask sum: 2137.0\n",
      "Calculate single highest scoring object time: 0.03025221824645996\n",
      "Crop and resize time: 0.0009658336639404297\n",
      "Posenet forward time: 0.0019998550415039062\n",
      "Posepriornet forward time: 0.000736236572265625\n",
      "Viewpoint forward time: 0.0009424686431884766\n",
      "Get normalized 3d coordinates time: 0.0006203651428222656\n",
      "Flip left handed input time: 0.0001361370086669922\n",
      "ScaLe heatmaps time 3.0517578125e-05\n",
      "Time for processing 1 frame: 0.046933889389038086s\n"
     ]
    },
    {
     "name": "stderr",
     "output_type": "stream",
     "text": [
      "\r",
      "904it [03:13,  4.25it/s]"
     ]
    },
    {
     "name": "stdout",
     "output_type": "stream",
     "text": [
      "tensor([[0.9987]], device='cuda:0', grad_fn=<SigmoidBackward>)\n",
      "Handnet forward time: 0.008782148361206055\n",
      "Handsegnet forward time: 0.0010352134704589844\n",
      "s shape torch.Size([1, 2, 224, 224])\n",
      "for loop time 0.0030815601348876953\n",
      "hand mask sum: 2157.0\n",
      "Calculate single highest scoring object time: 0.03080916404724121\n",
      "Crop and resize time: 0.0009663105010986328\n",
      "Posenet forward time: 0.0019702911376953125\n",
      "Posepriornet forward time: 0.0006868839263916016\n",
      "Viewpoint forward time: 0.0010001659393310547\n",
      "Get normalized 3d coordinates time: 0.00060272216796875\n",
      "Flip left handed input time: 0.00013637542724609375\n",
      "ScaLe heatmaps time 0.00010800361633300781\n",
      "Time for processing 1 frame: 0.04677319526672363s\n"
     ]
    },
    {
     "name": "stderr",
     "output_type": "stream",
     "text": [
      "\r",
      "905it [03:14,  4.22it/s]"
     ]
    },
    {
     "name": "stdout",
     "output_type": "stream",
     "text": [
      "tensor([[0.9987]], device='cuda:0', grad_fn=<SigmoidBackward>)\n",
      "Handnet forward time: 0.007681369781494141\n",
      "Handsegnet forward time: 0.0010797977447509766\n",
      "s shape torch.Size([1, 2, 224, 224])\n",
      "for loop time 0.0031528472900390625\n",
      "hand mask sum: 2189.0\n",
      "Calculate single highest scoring object time: 0.03038763999938965\n",
      "Crop and resize time: 0.0009496212005615234\n",
      "Posenet forward time: 0.002073526382446289\n",
      "Posepriornet forward time: 0.0007238388061523438\n",
      "Viewpoint forward time: 0.0009300708770751953\n",
      "Get normalized 3d coordinates time: 0.0006477832794189453\n",
      "Flip left handed input time: 0.00013566017150878906\n",
      "ScaLe heatmaps time 9.393692016601562e-05\n",
      "Time for processing 1 frame: 0.04533648490905762s\n"
     ]
    },
    {
     "name": "stderr",
     "output_type": "stream",
     "text": [
      "\r",
      "906it [03:14,  4.25it/s]"
     ]
    },
    {
     "name": "stdout",
     "output_type": "stream",
     "text": [
      "tensor([[0.9985]], device='cuda:0', grad_fn=<SigmoidBackward>)\n",
      "Handnet forward time: 0.007598400115966797\n",
      "Handsegnet forward time: 0.0009577274322509766\n",
      "s shape torch.Size([1, 2, 224, 224])\n",
      "for loop time 0.003000497817993164\n",
      "hand mask sum: 2276.0\n",
      "Calculate single highest scoring object time: 0.03003239631652832\n",
      "Crop and resize time: 0.00096893310546875\n",
      "Posenet forward time: 0.002023935317993164\n",
      "Posepriornet forward time: 0.0007433891296386719\n",
      "Viewpoint forward time: 0.0009541511535644531\n",
      "Get normalized 3d coordinates time: 0.0006103515625\n",
      "Flip left handed input time: 0.00013780593872070312\n",
      "ScaLe heatmaps time 8.487701416015625e-05\n",
      "Time for processing 1 frame: 0.04471111297607422s\n"
     ]
    },
    {
     "name": "stderr",
     "output_type": "stream",
     "text": [
      "\r",
      "907it [03:14,  4.27it/s]"
     ]
    },
    {
     "name": "stdout",
     "output_type": "stream",
     "text": [
      "tensor([[0.9981]], device='cuda:0', grad_fn=<SigmoidBackward>)\n",
      "Handnet forward time: 0.00780797004699707\n",
      "Handsegnet forward time: 0.001058816909790039\n",
      "s shape torch.Size([1, 2, 224, 224])\n",
      "for loop time 0.003240823745727539\n",
      "hand mask sum: 2389.0\n",
      "Calculate single highest scoring object time: 0.03003859519958496\n",
      "Crop and resize time: 0.0009605884552001953\n",
      "Posenet forward time: 0.0020017623901367188\n",
      "Posepriornet forward time: 0.0007278919219970703\n",
      "Viewpoint forward time: 0.0009300708770751953\n",
      "Get normalized 3d coordinates time: 0.0005977153778076172\n",
      "Flip left handed input time: 0.00013685226440429688\n",
      "ScaLe heatmaps time 0.000102996826171875\n",
      "Time for processing 1 frame: 0.04507613182067871s\n"
     ]
    },
    {
     "name": "stderr",
     "output_type": "stream",
     "text": [
      "\r",
      "908it [03:14,  4.26it/s]"
     ]
    },
    {
     "name": "stdout",
     "output_type": "stream",
     "text": [
      "tensor([[0.9979]], device='cuda:0', grad_fn=<SigmoidBackward>)\n",
      "Handnet forward time: 0.007680177688598633\n",
      "Handsegnet forward time: 0.0010678768157958984\n",
      "s shape torch.Size([1, 2, 224, 224])\n",
      "for loop time 0.0031440258026123047\n",
      "hand mask sum: 2410.0\n",
      "Calculate single highest scoring object time: 0.03064727783203125\n",
      "Crop and resize time: 0.0009579658508300781\n",
      "Posenet forward time: 0.0020873546600341797\n",
      "Posepriornet forward time: 0.0007646083831787109\n",
      "Viewpoint forward time: 0.0009334087371826172\n",
      "Get normalized 3d coordinates time: 0.0006418228149414062\n",
      "Flip left handed input time: 0.00013685226440429688\n",
      "ScaLe heatmaps time 0.00010824203491210938\n",
      "Time for processing 1 frame: 0.04566168785095215s\n"
     ]
    },
    {
     "name": "stderr",
     "output_type": "stream",
     "text": [
      "\r",
      "909it [03:15,  4.27it/s]"
     ]
    },
    {
     "name": "stdout",
     "output_type": "stream",
     "text": [
      "tensor([[0.9980]], device='cuda:0', grad_fn=<SigmoidBackward>)\n",
      "Handnet forward time: 0.007739067077636719\n",
      "Handsegnet forward time: 0.0012934207916259766\n",
      "s shape torch.Size([1, 2, 224, 224])\n",
      "for loop time 0.003145456314086914\n",
      "hand mask sum: 2452.0\n",
      "Calculate single highest scoring object time: 0.03037238121032715\n",
      "Crop and resize time: 0.00096893310546875\n",
      "Posenet forward time: 0.002015352249145508\n",
      "Posepriornet forward time: 0.0007426738739013672\n",
      "Viewpoint forward time: 0.0009503364562988281\n",
      "Get normalized 3d coordinates time: 0.0006222724914550781\n",
      "Flip left handed input time: 5.817413330078125e-05\n",
      "ScaLe heatmaps time 3.266334533691406e-05\n",
      "Time for processing 1 frame: 0.045263051986694336s\n"
     ]
    },
    {
     "name": "stderr",
     "output_type": "stream",
     "text": [
      "\r",
      "910it [03:15,  4.26it/s]"
     ]
    },
    {
     "name": "stdout",
     "output_type": "stream",
     "text": [
      "tensor([[0.9995]], device='cuda:0', grad_fn=<SigmoidBackward>)\n",
      "Handnet forward time: 0.00772547721862793\n",
      "Handsegnet forward time: 0.0009992122650146484\n",
      "s shape torch.Size([1, 2, 224, 224])\n",
      "for loop time 0.0031812191009521484\n",
      "hand mask sum: 2422.0\n",
      "Calculate single highest scoring object time: 0.03229379653930664\n",
      "Crop and resize time: 0.0009565353393554688\n",
      "Posenet forward time: 0.0020322799682617188\n",
      "Posepriornet forward time: 0.0007307529449462891\n",
      "Viewpoint forward time: 0.0009860992431640625\n",
      "Get normalized 3d coordinates time: 0.0006043910980224609\n",
      "Flip left handed input time: 0.0001366138458251953\n",
      "ScaLe heatmaps time 0.00010848045349121094\n",
      "Time for processing 1 frame: 0.04719042778015137s\n"
     ]
    },
    {
     "name": "stderr",
     "output_type": "stream",
     "text": [
      "\r",
      "911it [03:15,  4.26it/s]"
     ]
    },
    {
     "name": "stdout",
     "output_type": "stream",
     "text": [
      "tensor([[0.9994]], device='cuda:0', grad_fn=<SigmoidBackward>)\n",
      "Handnet forward time: 0.0077054500579833984\n",
      "Handsegnet forward time: 0.0012295246124267578\n",
      "s shape torch.Size([1, 2, 224, 224])\n",
      "for loop time 0.0031766891479492188\n",
      "hand mask sum: 2511.0\n",
      "Calculate single highest scoring object time: 0.030700206756591797\n",
      "Crop and resize time: 0.0010123252868652344\n",
      "Posenet forward time: 0.0019958019256591797\n",
      "Posepriornet forward time: 0.0007047653198242188\n",
      "Viewpoint forward time: 0.0009403228759765625\n",
      "Get normalized 3d coordinates time: 0.0006449222564697266\n",
      "Flip left handed input time: 0.000133514404296875\n",
      "ScaLe heatmaps time 0.00010609626770019531\n",
      "Time for processing 1 frame: 0.045725107192993164s\n"
     ]
    },
    {
     "name": "stderr",
     "output_type": "stream",
     "text": [
      "\r",
      "912it [03:15,  4.26it/s]"
     ]
    },
    {
     "name": "stdout",
     "output_type": "stream",
     "text": [
      "tensor([[0.9993]], device='cuda:0', grad_fn=<SigmoidBackward>)\n",
      "Handnet forward time: 0.007672548294067383\n",
      "Handsegnet forward time: 0.0010292530059814453\n",
      "s shape torch.Size([1, 2, 224, 224])\n",
      "for loop time 0.003135204315185547\n",
      "hand mask sum: 2714.0\n",
      "Calculate single highest scoring object time: 0.030505657196044922\n",
      "Crop and resize time: 0.0009808540344238281\n",
      "Posenet forward time: 0.002026081085205078\n",
      "Posepriornet forward time: 0.0007526874542236328\n",
      "Viewpoint forward time: 0.0009589195251464844\n",
      "Get normalized 3d coordinates time: 0.0006148815155029297\n",
      "Flip left handed input time: 0.00013875961303710938\n",
      "ScaLe heatmaps time 0.00010943412780761719\n",
      "Time for processing 1 frame: 0.04543709754943848s\n"
     ]
    },
    {
     "name": "stderr",
     "output_type": "stream",
     "text": [
      "\r",
      "913it [03:16,  4.26it/s]"
     ]
    },
    {
     "name": "stdout",
     "output_type": "stream",
     "text": [
      "tensor([[0.9995]], device='cuda:0', grad_fn=<SigmoidBackward>)\n",
      "Handnet forward time: 0.008200645446777344\n",
      "Handsegnet forward time: 0.0010161399841308594\n",
      "s shape torch.Size([1, 2, 224, 224])\n",
      "for loop time 0.0034716129302978516\n",
      "hand mask sum: 2893.0\n",
      "Calculate single highest scoring object time: 0.030835866928100586\n",
      "Crop and resize time: 0.0009560585021972656\n",
      "Posenet forward time: 0.0019791126251220703\n",
      "Posepriornet forward time: 0.0007269382476806641\n",
      "Viewpoint forward time: 0.0009908676147460938\n",
      "Get normalized 3d coordinates time: 0.0006053447723388672\n",
      "Flip left handed input time: 0.00013566017150878906\n",
      "ScaLe heatmaps time 0.00010824203491210938\n",
      "Time for processing 1 frame: 0.04619312286376953s\n"
     ]
    },
    {
     "name": "stderr",
     "output_type": "stream",
     "text": [
      "\r",
      "914it [03:16,  4.28it/s]"
     ]
    },
    {
     "name": "stdout",
     "output_type": "stream",
     "text": [
      "tensor([[0.9993]], device='cuda:0', grad_fn=<SigmoidBackward>)\n",
      "Handnet forward time: 0.0076673030853271484\n",
      "Handsegnet forward time: 0.0011143684387207031\n",
      "s shape torch.Size([1, 2, 224, 224])\n",
      "for loop time 0.0031404495239257812\n",
      "hand mask sum: 2893.0\n",
      "Calculate single highest scoring object time: 0.03210306167602539\n",
      "Crop and resize time: 0.0009911060333251953\n",
      "Posenet forward time: 0.0019989013671875\n",
      "Posepriornet forward time: 0.0007088184356689453\n",
      "Viewpoint forward time: 0.0009744167327880859\n",
      "Get normalized 3d coordinates time: 0.0005838871002197266\n",
      "Flip left handed input time: 0.0001323223114013672\n",
      "ScaLe heatmaps time 0.00010776519775390625\n",
      "Time for processing 1 frame: 0.04684138298034668s\n"
     ]
    },
    {
     "name": "stderr",
     "output_type": "stream",
     "text": [
      "\r",
      "915it [03:16,  4.25it/s]"
     ]
    },
    {
     "name": "stdout",
     "output_type": "stream",
     "text": [
      "tensor([[0.9997]], device='cuda:0', grad_fn=<SigmoidBackward>)\n",
      "Handnet forward time: 0.008036613464355469\n",
      "Handsegnet forward time: 0.000911712646484375\n",
      "s shape torch.Size([1, 2, 224, 224])\n",
      "for loop time 0.003691434860229492\n",
      "hand mask sum: 2916.0\n",
      "Calculate single highest scoring object time: 0.029787540435791016\n",
      "Crop and resize time: 0.0013282299041748047\n",
      "Posenet forward time: 0.0020189285278320312\n",
      "Posepriornet forward time: 0.0007123947143554688\n",
      "Viewpoint forward time: 0.0009305477142333984\n",
      "Get normalized 3d coordinates time: 0.0005772113800048828\n",
      "Flip left handed input time: 0.00010800361633300781\n",
      "ScaLe heatmaps time 7.653236389160156e-05\n",
      "Time for processing 1 frame: 0.045090675354003906s\n"
     ]
    },
    {
     "name": "stderr",
     "output_type": "stream",
     "text": [
      "\r",
      "916it [03:16,  4.27it/s]"
     ]
    },
    {
     "name": "stdout",
     "output_type": "stream",
     "text": [
      "tensor([[0.9999]], device='cuda:0', grad_fn=<SigmoidBackward>)\n",
      "Handnet forward time: 0.008324623107910156\n",
      "Handsegnet forward time: 0.0010256767272949219\n",
      "s shape torch.Size([1, 2, 224, 224])\n",
      "for loop time 0.0034918785095214844\n",
      "hand mask sum: 3022.0\n",
      "Calculate single highest scoring object time: 0.03167915344238281\n",
      "Crop and resize time: 0.0009510517120361328\n",
      "Posenet forward time: 0.0020122528076171875\n",
      "Posepriornet forward time: 0.0007283687591552734\n",
      "Viewpoint forward time: 0.0009274482727050781\n",
      "Get normalized 3d coordinates time: 0.0005640983581542969\n",
      "Flip left handed input time: 0.00011301040649414062\n",
      "ScaLe heatmaps time 6.127357482910156e-05\n",
      "Time for processing 1 frame: 0.04705071449279785s\n"
     ]
    },
    {
     "name": "stderr",
     "output_type": "stream",
     "text": [
      "\r",
      "917it [03:17,  4.28it/s]"
     ]
    },
    {
     "name": "stdout",
     "output_type": "stream",
     "text": [
      "tensor([[0.9998]], device='cuda:0', grad_fn=<SigmoidBackward>)\n",
      "Handnet forward time: 0.008413314819335938\n",
      "Handsegnet forward time: 0.0012192726135253906\n",
      "s shape torch.Size([1, 2, 224, 224])\n",
      "for loop time 0.0030853748321533203\n",
      "hand mask sum: 3131.0\n",
      "Calculate single highest scoring object time: 0.029522418975830078\n",
      "Crop and resize time: 0.0009300708770751953\n",
      "Posenet forward time: 0.0019485950469970703\n",
      "Posepriornet forward time: 0.001004934310913086\n",
      "Viewpoint forward time: 0.0009658336639404297\n",
      "Get normalized 3d coordinates time: 0.0005891323089599609\n",
      "Flip left handed input time: 0.00013256072998046875\n",
      "ScaLe heatmaps time 0.00010633468627929688\n",
      "Time for processing 1 frame: 0.04533195495605469s\n"
     ]
    },
    {
     "name": "stderr",
     "output_type": "stream",
     "text": [
      "\r",
      "918it [03:17,  4.27it/s]"
     ]
    },
    {
     "name": "stdout",
     "output_type": "stream",
     "text": [
      "tensor([[1.0000]], device='cuda:0', grad_fn=<SigmoidBackward>)\n",
      "Handnet forward time: 0.008834600448608398\n",
      "Handsegnet forward time: 0.0010237693786621094\n",
      "s shape torch.Size([1, 2, 224, 224])\n",
      "for loop time 0.0031006336212158203\n",
      "hand mask sum: 3246.0\n",
      "Calculate single highest scoring object time: 0.03040599822998047\n",
      "Crop and resize time: 0.0009720325469970703\n",
      "Posenet forward time: 0.0020110607147216797\n",
      "Posepriornet forward time: 0.0007405281066894531\n",
      "Viewpoint forward time: 0.0009455680847167969\n",
      "Get normalized 3d coordinates time: 0.0006110668182373047\n",
      "Flip left handed input time: 0.0001385211944580078\n",
      "ScaLe heatmaps time 0.00011181831359863281\n",
      "Time for processing 1 frame: 0.04643082618713379s\n"
     ]
    },
    {
     "name": "stderr",
     "output_type": "stream",
     "text": [
      "\r",
      "919it [03:17,  4.28it/s]"
     ]
    },
    {
     "name": "stdout",
     "output_type": "stream",
     "text": [
      "tensor([[1.0000]], device='cuda:0', grad_fn=<SigmoidBackward>)\n",
      "Handnet forward time: 0.008821249008178711\n",
      "Handsegnet forward time: 0.0012323856353759766\n",
      "s shape torch.Size([1, 2, 224, 224])\n",
      "for loop time 0.003112316131591797\n",
      "hand mask sum: 3466.0\n",
      "Calculate single highest scoring object time: 0.02947211265563965\n",
      "Crop and resize time: 0.0016069412231445312\n",
      "Posenet forward time: 0.0020248889923095703\n",
      "Posepriornet forward time: 0.0007252693176269531\n",
      "Viewpoint forward time: 0.0009329319000244141\n",
      "Get normalized 3d coordinates time: 0.0005958080291748047\n",
      "Flip left handed input time: 0.00017547607421875\n",
      "ScaLe heatmaps time 0.00011181831359863281\n",
      "Time for processing 1 frame: 0.04615640640258789s\n"
     ]
    },
    {
     "name": "stderr",
     "output_type": "stream",
     "text": [
      "\r",
      "920it [03:17,  4.24it/s]"
     ]
    },
    {
     "name": "stdout",
     "output_type": "stream",
     "text": [
      "tensor([[1.0000]], device='cuda:0', grad_fn=<SigmoidBackward>)\n",
      "Handnet forward time: 0.007772922515869141\n",
      "Handsegnet forward time: 0.0014183521270751953\n",
      "s shape torch.Size([1, 2, 224, 224])\n",
      "for loop time 0.003117799758911133\n",
      "hand mask sum: 3569.0\n",
      "Calculate single highest scoring object time: 0.030309677124023438\n",
      "Crop and resize time: 0.00098419189453125\n",
      "Posenet forward time: 0.002098560333251953\n",
      "Posepriornet forward time: 0.0007517337799072266\n",
      "Viewpoint forward time: 0.0009529590606689453\n",
      "Get normalized 3d coordinates time: 0.0006077289581298828\n",
      "Flip left handed input time: 0.00013828277587890625\n",
      "ScaLe heatmaps time 0.00011014938354492188\n",
      "Time for processing 1 frame: 0.045617103576660156s\n"
     ]
    },
    {
     "name": "stderr",
     "output_type": "stream",
     "text": [
      "\r",
      "921it [03:17,  4.26it/s]"
     ]
    },
    {
     "name": "stdout",
     "output_type": "stream",
     "text": [
      "tensor([[1.0000]], device='cuda:0', grad_fn=<SigmoidBackward>)\n",
      "Handnet forward time: 0.007682323455810547\n",
      "Handsegnet forward time: 0.0010445117950439453\n",
      "s shape torch.Size([1, 2, 224, 224])\n",
      "for loop time 0.003108978271484375\n",
      "hand mask sum: 3606.0\n",
      "Calculate single highest scoring object time: 0.030825138092041016\n",
      "Crop and resize time: 0.0009593963623046875\n",
      "Posenet forward time: 0.001980304718017578\n",
      "Posepriornet forward time: 0.000736236572265625\n",
      "Viewpoint forward time: 0.0009615421295166016\n",
      "Get normalized 3d coordinates time: 0.0006530284881591797\n",
      "Flip left handed input time: 0.0001361370086669922\n",
      "ScaLe heatmaps time 0.00010752677917480469\n",
      "Time for processing 1 frame: 0.04571080207824707s\n"
     ]
    },
    {
     "name": "stderr",
     "output_type": "stream",
     "text": [
      "\r",
      "922it [03:18,  4.28it/s]"
     ]
    },
    {
     "name": "stdout",
     "output_type": "stream",
     "text": [
      "tensor([[1.0000]], device='cuda:0', grad_fn=<SigmoidBackward>)\n",
      "Handnet forward time: 0.008573055267333984\n",
      "Handsegnet forward time: 0.0013990402221679688\n",
      "s shape torch.Size([1, 2, 224, 224])\n",
      "for loop time 0.0031998157501220703\n",
      "hand mask sum: 3706.0\n",
      "Calculate single highest scoring object time: 0.029989957809448242\n",
      "Crop and resize time: 0.0009429454803466797\n",
      "Posenet forward time: 0.001998424530029297\n",
      "Posepriornet forward time: 0.0007138252258300781\n",
      "Viewpoint forward time: 0.0009109973907470703\n",
      "Get normalized 3d coordinates time: 0.0006508827209472656\n",
      "Flip left handed input time: 0.00013065338134765625\n",
      "ScaLe heatmaps time 0.00014853477478027344\n",
      "Time for processing 1 frame: 0.04595160484313965s\n"
     ]
    },
    {
     "name": "stderr",
     "output_type": "stream",
     "text": [
      "\r",
      "923it [03:18,  4.27it/s]"
     ]
    },
    {
     "name": "stdout",
     "output_type": "stream",
     "text": [
      "tensor([[1.0000]], device='cuda:0', grad_fn=<SigmoidBackward>)\n",
      "Handnet forward time: 0.0077397823333740234\n",
      "Handsegnet forward time: 0.0010170936584472656\n",
      "s shape torch.Size([1, 2, 224, 224])\n",
      "for loop time 0.003099679946899414\n",
      "hand mask sum: 3776.0\n",
      "Calculate single highest scoring object time: 0.031238079071044922\n",
      "Crop and resize time: 0.0010526180267333984\n",
      "Posenet forward time: 0.002138853073120117\n",
      "Posepriornet forward time: 0.0007810592651367188\n",
      "Viewpoint forward time: 0.0009515285491943359\n",
      "Get normalized 3d coordinates time: 0.0006103515625\n",
      "Flip left handed input time: 0.0001366138458251953\n",
      "ScaLe heatmaps time 8.344650268554688e-05\n",
      "Time for processing 1 frame: 0.046416521072387695s\n"
     ]
    },
    {
     "name": "stderr",
     "output_type": "stream",
     "text": [
      "\r",
      "924it [03:18,  4.28it/s]"
     ]
    },
    {
     "name": "stdout",
     "output_type": "stream",
     "text": [
      "tensor([[1.0000]], device='cuda:0', grad_fn=<SigmoidBackward>)\n",
      "Handnet forward time: 0.00850224494934082\n",
      "Handsegnet forward time: 0.0013401508331298828\n",
      "s shape torch.Size([1, 2, 224, 224])\n",
      "for loop time 0.0034036636352539062\n",
      "hand mask sum: 3826.0\n",
      "Calculate single highest scoring object time: 0.029938459396362305\n",
      "Crop and resize time: 0.0009737014770507812\n",
      "Posenet forward time: 0.002016782760620117\n",
      "Posepriornet forward time: 0.0007386207580566406\n",
      "Viewpoint forward time: 0.0009543895721435547\n",
      "Get normalized 3d coordinates time: 0.0006101131439208984\n",
      "Flip left handed input time: 0.0001380443572998047\n",
      "ScaLe heatmaps time 0.0001087188720703125\n",
      "Time for processing 1 frame: 0.04580998420715332s\n"
     ]
    },
    {
     "name": "stderr",
     "output_type": "stream",
     "text": [
      "\r",
      "925it [03:18,  4.26it/s]"
     ]
    },
    {
     "name": "stdout",
     "output_type": "stream",
     "text": [
      "tensor([[1.0000]], device='cuda:0', grad_fn=<SigmoidBackward>)\n",
      "Handnet forward time: 0.007735729217529297\n",
      "Handsegnet forward time: 0.0010714530944824219\n",
      "s shape torch.Size([1, 2, 224, 224])\n",
      "for loop time 0.003081083297729492\n",
      "hand mask sum: 3820.0\n",
      "Calculate single highest scoring object time: 0.029950618743896484\n",
      "Crop and resize time: 0.0009293556213378906\n",
      "Posenet forward time: 0.0021317005157470703\n",
      "Posepriornet forward time: 0.0007112026214599609\n",
      "Viewpoint forward time: 0.0009081363677978516\n",
      "Get normalized 3d coordinates time: 0.0005846023559570312\n",
      "Flip left handed input time: 0.0001316070556640625\n",
      "ScaLe heatmaps time 2.9802322387695312e-05\n",
      "Time for processing 1 frame: 0.04494118690490723s\n"
     ]
    },
    {
     "name": "stderr",
     "output_type": "stream",
     "text": [
      "\r",
      "926it [03:19,  4.27it/s]"
     ]
    },
    {
     "name": "stdout",
     "output_type": "stream",
     "text": [
      "tensor([[1.0000]], device='cuda:0', grad_fn=<SigmoidBackward>)\n",
      "Handnet forward time: 0.007810831069946289\n",
      "Handsegnet forward time: 0.0012197494506835938\n",
      "s shape torch.Size([1, 2, 224, 224])\n",
      "for loop time 0.0029799938201904297\n",
      "hand mask sum: 3856.0\n",
      "Calculate single highest scoring object time: 0.02995586395263672\n",
      "Crop and resize time: 0.0010046958923339844\n",
      "Posenet forward time: 0.002101898193359375\n",
      "Posepriornet forward time: 0.0007252693176269531\n",
      "Viewpoint forward time: 0.0010216236114501953\n",
      "Get normalized 3d coordinates time: 0.000774383544921875\n",
      "Flip left handed input time: 0.00016069412231445312\n",
      "ScaLe heatmaps time 0.0001227855682373047\n",
      "Time for processing 1 frame: 0.045386552810668945s\n"
     ]
    },
    {
     "name": "stderr",
     "output_type": "stream",
     "text": [
      "\r",
      "927it [03:19,  4.28it/s]"
     ]
    },
    {
     "name": "stdout",
     "output_type": "stream",
     "text": [
      "tensor([[1.0000]], device='cuda:0', grad_fn=<SigmoidBackward>)\n",
      "Handnet forward time: 0.0078046321868896484\n",
      "Handsegnet forward time: 0.001066446304321289\n",
      "s shape torch.Size([1, 2, 224, 224])\n",
      "for loop time 0.0031249523162841797\n",
      "hand mask sum: 3867.0\n",
      "Calculate single highest scoring object time: 0.03130054473876953\n",
      "Crop and resize time: 0.0009591579437255859\n",
      "Posenet forward time: 0.0019960403442382812\n",
      "Posepriornet forward time: 0.0007274150848388672\n",
      "Viewpoint forward time: 0.0009729862213134766\n",
      "Get normalized 3d coordinates time: 0.0006048679351806641\n",
      "Flip left handed input time: 0.00013017654418945312\n",
      "ScaLe heatmaps time 3.123283386230469e-05\n",
      "Time for processing 1 frame: 0.0462193489074707s\n"
     ]
    },
    {
     "name": "stderr",
     "output_type": "stream",
     "text": [
      "\r",
      "928it [03:19,  4.27it/s]"
     ]
    },
    {
     "name": "stdout",
     "output_type": "stream",
     "text": [
      "tensor([[1.0000]], device='cuda:0', grad_fn=<SigmoidBackward>)\n",
      "Handnet forward time: 0.007796049118041992\n",
      "Handsegnet forward time: 0.001077413558959961\n",
      "s shape torch.Size([1, 2, 224, 224])\n",
      "for loop time 0.0031142234802246094\n",
      "hand mask sum: 3821.0\n",
      "Calculate single highest scoring object time: 0.030023813247680664\n",
      "Crop and resize time: 0.0009500980377197266\n",
      "Posenet forward time: 0.002169370651245117\n",
      "Posepriornet forward time: 0.0007662773132324219\n",
      "Viewpoint forward time: 0.0009670257568359375\n",
      "Get normalized 3d coordinates time: 0.0006687641143798828\n",
      "Flip left handed input time: 0.0001456737518310547\n",
      "ScaLe heatmaps time 0.00011277198791503906\n",
      "Time for processing 1 frame: 0.04533815383911133s\n"
     ]
    },
    {
     "name": "stderr",
     "output_type": "stream",
     "text": [
      "\r",
      "929it [03:19,  4.25it/s]"
     ]
    },
    {
     "name": "stdout",
     "output_type": "stream",
     "text": [
      "tensor([[1.0000]], device='cuda:0', grad_fn=<SigmoidBackward>)\n",
      "Handnet forward time: 0.007752656936645508\n",
      "Handsegnet forward time: 0.0010058879852294922\n",
      "s shape torch.Size([1, 2, 224, 224])\n",
      "for loop time 0.0032052993774414062\n",
      "hand mask sum: 3775.0\n",
      "Calculate single highest scoring object time: 0.030647993087768555\n",
      "Crop and resize time: 0.0012824535369873047\n",
      "Posenet forward time: 0.0020122528076171875\n",
      "Posepriornet forward time: 0.0007479190826416016\n",
      "Viewpoint forward time: 0.0009520053863525391\n",
      "Get normalized 3d coordinates time: 0.0006110668182373047\n",
      "Flip left handed input time: 0.0001392364501953125\n",
      "ScaLe heatmaps time 0.00011086463928222656\n",
      "Time for processing 1 frame: 0.04590725898742676s\n"
     ]
    },
    {
     "name": "stderr",
     "output_type": "stream",
     "text": [
      "\r",
      "930it [03:20,  4.27it/s]"
     ]
    },
    {
     "name": "stdout",
     "output_type": "stream",
     "text": [
      "tensor([[1.0000]], device='cuda:0', grad_fn=<SigmoidBackward>)\n",
      "Handnet forward time: 0.007688283920288086\n",
      "Handsegnet forward time: 0.0010156631469726562\n",
      "s shape torch.Size([1, 2, 224, 224])\n",
      "for loop time 0.0032529830932617188\n",
      "hand mask sum: 3771.0\n",
      "Calculate single highest scoring object time: 0.0314791202545166\n",
      "Crop and resize time: 0.0010137557983398438\n",
      "Posenet forward time: 0.002144336700439453\n",
      "Posepriornet forward time: 0.0007264614105224609\n",
      "Viewpoint forward time: 0.0009372234344482422\n",
      "Get normalized 3d coordinates time: 0.000637054443359375\n",
      "Flip left handed input time: 0.00013399124145507812\n",
      "ScaLe heatmaps time 0.00010061264038085938\n",
      "Time for processing 1 frame: 0.04661250114440918s\n"
     ]
    },
    {
     "name": "stderr",
     "output_type": "stream",
     "text": [
      "\r",
      "931it [03:20,  4.27it/s]"
     ]
    },
    {
     "name": "stdout",
     "output_type": "stream",
     "text": [
      "tensor([[1.0000]], device='cuda:0', grad_fn=<SigmoidBackward>)\n",
      "Handnet forward time: 0.007752656936645508\n",
      "Handsegnet forward time: 0.0012314319610595703\n",
      "s shape torch.Size([1, 2, 224, 224])\n",
      "for loop time 0.003275156021118164\n",
      "hand mask sum: 3801.0\n",
      "Calculate single highest scoring object time: 0.03075242042541504\n",
      "Crop and resize time: 0.0009393692016601562\n",
      "Posenet forward time: 0.0020437240600585938\n",
      "Posepriornet forward time: 0.0007100105285644531\n",
      "Viewpoint forward time: 0.0009100437164306641\n",
      "Get normalized 3d coordinates time: 0.0005862712860107422\n",
      "Flip left handed input time: 0.0001575946807861328\n",
      "ScaLe heatmaps time 0.00010919570922851562\n",
      "Time for processing 1 frame: 0.045786380767822266s\n"
     ]
    },
    {
     "name": "stderr",
     "output_type": "stream",
     "text": [
      "\r",
      "932it [03:20,  4.24it/s]"
     ]
    },
    {
     "name": "stdout",
     "output_type": "stream",
     "text": [
      "tensor([[1.0000]], device='cuda:0', grad_fn=<SigmoidBackward>)\n",
      "Handnet forward time: 0.00818777084350586\n",
      "Handsegnet forward time: 0.0009279251098632812\n",
      "s shape torch.Size([1, 2, 224, 224])\n",
      "for loop time 0.004057407379150391\n",
      "hand mask sum: 3808.0\n",
      "Calculate single highest scoring object time: 0.030036211013793945\n",
      "Crop and resize time: 0.0009789466857910156\n",
      "Posenet forward time: 0.0020215511322021484\n",
      "Posepriornet forward time: 0.0007450580596923828\n",
      "Viewpoint forward time: 0.0009441375732421875\n",
      "Get normalized 3d coordinates time: 0.0006132125854492188\n",
      "Flip left handed input time: 5.7697296142578125e-05\n",
      "ScaLe heatmaps time 3.337860107421875e-05\n",
      "Time for processing 1 frame: 0.04513907432556152s\n"
     ]
    },
    {
     "name": "stderr",
     "output_type": "stream",
     "text": [
      "\r",
      "933it [03:20,  4.26it/s]"
     ]
    },
    {
     "name": "stdout",
     "output_type": "stream",
     "text": [
      "tensor([[1.0000]], device='cuda:0', grad_fn=<SigmoidBackward>)\n",
      "Handnet forward time: 0.008949518203735352\n",
      "Handsegnet forward time: 0.0013794898986816406\n",
      "s shape torch.Size([1, 2, 224, 224])\n",
      "for loop time 0.0038056373596191406\n",
      "hand mask sum: 3786.0\n",
      "Calculate single highest scoring object time: 0.030221939086914062\n",
      "Crop and resize time: 0.0009593963623046875\n",
      "Posenet forward time: 0.0019252300262451172\n",
      "Posepriornet forward time: 0.0006856918334960938\n",
      "Viewpoint forward time: 0.0009114742279052734\n",
      "Get normalized 3d coordinates time: 0.0005650520324707031\n",
      "Flip left handed input time: 0.00010418891906738281\n",
      "ScaLe heatmaps time 7.271766662597656e-05\n",
      "Time for processing 1 frame: 0.04625344276428223s\n"
     ]
    },
    {
     "name": "stderr",
     "output_type": "stream",
     "text": [
      "\r",
      "934it [03:21,  4.27it/s]"
     ]
    },
    {
     "name": "stdout",
     "output_type": "stream",
     "text": [
      "tensor([[1.0000]], device='cuda:0', grad_fn=<SigmoidBackward>)\n",
      "Handnet forward time: 0.008995771408081055\n",
      "Handsegnet forward time: 0.0013141632080078125\n",
      "s shape torch.Size([1, 2, 224, 224])\n",
      "for loop time 0.0030908584594726562\n",
      "hand mask sum: 3763.0\n",
      "Calculate single highest scoring object time: 0.030690908432006836\n",
      "Crop and resize time: 0.0009295940399169922\n",
      "Posenet forward time: 0.001916646957397461\n",
      "Posepriornet forward time: 0.0007429122924804688\n",
      "Viewpoint forward time: 0.0009121894836425781\n",
      "Get normalized 3d coordinates time: 0.0005850791931152344\n",
      "Flip left handed input time: 0.00013375282287597656\n",
      "ScaLe heatmaps time 0.00010919570922851562\n",
      "Time for processing 1 frame: 0.04678750038146973s\n"
     ]
    },
    {
     "name": "stderr",
     "output_type": "stream",
     "text": [
      "\r",
      "935it [03:21,  4.24it/s]"
     ]
    },
    {
     "name": "stdout",
     "output_type": "stream",
     "text": [
      "tensor([[1.0000]], device='cuda:0', grad_fn=<SigmoidBackward>)\n",
      "Handnet forward time: 0.007729291915893555\n",
      "Handsegnet forward time: 0.0010685920715332031\n",
      "s shape torch.Size([1, 2, 224, 224])\n",
      "for loop time 0.0031366348266601562\n",
      "hand mask sum: 3725.0\n",
      "Calculate single highest scoring object time: 0.030466556549072266\n",
      "Crop and resize time: 0.0009758472442626953\n",
      "Posenet forward time: 0.002024412155151367\n",
      "Posepriornet forward time: 0.0007910728454589844\n",
      "Viewpoint forward time: 0.0009505748748779297\n",
      "Get normalized 3d coordinates time: 0.0006148815155029297\n",
      "Flip left handed input time: 0.0001361370086669922\n",
      "ScaLe heatmaps time 0.00010514259338378906\n",
      "Time for processing 1 frame: 0.04549455642700195s\n"
     ]
    },
    {
     "name": "stderr",
     "output_type": "stream",
     "text": [
      "\r",
      "936it [03:21,  4.26it/s]"
     ]
    },
    {
     "name": "stdout",
     "output_type": "stream",
     "text": [
      "tensor([[1.0000]], device='cuda:0', grad_fn=<SigmoidBackward>)\n",
      "Handnet forward time: 0.007786273956298828\n",
      "Handsegnet forward time: 0.0010542869567871094\n",
      "s shape torch.Size([1, 2, 224, 224])\n",
      "for loop time 0.003126859664916992\n",
      "hand mask sum: 3762.0\n",
      "Calculate single highest scoring object time: 0.031248092651367188\n",
      "Crop and resize time: 0.0009810924530029297\n",
      "Posenet forward time: 0.001956462860107422\n",
      "Posepriornet forward time: 0.0007727146148681641\n",
      "Viewpoint forward time: 0.0009760856628417969\n",
      "Get normalized 3d coordinates time: 0.0005819797515869141\n",
      "Flip left handed input time: 0.00011110305786132812\n",
      "ScaLe heatmaps time 7.390975952148438e-05\n",
      "Time for processing 1 frame: 0.04618573188781738s\n"
     ]
    },
    {
     "name": "stderr",
     "output_type": "stream",
     "text": [
      "\r",
      "937it [03:21,  4.24it/s]"
     ]
    },
    {
     "name": "stdout",
     "output_type": "stream",
     "text": [
      "tensor([[1.0000]], device='cuda:0', grad_fn=<SigmoidBackward>)\n",
      "Handnet forward time: 0.007783412933349609\n",
      "Handsegnet forward time: 0.0010113716125488281\n",
      "s shape torch.Size([1, 2, 224, 224])\n",
      "for loop time 0.0031561851501464844\n",
      "hand mask sum: 3742.0\n",
      "Calculate single highest scoring object time: 0.0299985408782959\n",
      "Crop and resize time: 0.0009758472442626953\n",
      "Posenet forward time: 0.0020041465759277344\n",
      "Posepriornet forward time: 0.0007815361022949219\n",
      "Viewpoint forward time: 0.0010075569152832031\n",
      "Get normalized 3d coordinates time: 0.0006382465362548828\n",
      "Flip left handed input time: 0.00014162063598632812\n",
      "ScaLe heatmaps time 4.9591064453125e-05\n",
      "Time for processing 1 frame: 0.04522442817687988s\n"
     ]
    },
    {
     "name": "stderr",
     "output_type": "stream",
     "text": [
      "\r",
      "938it [03:21,  4.26it/s]"
     ]
    },
    {
     "name": "stdout",
     "output_type": "stream",
     "text": [
      "tensor([[1.0000]], device='cuda:0', grad_fn=<SigmoidBackward>)\n",
      "Handnet forward time: 0.007778644561767578\n",
      "Handsegnet forward time: 0.00103759765625\n",
      "s shape torch.Size([1, 2, 224, 224])\n",
      "for loop time 0.0031538009643554688\n",
      "hand mask sum: 3730.0\n",
      "Calculate single highest scoring object time: 0.02983546257019043\n",
      "Crop and resize time: 0.0010352134704589844\n",
      "Posenet forward time: 0.002016782760620117\n",
      "Posepriornet forward time: 0.0007376670837402344\n",
      "Viewpoint forward time: 0.0009534358978271484\n",
      "Get normalized 3d coordinates time: 0.0006008148193359375\n",
      "Flip left handed input time: 0.0001354217529296875\n",
      "ScaLe heatmaps time 0.00010895729064941406\n",
      "Time for processing 1 frame: 0.044889211654663086s\n"
     ]
    },
    {
     "name": "stderr",
     "output_type": "stream",
     "text": [
      "\r",
      "939it [03:22,  4.25it/s]"
     ]
    },
    {
     "name": "stdout",
     "output_type": "stream",
     "text": [
      "tensor([[1.0000]], device='cuda:0', grad_fn=<SigmoidBackward>)\n",
      "Handnet forward time: 0.007767200469970703\n",
      "Handsegnet forward time: 0.0010535717010498047\n",
      "s shape torch.Size([1, 2, 224, 224])\n",
      "for loop time 0.0030524730682373047\n",
      "hand mask sum: 3624.0\n",
      "Calculate single highest scoring object time: 0.030297040939331055\n",
      "Crop and resize time: 0.002032756805419922\n",
      "Posenet forward time: 0.0020110607147216797\n",
      "Posepriornet forward time: 0.0007410049438476562\n",
      "Viewpoint forward time: 0.0009605884552001953\n",
      "Get normalized 3d coordinates time: 0.0006105899810791016\n",
      "Flip left handed input time: 0.00013899803161621094\n",
      "ScaLe heatmaps time 0.00011110305786132812\n",
      "Time for processing 1 frame: 0.046363115310668945s\n"
     ]
    },
    {
     "name": "stderr",
     "output_type": "stream",
     "text": [
      "\r",
      "940it [03:22,  4.23it/s]"
     ]
    },
    {
     "name": "stdout",
     "output_type": "stream",
     "text": [
      "tensor([[1.0000]], device='cuda:0', grad_fn=<SigmoidBackward>)\n",
      "Handnet forward time: 0.008276224136352539\n",
      "Handsegnet forward time: 0.0011374950408935547\n",
      "s shape torch.Size([1, 2, 224, 224])\n",
      "for loop time 0.0030820369720458984\n",
      "hand mask sum: 3640.0\n",
      "Calculate single highest scoring object time: 0.03063821792602539\n",
      "Crop and resize time: 0.0009927749633789062\n",
      "Posenet forward time: 0.001924276351928711\n",
      "Posepriornet forward time: 0.0007083415985107422\n",
      "Viewpoint forward time: 0.000926971435546875\n",
      "Get normalized 3d coordinates time: 0.0006172657012939453\n",
      "Flip left handed input time: 0.00014066696166992188\n",
      "ScaLe heatmaps time 0.000110626220703125\n",
      "Time for processing 1 frame: 0.046111106872558594s\n"
     ]
    },
    {
     "name": "stderr",
     "output_type": "stream",
     "text": [
      "\r",
      "941it [03:22,  4.25it/s]"
     ]
    },
    {
     "name": "stdout",
     "output_type": "stream",
     "text": [
      "tensor([[1.0000]], device='cuda:0', grad_fn=<SigmoidBackward>)\n",
      "Handnet forward time: 0.009164094924926758\n",
      "Handsegnet forward time: 0.0012433528900146484\n",
      "s shape torch.Size([1, 2, 224, 224])\n",
      "for loop time 0.003147125244140625\n",
      "hand mask sum: 3698.0\n",
      "Calculate single highest scoring object time: 0.030965805053710938\n",
      "Crop and resize time: 0.0009479522705078125\n",
      "Posenet forward time: 0.0020160675048828125\n",
      "Posepriornet forward time: 0.0007205009460449219\n",
      "Viewpoint forward time: 0.0009582042694091797\n",
      "Get normalized 3d coordinates time: 0.0005939006805419922\n",
      "Flip left handed input time: 0.0001354217529296875\n",
      "ScaLe heatmaps time 0.00010800361633300781\n",
      "Time for processing 1 frame: 0.047533512115478516s\n"
     ]
    },
    {
     "name": "stderr",
     "output_type": "stream",
     "text": [
      "\r",
      "942it [03:22,  4.24it/s]"
     ]
    },
    {
     "name": "stdout",
     "output_type": "stream",
     "text": [
      "tensor([[1.0000]], device='cuda:0', grad_fn=<SigmoidBackward>)\n",
      "Handnet forward time: 0.007667064666748047\n",
      "Handsegnet forward time: 0.0009989738464355469\n",
      "s shape torch.Size([1, 2, 224, 224])\n",
      "for loop time 0.0031783580780029297\n",
      "hand mask sum: 3775.0\n",
      "Calculate single highest scoring object time: 0.030951499938964844\n",
      "Crop and resize time: 0.0009565353393554688\n",
      "Posenet forward time: 0.0019638538360595703\n",
      "Posepriornet forward time: 0.0008549690246582031\n",
      "Viewpoint forward time: 0.0009305477142333984\n",
      "Get normalized 3d coordinates time: 0.0005908012390136719\n",
      "Flip left handed input time: 0.000133514404296875\n",
      "ScaLe heatmaps time 0.00010514259338378906\n",
      "Time for processing 1 frame: 0.04577279090881348s\n"
     ]
    },
    {
     "name": "stderr",
     "output_type": "stream",
     "text": [
      "\r",
      "943it [03:23,  4.26it/s]"
     ]
    },
    {
     "name": "stdout",
     "output_type": "stream",
     "text": [
      "tensor([[1.0000]], device='cuda:0', grad_fn=<SigmoidBackward>)\n",
      "Handnet forward time: 0.00769805908203125\n",
      "Handsegnet forward time: 0.0010371208190917969\n",
      "s shape torch.Size([1, 2, 224, 224])\n",
      "for loop time 0.0031342506408691406\n",
      "hand mask sum: 3835.0\n",
      "Calculate single highest scoring object time: 0.031088829040527344\n",
      "Crop and resize time: 0.0009622573852539062\n",
      "Posenet forward time: 0.0020029544830322266\n",
      "Posepriornet forward time: 0.0007271766662597656\n",
      "Viewpoint forward time: 0.0009758472442626953\n",
      "Get normalized 3d coordinates time: 0.0005962848663330078\n",
      "Flip left handed input time: 0.00013566017150878906\n",
      "ScaLe heatmaps time 0.000102996826171875\n",
      "Time for processing 1 frame: 0.0459749698638916s\n"
     ]
    },
    {
     "name": "stderr",
     "output_type": "stream",
     "text": [
      "\r",
      "944it [03:23,  4.24it/s]"
     ]
    },
    {
     "name": "stdout",
     "output_type": "stream",
     "text": [
      "tensor([[1.0000]], device='cuda:0', grad_fn=<SigmoidBackward>)\n",
      "Handnet forward time: 0.007680177688598633\n",
      "Handsegnet forward time: 0.0010192394256591797\n",
      "s shape torch.Size([1, 2, 224, 224])\n",
      "for loop time 0.0031003952026367188\n",
      "hand mask sum: 3928.0\n",
      "Calculate single highest scoring object time: 0.030699968338012695\n",
      "Crop and resize time: 0.0010576248168945312\n",
      "Posenet forward time: 0.001986265182495117\n",
      "Posepriornet forward time: 0.0007278919219970703\n",
      "Viewpoint forward time: 0.0011017322540283203\n",
      "Get normalized 3d coordinates time: 0.0006380081176757812\n",
      "Flip left handed input time: 0.00011372566223144531\n",
      "ScaLe heatmaps time 9.775161743164062e-05\n",
      "Time for processing 1 frame: 0.04578399658203125s\n"
     ]
    },
    {
     "name": "stderr",
     "output_type": "stream",
     "text": [
      "\r",
      "945it [03:23,  4.26it/s]"
     ]
    },
    {
     "name": "stdout",
     "output_type": "stream",
     "text": [
      "tensor([[1.0000]], device='cuda:0', grad_fn=<SigmoidBackward>)\n",
      "Handnet forward time: 0.007712841033935547\n",
      "Handsegnet forward time: 0.0010616779327392578\n",
      "s shape torch.Size([1, 2, 224, 224])\n",
      "for loop time 0.0031130313873291016\n",
      "hand mask sum: 3990.0\n",
      "Calculate single highest scoring object time: 0.02984309196472168\n",
      "Crop and resize time: 0.0009508132934570312\n",
      "Posenet forward time: 0.0020868778228759766\n",
      "Posepriornet forward time: 0.0007238388061523438\n",
      "Viewpoint forward time: 0.0009250640869140625\n",
      "Get normalized 3d coordinates time: 0.0005984306335449219\n",
      "Flip left handed input time: 0.00013494491577148438\n",
      "ScaLe heatmaps time 0.00010633468627929688\n",
      "Time for processing 1 frame: 0.04480743408203125s\n"
     ]
    },
    {
     "name": "stderr",
     "output_type": "stream",
     "text": [
      "\r",
      "946it [03:23,  4.27it/s]"
     ]
    },
    {
     "name": "stdout",
     "output_type": "stream",
     "text": [
      "tensor([[1.0000]], device='cuda:0', grad_fn=<SigmoidBackward>)\n",
      "Handnet forward time: 0.00779271125793457\n",
      "Handsegnet forward time: 0.0010139942169189453\n",
      "s shape torch.Size([1, 2, 224, 224])\n",
      "for loop time 0.003103971481323242\n",
      "hand mask sum: 4024.0\n",
      "Calculate single highest scoring object time: 0.030054330825805664\n",
      "Crop and resize time: 0.000990152359008789\n",
      "Posenet forward time: 0.0020923614501953125\n",
      "Posepriornet forward time: 0.0007448196411132812\n",
      "Viewpoint forward time: 0.0009579658508300781\n",
      "Get normalized 3d coordinates time: 0.0006103515625\n",
      "Flip left handed input time: 5.9604644775390625e-05\n",
      "ScaLe heatmaps time 3.2901763916015625e-05\n",
      "Time for processing 1 frame: 0.04510807991027832s\n"
     ]
    },
    {
     "name": "stderr",
     "output_type": "stream",
     "text": [
      "\r",
      "947it [03:24,  4.15it/s]"
     ]
    },
    {
     "name": "stdout",
     "output_type": "stream",
     "text": [
      "tensor([[1.0000]], device='cuda:0', grad_fn=<SigmoidBackward>)\n",
      "Handnet forward time: 0.007742643356323242\n",
      "Handsegnet forward time: 0.001020193099975586\n",
      "s shape torch.Size([1, 2, 224, 224])\n",
      "for loop time 0.003381490707397461\n",
      "hand mask sum: 3987.0\n",
      "Calculate single highest scoring object time: 0.030995845794677734\n",
      "Crop and resize time: 0.0009605884552001953\n",
      "Posenet forward time: 0.001971721649169922\n",
      "Posepriornet forward time: 0.0007228851318359375\n",
      "Viewpoint forward time: 0.0009403228759765625\n",
      "Get normalized 3d coordinates time: 0.0006034374237060547\n",
      "Flip left handed input time: 5.6743621826171875e-05\n",
      "ScaLe heatmaps time 3.24249267578125e-05\n",
      "Time for processing 1 frame: 0.04570412635803223s\n"
     ]
    },
    {
     "name": "stderr",
     "output_type": "stream",
     "text": [
      "\r",
      "948it [03:24,  4.18it/s]"
     ]
    },
    {
     "name": "stdout",
     "output_type": "stream",
     "text": [
      "tensor([[1.0000]], device='cuda:0', grad_fn=<SigmoidBackward>)\n",
      "Handnet forward time: 0.008160829544067383\n",
      "Handsegnet forward time: 0.0012464523315429688\n",
      "s shape torch.Size([1, 2, 224, 224])\n",
      "for loop time 0.0030548572540283203\n",
      "hand mask sum: 3987.0\n",
      "Calculate single highest scoring object time: 0.03023386001586914\n",
      "Crop and resize time: 0.0009300708770751953\n",
      "Posenet forward time: 0.0019049644470214844\n",
      "Posepriornet forward time: 0.0007071495056152344\n",
      "Viewpoint forward time: 0.0009694099426269531\n",
      "Get normalized 3d coordinates time: 0.0005803108215332031\n",
      "Flip left handed input time: 5.435943603515625e-05\n",
      "ScaLe heatmaps time 3.123283386230469e-05\n",
      "Time for processing 1 frame: 0.04526925086975098s\n"
     ]
    },
    {
     "name": "stderr",
     "output_type": "stream",
     "text": [
      "\r",
      "949it [03:24,  3.82it/s]"
     ]
    },
    {
     "name": "stdout",
     "output_type": "stream",
     "text": [
      "tensor([[1.0000]], device='cuda:0', grad_fn=<SigmoidBackward>)\n",
      "Handnet forward time: 0.0077190399169921875\n",
      "Handsegnet forward time: 0.0010404586791992188\n",
      "s shape torch.Size([1, 2, 224, 224])\n",
      "for loop time 0.0031270980834960938\n",
      "hand mask sum: 4100.0\n",
      "Calculate single highest scoring object time: 0.02961111068725586\n",
      "Crop and resize time: 0.0009500980377197266\n",
      "Posenet forward time: 0.0020148754119873047\n",
      "Posepriornet forward time: 0.0007512569427490234\n",
      "Viewpoint forward time: 0.0009291172027587891\n",
      "Get normalized 3d coordinates time: 0.0006077289581298828\n",
      "Flip left handed input time: 0.0001347064971923828\n",
      "ScaLe heatmaps time 0.00010728836059570312\n",
      "Time for processing 1 frame: 0.04449605941772461s\n"
     ]
    },
    {
     "name": "stderr",
     "output_type": "stream",
     "text": [
      "\r",
      "950it [03:24,  3.93it/s]"
     ]
    },
    {
     "name": "stdout",
     "output_type": "stream",
     "text": [
      "tensor([[1.0000]], device='cuda:0', grad_fn=<SigmoidBackward>)\n",
      "Handnet forward time: 0.008247137069702148\n",
      "Handsegnet forward time: 0.0010123252868652344\n",
      "s shape torch.Size([1, 2, 224, 224])\n",
      "for loop time 0.003662586212158203\n",
      "hand mask sum: 4160.0\n",
      "Calculate single highest scoring object time: 0.030364274978637695\n",
      "Crop and resize time: 0.0009503364562988281\n",
      "Posenet forward time: 0.001967906951904297\n",
      "Posepriornet forward time: 0.0007226467132568359\n",
      "Viewpoint forward time: 0.0009357929229736328\n",
      "Get normalized 3d coordinates time: 0.000598907470703125\n",
      "Flip left handed input time: 0.0001361370086669922\n",
      "ScaLe heatmaps time 0.00010752677917480469\n",
      "Time for processing 1 frame: 0.04566764831542969s\n"
     ]
    },
    {
     "name": "stderr",
     "output_type": "stream",
     "text": [
      "\r",
      "951it [03:25,  3.99it/s]"
     ]
    },
    {
     "name": "stdout",
     "output_type": "stream",
     "text": [
      "tensor([[1.0000]], device='cuda:0', grad_fn=<SigmoidBackward>)\n",
      "Handnet forward time: 0.00768589973449707\n",
      "Handsegnet forward time: 0.001219034194946289\n",
      "s shape torch.Size([1, 2, 224, 224])\n",
      "for loop time 0.0030782222747802734\n",
      "hand mask sum: 4212.0\n",
      "Calculate single highest scoring object time: 0.029993534088134766\n",
      "Crop and resize time: 0.0009658336639404297\n",
      "Posenet forward time: 0.0019173622131347656\n",
      "Posepriornet forward time: 0.0007584095001220703\n",
      "Viewpoint forward time: 0.0009064674377441406\n",
      "Get normalized 3d coordinates time: 0.0005795955657958984\n",
      "Flip left handed input time: 0.0001323223114013672\n",
      "ScaLe heatmaps time 0.00010371208190917969\n",
      "Time for processing 1 frame: 0.04473543167114258s\n"
     ]
    },
    {
     "name": "stderr",
     "output_type": "stream",
     "text": [
      "\r",
      "952it [03:25,  4.08it/s]"
     ]
    },
    {
     "name": "stdout",
     "output_type": "stream",
     "text": [
      "tensor([[1.0000]], device='cuda:0', grad_fn=<SigmoidBackward>)\n",
      "Handnet forward time: 0.007843017578125\n",
      "Handsegnet forward time: 0.001055002212524414\n",
      "s shape torch.Size([1, 2, 224, 224])\n",
      "for loop time 0.0031061172485351562\n",
      "hand mask sum: 4226.0\n",
      "Calculate single highest scoring object time: 0.03005695343017578\n",
      "Crop and resize time: 0.0009846687316894531\n",
      "Posenet forward time: 0.0020210742950439453\n",
      "Posepriornet forward time: 0.0007367134094238281\n",
      "Viewpoint forward time: 0.0009462833404541016\n",
      "Get normalized 3d coordinates time: 0.0006115436553955078\n",
      "Flip left handed input time: 0.00013756752014160156\n",
      "ScaLe heatmaps time 0.00010824203491210938\n",
      "Time for processing 1 frame: 0.04499006271362305s\n"
     ]
    },
    {
     "name": "stderr",
     "output_type": "stream",
     "text": [
      "\r",
      "953it [03:25,  4.14it/s]"
     ]
    },
    {
     "name": "stdout",
     "output_type": "stream",
     "text": [
      "tensor([[1.0000]], device='cuda:0', grad_fn=<SigmoidBackward>)\n",
      "Handnet forward time: 0.00768589973449707\n",
      "Handsegnet forward time: 0.0010585784912109375\n",
      "s shape torch.Size([1, 2, 224, 224])\n",
      "for loop time 0.0032036304473876953\n",
      "hand mask sum: 4171.0\n",
      "Calculate single highest scoring object time: 0.03087306022644043\n",
      "Crop and resize time: 0.0009589195251464844\n",
      "Posenet forward time: 0.001962423324584961\n",
      "Posepriornet forward time: 0.0007200241088867188\n",
      "Viewpoint forward time: 0.0009427070617675781\n",
      "Get normalized 3d coordinates time: 0.0005970001220703125\n",
      "Flip left handed input time: 0.00013208389282226562\n",
      "ScaLe heatmaps time 0.00010609626770019531\n",
      "Time for processing 1 frame: 0.0456540584564209s\n"
     ]
    },
    {
     "name": "stderr",
     "output_type": "stream",
     "text": [
      "\r",
      "954it [03:25,  4.19it/s]"
     ]
    },
    {
     "name": "stdout",
     "output_type": "stream",
     "text": [
      "tensor([[1.0000]], device='cuda:0', grad_fn=<SigmoidBackward>)\n",
      "Handnet forward time: 0.007592439651489258\n",
      "Handsegnet forward time: 0.00101470947265625\n",
      "s shape torch.Size([1, 2, 224, 224])\n",
      "for loop time 0.0031261444091796875\n",
      "hand mask sum: 4199.0\n",
      "Calculate single highest scoring object time: 0.03005218505859375\n",
      "Crop and resize time: 0.0009601116180419922\n",
      "Posenet forward time: 0.0021414756774902344\n",
      "Posepriornet forward time: 0.0007319450378417969\n",
      "Viewpoint forward time: 0.0009307861328125\n",
      "Get normalized 3d coordinates time: 0.0006086826324462891\n",
      "Flip left handed input time: 0.0001316070556640625\n",
      "ScaLe heatmaps time 0.00010561943054199219\n",
      "Time for processing 1 frame: 0.04488015174865723s\n"
     ]
    },
    {
     "name": "stderr",
     "output_type": "stream",
     "text": [
      "\r",
      "955it [03:26,  4.20it/s]"
     ]
    },
    {
     "name": "stdout",
     "output_type": "stream",
     "text": [
      "tensor([[1.0000]], device='cuda:0', grad_fn=<SigmoidBackward>)\n",
      "Handnet forward time: 0.00783538818359375\n",
      "Handsegnet forward time: 0.001184225082397461\n",
      "s shape torch.Size([1, 2, 224, 224])\n",
      "for loop time 0.0030710697174072266\n",
      "hand mask sum: 4257.0\n",
      "Calculate single highest scoring object time: 0.03058004379272461\n",
      "Crop and resize time: 0.0009968280792236328\n",
      "Posenet forward time: 0.0020134449005126953\n",
      "Posepriornet forward time: 0.0007417201995849609\n",
      "Viewpoint forward time: 0.0009565353393554688\n",
      "Get normalized 3d coordinates time: 0.0006144046783447266\n",
      "Flip left handed input time: 5.817413330078125e-05\n",
      "ScaLe heatmaps time 3.4332275390625e-05\n",
      "Time for processing 1 frame: 0.04549837112426758s\n"
     ]
    },
    {
     "name": "stderr",
     "output_type": "stream",
     "text": [
      "\r",
      "956it [03:26,  4.22it/s]"
     ]
    },
    {
     "name": "stdout",
     "output_type": "stream",
     "text": [
      "tensor([[1.0000]], device='cuda:0', grad_fn=<SigmoidBackward>)\n",
      "Handnet forward time: 0.00776219367980957\n",
      "Handsegnet forward time: 0.0012819766998291016\n",
      "s shape torch.Size([1, 2, 224, 224])\n",
      "for loop time 0.003298521041870117\n",
      "hand mask sum: 4224.0\n",
      "Calculate single highest scoring object time: 0.029679536819458008\n",
      "Crop and resize time: 0.0009331703186035156\n",
      "Posenet forward time: 0.0019712448120117188\n",
      "Posepriornet forward time: 0.0007081031799316406\n",
      "Viewpoint forward time: 0.0009391307830810547\n",
      "Get normalized 3d coordinates time: 0.0007486343383789062\n",
      "Flip left handed input time: 0.00012731552124023438\n",
      "ScaLe heatmaps time 0.000102996826171875\n",
      "Time for processing 1 frame: 0.044806718826293945s\n"
     ]
    },
    {
     "name": "stderr",
     "output_type": "stream",
     "text": [
      "\r",
      "957it [03:26,  4.20it/s]"
     ]
    },
    {
     "name": "stdout",
     "output_type": "stream",
     "text": [
      "tensor([[1.0000]], device='cuda:0', grad_fn=<SigmoidBackward>)\n",
      "Handnet forward time: 0.00793600082397461\n",
      "Handsegnet forward time: 0.0010912418365478516\n",
      "s shape torch.Size([1, 2, 224, 224])\n",
      "for loop time 0.0030231475830078125\n",
      "hand mask sum: 4222.0\n",
      "Calculate single highest scoring object time: 0.030915260314941406\n",
      "Crop and resize time: 0.0009367465972900391\n",
      "Posenet forward time: 0.0019173622131347656\n",
      "Posepriornet forward time: 0.0007266998291015625\n",
      "Viewpoint forward time: 0.0009558200836181641\n",
      "Get normalized 3d coordinates time: 0.0006425380706787109\n",
      "Flip left handed input time: 0.00013780593872070312\n",
      "ScaLe heatmaps time 0.00010800361633300781\n",
      "Time for processing 1 frame: 0.04588007926940918s\n"
     ]
    },
    {
     "name": "stderr",
     "output_type": "stream",
     "text": [
      "\r",
      "958it [03:26,  4.23it/s]"
     ]
    },
    {
     "name": "stdout",
     "output_type": "stream",
     "text": [
      "tensor([[1.0000]], device='cuda:0', grad_fn=<SigmoidBackward>)\n",
      "Handnet forward time: 0.00936579704284668\n",
      "Handsegnet forward time: 0.0011289119720458984\n",
      "s shape torch.Size([1, 2, 224, 224])\n",
      "for loop time 0.0031108856201171875\n",
      "hand mask sum: 4241.0\n",
      "Calculate single highest scoring object time: 0.030946969985961914\n",
      "Crop and resize time: 0.0009672641754150391\n",
      "Posenet forward time: 0.0020134449005126953\n",
      "Posepriornet forward time: 0.0007352828979492188\n",
      "Viewpoint forward time: 0.0009462833404541016\n",
      "Get normalized 3d coordinates time: 0.0006506443023681641\n",
      "Flip left handed input time: 0.00013780593872070312\n",
      "ScaLe heatmaps time 0.00010776519775390625\n",
      "Time for processing 1 frame: 0.047600746154785156s\n"
     ]
    },
    {
     "name": "stderr",
     "output_type": "stream",
     "text": [
      "\r",
      "959it [03:27,  4.24it/s]"
     ]
    },
    {
     "name": "stdout",
     "output_type": "stream",
     "text": [
      "tensor([[1.0000]], device='cuda:0', grad_fn=<SigmoidBackward>)\n",
      "Handnet forward time: 0.008463144302368164\n",
      "Handsegnet forward time: 0.001065969467163086\n",
      "s shape torch.Size([1, 2, 224, 224])\n",
      "for loop time 0.002977609634399414\n",
      "hand mask sum: 4280.0\n",
      "Calculate single highest scoring object time: 0.03064441680908203\n",
      "Crop and resize time: 0.0009763240814208984\n",
      "Posenet forward time: 0.0019104480743408203\n",
      "Posepriornet forward time: 0.000736236572265625\n",
      "Viewpoint forward time: 0.0009667873382568359\n",
      "Get normalized 3d coordinates time: 0.0006532669067382812\n",
      "Flip left handed input time: 0.00013184547424316406\n",
      "ScaLe heatmaps time 0.0001049041748046875\n",
      "Time for processing 1 frame: 0.04626870155334473s\n"
     ]
    },
    {
     "name": "stderr",
     "output_type": "stream",
     "text": [
      "\r",
      "960it [03:27,  4.23it/s]"
     ]
    },
    {
     "name": "stdout",
     "output_type": "stream",
     "text": [
      "tensor([[1.0000]], device='cuda:0', grad_fn=<SigmoidBackward>)\n",
      "Handnet forward time: 0.007775068283081055\n",
      "Handsegnet forward time: 0.001298666000366211\n",
      "s shape torch.Size([1, 2, 224, 224])\n",
      "for loop time 0.003159046173095703\n",
      "hand mask sum: 4305.0\n",
      "Calculate single highest scoring object time: 0.030568361282348633\n",
      "Crop and resize time: 0.0009677410125732422\n",
      "Posenet forward time: 0.0020744800567626953\n",
      "Posepriornet forward time: 0.0007445812225341797\n",
      "Viewpoint forward time: 0.0009560585021972656\n",
      "Get normalized 3d coordinates time: 0.0006096363067626953\n",
      "Flip left handed input time: 0.00013685226440429688\n",
      "ScaLe heatmaps time 0.00010752677917480469\n",
      "Time for processing 1 frame: 0.04571413993835449s\n"
     ]
    },
    {
     "name": "stderr",
     "output_type": "stream",
     "text": [
      "\r",
      "961it [03:27,  4.26it/s]"
     ]
    },
    {
     "name": "stdout",
     "output_type": "stream",
     "text": [
      "tensor([[1.0000]], device='cuda:0', grad_fn=<SigmoidBackward>)\n",
      "Handnet forward time: 0.007866859436035156\n",
      "Handsegnet forward time: 0.0010857582092285156\n",
      "s shape torch.Size([1, 2, 224, 224])\n",
      "for loop time 0.003131866455078125\n",
      "hand mask sum: 4350.0\n",
      "Calculate single highest scoring object time: 0.030590534210205078\n",
      "Crop and resize time: 0.0009555816650390625\n",
      "Posenet forward time: 0.0019443035125732422\n",
      "Posepriornet forward time: 0.0007729530334472656\n",
      "Viewpoint forward time: 0.0009775161743164062\n",
      "Get normalized 3d coordinates time: 0.000598907470703125\n",
      "Flip left handed input time: 0.0001327991485595703\n",
      "ScaLe heatmaps time 0.00010776519775390625\n",
      "Time for processing 1 frame: 0.04550623893737793s\n"
     ]
    },
    {
     "name": "stderr",
     "output_type": "stream",
     "text": [
      "\r",
      "962it [03:27,  4.25it/s]"
     ]
    },
    {
     "name": "stdout",
     "output_type": "stream",
     "text": [
      "tensor([[1.0000]], device='cuda:0', grad_fn=<SigmoidBackward>)\n",
      "Handnet forward time: 0.007740020751953125\n",
      "Handsegnet forward time: 0.0010514259338378906\n",
      "s shape torch.Size([1, 2, 224, 224])\n",
      "for loop time 0.0034532546997070312\n",
      "hand mask sum: 4414.0\n",
      "Calculate single highest scoring object time: 0.031174421310424805\n",
      "Crop and resize time: 0.001020669937133789\n",
      "Posenet forward time: 0.0019605159759521484\n",
      "Posepriornet forward time: 0.0007202625274658203\n",
      "Viewpoint forward time: 0.0009634494781494141\n",
      "Get normalized 3d coordinates time: 0.0005986690521240234\n",
      "Flip left handed input time: 0.00016355514526367188\n",
      "ScaLe heatmaps time 6.175041198730469e-05\n",
      "Time for processing 1 frame: 0.046154022216796875s\n"
     ]
    },
    {
     "name": "stderr",
     "output_type": "stream",
     "text": [
      "\r",
      "963it [03:27,  4.26it/s]"
     ]
    },
    {
     "name": "stdout",
     "output_type": "stream",
     "text": [
      "tensor([[1.0000]], device='cuda:0', grad_fn=<SigmoidBackward>)\n",
      "Handnet forward time: 0.007763385772705078\n",
      "Handsegnet forward time: 0.0010097026824951172\n",
      "s shape torch.Size([1, 2, 224, 224])\n",
      "for loop time 0.003139019012451172\n",
      "hand mask sum: 4563.0\n",
      "Calculate single highest scoring object time: 0.03116774559020996\n",
      "Crop and resize time: 0.0009617805480957031\n",
      "Posenet forward time: 0.0020227432250976562\n",
      "Posepriornet forward time: 0.0007443428039550781\n",
      "Viewpoint forward time: 0.00095367431640625\n",
      "Get normalized 3d coordinates time: 0.0006117820739746094\n",
      "Flip left handed input time: 5.6743621826171875e-05\n",
      "ScaLe heatmaps time 3.2901763916015625e-05\n",
      "Time for processing 1 frame: 0.045987844467163086s\n"
     ]
    },
    {
     "name": "stderr",
     "output_type": "stream",
     "text": [
      "\r",
      "964it [03:28,  4.26it/s]"
     ]
    },
    {
     "name": "stdout",
     "output_type": "stream",
     "text": [
      "tensor([[1.0000]], device='cuda:0', grad_fn=<SigmoidBackward>)\n",
      "Handnet forward time: 0.007734060287475586\n",
      "Handsegnet forward time: 0.0011374950408935547\n",
      "s shape torch.Size([1, 2, 224, 224])\n",
      "for loop time 0.003215312957763672\n",
      "hand mask sum: 4448.0\n",
      "Calculate single highest scoring object time: 0.031125545501708984\n",
      "Crop and resize time: 0.0009584426879882812\n",
      "Posenet forward time: 0.002102375030517578\n",
      "Posepriornet forward time: 0.0007791519165039062\n",
      "Viewpoint forward time: 0.0009362697601318359\n",
      "Get normalized 3d coordinates time: 0.0006005764007568359\n",
      "Flip left handed input time: 0.00013589859008789062\n",
      "ScaLe heatmaps time 0.0001049041748046875\n",
      "Time for processing 1 frame: 0.046181440353393555s\n"
     ]
    },
    {
     "name": "stderr",
     "output_type": "stream",
     "text": [
      "\r",
      "965it [03:28,  4.27it/s]"
     ]
    },
    {
     "name": "stdout",
     "output_type": "stream",
     "text": [
      "tensor([[0.9999]], device='cuda:0', grad_fn=<SigmoidBackward>)\n",
      "Handnet forward time: 0.007659435272216797\n",
      "Handsegnet forward time: 0.001058340072631836\n",
      "s shape torch.Size([1, 2, 224, 224])\n",
      "for loop time 0.0032722949981689453\n",
      "hand mask sum: 4284.0\n",
      "Calculate single highest scoring object time: 0.03246164321899414\n",
      "Crop and resize time: 0.0009343624114990234\n",
      "Posenet forward time: 0.0020546913146972656\n",
      "Posepriornet forward time: 0.0008046627044677734\n",
      "Viewpoint forward time: 0.0009589195251464844\n",
      "Get normalized 3d coordinates time: 0.0005853176116943359\n",
      "Flip left handed input time: 0.00017189979553222656\n",
      "ScaLe heatmaps time 0.00012063980102539062\n",
      "Time for processing 1 frame: 0.04746651649475098s\n"
     ]
    },
    {
     "name": "stderr",
     "output_type": "stream",
     "text": [
      "\r",
      "966it [03:28,  4.23it/s]"
     ]
    },
    {
     "name": "stdout",
     "output_type": "stream",
     "text": [
      "tensor([[1.0000]], device='cuda:0', grad_fn=<SigmoidBackward>)\n",
      "Handnet forward time: 0.00819849967956543\n",
      "Handsegnet forward time: 0.0009839534759521484\n",
      "s shape torch.Size([1, 2, 224, 224])\n",
      "for loop time 0.0039310455322265625\n",
      "hand mask sum: 4200.0\n",
      "Calculate single highest scoring object time: 0.02975916862487793\n",
      "Crop and resize time: 0.0009884834289550781\n",
      "Posenet forward time: 0.002031564712524414\n",
      "Posepriornet forward time: 0.0007457733154296875\n",
      "Viewpoint forward time: 0.0009465217590332031\n",
      "Get normalized 3d coordinates time: 0.0006110668182373047\n",
      "Flip left handed input time: 5.817413330078125e-05\n",
      "ScaLe heatmaps time 3.3855438232421875e-05\n",
      "Time for processing 1 frame: 0.04496121406555176s\n"
     ]
    },
    {
     "name": "stderr",
     "output_type": "stream",
     "text": [
      "\r",
      "967it [03:28,  4.24it/s]"
     ]
    },
    {
     "name": "stdout",
     "output_type": "stream",
     "text": [
      "tensor([[0.9999]], device='cuda:0', grad_fn=<SigmoidBackward>)\n",
      "Handnet forward time: 0.009182214736938477\n",
      "Handsegnet forward time: 0.0010306835174560547\n",
      "s shape torch.Size([1, 2, 224, 224])\n",
      "for loop time 0.0031261444091796875\n",
      "hand mask sum: 4207.0\n",
      "Calculate single highest scoring object time: 0.030879735946655273\n",
      "Crop and resize time: 0.0009634494781494141\n",
      "Posenet forward time: 0.002012491226196289\n",
      "Posepriornet forward time: 0.0007257461547851562\n",
      "Viewpoint forward time: 0.0009353160858154297\n",
      "Get normalized 3d coordinates time: 0.000759124755859375\n",
      "Flip left handed input time: 0.00016498565673828125\n",
      "ScaLe heatmaps time 0.00010132789611816406\n",
      "Time for processing 1 frame: 0.04747653007507324s\n"
     ]
    },
    {
     "name": "stderr",
     "output_type": "stream",
     "text": [
      "\r",
      "968it [03:29,  4.25it/s]"
     ]
    },
    {
     "name": "stdout",
     "output_type": "stream",
     "text": [
      "tensor([[1.0000]], device='cuda:0', grad_fn=<SigmoidBackward>)\n",
      "Handnet forward time: 0.007903337478637695\n",
      "Handsegnet forward time: 0.0011982917785644531\n",
      "s shape torch.Size([1, 2, 224, 224])\n",
      "for loop time 0.003102540969848633\n",
      "hand mask sum: 4250.0\n",
      "Calculate single highest scoring object time: 0.030440807342529297\n",
      "Crop and resize time: 0.0009489059448242188\n",
      "Posenet forward time: 0.0019452571868896484\n",
      "Posepriornet forward time: 0.0007112026214599609\n",
      "Viewpoint forward time: 0.0009245872497558594\n",
      "Get normalized 3d coordinates time: 0.0007102489471435547\n",
      "Flip left handed input time: 5.507469177246094e-05\n",
      "ScaLe heatmaps time 3.170967102050781e-05\n",
      "Time for processing 1 frame: 0.045305490493774414s\n"
     ]
    },
    {
     "name": "stderr",
     "output_type": "stream",
     "text": [
      "\r",
      "969it [03:29,  4.24it/s]"
     ]
    },
    {
     "name": "stdout",
     "output_type": "stream",
     "text": [
      "tensor([[1.0000]], device='cuda:0', grad_fn=<SigmoidBackward>)\n",
      "Handnet forward time: 0.0077893733978271484\n",
      "Handsegnet forward time: 0.0012238025665283203\n",
      "s shape torch.Size([1, 2, 224, 224])\n",
      "for loop time 0.003160715103149414\n",
      "hand mask sum: 4189.0\n",
      "Calculate single highest scoring object time: 0.030645370483398438\n",
      "Crop and resize time: 0.0009760856628417969\n",
      "Posenet forward time: 0.0020203590393066406\n",
      "Posepriornet forward time: 0.0007529258728027344\n",
      "Viewpoint forward time: 0.0009555816650390625\n",
      "Get normalized 3d coordinates time: 0.0006122589111328125\n",
      "Flip left handed input time: 0.00013828277587890625\n",
      "ScaLe heatmaps time 0.00010728836059570312\n",
      "Time for processing 1 frame: 0.04569268226623535s\n"
     ]
    },
    {
     "name": "stderr",
     "output_type": "stream",
     "text": [
      "\r",
      "970it [03:29,  4.25it/s]"
     ]
    },
    {
     "name": "stdout",
     "output_type": "stream",
     "text": [
      "tensor([[1.0000]], device='cuda:0', grad_fn=<SigmoidBackward>)\n",
      "Handnet forward time: 0.007703065872192383\n",
      "Handsegnet forward time: 0.0010082721710205078\n",
      "s shape torch.Size([1, 2, 224, 224])\n",
      "for loop time 0.0031118392944335938\n",
      "hand mask sum: 4015.0\n",
      "Calculate single highest scoring object time: 0.029868125915527344\n",
      "Crop and resize time: 0.0009553432464599609\n",
      "Posenet forward time: 0.0020341873168945312\n",
      "Posepriornet forward time: 0.000728607177734375\n",
      "Viewpoint forward time: 0.0009281635284423828\n",
      "Get normalized 3d coordinates time: 0.0005998611450195312\n",
      "Flip left handed input time: 0.00013494491577148438\n",
      "ScaLe heatmaps time 0.00011134147644042969\n",
      "Time for processing 1 frame: 0.044708967208862305s\n"
     ]
    },
    {
     "name": "stderr",
     "output_type": "stream",
     "text": [
      "\r",
      "971it [03:29,  4.24it/s]"
     ]
    },
    {
     "name": "stdout",
     "output_type": "stream",
     "text": [
      "tensor([[1.0000]], device='cuda:0', grad_fn=<SigmoidBackward>)\n",
      "Handnet forward time: 0.0077588558197021484\n",
      "Handsegnet forward time: 0.0013437271118164062\n",
      "s shape torch.Size([1, 2, 224, 224])\n",
      "for loop time 0.003200054168701172\n",
      "hand mask sum: 4080.0\n",
      "Calculate single highest scoring object time: 0.030672311782836914\n",
      "Crop and resize time: 0.0009407997131347656\n",
      "Posenet forward time: 0.002032756805419922\n",
      "Posepriornet forward time: 0.0007174015045166016\n",
      "Viewpoint forward time: 0.0009167194366455078\n",
      "Get normalized 3d coordinates time: 0.0006062984466552734\n",
      "Flip left handed input time: 5.602836608886719e-05\n",
      "ScaLe heatmaps time 0.0001430511474609375\n",
      "Time for processing 1 frame: 0.04564213752746582s\n"
     ]
    },
    {
     "name": "stderr",
     "output_type": "stream",
     "text": [
      "\r",
      "972it [03:31,  1.72it/s]"
     ]
    },
    {
     "name": "stdout",
     "output_type": "stream",
     "text": [
      "tensor([[1.0000]], device='cuda:0', grad_fn=<SigmoidBackward>)\n",
      "Handnet forward time: 0.007804155349731445\n",
      "Handsegnet forward time: 0.0010116100311279297\n",
      "s shape torch.Size([1, 2, 224, 224])\n",
      "for loop time 0.0031485557556152344\n",
      "hand mask sum: 4195.0\n",
      "Calculate single highest scoring object time: 0.030469655990600586\n",
      "Crop and resize time: 0.00095367431640625\n",
      "Posenet forward time: 0.0019614696502685547\n",
      "Posepriornet forward time: 0.0007219314575195312\n",
      "Viewpoint forward time: 0.0009644031524658203\n",
      "Get normalized 3d coordinates time: 0.0005910396575927734\n",
      "Flip left handed input time: 0.0001342296600341797\n",
      "ScaLe heatmaps time 0.00010824203491210938\n",
      "Time for processing 1 frame: 0.04535341262817383s\n"
     ]
    },
    {
     "name": "stderr",
     "output_type": "stream",
     "text": [
      "\r",
      "973it [03:31,  2.09it/s]"
     ]
    },
    {
     "name": "stdout",
     "output_type": "stream",
     "text": [
      "tensor([[1.0000]], device='cuda:0', grad_fn=<SigmoidBackward>)\n",
      "Handnet forward time: 0.009221315383911133\n",
      "Handsegnet forward time: 0.0010159015655517578\n",
      "s shape torch.Size([1, 2, 224, 224])\n",
      "for loop time 0.0031502246856689453\n",
      "hand mask sum: 4386.0\n",
      "Calculate single highest scoring object time: 0.031244993209838867\n",
      "Crop and resize time: 0.0009636878967285156\n",
      "Posenet forward time: 0.00200653076171875\n",
      "Posepriornet forward time: 0.0007455348968505859\n",
      "Viewpoint forward time: 0.0009503364562988281\n",
      "Get normalized 3d coordinates time: 0.0006101131439208984\n",
      "Flip left handed input time: 0.00014162063598632812\n",
      "ScaLe heatmaps time 0.00010991096496582031\n",
      "Time for processing 1 frame: 0.04764437675476074s\n"
     ]
    },
    {
     "name": "stderr",
     "output_type": "stream",
     "text": [
      "\r",
      "974it [03:31,  2.47it/s]"
     ]
    },
    {
     "name": "stdout",
     "output_type": "stream",
     "text": [
      "tensor([[1.0000]], device='cuda:0', grad_fn=<SigmoidBackward>)\n",
      "Handnet forward time: 0.008382081985473633\n",
      "Handsegnet forward time: 0.0010390281677246094\n",
      "s shape torch.Size([1, 2, 224, 224])\n",
      "for loop time 0.0033991336822509766\n",
      "hand mask sum: 4515.0\n",
      "Calculate single highest scoring object time: 0.0302426815032959\n",
      "Crop and resize time: 0.0009763240814208984\n",
      "Posenet forward time: 0.002018451690673828\n",
      "Posepriornet forward time: 0.0007328987121582031\n",
      "Viewpoint forward time: 0.0009453296661376953\n",
      "Get normalized 3d coordinates time: 0.0006079673767089844\n",
      "Flip left handed input time: 0.0001404285430908203\n",
      "ScaLe heatmaps time 0.00010919570922851562\n",
      "Time for processing 1 frame: 0.045844078063964844s\n"
     ]
    },
    {
     "name": "stderr",
     "output_type": "stream",
     "text": [
      "\r",
      "975it [03:31,  2.81it/s]"
     ]
    },
    {
     "name": "stdout",
     "output_type": "stream",
     "text": [
      "tensor([[0.9999]], device='cuda:0', grad_fn=<SigmoidBackward>)\n",
      "Handnet forward time: 0.008200645446777344\n",
      "Handsegnet forward time: 0.0010573863983154297\n",
      "s shape torch.Size([1, 2, 224, 224])\n",
      "for loop time 0.0034291744232177734\n",
      "hand mask sum: 4391.0\n",
      "Calculate single highest scoring object time: 0.030349254608154297\n",
      "Crop and resize time: 0.0009579658508300781\n",
      "Posenet forward time: 0.002003192901611328\n",
      "Posepriornet forward time: 0.0007214546203613281\n",
      "Viewpoint forward time: 0.0009241104125976562\n",
      "Get normalized 3d coordinates time: 0.0005986690521240234\n",
      "Flip left handed input time: 0.00017881393432617188\n",
      "ScaLe heatmaps time 0.00010752677917480469\n",
      "Time for processing 1 frame: 0.04577016830444336s\n"
     ]
    },
    {
     "name": "stderr",
     "output_type": "stream",
     "text": [
      "\r",
      "976it [03:32,  3.13it/s]"
     ]
    },
    {
     "name": "stdout",
     "output_type": "stream",
     "text": [
      "tensor([[1.0000]], device='cuda:0', grad_fn=<SigmoidBackward>)\n",
      "Handnet forward time: 0.008342981338500977\n",
      "Handsegnet forward time: 0.0010287761688232422\n",
      "s shape torch.Size([1, 2, 224, 224])\n",
      "for loop time 0.0034651756286621094\n",
      "hand mask sum: 4365.0\n",
      "Calculate single highest scoring object time: 0.030811786651611328\n",
      "Crop and resize time: 0.0009686946868896484\n",
      "Posenet forward time: 0.0020220279693603516\n",
      "Posepriornet forward time: 0.0007402896881103516\n",
      "Viewpoint forward time: 0.0009465217590332031\n",
      "Get normalized 3d coordinates time: 0.0006167888641357422\n",
      "Flip left handed input time: 0.00013756752014160156\n",
      "ScaLe heatmaps time 0.00011086463928222656\n",
      "Time for processing 1 frame: 0.04638099670410156s\n"
     ]
    },
    {
     "name": "stderr",
     "output_type": "stream",
     "text": [
      "\r",
      "977it [03:32,  3.41it/s]"
     ]
    },
    {
     "name": "stdout",
     "output_type": "stream",
     "text": [
      "tensor([[1.0000]], device='cuda:0', grad_fn=<SigmoidBackward>)\n",
      "Handnet forward time: 0.007672786712646484\n",
      "Handsegnet forward time: 0.0011470317840576172\n",
      "s shape torch.Size([1, 2, 224, 224])\n",
      "for loop time 0.0031239986419677734\n",
      "hand mask sum: 4353.0\n",
      "Calculate single highest scoring object time: 0.03232097625732422\n",
      "Crop and resize time: 0.0009353160858154297\n",
      "Posenet forward time: 0.0021028518676757812\n",
      "Posepriornet forward time: 0.0007107257843017578\n",
      "Viewpoint forward time: 0.0009057521820068359\n",
      "Get normalized 3d coordinates time: 0.0005881786346435547\n",
      "Flip left handed input time: 0.00012922286987304688\n",
      "ScaLe heatmaps time 0.00010418891906738281\n",
      "Time for processing 1 frame: 0.047077178955078125s\n"
     ]
    },
    {
     "name": "stderr",
     "output_type": "stream",
     "text": [
      "\r",
      "978it [03:32,  3.62it/s]"
     ]
    },
    {
     "name": "stdout",
     "output_type": "stream",
     "text": [
      "tensor([[0.9999]], device='cuda:0', grad_fn=<SigmoidBackward>)\n",
      "Handnet forward time: 0.008060932159423828\n",
      "Handsegnet forward time: 0.0009789466857910156\n",
      "s shape torch.Size([1, 2, 224, 224])\n",
      "for loop time 0.003699064254760742\n",
      "hand mask sum: 4444.0\n",
      "Calculate single highest scoring object time: 0.029458999633789062\n",
      "Crop and resize time: 0.0009636878967285156\n",
      "Posenet forward time: 0.002016782760620117\n",
      "Posepriornet forward time: 0.0007557868957519531\n",
      "Viewpoint forward time: 0.0009224414825439453\n",
      "Get normalized 3d coordinates time: 0.0006139278411865234\n",
      "Flip left handed input time: 0.00013446807861328125\n",
      "ScaLe heatmaps time 0.00011014938354492188\n",
      "Time for processing 1 frame: 0.04462099075317383s\n"
     ]
    },
    {
     "name": "stderr",
     "output_type": "stream",
     "text": [
      "\r",
      "979it [03:32,  3.80it/s]"
     ]
    },
    {
     "name": "stdout",
     "output_type": "stream",
     "text": [
      "tensor([[1.0000]], device='cuda:0', grad_fn=<SigmoidBackward>)\n",
      "Handnet forward time: 0.008709907531738281\n",
      "Handsegnet forward time: 0.0011317729949951172\n",
      "s shape torch.Size([1, 2, 224, 224])\n",
      "for loop time 0.0031423568725585938\n",
      "hand mask sum: 4403.0\n",
      "Calculate single highest scoring object time: 0.02988123893737793\n",
      "Crop and resize time: 0.0009789466857910156\n",
      "Posenet forward time: 0.002032756805419922\n",
      "Posepriornet forward time: 0.0007505416870117188\n",
      "Viewpoint forward time: 0.0009202957153320312\n",
      "Get normalized 3d coordinates time: 0.0006215572357177734\n",
      "Flip left handed input time: 0.00014543533325195312\n",
      "ScaLe heatmaps time 0.00011277198791503906\n",
      "Time for processing 1 frame: 0.04577946662902832s\n"
     ]
    },
    {
     "name": "stderr",
     "output_type": "stream",
     "text": [
      "\r",
      "980it [03:33,  3.92it/s]"
     ]
    },
    {
     "name": "stdout",
     "output_type": "stream",
     "text": [
      "tensor([[0.9999]], device='cuda:0', grad_fn=<SigmoidBackward>)\n",
      "Handnet forward time: 0.009298563003540039\n",
      "Handsegnet forward time: 0.0012047290802001953\n",
      "s shape torch.Size([1, 2, 224, 224])\n",
      "for loop time 0.0031163692474365234\n",
      "hand mask sum: 4210.0\n",
      "Calculate single highest scoring object time: 0.03077244758605957\n",
      "Crop and resize time: 0.0009386539459228516\n",
      "Posenet forward time: 0.0019309520721435547\n",
      "Posepriornet forward time: 0.0007083415985107422\n",
      "Viewpoint forward time: 0.0009660720825195312\n",
      "Get normalized 3d coordinates time: 0.0005860328674316406\n",
      "Flip left handed input time: 5.555152893066406e-05\n",
      "ScaLe heatmaps time 3.147125244140625e-05\n",
      "Time for processing 1 frame: 0.04694700241088867s\n"
     ]
    },
    {
     "name": "stderr",
     "output_type": "stream",
     "text": [
      "\r",
      "981it [03:33,  4.02it/s]"
     ]
    },
    {
     "name": "stdout",
     "output_type": "stream",
     "text": [
      "tensor([[0.9998]], device='cuda:0', grad_fn=<SigmoidBackward>)\n",
      "Handnet forward time: 0.009019613265991211\n",
      "Handsegnet forward time: 0.0010783672332763672\n",
      "s shape torch.Size([1, 2, 224, 224])\n",
      "for loop time 0.0030944347381591797\n",
      "hand mask sum: 4082.0\n",
      "Calculate single highest scoring object time: 0.030884504318237305\n",
      "Crop and resize time: 0.0009295940399169922\n",
      "Posenet forward time: 0.001986980438232422\n",
      "Posepriornet forward time: 0.0007071495056152344\n",
      "Viewpoint forward time: 0.0009052753448486328\n",
      "Get normalized 3d coordinates time: 0.0005834102630615234\n",
      "Flip left handed input time: 0.00013136863708496094\n",
      "ScaLe heatmaps time 0.00010561943054199219\n",
      "Time for processing 1 frame: 0.046790361404418945s\n"
     ]
    },
    {
     "name": "stderr",
     "output_type": "stream",
     "text": [
      "\r",
      "982it [03:33,  4.06it/s]"
     ]
    },
    {
     "name": "stdout",
     "output_type": "stream",
     "text": [
      "tensor([[0.9997]], device='cuda:0', grad_fn=<SigmoidBackward>)\n",
      "Handnet forward time: 0.007735729217529297\n",
      "Handsegnet forward time: 0.0010349750518798828\n",
      "s shape torch.Size([1, 2, 224, 224])\n",
      "for loop time 0.0031414031982421875\n",
      "hand mask sum: 4045.0\n",
      "Calculate single highest scoring object time: 0.03064441680908203\n",
      "Crop and resize time: 0.0009739398956298828\n",
      "Posenet forward time: 0.002015829086303711\n",
      "Posepriornet forward time: 0.0007388591766357422\n",
      "Viewpoint forward time: 0.0009546279907226562\n",
      "Get normalized 3d coordinates time: 0.0006113052368164062\n",
      "Flip left handed input time: 5.793571472167969e-05\n",
      "ScaLe heatmaps time 3.647804260253906e-05\n",
      "Time for processing 1 frame: 0.04543447494506836s\n"
     ]
    },
    {
     "name": "stderr",
     "output_type": "stream",
     "text": [
      "\r",
      "983it [03:33,  4.12it/s]"
     ]
    },
    {
     "name": "stdout",
     "output_type": "stream",
     "text": [
      "tensor([[0.9996]], device='cuda:0', grad_fn=<SigmoidBackward>)\n",
      "Handnet forward time: 0.0077381134033203125\n",
      "Handsegnet forward time: 0.0012576580047607422\n",
      "s shape torch.Size([1, 2, 224, 224])\n",
      "for loop time 0.0031065940856933594\n",
      "hand mask sum: 4007.0\n",
      "Calculate single highest scoring object time: 0.03072953224182129\n",
      "Crop and resize time: 0.0011239051818847656\n",
      "Posenet forward time: 0.0019779205322265625\n",
      "Posepriornet forward time: 0.0007634162902832031\n",
      "Viewpoint forward time: 0.0010409355163574219\n",
      "Get normalized 3d coordinates time: 0.0005919933319091797\n",
      "Flip left handed input time: 0.00017023086547851562\n",
      "ScaLe heatmaps time 6.0558319091796875e-05\n",
      "Time for processing 1 frame: 0.046041011810302734s\n"
     ]
    },
    {
     "name": "stderr",
     "output_type": "stream",
     "text": [
      "\r",
      "984it [03:34,  4.17it/s]"
     ]
    },
    {
     "name": "stdout",
     "output_type": "stream",
     "text": [
      "tensor([[0.9988]], device='cuda:0', grad_fn=<SigmoidBackward>)\n",
      "Handnet forward time: 0.007961034774780273\n",
      "Handsegnet forward time: 0.0010755062103271484\n",
      "s shape torch.Size([1, 2, 224, 224])\n",
      "for loop time 0.0029916763305664062\n",
      "hand mask sum: 4201.0\n",
      "Calculate single highest scoring object time: 0.03001999855041504\n",
      "Crop and resize time: 0.0009853839874267578\n",
      "Posenet forward time: 0.0020029544830322266\n",
      "Posepriornet forward time: 0.0007371902465820312\n",
      "Viewpoint forward time: 0.0009579658508300781\n",
      "Get normalized 3d coordinates time: 0.0006093978881835938\n",
      "Flip left handed input time: 0.00013446807861328125\n",
      "ScaLe heatmaps time 0.00010919570922851562\n",
      "Time for processing 1 frame: 0.04507899284362793s\n"
     ]
    },
    {
     "name": "stderr",
     "output_type": "stream",
     "text": [
      "\r",
      "985it [03:34,  4.18it/s]"
     ]
    },
    {
     "name": "stdout",
     "output_type": "stream",
     "text": [
      "tensor([[0.9996]], device='cuda:0', grad_fn=<SigmoidBackward>)\n",
      "Handnet forward time: 0.0077667236328125\n",
      "Handsegnet forward time: 0.0012216567993164062\n",
      "s shape torch.Size([1, 2, 224, 224])\n",
      "for loop time 0.003147602081298828\n",
      "hand mask sum: 4319.0\n",
      "Calculate single highest scoring object time: 0.030443191528320312\n",
      "Crop and resize time: 0.0013704299926757812\n",
      "Posenet forward time: 0.0020155906677246094\n",
      "Posepriornet forward time: 0.0007259845733642578\n",
      "Viewpoint forward time: 0.0009331703186035156\n",
      "Get normalized 3d coordinates time: 0.0006010532379150391\n",
      "Flip left handed input time: 0.0001347064971923828\n",
      "ScaLe heatmaps time 6.103515625e-05\n",
      "Time for processing 1 frame: 0.04574871063232422s\n"
     ]
    },
    {
     "name": "stderr",
     "output_type": "stream",
     "text": [
      "\r",
      "986it [03:34,  4.22it/s]"
     ]
    },
    {
     "name": "stdout",
     "output_type": "stream",
     "text": [
      "tensor([[0.9968]], device='cuda:0', grad_fn=<SigmoidBackward>)\n",
      "Handnet forward time: 0.007894754409790039\n",
      "Handsegnet forward time: 0.0012836456298828125\n",
      "s shape torch.Size([1, 2, 224, 224])\n",
      "for loop time 0.003222227096557617\n",
      "hand mask sum: 4507.0\n",
      "Calculate single highest scoring object time: 0.03121471405029297\n",
      "Crop and resize time: 0.0009462833404541016\n",
      "Posenet forward time: 0.001965761184692383\n",
      "Posepriornet forward time: 0.0007109642028808594\n",
      "Viewpoint forward time: 0.0010287761688232422\n",
      "Get normalized 3d coordinates time: 0.0006506443023681641\n",
      "Flip left handed input time: 0.00014781951904296875\n",
      "ScaLe heatmaps time 5.888938903808594e-05\n",
      "Time for processing 1 frame: 0.04656362533569336s\n"
     ]
    },
    {
     "name": "stderr",
     "output_type": "stream",
     "text": [
      "\r",
      "987it [03:34,  4.20it/s]"
     ]
    },
    {
     "name": "stdout",
     "output_type": "stream",
     "text": [
      "tensor([[0.9995]], device='cuda:0', grad_fn=<SigmoidBackward>)\n",
      "Handnet forward time: 0.007934093475341797\n",
      "Handsegnet forward time: 0.0011267662048339844\n",
      "s shape torch.Size([1, 2, 224, 224])\n",
      "for loop time 0.0037353038787841797\n",
      "hand mask sum: 4387.0\n",
      "Calculate single highest scoring object time: 0.030292272567749023\n",
      "Crop and resize time: 0.0009884834289550781\n",
      "Posenet forward time: 0.002015352249145508\n",
      "Posepriornet forward time: 0.0007407665252685547\n",
      "Viewpoint forward time: 0.0009520053863525391\n",
      "Get normalized 3d coordinates time: 0.0006358623504638672\n",
      "Flip left handed input time: 0.00014019012451171875\n",
      "ScaLe heatmaps time 3.123283386230469e-05\n",
      "Time for processing 1 frame: 0.04530787467956543s\n"
     ]
    },
    {
     "name": "stderr",
     "output_type": "stream",
     "text": [
      "\r",
      "988it [03:35,  4.23it/s]"
     ]
    },
    {
     "name": "stdout",
     "output_type": "stream",
     "text": [
      "tensor([[0.9999]], device='cuda:0', grad_fn=<SigmoidBackward>)\n",
      "Handnet forward time: 0.009142637252807617\n",
      "Handsegnet forward time: 0.0010182857513427734\n",
      "s shape torch.Size([1, 2, 224, 224])\n",
      "for loop time 0.003108978271484375\n",
      "hand mask sum: 4381.0\n",
      "Calculate single highest scoring object time: 0.03116917610168457\n",
      "Crop and resize time: 0.0009546279907226562\n",
      "Posenet forward time: 0.001973867416381836\n",
      "Posepriornet forward time: 0.0007300376892089844\n",
      "Viewpoint forward time: 0.0009260177612304688\n",
      "Get normalized 3d coordinates time: 0.0006403923034667969\n",
      "Flip left handed input time: 0.0001392364501953125\n",
      "ScaLe heatmaps time 0.00010538101196289062\n",
      "Time for processing 1 frame: 0.04743504524230957s\n"
     ]
    },
    {
     "name": "stderr",
     "output_type": "stream",
     "text": [
      "\r",
      "989it [03:35,  4.25it/s]"
     ]
    },
    {
     "name": "stdout",
     "output_type": "stream",
     "text": [
      "tensor([[1.0000]], device='cuda:0', grad_fn=<SigmoidBackward>)\n",
      "Handnet forward time: 0.009311437606811523\n",
      "Handsegnet forward time: 0.0012025833129882812\n",
      "s shape torch.Size([1, 2, 224, 224])\n",
      "for loop time 0.0030982494354248047\n",
      "hand mask sum: 4356.0\n",
      "Calculate single highest scoring object time: 0.031030654907226562\n",
      "Crop and resize time: 0.0009348392486572266\n",
      "Posenet forward time: 0.0019571781158447266\n",
      "Posepriornet forward time: 0.0007150173187255859\n",
      "Viewpoint forward time: 0.0009107589721679688\n",
      "Get normalized 3d coordinates time: 0.0006389617919921875\n",
      "Flip left handed input time: 0.00013494491577148438\n",
      "ScaLe heatmaps time 0.00017309188842773438\n",
      "Time for processing 1 frame: 0.04750943183898926s\n"
     ]
    },
    {
     "name": "stderr",
     "output_type": "stream",
     "text": [
      "\r",
      "990it [03:35,  4.26it/s]"
     ]
    },
    {
     "name": "stdout",
     "output_type": "stream",
     "text": [
      "tensor([[1.0000]], device='cuda:0', grad_fn=<SigmoidBackward>)\n",
      "Handnet forward time: 0.009381771087646484\n",
      "Handsegnet forward time: 0.0010819435119628906\n",
      "s shape torch.Size([1, 2, 224, 224])\n",
      "for loop time 0.003141641616821289\n",
      "hand mask sum: 4386.0\n",
      "Calculate single highest scoring object time: 0.031186580657958984\n",
      "Crop and resize time: 0.0009746551513671875\n",
      "Posenet forward time: 0.002031087875366211\n",
      "Posepriornet forward time: 0.0007505416870117188\n",
      "Viewpoint forward time: 0.0009276866912841797\n",
      "Get normalized 3d coordinates time: 0.0006103515625\n",
      "Flip left handed input time: 0.0001423358917236328\n",
      "ScaLe heatmaps time 0.00010704994201660156\n",
      "Time for processing 1 frame: 0.04766726493835449s\n"
     ]
    },
    {
     "name": "stderr",
     "output_type": "stream",
     "text": [
      "\r",
      "991it [03:35,  4.25it/s]"
     ]
    },
    {
     "name": "stdout",
     "output_type": "stream",
     "text": [
      "tensor([[1.0000]], device='cuda:0', grad_fn=<SigmoidBackward>)\n",
      "Handnet forward time: 0.007718324661254883\n",
      "Handsegnet forward time: 0.001035451889038086\n",
      "s shape torch.Size([1, 2, 224, 224])\n",
      "for loop time 0.0031654834747314453\n",
      "hand mask sum: 4428.0\n",
      "Calculate single highest scoring object time: 0.03046703338623047\n",
      "Crop and resize time: 0.0010013580322265625\n",
      "Posenet forward time: 0.001976490020751953\n",
      "Posepriornet forward time: 0.0007317066192626953\n",
      "Viewpoint forward time: 0.0010159015655517578\n",
      "Get normalized 3d coordinates time: 0.0006427764892578125\n",
      "Flip left handed input time: 0.00013756752014160156\n",
      "ScaLe heatmaps time 0.00010895729064941406\n",
      "Time for processing 1 frame: 0.045461177825927734s\n"
     ]
    },
    {
     "name": "stderr",
     "output_type": "stream",
     "text": [
      "\r",
      "992it [03:35,  4.26it/s]"
     ]
    },
    {
     "name": "stdout",
     "output_type": "stream",
     "text": [
      "tensor([[1.0000]], device='cuda:0', grad_fn=<SigmoidBackward>)\n",
      "Handnet forward time: 0.007723569869995117\n",
      "Handsegnet forward time: 0.0009911060333251953\n",
      "s shape torch.Size([1, 2, 224, 224])\n",
      "for loop time 0.0030896663665771484\n",
      "hand mask sum: 4348.0\n",
      "Calculate single highest scoring object time: 0.02997899055480957\n",
      "Crop and resize time: 0.0009319782257080078\n",
      "Posenet forward time: 0.0019164085388183594\n",
      "Posepriornet forward time: 0.0007050037384033203\n",
      "Viewpoint forward time: 0.0010609626770019531\n",
      "Get normalized 3d coordinates time: 0.0005953311920166016\n",
      "Flip left handed input time: 0.0001430511474609375\n",
      "ScaLe heatmaps time 4.506111145019531e-05\n",
      "Time for processing 1 frame: 0.044794321060180664s\n"
     ]
    },
    {
     "name": "stderr",
     "output_type": "stream",
     "text": [
      "\r",
      "993it [03:36,  4.25it/s]"
     ]
    },
    {
     "name": "stdout",
     "output_type": "stream",
     "text": [
      "tensor([[1.0000]], device='cuda:0', grad_fn=<SigmoidBackward>)\n",
      "Handnet forward time: 0.0077474117279052734\n",
      "Handsegnet forward time: 0.0013587474822998047\n",
      "s shape torch.Size([1, 2, 224, 224])\n",
      "for loop time 0.0030181407928466797\n",
      "hand mask sum: 4485.0\n",
      "Calculate single highest scoring object time: 0.03061056137084961\n",
      "Crop and resize time: 0.0009694099426269531\n",
      "Posenet forward time: 0.002019643783569336\n",
      "Posepriornet forward time: 0.0007424354553222656\n",
      "Viewpoint forward time: 0.0009503364562988281\n",
      "Get normalized 3d coordinates time: 0.0006136894226074219\n",
      "Flip left handed input time: 0.0001361370086669922\n",
      "ScaLe heatmaps time 0.0001087188720703125\n",
      "Time for processing 1 frame: 0.04575014114379883s\n"
     ]
    },
    {
     "name": "stderr",
     "output_type": "stream",
     "text": [
      "\r",
      "994it [03:36,  4.26it/s]"
     ]
    },
    {
     "name": "stdout",
     "output_type": "stream",
     "text": [
      "tensor([[1.0000]], device='cuda:0', grad_fn=<SigmoidBackward>)\n",
      "Handnet forward time: 0.007738590240478516\n",
      "Handsegnet forward time: 0.0011622905731201172\n",
      "s shape torch.Size([1, 2, 224, 224])\n",
      "for loop time 0.003133058547973633\n",
      "hand mask sum: 4496.0\n",
      "Calculate single highest scoring object time: 0.02992868423461914\n",
      "Crop and resize time: 0.0009810924530029297\n",
      "Posenet forward time: 0.0020809173583984375\n",
      "Posepriornet forward time: 0.0007517337799072266\n",
      "Viewpoint forward time: 0.0009694099426269531\n",
      "Get normalized 3d coordinates time: 0.0006072521209716797\n",
      "Flip left handed input time: 0.000110626220703125\n",
      "ScaLe heatmaps time 7.653236389160156e-05\n",
      "Time for processing 1 frame: 0.04487442970275879s\n"
     ]
    },
    {
     "name": "stderr",
     "output_type": "stream",
     "text": [
      "\r",
      "995it [03:36,  4.23it/s]"
     ]
    },
    {
     "name": "stdout",
     "output_type": "stream",
     "text": [
      "tensor([[1.0000]], device='cuda:0', grad_fn=<SigmoidBackward>)\n",
      "Handnet forward time: 0.008176326751708984\n",
      "Handsegnet forward time: 0.001081705093383789\n",
      "s shape torch.Size([1, 2, 224, 224])\n",
      "for loop time 0.003469705581665039\n",
      "hand mask sum: 4392.0\n",
      "Calculate single highest scoring object time: 0.03063225746154785\n",
      "Crop and resize time: 0.0009696483612060547\n",
      "Posenet forward time: 0.0020101070404052734\n",
      "Posepriornet forward time: 0.0007231235504150391\n",
      "Viewpoint forward time: 0.0009281635284423828\n",
      "Get normalized 3d coordinates time: 0.0006048679351806641\n",
      "Flip left handed input time: 0.0001316070556640625\n",
      "ScaLe heatmaps time 0.00010728836059570312\n",
      "Time for processing 1 frame: 0.04599428176879883s\n"
     ]
    },
    {
     "name": "stderr",
     "output_type": "stream",
     "text": [
      "\r",
      "996it [03:36,  4.24it/s]"
     ]
    },
    {
     "name": "stdout",
     "output_type": "stream",
     "text": [
      "tensor([[0.9999]], device='cuda:0', grad_fn=<SigmoidBackward>)\n",
      "Handnet forward time: 0.008846282958984375\n",
      "Handsegnet forward time: 0.0010673999786376953\n",
      "s shape torch.Size([1, 2, 224, 224])\n",
      "for loop time 0.0031194686889648438\n",
      "hand mask sum: 4164.0\n",
      "Calculate single highest scoring object time: 0.030855178833007812\n",
      "Crop and resize time: 0.0009744167327880859\n",
      "Posenet forward time: 0.0020034313201904297\n",
      "Posepriornet forward time: 0.0007424354553222656\n",
      "Viewpoint forward time: 0.0009441375732421875\n",
      "Get normalized 3d coordinates time: 0.0006136894226074219\n",
      "Flip left handed input time: 5.793571472167969e-05\n",
      "ScaLe heatmaps time 0.00014638900756835938\n",
      "Time for processing 1 frame: 0.046892404556274414s\n"
     ]
    },
    {
     "name": "stderr",
     "output_type": "stream",
     "text": [
      "\r",
      "997it [03:37,  4.22it/s]"
     ]
    },
    {
     "name": "stdout",
     "output_type": "stream",
     "text": [
      "tensor([[1.0000]], device='cuda:0', grad_fn=<SigmoidBackward>)\n",
      "Handnet forward time: 0.007924079895019531\n",
      "Handsegnet forward time: 0.0010676383972167969\n",
      "s shape torch.Size([1, 2, 224, 224])\n",
      "for loop time 0.0031418800354003906\n",
      "hand mask sum: 4123.0\n",
      "Calculate single highest scoring object time: 0.030996322631835938\n",
      "Crop and resize time: 0.0010056495666503906\n",
      "Posenet forward time: 0.0020198822021484375\n",
      "Posepriornet forward time: 0.0007457733154296875\n",
      "Viewpoint forward time: 0.0009489059448242188\n",
      "Get normalized 3d coordinates time: 0.0006248950958251953\n",
      "Flip left handed input time: 0.00013709068298339844\n",
      "ScaLe heatmaps time 0.00010943412780761719\n",
      "Time for processing 1 frame: 0.04610037803649902s\n"
     ]
    },
    {
     "name": "stderr",
     "output_type": "stream",
     "text": [
      "\r",
      "998it [03:37,  4.23it/s]"
     ]
    },
    {
     "name": "stdout",
     "output_type": "stream",
     "text": [
      "tensor([[0.9999]], device='cuda:0', grad_fn=<SigmoidBackward>)\n",
      "Handnet forward time: 0.007681608200073242\n",
      "Handsegnet forward time: 0.0013394355773925781\n",
      "s shape torch.Size([1, 2, 224, 224])\n",
      "for loop time 0.0030889511108398438\n",
      "hand mask sum: 4139.0\n",
      "Calculate single highest scoring object time: 0.03046131134033203\n",
      "Crop and resize time: 0.000965118408203125\n",
      "Posenet forward time: 0.002017974853515625\n",
      "Posepriornet forward time: 0.0007410049438476562\n",
      "Viewpoint forward time: 0.000949859619140625\n",
      "Get normalized 3d coordinates time: 0.0006177425384521484\n",
      "Flip left handed input time: 0.0001392364501953125\n",
      "ScaLe heatmaps time 0.00010824203491210938\n",
      "Time for processing 1 frame: 0.04549217224121094s\n"
     ]
    },
    {
     "name": "stderr",
     "output_type": "stream",
     "text": [
      "\r",
      "999it [03:37,  4.23it/s]"
     ]
    },
    {
     "name": "stdout",
     "output_type": "stream",
     "text": [
      "tensor([[0.9999]], device='cuda:0', grad_fn=<SigmoidBackward>)\n",
      "Handnet forward time: 0.007808208465576172\n",
      "Handsegnet forward time: 0.0012307167053222656\n",
      "s shape torch.Size([1, 2, 224, 224])\n",
      "for loop time 0.003168821334838867\n",
      "hand mask sum: 4005.0\n",
      "Calculate single highest scoring object time: 0.03011608123779297\n",
      "Crop and resize time: 0.0010013580322265625\n",
      "Posenet forward time: 0.0020122528076171875\n",
      "Posepriornet forward time: 0.0008184909820556641\n",
      "Viewpoint forward time: 0.0010190010070800781\n",
      "Get normalized 3d coordinates time: 0.000637054443359375\n",
      "Flip left handed input time: 0.00013685226440429688\n",
      "ScaLe heatmaps time 0.000110626220703125\n",
      "Time for processing 1 frame: 0.04534482955932617s\n"
     ]
    },
    {
     "name": "stderr",
     "output_type": "stream",
     "text": [
      "\r",
      "1000it [03:37,  4.14it/s]"
     ]
    },
    {
     "name": "stdout",
     "output_type": "stream",
     "text": [
      "tensor([[0.9997]], device='cuda:0', grad_fn=<SigmoidBackward>)\n",
      "Handnet forward time: 0.007757663726806641\n",
      "Handsegnet forward time: 0.0010666847229003906\n",
      "s shape torch.Size([1, 2, 224, 224])\n",
      "for loop time 0.0034372806549072266\n",
      "hand mask sum: 3982.0\n",
      "Calculate single highest scoring object time: 0.030545949935913086\n",
      "Crop and resize time: 0.000982522964477539\n",
      "Posenet forward time: 0.0019714832305908203\n",
      "Posepriornet forward time: 0.0007550716400146484\n",
      "Viewpoint forward time: 0.0009315013885498047\n",
      "Get normalized 3d coordinates time: 0.0006077289581298828\n",
      "Flip left handed input time: 0.00013399124145507812\n",
      "ScaLe heatmaps time 0.00010824203491210938\n",
      "Time for processing 1 frame: 0.04549050331115723s\n"
     ]
    },
    {
     "name": "stderr",
     "output_type": "stream",
     "text": [
      "\r",
      "1001it [03:38,  4.13it/s]"
     ]
    },
    {
     "name": "stdout",
     "output_type": "stream",
     "text": [
      "tensor([[1.0000]], device='cuda:0', grad_fn=<SigmoidBackward>)\n",
      "Handnet forward time: 0.008272171020507812\n",
      "Handsegnet forward time: 0.0010237693786621094\n",
      "s shape torch.Size([1, 2, 224, 224])\n",
      "for loop time 0.0031440258026123047\n",
      "hand mask sum: 3959.0\n",
      "Calculate single highest scoring object time: 0.03075432777404785\n",
      "Crop and resize time: 0.0010805130004882812\n",
      "Posenet forward time: 0.0020105838775634766\n",
      "Posepriornet forward time: 0.0007250308990478516\n",
      "Viewpoint forward time: 0.0009286403656005859\n",
      "Get normalized 3d coordinates time: 0.0008730888366699219\n",
      "Flip left handed input time: 0.0002231597900390625\n",
      "ScaLe heatmaps time 4.792213439941406e-05\n",
      "Time for processing 1 frame: 0.04674029350280762s\n"
     ]
    },
    {
     "name": "stderr",
     "output_type": "stream",
     "text": [
      "\r",
      "1002it [03:38,  4.09it/s]"
     ]
    },
    {
     "name": "stdout",
     "output_type": "stream",
     "text": [
      "tensor([[1.0000]], device='cuda:0', grad_fn=<SigmoidBackward>)\n",
      "Handnet forward time: 0.11805295944213867\n",
      "Handsegnet forward time: 0.5411152839660645\n",
      "s shape torch.Size([1, 2, 224, 224])\n",
      "for loop time 0.05636930465698242\n",
      "hand mask sum: 3918.0\n",
      "Calculate single highest scoring object time: 1.7731819152832031\n",
      "Crop and resize time: 0.43250584602355957\n"
     ]
    }
   ],
   "source": [
    "main()"
   ]
  },
  {
   "cell_type": "code",
   "execution_count": null,
   "metadata": {},
   "outputs": [],
   "source": []
  }
 ],
 "metadata": {
  "kernelspec": {
   "display_name": "Python 3",
   "language": "python",
   "name": "python3"
  },
  "language_info": {
   "codemirror_mode": {
    "name": "ipython",
    "version": 3
   },
   "file_extension": ".py",
   "mimetype": "text/x-python",
   "name": "python",
   "nbconvert_exporter": "python",
   "pygments_lexer": "ipython3",
   "version": "3.6.12"
  }
 },
 "nbformat": 4,
 "nbformat_minor": 4
}
