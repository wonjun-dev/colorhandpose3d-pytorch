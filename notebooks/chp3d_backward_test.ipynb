{
 "cells": [
  {
   "cell_type": "markdown",
   "metadata": {},
   "source": [
    "# ColorHandPose3D Backward Test\n",
    "\n",
    "Configure and test the training behavior for the CHP3D model."
   ]
  },
  {
   "cell_type": "code",
   "execution_count": null,
   "metadata": {},
   "outputs": [],
   "source": [
    "import os\n",
    "import sys\n",
    "import math\n",
    "\n",
    "import torch\n",
    "import torchvision\n",
    "import torch.nn.functional as F\n",
    "import pickle\n",
    "import tensorflow as tf\n",
    "import matplotlib.pyplot as plt\n",
    "from mpl_toolkits.mplot3d import Axes3D\n",
    "from PIL import Image\n",
    "\n",
    "model_path = os.path.abspath(os.path.join('..'))\n",
    "if model_path not in sys.path:\n",
    "    sys.path.append(model_path)\n",
    "    \n",
    "from colorhandpose3d.model.ColorHandPose3D import ColorHandPose3D\n",
    "from colorhandpose3d.model.HandSegNet import HandSegNet\n",
    "from colorhandpose3d.model.PoseNet import PoseNet\n",
    "from colorhandpose3d.model.PosePrior import PosePrior\n",
    "from colorhandpose3d.model.ViewPoint import ViewPoint\n",
    "from colorhandpose3d.utils.general import *\n",
    "from colorhandpose3d.utils.transforms import *"
   ]
  },
  {
   "cell_type": "markdown",
   "metadata": {},
   "source": [
    "# HandSegNet\n",
    "\n",
    "Start with the first module - hand segmentation network.\n",
    "\n",
    "## Load the weights"
   ]
  },
  {
   "cell_type": "code",
   "execution_count": null,
   "metadata": {},
   "outputs": [],
   "source": [
    "handsegnet = HandSegNet()\n",
    "\n",
    "file_name = '../weights/handsegnet-rhd.pickle'\n",
    "session = tf.Session()\n",
    "exclude_var_list = list()\n",
    "\n",
    "# read from pickle file\n",
    "with open(file_name, 'rb') as fi:\n",
    "    weight_dict = pickle.load(fi)\n",
    "    weight_dict = {k: v for k, v in weight_dict.items() if not any([x in k for x in exclude_var_list])}\n",
    "    \n",
    "keys = [k for k, v in weight_dict.items() if 'HandSegNet' in k]\n",
    "keys.sort()\n",
    "    \n",
    "for name, module in handsegnet.named_children():\n",
    "    key = 'HandSegNet/{0}/'.format(name)\n",
    "    if key + 'biases' in weight_dict:\n",
    "        b = torch.Tensor(weight_dict[key + 'biases'])\n",
    "        w = torch.Tensor(weight_dict[key + 'weights'])\n",
    "        w = w.permute((3, 2, 0, 1))\n",
    "        module.weight.data = w\n",
    "        module.bias.data = b\n",
    "        \n",
    "# torch.save(handsegnet.state_dict(), '/home/ajdillhoff/dev/projects/colorhandpose3d-pytorch/saved/handsegnet.pth.tar')"
   ]
  },
  {
   "cell_type": "markdown",
   "metadata": {},
   "source": [
    "## Load and run an example through the network"
   ]
  },
  {
   "cell_type": "code",
   "execution_count": null,
   "metadata": {},
   "outputs": [],
   "source": [
    "transform0 = torchvision.transforms.ToPILImage()\n",
    "transform1 = torchvision.transforms.ToTensor()\n",
    "transform2 = torchvision.transforms.Resize(256)\n",
    "img = Image.open('../data/RHD_v1-1/RHD_published_v2/training/color/00007.png')\n",
    "\n",
    "sample_original = transform1(img).unsqueeze(0)\n",
    "sample = sample_original - 0.5\n",
    "hand_scoremap = handsegnet.forward(sample)\n",
    "mask = hand_scoremap.argmax(1).to(torch.float)\n",
    "mask_img = transform0(mask.to(torch.float))"
   ]
  },
  {
   "cell_type": "code",
   "execution_count": null,
   "metadata": {},
   "outputs": [],
   "source": []
  },
  {
   "cell_type": "markdown",
   "metadata": {},
   "source": [
    "## Test the backward pass"
   ]
  },
  {
   "cell_type": "raw",
   "metadata": {},
   "source": [
    "loss_fn = torch.nn.MSELoss(reduction='elementwise_mean')\n",
    "loss = loss_fn(hand_scoremap, hand_scoremap)\n",
    "print('loss = {0}'.format(loss.item()))\n",
    "hand_scoremap.retain_grad()\n",
    "loss.retain_grad()\n",
    "loss.backward()\n",
    "print(output.grad.mean())"
   ]
  },
  {
   "cell_type": "markdown",
   "metadata": {},
   "source": [
    "# PoseNet\n",
    "\n",
    "Next, the data moves through PoseNet.\n",
    "\n",
    "## Load the weights"
   ]
  },
  {
   "cell_type": "code",
   "execution_count": null,
   "metadata": {},
   "outputs": [],
   "source": [
    "posenet = PoseNet()\n",
    "\n",
    "file_name = '../weights/posenet3d-rhd-stb-slr-finetuned.pickle'\n",
    "session = tf.Session()\n",
    "exclude_var_list = list()\n",
    "\n",
    "# read from pickle file\n",
    "with open(file_name, 'rb') as fi:\n",
    "    weight_dict = pickle.load(fi)\n",
    "    weight_dict = {k: v for k, v in weight_dict.items() if not any([x in k for x in exclude_var_list])}\n",
    "    \n",
    "keys = [k for k, v in weight_dict.items() if 'PoseNet2D' in k]\n",
    "keys.sort()\n",
    "    \n",
    "for name, module in posenet.named_children():\n",
    "    key = 'PoseNet2D/{0}/'.format(name)\n",
    "    if key + 'biases' in weight_dict:\n",
    "        b = torch.Tensor(weight_dict[key + 'biases'])\n",
    "        w = torch.Tensor(weight_dict[key + 'weights'])\n",
    "        w = w.permute((3, 2, 0, 1))\n",
    "        module.weight.data = w\n",
    "        module.bias.data = b\n",
    "        \n",
    "# torch.save(posenet.state_dict(), '/home/ajdillhoff/dev/projects/colorhandpose3d-pytorch/saved/posenet.pth.tar')"
   ]
  },
  {
   "cell_type": "code",
   "execution_count": null,
   "metadata": {},
   "outputs": [],
   "source": [
    "hand_mask = single_obj_scoremap(hand_scoremap)\n",
    "centers, _, crops = calc_center_bb(hand_mask)\n",
    "crops = crops.to(torch.float32)\n",
    "crops *= 1.25\n",
    "scale_crop = min(max(256. / crops, 0.25), 5.0)\n",
    "image_crop = crop_image_from_xy(sample, centers, 256, scale_crop)\n",
    "\n",
    "keypoints_scoremap = posenet(image_crop)"
   ]
  },
  {
   "cell_type": "markdown",
   "metadata": {},
   "source": [
    "## Test the backward pass"
   ]
  },
  {
   "cell_type": "raw",
   "metadata": {},
   "source": [
    "loss_fn = torch.nn.MSELoss(reduction='elementwise_mean')\n",
    "loss = loss_fn(keypoints_scoremap, 0.5 * keypoints_scoremap)\n",
    "print('loss = {0}'.format(loss.item()))\n",
    "keypoints_scoremap.retain_grad()\n",
    "loss.retain_grad()\n",
    "loss.backward()\n",
    "print(keypoints_scoremap.grad.mean())"
   ]
  },
  {
   "cell_type": "markdown",
   "metadata": {},
   "source": [
    "# PosePrior\n",
    "\n",
    "The third module lifts the 2D predictions to 3D.\n",
    "\n",
    "## Load the weights"
   ]
  },
  {
   "cell_type": "code",
   "execution_count": null,
   "metadata": {},
   "outputs": [],
   "source": [
    "poseprior = PosePrior()\n",
    "\n",
    "file_name = '../weights/posenet3d-rhd-stb-slr-finetuned.pickle'\n",
    "session = tf.Session()\n",
    "exclude_var_list = list()\n",
    "\n",
    "# read from pickle file\n",
    "with open(file_name, 'rb') as fi:\n",
    "    weight_dict = pickle.load(fi)\n",
    "    weight_dict = {k: v for k, v in weight_dict.items() if not any([x in k for x in exclude_var_list])}\n",
    "    \n",
    "keys = [k for k, v in weight_dict.items() if 'PosePrior' in k]\n",
    "keys.sort()\n",
    "\n",
    "for name, module in poseprior.named_children():\n",
    "    key = 'PosePrior/{0}/'.format(name)\n",
    "    if key + 'biases' in weight_dict:\n",
    "        b = torch.Tensor(weight_dict[key + 'biases'])\n",
    "        w = torch.Tensor(weight_dict[key + 'weights'])\n",
    "        if len(w.shape) == 4:\n",
    "            w = w.permute((3, 2, 0, 1))\n",
    "        else:\n",
    "            w = w.permute(1, 0)\n",
    "        module.weight.data = w\n",
    "        module.bias.data = b\n",
    "        \n",
    "# torch.save(poseprior.state_dict(), '/home/ajdillhoff/dev/projects/colorhandpose3d-pytorch/saved/poseprior.pth.tar')"
   ]
  },
  {
   "cell_type": "code",
   "execution_count": null,
   "metadata": {},
   "outputs": [],
   "source": [
    "coord_can = poseprior(keypoints_scoremap, torch.tensor([[0.0, 1.0]]))"
   ]
  },
  {
   "cell_type": "markdown",
   "metadata": {},
   "source": [
    "## Test the backward pass"
   ]
  },
  {
   "cell_type": "raw",
   "metadata": {},
   "source": [
    "loss_fn = torch.nn.MSELoss(reduction='elementwise_mean')\n",
    "loss = loss_fn(coord_can, 0.5 * coord_can)\n",
    "print('loss = {0}'.format(loss.item()))\n",
    "coord_can.retain_grad()\n",
    "loss.retain_grad()\n",
    "loss.backward()\n",
    "print(coord_can.grad.mean())"
   ]
  },
  {
   "cell_type": "markdown",
   "metadata": {},
   "source": [
    "# ViewPointNet\n",
    "\n",
    "The last network predicts the viewpoint.\n",
    "\n",
    "## Load the weights"
   ]
  },
  {
   "cell_type": "code",
   "execution_count": null,
   "metadata": {},
   "outputs": [],
   "source": [
    "viewpoint = ViewPoint()\n",
    "\n",
    "file_name = '../weights/posenet3d-rhd-stb-slr-finetuned.pickle'\n",
    "session = tf.Session()\n",
    "exclude_var_list = list()\n",
    "\n",
    "# read from pickle file\n",
    "with open(file_name, 'rb') as fi:\n",
    "    weight_dict = pickle.load(fi)\n",
    "    weight_dict = {k: v for k, v in weight_dict.items() if not any([x in k for x in exclude_var_list])}\n",
    "    \n",
    "keys = [k for k, v in weight_dict.items() if 'ViewpointNet' in k]\n",
    "keys.sort()\n",
    "\n",
    "for name, module in viewpoint.named_children():\n",
    "    key = 'ViewpointNet/{0}/'.format(name)\n",
    "    if key + 'biases' in weight_dict:\n",
    "        b = torch.Tensor(weight_dict[key + 'biases'])\n",
    "        w = torch.Tensor(weight_dict[key + 'weights'])\n",
    "        \n",
    "        # tf conv2d is [kH x kW x inputC x outputC]\n",
    "        # pytorch conv2d is [outputC x inputC x kH x KW]\n",
    "        # tf fully connected is [inputC x outputC]\n",
    "        # pytorch fully connected is [outputC x inputC]\n",
    "        if len(w.shape) == 4:\n",
    "            w = w.permute((3, 2, 0, 1))\n",
    "        else:\n",
    "            w = w.t()\n",
    "        module.weight.data = w\n",
    "        module.bias.data = b\n",
    "        \n",
    "# torch.save(viewpoint.state_dict(), '/home/ajdillhoff/dev/projects/colorhandpose3d-pytorch/saved/viewpoint.pth.tar')"
   ]
  },
  {
   "cell_type": "code",
   "execution_count": null,
   "metadata": {},
   "outputs": [],
   "source": [
    "rot_params = viewpoint(keypoints_scoremap, torch.tensor([[0.0, 1.0]]))\n",
    "rot_matrix = get_rotation_matrix(rot_params)\n",
    "cond_right = torch.eq(torch.argmax(torch.tensor([[0.0, 1.0]]), 1), 1)\n",
    "cond_right_all = torch.reshape(cond_right, [-1, 1, 1]).repeat(1, 21, 3)\n",
    "coords_xyz_can_flip = flip_right_hand(coord_can, cond_right_all)\n",
    "coords_xyz_rel_normed = coords_xyz_can_flip @ rot_matrix"
   ]
  },
  {
   "cell_type": "markdown",
   "metadata": {},
   "source": [
    "## Test the backward pass"
   ]
  },
  {
   "cell_type": "code",
   "execution_count": null,
   "metadata": {},
   "outputs": [],
   "source": [
    "loss_fn = torch.nn.MSELoss(reduction='elementwise_mean')\n",
    "loss = loss_fn(coords_xyz_rel_normed, 0.5 * coords_xyz_rel_normed)\n",
    "print('loss = {0}'.format(loss.item()))\n",
    "coords_xyz_rel_normed.retain_grad()\n",
    "loss.retain_grad()\n",
    "loss.backward()\n",
    "print(coords_xyz_rel_normed.grad.mean())"
   ]
  },
  {
   "cell_type": "code",
   "execution_count": null,
   "metadata": {},
   "outputs": [],
   "source": []
  }
 ],
 "metadata": {
  "kernelspec": {
   "display_name": "Python 3",
   "language": "python",
   "name": "python3"
  },
  "language_info": {
   "codemirror_mode": {
    "name": "ipython",
    "version": 3
   },
   "file_extension": ".py",
   "mimetype": "text/x-python",
   "name": "python",
   "nbconvert_exporter": "python",
   "pygments_lexer": "ipython3",
   "version": "3.6.12"
  }
 },
 "nbformat": 4,
 "nbformat_minor": 2
}
