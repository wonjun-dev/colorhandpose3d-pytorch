{
 "cells": [
  {
   "cell_type": "code",
   "execution_count": 1,
   "metadata": {},
   "outputs": [],
   "source": [
    "import os\n",
    "import cv2"
   ]
  },
  {
   "cell_type": "code",
   "execution_count": 2,
   "metadata": {},
   "outputs": [
    {
     "name": "stdout",
     "output_type": "stream",
     "text": [
      "320.0 240.0 2808,320.0 240.0 3648,"
     ]
    }
   ],
   "source": [
    "# Initialize OpenCV object\n",
    "positive_video_name = 'positive.avi'\n",
    "negative_video_name = 'negative.avi'\n",
    "videos = [negative_video_name, positive_video_name]\n",
    "\n",
    "# Define image transforms\n",
    "import torch\n",
    "import numpy as np\n",
    "from torchvision import transforms as T\n",
    "import pandas as pd\n",
    "from pandas import DataFrame \n",
    "\n",
    "transform0 = T.ToPILImage()\n",
    "transform1 = T.ToTensor()        \n",
    "\n",
    "means = []\n",
    "stds = []\n",
    "\n",
    "\n",
    "n = 0\n",
    "data = {'name': [], 'target': []}\n",
    "for i, v in enumerate(videos):\n",
    "    # Read videos\n",
    "    cap = cv2.VideoCapture(os.path.join('../data/videos/', v))\n",
    "    frame_width = cap.get(cv2.CAP_PROP_FRAME_WIDTH)\n",
    "    frame_height = cap.get(cv2.CAP_PROP_FRAME_HEIGHT)\n",
    "    frame_count = int(cap.get(cv2.CAP_PROP_FRAME_COUNT))\n",
    "    print(frame_width, frame_height, frame_count, end=\",\")\n",
    "    \n",
    "    while cap.isOpened():\n",
    "        ret, frame = cap.read()\n",
    "        \n",
    "        if ret:\n",
    "            frame = cv2.cvtColor(frame, cv2.COLOR_BGR2RGB) # np.array: (h240, w320, C3) \n",
    "            frame = transform1(frame) # to tensor (c3, h240, w320)\n",
    "#             means.append(np.array([frame[0,:,:].mean().item(), frame[1,:,:].mean().item(), frame[2,:,:].mean().item()]))\n",
    "#             stds.append(np.array([frame[0,:,:].std().item(), frame[1,:,:].std().item(), frame[2,:,:].std().item()]))\n",
    "            \n",
    "            frame = transform0(frame) # to PIL\n",
    "            frame.save('../data/handnet/imgs/{0:04d}.png'.format(n))\n",
    "            data['name'].append('{0:04d}.png'.format(n))\n",
    "            data['target'].append(0 if i == 0 else 1)\n",
    "            \n",
    "            n += 1\n",
    "            \n",
    "        else:\n",
    "            break\n",
    "        \n",
    "        cv2.destroyAllWindows()\n",
    "        \n",
    "        \n",
    "# mean = np.array(means).mean(axis=0)\n",
    "# std = np.array(stds).mean(axis=0)\n",
    "\n",
    "# print('mean: ', mean)\n",
    "# print('std: ', std)\n",
    "\n",
    "data_df = DataFrame(data)\n",
    "data_df.to_csv('../data/handnet/data_df.csv', sep=',')\n",
    "    "
   ]
  },
  {
   "cell_type": "code",
   "execution_count": null,
   "metadata": {},
   "outputs": [],
   "source": [
    "# negative: 2808 frames\n",
    "# mean:  [0.63031351 0.61356543 0.61106094]\n",
    "# std:  [0.2586194  0.265984   0.26036792]\n",
    "\n",
    "# positive: 3647\n",
    "# mean:  [0.64892411 0.62235533 0.61335696]\n",
    "# std:  [0.25001224 0.25962306 0.25678512]"
   ]
  },
  {
   "cell_type": "code",
   "execution_count": null,
   "metadata": {},
   "outputs": [],
   "source": [
    "# merge mean & std of positive and negiative\n",
    "n_mean=  np.array([0.63031351, 0.61356543, 0.61106094])\n",
    "n_std=  np.array([0.2586194,  0.265984,  0.26036792])\n",
    "n_mean = n_mean * 2808\n",
    "n_std = n_std * 2808\n",
    "\n",
    "p_mean=  np.array([0.64892411, 0.62235533, 0.61335696])\n",
    "p_std= np.array([0.25001224, 0.25962306, 0.25678512])\n",
    "p_mean = p_mean * 3647\n",
    "p_std =  p_std * 3647\n",
    "\n",
    "mean = (n_mean + p_mean)/(2808+3647)\n",
    "std = (n_std + p_std)/(2808+3647)"
   ]
  },
  {
   "cell_type": "code",
   "execution_count": null,
   "metadata": {},
   "outputs": [],
   "source": [
    "print(mean, std)"
   ]
  },
  {
   "cell_type": "code",
   "execution_count": null,
   "metadata": {},
   "outputs": [],
   "source": [
    "# [0.64082828 0.61853162 0.61235816] [0.25375645 0.26239014 0.25834368]"
   ]
  }
 ],
 "metadata": {
  "kernelspec": {
   "display_name": "Python 3",
   "language": "python",
   "name": "python3"
  },
  "language_info": {
   "codemirror_mode": {
    "name": "ipython",
    "version": 3
   },
   "file_extension": ".py",
   "mimetype": "text/x-python",
   "name": "python",
   "nbconvert_exporter": "python",
   "pygments_lexer": "ipython3",
   "version": "3.6.12"
  }
 },
 "nbformat": 4,
 "nbformat_minor": 4
}
